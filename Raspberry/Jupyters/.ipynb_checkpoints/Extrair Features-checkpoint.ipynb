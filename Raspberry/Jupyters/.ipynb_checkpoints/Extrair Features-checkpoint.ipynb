{
 "cells": [
  {
   "cell_type": "markdown",
   "metadata": {},
   "source": [
    "# Extrair Features"
   ]
  },
  {
   "cell_type": "markdown",
   "metadata": {},
   "source": [
    "Esse arquivo usará o arquivo ExtrairFeatures da Raspberry para fazer a extração das features de datasets gravados com o ReSpeaker. A diferença é que usar a classe que existia antes não é a mesma coisa que usar exatamente o que vai ser usado pelo sistema em tempo real.\n",
    "\n",
    "Basta colocar a pasta onde estão os WAVs. Eles têm que estar nomeados como \"classe_000_0.wav\" em que o último número simboliza a pasta de um KFold."
   ]
  },
  {
   "cell_type": "code",
   "execution_count": 1,
   "metadata": {},
   "outputs": [
    {
     "name": "stderr",
     "output_type": "stream",
     "text": [
      "/home/pi/.pyenv/versions/3.6.1/envs/venv1/lib/python3.6/site-packages/librosa/util/decorators.py:9: NumbaDeprecationWarning: An import was requested from a module that has moved location.\n",
      "Import of 'jit' requested from: 'numba.decorators', please update to use 'numba.core.decorators' or pin to Numba version 0.48.0. This alias will not be present in Numba version 0.50.0.\n",
      "  from numba.decorators import jit as optional_jit\n"
     ]
    }
   ],
   "source": [
    "import sys\n",
    "import numpy as np\n",
    "import wave\n",
    "import time\n",
    "import os\n",
    "from IPython.display import Audio\n",
    "\n",
    "sys.path.append(\"/home/pi/Programming/IC2019/Raspberry/Python/\")\n",
    "\n",
    "from extracaoFeatures import extrairFeaturesUnicoFrame as ExtrairFeatures"
   ]
  },
  {
   "cell_type": "markdown",
   "metadata": {},
   "source": [
    "### Parâmetros Iniciais"
   ]
  },
  {
   "cell_type": "code",
   "execution_count": 2,
   "metadata": {},
   "outputs": [],
   "source": [
    "pastaOrigemWAVs = \"/home/pi/Datasets/ESC_3_ReSpeaker_1595612342.0004687/audio/\"\n",
    "tempoJanela     = 0.500\n",
    "freqAmostragem  = 16000"
   ]
  },
  {
   "cell_type": "markdown",
   "metadata": {},
   "source": [
    "### Definição da função"
   ]
  },
  {
   "cell_type": "code",
   "execution_count": 3,
   "metadata": {},
   "outputs": [],
   "source": [
    "def processar(metadeInicialJanelaAtual, metadeFinalJanelaAtual, nomeArquivo):\n",
    "    \n",
    "    # COPIANDO OS ARRAYS NA MEMORIA PRA GARANTIR QUE AS THREADS NAO VAO ZUAR O BAGULHO\n",
    "    metadeInicial = np.copy(metadeInicialJanelaAtual)\n",
    "    metadeFinal   = np.copy(metadeFinalJanelaAtual)\n",
    "    \n",
    "    # CONVERTO A JANELA PRA FLOAT \n",
    "    # (O FROM BUFFER TEM QUE SER EM INT 16 POR CAUSA DA CODIFICACAO DO AUDIO)\n",
    "    # MAS DEPOIS A GNT JOGA EM FLOAT POR CAUSA DO LIBROSA\n",
    "    metadeInicialFloat = np.frombuffer(metadeInicial, dtype=np.int16).astype(\"float\")\n",
    "    metadeFinalFloat   = np.frombuffer(metadeFinal, dtype=np.int16).astype(\"float\")\n",
    "    \n",
    "    # JUNTO AS METADES\n",
    "    janelaCompleta = np.concatenate((metadeInicialFloat, metadeFinalFloat))\n",
    "    \n",
    "    # EXTRACAO DE FEATURES\n",
    "    features = ExtrairFeatures(janelaCompleta, freqAmostragem)\n",
    "    \n",
    "    # CRIANDO A LINHA PRA COLOCARNO CSV\n",
    "    linhaAtual = nomeArquivo+\",\"\n",
    "    for valor in features:\n",
    "        linhaAtual += str(valor) + \",\"\n",
    "    linhaAtual += nomeArquivo.split(\"_\")[0]+\"\\n\"\n",
    "    \n",
    "    objFile.write(linhaAtual)"
   ]
  },
  {
   "cell_type": "markdown",
   "metadata": {},
   "source": [
    "### Começando o processamento"
   ]
  },
  {
   "cell_type": "code",
   "execution_count": 4,
   "metadata": {
    "scrolled": true
   },
   "outputs": [
    {
     "name": "stdout",
     "output_type": "stream",
     "text": [
      "Extraindo para o arquivo sneezing_000_1.wav\n"
     ]
    },
    {
     "name": "stderr",
     "output_type": "stream",
     "text": [
      "/home/pi/.pyenv/versions/3.6.1/envs/venv1/lib/python3.6/site-packages/librosa/core/pitch.py:146: UserWarning: Trying to estimate tuning from empty frequency set.\n",
      "  warnings.warn('Trying to estimate tuning from empty frequency set.')\n"
     ]
    },
    {
     "name": "stdout",
     "output_type": "stream",
     "text": [
      "Extraindo para o arquivo chainsaw_000_1.wav\n",
      "Extraindo para o arquivo cryingbaby_000_1.wav\n"
     ]
    }
   ],
   "source": [
    "# ABRINDO UM CSV PRA GUARDAR AS INFORMACOES\n",
    "objFile = open(pastaOrigemWAVs+str(time.time())+\".csv\", \"w\")\n",
    "\n",
    "# ESCREVENDO UM CABECALHO\n",
    "cabecalho  = \"nomeArquivo,\"\n",
    "cabecalho += \"0, 1, 2, 3, 4, 5, 6, 7, 8, 9, 10, 11, 12, 13, 14, 15, 16, 17, 18, 19, 20, 21, 22, 23, 24, 25, 26, 27, 28, 29, 30, 31, 32, 33, 34, 35, 36, 37, 38, 39, 40, 41, 42, 43, 44, 45, 46, 47, 48, 49, 50, 51, 52, 53, 54, 55, 56, 57,\"\n",
    "cabecalho += \"classificacaoCorreta\\n\"\n",
    "objFile.write(cabecalho)\n",
    "\n",
    "# PARA CADA WAV NA PASTA\n",
    "for arquivoAtual in os.listdir(pastaOrigemWAVs):\n",
    "    \n",
    "    # PULANDO O QUE NAO FOR WAV\n",
    "    if arquivoAtual[-4:] != \".wav\":\n",
    "        continue\n",
    "        \n",
    "    print(\"Extraindo para o arquivo\", arquivoAtual)\n",
    "\n",
    "    # CRIANDO UM OBJETO WAV DO AUDIO ATUAL QUE QUERO LER\n",
    "    objWF = wave.open(pastaOrigemWAVs+arquivoAtual, 'rb')\n",
    "\n",
    "    # VERIFICANDO QUANTAS JANELAS EU VOU GRAVAR PRO AUDIO ATUAL\n",
    "    qtdAmostrasTotal          = objWF.getnframes()\n",
    "    qtdAmostrasPorJanela      = int(freqAmostragem * tempoJanela)\n",
    "    qtdJanelasPrincipaisTotal = int(qtdAmostrasTotal / qtdAmostrasPorJanela)\n",
    "\n",
    "    # CRIANDO O ARRAY DE JANELAS PARCIAIS PRA FAZER SOBREPOSICAO\n",
    "    janelasParciais = []\n",
    "\n",
    "    # COLOCANDO AS METADES DA PRIMEIRA JANELA DENTRO\n",
    "    janelasParciais.append(objWF.readframes(int(qtdAmostrasPorJanela/2)))\n",
    "    janelasParciais.append(objWF.readframes(int(qtdAmostrasPorJanela/2)))\n",
    "\n",
    "    # MANDANDO PROCESSAR A PRIMEIRA JANELA\n",
    "    processar(janelasParciais[0], janelasParciais[1], arquivoAtual)\n",
    "\n",
    "    # LENDO AS PROXIMAS METADES, COMECA NO 2 PQ 0 E 1 JA FOI\n",
    "    for i in range(2, qtdJanelasPrincipaisTotal*2+2):\n",
    "\n",
    "        # LEIO A NOVA METADE\n",
    "        framesAtuais = objWF.readframes(int(qtdAmostrasPorJanela/2))\n",
    "\n",
    "        # SE A ITERACAO ATUAL FOR PAR, EU SALVO A NOVA METADE EM janelasParciais[0]\n",
    "        # E MANDO JUNTAR janelasParciais[1] COM janelasParciais[0] PRA FORMAR A JANELA COMPLETA\n",
    "        if i % 2 == 0:\n",
    "            janelasParciais[0] = framesAtuais\n",
    "            processar(janelasParciais[1], janelasParciais[0], arquivoAtual)\n",
    "\n",
    "        # SE A ITERACAO ATUAL FOR IMPAR, EU SALVO A NOVA METADE EM janelasParciais[1]\n",
    "        # E MANDO JUNTAR janelasParciais[0] COM janelasParciais[1] PRA FORMAR A JANELA COMPLETA\n",
    "        else:\n",
    "            janelasParciais[1] = framesAtuais\n",
    "            processar(janelasParciais[0], janelasParciais[1], arquivoAtual)\n",
    "\n",
    "# FECHANDO O CSV\n",
    "objFile.close()"
   ]
  },
  {
   "cell_type": "code",
   "execution_count": null,
   "metadata": {},
   "outputs": [],
   "source": []
  },
  {
   "cell_type": "code",
   "execution_count": null,
   "metadata": {},
   "outputs": [],
   "source": []
  },
  {
   "cell_type": "code",
   "execution_count": null,
   "metadata": {},
   "outputs": [],
   "source": []
  }
 ],
 "metadata": {
  "kernelspec": {
   "display_name": "Python 3",
   "language": "python",
   "name": "python3"
  },
  "language_info": {
   "codemirror_mode": {
    "name": "ipython",
    "version": 3
   },
   "file_extension": ".py",
   "mimetype": "text/x-python",
   "name": "python",
   "nbconvert_exporter": "python",
   "pygments_lexer": "ipython3",
   "version": "3.6.1"
  }
 },
 "nbformat": 4,
 "nbformat_minor": 4
}
