{
 "cells": [
  {
   "cell_type": "markdown",
   "metadata": {},
   "source": [
    "# Threads para processar em tempo real"
   ]
  },
  {
   "cell_type": "markdown",
   "metadata": {},
   "source": [
    "A ideia aqui é rodar o sistema em tempo real antes de passar pra um .py msm."
   ]
  },
  {
   "cell_type": "code",
   "execution_count": null,
   "metadata": {},
   "outputs": [],
   "source": [
    "import sys\n",
    "import pyaudio\n",
    "import numpy as np\n",
    "import warnings\n",
    "import threading\n",
    "from time import time, sleep\n",
    "\n",
    "sys.path.append(\"/home/pi/Programming/IC2019/Raspberry/Python/\")\n",
    "\n",
    "from delayAndSum import delayAndSum as DaS\n",
    "from extracaoFeatures import extrairFeaturesUnicoFrame as ExtrairFeatures\n",
    "from iniciarNormalizadorEClassificador import main as IniciarObjetos\n",
    "\n",
    "warnings.filterwarnings(\"ignore\")"
   ]
  },
  {
   "cell_type": "markdown",
   "metadata": {},
   "source": [
    "### Verificando o dispositivo que vamos usar pra gravar"
   ]
  },
  {
   "cell_type": "code",
   "execution_count": null,
   "metadata": {},
   "outputs": [],
   "source": [
    "def listarDispositivos():\n",
    "    p = pyaudio.PyAudio()\n",
    "    info = p.get_host_api_info_by_index(0)\n",
    "    numdevices = info.get('deviceCount')\n",
    "\n",
    "    for i in range(0, numdevices):\n",
    "        if (p.get_device_info_by_host_api_device_index(0, i).get('maxInputChannels')) > 0:\n",
    "            print(\"Input Device id \", i, \" - \", p.get_device_info_by_host_api_device_index(0, i).get('name'))"
   ]
  },
  {
   "cell_type": "code",
   "execution_count": null,
   "metadata": {},
   "outputs": [],
   "source": [
    "listarDispositivos()"
   ]
  },
  {
   "cell_type": "markdown",
   "metadata": {},
   "source": [
    "### Definição de funções"
   ]
  },
  {
   "cell_type": "markdown",
   "metadata": {},
   "source": [
    "##### Função para realizar todo o processamento em uma janela"
   ]
  },
  {
   "cell_type": "markdown",
   "metadata": {},
   "source": [
    "A função receberá uma janela gravada, aplicará o **Delay and Sum**, extrairá as **features** do sinal beamformado, **normalizará** o vetor de features obtido, e irá **classificar** o dado gerado."
   ]
  },
  {
   "cell_type": "code",
   "execution_count": null,
   "metadata": {},
   "outputs": [],
   "source": [
    "# def processarJanela(arraySinais, idJanela, freqAmostragem, objNormalizador, objClassificador, verbose=True):\n",
    "    \n",
    "#     # VERBOSE\n",
    "#     if verbose == True:\n",
    "#         # INICIANDO A MEDICAO DE TEMPO\n",
    "#         tempoInicio = time()\n",
    "#         stringID = \"(id:\" + str(idJanela) + \")\"\n",
    "#         print(stringID, \"Iniciando o processamento\")      \n",
    "    \n",
    "#     # DELAY AND SUM\n",
    "#     sinalDaS = DaS(arraySinais)\n",
    "\n",
    "#     # EXTRACAO DE FEATURES\n",
    "#     features = ExtrairFeatures(sinalDaS, freqAmostragem)\n",
    "\n",
    "#     # NORMALIZANDO AS FEATURES\n",
    "#     features = objNormalizador.transform([features])[0]\n",
    "\n",
    "#     # CLASSIFICACAO\n",
    "#     predicao = objClassificador.predict([features])[0]\n",
    "    \n",
    "#     # VERBOSE\n",
    "#     if verbose == True:\n",
    "#         # FINALIZANDO A MEDICAO DE TEMPO\n",
    "#         tempoFim = time()        \n",
    "#         print(stringID, \"Classificado como\", predicao)\n",
    "#         print(stringID, \"Processamento finalizado em\", tempoFim - tempoInicio, \"s\")"
   ]
  },
  {
   "cell_type": "markdown",
   "metadata": {},
   "source": [
    "##### Função para gravar uma janela com o dispositivo"
   ]
  },
  {
   "cell_type": "markdown",
   "metadata": {},
   "source": [
    "A função abaixo deverá gravar uma janela e depois enviá-la para a função anterior. A função anterior deve ser rodada como uma thread."
   ]
  },
  {
   "cell_type": "code",
   "execution_count": null,
   "metadata": {},
   "outputs": [],
   "source": [
    "# def gravarJanela(idJanela, objNormalizador, objClassificador, idDispositivoGravacao, tempoJanela=0.2, freqAmostragem=16000, profundidadeBytes=2, qtdCanais=4, verbose=True):\n",
    "\n",
    "#     assert profundidadeBytes == 2, \"Profundidade de bytes diferente de 2! Você deve alterar o sistema manualmente.\"\n",
    "    \n",
    "#     # DEFININDO O TAMANHO DA JANELA EM AMOSTRAS\n",
    "#     tamanhoJanela = int(tempoJanela * freqAmostragem)\n",
    "    \n",
    "#     # INSTANCIANDO UM OBJ PY AUDIO E MANDANDO OS PARAMETROS INICIAIS\n",
    "#     objPyAudio = pyaudio.PyAudio()\n",
    "#     stream = objPyAudio.open(\n",
    "#         input_device_index = idDispositivoGravacao,\n",
    "#         rate               = freqAmostragem,\n",
    "#         format             = objPyAudio.get_format_from_width(profundidadeBytes),\n",
    "#         channels           = qtdCanais,\n",
    "#         input              = True    \n",
    "#     )\n",
    "    \n",
    "#     # VERBOSE \n",
    "#     if verbose == True:\n",
    "#         stringID = \"(id:\" + str(idJanela) + \")\"\n",
    "#         print(stringID, \"Iniciando gravação. Timestamp:\", time())\n",
    "\n",
    "#     # GRAVANDO A JANELA\n",
    "#     janelaBinaria = stream.read(tamanhoJanela)\n",
    "    \n",
    "#     # VERBOSE \n",
    "#     if verbose == True:\n",
    "#         print(stringID, \"Gravação finalizada. Timestamp:\", time())\n",
    "\n",
    "#     # MATANDO OS OBJETOS PRA LIMPAR MEMORIA\n",
    "#     stream.stop_stream()\n",
    "#     stream.close()\n",
    "#     objPyAudio.terminate()\n",
    "        \n",
    "#     # CONVERTO A JANELA PRA INT 16        \n",
    "#     janelaInt16 = np.fromstring(janelaBinaria, dtype=np.int16)\n",
    "    \n",
    "#     # COMO TEM OS 4 MICS NA JANELA, VOU DAR UM RESHAPE PRA CADA MIC FICAR EM UMA LINHA\n",
    "#     janelaInt16 = janelaInt16.reshape((tamanhoJanela, qtdCanais)).T\n",
    "    \n",
    "#     # GARANINDO QUE A DIMENSIONALIDADE ESTA CORRETA\n",
    "#     assert janelaInt16.shape[0] == qtdCanais and janelaInt16.shape[1] == tamanhoJanela, \"Erro na dimensionalidade da janela gravada!\"\n",
    "    \n",
    "#     # MANDANDO A JANELA GRAVADA APRA O PROCESSAMENTO\n",
    "#     processarJanela(janelaInt16, idJanela, freqAmostragem, objNormalizador, objClassificador, verbose)\n",
    "#     #objThread = threading.Thread(target=processarJanela, args=(janelaInt16, idJanela, freqAmostragem, objNormalizador, objClassificador, verbose))\n",
    "#     #objThread.start()"
   ]
  },
  {
   "cell_type": "code",
   "execution_count": null,
   "metadata": {},
   "outputs": [],
   "source": [
    "def main(idJanela, idDispositivoGravacao, tempoJanela, freqAmostragem, profundidadeBytes, qtdCanais):\n",
    "    \n",
    "    # DEFININDO O TAMANHO DA JANELA EM AMOSTRAS\n",
    "    tamanhoJanela = int(tempoJanela * freqAmostragem)\n",
    "    \n",
    "    # VERBOSE\n",
    "    stringID = \"(id:\" + str(idJanela) + \")\"\n",
    "\n",
    "    # INSTANCIANDO UM OBJ PY AUDIO E MANDANDO OS PARAMETROS INICIAIS\n",
    "    objPyAudio = pyaudio.PyAudio()\n",
    "    \n",
    "    # TENTANDO ABRIR O STREAM ATE IR\n",
    "    stream = None\n",
    "    while stream == None:\n",
    "        print(stringID, \"Tentando abrir uma stream\")\n",
    "        try:\n",
    "            stream = objPyAudio.open(\n",
    "                input_device_index = idDispositivoGravacao,\n",
    "                rate               = freqAmostragem,\n",
    "                format             = objPyAudio.get_format_from_width(profundidadeBytes),\n",
    "                channels           = qtdCanais,\n",
    "                input              = True\n",
    "            )\n",
    "        except:\n",
    "            pass\n",
    "\n",
    "    # VERBOSE\n",
    "    print(stringID, \"Iniciando gravação. Timestamp:\", time())\n",
    "\n",
    "    # GRAVANDO A JANELA\n",
    "    janelaBinaria = stream.read(tamanhoJanela)\n",
    "\n",
    "    # MATANDO OS OBJETOS PRA LIMPAR MEMORIA\n",
    "    stream.stop_stream()\n",
    "    stream.close()\n",
    "    objPyAudio.terminate()\n",
    "    del stream\n",
    "    del objPyAudio\n",
    "    \n",
    "    # INICIANDO A MEDICAO DE TEMPO DE PROCESSAMENTO\n",
    "    tempoInicio = time()\n",
    "    print(stringID, \"Iniciando o processamento\")\n",
    "\n",
    "    # CONVERTO A JANELA PRA INT 16\n",
    "    janelaInt16 = np.fromstring(janelaBinaria, dtype=np.int16)\n",
    "\n",
    "    # COMO TEM OS 4 MICS NA JANELA, VOU DAR UM RESHAPE PRA CADA MIC FICAR EM UMA LINHA\n",
    "    janelaInt16 = janelaInt16.reshape((tamanhoJanela, qtdCanais)).T    \n",
    "\n",
    "    # DELAY AND SUM\n",
    "    sinalDaS = DaS(janelaInt16)\n",
    "\n",
    "    # EXTRACAO DE FEATURES\n",
    "    features = ExtrairFeatures(sinalDaS, freqAmostragem)\n",
    "\n",
    "    # NORMALIZANDO AS FEATURES\n",
    "    features = objNormalizador.transform([features])[0]\n",
    "\n",
    "    # CLASSIFICACAO\n",
    "    predicao = objClassificador.predict([features])[0]\n",
    "\n",
    "    # FINALIZANDO A MEDICAO DE TEMPO\n",
    "    tempoFim = time()\n",
    "    print(stringID, \"Classificado como\", predicao)\n",
    "    print(stringID, \"Processamento finalizado em\", tempoFim - tempoInicio, \"s\")\n",
    "    if tempoFim - tempoInicio >= tempoJanela:\n",
    "        print(stringID, \"O PROCESSAMENTO LEVOU MAIS TEMPO QUE O TAMANHO DA JANELA!\")"
   ]
  },
  {
   "cell_type": "markdown",
   "metadata": {},
   "source": [
    "### Parâmetros iniciais"
   ]
  },
  {
   "cell_type": "code",
   "execution_count": null,
   "metadata": {},
   "outputs": [],
   "source": [
    "idDispositivoGravacao = 0\n",
    "tempoJanela           = 0.200\n",
    "freqAmostragem        = 16000\n",
    "profundidadeBytes     = 2\n",
    "qtdCanais             = 4\n",
    "caminhoCSVDataset     = \"/home/pi/Datasets/SESA_v2_16kHz_16bits_200ms_58features_desescalonado_remocaoSilencio.csv\""
   ]
  },
  {
   "cell_type": "markdown",
   "metadata": {},
   "source": [
    "### Rodando"
   ]
  },
  {
   "cell_type": "code",
   "execution_count": null,
   "metadata": {},
   "outputs": [],
   "source": [
    "objClassificador, objNormalizador = IniciarObjetos(caminhoCSVDataset, classificador=None, verbose=True)"
   ]
  },
  {
   "cell_type": "code",
   "execution_count": null,
   "metadata": {
    "scrolled": false
   },
   "outputs": [],
   "source": [
    "i = 1\n",
    "tempoJanelaTempoReal = 0.2 #tempoJanela\n",
    "\n",
    "while i < 100:\n",
    "    \n",
    "    # INICIANDO JANELA PRINCIPAL\n",
    "    objThread = threading.Thread(target=main, args=(i, idDispositivoGravacao, tempoJanelaTempoReal, freqAmostragem, profundidadeBytes, qtdCanais))\n",
    "    objThread.start()\n",
    "    \n",
    "    # DELAY PARA COMECAR A JANELA DE SOBREPOSICAO\n",
    "    i += 1\n",
    "    sleep(tempoJanelaTempoReal)"
   ]
  },
  {
   "cell_type": "code",
   "execution_count": null,
   "metadata": {},
   "outputs": [],
   "source": []
  },
  {
   "cell_type": "code",
   "execution_count": null,
   "metadata": {},
   "outputs": [],
   "source": []
  },
  {
   "cell_type": "code",
   "execution_count": null,
   "metadata": {},
   "outputs": [],
   "source": []
  }
 ],
 "metadata": {
  "kernelspec": {
   "display_name": "Python 3",
   "language": "python",
   "name": "python3"
  },
  "language_info": {
   "codemirror_mode": {
    "name": "ipython",
    "version": 3
   },
   "file_extension": ".py",
   "mimetype": "text/x-python",
   "name": "python",
   "nbconvert_exporter": "python",
   "pygments_lexer": "ipython3",
   "version": "3.6.1"
  }
 },
 "nbformat": 4,
 "nbformat_minor": 4
}
