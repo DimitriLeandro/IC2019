{
 "cells": [
  {
   "cell_type": "markdown",
   "metadata": {},
   "source": [
    "# Threads para processar em tempo real"
   ]
  },
  {
   "cell_type": "markdown",
   "metadata": {},
   "source": [
    "A ideia aqui é rodar o sistema em tempo real antes de passar pra um .py msm."
   ]
  },
  {
   "cell_type": "code",
   "execution_count": 1,
   "metadata": {},
   "outputs": [],
   "source": [
    "import sys\n",
    "import pyaudio\n",
    "import numpy as np\n",
    "import warnings\n",
    "import threading\n",
    "from time import time, sleep\n",
    "\n",
    "sys.path.append(\"/home/dimi/Programming/IC2019/Raspberry/Python/\")\n",
    "\n",
    "from delayAndSum import delayAndSum as DaS\n",
    "from extracaoFeatures import extrairFeaturesUnicoFrame as ExtrairFeatures\n",
    "from iniciarNormalizadorEClassificador import main as IniciarObjetos\n",
    "\n",
    "warnings.filterwarnings(\"ignore\")"
   ]
  },
  {
   "cell_type": "markdown",
   "metadata": {},
   "source": [
    "### Verificando o dispositivo que vamos usar pra gravar"
   ]
  },
  {
   "cell_type": "code",
   "execution_count": 2,
   "metadata": {},
   "outputs": [],
   "source": [
    "def listarDispositivos():\n",
    "    p = pyaudio.PyAudio()\n",
    "    info = p.get_host_api_info_by_index(0)\n",
    "    numdevices = info.get('deviceCount')\n",
    "\n",
    "    for i in range(0, numdevices):\n",
    "        if (p.get_device_info_by_host_api_device_index(0, i).get('maxInputChannels')) > 0:\n",
    "            print(\"Input Device id \", i, \" - \", p.get_device_info_by_host_api_device_index(0, i).get('name'))"
   ]
  },
  {
   "cell_type": "code",
   "execution_count": 3,
   "metadata": {},
   "outputs": [
    {
     "name": "stdout",
     "output_type": "stream",
     "text": [
      "Input Device id  3  -  HDA Intel PCH: ALC282 Analog (hw:1,0)\n",
      "Input Device id  5  -  pulse\n",
      "Input Device id  6  -  default\n"
     ]
    }
   ],
   "source": [
    "listarDispositivos()"
   ]
  },
  {
   "cell_type": "markdown",
   "metadata": {},
   "source": [
    "### Definição de funções"
   ]
  },
  {
   "cell_type": "markdown",
   "metadata": {},
   "source": [
    "##### Função para realizar todo o processamento em uma janela"
   ]
  },
  {
   "cell_type": "markdown",
   "metadata": {},
   "source": [
    "A função receberá uma janela gravada, aplicará o **Delay and Sum**, extrairá as **features** do sinal beamformado, **normalizará** o vetor de features obtido, e irá **classificar** o dado gerado."
   ]
  },
  {
   "cell_type": "code",
   "execution_count": 4,
   "metadata": {},
   "outputs": [],
   "source": [
    "def processarJanela(arraySinais, idJanela, freqAmostragem, objNormalizador, objClassificador, verbose=True):\n",
    "    \n",
    "    # VERBOSE\n",
    "    if verbose == True:\n",
    "        # INICIANDO A MEDICAO DE TEMPO\n",
    "        tempoInicio = time()\n",
    "        stringID = \"(id:\" + str(idJanela) + \")\"\n",
    "        print(stringID, \"Iniciando o processamento\")      \n",
    "    \n",
    "    # DELAY AND SUM\n",
    "    sinalDaS = DaS(arraySinais)\n",
    "\n",
    "    # EXTRACAO DE FEATURES\n",
    "    features, __ = ExtrairFeatures(sinalDaS, freqAmostragem)\n",
    "\n",
    "    # NORMALIZANDO AS FEATURES\n",
    "    features = objNormalizador.transform([features])[0]\n",
    "\n",
    "    # CLASSIFICACAO\n",
    "    predicao = objClassificador.predict([features])[0]\n",
    "    \n",
    "    # VERBOSE\n",
    "    if verbose == True:\n",
    "        # FINALIZANDO A MEDICAO DE TEMPO\n",
    "        tempoFim = time()        \n",
    "        print(stringID, \"Classificado como\", predicao)\n",
    "        print(stringID, \"Processamento finalizado em\", tempoFim - tempoInicio, \"s\")"
   ]
  },
  {
   "cell_type": "markdown",
   "metadata": {},
   "source": [
    "##### Função para gravar uma janela com o dispositivo"
   ]
  },
  {
   "cell_type": "markdown",
   "metadata": {},
   "source": [
    "A função abaixo deverá gravar uma janela e depois enviá-la para a função anterior. A função anterior deve ser rodada como uma thread."
   ]
  },
  {
   "cell_type": "code",
   "execution_count": 9,
   "metadata": {},
   "outputs": [],
   "source": [
    "def gravarJanela(idJanela, objNormalizador, objClassificador, idDispositivoGravacao, tempoJanela=0.2, freqAmostragem=16000, profundidadeBytes=2, qtdCanais=4, verbose=True):\n",
    "\n",
    "    assert profundidadeBytes == 2, \"Profundidade de bytes diferente de 2! Você deve alterar o sistema manualmente.\"\n",
    "    \n",
    "    # DEFININDO O TAMANHO DA JANELA EM AMOSTRAS\n",
    "    tamanhoJanela = int(tempoJanela * freqAmostragem)\n",
    "    \n",
    "    # INSTANCIANDO UM OBJ PY AUDIO E MANDANDO OS PARAMETROS INICIAIS\n",
    "    objPyAudio = pyaudio.PyAudio()\n",
    "    stream = objPyAudio.open(\n",
    "        input_device_index = idDispositivoGravacao,\n",
    "        rate               = freqAmostragem,\n",
    "        format             = objPyAudio.get_format_from_width(profundidadeBytes),\n",
    "        channels           = qtdCanais,\n",
    "        input              = True    \n",
    "    )\n",
    "    \n",
    "    # VERBOSE \n",
    "    if verbose == True:\n",
    "        stringID = \"(id:\" + str(idJanela) + \")\"\n",
    "        print(stringID, \"Iniciando gravação. Timestamp:\", time())\n",
    "\n",
    "    # GRAVANDO A JANELA\n",
    "    janelaBinaria = stream.read(tamanhoJanela)\n",
    "    \n",
    "    # VERBOSE \n",
    "    if verbose == True:\n",
    "        print(stringID, \"Gravação finalizada. Timestamp:\", time())\n",
    "\n",
    "    # MATANDO OS OBJETOS PRA LIMPAR MEMORIA\n",
    "    stream.stop_stream()\n",
    "    stream.close()\n",
    "    objPyAudio.terminate()\n",
    "        \n",
    "    # CONVERTO A JANELA PRA INT 16        \n",
    "    janelaInt16 = np.fromstring(janelaBinaria, dtype=np.int16)\n",
    "    \n",
    "    # COMO TEM OS 4 MICS NA JANELA, VOU DAR UM RESHAPE PRA CADA MIC FICAR EM UMA LINHA\n",
    "    janelaInt16 = janelaInt16.reshape((tamanhoJanela, qtdCanais)).T\n",
    "    \n",
    "    # GARANINDO QUE A DIMENSIONALIDADE ESTA CORRETA\n",
    "    assert janelaInt16.shape[0] == qtdCanais and janelaInt16.shape[1] == tamanhoJanela, \"Erro na dimensionalidade da janela gravada!\"\n",
    "    \n",
    "    # MANDANDO A JANELA GRAVADA APRA O PROCESSAMENTO\n",
    "    objThread = threading.Thread(target=processarJanela, args=(janelaInt16, idJanela, freqAmostragem, objNormalizador, objClassificador, verbose))\n",
    "    objThread.start()"
   ]
  },
  {
   "cell_type": "markdown",
   "metadata": {},
   "source": [
    "### Parâmetros iniciais"
   ]
  },
  {
   "cell_type": "code",
   "execution_count": 6,
   "metadata": {},
   "outputs": [],
   "source": [
    "idDispositivoGravacao = 6\n",
    "tempoJanela           = 0.250\n",
    "freqAmostragem        = 16000\n",
    "profundidadeBytes     = 2\n",
    "qtdCanais             = 4\n",
    "caminhoCSVDataset     = \"/home/dimi/Downloads/datasets/SESA_v2_\"+str(int(freqAmostragem/1000))+\"kHz_\"+str(int(profundidadeBytes*8))+\"bits/SESA_v2_\"+str(int(freqAmostragem/1000))+\"kHz_\"+str(int(profundidadeBytes*8))+\"bits_\"+str(int(tempoJanela*1000))+\"ms_58features_desescalonado_remocaoSilencio.csv\""
   ]
  },
  {
   "cell_type": "markdown",
   "metadata": {},
   "source": [
    "### Rodando"
   ]
  },
  {
   "cell_type": "code",
   "execution_count": 7,
   "metadata": {},
   "outputs": [
    {
     "name": "stdout",
     "output_type": "stream",
     "text": [
      "Carregando o CSV do dataset\n",
      "CSV carregado\n",
      "Separando o que é data e target\n",
      "Iniciando objeto normalizador\n",
      "Treinando objeto normalizador\n",
      "Normalizando os dados de treinamento\n",
      "Instanciando objeto classificador\n",
      "Treinando o classificador\n",
      "objClassificador e objNormalizador prontos: operação finalizada.\n"
     ]
    }
   ],
   "source": [
    "objClassificador, objNormalizador = IniciarObjetos(caminhoCSVDataset, classificador=None, verbose=True)"
   ]
  },
  {
   "cell_type": "code",
   "execution_count": 21,
   "metadata": {
    "scrolled": true
   },
   "outputs": [
    {
     "name": "stdout",
     "output_type": "stream",
     "text": [
      "(id:1) Iniciando gravação. Timestamp: 1594841862.8561976\n",
      "(id:2) Iniciando gravação. Timestamp: 1594841862.982742\n",
      "(id:3) Iniciando gravação. Timestamp: 1594841863.1074574\n",
      "(id:1) Gravação finalizada. Timestamp: 1594841863.168746\n",
      "(id:1) Iniciando o processamento\n",
      "(id:1) Classificado como siren\n",
      "(id:1) Processamento finalizado em 0.03289508819580078 s\n",
      "(id:4) Iniciando gravação. Timestamp: 1594841863.2322772\n",
      "(id:2) Gravação finalizada. Timestamp: 1594841863.2949812\n",
      "(id:2) Iniciando o processamento\n",
      "(id:2) Classificado como siren\n",
      "(id:2) Processamento finalizado em 0.03989005088806152 s\n",
      "(id:5)(id:3) Iniciando gravação. Timestamp: 1594841863.3598154\n",
      " Gravação finalizada. Timestamp: 1594841863.3600209\n",
      "(id:3) Iniciando o processamento\n",
      "(id:3) Classificado como siren\n",
      "(id:3) Processamento finalizado em 0.04546236991882324 s\n",
      "(id:4) Gravação finalizada. Timestamp: 1594841863.4803414\n",
      "(id:6) Iniciando gravação. Timestamp: 1594841863.4839833\n",
      "(id:4) Iniciando o processamento\n",
      "(id:4) Classificado como siren\n",
      "(id:4) Processamento finalizado em 0.04574465751647949 s\n",
      "(id:7) Iniciando gravação. Timestamp: 1594841863.610423\n",
      "(id:5) Gravação finalizada. Timestamp: 1594841863.6759813\n",
      "(id:5) Iniciando o processamento\n",
      "(id:5) Classificado como siren\n",
      "(id:5) Processamento finalizado em 0.03125572204589844 s\n",
      "(id:8) Iniciando gravação. Timestamp: 1594841863.7394757\n",
      "(id:6) Gravação finalizada. Timestamp: 1594841863.796437\n",
      "(id:6) Iniciando o processamento\n",
      "(id:6) Classificado como siren\n",
      "(id:6) Processamento finalizado em 0.03388094902038574 s\n",
      "(id:9) Iniciando gravação. Timestamp: 1594841863.8620992\n",
      "(id:7) Gravação finalizada. Timestamp: 1594841863.9236012\n",
      "(id:7) Iniciando o processamento\n",
      "(id:7) Classificado como siren\n",
      "(id:7) Processamento finalizado em 0.03431129455566406 s\n",
      "(id:10) Iniciando gravação. Timestamp: 1594841863.9911678\n",
      "(id:8) Gravação finalizada. Timestamp: 1594841864.0155418\n",
      "(id:8) Iniciando o processamento\n",
      "(id:8) Classificado como siren\n",
      "(id:8) Processamento finalizado em 0.03600668907165527 s\n",
      "(id:9) Gravação finalizada. Timestamp: 1594841864.107203\n",
      "(id:11)(id:9) Iniciando gravação. Timestamp: 1594841864.1144633\n",
      " Iniciando o processamento\n",
      "(id:9) Classificado como siren\n",
      "(id:9) Processamento finalizado em 0.058834075927734375 s\n",
      "(id:10) Gravação finalizada. Timestamp: 1594841864.2313797\n",
      "(id:10) Iniciando o processamento\n",
      "(id:12) Iniciando gravação. Timestamp: 1594841864.2526085\n",
      "(id:10) Classificado como siren\n",
      "(id:10) Processamento finalizado em 0.05593705177307129 s\n",
      "(id:13) Iniciando gravação. Timestamp: 1594841864.37652\n",
      "(id:11) Gravação finalizada. Timestamp: 1594841864.4099493\n",
      "(id:11) Iniciando o processamento\n",
      "(id:11) Classificado como siren\n",
      "(id:11) Processamento finalizado em 0.0430905818939209 s\n",
      "(id:14) Iniciando gravação. Timestamp: 1594841864.5023136\n",
      "(id:12) Gravação finalizada. Timestamp: 1594841864.5297062\n",
      "(id:12) Iniciando o processamento\n",
      "(id:12) Classificado como siren\n",
      "(id:12) Processamento finalizado em 0.030154943466186523 s\n",
      "(id:15) Iniciando gravação. Timestamp: 1594841864.6235642\n",
      "(id:13) Gravação finalizada. Timestamp: 1594841864.6905065\n",
      "(id:13) Iniciando o processamento\n",
      "(id:13) Classificado como siren\n",
      "(id:13) Processamento finalizado em 0.05106925964355469 s\n",
      "(id:16) Iniciando gravação. Timestamp: 1594841864.747834\n",
      "(id:14) Gravação finalizada. Timestamp: 1594841864.813778\n",
      "(id:14) Iniciando o processamento\n",
      "(id:14) Classificado como siren\n",
      "(id:14) Processamento finalizado em 0.029947996139526367 s\n",
      "(id:17) Iniciando gravação. Timestamp: 1594841864.8755891\n",
      "(id:15) Gravação finalizada. Timestamp: 1594841864.9322264\n",
      "(id:15) Iniciando o processamento\n",
      "(id:15) Classificado como siren\n",
      "(id:15) Processamento finalizado em 0.04208970069885254 s\n",
      "(id:18) Iniciando gravação. Timestamp: 1594841864.9989264\n",
      "(id:16) Gravação finalizada. Timestamp: 1594841865.0596232\n",
      "(id:16) Iniciando o processamento\n",
      "(id:16) Classificado como siren\n",
      "(id:16) Processamento finalizado em 0.03091597557067871 s\n",
      "(id:17) Gravação finalizada. Timestamp: 1594841865.1241822\n",
      "(id:19) Iniciando gravação. Timestamp: 1594841865.1267023\n",
      "(id:17) Iniciando o processamento\n",
      "(id:17) Classificado como siren\n",
      "(id:17) Processamento finalizado em 0.044042110443115234 s\n",
      "(id:20) Iniciando gravação. Timestamp: 1594841865.2558434\n",
      "(id:18) Gravação finalizada. Timestamp: 1594841865.2662387\n",
      "(id:18) Iniciando o processamento\n",
      "(id:18) Classificado como siren\n",
      "(id:18) Processamento finalizado em 0.04512953758239746 s\n",
      "(id:19) Gravação finalizada. Timestamp: 1594841865.3745818\n",
      "(id:19) Iniciando o processamento\n",
      "(id:19) Classificado como siren\n",
      "(id:19) Processamento finalizado em 0.05866646766662598 s\n",
      "(id:20) Gravação finalizada. Timestamp: 1594841865.5015714\n",
      "(id:20) Iniciando o processamento\n",
      "(id:20) Classificado como siren\n",
      "(id:20) Processamento finalizado em 0.03751063346862793 s\n"
     ]
    }
   ],
   "source": [
    "i = 1\n",
    "tempoJanelaTempoReal = tempoJanela\n",
    "\n",
    "while i < 20:\n",
    "    \n",
    "    # INICIANDO JANELA PRINCIPAL\n",
    "    objThread = threading.Thread(target=gravarJanela, args=(i, objNormalizador, objClassificador, idDispositivoGravacao, tempoJanelaTempoReal, freqAmostragem, profundidadeBytes, qtdCanais))\n",
    "    objThread.start()\n",
    "    \n",
    "    # DELAY PARA COMECAR A JANELA DE SOBREPOSICAO\n",
    "    i += 1\n",
    "    sleep(tempoJanelaTempoReal/2)\n",
    "    \n",
    "    # INICIANDO JANELA DE SOBREPOSICAO\n",
    "    objThread = threading.Thread(target=gravarJanela, args=(i, objNormalizador, objClassificador, idDispositivoGravacao, tempoJanelaTempoReal, freqAmostragem, profundidadeBytes, qtdCanais))\n",
    "    objThread.start()\n",
    "    \n",
    "    # DELAY PARA COMECAR A JANELA PRICIPAL NA PROXIMA ITERACAO\n",
    "    i += 1\n",
    "    sleep(tempoJanelaTempoReal/2)"
   ]
  },
  {
   "cell_type": "code",
   "execution_count": null,
   "metadata": {},
   "outputs": [],
   "source": []
  },
  {
   "cell_type": "code",
   "execution_count": null,
   "metadata": {},
   "outputs": [],
   "source": []
  },
  {
   "cell_type": "code",
   "execution_count": null,
   "metadata": {},
   "outputs": [],
   "source": []
  }
 ],
 "metadata": {
  "kernelspec": {
   "display_name": "Python 3",
   "language": "python",
   "name": "python3"
  },
  "language_info": {
   "codemirror_mode": {
    "name": "ipython",
    "version": 3
   },
   "file_extension": ".py",
   "mimetype": "text/x-python",
   "name": "python",
   "nbconvert_exporter": "python",
   "pygments_lexer": "ipython3",
   "version": "3.5.2"
  }
 },
 "nbformat": 4,
 "nbformat_minor": 4
}
