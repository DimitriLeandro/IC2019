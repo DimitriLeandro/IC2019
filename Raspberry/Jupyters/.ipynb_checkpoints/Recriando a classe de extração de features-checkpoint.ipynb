{
 "cells": [
  {
   "cell_type": "markdown",
   "metadata": {},
   "source": [
    "# Recriando a classe de extração de features"
   ]
  },
  {
   "cell_type": "markdown",
   "metadata": {},
   "source": [
    "A classe de extração criada anteriormente entrava em uma pasta cheia de WAVs, janelava cada um e depois extraia as features de cada janela. \n",
    "\n",
    "Agora, para rodar na Raspberry, eu preciso que a classe receba uma única janela, pois a leitura em tempo real vai gravar um sinal do tamanho de uma única janela, entãoa classe não precisa fazer janelamento. Além disso, eu não quero perder tempo gravando arquivos WAV e abrindo de novo, então a classe tem que receber o sinal como um array, e não o caminho para um arquivo WAV.\n",
    "\n",
    "Para realizar os testes, já janelei algumas amostras do SESA com o Jupyter \"Janelando amostras do SESA.ipynb\".\n",
    "\n",
    "Além disso, como já foi analisado, só precisamos extrair 58 features, as outras não tem importância e não vãoa crescentar nada em acurácia.\n",
    "\n",
    "Essa classe que eu vou criar agr de \"extração de features de uma única janela\" não vai poder normalizar as features, essa etapa tem que ser externa, pois o \"fit\" do StandarScaler vai ser feito em outro lugar."
   ]
  },
  {
   "cell_type": "code",
   "execution_count": 1,
   "metadata": {
    "scrolled": true
   },
   "outputs": [
    {
     "name": "stderr",
     "output_type": "stream",
     "text": [
      "/home/pi/.pyenv/versions/3.6.1/envs/venv1/lib/python3.6/site-packages/librosa/util/decorators.py:9: NumbaDeprecationWarning: An import was requested from a module that has moved location.\n",
      "Import of 'jit' requested from: 'numba.decorators', please update to use 'numba.core.decorators' or pin to Numba version 0.48.0. This alias will not be present in Numba version 0.50.0.\n",
      "  from numba.decorators import jit as optional_jit\n"
     ]
    }
   ],
   "source": [
    "import librosa\n",
    "import soundfile\n",
    "import numpy as np\n",
    "from IPython.display import Audio"
   ]
  },
  {
   "cell_type": "markdown",
   "metadata": {},
   "source": [
    "## Definição de funções"
   ]
  },
  {
   "cell_type": "code",
   "execution_count": 2,
   "metadata": {},
   "outputs": [],
   "source": [
    "def extrairRMS(sinal, frameLength, overlapLength):\n",
    "    return librosa.feature.rms(y=sinal, frame_length=frameLength, hop_length=overlapLength)"
   ]
  },
  {
   "cell_type": "code",
   "execution_count": 3,
   "metadata": {},
   "outputs": [],
   "source": [
    "def extrairCentroideEspectral(sinal, freqAmostragem, frameLength, overlapLength):\n",
    "    return librosa.feature.spectral_centroid(y=sinal, sr=freqAmostragem, n_fft=frameLength, hop_length=overlapLength)"
   ]
  },
  {
   "cell_type": "code",
   "execution_count": 4,
   "metadata": {},
   "outputs": [],
   "source": [
    "def extrairLarguraBanda(sinal, freqAmostragem, frameLength, overlapLength):\n",
    "    return librosa.feature.spectral_bandwidth(y=sinal, sr= freqAmostragem, n_fft=frameLength, hop_length=overlapLength)"
   ]
  },
  {
   "cell_type": "code",
   "execution_count": 5,
   "metadata": {},
   "outputs": [],
   "source": [
    "def extrairPlanicidade(sinal, frameLength, overlapLength):\n",
    "    return librosa.feature.spectral_flatness(y=sinal, n_fft=frameLength, hop_length=overlapLength)"
   ]
  },
  {
   "cell_type": "code",
   "execution_count": 6,
   "metadata": {},
   "outputs": [],
   "source": [
    "def extrairRolloff(sinal, freqAmostragem, frameLength, overlapLength):\n",
    "    return librosa.feature.spectral_rolloff(y=sinal, sr= freqAmostragem, n_fft=frameLength, hop_length=overlapLength)"
   ]
  },
  {
   "cell_type": "code",
   "execution_count": 7,
   "metadata": {},
   "outputs": [],
   "source": [
    "def extrairZCR(sinal, frameLength, overlapLength):\n",
    "    return librosa.feature.zero_crossing_rate(y=sinal, frame_length=frameLength, hop_length=overlapLength)"
   ]
  },
  {
   "cell_type": "code",
   "execution_count": 8,
   "metadata": {},
   "outputs": [],
   "source": [
    "def extrairMatrizMFCC(sinal, freqAmostragem):\n",
    "    return librosa.feature.mfcc(y=sinal, sr=freqAmostragem)"
   ]
  },
  {
   "cell_type": "code",
   "execution_count": 9,
   "metadata": {},
   "outputs": [],
   "source": [
    "def extrairMFCCs(matrizMFCC):\n",
    "    \n",
    "    arrayMFCCs = []\n",
    "\n",
    "    for linha in matrizMFCC:\n",
    "        arrayMFCCs.append(np.mean(linha))\n",
    "\n",
    "    return arrayMFCCs"
   ]
  },
  {
   "cell_type": "code",
   "execution_count": 10,
   "metadata": {},
   "outputs": [],
   "source": [
    "def extrairMelEspectrograma(sinal, freqAmostragem):    \n",
    "    matrizMelEspectrograma = librosa.feature.melspectrogram(y=sinal, sr=freqAmostragem, n_mels=20)\n",
    "\n",
    "    arrayMelEspectrograma = []\n",
    "\n",
    "    for linha in matrizMelEspectrograma:\n",
    "        arrayMelEspectrograma.append(np.mean(linha))\n",
    "\n",
    "    return arrayMelEspectrograma"
   ]
  },
  {
   "cell_type": "code",
   "execution_count": 11,
   "metadata": {},
   "outputs": [],
   "source": [
    "def extrairCromagramas(sinal, freqAmostragem, frameLength, overlapLength):\n",
    "\n",
    "    matrizCromagramas = librosa.feature.chroma_stft(y=sinal, sr=freqAmostragem, n_fft=frameLength, hop_length=overlapLength)\n",
    "\n",
    "    arrayCromagramas = []\n",
    "\n",
    "    for linha in matrizCromagramas:\n",
    "        arrayCromagramas.append(np.mean(linha))\n",
    "\n",
    "    return arrayCromagramas"
   ]
  },
  {
   "cell_type": "code",
   "execution_count": 12,
   "metadata": {},
   "outputs": [],
   "source": [
    "def extrairFeaturesUnicoFrame(sinal, freqAmostragem):\n",
    "    \n",
    "    # PARA IMPEDIR QUE O LIBROSA CONTINUE FAZENDO O JANELAMENTO DO ÁUDIO MESMO QUE frameLength \n",
    "    # SEJA DO TAMANHO DO ÁUDIO, O PARÂMETRO DE OVERLAP DEVE SER MAIOR QUE frameLength\n",
    "    frameLength   = len(sinal)\n",
    "    overlapLength = frameLength + 1\n",
    "\n",
    "    # CRIANDO O ARRAY DE FEATURES DO FRAME EM QUESTAO\n",
    "    arrayFeaturesFrame = []\n",
    "\n",
    "    #PRIMEIRO, VOU EXTRAIR AS FEATURES UNITARIAS\n",
    "    arrayFeaturesFrame.append(float(extrairRMS(sinal, frameLength, overlapLength)))\n",
    "    arrayFeaturesFrame.append(float(extrairCentroideEspectral(sinal, freqAmostragem, frameLength, overlapLength)))\n",
    "    arrayFeaturesFrame.append(float(extrairLarguraBanda(sinal, freqAmostragem, frameLength, overlapLength)))\n",
    "    arrayFeaturesFrame.append(float(extrairPlanicidade(sinal, frameLength, overlapLength)))\n",
    "    arrayFeaturesFrame.append(float(extrairRolloff(sinal, freqAmostragem, frameLength, overlapLength)))\n",
    "    arrayFeaturesFrame.append(float(extrairZCR(sinal, frameLength, overlapLength)))\n",
    "    arrayFeaturesFrame.extend(extrairMFCCs(extrairMatrizMFCC(sinal, freqAmostragem)))\n",
    "    arrayFeaturesFrame.extend(extrairMelEspectrograma(sinal, freqAmostragem))\n",
    "    arrayFeaturesFrame.extend(extrairCromagramas(sinal, freqAmostragem, frameLength, overlapLength))\n",
    "    \n",
    "    return arrayFeaturesFrame"
   ]
  },
  {
   "cell_type": "markdown",
   "metadata": {},
   "source": [
    "## Testando as funções"
   ]
  },
  {
   "cell_type": "markdown",
   "metadata": {},
   "source": [
    "Mesmo que elas já tenham sido testadas pois são uma cópia das funções criadas na classe antiga, vou testar tudo de novo."
   ]
  },
  {
   "cell_type": "markdown",
   "metadata": {},
   "source": [
    "#### Abrindo o áudio"
   ]
  },
  {
   "cell_type": "code",
   "execution_count": 13,
   "metadata": {},
   "outputs": [],
   "source": [
    "caminhoJanelaTeste = \"/home/pi/GravacoesReSpeaker/exemplos_amostras_SESA_v2_16kHz_16bits/exemplos_janelados_200ms/casual_000_janela_0.wav\""
   ]
  },
  {
   "cell_type": "code",
   "execution_count": 14,
   "metadata": {},
   "outputs": [
    {
     "name": "stdout",
     "output_type": "stream",
     "text": [
      "Frequência de amostragem: 16000\n",
      "Canais: 1\n",
      "Profundidade de bits: PCM_16 \n",
      "\n"
     ]
    }
   ],
   "source": [
    "arquivoSF = soundfile.SoundFile(caminhoJanelaTeste)\n",
    "print(\"Frequência de amostragem:\", arquivoSF.samplerate)\n",
    "print(\"Canais:\", arquivoSF.channels)\n",
    "print(\"Profundidade de bits:\", arquivoSF.subtype, \"\\n\")"
   ]
  },
  {
   "cell_type": "code",
   "execution_count": 15,
   "metadata": {
    "scrolled": true
   },
   "outputs": [
    {
     "data": {
      "text/html": [
       "\n",
       "                <audio  controls=\"controls\" >\n",
       "                    <source src=\"data:audio/wav;base64,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\" type=\"audio/wav\" />\n",
       "                    Your browser does not support the audio element.\n",
       "                </audio>\n",
       "              "
      ],
      "text/plain": [
       "<IPython.lib.display.Audio object>"
      ]
     },
     "execution_count": 15,
     "metadata": {},
     "output_type": "execute_result"
    }
   ],
   "source": [
    "janelaTeste, freqAmostragem = librosa.load(caminhoJanelaTeste, sr=None, mono=True)\n",
    "Audio(data=janelaTeste, rate=freqAmostragem)"
   ]
  },
  {
   "cell_type": "markdown",
   "metadata": {},
   "source": [
    "#### Ajustando os parâmetros iniciais"
   ]
  },
  {
   "cell_type": "markdown",
   "metadata": {},
   "source": [
    "Para impedir que o librosa faça janelamento, o overlap deve ser maior que o tamanho da janela."
   ]
  },
  {
   "cell_type": "code",
   "execution_count": 16,
   "metadata": {},
   "outputs": [
    {
     "name": "stdout",
     "output_type": "stream",
     "text": [
      "3200\n",
      "3201\n"
     ]
    }
   ],
   "source": [
    "frameLength   = len(janelaTeste)\n",
    "overlapLength = frameLength + 1\n",
    "print(frameLength)\n",
    "print(overlapLength)"
   ]
  },
  {
   "cell_type": "markdown",
   "metadata": {},
   "source": [
    "#### RMS"
   ]
  },
  {
   "cell_type": "code",
   "execution_count": 17,
   "metadata": {},
   "outputs": [
    {
     "data": {
      "text/plain": [
       "0.032420892268419266"
      ]
     },
     "execution_count": 17,
     "metadata": {},
     "output_type": "execute_result"
    }
   ],
   "source": [
    "float(extrairRMS(janelaTeste, frameLength, overlapLength))"
   ]
  },
  {
   "cell_type": "markdown",
   "metadata": {},
   "source": [
    "#### Centroide Espectral"
   ]
  },
  {
   "cell_type": "code",
   "execution_count": 18,
   "metadata": {},
   "outputs": [
    {
     "data": {
      "text/plain": [
       "1945.8804002039033"
      ]
     },
     "execution_count": 18,
     "metadata": {},
     "output_type": "execute_result"
    }
   ],
   "source": [
    "float(extrairCentroideEspectral(janelaTeste, freqAmostragem, frameLength, overlapLength))"
   ]
  },
  {
   "cell_type": "markdown",
   "metadata": {},
   "source": [
    "#### Largura de Banda"
   ]
  },
  {
   "cell_type": "code",
   "execution_count": 19,
   "metadata": {},
   "outputs": [
    {
     "data": {
      "text/plain": [
       "2374.7151391992575"
      ]
     },
     "execution_count": 19,
     "metadata": {},
     "output_type": "execute_result"
    }
   ],
   "source": [
    "float(extrairLarguraBanda(janelaTeste, freqAmostragem, frameLength, overlapLength))"
   ]
  },
  {
   "cell_type": "markdown",
   "metadata": {},
   "source": [
    "#### Planicidade"
   ]
  },
  {
   "cell_type": "code",
   "execution_count": 20,
   "metadata": {},
   "outputs": [
    {
     "data": {
      "text/plain": [
       "0.014923984184861183"
      ]
     },
     "execution_count": 20,
     "metadata": {},
     "output_type": "execute_result"
    }
   ],
   "source": [
    "float(extrairPlanicidade(janelaTeste, frameLength, overlapLength))"
   ]
  },
  {
   "cell_type": "markdown",
   "metadata": {},
   "source": [
    "#### Rolloff"
   ]
  },
  {
   "cell_type": "code",
   "execution_count": 21,
   "metadata": {},
   "outputs": [
    {
     "data": {
      "text/plain": [
       "5305.0"
      ]
     },
     "execution_count": 21,
     "metadata": {},
     "output_type": "execute_result"
    }
   ],
   "source": [
    "float(extrairRolloff(janelaTeste, freqAmostragem, frameLength, overlapLength))"
   ]
  },
  {
   "cell_type": "markdown",
   "metadata": {},
   "source": [
    "#### Zero Crossing Rate"
   ]
  },
  {
   "cell_type": "code",
   "execution_count": 22,
   "metadata": {},
   "outputs": [
    {
     "data": {
      "text/plain": [
       "0.055"
      ]
     },
     "execution_count": 22,
     "metadata": {},
     "output_type": "execute_result"
    }
   ],
   "source": [
    "float(extrairZCR(janelaTeste, frameLength, overlapLength))"
   ]
  },
  {
   "cell_type": "markdown",
   "metadata": {},
   "source": [
    "#### MFCCs"
   ]
  },
  {
   "cell_type": "code",
   "execution_count": 23,
   "metadata": {},
   "outputs": [
    {
     "data": {
      "text/plain": [
       "[-200.0313,\n",
       " 97.77553,\n",
       " -10.689477,\n",
       " -2.0161183,\n",
       " -17.110914,\n",
       " -0.21986239,\n",
       " 1.9039408,\n",
       " 6.5028396,\n",
       " -1.1135428,\n",
       " 7.6465216,\n",
       " 8.733477,\n",
       " 13.215707,\n",
       " 9.471103,\n",
       " 9.4107,\n",
       " 0.34962478,\n",
       " -1.9859645,\n",
       " 1.4241152,\n",
       " 6.4334707,\n",
       " 6.0011935,\n",
       " 3.543927]"
      ]
     },
     "execution_count": 23,
     "metadata": {},
     "output_type": "execute_result"
    }
   ],
   "source": [
    "extrairMFCCs(extrairMatrizMFCC(janelaTeste, freqAmostragem))"
   ]
  },
  {
   "cell_type": "markdown",
   "metadata": {},
   "source": [
    "#### Mel Espectrograma"
   ]
  },
  {
   "cell_type": "code",
   "execution_count": 24,
   "metadata": {},
   "outputs": [
    {
     "data": {
      "text/plain": [
       "[0.49913216,\n",
       " 0.98430496,\n",
       " 4.346118,\n",
       " 17.102589,\n",
       " 22.101652,\n",
       " 6.0109134,\n",
       " 6.4385834,\n",
       " 1.4624974,\n",
       " 1.0270661,\n",
       " 0.19284275,\n",
       " 0.06397422,\n",
       " 0.096201405,\n",
       " 0.11442464,\n",
       " 0.07502705,\n",
       " 0.046299674,\n",
       " 0.03431705,\n",
       " 0.008178866,\n",
       " 0.0043067117,\n",
       " 0.0020665547,\n",
       " 0.00066244433]"
      ]
     },
     "execution_count": 24,
     "metadata": {},
     "output_type": "execute_result"
    }
   ],
   "source": [
    "extrairMelEspectrograma(janelaTeste, freqAmostragem)"
   ]
  },
  {
   "cell_type": "markdown",
   "metadata": {},
   "source": [
    "#### Cromagramas"
   ]
  },
  {
   "cell_type": "code",
   "execution_count": 25,
   "metadata": {},
   "outputs": [
    {
     "name": "stderr",
     "output_type": "stream",
     "text": [
      "/home/pi/.pyenv/versions/3.6.1/envs/venv1/lib/python3.6/site-packages/librosa/core/pitch.py:146: UserWarning: Trying to estimate tuning from empty frequency set.\n",
      "  warnings.warn('Trying to estimate tuning from empty frequency set.')\n"
     ]
    },
    {
     "data": {
      "text/plain": [
       "[0.6457609,\n",
       " 1.0,\n",
       " 0.5774398,\n",
       " 0.34695727,\n",
       " 0.32613677,\n",
       " 0.35276887,\n",
       " 0.32734415,\n",
       " 0.29868507,\n",
       " 0.23632409,\n",
       " 0.17671679,\n",
       " 0.25815994,\n",
       " 0.3496138]"
      ]
     },
     "execution_count": 25,
     "metadata": {},
     "output_type": "execute_result"
    }
   ],
   "source": [
    "extrairCromagramas(janelaTeste, freqAmostragem, frameLength, overlapLength)"
   ]
  },
  {
   "cell_type": "markdown",
   "metadata": {},
   "source": [
    "#### Extração de tudo"
   ]
  },
  {
   "cell_type": "code",
   "execution_count": 26,
   "metadata": {},
   "outputs": [
    {
     "name": "stdout",
     "output_type": "stream",
     "text": [
      "Qtd de features: 58 \n",
      "\n",
      "[0.032420892268419266, 1945.8804002039033, 2374.7151391992575, 0.014923984184861183, 5305.0, 0.055, -200.0313, 97.77553, -10.689477, -2.0161183, -17.110914, -0.21986239, 1.9039408, 6.5028396, -1.1135428, 7.6465216, 8.733477, 13.215707, 9.471103, 9.4107, 0.34962478, -1.9859645, 1.4241152, 6.4334707, 6.0011935, 3.543927, 0.49913216, 0.98430496, 4.346118, 17.102589, 22.101652, 6.0109134, 6.4385834, 1.4624974, 1.0270661, 0.19284275, 0.06397422, 0.096201405, 0.11442464, 0.07502705, 0.046299674, 0.03431705, 0.008178866, 0.0043067117, 0.0020665547, 0.00066244433, 0.6457609, 1.0, 0.5774398, 0.34695727, 0.32613677, 0.35276887, 0.32734415, 0.29868507, 0.23632409, 0.17671679, 0.25815994, 0.3496138]\n"
     ]
    }
   ],
   "source": [
    "features = extrairFeaturesUnicoFrame(janelaTeste, freqAmostragem)\n",
    "print(\"Qtd de features:\", len(features), \"\\n\")\n",
    "print(features)"
   ]
  },
  {
   "cell_type": "code",
   "execution_count": null,
   "metadata": {},
   "outputs": [],
   "source": []
  },
  {
   "cell_type": "code",
   "execution_count": null,
   "metadata": {},
   "outputs": [],
   "source": []
  },
  {
   "cell_type": "code",
   "execution_count": null,
   "metadata": {},
   "outputs": [],
   "source": []
  },
  {
   "cell_type": "markdown",
   "metadata": {},
   "source": [
    "# Testando o arquivo extracaoFeatures"
   ]
  },
  {
   "cell_type": "markdown",
   "metadata": {},
   "source": [
    "Todas as funções implementadas acima foram colocadas no arquivo extracaoFeatures.py. ESSE ARQUIVO NÃO É UMA CLASSE. A ideia é usar funções soltas mesmo. O ARQUIVO NÃO IMPORT O NUMPY NEM O LIBROSA, ENTÃO TEM QUE IMPORTAR ESSAS BIBLIOTECAS ANTES."
   ]
  },
  {
   "cell_type": "markdown",
   "metadata": {},
   "source": [
    "#### Limpando absolutamente tudo da memória"
   ]
  },
  {
   "cell_type": "code",
   "execution_count": 27,
   "metadata": {},
   "outputs": [],
   "source": [
    "import sys\n",
    "sys.modules[__name__].__dict__.clear()"
   ]
  },
  {
   "cell_type": "markdown",
   "metadata": {},
   "source": [
    "#### Começando do zero"
   ]
  },
  {
   "cell_type": "code",
   "execution_count": 39,
   "metadata": {},
   "outputs": [],
   "source": [
    "import sys\n",
    "import librosa\n",
    "import numpy as np\n",
    "\n",
    "sys.path.append(\"/home/pi/Programming/IC2019/Raspberry/Python/\")\n",
    "from extracaoFeatures import extrairFeaturesUnicoFrame as extrairFeatures"
   ]
  },
  {
   "cell_type": "code",
   "execution_count": 29,
   "metadata": {},
   "outputs": [
    {
     "name": "stdout",
     "output_type": "stream",
     "text": [
      "58\n",
      "[ 3.24208923e-02  1.94588040e+03  2.37471514e+03  1.49239842e-02\n",
      "  5.30500000e+03  5.50000000e-02 -2.00031296e+02  9.77755280e+01\n",
      " -1.06894770e+01 -2.01611829e+00 -1.71109142e+01 -2.19862387e-01\n",
      "  1.90394080e+00  6.50283957e+00 -1.11354280e+00  7.64652157e+00\n",
      "  8.73347664e+00  1.32157068e+01  9.47110271e+00  9.41069984e+00\n",
      "  3.49624783e-01 -1.98596454e+00  1.42411518e+00  6.43347073e+00\n",
      "  6.00119352e+00  3.54392695e+00  4.99132156e-01  9.84304965e-01\n",
      "  4.34611797e+00  1.71025887e+01  2.21016521e+01  6.01091337e+00\n",
      "  6.43858337e+00  1.46249735e+00  1.02706611e+00  1.92842752e-01\n",
      "  6.39742166e-02  9.62014049e-02  1.14424638e-01  7.50270486e-02\n",
      "  4.62996736e-02  3.43170501e-02  8.17886554e-03  4.30671172e-03\n",
      "  2.06655473e-03  6.62444334e-04  6.45760894e-01  1.00000000e+00\n",
      "  5.77439785e-01  3.46957266e-01  3.26136768e-01  3.52768868e-01\n",
      "  3.27344149e-01  2.98685074e-01  2.36324087e-01  1.76716790e-01\n",
      "  2.58159935e-01  3.49613786e-01]\n"
     ]
    }
   ],
   "source": [
    "caminhoJanelaTeste = \"/home/pi/GravacoesReSpeaker/exemplos_amostras_SESA_v2_16kHz_16bits/exemplos_janelados_200ms/casual_000_janela_0.wav\"\n",
    "janelaTeste, freqAmostragem = librosa.load(caminhoJanelaTeste, sr=None, mono=True)\n",
    "features = extrairFeatures(janelaTeste, freqAmostragem)\n",
    "print(len(features))\n",
    "print(features)"
   ]
  },
  {
   "cell_type": "code",
   "execution_count": null,
   "metadata": {},
   "outputs": [],
   "source": []
  },
  {
   "cell_type": "code",
   "execution_count": null,
   "metadata": {},
   "outputs": [],
   "source": []
  },
  {
   "cell_type": "code",
   "execution_count": null,
   "metadata": {},
   "outputs": [],
   "source": []
  },
  {
   "cell_type": "markdown",
   "metadata": {},
   "source": [
    "## Medindo o tempo para extrair features"
   ]
  },
  {
   "cell_type": "markdown",
   "metadata": {},
   "source": [
    "Vou usar o arquivo criado para extrair features de todas as janelas exemplo de 200 ms."
   ]
  },
  {
   "cell_type": "code",
   "execution_count": 30,
   "metadata": {},
   "outputs": [],
   "source": [
    "import os\n",
    "import time"
   ]
  },
  {
   "cell_type": "code",
   "execution_count": 36,
   "metadata": {},
   "outputs": [
    {
     "name": "stderr",
     "output_type": "stream",
     "text": [
      "/home/pi/.pyenv/versions/3.6.1/envs/venv1/lib/python3.6/site-packages/librosa/core/pitch.py:146: UserWarning: Trying to estimate tuning from empty frequency set.\n",
      "  warnings.warn('Trying to estimate tuning from empty frequency set.')\n"
     ]
    }
   ],
   "source": [
    "# DIRETORIO ONDE ESTAO OS ARQUIVOS DE 200ms\n",
    "dirOrigem = \"/home/pi/GravacoesReSpeaker/exemplos_amostras_SESA_v2_16kHz_16bits/exemplos_janelados_200ms/\"\n",
    "\n",
    "# MEDINDO O TEMPO\n",
    "arrayTempos = []\n",
    "for arquivoAtual in os.listdir(dirOrigem):\n",
    "    \n",
    "    # ABRINDO O ARQUIVO (ISSO NAO PODE CONTAR NO TEMPO)\n",
    "    sinalAtual, freqAmostragem = librosa.load(dirOrigem + arquivoAtual, sr=None, mono=True)\n",
    "    \n",
    "    # COMECANDO A MEDIR O TEMPO\n",
    "    tempoInicio = time.time()\n",
    "    \n",
    "    # EXTRAINDO AS FEATURES\n",
    "    features = extrairFeatures(sinalAtual, freqAmostragem)\n",
    "    \n",
    "    # PARANDO DE MEDIR O TEMPO\n",
    "    tempoFim = time.time()\n",
    "    \n",
    "    # GUARDANDO O TEMPO NO ARRAY DE TEMPOS\n",
    "    arrayTempos.append(tempoFim - tempoInicio)"
   ]
  },
  {
   "cell_type": "code",
   "execution_count": 41,
   "metadata": {},
   "outputs": [
    {
     "name": "stdout",
     "output_type": "stream",
     "text": [
      "Média de tempo para extraír as 58 features de um sinal de 200ms: 0.11583673606798486 +- 0.0017386148276367348\n"
     ]
    }
   ],
   "source": [
    "print(\"Média de tempo para extraír as 58 features de um sinal de 200ms:\", np.mean(arrayTempos), \"+-\", np.std(arrayTempos))"
   ]
  },
  {
   "cell_type": "markdown",
   "metadata": {},
   "source": [
    "**Resultado:**\n",
    "\n",
    "Média de tempo para extraír as 58 features de um sinal de 200ms com a Raspberry: 0.115837 +- 0.00174 segundos.\n",
    "\n",
    "**Recaptulando o resultado de tempo de classificação:**\n",
    "\n",
    "Tempo médio para classificar uma única amostra (janela de 200ms) com a Raspberry: 5.7849987321845055e-06\n",
    "\n",
    "Isso significa que para extrair as features de uma janela de 200 ms e classificá-la, a Raspberry leva em média 0.1158425 segundos, ou 115.843 ms. Ou seja, ainda sobra 84.169 ms para fazer o Delay and Sum."
   ]
  }
 ],
 "metadata": {
  "kernelspec": {
   "display_name": "Python 3",
   "language": "python",
   "name": "python3"
  },
  "language_info": {
   "codemirror_mode": {
    "name": "ipython",
    "version": 3
   },
   "file_extension": ".py",
   "mimetype": "text/x-python",
   "name": "python",
   "nbconvert_exporter": "python",
   "pygments_lexer": "ipython3",
   "version": "3.6.1"
  }
 },
 "nbformat": 4,
 "nbformat_minor": 4
}
