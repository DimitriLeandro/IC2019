{
 "cells": [
  {
   "cell_type": "markdown",
   "metadata": {},
   "source": [
    "# Acurácia com os áudios gravados com o ReSpeaker"
   ]
  },
  {
   "cell_type": "markdown",
   "metadata": {},
   "source": [
    "Esse jupyter é apenas para pegar um CSV com as features dos ÁUDIOS GRAVADOS COM O RESPEAKER pra ver se a acurácia de treinamento está ok. "
   ]
  },
  {
   "cell_type": "code",
   "execution_count": 7,
   "metadata": {},
   "outputs": [],
   "source": [
    "from sklearn.metrics import classification_report\n",
    "import sys\n",
    "\n",
    "sys.path.append(\"/home/pi/Programming/IC2019/Raspberry/Python/\")\n",
    "\n",
    "import iniciarNormalizadorEClassificador as iniciarObjetos"
   ]
  },
  {
   "cell_type": "markdown",
   "metadata": {},
   "source": [
    "### Definindo caminho para os CSVs de treinamento e teste"
   ]
  },
  {
   "cell_type": "markdown",
   "metadata": {},
   "source": [
    "Se quiser ver somente a acurácia de treinamento, basta colocaro mesmo dataset nos dois caminhos"
   ]
  },
  {
   "cell_type": "code",
   "execution_count": 8,
   "metadata": {},
   "outputs": [],
   "source": [
    "caminhoCSVTreinamento = \"/home/pi/Datasets/SESA_v2_16kHz_16bits/SESA_ReSpeaker_16kHz_16bits_200ms_58features_desescalonado_2.csv\"\n",
    "caminhoCSVTeste       = \"/home/pi/Datasets/SESA_v2_16kHz_16bits/SESA_ReSpeaker_16kHz_16bits_200ms_58features_desescalonado_2.csv\""
   ]
  },
  {
   "cell_type": "markdown",
   "metadata": {},
   "source": [
    "### Treinando o classificador e o normalizador"
   ]
  },
  {
   "cell_type": "code",
   "execution_count": 9,
   "metadata": {},
   "outputs": [
    {
     "name": "stdout",
     "output_type": "stream",
     "text": [
      "Carregando o CSV do dataset\n",
      "CSV carregado\n",
      "Separando o que é data e target\n",
      "Iniciando objeto normalizador\n",
      "Treinando objeto normalizador\n",
      "Normalizando os dados de treinamento\n",
      "Instanciando objeto classificador\n",
      "Treinando o classificador\n",
      "objClassificador e objNormalizador prontos: operação finalizada.\n"
     ]
    }
   ],
   "source": [
    "objClassificador, objNormalizador = iniciarObjetos.main(caminhoCSVTreinamento, verbose=True)"
   ]
  },
  {
   "cell_type": "markdown",
   "metadata": {},
   "source": [
    "### Separando data e target do dataset de teste"
   ]
  },
  {
   "cell_type": "markdown",
   "metadata": {},
   "source": [
    "A função tem nome \"separarDatasetTreinamento\", mas ela pode separar data e target de qqr CSV, na verdade. Então vamos usar ela msm."
   ]
  },
  {
   "cell_type": "code",
   "execution_count": 10,
   "metadata": {},
   "outputs": [
    {
     "name": "stdout",
     "output_type": "stream",
     "text": [
      "Carregando o CSV do dataset\n",
      "CSV carregado\n",
      "Separando o que é data e target\n",
      "Shape dos arrays: (262, 58) (262,)\n",
      "Exemplo do xTest pré-normalização: [8.18329165e-04 3.78643166e+03 2.28902171e+03 2.60380298e-01]\n"
     ]
    }
   ],
   "source": [
    "xTest, yTest = iniciarObjetos.ajustarDatasetTreinamento(caminhoCSVTeste, verbose=True)\n",
    "print(\"Shape dos arrays:\", xTest.shape, yTest.shape)\n",
    "print(\"Exemplo do xTest pré-normalização:\", xTest[0][:4])"
   ]
  },
  {
   "cell_type": "markdown",
   "metadata": {},
   "source": [
    "### Normalizando os dados de teste"
   ]
  },
  {
   "cell_type": "code",
   "execution_count": 12,
   "metadata": {},
   "outputs": [
    {
     "name": "stdout",
     "output_type": "stream",
     "text": [
      "Exemplo do xTest pós normalização: [-0.98937321  2.98102178  4.01161398  8.12329055]\n"
     ]
    }
   ],
   "source": [
    "xTest = objNormalizador.transform(xTest)\n",
    "print(\"Exemplo do xTest pós normalização:\", xTest[0][:4])"
   ]
  },
  {
   "cell_type": "markdown",
   "metadata": {},
   "source": [
    "### Classificando"
   ]
  },
  {
   "cell_type": "code",
   "execution_count": 13,
   "metadata": {},
   "outputs": [
    {
     "name": "stdout",
     "output_type": "stream",
     "text": [
      "              precision    recall  f1-score   support\n",
      "\n",
      "   explosion       1.00      1.00      1.00       115\n",
      "       siren       1.00      1.00      1.00       147\n",
      "\n",
      "    accuracy                           1.00       262\n",
      "   macro avg       1.00      1.00      1.00       262\n",
      "weighted avg       1.00      1.00      1.00       262\n",
      "\n"
     ]
    }
   ],
   "source": [
    "yPred = objClassificador.predict(xTest)\n",
    "print(classification_report(yTest, yPred))"
   ]
  },
  {
   "cell_type": "code",
   "execution_count": null,
   "metadata": {},
   "outputs": [],
   "source": []
  },
  {
   "cell_type": "code",
   "execution_count": null,
   "metadata": {},
   "outputs": [],
   "source": []
  },
  {
   "cell_type": "code",
   "execution_count": null,
   "metadata": {},
   "outputs": [],
   "source": []
  },
  {
   "cell_type": "code",
   "execution_count": null,
   "metadata": {},
   "outputs": [],
   "source": []
  }
 ],
 "metadata": {
  "kernelspec": {
   "display_name": "Python 3",
   "language": "python",
   "name": "python3"
  },
  "language_info": {
   "codemirror_mode": {
    "name": "ipython",
    "version": 3
   },
   "file_extension": ".py",
   "mimetype": "text/x-python",
   "name": "python",
   "nbconvert_exporter": "python",
   "pygments_lexer": "ipython3",
   "version": "3.6.1"
  }
 },
 "nbformat": 4,
 "nbformat_minor": 4
}
