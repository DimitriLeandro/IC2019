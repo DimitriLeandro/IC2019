{
 "cells": [
  {
   "cell_type": "markdown",
   "metadata": {},
   "source": [
    "# Acurácia com os áudios gravados com o ReSpeaker"
   ]
  },
  {
   "cell_type": "markdown",
   "metadata": {},
   "source": [
    "Esse jupyter é apenas para pegar um CSV com as features dos ÁUDIOS GRAVADOS COM O RESPEAKER pra ver se a acurácia de treinamento está ok. "
   ]
  },
  {
   "cell_type": "code",
   "execution_count": 1,
   "metadata": {},
   "outputs": [],
   "source": [
    "from sklearn.metrics import classification_report\n",
    "import sys\n",
    "\n",
    "sys.path.append(\"/home/pi/Programming/IC2019/Raspberry/Python/\")\n",
    "\n",
    "import iniciarNormalizadorEClassificador as iniciarObjetos"
   ]
  },
  {
   "cell_type": "markdown",
   "metadata": {},
   "source": [
    "### Definindo caminho para os CSVs de treinamento e teste"
   ]
  },
  {
   "cell_type": "markdown",
   "metadata": {},
   "source": [
    "Se quiser ver somente a acurácia de treinamento, basta colocaro mesmo dataset nos dois caminhos"
   ]
  },
  {
   "cell_type": "code",
   "execution_count": 2,
   "metadata": {},
   "outputs": [],
   "source": [
    "caminhoCSVTreinamento = \"/home/pi/Datasets/ESC_3_ReSpeaker_1595612342.0004687/500ms.csv\"\n",
    "caminhoCSVTeste       = \"/home/pi/Datasets/ESC_3_ReSpeaker_1595612342.0004687/500ms.csv\""
   ]
  },
  {
   "cell_type": "markdown",
   "metadata": {},
   "source": [
    "### Treinando o classificador e o normalizador"
   ]
  },
  {
   "cell_type": "code",
   "execution_count": 3,
   "metadata": {},
   "outputs": [
    {
     "name": "stdout",
     "output_type": "stream",
     "text": [
      "Carregando o CSV do dataset\n",
      "CSV carregado\n",
      "Separando o que é data e target\n",
      "Iniciando objeto normalizador\n",
      "Treinando objeto normalizador\n",
      "Normalizando os dados de treinamento\n",
      "Instanciando objeto classificador\n",
      "Treinando o classificador\n",
      "objClassificador e objNormalizador prontos: operação finalizada.\n"
     ]
    }
   ],
   "source": [
    "objClassificador, objNormalizador = iniciarObjetos.main(caminhoCSVTreinamento, classificador=None, verbose=True)"
   ]
  },
  {
   "cell_type": "markdown",
   "metadata": {},
   "source": [
    "### Separando data e target do dataset de teste"
   ]
  },
  {
   "cell_type": "markdown",
   "metadata": {},
   "source": [
    "A função tem nome \"separarDatasetTreinamento\", mas ela pode separar data e target de qqr CSV, na verdade. Então vamos usar ela msm."
   ]
  },
  {
   "cell_type": "code",
   "execution_count": 4,
   "metadata": {},
   "outputs": [
    {
     "name": "stdout",
     "output_type": "stream",
     "text": [
      "Carregando o CSV do dataset\n",
      "CSV carregado\n",
      "Separando o que é data e target\n",
      "Shape dos arrays: (301, 58) (301,)\n",
      "Exemplo do xTest pré-normalização: [2.44846227e+03 2.89085784e+03 2.06143420e+03 2.61357669e-02]\n"
     ]
    }
   ],
   "source": [
    "xTest, yTest = iniciarObjetos.ajustarDatasetTreinamento(caminhoCSVTeste, verbose=True)\n",
    "print(\"Shape dos arrays:\", xTest.shape, yTest.shape)\n",
    "print(\"Exemplo do xTest pré-normalização:\", xTest[0][:4])"
   ]
  },
  {
   "cell_type": "markdown",
   "metadata": {},
   "source": [
    "### Normalizando os dados de teste"
   ]
  },
  {
   "cell_type": "code",
   "execution_count": 5,
   "metadata": {},
   "outputs": [
    {
     "name": "stdout",
     "output_type": "stream",
     "text": [
      "Exemplo do xTest pós normalização: [ 1.22285537 -0.56991252 -0.28815616 -0.88373863]\n"
     ]
    }
   ],
   "source": [
    "xTest = objNormalizador.transform(xTest)\n",
    "print(\"Exemplo do xTest pós normalização:\", xTest[0][:4])"
   ]
  },
  {
   "cell_type": "markdown",
   "metadata": {},
   "source": [
    "### Classificando"
   ]
  },
  {
   "cell_type": "code",
   "execution_count": 6,
   "metadata": {},
   "outputs": [
    {
     "name": "stdout",
     "output_type": "stream",
     "text": [
      "              precision    recall  f1-score   support\n",
      "\n",
      "    chainsaw       1.00      1.00      1.00       185\n",
      "  cryingbaby       1.00      1.00      1.00        95\n",
      "    sneezing       1.00      1.00      1.00        21\n",
      "\n",
      "    accuracy                           1.00       301\n",
      "   macro avg       1.00      1.00      1.00       301\n",
      "weighted avg       1.00      1.00      1.00       301\n",
      "\n"
     ]
    }
   ],
   "source": [
    "yPred = objClassificador.predict(xTest)\n",
    "print(classification_report(yTest, yPred))"
   ]
  },
  {
   "cell_type": "code",
   "execution_count": null,
   "metadata": {},
   "outputs": [],
   "source": []
  },
  {
   "cell_type": "code",
   "execution_count": null,
   "metadata": {},
   "outputs": [],
   "source": []
  },
  {
   "cell_type": "code",
   "execution_count": null,
   "metadata": {},
   "outputs": [],
   "source": []
  }
 ],
 "metadata": {
  "kernelspec": {
   "display_name": "Python 3",
   "language": "python",
   "name": "python3"
  },
  "language_info": {
   "codemirror_mode": {
    "name": "ipython",
    "version": 3
   },
   "file_extension": ".py",
   "mimetype": "text/x-python",
   "name": "python",
   "nbconvert_exporter": "python",
   "pygments_lexer": "ipython3",
   "version": "3.6.1"
  }
 },
 "nbformat": 4,
 "nbformat_minor": 4
}
