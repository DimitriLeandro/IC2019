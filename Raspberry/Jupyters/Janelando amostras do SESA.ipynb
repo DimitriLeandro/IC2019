{
 "cells": [
  {
   "cell_type": "markdown",
   "metadata": {},
   "source": [
    "# Janelando amostras do SESA"
   ]
  },
  {
   "cell_type": "markdown",
   "metadata": {},
   "source": [
    "Antes de usar o ReSpeaker para gravar amostras de X ms, vou janelas algumas amostras do SESA para depois medir o tempo que a Raspberry leva para normalizar as features da nova amostra e classificar."
   ]
  },
  {
   "cell_type": "code",
   "execution_count": 1,
   "metadata": {},
   "outputs": [
    {
     "name": "stderr",
     "output_type": "stream",
     "text": [
      "/home/pi/.pyenv/versions/3.6.1/envs/venv1/lib/python3.6/site-packages/librosa/util/decorators.py:9: NumbaDeprecationWarning: An import was requested from a module that has moved location.\n",
      "Import of 'jit' requested from: 'numba.decorators', please update to use 'numba.core.decorators' or pin to Numba version 0.48.0. This alias will not be present in Numba version 0.50.0.\n",
      "  from numba.decorators import jit as optional_jit\n"
     ]
    }
   ],
   "source": [
    "import os\n",
    "import librosa\n",
    "import shutil\n",
    "import soundfile\n",
    "import subprocess\n",
    "import numpy as np\n",
    "from IPython.display import Audio"
   ]
  },
  {
   "cell_type": "markdown",
   "metadata": {},
   "source": [
    "## Parâmetros iniciais e funções"
   ]
  },
  {
   "cell_type": "code",
   "execution_count": 2,
   "metadata": {},
   "outputs": [],
   "source": [
    "freqAmostragem = 16000\n",
    "frameLength    = int(0.200 * freqAmostragem)\n",
    "overlapLength  = int(frameLength/2)"
   ]
  },
  {
   "cell_type": "code",
   "execution_count": 3,
   "metadata": {},
   "outputs": [],
   "source": [
    "def fazerJanelamento(sinal, frameLength, overlapLength):\n",
    "    return librosa.util.frame(sinal, frame_length=frameLength, hop_length=overlapLength).T"
   ]
  },
  {
   "cell_type": "markdown",
   "metadata": {},
   "source": [
    "## Ajustando os diretórios"
   ]
  },
  {
   "cell_type": "markdown",
   "metadata": {},
   "source": [
    "Definindo onde estão os áudios completos e pra onde irão as amostras janeladas."
   ]
  },
  {
   "cell_type": "code",
   "execution_count": 4,
   "metadata": {},
   "outputs": [],
   "source": [
    "dirOrigem  = \"/home/pi/GravacoesReSpeaker/exemplos_amostras_SESA_v2_16kHz_16bits/\"\n",
    "dirDestino = dirOrigem + \"exemplos_janelados_200ms/\""
   ]
  },
  {
   "cell_type": "markdown",
   "metadata": {},
   "source": [
    "Se o diretório de destino já existir, eu vou excluir tudo e criar do zero."
   ]
  },
  {
   "cell_type": "code",
   "execution_count": 5,
   "metadata": {},
   "outputs": [
    {
     "name": "stdout",
     "output_type": "stream",
     "text": [
      "O diretório de destino já existia. Todo seu conteúdo foi excluido.\n"
     ]
    }
   ],
   "source": [
    "if os.path.isdir(dirDestino) == True:\n",
    "    shutil.rmtree(dirDestino)\n",
    "    print(\"O diretório de destino já existia. Todo seu conteúdo foi excluido.\")\n",
    "\n",
    "# JA VOU PEGAR OS ARQUIVOS COMPLETOS DA ORIGEM AGR PRA VIR SO OS WAVS\n",
    "arquivosCompletos = os.listdir(dirOrigem)\n",
    "\n",
    "# AGR SIM EU CRIO A PASTA DE DESTINO\n",
    "os.mkdir(dirDestino)"
   ]
  },
  {
   "cell_type": "markdown",
   "metadata": {},
   "source": [
    "## Garantindo que a função funciona como desejado"
   ]
  },
  {
   "cell_type": "markdown",
   "metadata": {},
   "source": [
    "Na documentação fala que vc pode enviar o parâmetro \"axis\" pra função \"frame\" do librosa. A opção default é -1, que NÃO faz o que nós desejamos. Por isso na função ali em cima eu coloquei \".T\" pra pegar a transposta. Vamos verificar que é isso mesmo."
   ]
  },
  {
   "cell_type": "code",
   "execution_count": null,
   "metadata": {},
   "outputs": [],
   "source": [
    "sinalOriginal, freqAmostragem = librosa.load(dirOrigem+arquivosCompletos[1], sr=None, mono=True)\n",
    "janelas = fazerJanelamento(sinalOriginal, frameLength, overlapLength)\n",
    "print(\"O resultado deve gerar\", int((len(sinalOriginal)/frameLength)*(frameLength/overlapLength))-1, \"janelas de\", frameLength, \"amostras cada.\")\n",
    "print(\"Shape do resultado:\", janelas.shape, \"\\n\")\n",
    "print(\"Sinal original:\")\n",
    "Audio(data=sinalOriginal, rate=freqAmostragem)"
   ]
  },
  {
   "cell_type": "markdown",
   "metadata": {},
   "source": [
    "Como usamos sempre 50% de overlap, vamos pulando de uma em uma janela pra concatenar as janelas que formam o sinal original."
   ]
  },
  {
   "cell_type": "code",
   "execution_count": null,
   "metadata": {
    "scrolled": true
   },
   "outputs": [],
   "source": [
    "# JANELAS PARES\n",
    "reconstrucao = []\n",
    "for i in range(0, len(janelas), 2):\n",
    "    reconstrucao.extend(janelas[i])\n",
    "Audio(data=reconstrucao, rate=freqAmostragem)"
   ]
  },
  {
   "cell_type": "code",
   "execution_count": null,
   "metadata": {
    "scrolled": true
   },
   "outputs": [],
   "source": [
    "# JANELAS IMPARES\n",
    "reconstrucao = []\n",
    "for i in range(1, len(janelas), 2):\n",
    "    reconstrucao.extend(janelas[i])\n",
    "Audio(data=reconstrucao, rate=freqAmostragem)"
   ]
  },
  {
   "cell_type": "markdown",
   "metadata": {},
   "source": [
    "Só por curiosidade, vamos ver como fica se concatenarmos todas as janelas, inclusive as de sobreposição hehehe."
   ]
  },
  {
   "cell_type": "code",
   "execution_count": null,
   "metadata": {},
   "outputs": [],
   "source": [
    "# TODAS AS JANELAS JUNTAS (BAGUNCA)\n",
    "reconstrucao = []\n",
    "for i in range(1, len(janelas)):\n",
    "    reconstrucao.extend(janelas[i])\n",
    "Audio(data=reconstrucao, rate=freqAmostragem)"
   ]
  },
  {
   "cell_type": "markdown",
   "metadata": {},
   "source": [
    "## Janelando os áudios"
   ]
  },
  {
   "cell_type": "code",
   "execution_count": 6,
   "metadata": {
    "scrolled": true
   },
   "outputs": [
    {
     "name": "stdout",
     "output_type": "stream",
     "text": [
      "O resultado deve gerar 31 janelas de 3200 amostras cada.\n",
      "Shape do resultado: (31, 3200) \n",
      "\n",
      "O resultado deve gerar 121 janelas de 3200 amostras cada.\n",
      "Shape do resultado: (121, 3200) \n",
      "\n",
      "O resultado deve gerar 9 janelas de 3200 amostras cada.\n",
      "Shape do resultado: (9, 3200) \n",
      "\n",
      "O resultado deve gerar 45 janelas de 3200 amostras cada.\n",
      "Shape do resultado: (45, 3200) \n",
      "\n"
     ]
    }
   ],
   "source": [
    "for arquivoAtual in arquivosCompletos:\n",
    "    \n",
    "    # JANELANDO O ARQUIVO ATUAL\n",
    "    sinalOriginal, freqAmostragem = librosa.load(dirOrigem+arquivoAtual, sr=None, mono=True)\n",
    "    janelas = fazerJanelamento(sinalOriginal, frameLength, overlapLength)\n",
    "    \n",
    "    print(\"O resultado deve gerar\", int((len(sinalOriginal)/frameLength)*(frameLength/overlapLength))-1, \"janelas de\", frameLength, \"amostras cada.\")\n",
    "    print(\"Shape do resultado:\", janelas.shape, \"\\n\")\n",
    "    \n",
    "    # SALVANDO CADA JANELA NO DIRETORIO DE DESTINO\n",
    "    for i, janelaAtual in enumerate(janelas):\n",
    "        novoNome = arquivoAtual[:-4] + \"_janela_\" + str(i) + \".wav\"\n",
    "        librosa.output.write_wav(dirDestino + novoNome, janelaAtual, freqAmostragem)"
   ]
  },
  {
   "cell_type": "markdown",
   "metadata": {},
   "source": [
    "## Verificando os arquivos gerados"
   ]
  },
  {
   "cell_type": "markdown",
   "metadata": {},
   "source": [
    "O librosa NÃO PRESERVA A PROFUNDIDADE DE BITS. Portanto, vamos verificar como está a situação e, conforme for, vamos usar o SoX pra manter as coisas em 16 bits."
   ]
  },
  {
   "cell_type": "code",
   "execution_count": 7,
   "metadata": {},
   "outputs": [
    {
     "name": "stdout",
     "output_type": "stream",
     "text": [
      "Total de arquivos gerados: 206\n"
     ]
    }
   ],
   "source": [
    "arquivosDestino = os.listdir(dirDestino)\n",
    "print(\"Total de arquivos gerados:\", len(arquivosDestino))"
   ]
  },
  {
   "cell_type": "code",
   "execution_count": 8,
   "metadata": {},
   "outputs": [
    {
     "name": "stdout",
     "output_type": "stream",
     "text": [
      "Frequência de amostragem: 16000\n",
      "Canais: 1\n",
      "Profundidade de bits: FLOAT\n"
     ]
    }
   ],
   "source": [
    "arquivoSF = soundfile.SoundFile(dirDestino + arquivosDestino[0])\n",
    "print('Frequência de amostragem:', arquivoSF.samplerate)\n",
    "print('Canais:', arquivoSF.channels)\n",
    "print('Profundidade de bits:', arquivoSF.subtype)"
   ]
  },
  {
   "cell_type": "markdown",
   "metadata": {},
   "source": [
    "Hmmm, como suspeitava... Vamos ter que passar esse \"FLOAT\" ai pra \"PCM_16\"."
   ]
  },
  {
   "cell_type": "code",
   "execution_count": 9,
   "metadata": {},
   "outputs": [],
   "source": [
    "for arquivoAtual in arquivosDestino:\n",
    "    nomeAntigo = arquivoAtual[:-4] + \"_antigo.wav\"\n",
    "    nomeNovo   = arquivoAtual\n",
    "    os.rename(dirDestino + arquivoAtual, dirDestino + nomeAntigo)\n",
    "    subprocess.run([\"sox\", dirDestino+nomeAntigo, \"-b 16\", dirDestino+nomeNovo])\n",
    "    os.remove(dirDestino + nomeAntigo)"
   ]
  },
  {
   "cell_type": "markdown",
   "metadata": {},
   "source": [
    "Agora vamos ver se tá tudo em 16 bits msm..."
   ]
  },
  {
   "cell_type": "code",
   "execution_count": 10,
   "metadata": {},
   "outputs": [
    {
     "name": "stdout",
     "output_type": "stream",
     "text": [
      "Arquivo: explosion_000_janela_4.wav\n",
      "Frequência de amostragem: 16000\n",
      "Canais: 1\n",
      "Profundidade de bits: PCM_16 \n",
      "\n",
      "Arquivo: siren_000_janela_84.wav\n",
      "Frequência de amostragem: 16000\n",
      "Canais: 1\n",
      "Profundidade de bits: PCM_16 \n",
      "\n",
      "Arquivo: siren_000_janela_11.wav\n",
      "Frequência de amostragem: 16000\n",
      "Canais: 1\n",
      "Profundidade de bits: PCM_16 \n",
      "\n",
      "Arquivo: siren_000_janela_79.wav\n",
      "Frequência de amostragem: 16000\n",
      "Canais: 1\n",
      "Profundidade de bits: PCM_16 \n",
      "\n",
      "Arquivo: siren_000_janela_37.wav\n",
      "Frequência de amostragem: 16000\n",
      "Canais: 1\n",
      "Profundidade de bits: PCM_16 \n",
      "\n",
      "Arquivo: gunshot_000_janela_4.wav\n",
      "Frequência de amostragem: 16000\n",
      "Canais: 1\n",
      "Profundidade de bits: PCM_16 \n",
      "\n",
      "Arquivo: siren_000_janela_14.wav\n",
      "Frequência de amostragem: 16000\n",
      "Canais: 1\n",
      "Profundidade de bits: PCM_16 \n",
      "\n",
      "Arquivo: explosion_000_janela_35.wav\n",
      "Frequência de amostragem: 16000\n",
      "Canais: 1\n",
      "Profundidade de bits: PCM_16 \n",
      "\n",
      "Arquivo: explosion_000_janela_42.wav\n",
      "Frequência de amostragem: 16000\n",
      "Canais: 1\n",
      "Profundidade de bits: PCM_16 \n",
      "\n",
      "Arquivo: explosion_000_janela_9.wav\n",
      "Frequência de amostragem: 16000\n",
      "Canais: 1\n",
      "Profundidade de bits: PCM_16 \n",
      "\n"
     ]
    }
   ],
   "source": [
    "for arquivoAtual in arquivosDestino[100:110]:\n",
    "    arquivoSF = soundfile.SoundFile(dirDestino + arquivoAtual)\n",
    "    print(\"Arquivo:\", arquivoAtual)\n",
    "    print(\"Frequência de amostragem:\", arquivoSF.samplerate)\n",
    "    print(\"Canais:\", arquivoSF.channels)\n",
    "    print(\"Profundidade de bits:\", arquivoSF.subtype, \"\\n\")"
   ]
  },
  {
   "cell_type": "code",
   "execution_count": null,
   "metadata": {},
   "outputs": [],
   "source": []
  }
 ],
 "metadata": {
  "kernelspec": {
   "display_name": "Python 3",
   "language": "python",
   "name": "python3"
  },
  "language_info": {
   "codemirror_mode": {
    "name": "ipython",
    "version": 3
   },
   "file_extension": ".py",
   "mimetype": "text/x-python",
   "name": "python",
   "nbconvert_exporter": "python",
   "pygments_lexer": "ipython3",
   "version": "3.6.1"
  }
 },
 "nbformat": 4,
 "nbformat_minor": 4
}
