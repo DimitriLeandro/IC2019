{
 "cells": [
  {
   "cell_type": "markdown",
   "metadata": {},
   "source": [
    "# Tempo de processamento com e sem PCA"
   ]
  },
  {
   "cell_type": "markdown",
   "metadata": {},
   "source": [
    "Esse jupyter foi construido remotamente e deve rodar na Raspberry. A ideia é repetir um experimento que foi executado na servidora do laboratório para medir o tempo de processamento para classificar os dados de teste com e sem a utilização de PCA. Os testes na servidora indicaram que o PCA dobrou o tempo de processamento, pois transformar os dados de teste para uma dimensionalidade mais baixa demorava mais do que simplesmente classificar logo em todas as dimensões originais.\n",
    "\n",
    "Nessa altura já descobrimos através do Feature Importance (Índice de GINI) que podemos deixar de extrair as 135 features para extrair apenas 58 que o resultado em acurácia não é afetado. Também já temos o modelo de classificador mais apropriado em termos de tempo de processamento e acurácia (SVM com SGD). Esse classificador foi o vencedor tanto no artigo do NUVEM quanto do SBrT. "
   ]
  },
  {
   "cell_type": "code",
   "execution_count": 1,
   "metadata": {},
   "outputs": [],
   "source": [
    "from sklearn.linear_model import SGDClassifier\n",
    "from sklearn.decomposition import PCA\n",
    "from joblib import Parallel, delayed\n",
    "import time\n",
    "import pandas as pd\n",
    "import numpy as np"
   ]
  },
  {
   "cell_type": "code",
   "execution_count": 2,
   "metadata": {},
   "outputs": [],
   "source": [
    "def ajustarDataset(caminhoCSV, pasta):\n",
    "    \n",
    "    # ABRINDO\n",
    "    print(\"Carregando CSV com o dataset\")\n",
    "    dataframe = pd.read_csv(caminhoCSV)\n",
    "    print(\"CSV carregado\")\n",
    "    \n",
    "    # SEPARANDO DATA, TARGET E O NOME DOS ARQUIVOS\n",
    "    print(\"Separando o que é X e Y\")\n",
    "    data     = dataframe.iloc[:, 1:-1].to_numpy()\n",
    "    target   = dataframe.iloc[:, -1].to_numpy()\n",
    "    arquivos = dataframe.iloc[:, 0].to_numpy()\n",
    "    \n",
    "    # LIMPANDO A MEMORIA\n",
    "    print(\"Limpando o dataframe pandas da memória\")\n",
    "    del dataframe\n",
    "    \n",
    "    # SEPARANTE TREINO E TESTE PELO NOME DO ARQUIVO (O ULTIMO NUMERO NO NOME E A PASTA casual_000_1.wav)\n",
    "    print(\"Começando a separar o que é treinamento e teste\")\n",
    "    xTrain, xTest, yTrain, yTest = [], [], [], []\n",
    "    for xAtual, yAtual, arquivoAtual in zip(data, target, arquivos):\n",
    "        \n",
    "        # SE FOR DA PASTA ESCOLHIDA VAI PRO TESTE\n",
    "        if int(arquivoAtual.split(\"_\")[2][0]) == pasta:\n",
    "            xTest.append(xAtual)\n",
    "            yTest.append(yAtual)\n",
    "        \n",
    "        # SENAO VAI PRO TREINAMENTO\n",
    "        else:\n",
    "            xTrain.append(xAtual)\n",
    "            yTrain.append(yAtual)\n",
    "    print(\"Separação finalizada\")   \n",
    "    \n",
    "    # PASSANDO TUDO PRA NUMPY\n",
    "    xTrain = np.array(xTrain)\n",
    "    xTest  = np.array(xTest)\n",
    "    yTrain = np.array(yTrain)\n",
    "    yTest  = np.array(yTest)\n",
    "            \n",
    "    # VERIFICANDO A DIMENSIONALIDADE\n",
    "    print(\"Garantindo que a dimensionalidade está correta\")\n",
    "    assert xTrain.shape[0] + xTest.shape[0] == data.shape[0], \"Dimensionalidade dos Xs não bate.\"\n",
    "    assert yTrain.shape[0] + yTest.shape[0] == target.shape[0], \"Dimensionalidade dos Ys não bate.\"\n",
    "    assert xTrain.shape[1] == xTest.shape[1] and xTest.shape[1] == data.shape[1], \"Número de features não bate.\"\n",
    "    \n",
    "    # VAMO QUE VAMO\n",
    "    print(\"Função ajustarDataset() finalizada\")\n",
    "    return xTrain, xTest, yTrain, yTest"
   ]
  },
  {
   "cell_type": "code",
   "execution_count": 3,
   "metadata": {},
   "outputs": [],
   "source": [
    "def medirTempoComESemPCA(xTest, objClassificador, objPCA):\n",
    "    \n",
    "    print(\"Iniciando a medição de tempo\")\n",
    "    tempoInicio = time.time()\n",
    "    \n",
    "    if objPCA != None:\n",
    "        print(\"Aplicando o PCA\")\n",
    "        xTest = objPCA.transform(xTest)\n",
    "        print(\"PCA aplicado\")\n",
    "        \n",
    "    print(\"Realizando a predição de xTest\")\n",
    "    __ = objClassificador.predict(xTest)\n",
    "    print(\"Predição finalizada\")\n",
    "    \n",
    "    tempoFim = time.time()\n",
    "    print(\"Parando de medir o tempo\")\n",
    "    \n",
    "    return tempoFim - tempoInicio"
   ]
  },
  {
   "cell_type": "code",
   "execution_count": 4,
   "metadata": {},
   "outputs": [
    {
     "name": "stdout",
     "output_type": "stream",
     "text": [
      "Carregando CSV com o dataset\n",
      "CSV carregado\n",
      "Separando o que é X e Y\n",
      "Limpando o dataframe pandas da memória\n",
      "Começando a separar o que é treinamento e teste\n",
      "Separação finalizada\n",
      "Garantindo que a dimensionalidade está correta\n",
      "Função ajustarDataset() finalizada\n",
      "Inciando o treinamento do classificador em 58D\n",
      "objClassificadorSemPCA treinado com xTrain de (21902, 58)\n",
      "Inciando o fit do objeto PCA\n",
      "Objeto PCA pronto\n",
      "Inciando o treinamento do classificador em 38D\n",
      "objClassificadorComPCA treinado com xTrain de (21902, 38)\n",
      "Removendo xTrain e yTrain da memória\n"
     ]
    }
   ],
   "source": [
    "# CAMINHO PARA O CSV COM 58 FEATURES\n",
    "caminhoCSV = \"/home/pi/Datasets/SESA_v2_16kHz_16bits_58features.csv\"\n",
    "\n",
    "# SELECIONANDO UMA UNICA ITERACAO DO K FOLD\n",
    "xTrain, xTest, yTrain, __ = ajustarDataset(caminhoCSV, pasta=1)\n",
    "\n",
    "# TREINANDO UM CLASSIFICADOR COM TODAS AS DIMENSOES\n",
    "print(\"Inciando o treinamento do classificador em 58D\")\n",
    "objClassificadorSemPCA = SGDClassifier(alpha=0.0001, average=False, class_weight=None, early_stopping=False, epsilon=0.1, eta0=0.0, fit_intercept=True, l1_ratio=0.15, learning_rate='optimal', loss='log', max_iter=1000, n_iter_no_change=5, n_jobs=1, penalty='l2', power_t=0.5, random_state=None, shuffle=True, tol=0.0001, validation_fraction=0.1, verbose=0, warm_start=False)\n",
    "objClassificadorSemPCA.fit(xTrain, yTrain)\n",
    "print(\"objClassificadorSemPCA treinado com xTrain de\", xTrain.shape)\n",
    "\n",
    "# TREINANDO COM AS DIMENSOES REDUZIDAS\n",
    "print(\"Inciando o fit do objeto PCA\")\n",
    "objPCA = PCA(n_components=38)\n",
    "objPCA.fit(xTrain)\n",
    "xTrain = objPCA.transform(xTrain)\n",
    "print(\"Objeto PCA pronto\")\n",
    "print(\"Inciando o treinamento do classificador em 38D\")\n",
    "objClassificadorComPCA = SGDClassifier(alpha=0.0001, average=False, class_weight=None, early_stopping=False, epsilon=0.1, eta0=0.0, fit_intercept=True, l1_ratio=0.15, learning_rate='optimal', loss='log', max_iter=1000, n_iter_no_change=5, n_jobs=1, penalty='l2', power_t=0.5, random_state=None, shuffle=True, tol=0.0001, validation_fraction=0.1, verbose=0, warm_start=False)\n",
    "objClassificadorComPCA.fit(xTrain, yTrain)\n",
    "print(\"objClassificadorComPCA treinado com xTrain de\", xTrain.shape)\n",
    "\n",
    "# LIMPANDO A MEMORIA POIS SO VOU PRECISAR DOS OBJETOS DOS CLASSIFICADORES JA TREINADOS, DO OBJ PCA E DO XTEST\n",
    "print(\"Removendo xTrain e yTrain da memória\")\n",
    "del xTrain\n",
    "del yTrain"
   ]
  },
  {
   "cell_type": "code",
   "execution_count": 8,
   "metadata": {},
   "outputs": [
    {
     "name": "stderr",
     "output_type": "stream",
     "text": [
      "[Parallel(n_jobs=-1)]: Using backend LokyBackend with 4 concurrent workers.\n",
      "[Parallel(n_jobs=-1)]: Batch computation too fast (0.0911s.) Setting batch_size=2.\n",
      "[Parallel(n_jobs=-1)]: Done   5 tasks      | elapsed:    0.3s\n",
      "[Parallel(n_jobs=-1)]: Done  12 tasks      | elapsed:    0.4s\n",
      "[Parallel(n_jobs=-1)]: Done  26 tasks      | elapsed:    0.6s\n",
      "[Parallel(n_jobs=-1)]: Done  40 tasks      | elapsed:    0.7s\n",
      "[Parallel(n_jobs=-1)]: Batch computation too fast (0.1985s.) Setting batch_size=4.\n",
      "[Parallel(n_jobs=-1)]: Done  60 tasks      | elapsed:    1.0s\n",
      "[Parallel(n_jobs=-1)]: Done 100 out of 120 | elapsed:    1.6s remaining:    0.3s\n",
      "[Parallel(n_jobs=-1)]: Done 120 out of 120 | elapsed:    1.7s finished\n"
     ]
    }
   ],
   "source": [
    "# RODANDO SEM PCA\n",
    "repetibilidade = 120\n",
    "arrayTemposSemPCA = Parallel(n_jobs=-1, verbose=10)(delayed(medirTempoComESemPCA)(xTest, objClassificadorSemPCA, None) for i in range(repetibilidade))"
   ]
  },
  {
   "cell_type": "code",
   "execution_count": 9,
   "metadata": {},
   "outputs": [
    {
     "name": "stderr",
     "output_type": "stream",
     "text": [
      "[Parallel(n_jobs=-1)]: Using backend LokyBackend with 4 concurrent workers.\n",
      "[Parallel(n_jobs=-1)]: Batch computation too fast (0.1671s.) Setting batch_size=2.\n",
      "[Parallel(n_jobs=-1)]: Done   5 tasks      | elapsed:    0.3s\n",
      "[Parallel(n_jobs=-1)]: Done  12 tasks      | elapsed:    0.6s\n",
      "[Parallel(n_jobs=-1)]: Done  26 tasks      | elapsed:    1.2s\n",
      "[Parallel(n_jobs=-1)]: Done  40 tasks      | elapsed:    1.7s\n",
      "[Parallel(n_jobs=-1)]: Done  58 tasks      | elapsed:    2.4s\n",
      "[Parallel(n_jobs=-1)]: Done  76 tasks      | elapsed:    3.0s\n",
      "[Parallel(n_jobs=-1)]: Done  98 tasks      | elapsed:    3.7s\n",
      "[Parallel(n_jobs=-1)]: Done 120 out of 120 | elapsed:    4.5s finished\n"
     ]
    }
   ],
   "source": [
    "# RODANDO COM PCA\n",
    "repetibilidade = 120\n",
    "arrayTemposComPCA = Parallel(n_jobs=-1, verbose=10)(delayed(medirTempoComESemPCA)(xTest, objClassificadorComPCA, objPCA) for i in range(repetibilidade))"
   ]
  },
  {
   "cell_type": "code",
   "execution_count": 10,
   "metadata": {},
   "outputs": [
    {
     "name": "stdout",
     "output_type": "stream",
     "text": [
      "Tempo total médio sem PCA: 0.0317365030447642 +- 0.007211407879928582\n",
      "Tempo total médio com PCA: 0.12620155612627665 +- 0.018542676372179878\n"
     ]
    }
   ],
   "source": [
    "print(\"Tempo total médio sem PCA:\", np.mean(arrayTemposSemPCA), \"+-\", np.std(arrayTemposSemPCA))\n",
    "print(\"Tempo total médio com PCA:\", np.mean(arrayTemposComPCA), \"+-\", np.std(arrayTemposComPCA))"
   ]
  },
  {
   "cell_type": "markdown",
   "metadata": {},
   "source": [
    "**Resultado ANTERIOR (SERVIDORA):**\n",
    "\n",
    "Tempo total médio sem PCA: 0.002251005172729492 +- 0.0005577909513149635\n",
    "\n",
    "Tempo total médio com PCA: 0.004084736108779907 +- 0.000670405992919316\n",
    "\n",
    "**Resultado ATUAL (RASPBERRY):**\n",
    "\n",
    "Tempo total médio sem PCA: 0.0317365030447642 +- 0.007211407879928582\n",
    "\n",
    "Tempo total médio com PCA: 0.12620155612627665 +- 0.018542676372179878\n",
    "\n",
    "**Considerações:**\n",
    "\n",
    "Os testes foram realizados na Raspberry em que cada rodada considerou apenas o tempo para:\n",
    "\n",
    "- Aplicar (ou não) o PCA\n",
    "    \n",
    "- Classificar todas as amostras de teste\n",
    "\n",
    "Cada rodada usou apenas um núcleo do processador. NOVAMENTE teste foi repetido 120x para os dois casos (com e sem PCA) para garantir veracidade. O treinamento dos classificadores e o treinamento do PCA não afetou o tempo medido pois essas etapas de \"fit\" foram feitas anteriormente. O cuidado foi para garantir que apenas o tempo da aplicação ou não do PCA + a classificação de novas amostras fosse medido."
   ]
  },
  {
   "cell_type": "code",
   "execution_count": null,
   "metadata": {},
   "outputs": [],
   "source": []
  },
  {
   "cell_type": "markdown",
   "metadata": {},
   "source": [
    "Mas quanto tempo a raspberry demorou pra classificar cada janela, em média?"
   ]
  },
  {
   "cell_type": "code",
   "execution_count": 15,
   "metadata": {
    "scrolled": true
   },
   "outputs": [
    {
     "name": "stdout",
     "output_type": "stream",
     "text": [
      "Quantidade de amostras de teste: 5486\n",
      "Tempo médio para classificar uma única amostra (janela de 200ms): 5.7849987321845055e-06\n"
     ]
    }
   ],
   "source": [
    "print(\"Quantidade de amostras de teste:\", xTest.shape[0])\n",
    "print(\"Tempo médio para classificar uma única amostra (janela de 200ms):\", np.mean(arrayTemposSemPCA)/xTest.shape[0])"
   ]
  },
  {
   "cell_type": "markdown",
   "metadata": {},
   "source": [
    "**Resultado:**\n",
    "    \n",
    "Tempo médio para classificar uma única amostra (janela de 200ms) com a Raspberry: 5.7849987321845055e-06"
   ]
  }
 ],
 "metadata": {
  "kernelspec": {
   "display_name": "Python 3",
   "language": "python",
   "name": "python3"
  },
  "language_info": {
   "codemirror_mode": {
    "name": "ipython",
    "version": 3
   },
   "file_extension": ".py",
   "mimetype": "text/x-python",
   "name": "python",
   "nbconvert_exporter": "python",
   "pygments_lexer": "ipython3",
   "version": "3.5.2"
  }
 },
 "nbformat": 4,
 "nbformat_minor": 4
}
