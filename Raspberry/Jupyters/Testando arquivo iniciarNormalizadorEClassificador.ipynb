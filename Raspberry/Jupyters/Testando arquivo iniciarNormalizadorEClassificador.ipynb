{
 "cells": [
  {
   "cell_type": "markdown",
   "metadata": {},
   "source": [
    "# Testando arquivo iniciarNormalizadorEClassificador.py"
   ]
  },
  {
   "cell_type": "code",
   "execution_count": 27,
   "metadata": {},
   "outputs": [],
   "source": [
    "import sys\n",
    "import os\n",
    "import librosa\n",
    "import numpy as np\n",
    "from sklearn.metrics import classification_report, accuracy_score\n",
    "\n",
    "sys.path.append(\"/home/pi/Programming/IC2019/Raspberry/Python/\")\n",
    "import iniciarNormalizadorEClassificador as IniciarObjetos\n",
    "from extracaoFeatures import extrairFeaturesUnicoFrame as ExtrairFeatures"
   ]
  },
  {
   "cell_type": "markdown",
   "metadata": {},
   "source": [
    "### Parâmetros iniciais"
   ]
  },
  {
   "cell_type": "code",
   "execution_count": 2,
   "metadata": {},
   "outputs": [],
   "source": [
    "caminhoCSV = \"/home/pi/Datasets/SESA_v2_16kHz_16bits_200ms_58features_desescalonado_remocaoSilencio.csv\""
   ]
  },
  {
   "cell_type": "markdown",
   "metadata": {},
   "source": [
    "### Abrindo uma amostra qualquer para usar nas funções"
   ]
  },
  {
   "cell_type": "code",
   "execution_count": 3,
   "metadata": {},
   "outputs": [
    {
     "name": "stdout",
     "output_type": "stream",
     "text": [
      "[ 3.24208923e-02  1.94588040e+03  2.37471514e+03  1.49239842e-02\n",
      "  5.30500000e+03  5.50000000e-02 -2.00031296e+02  9.77755280e+01\n",
      " -1.06894770e+01 -2.01611829e+00 -1.71109142e+01 -2.19862387e-01\n",
      "  1.90394080e+00  6.50283957e+00 -1.11354280e+00  7.64652157e+00\n",
      "  8.73347664e+00  1.32157068e+01  9.47110271e+00  9.41069984e+00\n",
      "  3.49624783e-01 -1.98596454e+00  1.42411518e+00  6.43347073e+00\n",
      "  6.00119352e+00  3.54392695e+00  4.99132156e-01  9.84304965e-01\n",
      "  4.34611797e+00  1.71025887e+01  2.21016521e+01  6.01091337e+00\n",
      "  6.43858337e+00  1.46249735e+00  1.02706611e+00  1.92842752e-01\n",
      "  6.39742166e-02  9.62014049e-02  1.14424638e-01  7.50270486e-02\n",
      "  4.62996736e-02  3.43170501e-02  8.17886554e-03  4.30671172e-03\n",
      "  2.06655473e-03  6.62444334e-04  6.45760894e-01  1.00000000e+00\n",
      "  5.77439785e-01  3.46957266e-01  3.26136768e-01  3.52768868e-01\n",
      "  3.27344149e-01  2.98685074e-01  2.36324087e-01  1.76716790e-01\n",
      "  2.58159935e-01  3.49613786e-01]\n"
     ]
    },
    {
     "name": "stderr",
     "output_type": "stream",
     "text": [
      "/home/pi/.pyenv/versions/3.6.1/envs/venv1/lib/python3.6/site-packages/librosa/core/pitch.py:146: UserWarning: Trying to estimate tuning from empty frequency set.\n",
      "  warnings.warn('Trying to estimate tuning from empty frequency set.')\n"
     ]
    }
   ],
   "source": [
    "caminhoWAV = \"/home/pi/GravacoesReSpeaker/exemplos_amostras_SESA_v2_16kHz_16bits/exemplos_janelados_200ms/casual_000_janela_0.wav\"\n",
    "janelaTeste, freqAmostragem = librosa.load(caminhoWAV, sr=None, mono=True)\n",
    "features = ExtrairFeatures(janelaTeste, freqAmostragem)\n",
    "print(features)"
   ]
  },
  {
   "cell_type": "markdown",
   "metadata": {},
   "source": [
    "### Testando função de carregar o CSV do dataset"
   ]
  },
  {
   "cell_type": "code",
   "execution_count": 4,
   "metadata": {},
   "outputs": [
    {
     "name": "stdout",
     "output_type": "stream",
     "text": [
      "Carregando o CSV do dataset\n",
      "CSV carregado\n",
      "Separando o que é data e target\n"
     ]
    }
   ],
   "source": [
    "data, target = IniciarObjetos.ajustarDatasetTreinamento(caminhoCSV, verbose=True)"
   ]
  },
  {
   "cell_type": "code",
   "execution_count": 5,
   "metadata": {},
   "outputs": [
    {
     "name": "stdout",
     "output_type": "stream",
     "text": [
      "Shape de data: (27388, 58)\n",
      "Shape de target: (27388,)\n",
      "data[0]: [ 7.34559074e-02  2.88635459e+03  1.98360356e+03  7.65674487e-02\n",
      "  5.01500000e+03  1.98437500e-01 -1.53611191e+02  2.47369232e+01\n",
      " -2.52485347e+00  4.94367485e+01 -2.25992317e+01 -6.44298220e+00\n",
      "  2.03035183e+01 -1.08324671e+01 -2.32997952e+01  1.51374407e+01\n",
      " -1.18604288e+01 -5.79318380e+00  4.65480661e+00  1.53133192e+01\n",
      " -5.04918957e+00  5.62928629e+00  1.40653019e+01 -2.00198126e+00\n",
      " -2.84326410e+00  6.73551130e+00  3.42078418e-01  5.36064923e-01\n",
      "  1.31609666e+00  1.69303283e-01  7.10969344e-02  9.29539949e-02\n",
      "  7.92139396e-02  5.02613224e-02  4.02464345e-02  4.30622138e-02\n",
      "  3.15223858e-02  1.36307240e-01  1.76222782e+01  1.33965816e+01\n",
      "  6.98951185e-01  1.65349528e-01  5.96349239e-02  4.39010188e-02\n",
      "  3.84143963e-02  9.28973872e-03  1.03632994e-01  1.11597069e-01\n",
      "  1.35201603e-01  4.00085747e-01  1.00000000e+00  3.70168477e-01\n",
      "  2.58947551e-01  3.07635814e-01  2.55096108e-01  3.76250148e-01\n",
      "  3.52195442e-01  1.43776953e-01]\n",
      "target[0]: casual\n"
     ]
    }
   ],
   "source": [
    "print(\"Shape de data:\", data.shape)\n",
    "print(\"Shape de target:\", target.shape)\n",
    "print(\"data[0]:\", data[0])\n",
    "print(\"target[0]:\", target[0])"
   ]
  },
  {
   "cell_type": "markdown",
   "metadata": {},
   "source": [
    "Como é possível notar, os dados ainda não estão normalizados."
   ]
  },
  {
   "cell_type": "markdown",
   "metadata": {},
   "source": [
    "### Testando função de normalizar os dados"
   ]
  },
  {
   "cell_type": "code",
   "execution_count": 6,
   "metadata": {},
   "outputs": [
    {
     "name": "stdout",
     "output_type": "stream",
     "text": [
      "Iniciando objeto normalizador\n",
      "Treinando objeto normalizador\n",
      "Normalizando os dados de treinamento\n"
     ]
    }
   ],
   "source": [
    "data, objNormalizador = IniciarObjetos.iniciarObjNormalizador(data, verbose=True)"
   ]
  },
  {
   "cell_type": "code",
   "execution_count": 7,
   "metadata": {},
   "outputs": [
    {
     "name": "stdout",
     "output_type": "stream",
     "text": [
      "Média da feature 50: 3.9434239753006875e-17\n",
      "Variância da feature 50: 1.0\n",
      "data[0]: [-0.33112582  1.50464235  0.76666515  1.55935132  1.12251194  2.26840671\n",
      "  0.23651796 -1.20623552  0.21697838  1.44534832 -1.19857567 -0.90755815\n",
      "  1.40224663 -1.37505013 -2.09030165  1.00049822 -1.19271447 -0.89076267\n",
      "  0.55736663  1.62865922 -0.75500007  0.66182695  1.81588613 -0.3688086\n",
      " -0.34118072  0.85995407 -0.34453618 -0.37480176 -0.20978294 -0.24845102\n",
      " -0.18352946 -0.2172329  -0.14596599 -0.20681973 -0.15919216 -0.16661741\n",
      " -0.21226363 -0.19744838  3.2332086   4.07987531  0.25888619 -0.02569611\n",
      " -0.09068982 -0.12045829 -0.08380432 -0.09291587 -1.12388722 -1.10616195\n",
      " -1.03720097 -0.18304356  1.76928952 -0.29924184 -0.67230536 -0.50225601\n",
      " -0.66222797 -0.27493439 -0.35700717 -1.02940126]\n",
      "objNormalizador: StandardScaler()\n"
     ]
    }
   ],
   "source": [
    "i = 50\n",
    "print(\"Média da feature \" + str(i) + \":\", np.mean(data[:,i]))\n",
    "print(\"Variância da feature \" + str(i) + \":\", np.var(data[:,i]))\n",
    "print(\"data[0]:\", data[0])\n",
    "print(\"objNormalizador:\", objNormalizador)"
   ]
  },
  {
   "cell_type": "markdown",
   "metadata": {},
   "source": [
    "Verificando se o objNormalizador veio treinado mesmo"
   ]
  },
  {
   "cell_type": "code",
   "execution_count": 8,
   "metadata": {},
   "outputs": [
    {
     "name": "stdout",
     "output_type": "stream",
     "text": [
      "Features antes: [3.24208923e-02 1.94588040e+03 2.37471514e+03 1.49239842e-02\n",
      " 5.30500000e+03]\n",
      "Features depois: [-0.75113247  0.28634262  1.81311585 -0.19718388  1.31648489]\n"
     ]
    }
   ],
   "source": [
    "print(\"Features antes:\", features[:5])\n",
    "featuresNormalizadas = objNormalizador.transform([features])[0]\n",
    "print(\"Features depois:\", featuresNormalizadas[:5])"
   ]
  },
  {
   "cell_type": "markdown",
   "metadata": {},
   "source": [
    "### Testando função de treinar classificador"
   ]
  },
  {
   "cell_type": "markdown",
   "metadata": {},
   "source": [
    "classificador = None faz com que ele use o SGD com os parâmetros já otimizados."
   ]
  },
  {
   "cell_type": "code",
   "execution_count": 9,
   "metadata": {},
   "outputs": [
    {
     "name": "stdout",
     "output_type": "stream",
     "text": [
      "Instanciando objeto classificador\n",
      "Treinando o classificador\n"
     ]
    }
   ],
   "source": [
    "objClassificador = IniciarObjetos.iniciarObjClassificador(data, target, classificador=None, verbose=True)"
   ]
  },
  {
   "cell_type": "code",
   "execution_count": 10,
   "metadata": {},
   "outputs": [
    {
     "name": "stdout",
     "output_type": "stream",
     "text": [
      "objClassificador: SGDClassifier(loss='log', n_jobs=1, tol=0.0001)\n",
      "Coeficientes atribuídos a cada feature: [-0.20271557  0.09683672  0.19260945 -0.19994933  0.17400266]\n",
      "Classes do objClassificador: ['casual' 'explosion' 'gunshot' 'siren']\n"
     ]
    }
   ],
   "source": [
    "print(\"objClassificador:\", objClassificador)\n",
    "print(\"Coeficientes atribuídos a cada feature:\", objClassificador.coef_[0][:5])\n",
    "print(\"Classes do objClassificador:\", objClassificador.classes_)"
   ]
  },
  {
   "cell_type": "code",
   "execution_count": 11,
   "metadata": {
    "scrolled": true
   },
   "outputs": [
    {
     "name": "stdout",
     "output_type": "stream",
     "text": [
      "Predição com os dados normalizados: siren\n",
      "Predição com os dados não normalizados: siren\n"
     ]
    }
   ],
   "source": [
    "print(\"Predição com os dados normalizados:\", objClassificador.predict([featuresNormalizadas])[0])\n",
    "print(\"Predição com os dados não normalizados:\", objClassificador.predict([features])[0])"
   ]
  },
  {
   "cell_type": "code",
   "execution_count": null,
   "metadata": {},
   "outputs": [],
   "source": []
  },
  {
   "cell_type": "code",
   "execution_count": null,
   "metadata": {},
   "outputs": [],
   "source": []
  },
  {
   "cell_type": "markdown",
   "metadata": {},
   "source": [
    "# Testando a função main"
   ]
  },
  {
   "cell_type": "markdown",
   "metadata": {},
   "source": [
    "Essa é a função que une as anteriores e retorna objClassificador e objNormalizador. Na prática, vamos usar apenas ela, então vou começar as importações novamente."
   ]
  },
  {
   "cell_type": "code",
   "execution_count": 12,
   "metadata": {},
   "outputs": [],
   "source": [
    "del IniciarObjetos\n",
    "from iniciarNormalizadorEClassificador import main as IniciarObjetos"
   ]
  },
  {
   "cell_type": "code",
   "execution_count": 13,
   "metadata": {},
   "outputs": [
    {
     "name": "stdout",
     "output_type": "stream",
     "text": [
      "Carregando o CSV do dataset\n",
      "CSV carregado\n",
      "Separando o que é data e target\n",
      "Iniciando objeto normalizador\n",
      "Treinando objeto normalizador\n",
      "Normalizando os dados de treinamento\n",
      "Instanciando objeto classificador\n",
      "Treinando o classificador\n",
      "objClassificador e objNormalizador prontos: operação finalizada.\n"
     ]
    }
   ],
   "source": [
    "objClassificador, objNormalizador = IniciarObjetos(caminhoCSV, classificador=None, verbose=True)"
   ]
  },
  {
   "cell_type": "markdown",
   "metadata": {},
   "source": [
    "Agora vamos usar os dois objetos pra classificar todos as janelas de exemplo que eu guardei na Raspberry."
   ]
  },
  {
   "cell_type": "code",
   "execution_count": 21,
   "metadata": {},
   "outputs": [
    {
     "name": "stdout",
     "output_type": "stream",
     "text": [
      "0.485% 0.970% 1.456% 1.941% 2.427% 2.912% 3.398% 3.883% 4.368% 4.854% 5.339% 5.825% 6.310% 6.796% 7.281% 7.766% "
     ]
    },
    {
     "name": "stderr",
     "output_type": "stream",
     "text": [
      "/home/pi/.pyenv/versions/3.6.1/envs/venv1/lib/python3.6/site-packages/librosa/core/pitch.py:146: UserWarning: Trying to estimate tuning from empty frequency set.\n",
      "  warnings.warn('Trying to estimate tuning from empty frequency set.')\n",
      "/home/pi/.pyenv/versions/3.6.1/envs/venv1/lib/python3.6/site-packages/librosa/core/pitch.py:146: UserWarning: Trying to estimate tuning from empty frequency set.\n",
      "  warnings.warn('Trying to estimate tuning from empty frequency set.')\n"
     ]
    },
    {
     "name": "stdout",
     "output_type": "stream",
     "text": [
      "8.252% 8.737% 9.223% 9.708% 10.19% 10.67% 11.16% 11.65% 12.13% 12.62% "
     ]
    },
    {
     "name": "stderr",
     "output_type": "stream",
     "text": [
      "/home/pi/.pyenv/versions/3.6.1/envs/venv1/lib/python3.6/site-packages/librosa/core/pitch.py:146: UserWarning: Trying to estimate tuning from empty frequency set.\n",
      "  warnings.warn('Trying to estimate tuning from empty frequency set.')\n"
     ]
    },
    {
     "name": "stdout",
     "output_type": "stream",
     "text": [
      "13.10% 13.59% 14.07% 14.56% 15.04% 15.53% "
     ]
    },
    {
     "name": "stderr",
     "output_type": "stream",
     "text": [
      "/home/pi/.pyenv/versions/3.6.1/envs/venv1/lib/python3.6/site-packages/librosa/core/pitch.py:146: UserWarning: Trying to estimate tuning from empty frequency set.\n",
      "  warnings.warn('Trying to estimate tuning from empty frequency set.')\n"
     ]
    },
    {
     "name": "stdout",
     "output_type": "stream",
     "text": [
      "16.01% 16.50% 16.99% 17.47% 17.96% 18.44% 18.93% 19.41% "
     ]
    },
    {
     "name": "stderr",
     "output_type": "stream",
     "text": [
      "/home/pi/.pyenv/versions/3.6.1/envs/venv1/lib/python3.6/site-packages/librosa/core/pitch.py:146: UserWarning: Trying to estimate tuning from empty frequency set.\n",
      "  warnings.warn('Trying to estimate tuning from empty frequency set.')\n"
     ]
    },
    {
     "name": "stdout",
     "output_type": "stream",
     "text": [
      "19.90% 20.38% 20.87% 21.35% 21.84% 22.33% 22.81% 23.30% "
     ]
    },
    {
     "name": "stderr",
     "output_type": "stream",
     "text": [
      "/home/pi/.pyenv/versions/3.6.1/envs/venv1/lib/python3.6/site-packages/librosa/core/pitch.py:146: UserWarning: Trying to estimate tuning from empty frequency set.\n",
      "  warnings.warn('Trying to estimate tuning from empty frequency set.')\n"
     ]
    },
    {
     "name": "stdout",
     "output_type": "stream",
     "text": [
      "23.78% 24.27% "
     ]
    },
    {
     "name": "stderr",
     "output_type": "stream",
     "text": [
      "/home/pi/.pyenv/versions/3.6.1/envs/venv1/lib/python3.6/site-packages/librosa/core/pitch.py:146: UserWarning: Trying to estimate tuning from empty frequency set.\n",
      "  warnings.warn('Trying to estimate tuning from empty frequency set.')\n"
     ]
    },
    {
     "name": "stdout",
     "output_type": "stream",
     "text": [
      "24.75% 25.24% 25.72% 26.21% 26.69% 27.18% 27.66% 28.15% 28.64% 29.12% "
     ]
    },
    {
     "name": "stderr",
     "output_type": "stream",
     "text": [
      "/home/pi/.pyenv/versions/3.6.1/envs/venv1/lib/python3.6/site-packages/librosa/core/pitch.py:146: UserWarning: Trying to estimate tuning from empty frequency set.\n",
      "  warnings.warn('Trying to estimate tuning from empty frequency set.')\n"
     ]
    },
    {
     "name": "stdout",
     "output_type": "stream",
     "text": [
      "29.61% 30.09% "
     ]
    },
    {
     "name": "stderr",
     "output_type": "stream",
     "text": [
      "/home/pi/.pyenv/versions/3.6.1/envs/venv1/lib/python3.6/site-packages/librosa/core/pitch.py:146: UserWarning: Trying to estimate tuning from empty frequency set.\n",
      "  warnings.warn('Trying to estimate tuning from empty frequency set.')\n"
     ]
    },
    {
     "name": "stdout",
     "output_type": "stream",
     "text": [
      "30.58% 31.06% 31.55% 32.03% 32.52% 33.00% "
     ]
    },
    {
     "name": "stderr",
     "output_type": "stream",
     "text": [
      "/home/pi/.pyenv/versions/3.6.1/envs/venv1/lib/python3.6/site-packages/librosa/core/pitch.py:146: UserWarning: Trying to estimate tuning from empty frequency set.\n",
      "  warnings.warn('Trying to estimate tuning from empty frequency set.')\n"
     ]
    },
    {
     "name": "stdout",
     "output_type": "stream",
     "text": [
      "33.49% 33.98% 34.46% 34.95% 35.43% 35.92% 36.40% 36.89% 37.37% 37.86% "
     ]
    },
    {
     "name": "stderr",
     "output_type": "stream",
     "text": [
      "/home/pi/.pyenv/versions/3.6.1/envs/venv1/lib/python3.6/site-packages/librosa/core/pitch.py:146: UserWarning: Trying to estimate tuning from empty frequency set.\n",
      "  warnings.warn('Trying to estimate tuning from empty frequency set.')\n"
     ]
    },
    {
     "name": "stdout",
     "output_type": "stream",
     "text": [
      "38.34% 38.83% 39.32% 39.80% 40.29% 40.77% 41.26% 41.74% 42.23% 42.71% 43.20% 43.68% 44.17% 44.66% 45.14% 45.63% 46.11% 46.60% "
     ]
    },
    {
     "name": "stderr",
     "output_type": "stream",
     "text": [
      "/home/pi/.pyenv/versions/3.6.1/envs/venv1/lib/python3.6/site-packages/librosa/core/pitch.py:146: UserWarning: Trying to estimate tuning from empty frequency set.\n",
      "  warnings.warn('Trying to estimate tuning from empty frequency set.')\n"
     ]
    },
    {
     "name": "stdout",
     "output_type": "stream",
     "text": [
      "47.08% 47.57% 48.05% 48.54% "
     ]
    },
    {
     "name": "stderr",
     "output_type": "stream",
     "text": [
      "/home/pi/.pyenv/versions/3.6.1/envs/venv1/lib/python3.6/site-packages/librosa/core/pitch.py:146: UserWarning: Trying to estimate tuning from empty frequency set.\n",
      "  warnings.warn('Trying to estimate tuning from empty frequency set.')\n",
      "/home/pi/.pyenv/versions/3.6.1/envs/venv1/lib/python3.6/site-packages/librosa/core/pitch.py:146: UserWarning: Trying to estimate tuning from empty frequency set.\n",
      "  warnings.warn('Trying to estimate tuning from empty frequency set.')\n"
     ]
    },
    {
     "name": "stdout",
     "output_type": "stream",
     "text": [
      "49.02% 49.51% 50.0% 50.48% 50.97% 51.45% 51.94% 52.42% "
     ]
    },
    {
     "name": "stderr",
     "output_type": "stream",
     "text": [
      "/home/pi/.pyenv/versions/3.6.1/envs/venv1/lib/python3.6/site-packages/librosa/core/pitch.py:146: UserWarning: Trying to estimate tuning from empty frequency set.\n",
      "  warnings.warn('Trying to estimate tuning from empty frequency set.')\n",
      "/home/pi/.pyenv/versions/3.6.1/envs/venv1/lib/python3.6/site-packages/librosa/core/pitch.py:146: UserWarning: Trying to estimate tuning from empty frequency set.\n",
      "  warnings.warn('Trying to estimate tuning from empty frequency set.')\n"
     ]
    },
    {
     "name": "stdout",
     "output_type": "stream",
     "text": [
      "52.91% 53.39% 53.88% 54.36% "
     ]
    },
    {
     "name": "stderr",
     "output_type": "stream",
     "text": [
      "/home/pi/.pyenv/versions/3.6.1/envs/venv1/lib/python3.6/site-packages/librosa/core/pitch.py:146: UserWarning: Trying to estimate tuning from empty frequency set.\n",
      "  warnings.warn('Trying to estimate tuning from empty frequency set.')\n"
     ]
    },
    {
     "name": "stdout",
     "output_type": "stream",
     "text": [
      "54.85% 55.33% 55.82% 56.31% 56.79% 57.28% 57.76% 58.25% "
     ]
    },
    {
     "name": "stderr",
     "output_type": "stream",
     "text": [
      "/home/pi/.pyenv/versions/3.6.1/envs/venv1/lib/python3.6/site-packages/librosa/core/pitch.py:146: UserWarning: Trying to estimate tuning from empty frequency set.\n",
      "  warnings.warn('Trying to estimate tuning from empty frequency set.')\n"
     ]
    },
    {
     "name": "stdout",
     "output_type": "stream",
     "text": [
      "58.73% 59.22% 59.70% 60.19% 60.67% 61.16% 61.65% 62.13% "
     ]
    },
    {
     "name": "stderr",
     "output_type": "stream",
     "text": [
      "/home/pi/.pyenv/versions/3.6.1/envs/venv1/lib/python3.6/site-packages/librosa/core/pitch.py:146: UserWarning: Trying to estimate tuning from empty frequency set.\n",
      "  warnings.warn('Trying to estimate tuning from empty frequency set.')\n"
     ]
    },
    {
     "name": "stdout",
     "output_type": "stream",
     "text": [
      "62.62% 63.10% 63.59% 64.07% "
     ]
    },
    {
     "name": "stderr",
     "output_type": "stream",
     "text": [
      "/home/pi/.pyenv/versions/3.6.1/envs/venv1/lib/python3.6/site-packages/librosa/core/pitch.py:146: UserWarning: Trying to estimate tuning from empty frequency set.\n",
      "  warnings.warn('Trying to estimate tuning from empty frequency set.')\n"
     ]
    },
    {
     "name": "stdout",
     "output_type": "stream",
     "text": [
      "64.56% 65.04% 65.53% 66.01% "
     ]
    },
    {
     "name": "stderr",
     "output_type": "stream",
     "text": [
      "/home/pi/.pyenv/versions/3.6.1/envs/venv1/lib/python3.6/site-packages/librosa/core/pitch.py:146: UserWarning: Trying to estimate tuning from empty frequency set.\n",
      "  warnings.warn('Trying to estimate tuning from empty frequency set.')\n",
      "/home/pi/.pyenv/versions/3.6.1/envs/venv1/lib/python3.6/site-packages/librosa/core/pitch.py:146: UserWarning: Trying to estimate tuning from empty frequency set.\n",
      "  warnings.warn('Trying to estimate tuning from empty frequency set.')\n"
     ]
    },
    {
     "name": "stdout",
     "output_type": "stream",
     "text": [
      "66.50% 66.99% "
     ]
    },
    {
     "name": "stderr",
     "output_type": "stream",
     "text": [
      "/home/pi/.pyenv/versions/3.6.1/envs/venv1/lib/python3.6/site-packages/librosa/core/pitch.py:146: UserWarning: Trying to estimate tuning from empty frequency set.\n",
      "  warnings.warn('Trying to estimate tuning from empty frequency set.')\n"
     ]
    },
    {
     "name": "stdout",
     "output_type": "stream",
     "text": [
      "67.47% 67.96% "
     ]
    },
    {
     "name": "stderr",
     "output_type": "stream",
     "text": [
      "/home/pi/.pyenv/versions/3.6.1/envs/venv1/lib/python3.6/site-packages/librosa/core/pitch.py:146: UserWarning: Trying to estimate tuning from empty frequency set.\n",
      "  warnings.warn('Trying to estimate tuning from empty frequency set.')\n",
      "/home/pi/.pyenv/versions/3.6.1/envs/venv1/lib/python3.6/site-packages/librosa/core/pitch.py:146: UserWarning: Trying to estimate tuning from empty frequency set.\n",
      "  warnings.warn('Trying to estimate tuning from empty frequency set.')\n"
     ]
    },
    {
     "name": "stdout",
     "output_type": "stream",
     "text": [
      "68.44% 68.93% "
     ]
    },
    {
     "name": "stderr",
     "output_type": "stream",
     "text": [
      "/home/pi/.pyenv/versions/3.6.1/envs/venv1/lib/python3.6/site-packages/librosa/core/pitch.py:146: UserWarning: Trying to estimate tuning from empty frequency set.\n",
      "  warnings.warn('Trying to estimate tuning from empty frequency set.')\n"
     ]
    },
    {
     "name": "stdout",
     "output_type": "stream",
     "text": [
      "69.41% 69.90% 70.38% 70.87% "
     ]
    },
    {
     "name": "stderr",
     "output_type": "stream",
     "text": [
      "/home/pi/.pyenv/versions/3.6.1/envs/venv1/lib/python3.6/site-packages/librosa/core/pitch.py:146: UserWarning: Trying to estimate tuning from empty frequency set.\n",
      "  warnings.warn('Trying to estimate tuning from empty frequency set.')\n"
     ]
    },
    {
     "name": "stdout",
     "output_type": "stream",
     "text": [
      "71.35% 71.84% "
     ]
    },
    {
     "name": "stderr",
     "output_type": "stream",
     "text": [
      "/home/pi/.pyenv/versions/3.6.1/envs/venv1/lib/python3.6/site-packages/librosa/core/pitch.py:146: UserWarning: Trying to estimate tuning from empty frequency set.\n",
      "  warnings.warn('Trying to estimate tuning from empty frequency set.')\n"
     ]
    },
    {
     "name": "stdout",
     "output_type": "stream",
     "text": [
      "72.33% 72.81% 73.30% 73.78% "
     ]
    },
    {
     "name": "stderr",
     "output_type": "stream",
     "text": [
      "/home/pi/.pyenv/versions/3.6.1/envs/venv1/lib/python3.6/site-packages/librosa/core/pitch.py:146: UserWarning: Trying to estimate tuning from empty frequency set.\n",
      "  warnings.warn('Trying to estimate tuning from empty frequency set.')\n",
      "/home/pi/.pyenv/versions/3.6.1/envs/venv1/lib/python3.6/site-packages/librosa/core/pitch.py:146: UserWarning: Trying to estimate tuning from empty frequency set.\n",
      "  warnings.warn('Trying to estimate tuning from empty frequency set.')\n"
     ]
    },
    {
     "name": "stdout",
     "output_type": "stream",
     "text": [
      "74.27% 74.75% "
     ]
    },
    {
     "name": "stderr",
     "output_type": "stream",
     "text": [
      "/home/pi/.pyenv/versions/3.6.1/envs/venv1/lib/python3.6/site-packages/librosa/core/pitch.py:146: UserWarning: Trying to estimate tuning from empty frequency set.\n",
      "  warnings.warn('Trying to estimate tuning from empty frequency set.')\n"
     ]
    },
    {
     "name": "stdout",
     "output_type": "stream",
     "text": [
      "75.24% 75.72% 76.21% 76.69% "
     ]
    },
    {
     "name": "stderr",
     "output_type": "stream",
     "text": [
      "/home/pi/.pyenv/versions/3.6.1/envs/venv1/lib/python3.6/site-packages/librosa/core/pitch.py:146: UserWarning: Trying to estimate tuning from empty frequency set.\n",
      "  warnings.warn('Trying to estimate tuning from empty frequency set.')\n"
     ]
    },
    {
     "name": "stdout",
     "output_type": "stream",
     "text": [
      "77.18% 77.66% "
     ]
    },
    {
     "name": "stderr",
     "output_type": "stream",
     "text": [
      "/home/pi/.pyenv/versions/3.6.1/envs/venv1/lib/python3.6/site-packages/librosa/core/pitch.py:146: UserWarning: Trying to estimate tuning from empty frequency set.\n",
      "  warnings.warn('Trying to estimate tuning from empty frequency set.')\n"
     ]
    },
    {
     "name": "stdout",
     "output_type": "stream",
     "text": [
      "78.15% 78.64% 79.12% 79.61% 80.09% 80.58% 81.06% 81.55% "
     ]
    },
    {
     "name": "stderr",
     "output_type": "stream",
     "text": [
      "/home/pi/.pyenv/versions/3.6.1/envs/venv1/lib/python3.6/site-packages/librosa/core/pitch.py:146: UserWarning: Trying to estimate tuning from empty frequency set.\n",
      "  warnings.warn('Trying to estimate tuning from empty frequency set.')\n"
     ]
    },
    {
     "name": "stdout",
     "output_type": "stream",
     "text": [
      "82.03% 82.52% "
     ]
    },
    {
     "name": "stderr",
     "output_type": "stream",
     "text": [
      "/home/pi/.pyenv/versions/3.6.1/envs/venv1/lib/python3.6/site-packages/librosa/core/pitch.py:146: UserWarning: Trying to estimate tuning from empty frequency set.\n",
      "  warnings.warn('Trying to estimate tuning from empty frequency set.')\n"
     ]
    },
    {
     "name": "stdout",
     "output_type": "stream",
     "text": [
      "83.00% 83.49% "
     ]
    },
    {
     "name": "stderr",
     "output_type": "stream",
     "text": [
      "/home/pi/.pyenv/versions/3.6.1/envs/venv1/lib/python3.6/site-packages/librosa/core/pitch.py:146: UserWarning: Trying to estimate tuning from empty frequency set.\n",
      "  warnings.warn('Trying to estimate tuning from empty frequency set.')\n"
     ]
    },
    {
     "name": "stdout",
     "output_type": "stream",
     "text": [
      "83.98% 84.46% 84.95% 85.43% 85.92% 86.40% 86.89% 87.37% 87.86% 88.34% "
     ]
    },
    {
     "name": "stderr",
     "output_type": "stream",
     "text": [
      "/home/pi/.pyenv/versions/3.6.1/envs/venv1/lib/python3.6/site-packages/librosa/core/pitch.py:146: UserWarning: Trying to estimate tuning from empty frequency set.\n",
      "  warnings.warn('Trying to estimate tuning from empty frequency set.')\n"
     ]
    },
    {
     "name": "stdout",
     "output_type": "stream",
     "text": [
      "88.83% 89.32% 89.80% 90.29% 90.77% 91.26% 91.74% 92.23% 92.71% 93.20% 93.68% 94.17% 94.66% 95.14% "
     ]
    },
    {
     "name": "stderr",
     "output_type": "stream",
     "text": [
      "/home/pi/.pyenv/versions/3.6.1/envs/venv1/lib/python3.6/site-packages/librosa/core/pitch.py:146: UserWarning: Trying to estimate tuning from empty frequency set.\n",
      "  warnings.warn('Trying to estimate tuning from empty frequency set.')\n",
      "/home/pi/.pyenv/versions/3.6.1/envs/venv1/lib/python3.6/site-packages/librosa/core/pitch.py:146: UserWarning: Trying to estimate tuning from empty frequency set.\n",
      "  warnings.warn('Trying to estimate tuning from empty frequency set.')\n"
     ]
    },
    {
     "name": "stdout",
     "output_type": "stream",
     "text": [
      "95.63% 96.11% 96.60% 97.08% 97.57% 98.05% "
     ]
    },
    {
     "name": "stderr",
     "output_type": "stream",
     "text": [
      "/home/pi/.pyenv/versions/3.6.1/envs/venv1/lib/python3.6/site-packages/librosa/core/pitch.py:146: UserWarning: Trying to estimate tuning from empty frequency set.\n",
      "  warnings.warn('Trying to estimate tuning from empty frequency set.')\n",
      "/home/pi/.pyenv/versions/3.6.1/envs/venv1/lib/python3.6/site-packages/librosa/core/pitch.py:146: UserWarning: Trying to estimate tuning from empty frequency set.\n",
      "  warnings.warn('Trying to estimate tuning from empty frequency set.')\n"
     ]
    },
    {
     "name": "stdout",
     "output_type": "stream",
     "text": [
      "98.54% 99.02% 99.51% 100.0% "
     ]
    }
   ],
   "source": [
    "dirOrigem = \"/home/pi/GravacoesReSpeaker/exemplos_amostras_SESA_v2_16kHz_16bits/exemplos_janelados_200ms/\"\n",
    "\n",
    "# PARA CADA JANELA DE 200MS\n",
    "yPred    = []\n",
    "yTest    = []\n",
    "arquivos = os.listdir(dirOrigem)\n",
    "for i, arquivoAtual in enumerate(arquivos):\n",
    "    \n",
    "    # LENDO O WAV COM O LIBROSA\n",
    "    janelaTeste, freqAmostragem = librosa.load(dirOrigem + arquivoAtual, sr=None, mono=True)\n",
    "\n",
    "    # EXTRAINDO AS FEATURES\n",
    "    features = ExtrairFeatures(janelaTeste, freqAmostragem)\n",
    "    \n",
    "    # NORMALIZANDO AS FEATURES\n",
    "    features = objNormalizador.transform([features])[0]\n",
    "    \n",
    "    # PREDIZENDO\n",
    "    predicao = objClassificador.predict([features])[0]\n",
    "    \n",
    "    # GUARDANDO A PREDICAO E O Y REAL NOS ARRAYS\n",
    "    yPred.append(predicao)\n",
    "    yTest.append(arquivoAtual.split(\"_\")[0])\n",
    "    \n",
    "    # PROGRESSO\n",
    "    print(str(100*(i+1)/(len(arquivos)))[:5]+\"%\", end=\" \")"
   ]
  },
  {
   "cell_type": "code",
   "execution_count": 31,
   "metadata": {},
   "outputs": [
    {
     "name": "stdout",
     "output_type": "stream",
     "text": [
      "Acurácia: 0.7766990291262136\n",
      "\n",
      "Classification Report:\n",
      "               precision    recall  f1-score   support\n",
      "\n",
      "      casual       0.00      0.00      0.00         9\n",
      "   explosion       1.00      0.71      0.83        45\n",
      "     gunshot       0.35      0.23      0.27        31\n",
      "       siren       0.93      1.00      0.96       121\n",
      "\n",
      "    accuracy                           0.78       206\n",
      "   macro avg       0.57      0.48      0.52       206\n",
      "weighted avg       0.82      0.78      0.79       206\n",
      "\n"
     ]
    }
   ],
   "source": [
    "print(\"Acurácia:\", accuracy_score(yTest, yPred))\n",
    "print(\"\\nClassification Report:\\n\", classification_report(yTest, yPred))"
   ]
  }
 ],
 "metadata": {
  "kernelspec": {
   "display_name": "Python 3",
   "language": "python",
   "name": "python3"
  },
  "language_info": {
   "codemirror_mode": {
    "name": "ipython",
    "version": 3
   },
   "file_extension": ".py",
   "mimetype": "text/x-python",
   "name": "python",
   "nbconvert_exporter": "python",
   "pygments_lexer": "ipython3",
   "version": "3.6.1"
  }
 },
 "nbformat": 4,
 "nbformat_minor": 4
}
