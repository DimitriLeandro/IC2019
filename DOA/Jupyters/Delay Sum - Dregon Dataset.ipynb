{
 "cells": [
  {
   "cell_type": "markdown",
   "metadata": {},
   "source": [
    "# DELAY SUM - DREGON DATASET"
   ]
  },
  {
   "cell_type": "markdown",
   "metadata": {},
   "source": [
    "A ideia desse Jupyter é usar o dataset Dregon para aplicar o algoritmo Delay Sum.\n",
    "Segundo o dataset, http://dregon.inria.fr/datasets/dregon/, as coordenadas X, Y e Z em metros dos oito microfones são:\n",
    "\n",
    "mic0 = [0.0420, 0.0615, -0.0410]\n",
    "\n",
    "mic1 = [-0.0420, 0.0615, 0.0410]\n",
    "\n",
    "mic2 = [-0.0615, 0.0420, -0.0410]\n",
    "\n",
    "mic3 = [-0.0615, -0.0420, 0.0410]\n",
    "\n",
    "mic4 = [-0.0420, -0.0615, -0.0410]\n",
    "\n",
    "mic5 = [0.0420, -0.0615, 0.0410]\n",
    "\n",
    "mic6 = [0.0615, -0.0420, -0.0410]\n",
    "\n",
    "mic7 = [0.0615, 0.0420, 0.0410]\n",
    "\n",
    "Para fazer uma configuração semelhante ao ReSpeaker 4-Mic-Array, vou utilizar apenas quatro microfones com o mesmo valor no eixo Z, mic1, mic3, mic5 e mic7."
   ]
  },
  {
   "cell_type": "code",
   "execution_count": 1,
   "metadata": {},
   "outputs": [],
   "source": [
    "import librosa\n",
    "import matplotlib.pyplot as plt\n",
    "from IPython.display import Audio\n",
    "import math\n",
    "import numpy as np"
   ]
  },
  {
   "cell_type": "markdown",
   "metadata": {},
   "source": [
    "### Importando um áudio qualquer"
   ]
  },
  {
   "cell_type": "markdown",
   "metadata": {},
   "source": [
    "Segundo o dataset, os áudios são nomeados como se segue:\n",
    "\n",
    "XX_YY_ZZ.wav where XX denotes the relative azimuth, YY the relative elevation and ZZ the relative distance of the loudspeaker from the array.\n",
    "\n",
    "O dataset foi gravado com 44100 Hz, e, como o librosa importa os áudios sempre com 22kHz, é preciso colocar sr=None como parâmetro adicional da função abaixo."
   ]
  },
  {
   "cell_type": "code",
   "execution_count": null,
   "metadata": {},
   "outputs": [],
   "source": [
    "originalAudio, freqAmostragem = librosa.load('/home/dimi/Downloads/DREGON_clean_recordings_speech/60_-30_1.2__1.wav', sr=None, mono=False)"
   ]
  },
  {
   "cell_type": "code",
   "execution_count": null,
   "metadata": {},
   "outputs": [],
   "source": [
    "freqAmostragem"
   ]
  },
  {
   "cell_type": "markdown",
   "metadata": {},
   "source": [
    "Ouvindo os microfones que serão utilizados (mesmo eixo Z):"
   ]
  },
  {
   "cell_type": "code",
   "execution_count": null,
   "metadata": {},
   "outputs": [],
   "source": [
    "Audio(data=originalAudio[1], rate=freqAmostragem)"
   ]
  },
  {
   "cell_type": "code",
   "execution_count": null,
   "metadata": {},
   "outputs": [],
   "source": [
    "Audio(data=originalAudio[3], rate=freqAmostragem)"
   ]
  },
  {
   "cell_type": "code",
   "execution_count": null,
   "metadata": {},
   "outputs": [],
   "source": [
    "Audio(data=originalAudio[5], rate=freqAmostragem)"
   ]
  },
  {
   "cell_type": "code",
   "execution_count": null,
   "metadata": {},
   "outputs": [],
   "source": [
    "Audio(data=originalAudio[7], rate=freqAmostragem)"
   ]
  },
  {
   "cell_type": "markdown",
   "metadata": {},
   "source": [
    "### Função para verificar o delay entre dois sinais pela correlação"
   ]
  },
  {
   "cell_type": "markdown",
   "metadata": {},
   "source": [
    "Essa função foi copiada e colada do algoritmo que já havia sido desenvolvido antes. É preciso mandar o argumento maxDelay, que é a quantidade de amostras contidas no maior delay possível entre dois microfones quaisquer."
   ]
  },
  {
   "cell_type": "code",
   "execution_count": 2,
   "metadata": {},
   "outputs": [],
   "source": [
    "def verificarDelay(sinalA, sinalB, maxDelay=15, verbose=False):\n",
    "    \n",
    "    # Verificando se os dois sinais tem o mesmo tamanho e se maxDelay é compatível\n",
    "    if len(sinalA) != len(sinalB) or maxDelay >= len(sinalA)-1 :\n",
    "        return False\n",
    "    \n",
    "    # Sei que o maior delay possível (em qtd de amostras) é maxDelay. Portanto, em cada iteração, \n",
    "    # a comparação entre os sinais para gerar a correlação se dará com arrays de tamanho \n",
    "    # len(sinal) - maxDelay\n",
    "    tamanho = len(sinalA) - maxDelay\n",
    "    \n",
    "    # O delay será a qtd de amostras pra trás ou para frente que há\n",
    "    # entre o sinal B em relação ao sinal A. Negativo significa que B está adiantado, 0 que não há\n",
    "    # delay e positivo que está atrasado.\n",
    "    delay = 0\n",
    "    melhorCorrelacao = -1\n",
    "    arrayCorrelacoes = []\n",
    "    \n",
    "    inicioA = 0\n",
    "    fimA    = inicioA + tamanho\n",
    "    inicioB = len(sinalB) - tamanho\n",
    "    fimB    = inicioB + tamanho\n",
    "    \n",
    "    # Fazendo as iterações e calculando a correlação entre os sinais\n",
    "    for i in range(-maxDelay, maxDelay+1):\n",
    "        \n",
    "        # Calculando a correlação da iteração atual\n",
    "        corrAtual = np.corrcoef(sinalA[inicioA:fimA], sinalB[inicioB:fimB])[0][1]\n",
    "        \n",
    "        # Verificando se encontramos uma correlacao maior ainda para atualizar o delay\n",
    "        if corrAtual > melhorCorrelacao:\n",
    "            melhorCorrelacao = corrAtual\n",
    "            delay = -i\n",
    "        \n",
    "        # Printando as iterações se verbose estiver ligado\n",
    "        if verbose == True:\n",
    "            arrayCorrelacoes.append(corrAtual)\n",
    "            plt.title(\"Delay \" + str(i))\n",
    "            plt.plot(sinalA[inicioA:fimA])\n",
    "            plt.plot(sinalB[inicioB:fimB])\n",
    "            plt.show()\n",
    "            print(\"Sinal A:\", int(inicioA), \"até\", int(fimA))\n",
    "            print(\"Sinal B:\", int(inicioB), \"até\", int(fimB))\n",
    "            print(\"Correlação Atual:\", corrAtual)\n",
    "            print(\"Melhor Correlação:\", melhorCorrelacao, \"(Delay \" + str(delay) + \")\\n\\n\\n\")\n",
    "            \n",
    "        # Fazendo os indexes dos arrays da próxima iteração. De i = -maxDelay até 0, o Sinal A \n",
    "        # fica parado e o Sinal B vem vindo pra trás. A partir de i = 1 até maxDelay, o Sinal B\n",
    "        # fica parado e o Sinal A vai embora.\n",
    "        if i < 0:\n",
    "            inicioB -= 1\n",
    "            fimB     = inicioB + tamanho\n",
    "        else:\n",
    "            inicioA += 1\n",
    "            fimA     = inicioA + tamanho\n",
    "         \n",
    "    # Se o verbose estiver ligado eu printo as correlações em função do delay tb\n",
    "    if verbose == True:\n",
    "        plt.title(\"Correlações em função dos delays\")\n",
    "        plt.plot(arrayCorrelacoes)\n",
    "        plt.show()\n",
    "    \n",
    "    # Retornando o delay\n",
    "    return -delay"
   ]
  },
  {
   "cell_type": "markdown",
   "metadata": {},
   "source": [
    "A função definirDelayMaximo pode calcular a quantidade de amostras do maior delay possível entre dois microfones. Basta enviar o tamanho do lado do array quadrado."
   ]
  },
  {
   "cell_type": "code",
   "execution_count": 10,
   "metadata": {},
   "outputs": [],
   "source": [
    "def definirDelayMaximo(freqAmostragem, L, velocidadeSom=340):\n",
    "    \n",
    "    # O delay máximo (em qtd de amostras) dar-se-á na diagonal dos microfones\n",
    "    diagonal     = math.sqrt(2 * (L**2))\n",
    "    tempo        = diagonal / velocidadeSom\n",
    "    qtdAmostras  = freqAmostragem * tempo\n",
    "    \n",
    "    # Adicionando mais 1 amostra pra garantir\n",
    "    return int(qtdAmostras + 1)"
   ]
  },
  {
   "cell_type": "markdown",
   "metadata": {},
   "source": [
    "### Verificando o funcionamento da função calculando o delay entre os microfones"
   ]
  },
  {
   "cell_type": "markdown",
   "metadata": {},
   "source": [
    "A grande cagada é que cada microfone está numa aresta diferente do quadrado. Talvez seja necessário fazer uma troca de base, mas por enquanto da pra calcular o tamanho da aresta de boas."
   ]
  },
  {
   "cell_type": "code",
   "execution_count": 5,
   "metadata": {},
   "outputs": [
    {
     "ename": "NameError",
     "evalue": "name 'freqAmostragem' is not defined",
     "output_type": "error",
     "traceback": [
      "\u001b[0;31m---------------------------------------------------------------------------\u001b[0m",
      "\u001b[0;31mNameError\u001b[0m                                 Traceback (most recent call last)",
      "\u001b[0;32m<ipython-input-5-2fddd41a7317>\u001b[0m in \u001b[0;36m<module>\u001b[0;34m\u001b[0m\n\u001b[1;32m      7\u001b[0m \u001b[0mtamanhoLado\u001b[0m \u001b[0;34m=\u001b[0m \u001b[0mmath\u001b[0m\u001b[0;34m.\u001b[0m\u001b[0msqrt\u001b[0m\u001b[0;34m(\u001b[0m\u001b[0mvetorLado\u001b[0m\u001b[0;34m[\u001b[0m\u001b[0;36m0\u001b[0m\u001b[0;34m]\u001b[0m\u001b[0;34m**\u001b[0m\u001b[0;36m2\u001b[0m \u001b[0;34m+\u001b[0m \u001b[0mvetorLado\u001b[0m\u001b[0;34m[\u001b[0m\u001b[0;36m1\u001b[0m\u001b[0;34m]\u001b[0m\u001b[0;34m**\u001b[0m\u001b[0;36m2\u001b[0m\u001b[0;34m)\u001b[0m\u001b[0;34m\u001b[0m\u001b[0;34m\u001b[0m\u001b[0m\n\u001b[1;32m      8\u001b[0m \u001b[0;34m\u001b[0m\u001b[0m\n\u001b[0;32m----> 9\u001b[0;31m \u001b[0mdelayMax\u001b[0m \u001b[0;34m=\u001b[0m \u001b[0mdefinirDelayMaximo\u001b[0m\u001b[0;34m(\u001b[0m\u001b[0mfreqAmostragem\u001b[0m\u001b[0;34m,\u001b[0m \u001b[0mL\u001b[0m\u001b[0;34m=\u001b[0m\u001b[0mtamanhoLado\u001b[0m\u001b[0;34m)\u001b[0m\u001b[0;34m\u001b[0m\u001b[0;34m\u001b[0m\u001b[0m\n\u001b[0m\u001b[1;32m     10\u001b[0m \u001b[0mprint\u001b[0m\u001b[0;34m(\u001b[0m\u001b[0mdelayMax\u001b[0m\u001b[0;34m)\u001b[0m\u001b[0;34m\u001b[0m\u001b[0;34m\u001b[0m\u001b[0m\n",
      "\u001b[0;31mNameError\u001b[0m: name 'freqAmostragem' is not defined"
     ]
    }
   ],
   "source": [
    "coordenadasMic1 = [-0.0420, 0.0615]\n",
    "coordenadasMic3 = [-0.0615, -0.0420]\n",
    "coordenadasMic5 = [0.0420, -0.0615]\n",
    "coordenadasMic7 = [0.0615, 0.0420]\n",
    "\n",
    "vetorLado = [coordenadasMic1[0] - coordenadasMic3[0], coordenadasMic1[1] - coordenadasMic3[1]]\n",
    "tamanhoLado = math.sqrt(vetorLado[0]**2 + vetorLado[1]**2)\n",
    "\n",
    "delayMax = definirDelayMaximo(freqAmostragem, L=tamanhoLado)\n",
    "print(delayMax)"
   ]
  },
  {
   "cell_type": "markdown",
   "metadata": {},
   "source": [
    "Mostrando como a função faz o cálculo:"
   ]
  },
  {
   "cell_type": "code",
   "execution_count": null,
   "metadata": {},
   "outputs": [],
   "source": [
    "verificarDelay(originalAudio[1], originalAudio[3], maxDelay=delayMax, verbose=True)"
   ]
  },
  {
   "cell_type": "markdown",
   "metadata": {},
   "source": [
    "Calculando o delay entre os microfones tendo o mic1 como referência."
   ]
  },
  {
   "cell_type": "code",
   "execution_count": null,
   "metadata": {
    "scrolled": true
   },
   "outputs": [],
   "source": [
    "delay13 = verificarDelay(originalAudio[1], originalAudio[3], maxDelay=delayMax)\n",
    "delay15 = verificarDelay(originalAudio[1], originalAudio[5], maxDelay=delayMax)\n",
    "delay17 = verificarDelay(originalAudio[1], originalAudio[7], maxDelay=delayMax)\n",
    "\n",
    "print(delay13)\n",
    "print(delay15)\n",
    "print(delay17)"
   ]
  },
  {
   "cell_type": "markdown",
   "metadata": {},
   "source": [
    "## Implementando o produto interno"
   ]
  },
  {
   "cell_type": "markdown",
   "metadata": {},
   "source": [
    "http://www.labbookpages.co.uk/audio/beamforming/delayCalc.html"
   ]
  },
  {
   "cell_type": "markdown",
   "metadata": {},
   "source": [
    "### Passando a origem pra cima do microfone 1"
   ]
  },
  {
   "cell_type": "code",
   "execution_count": null,
   "metadata": {},
   "outputs": [],
   "source": [
    "coordenadasOriginaisMic1 = np.array([-0.0420, 0.0615, 0.0410])\n",
    "coordenadasOriginaisMic3 = np.array([-0.0615, -0.0420, 0.0410])\n",
    "coordenadasOriginaisMic5 = np.array([0.0420, -0.0615, 0.0410])\n",
    "coordenadasOriginaisMic7 = np.array([0.0615, 0.0420, 0.0410])\n",
    "\n",
    "coordenadasNovasMic1 = coordenadasOriginaisMic1 - coordenadasOriginaisMic1\n",
    "coordenadasNovasMic3 = coordenadasOriginaisMic3 - coordenadasOriginaisMic1\n",
    "coordenadasNovasMic5 = coordenadasOriginaisMic5 - coordenadasOriginaisMic1\n",
    "coordenadasNovasMic7 = coordenadasOriginaisMic7 - coordenadasOriginaisMic1\n",
    "\n",
    "#coordenadasNovasMic1[2] += 0.0410\n",
    "#coordenadasNovasMic3[2] += 0.0410\n",
    "#coordenadasNovasMic5[2] += 0.0410\n",
    "#coordenadasNovasMic7[2] += 0.0410"
   ]
  },
  {
   "cell_type": "code",
   "execution_count": null,
   "metadata": {
    "scrolled": true
   },
   "outputs": [],
   "source": [
    "print(coordenadasNovasMic1)\n",
    "print(coordenadasNovasMic3)\n",
    "print(coordenadasNovasMic5)\n",
    "print(coordenadasNovasMic7)"
   ]
  },
  {
   "cell_type": "markdown",
   "metadata": {},
   "source": [
    "### Resolvendo o sistema com mínimos quadrados"
   ]
  },
  {
   "cell_type": "markdown",
   "metadata": {},
   "source": [
    "https://riptutorial.com/numpy/example/16034/find-the-least-squares-solution-to-a-linear-system-with-np-linalg-lstsq"
   ]
  },
  {
   "cell_type": "markdown",
   "metadata": {},
   "source": [
    "#### Exemplo de como usar a função"
   ]
  },
  {
   "cell_type": "code",
   "execution_count": null,
   "metadata": {},
   "outputs": [],
   "source": [
    "# Definindo a equação matricial\n",
    "A = np.array([[1,0,0,0],\n",
    "              [0,1,0,0],\n",
    "              [0,0,1,0],\n",
    "              [0,0,0,1]])\n",
    "b = np.array([1,2,3,4])\n",
    "\n",
    "# Resolvendo x\n",
    "x, residuals, rank, s = np.linalg.lstsq(A,b, rcond=None)\n",
    "\n",
    "print(x)"
   ]
  },
  {
   "cell_type": "markdown",
   "metadata": {},
   "source": [
    "#### Aplicando no problema dos microfones"
   ]
  },
  {
   "cell_type": "markdown",
   "metadata": {},
   "source": [
    "A matriz dos coeficientes será as coordenadas dos microfones 3, 5 e 7 e a matriz b será os delays multiplicados pela velocidade do som.\n",
    "\n",
    "|m3x m3y m3z| |wx| |vSom.delay13|\n",
    "\n",
    "|m5x m5y m5z|.|wy|=|vSom.delay15|\n",
    "\n",
    "|m7x m7y m7z| |wz| |vSom.delay17|"
   ]
  },
  {
   "cell_type": "code",
   "execution_count": null,
   "metadata": {
    "scrolled": true
   },
   "outputs": [],
   "source": [
    "A = np.array([coordenadasNovasMic3.tolist(),\n",
    "              coordenadasNovasMic5.tolist(),\n",
    "              coordenadasNovasMic7.tolist()])\n",
    "b = np.array([delay13, delay15, delay17])\n",
    "\n",
    "x, residuals, rank, s = np.linalg.lstsq(A,b, rcond=None)\n",
    "print(x)"
   ]
  },
  {
   "cell_type": "markdown",
   "metadata": {},
   "source": [
    "### Definindo algumas funções pra ajudar"
   ]
  },
  {
   "cell_type": "code",
   "execution_count": 17,
   "metadata": {},
   "outputs": [],
   "source": [
    "def vetorUnitario(vetor):\n",
    "    return vetor/np.linalg.norm(vetor)\n",
    "\n",
    "def anguloEntreDoisVetores(v1, v2):\n",
    "    v1_u = vetorUnitario(v1)\n",
    "    v2_u = vetorUnitario(v2)\n",
    "    return np.arccos(np.clip(np.dot(v1_u, v2_u), -1.0, 1.0))\n",
    "\n",
    "def radParaGraus(angRad):\n",
    "    return (angRad*180)/math.pi"
   ]
  },
  {
   "cell_type": "markdown",
   "metadata": {},
   "source": [
    "### Calculando os ângulos"
   ]
  },
  {
   "cell_type": "markdown",
   "metadata": {},
   "source": [
    "Agora que já tenho o vetor da direção em que o som veio, vou passar a origem de novo para (0,0,0)."
   ]
  },
  {
   "cell_type": "code",
   "execution_count": null,
   "metadata": {},
   "outputs": [],
   "source": [
    "x = x + coordenadasOriginaisMic1"
   ]
  },
  {
   "cell_type": "markdown",
   "metadata": {},
   "source": [
    "O ângulo azimutal será o arco de tangente da divisão do eixo y do vetor direção pelo aixo x."
   ]
  },
  {
   "cell_type": "code",
   "execution_count": null,
   "metadata": {},
   "outputs": [],
   "source": [
    "radParaGraus(math.atan(x[1]/x[0]))"
   ]
  },
  {
   "cell_type": "markdown",
   "metadata": {},
   "source": [
    "Já o ângulo de elevação será o ângulo entre os vetores direção e projeção de direção no plano XY."
   ]
  },
  {
   "cell_type": "code",
   "execution_count": null,
   "metadata": {},
   "outputs": [],
   "source": [
    "radParaGraus(anguloEntreDoisVetores(x, [x[0], x[1], 0]))"
   ]
  },
  {
   "cell_type": "markdown",
   "metadata": {},
   "source": [
    "## Resumindo"
   ]
  },
  {
   "cell_type": "code",
   "execution_count": 31,
   "metadata": {},
   "outputs": [],
   "source": [
    "nomeArquivo = \"75_0_2.4__3.wav\""
   ]
  },
  {
   "cell_type": "code",
   "execution_count": 32,
   "metadata": {},
   "outputs": [
    {
     "name": "stdout",
     "output_type": "stream",
     "text": [
      "[2.45692238e+01 1.30690303e+02 4.10000000e-02]\n",
      "79.35290654262631\n",
      "0.01766530370024451\n"
     ]
    }
   ],
   "source": [
    "# ABRINDO O AUDIO\n",
    "originalAudio, freqAmostragem = librosa.load('/home/dimi/Downloads/DREGON_clean_recordings_speech/'+nomeArquivo, sr=None, mono=False)\n",
    "\n",
    "# GEOMETRIA DOS MICROFONES\n",
    "coordenadasOriginaisMic1 = np.array([-0.0420, 0.0615, 0.0410])\n",
    "coordenadasOriginaisMic3 = np.array([-0.0615, -0.0420, 0.0410])\n",
    "coordenadasOriginaisMic5 = np.array([0.0420, -0.0615, 0.0410])\n",
    "coordenadasOriginaisMic7 = np.array([0.0615, 0.0420, 0.0410])\n",
    "\n",
    "coordenadasNovasMic1 = coordenadasOriginaisMic1 - coordenadasOriginaisMic1\n",
    "coordenadasNovasMic3 = coordenadasOriginaisMic3 - coordenadasOriginaisMic1\n",
    "coordenadasNovasMic5 = coordenadasOriginaisMic5 - coordenadasOriginaisMic1\n",
    "coordenadasNovasMic7 = coordenadasOriginaisMic7 - coordenadasOriginaisMic1\n",
    "\n",
    "# CALCULANDO O DELAY MAXIMO\n",
    "vetorLado = [coordenadasOriginaisMic1[0] - coordenadasOriginaisMic3[0], coordenadasOriginaisMic1[1] - coordenadasOriginaisMic3[1]]\n",
    "tamanhoLado = math.sqrt(vetorLado[0]**2 + vetorLado[1]**2)\n",
    "\n",
    "delayMax = definirDelayMaximo(freqAmostragem, L=tamanhoLado)\n",
    "\n",
    "# CALCULANDO O DELAY ENTRE OS MICROFONES\n",
    "delay13 = verificarDelay(originalAudio[1], originalAudio[3], maxDelay=delayMax)\n",
    "delay15 = verificarDelay(originalAudio[1], originalAudio[5], maxDelay=delayMax)\n",
    "delay17 = verificarDelay(originalAudio[1], originalAudio[7], maxDelay=delayMax)\n",
    "\n",
    "# RESOLVENDO O SISTEMA DO PRODUTO INTERNO E CHAMANDO O VETOR DA DIREÇÃO DE w\n",
    "A = np.array([coordenadasNovasMic3.tolist(),\n",
    "              coordenadasNovasMic5.tolist(),\n",
    "              coordenadasNovasMic7.tolist()])\n",
    "b = np.array([delay13, delay15, delay17])\n",
    "\n",
    "w, residuals, rank, s = np.linalg.lstsq(A,b, rcond=None)\n",
    "\n",
    "# VOLTANDO A ORIGEM PRO PONTO (0,0,0)\n",
    "w = w + coordenadasOriginaisMic1\n",
    "\n",
    "# CALCULANDO OS ANGULOS\n",
    "azimutal = radParaGraus(math.atan(w[1]/w[0]))\n",
    "elevacao = radParaGraus(anguloEntreDoisVetores(w, [w[0], w[1], 0]))\n",
    "\n",
    "# PRINTANDO\n",
    "print(w)\n",
    "print(azimutal)\n",
    "print(elevacao)"
   ]
  },
  {
   "cell_type": "code",
   "execution_count": null,
   "metadata": {},
   "outputs": [],
   "source": []
  },
  {
   "cell_type": "code",
   "execution_count": null,
   "metadata": {},
   "outputs": [],
   "source": []
  },
  {
   "cell_type": "code",
   "execution_count": null,
   "metadata": {},
   "outputs": [],
   "source": []
  },
  {
   "cell_type": "code",
   "execution_count": null,
   "metadata": {},
   "outputs": [],
   "source": []
  }
 ],
 "metadata": {
  "kernelspec": {
   "display_name": "Python 3",
   "language": "python",
   "name": "python3"
  },
  "language_info": {
   "codemirror_mode": {
    "name": "ipython",
    "version": 3
   },
   "file_extension": ".py",
   "mimetype": "text/x-python",
   "name": "python",
   "nbconvert_exporter": "python",
   "pygments_lexer": "ipython3",
   "version": "3.7.3"
  }
 },
 "nbformat": 4,
 "nbformat_minor": 2
}
