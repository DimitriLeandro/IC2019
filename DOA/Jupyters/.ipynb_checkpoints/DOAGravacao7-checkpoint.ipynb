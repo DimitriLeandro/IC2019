{
 "cells": [
  {
   "cell_type": "code",
   "execution_count": 36,
   "metadata": {},
   "outputs": [],
   "source": [
    "import warnings\n",
    "import sys\n",
    "\n",
    "warnings.filterwarnings(\"ignore\")\n",
    "sys.path.append(\"../Python\")\n",
    "\n",
    "import matplotlib.pyplot as plt\n",
    "import numpy as np\n",
    "from scipy.io.wavfile import read\n",
    "from sklearn.decomposition import PCA\n",
    "from DOACentroides3 import DOACentroides\n",
    "from scipy.spatial import distance\n",
    "\n",
    "%matplotlib inline\n",
    "%config InlineBackend.figure_format = 'svg'\n",
    "params = {'figure.figsize': [10, 3]}\n",
    "plt.rcParams.update(params)"
   ]
  },
  {
   "cell_type": "code",
   "execution_count": 6,
   "metadata": {},
   "outputs": [],
   "source": [
    "sinalMic1 = read(\"../Gravacoes/Gravacao7/mic-01.wav\")[1]\n",
    "sinalMic2 = read(\"../Gravacoes/Gravacao7/mic-02.wav\")[1]\n",
    "sinalMic3 = read(\"../Gravacoes/Gravacao7/mic-03.wav\")[1]\n",
    "sinalMic4 = read(\"../Gravacoes/Gravacao7/mic-04.wav\")[1]"
   ]
  },
  {
   "cell_type": "code",
   "execution_count": 7,
   "metadata": {},
   "outputs": [],
   "source": [
    "objDOA = DOACentroides(sinalMic1, sinalMic2, sinalMic3, sinalMic4)"
   ]
  },
  {
   "cell_type": "code",
   "execution_count": 8,
   "metadata": {
    "scrolled": false
   },
   "outputs": [
    {
     "data": {
      "text/plain": [
       "0"
      ]
     },
     "execution_count": 8,
     "metadata": {},
     "output_type": "execute_result"
    }
   ],
   "source": [
    "objDOA.predicao"
   ]
  },
  {
   "cell_type": "code",
   "execution_count": 37,
   "metadata": {},
   "outputs": [
    {
     "name": "stdout",
     "output_type": "stream",
     "text": [
      "Distância para o centróide 0: 4.828422215058782\n",
      "Distância para o centróide 1: 15.019859308014126\n",
      "Distância para o centróide 2: 23.098758373706215\n",
      "Distância para o centróide 3: 27.690907080944807\n",
      "Distância para o centróide 4: 28.083306911168027\n",
      "Distância para o centróide 5: 24.215482950401636\n",
      "Distância para o centróide 6: 16.686316242564384\n",
      "Distância para o centróide 7: 6.7230538587915305\n"
     ]
    }
   ],
   "source": [
    "for i, centroideAtual in enumerate(objDOA.centroides):\n",
    "    distancia = distance.euclidean(objDOA.dado, centroideAtual)\n",
    "    print(\"Distância para o centróide \" + str(i) + \": \" + str(distancia))"
   ]
  }
 ],
 "metadata": {
  "kernelspec": {
   "display_name": "Python 3",
   "language": "python",
   "name": "python3"
  },
  "language_info": {
   "codemirror_mode": {
    "name": "ipython",
    "version": 3
   },
   "file_extension": ".py",
   "mimetype": "text/x-python",
   "name": "python",
   "nbconvert_exporter": "python",
   "pygments_lexer": "ipython3",
   "version": "3.5.2"
  }
 },
 "nbformat": 4,
 "nbformat_minor": 2
}
