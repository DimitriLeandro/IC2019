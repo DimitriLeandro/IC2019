{
 "cells": [
  {
   "cell_type": "markdown",
   "metadata": {},
   "source": [
    "# Testando a classe DOACentroides2"
   ]
  },
  {
   "cell_type": "markdown",
   "metadata": {},
   "source": [
    "Nesse Jupyter, testarei a classe usando as gravações 2 e 3."
   ]
  },
  {
   "cell_type": "code",
   "execution_count": 1,
   "metadata": {},
   "outputs": [],
   "source": [
    "# Importando a Classe do diretório anterior. \n",
    "# Para fazer isso, devo adicionar o diretório onde a classe está\n",
    "import sys\n",
    "sys.path.append('../Python')\n",
    "\n",
    "# Importando\n",
    "from DOACentroides2 import DOACentroides\n",
    "from scipy.io.wavfile import read\n",
    "from sklearn.decomposition import PCA\n",
    "import matplotlib.pyplot as plt\n",
    "import warnings\n",
    "import numpy as np\n",
    "\n",
    "# Ignorando warnings\n",
    "warnings.filterwarnings(\"ignore\")"
   ]
  },
  {
   "cell_type": "markdown",
   "metadata": {},
   "source": [
    "## Gravação 2"
   ]
  },
  {
   "cell_type": "markdown",
   "metadata": {},
   "source": [
    "#### Importando os áudios"
   ]
  },
  {
   "cell_type": "code",
   "execution_count": 2,
   "metadata": {},
   "outputs": [],
   "source": [
    "pos0mic1 = read('../Gravacoes/Gravacao2/pos0mic-01.wav')[1]\n",
    "pos0mic2 = read('../Gravacoes/Gravacao2/pos0mic-02.wav')[1]\n",
    "pos0mic3 = read('../Gravacoes/Gravacao2/pos0mic-03.wav')[1]\n",
    "pos0mic4 = read('../Gravacoes/Gravacao2/pos0mic-04.wav')[1]\n",
    "\n",
    "pos1mic1 = read('../Gravacoes/Gravacao2/pos1mic-01.wav')[1]\n",
    "pos1mic2 = read('../Gravacoes/Gravacao2/pos1mic-02.wav')[1]\n",
    "pos1mic3 = read('../Gravacoes/Gravacao2/pos1mic-03.wav')[1]\n",
    "pos1mic4 = read('../Gravacoes/Gravacao2/pos1mic-04.wav')[1]\n",
    "\n",
    "pos2mic1 = read('../Gravacoes/Gravacao2/pos2mic-01.wav')[1]\n",
    "pos2mic2 = read('../Gravacoes/Gravacao2/pos2mic-02.wav')[1]\n",
    "pos2mic3 = read('../Gravacoes/Gravacao2/pos2mic-03.wav')[1]\n",
    "pos2mic4 = read('../Gravacoes/Gravacao2/pos2mic-04.wav')[1]\n",
    "\n",
    "pos3mic1 = read('../Gravacoes/Gravacao2/pos3mic-01.wav')[1]\n",
    "pos3mic2 = read('../Gravacoes/Gravacao2/pos3mic-02.wav')[1]\n",
    "pos3mic3 = read('../Gravacoes/Gravacao2/pos3mic-03.wav')[1]\n",
    "pos3mic4 = read('../Gravacoes/Gravacao2/pos3mic-04.wav')[1]\n",
    "\n",
    "pos4mic1 = read('../Gravacoes/Gravacao2/pos4mic-01.wav')[1]\n",
    "pos4mic2 = read('../Gravacoes/Gravacao2/pos4mic-02.wav')[1]\n",
    "pos4mic3 = read('../Gravacoes/Gravacao2/pos4mic-03.wav')[1]\n",
    "pos4mic4 = read('../Gravacoes/Gravacao2/pos4mic-04.wav')[1]\n",
    "\n",
    "pos5mic1 = read('../Gravacoes/Gravacao2/pos5mic-01.wav')[1]\n",
    "pos5mic2 = read('../Gravacoes/Gravacao2/pos5mic-02.wav')[1]\n",
    "pos5mic3 = read('../Gravacoes/Gravacao2/pos5mic-03.wav')[1]\n",
    "pos5mic4 = read('../Gravacoes/Gravacao2/pos5mic-04.wav')[1]\n",
    "\n",
    "pos6mic1 = read('../Gravacoes/Gravacao2/pos6mic-01.wav')[1]\n",
    "pos6mic2 = read('../Gravacoes/Gravacao2/pos6mic-02.wav')[1]\n",
    "pos6mic3 = read('../Gravacoes/Gravacao2/pos6mic-03.wav')[1]\n",
    "pos6mic4 = read('../Gravacoes/Gravacao2/pos6mic-04.wav')[1]\n",
    "\n",
    "pos7mic1 = read('../Gravacoes/Gravacao2/pos7mic-01.wav')[1]\n",
    "pos7mic2 = read('../Gravacoes/Gravacao2/pos7mic-02.wav')[1]\n",
    "pos7mic3 = read('../Gravacoes/Gravacao2/pos7mic-03.wav')[1]\n",
    "pos7mic4 = read('../Gravacoes/Gravacao2/pos7mic-04.wav')[1]"
   ]
  },
  {
   "cell_type": "code",
   "execution_count": 3,
   "metadata": {},
   "outputs": [
    {
     "name": "stdout",
     "output_type": "stream",
     "text": [
      "(4384,)\n",
      "(4384,)\n",
      "(4096,)\n",
      "(4128,)\n",
      "(4304,)\n",
      "(4416,)\n",
      "(4352,)\n",
      "(4336,)\n"
     ]
    }
   ],
   "source": [
    "print(pos0mic1.shape)\n",
    "print(pos1mic1.shape)\n",
    "print(pos2mic1.shape)\n",
    "print(pos3mic1.shape)\n",
    "print(pos4mic1.shape)\n",
    "print(pos5mic1.shape)\n",
    "print(pos6mic1.shape)\n",
    "print(pos7mic1.shape)"
   ]
  },
  {
   "cell_type": "markdown",
   "metadata": {},
   "source": [
    "#### Criando os objetos de cada posição e predizendo"
   ]
  },
  {
   "cell_type": "code",
   "execution_count": 4,
   "metadata": {},
   "outputs": [],
   "source": [
    "objDOAPos0 = DOACentroides(pos0mic1, pos0mic2, pos0mic3, pos0mic4)\n",
    "objDOAPos1 = DOACentroides(pos1mic1, pos1mic2, pos1mic3, pos1mic4)\n",
    "objDOAPos2 = DOACentroides(pos2mic1, pos2mic2, pos2mic3, pos2mic4)\n",
    "objDOAPos3 = DOACentroides(pos3mic1, pos3mic2, pos3mic3, pos3mic4)\n",
    "objDOAPos4 = DOACentroides(pos4mic1, pos4mic2, pos4mic3, pos4mic4)\n",
    "objDOAPos5 = DOACentroides(pos5mic1, pos5mic2, pos5mic3, pos5mic4)\n",
    "objDOAPos6 = DOACentroides(pos6mic1, pos6mic2, pos6mic3, pos6mic4)\n",
    "objDOAPos7 = DOACentroides(pos7mic1, pos7mic2, pos7mic3, pos7mic4)"
   ]
  },
  {
   "cell_type": "code",
   "execution_count": 5,
   "metadata": {},
   "outputs": [
    {
     "name": "stdout",
     "output_type": "stream",
     "text": [
      "Predição da posição 0: 0\n",
      "Predição da posição 1: 1\n",
      "Predição da posição 2: 2\n",
      "Predição da posição 3: 3\n",
      "Predição da posição 4: 6\n",
      "Predição da posição 5: 6\n",
      "Predição da posição 6: 6\n",
      "Predição da posição 7: 7\n"
     ]
    }
   ],
   "source": [
    "print(\"Predição da posição 0:\", objDOAPos0.predicao)\n",
    "print(\"Predição da posição 1:\", objDOAPos1.predicao)\n",
    "print(\"Predição da posição 2:\", objDOAPos2.predicao)\n",
    "print(\"Predição da posição 3:\", objDOAPos3.predicao)\n",
    "print(\"Predição da posição 4:\", objDOAPos4.predicao)\n",
    "print(\"Predição da posição 5:\", objDOAPos5.predicao)\n",
    "print(\"Predição da posição 6:\", objDOAPos6.predicao)\n",
    "print(\"Predição da posição 7:\", objDOAPos7.predicao)"
   ]
  },
  {
   "cell_type": "markdown",
   "metadata": {},
   "source": [
    "#### Visualizando os centróides em 2D"
   ]
  },
  {
   "cell_type": "code",
   "execution_count": 6,
   "metadata": {},
   "outputs": [],
   "source": [
    "dados = np.array([\n",
    "    objDOAPos0.dado,\n",
    "    objDOAPos1.dado,\n",
    "    objDOAPos2.dado,\n",
    "    objDOAPos3.dado,\n",
    "    objDOAPos4.dado,\n",
    "    objDOAPos5.dado,\n",
    "    objDOAPos6.dado,\n",
    "    objDOAPos7.dado\n",
    "])"
   ]
  },
  {
   "cell_type": "code",
   "execution_count": 7,
   "metadata": {},
   "outputs": [
    {
     "data": {
      "image/png": "[encoded data removed]",
      "text/plain": [
       "<Figure size 432x288 with 1 Axes>"
      ]
     },
     "metadata": {
      "needs_background": "light"
     },
     "output_type": "display_data"
    }
   ],
   "source": [
    "centroidesPCA = PCA(n_components=2).fit_transform(objDOAPos0.centroides)\n",
    "dadosPCA      = PCA(n_components=2).fit_transform(dados)\n",
    "\n",
    "for centroideAtual in centroidesPCA:\n",
    "    plt.scatter(x=centroideAtual[0], y=centroideAtual[1], color=\"red\")\n",
    "    \n",
    "for dadoAtual in dadosPCA:\n",
    "    plt.scatter(x=dadoAtual[0], y=dadoAtual[1], color=\"blue\")\n",
    "    \n",
    "plt.show()"
   ]
  },
  {
   "cell_type": "markdown",
   "metadata": {},
   "source": [
    "## Gravação 3"
   ]
  },
  {
   "cell_type": "markdown",
   "metadata": {},
   "source": [
    "#### Importando os áudios"
   ]
  },
  {
   "cell_type": "code",
   "execution_count": 8,
   "metadata": {},
   "outputs": [],
   "source": [
    "pos0mic1 = read('../Gravacoes/Gravacao3/pos0mic-01.wav')[1]\n",
    "pos0mic2 = read('../Gravacoes/Gravacao3/pos0mic-02.wav')[1]\n",
    "pos0mic3 = read('../Gravacoes/Gravacao3/pos0mic-03.wav')[1]\n",
    "pos0mic4 = read('../Gravacoes/Gravacao3/pos0mic-04.wav')[1]\n",
    "\n",
    "pos1mic1 = read('../Gravacoes/Gravacao3/pos1mic-01.wav')[1]\n",
    "pos1mic2 = read('../Gravacoes/Gravacao3/pos1mic-02.wav')[1]\n",
    "pos1mic3 = read('../Gravacoes/Gravacao3/pos1mic-03.wav')[1]\n",
    "pos1mic4 = read('../Gravacoes/Gravacao3/pos1mic-04.wav')[1]\n",
    "\n",
    "pos2mic1 = read('../Gravacoes/Gravacao3/pos2mic-01.wav')[1]\n",
    "pos2mic2 = read('../Gravacoes/Gravacao3/pos2mic-02.wav')[1]\n",
    "pos2mic3 = read('../Gravacoes/Gravacao3/pos2mic-03.wav')[1]\n",
    "pos2mic4 = read('../Gravacoes/Gravacao3/pos2mic-04.wav')[1]\n",
    "\n",
    "pos3mic1 = read('../Gravacoes/Gravacao3/pos3mic-01.wav')[1]\n",
    "pos3mic2 = read('../Gravacoes/Gravacao3/pos3mic-02.wav')[1]\n",
    "pos3mic3 = read('../Gravacoes/Gravacao3/pos3mic-03.wav')[1]\n",
    "pos3mic4 = read('../Gravacoes/Gravacao3/pos3mic-04.wav')[1]\n",
    "\n",
    "pos4mic1 = read('../Gravacoes/Gravacao3/pos4mic-01.wav')[1]\n",
    "pos4mic2 = read('../Gravacoes/Gravacao3/pos4mic-02.wav')[1]\n",
    "pos4mic3 = read('../Gravacoes/Gravacao3/pos4mic-03.wav')[1]\n",
    "pos4mic4 = read('../Gravacoes/Gravacao3/pos4mic-04.wav')[1]\n",
    "\n",
    "pos5mic1 = read('../Gravacoes/Gravacao3/pos5mic-01.wav')[1]\n",
    "pos5mic2 = read('../Gravacoes/Gravacao3/pos5mic-02.wav')[1]\n",
    "pos5mic3 = read('../Gravacoes/Gravacao3/pos5mic-03.wav')[1]\n",
    "pos5mic4 = read('../Gravacoes/Gravacao3/pos5mic-04.wav')[1]\n",
    "\n",
    "pos6mic1 = read('../Gravacoes/Gravacao3/pos6mic-01.wav')[1]\n",
    "pos6mic2 = read('../Gravacoes/Gravacao3/pos6mic-02.wav')[1]\n",
    "pos6mic3 = read('../Gravacoes/Gravacao3/pos6mic-03.wav')[1]\n",
    "pos6mic4 = read('../Gravacoes/Gravacao3/pos6mic-04.wav')[1]\n",
    "\n",
    "pos7mic1 = read('../Gravacoes/Gravacao3/pos7mic-01.wav')[1]\n",
    "pos7mic2 = read('../Gravacoes/Gravacao3/pos7mic-02.wav')[1]\n",
    "pos7mic3 = read('../Gravacoes/Gravacao3/pos7mic-03.wav')[1]\n",
    "pos7mic4 = read('../Gravacoes/Gravacao3/pos7mic-04.wav')[1]"
   ]
  },
  {
   "cell_type": "code",
   "execution_count": 9,
   "metadata": {},
   "outputs": [
    {
     "name": "stdout",
     "output_type": "stream",
     "text": [
      "(4288,)\n",
      "(4352,)\n",
      "(4272,)\n",
      "(4352,)\n",
      "(4256,)\n",
      "(4416,)\n",
      "(4256,)\n",
      "(4416,)\n"
     ]
    }
   ],
   "source": [
    "print(pos0mic1.shape)\n",
    "print(pos1mic1.shape)\n",
    "print(pos2mic1.shape)\n",
    "print(pos3mic1.shape)\n",
    "print(pos4mic1.shape)\n",
    "print(pos5mic1.shape)\n",
    "print(pos6mic1.shape)\n",
    "print(pos7mic1.shape)"
   ]
  },
  {
   "cell_type": "markdown",
   "metadata": {},
   "source": [
    "#### Criando os objetos de cada posição e predizendo"
   ]
  },
  {
   "cell_type": "code",
   "execution_count": 10,
   "metadata": {},
   "outputs": [],
   "source": [
    "objDOAPos0 = DOACentroides(pos0mic1, pos0mic2, pos0mic3, pos0mic4)\n",
    "objDOAPos1 = DOACentroides(pos1mic1, pos1mic2, pos1mic3, pos1mic4)\n",
    "objDOAPos2 = DOACentroides(pos2mic1, pos2mic2, pos2mic3, pos2mic4)\n",
    "objDOAPos3 = DOACentroides(pos3mic1, pos3mic2, pos3mic3, pos3mic4)\n",
    "objDOAPos4 = DOACentroides(pos4mic1, pos4mic2, pos4mic3, pos4mic4)\n",
    "objDOAPos5 = DOACentroides(pos5mic1, pos5mic2, pos5mic3, pos5mic4)\n",
    "objDOAPos6 = DOACentroides(pos6mic1, pos6mic2, pos6mic3, pos6mic4)\n",
    "objDOAPos7 = DOACentroides(pos7mic1, pos7mic2, pos7mic3, pos7mic4)"
   ]
  },
  {
   "cell_type": "code",
   "execution_count": 11,
   "metadata": {},
   "outputs": [
    {
     "name": "stdout",
     "output_type": "stream",
     "text": [
      "Predição da posição 0: 0\n",
      "Predição da posição 1: 1\n",
      "Predição da posição 2: 2\n",
      "Predição da posição 3: 3\n",
      "Predição da posição 4: 4\n",
      "Predição da posição 5: 5\n",
      "Predição da posição 6: 6\n",
      "Predição da posição 7: 7\n"
     ]
    }
   ],
   "source": [
    "print(\"Predição da posição 0:\", objDOAPos0.predicao)\n",
    "print(\"Predição da posição 1:\", objDOAPos1.predicao)\n",
    "print(\"Predição da posição 2:\", objDOAPos2.predicao)\n",
    "print(\"Predição da posição 3:\", objDOAPos3.predicao)\n",
    "print(\"Predição da posição 4:\", objDOAPos4.predicao)\n",
    "print(\"Predição da posição 5:\", objDOAPos5.predicao)\n",
    "print(\"Predição da posição 6:\", objDOAPos6.predicao)\n",
    "print(\"Predição da posição 7:\", objDOAPos7.predicao)"
   ]
  },
  {
   "cell_type": "markdown",
   "metadata": {},
   "source": [
    "#### Visualizando os centróides em 2D"
   ]
  },
  {
   "cell_type": "code",
   "execution_count": 12,
   "metadata": {},
   "outputs": [],
   "source": [
    "dados = np.array([\n",
    "    objDOAPos0.dado,\n",
    "    objDOAPos1.dado,\n",
    "    objDOAPos2.dado,\n",
    "    objDOAPos3.dado,\n",
    "    objDOAPos4.dado,\n",
    "    objDOAPos5.dado,\n",
    "    objDOAPos6.dado,\n",
    "    objDOAPos7.dado\n",
    "])"
   ]
  },
  {
   "cell_type": "code",
   "execution_count": 13,
   "metadata": {},
   "outputs": [
    {
     "data": {
      "image/png": "[encoded data removed]",
      "text/plain": [
       "<Figure size 432x288 with 1 Axes>"
      ]
     },
     "metadata": {
      "needs_background": "light"
     },
     "output_type": "display_data"
    }
   ],
   "source": [
    "centroidesPCA = PCA(n_components=2).fit_transform(objDOAPos0.centroides)\n",
    "dadosPCA      = PCA(n_components=2).fit_transform(dados)\n",
    "\n",
    "for centroideAtual in centroidesPCA:\n",
    "    plt.scatter(x=centroideAtual[0], y=centroideAtual[1], color=\"red\")\n",
    "    \n",
    "for dadoAtual in dadosPCA:\n",
    "    plt.scatter(x=dadoAtual[0], y=dadoAtual[1], color=\"blue\")\n",
    "    \n",
    "plt.show()"
   ]
  },
  {
   "cell_type": "code",
   "execution_count": 15,
   "metadata": {},
   "outputs": [
    {
     "name": "stdout",
     "output_type": "stream",
     "text": [
      "[ 5.31498935 10.62997869  5.31498935  5.31498935  0.         -5.31498935]\n"
     ]
    }
   ],
   "source": [
    "print(objDOAPos0.centroides[0])"
   ]
  }
 ],
 "metadata": {
  "kernelspec": {
   "display_name": "Python 3",
   "language": "python",
   "name": "python3"
  },
  "language_info": {
   "codemirror_mode": {
    "name": "ipython",
    "version": 3
   },
   "file_extension": ".py",
   "mimetype": "text/x-python",
   "name": "python",
   "nbconvert_exporter": "python",
   "pygments_lexer": "ipython3",
   "version": "3.5.2"
  }
 },
 "nbformat": 4,
 "nbformat_minor": 2
}
