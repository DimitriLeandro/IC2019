{
 "cells": [
  {
   "cell_type": "markdown",
   "metadata": {},
   "source": [
    "# Implementação de algoritmo para usar as classes de simulação de array de microfones e GSC para o SESA Dataset"
   ]
  },
  {
   "cell_type": "markdown",
   "metadata": {},
   "source": [
    "A ideia desse jupyter é criar um algoritmo que, dadas a pasta de origem e as de destino, simule um array de microfones com os áudios da pasta de origem e salve os sinais sem beamforming, com beamforming e com GSC nas pastas de destino."
   ]
  },
  {
   "cell_type": "code",
   "execution_count": 1,
   "metadata": {},
   "outputs": [],
   "source": [
    "import os\n",
    "import librosa\n",
    "import numpy as np\n",
    "import matplotlib.pyplot as plt\n",
    "from IPython.display import Audio\n",
    "import scipy"
   ]
  },
  {
   "cell_type": "markdown",
   "metadata": {},
   "source": [
    "#### Importando as classes criadas"
   ]
  },
  {
   "cell_type": "code",
   "execution_count": 3,
   "metadata": {},
   "outputs": [],
   "source": [
    "import sys\n",
    "sys.path.append('/home/dimi/Programming/IC2019/DOA/Python')\n",
    "\n",
    "from GeneralizedSidelobeCancellerClass import GeneralizedSidelobeCanceller\n",
    "from SimularArrayMicrofonesClass import SimularArrayMicrofones"
   ]
  },
  {
   "cell_type": "markdown",
   "metadata": {},
   "source": [
    "## Definindo uma boa amplitude para o ruído"
   ]
  },
  {
   "cell_type": "code",
   "execution_count": 4,
   "metadata": {},
   "outputs": [
    {
     "data": {
      "image/png": "[encoded data removed]",
      "text/plain": [
       "<Figure size 432x288 with 1 Axes>"
      ]
     },
     "metadata": {
      "needs_background": "light"
     },
     "output_type": "display_data"
    }
   ],
   "source": [
    "caminhoArquivo = '/home/dimi/Programming/IC2019/DOA/Gravacoes/Simulacoes/Gravacao3/sinalPuroMono2Segundos.wav'\n",
    "qtdMics        = 4\n",
    "amplitudeRuido = None\n",
    "objSimularArrayMics = SimularArrayMicrofones(caminhoArquivo, qtdMics, amplitudeRuido)\n",
    "arraySinaisSimulados, arrayDelays, freqAmostragem = objSimularArrayMics.obterResultado()\n",
    "\n",
    "plt.plot(arraySinaisSimulados[0], label=\"Explosion 182\")\n",
    "plt.legend()\n",
    "plt.show()"
   ]
  },
  {
   "cell_type": "code",
   "execution_count": 8,
   "metadata": {
    "scrolled": true
   },
   "outputs": [
    {
     "data": {
      "image/png": "[encoded data removed]",
      "text/plain": [
       "<Figure size 432x288 with 1 Axes>"
      ]
     },
     "metadata": {
      "needs_background": "light"
     },
     "output_type": "display_data"
    }
   ],
   "source": [
    "caminho = \"/home/dimi/Downloads/SESA/test/casual_112.wav\"\n",
    "sinalOriginal, freqAmostragem = librosa.load(caminho, sr=None, mono=True)\n",
    "\n",
    "#scipy.io.wavfile.write(\"/home/dimi/Downloads/SESA/outros/aaa/ddd.wav\", freqAmostragem, sinalOriginal)\n",
    "#librosa.output.write_wav(\"/home/dimi/Downloads/SESA/outros/aaa/aaa.wav\", sinalOriginal, freqAmostragem, norm=True)\n",
    "\n",
    "plt.plot(sinalOriginal, label=\"Explosion 182\")\n",
    "plt.legend()\n",
    "plt.show()"
   ]
  },
  {
   "cell_type": "markdown",
   "metadata": {},
   "source": [
    "## Rodando o algoritmo"
   ]
  },
  {
   "cell_type": "markdown",
   "metadata": {},
   "source": [
    "#### Definindo os parâmetros iniciais desse algoritmo"
   ]
  },
  {
   "cell_type": "code",
   "execution_count": 5,
   "metadata": {},
   "outputs": [],
   "source": [
    "pastaOrigem                = '/home/dimi/Downloads/SESA/test/'\n",
    "pastaDestinoSemBeamforming = '/home/dimi/Downloads/SESA/outros/ruidoA/testeSemBeamforming/'\n",
    "pastaDestinoBeamforming    = '/home/dimi/Downloads/SESA/outros/ruidoA/testeBeamforming/'\n",
    "pastaDestinoGSC            = '/home/dimi/Downloads/SESA/outros/ruidoA/testeGSC/'"
   ]
  },
  {
   "cell_type": "markdown",
   "metadata": {},
   "source": [
    "#### Definindo os parâmetros iniciais da classe de simulação de array de microfones"
   ]
  },
  {
   "cell_type": "code",
   "execution_count": 6,
   "metadata": {},
   "outputs": [],
   "source": [
    "qtdMics        = 4\n",
    "amplitudeRuido = 0.000001"
   ]
  },
  {
   "cell_type": "markdown",
   "metadata": {},
   "source": [
    "#### Rodando o algoritmo"
   ]
  },
  {
   "cell_type": "code",
   "execution_count": 7,
   "metadata": {},
   "outputs": [
    {
     "name": "stdout",
     "output_type": "stream",
     "text": [
      "\n",
      "explosion_182.wav: arquivo 1 de 105 -> 0.9523809523809524%\n",
      "Iniciando a filtragem adaptativa com LMS\n",
      "Tempo total gasto para processar o GSC completo (segundos): 1.2946391105651855\n",
      "\n",
      "gunshot_027.wav: arquivo 2 de 105 -> 1.9047619047619049%\n",
      "Iniciando a filtragem adaptativa com LMS\n",
      "Tempo total gasto para processar o GSC completo (segundos): 1.9259271621704102\n",
      "\n",
      "explosion_031.wav: arquivo 3 de 105 -> 2.857142857142857%\n",
      "Iniciando a filtragem adaptativa com LMS\n",
      "Tempo total gasto para processar o GSC completo (segundos): 0.8836731910705566\n",
      "\n",
      "gunshot_032.wav: arquivo 4 de 105 -> 3.8095238095238098%\n",
      "Iniciando a filtragem adaptativa com LMS\n",
      "Tempo total gasto para processar o GSC completo (segundos): 1.1312716007232666\n",
      "\n",
      "gunshot_084.wav: arquivo 5 de 105 -> 4.761904761904762%\n",
      "Iniciando a filtragem adaptativa com LMS\n"
     ]
    },
    {
     "ename": "KeyboardInterrupt",
     "evalue": "",
     "output_type": "error",
     "traceback": [
      "\u001b[0;31m---------------------------------------------------------------------------\u001b[0m",
      "\u001b[0;31mKeyboardInterrupt\u001b[0m                         Traceback (most recent call last)",
      "\u001b[0;32m<ipython-input-7-a5374707385b>\u001b[0m in \u001b[0;36m<module>\u001b[0;34m\u001b[0m\n\u001b[1;32m     18\u001b[0m \u001b[0;34m\u001b[0m\u001b[0m\n\u001b[1;32m     19\u001b[0m         \u001b[0;31m# APLICO O BEAMFORMING E GSC\u001b[0m\u001b[0;34m\u001b[0m\u001b[0;34m\u001b[0m\u001b[0;34m\u001b[0m\u001b[0m\n\u001b[0;32m---> 20\u001b[0;31m         \u001b[0mobjGSC\u001b[0m \u001b[0;34m=\u001b[0m \u001b[0mGeneralizedSidelobeCanceller\u001b[0m\u001b[0;34m(\u001b[0m\u001b[0marraySinaisSimulados\u001b[0m\u001b[0;34m,\u001b[0m \u001b[0marrayDelays\u001b[0m\u001b[0;34m)\u001b[0m\u001b[0;34m\u001b[0m\u001b[0;34m\u001b[0m\u001b[0m\n\u001b[0m\u001b[1;32m     21\u001b[0m         \u001b[0msinalSemBeamforming\u001b[0m\u001b[0;34m,\u001b[0m \u001b[0msinalBeamformado\u001b[0m\u001b[0;34m,\u001b[0m \u001b[0msinalFinalGSC\u001b[0m \u001b[0;34m=\u001b[0m \u001b[0mobjGSC\u001b[0m\u001b[0;34m.\u001b[0m\u001b[0mobterSinaisResultantes\u001b[0m\u001b[0;34m(\u001b[0m\u001b[0;34m)\u001b[0m\u001b[0;34m\u001b[0m\u001b[0;34m\u001b[0m\u001b[0m\n\u001b[1;32m     22\u001b[0m         \u001b[0marrayTempoProcessamentoGSC\u001b[0m\u001b[0;34m.\u001b[0m\u001b[0mappend\u001b[0m\u001b[0;34m(\u001b[0m\u001b[0mobjGSC\u001b[0m\u001b[0;34m.\u001b[0m\u001b[0mtempoProcessamentoGSC\u001b[0m\u001b[0;34m)\u001b[0m\u001b[0;34m\u001b[0m\u001b[0;34m\u001b[0m\u001b[0m\n",
      "\u001b[0;32m~/Programming/IC2019/DOA/Python/GeneralizedSidelobeCancellerClass.py\u001b[0m in \u001b[0;36m__init__\u001b[0;34m(self, arraySinaisOriginais, arrayDelays)\u001b[0m\n\u001b[1;32m     46\u001b[0m \u001b[0;34m\u001b[0m\u001b[0m\n\u001b[1;32m     47\u001b[0m                 \u001b[0;31m# OBTENDO OS PESOS IDEAIS\u001b[0m\u001b[0;34m\u001b[0m\u001b[0;34m\u001b[0m\u001b[0;34m\u001b[0m\u001b[0m\n\u001b[0;32m---> 48\u001b[0;31m                 \u001b[0marrayPesos\u001b[0m \u001b[0;34m=\u001b[0m \u001b[0mself\u001b[0m\u001b[0;34m.\u001b[0m\u001b[0mobterArrayPesos\u001b[0m\u001b[0;34m(\u001b[0m\u001b[0mlen\u001b[0m\u001b[0;34m(\u001b[0m\u001b[0mself\u001b[0m\u001b[0;34m.\u001b[0m\u001b[0marraySinaisRuidosos\u001b[0m\u001b[0;34m)\u001b[0m\u001b[0;34m)\u001b[0m\u001b[0;34m\u001b[0m\u001b[0;34m\u001b[0m\u001b[0m\n\u001b[0m\u001b[1;32m     49\u001b[0m \u001b[0;34m\u001b[0m\u001b[0m\n\u001b[1;32m     50\u001b[0m                 \u001b[0;31m# GERANDO O SINAL FINAL GSC\u001b[0m\u001b[0;34m\u001b[0m\u001b[0;34m\u001b[0m\u001b[0;34m\u001b[0m\u001b[0m\n",
      "\u001b[0;32m~/Programming/IC2019/DOA/Python/GeneralizedSidelobeCancellerClass.py\u001b[0m in \u001b[0;36mobterArrayPesos\u001b[0;34m(self, qtdSinaisRuidosos)\u001b[0m\n\u001b[1;32m    220\u001b[0m \u001b[0;34m\u001b[0m\u001b[0m\n\u001b[1;32m    221\u001b[0m                 \u001b[0;31m# RODANDO O LMS. ELE RETORNA UM OBJETO CHEIO DE ATRIBUTOS\u001b[0m\u001b[0;34m\u001b[0m\u001b[0;34m\u001b[0m\u001b[0;34m\u001b[0m\u001b[0m\n\u001b[0;32m--> 222\u001b[0;31m                 \u001b[0mobjRespostaLMS\u001b[0m \u001b[0;34m=\u001b[0m \u001b[0mleast_squares\u001b[0m\u001b[0;34m(\u001b[0m\u001b[0mfun\u001b[0m\u001b[0;34m=\u001b[0m\u001b[0mself\u001b[0m\u001b[0;34m.\u001b[0m\u001b[0mcalcularEnergiaSinalFinal\u001b[0m\u001b[0;34m,\u001b[0m \u001b[0mx0\u001b[0m\u001b[0;34m=\u001b[0m\u001b[0mchuteInicial\u001b[0m\u001b[0;34m,\u001b[0m \u001b[0mbounds\u001b[0m\u001b[0;34m=\u001b[0m\u001b[0;34m[\u001b[0m\u001b[0mlimitesInferiores\u001b[0m\u001b[0;34m,\u001b[0m \u001b[0mlimitesSuperiores\u001b[0m\u001b[0;34m]\u001b[0m\u001b[0;34m,\u001b[0m \u001b[0mverbose\u001b[0m\u001b[0;34m=\u001b[0m\u001b[0;36m0\u001b[0m\u001b[0;34m)\u001b[0m\u001b[0;34m\u001b[0m\u001b[0;34m\u001b[0m\u001b[0m\n\u001b[0m\u001b[1;32m    223\u001b[0m \u001b[0;34m\u001b[0m\u001b[0m\n\u001b[1;32m    224\u001b[0m                 \u001b[0;31m# O UNICO ATRIBUTO QUE ME INTERESSA E ESSE \"X\", QUE E A RESPOSTA ENCONTRADA DE FATO\u001b[0m\u001b[0;34m\u001b[0m\u001b[0;34m\u001b[0m\u001b[0;34m\u001b[0m\u001b[0m\n",
      "\u001b[0;32m~/venvIC/lib/python3.6/site-packages/scipy/optimize/_lsq/least_squares.py\u001b[0m in \u001b[0;36mleast_squares\u001b[0;34m(fun, x0, jac, bounds, method, ftol, xtol, gtol, x_scale, loss, f_scale, diff_step, tr_solver, tr_options, jac_sparsity, max_nfev, verbose, args, kwargs)\u001b[0m\n\u001b[1;32m    805\u001b[0m         \u001b[0mx0\u001b[0m \u001b[0;34m=\u001b[0m \u001b[0mmake_strictly_feasible\u001b[0m\u001b[0;34m(\u001b[0m\u001b[0mx0\u001b[0m\u001b[0;34m,\u001b[0m \u001b[0mlb\u001b[0m\u001b[0;34m,\u001b[0m \u001b[0mub\u001b[0m\u001b[0;34m)\u001b[0m\u001b[0;34m\u001b[0m\u001b[0;34m\u001b[0m\u001b[0m\n\u001b[1;32m    806\u001b[0m \u001b[0;34m\u001b[0m\u001b[0m\n\u001b[0;32m--> 807\u001b[0;31m     \u001b[0mf0\u001b[0m \u001b[0;34m=\u001b[0m \u001b[0mfun_wrapped\u001b[0m\u001b[0;34m(\u001b[0m\u001b[0mx0\u001b[0m\u001b[0;34m)\u001b[0m\u001b[0;34m\u001b[0m\u001b[0;34m\u001b[0m\u001b[0m\n\u001b[0m\u001b[1;32m    808\u001b[0m \u001b[0;34m\u001b[0m\u001b[0m\n\u001b[1;32m    809\u001b[0m     \u001b[0;32mif\u001b[0m \u001b[0mf0\u001b[0m\u001b[0;34m.\u001b[0m\u001b[0mndim\u001b[0m \u001b[0;34m!=\u001b[0m \u001b[0;36m1\u001b[0m\u001b[0;34m:\u001b[0m\u001b[0;34m\u001b[0m\u001b[0;34m\u001b[0m\u001b[0m\n",
      "\u001b[0;32m~/venvIC/lib/python3.6/site-packages/scipy/optimize/_lsq/least_squares.py\u001b[0m in \u001b[0;36mfun_wrapped\u001b[0;34m(x)\u001b[0m\n\u001b[1;32m    800\u001b[0m \u001b[0;34m\u001b[0m\u001b[0m\n\u001b[1;32m    801\u001b[0m     \u001b[0;32mdef\u001b[0m \u001b[0mfun_wrapped\u001b[0m\u001b[0;34m(\u001b[0m\u001b[0mx\u001b[0m\u001b[0;34m)\u001b[0m\u001b[0;34m:\u001b[0m\u001b[0;34m\u001b[0m\u001b[0;34m\u001b[0m\u001b[0m\n\u001b[0;32m--> 802\u001b[0;31m         \u001b[0;32mreturn\u001b[0m \u001b[0mnp\u001b[0m\u001b[0;34m.\u001b[0m\u001b[0matleast_1d\u001b[0m\u001b[0;34m(\u001b[0m\u001b[0mfun\u001b[0m\u001b[0;34m(\u001b[0m\u001b[0mx\u001b[0m\u001b[0;34m,\u001b[0m \u001b[0;34m*\u001b[0m\u001b[0margs\u001b[0m\u001b[0;34m,\u001b[0m \u001b[0;34m**\u001b[0m\u001b[0mkwargs\u001b[0m\u001b[0;34m)\u001b[0m\u001b[0;34m)\u001b[0m\u001b[0;34m\u001b[0m\u001b[0;34m\u001b[0m\u001b[0m\n\u001b[0m\u001b[1;32m    803\u001b[0m \u001b[0;34m\u001b[0m\u001b[0m\n\u001b[1;32m    804\u001b[0m     \u001b[0;32mif\u001b[0m \u001b[0mmethod\u001b[0m \u001b[0;34m==\u001b[0m \u001b[0;34m'trf'\u001b[0m\u001b[0;34m:\u001b[0m\u001b[0;34m\u001b[0m\u001b[0;34m\u001b[0m\u001b[0m\n",
      "\u001b[0;32m~/Programming/IC2019/DOA/Python/GeneralizedSidelobeCancellerClass.py\u001b[0m in \u001b[0;36mcalcularEnergiaSinalFinal\u001b[0;34m(self, arrayPesos)\u001b[0m\n\u001b[1;32m    203\u001b[0m                 \u001b[0msinalFinalLMS\u001b[0m \u001b[0;34m=\u001b[0m \u001b[0mself\u001b[0m\u001b[0;34m.\u001b[0m\u001b[0msinalBeamformado\u001b[0m \u001b[0;34m-\u001b[0m \u001b[0msinalFinalRuidoso\u001b[0m\u001b[0;34m\u001b[0m\u001b[0;34m\u001b[0m\u001b[0m\n\u001b[1;32m    204\u001b[0m \u001b[0;34m\u001b[0m\u001b[0m\n\u001b[0;32m--> 205\u001b[0;31m                 \u001b[0;32mreturn\u001b[0m \u001b[0mself\u001b[0m\u001b[0;34m.\u001b[0m\u001b[0mcalcularEnergiaSinal\u001b[0m\u001b[0;34m(\u001b[0m\u001b[0msinalFinalLMS\u001b[0m\u001b[0;34m)\u001b[0m\u001b[0;34m\u001b[0m\u001b[0;34m\u001b[0m\u001b[0m\n\u001b[0m\u001b[1;32m    206\u001b[0m \u001b[0;34m\u001b[0m\u001b[0m\n\u001b[1;32m    207\u001b[0m         \u001b[0;32mdef\u001b[0m \u001b[0mobterArrayPesos\u001b[0m\u001b[0;34m(\u001b[0m\u001b[0mself\u001b[0m\u001b[0;34m,\u001b[0m \u001b[0mqtdSinaisRuidosos\u001b[0m\u001b[0;34m)\u001b[0m\u001b[0;34m:\u001b[0m\u001b[0;34m\u001b[0m\u001b[0;34m\u001b[0m\u001b[0m\n",
      "\u001b[0;32m~/Programming/IC2019/DOA/Python/GeneralizedSidelobeCancellerClass.py\u001b[0m in \u001b[0;36mcalcularEnergiaSinal\u001b[0;34m(self, sinal)\u001b[0m\n\u001b[1;32m    176\u001b[0m \u001b[0;34m\u001b[0m\u001b[0m\n\u001b[1;32m    177\u001b[0m         \u001b[0;32mdef\u001b[0m \u001b[0mcalcularEnergiaSinal\u001b[0m\u001b[0;34m(\u001b[0m\u001b[0mself\u001b[0m\u001b[0;34m,\u001b[0m \u001b[0msinal\u001b[0m\u001b[0;34m)\u001b[0m\u001b[0;34m:\u001b[0m\u001b[0;34m\u001b[0m\u001b[0;34m\u001b[0m\u001b[0m\n\u001b[0;32m--> 178\u001b[0;31m                 \u001b[0;32mreturn\u001b[0m \u001b[0msum\u001b[0m\u001b[0;34m(\u001b[0m\u001b[0msinal\u001b[0m\u001b[0;34m**\u001b[0m\u001b[0;36m2\u001b[0m\u001b[0;34m)\u001b[0m\u001b[0;34m\u001b[0m\u001b[0;34m\u001b[0m\u001b[0m\n\u001b[0m\u001b[1;32m    179\u001b[0m \u001b[0;34m\u001b[0m\u001b[0m\n\u001b[1;32m    180\u001b[0m         \u001b[0;32mdef\u001b[0m \u001b[0mgerarSinalSemBeamforming\u001b[0m\u001b[0;34m(\u001b[0m\u001b[0mself\u001b[0m\u001b[0;34m,\u001b[0m \u001b[0marraySinaisOriginais\u001b[0m\u001b[0;34m)\u001b[0m\u001b[0;34m:\u001b[0m\u001b[0;34m\u001b[0m\u001b[0;34m\u001b[0m\u001b[0m\n",
      "\u001b[0;31mKeyboardInterrupt\u001b[0m: "
     ]
    }
   ],
   "source": [
    "# LISTANDO OS ARQUIVOS NO DIRETORIO DE ORIGEM\n",
    "arrayArquivos = os.listdir(pastaOrigem)\n",
    "totalArquivos = len(arrayArquivos)\n",
    "\n",
    "# CRIANDO UM ARRAY PRA ARMAZENAR OS TEMPOS DE PROCESSAMENTO\n",
    "arrayTempoProcessamentoGSC = []\n",
    "\n",
    "# PARA CADA ARQUIVO NA PASTA DE ORIGEM\n",
    "for i, arquivoAtual in enumerate(arrayArquivos):\n",
    "    \n",
    "        print(\"\\n\" + arquivoAtual + \": arquivo \" + str(i+1) + \" de \" + str(totalArquivos) + \" -> \" + str(100*((i+1)/totalArquivos)) + \"%\")\n",
    "        \n",
    "        # EU SIMULO UM ARRAY DE MICROFONES\n",
    "        caminhoArquivo = pastaOrigem + arquivoAtual\n",
    "        objSimularArrayMics = SimularArrayMicrofones(caminhoArquivo, qtdMics, amplitudeRuido)\n",
    "        arraySinaisSimulados, arrayDelays, freqAmostragem = objSimularArrayMics.obterResultado()\n",
    "        \n",
    "        # APLICO O BEAMFORMING E GSC\n",
    "        objGSC = GeneralizedSidelobeCanceller(arraySinaisSimulados, arrayDelays)\n",
    "        sinalSemBeamforming, sinalBeamformado, sinalFinalGSC = objGSC.obterSinaisResultantes()\n",
    "        arrayTempoProcessamentoGSC.append(objGSC.tempoProcessamentoGSC)\n",
    "        \n",
    "        # E POR FIM SALVO NAS PASTAS DE DESTINO\n",
    "        librosa.output.write_wav(pastaDestinoSemBeamforming + arquivoAtual, sinalSemBeamforming, freqAmostragem)\n",
    "        librosa.output.write_wav(pastaDestinoBeamforming + arquivoAtual, sinalBeamformado, freqAmostragem)\n",
    "        librosa.output.write_wav(pastaDestinoGSC + arquivoAtual, sinalFinalGSC, freqAmostragem)"
   ]
  },
  {
   "cell_type": "markdown",
   "metadata": {},
   "source": [
    "#### Verificando como foi o tempo de processamento"
   ]
  },
  {
   "cell_type": "code",
   "execution_count": null,
   "metadata": {},
   "outputs": [],
   "source": [
    "print(\"Tempo médio (seg):\\t\", np.mean(arrayTempoProcessamentoGSC))\n",
    "print(\"Tempo mínimo (seg):\\t\", np.amin(arrayTempoProcessamentoGSC))\n",
    "print(\"Tempo máximo (seg):\\t\", np.amax(arrayTempoProcessamentoGSC))\n",
    "print(\"Desvio padrão (seg):\\t\", np.std(arrayTempoProcessamentoGSC))\n",
    "print(\"Tempo total (min):\\t\", np.sum(arrayTempoProcessamentoGSC)/60)"
   ]
  },
  {
   "cell_type": "code",
   "execution_count": null,
   "metadata": {},
   "outputs": [],
   "source": []
  },
  {
   "cell_type": "code",
   "execution_count": null,
   "metadata": {},
   "outputs": [],
   "source": []
  },
  {
   "cell_type": "code",
   "execution_count": null,
   "metadata": {},
   "outputs": [],
   "source": []
  }
 ],
 "metadata": {
  "kernelspec": {
   "display_name": "Python 3",
   "language": "python",
   "name": "python3"
  },
  "language_info": {
   "codemirror_mode": {
    "name": "ipython",
    "version": 3
   },
   "file_extension": ".py",
   "mimetype": "text/x-python",
   "name": "python",
   "nbconvert_exporter": "python",
   "pygments_lexer": "ipython3",
   "version": "3.6.8"
  }
 },
 "nbformat": 4,
 "nbformat_minor": 2
}
