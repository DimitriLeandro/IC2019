{
 "cells": [
  {
   "cell_type": "markdown",
   "metadata": {},
   "source": [
    "# Testando a classe do GSC"
   ]
  },
  {
   "cell_type": "markdown",
   "metadata": {},
   "source": [
    "Como usar a classe:\n",
    "\n",
    "Ao instanciar um objeto dessa classe, basta enviar um array com os sinais originais dos microfones e pronto.\n",
    "Depois, é possível obter o sinalSemBeamforming (soma dos sinais originais), sinalBeamformado (sinal após um beamforming simples) e sinalFinalGSC utilizando o método obterSinaisResultantes().\n",
    "\n",
    "O atributo tempoProcessamentoGSC guarda o tempo total de processamento do algoritmo, desde o momento que se iniciou o cálculo dos delays entre os microfones até o momento em que o sinalFinalGSC foi criado.\n",
    "\n",
    "Caso estiver simulando um array de microfones e já conhecer os delays entre eles, também é possível pular o processamento que busca essas defasagens, bastando enviar no construtor um array com os delays (lembrando que esse array deve começar com 0, pois também é necessário possuir a defasagem entre o mic0 e o próprio mic0)."
   ]
  },
  {
   "cell_type": "code",
   "execution_count": 1,
   "metadata": {},
   "outputs": [],
   "source": [
    "import librosa\n",
    "import numpy as np\n",
    "import matplotlib.pyplot as plt\n",
    "from random import randint\n",
    "from IPython.display import Audio"
   ]
  },
  {
   "cell_type": "code",
   "execution_count": 2,
   "metadata": {},
   "outputs": [],
   "source": [
    "import sys\n",
    "sys.path.append('/home/dimi/Programming/IC2019/DOA/Python')\n",
    "from GeneralizedSidelobeCancellerClass import GeneralizedSidelobeCanceller"
   ]
  },
  {
   "cell_type": "markdown",
   "metadata": {},
   "source": [
    "## Abrindo o áudio para testar a classe"
   ]
  },
  {
   "cell_type": "markdown",
   "metadata": {},
   "source": [
    "A simulação 3 contém apenas um arquivo mono de um sinal de volz puro. Vou usar a classe de simular um array de microfones para gerar os sinais simulados com ruído."
   ]
  },
  {
   "cell_type": "code",
   "execution_count": 3,
   "metadata": {},
   "outputs": [
    {
     "ename": "AttributeError",
     "evalue": "'SimularArrayMicrofones' object has no attribute 'obterSinaisEDelays'",
     "output_type": "error",
     "traceback": [
      "\u001b[0;31m---------------------------------------------------------------------------\u001b[0m",
      "\u001b[0;31mAttributeError\u001b[0m                            Traceback (most recent call last)",
      "\u001b[0;32m<ipython-input-3-0306fb0184a9>\u001b[0m in \u001b[0;36m<module>\u001b[0;34m\u001b[0m\n\u001b[1;32m     11\u001b[0m \u001b[0;34m\u001b[0m\u001b[0m\n\u001b[1;32m     12\u001b[0m \u001b[0;31m# OBTENDO O ARRAY DE SINAIS E DE DELAYS E A FREQ DE AMOSTRAGEM\u001b[0m\u001b[0;34m\u001b[0m\u001b[0;34m\u001b[0m\u001b[0;34m\u001b[0m\u001b[0m\n\u001b[0;32m---> 13\u001b[0;31m \u001b[0marraySinaisSimulados\u001b[0m\u001b[0;34m,\u001b[0m \u001b[0marrayDelays\u001b[0m\u001b[0;34m,\u001b[0m \u001b[0mfreqAmostragem\u001b[0m \u001b[0;34m=\u001b[0m \u001b[0mobjSimularArrayMics\u001b[0m\u001b[0;34m.\u001b[0m\u001b[0mobterSinaisEDelays\u001b[0m\u001b[0;34m(\u001b[0m\u001b[0;34m)\u001b[0m\u001b[0;34m\u001b[0m\u001b[0;34m\u001b[0m\u001b[0m\n\u001b[0m",
      "\u001b[0;31mAttributeError\u001b[0m: 'SimularArrayMicrofones' object has no attribute 'obterSinaisEDelays'"
     ]
    }
   ],
   "source": [
    "# IMPORTANDO A CLASSE DE SIMULACAO DE ARRAY DE MICROFONES\n",
    "from SimularArrayMicrofonesClass import SimularArrayMicrofones\n",
    "\n",
    "# DEFININDO OS PARAMETROS INICIAIS\n",
    "caminhoArquivo = '/home/dimi/Programming/IC2019/DOA/Gravacoes/Simulacoes/Gravacao3/sinalPuroMono2Segundos.wav'\n",
    "qtdMics        = 4\n",
    "amplitudeRuido = 0.01\n",
    "\n",
    "# INSTANCIANDO UM OBJETO DA CLASSE \n",
    "objSimularArrayMics = SimularArrayMicrofones(caminhoArquivo, qtdMics, amplitudeRuido)\n",
    "\n",
    "# OBTENDO O ARRAY DE SINAIS E DE DELAYS E A FREQ DE AMOSTRAGEM\n",
    "arraySinaisSimulados, arrayDelays, freqAmostragem = objSimularArrayMics.obterResultado()"
   ]
  },
  {
   "cell_type": "markdown",
   "metadata": {},
   "source": [
    "## Testando a classe"
   ]
  },
  {
   "cell_type": "markdown",
   "metadata": {},
   "source": [
    "#### Instanciando um objeto da classe GSC (todo o processamento é feito aqui)"
   ]
  },
  {
   "cell_type": "markdown",
   "metadata": {},
   "source": [
    "Aqui eu também vou mandar o array de delays já que eu estou simulando um array de microfones e sei os valores dos delays. Mas em um caso real, basta omitir esse parâmetro que o padrão é None, e ele calcula as defasagens sozinho."
   ]
  },
  {
   "cell_type": "code",
   "execution_count": null,
   "metadata": {
    "scrolled": true
   },
   "outputs": [],
   "source": [
    "objGSC = GeneralizedSidelobeCanceller(arraySinaisSimulados, arrayDelays)"
   ]
  },
  {
   "cell_type": "markdown",
   "metadata": {},
   "source": [
    "#### Pegando os sinais gerados e o tempo de processamento"
   ]
  },
  {
   "cell_type": "code",
   "execution_count": null,
   "metadata": {},
   "outputs": [],
   "source": [
    "sinalSemBeamforming, sinalBeamformado, sinalFinalGSC = objGSC.obterSinaisResultantes()\n",
    "print(\"Tempo gasto:\", objGSC.tempoProcessamentoGSC)"
   ]
  },
  {
   "cell_type": "markdown",
   "metadata": {},
   "source": [
    "#### Ouvindo"
   ]
  },
  {
   "cell_type": "code",
   "execution_count": null,
   "metadata": {},
   "outputs": [],
   "source": [
    "print(\"Sinal sem beamforming:\")\n",
    "print(\"Energia:\", objGSC.calcularEnergiaSinal(sinalSemBeamforming))\n",
    "Audio(data=sinalSemBeamforming, rate=freqAmostragem)"
   ]
  },
  {
   "cell_type": "code",
   "execution_count": null,
   "metadata": {},
   "outputs": [],
   "source": [
    "print(\"Sinal beamformado:\")\n",
    "print(\"Energia:\", objGSC.calcularEnergiaSinal(sinalBeamformado))\n",
    "Audio(data=sinalBeamformado, rate=freqAmostragem)"
   ]
  },
  {
   "cell_type": "code",
   "execution_count": null,
   "metadata": {},
   "outputs": [],
   "source": [
    "print(\"Sinal final GSC:\")\n",
    "print(\"Energia:\", objGSC.calcularEnergiaSinal(sinalFinalGSC))\n",
    "Audio(data=sinalFinalGSC, rate=freqAmostragem)"
   ]
  },
  {
   "cell_type": "code",
   "execution_count": null,
   "metadata": {},
   "outputs": [],
   "source": []
  },
  {
   "cell_type": "code",
   "execution_count": null,
   "metadata": {},
   "outputs": [],
   "source": []
  }
 ],
 "metadata": {
  "kernelspec": {
   "display_name": "Python 3",
   "language": "python",
   "name": "python3"
  },
  "language_info": {
   "codemirror_mode": {
    "name": "ipython",
    "version": 3
   },
   "file_extension": ".py",
   "mimetype": "text/x-python",
   "name": "python",
   "nbconvert_exporter": "python",
   "pygments_lexer": "ipython3",
   "version": "3.6.8"
  }
 },
 "nbformat": 4,
 "nbformat_minor": 2
}
