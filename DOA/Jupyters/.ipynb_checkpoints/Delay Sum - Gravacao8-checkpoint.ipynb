{
 "cells": [
  {
   "cell_type": "markdown",
   "metadata": {},
   "source": [
    "# DELAY SUM - GRAVAÇÃO 8"
   ]
  },
  {
   "cell_type": "markdown",
   "metadata": {},
   "source": [
    "As coordenadas X, Y e Z em metros dos microfones são:\n",
    "\n",
    "mic1 = [0, 0, 0]\n",
    "\n",
    "mic2 = [0, 0.058, 0]\n",
    "\n",
    "mic3 = [0.058, 0.058, 0]\n",
    "\n",
    "mic4 = [0.058, 0, 0]"
   ]
  },
  {
   "cell_type": "code",
   "execution_count": 1,
   "metadata": {},
   "outputs": [],
   "source": [
    "import librosa\n",
    "import matplotlib.pyplot as plt\n",
    "from IPython.display import Audio\n",
    "import math\n",
    "import numpy as np"
   ]
  },
  {
   "cell_type": "markdown",
   "metadata": {},
   "source": [
    "## Declaração de Funções"
   ]
  },
  {
   "cell_type": "markdown",
   "metadata": {},
   "source": [
    "### Função para verificar o delay entre os microfones"
   ]
  },
  {
   "cell_type": "markdown",
   "metadata": {},
   "source": [
    "Essa função foi copiada e colada do algoritmo que já havia sido desenvolvido antes. É preciso mandar o argumento maxDelay, que é a quantidade de amostras contidas no maior delay possível entre dois microfones quaisquer."
   ]
  },
  {
   "cell_type": "code",
   "execution_count": 22,
   "metadata": {},
   "outputs": [],
   "source": [
    "def verificarDelay(sinalA, sinalB, maxDelay=15, verbose=False):\n",
    "    \n",
    "    # Verificando se os dois sinais tem o mesmo tamanho e se maxDelay é compatível\n",
    "    if len(sinalA) != len(sinalB) or maxDelay >= len(sinalA)-1 :\n",
    "        return False\n",
    "    \n",
    "    # Sei que o maior delay possível (em qtd de amostras) é maxDelay. Portanto, em cada iteração, \n",
    "    # a comparação entre os sinais para gerar a correlação se dará com arrays de tamanho \n",
    "    # len(sinal) - maxDelay\n",
    "    tamanho = len(sinalA) - maxDelay\n",
    "    \n",
    "    # O delay será a qtd de amostras pra trás ou para frente que há\n",
    "    # entre o sinal B em relação ao sinal A. Negativo significa que B está adiantado, 0 que não há\n",
    "    # delay e positivo que está atrasado.\n",
    "    delay = 0\n",
    "    melhorCorrelacao = -1\n",
    "    arrayCorrelacoes = []\n",
    "    \n",
    "    inicioA = 0\n",
    "    fimA    = inicioA + tamanho\n",
    "    inicioB = len(sinalB) - tamanho\n",
    "    fimB    = inicioB + tamanho\n",
    "    \n",
    "    # Fazendo as iterações e calculando a correlação entre os sinais\n",
    "    for i in range(-maxDelay, maxDelay+1):\n",
    "        \n",
    "        # Calculando a correlação da iteração atual\n",
    "        corrAtual = np.corrcoef(sinalA[inicioA:fimA], sinalB[inicioB:fimB])[0][1]\n",
    "        \n",
    "        # Verificando se encontramos uma correlacao maior ainda para atualizar o delay\n",
    "        if corrAtual > melhorCorrelacao:\n",
    "            melhorCorrelacao = corrAtual\n",
    "            delay = -i\n",
    "        \n",
    "        # Printando as iterações se verbose estiver ligado\n",
    "        if verbose == True:\n",
    "            arrayCorrelacoes.append(corrAtual)\n",
    "            plt.title(\"Delay \" + str(i))\n",
    "            plt.plot(sinalA[inicioA:fimA])\n",
    "            plt.plot(sinalB[inicioB:fimB])\n",
    "            plt.show()\n",
    "            print(\"Sinal A:\", int(inicioA), \"até\", int(fimA))\n",
    "            print(\"Sinal B:\", int(inicioB), \"até\", int(fimB))\n",
    "            print(\"Correlação Atual:\", corrAtual)\n",
    "            print(\"Melhor Correlação:\", melhorCorrelacao, \"(Delay \" + str(delay) + \")\\n\\n\\n\")\n",
    "            \n",
    "        # Fazendo os indexes dos arrays da próxima iteração. De i = -maxDelay até 0, o Sinal A \n",
    "        # fica parado e o Sinal B vem vindo pra trás. A partir de i = 1 até maxDelay, o Sinal B\n",
    "        # fica parado e o Sinal A vai embora.\n",
    "        if i < 0:\n",
    "            inicioB -= 1\n",
    "            fimB     = inicioB + tamanho\n",
    "        else:\n",
    "            inicioA += 1\n",
    "            fimA     = inicioA + tamanho\n",
    "         \n",
    "    # Se o verbose estiver ligado eu printo as correlações em função do delay tb\n",
    "    if verbose == True:\n",
    "        plt.title(\"Correlações em função dos delays\")\n",
    "        plt.plot(arrayCorrelacoes)\n",
    "        plt.show()\n",
    "    \n",
    "    # Retornando o delay\n",
    "    return -delay"
   ]
  },
  {
   "cell_type": "markdown",
   "metadata": {},
   "source": [
    "### Função para calcular o maior delay possível na geometria utilizada"
   ]
  },
  {
   "cell_type": "markdown",
   "metadata": {},
   "source": [
    "A função definirDelayMaximo pode calcular a quantidade de amostras do maior delay possível entre dois microfones. Basta enviar o tamanho do lado do array quadrado."
   ]
  },
  {
   "cell_type": "code",
   "execution_count": 3,
   "metadata": {},
   "outputs": [],
   "source": [
    "def definirDelayMaximo(freqAmostragem, L, velocidadeSom=340):\n",
    "    \n",
    "    # O delay máximo (em qtd de amostras) dar-se-á na diagonal dos microfones\n",
    "    diagonal     = math.sqrt(2 * (L**2))\n",
    "    tempo        = diagonal / velocidadeSom\n",
    "    qtdAmostras  = freqAmostragem * tempo\n",
    "    \n",
    "    # Adicionando mais 1 amostra pra garantir\n",
    "    return int(qtdAmostras + 1)"
   ]
  },
  {
   "cell_type": "markdown",
   "metadata": {},
   "source": [
    "### Funções de geometria analítica"
   ]
  },
  {
   "cell_type": "code",
   "execution_count": 4,
   "metadata": {},
   "outputs": [],
   "source": [
    "def vetorUnitario(vetor):\n",
    "    return vetor/np.linalg.norm(vetor)\n",
    "\n",
    "def anguloEntreDoisVetores(v1, v2):\n",
    "    v1Unitario = vetorUnitario(v1)\n",
    "    v2Unitario = vetorUnitario(v2)\n",
    "    return np.arccos(np.clip(np.dot(v1Unitario, v2Unitario), -1.0, 1.0))\n",
    "\n",
    "def anguloAzimutal(vetor):\n",
    "    return np.arctan(vetor[1]/vetor[0])\n",
    "    \n",
    "def anguloElevacao(vetor):\n",
    "    return anguloEntreDoisVetores([vetor[0], vetor[1], 0], vetor)\n",
    "\n",
    "def radParaGrau(angulo):\n",
    "    return (angulo*180)/math.pi"
   ]
  },
  {
   "cell_type": "code",
   "execution_count": null,
   "metadata": {},
   "outputs": [],
   "source": []
  },
  {
   "cell_type": "markdown",
   "metadata": {},
   "source": [
    "## Aplicando"
   ]
  },
  {
   "cell_type": "markdown",
   "metadata": {},
   "source": [
    "### 45 azimutal e 30 de elevação"
   ]
  },
  {
   "cell_type": "markdown",
   "metadata": {},
   "source": [
    "Importando os áudios"
   ]
  },
  {
   "cell_type": "code",
   "execution_count": 23,
   "metadata": {},
   "outputs": [],
   "source": [
    "mic1, freqAmostragem = librosa.load('/home/dimi/Programming/IC2019/DOA/Gravacoes/Gravacao8/45_30_mic-01.wav', sr=None, mono=True)\n",
    "mic2, freqAmostragem = librosa.load('/home/dimi/Programming/IC2019/DOA/Gravacoes/Gravacao8/45_30_mic-02.wav', sr=None, mono=True)\n",
    "mic3, freqAmostragem = librosa.load('/home/dimi/Programming/IC2019/DOA/Gravacoes/Gravacao8/45_30_mic-03.wav', sr=None, mono=True)\n",
    "mic4, freqAmostragem = librosa.load('/home/dimi/Programming/IC2019/DOA/Gravacoes/Gravacao8/45_30_mic-04.wav', sr=None, mono=True)"
   ]
  },
  {
   "cell_type": "markdown",
   "metadata": {},
   "source": [
    "##### Parâmetros Iniciais "
   ]
  },
  {
   "cell_type": "code",
   "execution_count": 24,
   "metadata": {},
   "outputs": [
    {
     "name": "stdout",
     "output_type": "stream",
     "text": [
      "Delay máximo de acordo com a geometria (qtdAmostras): 11\n"
     ]
    }
   ],
   "source": [
    "coordenadasMic1 = [0, 0, 0]\n",
    "coordenadasMic2 = [0, 0.058, 0]\n",
    "coordenadasMic3 = [0.058, 0.058, 0]\n",
    "coordenadasMic4 = [0.058, 0, 0]\n",
    "\n",
    "tamanhoLado = 0.058\n",
    "\n",
    "delayMax = definirDelayMaximo(freqAmostragem, L=tamanhoLado)\n",
    "print(\"Delay máximo de acordo com a geometria (qtdAmostras):\", delayMax)"
   ]
  },
  {
   "cell_type": "markdown",
   "metadata": {},
   "source": [
    "Calculando o delay entre os microfones tendo o primeiro como referência"
   ]
  },
  {
   "cell_type": "code",
   "execution_count": 25,
   "metadata": {
    "scrolled": true
   },
   "outputs": [
    {
     "name": "stdout",
     "output_type": "stream",
     "text": [
      "Delay entre os microfones 1 e 2 (qtd amostras): 5\n",
      "Delay entre os microfones 1 e 2 (qtd amostras): 11\n",
      "Delay entre os microfones 1 e 2 (qtd amostras): 4\n"
     ]
    }
   ],
   "source": [
    "delay12 = verificarDelay(mic1, mic2, maxDelay=delayMax)\n",
    "delay13 = verificarDelay(mic1, mic3, maxDelay=delayMax)\n",
    "delay14 = verificarDelay(mic1, mic4, maxDelay=delayMax)\n",
    "\n",
    "print(\"Delay entre os microfones 1 e 2 (qtd amostras):\", delay12)\n",
    "print(\"Delay entre os microfones 1 e 2 (qtd amostras):\", delay13)\n",
    "print(\"Delay entre os microfones 1 e 2 (qtd amostras):\", delay14)"
   ]
  },
  {
   "cell_type": "markdown",
   "metadata": {},
   "source": [
    "Resolvendo a equação matricial com mínimos quadrados\n",
    "\n",
    "|mic2x mic2y mic2z| |wx| |vSom.delay12|\n",
    "\n",
    "|mic3x mic3y mic3z|.|wy|=|vSom.delay13|\n",
    "\n",
    "|mic4x mic4y mic4z| |wz| |vSom.delay14|"
   ]
  },
  {
   "cell_type": "code",
   "execution_count": 26,
   "metadata": {},
   "outputs": [
    {
     "name": "stdout",
     "output_type": "stream",
     "text": [
      "[0.62032476 0.75325149 0.        ]\n"
     ]
    }
   ],
   "source": [
    "# A É A MATRIZ DAS INCOGNITAS\n",
    "A = np.array([\n",
    "    coordenadasMic2,\n",
    "    coordenadasMic3,\n",
    "    coordenadasMic4\n",
    "])\n",
    "\n",
    "# B É O VETOR DE COEFICIENTES\n",
    "b = np.array([(delay12/freqAmostragem)*340, (delay13/freqAmostragem)*340, (delay14/freqAmostragem)*340])\n",
    "\n",
    "# W É O VETOR QUE REPRESENTA O PONTO DE ONDE O SOM VEIO\n",
    "w, residuals, rank, s = np.linalg.lstsq(A,b, rcond=None)\n",
    "print(w)"
   ]
  },
  {
   "cell_type": "markdown",
   "metadata": {},
   "source": [
    "Calculando o resultado"
   ]
  },
  {
   "cell_type": "code",
   "execution_count": 27,
   "metadata": {},
   "outputs": [
    {
     "name": "stdout",
     "output_type": "stream",
     "text": [
      "Ângulo Azimutal: 50.527540151656154\n",
      "Ângulo de Elevação: 0.0\n"
     ]
    }
   ],
   "source": [
    "print(\"Ângulo Azimutal:\", radParaGrau(anguloAzimutal(w)))\n",
    "print(\"Ângulo de Elevação:\", radParaGrau(anguloElevacao(w)))"
   ]
  },
  {
   "cell_type": "code",
   "execution_count": null,
   "metadata": {},
   "outputs": [],
   "source": []
  },
  {
   "cell_type": "markdown",
   "metadata": {},
   "source": [
    "### 90 azimutal e 30 de elevação"
   ]
  },
  {
   "cell_type": "markdown",
   "metadata": {},
   "source": [
    "Importando os áudios"
   ]
  },
  {
   "cell_type": "code",
   "execution_count": 28,
   "metadata": {},
   "outputs": [],
   "source": [
    "mic1, freqAmostragem = librosa.load('/home/dimi/Programming/IC2019/DOA/Gravacoes/Gravacao8/90_30_mic-01.wav', sr=None, mono=True)\n",
    "mic2, freqAmostragem = librosa.load('/home/dimi/Programming/IC2019/DOA/Gravacoes/Gravacao8/90_30_mic-02.wav', sr=None, mono=True)\n",
    "mic3, freqAmostragem = librosa.load('/home/dimi/Programming/IC2019/DOA/Gravacoes/Gravacao8/90_30_mic-03.wav', sr=None, mono=True)\n",
    "mic4, freqAmostragem = librosa.load('/home/dimi/Programming/IC2019/DOA/Gravacoes/Gravacao8/90_30_mic-04.wav', sr=None, mono=True)"
   ]
  },
  {
   "cell_type": "markdown",
   "metadata": {},
   "source": [
    "Calculando o delay entre os microfones tendo o primeiro como referência"
   ]
  },
  {
   "cell_type": "code",
   "execution_count": 29,
   "metadata": {
    "scrolled": true
   },
   "outputs": [
    {
     "name": "stdout",
     "output_type": "stream",
     "text": [
      "Delay entre os microfones 1 e 2 (qtd amostras): 6\n",
      "Delay entre os microfones 1 e 2 (qtd amostras): 9\n",
      "Delay entre os microfones 1 e 2 (qtd amostras): 3\n"
     ]
    }
   ],
   "source": [
    "delay12 = verificarDelay(mic1, mic2, maxDelay=delayMax)\n",
    "delay13 = verificarDelay(mic1, mic3, maxDelay=delayMax)\n",
    "delay14 = verificarDelay(mic1, mic4, maxDelay=delayMax)\n",
    "\n",
    "print(\"Delay entre os microfones 1 e 2 (qtd amostras):\", delay12)\n",
    "print(\"Delay entre os microfones 1 e 2 (qtd amostras):\", delay13)\n",
    "print(\"Delay entre os microfones 1 e 2 (qtd amostras):\", delay14)"
   ]
  },
  {
   "cell_type": "markdown",
   "metadata": {},
   "source": [
    "Resolvendo a equação matricial com mínimos quadrados\n",
    "\n",
    "|mic2x mic2y mic2z| |wx| |vSom.delay12|\n",
    "\n",
    "|mic3x mic3y mic3z|.|wy|=|vSom.delay13|\n",
    "\n",
    "|mic4x mic4y mic4z| |wz| |vSom.delay14|"
   ]
  },
  {
   "cell_type": "code",
   "execution_count": 30,
   "metadata": {},
   "outputs": [
    {
     "name": "stdout",
     "output_type": "stream",
     "text": [
      "[0.3987802 0.7975604 0.       ]\n"
     ]
    }
   ],
   "source": [
    "# A É A MATRIZ DAS INCOGNITAS\n",
    "A = np.array([\n",
    "    coordenadasMic2,\n",
    "    coordenadasMic3,\n",
    "    coordenadasMic4\n",
    "])\n",
    "\n",
    "# B É O VETOR DE COEFICIENTES\n",
    "b = np.array([(delay12/freqAmostragem)*340, (delay13/freqAmostragem)*340, (delay14/freqAmostragem)*340])\n",
    "\n",
    "# W É O VETOR QUE REPRESENTA O PONTO DE ONDE O SOM VEIO\n",
    "w, residuals, rank, s = np.linalg.lstsq(A,b, rcond=None)\n",
    "print(w)"
   ]
  },
  {
   "cell_type": "markdown",
   "metadata": {},
   "source": [
    "Calculando o resultado"
   ]
  },
  {
   "cell_type": "code",
   "execution_count": 31,
   "metadata": {
    "scrolled": true
   },
   "outputs": [
    {
     "name": "stdout",
     "output_type": "stream",
     "text": [
      "Ângulo Azimutal: 63.43494882292201\n",
      "Ângulo de Elevação: 0.0\n"
     ]
    }
   ],
   "source": [
    "print(\"Ângulo Azimutal:\", radParaGrau(anguloAzimutal(w)))\n",
    "print(\"Ângulo de Elevação:\", radParaGrau(anguloElevacao(w)))"
   ]
  },
  {
   "cell_type": "code",
   "execution_count": null,
   "metadata": {},
   "outputs": [],
   "source": []
  },
  {
   "cell_type": "markdown",
   "metadata": {},
   "source": [
    "### 180 azimutal e 60 de elevação"
   ]
  },
  {
   "cell_type": "markdown",
   "metadata": {},
   "source": [
    "Importando os áudios"
   ]
  },
  {
   "cell_type": "code",
   "execution_count": 32,
   "metadata": {},
   "outputs": [],
   "source": [
    "mic1, freqAmostragem = librosa.load('/home/dimi/Programming/IC2019/DOA/Gravacoes/Gravacao8/180_60_mic-01.wav', sr=None, mono=True)\n",
    "mic2, freqAmostragem = librosa.load('/home/dimi/Programming/IC2019/DOA/Gravacoes/Gravacao8/180_60_mic-02.wav', sr=None, mono=True)\n",
    "mic3, freqAmostragem = librosa.load('/home/dimi/Programming/IC2019/DOA/Gravacoes/Gravacao8/180_60_mic-03.wav', sr=None, mono=True)\n",
    "mic4, freqAmostragem = librosa.load('/home/dimi/Programming/IC2019/DOA/Gravacoes/Gravacao8/180_60_mic-04.wav', sr=None, mono=True)"
   ]
  },
  {
   "cell_type": "markdown",
   "metadata": {},
   "source": [
    "Calculando o delay entre os microfones tendo o primeiro como referência"
   ]
  },
  {
   "cell_type": "code",
   "execution_count": 33,
   "metadata": {
    "scrolled": true
   },
   "outputs": [
    {
     "name": "stdout",
     "output_type": "stream",
     "text": [
      "Delay entre os microfones 1 e 2 (qtd amostras): 0\n",
      "Delay entre os microfones 1 e 2 (qtd amostras): -1\n",
      "Delay entre os microfones 1 e 2 (qtd amostras): 0\n"
     ]
    }
   ],
   "source": [
    "delay12 = verificarDelay(mic1, mic2, maxDelay=delayMax)\n",
    "delay13 = verificarDelay(mic1, mic3, maxDelay=delayMax)\n",
    "delay14 = verificarDelay(mic1, mic4, maxDelay=delayMax)\n",
    "\n",
    "print(\"Delay entre os microfones 1 e 2 (qtd amostras):\", delay12)\n",
    "print(\"Delay entre os microfones 1 e 2 (qtd amostras):\", delay13)\n",
    "print(\"Delay entre os microfones 1 e 2 (qtd amostras):\", delay14)"
   ]
  },
  {
   "cell_type": "markdown",
   "metadata": {},
   "source": [
    "Resolvendo a equação matricial com mínimos quadrados\n",
    "\n",
    "|mic2x mic2y mic2z| |wx| |vSom.delay12|\n",
    "\n",
    "|mic3x mic3y mic3z|.|wy|=|vSom.delay13|\n",
    "\n",
    "|mic4x mic4y mic4z| |wz| |vSom.delay14|"
   ]
  },
  {
   "cell_type": "code",
   "execution_count": 34,
   "metadata": {},
   "outputs": [
    {
     "name": "stdout",
     "output_type": "stream",
     "text": [
      "[-0.04430891 -0.04430891  0.        ]\n"
     ]
    }
   ],
   "source": [
    "# A É A MATRIZ DAS INCOGNITAS\n",
    "A = np.array([\n",
    "    coordenadasMic2,\n",
    "    coordenadasMic3,\n",
    "    coordenadasMic4\n",
    "])\n",
    "\n",
    "# B É O VETOR DE COEFICIENTES\n",
    "b = np.array([(delay12/freqAmostragem)*340, (delay13/freqAmostragem)*340, (delay14/freqAmostragem)*340])\n",
    "\n",
    "# W É O VETOR QUE REPRESENTA O PONTO DE ONDE O SOM VEIO\n",
    "w, residuals, rank, s = np.linalg.lstsq(A,b, rcond=None)\n",
    "print(w)"
   ]
  },
  {
   "cell_type": "markdown",
   "metadata": {},
   "source": [
    "Calculando o resultado"
   ]
  },
  {
   "cell_type": "code",
   "execution_count": 35,
   "metadata": {
    "scrolled": true
   },
   "outputs": [
    {
     "name": "stdout",
     "output_type": "stream",
     "text": [
      "Ângulo Azimutal: 44.999999999999986\n",
      "Ângulo de Elevação: 0.0\n"
     ]
    }
   ],
   "source": [
    "print(\"Ângulo Azimutal:\", radParaGrau(anguloAzimutal(w)))\n",
    "print(\"Ângulo de Elevação:\", radParaGrau(anguloElevacao(w)))"
   ]
  },
  {
   "cell_type": "code",
   "execution_count": null,
   "metadata": {},
   "outputs": [],
   "source": []
  }
 ],
 "metadata": {
  "kernelspec": {
   "display_name": "Python 3",
   "language": "python",
   "name": "python3"
  },
  "language_info": {
   "codemirror_mode": {
    "name": "ipython",
    "version": 3
   },
   "file_extension": ".py",
   "mimetype": "text/x-python",
   "name": "python",
   "nbconvert_exporter": "python",
   "pygments_lexer": "ipython3",
   "version": "3.7.3"
  }
 },
 "nbformat": 4,
 "nbformat_minor": 2
}
