{
 "cells": [
  {
   "cell_type": "markdown",
   "metadata": {},
   "source": [
    "# Implementação de algoritmo para usar as classes de simulação de array de microfones e GSC para o SESA Dataset"
   ]
  },
  {
   "cell_type": "markdown",
   "metadata": {},
   "source": [
    "A ideia desse jupyter é criar um algoritmo que, dadas a pasta de origem e as de destino, simule um array de microfones com os áudios da pasta de origem e salve os sinais sem beamforming, com beamforming e com GSC nas pastas de destino."
   ]
  },
  {
   "cell_type": "code",
   "execution_count": 1,
   "metadata": {},
   "outputs": [],
   "source": [
    "import os\n",
    "import librosa\n",
    "import math\n",
    "import numpy as np\n",
    "import matplotlib.pyplot as plt\n",
    "from IPython.display import Audio"
   ]
  },
  {
   "cell_type": "markdown",
   "metadata": {},
   "source": [
    "#### Importando as classes criadas"
   ]
  },
  {
   "cell_type": "code",
   "execution_count": 2,
   "metadata": {},
   "outputs": [],
   "source": [
    "import sys\n",
    "sys.path.append('/home/dimi/Programming/IC2019/DOA/Python')\n",
    "\n",
    "from GeneralizedSidelobeCancellerClass import GeneralizedSidelobeCanceller\n",
    "from SimularArrayMicrofonesClass import SimularArrayMicrofones"
   ]
  },
  {
   "cell_type": "markdown",
   "metadata": {},
   "source": [
    "## Definindo uma boa amplitude para o ruído"
   ]
  },
  {
   "cell_type": "markdown",
   "metadata": {},
   "source": [
    "Pela definição, se a média do sinal for 0, pode-se aproximar a energia do sinal pela variância. A SNR pode ser definida como 10 * log_10 (var(sinal)/var(ruído)).\n",
    "\n",
    "\"Engineers consider a SNR of 2 (3 dB) to be the boundary between low and high SNRs\".\n",
    "\n",
    "http://www.scholarpedia.org/article/Signal-to-noise_ratio"
   ]
  },
  {
   "cell_type": "code",
   "execution_count": 3,
   "metadata": {},
   "outputs": [],
   "source": [
    "def calcularSNR(sinal, ruido):\n",
    "    return 10 * math.log((np.var(sinal)/np.var(ruido)), 10)"
   ]
  },
  {
   "cell_type": "markdown",
   "metadata": {},
   "source": [
    "A função abaixo é exatamente a mesma que está sendo usada na classe SimularArrayMicrofones. Essa parte do jupyter vai servir apenas para achar uma boa SNR para realizar os testes."
   ]
  },
  {
   "cell_type": "code",
   "execution_count": 4,
   "metadata": {},
   "outputs": [],
   "source": [
    "def gerarRuidoBranco(qtdAmostras, energiaRuido):\n",
    "\n",
    "    media        = 0\n",
    "    desvioPadrao = 1\n",
    "\n",
    "    return np.random.normal(media, desvioPadrao, size=qtdAmostras) * energiaRuido**(1/2)"
   ]
  },
  {
   "cell_type": "markdown",
   "metadata": {},
   "source": [
    "O sinal que será aberto para fazer o teste **JÁ DEVE ESTAR NORMALIZADO PELA ENERGIA**, assim, fica muito mais fácil calcular a SNR."
   ]
  },
  {
   "cell_type": "code",
   "execution_count": 56,
   "metadata": {
    "scrolled": false
   },
   "outputs": [
    {
     "data": {
      "image/png": "[encoded data removed]",
      "text/plain": [
       "<Figure size 432x288 with 1 Axes>"
      ]
     },
     "metadata": {
      "needs_background": "light"
     },
     "output_type": "display_data"
    }
   ],
   "source": [
    "caminho = \"/home/dimi/Downloads/Datasets/SESA/SESA_Normalizado/test/casual_015.wav\"\n",
    "sinalOriginal, freqAmostragem = librosa.load(caminho, sr=None, mono=True)\n",
    "ruido = gerarRuidoBranco(len(sinalOriginal), 0.00315)\n",
    "\n",
    "plt.plot(sinalOriginal, label=\"Sinal\")\n",
    "plt.plot(ruido, label=\"Ruído\")\n",
    "plt.legend()\n",
    "plt.show()"
   ]
  },
  {
   "cell_type": "code",
   "execution_count": 57,
   "metadata": {},
   "outputs": [
    {
     "name": "stdout",
     "output_type": "stream",
     "text": [
      "Energia do sinal: 1.0000001\n",
      "Energia do ruído: 0.0031144590708053737\n",
      "SNR:\t\t  25.066174238792158\n"
     ]
    }
   ],
   "source": [
    "print(\"Energia do sinal:\", np.var(sinalOriginal))\n",
    "print(\"Energia do ruído:\", np.var(ruido))\n",
    "print(\"SNR:\\t\\t \", calcularSNR(sinalOriginal, ruido))"
   ]
  },
  {
   "cell_type": "code",
   "execution_count": null,
   "metadata": {
    "scrolled": true
   },
   "outputs": [],
   "source": [
    "print(\"Original\")\n",
    "Audio(data=sinalOriginal, rate=freqAmostragem)"
   ]
  },
  {
   "cell_type": "code",
   "execution_count": null,
   "metadata": {
    "scrolled": false
   },
   "outputs": [],
   "source": [
    "print(\"Com ruído\")\n",
    "sinalComRuido = sinalOriginal + ruido\n",
    "Audio(data=sinalComRuido, rate=freqAmostragem)"
   ]
  },
  {
   "cell_type": "markdown",
   "metadata": {},
   "source": [
    "## Rodando o algoritmo"
   ]
  },
  {
   "cell_type": "markdown",
   "metadata": {},
   "source": [
    "#### Definindo os parâmetros iniciais desse algoritmo"
   ]
  },
  {
   "cell_type": "code",
   "execution_count": 58,
   "metadata": {},
   "outputs": [],
   "source": [
    "pastaOrigem                = '/home/dimi/Downloads/Datasets/SESA/SESA_Normalizado/test/'\n",
    "pastaDestinoSemBeamforming = '/home/dimi/Downloads/Datasets/SESA/SESA_Normalizado/outros/SNR_25dB/testeSemBeamforming/'\n",
    "pastaDestinoBeamforming    = '/home/dimi/Downloads/Datasets/SESA/SESA_Normalizado/outros/SNR_25dB/testeBeamforming/'\n",
    "pastaDestinoGSC            = '/home/dimi/Downloads/Datasets/SESA/SESA_Normalizado/outros/SNR_25dB/testeGSC/'"
   ]
  },
  {
   "cell_type": "markdown",
   "metadata": {},
   "source": [
    "#### Definindo os parâmetros iniciais da classe de simulação de array de microfones"
   ]
  },
  {
   "cell_type": "code",
   "execution_count": 59,
   "metadata": {},
   "outputs": [],
   "source": [
    "qtdMics      = 4\n",
    "energiaRuido = 0.00315"
   ]
  },
  {
   "cell_type": "markdown",
   "metadata": {},
   "source": [
    "#### Rodando o algoritmo"
   ]
  },
  {
   "cell_type": "code",
   "execution_count": null,
   "metadata": {},
   "outputs": [
    {
     "name": "stdout",
     "output_type": "stream",
     "text": [
      "\n",
      "casual_059.wav: arquivo 1 de 105 -> 0.9523809523809524%\n",
      "Iniciando a filtragem adaptativa com LMS\n",
      "Tempo total gasto para processar o GSC completo (segundos): 1.1333260536193848\n",
      "\n",
      "gunshot_093.wav: arquivo 2 de 105 -> 1.9047619047619049%\n",
      "Iniciando a filtragem adaptativa com LMS\n",
      "Tempo total gasto para processar o GSC completo (segundos): 1.2158727645874023\n",
      "\n",
      "explosion_140.wav: arquivo 3 de 105 -> 2.857142857142857%\n",
      "Iniciando a filtragem adaptativa com LMS\n",
      "Tempo total gasto para processar o GSC completo (segundos): 0.3666801452636719\n",
      "\n",
      "explosion_046.wav: arquivo 4 de 105 -> 3.8095238095238098%\n",
      "Iniciando a filtragem adaptativa com LMS\n",
      "Tempo total gasto para processar o GSC completo (segundos): 3.3752636909484863\n",
      "\n",
      "casual_044.wav: arquivo 5 de 105 -> 4.761904761904762%\n",
      "Iniciando a filtragem adaptativa com LMS\n",
      "Tempo total gasto para processar o GSC completo (segundos): 4.60619592666626\n",
      "\n",
      "casual_083.wav: arquivo 6 de 105 -> 5.714285714285714%\n",
      "Iniciando a filtragem adaptativa com LMS\n",
      "Tempo total gasto para processar o GSC completo (segundos): 4.538368225097656\n",
      "\n",
      "siren_089.wav: arquivo 7 de 105 -> 6.666666666666667%\n",
      "Iniciando a filtragem adaptativa com LMS\n",
      "Tempo total gasto para processar o GSC completo (segundos): 2.6972012519836426\n",
      "\n",
      "explosion_022.wav: arquivo 8 de 105 -> 7.6190476190476195%\n",
      "Iniciando a filtragem adaptativa com LMS\n",
      "Tempo total gasto para processar o GSC completo (segundos): 0.8432784080505371\n",
      "\n",
      "casual_121.wav: arquivo 9 de 105 -> 8.571428571428571%\n",
      "Iniciando a filtragem adaptativa com LMS\n",
      "Tempo total gasto para processar o GSC completo (segundos): 0.912630558013916\n",
      "\n",
      "gunshot_076.wav: arquivo 10 de 105 -> 9.523809523809524%\n",
      "Iniciando a filtragem adaptativa com LMS\n",
      "Tempo total gasto para processar o GSC completo (segundos): 0.9381318092346191\n",
      "\n",
      "explosion_195.wav: arquivo 11 de 105 -> 10.476190476190476%\n",
      "Iniciando a filtragem adaptativa com LMS\n",
      "Tempo total gasto para processar o GSC completo (segundos): 0.6160764694213867\n",
      "\n",
      "explosion_007.wav: arquivo 12 de 105 -> 11.428571428571429%\n",
      "Iniciando a filtragem adaptativa com LMS\n",
      "Tempo total gasto para processar o GSC completo (segundos): 1.552922248840332\n",
      "\n",
      "explosion_067.wav: arquivo 13 de 105 -> 12.380952380952381%\n",
      "Iniciando a filtragem adaptativa com LMS\n",
      "Tempo total gasto para processar o GSC completo (segundos): 1.641653299331665\n",
      "\n",
      "explosion_208.wav: arquivo 14 de 105 -> 13.333333333333334%\n",
      "Iniciando a filtragem adaptativa com LMS\n",
      "Tempo total gasto para processar o GSC completo (segundos): 2.7485299110412598\n",
      "\n",
      "explosion_189.wav: arquivo 15 de 105 -> 14.285714285714285%\n",
      "Iniciando a filtragem adaptativa com LMS\n",
      "Tempo total gasto para processar o GSC completo (segundos): 1.5239274501800537\n",
      "\n",
      "explosion_025.wav: arquivo 16 de 105 -> 15.238095238095239%\n",
      "Iniciando a filtragem adaptativa com LMS\n",
      "Tempo total gasto para processar o GSC completo (segundos): 0.4656987190246582\n",
      "\n",
      "casual_009.wav: arquivo 17 de 105 -> 16.19047619047619%\n",
      "Iniciando a filtragem adaptativa com LMS\n",
      "Tempo total gasto para processar o GSC completo (segundos): 0.7344341278076172\n",
      "\n",
      "explosion_108.wav: arquivo 18 de 105 -> 17.142857142857142%\n",
      "Iniciando a filtragem adaptativa com LMS\n",
      "Tempo total gasto para processar o GSC completo (segundos): 0.40958595275878906\n",
      "\n",
      "explosion_156.wav: arquivo 19 de 105 -> 18.095238095238095%\n",
      "Iniciando a filtragem adaptativa com LMS\n",
      "Tempo total gasto para processar o GSC completo (segundos): 0.5975799560546875\n",
      "\n",
      "gunshot_098.wav: arquivo 20 de 105 -> 19.047619047619047%\n",
      "Iniciando a filtragem adaptativa com LMS\n",
      "Tempo total gasto para processar o GSC completo (segundos): 1.9134058952331543\n",
      "\n",
      "casual_054.wav: arquivo 21 de 105 -> 20.0%\n",
      "Iniciando a filtragem adaptativa com LMS\n",
      "Tempo total gasto para processar o GSC completo (segundos): 0.8521637916564941\n",
      "\n",
      "siren_018.wav: arquivo 22 de 105 -> 20.952380952380953%\n",
      "Iniciando a filtragem adaptativa com LMS\n",
      "Tempo total gasto para processar o GSC completo (segundos): 1.5931406021118164\n",
      "\n",
      "explosion_052.wav: arquivo 23 de 105 -> 21.904761904761905%\n",
      "Iniciando a filtragem adaptativa com LMS\n",
      "Tempo total gasto para processar o GSC completo (segundos): 0.3587660789489746\n",
      "\n",
      "siren_099.wav: arquivo 24 de 105 -> 22.857142857142858%\n",
      "Iniciando a filtragem adaptativa com LMS\n",
      "Tempo total gasto para processar o GSC completo (segundos): 5.68785548210144\n",
      "\n",
      "gunshot_047.wav: arquivo 25 de 105 -> 23.809523809523807%\n",
      "Iniciando a filtragem adaptativa com LMS\n",
      "Tempo total gasto para processar o GSC completo (segundos): 0.6709461212158203\n",
      "\n",
      "siren_035.wav: arquivo 26 de 105 -> 24.761904761904763%\n",
      "Iniciando a filtragem adaptativa com LMS\n",
      "Tempo total gasto para processar o GSC completo (segundos): 15.2351553440094\n",
      "\n",
      "explosion_085.wav: arquivo 27 de 105 -> 25.71428571428571%\n",
      "Iniciando a filtragem adaptativa com LMS\n",
      "Tempo total gasto para processar o GSC completo (segundos): 0.7630500793457031\n",
      "\n",
      "gunshot_084.wav: arquivo 28 de 105 -> 26.666666666666668%\n",
      "Iniciando a filtragem adaptativa com LMS\n",
      "Tempo total gasto para processar o GSC completo (segundos): 0.6934061050415039\n",
      "\n",
      "explosion_034.wav: arquivo 29 de 105 -> 27.61904761904762%\n",
      "Iniciando a filtragem adaptativa com LMS\n",
      "Tempo total gasto para processar o GSC completo (segundos): 4.417661666870117\n",
      "\n",
      "casual_000.wav: arquivo 30 de 105 -> 28.57142857142857%\n",
      "Iniciando a filtragem adaptativa com LMS\n",
      "Tempo total gasto para processar o GSC completo (segundos): 3.392629623413086\n",
      "\n",
      "casual_089.wav: arquivo 31 de 105 -> 29.523809523809526%\n",
      "Iniciando a filtragem adaptativa com LMS\n",
      "Tempo total gasto para processar o GSC completo (segundos): 0.9553143978118896\n",
      "\n",
      "siren_102.wav: arquivo 32 de 105 -> 30.476190476190478%\n",
      "Iniciando a filtragem adaptativa com LMS\n",
      "Tempo total gasto para processar o GSC completo (segundos): 0.8995606899261475\n",
      "\n",
      "gunshot_061.wav: arquivo 33 de 105 -> 31.428571428571427%\n",
      "Iniciando a filtragem adaptativa com LMS\n",
      "Tempo total gasto para processar o GSC completo (segundos): 0.9856183528900146\n",
      "\n",
      "explosion_088.wav: arquivo 34 de 105 -> 32.38095238095238%\n",
      "Iniciando a filtragem adaptativa com LMS\n",
      "Tempo total gasto para processar o GSC completo (segundos): 1.6956145763397217\n",
      "\n",
      "siren_097.wav: arquivo 35 de 105 -> 33.33333333333333%\n",
      "Iniciando a filtragem adaptativa com LMS\n",
      "Tempo total gasto para processar o GSC completo (segundos): 4.614516019821167\n",
      "\n",
      "explosion_186.wav: arquivo 36 de 105 -> 34.285714285714285%\n",
      "Iniciando a filtragem adaptativa com LMS\n",
      "Tempo total gasto para processar o GSC completo (segundos): 0.6277375221252441\n",
      "\n",
      "casual_031.wav: arquivo 37 de 105 -> 35.23809523809524%\n",
      "Iniciando a filtragem adaptativa com LMS\n",
      "Tempo total gasto para processar o GSC completo (segundos): 1.8191845417022705\n",
      "\n",
      "explosion_203.wav: arquivo 38 de 105 -> 36.19047619047619%\n",
      "Iniciando a filtragem adaptativa com LMS\n",
      "Tempo total gasto para processar o GSC completo (segundos): 0.3159952163696289\n",
      "\n",
      "explosion_079.wav: arquivo 39 de 105 -> 37.142857142857146%\n",
      "Iniciando a filtragem adaptativa com LMS\n",
      "Tempo total gasto para processar o GSC completo (segundos): 0.47395920753479004\n",
      "\n",
      "gunshot_091.wav: arquivo 40 de 105 -> 38.095238095238095%\n",
      "Iniciando a filtragem adaptativa com LMS\n",
      "Tempo total gasto para processar o GSC completo (segundos): 0.4988400936126709\n",
      "\n",
      "casual_075.wav: arquivo 41 de 105 -> 39.04761904761905%\n",
      "Iniciando a filtragem adaptativa com LMS\n",
      "Tempo total gasto para processar o GSC completo (segundos): 12.69370436668396\n",
      "\n",
      "gunshot_026.wav: arquivo 42 de 105 -> 40.0%\n",
      "Iniciando a filtragem adaptativa com LMS\n",
      "Tempo total gasto para processar o GSC completo (segundos): 1.7375454902648926\n",
      "\n",
      "siren_047.wav: arquivo 43 de 105 -> 40.95238095238095%\n",
      "Iniciando a filtragem adaptativa com LMS\n",
      "Tempo total gasto para processar o GSC completo (segundos): 1.140554666519165\n",
      "\n",
      "gunshot_045.wav: arquivo 44 de 105 -> 41.904761904761905%\n",
      "Iniciando a filtragem adaptativa com LMS\n",
      "Tempo total gasto para processar o GSC completo (segundos): 4.372718572616577\n",
      "\n",
      "casual_038.wav: arquivo 45 de 105 -> 42.857142857142854%\n",
      "Iniciando a filtragem adaptativa com LMS\n",
      "Tempo total gasto para processar o GSC completo (segundos): 0.3844308853149414\n",
      "\n",
      "explosion_182.wav: arquivo 46 de 105 -> 43.80952380952381%\n",
      "Iniciando a filtragem adaptativa com LMS\n",
      "Tempo total gasto para processar o GSC completo (segundos): 1.110227108001709\n",
      "\n",
      "gunshot_072.wav: arquivo 47 de 105 -> 44.761904761904766%\n",
      "Iniciando a filtragem adaptativa com LMS\n"
     ]
    },
    {
     "name": "stdout",
     "output_type": "stream",
     "text": [
      "Tempo total gasto para processar o GSC completo (segundos): 0.6921887397766113\n",
      "\n",
      "explosion_036.wav: arquivo 48 de 105 -> 45.714285714285715%\n",
      "Iniciando a filtragem adaptativa com LMS\n",
      "Tempo total gasto para processar o GSC completo (segundos): 0.55301833152771\n",
      "\n",
      "explosion_129.wav: arquivo 49 de 105 -> 46.666666666666664%\n",
      "Iniciando a filtragem adaptativa com LMS\n",
      "Tempo total gasto para processar o GSC completo (segundos): 0.15388798713684082\n",
      "\n",
      "casual_096.wav: arquivo 50 de 105 -> 47.61904761904761%\n",
      "Iniciando a filtragem adaptativa com LMS\n",
      "Tempo total gasto para processar o GSC completo (segundos): 1.2283580303192139\n",
      "\n",
      "explosion_147.wav: arquivo 51 de 105 -> 48.57142857142857%\n",
      "Iniciando a filtragem adaptativa com LMS\n",
      "Tempo total gasto para processar o GSC completo (segundos): 0.9204556941986084\n",
      "\n",
      "explosion_168.wav: arquivo 52 de 105 -> 49.523809523809526%\n",
      "Iniciando a filtragem adaptativa com LMS\n",
      "Tempo total gasto para processar o GSC completo (segundos): 0.4146740436553955\n",
      "\n",
      "siren_042.wav: arquivo 53 de 105 -> 50.476190476190474%\n",
      "Iniciando a filtragem adaptativa com LMS\n",
      "Tempo total gasto para processar o GSC completo (segundos): 1.482635736465454\n",
      "\n",
      "casual_094.wav: arquivo 54 de 105 -> 51.42857142857142%\n",
      "Iniciando a filtragem adaptativa com LMS\n",
      "Tempo total gasto para processar o GSC completo (segundos): 5.798019170761108\n",
      "\n",
      "casual_100.wav: arquivo 55 de 105 -> 52.38095238095239%\n",
      "Iniciando a filtragem adaptativa com LMS\n",
      "Tempo total gasto para processar o GSC completo (segundos): 8.840609788894653\n",
      "\n",
      "casual_069.wav: arquivo 56 de 105 -> 53.333333333333336%\n",
      "Iniciando a filtragem adaptativa com LMS\n",
      "Tempo total gasto para processar o GSC completo (segundos): 0.807438850402832\n",
      "\n",
      "explosion_123.wav: arquivo 57 de 105 -> 54.285714285714285%\n",
      "Iniciando a filtragem adaptativa com LMS\n",
      "Tempo total gasto para processar o GSC completo (segundos): 1.1063764095306396\n",
      "\n",
      "siren_105.wav: arquivo 58 de 105 -> 55.23809523809524%\n",
      "Iniciando a filtragem adaptativa com LMS\n",
      "Tempo total gasto para processar o GSC completo (segundos): 2.2784781455993652\n",
      "\n",
      "casual_079.wav: arquivo 59 de 105 -> 56.19047619047619%\n",
      "Iniciando a filtragem adaptativa com LMS\n",
      "Tempo total gasto para processar o GSC completo (segundos): 0.42579150199890137\n",
      "\n",
      "gunshot_080.wav: arquivo 60 de 105 -> 57.14285714285714%\n",
      "Iniciando a filtragem adaptativa com LMS\n",
      "Tempo total gasto para processar o GSC completo (segundos): 3.1881754398345947\n",
      "\n",
      "explosion_164.wav: arquivo 61 de 105 -> 58.0952380952381%\n",
      "Iniciando a filtragem adaptativa com LMS\n",
      "Tempo total gasto para processar o GSC completo (segundos): 0.9168987274169922\n",
      "\n",
      "casual_125.wav: arquivo 62 de 105 -> 59.04761904761905%\n",
      "Iniciando a filtragem adaptativa com LMS\n",
      "Tempo total gasto para processar o GSC completo (segundos): 0.6536810398101807\n",
      "\n",
      "explosion_191.wav: arquivo 63 de 105 -> 60.0%\n",
      "Iniciando a filtragem adaptativa com LMS\n",
      "Tempo total gasto para processar o GSC completo (segundos): 0.4482297897338867\n",
      "\n",
      "casual_006.wav: arquivo 64 de 105 -> 60.952380952380956%\n",
      "Iniciando a filtragem adaptativa com LMS\n",
      "Tempo total gasto para processar o GSC completo (segundos): 0.5354197025299072\n",
      "\n",
      "explosion_199.wav: arquivo 65 de 105 -> 61.904761904761905%\n",
      "Iniciando a filtragem adaptativa com LMS\n",
      "Tempo total gasto para processar o GSC completo (segundos): 0.6729016304016113\n",
      "\n",
      "casual_139.wav: arquivo 66 de 105 -> 62.857142857142854%\n",
      "Iniciando a filtragem adaptativa com LMS\n",
      "Tempo total gasto para processar o GSC completo (segundos): 0.40535664558410645\n",
      "\n",
      "explosion_136.wav: arquivo 67 de 105 -> 63.8095238095238%\n",
      "Iniciando a filtragem adaptativa com LMS\n",
      "Tempo total gasto para processar o GSC completo (segundos): 4.051723480224609\n",
      "\n",
      "explosion_057.wav: arquivo 68 de 105 -> 64.76190476190476%\n",
      "Iniciando a filtragem adaptativa com LMS\n",
      "Tempo total gasto para processar o GSC completo (segundos): 0.31606316566467285\n",
      "\n",
      "explosion_095.wav: arquivo 69 de 105 -> 65.71428571428571%\n",
      "Iniciando a filtragem adaptativa com LMS\n",
      "Tempo total gasto para processar o GSC completo (segundos): 0.2528238296508789\n",
      "\n",
      "explosion_119.wav: arquivo 70 de 105 -> 66.66666666666666%\n",
      "Iniciando a filtragem adaptativa com LMS\n",
      "Tempo total gasto para processar o GSC completo (segundos): 0.744929313659668\n",
      "\n",
      "explosion_063.wav: arquivo 71 de 105 -> 67.61904761904762%\n",
      "Iniciando a filtragem adaptativa com LMS\n",
      "Tempo total gasto para processar o GSC completo (segundos): 0.6475951671600342\n",
      "\n",
      "siren_050.wav: arquivo 72 de 105 -> 68.57142857142857%\n",
      "Iniciando a filtragem adaptativa com LMS\n",
      "Tempo total gasto para processar o GSC completo (segundos): 1.501713752746582\n",
      "\n",
      "explosion_040.wav: arquivo 73 de 105 -> 69.52380952380952%\n",
      "Iniciando a filtragem adaptativa com LMS\n",
      "Tempo total gasto para processar o GSC completo (segundos): 0.4757051467895508\n",
      "\n",
      "gunshot_000.wav: arquivo 74 de 105 -> 70.47619047619048%\n",
      "Iniciando a filtragem adaptativa com LMS\n",
      "Tempo total gasto para processar o GSC completo (segundos): 0.6695995330810547\n",
      "\n",
      "siren_093.wav: arquivo 75 de 105 -> 71.42857142857143%\n",
      "Iniciando a filtragem adaptativa com LMS\n"
     ]
    }
   ],
   "source": [
    "# LISTANDO OS ARQUIVOS NO DIRETORIO DE ORIGEM\n",
    "arrayArquivos = os.listdir(pastaOrigem)\n",
    "totalArquivos = len(arrayArquivos)\n",
    "\n",
    "# CRIANDO UM ARRAY PRA ARMAZENAR OS TEMPOS DE PROCESSAMENTO\n",
    "arrayTempoProcessamentoGSC = []\n",
    "\n",
    "# PARA CADA ARQUIVO NA PASTA DE ORIGEM\n",
    "for i, arquivoAtual in enumerate(arrayArquivos):\n",
    "    \n",
    "        print(\"\\n\" + arquivoAtual + \": arquivo \" + str(i+1) + \" de \" + str(totalArquivos) + \" -> \" + str(100*((i+1)/totalArquivos)) + \"%\")\n",
    "        \n",
    "        # EU SIMULO UM ARRAY DE MICROFONES\n",
    "        caminhoArquivo = pastaOrigem + arquivoAtual\n",
    "        objSimularArrayMics = SimularArrayMicrofones(caminhoArquivo, energiaRuido)\n",
    "        arraySinaisSimulados, arrayDelays, freqAmostragem = objSimularArrayMics.obterResultado()\n",
    "        \n",
    "        # APLICO O BEAMFORMING E GSC\n",
    "        objGSC = GeneralizedSidelobeCanceller(arraySinaisSimulados, arrayDelays)\n",
    "        sinalSemBeamforming, sinalBeamformado, sinalFinalGSC = objGSC.obterSinaisResultantes()\n",
    "        arrayTempoProcessamentoGSC.append(objGSC.tempoProcessamentoGSC)\n",
    "        \n",
    "        # E POR FIM SALVO NAS PASTAS DE DESTINO\n",
    "        librosa.output.write_wav(pastaDestinoSemBeamforming + arquivoAtual, sinalSemBeamforming, freqAmostragem)\n",
    "        librosa.output.write_wav(pastaDestinoBeamforming + arquivoAtual, sinalBeamformado, freqAmostragem)\n",
    "        librosa.output.write_wav(pastaDestinoGSC + arquivoAtual, sinalFinalGSC, freqAmostragem)"
   ]
  },
  {
   "cell_type": "markdown",
   "metadata": {},
   "source": [
    "#### Verificando como foi o tempo de processamento"
   ]
  },
  {
   "cell_type": "code",
   "execution_count": 62,
   "metadata": {},
   "outputs": [
    {
     "name": "stdout",
     "output_type": "stream",
     "text": [
      "Tempo médio (seg):\t 1.2698750722975958\n",
      "Tempo mínimo (seg):\t 0.23029375076293945\n",
      "Tempo máximo (seg):\t 5.21269679069519\n",
      "Desvio padrão (seg):\t 0.9024332318484446\n",
      "Tempo total (min):\t 2.2222813765207925\n"
     ]
    }
   ],
   "source": [
    "print(\"Tempo médio (seg):\\t\", np.mean(arrayTempoProcessamentoGSC))\n",
    "print(\"Tempo mínimo (seg):\\t\", np.amin(arrayTempoProcessamentoGSC))\n",
    "print(\"Tempo máximo (seg):\\t\", np.amax(arrayTempoProcessamentoGSC))\n",
    "print(\"Desvio padrão (seg):\\t\", np.std(arrayTempoProcessamentoGSC))\n",
    "print(\"Tempo total (min):\\t\", np.sum(arrayTempoProcessamentoGSC)/60)"
   ]
  },
  {
   "cell_type": "code",
   "execution_count": null,
   "metadata": {},
   "outputs": [],
   "source": []
  },
  {
   "cell_type": "code",
   "execution_count": null,
   "metadata": {},
   "outputs": [],
   "source": []
  },
  {
   "cell_type": "code",
   "execution_count": null,
   "metadata": {},
   "outputs": [],
   "source": []
  }
 ],
 "metadata": {
  "kernelspec": {
   "display_name": "Python 3",
   "language": "python",
   "name": "python3"
  },
  "language_info": {
   "codemirror_mode": {
    "name": "ipython",
    "version": 3
   },
   "file_extension": ".py",
   "mimetype": "text/x-python",
   "name": "python",
   "nbconvert_exporter": "python",
   "pygments_lexer": "ipython3",
   "version": "3.5.2"
  }
 },
 "nbformat": 4,
 "nbformat_minor": 2
}
