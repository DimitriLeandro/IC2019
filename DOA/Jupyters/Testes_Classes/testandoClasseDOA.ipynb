{
 "cells": [
  {
   "cell_type": "markdown",
   "metadata": {},
   "source": [
    "# Testando a classe DOACentroides"
   ]
  },
  {
   "cell_type": "code",
   "execution_count": 1,
   "metadata": {},
   "outputs": [],
   "source": [
    "# Importando a Classe do diretório anterior. \n",
    "# Para fazer isso, devo adicionar o diretório onde a classe está\n",
    "import sys\n",
    "sys.path.append('../Python')\n",
    "\n",
    "# Importando\n",
    "from DOACentroides import DOACentroides\n",
    "from scipy.io.wavfile import read\n",
    "import warnings\n",
    "\n",
    "# Ignorando warnings\n",
    "warnings.filterwarnings(\"ignore\")"
   ]
  },
  {
   "cell_type": "markdown",
   "metadata": {},
   "source": [
    "### Importando os áudios"
   ]
  },
  {
   "cell_type": "markdown",
   "metadata": {},
   "source": [
    "##### Posição 1"
   ]
  },
  {
   "cell_type": "code",
   "execution_count": 2,
   "metadata": {},
   "outputs": [],
   "source": [
    "pos1mic1 = read('../Gravacoes/Gravacao1/pos1mic-01.wav')[1]\n",
    "pos1mic2 = read('../Gravacoes/Gravacao1/pos1mic-02.wav')[1]\n",
    "pos1mic3 = read('../Gravacoes/Gravacao1/pos1mic-03.wav')[1]\n",
    "pos1mic4 = read('../Gravacoes/Gravacao1/pos1mic-04.wav')[1]"
   ]
  },
  {
   "cell_type": "code",
   "execution_count": 3,
   "metadata": {},
   "outputs": [],
   "source": [
    "objDOAPos1 = DOACentroides(pos1mic1, pos1mic2, pos1mic3, pos1mic4)"
   ]
  },
  {
   "cell_type": "code",
   "execution_count": 4,
   "metadata": {},
   "outputs": [
    {
     "name": "stdout",
     "output_type": "stream",
     "text": [
      "Dado: [ 6  9  3  3  0 -6]\n",
      "Centroides: [[  5.31498935  10.62997869   5.31498935   5.31498935   0.\n",
      "   -5.31498935]\n",
      " [ -5.31498935   0.           5.31498935   5.31498935  10.62997869\n",
      "    5.31498935]\n",
      " [ -5.31498935 -10.62997869  -5.31498935  -5.31498935   0.\n",
      "    5.31498935]\n",
      " [  5.31498935   0.          -5.31498935  -5.31498935 -10.62997869\n",
      "   -5.31498935]]\n",
      "Frequência de amostragem: 44100\n",
      "Tamanho do lado: 0.058\n",
      "Velocidade do som: 340.29\n",
      "Máximo delay possível: 12\n",
      "Predição: 0\n"
     ]
    }
   ],
   "source": [
    "print(\"Dado:\", objDOAPos1.dado)\n",
    "print(\"Centroides:\", objDOAPos1.centroides)\n",
    "print(\"Frequência de amostragem:\", objDOAPos1.freqAmostragem)\n",
    "print(\"Tamanho do lado:\", objDOAPos1.L)\n",
    "print(\"Velocidade do som:\", objDOAPos1.velocidadeSom)\n",
    "print(\"Máximo delay possível:\", objDOAPos1.maxDelay)\n",
    "print(\"Predição:\", objDOAPos1.predicao)"
   ]
  },
  {
   "cell_type": "markdown",
   "metadata": {},
   "source": [
    "##### Posição 2"
   ]
  },
  {
   "cell_type": "code",
   "execution_count": 5,
   "metadata": {},
   "outputs": [
    {
     "name": "stdout",
     "output_type": "stream",
     "text": [
      "Predição: 1\n"
     ]
    }
   ],
   "source": [
    "pos2mic1 = read('../Gravacoes/Gravacao1/pos2mic-01.wav')[1]\n",
    "pos2mic2 = read('../Gravacoes/Gravacao1/pos2mic-02.wav')[1]\n",
    "pos2mic3 = read('../Gravacoes/Gravacao1/pos2mic-03.wav')[1]\n",
    "pos2mic4 = read('../Gravacoes/Gravacao1/pos2mic-04.wav')[1]\n",
    "\n",
    "objDOAPos2 = DOACentroides(pos2mic1, pos2mic2, pos2mic3, pos2mic4)\n",
    "\n",
    "print(\"Predição:\", objDOAPos2.predicao)"
   ]
  },
  {
   "cell_type": "markdown",
   "metadata": {},
   "source": [
    "##### Posição 3"
   ]
  },
  {
   "cell_type": "code",
   "execution_count": 6,
   "metadata": {},
   "outputs": [
    {
     "name": "stdout",
     "output_type": "stream",
     "text": [
      "Predição: 2\n"
     ]
    }
   ],
   "source": [
    "pos3mic1 = read('../Gravacoes/Gravacao1/pos3mic-01.wav')[1]\n",
    "pos3mic2 = read('../Gravacoes/Gravacao1/pos3mic-02.wav')[1]\n",
    "pos3mic3 = read('../Gravacoes/Gravacao1/pos3mic-03.wav')[1]\n",
    "pos3mic4 = read('../Gravacoes/Gravacao1/pos3mic-04.wav')[1]\n",
    "\n",
    "objDOAPos3 = DOACentroides(pos3mic1, pos3mic2, pos3mic3, pos3mic4)\n",
    "\n",
    "print(\"Predição:\", objDOAPos3.predicao)"
   ]
  },
  {
   "cell_type": "markdown",
   "metadata": {},
   "source": [
    "##### Posição 4"
   ]
  },
  {
   "cell_type": "code",
   "execution_count": 7,
   "metadata": {},
   "outputs": [
    {
     "name": "stdout",
     "output_type": "stream",
     "text": [
      "Predição: 3\n"
     ]
    }
   ],
   "source": [
    "pos4mic1 = read('../Gravacoes/Gravacao1/pos4mic-01.wav')[1]\n",
    "pos4mic2 = read('../Gravacoes/Gravacao1/pos4mic-02.wav')[1]\n",
    "pos4mic3 = read('../Gravacoes/Gravacao1/pos4mic-03.wav')[1]\n",
    "pos4mic4 = read('../Gravacoes/Gravacao1/pos4mic-04.wav')[1]\n",
    "\n",
    "objDOAPos4 = DOACentroides(pos4mic1, pos4mic2, pos4mic3, pos4mic4)\n",
    "\n",
    "print(\"Predição:\", objDOAPos4.predicao)"
   ]
  }
 ],
 "metadata": {
  "kernelspec": {
   "display_name": "Python 3",
   "language": "python",
   "name": "python3"
  },
  "language_info": {
   "codemirror_mode": {
    "name": "ipython",
    "version": 3
   },
   "file_extension": ".py",
   "mimetype": "text/x-python",
   "name": "python",
   "nbconvert_exporter": "python",
   "pygments_lexer": "ipython3",
   "version": "3.5.2"
  }
 },
 "nbformat": 4,
 "nbformat_minor": 2
}
