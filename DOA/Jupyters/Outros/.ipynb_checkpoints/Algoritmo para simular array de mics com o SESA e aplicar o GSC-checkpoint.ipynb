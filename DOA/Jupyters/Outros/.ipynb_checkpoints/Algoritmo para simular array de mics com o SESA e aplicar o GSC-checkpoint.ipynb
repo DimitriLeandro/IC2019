{
 "cells": [
  {
   "cell_type": "markdown",
   "metadata": {},
   "source": [
    "# Implementação de algoritmo para usar as classes de simulação de array de microfones e GSC para o SESA Dataset"
   ]
  },
  {
   "cell_type": "markdown",
   "metadata": {},
   "source": [
    "A ideia desse jupyter é criar um algoritmo que, dadas a pasta de origem e as de destino, simule um array de microfones com os áudios da pasta de origem e salve os sinais sem beamforming, com beamforming e com GSC nas pastas de destino."
   ]
  },
  {
   "cell_type": "code",
   "execution_count": 1,
   "metadata": {},
   "outputs": [],
   "source": [
    "import os\n",
    "import librosa\n",
    "import math\n",
    "import shutil\n",
    "import time\n",
    "import numpy as np\n",
    "import pandas as pd\n",
    "import matplotlib.pyplot as plt\n",
    "from IPython.display import Audio"
   ]
  },
  {
   "cell_type": "markdown",
   "metadata": {},
   "source": [
    "#### Importando as classes criadas"
   ]
  },
  {
   "cell_type": "code",
   "execution_count": 2,
   "metadata": {},
   "outputs": [],
   "source": [
    "import sys\n",
    "sys.path.append('/home/dimi/Programming/IC2019/DOA/Python')\n",
    "\n",
    "from GeneralizedSidelobeCancellerClass import GeneralizedSidelobeCanceller\n",
    "from SimularArrayMicrofonesClass import SimularArrayMicrofones"
   ]
  },
  {
   "cell_type": "markdown",
   "metadata": {},
   "source": [
    "## Definindo uma boa amplitude para o ruído"
   ]
  },
  {
   "cell_type": "markdown",
   "metadata": {},
   "source": [
    "Pela definição, se a média do sinal for 0, pode-se aproximar a energia do sinal pela variância. A SNR pode ser definida como 10 * log_10 (var(sinal)/var(ruído)).\n",
    "\n",
    "\"Engineers consider a SNR of 2 (3 dB) to be the boundary between low and high SNRs\".\n",
    "\n",
    "http://www.scholarpedia.org/article/Signal-to-noise_ratio"
   ]
  },
  {
   "cell_type": "code",
   "execution_count": 3,
   "metadata": {},
   "outputs": [],
   "source": [
    "def calcularSNR(sinal, ruido):\n",
    "    return 10 * math.log((np.var(sinal)/np.var(ruido)), 10)"
   ]
  },
  {
   "cell_type": "code",
   "execution_count": 4,
   "metadata": {},
   "outputs": [],
   "source": [
    "def calcularEnerigaRuidoDadoSNR(snrDesejada, energiaSinal):\n",
    "    return energiaSinal/(10**(snrDesejada/10))"
   ]
  },
  {
   "cell_type": "markdown",
   "metadata": {},
   "source": [
    "A função abaixo é exatamente a mesma que está sendo usada na classe SimularArrayMicrofones. Essa parte do jupyter vai servir apenas para achar uma boa SNR para realizar os testes."
   ]
  },
  {
   "cell_type": "code",
   "execution_count": null,
   "metadata": {},
   "outputs": [],
   "source": [
    "def gerarRuidoBranco(qtdAmostras, energiaRuido):\n",
    "\n",
    "    media        = 0\n",
    "    desvioPadrao = 1\n",
    "\n",
    "    return np.random.normal(media, desvioPadrao, size=qtdAmostras) * energiaRuido**(1/2)"
   ]
  },
  {
   "cell_type": "markdown",
   "metadata": {},
   "source": [
    "O sinal que será aberto para fazer o teste **JÁ DEVE ESTAR NORMALIZADO PELA ENERGIA**, assim, fica muito mais fácil calcular a SNR."
   ]
  },
  {
   "cell_type": "code",
   "execution_count": null,
   "metadata": {
    "scrolled": false
   },
   "outputs": [],
   "source": [
    "caminho = \"/home/dimi/Downloads/Datasets/SESA/SESA_Normalizado/test/casual_000.wav\"\n",
    "sinalOriginal, freqAmostragem = librosa.load(caminho, sr=None, mono=True)\n",
    "\n",
    "snrDesejada  = 20\n",
    "energiaRuido = calcularEnerigaRuidoDadoSNR(snrDesejada, 1) \n",
    "\n",
    "ruido = gerarRuidoBranco(len(sinalOriginal), energiaRuido)\n",
    "\n",
    "plt.plot(sinalOriginal, label=\"Sinal\")\n",
    "plt.plot(ruido, label=\"Ruído\")\n",
    "plt.legend()\n",
    "plt.show()"
   ]
  },
  {
   "cell_type": "code",
   "execution_count": null,
   "metadata": {},
   "outputs": [],
   "source": [
    "print(\"Energia do sinal:\", np.var(sinalOriginal))\n",
    "print(\"Energia do ruído:\", energiaRuido)\n",
    "print(\"SNR:\\t\\t \", calcularSNR(sinalOriginal, ruido))"
   ]
  },
  {
   "cell_type": "code",
   "execution_count": null,
   "metadata": {
    "scrolled": true
   },
   "outputs": [],
   "source": [
    "print(\"Original\")\n",
    "Audio(data=sinalOriginal, rate=freqAmostragem)"
   ]
  },
  {
   "cell_type": "code",
   "execution_count": null,
   "metadata": {
    "scrolled": false
   },
   "outputs": [],
   "source": [
    "print(\"Com ruído\")\n",
    "sinalComRuido = sinalOriginal + ruido\n",
    "Audio(data=sinalComRuido, rate=freqAmostragem)"
   ]
  },
  {
   "cell_type": "markdown",
   "metadata": {},
   "source": [
    "## Rodando o algoritmo para várias SNRs diferentes na pasta de teste do SESA"
   ]
  },
  {
   "cell_type": "code",
   "execution_count": 7,
   "metadata": {},
   "outputs": [
    {
     "name": "stdout",
     "output_type": "stream",
     "text": [
      "\n",
      "INICIANDO A SIMULAÇÃO COM SNR 30\n",
      "\n",
      "Arquivo 1 de 105 -> 0.9523809523809524%\n",
      "Iniciando a filtragem adaptativa com LMS\n",
      "Tempo total gasto para processar o GSC completo (segundos): 0.9862973690032959\n",
      "\n",
      "Arquivo 2 de 105 -> 1.9047619047619049%\n",
      "Iniciando a filtragem adaptativa com LMS\n",
      "Tempo total gasto para processar o GSC completo (segundos): 2.1475257873535156\n",
      "\n",
      "Arquivo 3 de 105 -> 2.857142857142857%\n",
      "Iniciando a filtragem adaptativa com LMS\n",
      "Tempo total gasto para processar o GSC completo (segundos): 1.1950628757476807\n",
      "\n",
      "Arquivo 4 de 105 -> 3.8095238095238098%\n",
      "Iniciando a filtragem adaptativa com LMS\n",
      "Tempo total gasto para processar o GSC completo (segundos): 2.125600576400757\n",
      "\n",
      "Arquivo 5 de 105 -> 4.761904761904762%\n",
      "Iniciando a filtragem adaptativa com LMS\n",
      "Tempo total gasto para processar o GSC completo (segundos): 0.5611011981964111\n",
      "\n",
      "Arquivo 6 de 105 -> 5.714285714285714%\n",
      "Iniciando a filtragem adaptativa com LMS\n",
      "Tempo total gasto para processar o GSC completo (segundos): 1.2507350444793701\n",
      "\n",
      "Arquivo 7 de 105 -> 6.666666666666667%\n",
      "Iniciando a filtragem adaptativa com LMS\n",
      "Tempo total gasto para processar o GSC completo (segundos): 1.3586788177490234\n",
      "\n",
      "Arquivo 8 de 105 -> 7.6190476190476195%\n",
      "Iniciando a filtragem adaptativa com LMS\n",
      "Tempo total gasto para processar o GSC completo (segundos): 2.920621156692505\n",
      "\n",
      "Arquivo 9 de 105 -> 8.571428571428571%\n",
      "Iniciando a filtragem adaptativa com LMS\n",
      "Tempo total gasto para processar o GSC completo (segundos): 5.238823175430298\n",
      "\n",
      "Arquivo 10 de 105 -> 9.523809523809524%\n",
      "Iniciando a filtragem adaptativa com LMS\n",
      "Tempo total gasto para processar o GSC completo (segundos): 0.8443965911865234\n",
      "\n",
      "Arquivo 11 de 105 -> 10.476190476190476%\n",
      "Iniciando a filtragem adaptativa com LMS\n",
      "Tempo total gasto para processar o GSC completo (segundos): 0.9050323963165283\n",
      "\n",
      "Arquivo 12 de 105 -> 11.428571428571429%\n",
      "Iniciando a filtragem adaptativa com LMS\n",
      "Tempo total gasto para processar o GSC completo (segundos): 1.020857572555542\n",
      "\n",
      "Arquivo 13 de 105 -> 12.380952380952381%\n",
      "Iniciando a filtragem adaptativa com LMS\n",
      "Tempo total gasto para processar o GSC completo (segundos): 3.070484161376953\n",
      "\n",
      "Arquivo 14 de 105 -> 13.333333333333334%\n",
      "Iniciando a filtragem adaptativa com LMS\n",
      "Tempo total gasto para processar o GSC completo (segundos): 2.841869831085205\n",
      "\n",
      "Arquivo 15 de 105 -> 14.285714285714285%\n",
      "Iniciando a filtragem adaptativa com LMS\n",
      "Tempo total gasto para processar o GSC completo (segundos): 0.800051212310791\n",
      "\n",
      "Arquivo 16 de 105 -> 15.238095238095239%\n",
      "Iniciando a filtragem adaptativa com LMS\n",
      "Tempo total gasto para processar o GSC completo (segundos): 0.8561480045318604\n",
      "\n",
      "Arquivo 17 de 105 -> 16.19047619047619%\n",
      "Iniciando a filtragem adaptativa com LMS\n",
      "Tempo total gasto para processar o GSC completo (segundos): 1.3295557498931885\n",
      "\n",
      "Arquivo 18 de 105 -> 17.142857142857142%\n",
      "Iniciando a filtragem adaptativa com LMS\n",
      "Tempo total gasto para processar o GSC completo (segundos): 2.711458444595337\n",
      "\n",
      "Arquivo 19 de 105 -> 18.095238095238095%\n",
      "Iniciando a filtragem adaptativa com LMS\n",
      "Tempo total gasto para processar o GSC completo (segundos): 0.5448324680328369\n",
      "\n",
      "Arquivo 20 de 105 -> 19.047619047619047%\n",
      "Iniciando a filtragem adaptativa com LMS\n",
      "Tempo total gasto para processar o GSC completo (segundos): 1.4196724891662598\n",
      "\n",
      "Arquivo 21 de 105 -> 20.0%\n",
      "Iniciando a filtragem adaptativa com LMS\n",
      "Tempo total gasto para processar o GSC completo (segundos): 1.950467824935913\n",
      "\n",
      "Arquivo 22 de 105 -> 20.952380952380953%\n",
      "Iniciando a filtragem adaptativa com LMS\n",
      "Tempo total gasto para processar o GSC completo (segundos): 1.0806305408477783\n",
      "\n",
      "Arquivo 23 de 105 -> 21.904761904761905%\n",
      "Iniciando a filtragem adaptativa com LMS\n",
      "Tempo total gasto para processar o GSC completo (segundos): 1.227764368057251\n",
      "\n",
      "Arquivo 24 de 105 -> 22.857142857142858%\n",
      "Iniciando a filtragem adaptativa com LMS\n",
      "Tempo total gasto para processar o GSC completo (segundos): 1.3433241844177246\n",
      "\n",
      "Arquivo 25 de 105 -> 23.809523809523807%\n",
      "Iniciando a filtragem adaptativa com LMS\n",
      "Tempo total gasto para processar o GSC completo (segundos): 2.715111255645752\n",
      "\n",
      "Arquivo 26 de 105 -> 24.761904761904763%\n",
      "Iniciando a filtragem adaptativa com LMS\n",
      "Tempo total gasto para processar o GSC completo (segundos): 3.8761086463928223\n",
      "\n",
      "Arquivo 27 de 105 -> 25.71428571428571%\n",
      "Iniciando a filtragem adaptativa com LMS\n",
      "Tempo total gasto para processar o GSC completo (segundos): 4.033928394317627\n",
      "\n",
      "Arquivo 28 de 105 -> 26.666666666666668%\n",
      "Iniciando a filtragem adaptativa com LMS\n",
      "Tempo total gasto para processar o GSC completo (segundos): 1.3410224914550781\n",
      "\n",
      "Arquivo 29 de 105 -> 27.61904761904762%\n",
      "Iniciando a filtragem adaptativa com LMS\n",
      "Tempo total gasto para processar o GSC completo (segundos): 1.3780417442321777\n",
      "\n",
      "Arquivo 30 de 105 -> 28.57142857142857%\n",
      "Iniciando a filtragem adaptativa com LMS\n",
      "Tempo total gasto para processar o GSC completo (segundos): 2.8055953979492188\n",
      "\n",
      "Arquivo 31 de 105 -> 29.523809523809526%\n",
      "Iniciando a filtragem adaptativa com LMS\n",
      "Tempo total gasto para processar o GSC completo (segundos): 3.459439754486084\n",
      "\n",
      "Arquivo 32 de 105 -> 30.476190476190478%\n",
      "Iniciando a filtragem adaptativa com LMS\n",
      "Tempo total gasto para processar o GSC completo (segundos): 3.9347031116485596\n",
      "\n",
      "Arquivo 33 de 105 -> 31.428571428571427%\n",
      "Iniciando a filtragem adaptativa com LMS\n",
      "Tempo total gasto para processar o GSC completo (segundos): 1.1180896759033203\n",
      "\n",
      "Arquivo 34 de 105 -> 32.38095238095238%\n",
      "Iniciando a filtragem adaptativa com LMS\n",
      "Tempo total gasto para processar o GSC completo (segundos): 3.106534957885742\n",
      "\n",
      "Arquivo 35 de 105 -> 33.33333333333333%\n",
      "Iniciando a filtragem adaptativa com LMS\n",
      "Tempo total gasto para processar o GSC completo (segundos): 0.7970774173736572\n",
      "\n",
      "Arquivo 36 de 105 -> 34.285714285714285%\n",
      "Iniciando a filtragem adaptativa com LMS\n",
      "Tempo total gasto para processar o GSC completo (segundos): 1.0988292694091797\n",
      "\n",
      "Arquivo 37 de 105 -> 35.23809523809524%\n",
      "Iniciando a filtragem adaptativa com LMS\n",
      "Tempo total gasto para processar o GSC completo (segundos): 0.6180760860443115\n",
      "\n",
      "Arquivo 38 de 105 -> 36.19047619047619%\n",
      "Iniciando a filtragem adaptativa com LMS\n",
      "Tempo total gasto para processar o GSC completo (segundos): 1.9371654987335205\n",
      "\n",
      "Arquivo 39 de 105 -> 37.142857142857146%\n",
      "Iniciando a filtragem adaptativa com LMS\n",
      "Tempo total gasto para processar o GSC completo (segundos): 2.1373729705810547\n",
      "\n",
      "Arquivo 40 de 105 -> 38.095238095238095%\n",
      "Iniciando a filtragem adaptativa com LMS\n",
      "Tempo total gasto para processar o GSC completo (segundos): 2.365123748779297\n"
     ]
    },
    {
     "ename": "FileNotFoundError",
     "evalue": "[Errno 2] No such file or directory: '/home/dimi/Downloads/Datasets/SESA/SESA_Normalizado/outros/SNR_30dB/testeSemBeamforming/explosion_113.wav'",
     "output_type": "error",
     "traceback": [
      "\u001b[0;31m---------------------------------------------------------------------------\u001b[0m",
      "\u001b[0;31mFileNotFoundError\u001b[0m                         Traceback (most recent call last)",
      "\u001b[0;32m<ipython-input-7-e76620e23f8a>\u001b[0m in \u001b[0;36m<module>\u001b[0;34m\u001b[0m\n\u001b[1;32m     51\u001b[0m \u001b[0;34m\u001b[0m\u001b[0m\n\u001b[1;32m     52\u001b[0m         \u001b[0;31m# E POR FIM SALVO NAS PASTAS DE DESTINO\u001b[0m\u001b[0;34m\u001b[0m\u001b[0;34m\u001b[0m\u001b[0;34m\u001b[0m\u001b[0m\n\u001b[0;32m---> 53\u001b[0;31m         \u001b[0mlibrosa\u001b[0m\u001b[0;34m.\u001b[0m\u001b[0moutput\u001b[0m\u001b[0;34m.\u001b[0m\u001b[0mwrite_wav\u001b[0m\u001b[0;34m(\u001b[0m\u001b[0mpastaDestinoSNRAtual\u001b[0m \u001b[0;34m+\u001b[0m \u001b[0;34m\"testeSemBeamforming/\"\u001b[0m \u001b[0;34m+\u001b[0m \u001b[0marquivoAtual\u001b[0m\u001b[0;34m,\u001b[0m \u001b[0msinalSemBeamforming\u001b[0m\u001b[0;34m,\u001b[0m \u001b[0mfreqAmostragem\u001b[0m\u001b[0;34m)\u001b[0m\u001b[0;34m\u001b[0m\u001b[0;34m\u001b[0m\u001b[0m\n\u001b[0m\u001b[1;32m     54\u001b[0m         \u001b[0mlibrosa\u001b[0m\u001b[0;34m.\u001b[0m\u001b[0moutput\u001b[0m\u001b[0;34m.\u001b[0m\u001b[0mwrite_wav\u001b[0m\u001b[0;34m(\u001b[0m\u001b[0mpastaDestinoSNRAtual\u001b[0m \u001b[0;34m+\u001b[0m \u001b[0;34m\"testeBeamforming/\"\u001b[0m \u001b[0;34m+\u001b[0m \u001b[0marquivoAtual\u001b[0m\u001b[0;34m,\u001b[0m \u001b[0msinalBeamformado\u001b[0m\u001b[0;34m,\u001b[0m \u001b[0mfreqAmostragem\u001b[0m\u001b[0;34m)\u001b[0m\u001b[0;34m\u001b[0m\u001b[0;34m\u001b[0m\u001b[0m\n\u001b[1;32m     55\u001b[0m         \u001b[0mlibrosa\u001b[0m\u001b[0;34m.\u001b[0m\u001b[0moutput\u001b[0m\u001b[0;34m.\u001b[0m\u001b[0mwrite_wav\u001b[0m\u001b[0;34m(\u001b[0m\u001b[0mpastaDestinoSNRAtual\u001b[0m \u001b[0;34m+\u001b[0m \u001b[0;34m\"testeGSC/\"\u001b[0m \u001b[0;34m+\u001b[0m \u001b[0marquivoAtual\u001b[0m\u001b[0;34m,\u001b[0m \u001b[0msinalFinalGSC\u001b[0m\u001b[0;34m,\u001b[0m \u001b[0mfreqAmostragem\u001b[0m\u001b[0;34m)\u001b[0m\u001b[0;34m\u001b[0m\u001b[0;34m\u001b[0m\u001b[0m\n",
      "\u001b[0;32m</home/dimi/venvIC/lib/python3.7/site-packages/decorator.py:decorator-gen-135>\u001b[0m in \u001b[0;36mwrite_wav\u001b[0;34m(path, y, sr, norm)\u001b[0m\n",
      "\u001b[0;32m~/venvIC/lib/python3.7/site-packages/librosa/util/decorators.py\u001b[0m in \u001b[0;36m__wrapper\u001b[0;34m(func, *args, **kwargs)\u001b[0m\n\u001b[1;32m     56\u001b[0m             \u001b[0mlineno\u001b[0m\u001b[0;34m=\u001b[0m\u001b[0mcode\u001b[0m\u001b[0;34m.\u001b[0m\u001b[0mco_firstlineno\u001b[0m \u001b[0;34m+\u001b[0m \u001b[0;36m1\u001b[0m\u001b[0;34m\u001b[0m\u001b[0;34m\u001b[0m\u001b[0m\n\u001b[1;32m     57\u001b[0m         )\n\u001b[0;32m---> 58\u001b[0;31m         \u001b[0;32mreturn\u001b[0m \u001b[0mfunc\u001b[0m\u001b[0;34m(\u001b[0m\u001b[0;34m*\u001b[0m\u001b[0margs\u001b[0m\u001b[0;34m,\u001b[0m \u001b[0;34m**\u001b[0m\u001b[0mkwargs\u001b[0m\u001b[0;34m)\u001b[0m\u001b[0;34m\u001b[0m\u001b[0;34m\u001b[0m\u001b[0m\n\u001b[0m\u001b[1;32m     59\u001b[0m \u001b[0;34m\u001b[0m\u001b[0m\n\u001b[1;32m     60\u001b[0m     \u001b[0;32mreturn\u001b[0m \u001b[0mdecorator\u001b[0m\u001b[0;34m(\u001b[0m\u001b[0m__wrapper\u001b[0m\u001b[0;34m)\u001b[0m\u001b[0;34m\u001b[0m\u001b[0;34m\u001b[0m\u001b[0m\n",
      "\u001b[0;32m~/venvIC/lib/python3.7/site-packages/librosa/output.py\u001b[0m in \u001b[0;36mwrite_wav\u001b[0;34m(path, y, sr, norm)\u001b[0m\n\u001b[1;32m    250\u001b[0m \u001b[0;34m\u001b[0m\u001b[0m\n\u001b[1;32m    251\u001b[0m     \u001b[0;31m# Save\u001b[0m\u001b[0;34m\u001b[0m\u001b[0;34m\u001b[0m\u001b[0;34m\u001b[0m\u001b[0m\n\u001b[0;32m--> 252\u001b[0;31m     \u001b[0mscipy\u001b[0m\u001b[0;34m.\u001b[0m\u001b[0mio\u001b[0m\u001b[0;34m.\u001b[0m\u001b[0mwavfile\u001b[0m\u001b[0;34m.\u001b[0m\u001b[0mwrite\u001b[0m\u001b[0;34m(\u001b[0m\u001b[0mpath\u001b[0m\u001b[0;34m,\u001b[0m \u001b[0msr\u001b[0m\u001b[0;34m,\u001b[0m \u001b[0mwav\u001b[0m\u001b[0;34m)\u001b[0m\u001b[0;34m\u001b[0m\u001b[0;34m\u001b[0m\u001b[0m\n\u001b[0m",
      "\u001b[0;32m~/venvIC/lib/python3.7/site-packages/scipy/io/wavfile.py\u001b[0m in \u001b[0;36mwrite\u001b[0;34m(filename, rate, data)\u001b[0m\n\u001b[1;32m    326\u001b[0m         \u001b[0mfid\u001b[0m \u001b[0;34m=\u001b[0m \u001b[0mfilename\u001b[0m\u001b[0;34m\u001b[0m\u001b[0;34m\u001b[0m\u001b[0m\n\u001b[1;32m    327\u001b[0m     \u001b[0;32melse\u001b[0m\u001b[0;34m:\u001b[0m\u001b[0;34m\u001b[0m\u001b[0;34m\u001b[0m\u001b[0m\n\u001b[0;32m--> 328\u001b[0;31m         \u001b[0mfid\u001b[0m \u001b[0;34m=\u001b[0m \u001b[0mopen\u001b[0m\u001b[0;34m(\u001b[0m\u001b[0mfilename\u001b[0m\u001b[0;34m,\u001b[0m \u001b[0;34m'wb'\u001b[0m\u001b[0;34m)\u001b[0m\u001b[0;34m\u001b[0m\u001b[0;34m\u001b[0m\u001b[0m\n\u001b[0m\u001b[1;32m    329\u001b[0m \u001b[0;34m\u001b[0m\u001b[0m\n\u001b[1;32m    330\u001b[0m     \u001b[0mfs\u001b[0m \u001b[0;34m=\u001b[0m \u001b[0mrate\u001b[0m\u001b[0;34m\u001b[0m\u001b[0;34m\u001b[0m\u001b[0m\n",
      "\u001b[0;31mFileNotFoundError\u001b[0m: [Errno 2] No such file or directory: '/home/dimi/Downloads/Datasets/SESA/SESA_Normalizado/outros/SNR_30dB/testeSemBeamforming/explosion_113.wav'"
     ]
    }
   ],
   "source": [
    "# DEFININDO PARAMETROS INICIAIS\n",
    "pastaOrigem  = '/home/dimi/Downloads/Datasets/SESA/SESA_Normalizado/test/'\n",
    "pastaDestino = '/home/dimi/Downloads/Datasets/SESA/SESA_Normalizado/outros/'\n",
    "\n",
    "# LISTANDO OS ARQUIVOS NO DIRETORIO DE ORIGEM\n",
    "arrayArquivos = os.listdir(pastaOrigem)\n",
    "totalArquivos = len(arrayArquivos)\n",
    "\n",
    "# CRIANDO UM ARRAY PARA GUARDAR O TEMPO MEDIO PARA PROCESSAR CADA ARQUIVO PARA CADA SNR DIFERENTE\n",
    "arrayTempoGSCCadaSNR = []\n",
    "\n",
    "# PARA VARIOS SNRs\n",
    "for snrAtual in range(-20, 51):\n",
    "    \n",
    "    print(\"\\nINICIANDO A SIMULAÇÃO COM SNR\", snrAtual)\n",
    "    \n",
    "    # TENHO QUE CRIAR A PASTA PARA ESSA SNR\n",
    "    pastaDestinoSNRAtual = pastaDestino + \"SNR_\" + str(snrAtual) + \"dB/\"\n",
    "    \n",
    "    # SE ELA JA EXISTIR EU EXCLUO TUDO\n",
    "    if os.path.isdir(pastaDestinoSNRAtual) == True:\n",
    "        shutil.rmtree(pastaDestinoSNRAtual)\n",
    "        print(\"Já havia uma pasta para os arquivos com essa SNR e portanto ela foi excluída\")\n",
    "        \n",
    "    # AGORA SIM EU CRIO AS PASTAS E SUBPASTAS\n",
    "    os.mkdir(pastaDestinoSNRAtual)\n",
    "    os.mkdir(pastaDestinoSNRAtual + \"testeSemBeamforming/\")\n",
    "    os.mkdir(pastaDestinoSNRAtual + \"testeBeamforming/\")\n",
    "    os.mkdir(pastaDestinoSNRAtual + \"testeGSC/\")\n",
    "    \n",
    "    # PRECISO CALCULAR QUAL VAI SER A ENERGIA DO RUIDO PARA ESSA SNR\n",
    "    energiaRuido = calcularEnerigaRuidoDadoSNR(snrAtual, 1)\n",
    "    \n",
    "    # ARRAY PARA GUARDAR O TEMPO PARA PROCESSAR O GSC DE CADA ARQUIVO\n",
    "    arrayTempoGSCCadaArquivoSNRAtual = []\n",
    "        \n",
    "    # PARA CADA ARQUIVO NA PASTA DE ORIGEM\n",
    "    for i, arquivoAtual in enumerate(arrayArquivos):\n",
    "\n",
    "        print(\"\\nArquivo \" + str(i+1) + \" de \" + str(totalArquivos) + \" -> \" + str(100*((i+1)/totalArquivos)) + \"%\")\n",
    "\n",
    "        # EU SIMULO UM ARRAY DE MICROFONES\n",
    "        caminhoArquivo = pastaOrigem + arquivoAtual\n",
    "        objSimularArrayMics = SimularArrayMicrofones(caminhoArquivo, energiaRuido=energiaRuido)\n",
    "        arraySinaisSimulados, arrayDelays, freqAmostragem = objSimularArrayMics.obterResultado()\n",
    "\n",
    "        # APLICO O BEAMFORMING E GSC (SEM QUE A CLASSE SAIBA QUAIS SAO OS DELAYS)\n",
    "        objGSC = GeneralizedSidelobeCanceller(arraySinaisSimulados)\n",
    "        sinalSemBeamforming, sinalBeamformado, sinalFinalGSC = objGSC.obterSinaisResultantes()\n",
    "        arrayTempoGSCCadaArquivoSNRAtual.append(objGSC.tempoProcessamentoGSC)\n",
    "\n",
    "        # E POR FIM SALVO NAS PASTAS DE DESTINO\n",
    "        librosa.output.write_wav(pastaDestinoSNRAtual + \"testeSemBeamforming/\" + arquivoAtual, sinalSemBeamforming, freqAmostragem)\n",
    "        librosa.output.write_wav(pastaDestinoSNRAtual + \"testeBeamforming/\" + arquivoAtual, sinalBeamformado, freqAmostragem)\n",
    "        librosa.output.write_wav(pastaDestinoSNRAtual + \"testeGSC/\" + arquivoAtual, sinalFinalGSC, freqAmostragem)\n",
    "    \n",
    "    # DEPOIS DE PROCESSAR TODOS OS ARQUIVOS PARA A SNR ATUAL, EU COLOCO O TEMPO DE PROCESSAMENTO MEDIO NO ARRAY DE TEMPOS DE CADA SNR\n",
    "    mediaTempoGSCSNRAtual = np.mean(arrayTempoGSCCadaArquivoSNRAtual)\n",
    "    arrayTempoGSCCadaSNR.append([snrAtual, mediaTempoGSCSNRAtual])\n",
    "    print(\"\\nTempo médio para processar o GSC em cada arquivo com SNR \" + str(snrAtual) + \": \" + str(mediaTempoGSCSNRAtual))\n",
    "    \n",
    "# DEPOIS QUE ACABAR TUDO, EU PRECISO SALVAR AS INFORMACOES DE TEMPO DE PROCESSAMENTO\n",
    "dataframe = pd.DataFrame(data=arrayTempoGSCCadaSNR, columns=[\"SNR\", \"Tempo médio para processar o GSC em cada arquivo\"])\n",
    "dataframe.to_csv(pastaDestino + \"tempoProcessamentoGSC\" + str(time.time()) + \".csv\", index=False)"
   ]
  },
  {
   "cell_type": "code",
   "execution_count": null,
   "metadata": {},
   "outputs": [],
   "source": []
  },
  {
   "cell_type": "code",
   "execution_count": null,
   "metadata": {},
   "outputs": [],
   "source": []
  }
 ],
 "metadata": {
  "kernelspec": {
   "display_name": "Python 3",
   "language": "python",
   "name": "python3"
  },
  "language_info": {
   "codemirror_mode": {
    "name": "ipython",
    "version": 3
   },
   "file_extension": ".py",
   "mimetype": "text/x-python",
   "name": "python",
   "nbconvert_exporter": "python",
   "pygments_lexer": "ipython3",
   "version": "3.7.3"
  }
 },
 "nbformat": 4,
 "nbformat_minor": 2
}
