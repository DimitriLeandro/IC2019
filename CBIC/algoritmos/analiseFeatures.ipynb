{
 "cells": [
  {
   "cell_type": "markdown",
   "metadata": {
    "colab_type": "text",
    "id": "4szhynSXHYiu"
   },
   "source": [
    "# ADICIONANDO CAMINHO PARA GOOGLE DRIVE"
   ]
  },
  {
   "cell_type": "code",
   "execution_count": 21,
   "metadata": {
    "colab": {
     "base_uri": "https://localhost:8080/",
     "height": 34
    },
    "colab_type": "code",
    "executionInfo": {
     "elapsed": 651,
     "status": "ok",
     "timestamp": 1567698623715,
     "user": {
      "displayName": "Dimitri Leandro",
      "photoUrl": "https://lh3.googleusercontent.com/a-/AAuE7mDtqzyfhi7N8q2-dYdsX9JQpdeYvKLF1vTCAewd1g=s64",
      "userId": "15780256931048792593"
     },
     "user_tz": 180
    },
    "id": "XiF44AZd5mfJ",
    "outputId": "2a7cd975-565e-41fd-fe19-89235756490d"
   },
   "outputs": [
    {
     "name": "stdout",
     "output_type": "stream",
     "text": [
      "Drive already mounted at /content/drive; to attempt to forcibly remount, call drive.mount(\"/content/drive\", force_remount=True).\n"
     ]
    }
   ],
   "source": [
    "from google.colab import drive\n",
    "drive.mount('/content/drive')"
   ]
  },
  {
   "cell_type": "code",
   "execution_count": 0,
   "metadata": {
    "colab": {},
    "colab_type": "code",
    "id": "-4a6qHGE6A_E"
   },
   "outputs": [],
   "source": [
    "caminhoCSV = \"/content/drive/My Drive/CBIC2019/CSV/features_8bits_8k.csv\""
   ]
  },
  {
   "cell_type": "code",
   "execution_count": 0,
   "metadata": {
    "colab": {},
    "colab_type": "code",
    "id": "AWyLanGR6BIg"
   },
   "outputs": [],
   "source": [
    "import numpy\n",
    "from sklearn.neighbors import KNeighborsClassifier\n",
    "from sklearn.metrics import accuracy_score\n",
    "import matplotlib.pyplot as plt\n",
    "import pandas as pd\n",
    "from sklearn.model_selection import train_test_split as tts\n",
    "from IPython.display import HTML, display"
   ]
  },
  {
   "cell_type": "code",
   "execution_count": 0,
   "metadata": {
    "colab": {},
    "colab_type": "code",
    "id": "W8AlzntC6BLx"
   },
   "outputs": [],
   "source": [
    "# ABRINDO O CSV COMO UM NUMPY ARRAY\n",
    "datasetOriginal = numpy.genfromtxt(caminhoCSV, delimiter=\",\")\n",
    "\n",
    "# DELETANDO A PRIMEIRA LINHA (CABECALHO) E A SEGUNDA COLUNA (NOMES DOS ARQUIVOS)\n",
    "datasetOriginal = numpy.delete(datasetOriginal, 0, 0)\n",
    "datasetOriginal = numpy.delete(datasetOriginal, 1, 1)"
   ]
  },
  {
   "cell_type": "markdown",
   "metadata": {
    "colab_type": "text",
    "id": "srl81zmoLlP0"
   },
   "source": [
    "# DEFININFDO ALGUMAS FUNÇÕES"
   ]
  },
  {
   "cell_type": "code",
   "execution_count": 0,
   "metadata": {
    "colab": {},
    "colab_type": "code",
    "id": "1lNJ2kgD6BQ5"
   },
   "outputs": [],
   "source": [
    "def progress(value, max=100):\n",
    "    return HTML(\"\"\"\n",
    "        <progress\n",
    "            value='{value}'\n",
    "            max='{max}',\n",
    "            style='width: 100%'\n",
    "        >\n",
    "            {value}\n",
    "        </progress>\n",
    "    \"\"\".format(value=value, max=max))"
   ]
  },
  {
   "cell_type": "code",
   "execution_count": 0,
   "metadata": {
    "colab": {},
    "colab_type": "code",
    "id": "kgXSXgVZ6BTw"
   },
   "outputs": [],
   "source": [
    "def kFold(dataset):\n",
    "\n",
    "    # ESSA FUNCAO RETORNARA UMA MATRIZ COM AS SEGUINTES DIMENSOES\n",
    "    # matriz[iteracaoKFold][colunaDeTreinoOuTeste][dadoPuro][feature]\n",
    "    # iteracaoKFold -> vai de 0 a 9 e representa as 10 iteracoes do KFold\n",
    "    # colunaDeTreinoOuTeste -> vai pegar os dados de treinamento (0) ou os de teste (1)\n",
    "    # dadoPuro -> dado com varias features, a pasta e a classificacao correta\n",
    "    # feature -> seleciona uma das 24 features do dado\n",
    "    \n",
    "    matriz = []\n",
    "    \n",
    "    for pastaTeste in range(1,11):\n",
    "\n",
    "        rodada = []\n",
    "        xTrain = []\n",
    "        xTest  = []\n",
    "\n",
    "        for dado in dataset:\n",
    "            if int(dado[0]) == pastaTeste:\n",
    "                xTest.append(dado)\n",
    "            else:\n",
    "                xTrain.append(dado)\n",
    "        \n",
    "        rodada.append(xTrain)\n",
    "        rodada.append(xTest)\n",
    "        \n",
    "        matriz.append(rodada)\n",
    "    \n",
    "    return matriz"
   ]
  },
  {
   "cell_type": "code",
   "execution_count": 0,
   "metadata": {
    "colab": {},
    "colab_type": "code",
    "id": "VwnXUosG6BWq"
   },
   "outputs": [],
   "source": [
    "def rearranjarDataset(dataset, datasetOriginal, featureAtual, i):\n",
    "    \n",
    "    # ESSA FUNCAO ADICIONA UMA NOVA FEATURE AO DATASET\n",
    "    \n",
    "    # REMOVENDO A COLUNA DE CLASSIFICACAO\n",
    "    dataset = dataset[:,0:-1]\n",
    "\n",
    "    # SE NAO FOR A PRIMEIRA ITERACAO, EXCLUIR A ULTIMA FEATURE\n",
    "    if(i != 0):\n",
    "        dataset = dataset[:,0:-1]\n",
    "\n",
    "    # ADICIONANDO A FEATURE ATUAL NO DATASET\n",
    "    colunaNova = datasetOriginal[:,featureAtual]\n",
    "    dataset = numpy.column_stack((dataset, colunaNova))\n",
    "\n",
    "    # ADICIONANDO NOVAMENTE A CLASSIFICACAO\n",
    "    colunaNova = datasetOriginal[:,23]\n",
    "    dataset = numpy.column_stack((dataset, colunaNova))\n",
    "    \n",
    "    return dataset"
   ]
  },
  {
   "cell_type": "code",
   "execution_count": 0,
   "metadata": {
    "colab": {},
    "colab_type": "code",
    "id": "ReDvmoAQ6BZU"
   },
   "outputs": [],
   "source": [
    "def novaMelhorFeature(dataset, datasetOriginal, melhorFeature, featuresRestantes):\n",
    "    \n",
    "    # ESSA FUNCAO SERVE PARA QUE, DEPOIS DE DEFINIDA A NOVA FEATURE QUE VAI ENTRAR NO DATASET PERMANENTEMENTE, \n",
    "    # REARRANJAR O DATASET E REMOVER ESSA FEATURE DO ARRAY DE FEATURES RESTANTES\n",
    "    \n",
    "    # REMOVENDO A COLUNA DE CLASSIFICACAO E A ULTIMA FEATURE UTILIZADA\n",
    "    dataset = dataset[:,0:-2]\n",
    "\n",
    "    # ADICIONANDO A FEATURE NOVA NO DATASET\n",
    "    colunaNova = datasetOriginal[:,melhorFeature]\n",
    "    dataset = numpy.column_stack((dataset, colunaNova))\n",
    "\n",
    "    # ADICIONANDO NOVAMENTE A CLASSIFICACAO\n",
    "    colunaNova = datasetOriginal[:,23]\n",
    "    dataset = numpy.column_stack((dataset, colunaNova))\n",
    "    \n",
    "    # REMOVENDO DO ARRAY DE FEATURES RESTANTES\n",
    "    indexPraRemover = numpy.where(featuresRestantes == melhorFeature)\n",
    "    featuresRestantes = numpy.delete(featuresRestantes, indexPraRemover)\n",
    "        \n",
    "    return dataset, featuresRestantes"
   ]
  },
  {
   "cell_type": "markdown",
   "metadata": {
    "colab_type": "text",
    "id": "UNldX5-_Lx8y"
   },
   "source": [
    "# KFOLD"
   ]
  },
  {
   "cell_type": "code",
   "execution_count": 0,
   "metadata": {
    "colab": {},
    "colab_type": "code",
    "id": "igWkKxTp6Blh"
   },
   "outputs": [],
   "source": [
    "with open('/content/drive/My Drive/CBIC2019/logKFold.txt', 'w') as file:\n",
    "\n",
    "  # O DATASET COMECA SO COM A COLUNA 0 (PASTA) E A 23 (CLASSIFICACAO)\n",
    "  dataset = numpy.delete(datasetOriginal, numpy.s_[1:-1], axis=1)\n",
    "\n",
    "  # ARRAY DE FEATURES QUE FALTAM, 0 E A PASTA E 23 E A CLASSIFICACAO, POR ISSO NAO ENTRAM\n",
    "  featuresRestantes = numpy.array([1, 2, 3, 4, 5, 6, 7, 8, 9, 10, 11, 12, 13, 14, 15, 16, 17, 18, 19, 20, 21, 22])\n",
    "\n",
    "  # ISSO AQUI E PRA PEGAR TODAS AS ACURACIAS DE TODAS AS ITERACOES\n",
    "  todasAcuraciasKFold = []\n",
    "\n",
    "  # ENQUANTO HOUVEREM FEATURES A SEREM TESTADAS\n",
    "  while(len(featuresRestantes) != 0):\n",
    "\n",
    "      file.write(\"\\n\\n\\nNOVA ITERAÇÃO DO WHILE\")\n",
    "      file.write(\"\\n\\nFeatures restantes: \" + str(featuresRestantes))\n",
    "\n",
    "      melhorAcuraciaKNN = 0\n",
    "      melhorFeatureKNN = 1\n",
    "\n",
    "      # PARA CADA FEATURE RESTANTE EU A ADICIONO NAS QUE JA ESTAO SENDO UTILIZADAS\n",
    "      for i, featureAtual in enumerate(featuresRestantes):\n",
    "\n",
    "          file.write(\"\\n\\nTestando a feature \" + str(featureAtual))\n",
    "\n",
    "          # REARRANJO O DATASET COM A FEATURE ATUAL\n",
    "          dataset = rearranjarDataset(dataset, datasetOriginal, featureAtual, i)\n",
    "\n",
    "          # AGORA QUE JA TENHO UM DATASET COM AS FEATURES DA VEZ, TENHO QUE TESTAR OS CLASSIFICADORES\n",
    "          knn = KNeighborsClassifier(7)\n",
    "          arrayAcuraciasKNN = []\n",
    "\n",
    "          # PARA CADA ITERACAO DO KFOLD\n",
    "          matrizKFold = kFold(dataset)\n",
    "          for iteracaoKFold in matrizKFold:\n",
    "\n",
    "              # SEPARANDO OS DADOS DE TREINAMENTO E TESTE E JÁ EXCLUINDO A COLUNA 0 (pasta)\n",
    "              dadosTreino = numpy.delete(iteracaoKFold[0], 0, axis=1)\n",
    "              dadosTeste  = numpy.delete(iteracaoKFold[1], 0, axis=1)\n",
    "\n",
    "              # SEPARANDO O QUE E X E Y\n",
    "              xTrain = numpy.delete(dadosTreino, dadosTreino.shape[1] - 1, axis=1) # exclui a coluna do target\n",
    "              xTest  = numpy.delete(dadosTeste, dadosTeste.shape[1] - 1, axis=1) # exclui a coluna do target\n",
    "              yTrain = numpy.delete(dadosTreino, numpy.s_[0:dadosTreino.shape[1] - 1], axis=1).ravel() # exclui as colunas menos a 22\n",
    "              yTest  = numpy.delete(dadosTeste, numpy.s_[0:dadosTeste.shape[1] - 1], axis=1).ravel() # exclui as colunas menos a 22\n",
    "\n",
    "              # TREINANDO O CLASSIFICADOR (ignorando a pasta e usando a coluna 23 como target)\n",
    "              knn = knn.fit(xTrain, yTrain)\n",
    "\n",
    "              # PREDIZENDO\n",
    "              yKNN = knn.predict(xTest)\n",
    "\n",
    "              # VERIFICANDO A ACURACIA\n",
    "              arrayAcuraciasKNN.append(accuracy_score(yTest, yKNN))\n",
    "\n",
    "              # TAMBEM VOU COLOCAR NAS ACURACIAS GERAIS\n",
    "              todasAcuraciasKFold.append(accuracy_score(yTest, yKNN))\n",
    "\n",
    "          file.write(\"\\nA média das acurácias no KFold é \" + str(numpy.mean(arrayAcuraciasKNN)))\n",
    "          file.write(\"\\nA melhor acurácia até agora tinha sido \" + str(melhorAcuraciaKNN))\n",
    "\n",
    "          # AGORA JA TENHO TODAS AS ACURACIAS DO KFOLD, VOU TIRAR A MEDIA \n",
    "          # E VER SE COM ESSA FEATURE O RESULTADO FOI BOM\n",
    "          if numpy.mean(arrayAcuraciasKNN) > melhorAcuraciaKNN:\n",
    "              file.write(\"\\nNova melhor feature identificada!\")\n",
    "              melhorAcuraciaKNN = numpy.mean(arrayAcuraciasKNN)\n",
    "              melhorFeatureKNN = featureAtual\n",
    "              file.write(\"\\nMelhor feature: \" + str(melhorFeatureKNN) + \". Melhor acurácia: \" + str(melhorAcuraciaKNN))\n",
    "\n",
    "      # DEPOIS QUE ACABAR, EU REMOVO A MELHOR FEATURE DAS FEATURES RESTANTES E COLOCO ELA FIXA NO DATASET\n",
    "      file.write(\"\\n\\nTerminou o while. A melhor feature foi a \" + str(melhorFeatureKNN) + \". Colocando-a fixa no dataset.\")\n",
    "      dataset, featuresRestantes = novaMelhorFeature(dataset, datasetOriginal, melhorFeatureKNN, featuresRestantes)"
   ]
  },
  {
   "cell_type": "code",
   "execution_count": 32,
   "metadata": {
    "colab": {
     "base_uri": "https://localhost:8080/",
     "height": 405
    },
    "colab_type": "code",
    "executionInfo": {
     "elapsed": 653,
     "status": "ok",
     "timestamp": 1567698800148,
     "user": {
      "displayName": "Dimitri Leandro",
      "photoUrl": "https://lh3.googleusercontent.com/a-/AAuE7mDtqzyfhi7N8q2-dYdsX9JQpdeYvKLF1vTCAewd1g=s64",
      "userId": "15780256931048792593"
     },
     "user_tz": 180
    },
    "id": "RQky_SU56BoH",
    "outputId": "25095de6-63b1-4758-ffc4-bd65f360c196"
   },
   "outputs": [
    {
     "data": {
      "text/plain": [
       "(array([ 29.,  60.,  54.,  47.,  65., 222., 323., 332., 262., 132., 122.,\n",
       "        174., 177., 151., 155., 116.,  50.,  28.,  21.,  10.]),\n",
       " array([0.09797297, 0.1215057 , 0.14503842, 0.16857114, 0.19210387,\n",
       "        0.21563659, 0.23916932, 0.26270204, 0.28623476, 0.30976749,\n",
       "        0.33330021, 0.35683294, 0.38036566, 0.40389838, 0.42743111,\n",
       "        0.45096383, 0.47449656, 0.49802928, 0.521562  , 0.54509473,\n",
       "        0.56862745]),\n",
       " <a list of 20 Patch objects>)"
      ]
     },
     "execution_count": 32,
     "metadata": {
      "tags": []
     },
     "output_type": "execute_result"
    },
    {
     "data": {
      "image/png": "[encoded data removed]",
      "text/plain": [
       "<Figure size 432x288 with 1 Axes>"
      ]
     },
     "metadata": {
      "tags": []
     },
     "output_type": "display_data"
    }
   ],
   "source": [
    "plt.hist(todasAcuraciasKFold, bins=20)"
   ]
  },
  {
   "cell_type": "code",
   "execution_count": 34,
   "metadata": {
    "colab": {
     "base_uri": "https://localhost:8080/",
     "height": 34
    },
    "colab_type": "code",
    "executionInfo": {
     "elapsed": 640,
     "status": "ok",
     "timestamp": 1567699494286,
     "user": {
      "displayName": "Dimitri Leandro",
      "photoUrl": "https://lh3.googleusercontent.com/a-/AAuE7mDtqzyfhi7N8q2-dYdsX9JQpdeYvKLF1vTCAewd1g=s64",
      "userId": "15780256931048792593"
     },
     "user_tz": 180
    },
    "id": "iv_rJ4346BrJ",
    "outputId": "603a2e3c-0387-4d25-ee77-a14329b26e76"
   },
   "outputs": [
    {
     "data": {
      "text/plain": [
       "0.5686274509803921"
      ]
     },
     "execution_count": 34,
     "metadata": {
      "tags": []
     },
     "output_type": "execute_result"
    }
   ],
   "source": [
    "numpy.max(todasAcuraciasKFold)"
   ]
  },
  {
   "cell_type": "markdown",
   "metadata": {
    "colab_type": "text",
    "id": "K0s3THcWL2OQ"
   },
   "source": [
    "# TRAIN TEST SPLIT"
   ]
  },
  {
   "cell_type": "code",
   "execution_count": 0,
   "metadata": {
    "colab": {},
    "colab_type": "code",
    "id": "-j5ebiKI6BOS"
   },
   "outputs": [],
   "source": [
    "with open('/content/drive/My Drive/CBIC2019/logTTS.txt', 'w') as file:\n",
    "\n",
    "  # O DATASET COMECA SO COM A 23 (CLASSIFICACAO)\n",
    "  dataset = numpy.delete(datasetOriginal, numpy.s_[0:-1], axis=1)\n",
    "\n",
    "  # ARRAY DE FEATURES QUE FALTAM, 0 E A PASTA E 23 E A CLASSIFICACAO, POR ISSO NAO ENTRAM\n",
    "  featuresRestantes = numpy.array([1, 2, 3, 4, 5, 6, 7, 8, 9, 10, 11, 12, 13, 14, 15, 16, 17, 18, 19, 20, 21, 22])\n",
    "\n",
    "  # ISSO AQUI E PRA PEGAR TODAS AS ACURACIAS DE TODAS AS ITERACOES\n",
    "  todasAcuraciasTTS = []\n",
    "\n",
    "  # ENQUANTO HOUVEREM FEATURES A SEREM TESTADAS\n",
    "  while(len(featuresRestantes) != 0):\n",
    "\n",
    "      file.write(\"\\n\\n\\nNOVA ITERAÇÃO DO WHILE\")\n",
    "      file.write(\"\\n\\nFeatures restantes: \" + str(featuresRestantes))\n",
    "\n",
    "      melhorAcuraciaKNN = 0\n",
    "      melhorFeatureKNN = 1\n",
    "\n",
    "      # PARA CADA FEATURE RESTANTE EU A ADICIONO NAS QUE JA ESTAO SENDO UTILIZADAS\n",
    "      for i, featureAtual in enumerate(featuresRestantes):\n",
    "\n",
    "          file.write(\"\\n\\nTestando a feature \" + str(featureAtual))\n",
    "\n",
    "          # REARRANJO O DATASET COM A FEATURE ATUAL\n",
    "          dataset = rearranjarDataset(dataset, datasetOriginal, featureAtual, i)\n",
    "\n",
    "          # AGORA QUE JA TENHO UM DATASET COM AS FEATURES DA VEZ, TENHO QUE TESTAR OS CLASSIFICADORES\n",
    "          knn = KNeighborsClassifier(7)\n",
    "\n",
    "          # SEPARANDO O QUE E X E Y PRA MANDAR PRO TTS\n",
    "          x = numpy.delete(dataset, dataset.shape[1] - 1, axis=1) # exclui a coluna do ultima\n",
    "          y = numpy.delete(dataset, numpy.s_[0:dataset.shape[1] - 1], axis=1).ravel()\n",
    "          \n",
    "          # SEPARANDO COM TTS\n",
    "          xTrain, xTest, yTrain, yTest = tts(x, y, test_size=0.25, random_state=42, shuffle=True)\n",
    "\n",
    "          # TREINANDO O CLASSIFICADOR (ignorando a pasta e usando a coluna 23 como target)\n",
    "          knn = knn.fit(xTrain, yTrain)\n",
    "\n",
    "          # PREDIZENDO\n",
    "          yKNN = knn.predict(xTest)\n",
    "\n",
    "          # VERIFICANDO A ACURACIA\n",
    "          acuraciaTTS = accuracy_score(yTest, yKNN)\n",
    "\n",
    "          # VOU COLOCAR NAS ACURACIAS GERAIS\n",
    "          todasAcuraciasTTS.append(acuraciaTTS)\n",
    "\n",
    "          file.write(\"\\nA acurácias do TTS foi \" + str(acuraciaTTS))\n",
    "          file.write(\"\\nA melhor acurácia até agora tinha sido \" + str(melhorAcuraciaKNN))\n",
    "\n",
    "          # AGORA JA TENHO A ACURACIA DO TTS, \n",
    "          # VOU VER SE COM ESSA FEATURE O RESULTADO FOI BOM\n",
    "          if acuraciaTTS > melhorAcuraciaKNN:\n",
    "              file.write(\"\\nNova melhor feature identificada!\")\n",
    "              melhorAcuraciaKNN = acuraciaTTS\n",
    "              melhorFeatureKNN = featureAtual\n",
    "              file.write(\"\\nMelhor feature: \" + str(melhorFeatureKNN) + \". Melhor acurácia: \" + str(acuraciaTTS))\n",
    "\n",
    "      # DEPOIS QUE ACABAR, EU REMOVO A MELHOR FEATURE DAS FEATURES RESTANTES E COLOCO ELA FIXA NO DATASET\n",
    "      file.write(\"\\n\\nTerminou o while. A melhor feature foi a \" + str(melhorFeatureKNN) + \". Colocando-a fixa no dataset.\")\n",
    "      dataset, featuresRestantes = novaMelhorFeature(dataset, datasetOriginal, melhorFeatureKNN, featuresRestantes)"
   ]
  },
  {
   "cell_type": "code",
   "execution_count": 83,
   "metadata": {
    "colab": {
     "base_uri": "https://localhost:8080/",
     "height": 405
    },
    "colab_type": "code",
    "executionInfo": {
     "elapsed": 657,
     "status": "ok",
     "timestamp": 1567701554932,
     "user": {
      "displayName": "Dimitri Leandro",
      "photoUrl": "https://lh3.googleusercontent.com/a-/AAuE7mDtqzyfhi7N8q2-dYdsX9JQpdeYvKLF1vTCAewd1g=s64",
      "userId": "15780256931048792593"
     },
     "user_tz": 180
    },
    "id": "Ouf6q0-rSua7",
    "outputId": "381a60fb-441c-4399-ccfd-c8804962a35e"
   },
   "outputs": [
    {
     "data": {
      "text/plain": [
       "(array([ 8.,  6., 25., 16., 11., 24., 32.,  2., 13.,  4.,  8.,  6., 13.,\n",
       "         9., 14., 10., 10., 16., 12., 14.]),\n",
       " array([0.13284471, 0.16509391, 0.19734311, 0.2295923 , 0.2618415 ,\n",
       "        0.2940907 , 0.3263399 , 0.3585891 , 0.3908383 , 0.42308749,\n",
       "        0.45533669, 0.48758589, 0.51983509, 0.55208429, 0.58433349,\n",
       "        0.61658268, 0.64883188, 0.68108108, 0.71333028, 0.74557948,\n",
       "        0.77782868]),\n",
       " <a list of 20 Patch objects>)"
      ]
     },
     "execution_count": 83,
     "metadata": {
      "tags": []
     },
     "output_type": "execute_result"
    },
    {
     "data": {
      "image/png": "[encoded data removed]",
      "text/plain": [
       "<Figure size 432x288 with 1 Axes>"
      ]
     },
     "metadata": {
      "tags": []
     },
     "output_type": "display_data"
    }
   ],
   "source": [
    "plt.hist(todasAcuraciasTTS, bins=20)"
   ]
  },
  {
   "cell_type": "code",
   "execution_count": 84,
   "metadata": {
    "colab": {
     "base_uri": "https://localhost:8080/",
     "height": 34
    },
    "colab_type": "code",
    "executionInfo": {
     "elapsed": 666,
     "status": "ok",
     "timestamp": 1567701723757,
     "user": {
      "displayName": "Dimitri Leandro",
      "photoUrl": "https://lh3.googleusercontent.com/a-/AAuE7mDtqzyfhi7N8q2-dYdsX9JQpdeYvKLF1vTCAewd1g=s64",
      "userId": "15780256931048792593"
     },
     "user_tz": 180
    },
    "id": "ri-xFvJITZYV",
    "outputId": "1814d215-d72e-414b-e4c5-d725e3b4254f"
   },
   "outputs": [
    {
     "data": {
      "text/plain": [
       "0.7778286761337608"
      ]
     },
     "execution_count": 84,
     "metadata": {
      "tags": []
     },
     "output_type": "execute_result"
    }
   ],
   "source": [
    "numpy.max(todasAcuraciasTTS)"
   ]
  }
 ],
 "metadata": {
  "colab": {
   "collapsed_sections": [],
   "name": "Untitled0.ipynb",
   "provenance": [],
   "version": "0.3.2"
  },
  "kernelspec": {
   "display_name": "Python 3",
   "language": "python",
   "name": "python3"
  },
  "language_info": {
   "codemirror_mode": {
    "name": "ipython",
    "version": 3
   },
   "file_extension": ".py",
   "mimetype": "text/x-python",
   "name": "python",
   "nbconvert_exporter": "python",
   "pygments_lexer": "ipython3",
   "version": "3.5.2"
  }
 },
 "nbformat": 4,
 "nbformat_minor": 1
}
