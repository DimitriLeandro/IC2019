{
 "cells": [
  {
   "cell_type": "code",
   "execution_count": 9,
   "metadata": {},
   "outputs": [],
   "source": [
    "import numpy\n",
    "import csv"
   ]
  },
  {
   "cell_type": "code",
   "execution_count": null,
   "metadata": {},
   "outputs": [],
   "source": []
  },
  {
   "cell_type": "code",
   "execution_count": null,
   "metadata": {},
   "outputs": [],
   "source": []
  },
  {
   "cell_type": "code",
   "execution_count": null,
   "metadata": {},
   "outputs": [],
   "source": []
  },
  {
   "cell_type": "code",
   "execution_count": 21,
   "metadata": {},
   "outputs": [],
   "source": [
    "bits = 8\n",
    "amostragem = 8\n",
    "caminhoCSV = \"../datasets/features_\" + str(bits) + \"bits_\" + str(amostragem) + \"k.csv\"\n",
    "\n",
    "file = open(\"file.txt\",\"w\")\n",
    "\n",
    "arrayPastas = [1,2,3,4,5,6,7,8,9,10]\n",
    "\n",
    "for pastaTeste in arrayPastas:\n",
    "\n",
    "    string = \"\\n\\n\\nNOVA ITERAÇÃO: UTILIZANDO A PASTA \" + str(pastaTeste) + \" COMO TESTE E O RESTANTE COMO TREINAMENTO.\"\n",
    "    file.write(string)\n",
    "\n",
    "    xTrain = []\n",
    "    xTest  = []\n",
    "    \n",
    "    with open(caminhoCSV) as dataset:\n",
    "        objReadCSV = csv.reader(dataset, delimiter=',')\n",
    "        next(objReadCSV)\n",
    "\n",
    "        for dado in objReadCSV:\n",
    "            if int(dado[0]) == pastaTeste:\n",
    "                xTest.append(dado)\n",
    "            else:\n",
    "                xTrain.append(dado)\n",
    "\n",
    "    file.write(\"\\nDADOS DE TESTE:\\n\")\n",
    "    for dadoTeste in xTest:\n",
    "        string = str(dadoTeste[0]) + \", \" \n",
    "        file.write(string)\n",
    "\n",
    "    file.write(\"\\nDADOS DE TREINAMENTO:\\n\")\n",
    "    for dadoTreinamento in xTrain:\n",
    "        string = str(dadoTreinamento[0]) + \", \" \n",
    "        file.write(string)\n",
    "                \n",
    "file.close()"
   ]
  },
  {
   "cell_type": "code",
   "execution_count": null,
   "metadata": {},
   "outputs": [],
   "source": []
  },
  {
   "cell_type": "code",
   "execution_count": null,
   "metadata": {},
   "outputs": [],
   "source": []
  },
  {
   "cell_type": "code",
   "execution_count": null,
   "metadata": {},
   "outputs": [],
   "source": []
  }
 ],
 "metadata": {
  "kernelspec": {
   "display_name": "Python 3",
   "language": "python",
   "name": "python3"
  },
  "language_info": {
   "codemirror_mode": {
    "name": "ipython",
    "version": 3
   },
   "file_extension": ".py",
   "mimetype": "text/x-python",
   "name": "python",
   "nbconvert_exporter": "python",
   "pygments_lexer": "ipython3",
   "version": "3.5.2"
  }
 },
 "nbformat": 4,
 "nbformat_minor": 2
}
