{
 "cells": [
  {
   "cell_type": "markdown",
   "metadata": {},
   "source": [
    "# CRIAÇÃO DA CLASSE DE EXTRAÇÃO DE FEATURES"
   ]
  },
  {
   "cell_type": "markdown",
   "metadata": {},
   "source": [
    "Esse jupyter tem como objetivo implementar o maior número possível de funções para extração de features. Essas funções serão testadas para que depois possa ser criada uma classe."
   ]
  },
  {
   "cell_type": "code",
   "execution_count": 1,
   "metadata": {},
   "outputs": [],
   "source": [
    "import os\n",
    "import librosa\n",
    "import numpy as np\n",
    "import pandas as pd\n",
    "import time\n",
    "from sklearn.preprocessing import StandardScaler\n",
    "from sklearn.decomposition import PCA\n",
    "from IPython.display import Audio"
   ]
  },
  {
   "cell_type": "markdown",
   "metadata": {},
   "source": [
    "## Tamanho do janelamento"
   ]
  },
  {
   "cell_type": "markdown",
   "metadata": {},
   "source": [
    "É preciso analisar o dataset para verificar qual vai ser o tamanho do janelamento. Para garantir que o processamento seja o mais rápido possível, o tamanho da janela será o tamanho do menor áudio.\n",
    "\n",
    "As células abaixo verificarão qual é o tamanho do menor arquivo do dataset."
   ]
  },
  {
   "cell_type": "code",
   "execution_count": 2,
   "metadata": {},
   "outputs": [],
   "source": [
    "arrayDuracoes = []\n",
    "\n",
    "diretorio = \"/home/dimi/Downloads/SESA/test/\"\n",
    "for arquivo in os.listdir(diretorio):\n",
    "    arrayDuracoes.append(librosa.get_duration(filename=diretorio + arquivo))\n",
    "\n",
    "diretorio = \"/home/dimi/Downloads/SESA/train/\"\n",
    "for arquivo in os.listdir(diretorio):\n",
    "    arrayDuracoes.append(librosa.get_duration(filename=diretorio + arquivo))"
   ]
  },
  {
   "cell_type": "code",
   "execution_count": 3,
   "metadata": {
    "scrolled": false
   },
   "outputs": [
    {
     "name": "stdout",
     "output_type": "stream",
     "text": [
      "Duração mínima: 1.0715625\n",
      "Duração máxima: 33.030375\n"
     ]
    }
   ],
   "source": [
    "print(\"Duração mínima:\", min(arrayDuracoes))\n",
    "print(\"Duração máxima:\", max(arrayDuracoes))"
   ]
  },
  {
   "cell_type": "markdown",
   "metadata": {},
   "source": [
    "A célula abaixo vai setar o valor da variável do janelamento. FRAME_TIME e OVERLAP_TIME estarão em segundos, já FRAME_LENGTH e OVERLAP_LENGTH estarão em amostras."
   ]
  },
  {
   "cell_type": "code",
   "execution_count": 4,
   "metadata": {
    "scrolled": true
   },
   "outputs": [
    {
     "name": "stdout",
     "output_type": "stream",
     "text": [
      "Frequência de amostragem do dataset:\t 16000\n",
      "Tamanho do janelamento (segundos):\t 1.0715625\n",
      "Tamanho do janelamento (amostras):\t 17145\n"
     ]
    }
   ],
   "source": [
    "audioTesteDir = \"/home/dimi/Downloads/SESA/train/casual_042.wav\" \n",
    "audioTeste, freqAmostragem = librosa.load(audioTesteDir, sr=None, mono=True)\n",
    "\n",
    "frameTime     = min(arrayDuracoes)\n",
    "overlapTime   = frameTime / 2\n",
    "\n",
    "frameLength   = int(freqAmostragem * frameTime)\n",
    "overlapLength = int(freqAmostragem * overlapTime)\n",
    "\n",
    "print(\"Frequência de amostragem do dataset:\\t\", freqAmostragem)\n",
    "print(\"Tamanho do janelamento (segundos):\\t\", frameTime)\n",
    "print(\"Tamanho do janelamento (amostras):\\t\", frameLength)"
   ]
  },
  {
   "cell_type": "markdown",
   "metadata": {},
   "source": [
    "## Criando e testando as funções que vão extrair as features"
   ]
  },
  {
   "cell_type": "markdown",
   "metadata": {},
   "source": [
    "Para testar as funções, vou utilizar um áudio qualquer, que já foi definido na célula anterior."
   ]
  },
  {
   "cell_type": "code",
   "execution_count": 5,
   "metadata": {},
   "outputs": [
    {
     "name": "stdout",
     "output_type": "stream",
     "text": [
      "Tamanho do áudio teste (amostras):\t 196000\n",
      "Tamanho do janelamento (amostras):\t 17145\n",
      "\n",
      "Qtd de janelas do áudio de teste:\t 23\n"
     ]
    }
   ],
   "source": [
    "print(\"Tamanho do áudio teste (amostras):\\t\", len(audioTeste))\n",
    "print(\"Tamanho do janelamento (amostras):\\t\", frameLength)\n",
    "\n",
    "# PARA SABER O NÚMERO DE JANELAS, TENHO QUE MULTIPLICAR POR 2 ALÍ PQ AINDA TEM A SOBREPOSIÇÃO\n",
    "# E SOMAR UM PQ SEMPRE VAI SOBRAR UM TECO\n",
    "print(\"\\nQtd de janelas do áudio de teste:\\t\", 1 + 2*int(len(audioTeste)/frameLength))"
   ]
  },
  {
   "cell_type": "markdown",
   "metadata": {},
   "source": [
    "### Features unitárias por janela"
   ]
  },
  {
   "cell_type": "markdown",
   "metadata": {},
   "source": [
    "Primeiro, vou criar as funções para extrair as features que retornam somente um valor para cada janela do áudio. Vou deixar MFCCs, Chromas e Contrastes pra depois."
   ]
  },
  {
   "cell_type": "markdown",
   "metadata": {},
   "source": [
    "#### RMS"
   ]
  },
  {
   "cell_type": "code",
   "execution_count": 6,
   "metadata": {},
   "outputs": [],
   "source": [
    "def extrairRMS(sinal, frameLength, overlapLength):\n",
    "    return librosa.feature.rms(y=sinal, frame_length=frameLength, hop_length=overlapLength)"
   ]
  },
  {
   "cell_type": "code",
   "execution_count": 7,
   "metadata": {},
   "outputs": [
    {
     "name": "stdout",
     "output_type": "stream",
     "text": [
      "Total: 23\n",
      "[[0.97289884 0.97283065 0.9683342  0.95529735 0.9353164  0.9231679\n",
      "  0.9189752  0.91432136 0.91490877 0.9199677  0.9292392  0.93753517\n",
      "  0.9363619  0.9375422  0.94477415 0.9487146  0.932465   0.91362005\n",
      "  0.9123069  0.9129697  0.92793566 0.94241256 0.9497184 ]]\n"
     ]
    }
   ],
   "source": [
    "rms = extrairRMS(audioTeste, frameLength, overlapLength)\n",
    "print(\"Total:\", len(rms[0]))\n",
    "print(rms)"
   ]
  },
  {
   "cell_type": "markdown",
   "metadata": {},
   "source": [
    "#### Centróide Espectral"
   ]
  },
  {
   "cell_type": "code",
   "execution_count": 8,
   "metadata": {},
   "outputs": [],
   "source": [
    "def extrairCentroideEspectral(sinal, freqAmostragem, frameLength, overlapLength):\n",
    "    return librosa.feature.spectral_centroid(y=sinal, sr=freqAmostragem, n_fft=frameLength, hop_length=overlapLength)"
   ]
  },
  {
   "cell_type": "code",
   "execution_count": 9,
   "metadata": {},
   "outputs": [
    {
     "name": "stdout",
     "output_type": "stream",
     "text": [
      "Total: 23\n",
      "[[3377.06116864 3405.16455392 3408.64093306 3153.77782842 2952.23849722\n",
      "  3297.5263438  3498.19650293 3555.64722383 3510.93774387 3328.77180695\n",
      "  3453.71077273 3464.53747956 3377.10366306 3371.66623924 3356.21156993\n",
      "  3365.48349049 3214.24186212 3326.15057732 3484.24147863 3410.43198092\n",
      "  3389.76753095 3088.52522657 3059.16436228]]\n"
     ]
    }
   ],
   "source": [
    "centroideEspectral = extrairCentroideEspectral(audioTeste, freqAmostragem, frameLength, overlapLength)\n",
    "print(\"Total:\", len(centroideEspectral[0]))\n",
    "print(centroideEspectral)"
   ]
  },
  {
   "cell_type": "markdown",
   "metadata": {},
   "source": [
    "#### Largura de banda espectral"
   ]
  },
  {
   "cell_type": "code",
   "execution_count": 10,
   "metadata": {},
   "outputs": [],
   "source": [
    "def extrairLarguraBanda(sinal, freqAmostragem, frameLength, overlapLength):\n",
    "    return librosa.feature.spectral_bandwidth(y=sinal, sr= freqAmostragem, n_fft=frameLength, hop_length=overlapLength)"
   ]
  },
  {
   "cell_type": "code",
   "execution_count": 11,
   "metadata": {},
   "outputs": [
    {
     "name": "stdout",
     "output_type": "stream",
     "text": [
      "Total: 23\n",
      "[[2303.6356116  2274.54695736 2291.14823972 2286.43795123 2302.79484\n",
      "  2270.56544052 2237.08173489 2212.32414584 2229.74843455 2280.92561942\n",
      "  2237.15157496 2216.4406777  2245.91932893 2233.38044745 2249.29224195\n",
      "  2256.34467685 2267.90052923 2273.34275505 2241.7598426  2278.28100339\n",
      "  2260.01232179 2289.73748255 2335.49885123]]\n"
     ]
    }
   ],
   "source": [
    "larguraBanda = extrairLarguraBanda(audioTeste, freqAmostragem, frameLength, overlapLength)\n",
    "print(\"Total:\", len(larguraBanda[0]))\n",
    "print(larguraBanda)"
   ]
  },
  {
   "cell_type": "markdown",
   "metadata": {},
   "source": [
    "#### Planicidade espectral"
   ]
  },
  {
   "cell_type": "code",
   "execution_count": 12,
   "metadata": {},
   "outputs": [],
   "source": [
    "def extrairPlanicidade(sinal, frameLength, overlapLength):\n",
    "    return librosa.feature.spectral_flatness(y=sinal, n_fft=frameLength, hop_length=overlapLength)"
   ]
  },
  {
   "cell_type": "code",
   "execution_count": 13,
   "metadata": {},
   "outputs": [
    {
     "name": "stdout",
     "output_type": "stream",
     "text": [
      "Total: 23\n",
      "[[0.20862587 0.42513445 0.4082259  0.3744419  0.31562665 0.41912323\n",
      "  0.43904808 0.48385513 0.46347493 0.42050347 0.4376149  0.44379652\n",
      "  0.43769926 0.4510455  0.44393855 0.45216855 0.36779508 0.3998395\n",
      "  0.4537909  0.43156722 0.43557653 0.36260265 0.34631407]]\n"
     ]
    }
   ],
   "source": [
    "planicidade = extrairPlanicidade(audioTeste, frameLength, overlapLength)\n",
    "print(\"Total:\", len(planicidade[0]))\n",
    "print(planicidade)"
   ]
  },
  {
   "cell_type": "markdown",
   "metadata": {},
   "source": [
    "#### Rolloff espectral"
   ]
  },
  {
   "cell_type": "code",
   "execution_count": 14,
   "metadata": {},
   "outputs": [],
   "source": [
    "def extrairRolloff(sinal, freqAmostragem, frameLength, overlapLength):\n",
    "    return librosa.feature.spectral_rolloff(y=sinal, sr= freqAmostragem, n_fft=frameLength, hop_length=overlapLength)"
   ]
  },
  {
   "cell_type": "code",
   "execution_count": 15,
   "metadata": {},
   "outputs": [
    {
     "name": "stdout",
     "output_type": "stream",
     "text": [
      "Total: 23\n",
      "[[6262.24918339 6242.65048997 6232.3845077  6079.3280448  5940.27064862\n",
      "  6163.32244517 6276.24825012 6283.71441904 6268.78208119 6211.85254316\n",
      "  6270.64862343 6249.18338777 6257.58282781 6183.85440971 6216.51889874\n",
      "  6198.78674755 6071.86187587 6181.05459636 6256.6495567  6284.64769015\n",
      "  6211.85254316 5980.40130658 6044.79701353]]\n"
     ]
    }
   ],
   "source": [
    "rolloff = extrairRolloff(audioTeste, freqAmostragem, frameLength, overlapLength)\n",
    "print(\"Total:\", len(rolloff[0]))\n",
    "print(rolloff)"
   ]
  },
  {
   "cell_type": "markdown",
   "metadata": {},
   "source": [
    "#### Taxa de cruzamentos por zero"
   ]
  },
  {
   "cell_type": "code",
   "execution_count": 16,
   "metadata": {},
   "outputs": [],
   "source": [
    "def extrairZCR(sinal, frameLength, overlapLength):\n",
    "    return librosa.feature.zero_crossing_rate(y=sinal, frame_length=frameLength, hop_length=overlapLength)"
   ]
  },
  {
   "cell_type": "code",
   "execution_count": 17,
   "metadata": {},
   "outputs": [
    {
     "name": "stdout",
     "output_type": "stream",
     "text": [
      "Total: 23\n",
      "[[0.16809565 0.33105862 0.31904345 0.261359   0.2208224  0.26625838\n",
      "  0.3133275  0.32907553 0.32621756 0.30492855 0.3074949  0.31659376\n",
      "  0.3007874  0.29291339 0.30072908 0.28626422 0.24596092 0.2671916\n",
      "  0.29827938 0.30335375 0.28632254 0.22315544 0.19492563]]\n"
     ]
    }
   ],
   "source": [
    "zcr = extrairZCR(audioTeste, frameLength, overlapLength)\n",
    "print(\"Total:\", len(zcr[0]))\n",
    "print(zcr)"
   ]
  },
  {
   "cell_type": "markdown",
   "metadata": {},
   "source": [
    "### Features não unitárias por janela"
   ]
  },
  {
   "cell_type": "markdown",
   "metadata": {},
   "source": [
    "Agora sim é hora de extrair os MFCCs, Chromas e Contrastes."
   ]
  },
  {
   "cell_type": "markdown",
   "metadata": {},
   "source": [
    "#### MFCC"
   ]
  },
  {
   "cell_type": "markdown",
   "metadata": {},
   "source": [
    "A função do MFCC retorna uma matriz, e ela será necessária para calcular os deltas e delta deltas, mas, na verdade, o MFCC que será colocado no array de features é uma média de cada linha da matriz. Por isso, primeiro vamos criar uma matriz do MFCC, e só depois a função extrairMediaMFCC vai fazer a média."
   ]
  },
  {
   "cell_type": "code",
   "execution_count": 18,
   "metadata": {},
   "outputs": [],
   "source": [
    "def extrairMatrizMFCC(sinal, freqAmostragem):\n",
    "    return librosa.feature.mfcc(y=sinal, sr=freqAmostragem)"
   ]
  },
  {
   "cell_type": "code",
   "execution_count": 19,
   "metadata": {},
   "outputs": [
    {
     "name": "stdout",
     "output_type": "stream",
     "text": [
      "Qtd linhas (MFCCs): 20\n",
      "Qtd de valores em cada linha: 383\n"
     ]
    }
   ],
   "source": [
    "matrizMFCC = extrairMatrizMFCC(audioTeste, freqAmostragem)\n",
    "\n",
    "print(\"Qtd linhas (MFCCs):\", len(matrizMFCC))\n",
    "print(\"Qtd de valores em cada linha:\", len(matrizMFCC[0]))"
   ]
  },
  {
   "cell_type": "code",
   "execution_count": 20,
   "metadata": {},
   "outputs": [],
   "source": [
    "def extrairMFCCs(matrizMFCC):\n",
    "    \n",
    "    arrayMFCCs = []\n",
    "    \n",
    "    for linha in matrizMFCC:\n",
    "        arrayMFCCs.append(np.mean(linha))\n",
    "        \n",
    "    return arrayMFCCs"
   ]
  },
  {
   "cell_type": "code",
   "execution_count": 21,
   "metadata": {},
   "outputs": [
    {
     "name": "stdout",
     "output_type": "stream",
     "text": [
      "Qtd de MFCCs: 20\n",
      "[218.63036349922476, 21.060018131195708, -5.090762600082968, 2.269630059832939, -9.334851730565067, -0.9481667939149704, -3.606366439455067, -6.228105011358649, -2.425939278288877, -1.3700105930352873, -4.620659252854622, -1.8810377388475406, 1.0335270075937133, -1.6101901035430177, 1.4737038717078546, 1.4784275279571726, 0.12237327841078621, 2.5565200359192013, -0.7213633653903515, -1.0908674502864897]\n"
     ]
    }
   ],
   "source": [
    "MFCCs = extrairMFCCs(matrizMFCC)\n",
    "\n",
    "print(\"Qtd de MFCCs:\", len(MFCCs))\n",
    "print(MFCCs)"
   ]
  },
  {
   "cell_type": "markdown",
   "metadata": {},
   "source": [
    "#### MFCC Delta"
   ]
  },
  {
   "cell_type": "markdown",
   "metadata": {},
   "source": [
    "Assim como o MFCC, a função do librosa que extrai os deltas retorna uma matriz. A função abaixo retorna a média de cada linha dessa matriz."
   ]
  },
  {
   "cell_type": "code",
   "execution_count": 22,
   "metadata": {},
   "outputs": [],
   "source": [
    "def extrairDeltas(matrizMFCC):\n",
    "    matrizDelta = librosa.feature.delta(matrizMFCC, order=1)\n",
    "\n",
    "    arrayDelta = []\n",
    "\n",
    "    for linha in matrizDelta:\n",
    "        arrayDelta.append(np.mean(linha))\n",
    "\n",
    "    return arrayDelta"
   ]
  },
  {
   "cell_type": "code",
   "execution_count": 23,
   "metadata": {},
   "outputs": [
    {
     "name": "stdout",
     "output_type": "stream",
     "text": [
      "Qtd de deltas: 20\n",
      "[0.00845555149101118, 0.035612215409566196, 0.002806821564038323, -0.002518456302930467, 0.009241424540702784, -0.0034264949423760413, -0.0015540583280829847, -0.0032644520250503365, -0.0035893956286237464, 0.007832486321244192, 0.016569689768331678, 0.0022751168282840093, 0.009231983347610237, 0.023039515224229916, -0.007992250274650295, 0.0009103221229303783, 0.030793369813422494, 0.019662701818535067, 0.012580190237291808, -0.0042172102548367835]\n"
     ]
    }
   ],
   "source": [
    "deltas = extrairDeltas(matrizMFCC)\n",
    "\n",
    "print(\"Qtd de deltas:\", len(deltas))\n",
    "print(deltas)"
   ]
  },
  {
   "cell_type": "markdown",
   "metadata": {},
   "source": [
    "#### MFCC Delta Delta"
   ]
  },
  {
   "cell_type": "code",
   "execution_count": 24,
   "metadata": {},
   "outputs": [],
   "source": [
    "def extrairDeltaDeltas(matrizMFCC):\n",
    "    matrizDeltaDelta = librosa.feature.delta(matrizMFCC, order=2)\n",
    "\n",
    "    arrayDeltaDelta = []\n",
    "\n",
    "    for linha in matrizDeltaDelta:\n",
    "        arrayDeltaDelta.append(np.mean(linha))\n",
    "\n",
    "    return arrayDeltaDelta"
   ]
  },
  {
   "cell_type": "code",
   "execution_count": 25,
   "metadata": {},
   "outputs": [
    {
     "name": "stdout",
     "output_type": "stream",
     "text": [
      "Qtd de delta deltas: 20\n",
      "[-0.010601507118590004, -0.0010596455903566708, -0.008728935271422093, 0.007129450561897048, 0.004319593045042994, -0.012841760312570177, -0.016290592470991832, -0.006092034699096264, -0.006237431084616262, -0.007912498869041532, -0.005202688361176131, -0.00901883527713022, 0.002189074129611164, 0.003987256232567145, 0.005828932534320377, 0.0024293182557689535, 0.002831223024423794, 0.005637318042738157, 0.004555332952872064, 0.0026232203083446206]\n"
     ]
    }
   ],
   "source": [
    "deltaDeltas = extrairDeltaDeltas(matrizMFCC)\n",
    "\n",
    "print(\"Qtd de delta deltas:\", len(deltaDeltas))\n",
    "print(deltaDeltas)"
   ]
  },
  {
   "cell_type": "markdown",
   "metadata": {},
   "source": [
    "#### Mel Espectrograma"
   ]
  },
  {
   "cell_type": "markdown",
   "metadata": {},
   "source": [
    "Essa também retorna uma matriz, mas ela vem invertida, tenho que tirar a média de cada COLUNA."
   ]
  },
  {
   "cell_type": "code",
   "execution_count": 26,
   "metadata": {},
   "outputs": [],
   "source": [
    "def extrairMelEspectrograma(sinal, freqAmostragem, frameLength, overlapLength):\n",
    "    \n",
    "    matrizMelEspectrograma = librosa.feature.melspectrogram(y=sinal, sr=freqAmostragem, n_fft=frameLength, hop_length=overlapLength)\n",
    "    \n",
    "    arrayMelEspectrograma = []\n",
    "    \n",
    "    for coluna in matrizMelEspectrograma.T:\n",
    "        arrayMelEspectrograma.append(np.mean(coluna))\n",
    "    \n",
    "    return arrayMelEspectrograma"
   ]
  },
  {
   "cell_type": "code",
   "execution_count": 27,
   "metadata": {},
   "outputs": [
    {
     "name": "stdout",
     "output_type": "stream",
     "text": [
      "Qtd de features: 23\n",
      "[9570.04256992491, 8755.53390849765, 8899.649301026251, 10259.089626841838, 11136.780923949173, 9016.744580308401, 7690.262057484933, 7267.0870558676415, 7503.434648866611, 8777.807106707889, 7956.240701175975, 7851.911342069301, 8407.602126082898, 8477.264668694304, 8788.676597168058, 8913.930068147038, 9871.661309884461, 9113.27421887679, 7845.123072620453, 8205.829810018346, 8403.363909387137, 10903.044633953104, 11445.250868945495]\n"
     ]
    }
   ],
   "source": [
    "melEspectrograma = extrairMelEspectrograma(audioTeste, freqAmostragem, frameLength, overlapLength)\n",
    "\n",
    "print(\"Qtd de features:\", len(melEspectrograma))\n",
    "print(melEspectrograma)"
   ]
  },
  {
   "cell_type": "markdown",
   "metadata": {},
   "source": [
    "#### Cromagrama"
   ]
  },
  {
   "cell_type": "markdown",
   "metadata": {},
   "source": [
    "Essa também retorna uma matriz. Ela tem 12 cromagramas (linhas). Vou tirar a média de cada linha."
   ]
  },
  {
   "cell_type": "code",
   "execution_count": 28,
   "metadata": {},
   "outputs": [],
   "source": [
    "def extrairCromagramas(sinal, freqAmostragem, frameLength, overlapLength):\n",
    "    \n",
    "    matrizCromagramas = librosa.feature.chroma_stft(y=sinal, sr=freqAmostragem, n_fft=frameLength, hop_length=overlapLength)\n",
    "    \n",
    "    arrayCromagramas = []\n",
    "    \n",
    "    for linha in matrizCromagramas:\n",
    "        arrayCromagramas.append(np.mean(linha))\n",
    "    \n",
    "    return arrayCromagramas"
   ]
  },
  {
   "cell_type": "code",
   "execution_count": 29,
   "metadata": {},
   "outputs": [
    {
     "name": "stdout",
     "output_type": "stream",
     "text": [
      "Features: 12\n",
      "[0.6008743810470407, 0.6192316961822517, 0.6667679860367414, 0.5825510775417423, 0.593618639982298, 0.7165458847216384, 0.8398419559414932, 0.8229532372995757, 0.7429803219273489, 0.7372121606363919, 0.6538187863614455, 0.568055629925344]\n"
     ]
    }
   ],
   "source": [
    "cromagramas = extrairCromagramas(audioTeste, freqAmostragem, frameLength, overlapLength)\n",
    "print(\"Features:\", len(cromagramas))\n",
    "print(cromagramas)"
   ]
  },
  {
   "cell_type": "markdown",
   "metadata": {},
   "source": [
    "#### Cromagrama de constante Q"
   ]
  },
  {
   "cell_type": "markdown",
   "metadata": {},
   "source": [
    "Essa função não precisa do tamanho da janela (frameLength) e a sobreposição: \"hop_length must be a positive integer multiple of 2^6 for 7-octave CQT\". Portanto, vou deixar esse parâmetro como padrão."
   ]
  },
  {
   "cell_type": "code",
   "execution_count": 30,
   "metadata": {},
   "outputs": [],
   "source": [
    "def extrairCromagramasQ(sinal, freqAmostragem):\n",
    "    \n",
    "    matrizCromagramasQ = librosa.feature.chroma_cqt(y=sinal, sr=freqAmostragem)\n",
    "    \n",
    "    arrayCromagramasQ = []\n",
    "    \n",
    "    for linha in matrizCromagramasQ:\n",
    "        arrayCromagramasQ.append(np.mean(linha))\n",
    "    \n",
    "    return arrayCromagramasQ"
   ]
  },
  {
   "cell_type": "code",
   "execution_count": 31,
   "metadata": {
    "scrolled": true
   },
   "outputs": [
    {
     "name": "stdout",
     "output_type": "stream",
     "text": [
      "Features: 12\n",
      "[0.7423326366339749, 0.8118458760732015, 0.7749866599976304, 0.6888570958887758, 0.6844563707706994, 0.720939679150639, 0.7696370006528446, 0.772528034411687, 0.7429615093198946, 0.7324581398205714, 0.708322482131199, 0.6633871173325862]\n"
     ]
    }
   ],
   "source": [
    "cromagramasQ = extrairCromagramasQ(audioTeste, freqAmostragem)\n",
    "print(\"Features:\", len(cromagramasQ))\n",
    "print(cromagramasQ)"
   ]
  },
  {
   "cell_type": "markdown",
   "metadata": {},
   "source": [
    "#### Croma CENS"
   ]
  },
  {
   "cell_type": "markdown",
   "metadata": {},
   "source": [
    "Assim como o cromagrama de constante Q, essa função não precisa do tamanho da janela (frameLength) e a sobreposição: \"hop_length must be a positive integer multiple of 2^6 for 7-octave CQT\". Portanto, vou deixar esse parâmetro como padrão."
   ]
  },
  {
   "cell_type": "code",
   "execution_count": 32,
   "metadata": {},
   "outputs": [],
   "source": [
    "def extrairCromaCENSs(sinal, freqAmostragem):\n",
    "    \n",
    "    matrizCromaCENSs = librosa.feature.chroma_cens(y=sinal, sr=freqAmostragem)\n",
    "    \n",
    "    arrayCromaCENSs = []\n",
    "    \n",
    "    for linha in matrizCromaCENSs:\n",
    "        arrayCromaCENSs.append(np.mean(linha))\n",
    "    \n",
    "    return arrayCromaCENSs"
   ]
  },
  {
   "cell_type": "code",
   "execution_count": 33,
   "metadata": {},
   "outputs": [
    {
     "name": "stdout",
     "output_type": "stream",
     "text": [
      "Features: 12\n",
      "[0.2889321013998348, 0.33092915177628063, 0.3030257216642103, 0.25846359087921816, 0.2620416379149073, 0.27861773447656585, 0.2986214485837028, 0.3100619694287311, 0.2937169209459597, 0.28334975869294, 0.2724221661114414, 0.25863450842997304]\n"
     ]
    }
   ],
   "source": [
    "cromaCENSs = extrairCromaCENSs(audioTeste, freqAmostragem)\n",
    "print(\"Features:\", len(cromaCENSs))\n",
    "print(cromaCENSs)"
   ]
  },
  {
   "cell_type": "markdown",
   "metadata": {},
   "source": [
    "#### Contraste espectral"
   ]
  },
  {
   "cell_type": "markdown",
   "metadata": {},
   "source": [
    "As ultimas features serão essas."
   ]
  },
  {
   "cell_type": "code",
   "execution_count": 34,
   "metadata": {},
   "outputs": [],
   "source": [
    "def extrairContrastes(sinal, freqAmostragem, frameLength, overlapLength):\n",
    "    \n",
    "    matrizContrastes = librosa.feature.spectral_contrast(y=sinal, sr=freqAmostragem, n_fft=frameLength, hop_length=overlapLength)\n",
    "    \n",
    "    arrayConstrastes = []\n",
    "    \n",
    "    for linha in matrizContrastes:\n",
    "        arrayConstrastes.append(np.mean(linha))\n",
    "    \n",
    "    return arrayConstrastes"
   ]
  },
  {
   "cell_type": "code",
   "execution_count": 35,
   "metadata": {},
   "outputs": [
    {
     "name": "stdout",
     "output_type": "stream",
     "text": [
      "[16.726175997469667, 14.92242325103805, 15.14579009848466, 15.0678114625672, 15.051812102215814, 15.290737977844193, 14.06930378888526]\n"
     ]
    }
   ],
   "source": [
    "contrastes = extrairContrastes(audioTeste, freqAmostragem, frameLength, overlapLength)\n",
    "print(contrastes)"
   ]
  },
  {
   "cell_type": "markdown",
   "metadata": {},
   "source": [
    "## Criando a classe"
   ]
  },
  {
   "cell_type": "markdown",
   "metadata": {},
   "source": [
    "O objetivo é que essa classe entre numa pasta e me devolva uma matriz em que cada linha seja um áudio e cada coluna seja uma feature. Essa classe ainda deve ser capaz de gravar tudo isso num csv.\n",
    "\n",
    "As features serão extraídas, e depois que tudo já estiver pronto, ela vai escalonar as features e depois passar tudo num PCA.\n",
    "\n",
    "Então, para usar a classe, é necessário ter as pastas de áudios muito bem organizadas para que ela crie o CSV dentro da pasta que se queira. Preferi fazer assim, pois, se eu fosse abrir todos os áudios numa matriz do python pra só depois mandar pra essa classe, poderia ficar mto pesado. É melhor que ela só receba o caminho pra uma pasta e gere um CSV."
   ]
  },
  {
   "cell_type": "markdown",
   "metadata": {},
   "source": [
    "### Criando funções intermediárias"
   ]
  },
  {
   "cell_type": "markdown",
   "metadata": {},
   "source": [
    "Vou usar essa parte pra criar as funções intermediárias, que não serão responsáveis por calcular nenhuma feature, mas apenas montar os arrays e metrizes da classe."
   ]
  },
  {
   "cell_type": "markdown",
   "metadata": {},
   "source": [
    "#### Função que faz o janelamento"
   ]
  },
  {
   "cell_type": "markdown",
   "metadata": {},
   "source": [
    "Existe um problema em deixar que as funções de extração de features criadas acima façam o janelamento: ao invés de retornarem valores unitários para as features, elas vão retornar um array em que cada posição representa um janelamento. Portanto, a solução é fazer o janelamento antes de extrair as features e deixar para mandar para essas funções apenas as janelas, fazendo com que frameLength seja igual ao tamanho da janela que está sendo enviada e que overlapLength seja 0.\n",
    "\n",
    "A função abaixo usa a função frame do librosa que retorna as janelas como COLUNAS. Como eu quero que cada janela seja uma LINHA, eu retorno a transposta dessa função."
   ]
  },
  {
   "cell_type": "code",
   "execution_count": 36,
   "metadata": {},
   "outputs": [],
   "source": [
    "def fazerJanelamento(sinal, frameLength, overlapLength):\n",
    "    return librosa.util.frame(sinal, frame_length=frameLength, hop_length=overlapLength).T"
   ]
  },
  {
   "cell_type": "code",
   "execution_count": 37,
   "metadata": {},
   "outputs": [
    {
     "name": "stdout",
     "output_type": "stream",
     "text": [
      "Qtd janelas: 21\n",
      "[[ 0.9609375  0.9375     0.96875   ...  0.9375     0.921875   0.953125 ]\n",
      " [ 0.9609375  0.9765625 -1.        ...  0.828125   0.8671875  0.8984375]\n",
      " [ 0.953125   0.9609375  0.984375  ...  0.8515625  0.9140625 -1.       ]\n",
      " ...\n",
      " [-0.9765625  0.9921875  0.8671875 ...  0.9453125  0.90625    0.9453125]\n",
      " [-0.96875   -0.96875    0.984375  ...  0.9765625  0.9765625  0.9765625]\n",
      " [ 0.9453125  0.9375    -0.9609375 ...  0.921875   0.8828125  0.8515625]]\n",
      "[0.9609375 0.9375    0.96875   ... 0.9375    0.921875  0.953125 ]\n"
     ]
    }
   ],
   "source": [
    "framesAudioTeste = fazerJanelamento(audioTeste, frameLength, overlapLength)\n",
    "print(\"Qtd janelas:\", len(framesAudioTeste))\n",
    "print(framesAudioTeste)\n",
    "print(framesAudioTeste[0])"
   ]
  },
  {
   "cell_type": "code",
   "execution_count": 38,
   "metadata": {},
   "outputs": [
    {
     "data": {
      "text/html": [
       "\n",
       "                <audio  controls=\"controls\" >\n",
       "                    <source src=\"data:audio/wav;base64,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\" type=\"audio/wav\" />\n",
       "                    Your browser does not support the audio element.\n",
       "                </audio>\n",
       "              "
      ],
      "text/plain": [
       "<IPython.lib.display.Audio object>"
      ]
     },
     "execution_count": 38,
     "metadata": {},
     "output_type": "execute_result"
    }
   ],
   "source": [
    "Audio(data=framesAudioTeste[0], rate=freqAmostragem)"
   ]
  },
  {
   "cell_type": "markdown",
   "metadata": {},
   "source": [
    "#### Função que extrai features de um único frame"
   ]
  },
  {
   "cell_type": "markdown",
   "metadata": {},
   "source": [
    "Em algum momento, a classe deverá passar em cada um dos áudios da pasta para ir extraindo as features. A próxima função extrai as features de um único frame de áudio e retorna um array com essas features. Posteriormente esse array deverá ser integrado à matriz de features de todos os áudios.\n",
    "\n",
    "Haverá uma outra função para extrair as features de um único áudio. Ela deverá pegar um áudio, usar a função de janelamento, e usar a função abaixo para extrair as features de cada uma das janelas. Depois, ela vai retornar uma matriz com as features de cada frame de um único áudio.\n",
    "\n",
    "PARA IMPEDIR QUE O LIBROSA CONTINUE FAZENDO O JANELAMENTO DO ÁUDIO MESMO QUE frameLength SEJA DO TAMANHO DO ÁUDIO, O PARÂMETRO DE OVERLAP DEVE SER MAIOR OU IGUAL A frameLength."
   ]
  },
  {
   "cell_type": "code",
   "execution_count": 39,
   "metadata": {},
   "outputs": [],
   "source": [
    "def extrairFeaturesUnicoFrame(sinal, freqAmostragem, frameLength):\n",
    "    \n",
    "    # PARA IMPEDIR QUE O LIBROSA CONTINUE FAZENDO O JANELAMENTO DO ÁUDIO MESMO QUE frameLength \n",
    "    # SEJA DO TAMANHO DO ÁUDIO, O PARÂMETRO DE OVERLAP DEVE SER MAIOR OU IGUAL A frameLength:\n",
    "    overlapLength = frameLength\n",
    "    \n",
    "    # CRIANDO O ARRAY DE FEATURES DO FRAME EM QUESTAO\n",
    "    arrayFeaturesFrame = []\n",
    "    \n",
    "    #PRIMEIRO, VOU EXTRAIR AS FEATURES UNITARIAS\n",
    "    arrayFeaturesFrame.append(float(extrairRMS(sinal, frameLength, overlapLength)))\n",
    "    arrayFeaturesFrame.append(float(extrairCentroideEspectral(sinal, freqAmostragem, frameLength, overlapLength)))\n",
    "    arrayFeaturesFrame.append(float(extrairLarguraBanda(sinal, freqAmostragem, frameLength, overlapLength)))\n",
    "    arrayFeaturesFrame.append(float(extrairPlanicidade(sinal, frameLength, overlapLength)))\n",
    "    arrayFeaturesFrame.append(float(extrairRolloff(sinal, freqAmostragem, frameLength, overlapLength)))\n",
    "    arrayFeaturesFrame.append(float(extrairZCR(sinal, frameLength, overlapLength)))\n",
    "    \n",
    "    # AGORA VAMOS PASSAR PARA AS NAO UNITARIAS, PRIMEIRO, E PRECISO CRIAR A MATRIZ DOS MFCCS\n",
    "    matrizMFCC          = extrairMatrizMFCC(sinal, freqAmostragem)\n",
    "    \n",
    "    # AGORA SIM EU SAIO EXTRAINDO AS FEATURES \n",
    "    arrayFeaturesFrame += extrairMFCCs(matrizMFCC)\n",
    "    arrayFeaturesFrame += extrairDeltas(matrizMFCC)\n",
    "    arrayFeaturesFrame += extrairDeltaDeltas(matrizMFCC)\n",
    "    arrayFeaturesFrame += extrairMelEspectrograma(sinal, freqAmostragem, frameLength, overlapLength)\n",
    "    arrayFeaturesFrame += extrairCromagramas(sinal, freqAmostragem, frameLength, overlapLength)\n",
    "    arrayFeaturesFrame += extrairCromagramasQ(sinal, freqAmostragem)\n",
    "    arrayFeaturesFrame += extrairCromaCENSs(sinal, freqAmostragem)\n",
    "    arrayFeaturesFrame += extrairContrastes(sinal, freqAmostragem, frameLength, overlapLength)\n",
    "    \n",
    "    # POR FIM, RETORNO O ARRAY DE FEATURES DO AUDIO QUE FOI ENVIADO PARA ESSA FUNCAO\n",
    "    return arrayFeaturesFrame"
   ]
  },
  {
   "cell_type": "code",
   "execution_count": 40,
   "metadata": {},
   "outputs": [
    {
     "name": "stdout",
     "output_type": "stream",
     "text": [
      "110\n",
      "[0.9728988409042358, 3377.061168638039, 2303.6356116043476, 0.20862586796283722, 6262.249183387775, 0.16809565470982793, 221.53280706804168, 21.19834589785677, 1.0012264928341856, 5.263567737867123, -8.234803250169637, 2.916007312866955, -1.7485395399910024, -3.9926662851803836, -0.7837956354089776, -1.28079885661594, -0.9368607871097065, -0.6277930498722697, 1.5727513515461322, -3.1451725351384363, 0.18228527875054762, -0.4002125886253895, -1.5030519704526164, 0.20320440111907276, -3.5990314363883735, 1.9381680950506794, 0.08905400207585759, -0.098222011994975, -0.054339009052107354, 0.09565601439595162, 0.14975389468396536, 0.08222962635775, -0.0108842410290983, -0.16757563495637334, -0.10258308837954433, 0.12241220169860786, -0.01720994072219128, -0.09928815736885213, 0.1588778357067479, 0.10337051105258759, -0.32752447318415245, -0.09067838123138729, 0.06829057133578621, -0.21333502680294134, -0.11051394327897336, -0.050314484934365286, -0.029874794161612955, -0.10525307199267109, -0.15152162414243003, 0.14759690121466168, 0.07978911820524053, -0.04084481965303768, -0.04242810631446162, 0.01512793994007271, 0.06894777318125961, 0.08539935498312164, -0.046484267971756525, -0.02108713543785798, -0.014675515414520083, 0.08261333961104353, 0.009012176565347902, -0.02188702027174821, -0.001398062258410376, -0.028927289487073325, 0.04072246134058585, -0.01667118435252105, 9570.042569924906, 0.6658755388394484, 0.668663893743963, 0.9482760464447997, 1.0, 0.5696094505337721, 0.5619341442797243, 0.5577663349046239, 0.737451127049542, 0.6795827580223965, 0.6439803418076778, 0.5943716251403691, 0.5924791717386239, 0.8556718598185432, 0.8866353569995296, 0.7679864720239165, 0.6615992848560341, 0.6947857839365205, 0.7230829614994326, 0.6771458524811249, 0.6598661436660194, 0.6670893034394223, 0.6612194317267841, 0.6430674955342585, 0.6729694544894316, 0.3546581930563284, 0.3998266201045743, 0.2905590034347604, 0.2602379624032285, 0.2798652487794059, 0.2869010402107566, 0.24369315796323476, 0.26392805920911294, 0.27137754805906006, 0.24899208701167974, 0.2439206607935406, 0.2703324841977822, 23.005446903716646, 23.31444152276176, 23.07456608972666, 22.576420063310092, 23.924731882403428, 24.934543229812824, 24.205151981946166]\n"
     ]
    }
   ],
   "source": [
    "frameAtual = framesAudioTeste[0]\n",
    "\n",
    "featuresFrameAtual = extrairFeaturesUnicoFrame(frameAtual, freqAmostragem, frameLength)\n",
    "\n",
    "print(len(featuresFrameAtual))\n",
    "print(featuresFrameAtual)"
   ]
  },
  {
   "cell_type": "markdown",
   "metadata": {},
   "source": [
    "#### Função que extrai as features de um único áudio"
   ]
  },
  {
   "cell_type": "markdown",
   "metadata": {},
   "source": [
    "Essa função vai pegar um áudio, usar a função de janelamento, e para cada janela do áudio em questão, ela vai usar a função de extrair as features de uma única janela (implementada acima). Depois, ela vai retornar uma matriz com as features de cada frame de um único áudio, onde cada linha é uma frame e cada coluna é uma feature."
   ]
  },
  {
   "cell_type": "code",
   "execution_count": 41,
   "metadata": {},
   "outputs": [],
   "source": [
    "def extrairFeaturesUnicoAudio(sinal, freqAmostragem, frameLength, overlapLength):\n",
    "    \n",
    "    # PRIMEIRO, VOU CRIAR A MATRIZ QUE VAI CONTER AS FEATURES DE CADA JANELA\n",
    "    # CADA LINHA E UMA JANELA E CADA COLUNA E UMA FEATURE\n",
    "    matrizFeaturesAudio = []\n",
    "    \n",
    "    # DEPOIS, VOU FAZER O JANELAMENTO\n",
    "    matrizFramesAudio = fazerJanelamento(sinal, frameLength, overlapLength)\n",
    "    \n",
    "    # AGORA, PARA CADA JANELA, VOU EXTRAIR AS FEATURES E COLOCAR COMO UMA LINHA NOVA NA MATRIZ\n",
    "    for frameAtual in matrizFramesAudio:\n",
    "        matrizFeaturesAudio.append(extrairFeaturesUnicoFrame(frameAtual, freqAmostragem, frameLength))\n",
    "    \n",
    "    # RETORNO A MATRIZ DE FEATURES DESSE AUDIO\n",
    "    return matrizFeaturesAudio"
   ]
  },
  {
   "cell_type": "code",
   "execution_count": 42,
   "metadata": {},
   "outputs": [
    {
     "name": "stdout",
     "output_type": "stream",
     "text": [
      "Qtd frames (linhas): 21\n",
      "Qtd features (colunas): 110\n"
     ]
    }
   ],
   "source": [
    "matrizFeaturesAudioTeste = extrairFeaturesUnicoAudio(audioTeste, freqAmostragem, frameLength, overlapLength)\n",
    "print(\"Qtd frames (linhas):\", len(matrizFeaturesAudioTeste))\n",
    "print(\"Qtd features (colunas):\", len(matrizFeaturesAudioTeste[0]))"
   ]
  },
  {
   "cell_type": "markdown",
   "metadata": {},
   "source": [
    "#### Função que coloca o nome do arquivo e a classificação correta na matriz de features de um áudio"
   ]
  },
  {
   "cell_type": "markdown",
   "metadata": {},
   "source": [
    "Haverá uma matriz de dados que terá as seguintes colunas: **nomeArquivo, ...features... e classificacaoCorreta**. Mas, a função implementada para gerar a matriz de features de um único áudio **extrairFeaturesUnicoAudio** devolve uma matriz de features **sem** o nome do áudio e a classificação correta. Portanto, a função abaixo apenas pega essa última matriz e coloca o nome do arquivo no começo e a classificação correta ao final. Posteriormente, o resultado será agregado à matriz de dados citada em primeiro lugar.\n",
    "\n",
    "ESSA FUNÇÃO RETORNA UM DATAFRAME PANDAS, NÃO UMA MATRIZ QUALQUER.\n",
    "\n",
    "https://www.geeksforgeeks.org/python-pandas-dataframe-insert/"
   ]
  },
  {
   "cell_type": "code",
   "execution_count": 43,
   "metadata": {},
   "outputs": [],
   "source": [
    "def adicionarNomeArquivoEClasse(matrizFeaturesAudioAtual, nomeArquivo, classificacaoCorreta):\n",
    "    # PRIMEIRO TRANSFORMO A MATRIZ NUM PANDAS DATAFRAME\n",
    "    dataframeAudioAtual = pd.DataFrame(matrizFeaturesAudioAtual)\n",
    "    \n",
    "    # AGORA COLOCO A COLUNA DO NOME NO COMECO (posicaoNovaColuna, nomeNovaColuna, valorParaTodasAsLinhas)\n",
    "    dataframeAudioAtual.insert(0, \"nomeArquivo\", nomeArquivo, True)\n",
    "    \n",
    "    # AGORA COLOCO A COLUNA DA CLASSIFICACAO CORRETA NA ULTIMA POSICAO\n",
    "    dataframeAudioAtual.insert(len(dataframeAudioAtual.columns), \"classificacaoCorreta\", classificacaoCorreta, True)\n",
    "    \n",
    "    return dataframeAudioAtual"
   ]
  },
  {
   "cell_type": "code",
   "execution_count": 44,
   "metadata": {},
   "outputs": [
    {
     "data": {
      "text/html": [
       "<div>\n",
       "<style scoped>\n",
       "    .dataframe tbody tr th:only-of-type {\n",
       "        vertical-align: middle;\n",
       "    }\n",
       "\n",
       "    .dataframe tbody tr th {\n",
       "        vertical-align: top;\n",
       "    }\n",
       "\n",
       "    .dataframe thead th {\n",
       "        text-align: right;\n",
       "    }\n",
       "</style>\n",
       "<table border=\"1\" class=\"dataframe\">\n",
       "  <thead>\n",
       "    <tr style=\"text-align: right;\">\n",
       "      <th></th>\n",
       "      <th>nomeArquivo</th>\n",
       "      <th>0</th>\n",
       "      <th>1</th>\n",
       "      <th>2</th>\n",
       "      <th>3</th>\n",
       "      <th>4</th>\n",
       "      <th>5</th>\n",
       "      <th>6</th>\n",
       "      <th>7</th>\n",
       "      <th>8</th>\n",
       "      <th>...</th>\n",
       "      <th>101</th>\n",
       "      <th>102</th>\n",
       "      <th>103</th>\n",
       "      <th>104</th>\n",
       "      <th>105</th>\n",
       "      <th>106</th>\n",
       "      <th>107</th>\n",
       "      <th>108</th>\n",
       "      <th>109</th>\n",
       "      <th>classificacaoCorreta</th>\n",
       "    </tr>\n",
       "  </thead>\n",
       "  <tbody>\n",
       "    <tr>\n",
       "      <th>0</th>\n",
       "      <td>teste.wav</td>\n",
       "      <td>0.972899</td>\n",
       "      <td>3377.061169</td>\n",
       "      <td>2303.635612</td>\n",
       "      <td>0.208626</td>\n",
       "      <td>6262.249183</td>\n",
       "      <td>0.168096</td>\n",
       "      <td>221.532807</td>\n",
       "      <td>21.198346</td>\n",
       "      <td>1.001226</td>\n",
       "      <td>...</td>\n",
       "      <td>0.243921</td>\n",
       "      <td>0.270332</td>\n",
       "      <td>23.005447</td>\n",
       "      <td>23.314442</td>\n",
       "      <td>23.074566</td>\n",
       "      <td>22.576420</td>\n",
       "      <td>23.924732</td>\n",
       "      <td>24.934543</td>\n",
       "      <td>24.205152</td>\n",
       "      <td>gunshot</td>\n",
       "    </tr>\n",
       "    <tr>\n",
       "      <th>1</th>\n",
       "      <td>teste.wav</td>\n",
       "      <td>0.972763</td>\n",
       "      <td>3339.798126</td>\n",
       "      <td>2279.350128</td>\n",
       "      <td>0.215444</td>\n",
       "      <td>6198.786748</td>\n",
       "      <td>0.162963</td>\n",
       "      <td>221.557982</td>\n",
       "      <td>22.959761</td>\n",
       "      <td>0.059361</td>\n",
       "      <td>...</td>\n",
       "      <td>0.233492</td>\n",
       "      <td>0.260226</td>\n",
       "      <td>24.615355</td>\n",
       "      <td>24.632467</td>\n",
       "      <td>20.934591</td>\n",
       "      <td>21.107852</td>\n",
       "      <td>23.117511</td>\n",
       "      <td>25.457013</td>\n",
       "      <td>24.708157</td>\n",
       "      <td>gunshot</td>\n",
       "    </tr>\n",
       "    <tr>\n",
       "      <th>2</th>\n",
       "      <td>teste.wav</td>\n",
       "      <td>0.963885</td>\n",
       "      <td>3418.727827</td>\n",
       "      <td>2271.968297</td>\n",
       "      <td>0.197985</td>\n",
       "      <td>6202.519832</td>\n",
       "      <td>0.156080</td>\n",
       "      <td>220.457246</td>\n",
       "      <td>30.920611</td>\n",
       "      <td>-0.789945</td>\n",
       "      <td>...</td>\n",
       "      <td>0.247476</td>\n",
       "      <td>0.259320</td>\n",
       "      <td>29.820945</td>\n",
       "      <td>22.032529</td>\n",
       "      <td>27.410318</td>\n",
       "      <td>23.200435</td>\n",
       "      <td>23.896292</td>\n",
       "      <td>26.190899</td>\n",
       "      <td>23.940436</td>\n",
       "      <td>gunshot</td>\n",
       "    </tr>\n",
       "    <tr>\n",
       "      <th>3</th>\n",
       "      <td>teste.wav</td>\n",
       "      <td>0.946629</td>\n",
       "      <td>3126.108572</td>\n",
       "      <td>2312.871959</td>\n",
       "      <td>0.184629</td>\n",
       "      <td>6085.860943</td>\n",
       "      <td>0.105279</td>\n",
       "      <td>219.212834</td>\n",
       "      <td>34.936589</td>\n",
       "      <td>-2.596156</td>\n",
       "      <td>...</td>\n",
       "      <td>0.258251</td>\n",
       "      <td>0.258423</td>\n",
       "      <td>29.500904</td>\n",
       "      <td>22.654341</td>\n",
       "      <td>22.274284</td>\n",
       "      <td>25.839259</td>\n",
       "      <td>24.424743</td>\n",
       "      <td>23.936114</td>\n",
       "      <td>22.598811</td>\n",
       "      <td>gunshot</td>\n",
       "    </tr>\n",
       "    <tr>\n",
       "      <th>4</th>\n",
       "      <td>teste.wav</td>\n",
       "      <td>0.923872</td>\n",
       "      <td>2975.281584</td>\n",
       "      <td>2297.815918</td>\n",
       "      <td>0.159496</td>\n",
       "      <td>5959.869342</td>\n",
       "      <td>0.115544</td>\n",
       "      <td>218.023609</td>\n",
       "      <td>23.988647</td>\n",
       "      <td>-8.187614</td>\n",
       "      <td>...</td>\n",
       "      <td>0.282580</td>\n",
       "      <td>0.253668</td>\n",
       "      <td>26.138117</td>\n",
       "      <td>26.106901</td>\n",
       "      <td>24.963594</td>\n",
       "      <td>25.121482</td>\n",
       "      <td>23.027536</td>\n",
       "      <td>24.736787</td>\n",
       "      <td>24.693225</td>\n",
       "      <td>gunshot</td>\n",
       "    </tr>\n",
       "    <tr>\n",
       "      <th>5</th>\n",
       "      <td>teste.wav</td>\n",
       "      <td>0.922455</td>\n",
       "      <td>3261.378912</td>\n",
       "      <td>2264.549261</td>\n",
       "      <td>0.211681</td>\n",
       "      <td>6130.657956</td>\n",
       "      <td>0.150714</td>\n",
       "      <td>216.474148</td>\n",
       "      <td>13.156833</td>\n",
       "      <td>-11.303448</td>\n",
       "      <td>...</td>\n",
       "      <td>0.257010</td>\n",
       "      <td>0.267818</td>\n",
       "      <td>22.742492</td>\n",
       "      <td>21.280518</td>\n",
       "      <td>21.403479</td>\n",
       "      <td>23.739221</td>\n",
       "      <td>25.055030</td>\n",
       "      <td>24.217401</td>\n",
       "      <td>24.365702</td>\n",
       "      <td>gunshot</td>\n",
       "    </tr>\n",
       "    <tr>\n",
       "      <th>6</th>\n",
       "      <td>teste.wav</td>\n",
       "      <td>0.915480</td>\n",
       "      <td>3423.811655</td>\n",
       "      <td>2238.859473</td>\n",
       "      <td>0.225848</td>\n",
       "      <td>6211.852543</td>\n",
       "      <td>0.162613</td>\n",
       "      <td>216.082409</td>\n",
       "      <td>10.366624</td>\n",
       "      <td>-10.610264</td>\n",
       "      <td>...</td>\n",
       "      <td>0.260141</td>\n",
       "      <td>0.259250</td>\n",
       "      <td>21.572463</td>\n",
       "      <td>23.782177</td>\n",
       "      <td>23.372112</td>\n",
       "      <td>22.828666</td>\n",
       "      <td>24.387265</td>\n",
       "      <td>23.792568</td>\n",
       "      <td>24.100986</td>\n",
       "      <td>gunshot</td>\n",
       "    </tr>\n",
       "    <tr>\n",
       "      <th>7</th>\n",
       "      <td>teste.wav</td>\n",
       "      <td>0.913170</td>\n",
       "      <td>3538.142654</td>\n",
       "      <td>2215.888691</td>\n",
       "      <td>0.244049</td>\n",
       "      <td>6282.781148</td>\n",
       "      <td>0.166463</td>\n",
       "      <td>216.161194</td>\n",
       "      <td>11.958274</td>\n",
       "      <td>-8.087863</td>\n",
       "      <td>...</td>\n",
       "      <td>0.265994</td>\n",
       "      <td>0.274961</td>\n",
       "      <td>22.336204</td>\n",
       "      <td>26.209764</td>\n",
       "      <td>20.729363</td>\n",
       "      <td>23.013760</td>\n",
       "      <td>24.697374</td>\n",
       "      <td>23.784630</td>\n",
       "      <td>24.763205</td>\n",
       "      <td>gunshot</td>\n",
       "    </tr>\n",
       "    <tr>\n",
       "      <th>8</th>\n",
       "      <td>teste.wav</td>\n",
       "      <td>0.916643</td>\n",
       "      <td>3543.576511</td>\n",
       "      <td>2224.956393</td>\n",
       "      <td>0.229570</td>\n",
       "      <td>6273.448437</td>\n",
       "      <td>0.159755</td>\n",
       "      <td>216.128716</td>\n",
       "      <td>16.630360</td>\n",
       "      <td>-3.158215</td>\n",
       "      <td>...</td>\n",
       "      <td>0.282659</td>\n",
       "      <td>0.274164</td>\n",
       "      <td>23.293726</td>\n",
       "      <td>23.894012</td>\n",
       "      <td>22.565578</td>\n",
       "      <td>26.502834</td>\n",
       "      <td>26.389561</td>\n",
       "      <td>24.415697</td>\n",
       "      <td>24.102551</td>\n",
       "      <td>gunshot</td>\n",
       "    </tr>\n",
       "    <tr>\n",
       "      <th>9</th>\n",
       "      <td>teste.wav</td>\n",
       "      <td>0.923279</td>\n",
       "      <td>3302.328013</td>\n",
       "      <td>2294.824833</td>\n",
       "      <td>0.200715</td>\n",
       "      <td>6195.986934</td>\n",
       "      <td>0.145174</td>\n",
       "      <td>216.608818</td>\n",
       "      <td>15.912603</td>\n",
       "      <td>-4.567915</td>\n",
       "      <td>...</td>\n",
       "      <td>0.301987</td>\n",
       "      <td>0.256291</td>\n",
       "      <td>27.257390</td>\n",
       "      <td>25.413653</td>\n",
       "      <td>24.098846</td>\n",
       "      <td>25.393067</td>\n",
       "      <td>25.595660</td>\n",
       "      <td>23.635867</td>\n",
       "      <td>23.658042</td>\n",
       "      <td>gunshot</td>\n",
       "    </tr>\n",
       "    <tr>\n",
       "      <th>10</th>\n",
       "      <td>teste.wav</td>\n",
       "      <td>0.935164</td>\n",
       "      <td>3444.570949</td>\n",
       "      <td>2218.293520</td>\n",
       "      <td>0.206848</td>\n",
       "      <td>6225.851610</td>\n",
       "      <td>0.162321</td>\n",
       "      <td>217.215003</td>\n",
       "      <td>13.196173</td>\n",
       "      <td>-8.973630</td>\n",
       "      <td>...</td>\n",
       "      <td>0.284330</td>\n",
       "      <td>0.267413</td>\n",
       "      <td>26.803684</td>\n",
       "      <td>25.292081</td>\n",
       "      <td>21.018927</td>\n",
       "      <td>25.162508</td>\n",
       "      <td>25.630933</td>\n",
       "      <td>24.082653</td>\n",
       "      <td>23.547749</td>\n",
       "      <td>gunshot</td>\n",
       "    </tr>\n",
       "    <tr>\n",
       "      <th>11</th>\n",
       "      <td>teste.wav</td>\n",
       "      <td>0.939898</td>\n",
       "      <td>3442.813595</td>\n",
       "      <td>2209.963435</td>\n",
       "      <td>0.216129</td>\n",
       "      <td>6247.316846</td>\n",
       "      <td>0.154272</td>\n",
       "      <td>219.269691</td>\n",
       "      <td>16.016720</td>\n",
       "      <td>-10.436736</td>\n",
       "      <td>...</td>\n",
       "      <td>0.283012</td>\n",
       "      <td>0.265916</td>\n",
       "      <td>27.445865</td>\n",
       "      <td>21.509766</td>\n",
       "      <td>25.225098</td>\n",
       "      <td>24.794718</td>\n",
       "      <td>23.930800</td>\n",
       "      <td>23.534925</td>\n",
       "      <td>22.139261</td>\n",
       "      <td>gunshot</td>\n",
       "    </tr>\n",
       "    <tr>\n",
       "      <th>12</th>\n",
       "      <td>teste.wav</td>\n",
       "      <td>0.932816</td>\n",
       "      <td>3361.677701</td>\n",
       "      <td>2249.057011</td>\n",
       "      <td>0.217873</td>\n",
       "      <td>6265.048997</td>\n",
       "      <td>0.146515</td>\n",
       "      <td>221.396202</td>\n",
       "      <td>18.135409</td>\n",
       "      <td>-11.609852</td>\n",
       "      <td>...</td>\n",
       "      <td>0.271513</td>\n",
       "      <td>0.269144</td>\n",
       "      <td>27.583943</td>\n",
       "      <td>25.749996</td>\n",
       "      <td>24.875702</td>\n",
       "      <td>26.084063</td>\n",
       "      <td>24.788028</td>\n",
       "      <td>23.165229</td>\n",
       "      <td>23.118763</td>\n",
       "      <td>gunshot</td>\n",
       "    </tr>\n",
       "    <tr>\n",
       "      <th>13</th>\n",
       "      <td>teste.wav</td>\n",
       "      <td>0.942244</td>\n",
       "      <td>3378.313409</td>\n",
       "      <td>2233.050371</td>\n",
       "      <td>0.222725</td>\n",
       "      <td>6195.986934</td>\n",
       "      <td>0.146398</td>\n",
       "      <td>222.393218</td>\n",
       "      <td>17.839412</td>\n",
       "      <td>-10.568005</td>\n",
       "      <td>...</td>\n",
       "      <td>0.279227</td>\n",
       "      <td>0.248778</td>\n",
       "      <td>25.321387</td>\n",
       "      <td>25.088013</td>\n",
       "      <td>22.999687</td>\n",
       "      <td>24.267549</td>\n",
       "      <td>24.946394</td>\n",
       "      <td>24.208785</td>\n",
       "      <td>22.847089</td>\n",
       "      <td>gunshot</td>\n",
       "    </tr>\n",
       "    <tr>\n",
       "      <th>14</th>\n",
       "      <td>teste.wav</td>\n",
       "      <td>0.947298</td>\n",
       "      <td>3370.537677</td>\n",
       "      <td>2238.054374</td>\n",
       "      <td>0.221488</td>\n",
       "      <td>6198.786748</td>\n",
       "      <td>0.154331</td>\n",
       "      <td>221.611307</td>\n",
       "      <td>20.957578</td>\n",
       "      <td>-6.107231</td>\n",
       "      <td>...</td>\n",
       "      <td>0.268880</td>\n",
       "      <td>0.253115</td>\n",
       "      <td>22.808831</td>\n",
       "      <td>22.672165</td>\n",
       "      <td>22.263377</td>\n",
       "      <td>23.209560</td>\n",
       "      <td>24.102886</td>\n",
       "      <td>24.648510</td>\n",
       "      <td>24.255213</td>\n",
       "      <td>gunshot</td>\n",
       "    </tr>\n",
       "    <tr>\n",
       "      <th>15</th>\n",
       "      <td>teste.wav</td>\n",
       "      <td>0.950129</td>\n",
       "      <td>3350.596142</td>\n",
       "      <td>2270.733195</td>\n",
       "      <td>0.223570</td>\n",
       "      <td>6223.051797</td>\n",
       "      <td>0.131934</td>\n",
       "      <td>217.741266</td>\n",
       "      <td>24.656184</td>\n",
       "      <td>-6.016782</td>\n",
       "      <td>...</td>\n",
       "      <td>0.261006</td>\n",
       "      <td>0.223543</td>\n",
       "      <td>22.921401</td>\n",
       "      <td>22.456916</td>\n",
       "      <td>22.049826</td>\n",
       "      <td>22.905909</td>\n",
       "      <td>23.394281</td>\n",
       "      <td>24.779621</td>\n",
       "      <td>23.028481</td>\n",
       "      <td>gunshot</td>\n",
       "    </tr>\n",
       "    <tr>\n",
       "      <th>16</th>\n",
       "      <td>teste.wav</td>\n",
       "      <td>0.914459</td>\n",
       "      <td>3186.980375</td>\n",
       "      <td>2273.889748</td>\n",
       "      <td>0.180767</td>\n",
       "      <td>6075.594960</td>\n",
       "      <td>0.114027</td>\n",
       "      <td>214.415261</td>\n",
       "      <td>19.030944</td>\n",
       "      <td>-8.269898</td>\n",
       "      <td>...</td>\n",
       "      <td>0.302300</td>\n",
       "      <td>0.224773</td>\n",
       "      <td>22.387631</td>\n",
       "      <td>27.833773</td>\n",
       "      <td>22.739021</td>\n",
       "      <td>25.303767</td>\n",
       "      <td>24.339560</td>\n",
       "      <td>25.793636</td>\n",
       "      <td>22.538511</td>\n",
       "      <td>gunshot</td>\n",
       "    </tr>\n",
       "    <tr>\n",
       "      <th>17</th>\n",
       "      <td>teste.wav</td>\n",
       "      <td>0.912777</td>\n",
       "      <td>3366.183671</td>\n",
       "      <td>2269.788303</td>\n",
       "      <td>0.205632</td>\n",
       "      <td>6182.921139</td>\n",
       "      <td>0.153164</td>\n",
       "      <td>214.579821</td>\n",
       "      <td>15.437954</td>\n",
       "      <td>-6.214455</td>\n",
       "      <td>...</td>\n",
       "      <td>0.280800</td>\n",
       "      <td>0.251176</td>\n",
       "      <td>23.910941</td>\n",
       "      <td>26.178784</td>\n",
       "      <td>25.766397</td>\n",
       "      <td>23.091556</td>\n",
       "      <td>22.778305</td>\n",
       "      <td>24.399271</td>\n",
       "      <td>22.908842</td>\n",
       "      <td>gunshot</td>\n",
       "    </tr>\n",
       "    <tr>\n",
       "      <th>18</th>\n",
       "      <td>teste.wav</td>\n",
       "      <td>0.911839</td>\n",
       "      <td>3447.821482</td>\n",
       "      <td>2251.695514</td>\n",
       "      <td>0.216206</td>\n",
       "      <td>6241.717219</td>\n",
       "      <td>0.145115</td>\n",
       "      <td>215.514543</td>\n",
       "      <td>16.849130</td>\n",
       "      <td>-4.197828</td>\n",
       "      <td>...</td>\n",
       "      <td>0.225942</td>\n",
       "      <td>0.265895</td>\n",
       "      <td>21.883376</td>\n",
       "      <td>25.458307</td>\n",
       "      <td>28.968906</td>\n",
       "      <td>22.778177</td>\n",
       "      <td>24.373603</td>\n",
       "      <td>23.459807</td>\n",
       "      <td>22.269532</td>\n",
       "      <td>gunshot</td>\n",
       "    </tr>\n",
       "    <tr>\n",
       "      <th>19</th>\n",
       "      <td>teste.wav</td>\n",
       "      <td>0.914098</td>\n",
       "      <td>3465.838745</td>\n",
       "      <td>2287.218853</td>\n",
       "      <td>0.212815</td>\n",
       "      <td>6346.243584</td>\n",
       "      <td>0.158239</td>\n",
       "      <td>218.072842</td>\n",
       "      <td>21.472204</td>\n",
       "      <td>-2.570575</td>\n",
       "      <td>...</td>\n",
       "      <td>0.276796</td>\n",
       "      <td>0.263617</td>\n",
       "      <td>27.765495</td>\n",
       "      <td>23.245403</td>\n",
       "      <td>20.904989</td>\n",
       "      <td>24.551643</td>\n",
       "      <td>25.247108</td>\n",
       "      <td>24.304337</td>\n",
       "      <td>23.659414</td>\n",
       "      <td>gunshot</td>\n",
       "    </tr>\n",
       "    <tr>\n",
       "      <th>20</th>\n",
       "      <td>teste.wav</td>\n",
       "      <td>0.941568</td>\n",
       "      <td>3298.064036</td>\n",
       "      <td>2252.195384</td>\n",
       "      <td>0.203860</td>\n",
       "      <td>6124.125058</td>\n",
       "      <td>0.128084</td>\n",
       "      <td>219.018116</td>\n",
       "      <td>33.587693</td>\n",
       "      <td>0.778218</td>\n",
       "      <td>...</td>\n",
       "      <td>0.288162</td>\n",
       "      <td>0.255262</td>\n",
       "      <td>25.438358</td>\n",
       "      <td>22.743107</td>\n",
       "      <td>23.928220</td>\n",
       "      <td>23.455510</td>\n",
       "      <td>23.761811</td>\n",
       "      <td>25.010379</td>\n",
       "      <td>24.115051</td>\n",
       "      <td>gunshot</td>\n",
       "    </tr>\n",
       "  </tbody>\n",
       "</table>\n",
       "<p>21 rows × 112 columns</p>\n",
       "</div>"
      ],
      "text/plain": [
       "   nomeArquivo         0            1            2         3            4  \\\n",
       "0    teste.wav  0.972899  3377.061169  2303.635612  0.208626  6262.249183   \n",
       "1    teste.wav  0.972763  3339.798126  2279.350128  0.215444  6198.786748   \n",
       "2    teste.wav  0.963885  3418.727827  2271.968297  0.197985  6202.519832   \n",
       "3    teste.wav  0.946629  3126.108572  2312.871959  0.184629  6085.860943   \n",
       "4    teste.wav  0.923872  2975.281584  2297.815918  0.159496  5959.869342   \n",
       "5    teste.wav  0.922455  3261.378912  2264.549261  0.211681  6130.657956   \n",
       "6    teste.wav  0.915480  3423.811655  2238.859473  0.225848  6211.852543   \n",
       "7    teste.wav  0.913170  3538.142654  2215.888691  0.244049  6282.781148   \n",
       "8    teste.wav  0.916643  3543.576511  2224.956393  0.229570  6273.448437   \n",
       "9    teste.wav  0.923279  3302.328013  2294.824833  0.200715  6195.986934   \n",
       "10   teste.wav  0.935164  3444.570949  2218.293520  0.206848  6225.851610   \n",
       "11   teste.wav  0.939898  3442.813595  2209.963435  0.216129  6247.316846   \n",
       "12   teste.wav  0.932816  3361.677701  2249.057011  0.217873  6265.048997   \n",
       "13   teste.wav  0.942244  3378.313409  2233.050371  0.222725  6195.986934   \n",
       "14   teste.wav  0.947298  3370.537677  2238.054374  0.221488  6198.786748   \n",
       "15   teste.wav  0.950129  3350.596142  2270.733195  0.223570  6223.051797   \n",
       "16   teste.wav  0.914459  3186.980375  2273.889748  0.180767  6075.594960   \n",
       "17   teste.wav  0.912777  3366.183671  2269.788303  0.205632  6182.921139   \n",
       "18   teste.wav  0.911839  3447.821482  2251.695514  0.216206  6241.717219   \n",
       "19   teste.wav  0.914098  3465.838745  2287.218853  0.212815  6346.243584   \n",
       "20   teste.wav  0.941568  3298.064036  2252.195384  0.203860  6124.125058   \n",
       "\n",
       "           5           6          7          8  ...       101       102  \\\n",
       "0   0.168096  221.532807  21.198346   1.001226  ...  0.243921  0.270332   \n",
       "1   0.162963  221.557982  22.959761   0.059361  ...  0.233492  0.260226   \n",
       "2   0.156080  220.457246  30.920611  -0.789945  ...  0.247476  0.259320   \n",
       "3   0.105279  219.212834  34.936589  -2.596156  ...  0.258251  0.258423   \n",
       "4   0.115544  218.023609  23.988647  -8.187614  ...  0.282580  0.253668   \n",
       "5   0.150714  216.474148  13.156833 -11.303448  ...  0.257010  0.267818   \n",
       "6   0.162613  216.082409  10.366624 -10.610264  ...  0.260141  0.259250   \n",
       "7   0.166463  216.161194  11.958274  -8.087863  ...  0.265994  0.274961   \n",
       "8   0.159755  216.128716  16.630360  -3.158215  ...  0.282659  0.274164   \n",
       "9   0.145174  216.608818  15.912603  -4.567915  ...  0.301987  0.256291   \n",
       "10  0.162321  217.215003  13.196173  -8.973630  ...  0.284330  0.267413   \n",
       "11  0.154272  219.269691  16.016720 -10.436736  ...  0.283012  0.265916   \n",
       "12  0.146515  221.396202  18.135409 -11.609852  ...  0.271513  0.269144   \n",
       "13  0.146398  222.393218  17.839412 -10.568005  ...  0.279227  0.248778   \n",
       "14  0.154331  221.611307  20.957578  -6.107231  ...  0.268880  0.253115   \n",
       "15  0.131934  217.741266  24.656184  -6.016782  ...  0.261006  0.223543   \n",
       "16  0.114027  214.415261  19.030944  -8.269898  ...  0.302300  0.224773   \n",
       "17  0.153164  214.579821  15.437954  -6.214455  ...  0.280800  0.251176   \n",
       "18  0.145115  215.514543  16.849130  -4.197828  ...  0.225942  0.265895   \n",
       "19  0.158239  218.072842  21.472204  -2.570575  ...  0.276796  0.263617   \n",
       "20  0.128084  219.018116  33.587693   0.778218  ...  0.288162  0.255262   \n",
       "\n",
       "          103        104        105        106        107        108  \\\n",
       "0   23.005447  23.314442  23.074566  22.576420  23.924732  24.934543   \n",
       "1   24.615355  24.632467  20.934591  21.107852  23.117511  25.457013   \n",
       "2   29.820945  22.032529  27.410318  23.200435  23.896292  26.190899   \n",
       "3   29.500904  22.654341  22.274284  25.839259  24.424743  23.936114   \n",
       "4   26.138117  26.106901  24.963594  25.121482  23.027536  24.736787   \n",
       "5   22.742492  21.280518  21.403479  23.739221  25.055030  24.217401   \n",
       "6   21.572463  23.782177  23.372112  22.828666  24.387265  23.792568   \n",
       "7   22.336204  26.209764  20.729363  23.013760  24.697374  23.784630   \n",
       "8   23.293726  23.894012  22.565578  26.502834  26.389561  24.415697   \n",
       "9   27.257390  25.413653  24.098846  25.393067  25.595660  23.635867   \n",
       "10  26.803684  25.292081  21.018927  25.162508  25.630933  24.082653   \n",
       "11  27.445865  21.509766  25.225098  24.794718  23.930800  23.534925   \n",
       "12  27.583943  25.749996  24.875702  26.084063  24.788028  23.165229   \n",
       "13  25.321387  25.088013  22.999687  24.267549  24.946394  24.208785   \n",
       "14  22.808831  22.672165  22.263377  23.209560  24.102886  24.648510   \n",
       "15  22.921401  22.456916  22.049826  22.905909  23.394281  24.779621   \n",
       "16  22.387631  27.833773  22.739021  25.303767  24.339560  25.793636   \n",
       "17  23.910941  26.178784  25.766397  23.091556  22.778305  24.399271   \n",
       "18  21.883376  25.458307  28.968906  22.778177  24.373603  23.459807   \n",
       "19  27.765495  23.245403  20.904989  24.551643  25.247108  24.304337   \n",
       "20  25.438358  22.743107  23.928220  23.455510  23.761811  25.010379   \n",
       "\n",
       "          109  classificacaoCorreta  \n",
       "0   24.205152               gunshot  \n",
       "1   24.708157               gunshot  \n",
       "2   23.940436               gunshot  \n",
       "3   22.598811               gunshot  \n",
       "4   24.693225               gunshot  \n",
       "5   24.365702               gunshot  \n",
       "6   24.100986               gunshot  \n",
       "7   24.763205               gunshot  \n",
       "8   24.102551               gunshot  \n",
       "9   23.658042               gunshot  \n",
       "10  23.547749               gunshot  \n",
       "11  22.139261               gunshot  \n",
       "12  23.118763               gunshot  \n",
       "13  22.847089               gunshot  \n",
       "14  24.255213               gunshot  \n",
       "15  23.028481               gunshot  \n",
       "16  22.538511               gunshot  \n",
       "17  22.908842               gunshot  \n",
       "18  22.269532               gunshot  \n",
       "19  23.659414               gunshot  \n",
       "20  24.115051               gunshot  \n",
       "\n",
       "[21 rows x 112 columns]"
      ]
     },
     "execution_count": 44,
     "metadata": {},
     "output_type": "execute_result"
    }
   ],
   "source": [
    "dataframeAudioTeste = adicionarNomeArquivoEClasse(matrizFeaturesAudioTeste, \"teste.wav\", \"gunshot\")\n",
    "dataframeAudioTeste"
   ]
  },
  {
   "cell_type": "markdown",
   "metadata": {},
   "source": [
    "#### Função para verificar qual é a classificação correta de acordo com o nome do arquivo"
   ]
  },
  {
   "cell_type": "markdown",
   "metadata": {},
   "source": [
    "Essa é bem básica. Em algum determinado momento eu vou precisar saber a classficação correta de um determinado áudio. Eu só consigo saber isso pelo nome do arquivo. LEMBRANDO QUE TODO O CÓDIGO ESCRITO AQUI SERVE PARA O BANCO DE DADOS SESA. Os arquivos são nomeados como **classe_contador.wav**. Por exemplo: casual_000.wav, explosion_032.wav e gunshot_032.wav."
   ]
  },
  {
   "cell_type": "code",
   "execution_count": 45,
   "metadata": {},
   "outputs": [],
   "source": [
    "def verificarClassificacaoCorreta(nomeArquivo):\n",
    "    arrayNome = nomeArquivo.split(\"_\")\n",
    "    return arrayNome[0]"
   ]
  },
  {
   "cell_type": "code",
   "execution_count": 46,
   "metadata": {},
   "outputs": [
    {
     "name": "stdout",
     "output_type": "stream",
     "text": [
      "explosion\n",
      "gunshot\n",
      "explosion\n",
      "gunshot\n",
      "gunshot\n",
      "casual\n",
      "explosion\n",
      "casual\n",
      "casual\n",
      "gunshot\n"
     ]
    }
   ],
   "source": [
    "diretorio = \"/home/dimi/Downloads/SESA/test/\"\n",
    "parar = 10\n",
    "for nomeArquivo in os.listdir(diretorio):\n",
    "    print(verificarClassificacaoCorreta(nomeArquivo))\n",
    "    parar -= 1\n",
    "    if parar == 0:\n",
    "        break"
   ]
  },
  {
   "cell_type": "markdown",
   "metadata": {},
   "source": [
    "#### Função que passa por todos os áudios da pasta e vai montando o dataframe"
   ]
  },
  {
   "cell_type": "markdown",
   "metadata": {},
   "source": [
    "Essa é função que une todas as outras. Ela vai passar por todos os áudios da pasta, verificar qual é a classificação correta de cada áudio, extrair as features, gerar o dataframe de features do áudio atual e agregar ao dataframe de todos os áudios."
   ]
  },
  {
   "cell_type": "code",
   "execution_count": 68,
   "metadata": {},
   "outputs": [],
   "source": [
    "def montarDataframeTodosOsAudios(diretorio, freqAmostragem, frameLength, overlapLength):\n",
    "    \n",
    "    print(\"Fora da classe\")\n",
    "    \n",
    "    # CRIANDO O ARRAY COM O NOME DOS ARQUIVOS\n",
    "    arrayNomeArquivos = os.listdir(diretorio)\n",
    "    \n",
    "    # PEGANDO O TOTAL DE ARQUIVOS NA PASTA APENAS PARA FINS DE PRINT\n",
    "    totalArquivosNaPasta = len(arrayNomeArquivos)\n",
    "    \n",
    "    # ABAIXO, VOU CRIAR O DATAFRAME DE TODOS OS AUDIOS\n",
    "    dataframeGeral = pd.DataFrame()\n",
    "\n",
    "    # VOU PASSAR POR TODOS OS AUDIOS DO DIRETORIO\n",
    "    for i, nomeArquivo in enumerate(arrayNomeArquivos):\n",
    "        # PRINTANDO O PROGRESSO\n",
    "        print(\"Extraindo features do arquivo\", i+1, \"de\", totalArquivosNaPasta, \"-> \" + str(100*((i+1)/totalArquivosNaPasta)) + \"%\")\n",
    "        \n",
    "        # ABRO O AUDIO ATUAL COM O LIBROSA\n",
    "        audioAtual, freqAmostragem = librosa.load(audioTesteDir, sr=freqAmostragem, mono=True) \n",
    "        \n",
    "        # VERIFICAO QUAL E A CLASSIFICACAO CORRETA\n",
    "        classeAudioAtual = verificarClassificacaoCorreta(nomeArquivo)\n",
    "        \n",
    "        # MONTO A MATRIZ DE FEATUREA DE CADA FRAME DO AUDIO ATUAL (a funcao abaixo\n",
    "        # devolve uma matriz normal e faz o janelamento em outra funcao tb)\n",
    "        matrizFeaturesAudioAtual = extrairFeaturesUnicoAudio(audioAtual, freqAmostragem, frameLength, overlapLength)\n",
    "        \n",
    "        # AGORA E HORA DE COLOCAR O NOME E A CLASSIFICACAO CORRETA NA MATRIZ\n",
    "        # MAAAS, NA FUNCAO ABAIXO, O BICHO VIRA UM DATAFRAME PANDAS\n",
    "        dataframeAudioAtual      = adicionarNomeArquivoEClasse(matrizFeaturesAudioAtual, nomeArquivo, classeAudioAtual)\n",
    "        \n",
    "        # CONCATENANDO O DATAFRAME DO AUDIO ATUAL AO DATAFRAME GERAL\n",
    "        dataframeGeral = pd.concat([dataframeGeral, dataframeAudioAtual])\n",
    "        \n",
    "    # POR ULTIMO, RETORNO O DATAFRAME GERAL\n",
    "    return dataframeGeral"
   ]
  },
  {
   "cell_type": "markdown",
   "metadata": {},
   "source": [
    "#### Função para escalonar as features"
   ]
  },
  {
   "cell_type": "markdown",
   "metadata": {},
   "source": [
    "Essa função recebe o dataframe geral, remove as primeira e última colunas (nome e classificação), faz o escalonamento e depois coloca as colunas de nome e classificação de volta."
   ]
  },
  {
   "cell_type": "code",
   "execution_count": 48,
   "metadata": {},
   "outputs": [],
   "source": [
    "def escalonarFeatures(dataframeGeral):\n",
    "    \n",
    "    print(\"Escalonando features\")\n",
    "    \n",
    "    # COPIANDO AS COLUNAS DE NOME E CLASSIFICACAO\n",
    "    colunaArquivo       = dataframeGeral[\"nomeArquivo\"]\n",
    "    colunaClassificacao = dataframeGeral[\"classificacaoCorreta\"]\n",
    "    \n",
    "    # DELETANDO AS COLUNAS ARQUIVO E CLASSIFICACAO\n",
    "    dataframeGeral = dataframeGeral.drop(['nomeArquivo', 'classificacaoCorreta'], axis=1)\n",
    "    \n",
    "    # ESCALONANDO\n",
    "    dataframeGeral = pd.DataFrame(StandardScaler().fit_transform(dataframeGeral))\n",
    "    \n",
    "    # COM ESSA COISA DE TIRA E POE COLUNA, O PANDAS NAO SABE LINDAR COM OS INDEXES,\n",
    "    # ABAIXO EU ESTOU RESETANDO TUDO\n",
    "    colunaArquivo.reset_index(inplace=True, drop=True)\n",
    "    colunaClassificacao.reset_index(inplace=True, drop=True)\n",
    "    dataframeGeral.reset_index(inplace=True, drop=True)\n",
    "    \n",
    "    # ADICIONANDO AS COLUNAS QUE FORAM EXCLUIDAS (posicaoNovaColuna, nomeNovaColuna, valorParaTodasAsLinhas)\n",
    "    dataframeGeral.insert(0, \"nomeArquivo\", colunaArquivo, True)\n",
    "    dataframeGeral.insert(len(dataframeGeral.columns), \"classificacaoCorreta\", colunaClassificacao, True)\n",
    "    \n",
    "    return dataframeGeral"
   ]
  },
  {
   "cell_type": "markdown",
   "metadata": {},
   "source": [
    "#### Função que reduz a dimensionalidade do dataframe geral"
   ]
  },
  {
   "cell_type": "markdown",
   "metadata": {},
   "source": [
    "Depois de escalonar, vamos reduzir a dimensionalidade utilizando PCA. A ideia é fazer com que o CSV já saia pronto para ser usado, logo, a redução de dimensionalidade deve vir nessa classe. Apesar disso, vou deixar o parâmetro **nDimensoes** lá no construtor da classe, ai caso ele seja nulo eu pulo a parte da redução de dimensionalidade e gero o CSV com todas as features.\n",
    "\n",
    "Poder usar a classe sem fazer a redução de dimensionalidade vai ser muito importante para verificar qual é o melhor número de componentes principais do PCA, como se mostra https://towardsdatascience.com/an-approach-to-choosing-the-number-of-components-in-a-principal-component-analysis-pca-3b9f3d6e73fe\n",
    "\n",
    "Então a ideia é primeiro gerar o CSV completo dos dados de treino, sem reduzir a dimensionalidade, pra depois fazer um estudo sobre o melhor número de componentes principais. Aí sim, com **nDimensoes** definido, eu começo a usar a classe com essa função."
   ]
  },
  {
   "cell_type": "code",
   "execution_count": 49,
   "metadata": {},
   "outputs": [],
   "source": [
    "def reduzirDimensionalidade(dataframeGeral, nDimensoes):\n",
    "    \n",
    "    print(\"Reduzindo a dimensionalidade\")\n",
    "    \n",
    "    # COPIANDO AS COLUNAS DE NOME E CLASSIFICACAO\n",
    "    colunaArquivo       = dataframeGeral[\"nomeArquivo\"]\n",
    "    colunaClassificacao = dataframeGeral[\"classificacaoCorreta\"]\n",
    "    \n",
    "    # DELETANDO AS COLUNAS ARQUIVO E CLASSIFICACAO\n",
    "    dataframeGeral = dataframeGeral.drop(['nomeArquivo', 'classificacaoCorreta'], axis=1)\n",
    "    \n",
    "    # REDUZINDO A DIMENSIONALIDADE\n",
    "    dataframeGeral = pd.DataFrame(PCA(n_components=nDimensoes).fit_transform(dataframeGeral))\n",
    "    \n",
    "    # COM ESSA COISA DE TIRA E POE COLUNA, O PANDAS NAO SABE LINDAR COM OS INDEXES,\n",
    "    # ABAIXO EU ESTOU RESETANDO TUDO\n",
    "    colunaArquivo.reset_index(inplace=True, drop=True)\n",
    "    colunaClassificacao.reset_index(inplace=True, drop=True)\n",
    "    dataframeGeral.reset_index(inplace=True, drop=True)\n",
    "    \n",
    "    # ADICIONANDO AS COLUNAS QUE FORAM EXCLUIDAS (posicaoNovaColuna, nomeNovaColuna, valorParaTodasAsLinhas)\n",
    "    dataframeGeral.insert(0, \"nomeArquivo\", colunaArquivo, True)\n",
    "    dataframeGeral.insert(len(dataframeGeral.columns), \"classificacaoCorreta\", colunaClassificacao, True)\n",
    "    \n",
    "    return dataframeGeral"
   ]
  },
  {
   "cell_type": "markdown",
   "metadata": {},
   "source": [
    "### Finalizando"
   ]
  },
  {
   "cell_type": "markdown",
   "metadata": {},
   "source": [
    "Abaixo, vou criar a função que será a construtora da classe (init). Ela vai usar todas as funções que já foram criadas. Depois disso, vai bastar copiar todas as funções pra dentro da classe e fazer acontecer."
   ]
  },
  {
   "cell_type": "code",
   "execution_count": 50,
   "metadata": {},
   "outputs": [],
   "source": [
    "def construtor(diretorio, freqAmostragem, frameLength, overlapLength, nDimensoes=None):\n",
    "    \n",
    "    # PRIMEIRO EU CRIO O DATAFRAME DE TODOS OS AUDIOS DA PASTA\n",
    "    dataframeGeral = montarDataframeTodosOsAudios(diretorio, freqAmostragem, frameLength, overlapLength)\n",
    "    \n",
    "    # DEPOIS EU ESCALONO AS FEATURES\n",
    "    dataframeGeral = escalonarFeatures(dataframeGeral)\n",
    "    \n",
    "    # E AGORA EU REDUZO A DIMENSIONALIDADE\n",
    "    if nDimensoes != None:\n",
    "        dataframeGeral = reduzirDimensionalidade(dataframeGeral, nDimensoes)\n",
    "        \n",
    "    # PARA FINALIZAR, VOU ESCREVER O DATAFRAME NUM CSV\n",
    "    nomeCSV = diretorio + str(time.time()) + \".csv\"\n",
    "    print(\"Escrevendo CSV:\", nomeCSV)\n",
    "    dataframeGeral.to_csv(nomeCSV, index=False)\n",
    "    \n",
    "    # TAMBEM VOU RETORNAR O DATAFRAME, PQ VAI QUE EU PRECISO NE\n",
    "    print(\"Operação finalizada\")\n",
    "    return dataframeGeral"
   ]
  },
  {
   "cell_type": "markdown",
   "metadata": {},
   "source": [
    "# FINALMENTE COLOCANDO TUDO DENTRO DA CLASSE"
   ]
  },
  {
   "cell_type": "markdown",
   "metadata": {},
   "source": [
    "A primeira parte vai ter o construtor da classe. A segunda parte vai ser das funções intermediárias que fazem tudo acontecer, e só por último vou colocar as funções de extração de features."
   ]
  },
  {
   "cell_type": "code",
   "execution_count": 73,
   "metadata": {},
   "outputs": [],
   "source": [
    "# TODA A IMPLEMETACAO DESSA CLASSE ESTA MUITO BEM DOCUMENTADA NO JUPYTER \"\n",
    "# Implementação de classe para extração de features - SESA Dataset\"\n",
    "# VOU COLOCAR O MAXIMO DE COMENTARIOS POSSIVEIS AQUI TAMBEM, MAS PARA MAIS INFORMACOES\n",
    "# E MELHOR OLHAR POR LA\n",
    "\n",
    "# COMO USAR A CLASSE:\n",
    "# A CLASSE ENTRA EM UMA DETERMINADA PASTA CONTENDO APENAS ARQUIVOS WAV E CRIA UM CSV DE FEATURES\n",
    "# A CLASSE TAMBEM E RESPONSAVEL POR ESCALONAR AS FEATURES E FAZER UMA REDUCAO DE DIMENSIONALIDADE\n",
    "\n",
    "# PRIMEIRO, OS PARAMETROS ABAIXOS DEVEM SER SETADOS:\n",
    "# diretorio      -> PASTA ONDE A CLASSE VAI PROCURAR PELOS WAVs PARA GERAR O CSV\n",
    "# freqAmostragem -> A FREQUENCIA DE AMOSTRAGEM DOS AUDIOS DESSA PASTA\n",
    "# frameLength    -> O TAMANHO DAS JANELAS DE CADA AUDIO EM QTD DE FRAMES\n",
    "# overlapLength  -> TAMANHO DA SOBREPOSICAO EM QTD DE FRAMES\n",
    "# nDimensoes     -> QTD DE DIMENSOES UTILIZADAS NO PCA. CASO SEJA NULL, NAO HAVERA REDUCAO DE DIMENSIONALIDADE\n",
    "\n",
    "# O COMANDO ABAIXO INSTANCIA A CLASSE. O CONSTRUTOR DEVOLVE UM DATAFRAME PANDAS AO MESMO TEMPO QUE CRIA O CSV\n",
    "# dataframeGeral = extrairFeatures(diretorio, freqAmostragem, frameLength, overlapLength, nDimensoes)\n",
    "\n",
    "import os\n",
    "import librosa\n",
    "import numpy as np\n",
    "import pandas as pd\n",
    "import time\n",
    "from sklearn.preprocessing import StandardScaler\n",
    "from sklearn.decomposition import PCA\n",
    "\n",
    "class ExtrairFeatures:\n",
    "\n",
    "\t# CONSTRUTOR---------------------------------------------------------------------------------------------\n",
    "\tdef __init__(self, diretorio, freqAmostragem, frameLength, overlapLength, escalonamento=True, nDimensoes=None):    \n",
    "\t\t# PRIMEIRO EU CRIO O DATAFRAME DE TODOS OS AUDIOS DA PASTA\n",
    "\t\tdataframeGeral = self.montarDataframeTodosOsAudios(diretorio, freqAmostragem, frameLength, overlapLength)\n",
    "\t\t\n",
    "\t\t# DEPOIS EU ESCALONO AS FEATURES\n",
    "\t\tif escalonamento == True:\n",
    "\t\t\tdataframeGeral = self.escalonarFeatures(dataframeGeral)\n",
    "\t\t\n",
    "\t\t# E AGORA EU REDUZO A DIMENSIONALIDADE\n",
    "\t\tif nDimensoes != None:\n",
    "\t\t\tdataframeGeral = self.reduzirDimensionalidade(dataframeGeral, nDimensoes)\n",
    "\t\t\t\n",
    "\t\t# PARA FINALIZAR, VOU ESCREVER O DATAFRAME NUM CSV\n",
    "\t\tnomeCSV = diretorio + str(time.time()) + \".csv\"\n",
    "\t\tprint(\"Escrevendo CSV:\", nomeCSV)\n",
    "\t\tdataframeGeral.to_csv(nomeCSV, index=False)\n",
    "\t\t\n",
    "\t\t# TAMBEM VOU RETORNAR O DATAFRAME, PQ VAI QUE EU PRECISO NE\n",
    "\t\tprint(\"Operação finalizada\")\n",
    "\t\t\n",
    "\t\t# return dataframeGeral\n",
    "\n",
    "\t# DEFINICAO DE FUNCOES INTERMEDIARIAS--------------------------------------------------------------------\t\n",
    "\tdef fazerJanelamento(self, sinal, frameLength, overlapLength):\n",
    "\t\t# Função que faz o janelamento\n",
    "\t\t# Existe um problema em deixar que as funções de extração de features criadas acima façam o janelamento: \n",
    "\t\t# ao invés de retornarem valores unitários para as features, elas vão retornar um array em que cada posição \n",
    "\t\t# representa um janelamento. Portanto, a solução é fazer o janelamento antes de extrair as features e deixar \n",
    "\t\t# para mandar para essas funções apenas as janelas, fazendo com que frameLength seja igual ao tamanho da \n",
    "\t\t# janela que está sendo enviada e que overlapLength seja 0.\n",
    "\t\t# A função abaixo usa a função frame do librosa que retorna as janelas como COLUNAS. \n",
    "\t\t# Como eu quero que cada janela seja uma LINHA, eu retorno a transposta dessa função.\n",
    "\t\treturn librosa.util.frame(sinal, frame_length=frameLength, hop_length=overlapLength).T\n",
    "\n",
    "\tdef extrairFeaturesUnicoFrame(self, sinal, freqAmostragem, frameLength):\n",
    "\t\t# Função que extrai features de um único frame\n",
    "\t\t# Em algum momento, a classe deverá passar em cada um dos áudios da pasta para ir extraindo as features. \n",
    "\t\t# A próxima função extrai as features de um único frame de áudio e retorna um array com essas features. \n",
    "\t\t# Posteriormente esse array deverá ser integrado à matriz de features de todos os áudios.\n",
    "\t\t# Haverá uma outra função para extrair as features de um único áudio. Ela deverá pegar um áudio, usar a \n",
    "\t\t# função de janelamento, e usar a função abaixo para extrair as features de cada uma das janelas. Depois, \n",
    "\t\t# ela vai retornar uma matriz com as features de cada frame de um único áudio.\n",
    "\t\t# \n",
    "\t\t# PARA IMPEDIR QUE O LIBROSA CONTINUE FAZENDO O JANELAMENTO DO ÁUDIO MESMO QUE frameLength \n",
    "\t\t# SEJA DO TAMANHO DO ÁUDIO, O PARÂMETRO DE OVERLAP DEVE SER MAIOR OU IGUAL A frameLength.s\n",
    "\t\toverlapLength = frameLength\n",
    "\t\t\n",
    "\t\t# CRIANDO O ARRAY DE FEATURES DO FRAME EM QUESTAO\n",
    "\t\tarrayFeaturesFrame = []\n",
    "\t\t\n",
    "\t\t#PRIMEIRO, VOU EXTRAIR AS FEATURES UNITARIAS\n",
    "\t\tarrayFeaturesFrame.append(float(self.extrairRMS(sinal, frameLength, overlapLength)))\n",
    "\t\tarrayFeaturesFrame.append(float(self.extrairCentroideEspectral(sinal, freqAmostragem, frameLength, overlapLength)))\n",
    "\t\tarrayFeaturesFrame.append(float(self.extrairLarguraBanda(sinal, freqAmostragem, frameLength, overlapLength)))\n",
    "\t\tarrayFeaturesFrame.append(float(self.extrairPlanicidade(sinal, frameLength, overlapLength)))\n",
    "\t\tarrayFeaturesFrame.append(float(self.extrairRolloff(sinal, freqAmostragem, frameLength, overlapLength)))\n",
    "\t\tarrayFeaturesFrame.append(float(self.extrairZCR(sinal, frameLength, overlapLength)))\n",
    "\t\t\n",
    "\t\t# AGORA VAMOS PASSAR PARA AS NAO UNITARIAS, PRIMEIRO, E PRECISO CRIAR A MATRIZ DOS MFCCS\n",
    "\t\tmatrizMFCC          = self.extrairMatrizMFCC(sinal, freqAmostragem)\n",
    "\t\t\n",
    "\t\t# AGORA SIM EU SAIO EXTRAINDO AS FEATURES \n",
    "\t\tarrayFeaturesFrame += self.extrairMFCCs(matrizMFCC)\n",
    "\t\tarrayFeaturesFrame += self.extrairDeltas(matrizMFCC)\n",
    "\t\tarrayFeaturesFrame += self.extrairDeltaDeltas(matrizMFCC)\n",
    "\t\tarrayFeaturesFrame += self.extrairMelEspectrograma(sinal, freqAmostragem, frameLength, overlapLength)\n",
    "\t\tarrayFeaturesFrame += self.extrairCromagramas(sinal, freqAmostragem, frameLength, overlapLength)\n",
    "\t\tarrayFeaturesFrame += self.extrairCromagramasQ(sinal, freqAmostragem)\n",
    "\t\tarrayFeaturesFrame += self.extrairCromaCENSs(sinal, freqAmostragem)\n",
    "\t\tarrayFeaturesFrame += self.extrairContrastes(sinal, freqAmostragem, frameLength, overlapLength)\n",
    "\t\t\n",
    "\t\t# POR FIM, RETORNO O ARRAY DE FEATURES DO AUDIO QUE FOI ENVIADO PARA ESSA FUNCAO\n",
    "\t\treturn arrayFeaturesFrame\n",
    "\n",
    "\tdef extrairFeaturesUnicoAudio(self, sinal, freqAmostragem, frameLength, overlapLength):\n",
    "\t\t# Função que extrai as features de um único áudio\n",
    "\t\t# Essa função vai pegar um áudio, usar a função de janelamento, e para cada janela do áudio em questão, \n",
    "\t\t# ela vai usar a função de extrair as features de uma única janela (implementada acima). \n",
    "\t\t# Depois, ela vai retornar uma matriz com as features de cada frame de um único áudio, onde cada linha \n",
    "\t\t# é uma frame e cada coluna é uma feature.\n",
    "\n",
    "\t\t# PRIMEIRO, VOU CRIAR A MATRIZ QUE VAI CONTER AS FEATURES DE CADA JANELA\n",
    "\t\t# CADA LINHA E UMA JANELA E CADA COLUNA E UMA FEATURE\n",
    "\t\tmatrizFeaturesAudio = []\n",
    "\t\t\n",
    "\t\t# DEPOIS, VOU FAZER O JANELAMENTO\n",
    "\t\tmatrizFramesAudio = self.fazerJanelamento(sinal, frameLength, overlapLength)\n",
    "\t\t\n",
    "\t\t# AGORA, PARA CADA JANELA, VOU EXTRAIR AS FEATURES E COLOCAR COMO UMA LINHA NOVA NA MATRIZ\n",
    "\t\tfor frameAtual in matrizFramesAudio:\n",
    "\t\t\tmatrizFeaturesAudio.append(self.extrairFeaturesUnicoFrame(frameAtual, freqAmostragem, frameLength))\n",
    "\t\t\n",
    "\t\t# RETORNO A MATRIZ DE FEATURES DESSE AUDIO\n",
    "\t\treturn matrizFeaturesAudio\n",
    "\n",
    "\tdef adicionarNomeArquivoEClasse(self, matrizFeaturesAudioAtual, nomeArquivo, classificacaoCorreta):\n",
    "\t\t#Função que coloca o nome do arquivo e a classificação correta na matriz de features de um áudio\n",
    "\t\t#Haverá uma matriz de dados que terá as seguintes colunas: nomeArquivo, ...features... e classificacaoCorreta. \n",
    "\t\t#Mas, a função implementada para gerar a matriz de features de um único áudio extrairFeaturesUnicoAudio \n",
    "\t\t#devolve uma matriz de features sem o nome do áudio e a classificação correta. Portanto, a função abaixo \n",
    "\t\t# apenas pega essa última matriz e coloca o nome do arquivo no começo e a classificação correta ao final. \n",
    "\t\t# Posteriormente, o resultado será agregado à matriz de dados citada em primeiro lugar.\n",
    "\n",
    "\t\t#ESSA FUNÇÃO RETORNA UM DATAFRAME PANDAS, NÃO UMA MATRIZ QUALQUER.\n",
    "\n",
    "\t\t#https://www.geeksforgeeks.org/python-pandas-dataframe-insert/\n",
    "\n",
    "\t\t# PRIMEIRO TRANSFORMO A MATRIZ NUM PANDAS DATAFRAME\n",
    "\t\tdataframeAudioAtual = pd.DataFrame(matrizFeaturesAudioAtual)\n",
    "\t\t\n",
    "\t\t# AGORA COLOCO A COLUNA DO NOME NO COMECO (posicaoNovaColuna, nomeNovaColuna, valorParaTodasAsLinhas)\n",
    "\t\tdataframeAudioAtual.insert(0, \"nomeArquivo\", nomeArquivo, True)\n",
    "\t\t\n",
    "\t\t# AGORA COLOCO A COLUNA DA CLASSIFICACAO CORRETA NA ULTIMA POSICAO\n",
    "\t\tdataframeAudioAtual.insert(len(dataframeAudioAtual.columns), \"classificacaoCorreta\", classificacaoCorreta, True)\n",
    "\t\t\n",
    "\t\treturn dataframeAudioAtual\n",
    "\n",
    "\tdef verificarClassificacaoCorreta(self, nomeArquivo):\n",
    "\t\t#Função para verificar qual é a classificação correta de acordo com o nome do arquivo\n",
    "\t\t#Essa é bem básica. Em algum determinado momento eu vou precisar saber a classficação \n",
    "\t\t# correta de um determinado áudio. Eu só consigo saber isso pelo nome do arquivo. LEMBRANDO QUE \n",
    "\t\t# TODO O CÓDIGO ESCRITO AQUI SERVE PARA O BANCO DE DADOS SESA. Os arquivos são nomeados \n",
    "\t\t# como classe_contador.wav. Por exemplo: casual_000.wav, explosion_032.wav e gunshot_032.wav.\n",
    "\t\tarrayNome = nomeArquivo.split(\"_\")\n",
    "\t\treturn arrayNome[0]\n",
    "\n",
    "\tdef montarDataframeTodosOsAudios(self, diretorio, freqAmostragem, frameLength, overlapLength):\n",
    "\t\t# Função que passa por todos os áudios da pasta e vai montando o dataframe\n",
    "\t\t# Essa é função que une todas as outras. Ela vai passar por todos os áudios da pasta, \n",
    "\t\t# verificar qual é a classificação correta de cada áudio, extrair as features, gerar o \n",
    "\t\t# dataframe de features do áudio atual e agregar ao dataframe de todos os áudios.\n",
    "\t\n",
    "\t\t# CRIANDO O ARRAY COM O NOME DOS ARQUIVOS\n",
    "\t\tarrayNomeArquivos = os.listdir(diretorio)\n",
    "\t\t\n",
    "\t\t# PEGANDO O TOTAL DE ARQUIVOS NA PASTA APENAS PARA FINS DE PRINT\n",
    "\t\ttotalArquivosNaPasta = len(arrayNomeArquivos)\n",
    "\t\t\n",
    "\t\t# ABAIXO, VOU CRIAR O DATAFRAME DE TODOS OS AUDIOS\n",
    "\t\tdataframeGeral = pd.DataFrame()\n",
    "\n",
    "\t\t# VOU PASSAR POR TODOS OS AUDIOS DO DIRETORIO\n",
    "\t\tfor i, nomeArquivo in enumerate(arrayNomeArquivos):\n",
    "\t\t\t# PRINTANDO O PROGRESSO\n",
    "\t\t\tprint(\"Extraindo features do arquivo\", i+1, \"de\", totalArquivosNaPasta, \"-> \" + str(100*((i+1)/totalArquivosNaPasta)) + \"%\")\n",
    "\t\t\t\n",
    "\t\t\t# ABRO O AUDIO ATUAL COM O LIBROSA\n",
    "\t\t\taudioAtual, freqAmostragem = librosa.load(diretorio+nomeArquivo, sr=freqAmostragem, mono=True) \n",
    "\t\t\t\n",
    "\t\t\t# VERIFICAO QUAL E A CLASSIFICACAO CORRETA\n",
    "\t\t\tclasseAudioAtual = self.verificarClassificacaoCorreta(nomeArquivo)\n",
    "\t\t\t\n",
    "\t\t\t# MONTO A MATRIZ DE FEATUREA DE CADA FRAME DO AUDIO ATUAL (a funcao abaixo\n",
    "\t\t\t# devolve uma matriz normal e faz o janelamento em outra funcao tb)\n",
    "\t\t\tmatrizFeaturesAudioAtual = self.extrairFeaturesUnicoAudio(audioAtual, freqAmostragem, frameLength, overlapLength)\n",
    "\t\t\t\n",
    "\t\t\t# AGORA E HORA DE COLOCAR O NOME E A CLASSIFICACAO CORRETA NA MATRIZ\n",
    "\t\t\t# MAAAS, NA FUNCAO ABAIXO, O BICHO VIRA UM DATAFRAME PANDAS\n",
    "\t\t\tdataframeAudioAtual      = self.adicionarNomeArquivoEClasse(matrizFeaturesAudioAtual, nomeArquivo, classeAudioAtual)\n",
    "\t\t\t\n",
    "\t\t\t# CONCATENANDO O DATAFRAME DO AUDIO ATUAL AO DATAFRAME GERAL\n",
    "\t\t\tdataframeGeral = pd.concat([dataframeGeral, dataframeAudioAtual])\n",
    "\t\t\t\n",
    "\t\t# POR ULTIMO, RETORNO O DATAFRAME GERAL\n",
    "\t\treturn dataframeGeral\n",
    "\n",
    "\tdef escalonarFeatures(self, dataframeGeral):\n",
    "\t\t\n",
    "\t\t# Função para escalonar as features\n",
    "\t\t# Essa função recebe o dataframe geral, remove as primeira e última colunas (nome e classificação), \n",
    "\t\t# faz o escalonamento e depois coloca as colunas de nome e classificação de volta.\n",
    "\t\n",
    "\t\tprint(\"Escalonando features\")\n",
    "\t\t\n",
    "\t\t# COPIANDO AS COLUNAS DE NOME E CLASSIFICACAO\n",
    "\t\tcolunaArquivo       = dataframeGeral[\"nomeArquivo\"]\n",
    "\t\tcolunaClassificacao = dataframeGeral[\"classificacaoCorreta\"]\n",
    "\t\t\n",
    "\t\t# DELETANDO AS COLUNAS ARQUIVO E CLASSIFICACAO\n",
    "\t\tdataframeGeral = dataframeGeral.drop(['nomeArquivo', 'classificacaoCorreta'], axis=1)\n",
    "\t\t\n",
    "\t\t# ESCALONANDO\n",
    "\t\tdataframeGeral = pd.DataFrame(StandardScaler().fit_transform(dataframeGeral))\n",
    "\t\t\n",
    "\t\t# COM ESSA COISA DE TIRA E POE COLUNA, O PANDAS NAO SABE LINDAR COM OS INDEXES,\n",
    "\t\t# ABAIXO EU ESTOU RESETANDO TUDO\n",
    "\t\tcolunaArquivo.reset_index(inplace=True, drop=True)\n",
    "\t\tcolunaClassificacao.reset_index(inplace=True, drop=True)\n",
    "\t\tdataframeGeral.reset_index(inplace=True, drop=True)\n",
    "\t\t\n",
    "\t\t# ADICIONANDO AS COLUNAS QUE FORAM EXCLUIDAS (posicaoNovaColuna, nomeNovaColuna, valorParaTodasAsLinhas)\n",
    "\t\tdataframeGeral.insert(0, \"nomeArquivo\", colunaArquivo, True)\n",
    "\t\tdataframeGeral.insert(len(dataframeGeral.columns), \"classificacaoCorreta\", colunaClassificacao, True)\n",
    "\t\t\n",
    "\t\treturn dataframeGeral\n",
    "\n",
    "\tdef reduzirDimensionalidade(self, dataframeGeral, nDimensoes):\n",
    "\t\n",
    "\t\t# Função que reduz a dimensionalidade do dataframe geral\n",
    "\t\t# Depois de escalonar, vamos reduzir a dimensionalidade utilizando PCA. \n",
    "\t\t# A ideia é fazer com que o CSV já saia pronto para ser usado, logo, a redução \n",
    "\t\t# de dimensionalidade deve vir nessa classe. Apesar disso, vou deixar o parâmetro \n",
    "\t\t# nDimensoes lá no construtor da classe, ai caso ele seja nulo eu pulo a parte da \n",
    "\t\t# redução de dimensionalidade e gero o CSV com todas as features.\n",
    "\n",
    "\t\tprint(\"Reduzindo a dimensionalidade\")\n",
    "\t\t\n",
    "\t\t# COPIANDO AS COLUNAS DE NOME E CLASSIFICACAO\n",
    "\t\tcolunaArquivo       = dataframeGeral[\"nomeArquivo\"]\n",
    "\t\tcolunaClassificacao = dataframeGeral[\"classificacaoCorreta\"]\n",
    "\t\t\n",
    "\t\t# DELETANDO AS COLUNAS ARQUIVO E CLASSIFICACAO\n",
    "\t\tdataframeGeral = dataframeGeral.drop(['nomeArquivo', 'classificacaoCorreta'], axis=1)\n",
    "\t\t\n",
    "\t\t# REDUZINDO A DIMENSIONALIDADE\n",
    "\t\tdataframeGeral = pd.DataFrame(PCA(n_components=nDimensoes).fit_transform(dataframeGeral))\n",
    "\t\t\n",
    "\t\t# COM ESSA COISA DE TIRA E POE COLUNA, O PANDAS NAO SABE LINDAR COM OS INDEXES,\n",
    "\t\t# ABAIXO EU ESTOU RESETANDO TUDO\n",
    "\t\tcolunaArquivo.reset_index(inplace=True, drop=True)\n",
    "\t\tcolunaClassificacao.reset_index(inplace=True, drop=True)\n",
    "\t\tdataframeGeral.reset_index(inplace=True, drop=True)\n",
    "\t\t\n",
    "\t\t# ADICIONANDO AS COLUNAS QUE FORAM EXCLUIDAS (posicaoNovaColuna, nomeNovaColuna, valorParaTodasAsLinhas)\n",
    "\t\tdataframeGeral.insert(0, \"nomeArquivo\", colunaArquivo, True)\n",
    "\t\tdataframeGeral.insert(len(dataframeGeral.columns), \"classificacaoCorreta\", colunaClassificacao, True)\n",
    "\t\t\n",
    "\t\treturn dataframeGeral\n",
    "\n",
    "\t# DEFINICAO DAS FUNCOES QUE REALMENTE EXTRAEM AS FEATURES -----------------------------------------------\n",
    "\n",
    "\tdef extrairRMS(self, sinal, frameLength, overlapLength):\n",
    "\t\treturn librosa.feature.rms(y=sinal, frame_length=frameLength, hop_length=overlapLength)\n",
    "\n",
    "\tdef extrairCentroideEspectral(self, sinal, freqAmostragem, frameLength, overlapLength):\n",
    "\t\treturn librosa.feature.spectral_centroid(y=sinal, sr=freqAmostragem, n_fft=frameLength, hop_length=overlapLength)\n",
    "\n",
    "\tdef extrairLarguraBanda(self, sinal, freqAmostragem, frameLength, overlapLength):\n",
    "\t\treturn librosa.feature.spectral_bandwidth(y=sinal, sr= freqAmostragem, n_fft=frameLength, hop_length=overlapLength)\n",
    "\n",
    "\tdef extrairPlanicidade(self, sinal, frameLength, overlapLength):\n",
    "\t\treturn librosa.feature.spectral_flatness(y=sinal, n_fft=frameLength, hop_length=overlapLength)\n",
    "\n",
    "\tdef extrairRolloff(self, sinal, freqAmostragem, frameLength, overlapLength):\n",
    "\t\treturn librosa.feature.spectral_rolloff(y=sinal, sr= freqAmostragem, n_fft=frameLength, hop_length=overlapLength)\n",
    "\n",
    "\tdef extrairZCR(self, sinal, frameLength, overlapLength):\n",
    "\t\treturn librosa.feature.zero_crossing_rate(y=sinal, frame_length=frameLength, hop_length=overlapLength)\n",
    "\n",
    "\tdef extrairMatrizMFCC(self, sinal, freqAmostragem):\n",
    "\t\treturn librosa.feature.mfcc(y=sinal, sr=freqAmostragem)\n",
    "\n",
    "\tdef extrairMFCCs(self, matrizMFCC):\n",
    "\t\t\n",
    "\t\tarrayMFCCs = []\n",
    "\t\t\n",
    "\t\tfor linha in matrizMFCC:\n",
    "\t\t\tarrayMFCCs.append(np.mean(linha))\n",
    "\t\t\t\n",
    "\t\treturn arrayMFCCs\n",
    "\n",
    "\tdef extrairDeltas(self, matrizMFCC):\n",
    "\t\tmatrizDelta = librosa.feature.delta(matrizMFCC, order=1)\n",
    "\n",
    "\t\tarrayDelta = []\n",
    "\n",
    "\t\tfor linha in matrizDelta:\n",
    "\t\t\tarrayDelta.append(np.mean(linha))\n",
    "\n",
    "\t\treturn arrayDelta\n",
    "\n",
    "\tdef extrairDeltaDeltas(self, matrizMFCC):\n",
    "\t\tmatrizDeltaDelta = librosa.feature.delta(matrizMFCC, order=2)\n",
    "\n",
    "\t\tarrayDeltaDelta = []\n",
    "\n",
    "\t\tfor linha in matrizDeltaDelta:\n",
    "\t\t\tarrayDeltaDelta.append(np.mean(linha))\n",
    "\n",
    "\t\treturn arrayDeltaDelta\n",
    "\n",
    "\tdef extrairMelEspectrograma(self, sinal, freqAmostragem, frameLength, overlapLength):\n",
    "\t\t\n",
    "\t\tmatrizMelEspectrograma = librosa.feature.melspectrogram(y=sinal, sr=freqAmostragem, n_fft=frameLength, hop_length=overlapLength)\n",
    "\t\t\n",
    "\t\tarrayMelEspectrograma = []\n",
    "\t\t\n",
    "\t\tfor coluna in matrizMelEspectrograma.T:\n",
    "\t\t\tarrayMelEspectrograma.append(np.mean(coluna))\n",
    "\t\t\n",
    "\t\treturn arrayMelEspectrograma\n",
    "\n",
    "\tdef extrairCromagramas(self, sinal, freqAmostragem, frameLength, overlapLength):\n",
    "\t\t\n",
    "\t\tmatrizCromagramas = librosa.feature.chroma_stft(y=sinal, sr=freqAmostragem, n_fft=frameLength, hop_length=overlapLength)\n",
    "\t\t\n",
    "\t\tarrayCromagramas = []\n",
    "\t\t\n",
    "\t\tfor linha in matrizCromagramas:\n",
    "\t\t\tarrayCromagramas.append(np.mean(linha))\n",
    "\t\t\n",
    "\t\treturn arrayCromagramas\n",
    "\n",
    "\tdef extrairCromagramasQ(self, sinal, freqAmostragem):\n",
    "\t\t\n",
    "\t\tmatrizCromagramasQ = librosa.feature.chroma_cqt(y=sinal, sr=freqAmostragem)\n",
    "\t\t\n",
    "\t\tarrayCromagramasQ = []\n",
    "\t\t\n",
    "\t\tfor linha in matrizCromagramasQ:\n",
    "\t\t\tarrayCromagramasQ.append(np.mean(linha))\n",
    "\t\t\n",
    "\t\treturn arrayCromagramasQ\n",
    "\n",
    "\tdef extrairCromaCENSs(self, sinal, freqAmostragem):\n",
    "\t\t\n",
    "\t\tmatrizCromaCENSs = librosa.feature.chroma_cens(y=sinal, sr=freqAmostragem)\n",
    "\t\t\n",
    "\t\tarrayCromaCENSs = []\n",
    "\t\t\n",
    "\t\tfor linha in matrizCromaCENSs:\n",
    "\t\t\tarrayCromaCENSs.append(np.mean(linha))\n",
    "\t\t\n",
    "\t\treturn arrayCromaCENSs\n",
    "\n",
    "\tdef extrairContrastes(self, sinal, freqAmostragem, frameLength, overlapLength):\n",
    "\t\t\n",
    "\t\tmatrizContrastes = librosa.feature.spectral_contrast(y=sinal, sr=freqAmostragem, n_fft=frameLength, hop_length=overlapLength)\n",
    "\t\t\n",
    "\t\tarrayConstrastes = []\n",
    "\t\t\n",
    "\t\tfor linha in matrizContrastes:\n",
    "\t\t\tarrayConstrastes.append(np.mean(linha))\n",
    "\t\t\n",
    "\t\treturn arrayConstrastes"
   ]
  }
 ],
 "metadata": {
  "kernelspec": {
   "display_name": "Python 3",
   "language": "python",
   "name": "python3"
  },
  "language_info": {
   "codemirror_mode": {
    "name": "ipython",
    "version": 3
   },
   "file_extension": ".py",
   "mimetype": "text/x-python",
   "name": "python",
   "nbconvert_exporter": "python",
   "pygments_lexer": "ipython3",
   "version": "3.6.8"
  }
 },
 "nbformat": 4,
 "nbformat_minor": 2
}
