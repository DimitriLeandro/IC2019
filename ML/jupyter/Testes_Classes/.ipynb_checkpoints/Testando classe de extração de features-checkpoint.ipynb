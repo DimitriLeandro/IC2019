{
 "cells": [
  {
   "cell_type": "markdown",
   "metadata": {},
   "source": [
    "# Testando a classe de extração de features"
   ]
  },
  {
   "cell_type": "markdown",
   "metadata": {},
   "source": [
    "Esse jupyter tem o objetivo de testar a classe de extração de features. Ela foi totalmente implementada no jupyter \"Implementação de classe para extração de features - SESA Dataset\", mas aqui nós vamos testar o arquivo .py que contém a classe.\n",
    "\n",
    "Para usar a classe é muito simples. Basta ter uma pasta com os arquivos wav que se deseja extrair as features (essa pasta só deve ter arquivos wav, nada mais), e definir os parâmetros iniciais, que são:\n",
    "\n",
    "1) Frequência de amostragem dos áudios da pasta;\n",
    "\n",
    "2) O tamanho do janelamento e da sobreposição que se deseja (em qtd de frames, não em segundos);\n",
    "\n",
    "3) Se deve ser feito o escalonamento das features após a extração (default True);\n",
    "\n",
    "4) Quantidade de componentes principais do PCA para fazer a redução de dimensinalidade (default None)\n",
    "\n",
    "Depois disso, basta instânciar um objeto da classe com esses parâmetros que o construtor se encarregará de fazer todo o trabalho. Ao final, haverá um arquivo CSV dentro da pasta em questão."
   ]
  },
  {
   "cell_type": "code",
   "execution_count": 1,
   "metadata": {},
   "outputs": [],
   "source": [
    "import sys\n",
    "sys.path.append('/home/dimi/Programming/IC2019/ML/python')\n",
    "from extrairFeaturesClass import ExtrairFeatures"
   ]
  },
  {
   "cell_type": "code",
   "execution_count": 2,
   "metadata": {},
   "outputs": [],
   "source": [
    "import librosa\n",
    "import os\n",
    "import warnings\n",
    "warnings.filterwarnings(\"ignore\")"
   ]
  },
  {
   "cell_type": "markdown",
   "metadata": {},
   "source": [
    "## Definindo parâmetros iniciais"
   ]
  },
  {
   "cell_type": "code",
   "execution_count": 10,
   "metadata": {},
   "outputs": [],
   "source": [
    "arrayDuracoes = []\n",
    "\n",
    "diretorio = \"/home/dimi/Downloads/Datasets/SESA/SESA_Normalizado/train/\"\n",
    "for arquivo in os.listdir(diretorio):\n",
    "    arrayDuracoes.append(librosa.get_duration(filename=diretorio + arquivo))\n",
    "\n",
    "diretorio = \"/home/dimi/Downloads/Datasets/SESA/SESA_Normalizado/test/\"\n",
    "for arquivo in os.listdir(diretorio):\n",
    "    arrayDuracoes.append(librosa.get_duration(filename=diretorio + arquivo))"
   ]
  },
  {
   "cell_type": "code",
   "execution_count": 11,
   "metadata": {},
   "outputs": [
    {
     "name": "stdout",
     "output_type": "stream",
     "text": [
      "Duração mínima: 1.0715625\n",
      "Duração máxima: 33.030375\n"
     ]
    }
   ],
   "source": [
    "print(\"Duração mínima:\", min(arrayDuracoes))\n",
    "print(\"Duração máxima:\", max(arrayDuracoes))"
   ]
  },
  {
   "cell_type": "code",
   "execution_count": 13,
   "metadata": {},
   "outputs": [
    {
     "name": "stdout",
     "output_type": "stream",
     "text": [
      "Frequência de amostragem do dataset:\t 16000\n",
      "Tamanho do janelamento (segundos):\t 1.0715625\n",
      "Tamanho do janelamento (amostras):\t 17145\n",
      "Tamanho da sobreposição (amostras):\t 8572\n"
     ]
    }
   ],
   "source": [
    "audioTesteDir = \"/home/dimi/Downloads/Datasets/SESA/SESA_Normalizado/test/casual_000.wav\" \n",
    "audioTeste, freqAmostragem = librosa.load(audioTesteDir, sr=None, mono=True)\n",
    "\n",
    "frameTime     = min(arrayDuracoes)\n",
    "overlapTime   = frameTime / 2\n",
    "\n",
    "frameLength   = int(freqAmostragem * frameTime)\n",
    "overlapLength = int(freqAmostragem * overlapTime)\n",
    "\n",
    "print(\"Frequência de amostragem do dataset:\\t\", freqAmostragem)\n",
    "print(\"Tamanho do janelamento (segundos):\\t\", frameTime)\n",
    "print(\"Tamanho do janelamento (amostras):\\t\", frameLength)\n",
    "print(\"Tamanho da sobreposição (amostras):\\t\", overlapLength)"
   ]
  },
  {
   "cell_type": "markdown",
   "metadata": {},
   "source": [
    "## Rodando a extração de features"
   ]
  },
  {
   "cell_type": "markdown",
   "metadata": {},
   "source": [
    "Como definido no momento em que a classes estava sendo criada, frameLength é o tamanho do menor áudio do dataset, overlapLength é a metade do frameLength."
   ]
  },
  {
   "cell_type": "code",
   "execution_count": null,
   "metadata": {},
   "outputs": [],
   "source": [
    "## DEFININDO PARAMETROS INICIAIS\n",
    "pastaRaiz      = '/home/dimi/Downloads/Datasets/SESA/SESA_Normalizado/outros/'\n",
    "freqAmostragem = 16000\n",
    "frameLength    = 17145\n",
    "overlapLength  = 8572\n",
    "escalonamento  = True\n",
    "nDimensoes     = None\n",
    "\n",
    "# EXTRAINDO DE TODAS AS PASTAS DE SNR\n",
    "for snrAtual in range(-10, 0):\n",
    "    \n",
    "    print(\"\\n\\nINICIANDO A EXTRAÇÃO SNR\", snrAtual)\n",
    "    \n",
    "    # CRIANDO O CAMINHO PARA A PASTA DE SNR ATUAL\n",
    "    pastaSNRAtual = pastaRaiz + \"SNR_\" + str(snrAtual) + \"dB/\"\n",
    "\n",
    "    # EXTRAINDO SEM BEAMFORMING, COM BEAMFORMING E GSC\n",
    "    ExtrairFeatures(pastaSNRAtual + \"testeSemBeamforming/\", freqAmostragem, frameLength, overlapLength, escalonamento, nDimensoes)\n",
    "    ExtrairFeatures(pastaSNRAtual + \"testeBeamforming/\", freqAmostragem, frameLength, overlapLength, escalonamento, nDimensoes)\n",
    "    ExtrairFeatures(pastaSNRAtual + \"testeGSC/\", freqAmostragem, frameLength, overlapLength, escalonamento, nDimensoes)"
   ]
  },
  {
   "cell_type": "code",
   "execution_count": null,
   "metadata": {},
   "outputs": [],
   "source": []
  }
 ],
 "metadata": {
  "kernelspec": {
   "display_name": "Python 3",
   "language": "python",
   "name": "python3"
  },
  "language_info": {
   "codemirror_mode": {
    "name": "ipython",
    "version": 3
   },
   "file_extension": ".py",
   "mimetype": "text/x-python",
   "name": "python",
   "nbconvert_exporter": "python",
   "pygments_lexer": "ipython3",
   "version": "3.7.3"
  }
 },
 "nbformat": 4,
 "nbformat_minor": 2
}
