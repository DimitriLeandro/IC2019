{
 "cells": [
  {
   "cell_type": "markdown",
   "metadata": {},
   "source": [
    "# Testando a classe de extração de features"
   ]
  },
  {
   "cell_type": "markdown",
   "metadata": {},
   "source": [
    "Esse jupyter tem o objetivo de testar a classe de extração de features. Ela foi totalmente implementada no jupyter \"Implementação de classe para extração de features - SESA Dataset\", mas aqui nós vamos testar o arquivo .py que contém a classe.\n",
    "\n",
    "Para usar a classe é muito simples. Basta ter uma pasta com os arquivos wav que se deseja extrair as features (essa pasta só deve ter arquivos wav, nada mais), e definir os parâmetros iniciais, que são:\n",
    "\n",
    "1) Frequência de amostragem dos áudios da pasta;\n",
    "\n",
    "2) O tamanho do janelamento e da sobreposição que se deseja (em qtd de frames, não em segundos);\n",
    "\n",
    "3) Se deve ser feito o escalonamento das features após a extração (default True);\n",
    "\n",
    "4) Quantidade de componentes principais do PCA para fazer a redução de dimensinalidade (default None)\n",
    "\n",
    "Depois disso, basta instânciar um objeto da classe com esses parâmetros que o construtor se encarregará de fazer todo o trabalho. Ao final, haverá um arquivo CSV dentro da pasta em questão."
   ]
  },
  {
   "cell_type": "code",
   "execution_count": 1,
   "metadata": {},
   "outputs": [
    {
     "name": "stderr",
     "output_type": "stream",
     "text": [
      "/home/pi/.pyenv/versions/3.6.1/envs/venv1/lib/python3.6/site-packages/librosa/util/decorators.py:9: NumbaDeprecationWarning: An import was requested from a module that has moved location.\n",
      "Import of 'jit' requested from: 'numba.decorators', please update to use 'numba.core.decorators' or pin to Numba version 0.48.0. This alias will not be present in Numba version 0.50.0.\n",
      "  from numba.decorators import jit as optional_jit\n"
     ]
    }
   ],
   "source": [
    "import sys\n",
    "sys.path.append('/home/pi/Programming/IC2019/ML/python')\n",
    "from extrairFeaturesClass import ExtrairFeatures"
   ]
  },
  {
   "cell_type": "code",
   "execution_count": 2,
   "metadata": {},
   "outputs": [],
   "source": [
    "import librosa\n",
    "import os\n",
    "import time\n",
    "import warnings\n",
    "#warnings.filterwarnings(\"ignore\")"
   ]
  },
  {
   "cell_type": "markdown",
   "metadata": {},
   "source": [
    "## Rodando a extração de features"
   ]
  },
  {
   "cell_type": "code",
   "execution_count": 5,
   "metadata": {},
   "outputs": [
    {
     "name": "stdout",
     "output_type": "stream",
     "text": [
      "[Parallel(n_jobs=-1)]: Using backend LokyBackend with 4 concurrent workers.\n",
      "[Parallel(n_jobs=-1)]: Done   1 tasks      | elapsed:   13.3s\n",
      "[Parallel(n_jobs=-1)]: Done   3 out of   3 | elapsed:   45.2s remaining:    0.0s\n",
      "[Parallel(n_jobs=-1)]: Done   3 out of   3 | elapsed:   45.2s finished\n",
      "Operação finalizada\n",
      "CPU times: user 236 ms, sys: 110 ms, total: 346 ms\n",
      "Wall time: 45.4 s\n"
     ]
    },
    {
     "data": {
      "text/plain": [
       "<extrairFeaturesClass.ExtrairFeatures at 0x64be1250>"
      ]
     },
     "execution_count": 5,
     "metadata": {},
     "output_type": "execute_result"
    }
   ],
   "source": [
    "%%time\n",
    "# DEFININDO PARAMETROS INICIAIS\n",
    "freqAmostragem = 16000\n",
    "frameLength    = int(0.500 * freqAmostragem) # 200 milisegundos\n",
    "overlapLength  = int(frameLength / 2) # 50% de overlap\n",
    "escalonamento  = False\n",
    "\n",
    "pastaRaiz      = '/home/pi/Datasets/ESC_3_ReSpeaker_1595612342.0004687/audio/'\n",
    "ExtrairFeatures(pastaRaiz, freqAmostragem, frameLength, overlapLength, escalonamento)"
   ]
  },
  {
   "cell_type": "code",
   "execution_count": 4,
   "metadata": {},
   "outputs": [
    {
     "name": "stdout",
     "output_type": "stream",
     "text": [
      "['sneezing_000_1.wav', '.ipynb_checkpoints', 'chainsaw_000_1.wav', 'cryingbaby_000_1.wav']\n"
     ]
    }
   ],
   "source": [
    "import os\n",
    "\n",
    "print(os.listdir(pastaRaiz))\n",
    "\n",
    "try:\n",
    "    os.removedirs(pastaRaiz+\".ipynb_checkpoints\")\n",
    "except:\n",
    "    pass"
   ]
  }
 ],
 "metadata": {
  "kernelspec": {
   "display_name": "Python 3",
   "language": "python",
   "name": "python3"
  },
  "language_info": {
   "codemirror_mode": {
    "name": "ipython",
    "version": 3
   },
   "file_extension": ".py",
   "mimetype": "text/x-python",
   "name": "python",
   "nbconvert_exporter": "python",
   "pygments_lexer": "ipython3",
   "version": "3.6.1"
  }
 },
 "nbformat": 4,
 "nbformat_minor": 2
}
