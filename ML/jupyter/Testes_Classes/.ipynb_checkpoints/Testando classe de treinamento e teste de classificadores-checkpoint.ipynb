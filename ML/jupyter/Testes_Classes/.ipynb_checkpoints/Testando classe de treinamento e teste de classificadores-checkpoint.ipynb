{
 "cells": [
  {
   "cell_type": "markdown",
   "metadata": {},
   "source": [
    "# Testando a classe de treinamento e teste de classificadores"
   ]
  },
  {
   "cell_type": "markdown",
   "metadata": {},
   "source": [
    "Esse jupyter tem como objetivo testar a classe \"treinarEClassificarClass.py\" que foi totalmente implementada no jupyter \"Implementacao de classe para treinamento e classificacao de CSVs\".\n",
    "\n",
    "Para usar a classe:\n",
    "\n",
    "1) Crie o caminho para o CSV de TREINAMENTO e abra-o como um pandas dataframe;\n",
    "\n",
    "2) Utilizando o dataframe de treinamento aberto, crie e treine os classificadores desejados;\n",
    "\n",
    "3) Crie o caminho para o CSV de TESTE, setando as váriaveis diretorio e nomeDataset;\n",
    "\n",
    "4) Classifique o dataset de TESTE aberto, especificando onde o JSON do relátorio deve ser salvo\n",
    "\n",
    "Os passos 3 e 4 podem ser repetidos caso se deseje classificar vários datasets de TESTE."
   ]
  },
  {
   "cell_type": "code",
   "execution_count": null,
   "metadata": {},
   "outputs": [],
   "source": [
    "import pandas as pd\n",
    "import os\n",
    "import numpy as np"
   ]
  },
  {
   "cell_type": "code",
   "execution_count": null,
   "metadata": {},
   "outputs": [],
   "source": [
    "import sys\n",
    "sys.path.append('/home/dimi/Programming/IC2019/ML/python')\n",
    "from treinarEClassificarClass import TreinarEClassificar"
   ]
  },
  {
   "cell_type": "markdown",
   "metadata": {},
   "source": [
    "### TREINO"
   ]
  },
  {
   "cell_type": "code",
   "execution_count": null,
   "metadata": {
    "scrolled": false
   },
   "outputs": [],
   "source": [
    "objTreinarEClassificar = TreinarEClassificar()\n",
    "\n",
    "# ABRINDO O CSV DE TREINO COM PANDAS\n",
    "caminhoCSVTreino = '/home/dimi/Programming/IC2019/ML/datasets/SESA/SESA_Normalizado/train/treino_normalizado_semPCA.csv'\n",
    "dataframeTreino = pd.read_csv(caminhoCSVTreino) \n",
    "\n",
    "# CRIANDO E TREINANDO OS CLASIFICADORES\n",
    "arrayStringsClassificadores = [\n",
    "    \"KNeighborsClassifier(algorithm='auto', leaf_size=30, metric='manhattan',metric_params=None, n_jobs=None, n_neighbors=7, p=2,weights='distance')\",\n",
    "    \"SGDClassifier(alpha=0.0001, average=False, class_weight=None,early_stopping=False, epsilon=0.1, eta0=0.0, fit_intercept=True,l1_ratio=0.15, learning_rate='optimal', loss='log', max_iter=1000,n_iter_no_change=5, n_jobs=None, penalty='l2', power_t=0.5,random_state=None, shuffle=True, tol=0.0001,validation_fraction=0.1, verbose=0, warm_start=False)\",\n",
    "    \"SVC(C=1, cache_size=200, class_weight=None, coef0=0.0,decision_function_shape='ovo', degree=3, gamma='auto_deprecated',kernel='rbf', max_iter=-1, probability=False, random_state=None,shrinking=True, tol=0.001, verbose=False)\",\n",
    "    \"Perceptron(alpha=1e-05, class_weight=None, early_stopping=False, eta0=1.0,fit_intercept=True, max_iter=1000, n_iter_no_change=5, n_jobs=None,penalty='l2', random_state=0, shuffle=True, tol=0.01,validation_fraction=0.1, verbose=0, warm_start=False)\",\n",
    "    \"LinearDiscriminantAnalysis(n_components=None, priors=None, shrinkage=None,solver='svd', store_covariance=True, tol=1e-05)\",\n",
    "    \"DecisionTreeClassifier(class_weight=None, criterion='entropy', max_depth=None, max_features=None, max_leaf_nodes=None, min_impurity_decrease=0.0, min_impurity_split=1e-07, min_samples_leaf=5, min_samples_split=2, min_weight_fraction_leaf=0.0, presort=False, random_state=None, splitter='best')\",\n",
    "    \"QuadraticDiscriminantAnalysis()\"\n",
    "]\n",
    "\n",
    "arrayObjClassificadores = objTreinarEClassificar.criarETreinarClassificadores(dataframeTreino, arrayStringsClassificadores, kCrossValidation=5, percentual=0.75, verbose=True)"
   ]
  },
  {
   "cell_type": "markdown",
   "metadata": {},
   "source": [
    "### TESTES"
   ]
  },
  {
   "cell_type": "markdown",
   "metadata": {},
   "source": [
    "#### Teste apenas com um CSV"
   ]
  },
  {
   "cell_type": "code",
   "execution_count": null,
   "metadata": {},
   "outputs": [],
   "source": [
    "# diretorioSalvarRelatorio = \"/home/dimi/Programming/IC2019/ML/relatorios_classificacao/SESA_Normalizado/tabelasGridSearch/treinoOriginal_testeAumentado/\"\n",
    "# nomeRelatorio            = \"treinoOriginalTesteAumentado\" #tenho que tirar o \".csv\" do nome\n",
    "# caminhoCSVTeste          = \"/home/dimi/Programming/IC2019/ML/datasets/SESA/SESA_Normalizado/test_augmentation/teste_augmentation_normalizado_semPCA.csv\"\n",
    "# dataframeTeste           = pd.read_csv(caminhoCSVTeste)\n",
    "\n",
    "# # RODO O ALGORITMO DE TESTE\n",
    "# objTreinarEClassificar.classificarDataframe(dataframeTeste, arrayObjClassificadores, diretorioSalvarRelatorio, nomeRelatorio)"
   ]
  },
  {
   "cell_type": "markdown",
   "metadata": {},
   "source": [
    "#### A célula abaixo é para testar com os CSVs com e sem beamforming, incluindo GSC, nas pastas de SNRs."
   ]
  },
  {
   "cell_type": "code",
   "execution_count": null,
   "metadata": {},
   "outputs": [],
   "source": [
    "diretorioOrigemCSVsTeste = \"/home/dimi/Programming/IC2019/ML/datasets/SESA/SESA_Normalizado/outros/RBRANCO_DIFUSO/\"\n",
    "rangeSNRsDesejadas = np.arange(-10, 31, 5)\n",
    "\n",
    "# PARA CADA SNR DESEJADA\n",
    "for snrAtual in rangeSNRsDesejadas:\n",
    "\n",
    "    diretorioSNRAtual = \"SNR_\" + str(snrAtual) + \"dB\"\n",
    "    \n",
    "    # SE A PASTA EXISTIR, EU PROSSIGO COM O ALGORITMO\n",
    "    if os.path.isdir(diretorioOrigemCSVsTeste + diretorioSNRAtual) == True:\n",
    "        \n",
    "        # PEGO OS CSVs QUE ESTAO DENTRO DA PASTA\n",
    "        arquivosCSV = [filename for filename in os.listdir(diretorioOrigemCSVsTeste + diretorioSNRAtual) if filename.endswith(\".csv\")]\n",
    "\n",
    "        # PARA CADA CSV\n",
    "        for csvAtual in arquivosCSV:\n",
    "\n",
    "            # SETO OS PARAMETROS INICIAIS PARA A ETAPE DE TESTE\n",
    "            diretorioSalvarRelatorio = \"/home/dimi/Programming/IC2019/ML/relatorios_classificacao/SESA_Normalizado/graficosACCxSNR/RBRANCO_DIFUSO/original_dataset/com_gridsearch/\" + diretorioSNRAtual + \"/\"\n",
    "            nomeDatasetTeste         = csvAtual[0:-4] #tenho que tirar o \".csv\" do nome\n",
    "            caminhoCSVTeste          = diretorioOrigemCSVsTeste + diretorioSNRAtual + \"/\" + nomeDatasetTeste + '.csv'\n",
    "            dataframeTeste           = pd.read_csv(caminhoCSVTeste)\n",
    "\n",
    "            # SE O DIRETORIO ONDE EU VOU SALVAR NAO EXISTIR AINDA (SNR NOVA), EU CRIO\n",
    "            if os.path.isdir(diretorioSalvarRelatorio) == False:\n",
    "                os.mkdir(diretorioSalvarRelatorio)\n",
    "\n",
    "            # RODO O ALGORITMO DE TESTE\n",
    "            objTreinarEClassificar.classificarDataframe(dataframeTeste, arrayObjClassificadores, diretorioSalvarRelatorio, nomeDatasetTeste)"
   ]
  },
  {
   "cell_type": "code",
   "execution_count": null,
   "metadata": {},
   "outputs": [],
   "source": []
  },
  {
   "cell_type": "code",
   "execution_count": null,
   "metadata": {},
   "outputs": [],
   "source": []
  },
  {
   "cell_type": "code",
   "execution_count": null,
   "metadata": {},
   "outputs": [],
   "source": []
  }
 ],
 "metadata": {
  "kernelspec": {
   "display_name": "Python 3",
   "language": "python",
   "name": "python3"
  },
  "language_info": {
   "codemirror_mode": {
    "name": "ipython",
    "version": 3
   },
   "file_extension": ".py",
   "mimetype": "text/x-python",
   "name": "python",
   "nbconvert_exporter": "python",
   "pygments_lexer": "ipython3",
   "version": "3.7.3"
  }
 },
 "nbformat": 4,
 "nbformat_minor": 2
}
