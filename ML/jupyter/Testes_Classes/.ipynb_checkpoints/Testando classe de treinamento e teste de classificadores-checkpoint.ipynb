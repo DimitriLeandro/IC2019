{
 "cells": [
  {
   "cell_type": "markdown",
   "metadata": {},
   "source": [
    "# Testando a classe de treinamento e teste de classificadores"
   ]
  },
  {
   "cell_type": "markdown",
   "metadata": {},
   "source": [
    "Esse jupyter tem como objetivo testar a classe \"treinarEClassificarClass.py\" que foi totalmente implementada no jupyter \"Implementacao de classe para treinamento e classificacao de CSVs\".\n",
    "\n",
    "Para usar a classe:\n",
    "\n",
    "1) Crie o caminho para o CSV de TREINAMENTO e abra-o como um pandas dataframe;\n",
    "\n",
    "2) Utilizando o dataframe de treinamento aberto, crie e treine os classificadores desejados;\n",
    "\n",
    "3) Crie o caminho para o CSV de TESTE, setando as váriaveis diretorio e nomeDataset;\n",
    "\n",
    "4) Classifique o dataset de TESTE aberto, especificando onde o JSON do relátorio deve ser salvo\n",
    "\n",
    "Os passos 3 e 4 podem ser repetidos caso se deseje classificar vários datasets de TESTE."
   ]
  },
  {
   "cell_type": "code",
   "execution_count": 1,
   "metadata": {},
   "outputs": [],
   "source": [
    "import pandas as pd"
   ]
  },
  {
   "cell_type": "code",
   "execution_count": 2,
   "metadata": {},
   "outputs": [],
   "source": [
    "import sys\n",
    "sys.path.append('/home/dimi/Programming/IC2019/ML/python')\n",
    "from treinarEClassificarClass import TreinarEClassificar"
   ]
  },
  {
   "cell_type": "markdown",
   "metadata": {},
   "source": [
    "### TREINO"
   ]
  },
  {
   "cell_type": "code",
   "execution_count": 4,
   "metadata": {
    "scrolled": true
   },
   "outputs": [
    {
     "name": "stdout",
     "output_type": "stream",
     "text": [
      "Começando o treinamento dos classificadores\n",
      "Instanciando o 1º objeto da classe SGDClassifier()\n",
      "Instanciando o 2º objeto da classe SGDClassifier()\n",
      "Instanciando o 3º objeto da classe SGDClassifier()\n",
      "Instanciando o 4º objeto da classe SGDClassifier()\n",
      "Instanciando o 5º objeto da classe SGDClassifier()\n",
      "Instanciando o 6º objeto da classe SGDClassifier()\n",
      "Instanciando o 7º objeto da classe SGDClassifier()\n",
      "Instanciando o 8º objeto da classe SGDClassifier()\n",
      "Instanciando o 9º objeto da classe SGDClassifier()\n",
      "Instanciando o 10º objeto da classe SGDClassifier()\n",
      "Instanciando o 1º objeto da classe BaggingClassifier()\n",
      "Instanciando o 2º objeto da classe BaggingClassifier()\n",
      "Instanciando o 3º objeto da classe BaggingClassifier()\n",
      "Instanciando o 4º objeto da classe BaggingClassifier()\n",
      "Instanciando o 5º objeto da classe BaggingClassifier()\n",
      "Instanciando o 6º objeto da classe BaggingClassifier()\n",
      "Instanciando o 7º objeto da classe BaggingClassifier()\n",
      "Instanciando o 8º objeto da classe BaggingClassifier()\n",
      "Instanciando o 9º objeto da classe BaggingClassifier()\n",
      "Instanciando o 10º objeto da classe BaggingClassifier()\n",
      "Instanciando o 1º objeto da classe KNeighborsClassifier()\n",
      "Instanciando o 2º objeto da classe KNeighborsClassifier()\n",
      "Instanciando o 3º objeto da classe KNeighborsClassifier()\n",
      "Instanciando o 4º objeto da classe KNeighborsClassifier()\n",
      "Instanciando o 5º objeto da classe KNeighborsClassifier()\n",
      "Instanciando o 6º objeto da classe KNeighborsClassifier()\n",
      "Instanciando o 7º objeto da classe KNeighborsClassifier()\n",
      "Instanciando o 8º objeto da classe KNeighborsClassifier()\n",
      "Instanciando o 9º objeto da classe KNeighborsClassifier()\n",
      "Instanciando o 10º objeto da classe KNeighborsClassifier()\n",
      "Instanciando o 1º objeto da classe LinearSVC()\n"
     ]
    },
    {
     "ename": "NameError",
     "evalue": "name 'LinearSVC' is not defined",
     "output_type": "error",
     "traceback": [
      "\u001b[0;31m---------------------------------------------------------------------------\u001b[0m",
      "\u001b[0;31mNameError\u001b[0m                                 Traceback (most recent call last)",
      "\u001b[0;32m<ipython-input-4-11417c3ae82b>\u001b[0m in \u001b[0;36m<module>\u001b[0;34m\u001b[0m\n\u001b[1;32m      8\u001b[0m \u001b[0marrayStringsClassificadores\u001b[0m \u001b[0;34m=\u001b[0m \u001b[0;34m[\u001b[0m\u001b[0;34m\"SGDClassifier()\"\u001b[0m\u001b[0;34m,\u001b[0m\u001b[0;34m\"BaggingClassifier()\"\u001b[0m\u001b[0;34m,\u001b[0m\u001b[0;34m\"KNeighborsClassifier()\"\u001b[0m\u001b[0;34m,\u001b[0m \u001b[0;34m\"LinearSVC()\"\u001b[0m\u001b[0;34m,\u001b[0m \u001b[0;34m\"Perceptron()\"\u001b[0m\u001b[0;34m]\u001b[0m\u001b[0;34m\u001b[0m\u001b[0m\n\u001b[1;32m      9\u001b[0m \u001b[0;31m#arrayStringsClassificadores = [\"KNeighborsClassifier()\"]\u001b[0m\u001b[0;34m\u001b[0m\u001b[0;34m\u001b[0m\u001b[0m\n\u001b[0;32m---> 10\u001b[0;31m \u001b[0marrayObjClassificadores\u001b[0m \u001b[0;34m=\u001b[0m \u001b[0mobjTreinarEClassificar\u001b[0m\u001b[0;34m.\u001b[0m\u001b[0mcriarETreinarClassificadores\u001b[0m\u001b[0;34m(\u001b[0m\u001b[0mdataframeTreino\u001b[0m\u001b[0;34m,\u001b[0m \u001b[0marrayStringsClassificadores\u001b[0m\u001b[0;34m,\u001b[0m \u001b[0mkCrossValidation\u001b[0m\u001b[0;34m=\u001b[0m\u001b[0;36m10\u001b[0m\u001b[0;34m,\u001b[0m \u001b[0mpercentual\u001b[0m\u001b[0;34m=\u001b[0m\u001b[0;36m0.75\u001b[0m\u001b[0;34m,\u001b[0m \u001b[0mverbose\u001b[0m\u001b[0;34m=\u001b[0m\u001b[0;32mTrue\u001b[0m\u001b[0;34m)\u001b[0m\u001b[0;34m\u001b[0m\u001b[0m\n\u001b[0m",
      "\u001b[0;32m~/Programming/IC2019/ML/python/treinarEClassificarClass.py\u001b[0m in \u001b[0;36mcriarETreinarClassificadores\u001b[0;34m(self, dataframeTreino, arrayStringsClassesClassificadores, kCrossValidation, percentual, verbose)\u001b[0m\n\u001b[1;32m    128\u001b[0m                         \u001b[0mprint\u001b[0m\u001b[0;34m(\u001b[0m\u001b[0;34m\"Começando o treinamento dos classificadores\"\u001b[0m\u001b[0;34m)\u001b[0m\u001b[0;34m\u001b[0m\u001b[0m\n\u001b[1;32m    129\u001b[0m \u001b[0;34m\u001b[0m\u001b[0m\n\u001b[0;32m--> 130\u001b[0;31m                 \u001b[0marrayObjClassificadores\u001b[0m \u001b[0;34m=\u001b[0m \u001b[0mself\u001b[0m\u001b[0;34m.\u001b[0m\u001b[0minstanciarClassificadores\u001b[0m\u001b[0;34m(\u001b[0m\u001b[0marrayStringsClassesClassificadores\u001b[0m\u001b[0;34m,\u001b[0m \u001b[0mkCrossValidation\u001b[0m\u001b[0;34m,\u001b[0m \u001b[0mverbose\u001b[0m\u001b[0;34m)\u001b[0m\u001b[0;34m\u001b[0m\u001b[0m\n\u001b[0m\u001b[1;32m    131\u001b[0m                 \u001b[0marrayObjClassificadores\u001b[0m \u001b[0;34m=\u001b[0m \u001b[0mself\u001b[0m\u001b[0;34m.\u001b[0m\u001b[0mtreinarClassificadores\u001b[0m\u001b[0;34m(\u001b[0m\u001b[0mdataframeTreino\u001b[0m\u001b[0;34m,\u001b[0m \u001b[0marrayObjClassificadores\u001b[0m\u001b[0;34m,\u001b[0m \u001b[0mpercentual\u001b[0m\u001b[0;34m,\u001b[0m \u001b[0mverbose\u001b[0m\u001b[0;34m)\u001b[0m\u001b[0;34m\u001b[0m\u001b[0m\n\u001b[1;32m    132\u001b[0m \u001b[0;34m\u001b[0m\u001b[0m\n",
      "\u001b[0;32m~/Programming/IC2019/ML/python/treinarEClassificarClass.py\u001b[0m in \u001b[0;36minstanciarClassificadores\u001b[0;34m(self, arrayStringsClassesClassificadores, kCrossValidation, verbose)\u001b[0m\n\u001b[1;32m     63\u001b[0m                                         \u001b[0mprint\u001b[0m\u001b[0;34m(\u001b[0m\u001b[0;34m\"Instanciando o \"\u001b[0m \u001b[0;34m+\u001b[0m \u001b[0mstr\u001b[0m\u001b[0;34m(\u001b[0m\u001b[0mk\u001b[0m\u001b[0;34m+\u001b[0m\u001b[0;36m1\u001b[0m\u001b[0;34m)\u001b[0m \u001b[0;34m+\u001b[0m \u001b[0;34m\"º objeto da classe\"\u001b[0m\u001b[0;34m,\u001b[0m \u001b[0mclasse\u001b[0m\u001b[0;34m)\u001b[0m\u001b[0;34m\u001b[0m\u001b[0m\n\u001b[1;32m     64\u001b[0m \u001b[0;34m\u001b[0m\u001b[0m\n\u001b[0;32m---> 65\u001b[0;31m                                 \u001b[0marrayObjClassificadores\u001b[0m\u001b[0;34m.\u001b[0m\u001b[0mappend\u001b[0m\u001b[0;34m(\u001b[0m\u001b[0meval\u001b[0m\u001b[0;34m(\u001b[0m\u001b[0mclasse\u001b[0m\u001b[0;34m)\u001b[0m\u001b[0;34m)\u001b[0m\u001b[0;34m\u001b[0m\u001b[0m\n\u001b[0m\u001b[1;32m     66\u001b[0m \u001b[0;34m\u001b[0m\u001b[0m\n\u001b[1;32m     67\u001b[0m                 \u001b[0;32mreturn\u001b[0m \u001b[0marrayObjClassificadores\u001b[0m\u001b[0;34m\u001b[0m\u001b[0m\n",
      "\u001b[0;32m~/Programming/IC2019/ML/python/treinarEClassificarClass.py\u001b[0m in \u001b[0;36m<module>\u001b[0;34m\u001b[0m\n",
      "\u001b[0;31mNameError\u001b[0m: name 'LinearSVC' is not defined"
     ]
    }
   ],
   "source": [
    "objTreinarEClassificar = TreinarEClassificar()\n",
    "\n",
    "# ABRINDO O CSV DE TREINO COM PANDAS\n",
    "caminhoCSVTreino = '/home/dimi/Programming/IC2019/ML/datasets/SESA/SESA_Normalizado/train/treino_normalizado_semPCA.csv'\n",
    "dataframeTreino = pd.read_csv(caminhoCSVTreino) \n",
    "\n",
    "# CRIANDO E TREINANDO OS CLASIFICADORES\n",
    "arrayStringsClassificadores = [\"SGDClassifier()\",\"BaggingClassifier()\",\"KNeighborsClassifier()\", \"LinearSVC()\", \"Perceptron()\"]\n",
    "#arrayStringsClassificadores = [\"KNeighborsClassifier()\"]\n",
    "arrayObjClassificadores = objTreinarEClassificar.criarETreinarClassificadores(dataframeTreino, arrayStringsClassificadores, kCrossValidation=10, percentual=0.75, verbose=True)"
   ]
  },
  {
   "cell_type": "markdown",
   "metadata": {},
   "source": [
    "### TESTES"
   ]
  },
  {
   "cell_type": "code",
   "execution_count": 10,
   "metadata": {},
   "outputs": [
    {
     "name": "stdout",
     "output_type": "stream",
     "text": [
      "Classificando com o  KNeighborsClassifier\n",
      "Classificando com o  KNeighborsClassifier\n",
      "Classificando com o  KNeighborsClassifier\n",
      "Classificando com o  KNeighborsClassifier\n",
      "Classificando com o  KNeighborsClassifier\n",
      "O teste com todos os classificadores foi finalizado\n",
      "[0.8761904761904762, 0.8666666666666667, 0.8666666666666667, 0.8761904761904762, 0.8571428571428571, 0.8761904761904762, 0.8666666666666667, 0.8666666666666667, 0.8761904761904762, 0.8571428571428571]\n"
     ]
    }
   ],
   "source": [
    "# ABRINDO O CSV QUE EU DESEJO CLASSIFICAR - DATASET DE TESTE \n",
    "diretorio         = '/home/dimi/Programming/IC2019/ML/datasets/SESA/SESA_Normalizado/test/'\n",
    "nomeDatasetTeste  = 'teste_normalizado_semPCA'\n",
    "caminhoCSVTeste   = diretorio + nomeDatasetTeste + '.csv'\n",
    "dataframeTeste    = pd.read_csv(caminhoCSVTeste)\n",
    "\n",
    "# CLASSIFICANDO O DATAFRAME DE TESTE\n",
    "# essa linha so se for pra salvar o relatorio objTreinarEClassificar.classificarDataframe(dataframeTeste, arrayObjClassificadores, diretorio, nomeDatasetTeste, verbose=False)\n",
    "objTreinarEClassificar.classificarDataframe(dataframeTeste, arrayObjClassificadores)\n",
    "\n",
    "# PRINTANDO RESULTADO\n",
    "print(objTreinarEClassificar.arrayAcuracias)"
   ]
  },
  {
   "cell_type": "code",
   "execution_count": null,
   "metadata": {},
   "outputs": [],
   "source": []
  },
  {
   "cell_type": "code",
   "execution_count": null,
   "metadata": {},
   "outputs": [],
   "source": []
  },
  {
   "cell_type": "code",
   "execution_count": null,
   "metadata": {},
   "outputs": [],
   "source": []
  },
  {
   "cell_type": "code",
   "execution_count": null,
   "metadata": {},
   "outputs": [],
   "source": []
  }
 ],
 "metadata": {
  "kernelspec": {
   "display_name": "Python 3",
   "language": "python",
   "name": "python3"
  },
  "language_info": {
   "codemirror_mode": {
    "name": "ipython",
    "version": 3
   },
   "file_extension": ".py",
   "mimetype": "text/x-python",
   "name": "python",
   "nbconvert_exporter": "python",
   "pygments_lexer": "ipython3",
   "version": "3.5.2"
  }
 },
 "nbformat": 4,
 "nbformat_minor": 2
}
