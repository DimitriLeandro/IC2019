{
 "cells": [
  {
   "cell_type": "markdown",
   "metadata": {},
   "source": [
    "# Testando a classe de treinamento e teste de classificadores"
   ]
  },
  {
   "cell_type": "markdown",
   "metadata": {},
   "source": [
    "Esse jupyter tem como objetivo testar a classe \"treinarEClassificarClass.py\" que foi totalmente implementada no jupyter \"Implementacao de classe para treinamento e classificacao de CSVs\".\n",
    "\n",
    "Para usar a classe:\n",
    "\n",
    "1) Crie o caminho para o CSV de TREINAMENTO e abra-o como um pandas dataframe;\n",
    "\n",
    "2) Utilizando o dataframe de treinamento aberto, crie e treine os classificadores desejados;\n",
    "\n",
    "3) Crie o caminho para o CSV de TESTE, setando as váriaveis diretorio e nomeDataset;\n",
    "\n",
    "4) Classifique o dataset de TESTE aberto, especificando onde o JSON do relátorio deve ser salvo\n",
    "\n",
    "Os passos 3 e 4 podem ser repetidos caso se deseje classificar vários datasets de TESTE."
   ]
  },
  {
   "cell_type": "code",
   "execution_count": 15,
   "metadata": {},
   "outputs": [],
   "source": [
    "import pandas as pd\n",
    "import os\n",
    "import numpy as np"
   ]
  },
  {
   "cell_type": "code",
   "execution_count": 2,
   "metadata": {},
   "outputs": [],
   "source": [
    "import sys\n",
    "sys.path.append('/home/dimi/Programming/IC2019/ML/python')\n",
    "from treinarEClassificarClass import TreinarEClassificar"
   ]
  },
  {
   "cell_type": "markdown",
   "metadata": {},
   "source": [
    "### TREINO"
   ]
  },
  {
   "cell_type": "code",
   "execution_count": 3,
   "metadata": {
    "scrolled": false
   },
   "outputs": [
    {
     "name": "stdout",
     "output_type": "stream",
     "text": [
      "Começando o treinamento dos classificadores\n",
      "Instanciando o 1º objeto da classe SGDClassifier()\n",
      "Instanciando o 2º objeto da classe SGDClassifier()\n",
      "Instanciando o 3º objeto da classe SGDClassifier()\n",
      "Instanciando o 4º objeto da classe SGDClassifier()\n",
      "Instanciando o 5º objeto da classe SGDClassifier()\n",
      "Instanciando o 6º objeto da classe SGDClassifier()\n",
      "Instanciando o 7º objeto da classe SGDClassifier()\n",
      "Instanciando o 8º objeto da classe SGDClassifier()\n",
      "Instanciando o 9º objeto da classe SGDClassifier()\n",
      "Instanciando o 10º objeto da classe SGDClassifier()\n",
      "Instanciando o 1º objeto da classe BaggingClassifier()\n",
      "Instanciando o 2º objeto da classe BaggingClassifier()\n",
      "Instanciando o 3º objeto da classe BaggingClassifier()\n",
      "Instanciando o 4º objeto da classe BaggingClassifier()\n",
      "Instanciando o 5º objeto da classe BaggingClassifier()\n",
      "Instanciando o 6º objeto da classe BaggingClassifier()\n",
      "Instanciando o 7º objeto da classe BaggingClassifier()\n",
      "Instanciando o 8º objeto da classe BaggingClassifier()\n",
      "Instanciando o 9º objeto da classe BaggingClassifier()\n",
      "Instanciando o 10º objeto da classe BaggingClassifier()\n",
      "Instanciando o 1º objeto da classe KNeighborsClassifier()\n",
      "Instanciando o 2º objeto da classe KNeighborsClassifier()\n",
      "Instanciando o 3º objeto da classe KNeighborsClassifier()\n",
      "Instanciando o 4º objeto da classe KNeighborsClassifier()\n",
      "Instanciando o 5º objeto da classe KNeighborsClassifier()\n",
      "Instanciando o 6º objeto da classe KNeighborsClassifier()\n",
      "Instanciando o 7º objeto da classe KNeighborsClassifier()\n",
      "Instanciando o 8º objeto da classe KNeighborsClassifier()\n",
      "Instanciando o 9º objeto da classe KNeighborsClassifier()\n",
      "Instanciando o 10º objeto da classe KNeighborsClassifier()\n",
      "Instanciando o 1º objeto da classe LinearSVC()\n",
      "Instanciando o 2º objeto da classe LinearSVC()\n",
      "Instanciando o 3º objeto da classe LinearSVC()\n",
      "Instanciando o 4º objeto da classe LinearSVC()\n",
      "Instanciando o 5º objeto da classe LinearSVC()\n",
      "Instanciando o 6º objeto da classe LinearSVC()\n",
      "Instanciando o 7º objeto da classe LinearSVC()\n",
      "Instanciando o 8º objeto da classe LinearSVC()\n",
      "Instanciando o 9º objeto da classe LinearSVC()\n",
      "Instanciando o 10º objeto da classe LinearSVC()\n",
      "Instanciando o 1º objeto da classe Perceptron()\n",
      "Instanciando o 2º objeto da classe Perceptron()\n",
      "Instanciando o 3º objeto da classe Perceptron()\n",
      "Instanciando o 4º objeto da classe Perceptron()\n",
      "Instanciando o 5º objeto da classe Perceptron()\n",
      "Instanciando o 6º objeto da classe Perceptron()\n",
      "Instanciando o 7º objeto da classe Perceptron()\n",
      "Instanciando o 8º objeto da classe Perceptron()\n",
      "Instanciando o 9º objeto da classe Perceptron()\n",
      "Instanciando o 10º objeto da classe Perceptron()\n",
      "Tempo de treinamento do SGDClassifier (segundos): 0.4228241443634033\n",
      "Tempo de treinamento do SGDClassifier (segundos): 0.37334775924682617\n",
      "Tempo de treinamento do SGDClassifier (segundos): 0.4925704002380371\n",
      "Tempo de treinamento do SGDClassifier (segundos): 0.3469545841217041\n",
      "Tempo de treinamento do SGDClassifier (segundos): 0.3766934871673584\n",
      "Tempo de treinamento do SGDClassifier (segundos): 0.5428431034088135\n",
      "Tempo de treinamento do SGDClassifier (segundos): 0.39673638343811035\n",
      "Tempo de treinamento do SGDClassifier (segundos): 0.36339259147644043\n",
      "Tempo de treinamento do SGDClassifier (segundos): 0.48797154426574707\n",
      "Tempo de treinamento do SGDClassifier (segundos): 0.3479456901550293\n",
      "Tempo de treinamento do BaggingClassifier (segundos): 4.363466262817383\n",
      "Tempo de treinamento do BaggingClassifier (segundos): 4.3813111782073975\n",
      "Tempo de treinamento do BaggingClassifier (segundos): 4.507580518722534\n",
      "Tempo de treinamento do BaggingClassifier (segundos): 4.472537517547607\n",
      "Tempo de treinamento do BaggingClassifier (segundos): 4.208948612213135\n",
      "Tempo de treinamento do BaggingClassifier (segundos): 4.0644450187683105\n",
      "Tempo de treinamento do BaggingClassifier (segundos): 4.273367404937744\n",
      "Tempo de treinamento do BaggingClassifier (segundos): 4.161445140838623\n",
      "Tempo de treinamento do BaggingClassifier (segundos): 4.285731315612793\n",
      "Tempo de treinamento do BaggingClassifier (segundos): 4.12319016456604\n",
      "Tempo de treinamento do KNeighborsClassifier (segundos): 0.03651881217956543\n",
      "Tempo de treinamento do KNeighborsClassifier (segundos): 0.03731966018676758\n",
      "Tempo de treinamento do KNeighborsClassifier (segundos): 0.037369728088378906\n",
      "Tempo de treinamento do KNeighborsClassifier (segundos): 0.03681683540344238\n",
      "Tempo de treinamento do KNeighborsClassifier (segundos): 0.03626537322998047\n",
      "Tempo de treinamento do KNeighborsClassifier (segundos): 0.03722238540649414\n",
      "Tempo de treinamento do KNeighborsClassifier (segundos): 0.03660845756530762\n",
      "Tempo de treinamento do KNeighborsClassifier (segundos): 0.03621339797973633\n",
      "Tempo de treinamento do KNeighborsClassifier (segundos): 0.03692889213562012\n",
      "Tempo de treinamento do KNeighborsClassifier (segundos): 0.037075042724609375\n"
     ]
    },
    {
     "name": "stderr",
     "output_type": "stream",
     "text": [
      "/home/dimi/venvIC/lib/python3.7/site-packages/sklearn/svm/base.py:929: ConvergenceWarning: Liblinear failed to converge, increase the number of iterations.\n",
      "  \"the number of iterations.\", ConvergenceWarning)\n"
     ]
    },
    {
     "name": "stdout",
     "output_type": "stream",
     "text": [
      "Tempo de treinamento do LinearSVC (segundos): 2.1972978115081787\n"
     ]
    },
    {
     "name": "stderr",
     "output_type": "stream",
     "text": [
      "/home/dimi/venvIC/lib/python3.7/site-packages/sklearn/svm/base.py:929: ConvergenceWarning: Liblinear failed to converge, increase the number of iterations.\n",
      "  \"the number of iterations.\", ConvergenceWarning)\n"
     ]
    },
    {
     "name": "stdout",
     "output_type": "stream",
     "text": [
      "Tempo de treinamento do LinearSVC (segundos): 2.2065072059631348\n"
     ]
    },
    {
     "name": "stderr",
     "output_type": "stream",
     "text": [
      "/home/dimi/venvIC/lib/python3.7/site-packages/sklearn/svm/base.py:929: ConvergenceWarning: Liblinear failed to converge, increase the number of iterations.\n",
      "  \"the number of iterations.\", ConvergenceWarning)\n"
     ]
    },
    {
     "name": "stdout",
     "output_type": "stream",
     "text": [
      "Tempo de treinamento do LinearSVC (segundos): 2.0691990852355957\n"
     ]
    },
    {
     "name": "stderr",
     "output_type": "stream",
     "text": [
      "/home/dimi/venvIC/lib/python3.7/site-packages/sklearn/svm/base.py:929: ConvergenceWarning: Liblinear failed to converge, increase the number of iterations.\n",
      "  \"the number of iterations.\", ConvergenceWarning)\n"
     ]
    },
    {
     "name": "stdout",
     "output_type": "stream",
     "text": [
      "Tempo de treinamento do LinearSVC (segundos): 2.388275146484375\n"
     ]
    },
    {
     "name": "stderr",
     "output_type": "stream",
     "text": [
      "/home/dimi/venvIC/lib/python3.7/site-packages/sklearn/svm/base.py:929: ConvergenceWarning: Liblinear failed to converge, increase the number of iterations.\n",
      "  \"the number of iterations.\", ConvergenceWarning)\n"
     ]
    },
    {
     "name": "stdout",
     "output_type": "stream",
     "text": [
      "Tempo de treinamento do LinearSVC (segundos): 2.209523916244507\n"
     ]
    },
    {
     "name": "stderr",
     "output_type": "stream",
     "text": [
      "/home/dimi/venvIC/lib/python3.7/site-packages/sklearn/svm/base.py:929: ConvergenceWarning: Liblinear failed to converge, increase the number of iterations.\n",
      "  \"the number of iterations.\", ConvergenceWarning)\n"
     ]
    },
    {
     "name": "stdout",
     "output_type": "stream",
     "text": [
      "Tempo de treinamento do LinearSVC (segundos): 2.1543352603912354\n"
     ]
    },
    {
     "name": "stderr",
     "output_type": "stream",
     "text": [
      "/home/dimi/venvIC/lib/python3.7/site-packages/sklearn/svm/base.py:929: ConvergenceWarning: Liblinear failed to converge, increase the number of iterations.\n",
      "  \"the number of iterations.\", ConvergenceWarning)\n"
     ]
    },
    {
     "name": "stdout",
     "output_type": "stream",
     "text": [
      "Tempo de treinamento do LinearSVC (segundos): 2.428277015686035\n"
     ]
    },
    {
     "name": "stderr",
     "output_type": "stream",
     "text": [
      "/home/dimi/venvIC/lib/python3.7/site-packages/sklearn/svm/base.py:929: ConvergenceWarning: Liblinear failed to converge, increase the number of iterations.\n",
      "  \"the number of iterations.\", ConvergenceWarning)\n"
     ]
    },
    {
     "name": "stdout",
     "output_type": "stream",
     "text": [
      "Tempo de treinamento do LinearSVC (segundos): 2.1192679405212402\n"
     ]
    },
    {
     "name": "stderr",
     "output_type": "stream",
     "text": [
      "/home/dimi/venvIC/lib/python3.7/site-packages/sklearn/svm/base.py:929: ConvergenceWarning: Liblinear failed to converge, increase the number of iterations.\n",
      "  \"the number of iterations.\", ConvergenceWarning)\n"
     ]
    },
    {
     "name": "stdout",
     "output_type": "stream",
     "text": [
      "Tempo de treinamento do LinearSVC (segundos): 2.170166492462158\n"
     ]
    },
    {
     "name": "stderr",
     "output_type": "stream",
     "text": [
      "/home/dimi/venvIC/lib/python3.7/site-packages/sklearn/svm/base.py:929: ConvergenceWarning: Liblinear failed to converge, increase the number of iterations.\n",
      "  \"the number of iterations.\", ConvergenceWarning)\n"
     ]
    },
    {
     "name": "stdout",
     "output_type": "stream",
     "text": [
      "Tempo de treinamento do LinearSVC (segundos): 2.2262892723083496\n",
      "Tempo de treinamento do Perceptron (segundos): 0.07679104804992676\n",
      "Tempo de treinamento do Perceptron (segundos): 0.07412838935852051\n",
      "Tempo de treinamento do Perceptron (segundos): 0.06972861289978027\n",
      "Tempo de treinamento do Perceptron (segundos): 0.07403254508972168\n",
      "Tempo de treinamento do Perceptron (segundos): 0.08675575256347656\n",
      "Tempo de treinamento do Perceptron (segundos): 0.07441592216491699\n",
      "Tempo de treinamento do Perceptron (segundos): 0.07355403900146484\n",
      "Tempo de treinamento do Perceptron (segundos): 0.0639805793762207\n",
      "Tempo de treinamento do Perceptron (segundos): 0.06506848335266113\n",
      "Tempo de treinamento do Perceptron (segundos): 0.07088637351989746\n",
      "Classificadores treinados\n"
     ]
    }
   ],
   "source": [
    "objTreinarEClassificar = TreinarEClassificar()\n",
    "\n",
    "# ABRINDO O CSV DE TREINO COM PANDAS\n",
    "caminhoCSVTreino = '/home/dimi/Programming/IC2019/ML/datasets/SESA/SESA_Normalizado/train/treino_normalizado_semPCA.csv'\n",
    "dataframeTreino = pd.read_csv(caminhoCSVTreino) \n",
    "\n",
    "# CRIANDO E TREINANDO OS CLASIFICADORES\n",
    "arrayStringsClassificadores = [\"SGDClassifier()\",\"BaggingClassifier()\",\"KNeighborsClassifier()\", \"LinearSVC()\", \"Perceptron()\"]\n",
    "#arrayStringsClassificadores = [\"KNeighborsClassifier()\"]\n",
    "arrayObjClassificadores = objTreinarEClassificar.criarETreinarClassificadores(dataframeTreino, arrayStringsClassificadores, kCrossValidation=10, percentual=0.75, verbose=True)"
   ]
  },
  {
   "cell_type": "markdown",
   "metadata": {},
   "source": [
    "### TESTES"
   ]
  },
  {
   "cell_type": "code",
   "execution_count": 25,
   "metadata": {},
   "outputs": [
    {
     "name": "stdout",
     "output_type": "stream",
     "text": [
      "Classificando com o  SGDClassifier\n",
      "Salvando as informações num JSON: relatorio_teste_semBeamforming_SNR_-7dB_semPCA_1582137986.442234.json\n",
      "Classificando com o  SGDClassifier\n"
     ]
    },
    {
     "name": "stderr",
     "output_type": "stream",
     "text": [
      "/home/dimi/venvIC/lib/python3.7/site-packages/sklearn/metrics/classification.py:1437: UndefinedMetricWarning: Precision and F-score are ill-defined and being set to 0.0 in labels with no predicted samples.\n",
      "  'precision', 'predicted', average, warn_for)\n"
     ]
    },
    {
     "name": "stdout",
     "output_type": "stream",
     "text": [
      "Salvando as informações num JSON: relatorio_teste_semBeamforming_SNR_-7dB_semPCA_1582137986.672712.json\n",
      "Classificando com o  SGDClassifier\n"
     ]
    },
    {
     "name": "stderr",
     "output_type": "stream",
     "text": [
      "/home/dimi/venvIC/lib/python3.7/site-packages/sklearn/metrics/classification.py:1437: UndefinedMetricWarning: Precision and F-score are ill-defined and being set to 0.0 in labels with no predicted samples.\n",
      "  'precision', 'predicted', average, warn_for)\n"
     ]
    },
    {
     "name": "stdout",
     "output_type": "stream",
     "text": [
      "Salvando as informações num JSON: relatorio_teste_semBeamforming_SNR_-7dB_semPCA_1582137986.8806312.json\n",
      "Classificando com o  SGDClassifier\n",
      "Salvando as informações num JSON: relatorio_teste_semBeamforming_SNR_-7dB_semPCA_1582137987.1093068.json\n",
      "Classificando com o  SGDClassifier\n"
     ]
    },
    {
     "name": "stderr",
     "output_type": "stream",
     "text": [
      "/home/dimi/venvIC/lib/python3.7/site-packages/sklearn/metrics/classification.py:1437: UndefinedMetricWarning: Precision and F-score are ill-defined and being set to 0.0 in labels with no predicted samples.\n",
      "  'precision', 'predicted', average, warn_for)\n"
     ]
    },
    {
     "name": "stdout",
     "output_type": "stream",
     "text": [
      "Salvando as informações num JSON: relatorio_teste_semBeamforming_SNR_-7dB_semPCA_1582137987.3265996.json\n",
      "Classificando com o  SGDClassifier\n"
     ]
    },
    {
     "name": "stderr",
     "output_type": "stream",
     "text": [
      "/home/dimi/venvIC/lib/python3.7/site-packages/sklearn/metrics/classification.py:1437: UndefinedMetricWarning: Precision and F-score are ill-defined and being set to 0.0 in labels with no predicted samples.\n",
      "  'precision', 'predicted', average, warn_for)\n"
     ]
    },
    {
     "name": "stdout",
     "output_type": "stream",
     "text": [
      "Salvando as informações num JSON: relatorio_teste_semBeamforming_SNR_-7dB_semPCA_1582137987.5423906.json\n",
      "Classificando com o  SGDClassifier\n"
     ]
    },
    {
     "name": "stderr",
     "output_type": "stream",
     "text": [
      "/home/dimi/venvIC/lib/python3.7/site-packages/sklearn/metrics/classification.py:1437: UndefinedMetricWarning: Precision and F-score are ill-defined and being set to 0.0 in labels with no predicted samples.\n",
      "  'precision', 'predicted', average, warn_for)\n"
     ]
    },
    {
     "name": "stdout",
     "output_type": "stream",
     "text": [
      "Salvando as informações num JSON: relatorio_teste_semBeamforming_SNR_-7dB_semPCA_1582137987.7705193.json\n",
      "Classificando com o  SGDClassifier\n"
     ]
    },
    {
     "name": "stderr",
     "output_type": "stream",
     "text": [
      "/home/dimi/venvIC/lib/python3.7/site-packages/sklearn/metrics/classification.py:1437: UndefinedMetricWarning: Precision and F-score are ill-defined and being set to 0.0 in labels with no predicted samples.\n",
      "  'precision', 'predicted', average, warn_for)\n"
     ]
    },
    {
     "name": "stdout",
     "output_type": "stream",
     "text": [
      "Salvando as informações num JSON: relatorio_teste_semBeamforming_SNR_-7dB_semPCA_1582137987.9807427.json\n",
      "Classificando com o  SGDClassifier\n"
     ]
    },
    {
     "name": "stderr",
     "output_type": "stream",
     "text": [
      "/home/dimi/venvIC/lib/python3.7/site-packages/sklearn/metrics/classification.py:1437: UndefinedMetricWarning: Precision and F-score are ill-defined and being set to 0.0 in labels with no predicted samples.\n",
      "  'precision', 'predicted', average, warn_for)\n"
     ]
    },
    {
     "name": "stdout",
     "output_type": "stream",
     "text": [
      "Salvando as informações num JSON: relatorio_teste_semBeamforming_SNR_-7dB_semPCA_1582137988.1915843.json\n",
      "Classificando com o  SGDClassifier\n"
     ]
    },
    {
     "name": "stderr",
     "output_type": "stream",
     "text": [
      "/home/dimi/venvIC/lib/python3.7/site-packages/sklearn/metrics/classification.py:1437: UndefinedMetricWarning: Precision and F-score are ill-defined and being set to 0.0 in labels with no predicted samples.\n",
      "  'precision', 'predicted', average, warn_for)\n"
     ]
    },
    {
     "name": "stdout",
     "output_type": "stream",
     "text": [
      "Salvando as informações num JSON: relatorio_teste_semBeamforming_SNR_-7dB_semPCA_1582137988.40642.json\n",
      "Classificando com o  BaggingClassifier\n",
      "Salvando as informações num JSON: relatorio_teste_semBeamforming_SNR_-7dB_semPCA_1582137988.7562616.json\n",
      "Classificando com o  BaggingClassifier\n",
      "Salvando as informações num JSON: relatorio_teste_semBeamforming_SNR_-7dB_semPCA_1582137989.0908802.json\n",
      "Classificando com o  BaggingClassifier\n",
      "Salvando as informações num JSON: relatorio_teste_semBeamforming_SNR_-7dB_semPCA_1582137989.4138172.json\n",
      "Classificando com o  BaggingClassifier\n"
     ]
    },
    {
     "name": "stderr",
     "output_type": "stream",
     "text": [
      "/home/dimi/venvIC/lib/python3.7/site-packages/sklearn/metrics/classification.py:1437: UndefinedMetricWarning: Precision and F-score are ill-defined and being set to 0.0 in labels with no predicted samples.\n",
      "  'precision', 'predicted', average, warn_for)\n"
     ]
    },
    {
     "name": "stdout",
     "output_type": "stream",
     "text": [
      "Salvando as informações num JSON: relatorio_teste_semBeamforming_SNR_-7dB_semPCA_1582137989.7364256.json\n",
      "Classificando com o  BaggingClassifier\n",
      "Salvando as informações num JSON: relatorio_teste_semBeamforming_SNR_-7dB_semPCA_1582137990.0624425.json\n",
      "Classificando com o  BaggingClassifier\n",
      "Salvando as informações num JSON: relatorio_teste_semBeamforming_SNR_-7dB_semPCA_1582137990.3850439.json\n",
      "Classificando com o  BaggingClassifier\n",
      "Salvando as informações num JSON: relatorio_teste_semBeamforming_SNR_-7dB_semPCA_1582137990.707446.json\n",
      "Classificando com o  BaggingClassifier\n",
      "Salvando as informações num JSON: relatorio_teste_semBeamforming_SNR_-7dB_semPCA_1582137991.033936.json\n",
      "Classificando com o  BaggingClassifier\n",
      "Salvando as informações num JSON: relatorio_teste_semBeamforming_SNR_-7dB_semPCA_1582137991.36191.json\n",
      "Classificando com o  BaggingClassifier\n",
      "Salvando as informações num JSON: relatorio_teste_semBeamforming_SNR_-7dB_semPCA_1582137991.6912925.json\n",
      "Classificando com o  KNeighborsClassifier\n",
      "Salvando as informações num JSON: relatorio_teste_semBeamforming_SNR_-7dB_semPCA_1582137993.6389353.json\n",
      "Classificando com o  KNeighborsClassifier\n",
      "Salvando as informações num JSON: relatorio_teste_semBeamforming_SNR_-7dB_semPCA_1582137995.5843523.json\n",
      "Classificando com o  KNeighborsClassifier\n",
      "Salvando as informações num JSON: relatorio_teste_semBeamforming_SNR_-7dB_semPCA_1582137997.5597637.json\n",
      "Classificando com o  KNeighborsClassifier\n",
      "Salvando as informações num JSON: relatorio_teste_semBeamforming_SNR_-7dB_semPCA_1582137999.4747765.json\n",
      "Classificando com o  KNeighborsClassifier\n",
      "Salvando as informações num JSON: relatorio_teste_semBeamforming_SNR_-7dB_semPCA_1582138001.3559368.json\n",
      "Classificando com o  KNeighborsClassifier\n",
      "Salvando as informações num JSON: relatorio_teste_semBeamforming_SNR_-7dB_semPCA_1582138003.3935933.json\n",
      "Classificando com o  KNeighborsClassifier\n",
      "Salvando as informações num JSON: relatorio_teste_semBeamforming_SNR_-7dB_semPCA_1582138005.239086.json\n",
      "Classificando com o  KNeighborsClassifier\n",
      "Salvando as informações num JSON: relatorio_teste_semBeamforming_SNR_-7dB_semPCA_1582138007.1700144.json\n",
      "Classificando com o  KNeighborsClassifier\n",
      "Salvando as informações num JSON: relatorio_teste_semBeamforming_SNR_-7dB_semPCA_1582138009.108887.json\n",
      "Classificando com o  KNeighborsClassifier\n",
      "Salvando as informações num JSON: relatorio_teste_semBeamforming_SNR_-7dB_semPCA_1582138010.9951994.json\n",
      "Classificando com o  LinearSVC\n",
      "Salvando as informações num JSON: relatorio_teste_semBeamforming_SNR_-7dB_semPCA_1582138011.2268922.json\n",
      "Classificando com o  LinearSVC\n",
      "Salvando as informações num JSON: relatorio_teste_semBeamforming_SNR_-7dB_semPCA_1582138011.4695697.json\n",
      "Classificando com o  LinearSVC\n",
      "Salvando as informações num JSON: relatorio_teste_semBeamforming_SNR_-7dB_semPCA_1582138011.728171.json\n",
      "Classificando com o  LinearSVC\n",
      "Salvando as informações num JSON: relatorio_teste_semBeamforming_SNR_-7dB_semPCA_1582138011.9690614.json\n",
      "Classificando com o  LinearSVC\n",
      "Salvando as informações num JSON: relatorio_teste_semBeamforming_SNR_-7dB_semPCA_1582138012.2038803.json\n",
      "Classificando com o  LinearSVC\n",
      "Salvando as informações num JSON: relatorio_teste_semBeamforming_SNR_-7dB_semPCA_1582138012.4300475.json\n",
      "Classificando com o  LinearSVC\n",
      "Salvando as informações num JSON: relatorio_teste_semBeamforming_SNR_-7dB_semPCA_1582138012.6494434.json\n",
      "Classificando com o  LinearSVC\n",
      "Salvando as informações num JSON: relatorio_teste_semBeamforming_SNR_-7dB_semPCA_1582138012.8813217.json\n",
      "Classificando com o  LinearSVC\n",
      "Salvando as informações num JSON: relatorio_teste_semBeamforming_SNR_-7dB_semPCA_1582138013.105004.json\n",
      "Classificando com o  LinearSVC\n",
      "Salvando as informações num JSON: relatorio_teste_semBeamforming_SNR_-7dB_semPCA_1582138013.332137.json\n",
      "Classificando com o  Perceptron\n",
      "Salvando as informações num JSON: relatorio_teste_semBeamforming_SNR_-7dB_semPCA_1582138013.5597403.json\n",
      "Classificando com o  Perceptron\n",
      "Salvando as informações num JSON: relatorio_teste_semBeamforming_SNR_-7dB_semPCA_1582138013.7758696.json\n",
      "Classificando com o  Perceptron\n",
      "Salvando as informações num JSON: relatorio_teste_semBeamforming_SNR_-7dB_semPCA_1582138013.9955404.json\n",
      "Classificando com o  Perceptron\n",
      "Salvando as informações num JSON: relatorio_teste_semBeamforming_SNR_-7dB_semPCA_1582138014.2167966.json\n",
      "Classificando com o  Perceptron\n",
      "Salvando as informações num JSON: relatorio_teste_semBeamforming_SNR_-7dB_semPCA_1582138014.4459186.json\n",
      "Classificando com o  Perceptron\n",
      "Salvando as informações num JSON: relatorio_teste_semBeamforming_SNR_-7dB_semPCA_1582138014.684295.json\n",
      "Classificando com o  Perceptron\n",
      "Salvando as informações num JSON: relatorio_teste_semBeamforming_SNR_-7dB_semPCA_1582138014.908666.json\n",
      "Classificando com o  Perceptron\n",
      "Salvando as informações num JSON: relatorio_teste_semBeamforming_SNR_-7dB_semPCA_1582138015.1340451.json\n",
      "Classificando com o  Perceptron\n"
     ]
    },
    {
     "name": "stderr",
     "output_type": "stream",
     "text": [
      "/home/dimi/venvIC/lib/python3.7/site-packages/sklearn/metrics/classification.py:1437: UndefinedMetricWarning: Precision and F-score are ill-defined and being set to 0.0 in labels with no predicted samples.\n",
      "  'precision', 'predicted', average, warn_for)\n"
     ]
    },
    {
     "name": "stdout",
     "output_type": "stream",
     "text": [
      "Salvando as informações num JSON: relatorio_teste_semBeamforming_SNR_-7dB_semPCA_1582138015.3529506.json\n",
      "Classificando com o  Perceptron\n",
      "Salvando as informações num JSON: relatorio_teste_semBeamforming_SNR_-7dB_semPCA_1582138015.5872033.json\n",
      "O teste com todos os classificadores foi finalizado\n",
      "Classificando com o  SGDClassifier\n",
      "Salvando as informações num JSON: relatorio_teste_beamforming_SNR_-7dB_semPCA_1582138015.8880694.json\n",
      "Classificando com o  SGDClassifier\n"
     ]
    },
    {
     "name": "stderr",
     "output_type": "stream",
     "text": [
      "/home/dimi/venvIC/lib/python3.7/site-packages/sklearn/metrics/classification.py:1437: UndefinedMetricWarning: Precision and F-score are ill-defined and being set to 0.0 in labels with no predicted samples.\n",
      "  'precision', 'predicted', average, warn_for)\n"
     ]
    },
    {
     "name": "stdout",
     "output_type": "stream",
     "text": [
      "Salvando as informações num JSON: relatorio_teste_beamforming_SNR_-7dB_semPCA_1582138016.1396787.json\n",
      "Classificando com o  SGDClassifier\n"
     ]
    },
    {
     "name": "stderr",
     "output_type": "stream",
     "text": [
      "/home/dimi/venvIC/lib/python3.7/site-packages/sklearn/metrics/classification.py:1437: UndefinedMetricWarning: Precision and F-score are ill-defined and being set to 0.0 in labels with no predicted samples.\n",
      "  'precision', 'predicted', average, warn_for)\n"
     ]
    },
    {
     "name": "stdout",
     "output_type": "stream",
     "text": [
      "Salvando as informações num JSON: relatorio_teste_beamforming_SNR_-7dB_semPCA_1582138016.359957.json\n",
      "Classificando com o  SGDClassifier\n",
      "Salvando as informações num JSON: relatorio_teste_beamforming_SNR_-7dB_semPCA_1582138016.599243.json\n",
      "Classificando com o  SGDClassifier\n"
     ]
    },
    {
     "name": "stderr",
     "output_type": "stream",
     "text": [
      "/home/dimi/venvIC/lib/python3.7/site-packages/sklearn/metrics/classification.py:1437: UndefinedMetricWarning: Precision and F-score are ill-defined and being set to 0.0 in labels with no predicted samples.\n",
      "  'precision', 'predicted', average, warn_for)\n"
     ]
    },
    {
     "name": "stdout",
     "output_type": "stream",
     "text": [
      "Salvando as informações num JSON: relatorio_teste_beamforming_SNR_-7dB_semPCA_1582138016.8278646.json\n",
      "Classificando com o  SGDClassifier\n"
     ]
    },
    {
     "name": "stderr",
     "output_type": "stream",
     "text": [
      "/home/dimi/venvIC/lib/python3.7/site-packages/sklearn/metrics/classification.py:1437: UndefinedMetricWarning: Precision and F-score are ill-defined and being set to 0.0 in labels with no predicted samples.\n",
      "  'precision', 'predicted', average, warn_for)\n"
     ]
    },
    {
     "name": "stdout",
     "output_type": "stream",
     "text": [
      "Salvando as informações num JSON: relatorio_teste_beamforming_SNR_-7dB_semPCA_1582138017.0831969.json\n",
      "Classificando com o  SGDClassifier\n"
     ]
    },
    {
     "name": "stderr",
     "output_type": "stream",
     "text": [
      "/home/dimi/venvIC/lib/python3.7/site-packages/sklearn/metrics/classification.py:1437: UndefinedMetricWarning: Precision and F-score are ill-defined and being set to 0.0 in labels with no predicted samples.\n",
      "  'precision', 'predicted', average, warn_for)\n"
     ]
    },
    {
     "name": "stdout",
     "output_type": "stream",
     "text": [
      "Salvando as informações num JSON: relatorio_teste_beamforming_SNR_-7dB_semPCA_1582138017.3285367.json\n",
      "Classificando com o  SGDClassifier\n"
     ]
    },
    {
     "name": "stderr",
     "output_type": "stream",
     "text": [
      "/home/dimi/venvIC/lib/python3.7/site-packages/sklearn/metrics/classification.py:1437: UndefinedMetricWarning: Precision and F-score are ill-defined and being set to 0.0 in labels with no predicted samples.\n",
      "  'precision', 'predicted', average, warn_for)\n"
     ]
    },
    {
     "name": "stdout",
     "output_type": "stream",
     "text": [
      "Salvando as informações num JSON: relatorio_teste_beamforming_SNR_-7dB_semPCA_1582138017.5551016.json\n",
      "Classificando com o  SGDClassifier\n"
     ]
    },
    {
     "name": "stderr",
     "output_type": "stream",
     "text": [
      "/home/dimi/venvIC/lib/python3.7/site-packages/sklearn/metrics/classification.py:1437: UndefinedMetricWarning: Precision and F-score are ill-defined and being set to 0.0 in labels with no predicted samples.\n",
      "  'precision', 'predicted', average, warn_for)\n"
     ]
    },
    {
     "name": "stdout",
     "output_type": "stream",
     "text": [
      "Salvando as informações num JSON: relatorio_teste_beamforming_SNR_-7dB_semPCA_1582138017.8068528.json\n",
      "Classificando com o  SGDClassifier\n"
     ]
    },
    {
     "name": "stderr",
     "output_type": "stream",
     "text": [
      "/home/dimi/venvIC/lib/python3.7/site-packages/sklearn/metrics/classification.py:1437: UndefinedMetricWarning: Precision and F-score are ill-defined and being set to 0.0 in labels with no predicted samples.\n",
      "  'precision', 'predicted', average, warn_for)\n"
     ]
    },
    {
     "name": "stdout",
     "output_type": "stream",
     "text": [
      "Salvando as informações num JSON: relatorio_teste_beamforming_SNR_-7dB_semPCA_1582138018.0683064.json\n",
      "Classificando com o  BaggingClassifier\n",
      "Salvando as informações num JSON: relatorio_teste_beamforming_SNR_-7dB_semPCA_1582138018.4751356.json\n",
      "Classificando com o  BaggingClassifier\n",
      "Salvando as informações num JSON: relatorio_teste_beamforming_SNR_-7dB_semPCA_1582138018.8762245.json\n",
      "Classificando com o  BaggingClassifier\n",
      "Salvando as informações num JSON: relatorio_teste_beamforming_SNR_-7dB_semPCA_1582138019.221322.json\n",
      "Classificando com o  BaggingClassifier\n"
     ]
    },
    {
     "name": "stderr",
     "output_type": "stream",
     "text": [
      "/home/dimi/venvIC/lib/python3.7/site-packages/sklearn/metrics/classification.py:1437: UndefinedMetricWarning: Precision and F-score are ill-defined and being set to 0.0 in labels with no predicted samples.\n",
      "  'precision', 'predicted', average, warn_for)\n"
     ]
    },
    {
     "name": "stdout",
     "output_type": "stream",
     "text": [
      "Salvando as informações num JSON: relatorio_teste_beamforming_SNR_-7dB_semPCA_1582138019.575626.json\n",
      "Classificando com o  BaggingClassifier\n",
      "Salvando as informações num JSON: relatorio_teste_beamforming_SNR_-7dB_semPCA_1582138019.9738548.json\n",
      "Classificando com o  BaggingClassifier\n",
      "Salvando as informações num JSON: relatorio_teste_beamforming_SNR_-7dB_semPCA_1582138020.3203373.json\n",
      "Classificando com o  BaggingClassifier\n",
      "Salvando as informações num JSON: relatorio_teste_beamforming_SNR_-7dB_semPCA_1582138020.6813607.json\n",
      "Classificando com o  BaggingClassifier\n",
      "Salvando as informações num JSON: relatorio_teste_beamforming_SNR_-7dB_semPCA_1582138021.029146.json\n",
      "Classificando com o  BaggingClassifier\n",
      "Salvando as informações num JSON: relatorio_teste_beamforming_SNR_-7dB_semPCA_1582138021.4037256.json\n",
      "Classificando com o  BaggingClassifier\n",
      "Salvando as informações num JSON: relatorio_teste_beamforming_SNR_-7dB_semPCA_1582138021.7310808.json\n",
      "Classificando com o  KNeighborsClassifier\n",
      "Salvando as informações num JSON: relatorio_teste_beamforming_SNR_-7dB_semPCA_1582138023.7507246.json\n",
      "Classificando com o  KNeighborsClassifier\n",
      "Salvando as informações num JSON: relatorio_teste_beamforming_SNR_-7dB_semPCA_1582138025.8189209.json\n",
      "Classificando com o  KNeighborsClassifier\n",
      "Salvando as informações num JSON: relatorio_teste_beamforming_SNR_-7dB_semPCA_1582138027.945011.json\n",
      "Classificando com o  KNeighborsClassifier\n",
      "Salvando as informações num JSON: relatorio_teste_beamforming_SNR_-7dB_semPCA_1582138030.0530522.json\n",
      "Classificando com o  KNeighborsClassifier\n",
      "Salvando as informações num JSON: relatorio_teste_beamforming_SNR_-7dB_semPCA_1582138032.0546927.json\n",
      "Classificando com o  KNeighborsClassifier\n",
      "Salvando as informações num JSON: relatorio_teste_beamforming_SNR_-7dB_semPCA_1582138034.11477.json\n",
      "Classificando com o  KNeighborsClassifier\n",
      "Salvando as informações num JSON: relatorio_teste_beamforming_SNR_-7dB_semPCA_1582138036.0645971.json\n",
      "Classificando com o  KNeighborsClassifier\n",
      "Salvando as informações num JSON: relatorio_teste_beamforming_SNR_-7dB_semPCA_1582138038.1077025.json\n",
      "Classificando com o  KNeighborsClassifier\n",
      "Salvando as informações num JSON: relatorio_teste_beamforming_SNR_-7dB_semPCA_1582138040.0673823.json\n",
      "Classificando com o  KNeighborsClassifier\n",
      "Salvando as informações num JSON: relatorio_teste_beamforming_SNR_-7dB_semPCA_1582138041.9633348.json\n",
      "Classificando com o  LinearSVC\n",
      "Salvando as informações num JSON: relatorio_teste_beamforming_SNR_-7dB_semPCA_1582138042.172651.json\n",
      "Classificando com o  LinearSVC\n",
      "Salvando as informações num JSON: relatorio_teste_beamforming_SNR_-7dB_semPCA_1582138042.3835433.json\n",
      "Classificando com o  LinearSVC\n",
      "Salvando as informações num JSON: relatorio_teste_beamforming_SNR_-7dB_semPCA_1582138042.593312.json\n",
      "Classificando com o  LinearSVC\n",
      "Salvando as informações num JSON: relatorio_teste_beamforming_SNR_-7dB_semPCA_1582138042.8057964.json\n",
      "Classificando com o  LinearSVC\n",
      "Salvando as informações num JSON: relatorio_teste_beamforming_SNR_-7dB_semPCA_1582138043.0305452.json\n",
      "Classificando com o  LinearSVC\n",
      "Salvando as informações num JSON: relatorio_teste_beamforming_SNR_-7dB_semPCA_1582138043.2548327.json\n",
      "Classificando com o  LinearSVC\n",
      "Salvando as informações num JSON: relatorio_teste_beamforming_SNR_-7dB_semPCA_1582138043.4749599.json\n",
      "Classificando com o  LinearSVC\n",
      "Salvando as informações num JSON: relatorio_teste_beamforming_SNR_-7dB_semPCA_1582138043.6970716.json\n",
      "Classificando com o  LinearSVC\n",
      "Salvando as informações num JSON: relatorio_teste_beamforming_SNR_-7dB_semPCA_1582138043.9100904.json\n",
      "Classificando com o  LinearSVC\n",
      "Salvando as informações num JSON: relatorio_teste_beamforming_SNR_-7dB_semPCA_1582138044.1533875.json\n",
      "Classificando com o  Perceptron\n",
      "Salvando as informações num JSON: relatorio_teste_beamforming_SNR_-7dB_semPCA_1582138044.3622954.json\n",
      "Classificando com o  Perceptron\n",
      "Salvando as informações num JSON: relatorio_teste_beamforming_SNR_-7dB_semPCA_1582138044.5766084.json\n",
      "Classificando com o  Perceptron\n",
      "Salvando as informações num JSON: relatorio_teste_beamforming_SNR_-7dB_semPCA_1582138044.7903235.json\n",
      "Classificando com o  Perceptron\n",
      "Salvando as informações num JSON: relatorio_teste_beamforming_SNR_-7dB_semPCA_1582138045.0109713.json\n",
      "Classificando com o  Perceptron\n",
      "Salvando as informações num JSON: relatorio_teste_beamforming_SNR_-7dB_semPCA_1582138045.2221417.json\n",
      "Classificando com o  Perceptron\n",
      "Salvando as informações num JSON: relatorio_teste_beamforming_SNR_-7dB_semPCA_1582138045.4313269.json\n",
      "Classificando com o  Perceptron\n",
      "Salvando as informações num JSON: relatorio_teste_beamforming_SNR_-7dB_semPCA_1582138045.6415956.json\n",
      "Classificando com o  Perceptron\n",
      "Salvando as informações num JSON: relatorio_teste_beamforming_SNR_-7dB_semPCA_1582138045.8495018.json\n",
      "Classificando com o  Perceptron\n"
     ]
    },
    {
     "name": "stderr",
     "output_type": "stream",
     "text": [
      "/home/dimi/venvIC/lib/python3.7/site-packages/sklearn/metrics/classification.py:1437: UndefinedMetricWarning: Precision and F-score are ill-defined and being set to 0.0 in labels with no predicted samples.\n",
      "  'precision', 'predicted', average, warn_for)\n"
     ]
    },
    {
     "name": "stdout",
     "output_type": "stream",
     "text": [
      "Salvando as informações num JSON: relatorio_teste_beamforming_SNR_-7dB_semPCA_1582138046.063508.json\n",
      "Classificando com o  Perceptron\n",
      "Salvando as informações num JSON: relatorio_teste_beamforming_SNR_-7dB_semPCA_1582138046.275291.json\n",
      "O teste com todos os classificadores foi finalizado\n",
      "Classificando com o  SGDClassifier\n",
      "Salvando as informações num JSON: relatorio_teste_GSC_SNR_-7dB_semPCA_1582138046.5572362.json\n",
      "Classificando com o  SGDClassifier\n",
      "Salvando as informações num JSON: relatorio_teste_GSC_SNR_-7dB_semPCA_1582138046.7650206.json\n",
      "Classificando com o  SGDClassifier\n"
     ]
    },
    {
     "name": "stderr",
     "output_type": "stream",
     "text": [
      "/home/dimi/venvIC/lib/python3.7/site-packages/sklearn/metrics/classification.py:1437: UndefinedMetricWarning: Precision and F-score are ill-defined and being set to 0.0 in labels with no predicted samples.\n",
      "  'precision', 'predicted', average, warn_for)\n"
     ]
    },
    {
     "name": "stdout",
     "output_type": "stream",
     "text": [
      "Salvando as informações num JSON: relatorio_teste_GSC_SNR_-7dB_semPCA_1582138046.990877.json\n",
      "Classificando com o  SGDClassifier\n"
     ]
    },
    {
     "name": "stderr",
     "output_type": "stream",
     "text": [
      "/home/dimi/venvIC/lib/python3.7/site-packages/sklearn/metrics/classification.py:1437: UndefinedMetricWarning: Precision and F-score are ill-defined and being set to 0.0 in labels with no predicted samples.\n",
      "  'precision', 'predicted', average, warn_for)\n"
     ]
    },
    {
     "name": "stdout",
     "output_type": "stream",
     "text": [
      "Salvando as informações num JSON: relatorio_teste_GSC_SNR_-7dB_semPCA_1582138047.2176807.json\n",
      "Classificando com o  SGDClassifier\n"
     ]
    },
    {
     "name": "stderr",
     "output_type": "stream",
     "text": [
      "/home/dimi/venvIC/lib/python3.7/site-packages/sklearn/metrics/classification.py:1437: UndefinedMetricWarning: Precision and F-score are ill-defined and being set to 0.0 in labels with no predicted samples.\n",
      "  'precision', 'predicted', average, warn_for)\n"
     ]
    },
    {
     "name": "stdout",
     "output_type": "stream",
     "text": [
      "Salvando as informações num JSON: relatorio_teste_GSC_SNR_-7dB_semPCA_1582138047.4354393.json\n",
      "Classificando com o  SGDClassifier\n"
     ]
    },
    {
     "name": "stderr",
     "output_type": "stream",
     "text": [
      "/home/dimi/venvIC/lib/python3.7/site-packages/sklearn/metrics/classification.py:1437: UndefinedMetricWarning: Precision and F-score are ill-defined and being set to 0.0 in labels with no predicted samples.\n",
      "  'precision', 'predicted', average, warn_for)\n"
     ]
    },
    {
     "name": "stdout",
     "output_type": "stream",
     "text": [
      "Salvando as informações num JSON: relatorio_teste_GSC_SNR_-7dB_semPCA_1582138047.6515455.json\n",
      "Classificando com o  SGDClassifier\n"
     ]
    },
    {
     "name": "stderr",
     "output_type": "stream",
     "text": [
      "/home/dimi/venvIC/lib/python3.7/site-packages/sklearn/metrics/classification.py:1437: UndefinedMetricWarning: Precision and F-score are ill-defined and being set to 0.0 in labels with no predicted samples.\n",
      "  'precision', 'predicted', average, warn_for)\n"
     ]
    },
    {
     "name": "stdout",
     "output_type": "stream",
     "text": [
      "Salvando as informações num JSON: relatorio_teste_GSC_SNR_-7dB_semPCA_1582138047.871181.json\n",
      "Classificando com o  SGDClassifier\n"
     ]
    },
    {
     "name": "stderr",
     "output_type": "stream",
     "text": [
      "/home/dimi/venvIC/lib/python3.7/site-packages/sklearn/metrics/classification.py:1437: UndefinedMetricWarning: Precision and F-score are ill-defined and being set to 0.0 in labels with no predicted samples.\n",
      "  'precision', 'predicted', average, warn_for)\n"
     ]
    },
    {
     "name": "stdout",
     "output_type": "stream",
     "text": [
      "Salvando as informações num JSON: relatorio_teste_GSC_SNR_-7dB_semPCA_1582138048.084886.json\n",
      "Classificando com o  SGDClassifier\n"
     ]
    },
    {
     "name": "stderr",
     "output_type": "stream",
     "text": [
      "/home/dimi/venvIC/lib/python3.7/site-packages/sklearn/metrics/classification.py:1437: UndefinedMetricWarning: Precision and F-score are ill-defined and being set to 0.0 in labels with no predicted samples.\n",
      "  'precision', 'predicted', average, warn_for)\n"
     ]
    },
    {
     "name": "stdout",
     "output_type": "stream",
     "text": [
      "Salvando as informações num JSON: relatorio_teste_GSC_SNR_-7dB_semPCA_1582138048.315782.json\n",
      "Classificando com o  SGDClassifier\n"
     ]
    },
    {
     "name": "stderr",
     "output_type": "stream",
     "text": [
      "/home/dimi/venvIC/lib/python3.7/site-packages/sklearn/metrics/classification.py:1437: UndefinedMetricWarning: Precision and F-score are ill-defined and being set to 0.0 in labels with no predicted samples.\n",
      "  'precision', 'predicted', average, warn_for)\n"
     ]
    },
    {
     "name": "stdout",
     "output_type": "stream",
     "text": [
      "Salvando as informações num JSON: relatorio_teste_GSC_SNR_-7dB_semPCA_1582138048.5315936.json\n",
      "Classificando com o  BaggingClassifier\n",
      "Salvando as informações num JSON: relatorio_teste_GSC_SNR_-7dB_semPCA_1582138048.8679423.json\n",
      "Classificando com o  BaggingClassifier\n",
      "Salvando as informações num JSON: relatorio_teste_GSC_SNR_-7dB_semPCA_1582138049.190454.json\n",
      "Classificando com o  BaggingClassifier\n"
     ]
    },
    {
     "name": "stderr",
     "output_type": "stream",
     "text": [
      "/home/dimi/venvIC/lib/python3.7/site-packages/sklearn/metrics/classification.py:1437: UndefinedMetricWarning: Precision and F-score are ill-defined and being set to 0.0 in labels with no predicted samples.\n",
      "  'precision', 'predicted', average, warn_for)\n"
     ]
    },
    {
     "name": "stdout",
     "output_type": "stream",
     "text": [
      "Salvando as informações num JSON: relatorio_teste_GSC_SNR_-7dB_semPCA_1582138049.517145.json\n",
      "Classificando com o  BaggingClassifier\n",
      "Salvando as informações num JSON: relatorio_teste_GSC_SNR_-7dB_semPCA_1582138049.8438745.json\n",
      "Classificando com o  BaggingClassifier\n",
      "Salvando as informações num JSON: relatorio_teste_GSC_SNR_-7dB_semPCA_1582138050.1807745.json\n",
      "Classificando com o  BaggingClassifier\n",
      "Salvando as informações num JSON: relatorio_teste_GSC_SNR_-7dB_semPCA_1582138050.521055.json\n",
      "Classificando com o  BaggingClassifier\n",
      "Salvando as informações num JSON: relatorio_teste_GSC_SNR_-7dB_semPCA_1582138050.847649.json\n",
      "Classificando com o  BaggingClassifier\n",
      "Salvando as informações num JSON: relatorio_teste_GSC_SNR_-7dB_semPCA_1582138051.189085.json\n",
      "Classificando com o  BaggingClassifier\n",
      "Salvando as informações num JSON: relatorio_teste_GSC_SNR_-7dB_semPCA_1582138051.516738.json\n",
      "Classificando com o  BaggingClassifier\n",
      "Salvando as informações num JSON: relatorio_teste_GSC_SNR_-7dB_semPCA_1582138051.8533802.json\n",
      "Classificando com o  KNeighborsClassifier\n",
      "Salvando as informações num JSON: relatorio_teste_GSC_SNR_-7dB_semPCA_1582138053.7631135.json\n",
      "Classificando com o  KNeighborsClassifier\n",
      "Salvando as informações num JSON: relatorio_teste_GSC_SNR_-7dB_semPCA_1582138055.7526903.json\n",
      "Classificando com o  KNeighborsClassifier\n",
      "Salvando as informações num JSON: relatorio_teste_GSC_SNR_-7dB_semPCA_1582138057.721893.json\n",
      "Classificando com o  KNeighborsClassifier\n",
      "Salvando as informações num JSON: relatorio_teste_GSC_SNR_-7dB_semPCA_1582138059.6261387.json\n",
      "Classificando com o  KNeighborsClassifier\n",
      "Salvando as informações num JSON: relatorio_teste_GSC_SNR_-7dB_semPCA_1582138061.496526.json\n",
      "Classificando com o  KNeighborsClassifier\n",
      "Salvando as informações num JSON: relatorio_teste_GSC_SNR_-7dB_semPCA_1582138063.5137155.json\n",
      "Classificando com o  KNeighborsClassifier\n",
      "Salvando as informações num JSON: relatorio_teste_GSC_SNR_-7dB_semPCA_1582138065.395377.json\n",
      "Classificando com o  KNeighborsClassifier\n",
      "Salvando as informações num JSON: relatorio_teste_GSC_SNR_-7dB_semPCA_1582138067.3140624.json\n",
      "Classificando com o  KNeighborsClassifier\n",
      "Salvando as informações num JSON: relatorio_teste_GSC_SNR_-7dB_semPCA_1582138069.2054412.json\n",
      "Classificando com o  KNeighborsClassifier\n",
      "Salvando as informações num JSON: relatorio_teste_GSC_SNR_-7dB_semPCA_1582138071.0782247.json\n",
      "Classificando com o  LinearSVC\n",
      "Salvando as informações num JSON: relatorio_teste_GSC_SNR_-7dB_semPCA_1582138071.2867727.json\n",
      "Classificando com o  LinearSVC\n",
      "Salvando as informações num JSON: relatorio_teste_GSC_SNR_-7dB_semPCA_1582138071.4960222.json\n",
      "Classificando com o  LinearSVC\n",
      "Salvando as informações num JSON: relatorio_teste_GSC_SNR_-7dB_semPCA_1582138071.7021987.json\n",
      "Classificando com o  LinearSVC\n",
      "Salvando as informações num JSON: relatorio_teste_GSC_SNR_-7dB_semPCA_1582138071.9095433.json\n",
      "Classificando com o  LinearSVC\n",
      "Salvando as informações num JSON: relatorio_teste_GSC_SNR_-7dB_semPCA_1582138072.1176896.json\n",
      "Classificando com o  LinearSVC\n",
      "Salvando as informações num JSON: relatorio_teste_GSC_SNR_-7dB_semPCA_1582138072.324428.json\n",
      "Classificando com o  LinearSVC\n",
      "Salvando as informações num JSON: relatorio_teste_GSC_SNR_-7dB_semPCA_1582138072.5355413.json\n",
      "Classificando com o  LinearSVC\n",
      "Salvando as informações num JSON: relatorio_teste_GSC_SNR_-7dB_semPCA_1582138072.7413237.json\n",
      "Classificando com o  LinearSVC\n",
      "Salvando as informações num JSON: relatorio_teste_GSC_SNR_-7dB_semPCA_1582138072.9496112.json\n",
      "Classificando com o  LinearSVC\n",
      "Salvando as informações num JSON: relatorio_teste_GSC_SNR_-7dB_semPCA_1582138073.1601691.json\n",
      "Classificando com o  Perceptron\n",
      "Salvando as informações num JSON: relatorio_teste_GSC_SNR_-7dB_semPCA_1582138073.3730025.json\n",
      "Classificando com o  Perceptron\n",
      "Salvando as informações num JSON: relatorio_teste_GSC_SNR_-7dB_semPCA_1582138073.583714.json\n",
      "Classificando com o  Perceptron\n",
      "Salvando as informações num JSON: relatorio_teste_GSC_SNR_-7dB_semPCA_1582138073.791689.json\n",
      "Classificando com o  Perceptron\n",
      "Salvando as informações num JSON: relatorio_teste_GSC_SNR_-7dB_semPCA_1582138074.0018284.json\n",
      "Classificando com o  Perceptron\n",
      "Salvando as informações num JSON: relatorio_teste_GSC_SNR_-7dB_semPCA_1582138074.2101953.json\n",
      "Classificando com o  Perceptron\n",
      "Salvando as informações num JSON: relatorio_teste_GSC_SNR_-7dB_semPCA_1582138074.421039.json\n",
      "Classificando com o  Perceptron\n",
      "Salvando as informações num JSON: relatorio_teste_GSC_SNR_-7dB_semPCA_1582138074.627061.json\n",
      "Classificando com o  Perceptron\n",
      "Salvando as informações num JSON: relatorio_teste_GSC_SNR_-7dB_semPCA_1582138074.836639.json\n",
      "Classificando com o  Perceptron\n",
      "Salvando as informações num JSON: relatorio_teste_GSC_SNR_-7dB_semPCA_1582138075.044327.json\n",
      "Classificando com o  Perceptron\n",
      "Salvando as informações num JSON: relatorio_teste_GSC_SNR_-7dB_semPCA_1582138075.2566493.json\n",
      "O teste com todos os classificadores foi finalizado\n",
      "Classificando com o  SGDClassifier\n"
     ]
    },
    {
     "name": "stderr",
     "output_type": "stream",
     "text": [
      "/home/dimi/venvIC/lib/python3.7/site-packages/sklearn/metrics/classification.py:1437: UndefinedMetricWarning: Precision and F-score are ill-defined and being set to 0.0 in labels with no predicted samples.\n",
      "  'precision', 'predicted', average, warn_for)\n"
     ]
    },
    {
     "name": "stdout",
     "output_type": "stream",
     "text": [
      "Salvando as informações num JSON: relatorio_teste_semBeamforming_SNR_-5dB_semPCA_1582138075.52966.json\n",
      "Classificando com o  SGDClassifier\n"
     ]
    },
    {
     "name": "stderr",
     "output_type": "stream",
     "text": [
      "/home/dimi/venvIC/lib/python3.7/site-packages/sklearn/metrics/classification.py:1437: UndefinedMetricWarning: Precision and F-score are ill-defined and being set to 0.0 in labels with no predicted samples.\n",
      "  'precision', 'predicted', average, warn_for)\n"
     ]
    },
    {
     "name": "stdout",
     "output_type": "stream",
     "text": [
      "Salvando as informações num JSON: relatorio_teste_semBeamforming_SNR_-5dB_semPCA_1582138075.7422612.json\n",
      "Classificando com o  SGDClassifier\n"
     ]
    },
    {
     "name": "stderr",
     "output_type": "stream",
     "text": [
      "/home/dimi/venvIC/lib/python3.7/site-packages/sklearn/metrics/classification.py:1437: UndefinedMetricWarning: Precision and F-score are ill-defined and being set to 0.0 in labels with no predicted samples.\n",
      "  'precision', 'predicted', average, warn_for)\n"
     ]
    },
    {
     "name": "stdout",
     "output_type": "stream",
     "text": [
      "Salvando as informações num JSON: relatorio_teste_semBeamforming_SNR_-5dB_semPCA_1582138075.9592118.json\n",
      "Classificando com o  SGDClassifier\n"
     ]
    },
    {
     "name": "stderr",
     "output_type": "stream",
     "text": [
      "/home/dimi/venvIC/lib/python3.7/site-packages/sklearn/metrics/classification.py:1437: UndefinedMetricWarning: Precision and F-score are ill-defined and being set to 0.0 in labels with no predicted samples.\n",
      "  'precision', 'predicted', average, warn_for)\n"
     ]
    },
    {
     "name": "stdout",
     "output_type": "stream",
     "text": [
      "Salvando as informações num JSON: relatorio_teste_semBeamforming_SNR_-5dB_semPCA_1582138076.1753902.json\n",
      "Classificando com o  SGDClassifier\n"
     ]
    },
    {
     "name": "stderr",
     "output_type": "stream",
     "text": [
      "/home/dimi/venvIC/lib/python3.7/site-packages/sklearn/metrics/classification.py:1437: UndefinedMetricWarning: Precision and F-score are ill-defined and being set to 0.0 in labels with no predicted samples.\n",
      "  'precision', 'predicted', average, warn_for)\n"
     ]
    },
    {
     "name": "stdout",
     "output_type": "stream",
     "text": [
      "Salvando as informações num JSON: relatorio_teste_semBeamforming_SNR_-5dB_semPCA_1582138076.3871555.json\n",
      "Classificando com o  SGDClassifier\n"
     ]
    },
    {
     "name": "stderr",
     "output_type": "stream",
     "text": [
      "/home/dimi/venvIC/lib/python3.7/site-packages/sklearn/metrics/classification.py:1437: UndefinedMetricWarning: Precision and F-score are ill-defined and being set to 0.0 in labels with no predicted samples.\n",
      "  'precision', 'predicted', average, warn_for)\n"
     ]
    },
    {
     "name": "stdout",
     "output_type": "stream",
     "text": [
      "Salvando as informações num JSON: relatorio_teste_semBeamforming_SNR_-5dB_semPCA_1582138076.606805.json\n",
      "Classificando com o  SGDClassifier\n"
     ]
    },
    {
     "name": "stderr",
     "output_type": "stream",
     "text": [
      "/home/dimi/venvIC/lib/python3.7/site-packages/sklearn/metrics/classification.py:1437: UndefinedMetricWarning: Precision and F-score are ill-defined and being set to 0.0 in labels with no predicted samples.\n",
      "  'precision', 'predicted', average, warn_for)\n"
     ]
    },
    {
     "name": "stdout",
     "output_type": "stream",
     "text": [
      "Salvando as informações num JSON: relatorio_teste_semBeamforming_SNR_-5dB_semPCA_1582138076.8250885.json\n",
      "Classificando com o  SGDClassifier\n"
     ]
    },
    {
     "name": "stderr",
     "output_type": "stream",
     "text": [
      "/home/dimi/venvIC/lib/python3.7/site-packages/sklearn/metrics/classification.py:1437: UndefinedMetricWarning: Precision and F-score are ill-defined and being set to 0.0 in labels with no predicted samples.\n",
      "  'precision', 'predicted', average, warn_for)\n"
     ]
    },
    {
     "name": "stdout",
     "output_type": "stream",
     "text": [
      "Salvando as informações num JSON: relatorio_teste_semBeamforming_SNR_-5dB_semPCA_1582138077.0405686.json\n",
      "Classificando com o  SGDClassifier\n"
     ]
    },
    {
     "name": "stderr",
     "output_type": "stream",
     "text": [
      "/home/dimi/venvIC/lib/python3.7/site-packages/sklearn/metrics/classification.py:1437: UndefinedMetricWarning: Precision and F-score are ill-defined and being set to 0.0 in labels with no predicted samples.\n",
      "  'precision', 'predicted', average, warn_for)\n"
     ]
    },
    {
     "name": "stdout",
     "output_type": "stream",
     "text": [
      "Salvando as informações num JSON: relatorio_teste_semBeamforming_SNR_-5dB_semPCA_1582138077.250853.json\n",
      "Classificando com o  SGDClassifier\n"
     ]
    },
    {
     "name": "stderr",
     "output_type": "stream",
     "text": [
      "/home/dimi/venvIC/lib/python3.7/site-packages/sklearn/metrics/classification.py:1437: UndefinedMetricWarning: Precision and F-score are ill-defined and being set to 0.0 in labels with no predicted samples.\n",
      "  'precision', 'predicted', average, warn_for)\n"
     ]
    },
    {
     "name": "stdout",
     "output_type": "stream",
     "text": [
      "Salvando as informações num JSON: relatorio_teste_semBeamforming_SNR_-5dB_semPCA_1582138077.4629536.json\n",
      "Classificando com o  BaggingClassifier\n",
      "Salvando as informações num JSON: relatorio_teste_semBeamforming_SNR_-5dB_semPCA_1582138077.784989.json\n",
      "Classificando com o  BaggingClassifier\n",
      "Salvando as informações num JSON: relatorio_teste_semBeamforming_SNR_-5dB_semPCA_1582138078.1128616.json\n",
      "Classificando com o  BaggingClassifier\n"
     ]
    },
    {
     "name": "stderr",
     "output_type": "stream",
     "text": [
      "/home/dimi/venvIC/lib/python3.7/site-packages/sklearn/metrics/classification.py:1437: UndefinedMetricWarning: Precision and F-score are ill-defined and being set to 0.0 in labels with no predicted samples.\n",
      "  'precision', 'predicted', average, warn_for)\n"
     ]
    },
    {
     "name": "stdout",
     "output_type": "stream",
     "text": [
      "Salvando as informações num JSON: relatorio_teste_semBeamforming_SNR_-5dB_semPCA_1582138078.4327958.json\n",
      "Classificando com o  BaggingClassifier\n",
      "Salvando as informações num JSON: relatorio_teste_semBeamforming_SNR_-5dB_semPCA_1582138078.7572913.json\n",
      "Classificando com o  BaggingClassifier\n"
     ]
    },
    {
     "name": "stderr",
     "output_type": "stream",
     "text": [
      "/home/dimi/venvIC/lib/python3.7/site-packages/sklearn/metrics/classification.py:1437: UndefinedMetricWarning: Precision and F-score are ill-defined and being set to 0.0 in labels with no predicted samples.\n",
      "  'precision', 'predicted', average, warn_for)\n"
     ]
    },
    {
     "name": "stdout",
     "output_type": "stream",
     "text": [
      "Salvando as informações num JSON: relatorio_teste_semBeamforming_SNR_-5dB_semPCA_1582138079.0812383.json\n",
      "Classificando com o  BaggingClassifier\n",
      "Salvando as informações num JSON: relatorio_teste_semBeamforming_SNR_-5dB_semPCA_1582138079.406702.json\n",
      "Classificando com o  BaggingClassifier\n",
      "Salvando as informações num JSON: relatorio_teste_semBeamforming_SNR_-5dB_semPCA_1582138079.7277198.json\n",
      "Classificando com o  BaggingClassifier\n",
      "Salvando as informações num JSON: relatorio_teste_semBeamforming_SNR_-5dB_semPCA_1582138080.0525644.json\n",
      "Classificando com o  BaggingClassifier\n",
      "Salvando as informações num JSON: relatorio_teste_semBeamforming_SNR_-5dB_semPCA_1582138080.378983.json\n",
      "Classificando com o  BaggingClassifier\n",
      "Salvando as informações num JSON: relatorio_teste_semBeamforming_SNR_-5dB_semPCA_1582138080.7030194.json\n",
      "Classificando com o  KNeighborsClassifier\n",
      "Salvando as informações num JSON: relatorio_teste_semBeamforming_SNR_-5dB_semPCA_1582138082.6399956.json\n",
      "Classificando com o  KNeighborsClassifier\n",
      "Salvando as informações num JSON: relatorio_teste_semBeamforming_SNR_-5dB_semPCA_1582138084.5884686.json\n",
      "Classificando com o  KNeighborsClassifier\n",
      "Salvando as informações num JSON: relatorio_teste_semBeamforming_SNR_-5dB_semPCA_1582138086.6196313.json\n",
      "Classificando com o  KNeighborsClassifier\n",
      "Salvando as informações num JSON: relatorio_teste_semBeamforming_SNR_-5dB_semPCA_1582138088.5596013.json\n",
      "Classificando com o  KNeighborsClassifier\n",
      "Salvando as informações num JSON: relatorio_teste_semBeamforming_SNR_-5dB_semPCA_1582138090.5568678.json\n",
      "Classificando com o  KNeighborsClassifier\n",
      "Salvando as informações num JSON: relatorio_teste_semBeamforming_SNR_-5dB_semPCA_1582138092.4493477.json\n",
      "Classificando com o  KNeighborsClassifier\n",
      "Salvando as informações num JSON: relatorio_teste_semBeamforming_SNR_-5dB_semPCA_1582138094.2830188.json\n",
      "Classificando com o  KNeighborsClassifier\n",
      "Salvando as informações num JSON: relatorio_teste_semBeamforming_SNR_-5dB_semPCA_1582138096.19112.json\n",
      "Classificando com o  KNeighborsClassifier\n",
      "Salvando as informações num JSON: relatorio_teste_semBeamforming_SNR_-5dB_semPCA_1582138098.0708115.json\n",
      "Classificando com o  KNeighborsClassifier\n",
      "Salvando as informações num JSON: relatorio_teste_semBeamforming_SNR_-5dB_semPCA_1582138099.9289055.json\n",
      "Classificando com o  LinearSVC\n",
      "Salvando as informações num JSON: relatorio_teste_semBeamforming_SNR_-5dB_semPCA_1582138100.1382732.json\n",
      "Classificando com o  LinearSVC\n",
      "Salvando as informações num JSON: relatorio_teste_semBeamforming_SNR_-5dB_semPCA_1582138100.350279.json\n",
      "Classificando com o  LinearSVC\n",
      "Salvando as informações num JSON: relatorio_teste_semBeamforming_SNR_-5dB_semPCA_1582138100.5590734.json\n",
      "Classificando com o  LinearSVC\n",
      "Salvando as informações num JSON: relatorio_teste_semBeamforming_SNR_-5dB_semPCA_1582138100.7701511.json\n",
      "Classificando com o  LinearSVC\n",
      "Salvando as informações num JSON: relatorio_teste_semBeamforming_SNR_-5dB_semPCA_1582138100.9774706.json\n",
      "Classificando com o  LinearSVC\n",
      "Salvando as informações num JSON: relatorio_teste_semBeamforming_SNR_-5dB_semPCA_1582138101.1886282.json\n",
      "Classificando com o  LinearSVC\n",
      "Salvando as informações num JSON: relatorio_teste_semBeamforming_SNR_-5dB_semPCA_1582138101.407899.json\n",
      "Classificando com o  LinearSVC\n",
      "Salvando as informações num JSON: relatorio_teste_semBeamforming_SNR_-5dB_semPCA_1582138101.6162221.json\n",
      "Classificando com o  LinearSVC\n",
      "Salvando as informações num JSON: relatorio_teste_semBeamforming_SNR_-5dB_semPCA_1582138101.8232644.json\n",
      "Classificando com o  LinearSVC\n",
      "Salvando as informações num JSON: relatorio_teste_semBeamforming_SNR_-5dB_semPCA_1582138102.033393.json\n",
      "Classificando com o  Perceptron\n",
      "Salvando as informações num JSON: relatorio_teste_semBeamforming_SNR_-5dB_semPCA_1582138102.242851.json\n",
      "Classificando com o  Perceptron\n",
      "Salvando as informações num JSON: relatorio_teste_semBeamforming_SNR_-5dB_semPCA_1582138102.4541814.json\n",
      "Classificando com o  Perceptron\n",
      "Salvando as informações num JSON: relatorio_teste_semBeamforming_SNR_-5dB_semPCA_1582138102.664864.json\n",
      "Classificando com o  Perceptron\n",
      "Salvando as informações num JSON: relatorio_teste_semBeamforming_SNR_-5dB_semPCA_1582138102.8808315.json\n",
      "Classificando com o  Perceptron\n",
      "Salvando as informações num JSON: relatorio_teste_semBeamforming_SNR_-5dB_semPCA_1582138103.0909178.json\n",
      "Classificando com o  Perceptron\n",
      "Salvando as informações num JSON: relatorio_teste_semBeamforming_SNR_-5dB_semPCA_1582138103.2990246.json\n",
      "Classificando com o  Perceptron\n",
      "Salvando as informações num JSON: relatorio_teste_semBeamforming_SNR_-5dB_semPCA_1582138103.5132263.json\n",
      "Classificando com o  Perceptron\n",
      "Salvando as informações num JSON: relatorio_teste_semBeamforming_SNR_-5dB_semPCA_1582138103.7233918.json\n",
      "Classificando com o  Perceptron\n",
      "Salvando as informações num JSON: relatorio_teste_semBeamforming_SNR_-5dB_semPCA_1582138103.9297493.json\n",
      "Classificando com o  Perceptron\n",
      "Salvando as informações num JSON: relatorio_teste_semBeamforming_SNR_-5dB_semPCA_1582138104.1416821.json\n",
      "O teste com todos os classificadores foi finalizado\n",
      "Classificando com o  SGDClassifier\n"
     ]
    },
    {
     "name": "stderr",
     "output_type": "stream",
     "text": [
      "/home/dimi/venvIC/lib/python3.7/site-packages/sklearn/metrics/classification.py:1437: UndefinedMetricWarning: Precision and F-score are ill-defined and being set to 0.0 in labels with no predicted samples.\n",
      "  'precision', 'predicted', average, warn_for)\n"
     ]
    },
    {
     "name": "stdout",
     "output_type": "stream",
     "text": [
      "Salvando as informações num JSON: relatorio_teste_beamforming_SNR_-5dB_semPCA_1582138104.417048.json\n",
      "Classificando com o  SGDClassifier\n"
     ]
    },
    {
     "name": "stderr",
     "output_type": "stream",
     "text": [
      "/home/dimi/venvIC/lib/python3.7/site-packages/sklearn/metrics/classification.py:1437: UndefinedMetricWarning: Precision and F-score are ill-defined and being set to 0.0 in labels with no predicted samples.\n",
      "  'precision', 'predicted', average, warn_for)\n"
     ]
    },
    {
     "name": "stdout",
     "output_type": "stream",
     "text": [
      "Salvando as informações num JSON: relatorio_teste_beamforming_SNR_-5dB_semPCA_1582138104.6366472.json\n",
      "Classificando com o  SGDClassifier\n"
     ]
    },
    {
     "name": "stderr",
     "output_type": "stream",
     "text": [
      "/home/dimi/venvIC/lib/python3.7/site-packages/sklearn/metrics/classification.py:1437: UndefinedMetricWarning: Precision and F-score are ill-defined and being set to 0.0 in labels with no predicted samples.\n",
      "  'precision', 'predicted', average, warn_for)\n"
     ]
    },
    {
     "name": "stdout",
     "output_type": "stream",
     "text": [
      "Salvando as informações num JSON: relatorio_teste_beamforming_SNR_-5dB_semPCA_1582138104.8503957.json\n",
      "Classificando com o  SGDClassifier\n"
     ]
    },
    {
     "name": "stderr",
     "output_type": "stream",
     "text": [
      "/home/dimi/venvIC/lib/python3.7/site-packages/sklearn/metrics/classification.py:1437: UndefinedMetricWarning: Precision and F-score are ill-defined and being set to 0.0 in labels with no predicted samples.\n",
      "  'precision', 'predicted', average, warn_for)\n"
     ]
    },
    {
     "name": "stdout",
     "output_type": "stream",
     "text": [
      "Salvando as informações num JSON: relatorio_teste_beamforming_SNR_-5dB_semPCA_1582138105.0633044.json\n",
      "Classificando com o  SGDClassifier\n"
     ]
    },
    {
     "name": "stderr",
     "output_type": "stream",
     "text": [
      "/home/dimi/venvIC/lib/python3.7/site-packages/sklearn/metrics/classification.py:1437: UndefinedMetricWarning: Precision and F-score are ill-defined and being set to 0.0 in labels with no predicted samples.\n",
      "  'precision', 'predicted', average, warn_for)\n"
     ]
    },
    {
     "name": "stdout",
     "output_type": "stream",
     "text": [
      "Salvando as informações num JSON: relatorio_teste_beamforming_SNR_-5dB_semPCA_1582138105.2793396.json\n",
      "Classificando com o  SGDClassifier\n"
     ]
    },
    {
     "name": "stderr",
     "output_type": "stream",
     "text": [
      "/home/dimi/venvIC/lib/python3.7/site-packages/sklearn/metrics/classification.py:1437: UndefinedMetricWarning: Precision and F-score are ill-defined and being set to 0.0 in labels with no predicted samples.\n",
      "  'precision', 'predicted', average, warn_for)\n"
     ]
    },
    {
     "name": "stdout",
     "output_type": "stream",
     "text": [
      "Salvando as informações num JSON: relatorio_teste_beamforming_SNR_-5dB_semPCA_1582138105.5069458.json\n",
      "Classificando com o  SGDClassifier\n"
     ]
    },
    {
     "name": "stderr",
     "output_type": "stream",
     "text": [
      "/home/dimi/venvIC/lib/python3.7/site-packages/sklearn/metrics/classification.py:1437: UndefinedMetricWarning: Precision and F-score are ill-defined and being set to 0.0 in labels with no predicted samples.\n",
      "  'precision', 'predicted', average, warn_for)\n"
     ]
    },
    {
     "name": "stdout",
     "output_type": "stream",
     "text": [
      "Salvando as informações num JSON: relatorio_teste_beamforming_SNR_-5dB_semPCA_1582138105.7331147.json\n",
      "Classificando com o  SGDClassifier\n"
     ]
    },
    {
     "name": "stderr",
     "output_type": "stream",
     "text": [
      "/home/dimi/venvIC/lib/python3.7/site-packages/sklearn/metrics/classification.py:1437: UndefinedMetricWarning: Precision and F-score are ill-defined and being set to 0.0 in labels with no predicted samples.\n",
      "  'precision', 'predicted', average, warn_for)\n"
     ]
    },
    {
     "name": "stdout",
     "output_type": "stream",
     "text": [
      "Salvando as informações num JSON: relatorio_teste_beamforming_SNR_-5dB_semPCA_1582138105.9403076.json\n",
      "Classificando com o  SGDClassifier\n"
     ]
    },
    {
     "name": "stderr",
     "output_type": "stream",
     "text": [
      "/home/dimi/venvIC/lib/python3.7/site-packages/sklearn/metrics/classification.py:1437: UndefinedMetricWarning: Precision and F-score are ill-defined and being set to 0.0 in labels with no predicted samples.\n",
      "  'precision', 'predicted', average, warn_for)\n"
     ]
    },
    {
     "name": "stdout",
     "output_type": "stream",
     "text": [
      "Salvando as informações num JSON: relatorio_teste_beamforming_SNR_-5dB_semPCA_1582138106.1481528.json\n",
      "Classificando com o  SGDClassifier\n"
     ]
    },
    {
     "name": "stderr",
     "output_type": "stream",
     "text": [
      "/home/dimi/venvIC/lib/python3.7/site-packages/sklearn/metrics/classification.py:1437: UndefinedMetricWarning: Precision and F-score are ill-defined and being set to 0.0 in labels with no predicted samples.\n",
      "  'precision', 'predicted', average, warn_for)\n"
     ]
    },
    {
     "name": "stdout",
     "output_type": "stream",
     "text": [
      "Salvando as informações num JSON: relatorio_teste_beamforming_SNR_-5dB_semPCA_1582138106.3569984.json\n",
      "Classificando com o  BaggingClassifier\n",
      "Salvando as informações num JSON: relatorio_teste_beamforming_SNR_-5dB_semPCA_1582138106.680547.json\n",
      "Classificando com o  BaggingClassifier\n",
      "Salvando as informações num JSON: relatorio_teste_beamforming_SNR_-5dB_semPCA_1582138107.01119.json\n",
      "Classificando com o  BaggingClassifier\n"
     ]
    },
    {
     "name": "stderr",
     "output_type": "stream",
     "text": [
      "/home/dimi/venvIC/lib/python3.7/site-packages/sklearn/metrics/classification.py:1437: UndefinedMetricWarning: Precision and F-score are ill-defined and being set to 0.0 in labels with no predicted samples.\n",
      "  'precision', 'predicted', average, warn_for)\n"
     ]
    },
    {
     "name": "stdout",
     "output_type": "stream",
     "text": [
      "Salvando as informações num JSON: relatorio_teste_beamforming_SNR_-5dB_semPCA_1582138107.3382883.json\n",
      "Classificando com o  BaggingClassifier\n",
      "Salvando as informações num JSON: relatorio_teste_beamforming_SNR_-5dB_semPCA_1582138107.6616502.json\n",
      "Classificando com o  BaggingClassifier\n"
     ]
    },
    {
     "name": "stderr",
     "output_type": "stream",
     "text": [
      "/home/dimi/venvIC/lib/python3.7/site-packages/sklearn/metrics/classification.py:1437: UndefinedMetricWarning: Precision and F-score are ill-defined and being set to 0.0 in labels with no predicted samples.\n",
      "  'precision', 'predicted', average, warn_for)\n"
     ]
    },
    {
     "name": "stdout",
     "output_type": "stream",
     "text": [
      "Salvando as informações num JSON: relatorio_teste_beamforming_SNR_-5dB_semPCA_1582138107.9906912.json\n",
      "Classificando com o  BaggingClassifier\n",
      "Salvando as informações num JSON: relatorio_teste_beamforming_SNR_-5dB_semPCA_1582138108.3209653.json\n",
      "Classificando com o  BaggingClassifier\n",
      "Salvando as informações num JSON: relatorio_teste_beamforming_SNR_-5dB_semPCA_1582138108.6535032.json\n",
      "Classificando com o  BaggingClassifier\n",
      "Salvando as informações num JSON: relatorio_teste_beamforming_SNR_-5dB_semPCA_1582138108.975716.json\n",
      "Classificando com o  BaggingClassifier\n",
      "Salvando as informações num JSON: relatorio_teste_beamforming_SNR_-5dB_semPCA_1582138109.2997196.json\n",
      "Classificando com o  BaggingClassifier\n",
      "Salvando as informações num JSON: relatorio_teste_beamforming_SNR_-5dB_semPCA_1582138109.6302257.json\n",
      "Classificando com o  KNeighborsClassifier\n",
      "Salvando as informações num JSON: relatorio_teste_beamforming_SNR_-5dB_semPCA_1582138111.5248597.json\n",
      "Classificando com o  KNeighborsClassifier\n",
      "Salvando as informações num JSON: relatorio_teste_beamforming_SNR_-5dB_semPCA_1582138113.4396334.json\n",
      "Classificando com o  KNeighborsClassifier\n",
      "Salvando as informações num JSON: relatorio_teste_beamforming_SNR_-5dB_semPCA_1582138115.3239396.json\n",
      "Classificando com o  KNeighborsClassifier\n",
      "Salvando as informações num JSON: relatorio_teste_beamforming_SNR_-5dB_semPCA_1582138117.2227738.json\n",
      "Classificando com o  KNeighborsClassifier\n",
      "Salvando as informações num JSON: relatorio_teste_beamforming_SNR_-5dB_semPCA_1582138119.0953047.json\n",
      "Classificando com o  KNeighborsClassifier\n",
      "Salvando as informações num JSON: relatorio_teste_beamforming_SNR_-5dB_semPCA_1582138121.0395226.json\n",
      "Classificando com o  KNeighborsClassifier\n",
      "Salvando as informações num JSON: relatorio_teste_beamforming_SNR_-5dB_semPCA_1582138122.8908856.json\n",
      "Classificando com o  KNeighborsClassifier\n",
      "Salvando as informações num JSON: relatorio_teste_beamforming_SNR_-5dB_semPCA_1582138124.7817795.json\n",
      "Classificando com o  KNeighborsClassifier\n",
      "Salvando as informações num JSON: relatorio_teste_beamforming_SNR_-5dB_semPCA_1582138126.697836.json\n",
      "Classificando com o  KNeighborsClassifier\n",
      "Salvando as informações num JSON: relatorio_teste_beamforming_SNR_-5dB_semPCA_1582138128.569164.json\n",
      "Classificando com o  LinearSVC\n",
      "Salvando as informações num JSON: relatorio_teste_beamforming_SNR_-5dB_semPCA_1582138128.780559.json\n",
      "Classificando com o  LinearSVC\n",
      "Salvando as informações num JSON: relatorio_teste_beamforming_SNR_-5dB_semPCA_1582138128.9890046.json\n",
      "Classificando com o  LinearSVC\n",
      "Salvando as informações num JSON: relatorio_teste_beamforming_SNR_-5dB_semPCA_1582138129.1975439.json\n",
      "Classificando com o  LinearSVC\n",
      "Salvando as informações num JSON: relatorio_teste_beamforming_SNR_-5dB_semPCA_1582138129.4169376.json\n",
      "Classificando com o  LinearSVC\n",
      "Salvando as informações num JSON: relatorio_teste_beamforming_SNR_-5dB_semPCA_1582138129.625287.json\n",
      "Classificando com o  LinearSVC\n",
      "Salvando as informações num JSON: relatorio_teste_beamforming_SNR_-5dB_semPCA_1582138129.8477936.json\n",
      "Classificando com o  LinearSVC\n",
      "Salvando as informações num JSON: relatorio_teste_beamforming_SNR_-5dB_semPCA_1582138130.0592532.json\n",
      "Classificando com o  LinearSVC\n",
      "Salvando as informações num JSON: relatorio_teste_beamforming_SNR_-5dB_semPCA_1582138130.2675743.json\n",
      "Classificando com o  LinearSVC\n",
      "Salvando as informações num JSON: relatorio_teste_beamforming_SNR_-5dB_semPCA_1582138130.47879.json\n",
      "Classificando com o  LinearSVC\n",
      "Salvando as informações num JSON: relatorio_teste_beamforming_SNR_-5dB_semPCA_1582138130.689168.json\n",
      "Classificando com o  Perceptron\n",
      "Salvando as informações num JSON: relatorio_teste_beamforming_SNR_-5dB_semPCA_1582138130.9010346.json\n",
      "Classificando com o  Perceptron\n",
      "Salvando as informações num JSON: relatorio_teste_beamforming_SNR_-5dB_semPCA_1582138131.1115978.json\n",
      "Classificando com o  Perceptron\n",
      "Salvando as informações num JSON: relatorio_teste_beamforming_SNR_-5dB_semPCA_1582138131.3238475.json\n",
      "Classificando com o  Perceptron\n",
      "Salvando as informações num JSON: relatorio_teste_beamforming_SNR_-5dB_semPCA_1582138131.5354338.json\n",
      "Classificando com o  Perceptron\n",
      "Salvando as informações num JSON: relatorio_teste_beamforming_SNR_-5dB_semPCA_1582138131.7442575.json\n",
      "Classificando com o  Perceptron\n",
      "Salvando as informações num JSON: relatorio_teste_beamforming_SNR_-5dB_semPCA_1582138131.9576895.json\n",
      "Classificando com o  Perceptron\n",
      "Salvando as informações num JSON: relatorio_teste_beamforming_SNR_-5dB_semPCA_1582138132.168226.json\n",
      "Classificando com o  Perceptron\n",
      "Salvando as informações num JSON: relatorio_teste_beamforming_SNR_-5dB_semPCA_1582138132.3843858.json\n",
      "Classificando com o  Perceptron\n",
      "Salvando as informações num JSON: relatorio_teste_beamforming_SNR_-5dB_semPCA_1582138132.6127558.json\n",
      "Classificando com o  Perceptron\n",
      "Salvando as informações num JSON: relatorio_teste_beamforming_SNR_-5dB_semPCA_1582138132.8246272.json\n",
      "O teste com todos os classificadores foi finalizado\n",
      "Classificando com o  SGDClassifier\n"
     ]
    },
    {
     "name": "stderr",
     "output_type": "stream",
     "text": [
      "/home/dimi/venvIC/lib/python3.7/site-packages/sklearn/metrics/classification.py:1437: UndefinedMetricWarning: Precision and F-score are ill-defined and being set to 0.0 in labels with no predicted samples.\n",
      "  'precision', 'predicted', average, warn_for)\n"
     ]
    },
    {
     "name": "stdout",
     "output_type": "stream",
     "text": [
      "Salvando as informações num JSON: relatorio_teste_GSC_SNR_-5dB_semPCA_1582138133.1091316.json\n",
      "Classificando com o  SGDClassifier\n"
     ]
    },
    {
     "name": "stderr",
     "output_type": "stream",
     "text": [
      "/home/dimi/venvIC/lib/python3.7/site-packages/sklearn/metrics/classification.py:1437: UndefinedMetricWarning: Precision and F-score are ill-defined and being set to 0.0 in labels with no predicted samples.\n",
      "  'precision', 'predicted', average, warn_for)\n"
     ]
    },
    {
     "name": "stdout",
     "output_type": "stream",
     "text": [
      "Salvando as informações num JSON: relatorio_teste_GSC_SNR_-5dB_semPCA_1582138133.3223016.json\n",
      "Classificando com o  SGDClassifier\n"
     ]
    },
    {
     "name": "stderr",
     "output_type": "stream",
     "text": [
      "/home/dimi/venvIC/lib/python3.7/site-packages/sklearn/metrics/classification.py:1437: UndefinedMetricWarning: Precision and F-score are ill-defined and being set to 0.0 in labels with no predicted samples.\n",
      "  'precision', 'predicted', average, warn_for)\n"
     ]
    },
    {
     "name": "stdout",
     "output_type": "stream",
     "text": [
      "Salvando as informações num JSON: relatorio_teste_GSC_SNR_-5dB_semPCA_1582138133.5558693.json\n",
      "Classificando com o  SGDClassifier\n"
     ]
    },
    {
     "name": "stderr",
     "output_type": "stream",
     "text": [
      "/home/dimi/venvIC/lib/python3.7/site-packages/sklearn/metrics/classification.py:1437: UndefinedMetricWarning: Precision and F-score are ill-defined and being set to 0.0 in labels with no predicted samples.\n",
      "  'precision', 'predicted', average, warn_for)\n"
     ]
    },
    {
     "name": "stdout",
     "output_type": "stream",
     "text": [
      "Salvando as informações num JSON: relatorio_teste_GSC_SNR_-5dB_semPCA_1582138133.772171.json\n",
      "Classificando com o  SGDClassifier\n",
      "Salvando as informações num JSON: relatorio_teste_GSC_SNR_-5dB_semPCA_1582138133.9878192.json\n",
      "Classificando com o  SGDClassifier\n"
     ]
    },
    {
     "name": "stderr",
     "output_type": "stream",
     "text": [
      "/home/dimi/venvIC/lib/python3.7/site-packages/sklearn/metrics/classification.py:1437: UndefinedMetricWarning: Precision and F-score are ill-defined and being set to 0.0 in labels with no predicted samples.\n",
      "  'precision', 'predicted', average, warn_for)\n"
     ]
    },
    {
     "name": "stdout",
     "output_type": "stream",
     "text": [
      "Salvando as informações num JSON: relatorio_teste_GSC_SNR_-5dB_semPCA_1582138134.200327.json\n",
      "Classificando com o  SGDClassifier\n"
     ]
    },
    {
     "name": "stderr",
     "output_type": "stream",
     "text": [
      "/home/dimi/venvIC/lib/python3.7/site-packages/sklearn/metrics/classification.py:1437: UndefinedMetricWarning: Precision and F-score are ill-defined and being set to 0.0 in labels with no predicted samples.\n",
      "  'precision', 'predicted', average, warn_for)\n"
     ]
    },
    {
     "name": "stdout",
     "output_type": "stream",
     "text": [
      "Salvando as informações num JSON: relatorio_teste_GSC_SNR_-5dB_semPCA_1582138134.424942.json\n",
      "Classificando com o  SGDClassifier\n"
     ]
    },
    {
     "name": "stderr",
     "output_type": "stream",
     "text": [
      "/home/dimi/venvIC/lib/python3.7/site-packages/sklearn/metrics/classification.py:1437: UndefinedMetricWarning: Precision and F-score are ill-defined and being set to 0.0 in labels with no predicted samples.\n",
      "  'precision', 'predicted', average, warn_for)\n"
     ]
    },
    {
     "name": "stdout",
     "output_type": "stream",
     "text": [
      "Salvando as informações num JSON: relatorio_teste_GSC_SNR_-5dB_semPCA_1582138134.6337192.json\n",
      "Classificando com o  SGDClassifier\n"
     ]
    },
    {
     "name": "stderr",
     "output_type": "stream",
     "text": [
      "/home/dimi/venvIC/lib/python3.7/site-packages/sklearn/metrics/classification.py:1437: UndefinedMetricWarning: Precision and F-score are ill-defined and being set to 0.0 in labels with no predicted samples.\n",
      "  'precision', 'predicted', average, warn_for)\n"
     ]
    },
    {
     "name": "stdout",
     "output_type": "stream",
     "text": [
      "Salvando as informações num JSON: relatorio_teste_GSC_SNR_-5dB_semPCA_1582138134.8538895.json\n",
      "Classificando com o  SGDClassifier\n"
     ]
    },
    {
     "name": "stderr",
     "output_type": "stream",
     "text": [
      "/home/dimi/venvIC/lib/python3.7/site-packages/sklearn/metrics/classification.py:1437: UndefinedMetricWarning: Precision and F-score are ill-defined and being set to 0.0 in labels with no predicted samples.\n",
      "  'precision', 'predicted', average, warn_for)\n"
     ]
    },
    {
     "name": "stdout",
     "output_type": "stream",
     "text": [
      "Salvando as informações num JSON: relatorio_teste_GSC_SNR_-5dB_semPCA_1582138135.06442.json\n",
      "Classificando com o  BaggingClassifier\n",
      "Salvando as informações num JSON: relatorio_teste_GSC_SNR_-5dB_semPCA_1582138135.4057941.json\n",
      "Classificando com o  BaggingClassifier\n",
      "Salvando as informações num JSON: relatorio_teste_GSC_SNR_-5dB_semPCA_1582138135.740007.json\n",
      "Classificando com o  BaggingClassifier\n",
      "Salvando as informações num JSON: relatorio_teste_GSC_SNR_-5dB_semPCA_1582138136.077644.json\n",
      "Classificando com o  BaggingClassifier\n",
      "Salvando as informações num JSON: relatorio_teste_GSC_SNR_-5dB_semPCA_1582138136.457769.json\n",
      "Classificando com o  BaggingClassifier\n"
     ]
    },
    {
     "name": "stderr",
     "output_type": "stream",
     "text": [
      "/home/dimi/venvIC/lib/python3.7/site-packages/sklearn/metrics/classification.py:1437: UndefinedMetricWarning: Precision and F-score are ill-defined and being set to 0.0 in labels with no predicted samples.\n",
      "  'precision', 'predicted', average, warn_for)\n"
     ]
    },
    {
     "name": "stdout",
     "output_type": "stream",
     "text": [
      "Salvando as informações num JSON: relatorio_teste_GSC_SNR_-5dB_semPCA_1582138136.7940922.json\n",
      "Classificando com o  BaggingClassifier\n",
      "Salvando as informações num JSON: relatorio_teste_GSC_SNR_-5dB_semPCA_1582138137.1439836.json\n",
      "Classificando com o  BaggingClassifier\n",
      "Salvando as informações num JSON: relatorio_teste_GSC_SNR_-5dB_semPCA_1582138137.5151758.json\n",
      "Classificando com o  BaggingClassifier\n",
      "Salvando as informações num JSON: relatorio_teste_GSC_SNR_-5dB_semPCA_1582138137.872729.json\n",
      "Classificando com o  BaggingClassifier\n",
      "Salvando as informações num JSON: relatorio_teste_GSC_SNR_-5dB_semPCA_1582138138.2179441.json\n",
      "Classificando com o  BaggingClassifier\n",
      "Salvando as informações num JSON: relatorio_teste_GSC_SNR_-5dB_semPCA_1582138138.5451803.json\n",
      "Classificando com o  KNeighborsClassifier\n",
      "Salvando as informações num JSON: relatorio_teste_GSC_SNR_-5dB_semPCA_1582138140.5677958.json\n",
      "Classificando com o  KNeighborsClassifier\n",
      "Salvando as informações num JSON: relatorio_teste_GSC_SNR_-5dB_semPCA_1582138142.5807478.json\n",
      "Classificando com o  KNeighborsClassifier\n",
      "Salvando as informações num JSON: relatorio_teste_GSC_SNR_-5dB_semPCA_1582138144.6326118.json\n",
      "Classificando com o  KNeighborsClassifier\n",
      "Salvando as informações num JSON: relatorio_teste_GSC_SNR_-5dB_semPCA_1582138146.5217922.json\n",
      "Classificando com o  KNeighborsClassifier\n",
      "Salvando as informações num JSON: relatorio_teste_GSC_SNR_-5dB_semPCA_1582138148.378203.json\n",
      "Classificando com o  KNeighborsClassifier\n",
      "Salvando as informações num JSON: relatorio_teste_GSC_SNR_-5dB_semPCA_1582138150.2921154.json\n",
      "Classificando com o  KNeighborsClassifier\n",
      "Salvando as informações num JSON: relatorio_teste_GSC_SNR_-5dB_semPCA_1582138152.1190279.json\n",
      "Classificando com o  KNeighborsClassifier\n",
      "Salvando as informações num JSON: relatorio_teste_GSC_SNR_-5dB_semPCA_1582138154.068248.json\n",
      "Classificando com o  KNeighborsClassifier\n",
      "Salvando as informações num JSON: relatorio_teste_GSC_SNR_-5dB_semPCA_1582138155.9981277.json\n",
      "Classificando com o  KNeighborsClassifier\n",
      "Salvando as informações num JSON: relatorio_teste_GSC_SNR_-5dB_semPCA_1582138157.9056492.json\n",
      "Classificando com o  LinearSVC\n",
      "Salvando as informações num JSON: relatorio_teste_GSC_SNR_-5dB_semPCA_1582138158.1237688.json\n",
      "Classificando com o  LinearSVC\n",
      "Salvando as informações num JSON: relatorio_teste_GSC_SNR_-5dB_semPCA_1582138158.3328705.json\n",
      "Classificando com o  LinearSVC\n",
      "Salvando as informações num JSON: relatorio_teste_GSC_SNR_-5dB_semPCA_1582138158.5442173.json\n",
      "Classificando com o  LinearSVC\n",
      "Salvando as informações num JSON: relatorio_teste_GSC_SNR_-5dB_semPCA_1582138158.758937.json\n",
      "Classificando com o  LinearSVC\n",
      "Salvando as informações num JSON: relatorio_teste_GSC_SNR_-5dB_semPCA_1582138158.9639957.json\n",
      "Classificando com o  LinearSVC\n",
      "Salvando as informações num JSON: relatorio_teste_GSC_SNR_-5dB_semPCA_1582138159.1709452.json\n",
      "Classificando com o  LinearSVC\n",
      "Salvando as informações num JSON: relatorio_teste_GSC_SNR_-5dB_semPCA_1582138159.3783057.json\n",
      "Classificando com o  LinearSVC\n",
      "Salvando as informações num JSON: relatorio_teste_GSC_SNR_-5dB_semPCA_1582138159.6015909.json\n",
      "Classificando com o  LinearSVC\n",
      "Salvando as informações num JSON: relatorio_teste_GSC_SNR_-5dB_semPCA_1582138159.814087.json\n",
      "Classificando com o  LinearSVC\n",
      "Salvando as informações num JSON: relatorio_teste_GSC_SNR_-5dB_semPCA_1582138160.0317454.json\n",
      "Classificando com o  Perceptron\n",
      "Salvando as informações num JSON: relatorio_teste_GSC_SNR_-5dB_semPCA_1582138160.242893.json\n",
      "Classificando com o  Perceptron\n",
      "Salvando as informações num JSON: relatorio_teste_GSC_SNR_-5dB_semPCA_1582138160.4613905.json\n",
      "Classificando com o  Perceptron\n",
      "Salvando as informações num JSON: relatorio_teste_GSC_SNR_-5dB_semPCA_1582138160.6858292.json\n",
      "Classificando com o  Perceptron\n",
      "Salvando as informações num JSON: relatorio_teste_GSC_SNR_-5dB_semPCA_1582138160.8992283.json\n",
      "Classificando com o  Perceptron\n",
      "Salvando as informações num JSON: relatorio_teste_GSC_SNR_-5dB_semPCA_1582138161.1085413.json\n",
      "Classificando com o  Perceptron\n",
      "Salvando as informações num JSON: relatorio_teste_GSC_SNR_-5dB_semPCA_1582138161.3134773.json\n",
      "Classificando com o  Perceptron\n",
      "Salvando as informações num JSON: relatorio_teste_GSC_SNR_-5dB_semPCA_1582138161.557216.json\n",
      "Classificando com o  Perceptron\n",
      "Salvando as informações num JSON: relatorio_teste_GSC_SNR_-5dB_semPCA_1582138161.7636821.json\n",
      "Classificando com o  Perceptron\n",
      "Salvando as informações num JSON: relatorio_teste_GSC_SNR_-5dB_semPCA_1582138161.9748554.json\n",
      "Classificando com o  Perceptron\n",
      "Salvando as informações num JSON: relatorio_teste_GSC_SNR_-5dB_semPCA_1582138162.183958.json\n",
      "O teste com todos os classificadores foi finalizado\n",
      "Classificando com o  SGDClassifier\n"
     ]
    },
    {
     "name": "stderr",
     "output_type": "stream",
     "text": [
      "/home/dimi/venvIC/lib/python3.7/site-packages/sklearn/metrics/classification.py:1437: UndefinedMetricWarning: Precision and F-score are ill-defined and being set to 0.0 in labels with no predicted samples.\n",
      "  'precision', 'predicted', average, warn_for)\n"
     ]
    },
    {
     "name": "stdout",
     "output_type": "stream",
     "text": [
      "Salvando as informações num JSON: relatorio_teste_semBeamforming_SNR_-9dB_semPCA_1582138162.4596357.json\n",
      "Classificando com o  SGDClassifier\n"
     ]
    },
    {
     "name": "stderr",
     "output_type": "stream",
     "text": [
      "/home/dimi/venvIC/lib/python3.7/site-packages/sklearn/metrics/classification.py:1437: UndefinedMetricWarning: Precision and F-score are ill-defined and being set to 0.0 in labels with no predicted samples.\n",
      "  'precision', 'predicted', average, warn_for)\n"
     ]
    },
    {
     "name": "stdout",
     "output_type": "stream",
     "text": [
      "Salvando as informações num JSON: relatorio_teste_semBeamforming_SNR_-9dB_semPCA_1582138162.6681151.json\n",
      "Classificando com o  SGDClassifier\n"
     ]
    },
    {
     "name": "stderr",
     "output_type": "stream",
     "text": [
      "/home/dimi/venvIC/lib/python3.7/site-packages/sklearn/metrics/classification.py:1437: UndefinedMetricWarning: Precision and F-score are ill-defined and being set to 0.0 in labels with no predicted samples.\n",
      "  'precision', 'predicted', average, warn_for)\n"
     ]
    },
    {
     "name": "stdout",
     "output_type": "stream",
     "text": [
      "Salvando as informações num JSON: relatorio_teste_semBeamforming_SNR_-9dB_semPCA_1582138162.8830216.json\n",
      "Classificando com o  SGDClassifier\n"
     ]
    },
    {
     "name": "stderr",
     "output_type": "stream",
     "text": [
      "/home/dimi/venvIC/lib/python3.7/site-packages/sklearn/metrics/classification.py:1437: UndefinedMetricWarning: Precision and F-score are ill-defined and being set to 0.0 in labels with no predicted samples.\n",
      "  'precision', 'predicted', average, warn_for)\n"
     ]
    },
    {
     "name": "stdout",
     "output_type": "stream",
     "text": [
      "Salvando as informações num JSON: relatorio_teste_semBeamforming_SNR_-9dB_semPCA_1582138163.0984297.json\n",
      "Classificando com o  SGDClassifier\n"
     ]
    },
    {
     "name": "stderr",
     "output_type": "stream",
     "text": [
      "/home/dimi/venvIC/lib/python3.7/site-packages/sklearn/metrics/classification.py:1437: UndefinedMetricWarning: Precision and F-score are ill-defined and being set to 0.0 in labels with no predicted samples.\n",
      "  'precision', 'predicted', average, warn_for)\n"
     ]
    },
    {
     "name": "stdout",
     "output_type": "stream",
     "text": [
      "Salvando as informações num JSON: relatorio_teste_semBeamforming_SNR_-9dB_semPCA_1582138163.3164487.json\n",
      "Classificando com o  SGDClassifier\n"
     ]
    },
    {
     "name": "stderr",
     "output_type": "stream",
     "text": [
      "/home/dimi/venvIC/lib/python3.7/site-packages/sklearn/metrics/classification.py:1437: UndefinedMetricWarning: Precision and F-score are ill-defined and being set to 0.0 in labels with no predicted samples.\n",
      "  'precision', 'predicted', average, warn_for)\n"
     ]
    },
    {
     "name": "stdout",
     "output_type": "stream",
     "text": [
      "Salvando as informações num JSON: relatorio_teste_semBeamforming_SNR_-9dB_semPCA_1582138163.5257819.json\n",
      "Classificando com o  SGDClassifier\n"
     ]
    },
    {
     "name": "stderr",
     "output_type": "stream",
     "text": [
      "/home/dimi/venvIC/lib/python3.7/site-packages/sklearn/metrics/classification.py:1437: UndefinedMetricWarning: Precision and F-score are ill-defined and being set to 0.0 in labels with no predicted samples.\n",
      "  'precision', 'predicted', average, warn_for)\n"
     ]
    },
    {
     "name": "stdout",
     "output_type": "stream",
     "text": [
      "Salvando as informações num JSON: relatorio_teste_semBeamforming_SNR_-9dB_semPCA_1582138163.733722.json\n",
      "Classificando com o  SGDClassifier\n"
     ]
    },
    {
     "name": "stderr",
     "output_type": "stream",
     "text": [
      "/home/dimi/venvIC/lib/python3.7/site-packages/sklearn/metrics/classification.py:1437: UndefinedMetricWarning: Precision and F-score are ill-defined and being set to 0.0 in labels with no predicted samples.\n",
      "  'precision', 'predicted', average, warn_for)\n"
     ]
    },
    {
     "name": "stdout",
     "output_type": "stream",
     "text": [
      "Salvando as informações num JSON: relatorio_teste_semBeamforming_SNR_-9dB_semPCA_1582138163.9430892.json\n",
      "Classificando com o  SGDClassifier\n"
     ]
    },
    {
     "name": "stderr",
     "output_type": "stream",
     "text": [
      "/home/dimi/venvIC/lib/python3.7/site-packages/sklearn/metrics/classification.py:1437: UndefinedMetricWarning: Precision and F-score are ill-defined and being set to 0.0 in labels with no predicted samples.\n",
      "  'precision', 'predicted', average, warn_for)\n"
     ]
    },
    {
     "name": "stdout",
     "output_type": "stream",
     "text": [
      "Salvando as informações num JSON: relatorio_teste_semBeamforming_SNR_-9dB_semPCA_1582138164.1563203.json\n",
      "Classificando com o  SGDClassifier\n"
     ]
    },
    {
     "name": "stderr",
     "output_type": "stream",
     "text": [
      "/home/dimi/venvIC/lib/python3.7/site-packages/sklearn/metrics/classification.py:1437: UndefinedMetricWarning: Precision and F-score are ill-defined and being set to 0.0 in labels with no predicted samples.\n",
      "  'precision', 'predicted', average, warn_for)\n"
     ]
    },
    {
     "name": "stdout",
     "output_type": "stream",
     "text": [
      "Salvando as informações num JSON: relatorio_teste_semBeamforming_SNR_-9dB_semPCA_1582138164.3689003.json\n",
      "Classificando com o  BaggingClassifier\n",
      "Salvando as informações num JSON: relatorio_teste_semBeamforming_SNR_-9dB_semPCA_1582138164.6964068.json\n",
      "Classificando com o  BaggingClassifier\n"
     ]
    },
    {
     "name": "stderr",
     "output_type": "stream",
     "text": [
      "/home/dimi/venvIC/lib/python3.7/site-packages/sklearn/metrics/classification.py:1437: UndefinedMetricWarning: Precision and F-score are ill-defined and being set to 0.0 in labels with no predicted samples.\n",
      "  'precision', 'predicted', average, warn_for)\n"
     ]
    },
    {
     "name": "stdout",
     "output_type": "stream",
     "text": [
      "Salvando as informações num JSON: relatorio_teste_semBeamforming_SNR_-9dB_semPCA_1582138165.0204568.json\n",
      "Classificando com o  BaggingClassifier\n"
     ]
    },
    {
     "name": "stderr",
     "output_type": "stream",
     "text": [
      "/home/dimi/venvIC/lib/python3.7/site-packages/sklearn/metrics/classification.py:1437: UndefinedMetricWarning: Precision and F-score are ill-defined and being set to 0.0 in labels with no predicted samples.\n",
      "  'precision', 'predicted', average, warn_for)\n"
     ]
    },
    {
     "name": "stdout",
     "output_type": "stream",
     "text": [
      "Salvando as informações num JSON: relatorio_teste_semBeamforming_SNR_-9dB_semPCA_1582138165.348384.json\n",
      "Classificando com o  BaggingClassifier\n",
      "Salvando as informações num JSON: relatorio_teste_semBeamforming_SNR_-9dB_semPCA_1582138165.6775134.json\n",
      "Classificando com o  BaggingClassifier\n"
     ]
    },
    {
     "name": "stderr",
     "output_type": "stream",
     "text": [
      "/home/dimi/venvIC/lib/python3.7/site-packages/sklearn/metrics/classification.py:1437: UndefinedMetricWarning: Precision and F-score are ill-defined and being set to 0.0 in labels with no predicted samples.\n",
      "  'precision', 'predicted', average, warn_for)\n"
     ]
    },
    {
     "name": "stdout",
     "output_type": "stream",
     "text": [
      "Salvando as informações num JSON: relatorio_teste_semBeamforming_SNR_-9dB_semPCA_1582138166.000197.json\n",
      "Classificando com o  BaggingClassifier\n",
      "Salvando as informações num JSON: relatorio_teste_semBeamforming_SNR_-9dB_semPCA_1582138166.3242247.json\n",
      "Classificando com o  BaggingClassifier\n",
      "Salvando as informações num JSON: relatorio_teste_semBeamforming_SNR_-9dB_semPCA_1582138166.6526685.json\n",
      "Classificando com o  BaggingClassifier\n",
      "Salvando as informações num JSON: relatorio_teste_semBeamforming_SNR_-9dB_semPCA_1582138166.9812574.json\n",
      "Classificando com o  BaggingClassifier\n",
      "Salvando as informações num JSON: relatorio_teste_semBeamforming_SNR_-9dB_semPCA_1582138167.3058765.json\n",
      "Classificando com o  BaggingClassifier\n",
      "Salvando as informações num JSON: relatorio_teste_semBeamforming_SNR_-9dB_semPCA_1582138167.6346862.json\n",
      "Classificando com o  KNeighborsClassifier\n",
      "Salvando as informações num JSON: relatorio_teste_semBeamforming_SNR_-9dB_semPCA_1582138169.5273132.json\n",
      "Classificando com o  KNeighborsClassifier\n",
      "Salvando as informações num JSON: relatorio_teste_semBeamforming_SNR_-9dB_semPCA_1582138171.4455116.json\n",
      "Classificando com o  KNeighborsClassifier\n",
      "Salvando as informações num JSON: relatorio_teste_semBeamforming_SNR_-9dB_semPCA_1582138173.3322577.json\n",
      "Classificando com o  KNeighborsClassifier\n",
      "Salvando as informações num JSON: relatorio_teste_semBeamforming_SNR_-9dB_semPCA_1582138175.2150857.json\n",
      "Classificando com o  KNeighborsClassifier\n"
     ]
    },
    {
     "name": "stderr",
     "output_type": "stream",
     "text": [
      "/home/dimi/venvIC/lib/python3.7/site-packages/sklearn/metrics/classification.py:1437: UndefinedMetricWarning: Precision and F-score are ill-defined and being set to 0.0 in labels with no predicted samples.\n",
      "  'precision', 'predicted', average, warn_for)\n"
     ]
    },
    {
     "name": "stdout",
     "output_type": "stream",
     "text": [
      "Salvando as informações num JSON: relatorio_teste_semBeamforming_SNR_-9dB_semPCA_1582138177.074593.json\n",
      "Classificando com o  KNeighborsClassifier\n",
      "Salvando as informações num JSON: relatorio_teste_semBeamforming_SNR_-9dB_semPCA_1582138178.9800937.json\n",
      "Classificando com o  KNeighborsClassifier\n",
      "Salvando as informações num JSON: relatorio_teste_semBeamforming_SNR_-9dB_semPCA_1582138180.8300748.json\n",
      "Classificando com o  KNeighborsClassifier\n",
      "Salvando as informações num JSON: relatorio_teste_semBeamforming_SNR_-9dB_semPCA_1582138182.7111588.json\n",
      "Classificando com o  KNeighborsClassifier\n",
      "Salvando as informações num JSON: relatorio_teste_semBeamforming_SNR_-9dB_semPCA_1582138184.615704.json\n",
      "Classificando com o  KNeighborsClassifier\n",
      "Salvando as informações num JSON: relatorio_teste_semBeamforming_SNR_-9dB_semPCA_1582138186.473401.json\n",
      "Classificando com o  LinearSVC\n",
      "Salvando as informações num JSON: relatorio_teste_semBeamforming_SNR_-9dB_semPCA_1582138186.6787689.json\n",
      "Classificando com o  LinearSVC\n",
      "Salvando as informações num JSON: relatorio_teste_semBeamforming_SNR_-9dB_semPCA_1582138186.8840106.json\n",
      "Classificando com o  LinearSVC\n",
      "Salvando as informações num JSON: relatorio_teste_semBeamforming_SNR_-9dB_semPCA_1582138187.0930047.json\n",
      "Classificando com o  LinearSVC\n",
      "Salvando as informações num JSON: relatorio_teste_semBeamforming_SNR_-9dB_semPCA_1582138187.3141935.json\n",
      "Classificando com o  LinearSVC\n",
      "Salvando as informações num JSON: relatorio_teste_semBeamforming_SNR_-9dB_semPCA_1582138187.5321808.json\n",
      "Classificando com o  LinearSVC\n",
      "Salvando as informações num JSON: relatorio_teste_semBeamforming_SNR_-9dB_semPCA_1582138187.7394657.json\n",
      "Classificando com o  LinearSVC\n",
      "Salvando as informações num JSON: relatorio_teste_semBeamforming_SNR_-9dB_semPCA_1582138187.9454122.json\n",
      "Classificando com o  LinearSVC\n",
      "Salvando as informações num JSON: relatorio_teste_semBeamforming_SNR_-9dB_semPCA_1582138188.1522777.json\n",
      "Classificando com o  LinearSVC\n",
      "Salvando as informações num JSON: relatorio_teste_semBeamforming_SNR_-9dB_semPCA_1582138188.366707.json\n",
      "Classificando com o  LinearSVC\n",
      "Salvando as informações num JSON: relatorio_teste_semBeamforming_SNR_-9dB_semPCA_1582138188.5836968.json\n",
      "Classificando com o  Perceptron\n",
      "Salvando as informações num JSON: relatorio_teste_semBeamforming_SNR_-9dB_semPCA_1582138188.796975.json\n",
      "Classificando com o  Perceptron\n",
      "Salvando as informações num JSON: relatorio_teste_semBeamforming_SNR_-9dB_semPCA_1582138189.007017.json\n",
      "Classificando com o  Perceptron\n"
     ]
    },
    {
     "name": "stderr",
     "output_type": "stream",
     "text": [
      "/home/dimi/venvIC/lib/python3.7/site-packages/sklearn/metrics/classification.py:1437: UndefinedMetricWarning: Precision and F-score are ill-defined and being set to 0.0 in labels with no predicted samples.\n",
      "  'precision', 'predicted', average, warn_for)\n"
     ]
    },
    {
     "name": "stdout",
     "output_type": "stream",
     "text": [
      "Salvando as informações num JSON: relatorio_teste_semBeamforming_SNR_-9dB_semPCA_1582138189.2174907.json\n",
      "Classificando com o  Perceptron\n",
      "Salvando as informações num JSON: relatorio_teste_semBeamforming_SNR_-9dB_semPCA_1582138189.4303348.json\n",
      "Classificando com o  Perceptron\n",
      "Salvando as informações num JSON: relatorio_teste_semBeamforming_SNR_-9dB_semPCA_1582138189.6433623.json\n",
      "Classificando com o  Perceptron\n",
      "Salvando as informações num JSON: relatorio_teste_semBeamforming_SNR_-9dB_semPCA_1582138189.8538818.json\n",
      "Classificando com o  Perceptron\n",
      "Salvando as informações num JSON: relatorio_teste_semBeamforming_SNR_-9dB_semPCA_1582138190.0676193.json\n",
      "Classificando com o  Perceptron\n",
      "Salvando as informações num JSON: relatorio_teste_semBeamforming_SNR_-9dB_semPCA_1582138190.280494.json\n",
      "Classificando com o  Perceptron\n",
      "Salvando as informações num JSON: relatorio_teste_semBeamforming_SNR_-9dB_semPCA_1582138190.4894943.json\n",
      "Classificando com o  Perceptron\n",
      "Salvando as informações num JSON: relatorio_teste_semBeamforming_SNR_-9dB_semPCA_1582138190.699262.json\n",
      "O teste com todos os classificadores foi finalizado\n",
      "Classificando com o  SGDClassifier\n"
     ]
    },
    {
     "name": "stderr",
     "output_type": "stream",
     "text": [
      "/home/dimi/venvIC/lib/python3.7/site-packages/sklearn/metrics/classification.py:1437: UndefinedMetricWarning: Precision and F-score are ill-defined and being set to 0.0 in labels with no predicted samples.\n",
      "  'precision', 'predicted', average, warn_for)\n"
     ]
    },
    {
     "name": "stdout",
     "output_type": "stream",
     "text": [
      "Salvando as informações num JSON: relatorio_teste_beamforming_SNR_-9dB_semPCA_1582138190.9677298.json\n",
      "Classificando com o  SGDClassifier\n"
     ]
    },
    {
     "name": "stderr",
     "output_type": "stream",
     "text": [
      "/home/dimi/venvIC/lib/python3.7/site-packages/sklearn/metrics/classification.py:1437: UndefinedMetricWarning: Precision and F-score are ill-defined and being set to 0.0 in labels with no predicted samples.\n",
      "  'precision', 'predicted', average, warn_for)\n"
     ]
    },
    {
     "name": "stdout",
     "output_type": "stream",
     "text": [
      "Salvando as informações num JSON: relatorio_teste_beamforming_SNR_-9dB_semPCA_1582138191.1773407.json\n",
      "Classificando com o  SGDClassifier\n"
     ]
    },
    {
     "name": "stderr",
     "output_type": "stream",
     "text": [
      "/home/dimi/venvIC/lib/python3.7/site-packages/sklearn/metrics/classification.py:1437: UndefinedMetricWarning: Precision and F-score are ill-defined and being set to 0.0 in labels with no predicted samples.\n",
      "  'precision', 'predicted', average, warn_for)\n"
     ]
    },
    {
     "name": "stdout",
     "output_type": "stream",
     "text": [
      "Salvando as informações num JSON: relatorio_teste_beamforming_SNR_-9dB_semPCA_1582138191.3918822.json\n",
      "Classificando com o  SGDClassifier\n"
     ]
    },
    {
     "name": "stderr",
     "output_type": "stream",
     "text": [
      "/home/dimi/venvIC/lib/python3.7/site-packages/sklearn/metrics/classification.py:1437: UndefinedMetricWarning: Precision and F-score are ill-defined and being set to 0.0 in labels with no predicted samples.\n",
      "  'precision', 'predicted', average, warn_for)\n"
     ]
    },
    {
     "name": "stdout",
     "output_type": "stream",
     "text": [
      "Salvando as informações num JSON: relatorio_teste_beamforming_SNR_-9dB_semPCA_1582138191.5996802.json\n",
      "Classificando com o  SGDClassifier\n"
     ]
    },
    {
     "name": "stderr",
     "output_type": "stream",
     "text": [
      "/home/dimi/venvIC/lib/python3.7/site-packages/sklearn/metrics/classification.py:1437: UndefinedMetricWarning: Precision and F-score are ill-defined and being set to 0.0 in labels with no predicted samples.\n",
      "  'precision', 'predicted', average, warn_for)\n"
     ]
    },
    {
     "name": "stdout",
     "output_type": "stream",
     "text": [
      "Salvando as informações num JSON: relatorio_teste_beamforming_SNR_-9dB_semPCA_1582138191.8130574.json\n",
      "Classificando com o  SGDClassifier\n"
     ]
    },
    {
     "name": "stderr",
     "output_type": "stream",
     "text": [
      "/home/dimi/venvIC/lib/python3.7/site-packages/sklearn/metrics/classification.py:1437: UndefinedMetricWarning: Precision and F-score are ill-defined and being set to 0.0 in labels with no predicted samples.\n",
      "  'precision', 'predicted', average, warn_for)\n"
     ]
    },
    {
     "name": "stdout",
     "output_type": "stream",
     "text": [
      "Salvando as informações num JSON: relatorio_teste_beamforming_SNR_-9dB_semPCA_1582138192.025352.json\n",
      "Classificando com o  SGDClassifier\n"
     ]
    },
    {
     "name": "stderr",
     "output_type": "stream",
     "text": [
      "/home/dimi/venvIC/lib/python3.7/site-packages/sklearn/metrics/classification.py:1437: UndefinedMetricWarning: Precision and F-score are ill-defined and being set to 0.0 in labels with no predicted samples.\n",
      "  'precision', 'predicted', average, warn_for)\n"
     ]
    },
    {
     "name": "stdout",
     "output_type": "stream",
     "text": [
      "Salvando as informações num JSON: relatorio_teste_beamforming_SNR_-9dB_semPCA_1582138192.2383723.json\n",
      "Classificando com o  SGDClassifier\n"
     ]
    },
    {
     "name": "stderr",
     "output_type": "stream",
     "text": [
      "/home/dimi/venvIC/lib/python3.7/site-packages/sklearn/metrics/classification.py:1437: UndefinedMetricWarning: Precision and F-score are ill-defined and being set to 0.0 in labels with no predicted samples.\n",
      "  'precision', 'predicted', average, warn_for)\n"
     ]
    },
    {
     "name": "stdout",
     "output_type": "stream",
     "text": [
      "Salvando as informações num JSON: relatorio_teste_beamforming_SNR_-9dB_semPCA_1582138192.4512591.json\n",
      "Classificando com o  SGDClassifier\n"
     ]
    },
    {
     "name": "stderr",
     "output_type": "stream",
     "text": [
      "/home/dimi/venvIC/lib/python3.7/site-packages/sklearn/metrics/classification.py:1437: UndefinedMetricWarning: Precision and F-score are ill-defined and being set to 0.0 in labels with no predicted samples.\n",
      "  'precision', 'predicted', average, warn_for)\n"
     ]
    },
    {
     "name": "stdout",
     "output_type": "stream",
     "text": [
      "Salvando as informações num JSON: relatorio_teste_beamforming_SNR_-9dB_semPCA_1582138192.662569.json\n",
      "Classificando com o  SGDClassifier\n"
     ]
    },
    {
     "name": "stderr",
     "output_type": "stream",
     "text": [
      "/home/dimi/venvIC/lib/python3.7/site-packages/sklearn/metrics/classification.py:1437: UndefinedMetricWarning: Precision and F-score are ill-defined and being set to 0.0 in labels with no predicted samples.\n",
      "  'precision', 'predicted', average, warn_for)\n"
     ]
    },
    {
     "name": "stdout",
     "output_type": "stream",
     "text": [
      "Salvando as informações num JSON: relatorio_teste_beamforming_SNR_-9dB_semPCA_1582138192.8734376.json\n",
      "Classificando com o  BaggingClassifier\n",
      "Salvando as informações num JSON: relatorio_teste_beamforming_SNR_-9dB_semPCA_1582138193.198136.json\n",
      "Classificando com o  BaggingClassifier\n"
     ]
    },
    {
     "name": "stderr",
     "output_type": "stream",
     "text": [
      "/home/dimi/venvIC/lib/python3.7/site-packages/sklearn/metrics/classification.py:1437: UndefinedMetricWarning: Precision and F-score are ill-defined and being set to 0.0 in labels with no predicted samples.\n",
      "  'precision', 'predicted', average, warn_for)\n"
     ]
    },
    {
     "name": "stdout",
     "output_type": "stream",
     "text": [
      "Salvando as informações num JSON: relatorio_teste_beamforming_SNR_-9dB_semPCA_1582138193.5318806.json\n",
      "Classificando com o  BaggingClassifier\n"
     ]
    },
    {
     "name": "stderr",
     "output_type": "stream",
     "text": [
      "/home/dimi/venvIC/lib/python3.7/site-packages/sklearn/metrics/classification.py:1437: UndefinedMetricWarning: Precision and F-score are ill-defined and being set to 0.0 in labels with no predicted samples.\n",
      "  'precision', 'predicted', average, warn_for)\n"
     ]
    },
    {
     "name": "stdout",
     "output_type": "stream",
     "text": [
      "Salvando as informações num JSON: relatorio_teste_beamforming_SNR_-9dB_semPCA_1582138193.8601725.json\n",
      "Classificando com o  BaggingClassifier\n",
      "Salvando as informações num JSON: relatorio_teste_beamforming_SNR_-9dB_semPCA_1582138194.1846702.json\n",
      "Classificando com o  BaggingClassifier\n"
     ]
    },
    {
     "name": "stderr",
     "output_type": "stream",
     "text": [
      "/home/dimi/venvIC/lib/python3.7/site-packages/sklearn/metrics/classification.py:1437: UndefinedMetricWarning: Precision and F-score are ill-defined and being set to 0.0 in labels with no predicted samples.\n",
      "  'precision', 'predicted', average, warn_for)\n"
     ]
    },
    {
     "name": "stdout",
     "output_type": "stream",
     "text": [
      "Salvando as informações num JSON: relatorio_teste_beamforming_SNR_-9dB_semPCA_1582138194.515021.json\n",
      "Classificando com o  BaggingClassifier\n",
      "Salvando as informações num JSON: relatorio_teste_beamforming_SNR_-9dB_semPCA_1582138194.8424911.json\n",
      "Classificando com o  BaggingClassifier\n",
      "Salvando as informações num JSON: relatorio_teste_beamforming_SNR_-9dB_semPCA_1582138195.1650095.json\n",
      "Classificando com o  BaggingClassifier\n",
      "Salvando as informações num JSON: relatorio_teste_beamforming_SNR_-9dB_semPCA_1582138195.493318.json\n",
      "Classificando com o  BaggingClassifier\n",
      "Salvando as informações num JSON: relatorio_teste_beamforming_SNR_-9dB_semPCA_1582138195.8233893.json\n",
      "Classificando com o  BaggingClassifier\n",
      "Salvando as informações num JSON: relatorio_teste_beamforming_SNR_-9dB_semPCA_1582138196.150381.json\n",
      "Classificando com o  KNeighborsClassifier\n",
      "Salvando as informações num JSON: relatorio_teste_beamforming_SNR_-9dB_semPCA_1582138198.0889337.json\n",
      "Classificando com o  KNeighborsClassifier\n",
      "Salvando as informações num JSON: relatorio_teste_beamforming_SNR_-9dB_semPCA_1582138199.9881837.json\n",
      "Classificando com o  KNeighborsClassifier\n",
      "Salvando as informações num JSON: relatorio_teste_beamforming_SNR_-9dB_semPCA_1582138201.8943725.json\n",
      "Classificando com o  KNeighborsClassifier\n",
      "Salvando as informações num JSON: relatorio_teste_beamforming_SNR_-9dB_semPCA_1582138203.8421695.json\n",
      "Classificando com o  KNeighborsClassifier\n"
     ]
    },
    {
     "name": "stderr",
     "output_type": "stream",
     "text": [
      "/home/dimi/venvIC/lib/python3.7/site-packages/sklearn/metrics/classification.py:1437: UndefinedMetricWarning: Precision and F-score are ill-defined and being set to 0.0 in labels with no predicted samples.\n",
      "  'precision', 'predicted', average, warn_for)\n"
     ]
    },
    {
     "name": "stdout",
     "output_type": "stream",
     "text": [
      "Salvando as informações num JSON: relatorio_teste_beamforming_SNR_-9dB_semPCA_1582138205.729118.json\n",
      "Classificando com o  KNeighborsClassifier\n",
      "Salvando as informações num JSON: relatorio_teste_beamforming_SNR_-9dB_semPCA_1582138207.6617403.json\n",
      "Classificando com o  KNeighborsClassifier\n",
      "Salvando as informações num JSON: relatorio_teste_beamforming_SNR_-9dB_semPCA_1582138209.5199785.json\n",
      "Classificando com o  KNeighborsClassifier\n",
      "Salvando as informações num JSON: relatorio_teste_beamforming_SNR_-9dB_semPCA_1582138211.4374537.json\n",
      "Classificando com o  KNeighborsClassifier\n",
      "Salvando as informações num JSON: relatorio_teste_beamforming_SNR_-9dB_semPCA_1582138213.3569884.json\n",
      "Classificando com o  KNeighborsClassifier\n",
      "Salvando as informações num JSON: relatorio_teste_beamforming_SNR_-9dB_semPCA_1582138215.21795.json\n",
      "Classificando com o  LinearSVC\n",
      "Salvando as informações num JSON: relatorio_teste_beamforming_SNR_-9dB_semPCA_1582138215.4292896.json\n",
      "Classificando com o  LinearSVC\n",
      "Salvando as informações num JSON: relatorio_teste_beamforming_SNR_-9dB_semPCA_1582138215.636864.json\n",
      "Classificando com o  LinearSVC\n",
      "Salvando as informações num JSON: relatorio_teste_beamforming_SNR_-9dB_semPCA_1582138215.8470643.json\n",
      "Classificando com o  LinearSVC\n",
      "Salvando as informações num JSON: relatorio_teste_beamforming_SNR_-9dB_semPCA_1582138216.056049.json\n",
      "Classificando com o  LinearSVC\n",
      "Salvando as informações num JSON: relatorio_teste_beamforming_SNR_-9dB_semPCA_1582138216.2653282.json\n",
      "Classificando com o  LinearSVC\n",
      "Salvando as informações num JSON: relatorio_teste_beamforming_SNR_-9dB_semPCA_1582138216.4741466.json\n",
      "Classificando com o  LinearSVC\n",
      "Salvando as informações num JSON: relatorio_teste_beamforming_SNR_-9dB_semPCA_1582138216.6859152.json\n",
      "Classificando com o  LinearSVC\n",
      "Salvando as informações num JSON: relatorio_teste_beamforming_SNR_-9dB_semPCA_1582138216.8969362.json\n",
      "Classificando com o  LinearSVC\n",
      "Salvando as informações num JSON: relatorio_teste_beamforming_SNR_-9dB_semPCA_1582138217.104716.json\n",
      "Classificando com o  LinearSVC\n",
      "Salvando as informações num JSON: relatorio_teste_beamforming_SNR_-9dB_semPCA_1582138217.3138998.json\n",
      "Classificando com o  Perceptron\n",
      "Salvando as informações num JSON: relatorio_teste_beamforming_SNR_-9dB_semPCA_1582138217.5280511.json\n",
      "Classificando com o  Perceptron\n",
      "Salvando as informações num JSON: relatorio_teste_beamforming_SNR_-9dB_semPCA_1582138217.7332203.json\n",
      "Classificando com o  Perceptron\n"
     ]
    },
    {
     "name": "stderr",
     "output_type": "stream",
     "text": [
      "/home/dimi/venvIC/lib/python3.7/site-packages/sklearn/metrics/classification.py:1437: UndefinedMetricWarning: Precision and F-score are ill-defined and being set to 0.0 in labels with no predicted samples.\n",
      "  'precision', 'predicted', average, warn_for)\n"
     ]
    },
    {
     "name": "stdout",
     "output_type": "stream",
     "text": [
      "Salvando as informações num JSON: relatorio_teste_beamforming_SNR_-9dB_semPCA_1582138217.938838.json\n",
      "Classificando com o  Perceptron\n",
      "Salvando as informações num JSON: relatorio_teste_beamforming_SNR_-9dB_semPCA_1582138218.1478305.json\n",
      "Classificando com o  Perceptron\n",
      "Salvando as informações num JSON: relatorio_teste_beamforming_SNR_-9dB_semPCA_1582138218.358316.json\n",
      "Classificando com o  Perceptron\n",
      "Salvando as informações num JSON: relatorio_teste_beamforming_SNR_-9dB_semPCA_1582138218.5713384.json\n",
      "Classificando com o  Perceptron\n",
      "Salvando as informações num JSON: relatorio_teste_beamforming_SNR_-9dB_semPCA_1582138218.7776418.json\n",
      "Classificando com o  Perceptron\n",
      "Salvando as informações num JSON: relatorio_teste_beamforming_SNR_-9dB_semPCA_1582138218.9941864.json\n",
      "Classificando com o  Perceptron\n",
      "Salvando as informações num JSON: relatorio_teste_beamforming_SNR_-9dB_semPCA_1582138219.2103977.json\n",
      "Classificando com o  Perceptron\n",
      "Salvando as informações num JSON: relatorio_teste_beamforming_SNR_-9dB_semPCA_1582138219.420579.json\n",
      "O teste com todos os classificadores foi finalizado\n",
      "Classificando com o  SGDClassifier\n"
     ]
    },
    {
     "name": "stderr",
     "output_type": "stream",
     "text": [
      "/home/dimi/venvIC/lib/python3.7/site-packages/sklearn/metrics/classification.py:1437: UndefinedMetricWarning: Precision and F-score are ill-defined and being set to 0.0 in labels with no predicted samples.\n",
      "  'precision', 'predicted', average, warn_for)\n"
     ]
    },
    {
     "name": "stdout",
     "output_type": "stream",
     "text": [
      "Salvando as informações num JSON: relatorio_teste_GSC_SNR_-9dB_semPCA_1582138219.6919482.json\n",
      "Classificando com o  SGDClassifier\n"
     ]
    },
    {
     "name": "stderr",
     "output_type": "stream",
     "text": [
      "/home/dimi/venvIC/lib/python3.7/site-packages/sklearn/metrics/classification.py:1437: UndefinedMetricWarning: Precision and F-score are ill-defined and being set to 0.0 in labels with no predicted samples.\n",
      "  'precision', 'predicted', average, warn_for)\n"
     ]
    },
    {
     "name": "stdout",
     "output_type": "stream",
     "text": [
      "Salvando as informações num JSON: relatorio_teste_GSC_SNR_-9dB_semPCA_1582138219.9009206.json\n",
      "Classificando com o  SGDClassifier\n"
     ]
    },
    {
     "name": "stderr",
     "output_type": "stream",
     "text": [
      "/home/dimi/venvIC/lib/python3.7/site-packages/sklearn/metrics/classification.py:1437: UndefinedMetricWarning: Precision and F-score are ill-defined and being set to 0.0 in labels with no predicted samples.\n",
      "  'precision', 'predicted', average, warn_for)\n"
     ]
    },
    {
     "name": "stdout",
     "output_type": "stream",
     "text": [
      "Salvando as informações num JSON: relatorio_teste_GSC_SNR_-9dB_semPCA_1582138220.1194623.json\n",
      "Classificando com o  SGDClassifier\n"
     ]
    },
    {
     "name": "stderr",
     "output_type": "stream",
     "text": [
      "/home/dimi/venvIC/lib/python3.7/site-packages/sklearn/metrics/classification.py:1437: UndefinedMetricWarning: Precision and F-score are ill-defined and being set to 0.0 in labels with no predicted samples.\n",
      "  'precision', 'predicted', average, warn_for)\n"
     ]
    },
    {
     "name": "stdout",
     "output_type": "stream",
     "text": [
      "Salvando as informações num JSON: relatorio_teste_GSC_SNR_-9dB_semPCA_1582138220.3323505.json\n",
      "Classificando com o  SGDClassifier\n"
     ]
    },
    {
     "name": "stderr",
     "output_type": "stream",
     "text": [
      "/home/dimi/venvIC/lib/python3.7/site-packages/sklearn/metrics/classification.py:1437: UndefinedMetricWarning: Precision and F-score are ill-defined and being set to 0.0 in labels with no predicted samples.\n",
      "  'precision', 'predicted', average, warn_for)\n"
     ]
    },
    {
     "name": "stdout",
     "output_type": "stream",
     "text": [
      "Salvando as informações num JSON: relatorio_teste_GSC_SNR_-9dB_semPCA_1582138220.5422087.json\n",
      "Classificando com o  SGDClassifier\n"
     ]
    },
    {
     "name": "stderr",
     "output_type": "stream",
     "text": [
      "/home/dimi/venvIC/lib/python3.7/site-packages/sklearn/metrics/classification.py:1437: UndefinedMetricWarning: Precision and F-score are ill-defined and being set to 0.0 in labels with no predicted samples.\n",
      "  'precision', 'predicted', average, warn_for)\n"
     ]
    },
    {
     "name": "stdout",
     "output_type": "stream",
     "text": [
      "Salvando as informações num JSON: relatorio_teste_GSC_SNR_-9dB_semPCA_1582138220.7607632.json\n",
      "Classificando com o  SGDClassifier\n"
     ]
    },
    {
     "name": "stderr",
     "output_type": "stream",
     "text": [
      "/home/dimi/venvIC/lib/python3.7/site-packages/sklearn/metrics/classification.py:1437: UndefinedMetricWarning: Precision and F-score are ill-defined and being set to 0.0 in labels with no predicted samples.\n",
      "  'precision', 'predicted', average, warn_for)\n"
     ]
    },
    {
     "name": "stdout",
     "output_type": "stream",
     "text": [
      "Salvando as informações num JSON: relatorio_teste_GSC_SNR_-9dB_semPCA_1582138220.9768066.json\n",
      "Classificando com o  SGDClassifier\n"
     ]
    },
    {
     "name": "stderr",
     "output_type": "stream",
     "text": [
      "/home/dimi/venvIC/lib/python3.7/site-packages/sklearn/metrics/classification.py:1437: UndefinedMetricWarning: Precision and F-score are ill-defined and being set to 0.0 in labels with no predicted samples.\n",
      "  'precision', 'predicted', average, warn_for)\n"
     ]
    },
    {
     "name": "stdout",
     "output_type": "stream",
     "text": [
      "Salvando as informações num JSON: relatorio_teste_GSC_SNR_-9dB_semPCA_1582138221.1892135.json\n",
      "Classificando com o  SGDClassifier\n"
     ]
    },
    {
     "name": "stderr",
     "output_type": "stream",
     "text": [
      "/home/dimi/venvIC/lib/python3.7/site-packages/sklearn/metrics/classification.py:1437: UndefinedMetricWarning: Precision and F-score are ill-defined and being set to 0.0 in labels with no predicted samples.\n",
      "  'precision', 'predicted', average, warn_for)\n"
     ]
    },
    {
     "name": "stdout",
     "output_type": "stream",
     "text": [
      "Salvando as informações num JSON: relatorio_teste_GSC_SNR_-9dB_semPCA_1582138221.4067523.json\n",
      "Classificando com o  SGDClassifier\n"
     ]
    },
    {
     "name": "stderr",
     "output_type": "stream",
     "text": [
      "/home/dimi/venvIC/lib/python3.7/site-packages/sklearn/metrics/classification.py:1437: UndefinedMetricWarning: Precision and F-score are ill-defined and being set to 0.0 in labels with no predicted samples.\n",
      "  'precision', 'predicted', average, warn_for)\n"
     ]
    },
    {
     "name": "stdout",
     "output_type": "stream",
     "text": [
      "Salvando as informações num JSON: relatorio_teste_GSC_SNR_-9dB_semPCA_1582138221.6228886.json\n",
      "Classificando com o  BaggingClassifier\n",
      "Salvando as informações num JSON: relatorio_teste_GSC_SNR_-9dB_semPCA_1582138221.951927.json\n",
      "Classificando com o  BaggingClassifier\n"
     ]
    },
    {
     "name": "stderr",
     "output_type": "stream",
     "text": [
      "/home/dimi/venvIC/lib/python3.7/site-packages/sklearn/metrics/classification.py:1437: UndefinedMetricWarning: Precision and F-score are ill-defined and being set to 0.0 in labels with no predicted samples.\n",
      "  'precision', 'predicted', average, warn_for)\n"
     ]
    },
    {
     "name": "stdout",
     "output_type": "stream",
     "text": [
      "Salvando as informações num JSON: relatorio_teste_GSC_SNR_-9dB_semPCA_1582138222.2738576.json\n",
      "Classificando com o  BaggingClassifier\n",
      "Salvando as informações num JSON: relatorio_teste_GSC_SNR_-9dB_semPCA_1582138222.602226.json\n",
      "Classificando com o  BaggingClassifier\n",
      "Salvando as informações num JSON: relatorio_teste_GSC_SNR_-9dB_semPCA_1582138222.9246948.json\n",
      "Classificando com o  BaggingClassifier\n"
     ]
    },
    {
     "name": "stderr",
     "output_type": "stream",
     "text": [
      "/home/dimi/venvIC/lib/python3.7/site-packages/sklearn/metrics/classification.py:1437: UndefinedMetricWarning: Precision and F-score are ill-defined and being set to 0.0 in labels with no predicted samples.\n",
      "  'precision', 'predicted', average, warn_for)\n"
     ]
    },
    {
     "name": "stdout",
     "output_type": "stream",
     "text": [
      "Salvando as informações num JSON: relatorio_teste_GSC_SNR_-9dB_semPCA_1582138223.261988.json\n",
      "Classificando com o  BaggingClassifier\n",
      "Salvando as informações num JSON: relatorio_teste_GSC_SNR_-9dB_semPCA_1582138223.5913222.json\n",
      "Classificando com o  BaggingClassifier\n",
      "Salvando as informações num JSON: relatorio_teste_GSC_SNR_-9dB_semPCA_1582138223.9135566.json\n",
      "Classificando com o  BaggingClassifier\n",
      "Salvando as informações num JSON: relatorio_teste_GSC_SNR_-9dB_semPCA_1582138224.2332685.json\n",
      "Classificando com o  BaggingClassifier\n",
      "Salvando as informações num JSON: relatorio_teste_GSC_SNR_-9dB_semPCA_1582138224.5554802.json\n",
      "Classificando com o  BaggingClassifier\n",
      "Salvando as informações num JSON: relatorio_teste_GSC_SNR_-9dB_semPCA_1582138224.8779256.json\n",
      "Classificando com o  KNeighborsClassifier\n",
      "Salvando as informações num JSON: relatorio_teste_GSC_SNR_-9dB_semPCA_1582138226.7560532.json\n",
      "Classificando com o  KNeighborsClassifier\n"
     ]
    },
    {
     "name": "stderr",
     "output_type": "stream",
     "text": [
      "/home/dimi/venvIC/lib/python3.7/site-packages/sklearn/metrics/classification.py:1437: UndefinedMetricWarning: Precision and F-score are ill-defined and being set to 0.0 in labels with no predicted samples.\n",
      "  'precision', 'predicted', average, warn_for)\n"
     ]
    },
    {
     "name": "stdout",
     "output_type": "stream",
     "text": [
      "Salvando as informações num JSON: relatorio_teste_GSC_SNR_-9dB_semPCA_1582138228.6454077.json\n",
      "Classificando com o  KNeighborsClassifier\n",
      "Salvando as informações num JSON: relatorio_teste_GSC_SNR_-9dB_semPCA_1582138230.512456.json\n",
      "Classificando com o  KNeighborsClassifier\n",
      "Salvando as informações num JSON: relatorio_teste_GSC_SNR_-9dB_semPCA_1582138232.3988917.json\n",
      "Classificando com o  KNeighborsClassifier\n"
     ]
    },
    {
     "name": "stderr",
     "output_type": "stream",
     "text": [
      "/home/dimi/venvIC/lib/python3.7/site-packages/sklearn/metrics/classification.py:1437: UndefinedMetricWarning: Precision and F-score are ill-defined and being set to 0.0 in labels with no predicted samples.\n",
      "  'precision', 'predicted', average, warn_for)\n"
     ]
    },
    {
     "name": "stdout",
     "output_type": "stream",
     "text": [
      "Salvando as informações num JSON: relatorio_teste_GSC_SNR_-9dB_semPCA_1582138234.242438.json\n",
      "Classificando com o  KNeighborsClassifier\n",
      "Salvando as informações num JSON: relatorio_teste_GSC_SNR_-9dB_semPCA_1582138236.1483052.json\n",
      "Classificando com o  KNeighborsClassifier\n",
      "Salvando as informações num JSON: relatorio_teste_GSC_SNR_-9dB_semPCA_1582138238.005885.json\n",
      "Classificando com o  KNeighborsClassifier\n",
      "Salvando as informações num JSON: relatorio_teste_GSC_SNR_-9dB_semPCA_1582138239.8768668.json\n",
      "Classificando com o  KNeighborsClassifier\n",
      "Salvando as informações num JSON: relatorio_teste_GSC_SNR_-9dB_semPCA_1582138241.774307.json\n",
      "Classificando com o  KNeighborsClassifier\n",
      "Salvando as informações num JSON: relatorio_teste_GSC_SNR_-9dB_semPCA_1582138243.6327434.json\n",
      "Classificando com o  LinearSVC\n"
     ]
    },
    {
     "name": "stderr",
     "output_type": "stream",
     "text": [
      "/home/dimi/venvIC/lib/python3.7/site-packages/sklearn/metrics/classification.py:1437: UndefinedMetricWarning: Precision and F-score are ill-defined and being set to 0.0 in labels with no predicted samples.\n",
      "  'precision', 'predicted', average, warn_for)\n"
     ]
    },
    {
     "name": "stdout",
     "output_type": "stream",
     "text": [
      "Salvando as informações num JSON: relatorio_teste_GSC_SNR_-9dB_semPCA_1582138243.8503714.json\n",
      "Classificando com o  LinearSVC\n",
      "Salvando as informações num JSON: relatorio_teste_GSC_SNR_-9dB_semPCA_1582138244.061401.json\n",
      "Classificando com o  LinearSVC\n",
      "Salvando as informações num JSON: relatorio_teste_GSC_SNR_-9dB_semPCA_1582138244.2715116.json\n",
      "Classificando com o  LinearSVC\n",
      "Salvando as informações num JSON: relatorio_teste_GSC_SNR_-9dB_semPCA_1582138244.4831803.json\n",
      "Classificando com o  LinearSVC\n",
      "Salvando as informações num JSON: relatorio_teste_GSC_SNR_-9dB_semPCA_1582138244.6937706.json\n",
      "Classificando com o  LinearSVC\n",
      "Salvando as informações num JSON: relatorio_teste_GSC_SNR_-9dB_semPCA_1582138244.9055338.json\n",
      "Classificando com o  LinearSVC\n",
      "Salvando as informações num JSON: relatorio_teste_GSC_SNR_-9dB_semPCA_1582138245.1195498.json\n",
      "Classificando com o  LinearSVC\n",
      "Salvando as informações num JSON: relatorio_teste_GSC_SNR_-9dB_semPCA_1582138245.3291988.json\n",
      "Classificando com o  LinearSVC\n",
      "Salvando as informações num JSON: relatorio_teste_GSC_SNR_-9dB_semPCA_1582138245.5393682.json\n",
      "Classificando com o  LinearSVC\n",
      "Salvando as informações num JSON: relatorio_teste_GSC_SNR_-9dB_semPCA_1582138245.7496636.json\n",
      "Classificando com o  Perceptron\n",
      "Salvando as informações num JSON: relatorio_teste_GSC_SNR_-9dB_semPCA_1582138245.9572823.json\n",
      "Classificando com o  Perceptron\n",
      "Salvando as informações num JSON: relatorio_teste_GSC_SNR_-9dB_semPCA_1582138246.169491.json\n",
      "Classificando com o  Perceptron\n"
     ]
    },
    {
     "name": "stderr",
     "output_type": "stream",
     "text": [
      "/home/dimi/venvIC/lib/python3.7/site-packages/sklearn/metrics/classification.py:1437: UndefinedMetricWarning: Precision and F-score are ill-defined and being set to 0.0 in labels with no predicted samples.\n",
      "  'precision', 'predicted', average, warn_for)\n"
     ]
    },
    {
     "name": "stdout",
     "output_type": "stream",
     "text": [
      "Salvando as informações num JSON: relatorio_teste_GSC_SNR_-9dB_semPCA_1582138246.3810494.json\n",
      "Classificando com o  Perceptron\n",
      "Salvando as informações num JSON: relatorio_teste_GSC_SNR_-9dB_semPCA_1582138246.5887406.json\n",
      "Classificando com o  Perceptron\n",
      "Salvando as informações num JSON: relatorio_teste_GSC_SNR_-9dB_semPCA_1582138246.7970731.json\n",
      "Classificando com o  Perceptron\n",
      "Salvando as informações num JSON: relatorio_teste_GSC_SNR_-9dB_semPCA_1582138247.0154302.json\n",
      "Classificando com o  Perceptron\n"
     ]
    },
    {
     "name": "stderr",
     "output_type": "stream",
     "text": [
      "/home/dimi/venvIC/lib/python3.7/site-packages/sklearn/metrics/classification.py:1437: UndefinedMetricWarning: Precision and F-score are ill-defined and being set to 0.0 in labels with no predicted samples.\n",
      "  'precision', 'predicted', average, warn_for)\n"
     ]
    },
    {
     "name": "stdout",
     "output_type": "stream",
     "text": [
      "Salvando as informações num JSON: relatorio_teste_GSC_SNR_-9dB_semPCA_1582138247.2263393.json\n",
      "Classificando com o  Perceptron\n",
      "Salvando as informações num JSON: relatorio_teste_GSC_SNR_-9dB_semPCA_1582138247.4376361.json\n",
      "Classificando com o  Perceptron\n",
      "Salvando as informações num JSON: relatorio_teste_GSC_SNR_-9dB_semPCA_1582138247.6448812.json\n",
      "Classificando com o  Perceptron\n",
      "Salvando as informações num JSON: relatorio_teste_GSC_SNR_-9dB_semPCA_1582138247.8546073.json\n",
      "O teste com todos os classificadores foi finalizado\n",
      "Classificando com o  SGDClassifier\n"
     ]
    },
    {
     "name": "stderr",
     "output_type": "stream",
     "text": [
      "/home/dimi/venvIC/lib/python3.7/site-packages/sklearn/metrics/classification.py:1437: UndefinedMetricWarning: Precision and F-score are ill-defined and being set to 0.0 in labels with no predicted samples.\n",
      "  'precision', 'predicted', average, warn_for)\n"
     ]
    },
    {
     "name": "stdout",
     "output_type": "stream",
     "text": [
      "Salvando as informações num JSON: relatorio_teste_GSC_SNR_-8dB_semPCA_1582138248.1253471.json\n",
      "Classificando com o  SGDClassifier\n"
     ]
    },
    {
     "name": "stderr",
     "output_type": "stream",
     "text": [
      "/home/dimi/venvIC/lib/python3.7/site-packages/sklearn/metrics/classification.py:1437: UndefinedMetricWarning: Precision and F-score are ill-defined and being set to 0.0 in labels with no predicted samples.\n",
      "  'precision', 'predicted', average, warn_for)\n"
     ]
    },
    {
     "name": "stdout",
     "output_type": "stream",
     "text": [
      "Salvando as informações num JSON: relatorio_teste_GSC_SNR_-8dB_semPCA_1582138248.338411.json\n",
      "Classificando com o  SGDClassifier\n"
     ]
    },
    {
     "name": "stderr",
     "output_type": "stream",
     "text": [
      "/home/dimi/venvIC/lib/python3.7/site-packages/sklearn/metrics/classification.py:1437: UndefinedMetricWarning: Precision and F-score are ill-defined and being set to 0.0 in labels with no predicted samples.\n",
      "  'precision', 'predicted', average, warn_for)\n"
     ]
    },
    {
     "name": "stdout",
     "output_type": "stream",
     "text": [
      "Salvando as informações num JSON: relatorio_teste_GSC_SNR_-8dB_semPCA_1582138248.5524185.json\n",
      "Classificando com o  SGDClassifier\n",
      "Salvando as informações num JSON: relatorio_teste_GSC_SNR_-8dB_semPCA_1582138248.7675745.json\n",
      "Classificando com o  SGDClassifier\n",
      "Salvando as informações num JSON: relatorio_teste_GSC_SNR_-8dB_semPCA_1582138248.9812782.json\n",
      "Classificando com o  SGDClassifier\n"
     ]
    },
    {
     "name": "stderr",
     "output_type": "stream",
     "text": [
      "/home/dimi/venvIC/lib/python3.7/site-packages/sklearn/metrics/classification.py:1437: UndefinedMetricWarning: Precision and F-score are ill-defined and being set to 0.0 in labels with no predicted samples.\n",
      "  'precision', 'predicted', average, warn_for)\n"
     ]
    },
    {
     "name": "stdout",
     "output_type": "stream",
     "text": [
      "Salvando as informações num JSON: relatorio_teste_GSC_SNR_-8dB_semPCA_1582138249.1900253.json\n",
      "Classificando com o  SGDClassifier\n",
      "Salvando as informações num JSON: relatorio_teste_GSC_SNR_-8dB_semPCA_1582138249.4088748.json\n",
      "Classificando com o  SGDClassifier\n"
     ]
    },
    {
     "name": "stderr",
     "output_type": "stream",
     "text": [
      "/home/dimi/venvIC/lib/python3.7/site-packages/sklearn/metrics/classification.py:1437: UndefinedMetricWarning: Precision and F-score are ill-defined and being set to 0.0 in labels with no predicted samples.\n",
      "  'precision', 'predicted', average, warn_for)\n"
     ]
    },
    {
     "name": "stdout",
     "output_type": "stream",
     "text": [
      "Salvando as informações num JSON: relatorio_teste_GSC_SNR_-8dB_semPCA_1582138249.6164172.json\n",
      "Classificando com o  SGDClassifier\n"
     ]
    },
    {
     "name": "stderr",
     "output_type": "stream",
     "text": [
      "/home/dimi/venvIC/lib/python3.7/site-packages/sklearn/metrics/classification.py:1437: UndefinedMetricWarning: Precision and F-score are ill-defined and being set to 0.0 in labels with no predicted samples.\n",
      "  'precision', 'predicted', average, warn_for)\n"
     ]
    },
    {
     "name": "stdout",
     "output_type": "stream",
     "text": [
      "Salvando as informações num JSON: relatorio_teste_GSC_SNR_-8dB_semPCA_1582138249.8269904.json\n",
      "Classificando com o  SGDClassifier\n"
     ]
    },
    {
     "name": "stderr",
     "output_type": "stream",
     "text": [
      "/home/dimi/venvIC/lib/python3.7/site-packages/sklearn/metrics/classification.py:1437: UndefinedMetricWarning: Precision and F-score are ill-defined and being set to 0.0 in labels with no predicted samples.\n",
      "  'precision', 'predicted', average, warn_for)\n"
     ]
    },
    {
     "name": "stdout",
     "output_type": "stream",
     "text": [
      "Salvando as informações num JSON: relatorio_teste_GSC_SNR_-8dB_semPCA_1582138250.0414135.json\n",
      "Classificando com o  BaggingClassifier\n",
      "Salvando as informações num JSON: relatorio_teste_GSC_SNR_-8dB_semPCA_1582138250.3669262.json\n",
      "Classificando com o  BaggingClassifier\n",
      "Salvando as informações num JSON: relatorio_teste_GSC_SNR_-8dB_semPCA_1582138250.693678.json\n",
      "Classificando com o  BaggingClassifier\n",
      "Salvando as informações num JSON: relatorio_teste_GSC_SNR_-8dB_semPCA_1582138251.0222764.json\n",
      "Classificando com o  BaggingClassifier\n",
      "Salvando as informações num JSON: relatorio_teste_GSC_SNR_-8dB_semPCA_1582138251.3556628.json\n",
      "Classificando com o  BaggingClassifier\n",
      "Salvando as informações num JSON: relatorio_teste_GSC_SNR_-8dB_semPCA_1582138251.6843677.json\n",
      "Classificando com o  BaggingClassifier\n",
      "Salvando as informações num JSON: relatorio_teste_GSC_SNR_-8dB_semPCA_1582138252.0079703.json\n",
      "Classificando com o  BaggingClassifier\n",
      "Salvando as informações num JSON: relatorio_teste_GSC_SNR_-8dB_semPCA_1582138252.3495963.json\n",
      "Classificando com o  BaggingClassifier\n",
      "Salvando as informações num JSON: relatorio_teste_GSC_SNR_-8dB_semPCA_1582138252.6748443.json\n",
      "Classificando com o  BaggingClassifier\n",
      "Salvando as informações num JSON: relatorio_teste_GSC_SNR_-8dB_semPCA_1582138252.9953969.json\n",
      "Classificando com o  BaggingClassifier\n",
      "Salvando as informações num JSON: relatorio_teste_GSC_SNR_-8dB_semPCA_1582138253.32677.json\n",
      "Classificando com o  KNeighborsClassifier\n",
      "Salvando as informações num JSON: relatorio_teste_GSC_SNR_-8dB_semPCA_1582138255.2274528.json\n",
      "Classificando com o  KNeighborsClassifier\n",
      "Salvando as informações num JSON: relatorio_teste_GSC_SNR_-8dB_semPCA_1582138257.118261.json\n",
      "Classificando com o  KNeighborsClassifier\n",
      "Salvando as informações num JSON: relatorio_teste_GSC_SNR_-8dB_semPCA_1582138259.0355265.json\n",
      "Classificando com o  KNeighborsClassifier\n",
      "Salvando as informações num JSON: relatorio_teste_GSC_SNR_-8dB_semPCA_1582138260.9683042.json\n",
      "Classificando com o  KNeighborsClassifier\n"
     ]
    },
    {
     "name": "stderr",
     "output_type": "stream",
     "text": [
      "/home/dimi/venvIC/lib/python3.7/site-packages/sklearn/metrics/classification.py:1437: UndefinedMetricWarning: Precision and F-score are ill-defined and being set to 0.0 in labels with no predicted samples.\n",
      "  'precision', 'predicted', average, warn_for)\n"
     ]
    },
    {
     "name": "stdout",
     "output_type": "stream",
     "text": [
      "Salvando as informações num JSON: relatorio_teste_GSC_SNR_-8dB_semPCA_1582138262.8514535.json\n",
      "Classificando com o  KNeighborsClassifier\n",
      "Salvando as informações num JSON: relatorio_teste_GSC_SNR_-8dB_semPCA_1582138264.7994854.json\n",
      "Classificando com o  KNeighborsClassifier\n",
      "Salvando as informações num JSON: relatorio_teste_GSC_SNR_-8dB_semPCA_1582138266.6666543.json\n",
      "Classificando com o  KNeighborsClassifier\n",
      "Salvando as informações num JSON: relatorio_teste_GSC_SNR_-8dB_semPCA_1582138268.598907.json\n",
      "Classificando com o  KNeighborsClassifier\n",
      "Salvando as informações num JSON: relatorio_teste_GSC_SNR_-8dB_semPCA_1582138270.4994304.json\n",
      "Classificando com o  KNeighborsClassifier\n",
      "Salvando as informações num JSON: relatorio_teste_GSC_SNR_-8dB_semPCA_1582138272.3769226.json\n",
      "Classificando com o  LinearSVC\n",
      "Salvando as informações num JSON: relatorio_teste_GSC_SNR_-8dB_semPCA_1582138272.6088085.json\n",
      "Classificando com o  LinearSVC\n",
      "Salvando as informações num JSON: relatorio_teste_GSC_SNR_-8dB_semPCA_1582138272.8161457.json\n",
      "Classificando com o  LinearSVC\n",
      "Salvando as informações num JSON: relatorio_teste_GSC_SNR_-8dB_semPCA_1582138273.0219834.json\n",
      "Classificando com o  LinearSVC\n",
      "Salvando as informações num JSON: relatorio_teste_GSC_SNR_-8dB_semPCA_1582138273.230793.json\n",
      "Classificando com o  LinearSVC\n",
      "Salvando as informações num JSON: relatorio_teste_GSC_SNR_-8dB_semPCA_1582138273.4427445.json\n",
      "Classificando com o  LinearSVC\n",
      "Salvando as informações num JSON: relatorio_teste_GSC_SNR_-8dB_semPCA_1582138273.6529183.json\n",
      "Classificando com o  LinearSVC\n",
      "Salvando as informações num JSON: relatorio_teste_GSC_SNR_-8dB_semPCA_1582138273.8597813.json\n",
      "Classificando com o  LinearSVC\n",
      "Salvando as informações num JSON: relatorio_teste_GSC_SNR_-8dB_semPCA_1582138274.0665545.json\n",
      "Classificando com o  LinearSVC\n",
      "Salvando as informações num JSON: relatorio_teste_GSC_SNR_-8dB_semPCA_1582138274.277064.json\n",
      "Classificando com o  LinearSVC\n",
      "Salvando as informações num JSON: relatorio_teste_GSC_SNR_-8dB_semPCA_1582138274.488343.json\n",
      "Classificando com o  Perceptron\n",
      "Salvando as informações num JSON: relatorio_teste_GSC_SNR_-8dB_semPCA_1582138274.6947057.json\n",
      "Classificando com o  Perceptron\n",
      "Salvando as informações num JSON: relatorio_teste_GSC_SNR_-8dB_semPCA_1582138274.9025578.json\n",
      "Classificando com o  Perceptron\n",
      "Salvando as informações num JSON: relatorio_teste_GSC_SNR_-8dB_semPCA_1582138275.1195092.json\n",
      "Classificando com o  Perceptron\n",
      "Salvando as informações num JSON: relatorio_teste_GSC_SNR_-8dB_semPCA_1582138275.3254297.json\n",
      "Classificando com o  Perceptron\n",
      "Salvando as informações num JSON: relatorio_teste_GSC_SNR_-8dB_semPCA_1582138275.532757.json\n",
      "Classificando com o  Perceptron\n",
      "Salvando as informações num JSON: relatorio_teste_GSC_SNR_-8dB_semPCA_1582138275.741163.json\n",
      "Classificando com o  Perceptron\n",
      "Salvando as informações num JSON: relatorio_teste_GSC_SNR_-8dB_semPCA_1582138275.94801.json\n",
      "Classificando com o  Perceptron\n",
      "Salvando as informações num JSON: relatorio_teste_GSC_SNR_-8dB_semPCA_1582138276.1561463.json\n",
      "Classificando com o  Perceptron\n",
      "Salvando as informações num JSON: relatorio_teste_GSC_SNR_-8dB_semPCA_1582138276.3710818.json\n",
      "Classificando com o  Perceptron\n",
      "Salvando as informações num JSON: relatorio_teste_GSC_SNR_-8dB_semPCA_1582138276.5795953.json\n",
      "O teste com todos os classificadores foi finalizado\n",
      "Classificando com o  SGDClassifier\n"
     ]
    },
    {
     "name": "stderr",
     "output_type": "stream",
     "text": [
      "/home/dimi/venvIC/lib/python3.7/site-packages/sklearn/metrics/classification.py:1437: UndefinedMetricWarning: Precision and F-score are ill-defined and being set to 0.0 in labels with no predicted samples.\n",
      "  'precision', 'predicted', average, warn_for)\n"
     ]
    },
    {
     "name": "stdout",
     "output_type": "stream",
     "text": [
      "Salvando as informações num JSON: relatorio_teste_semBeamforming_SNR_-8dB_semPCA_1582138276.8527088.json\n",
      "Classificando com o  SGDClassifier\n"
     ]
    },
    {
     "name": "stderr",
     "output_type": "stream",
     "text": [
      "/home/dimi/venvIC/lib/python3.7/site-packages/sklearn/metrics/classification.py:1437: UndefinedMetricWarning: Precision and F-score are ill-defined and being set to 0.0 in labels with no predicted samples.\n",
      "  'precision', 'predicted', average, warn_for)\n"
     ]
    },
    {
     "name": "stdout",
     "output_type": "stream",
     "text": [
      "Salvando as informações num JSON: relatorio_teste_semBeamforming_SNR_-8dB_semPCA_1582138277.0621624.json\n",
      "Classificando com o  SGDClassifier\n"
     ]
    },
    {
     "name": "stderr",
     "output_type": "stream",
     "text": [
      "/home/dimi/venvIC/lib/python3.7/site-packages/sklearn/metrics/classification.py:1437: UndefinedMetricWarning: Precision and F-score are ill-defined and being set to 0.0 in labels with no predicted samples.\n",
      "  'precision', 'predicted', average, warn_for)\n"
     ]
    },
    {
     "name": "stdout",
     "output_type": "stream",
     "text": [
      "Salvando as informações num JSON: relatorio_teste_semBeamforming_SNR_-8dB_semPCA_1582138277.276065.json\n",
      "Classificando com o  SGDClassifier\n",
      "Salvando as informações num JSON: relatorio_teste_semBeamforming_SNR_-8dB_semPCA_1582138277.4873018.json\n",
      "Classificando com o  SGDClassifier\n"
     ]
    },
    {
     "name": "stderr",
     "output_type": "stream",
     "text": [
      "/home/dimi/venvIC/lib/python3.7/site-packages/sklearn/metrics/classification.py:1437: UndefinedMetricWarning: Precision and F-score are ill-defined and being set to 0.0 in labels with no predicted samples.\n",
      "  'precision', 'predicted', average, warn_for)\n"
     ]
    },
    {
     "name": "stdout",
     "output_type": "stream",
     "text": [
      "Salvando as informações num JSON: relatorio_teste_semBeamforming_SNR_-8dB_semPCA_1582138277.6963089.json\n",
      "Classificando com o  SGDClassifier\n"
     ]
    },
    {
     "name": "stderr",
     "output_type": "stream",
     "text": [
      "/home/dimi/venvIC/lib/python3.7/site-packages/sklearn/metrics/classification.py:1437: UndefinedMetricWarning: Precision and F-score are ill-defined and being set to 0.0 in labels with no predicted samples.\n",
      "  'precision', 'predicted', average, warn_for)\n"
     ]
    },
    {
     "name": "stdout",
     "output_type": "stream",
     "text": [
      "Salvando as informações num JSON: relatorio_teste_semBeamforming_SNR_-8dB_semPCA_1582138277.9090726.json\n",
      "Classificando com o  SGDClassifier\n",
      "Salvando as informações num JSON: relatorio_teste_semBeamforming_SNR_-8dB_semPCA_1582138278.1225817.json\n",
      "Classificando com o  SGDClassifier\n"
     ]
    },
    {
     "name": "stderr",
     "output_type": "stream",
     "text": [
      "/home/dimi/venvIC/lib/python3.7/site-packages/sklearn/metrics/classification.py:1437: UndefinedMetricWarning: Precision and F-score are ill-defined and being set to 0.0 in labels with no predicted samples.\n",
      "  'precision', 'predicted', average, warn_for)\n"
     ]
    },
    {
     "name": "stdout",
     "output_type": "stream",
     "text": [
      "Salvando as informações num JSON: relatorio_teste_semBeamforming_SNR_-8dB_semPCA_1582138278.3414652.json\n",
      "Classificando com o  SGDClassifier\n"
     ]
    },
    {
     "name": "stderr",
     "output_type": "stream",
     "text": [
      "/home/dimi/venvIC/lib/python3.7/site-packages/sklearn/metrics/classification.py:1437: UndefinedMetricWarning: Precision and F-score are ill-defined and being set to 0.0 in labels with no predicted samples.\n",
      "  'precision', 'predicted', average, warn_for)\n"
     ]
    },
    {
     "name": "stdout",
     "output_type": "stream",
     "text": [
      "Salvando as informações num JSON: relatorio_teste_semBeamforming_SNR_-8dB_semPCA_1582138278.5849385.json\n",
      "Classificando com o  SGDClassifier\n"
     ]
    },
    {
     "name": "stderr",
     "output_type": "stream",
     "text": [
      "/home/dimi/venvIC/lib/python3.7/site-packages/sklearn/metrics/classification.py:1437: UndefinedMetricWarning: Precision and F-score are ill-defined and being set to 0.0 in labels with no predicted samples.\n",
      "  'precision', 'predicted', average, warn_for)\n"
     ]
    },
    {
     "name": "stdout",
     "output_type": "stream",
     "text": [
      "Salvando as informações num JSON: relatorio_teste_semBeamforming_SNR_-8dB_semPCA_1582138278.8075542.json\n",
      "Classificando com o  BaggingClassifier\n",
      "Salvando as informações num JSON: relatorio_teste_semBeamforming_SNR_-8dB_semPCA_1582138279.1307678.json\n",
      "Classificando com o  BaggingClassifier\n",
      "Salvando as informações num JSON: relatorio_teste_semBeamforming_SNR_-8dB_semPCA_1582138279.4515522.json\n",
      "Classificando com o  BaggingClassifier\n",
      "Salvando as informações num JSON: relatorio_teste_semBeamforming_SNR_-8dB_semPCA_1582138279.775067.json\n",
      "Classificando com o  BaggingClassifier\n",
      "Salvando as informações num JSON: relatorio_teste_semBeamforming_SNR_-8dB_semPCA_1582138280.0964336.json\n",
      "Classificando com o  BaggingClassifier\n"
     ]
    },
    {
     "name": "stderr",
     "output_type": "stream",
     "text": [
      "/home/dimi/venvIC/lib/python3.7/site-packages/sklearn/metrics/classification.py:1437: UndefinedMetricWarning: Precision and F-score are ill-defined and being set to 0.0 in labels with no predicted samples.\n",
      "  'precision', 'predicted', average, warn_for)\n"
     ]
    },
    {
     "name": "stdout",
     "output_type": "stream",
     "text": [
      "Salvando as informações num JSON: relatorio_teste_semBeamforming_SNR_-8dB_semPCA_1582138280.4213045.json\n",
      "Classificando com o  BaggingClassifier\n",
      "Salvando as informações num JSON: relatorio_teste_semBeamforming_SNR_-8dB_semPCA_1582138280.7524557.json\n",
      "Classificando com o  BaggingClassifier\n",
      "Salvando as informações num JSON: relatorio_teste_semBeamforming_SNR_-8dB_semPCA_1582138281.0873027.json\n",
      "Classificando com o  BaggingClassifier\n",
      "Salvando as informações num JSON: relatorio_teste_semBeamforming_SNR_-8dB_semPCA_1582138281.4117835.json\n",
      "Classificando com o  BaggingClassifier\n",
      "Salvando as informações num JSON: relatorio_teste_semBeamforming_SNR_-8dB_semPCA_1582138281.7386239.json\n",
      "Classificando com o  BaggingClassifier\n",
      "Salvando as informações num JSON: relatorio_teste_semBeamforming_SNR_-8dB_semPCA_1582138282.0585604.json\n",
      "Classificando com o  KNeighborsClassifier\n",
      "Salvando as informações num JSON: relatorio_teste_semBeamforming_SNR_-8dB_semPCA_1582138283.9517622.json\n",
      "Classificando com o  KNeighborsClassifier\n",
      "Salvando as informações num JSON: relatorio_teste_semBeamforming_SNR_-8dB_semPCA_1582138285.8454497.json\n",
      "Classificando com o  KNeighborsClassifier\n",
      "Salvando as informações num JSON: relatorio_teste_semBeamforming_SNR_-8dB_semPCA_1582138287.725382.json\n",
      "Classificando com o  KNeighborsClassifier\n",
      "Salvando as informações num JSON: relatorio_teste_semBeamforming_SNR_-8dB_semPCA_1582138289.64885.json\n",
      "Classificando com o  KNeighborsClassifier\n",
      "Salvando as informações num JSON: relatorio_teste_semBeamforming_SNR_-8dB_semPCA_1582138291.5952525.json\n",
      "Classificando com o  KNeighborsClassifier\n",
      "Salvando as informações num JSON: relatorio_teste_semBeamforming_SNR_-8dB_semPCA_1582138293.5511358.json\n",
      "Classificando com o  KNeighborsClassifier\n",
      "Salvando as informações num JSON: relatorio_teste_semBeamforming_SNR_-8dB_semPCA_1582138295.3774571.json\n",
      "Classificando com o  KNeighborsClassifier\n",
      "Salvando as informações num JSON: relatorio_teste_semBeamforming_SNR_-8dB_semPCA_1582138297.2810063.json\n",
      "Classificando com o  KNeighborsClassifier\n",
      "Salvando as informações num JSON: relatorio_teste_semBeamforming_SNR_-8dB_semPCA_1582138299.1672225.json\n",
      "Classificando com o  KNeighborsClassifier\n",
      "Salvando as informações num JSON: relatorio_teste_semBeamforming_SNR_-8dB_semPCA_1582138301.0395148.json\n",
      "Classificando com o  LinearSVC\n",
      "Salvando as informações num JSON: relatorio_teste_semBeamforming_SNR_-8dB_semPCA_1582138301.2524376.json\n",
      "Classificando com o  LinearSVC\n",
      "Salvando as informações num JSON: relatorio_teste_semBeamforming_SNR_-8dB_semPCA_1582138301.4737675.json\n",
      "Classificando com o  LinearSVC\n",
      "Salvando as informações num JSON: relatorio_teste_semBeamforming_SNR_-8dB_semPCA_1582138301.6843476.json\n",
      "Classificando com o  LinearSVC\n",
      "Salvando as informações num JSON: relatorio_teste_semBeamforming_SNR_-8dB_semPCA_1582138301.8984554.json\n",
      "Classificando com o  LinearSVC\n",
      "Salvando as informações num JSON: relatorio_teste_semBeamforming_SNR_-8dB_semPCA_1582138302.1256804.json\n",
      "Classificando com o  LinearSVC\n",
      "Salvando as informações num JSON: relatorio_teste_semBeamforming_SNR_-8dB_semPCA_1582138302.34577.json\n",
      "Classificando com o  LinearSVC\n",
      "Salvando as informações num JSON: relatorio_teste_semBeamforming_SNR_-8dB_semPCA_1582138302.555951.json\n",
      "Classificando com o  LinearSVC\n",
      "Salvando as informações num JSON: relatorio_teste_semBeamforming_SNR_-8dB_semPCA_1582138302.7748544.json\n",
      "Classificando com o  LinearSVC\n",
      "Salvando as informações num JSON: relatorio_teste_semBeamforming_SNR_-8dB_semPCA_1582138303.0050952.json\n",
      "Classificando com o  LinearSVC\n",
      "Salvando as informações num JSON: relatorio_teste_semBeamforming_SNR_-8dB_semPCA_1582138303.2202456.json\n",
      "Classificando com o  Perceptron\n",
      "Salvando as informações num JSON: relatorio_teste_semBeamforming_SNR_-8dB_semPCA_1582138303.4290247.json\n",
      "Classificando com o  Perceptron\n",
      "Salvando as informações num JSON: relatorio_teste_semBeamforming_SNR_-8dB_semPCA_1582138303.638842.json\n",
      "Classificando com o  Perceptron\n",
      "Salvando as informações num JSON: relatorio_teste_semBeamforming_SNR_-8dB_semPCA_1582138303.8468266.json\n",
      "Classificando com o  Perceptron\n",
      "Salvando as informações num JSON: relatorio_teste_semBeamforming_SNR_-8dB_semPCA_1582138304.0568888.json\n",
      "Classificando com o  Perceptron\n",
      "Salvando as informações num JSON: relatorio_teste_semBeamforming_SNR_-8dB_semPCA_1582138304.2650487.json\n",
      "Classificando com o  Perceptron\n",
      "Salvando as informações num JSON: relatorio_teste_semBeamforming_SNR_-8dB_semPCA_1582138304.476395.json\n",
      "Classificando com o  Perceptron\n",
      "Salvando as informações num JSON: relatorio_teste_semBeamforming_SNR_-8dB_semPCA_1582138304.69752.json\n",
      "Classificando com o  Perceptron\n",
      "Salvando as informações num JSON: relatorio_teste_semBeamforming_SNR_-8dB_semPCA_1582138304.9128995.json\n",
      "Classificando com o  Perceptron\n",
      "Salvando as informações num JSON: relatorio_teste_semBeamforming_SNR_-8dB_semPCA_1582138305.1383276.json\n",
      "Classificando com o  Perceptron\n",
      "Salvando as informações num JSON: relatorio_teste_semBeamforming_SNR_-8dB_semPCA_1582138305.3514626.json\n",
      "O teste com todos os classificadores foi finalizado\n",
      "Classificando com o  SGDClassifier\n"
     ]
    },
    {
     "name": "stderr",
     "output_type": "stream",
     "text": [
      "/home/dimi/venvIC/lib/python3.7/site-packages/sklearn/metrics/classification.py:1437: UndefinedMetricWarning: Precision and F-score are ill-defined and being set to 0.0 in labels with no predicted samples.\n",
      "  'precision', 'predicted', average, warn_for)\n"
     ]
    },
    {
     "name": "stdout",
     "output_type": "stream",
     "text": [
      "Salvando as informações num JSON: relatorio_teste_beamforming_SNR_-8dB_semPCA_1582138305.6226857.json\n",
      "Classificando com o  SGDClassifier\n"
     ]
    },
    {
     "name": "stderr",
     "output_type": "stream",
     "text": [
      "/home/dimi/venvIC/lib/python3.7/site-packages/sklearn/metrics/classification.py:1437: UndefinedMetricWarning: Precision and F-score are ill-defined and being set to 0.0 in labels with no predicted samples.\n",
      "  'precision', 'predicted', average, warn_for)\n"
     ]
    },
    {
     "name": "stdout",
     "output_type": "stream",
     "text": [
      "Salvando as informações num JSON: relatorio_teste_beamforming_SNR_-8dB_semPCA_1582138305.8340728.json\n",
      "Classificando com o  SGDClassifier\n"
     ]
    },
    {
     "name": "stderr",
     "output_type": "stream",
     "text": [
      "/home/dimi/venvIC/lib/python3.7/site-packages/sklearn/metrics/classification.py:1437: UndefinedMetricWarning: Precision and F-score are ill-defined and being set to 0.0 in labels with no predicted samples.\n",
      "  'precision', 'predicted', average, warn_for)\n"
     ]
    },
    {
     "name": "stdout",
     "output_type": "stream",
     "text": [
      "Salvando as informações num JSON: relatorio_teste_beamforming_SNR_-8dB_semPCA_1582138306.0502005.json\n",
      "Classificando com o  SGDClassifier\n",
      "Salvando as informações num JSON: relatorio_teste_beamforming_SNR_-8dB_semPCA_1582138306.2801821.json\n",
      "Classificando com o  SGDClassifier\n"
     ]
    },
    {
     "name": "stderr",
     "output_type": "stream",
     "text": [
      "/home/dimi/venvIC/lib/python3.7/site-packages/sklearn/metrics/classification.py:1437: UndefinedMetricWarning: Precision and F-score are ill-defined and being set to 0.0 in labels with no predicted samples.\n",
      "  'precision', 'predicted', average, warn_for)\n"
     ]
    },
    {
     "name": "stdout",
     "output_type": "stream",
     "text": [
      "Salvando as informações num JSON: relatorio_teste_beamforming_SNR_-8dB_semPCA_1582138306.5109382.json\n",
      "Classificando com o  SGDClassifier\n"
     ]
    },
    {
     "name": "stderr",
     "output_type": "stream",
     "text": [
      "/home/dimi/venvIC/lib/python3.7/site-packages/sklearn/metrics/classification.py:1437: UndefinedMetricWarning: Precision and F-score are ill-defined and being set to 0.0 in labels with no predicted samples.\n",
      "  'precision', 'predicted', average, warn_for)\n"
     ]
    },
    {
     "name": "stdout",
     "output_type": "stream",
     "text": [
      "Salvando as informações num JSON: relatorio_teste_beamforming_SNR_-8dB_semPCA_1582138306.7248118.json\n",
      "Classificando com o  SGDClassifier\n",
      "Salvando as informações num JSON: relatorio_teste_beamforming_SNR_-8dB_semPCA_1582138306.9352615.json\n",
      "Classificando com o  SGDClassifier\n"
     ]
    },
    {
     "name": "stderr",
     "output_type": "stream",
     "text": [
      "/home/dimi/venvIC/lib/python3.7/site-packages/sklearn/metrics/classification.py:1437: UndefinedMetricWarning: Precision and F-score are ill-defined and being set to 0.0 in labels with no predicted samples.\n",
      "  'precision', 'predicted', average, warn_for)\n"
     ]
    },
    {
     "name": "stdout",
     "output_type": "stream",
     "text": [
      "Salvando as informações num JSON: relatorio_teste_beamforming_SNR_-8dB_semPCA_1582138307.1503537.json\n",
      "Classificando com o  SGDClassifier\n"
     ]
    },
    {
     "name": "stderr",
     "output_type": "stream",
     "text": [
      "/home/dimi/venvIC/lib/python3.7/site-packages/sklearn/metrics/classification.py:1437: UndefinedMetricWarning: Precision and F-score are ill-defined and being set to 0.0 in labels with no predicted samples.\n",
      "  'precision', 'predicted', average, warn_for)\n"
     ]
    },
    {
     "name": "stdout",
     "output_type": "stream",
     "text": [
      "Salvando as informações num JSON: relatorio_teste_beamforming_SNR_-8dB_semPCA_1582138307.386563.json\n",
      "Classificando com o  SGDClassifier\n"
     ]
    },
    {
     "name": "stderr",
     "output_type": "stream",
     "text": [
      "/home/dimi/venvIC/lib/python3.7/site-packages/sklearn/metrics/classification.py:1437: UndefinedMetricWarning: Precision and F-score are ill-defined and being set to 0.0 in labels with no predicted samples.\n",
      "  'precision', 'predicted', average, warn_for)\n"
     ]
    },
    {
     "name": "stdout",
     "output_type": "stream",
     "text": [
      "Salvando as informações num JSON: relatorio_teste_beamforming_SNR_-8dB_semPCA_1582138307.6194391.json\n",
      "Classificando com o  BaggingClassifier\n",
      "Salvando as informações num JSON: relatorio_teste_beamforming_SNR_-8dB_semPCA_1582138307.9558668.json\n",
      "Classificando com o  BaggingClassifier\n",
      "Salvando as informações num JSON: relatorio_teste_beamforming_SNR_-8dB_semPCA_1582138308.2886312.json\n",
      "Classificando com o  BaggingClassifier\n",
      "Salvando as informações num JSON: relatorio_teste_beamforming_SNR_-8dB_semPCA_1582138308.6145647.json\n",
      "Classificando com o  BaggingClassifier\n",
      "Salvando as informações num JSON: relatorio_teste_beamforming_SNR_-8dB_semPCA_1582138308.9466307.json\n",
      "Classificando com o  BaggingClassifier\n"
     ]
    },
    {
     "name": "stderr",
     "output_type": "stream",
     "text": [
      "/home/dimi/venvIC/lib/python3.7/site-packages/sklearn/metrics/classification.py:1437: UndefinedMetricWarning: Precision and F-score are ill-defined and being set to 0.0 in labels with no predicted samples.\n",
      "  'precision', 'predicted', average, warn_for)\n"
     ]
    },
    {
     "name": "stdout",
     "output_type": "stream",
     "text": [
      "Salvando as informações num JSON: relatorio_teste_beamforming_SNR_-8dB_semPCA_1582138309.2896228.json\n",
      "Classificando com o  BaggingClassifier\n",
      "Salvando as informações num JSON: relatorio_teste_beamforming_SNR_-8dB_semPCA_1582138309.6395974.json\n",
      "Classificando com o  BaggingClassifier\n",
      "Salvando as informações num JSON: relatorio_teste_beamforming_SNR_-8dB_semPCA_1582138309.9847207.json\n",
      "Classificando com o  BaggingClassifier\n",
      "Salvando as informações num JSON: relatorio_teste_beamforming_SNR_-8dB_semPCA_1582138310.3195422.json\n",
      "Classificando com o  BaggingClassifier\n",
      "Salvando as informações num JSON: relatorio_teste_beamforming_SNR_-8dB_semPCA_1582138310.6751466.json\n",
      "Classificando com o  BaggingClassifier\n",
      "Salvando as informações num JSON: relatorio_teste_beamforming_SNR_-8dB_semPCA_1582138311.003607.json\n",
      "Classificando com o  KNeighborsClassifier\n",
      "Salvando as informações num JSON: relatorio_teste_beamforming_SNR_-8dB_semPCA_1582138313.0551336.json\n",
      "Classificando com o  KNeighborsClassifier\n",
      "Salvando as informações num JSON: relatorio_teste_beamforming_SNR_-8dB_semPCA_1582138315.02156.json\n",
      "Classificando com o  KNeighborsClassifier\n",
      "Salvando as informações num JSON: relatorio_teste_beamforming_SNR_-8dB_semPCA_1582138316.9433477.json\n",
      "Classificando com o  KNeighborsClassifier\n",
      "Salvando as informações num JSON: relatorio_teste_beamforming_SNR_-8dB_semPCA_1582138318.8362682.json\n",
      "Classificando com o  KNeighborsClassifier\n",
      "Salvando as informações num JSON: relatorio_teste_beamforming_SNR_-8dB_semPCA_1582138320.6803038.json\n",
      "Classificando com o  KNeighborsClassifier\n",
      "Salvando as informações num JSON: relatorio_teste_beamforming_SNR_-8dB_semPCA_1582138322.5960445.json\n",
      "Classificando com o  KNeighborsClassifier\n",
      "Salvando as informações num JSON: relatorio_teste_beamforming_SNR_-8dB_semPCA_1582138324.4590263.json\n",
      "Classificando com o  KNeighborsClassifier\n",
      "Salvando as informações num JSON: relatorio_teste_beamforming_SNR_-8dB_semPCA_1582138326.3601189.json\n",
      "Classificando com o  KNeighborsClassifier\n",
      "Salvando as informações num JSON: relatorio_teste_beamforming_SNR_-8dB_semPCA_1582138328.2531838.json\n",
      "Classificando com o  KNeighborsClassifier\n",
      "Salvando as informações num JSON: relatorio_teste_beamforming_SNR_-8dB_semPCA_1582138330.1448379.json\n",
      "Classificando com o  LinearSVC\n",
      "Salvando as informações num JSON: relatorio_teste_beamforming_SNR_-8dB_semPCA_1582138330.362611.json\n",
      "Classificando com o  LinearSVC\n",
      "Salvando as informações num JSON: relatorio_teste_beamforming_SNR_-8dB_semPCA_1582138330.5681531.json\n",
      "Classificando com o  LinearSVC\n",
      "Salvando as informações num JSON: relatorio_teste_beamforming_SNR_-8dB_semPCA_1582138330.7783978.json\n",
      "Classificando com o  LinearSVC\n",
      "Salvando as informações num JSON: relatorio_teste_beamforming_SNR_-8dB_semPCA_1582138330.9850981.json\n",
      "Classificando com o  LinearSVC\n",
      "Salvando as informações num JSON: relatorio_teste_beamforming_SNR_-8dB_semPCA_1582138331.194436.json\n",
      "Classificando com o  LinearSVC\n",
      "Salvando as informações num JSON: relatorio_teste_beamforming_SNR_-8dB_semPCA_1582138331.409555.json\n",
      "Classificando com o  LinearSVC\n",
      "Salvando as informações num JSON: relatorio_teste_beamforming_SNR_-8dB_semPCA_1582138331.618665.json\n",
      "Classificando com o  LinearSVC\n",
      "Salvando as informações num JSON: relatorio_teste_beamforming_SNR_-8dB_semPCA_1582138331.8259974.json\n",
      "Classificando com o  LinearSVC\n",
      "Salvando as informações num JSON: relatorio_teste_beamforming_SNR_-8dB_semPCA_1582138332.0354617.json\n",
      "Classificando com o  LinearSVC\n",
      "Salvando as informações num JSON: relatorio_teste_beamforming_SNR_-8dB_semPCA_1582138332.2461476.json\n",
      "Classificando com o  Perceptron\n",
      "Salvando as informações num JSON: relatorio_teste_beamforming_SNR_-8dB_semPCA_1582138332.4524531.json\n",
      "Classificando com o  Perceptron\n",
      "Salvando as informações num JSON: relatorio_teste_beamforming_SNR_-8dB_semPCA_1582138332.6608331.json\n",
      "Classificando com o  Perceptron\n",
      "Salvando as informações num JSON: relatorio_teste_beamforming_SNR_-8dB_semPCA_1582138332.8679285.json\n",
      "Classificando com o  Perceptron\n",
      "Salvando as informações num JSON: relatorio_teste_beamforming_SNR_-8dB_semPCA_1582138333.0747344.json\n",
      "Classificando com o  Perceptron\n",
      "Salvando as informações num JSON: relatorio_teste_beamforming_SNR_-8dB_semPCA_1582138333.2835128.json\n",
      "Classificando com o  Perceptron\n",
      "Salvando as informações num JSON: relatorio_teste_beamforming_SNR_-8dB_semPCA_1582138333.4909117.json\n",
      "Classificando com o  Perceptron\n",
      "Salvando as informações num JSON: relatorio_teste_beamforming_SNR_-8dB_semPCA_1582138333.6968105.json\n",
      "Classificando com o  Perceptron\n",
      "Salvando as informações num JSON: relatorio_teste_beamforming_SNR_-8dB_semPCA_1582138333.9052346.json\n",
      "Classificando com o  Perceptron\n",
      "Salvando as informações num JSON: relatorio_teste_beamforming_SNR_-8dB_semPCA_1582138334.113019.json\n",
      "Classificando com o  Perceptron\n",
      "Salvando as informações num JSON: relatorio_teste_beamforming_SNR_-8dB_semPCA_1582138334.3238618.json\n",
      "O teste com todos os classificadores foi finalizado\n",
      "Classificando com o  SGDClassifier\n"
     ]
    },
    {
     "name": "stderr",
     "output_type": "stream",
     "text": [
      "/home/dimi/venvIC/lib/python3.7/site-packages/sklearn/metrics/classification.py:1437: UndefinedMetricWarning: Precision and F-score are ill-defined and being set to 0.0 in labels with no predicted samples.\n",
      "  'precision', 'predicted', average, warn_for)\n"
     ]
    },
    {
     "name": "stdout",
     "output_type": "stream",
     "text": [
      "Salvando as informações num JSON: relatorio_teste_GSC_SNR_-2dB_semPCA_1582138334.595277.json\n",
      "Classificando com o  SGDClassifier\n"
     ]
    },
    {
     "name": "stderr",
     "output_type": "stream",
     "text": [
      "/home/dimi/venvIC/lib/python3.7/site-packages/sklearn/metrics/classification.py:1437: UndefinedMetricWarning: Precision and F-score are ill-defined and being set to 0.0 in labels with no predicted samples.\n",
      "  'precision', 'predicted', average, warn_for)\n"
     ]
    },
    {
     "name": "stdout",
     "output_type": "stream",
     "text": [
      "Salvando as informações num JSON: relatorio_teste_GSC_SNR_-2dB_semPCA_1582138334.801717.json\n",
      "Classificando com o  SGDClassifier\n"
     ]
    },
    {
     "name": "stderr",
     "output_type": "stream",
     "text": [
      "/home/dimi/venvIC/lib/python3.7/site-packages/sklearn/metrics/classification.py:1437: UndefinedMetricWarning: Precision and F-score are ill-defined and being set to 0.0 in labels with no predicted samples.\n",
      "  'precision', 'predicted', average, warn_for)\n"
     ]
    },
    {
     "name": "stdout",
     "output_type": "stream",
     "text": [
      "Salvando as informações num JSON: relatorio_teste_GSC_SNR_-2dB_semPCA_1582138335.0102837.json\n",
      "Classificando com o  SGDClassifier\n"
     ]
    },
    {
     "name": "stderr",
     "output_type": "stream",
     "text": [
      "/home/dimi/venvIC/lib/python3.7/site-packages/sklearn/metrics/classification.py:1437: UndefinedMetricWarning: Precision and F-score are ill-defined and being set to 0.0 in labels with no predicted samples.\n",
      "  'precision', 'predicted', average, warn_for)\n"
     ]
    },
    {
     "name": "stdout",
     "output_type": "stream",
     "text": [
      "Salvando as informações num JSON: relatorio_teste_GSC_SNR_-2dB_semPCA_1582138335.2451472.json\n",
      "Classificando com o  SGDClassifier\n"
     ]
    },
    {
     "name": "stderr",
     "output_type": "stream",
     "text": [
      "/home/dimi/venvIC/lib/python3.7/site-packages/sklearn/metrics/classification.py:1437: UndefinedMetricWarning: Precision and F-score are ill-defined and being set to 0.0 in labels with no predicted samples.\n",
      "  'precision', 'predicted', average, warn_for)\n"
     ]
    },
    {
     "name": "stdout",
     "output_type": "stream",
     "text": [
      "Salvando as informações num JSON: relatorio_teste_GSC_SNR_-2dB_semPCA_1582138335.4553149.json\n",
      "Classificando com o  SGDClassifier\n",
      "Salvando as informações num JSON: relatorio_teste_GSC_SNR_-2dB_semPCA_1582138335.6683066.json\n",
      "Classificando com o  SGDClassifier\n",
      "Salvando as informações num JSON: relatorio_teste_GSC_SNR_-2dB_semPCA_1582138335.8782105.json\n",
      "Classificando com o  SGDClassifier\n"
     ]
    },
    {
     "name": "stderr",
     "output_type": "stream",
     "text": [
      "/home/dimi/venvIC/lib/python3.7/site-packages/sklearn/metrics/classification.py:1437: UndefinedMetricWarning: Precision and F-score are ill-defined and being set to 0.0 in labels with no predicted samples.\n",
      "  'precision', 'predicted', average, warn_for)\n"
     ]
    },
    {
     "name": "stdout",
     "output_type": "stream",
     "text": [
      "Salvando as informações num JSON: relatorio_teste_GSC_SNR_-2dB_semPCA_1582138336.0910544.json\n",
      "Classificando com o  SGDClassifier\n"
     ]
    },
    {
     "name": "stderr",
     "output_type": "stream",
     "text": [
      "/home/dimi/venvIC/lib/python3.7/site-packages/sklearn/metrics/classification.py:1437: UndefinedMetricWarning: Precision and F-score are ill-defined and being set to 0.0 in labels with no predicted samples.\n",
      "  'precision', 'predicted', average, warn_for)\n"
     ]
    },
    {
     "name": "stdout",
     "output_type": "stream",
     "text": [
      "Salvando as informações num JSON: relatorio_teste_GSC_SNR_-2dB_semPCA_1582138336.3042064.json\n",
      "Classificando com o  SGDClassifier\n"
     ]
    },
    {
     "name": "stderr",
     "output_type": "stream",
     "text": [
      "/home/dimi/venvIC/lib/python3.7/site-packages/sklearn/metrics/classification.py:1437: UndefinedMetricWarning: Precision and F-score are ill-defined and being set to 0.0 in labels with no predicted samples.\n",
      "  'precision', 'predicted', average, warn_for)\n"
     ]
    },
    {
     "name": "stdout",
     "output_type": "stream",
     "text": [
      "Salvando as informações num JSON: relatorio_teste_GSC_SNR_-2dB_semPCA_1582138336.5156572.json\n",
      "Classificando com o  BaggingClassifier\n",
      "Salvando as informações num JSON: relatorio_teste_GSC_SNR_-2dB_semPCA_1582138336.8509982.json\n",
      "Classificando com o  BaggingClassifier\n",
      "Salvando as informações num JSON: relatorio_teste_GSC_SNR_-2dB_semPCA_1582138337.1768277.json\n",
      "Classificando com o  BaggingClassifier\n"
     ]
    },
    {
     "name": "stderr",
     "output_type": "stream",
     "text": [
      "/home/dimi/venvIC/lib/python3.7/site-packages/sklearn/metrics/classification.py:1437: UndefinedMetricWarning: Precision and F-score are ill-defined and being set to 0.0 in labels with no predicted samples.\n",
      "  'precision', 'predicted', average, warn_for)\n"
     ]
    },
    {
     "name": "stdout",
     "output_type": "stream",
     "text": [
      "Salvando as informações num JSON: relatorio_teste_GSC_SNR_-2dB_semPCA_1582138337.5006194.json\n",
      "Classificando com o  BaggingClassifier\n",
      "Salvando as informações num JSON: relatorio_teste_GSC_SNR_-2dB_semPCA_1582138337.8266642.json\n",
      "Classificando com o  BaggingClassifier\n",
      "Salvando as informações num JSON: relatorio_teste_GSC_SNR_-2dB_semPCA_1582138338.1549075.json\n",
      "Classificando com o  BaggingClassifier\n",
      "Salvando as informações num JSON: relatorio_teste_GSC_SNR_-2dB_semPCA_1582138338.4859478.json\n",
      "Classificando com o  BaggingClassifier\n",
      "Salvando as informações num JSON: relatorio_teste_GSC_SNR_-2dB_semPCA_1582138338.8126338.json\n",
      "Classificando com o  BaggingClassifier\n",
      "Salvando as informações num JSON: relatorio_teste_GSC_SNR_-2dB_semPCA_1582138339.1454148.json\n",
      "Classificando com o  BaggingClassifier\n",
      "Salvando as informações num JSON: relatorio_teste_GSC_SNR_-2dB_semPCA_1582138339.4690614.json\n",
      "Classificando com o  BaggingClassifier\n",
      "Salvando as informações num JSON: relatorio_teste_GSC_SNR_-2dB_semPCA_1582138339.7943754.json\n",
      "Classificando com o  KNeighborsClassifier\n",
      "Salvando as informações num JSON: relatorio_teste_GSC_SNR_-2dB_semPCA_1582138341.7114046.json\n",
      "Classificando com o  KNeighborsClassifier\n",
      "Salvando as informações num JSON: relatorio_teste_GSC_SNR_-2dB_semPCA_1582138343.6136003.json\n",
      "Classificando com o  KNeighborsClassifier\n",
      "Salvando as informações num JSON: relatorio_teste_GSC_SNR_-2dB_semPCA_1582138345.4987292.json\n",
      "Classificando com o  KNeighborsClassifier\n",
      "Salvando as informações num JSON: relatorio_teste_GSC_SNR_-2dB_semPCA_1582138347.4046173.json\n",
      "Classificando com o  KNeighborsClassifier\n",
      "Salvando as informações num JSON: relatorio_teste_GSC_SNR_-2dB_semPCA_1582138349.2861698.json\n",
      "Classificando com o  KNeighborsClassifier\n",
      "Salvando as informações num JSON: relatorio_teste_GSC_SNR_-2dB_semPCA_1582138351.2023938.json\n",
      "Classificando com o  KNeighborsClassifier\n",
      "Salvando as informações num JSON: relatorio_teste_GSC_SNR_-2dB_semPCA_1582138353.039597.json\n",
      "Classificando com o  KNeighborsClassifier\n",
      "Salvando as informações num JSON: relatorio_teste_GSC_SNR_-2dB_semPCA_1582138354.9243774.json\n",
      "Classificando com o  KNeighborsClassifier\n",
      "Salvando as informações num JSON: relatorio_teste_GSC_SNR_-2dB_semPCA_1582138356.8107445.json\n",
      "Classificando com o  KNeighborsClassifier\n",
      "Salvando as informações num JSON: relatorio_teste_GSC_SNR_-2dB_semPCA_1582138358.685954.json\n",
      "Classificando com o  LinearSVC\n",
      "Salvando as informações num JSON: relatorio_teste_GSC_SNR_-2dB_semPCA_1582138358.8973958.json\n",
      "Classificando com o  LinearSVC\n",
      "Salvando as informações num JSON: relatorio_teste_GSC_SNR_-2dB_semPCA_1582138359.1105428.json\n",
      "Classificando com o  LinearSVC\n",
      "Salvando as informações num JSON: relatorio_teste_GSC_SNR_-2dB_semPCA_1582138359.3251326.json\n",
      "Classificando com o  LinearSVC\n",
      "Salvando as informações num JSON: relatorio_teste_GSC_SNR_-2dB_semPCA_1582138359.541894.json\n",
      "Classificando com o  LinearSVC\n",
      "Salvando as informações num JSON: relatorio_teste_GSC_SNR_-2dB_semPCA_1582138359.7512257.json\n",
      "Classificando com o  LinearSVC\n",
      "Salvando as informações num JSON: relatorio_teste_GSC_SNR_-2dB_semPCA_1582138359.9578595.json\n",
      "Classificando com o  LinearSVC\n",
      "Salvando as informações num JSON: relatorio_teste_GSC_SNR_-2dB_semPCA_1582138360.168243.json\n",
      "Classificando com o  LinearSVC\n",
      "Salvando as informações num JSON: relatorio_teste_GSC_SNR_-2dB_semPCA_1582138360.3747253.json\n",
      "Classificando com o  LinearSVC\n",
      "Salvando as informações num JSON: relatorio_teste_GSC_SNR_-2dB_semPCA_1582138360.582175.json\n",
      "Classificando com o  LinearSVC\n",
      "Salvando as informações num JSON: relatorio_teste_GSC_SNR_-2dB_semPCA_1582138360.8036895.json\n",
      "Classificando com o  Perceptron\n",
      "Salvando as informações num JSON: relatorio_teste_GSC_SNR_-2dB_semPCA_1582138361.0112872.json\n",
      "Classificando com o  Perceptron\n",
      "Salvando as informações num JSON: relatorio_teste_GSC_SNR_-2dB_semPCA_1582138361.2197428.json\n",
      "Classificando com o  Perceptron\n",
      "Salvando as informações num JSON: relatorio_teste_GSC_SNR_-2dB_semPCA_1582138361.4264941.json\n",
      "Classificando com o  Perceptron\n",
      "Salvando as informações num JSON: relatorio_teste_GSC_SNR_-2dB_semPCA_1582138361.632491.json\n",
      "Classificando com o  Perceptron\n",
      "Salvando as informações num JSON: relatorio_teste_GSC_SNR_-2dB_semPCA_1582138361.8429146.json\n",
      "Classificando com o  Perceptron\n",
      "Salvando as informações num JSON: relatorio_teste_GSC_SNR_-2dB_semPCA_1582138362.0554352.json\n",
      "Classificando com o  Perceptron\n",
      "Salvando as informações num JSON: relatorio_teste_GSC_SNR_-2dB_semPCA_1582138362.2670543.json\n",
      "Classificando com o  Perceptron\n",
      "Salvando as informações num JSON: relatorio_teste_GSC_SNR_-2dB_semPCA_1582138362.4776647.json\n",
      "Classificando com o  Perceptron\n",
      "Salvando as informações num JSON: relatorio_teste_GSC_SNR_-2dB_semPCA_1582138362.691419.json\n",
      "Classificando com o  Perceptron\n",
      "Salvando as informações num JSON: relatorio_teste_GSC_SNR_-2dB_semPCA_1582138362.899471.json\n",
      "O teste com todos os classificadores foi finalizado\n",
      "Classificando com o  SGDClassifier\n"
     ]
    },
    {
     "name": "stderr",
     "output_type": "stream",
     "text": [
      "/home/dimi/venvIC/lib/python3.7/site-packages/sklearn/metrics/classification.py:1437: UndefinedMetricWarning: Precision and F-score are ill-defined and being set to 0.0 in labels with no predicted samples.\n",
      "  'precision', 'predicted', average, warn_for)\n"
     ]
    },
    {
     "name": "stdout",
     "output_type": "stream",
     "text": [
      "Salvando as informações num JSON: relatorio_teste_semBeamforming_SNR_-2dB_semPCA_1582138363.1800885.json\n",
      "Classificando com o  SGDClassifier\n"
     ]
    },
    {
     "name": "stderr",
     "output_type": "stream",
     "text": [
      "/home/dimi/venvIC/lib/python3.7/site-packages/sklearn/metrics/classification.py:1437: UndefinedMetricWarning: Precision and F-score are ill-defined and being set to 0.0 in labels with no predicted samples.\n",
      "  'precision', 'predicted', average, warn_for)\n"
     ]
    },
    {
     "name": "stdout",
     "output_type": "stream",
     "text": [
      "Salvando as informações num JSON: relatorio_teste_semBeamforming_SNR_-2dB_semPCA_1582138363.397899.json\n",
      "Classificando com o  SGDClassifier\n"
     ]
    },
    {
     "name": "stderr",
     "output_type": "stream",
     "text": [
      "/home/dimi/venvIC/lib/python3.7/site-packages/sklearn/metrics/classification.py:1437: UndefinedMetricWarning: Precision and F-score are ill-defined and being set to 0.0 in labels with no predicted samples.\n",
      "  'precision', 'predicted', average, warn_for)\n"
     ]
    },
    {
     "name": "stdout",
     "output_type": "stream",
     "text": [
      "Salvando as informações num JSON: relatorio_teste_semBeamforming_SNR_-2dB_semPCA_1582138363.6054883.json\n",
      "Classificando com o  SGDClassifier\n"
     ]
    },
    {
     "name": "stderr",
     "output_type": "stream",
     "text": [
      "/home/dimi/venvIC/lib/python3.7/site-packages/sklearn/metrics/classification.py:1437: UndefinedMetricWarning: Precision and F-score are ill-defined and being set to 0.0 in labels with no predicted samples.\n",
      "  'precision', 'predicted', average, warn_for)\n"
     ]
    },
    {
     "name": "stdout",
     "output_type": "stream",
     "text": [
      "Salvando as informações num JSON: relatorio_teste_semBeamforming_SNR_-2dB_semPCA_1582138363.819481.json\n",
      "Classificando com o  SGDClassifier\n"
     ]
    },
    {
     "name": "stderr",
     "output_type": "stream",
     "text": [
      "/home/dimi/venvIC/lib/python3.7/site-packages/sklearn/metrics/classification.py:1437: UndefinedMetricWarning: Precision and F-score are ill-defined and being set to 0.0 in labels with no predicted samples.\n",
      "  'precision', 'predicted', average, warn_for)\n"
     ]
    },
    {
     "name": "stdout",
     "output_type": "stream",
     "text": [
      "Salvando as informações num JSON: relatorio_teste_semBeamforming_SNR_-2dB_semPCA_1582138364.0267487.json\n",
      "Classificando com o  SGDClassifier\n",
      "Salvando as informações num JSON: relatorio_teste_semBeamforming_SNR_-2dB_semPCA_1582138364.23974.json\n",
      "Classificando com o  SGDClassifier\n",
      "Salvando as informações num JSON: relatorio_teste_semBeamforming_SNR_-2dB_semPCA_1582138364.447434.json\n",
      "Classificando com o  SGDClassifier\n"
     ]
    },
    {
     "name": "stderr",
     "output_type": "stream",
     "text": [
      "/home/dimi/venvIC/lib/python3.7/site-packages/sklearn/metrics/classification.py:1437: UndefinedMetricWarning: Precision and F-score are ill-defined and being set to 0.0 in labels with no predicted samples.\n",
      "  'precision', 'predicted', average, warn_for)\n"
     ]
    },
    {
     "name": "stdout",
     "output_type": "stream",
     "text": [
      "Salvando as informações num JSON: relatorio_teste_semBeamforming_SNR_-2dB_semPCA_1582138364.660487.json\n",
      "Classificando com o  SGDClassifier\n"
     ]
    },
    {
     "name": "stderr",
     "output_type": "stream",
     "text": [
      "/home/dimi/venvIC/lib/python3.7/site-packages/sklearn/metrics/classification.py:1437: UndefinedMetricWarning: Precision and F-score are ill-defined and being set to 0.0 in labels with no predicted samples.\n",
      "  'precision', 'predicted', average, warn_for)\n"
     ]
    },
    {
     "name": "stdout",
     "output_type": "stream",
     "text": [
      "Salvando as informações num JSON: relatorio_teste_semBeamforming_SNR_-2dB_semPCA_1582138364.8695514.json\n",
      "Classificando com o  SGDClassifier\n"
     ]
    },
    {
     "name": "stderr",
     "output_type": "stream",
     "text": [
      "/home/dimi/venvIC/lib/python3.7/site-packages/sklearn/metrics/classification.py:1437: UndefinedMetricWarning: Precision and F-score are ill-defined and being set to 0.0 in labels with no predicted samples.\n",
      "  'precision', 'predicted', average, warn_for)\n"
     ]
    },
    {
     "name": "stdout",
     "output_type": "stream",
     "text": [
      "Salvando as informações num JSON: relatorio_teste_semBeamforming_SNR_-2dB_semPCA_1582138365.0890203.json\n",
      "Classificando com o  BaggingClassifier\n",
      "Salvando as informações num JSON: relatorio_teste_semBeamforming_SNR_-2dB_semPCA_1582138365.4131012.json\n",
      "Classificando com o  BaggingClassifier\n",
      "Salvando as informações num JSON: relatorio_teste_semBeamforming_SNR_-2dB_semPCA_1582138365.7332642.json\n",
      "Classificando com o  BaggingClassifier\n",
      "Salvando as informações num JSON: relatorio_teste_semBeamforming_SNR_-2dB_semPCA_1582138366.061066.json\n",
      "Classificando com o  BaggingClassifier\n",
      "Salvando as informações num JSON: relatorio_teste_semBeamforming_SNR_-2dB_semPCA_1582138366.3951588.json\n",
      "Classificando com o  BaggingClassifier\n"
     ]
    },
    {
     "name": "stderr",
     "output_type": "stream",
     "text": [
      "/home/dimi/venvIC/lib/python3.7/site-packages/sklearn/metrics/classification.py:1437: UndefinedMetricWarning: Precision and F-score are ill-defined and being set to 0.0 in labels with no predicted samples.\n",
      "  'precision', 'predicted', average, warn_for)\n"
     ]
    },
    {
     "name": "stdout",
     "output_type": "stream",
     "text": [
      "Salvando as informações num JSON: relatorio_teste_semBeamforming_SNR_-2dB_semPCA_1582138366.7208276.json\n",
      "Classificando com o  BaggingClassifier\n",
      "Salvando as informações num JSON: relatorio_teste_semBeamforming_SNR_-2dB_semPCA_1582138367.0560973.json\n",
      "Classificando com o  BaggingClassifier\n",
      "Salvando as informações num JSON: relatorio_teste_semBeamforming_SNR_-2dB_semPCA_1582138367.383975.json\n",
      "Classificando com o  BaggingClassifier\n",
      "Salvando as informações num JSON: relatorio_teste_semBeamforming_SNR_-2dB_semPCA_1582138367.712799.json\n",
      "Classificando com o  BaggingClassifier\n",
      "Salvando as informações num JSON: relatorio_teste_semBeamforming_SNR_-2dB_semPCA_1582138368.0353255.json\n",
      "Classificando com o  BaggingClassifier\n",
      "Salvando as informações num JSON: relatorio_teste_semBeamforming_SNR_-2dB_semPCA_1582138368.3663406.json\n",
      "Classificando com o  KNeighborsClassifier\n",
      "Salvando as informações num JSON: relatorio_teste_semBeamforming_SNR_-2dB_semPCA_1582138370.251385.json\n",
      "Classificando com o  KNeighborsClassifier\n",
      "Salvando as informações num JSON: relatorio_teste_semBeamforming_SNR_-2dB_semPCA_1582138372.1566072.json\n",
      "Classificando com o  KNeighborsClassifier\n",
      "Salvando as informações num JSON: relatorio_teste_semBeamforming_SNR_-2dB_semPCA_1582138374.033591.json\n",
      "Classificando com o  KNeighborsClassifier\n",
      "Salvando as informações num JSON: relatorio_teste_semBeamforming_SNR_-2dB_semPCA_1582138375.921191.json\n",
      "Classificando com o  KNeighborsClassifier\n",
      "Salvando as informações num JSON: relatorio_teste_semBeamforming_SNR_-2dB_semPCA_1582138377.7674172.json\n",
      "Classificando com o  KNeighborsClassifier\n",
      "Salvando as informações num JSON: relatorio_teste_semBeamforming_SNR_-2dB_semPCA_1582138379.6727219.json\n",
      "Classificando com o  KNeighborsClassifier\n",
      "Salvando as informações num JSON: relatorio_teste_semBeamforming_SNR_-2dB_semPCA_1582138381.5241737.json\n",
      "Classificando com o  KNeighborsClassifier\n",
      "Salvando as informações num JSON: relatorio_teste_semBeamforming_SNR_-2dB_semPCA_1582138383.4084725.json\n",
      "Classificando com o  KNeighborsClassifier\n",
      "Salvando as informações num JSON: relatorio_teste_semBeamforming_SNR_-2dB_semPCA_1582138385.3004088.json\n",
      "Classificando com o  KNeighborsClassifier\n",
      "Salvando as informações num JSON: relatorio_teste_semBeamforming_SNR_-2dB_semPCA_1582138387.1595235.json\n",
      "Classificando com o  LinearSVC\n",
      "Salvando as informações num JSON: relatorio_teste_semBeamforming_SNR_-2dB_semPCA_1582138387.365955.json\n",
      "Classificando com o  LinearSVC\n"
     ]
    },
    {
     "name": "stderr",
     "output_type": "stream",
     "text": [
      "/home/dimi/venvIC/lib/python3.7/site-packages/sklearn/metrics/classification.py:1437: UndefinedMetricWarning: Precision and F-score are ill-defined and being set to 0.0 in labels with no predicted samples.\n",
      "  'precision', 'predicted', average, warn_for)\n"
     ]
    },
    {
     "name": "stdout",
     "output_type": "stream",
     "text": [
      "Salvando as informações num JSON: relatorio_teste_semBeamforming_SNR_-2dB_semPCA_1582138387.5708313.json\n",
      "Classificando com o  LinearSVC\n",
      "Salvando as informações num JSON: relatorio_teste_semBeamforming_SNR_-2dB_semPCA_1582138387.7774265.json\n",
      "Classificando com o  LinearSVC\n",
      "Salvando as informações num JSON: relatorio_teste_semBeamforming_SNR_-2dB_semPCA_1582138387.9845965.json\n",
      "Classificando com o  LinearSVC\n",
      "Salvando as informações num JSON: relatorio_teste_semBeamforming_SNR_-2dB_semPCA_1582138388.1920655.json\n",
      "Classificando com o  LinearSVC\n",
      "Salvando as informações num JSON: relatorio_teste_semBeamforming_SNR_-2dB_semPCA_1582138388.4001005.json\n",
      "Classificando com o  LinearSVC\n",
      "Salvando as informações num JSON: relatorio_teste_semBeamforming_SNR_-2dB_semPCA_1582138388.6049592.json\n",
      "Classificando com o  LinearSVC\n",
      "Salvando as informações num JSON: relatorio_teste_semBeamforming_SNR_-2dB_semPCA_1582138388.812004.json\n",
      "Classificando com o  LinearSVC\n",
      "Salvando as informações num JSON: relatorio_teste_semBeamforming_SNR_-2dB_semPCA_1582138389.0180962.json\n",
      "Classificando com o  LinearSVC\n",
      "Salvando as informações num JSON: relatorio_teste_semBeamforming_SNR_-2dB_semPCA_1582138389.2340016.json\n",
      "Classificando com o  Perceptron\n",
      "Salvando as informações num JSON: relatorio_teste_semBeamforming_SNR_-2dB_semPCA_1582138389.439886.json\n",
      "Classificando com o  Perceptron\n",
      "Salvando as informações num JSON: relatorio_teste_semBeamforming_SNR_-2dB_semPCA_1582138389.6471565.json\n",
      "Classificando com o  Perceptron\n"
     ]
    },
    {
     "name": "stderr",
     "output_type": "stream",
     "text": [
      "/home/dimi/venvIC/lib/python3.7/site-packages/sklearn/metrics/classification.py:1437: UndefinedMetricWarning: Precision and F-score are ill-defined and being set to 0.0 in labels with no predicted samples.\n",
      "  'precision', 'predicted', average, warn_for)\n"
     ]
    },
    {
     "name": "stdout",
     "output_type": "stream",
     "text": [
      "Salvando as informações num JSON: relatorio_teste_semBeamforming_SNR_-2dB_semPCA_1582138389.855154.json\n",
      "Classificando com o  Perceptron\n",
      "Salvando as informações num JSON: relatorio_teste_semBeamforming_SNR_-2dB_semPCA_1582138390.0691898.json\n",
      "Classificando com o  Perceptron\n",
      "Salvando as informações num JSON: relatorio_teste_semBeamforming_SNR_-2dB_semPCA_1582138390.2794719.json\n",
      "Classificando com o  Perceptron\n",
      "Salvando as informações num JSON: relatorio_teste_semBeamforming_SNR_-2dB_semPCA_1582138390.4959562.json\n",
      "Classificando com o  Perceptron\n",
      "Salvando as informações num JSON: relatorio_teste_semBeamforming_SNR_-2dB_semPCA_1582138390.701793.json\n",
      "Classificando com o  Perceptron\n",
      "Salvando as informações num JSON: relatorio_teste_semBeamforming_SNR_-2dB_semPCA_1582138390.9075346.json\n",
      "Classificando com o  Perceptron\n",
      "Salvando as informações num JSON: relatorio_teste_semBeamforming_SNR_-2dB_semPCA_1582138391.1164732.json\n",
      "Classificando com o  Perceptron\n",
      "Salvando as informações num JSON: relatorio_teste_semBeamforming_SNR_-2dB_semPCA_1582138391.3234954.json\n",
      "O teste com todos os classificadores foi finalizado\n",
      "Classificando com o  SGDClassifier\n"
     ]
    },
    {
     "name": "stderr",
     "output_type": "stream",
     "text": [
      "/home/dimi/venvIC/lib/python3.7/site-packages/sklearn/metrics/classification.py:1437: UndefinedMetricWarning: Precision and F-score are ill-defined and being set to 0.0 in labels with no predicted samples.\n",
      "  'precision', 'predicted', average, warn_for)\n"
     ]
    },
    {
     "name": "stdout",
     "output_type": "stream",
     "text": [
      "Salvando as informações num JSON: relatorio_teste_beamforming_SNR_-2dB_semPCA_1582138391.5949407.json\n",
      "Classificando com o  SGDClassifier\n"
     ]
    },
    {
     "name": "stderr",
     "output_type": "stream",
     "text": [
      "/home/dimi/venvIC/lib/python3.7/site-packages/sklearn/metrics/classification.py:1437: UndefinedMetricWarning: Precision and F-score are ill-defined and being set to 0.0 in labels with no predicted samples.\n",
      "  'precision', 'predicted', average, warn_for)\n"
     ]
    },
    {
     "name": "stdout",
     "output_type": "stream",
     "text": [
      "Salvando as informações num JSON: relatorio_teste_beamforming_SNR_-2dB_semPCA_1582138391.802372.json\n",
      "Classificando com o  SGDClassifier\n"
     ]
    },
    {
     "name": "stderr",
     "output_type": "stream",
     "text": [
      "/home/dimi/venvIC/lib/python3.7/site-packages/sklearn/metrics/classification.py:1437: UndefinedMetricWarning: Precision and F-score are ill-defined and being set to 0.0 in labels with no predicted samples.\n",
      "  'precision', 'predicted', average, warn_for)\n"
     ]
    },
    {
     "name": "stdout",
     "output_type": "stream",
     "text": [
      "Salvando as informações num JSON: relatorio_teste_beamforming_SNR_-2dB_semPCA_1582138392.0138633.json\n",
      "Classificando com o  SGDClassifier\n"
     ]
    },
    {
     "name": "stderr",
     "output_type": "stream",
     "text": [
      "/home/dimi/venvIC/lib/python3.7/site-packages/sklearn/metrics/classification.py:1437: UndefinedMetricWarning: Precision and F-score are ill-defined and being set to 0.0 in labels with no predicted samples.\n",
      "  'precision', 'predicted', average, warn_for)\n"
     ]
    },
    {
     "name": "stdout",
     "output_type": "stream",
     "text": [
      "Salvando as informações num JSON: relatorio_teste_beamforming_SNR_-2dB_semPCA_1582138392.2242606.json\n",
      "Classificando com o  SGDClassifier\n"
     ]
    },
    {
     "name": "stderr",
     "output_type": "stream",
     "text": [
      "/home/dimi/venvIC/lib/python3.7/site-packages/sklearn/metrics/classification.py:1437: UndefinedMetricWarning: Precision and F-score are ill-defined and being set to 0.0 in labels with no predicted samples.\n",
      "  'precision', 'predicted', average, warn_for)\n"
     ]
    },
    {
     "name": "stdout",
     "output_type": "stream",
     "text": [
      "Salvando as informações num JSON: relatorio_teste_beamforming_SNR_-2dB_semPCA_1582138392.4327857.json\n",
      "Classificando com o  SGDClassifier\n",
      "Salvando as informações num JSON: relatorio_teste_beamforming_SNR_-2dB_semPCA_1582138392.6413264.json\n",
      "Classificando com o  SGDClassifier\n",
      "Salvando as informações num JSON: relatorio_teste_beamforming_SNR_-2dB_semPCA_1582138392.8474548.json\n",
      "Classificando com o  SGDClassifier\n"
     ]
    },
    {
     "name": "stderr",
     "output_type": "stream",
     "text": [
      "/home/dimi/venvIC/lib/python3.7/site-packages/sklearn/metrics/classification.py:1437: UndefinedMetricWarning: Precision and F-score are ill-defined and being set to 0.0 in labels with no predicted samples.\n",
      "  'precision', 'predicted', average, warn_for)\n"
     ]
    },
    {
     "name": "stdout",
     "output_type": "stream",
     "text": [
      "Salvando as informações num JSON: relatorio_teste_beamforming_SNR_-2dB_semPCA_1582138393.0575814.json\n",
      "Classificando com o  SGDClassifier\n"
     ]
    },
    {
     "name": "stderr",
     "output_type": "stream",
     "text": [
      "/home/dimi/venvIC/lib/python3.7/site-packages/sklearn/metrics/classification.py:1437: UndefinedMetricWarning: Precision and F-score are ill-defined and being set to 0.0 in labels with no predicted samples.\n",
      "  'precision', 'predicted', average, warn_for)\n"
     ]
    },
    {
     "name": "stdout",
     "output_type": "stream",
     "text": [
      "Salvando as informações num JSON: relatorio_teste_beamforming_SNR_-2dB_semPCA_1582138393.2727165.json\n",
      "Classificando com o  SGDClassifier\n"
     ]
    },
    {
     "name": "stderr",
     "output_type": "stream",
     "text": [
      "/home/dimi/venvIC/lib/python3.7/site-packages/sklearn/metrics/classification.py:1437: UndefinedMetricWarning: Precision and F-score are ill-defined and being set to 0.0 in labels with no predicted samples.\n",
      "  'precision', 'predicted', average, warn_for)\n"
     ]
    },
    {
     "name": "stdout",
     "output_type": "stream",
     "text": [
      "Salvando as informações num JSON: relatorio_teste_beamforming_SNR_-2dB_semPCA_1582138393.4834018.json\n",
      "Classificando com o  BaggingClassifier\n",
      "Salvando as informações num JSON: relatorio_teste_beamforming_SNR_-2dB_semPCA_1582138393.808886.json\n",
      "Classificando com o  BaggingClassifier\n",
      "Salvando as informações num JSON: relatorio_teste_beamforming_SNR_-2dB_semPCA_1582138394.1284995.json\n",
      "Classificando com o  BaggingClassifier\n",
      "Salvando as informações num JSON: relatorio_teste_beamforming_SNR_-2dB_semPCA_1582138394.4510825.json\n",
      "Classificando com o  BaggingClassifier\n",
      "Salvando as informações num JSON: relatorio_teste_beamforming_SNR_-2dB_semPCA_1582138394.7706993.json\n",
      "Classificando com o  BaggingClassifier\n",
      "Salvando as informações num JSON: relatorio_teste_beamforming_SNR_-2dB_semPCA_1582138395.098837.json\n",
      "Classificando com o  BaggingClassifier\n",
      "Salvando as informações num JSON: relatorio_teste_beamforming_SNR_-2dB_semPCA_1582138395.4221811.json\n",
      "Classificando com o  BaggingClassifier\n",
      "Salvando as informações num JSON: relatorio_teste_beamforming_SNR_-2dB_semPCA_1582138395.745183.json\n",
      "Classificando com o  BaggingClassifier\n",
      "Salvando as informações num JSON: relatorio_teste_beamforming_SNR_-2dB_semPCA_1582138396.0769854.json\n",
      "Classificando com o  BaggingClassifier\n",
      "Salvando as informações num JSON: relatorio_teste_beamforming_SNR_-2dB_semPCA_1582138396.4019196.json\n",
      "Classificando com o  BaggingClassifier\n",
      "Salvando as informações num JSON: relatorio_teste_beamforming_SNR_-2dB_semPCA_1582138396.724345.json\n",
      "Classificando com o  KNeighborsClassifier\n",
      "Salvando as informações num JSON: relatorio_teste_beamforming_SNR_-2dB_semPCA_1582138398.6072106.json\n",
      "Classificando com o  KNeighborsClassifier\n",
      "Salvando as informações num JSON: relatorio_teste_beamforming_SNR_-2dB_semPCA_1582138400.4977684.json\n",
      "Classificando com o  KNeighborsClassifier\n",
      "Salvando as informações num JSON: relatorio_teste_beamforming_SNR_-2dB_semPCA_1582138402.3667042.json\n",
      "Classificando com o  KNeighborsClassifier\n",
      "Salvando as informações num JSON: relatorio_teste_beamforming_SNR_-2dB_semPCA_1582138404.2357185.json\n",
      "Classificando com o  KNeighborsClassifier\n",
      "Salvando as informações num JSON: relatorio_teste_beamforming_SNR_-2dB_semPCA_1582138406.0640433.json\n",
      "Classificando com o  KNeighborsClassifier\n",
      "Salvando as informações num JSON: relatorio_teste_beamforming_SNR_-2dB_semPCA_1582138407.9484925.json\n",
      "Classificando com o  KNeighborsClassifier\n",
      "Salvando as informações num JSON: relatorio_teste_beamforming_SNR_-2dB_semPCA_1582138409.7689054.json\n",
      "Classificando com o  KNeighborsClassifier\n",
      "Salvando as informações num JSON: relatorio_teste_beamforming_SNR_-2dB_semPCA_1582138411.6408253.json\n",
      "Classificando com o  KNeighborsClassifier\n",
      "Salvando as informações num JSON: relatorio_teste_beamforming_SNR_-2dB_semPCA_1582138413.5074363.json\n",
      "Classificando com o  KNeighborsClassifier\n",
      "Salvando as informações num JSON: relatorio_teste_beamforming_SNR_-2dB_semPCA_1582138415.3493338.json\n",
      "Classificando com o  LinearSVC\n",
      "Salvando as informações num JSON: relatorio_teste_beamforming_SNR_-2dB_semPCA_1582138415.5551534.json\n",
      "Classificando com o  LinearSVC\n"
     ]
    },
    {
     "name": "stderr",
     "output_type": "stream",
     "text": [
      "/home/dimi/venvIC/lib/python3.7/site-packages/sklearn/metrics/classification.py:1437: UndefinedMetricWarning: Precision and F-score are ill-defined and being set to 0.0 in labels with no predicted samples.\n",
      "  'precision', 'predicted', average, warn_for)\n"
     ]
    },
    {
     "name": "stdout",
     "output_type": "stream",
     "text": [
      "Salvando as informações num JSON: relatorio_teste_beamforming_SNR_-2dB_semPCA_1582138415.7617328.json\n",
      "Classificando com o  LinearSVC\n",
      "Salvando as informações num JSON: relatorio_teste_beamforming_SNR_-2dB_semPCA_1582138415.9698315.json\n",
      "Classificando com o  LinearSVC\n",
      "Salvando as informações num JSON: relatorio_teste_beamforming_SNR_-2dB_semPCA_1582138416.179891.json\n",
      "Classificando com o  LinearSVC\n",
      "Salvando as informações num JSON: relatorio_teste_beamforming_SNR_-2dB_semPCA_1582138416.3986113.json\n",
      "Classificando com o  LinearSVC\n",
      "Salvando as informações num JSON: relatorio_teste_beamforming_SNR_-2dB_semPCA_1582138416.6045115.json\n",
      "Classificando com o  LinearSVC\n",
      "Salvando as informações num JSON: relatorio_teste_beamforming_SNR_-2dB_semPCA_1582138416.8134418.json\n",
      "Classificando com o  LinearSVC\n",
      "Salvando as informações num JSON: relatorio_teste_beamforming_SNR_-2dB_semPCA_1582138417.0193543.json\n",
      "Classificando com o  LinearSVC\n",
      "Salvando as informações num JSON: relatorio_teste_beamforming_SNR_-2dB_semPCA_1582138417.2263422.json\n",
      "Classificando com o  LinearSVC\n",
      "Salvando as informações num JSON: relatorio_teste_beamforming_SNR_-2dB_semPCA_1582138417.4345117.json\n",
      "Classificando com o  Perceptron\n",
      "Salvando as informações num JSON: relatorio_teste_beamforming_SNR_-2dB_semPCA_1582138417.6412072.json\n",
      "Classificando com o  Perceptron\n",
      "Salvando as informações num JSON: relatorio_teste_beamforming_SNR_-2dB_semPCA_1582138417.8488681.json\n",
      "Classificando com o  Perceptron\n"
     ]
    },
    {
     "name": "stderr",
     "output_type": "stream",
     "text": [
      "/home/dimi/venvIC/lib/python3.7/site-packages/sklearn/metrics/classification.py:1437: UndefinedMetricWarning: Precision and F-score are ill-defined and being set to 0.0 in labels with no predicted samples.\n",
      "  'precision', 'predicted', average, warn_for)\n"
     ]
    },
    {
     "name": "stdout",
     "output_type": "stream",
     "text": [
      "Salvando as informações num JSON: relatorio_teste_beamforming_SNR_-2dB_semPCA_1582138418.0556483.json\n",
      "Classificando com o  Perceptron\n",
      "Salvando as informações num JSON: relatorio_teste_beamforming_SNR_-2dB_semPCA_1582138418.2661893.json\n",
      "Classificando com o  Perceptron\n",
      "Salvando as informações num JSON: relatorio_teste_beamforming_SNR_-2dB_semPCA_1582138418.473761.json\n",
      "Classificando com o  Perceptron\n",
      "Salvando as informações num JSON: relatorio_teste_beamforming_SNR_-2dB_semPCA_1582138418.6805155.json\n",
      "Classificando com o  Perceptron\n",
      "Salvando as informações num JSON: relatorio_teste_beamforming_SNR_-2dB_semPCA_1582138418.890319.json\n",
      "Classificando com o  Perceptron\n",
      "Salvando as informações num JSON: relatorio_teste_beamforming_SNR_-2dB_semPCA_1582138419.0967216.json\n",
      "Classificando com o  Perceptron\n",
      "Salvando as informações num JSON: relatorio_teste_beamforming_SNR_-2dB_semPCA_1582138419.3162498.json\n",
      "Classificando com o  Perceptron\n",
      "Salvando as informações num JSON: relatorio_teste_beamforming_SNR_-2dB_semPCA_1582138419.5219033.json\n",
      "O teste com todos os classificadores foi finalizado\n",
      "Classificando com o  SGDClassifier\n"
     ]
    },
    {
     "name": "stderr",
     "output_type": "stream",
     "text": [
      "/home/dimi/venvIC/lib/python3.7/site-packages/sklearn/metrics/classification.py:1437: UndefinedMetricWarning: Precision and F-score are ill-defined and being set to 0.0 in labels with no predicted samples.\n",
      "  'precision', 'predicted', average, warn_for)\n"
     ]
    },
    {
     "name": "stdout",
     "output_type": "stream",
     "text": [
      "Salvando as informações num JSON: relatorio_teste_GSC_SNR_-4dB_semPCA_1582138419.7918403.json\n",
      "Classificando com o  SGDClassifier\n"
     ]
    },
    {
     "name": "stderr",
     "output_type": "stream",
     "text": [
      "/home/dimi/venvIC/lib/python3.7/site-packages/sklearn/metrics/classification.py:1437: UndefinedMetricWarning: Precision and F-score are ill-defined and being set to 0.0 in labels with no predicted samples.\n",
      "  'precision', 'predicted', average, warn_for)\n"
     ]
    },
    {
     "name": "stdout",
     "output_type": "stream",
     "text": [
      "Salvando as informações num JSON: relatorio_teste_GSC_SNR_-4dB_semPCA_1582138419.9977412.json\n",
      "Classificando com o  SGDClassifier\n",
      "Salvando as informações num JSON: relatorio_teste_GSC_SNR_-4dB_semPCA_1582138420.2102318.json\n",
      "Classificando com o  SGDClassifier\n",
      "Salvando as informações num JSON: relatorio_teste_GSC_SNR_-4dB_semPCA_1582138420.4167483.json\n",
      "Classificando com o  SGDClassifier\n",
      "Salvando as informações num JSON: relatorio_teste_GSC_SNR_-4dB_semPCA_1582138420.6258724.json\n",
      "Classificando com o  SGDClassifier\n",
      "Salvando as informações num JSON: relatorio_teste_GSC_SNR_-4dB_semPCA_1582138420.8344898.json\n",
      "Classificando com o  SGDClassifier\n",
      "Salvando as informações num JSON: relatorio_teste_GSC_SNR_-4dB_semPCA_1582138421.0442097.json\n",
      "Classificando com o  SGDClassifier\n"
     ]
    },
    {
     "name": "stderr",
     "output_type": "stream",
     "text": [
      "/home/dimi/venvIC/lib/python3.7/site-packages/sklearn/metrics/classification.py:1437: UndefinedMetricWarning: Precision and F-score are ill-defined and being set to 0.0 in labels with no predicted samples.\n",
      "  'precision', 'predicted', average, warn_for)\n"
     ]
    },
    {
     "name": "stdout",
     "output_type": "stream",
     "text": [
      "Salvando as informações num JSON: relatorio_teste_GSC_SNR_-4dB_semPCA_1582138421.2543108.json\n",
      "Classificando com o  SGDClassifier\n",
      "Salvando as informações num JSON: relatorio_teste_GSC_SNR_-4dB_semPCA_1582138421.4626207.json\n",
      "Classificando com o  SGDClassifier\n"
     ]
    },
    {
     "name": "stderr",
     "output_type": "stream",
     "text": [
      "/home/dimi/venvIC/lib/python3.7/site-packages/sklearn/metrics/classification.py:1437: UndefinedMetricWarning: Precision and F-score are ill-defined and being set to 0.0 in labels with no predicted samples.\n",
      "  'precision', 'predicted', average, warn_for)\n"
     ]
    },
    {
     "name": "stdout",
     "output_type": "stream",
     "text": [
      "Salvando as informações num JSON: relatorio_teste_GSC_SNR_-4dB_semPCA_1582138421.6701696.json\n",
      "Classificando com o  BaggingClassifier\n",
      "Salvando as informações num JSON: relatorio_teste_GSC_SNR_-4dB_semPCA_1582138421.991203.json\n",
      "Classificando com o  BaggingClassifier\n",
      "Salvando as informações num JSON: relatorio_teste_GSC_SNR_-4dB_semPCA_1582138422.3136704.json\n",
      "Classificando com o  BaggingClassifier\n"
     ]
    },
    {
     "name": "stderr",
     "output_type": "stream",
     "text": [
      "/home/dimi/venvIC/lib/python3.7/site-packages/sklearn/metrics/classification.py:1437: UndefinedMetricWarning: Precision and F-score are ill-defined and being set to 0.0 in labels with no predicted samples.\n",
      "  'precision', 'predicted', average, warn_for)\n"
     ]
    },
    {
     "name": "stdout",
     "output_type": "stream",
     "text": [
      "Salvando as informações num JSON: relatorio_teste_GSC_SNR_-4dB_semPCA_1582138422.6341963.json\n",
      "Classificando com o  BaggingClassifier\n",
      "Salvando as informações num JSON: relatorio_teste_GSC_SNR_-4dB_semPCA_1582138422.9545789.json\n",
      "Classificando com o  BaggingClassifier\n"
     ]
    },
    {
     "name": "stderr",
     "output_type": "stream",
     "text": [
      "/home/dimi/venvIC/lib/python3.7/site-packages/sklearn/metrics/classification.py:1437: UndefinedMetricWarning: Precision and F-score are ill-defined and being set to 0.0 in labels with no predicted samples.\n",
      "  'precision', 'predicted', average, warn_for)\n"
     ]
    },
    {
     "name": "stdout",
     "output_type": "stream",
     "text": [
      "Salvando as informações num JSON: relatorio_teste_GSC_SNR_-4dB_semPCA_1582138423.2760937.json\n",
      "Classificando com o  BaggingClassifier\n",
      "Salvando as informações num JSON: relatorio_teste_GSC_SNR_-4dB_semPCA_1582138423.5997071.json\n",
      "Classificando com o  BaggingClassifier\n",
      "Salvando as informações num JSON: relatorio_teste_GSC_SNR_-4dB_semPCA_1582138423.9243982.json\n",
      "Classificando com o  BaggingClassifier\n",
      "Salvando as informações num JSON: relatorio_teste_GSC_SNR_-4dB_semPCA_1582138424.2461529.json\n",
      "Classificando com o  BaggingClassifier\n",
      "Salvando as informações num JSON: relatorio_teste_GSC_SNR_-4dB_semPCA_1582138424.566791.json\n",
      "Classificando com o  BaggingClassifier\n",
      "Salvando as informações num JSON: relatorio_teste_GSC_SNR_-4dB_semPCA_1582138424.8881538.json\n",
      "Classificando com o  KNeighborsClassifier\n",
      "Salvando as informações num JSON: relatorio_teste_GSC_SNR_-4dB_semPCA_1582138426.762659.json\n",
      "Classificando com o  KNeighborsClassifier\n",
      "Salvando as informações num JSON: relatorio_teste_GSC_SNR_-4dB_semPCA_1582138428.633674.json\n",
      "Classificando com o  KNeighborsClassifier\n",
      "Salvando as informações num JSON: relatorio_teste_GSC_SNR_-4dB_semPCA_1582138430.4970276.json\n",
      "Classificando com o  KNeighborsClassifier\n",
      "Salvando as informações num JSON: relatorio_teste_GSC_SNR_-4dB_semPCA_1582138432.3787105.json\n",
      "Classificando com o  KNeighborsClassifier\n",
      "Salvando as informações num JSON: relatorio_teste_GSC_SNR_-4dB_semPCA_1582138434.2333653.json\n",
      "Classificando com o  KNeighborsClassifier\n",
      "Salvando as informações num JSON: relatorio_teste_GSC_SNR_-4dB_semPCA_1582138436.12602.json\n",
      "Classificando com o  KNeighborsClassifier\n",
      "Salvando as informações num JSON: relatorio_teste_GSC_SNR_-4dB_semPCA_1582138437.9552174.json\n",
      "Classificando com o  KNeighborsClassifier\n",
      "Salvando as informações num JSON: relatorio_teste_GSC_SNR_-4dB_semPCA_1582138439.8394113.json\n",
      "Classificando com o  KNeighborsClassifier\n",
      "Salvando as informações num JSON: relatorio_teste_GSC_SNR_-4dB_semPCA_1582138441.7136104.json\n",
      "Classificando com o  KNeighborsClassifier\n",
      "Salvando as informações num JSON: relatorio_teste_GSC_SNR_-4dB_semPCA_1582138443.5596528.json\n",
      "Classificando com o  LinearSVC\n",
      "Salvando as informações num JSON: relatorio_teste_GSC_SNR_-4dB_semPCA_1582138443.7668703.json\n",
      "Classificando com o  LinearSVC\n",
      "Salvando as informações num JSON: relatorio_teste_GSC_SNR_-4dB_semPCA_1582138443.975617.json\n",
      "Classificando com o  LinearSVC\n",
      "Salvando as informações num JSON: relatorio_teste_GSC_SNR_-4dB_semPCA_1582138444.1840868.json\n",
      "Classificando com o  LinearSVC\n",
      "Salvando as informações num JSON: relatorio_teste_GSC_SNR_-4dB_semPCA_1582138444.3930387.json\n",
      "Classificando com o  LinearSVC\n",
      "Salvando as informações num JSON: relatorio_teste_GSC_SNR_-4dB_semPCA_1582138444.5994792.json\n",
      "Classificando com o  LinearSVC\n",
      "Salvando as informações num JSON: relatorio_teste_GSC_SNR_-4dB_semPCA_1582138444.803737.json\n",
      "Classificando com o  LinearSVC\n",
      "Salvando as informações num JSON: relatorio_teste_GSC_SNR_-4dB_semPCA_1582138445.0117602.json\n",
      "Classificando com o  LinearSVC\n",
      "Salvando as informações num JSON: relatorio_teste_GSC_SNR_-4dB_semPCA_1582138445.222109.json\n",
      "Classificando com o  LinearSVC\n",
      "Salvando as informações num JSON: relatorio_teste_GSC_SNR_-4dB_semPCA_1582138445.427856.json\n",
      "Classificando com o  LinearSVC\n",
      "Salvando as informações num JSON: relatorio_teste_GSC_SNR_-4dB_semPCA_1582138445.6364167.json\n",
      "Classificando com o  Perceptron\n",
      "Salvando as informações num JSON: relatorio_teste_GSC_SNR_-4dB_semPCA_1582138445.8441188.json\n",
      "Classificando com o  Perceptron\n",
      "Salvando as informações num JSON: relatorio_teste_GSC_SNR_-4dB_semPCA_1582138446.053143.json\n",
      "Classificando com o  Perceptron\n",
      "Salvando as informações num JSON: relatorio_teste_GSC_SNR_-4dB_semPCA_1582138446.2609153.json\n",
      "Classificando com o  Perceptron\n",
      "Salvando as informações num JSON: relatorio_teste_GSC_SNR_-4dB_semPCA_1582138446.4695117.json\n",
      "Classificando com o  Perceptron\n",
      "Salvando as informações num JSON: relatorio_teste_GSC_SNR_-4dB_semPCA_1582138446.6758804.json\n",
      "Classificando com o  Perceptron\n",
      "Salvando as informações num JSON: relatorio_teste_GSC_SNR_-4dB_semPCA_1582138446.8820903.json\n",
      "Classificando com o  Perceptron\n",
      "Salvando as informações num JSON: relatorio_teste_GSC_SNR_-4dB_semPCA_1582138447.0911765.json\n",
      "Classificando com o  Perceptron\n",
      "Salvando as informações num JSON: relatorio_teste_GSC_SNR_-4dB_semPCA_1582138447.301437.json\n",
      "Classificando com o  Perceptron\n",
      "Salvando as informações num JSON: relatorio_teste_GSC_SNR_-4dB_semPCA_1582138447.511866.json\n",
      "Classificando com o  Perceptron\n",
      "Salvando as informações num JSON: relatorio_teste_GSC_SNR_-4dB_semPCA_1582138447.7174034.json\n",
      "O teste com todos os classificadores foi finalizado\n",
      "Classificando com o  SGDClassifier\n"
     ]
    },
    {
     "name": "stderr",
     "output_type": "stream",
     "text": [
      "/home/dimi/venvIC/lib/python3.7/site-packages/sklearn/metrics/classification.py:1437: UndefinedMetricWarning: Precision and F-score are ill-defined and being set to 0.0 in labels with no predicted samples.\n",
      "  'precision', 'predicted', average, warn_for)\n"
     ]
    },
    {
     "name": "stdout",
     "output_type": "stream",
     "text": [
      "Salvando as informações num JSON: relatorio_teste_beamforming_SNR_-4dB_semPCA_1582138447.9860766.json\n",
      "Classificando com o  SGDClassifier\n"
     ]
    },
    {
     "name": "stderr",
     "output_type": "stream",
     "text": [
      "/home/dimi/venvIC/lib/python3.7/site-packages/sklearn/metrics/classification.py:1437: UndefinedMetricWarning: Precision and F-score are ill-defined and being set to 0.0 in labels with no predicted samples.\n",
      "  'precision', 'predicted', average, warn_for)\n"
     ]
    },
    {
     "name": "stdout",
     "output_type": "stream",
     "text": [
      "Salvando as informações num JSON: relatorio_teste_beamforming_SNR_-4dB_semPCA_1582138448.196815.json\n",
      "Classificando com o  SGDClassifier\n",
      "Salvando as informações num JSON: relatorio_teste_beamforming_SNR_-4dB_semPCA_1582138448.4043891.json\n",
      "Classificando com o  SGDClassifier\n",
      "Salvando as informações num JSON: relatorio_teste_beamforming_SNR_-4dB_semPCA_1582138448.6110482.json\n",
      "Classificando com o  SGDClassifier\n",
      "Salvando as informações num JSON: relatorio_teste_beamforming_SNR_-4dB_semPCA_1582138448.8182368.json\n",
      "Classificando com o  SGDClassifier\n",
      "Salvando as informações num JSON: relatorio_teste_beamforming_SNR_-4dB_semPCA_1582138449.0245152.json\n",
      "Classificando com o  SGDClassifier\n",
      "Salvando as informações num JSON: relatorio_teste_beamforming_SNR_-4dB_semPCA_1582138449.2347693.json\n",
      "Classificando com o  SGDClassifier\n"
     ]
    },
    {
     "name": "stderr",
     "output_type": "stream",
     "text": [
      "/home/dimi/venvIC/lib/python3.7/site-packages/sklearn/metrics/classification.py:1437: UndefinedMetricWarning: Precision and F-score are ill-defined and being set to 0.0 in labels with no predicted samples.\n",
      "  'precision', 'predicted', average, warn_for)\n"
     ]
    },
    {
     "name": "stdout",
     "output_type": "stream",
     "text": [
      "Salvando as informações num JSON: relatorio_teste_beamforming_SNR_-4dB_semPCA_1582138449.4446137.json\n",
      "Classificando com o  SGDClassifier\n",
      "Salvando as informações num JSON: relatorio_teste_beamforming_SNR_-4dB_semPCA_1582138449.6532338.json\n",
      "Classificando com o  SGDClassifier\n"
     ]
    },
    {
     "name": "stderr",
     "output_type": "stream",
     "text": [
      "/home/dimi/venvIC/lib/python3.7/site-packages/sklearn/metrics/classification.py:1437: UndefinedMetricWarning: Precision and F-score are ill-defined and being set to 0.0 in labels with no predicted samples.\n",
      "  'precision', 'predicted', average, warn_for)\n"
     ]
    },
    {
     "name": "stdout",
     "output_type": "stream",
     "text": [
      "Salvando as informações num JSON: relatorio_teste_beamforming_SNR_-4dB_semPCA_1582138449.8594224.json\n",
      "Classificando com o  BaggingClassifier\n",
      "Salvando as informações num JSON: relatorio_teste_beamforming_SNR_-4dB_semPCA_1582138450.190477.json\n",
      "Classificando com o  BaggingClassifier\n",
      "Salvando as informações num JSON: relatorio_teste_beamforming_SNR_-4dB_semPCA_1582138450.5112996.json\n",
      "Classificando com o  BaggingClassifier\n"
     ]
    },
    {
     "name": "stderr",
     "output_type": "stream",
     "text": [
      "/home/dimi/venvIC/lib/python3.7/site-packages/sklearn/metrics/classification.py:1437: UndefinedMetricWarning: Precision and F-score are ill-defined and being set to 0.0 in labels with no predicted samples.\n",
      "  'precision', 'predicted', average, warn_for)\n"
     ]
    },
    {
     "name": "stdout",
     "output_type": "stream",
     "text": [
      "Salvando as informações num JSON: relatorio_teste_beamforming_SNR_-4dB_semPCA_1582138450.8335545.json\n",
      "Classificando com o  BaggingClassifier\n",
      "Salvando as informações num JSON: relatorio_teste_beamforming_SNR_-4dB_semPCA_1582138451.156812.json\n",
      "Classificando com o  BaggingClassifier\n"
     ]
    },
    {
     "name": "stderr",
     "output_type": "stream",
     "text": [
      "/home/dimi/venvIC/lib/python3.7/site-packages/sklearn/metrics/classification.py:1437: UndefinedMetricWarning: Precision and F-score are ill-defined and being set to 0.0 in labels with no predicted samples.\n",
      "  'precision', 'predicted', average, warn_for)\n"
     ]
    },
    {
     "name": "stdout",
     "output_type": "stream",
     "text": [
      "Salvando as informações num JSON: relatorio_teste_beamforming_SNR_-4dB_semPCA_1582138451.4837747.json\n",
      "Classificando com o  BaggingClassifier\n",
      "Salvando as informações num JSON: relatorio_teste_beamforming_SNR_-4dB_semPCA_1582138451.8067257.json\n",
      "Classificando com o  BaggingClassifier\n",
      "Salvando as informações num JSON: relatorio_teste_beamforming_SNR_-4dB_semPCA_1582138452.126637.json\n",
      "Classificando com o  BaggingClassifier\n",
      "Salvando as informações num JSON: relatorio_teste_beamforming_SNR_-4dB_semPCA_1582138452.4519572.json\n",
      "Classificando com o  BaggingClassifier\n",
      "Salvando as informações num JSON: relatorio_teste_beamforming_SNR_-4dB_semPCA_1582138452.770917.json\n",
      "Classificando com o  BaggingClassifier\n",
      "Salvando as informações num JSON: relatorio_teste_beamforming_SNR_-4dB_semPCA_1582138453.0950718.json\n",
      "Classificando com o  KNeighborsClassifier\n",
      "Salvando as informações num JSON: relatorio_teste_beamforming_SNR_-4dB_semPCA_1582138454.9689846.json\n",
      "Classificando com o  KNeighborsClassifier\n",
      "Salvando as informações num JSON: relatorio_teste_beamforming_SNR_-4dB_semPCA_1582138456.84053.json\n",
      "Classificando com o  KNeighborsClassifier\n",
      "Salvando as informações num JSON: relatorio_teste_beamforming_SNR_-4dB_semPCA_1582138458.724847.json\n",
      "Classificando com o  KNeighborsClassifier\n",
      "Salvando as informações num JSON: relatorio_teste_beamforming_SNR_-4dB_semPCA_1582138460.59985.json\n",
      "Classificando com o  KNeighborsClassifier\n",
      "Salvando as informações num JSON: relatorio_teste_beamforming_SNR_-4dB_semPCA_1582138462.4306564.json\n",
      "Classificando com o  KNeighborsClassifier\n",
      "Salvando as informações num JSON: relatorio_teste_beamforming_SNR_-4dB_semPCA_1582138464.3287878.json\n",
      "Classificando com o  KNeighborsClassifier\n",
      "Salvando as informações num JSON: relatorio_teste_beamforming_SNR_-4dB_semPCA_1582138466.1564796.json\n",
      "Classificando com o  KNeighborsClassifier\n",
      "Salvando as informações num JSON: relatorio_teste_beamforming_SNR_-4dB_semPCA_1582138468.0279765.json\n",
      "Classificando com o  KNeighborsClassifier\n",
      "Salvando as informações num JSON: relatorio_teste_beamforming_SNR_-4dB_semPCA_1582138469.8953352.json\n",
      "Classificando com o  KNeighborsClassifier\n",
      "Salvando as informações num JSON: relatorio_teste_beamforming_SNR_-4dB_semPCA_1582138471.7398152.json\n",
      "Classificando com o  LinearSVC\n",
      "Salvando as informações num JSON: relatorio_teste_beamforming_SNR_-4dB_semPCA_1582138471.948233.json\n",
      "Classificando com o  LinearSVC\n",
      "Salvando as informações num JSON: relatorio_teste_beamforming_SNR_-4dB_semPCA_1582138472.1567678.json\n",
      "Classificando com o  LinearSVC\n",
      "Salvando as informações num JSON: relatorio_teste_beamforming_SNR_-4dB_semPCA_1582138472.3633797.json\n",
      "Classificando com o  LinearSVC\n",
      "Salvando as informações num JSON: relatorio_teste_beamforming_SNR_-4dB_semPCA_1582138472.5736187.json\n",
      "Classificando com o  LinearSVC\n",
      "Salvando as informações num JSON: relatorio_teste_beamforming_SNR_-4dB_semPCA_1582138472.7782993.json\n",
      "Classificando com o  LinearSVC\n",
      "Salvando as informações num JSON: relatorio_teste_beamforming_SNR_-4dB_semPCA_1582138472.9865618.json\n",
      "Classificando com o  LinearSVC\n",
      "Salvando as informações num JSON: relatorio_teste_beamforming_SNR_-4dB_semPCA_1582138473.2102413.json\n",
      "Classificando com o  LinearSVC\n",
      "Salvando as informações num JSON: relatorio_teste_beamforming_SNR_-4dB_semPCA_1582138473.4167404.json\n",
      "Classificando com o  LinearSVC\n",
      "Salvando as informações num JSON: relatorio_teste_beamforming_SNR_-4dB_semPCA_1582138473.6247582.json\n",
      "Classificando com o  LinearSVC\n",
      "Salvando as informações num JSON: relatorio_teste_beamforming_SNR_-4dB_semPCA_1582138473.831583.json\n",
      "Classificando com o  Perceptron\n",
      "Salvando as informações num JSON: relatorio_teste_beamforming_SNR_-4dB_semPCA_1582138474.0384688.json\n",
      "Classificando com o  Perceptron\n",
      "Salvando as informações num JSON: relatorio_teste_beamforming_SNR_-4dB_semPCA_1582138474.2461088.json\n",
      "Classificando com o  Perceptron\n",
      "Salvando as informações num JSON: relatorio_teste_beamforming_SNR_-4dB_semPCA_1582138474.4521918.json\n",
      "Classificando com o  Perceptron\n",
      "Salvando as informações num JSON: relatorio_teste_beamforming_SNR_-4dB_semPCA_1582138474.6609206.json\n",
      "Classificando com o  Perceptron\n",
      "Salvando as informações num JSON: relatorio_teste_beamforming_SNR_-4dB_semPCA_1582138474.8669827.json\n",
      "Classificando com o  Perceptron\n",
      "Salvando as informações num JSON: relatorio_teste_beamforming_SNR_-4dB_semPCA_1582138475.0749817.json\n",
      "Classificando com o  Perceptron\n",
      "Salvando as informações num JSON: relatorio_teste_beamforming_SNR_-4dB_semPCA_1582138475.2883074.json\n",
      "Classificando com o  Perceptron\n",
      "Salvando as informações num JSON: relatorio_teste_beamforming_SNR_-4dB_semPCA_1582138475.4951956.json\n",
      "Classificando com o  Perceptron\n",
      "Salvando as informações num JSON: relatorio_teste_beamforming_SNR_-4dB_semPCA_1582138475.7101827.json\n",
      "Classificando com o  Perceptron\n",
      "Salvando as informações num JSON: relatorio_teste_beamforming_SNR_-4dB_semPCA_1582138475.92193.json\n",
      "O teste com todos os classificadores foi finalizado\n",
      "Classificando com o  SGDClassifier\n"
     ]
    },
    {
     "name": "stderr",
     "output_type": "stream",
     "text": [
      "/home/dimi/venvIC/lib/python3.7/site-packages/sklearn/metrics/classification.py:1437: UndefinedMetricWarning: Precision and F-score are ill-defined and being set to 0.0 in labels with no predicted samples.\n",
      "  'precision', 'predicted', average, warn_for)\n"
     ]
    },
    {
     "name": "stdout",
     "output_type": "stream",
     "text": [
      "Salvando as informações num JSON: relatorio_teste_semBeamforming_SNR_-4dB_semPCA_1582138476.193776.json\n",
      "Classificando com o  SGDClassifier\n"
     ]
    },
    {
     "name": "stderr",
     "output_type": "stream",
     "text": [
      "/home/dimi/venvIC/lib/python3.7/site-packages/sklearn/metrics/classification.py:1437: UndefinedMetricWarning: Precision and F-score are ill-defined and being set to 0.0 in labels with no predicted samples.\n",
      "  'precision', 'predicted', average, warn_for)\n"
     ]
    },
    {
     "name": "stdout",
     "output_type": "stream",
     "text": [
      "Salvando as informações num JSON: relatorio_teste_semBeamforming_SNR_-4dB_semPCA_1582138476.4032762.json\n",
      "Classificando com o  SGDClassifier\n",
      "Salvando as informações num JSON: relatorio_teste_semBeamforming_SNR_-4dB_semPCA_1582138476.6176367.json\n",
      "Classificando com o  SGDClassifier\n",
      "Salvando as informações num JSON: relatorio_teste_semBeamforming_SNR_-4dB_semPCA_1582138476.824796.json\n",
      "Classificando com o  SGDClassifier\n",
      "Salvando as informações num JSON: relatorio_teste_semBeamforming_SNR_-4dB_semPCA_1582138477.0332067.json\n",
      "Classificando com o  SGDClassifier\n",
      "Salvando as informações num JSON: relatorio_teste_semBeamforming_SNR_-4dB_semPCA_1582138477.2462628.json\n",
      "Classificando com o  SGDClassifier\n",
      "Salvando as informações num JSON: relatorio_teste_semBeamforming_SNR_-4dB_semPCA_1582138477.45451.json\n",
      "Classificando com o  SGDClassifier\n"
     ]
    },
    {
     "name": "stderr",
     "output_type": "stream",
     "text": [
      "/home/dimi/venvIC/lib/python3.7/site-packages/sklearn/metrics/classification.py:1437: UndefinedMetricWarning: Precision and F-score are ill-defined and being set to 0.0 in labels with no predicted samples.\n",
      "  'precision', 'predicted', average, warn_for)\n"
     ]
    },
    {
     "name": "stdout",
     "output_type": "stream",
     "text": [
      "Salvando as informações num JSON: relatorio_teste_semBeamforming_SNR_-4dB_semPCA_1582138477.661157.json\n",
      "Classificando com o  SGDClassifier\n",
      "Salvando as informações num JSON: relatorio_teste_semBeamforming_SNR_-4dB_semPCA_1582138477.8737042.json\n",
      "Classificando com o  SGDClassifier\n"
     ]
    },
    {
     "name": "stderr",
     "output_type": "stream",
     "text": [
      "/home/dimi/venvIC/lib/python3.7/site-packages/sklearn/metrics/classification.py:1437: UndefinedMetricWarning: Precision and F-score are ill-defined and being set to 0.0 in labels with no predicted samples.\n",
      "  'precision', 'predicted', average, warn_for)\n"
     ]
    },
    {
     "name": "stdout",
     "output_type": "stream",
     "text": [
      "Salvando as informações num JSON: relatorio_teste_semBeamforming_SNR_-4dB_semPCA_1582138478.0873358.json\n",
      "Classificando com o  BaggingClassifier\n",
      "Salvando as informações num JSON: relatorio_teste_semBeamforming_SNR_-4dB_semPCA_1582138478.4089983.json\n",
      "Classificando com o  BaggingClassifier\n",
      "Salvando as informações num JSON: relatorio_teste_semBeamforming_SNR_-4dB_semPCA_1582138478.7347288.json\n",
      "Classificando com o  BaggingClassifier\n"
     ]
    },
    {
     "name": "stderr",
     "output_type": "stream",
     "text": [
      "/home/dimi/venvIC/lib/python3.7/site-packages/sklearn/metrics/classification.py:1437: UndefinedMetricWarning: Precision and F-score are ill-defined and being set to 0.0 in labels with no predicted samples.\n",
      "  'precision', 'predicted', average, warn_for)\n"
     ]
    },
    {
     "name": "stdout",
     "output_type": "stream",
     "text": [
      "Salvando as informações num JSON: relatorio_teste_semBeamforming_SNR_-4dB_semPCA_1582138479.0532322.json\n",
      "Classificando com o  BaggingClassifier\n",
      "Salvando as informações num JSON: relatorio_teste_semBeamforming_SNR_-4dB_semPCA_1582138479.383297.json\n",
      "Classificando com o  BaggingClassifier\n"
     ]
    },
    {
     "name": "stderr",
     "output_type": "stream",
     "text": [
      "/home/dimi/venvIC/lib/python3.7/site-packages/sklearn/metrics/classification.py:1437: UndefinedMetricWarning: Precision and F-score are ill-defined and being set to 0.0 in labels with no predicted samples.\n",
      "  'precision', 'predicted', average, warn_for)\n"
     ]
    },
    {
     "name": "stdout",
     "output_type": "stream",
     "text": [
      "Salvando as informações num JSON: relatorio_teste_semBeamforming_SNR_-4dB_semPCA_1582138479.7025836.json\n",
      "Classificando com o  BaggingClassifier\n",
      "Salvando as informações num JSON: relatorio_teste_semBeamforming_SNR_-4dB_semPCA_1582138480.023246.json\n",
      "Classificando com o  BaggingClassifier\n",
      "Salvando as informações num JSON: relatorio_teste_semBeamforming_SNR_-4dB_semPCA_1582138480.3464494.json\n",
      "Classificando com o  BaggingClassifier\n",
      "Salvando as informações num JSON: relatorio_teste_semBeamforming_SNR_-4dB_semPCA_1582138480.6721861.json\n",
      "Classificando com o  BaggingClassifier\n",
      "Salvando as informações num JSON: relatorio_teste_semBeamforming_SNR_-4dB_semPCA_1582138480.9962792.json\n",
      "Classificando com o  BaggingClassifier\n",
      "Salvando as informações num JSON: relatorio_teste_semBeamforming_SNR_-4dB_semPCA_1582138481.3156712.json\n",
      "Classificando com o  KNeighborsClassifier\n",
      "Salvando as informações num JSON: relatorio_teste_semBeamforming_SNR_-4dB_semPCA_1582138483.190925.json\n",
      "Classificando com o  KNeighborsClassifier\n",
      "Salvando as informações num JSON: relatorio_teste_semBeamforming_SNR_-4dB_semPCA_1582138485.0626965.json\n",
      "Classificando com o  KNeighborsClassifier\n",
      "Salvando as informações num JSON: relatorio_teste_semBeamforming_SNR_-4dB_semPCA_1582138486.9251413.json\n",
      "Classificando com o  KNeighborsClassifier\n",
      "Salvando as informações num JSON: relatorio_teste_semBeamforming_SNR_-4dB_semPCA_1582138488.7993598.json\n",
      "Classificando com o  KNeighborsClassifier\n",
      "Salvando as informações num JSON: relatorio_teste_semBeamforming_SNR_-4dB_semPCA_1582138490.626397.json\n",
      "Classificando com o  KNeighborsClassifier\n",
      "Salvando as informações num JSON: relatorio_teste_semBeamforming_SNR_-4dB_semPCA_1582138492.5165007.json\n",
      "Classificando com o  KNeighborsClassifier\n",
      "Salvando as informações num JSON: relatorio_teste_semBeamforming_SNR_-4dB_semPCA_1582138494.3411071.json\n",
      "Classificando com o  KNeighborsClassifier\n",
      "Salvando as informações num JSON: relatorio_teste_semBeamforming_SNR_-4dB_semPCA_1582138496.2218306.json\n",
      "Classificando com o  KNeighborsClassifier\n",
      "Salvando as informações num JSON: relatorio_teste_semBeamforming_SNR_-4dB_semPCA_1582138498.0875926.json\n",
      "Classificando com o  KNeighborsClassifier\n",
      "Salvando as informações num JSON: relatorio_teste_semBeamforming_SNR_-4dB_semPCA_1582138499.9375637.json\n",
      "Classificando com o  LinearSVC\n",
      "Salvando as informações num JSON: relatorio_teste_semBeamforming_SNR_-4dB_semPCA_1582138500.1436462.json\n",
      "Classificando com o  LinearSVC\n",
      "Salvando as informações num JSON: relatorio_teste_semBeamforming_SNR_-4dB_semPCA_1582138500.3513994.json\n",
      "Classificando com o  LinearSVC\n",
      "Salvando as informações num JSON: relatorio_teste_semBeamforming_SNR_-4dB_semPCA_1582138500.5718832.json\n",
      "Classificando com o  LinearSVC\n",
      "Salvando as informações num JSON: relatorio_teste_semBeamforming_SNR_-4dB_semPCA_1582138500.7760773.json\n",
      "Classificando com o  LinearSVC\n",
      "Salvando as informações num JSON: relatorio_teste_semBeamforming_SNR_-4dB_semPCA_1582138500.9839988.json\n",
      "Classificando com o  LinearSVC\n",
      "Salvando as informações num JSON: relatorio_teste_semBeamforming_SNR_-4dB_semPCA_1582138501.194037.json\n",
      "Classificando com o  LinearSVC\n",
      "Salvando as informações num JSON: relatorio_teste_semBeamforming_SNR_-4dB_semPCA_1582138501.4011118.json\n",
      "Classificando com o  LinearSVC\n",
      "Salvando as informações num JSON: relatorio_teste_semBeamforming_SNR_-4dB_semPCA_1582138501.6135962.json\n",
      "Classificando com o  LinearSVC\n",
      "Salvando as informações num JSON: relatorio_teste_semBeamforming_SNR_-4dB_semPCA_1582138501.819861.json\n",
      "Classificando com o  LinearSVC\n",
      "Salvando as informações num JSON: relatorio_teste_semBeamforming_SNR_-4dB_semPCA_1582138502.0340075.json\n",
      "Classificando com o  Perceptron\n",
      "Salvando as informações num JSON: relatorio_teste_semBeamforming_SNR_-4dB_semPCA_1582138502.243468.json\n",
      "Classificando com o  Perceptron\n",
      "Salvando as informações num JSON: relatorio_teste_semBeamforming_SNR_-4dB_semPCA_1582138502.4507532.json\n",
      "Classificando com o  Perceptron\n",
      "Salvando as informações num JSON: relatorio_teste_semBeamforming_SNR_-4dB_semPCA_1582138502.6635783.json\n",
      "Classificando com o  Perceptron\n",
      "Salvando as informações num JSON: relatorio_teste_semBeamforming_SNR_-4dB_semPCA_1582138502.8950784.json\n",
      "Classificando com o  Perceptron\n",
      "Salvando as informações num JSON: relatorio_teste_semBeamforming_SNR_-4dB_semPCA_1582138503.1092255.json\n",
      "Classificando com o  Perceptron\n",
      "Salvando as informações num JSON: relatorio_teste_semBeamforming_SNR_-4dB_semPCA_1582138503.3197894.json\n",
      "Classificando com o  Perceptron\n",
      "Salvando as informações num JSON: relatorio_teste_semBeamforming_SNR_-4dB_semPCA_1582138503.529171.json\n",
      "Classificando com o  Perceptron\n",
      "Salvando as informações num JSON: relatorio_teste_semBeamforming_SNR_-4dB_semPCA_1582138503.747911.json\n",
      "Classificando com o  Perceptron\n",
      "Salvando as informações num JSON: relatorio_teste_semBeamforming_SNR_-4dB_semPCA_1582138503.9555042.json\n",
      "Classificando com o  Perceptron\n",
      "Salvando as informações num JSON: relatorio_teste_semBeamforming_SNR_-4dB_semPCA_1582138504.1661425.json\n",
      "O teste com todos os classificadores foi finalizado\n",
      "Classificando com o  SGDClassifier\n"
     ]
    },
    {
     "name": "stderr",
     "output_type": "stream",
     "text": [
      "/home/dimi/venvIC/lib/python3.7/site-packages/sklearn/metrics/classification.py:1437: UndefinedMetricWarning: Precision and F-score are ill-defined and being set to 0.0 in labels with no predicted samples.\n",
      "  'precision', 'predicted', average, warn_for)\n"
     ]
    },
    {
     "name": "stdout",
     "output_type": "stream",
     "text": [
      "Salvando as informações num JSON: relatorio_teste_GSC_SNR_-6dB_semPCA_1582138504.4398293.json\n",
      "Classificando com o  SGDClassifier\n"
     ]
    },
    {
     "name": "stderr",
     "output_type": "stream",
     "text": [
      "/home/dimi/venvIC/lib/python3.7/site-packages/sklearn/metrics/classification.py:1437: UndefinedMetricWarning: Precision and F-score are ill-defined and being set to 0.0 in labels with no predicted samples.\n",
      "  'precision', 'predicted', average, warn_for)\n"
     ]
    },
    {
     "name": "stdout",
     "output_type": "stream",
     "text": [
      "Salvando as informações num JSON: relatorio_teste_GSC_SNR_-6dB_semPCA_1582138504.6513104.json\n",
      "Classificando com o  SGDClassifier\n"
     ]
    },
    {
     "name": "stderr",
     "output_type": "stream",
     "text": [
      "/home/dimi/venvIC/lib/python3.7/site-packages/sklearn/metrics/classification.py:1437: UndefinedMetricWarning: Precision and F-score are ill-defined and being set to 0.0 in labels with no predicted samples.\n",
      "  'precision', 'predicted', average, warn_for)\n"
     ]
    },
    {
     "name": "stdout",
     "output_type": "stream",
     "text": [
      "Salvando as informações num JSON: relatorio_teste_GSC_SNR_-6dB_semPCA_1582138504.8717742.json\n",
      "Classificando com o  SGDClassifier\n"
     ]
    },
    {
     "name": "stderr",
     "output_type": "stream",
     "text": [
      "/home/dimi/venvIC/lib/python3.7/site-packages/sklearn/metrics/classification.py:1437: UndefinedMetricWarning: Precision and F-score are ill-defined and being set to 0.0 in labels with no predicted samples.\n",
      "  'precision', 'predicted', average, warn_for)\n"
     ]
    },
    {
     "name": "stdout",
     "output_type": "stream",
     "text": [
      "Salvando as informações num JSON: relatorio_teste_GSC_SNR_-6dB_semPCA_1582138505.097563.json\n",
      "Classificando com o  SGDClassifier\n"
     ]
    },
    {
     "name": "stderr",
     "output_type": "stream",
     "text": [
      "/home/dimi/venvIC/lib/python3.7/site-packages/sklearn/metrics/classification.py:1437: UndefinedMetricWarning: Precision and F-score are ill-defined and being set to 0.0 in labels with no predicted samples.\n",
      "  'precision', 'predicted', average, warn_for)\n"
     ]
    },
    {
     "name": "stdout",
     "output_type": "stream",
     "text": [
      "Salvando as informações num JSON: relatorio_teste_GSC_SNR_-6dB_semPCA_1582138505.3070126.json\n",
      "Classificando com o  SGDClassifier\n"
     ]
    },
    {
     "name": "stderr",
     "output_type": "stream",
     "text": [
      "/home/dimi/venvIC/lib/python3.7/site-packages/sklearn/metrics/classification.py:1437: UndefinedMetricWarning: Precision and F-score are ill-defined and being set to 0.0 in labels with no predicted samples.\n",
      "  'precision', 'predicted', average, warn_for)\n"
     ]
    },
    {
     "name": "stdout",
     "output_type": "stream",
     "text": [
      "Salvando as informações num JSON: relatorio_teste_GSC_SNR_-6dB_semPCA_1582138505.5277095.json\n",
      "Classificando com o  SGDClassifier\n"
     ]
    },
    {
     "name": "stderr",
     "output_type": "stream",
     "text": [
      "/home/dimi/venvIC/lib/python3.7/site-packages/sklearn/metrics/classification.py:1437: UndefinedMetricWarning: Precision and F-score are ill-defined and being set to 0.0 in labels with no predicted samples.\n",
      "  'precision', 'predicted', average, warn_for)\n"
     ]
    },
    {
     "name": "stdout",
     "output_type": "stream",
     "text": [
      "Salvando as informações num JSON: relatorio_teste_GSC_SNR_-6dB_semPCA_1582138505.7375073.json\n",
      "Classificando com o  SGDClassifier\n"
     ]
    },
    {
     "name": "stderr",
     "output_type": "stream",
     "text": [
      "/home/dimi/venvIC/lib/python3.7/site-packages/sklearn/metrics/classification.py:1437: UndefinedMetricWarning: Precision and F-score are ill-defined and being set to 0.0 in labels with no predicted samples.\n",
      "  'precision', 'predicted', average, warn_for)\n"
     ]
    },
    {
     "name": "stdout",
     "output_type": "stream",
     "text": [
      "Salvando as informações num JSON: relatorio_teste_GSC_SNR_-6dB_semPCA_1582138505.9556413.json\n",
      "Classificando com o  SGDClassifier\n"
     ]
    },
    {
     "name": "stderr",
     "output_type": "stream",
     "text": [
      "/home/dimi/venvIC/lib/python3.7/site-packages/sklearn/metrics/classification.py:1437: UndefinedMetricWarning: Precision and F-score are ill-defined and being set to 0.0 in labels with no predicted samples.\n",
      "  'precision', 'predicted', average, warn_for)\n"
     ]
    },
    {
     "name": "stdout",
     "output_type": "stream",
     "text": [
      "Salvando as informações num JSON: relatorio_teste_GSC_SNR_-6dB_semPCA_1582138506.168935.json\n",
      "Classificando com o  SGDClassifier\n"
     ]
    },
    {
     "name": "stderr",
     "output_type": "stream",
     "text": [
      "/home/dimi/venvIC/lib/python3.7/site-packages/sklearn/metrics/classification.py:1437: UndefinedMetricWarning: Precision and F-score are ill-defined and being set to 0.0 in labels with no predicted samples.\n",
      "  'precision', 'predicted', average, warn_for)\n"
     ]
    },
    {
     "name": "stdout",
     "output_type": "stream",
     "text": [
      "Salvando as informações num JSON: relatorio_teste_GSC_SNR_-6dB_semPCA_1582138506.3846753.json\n",
      "Classificando com o  BaggingClassifier\n",
      "Salvando as informações num JSON: relatorio_teste_GSC_SNR_-6dB_semPCA_1582138506.7061126.json\n",
      "Classificando com o  BaggingClassifier\n",
      "Salvando as informações num JSON: relatorio_teste_GSC_SNR_-6dB_semPCA_1582138507.026364.json\n",
      "Classificando com o  BaggingClassifier\n",
      "Salvando as informações num JSON: relatorio_teste_GSC_SNR_-6dB_semPCA_1582138507.366902.json\n",
      "Classificando com o  BaggingClassifier\n",
      "Salvando as informações num JSON: relatorio_teste_GSC_SNR_-6dB_semPCA_1582138507.7009947.json\n",
      "Classificando com o  BaggingClassifier\n"
     ]
    },
    {
     "name": "stderr",
     "output_type": "stream",
     "text": [
      "/home/dimi/venvIC/lib/python3.7/site-packages/sklearn/metrics/classification.py:1437: UndefinedMetricWarning: Precision and F-score are ill-defined and being set to 0.0 in labels with no predicted samples.\n",
      "  'precision', 'predicted', average, warn_for)\n"
     ]
    },
    {
     "name": "stdout",
     "output_type": "stream",
     "text": [
      "Salvando as informações num JSON: relatorio_teste_GSC_SNR_-6dB_semPCA_1582138508.0299323.json\n",
      "Classificando com o  BaggingClassifier\n",
      "Salvando as informações num JSON: relatorio_teste_GSC_SNR_-6dB_semPCA_1582138508.3625672.json\n",
      "Classificando com o  BaggingClassifier\n"
     ]
    },
    {
     "name": "stderr",
     "output_type": "stream",
     "text": [
      "/home/dimi/venvIC/lib/python3.7/site-packages/sklearn/metrics/classification.py:1437: UndefinedMetricWarning: Precision and F-score are ill-defined and being set to 0.0 in labels with no predicted samples.\n",
      "  'precision', 'predicted', average, warn_for)\n"
     ]
    },
    {
     "name": "stdout",
     "output_type": "stream",
     "text": [
      "Salvando as informações num JSON: relatorio_teste_GSC_SNR_-6dB_semPCA_1582138508.6907709.json\n",
      "Classificando com o  BaggingClassifier\n",
      "Salvando as informações num JSON: relatorio_teste_GSC_SNR_-6dB_semPCA_1582138509.0156631.json\n",
      "Classificando com o  BaggingClassifier\n",
      "Salvando as informações num JSON: relatorio_teste_GSC_SNR_-6dB_semPCA_1582138509.3508327.json\n",
      "Classificando com o  BaggingClassifier\n",
      "Salvando as informações num JSON: relatorio_teste_GSC_SNR_-6dB_semPCA_1582138509.6715536.json\n",
      "Classificando com o  KNeighborsClassifier\n",
      "Salvando as informações num JSON: relatorio_teste_GSC_SNR_-6dB_semPCA_1582138511.549148.json\n",
      "Classificando com o  KNeighborsClassifier\n",
      "Salvando as informações num JSON: relatorio_teste_GSC_SNR_-6dB_semPCA_1582138513.4321384.json\n",
      "Classificando com o  KNeighborsClassifier\n",
      "Salvando as informações num JSON: relatorio_teste_GSC_SNR_-6dB_semPCA_1582138515.314296.json\n",
      "Classificando com o  KNeighborsClassifier\n",
      "Salvando as informações num JSON: relatorio_teste_GSC_SNR_-6dB_semPCA_1582138517.185645.json\n",
      "Classificando com o  KNeighborsClassifier\n",
      "Salvando as informações num JSON: relatorio_teste_GSC_SNR_-6dB_semPCA_1582138519.0197797.json\n",
      "Classificando com o  KNeighborsClassifier\n",
      "Salvando as informações num JSON: relatorio_teste_GSC_SNR_-6dB_semPCA_1582138520.9108946.json\n",
      "Classificando com o  KNeighborsClassifier\n",
      "Salvando as informações num JSON: relatorio_teste_GSC_SNR_-6dB_semPCA_1582138522.740435.json\n",
      "Classificando com o  KNeighborsClassifier\n",
      "Salvando as informações num JSON: relatorio_teste_GSC_SNR_-6dB_semPCA_1582138524.6116838.json\n",
      "Classificando com o  KNeighborsClassifier\n",
      "Salvando as informações num JSON: relatorio_teste_GSC_SNR_-6dB_semPCA_1582138526.4861379.json\n",
      "Classificando com o  KNeighborsClassifier\n",
      "Salvando as informações num JSON: relatorio_teste_GSC_SNR_-6dB_semPCA_1582138528.3319802.json\n",
      "Classificando com o  LinearSVC\n",
      "Salvando as informações num JSON: relatorio_teste_GSC_SNR_-6dB_semPCA_1582138528.5407343.json\n",
      "Classificando com o  LinearSVC\n",
      "Salvando as informações num JSON: relatorio_teste_GSC_SNR_-6dB_semPCA_1582138528.7494254.json\n",
      "Classificando com o  LinearSVC\n",
      "Salvando as informações num JSON: relatorio_teste_GSC_SNR_-6dB_semPCA_1582138528.9572191.json\n",
      "Classificando com o  LinearSVC\n",
      "Salvando as informações num JSON: relatorio_teste_GSC_SNR_-6dB_semPCA_1582138529.1694007.json\n",
      "Classificando com o  LinearSVC\n",
      "Salvando as informações num JSON: relatorio_teste_GSC_SNR_-6dB_semPCA_1582138529.3793464.json\n",
      "Classificando com o  LinearSVC\n",
      "Salvando as informações num JSON: relatorio_teste_GSC_SNR_-6dB_semPCA_1582138529.5881972.json\n",
      "Classificando com o  LinearSVC\n",
      "Salvando as informações num JSON: relatorio_teste_GSC_SNR_-6dB_semPCA_1582138529.7982516.json\n",
      "Classificando com o  LinearSVC\n",
      "Salvando as informações num JSON: relatorio_teste_GSC_SNR_-6dB_semPCA_1582138530.0126162.json\n",
      "Classificando com o  LinearSVC\n",
      "Salvando as informações num JSON: relatorio_teste_GSC_SNR_-6dB_semPCA_1582138530.2255402.json\n",
      "Classificando com o  LinearSVC\n",
      "Salvando as informações num JSON: relatorio_teste_GSC_SNR_-6dB_semPCA_1582138530.431192.json\n",
      "Classificando com o  Perceptron\n",
      "Salvando as informações num JSON: relatorio_teste_GSC_SNR_-6dB_semPCA_1582138530.6390746.json\n",
      "Classificando com o  Perceptron\n",
      "Salvando as informações num JSON: relatorio_teste_GSC_SNR_-6dB_semPCA_1582138530.8473883.json\n",
      "Classificando com o  Perceptron\n",
      "Salvando as informações num JSON: relatorio_teste_GSC_SNR_-6dB_semPCA_1582138531.053514.json\n",
      "Classificando com o  Perceptron\n",
      "Salvando as informações num JSON: relatorio_teste_GSC_SNR_-6dB_semPCA_1582138531.265409.json\n",
      "Classificando com o  Perceptron\n",
      "Salvando as informações num JSON: relatorio_teste_GSC_SNR_-6dB_semPCA_1582138531.4710612.json\n",
      "Classificando com o  Perceptron\n",
      "Salvando as informações num JSON: relatorio_teste_GSC_SNR_-6dB_semPCA_1582138531.6785073.json\n",
      "Classificando com o  Perceptron\n",
      "Salvando as informações num JSON: relatorio_teste_GSC_SNR_-6dB_semPCA_1582138531.8860536.json\n",
      "Classificando com o  Perceptron\n",
      "Salvando as informações num JSON: relatorio_teste_GSC_SNR_-6dB_semPCA_1582138532.0924187.json\n",
      "Classificando com o  Perceptron\n",
      "Salvando as informações num JSON: relatorio_teste_GSC_SNR_-6dB_semPCA_1582138532.3027456.json\n",
      "Classificando com o  Perceptron\n",
      "Salvando as informações num JSON: relatorio_teste_GSC_SNR_-6dB_semPCA_1582138532.5112727.json\n",
      "O teste com todos os classificadores foi finalizado\n",
      "Classificando com o  SGDClassifier\n"
     ]
    },
    {
     "name": "stderr",
     "output_type": "stream",
     "text": [
      "/home/dimi/venvIC/lib/python3.7/site-packages/sklearn/metrics/classification.py:1437: UndefinedMetricWarning: Precision and F-score are ill-defined and being set to 0.0 in labels with no predicted samples.\n",
      "  'precision', 'predicted', average, warn_for)\n"
     ]
    },
    {
     "name": "stdout",
     "output_type": "stream",
     "text": [
      "Salvando as informações num JSON: relatorio_teste_semBeamforming_SNR_-6dB_semPCA_1582138532.7786913.json\n",
      "Classificando com o  SGDClassifier\n"
     ]
    },
    {
     "name": "stderr",
     "output_type": "stream",
     "text": [
      "/home/dimi/venvIC/lib/python3.7/site-packages/sklearn/metrics/classification.py:1437: UndefinedMetricWarning: Precision and F-score are ill-defined and being set to 0.0 in labels with no predicted samples.\n",
      "  'precision', 'predicted', average, warn_for)\n"
     ]
    },
    {
     "name": "stdout",
     "output_type": "stream",
     "text": [
      "Salvando as informações num JSON: relatorio_teste_semBeamforming_SNR_-6dB_semPCA_1582138532.9940434.json\n",
      "Classificando com o  SGDClassifier\n"
     ]
    },
    {
     "name": "stderr",
     "output_type": "stream",
     "text": [
      "/home/dimi/venvIC/lib/python3.7/site-packages/sklearn/metrics/classification.py:1437: UndefinedMetricWarning: Precision and F-score are ill-defined and being set to 0.0 in labels with no predicted samples.\n",
      "  'precision', 'predicted', average, warn_for)\n"
     ]
    },
    {
     "name": "stdout",
     "output_type": "stream",
     "text": [
      "Salvando as informações num JSON: relatorio_teste_semBeamforming_SNR_-6dB_semPCA_1582138533.2159557.json\n",
      "Classificando com o  SGDClassifier\n"
     ]
    },
    {
     "name": "stderr",
     "output_type": "stream",
     "text": [
      "/home/dimi/venvIC/lib/python3.7/site-packages/sklearn/metrics/classification.py:1437: UndefinedMetricWarning: Precision and F-score are ill-defined and being set to 0.0 in labels with no predicted samples.\n",
      "  'precision', 'predicted', average, warn_for)\n"
     ]
    },
    {
     "name": "stdout",
     "output_type": "stream",
     "text": [
      "Salvando as informações num JSON: relatorio_teste_semBeamforming_SNR_-6dB_semPCA_1582138533.4232118.json\n",
      "Classificando com o  SGDClassifier\n"
     ]
    },
    {
     "name": "stderr",
     "output_type": "stream",
     "text": [
      "/home/dimi/venvIC/lib/python3.7/site-packages/sklearn/metrics/classification.py:1437: UndefinedMetricWarning: Precision and F-score are ill-defined and being set to 0.0 in labels with no predicted samples.\n",
      "  'precision', 'predicted', average, warn_for)\n"
     ]
    },
    {
     "name": "stdout",
     "output_type": "stream",
     "text": [
      "Salvando as informações num JSON: relatorio_teste_semBeamforming_SNR_-6dB_semPCA_1582138533.6316116.json\n",
      "Classificando com o  SGDClassifier\n"
     ]
    },
    {
     "name": "stderr",
     "output_type": "stream",
     "text": [
      "/home/dimi/venvIC/lib/python3.7/site-packages/sklearn/metrics/classification.py:1437: UndefinedMetricWarning: Precision and F-score are ill-defined and being set to 0.0 in labels with no predicted samples.\n",
      "  'precision', 'predicted', average, warn_for)\n"
     ]
    },
    {
     "name": "stdout",
     "output_type": "stream",
     "text": [
      "Salvando as informações num JSON: relatorio_teste_semBeamforming_SNR_-6dB_semPCA_1582138533.8410647.json\n",
      "Classificando com o  SGDClassifier\n"
     ]
    },
    {
     "name": "stderr",
     "output_type": "stream",
     "text": [
      "/home/dimi/venvIC/lib/python3.7/site-packages/sklearn/metrics/classification.py:1437: UndefinedMetricWarning: Precision and F-score are ill-defined and being set to 0.0 in labels with no predicted samples.\n",
      "  'precision', 'predicted', average, warn_for)\n"
     ]
    },
    {
     "name": "stdout",
     "output_type": "stream",
     "text": [
      "Salvando as informações num JSON: relatorio_teste_semBeamforming_SNR_-6dB_semPCA_1582138534.0552123.json\n",
      "Classificando com o  SGDClassifier\n"
     ]
    },
    {
     "name": "stderr",
     "output_type": "stream",
     "text": [
      "/home/dimi/venvIC/lib/python3.7/site-packages/sklearn/metrics/classification.py:1437: UndefinedMetricWarning: Precision and F-score are ill-defined and being set to 0.0 in labels with no predicted samples.\n",
      "  'precision', 'predicted', average, warn_for)\n"
     ]
    },
    {
     "name": "stdout",
     "output_type": "stream",
     "text": [
      "Salvando as informações num JSON: relatorio_teste_semBeamforming_SNR_-6dB_semPCA_1582138534.2628279.json\n",
      "Classificando com o  SGDClassifier\n"
     ]
    },
    {
     "name": "stderr",
     "output_type": "stream",
     "text": [
      "/home/dimi/venvIC/lib/python3.7/site-packages/sklearn/metrics/classification.py:1437: UndefinedMetricWarning: Precision and F-score are ill-defined and being set to 0.0 in labels with no predicted samples.\n",
      "  'precision', 'predicted', average, warn_for)\n"
     ]
    },
    {
     "name": "stdout",
     "output_type": "stream",
     "text": [
      "Salvando as informações num JSON: relatorio_teste_semBeamforming_SNR_-6dB_semPCA_1582138534.4694967.json\n",
      "Classificando com o  SGDClassifier\n"
     ]
    },
    {
     "name": "stderr",
     "output_type": "stream",
     "text": [
      "/home/dimi/venvIC/lib/python3.7/site-packages/sklearn/metrics/classification.py:1437: UndefinedMetricWarning: Precision and F-score are ill-defined and being set to 0.0 in labels with no predicted samples.\n",
      "  'precision', 'predicted', average, warn_for)\n"
     ]
    },
    {
     "name": "stdout",
     "output_type": "stream",
     "text": [
      "Salvando as informações num JSON: relatorio_teste_semBeamforming_SNR_-6dB_semPCA_1582138534.67828.json\n",
      "Classificando com o  BaggingClassifier\n",
      "Salvando as informações num JSON: relatorio_teste_semBeamforming_SNR_-6dB_semPCA_1582138535.0017564.json\n",
      "Classificando com o  BaggingClassifier\n",
      "Salvando as informações num JSON: relatorio_teste_semBeamforming_SNR_-6dB_semPCA_1582138535.3258476.json\n",
      "Classificando com o  BaggingClassifier\n",
      "Salvando as informações num JSON: relatorio_teste_semBeamforming_SNR_-6dB_semPCA_1582138535.6463523.json\n",
      "Classificando com o  BaggingClassifier\n",
      "Salvando as informações num JSON: relatorio_teste_semBeamforming_SNR_-6dB_semPCA_1582138535.9653225.json\n",
      "Classificando com o  BaggingClassifier\n",
      "Salvando as informações num JSON: relatorio_teste_semBeamforming_SNR_-6dB_semPCA_1582138536.2914255.json\n",
      "Classificando com o  BaggingClassifier\n",
      "Salvando as informações num JSON: relatorio_teste_semBeamforming_SNR_-6dB_semPCA_1582138536.6102114.json\n",
      "Classificando com o  BaggingClassifier\n"
     ]
    },
    {
     "name": "stderr",
     "output_type": "stream",
     "text": [
      "/home/dimi/venvIC/lib/python3.7/site-packages/sklearn/metrics/classification.py:1437: UndefinedMetricWarning: Precision and F-score are ill-defined and being set to 0.0 in labels with no predicted samples.\n",
      "  'precision', 'predicted', average, warn_for)\n"
     ]
    },
    {
     "name": "stdout",
     "output_type": "stream",
     "text": [
      "Salvando as informações num JSON: relatorio_teste_semBeamforming_SNR_-6dB_semPCA_1582138536.9314113.json\n",
      "Classificando com o  BaggingClassifier\n",
      "Salvando as informações num JSON: relatorio_teste_semBeamforming_SNR_-6dB_semPCA_1582138537.2556229.json\n",
      "Classificando com o  BaggingClassifier\n",
      "Salvando as informações num JSON: relatorio_teste_semBeamforming_SNR_-6dB_semPCA_1582138537.5730836.json\n",
      "Classificando com o  BaggingClassifier\n",
      "Salvando as informações num JSON: relatorio_teste_semBeamforming_SNR_-6dB_semPCA_1582138537.891516.json\n",
      "Classificando com o  KNeighborsClassifier\n",
      "Salvando as informações num JSON: relatorio_teste_semBeamforming_SNR_-6dB_semPCA_1582138539.8482995.json\n",
      "Classificando com o  KNeighborsClassifier\n",
      "Salvando as informações num JSON: relatorio_teste_semBeamforming_SNR_-6dB_semPCA_1582138541.7504432.json\n",
      "Classificando com o  KNeighborsClassifier\n",
      "Salvando as informações num JSON: relatorio_teste_semBeamforming_SNR_-6dB_semPCA_1582138543.6339333.json\n",
      "Classificando com o  KNeighborsClassifier\n",
      "Salvando as informações num JSON: relatorio_teste_semBeamforming_SNR_-6dB_semPCA_1582138545.5497186.json\n",
      "Classificando com o  KNeighborsClassifier\n",
      "Salvando as informações num JSON: relatorio_teste_semBeamforming_SNR_-6dB_semPCA_1582138547.4103274.json\n",
      "Classificando com o  KNeighborsClassifier\n",
      "Salvando as informações num JSON: relatorio_teste_semBeamforming_SNR_-6dB_semPCA_1582138549.331793.json\n",
      "Classificando com o  KNeighborsClassifier\n",
      "Salvando as informações num JSON: relatorio_teste_semBeamforming_SNR_-6dB_semPCA_1582138551.187143.json\n",
      "Classificando com o  KNeighborsClassifier\n",
      "Salvando as informações num JSON: relatorio_teste_semBeamforming_SNR_-6dB_semPCA_1582138553.0649164.json\n",
      "Classificando com o  KNeighborsClassifier\n",
      "Salvando as informações num JSON: relatorio_teste_semBeamforming_SNR_-6dB_semPCA_1582138554.9553967.json\n",
      "Classificando com o  KNeighborsClassifier\n",
      "Salvando as informações num JSON: relatorio_teste_semBeamforming_SNR_-6dB_semPCA_1582138556.9510424.json\n",
      "Classificando com o  LinearSVC\n",
      "Salvando as informações num JSON: relatorio_teste_semBeamforming_SNR_-6dB_semPCA_1582138557.177669.json\n",
      "Classificando com o  LinearSVC\n",
      "Salvando as informações num JSON: relatorio_teste_semBeamforming_SNR_-6dB_semPCA_1582138557.3839636.json\n",
      "Classificando com o  LinearSVC\n",
      "Salvando as informações num JSON: relatorio_teste_semBeamforming_SNR_-6dB_semPCA_1582138557.590602.json\n",
      "Classificando com o  LinearSVC\n",
      "Salvando as informações num JSON: relatorio_teste_semBeamforming_SNR_-6dB_semPCA_1582138557.796106.json\n",
      "Classificando com o  LinearSVC\n",
      "Salvando as informações num JSON: relatorio_teste_semBeamforming_SNR_-6dB_semPCA_1582138558.0004058.json\n",
      "Classificando com o  LinearSVC\n",
      "Salvando as informações num JSON: relatorio_teste_semBeamforming_SNR_-6dB_semPCA_1582138558.2133026.json\n",
      "Classificando com o  LinearSVC\n",
      "Salvando as informações num JSON: relatorio_teste_semBeamforming_SNR_-6dB_semPCA_1582138558.4171999.json\n",
      "Classificando com o  LinearSVC\n",
      "Salvando as informações num JSON: relatorio_teste_semBeamforming_SNR_-6dB_semPCA_1582138558.624298.json\n",
      "Classificando com o  LinearSVC\n",
      "Salvando as informações num JSON: relatorio_teste_semBeamforming_SNR_-6dB_semPCA_1582138558.8299425.json\n",
      "Classificando com o  LinearSVC\n",
      "Salvando as informações num JSON: relatorio_teste_semBeamforming_SNR_-6dB_semPCA_1582138559.036045.json\n",
      "Classificando com o  Perceptron\n",
      "Salvando as informações num JSON: relatorio_teste_semBeamforming_SNR_-6dB_semPCA_1582138559.2438009.json\n",
      "Classificando com o  Perceptron\n",
      "Salvando as informações num JSON: relatorio_teste_semBeamforming_SNR_-6dB_semPCA_1582138559.4502435.json\n",
      "Classificando com o  Perceptron\n",
      "Salvando as informações num JSON: relatorio_teste_semBeamforming_SNR_-6dB_semPCA_1582138559.6545684.json\n",
      "Classificando com o  Perceptron\n",
      "Salvando as informações num JSON: relatorio_teste_semBeamforming_SNR_-6dB_semPCA_1582138559.860453.json\n",
      "Classificando com o  Perceptron\n",
      "Salvando as informações num JSON: relatorio_teste_semBeamforming_SNR_-6dB_semPCA_1582138560.0681963.json\n",
      "Classificando com o  Perceptron\n",
      "Salvando as informações num JSON: relatorio_teste_semBeamforming_SNR_-6dB_semPCA_1582138560.2761388.json\n",
      "Classificando com o  Perceptron\n",
      "Salvando as informações num JSON: relatorio_teste_semBeamforming_SNR_-6dB_semPCA_1582138560.4893458.json\n",
      "Classificando com o  Perceptron\n",
      "Salvando as informações num JSON: relatorio_teste_semBeamforming_SNR_-6dB_semPCA_1582138560.7015793.json\n",
      "Classificando com o  Perceptron\n",
      "Salvando as informações num JSON: relatorio_teste_semBeamforming_SNR_-6dB_semPCA_1582138560.9085543.json\n",
      "Classificando com o  Perceptron\n",
      "Salvando as informações num JSON: relatorio_teste_semBeamforming_SNR_-6dB_semPCA_1582138561.115489.json\n",
      "O teste com todos os classificadores foi finalizado\n",
      "Classificando com o  SGDClassifier\n"
     ]
    },
    {
     "name": "stderr",
     "output_type": "stream",
     "text": [
      "/home/dimi/venvIC/lib/python3.7/site-packages/sklearn/metrics/classification.py:1437: UndefinedMetricWarning: Precision and F-score are ill-defined and being set to 0.0 in labels with no predicted samples.\n",
      "  'precision', 'predicted', average, warn_for)\n"
     ]
    },
    {
     "name": "stdout",
     "output_type": "stream",
     "text": [
      "Salvando as informações num JSON: relatorio_teste_beamforming_SNR_-6dB_semPCA_1582138561.382667.json\n",
      "Classificando com o  SGDClassifier\n"
     ]
    },
    {
     "name": "stderr",
     "output_type": "stream",
     "text": [
      "/home/dimi/venvIC/lib/python3.7/site-packages/sklearn/metrics/classification.py:1437: UndefinedMetricWarning: Precision and F-score are ill-defined and being set to 0.0 in labels with no predicted samples.\n",
      "  'precision', 'predicted', average, warn_for)\n"
     ]
    },
    {
     "name": "stdout",
     "output_type": "stream",
     "text": [
      "Salvando as informações num JSON: relatorio_teste_beamforming_SNR_-6dB_semPCA_1582138561.5877824.json\n",
      "Classificando com o  SGDClassifier\n"
     ]
    },
    {
     "name": "stderr",
     "output_type": "stream",
     "text": [
      "/home/dimi/venvIC/lib/python3.7/site-packages/sklearn/metrics/classification.py:1437: UndefinedMetricWarning: Precision and F-score are ill-defined and being set to 0.0 in labels with no predicted samples.\n",
      "  'precision', 'predicted', average, warn_for)\n"
     ]
    },
    {
     "name": "stdout",
     "output_type": "stream",
     "text": [
      "Salvando as informações num JSON: relatorio_teste_beamforming_SNR_-6dB_semPCA_1582138561.7954135.json\n",
      "Classificando com o  SGDClassifier\n"
     ]
    },
    {
     "name": "stderr",
     "output_type": "stream",
     "text": [
      "/home/dimi/venvIC/lib/python3.7/site-packages/sklearn/metrics/classification.py:1437: UndefinedMetricWarning: Precision and F-score are ill-defined and being set to 0.0 in labels with no predicted samples.\n",
      "  'precision', 'predicted', average, warn_for)\n"
     ]
    },
    {
     "name": "stdout",
     "output_type": "stream",
     "text": [
      "Salvando as informações num JSON: relatorio_teste_beamforming_SNR_-6dB_semPCA_1582138562.0092075.json\n",
      "Classificando com o  SGDClassifier\n"
     ]
    },
    {
     "name": "stderr",
     "output_type": "stream",
     "text": [
      "/home/dimi/venvIC/lib/python3.7/site-packages/sklearn/metrics/classification.py:1437: UndefinedMetricWarning: Precision and F-score are ill-defined and being set to 0.0 in labels with no predicted samples.\n",
      "  'precision', 'predicted', average, warn_for)\n"
     ]
    },
    {
     "name": "stdout",
     "output_type": "stream",
     "text": [
      "Salvando as informações num JSON: relatorio_teste_beamforming_SNR_-6dB_semPCA_1582138562.2199805.json\n",
      "Classificando com o  SGDClassifier\n"
     ]
    },
    {
     "name": "stderr",
     "output_type": "stream",
     "text": [
      "/home/dimi/venvIC/lib/python3.7/site-packages/sklearn/metrics/classification.py:1437: UndefinedMetricWarning: Precision and F-score are ill-defined and being set to 0.0 in labels with no predicted samples.\n",
      "  'precision', 'predicted', average, warn_for)\n"
     ]
    },
    {
     "name": "stdout",
     "output_type": "stream",
     "text": [
      "Salvando as informações num JSON: relatorio_teste_beamforming_SNR_-6dB_semPCA_1582138562.423512.json\n",
      "Classificando com o  SGDClassifier\n"
     ]
    },
    {
     "name": "stderr",
     "output_type": "stream",
     "text": [
      "/home/dimi/venvIC/lib/python3.7/site-packages/sklearn/metrics/classification.py:1437: UndefinedMetricWarning: Precision and F-score are ill-defined and being set to 0.0 in labels with no predicted samples.\n",
      "  'precision', 'predicted', average, warn_for)\n"
     ]
    },
    {
     "name": "stdout",
     "output_type": "stream",
     "text": [
      "Salvando as informações num JSON: relatorio_teste_beamforming_SNR_-6dB_semPCA_1582138562.627761.json\n",
      "Classificando com o  SGDClassifier\n"
     ]
    },
    {
     "name": "stderr",
     "output_type": "stream",
     "text": [
      "/home/dimi/venvIC/lib/python3.7/site-packages/sklearn/metrics/classification.py:1437: UndefinedMetricWarning: Precision and F-score are ill-defined and being set to 0.0 in labels with no predicted samples.\n",
      "  'precision', 'predicted', average, warn_for)\n"
     ]
    },
    {
     "name": "stdout",
     "output_type": "stream",
     "text": [
      "Salvando as informações num JSON: relatorio_teste_beamforming_SNR_-6dB_semPCA_1582138562.8308434.json\n",
      "Classificando com o  SGDClassifier\n"
     ]
    },
    {
     "name": "stderr",
     "output_type": "stream",
     "text": [
      "/home/dimi/venvIC/lib/python3.7/site-packages/sklearn/metrics/classification.py:1437: UndefinedMetricWarning: Precision and F-score are ill-defined and being set to 0.0 in labels with no predicted samples.\n",
      "  'precision', 'predicted', average, warn_for)\n"
     ]
    },
    {
     "name": "stdout",
     "output_type": "stream",
     "text": [
      "Salvando as informações num JSON: relatorio_teste_beamforming_SNR_-6dB_semPCA_1582138563.0341818.json\n",
      "Classificando com o  SGDClassifier\n"
     ]
    },
    {
     "name": "stderr",
     "output_type": "stream",
     "text": [
      "/home/dimi/venvIC/lib/python3.7/site-packages/sklearn/metrics/classification.py:1437: UndefinedMetricWarning: Precision and F-score are ill-defined and being set to 0.0 in labels with no predicted samples.\n",
      "  'precision', 'predicted', average, warn_for)\n"
     ]
    },
    {
     "name": "stdout",
     "output_type": "stream",
     "text": [
      "Salvando as informações num JSON: relatorio_teste_beamforming_SNR_-6dB_semPCA_1582138563.2397377.json\n",
      "Classificando com o  BaggingClassifier\n",
      "Salvando as informações num JSON: relatorio_teste_beamforming_SNR_-6dB_semPCA_1582138563.5675645.json\n",
      "Classificando com o  BaggingClassifier\n",
      "Salvando as informações num JSON: relatorio_teste_beamforming_SNR_-6dB_semPCA_1582138563.884985.json\n",
      "Classificando com o  BaggingClassifier\n",
      "Salvando as informações num JSON: relatorio_teste_beamforming_SNR_-6dB_semPCA_1582138564.202528.json\n",
      "Classificando com o  BaggingClassifier\n",
      "Salvando as informações num JSON: relatorio_teste_beamforming_SNR_-6dB_semPCA_1582138564.5233395.json\n",
      "Classificando com o  BaggingClassifier\n",
      "Salvando as informações num JSON: relatorio_teste_beamforming_SNR_-6dB_semPCA_1582138564.8416848.json\n",
      "Classificando com o  BaggingClassifier\n",
      "Salvando as informações num JSON: relatorio_teste_beamforming_SNR_-6dB_semPCA_1582138565.1594458.json\n",
      "Classificando com o  BaggingClassifier\n"
     ]
    },
    {
     "name": "stderr",
     "output_type": "stream",
     "text": [
      "/home/dimi/venvIC/lib/python3.7/site-packages/sklearn/metrics/classification.py:1437: UndefinedMetricWarning: Precision and F-score are ill-defined and being set to 0.0 in labels with no predicted samples.\n",
      "  'precision', 'predicted', average, warn_for)\n"
     ]
    },
    {
     "name": "stdout",
     "output_type": "stream",
     "text": [
      "Salvando as informações num JSON: relatorio_teste_beamforming_SNR_-6dB_semPCA_1582138565.484409.json\n",
      "Classificando com o  BaggingClassifier\n",
      "Salvando as informações num JSON: relatorio_teste_beamforming_SNR_-6dB_semPCA_1582138565.8081813.json\n",
      "Classificando com o  BaggingClassifier\n",
      "Salvando as informações num JSON: relatorio_teste_beamforming_SNR_-6dB_semPCA_1582138566.1291468.json\n",
      "Classificando com o  BaggingClassifier\n",
      "Salvando as informações num JSON: relatorio_teste_beamforming_SNR_-6dB_semPCA_1582138566.4469116.json\n",
      "Classificando com o  KNeighborsClassifier\n",
      "Salvando as informações num JSON: relatorio_teste_beamforming_SNR_-6dB_semPCA_1582138568.3086221.json\n",
      "Classificando com o  KNeighborsClassifier\n",
      "Salvando as informações num JSON: relatorio_teste_beamforming_SNR_-6dB_semPCA_1582138570.1558774.json\n",
      "Classificando com o  KNeighborsClassifier\n",
      "Salvando as informações num JSON: relatorio_teste_beamforming_SNR_-6dB_semPCA_1582138571.995981.json\n",
      "Classificando com o  KNeighborsClassifier\n",
      "Salvando as informações num JSON: relatorio_teste_beamforming_SNR_-6dB_semPCA_1582138573.8460255.json\n",
      "Classificando com o  KNeighborsClassifier\n",
      "Salvando as informações num JSON: relatorio_teste_beamforming_SNR_-6dB_semPCA_1582138575.6529346.json\n",
      "Classificando com o  KNeighborsClassifier\n",
      "Salvando as informações num JSON: relatorio_teste_beamforming_SNR_-6dB_semPCA_1582138577.5182803.json\n",
      "Classificando com o  KNeighborsClassifier\n",
      "Salvando as informações num JSON: relatorio_teste_beamforming_SNR_-6dB_semPCA_1582138579.3221776.json\n",
      "Classificando com o  KNeighborsClassifier\n",
      "Salvando as informações num JSON: relatorio_teste_beamforming_SNR_-6dB_semPCA_1582138581.169796.json\n",
      "Classificando com o  KNeighborsClassifier\n",
      "Salvando as informações num JSON: relatorio_teste_beamforming_SNR_-6dB_semPCA_1582138583.01296.json\n",
      "Classificando com o  KNeighborsClassifier\n",
      "Salvando as informações num JSON: relatorio_teste_beamforming_SNR_-6dB_semPCA_1582138584.833127.json\n",
      "Classificando com o  LinearSVC\n",
      "Salvando as informações num JSON: relatorio_teste_beamforming_SNR_-6dB_semPCA_1582138585.038752.json\n",
      "Classificando com o  LinearSVC\n",
      "Salvando as informações num JSON: relatorio_teste_beamforming_SNR_-6dB_semPCA_1582138585.2451928.json\n",
      "Classificando com o  LinearSVC\n",
      "Salvando as informações num JSON: relatorio_teste_beamforming_SNR_-6dB_semPCA_1582138585.4490354.json\n",
      "Classificando com o  LinearSVC\n",
      "Salvando as informações num JSON: relatorio_teste_beamforming_SNR_-6dB_semPCA_1582138585.6561146.json\n",
      "Classificando com o  LinearSVC\n",
      "Salvando as informações num JSON: relatorio_teste_beamforming_SNR_-6dB_semPCA_1582138585.8616211.json\n",
      "Classificando com o  LinearSVC\n",
      "Salvando as informações num JSON: relatorio_teste_beamforming_SNR_-6dB_semPCA_1582138586.0677342.json\n",
      "Classificando com o  LinearSVC\n",
      "Salvando as informações num JSON: relatorio_teste_beamforming_SNR_-6dB_semPCA_1582138586.2822292.json\n",
      "Classificando com o  LinearSVC\n",
      "Salvando as informações num JSON: relatorio_teste_beamforming_SNR_-6dB_semPCA_1582138586.5024931.json\n",
      "Classificando com o  LinearSVC\n",
      "Salvando as informações num JSON: relatorio_teste_beamforming_SNR_-6dB_semPCA_1582138586.7263136.json\n",
      "Classificando com o  LinearSVC\n",
      "Salvando as informações num JSON: relatorio_teste_beamforming_SNR_-6dB_semPCA_1582138586.9594634.json\n",
      "Classificando com o  Perceptron\n",
      "Salvando as informações num JSON: relatorio_teste_beamforming_SNR_-6dB_semPCA_1582138587.1658962.json\n",
      "Classificando com o  Perceptron\n",
      "Salvando as informações num JSON: relatorio_teste_beamforming_SNR_-6dB_semPCA_1582138587.3707237.json\n",
      "Classificando com o  Perceptron\n",
      "Salvando as informações num JSON: relatorio_teste_beamforming_SNR_-6dB_semPCA_1582138587.5877528.json\n",
      "Classificando com o  Perceptron\n",
      "Salvando as informações num JSON: relatorio_teste_beamforming_SNR_-6dB_semPCA_1582138587.8267977.json\n",
      "Classificando com o  Perceptron\n",
      "Salvando as informações num JSON: relatorio_teste_beamforming_SNR_-6dB_semPCA_1582138588.0305154.json\n",
      "Classificando com o  Perceptron\n",
      "Salvando as informações num JSON: relatorio_teste_beamforming_SNR_-6dB_semPCA_1582138588.240664.json\n",
      "Classificando com o  Perceptron\n",
      "Salvando as informações num JSON: relatorio_teste_beamforming_SNR_-6dB_semPCA_1582138588.4675233.json\n",
      "Classificando com o  Perceptron\n",
      "Salvando as informações num JSON: relatorio_teste_beamforming_SNR_-6dB_semPCA_1582138588.688283.json\n",
      "Classificando com o  Perceptron\n",
      "Salvando as informações num JSON: relatorio_teste_beamforming_SNR_-6dB_semPCA_1582138588.8949184.json\n",
      "Classificando com o  Perceptron\n",
      "Salvando as informações num JSON: relatorio_teste_beamforming_SNR_-6dB_semPCA_1582138589.102195.json\n",
      "O teste com todos os classificadores foi finalizado\n",
      "Classificando com o  SGDClassifier\n"
     ]
    },
    {
     "name": "stderr",
     "output_type": "stream",
     "text": [
      "/home/dimi/venvIC/lib/python3.7/site-packages/sklearn/metrics/classification.py:1437: UndefinedMetricWarning: Precision and F-score are ill-defined and being set to 0.0 in labels with no predicted samples.\n",
      "  'precision', 'predicted', average, warn_for)\n"
     ]
    },
    {
     "name": "stdout",
     "output_type": "stream",
     "text": [
      "Salvando as informações num JSON: relatorio_teste_beamforming_SNR_-3dB_semPCA_1582138589.3743048.json\n",
      "Classificando com o  SGDClassifier\n"
     ]
    },
    {
     "name": "stderr",
     "output_type": "stream",
     "text": [
      "/home/dimi/venvIC/lib/python3.7/site-packages/sklearn/metrics/classification.py:1437: UndefinedMetricWarning: Precision and F-score are ill-defined and being set to 0.0 in labels with no predicted samples.\n",
      "  'precision', 'predicted', average, warn_for)\n"
     ]
    },
    {
     "name": "stdout",
     "output_type": "stream",
     "text": [
      "Salvando as informações num JSON: relatorio_teste_beamforming_SNR_-3dB_semPCA_1582138589.5826323.json\n",
      "Classificando com o  SGDClassifier\n"
     ]
    },
    {
     "name": "stderr",
     "output_type": "stream",
     "text": [
      "/home/dimi/venvIC/lib/python3.7/site-packages/sklearn/metrics/classification.py:1437: UndefinedMetricWarning: Precision and F-score are ill-defined and being set to 0.0 in labels with no predicted samples.\n",
      "  'precision', 'predicted', average, warn_for)\n"
     ]
    },
    {
     "name": "stdout",
     "output_type": "stream",
     "text": [
      "Salvando as informações num JSON: relatorio_teste_beamforming_SNR_-3dB_semPCA_1582138589.790765.json\n",
      "Classificando com o  SGDClassifier\n"
     ]
    },
    {
     "name": "stderr",
     "output_type": "stream",
     "text": [
      "/home/dimi/venvIC/lib/python3.7/site-packages/sklearn/metrics/classification.py:1437: UndefinedMetricWarning: Precision and F-score are ill-defined and being set to 0.0 in labels with no predicted samples.\n",
      "  'precision', 'predicted', average, warn_for)\n"
     ]
    },
    {
     "name": "stdout",
     "output_type": "stream",
     "text": [
      "Salvando as informações num JSON: relatorio_teste_beamforming_SNR_-3dB_semPCA_1582138589.9984007.json\n",
      "Classificando com o  SGDClassifier\n"
     ]
    },
    {
     "name": "stderr",
     "output_type": "stream",
     "text": [
      "/home/dimi/venvIC/lib/python3.7/site-packages/sklearn/metrics/classification.py:1437: UndefinedMetricWarning: Precision and F-score are ill-defined and being set to 0.0 in labels with no predicted samples.\n",
      "  'precision', 'predicted', average, warn_for)\n"
     ]
    },
    {
     "name": "stdout",
     "output_type": "stream",
     "text": [
      "Salvando as informações num JSON: relatorio_teste_beamforming_SNR_-3dB_semPCA_1582138590.2136397.json\n",
      "Classificando com o  SGDClassifier\n",
      "Salvando as informações num JSON: relatorio_teste_beamforming_SNR_-3dB_semPCA_1582138590.4211643.json\n",
      "Classificando com o  SGDClassifier\n"
     ]
    },
    {
     "name": "stderr",
     "output_type": "stream",
     "text": [
      "/home/dimi/venvIC/lib/python3.7/site-packages/sklearn/metrics/classification.py:1437: UndefinedMetricWarning: Precision and F-score are ill-defined and being set to 0.0 in labels with no predicted samples.\n",
      "  'precision', 'predicted', average, warn_for)\n"
     ]
    },
    {
     "name": "stdout",
     "output_type": "stream",
     "text": [
      "Salvando as informações num JSON: relatorio_teste_beamforming_SNR_-3dB_semPCA_1582138590.6262877.json\n",
      "Classificando com o  SGDClassifier\n"
     ]
    },
    {
     "name": "stderr",
     "output_type": "stream",
     "text": [
      "/home/dimi/venvIC/lib/python3.7/site-packages/sklearn/metrics/classification.py:1437: UndefinedMetricWarning: Precision and F-score are ill-defined and being set to 0.0 in labels with no predicted samples.\n",
      "  'precision', 'predicted', average, warn_for)\n"
     ]
    },
    {
     "name": "stdout",
     "output_type": "stream",
     "text": [
      "Salvando as informações num JSON: relatorio_teste_beamforming_SNR_-3dB_semPCA_1582138590.8324583.json\n",
      "Classificando com o  SGDClassifier\n"
     ]
    },
    {
     "name": "stderr",
     "output_type": "stream",
     "text": [
      "/home/dimi/venvIC/lib/python3.7/site-packages/sklearn/metrics/classification.py:1437: UndefinedMetricWarning: Precision and F-score are ill-defined and being set to 0.0 in labels with no predicted samples.\n",
      "  'precision', 'predicted', average, warn_for)\n"
     ]
    },
    {
     "name": "stdout",
     "output_type": "stream",
     "text": [
      "Salvando as informações num JSON: relatorio_teste_beamforming_SNR_-3dB_semPCA_1582138591.045386.json\n",
      "Classificando com o  SGDClassifier\n"
     ]
    },
    {
     "name": "stderr",
     "output_type": "stream",
     "text": [
      "/home/dimi/venvIC/lib/python3.7/site-packages/sklearn/metrics/classification.py:1437: UndefinedMetricWarning: Precision and F-score are ill-defined and being set to 0.0 in labels with no predicted samples.\n",
      "  'precision', 'predicted', average, warn_for)\n"
     ]
    },
    {
     "name": "stdout",
     "output_type": "stream",
     "text": [
      "Salvando as informações num JSON: relatorio_teste_beamforming_SNR_-3dB_semPCA_1582138591.2583265.json\n",
      "Classificando com o  BaggingClassifier\n",
      "Salvando as informações num JSON: relatorio_teste_beamforming_SNR_-3dB_semPCA_1582138591.5791767.json\n",
      "Classificando com o  BaggingClassifier\n",
      "Salvando as informações num JSON: relatorio_teste_beamforming_SNR_-3dB_semPCA_1582138591.8999505.json\n",
      "Classificando com o  BaggingClassifier\n"
     ]
    },
    {
     "name": "stderr",
     "output_type": "stream",
     "text": [
      "/home/dimi/venvIC/lib/python3.7/site-packages/sklearn/metrics/classification.py:1437: UndefinedMetricWarning: Precision and F-score are ill-defined and being set to 0.0 in labels with no predicted samples.\n",
      "  'precision', 'predicted', average, warn_for)\n"
     ]
    },
    {
     "name": "stdout",
     "output_type": "stream",
     "text": [
      "Salvando as informações num JSON: relatorio_teste_beamforming_SNR_-3dB_semPCA_1582138592.2305303.json\n",
      "Classificando com o  BaggingClassifier\n",
      "Salvando as informações num JSON: relatorio_teste_beamforming_SNR_-3dB_semPCA_1582138592.5505624.json\n",
      "Classificando com o  BaggingClassifier\n",
      "Salvando as informações num JSON: relatorio_teste_beamforming_SNR_-3dB_semPCA_1582138592.8681126.json\n",
      "Classificando com o  BaggingClassifier\n",
      "Salvando as informações num JSON: relatorio_teste_beamforming_SNR_-3dB_semPCA_1582138593.190741.json\n",
      "Classificando com o  BaggingClassifier\n",
      "Salvando as informações num JSON: relatorio_teste_beamforming_SNR_-3dB_semPCA_1582138593.515854.json\n",
      "Classificando com o  BaggingClassifier\n",
      "Salvando as informações num JSON: relatorio_teste_beamforming_SNR_-3dB_semPCA_1582138593.8331742.json\n",
      "Classificando com o  BaggingClassifier\n",
      "Salvando as informações num JSON: relatorio_teste_beamforming_SNR_-3dB_semPCA_1582138594.1566522.json\n",
      "Classificando com o  BaggingClassifier\n",
      "Salvando as informações num JSON: relatorio_teste_beamforming_SNR_-3dB_semPCA_1582138594.4744403.json\n",
      "Classificando com o  KNeighborsClassifier\n",
      "Salvando as informações num JSON: relatorio_teste_beamforming_SNR_-3dB_semPCA_1582138596.352407.json\n",
      "Classificando com o  KNeighborsClassifier\n",
      "Salvando as informações num JSON: relatorio_teste_beamforming_SNR_-3dB_semPCA_1582138598.2364142.json\n",
      "Classificando com o  KNeighborsClassifier\n",
      "Salvando as informações num JSON: relatorio_teste_beamforming_SNR_-3dB_semPCA_1582138600.1102877.json\n",
      "Classificando com o  KNeighborsClassifier\n",
      "Salvando as informações num JSON: relatorio_teste_beamforming_SNR_-3dB_semPCA_1582138601.9827435.json\n",
      "Classificando com o  KNeighborsClassifier\n",
      "Salvando as informações num JSON: relatorio_teste_beamforming_SNR_-3dB_semPCA_1582138603.8186893.json\n",
      "Classificando com o  KNeighborsClassifier\n",
      "Salvando as informações num JSON: relatorio_teste_beamforming_SNR_-3dB_semPCA_1582138605.7128482.json\n",
      "Classificando com o  KNeighborsClassifier\n",
      "Salvando as informações num JSON: relatorio_teste_beamforming_SNR_-3dB_semPCA_1582138607.5680115.json\n",
      "Classificando com o  KNeighborsClassifier\n",
      "Salvando as informações num JSON: relatorio_teste_beamforming_SNR_-3dB_semPCA_1582138609.4725654.json\n",
      "Classificando com o  KNeighborsClassifier\n",
      "Salvando as informações num JSON: relatorio_teste_beamforming_SNR_-3dB_semPCA_1582138611.3486235.json\n",
      "Classificando com o  KNeighborsClassifier\n",
      "Salvando as informações num JSON: relatorio_teste_beamforming_SNR_-3dB_semPCA_1582138613.21986.json\n",
      "Classificando com o  LinearSVC\n",
      "Salvando as informações num JSON: relatorio_teste_beamforming_SNR_-3dB_semPCA_1582138613.4458332.json\n",
      "Classificando com o  LinearSVC\n",
      "Salvando as informações num JSON: relatorio_teste_beamforming_SNR_-3dB_semPCA_1582138613.6617088.json\n",
      "Classificando com o  LinearSVC\n",
      "Salvando as informações num JSON: relatorio_teste_beamforming_SNR_-3dB_semPCA_1582138613.868855.json\n",
      "Classificando com o  LinearSVC\n",
      "Salvando as informações num JSON: relatorio_teste_beamforming_SNR_-3dB_semPCA_1582138614.0774255.json\n",
      "Classificando com o  LinearSVC\n",
      "Salvando as informações num JSON: relatorio_teste_beamforming_SNR_-3dB_semPCA_1582138614.2842743.json\n",
      "Classificando com o  LinearSVC\n",
      "Salvando as informações num JSON: relatorio_teste_beamforming_SNR_-3dB_semPCA_1582138614.4944217.json\n",
      "Classificando com o  LinearSVC\n",
      "Salvando as informações num JSON: relatorio_teste_beamforming_SNR_-3dB_semPCA_1582138614.7004373.json\n",
      "Classificando com o  LinearSVC\n",
      "Salvando as informações num JSON: relatorio_teste_beamforming_SNR_-3dB_semPCA_1582138614.9070613.json\n",
      "Classificando com o  LinearSVC\n",
      "Salvando as informações num JSON: relatorio_teste_beamforming_SNR_-3dB_semPCA_1582138615.1154945.json\n",
      "Classificando com o  LinearSVC\n",
      "Salvando as informações num JSON: relatorio_teste_beamforming_SNR_-3dB_semPCA_1582138615.3385432.json\n",
      "Classificando com o  Perceptron\n",
      "Salvando as informações num JSON: relatorio_teste_beamforming_SNR_-3dB_semPCA_1582138615.5483532.json\n",
      "Classificando com o  Perceptron\n",
      "Salvando as informações num JSON: relatorio_teste_beamforming_SNR_-3dB_semPCA_1582138615.7553551.json\n",
      "Classificando com o  Perceptron\n"
     ]
    },
    {
     "name": "stderr",
     "output_type": "stream",
     "text": [
      "/home/dimi/venvIC/lib/python3.7/site-packages/sklearn/metrics/classification.py:1437: UndefinedMetricWarning: Precision and F-score are ill-defined and being set to 0.0 in labels with no predicted samples.\n",
      "  'precision', 'predicted', average, warn_for)\n"
     ]
    },
    {
     "name": "stdout",
     "output_type": "stream",
     "text": [
      "Salvando as informações num JSON: relatorio_teste_beamforming_SNR_-3dB_semPCA_1582138615.9787333.json\n",
      "Classificando com o  Perceptron\n",
      "Salvando as informações num JSON: relatorio_teste_beamforming_SNR_-3dB_semPCA_1582138616.210564.json\n",
      "Classificando com o  Perceptron\n",
      "Salvando as informações num JSON: relatorio_teste_beamforming_SNR_-3dB_semPCA_1582138616.4213722.json\n",
      "Classificando com o  Perceptron\n",
      "Salvando as informações num JSON: relatorio_teste_beamforming_SNR_-3dB_semPCA_1582138616.6497052.json\n",
      "Classificando com o  Perceptron\n",
      "Salvando as informações num JSON: relatorio_teste_beamforming_SNR_-3dB_semPCA_1582138616.8720312.json\n",
      "Classificando com o  Perceptron\n",
      "Salvando as informações num JSON: relatorio_teste_beamforming_SNR_-3dB_semPCA_1582138617.087154.json\n",
      "Classificando com o  Perceptron\n",
      "Salvando as informações num JSON: relatorio_teste_beamforming_SNR_-3dB_semPCA_1582138617.293245.json\n",
      "Classificando com o  Perceptron\n",
      "Salvando as informações num JSON: relatorio_teste_beamforming_SNR_-3dB_semPCA_1582138617.5145376.json\n",
      "O teste com todos os classificadores foi finalizado\n",
      "Classificando com o  SGDClassifier\n"
     ]
    },
    {
     "name": "stderr",
     "output_type": "stream",
     "text": [
      "/home/dimi/venvIC/lib/python3.7/site-packages/sklearn/metrics/classification.py:1437: UndefinedMetricWarning: Precision and F-score are ill-defined and being set to 0.0 in labels with no predicted samples.\n",
      "  'precision', 'predicted', average, warn_for)\n"
     ]
    },
    {
     "name": "stdout",
     "output_type": "stream",
     "text": [
      "Salvando as informações num JSON: relatorio_teste_semBeamforming_SNR_-3dB_semPCA_1582138617.8062856.json\n",
      "Classificando com o  SGDClassifier\n"
     ]
    },
    {
     "name": "stderr",
     "output_type": "stream",
     "text": [
      "/home/dimi/venvIC/lib/python3.7/site-packages/sklearn/metrics/classification.py:1437: UndefinedMetricWarning: Precision and F-score are ill-defined and being set to 0.0 in labels with no predicted samples.\n",
      "  'precision', 'predicted', average, warn_for)\n"
     ]
    },
    {
     "name": "stdout",
     "output_type": "stream",
     "text": [
      "Salvando as informações num JSON: relatorio_teste_semBeamforming_SNR_-3dB_semPCA_1582138618.01312.json\n",
      "Classificando com o  SGDClassifier\n"
     ]
    },
    {
     "name": "stderr",
     "output_type": "stream",
     "text": [
      "/home/dimi/venvIC/lib/python3.7/site-packages/sklearn/metrics/classification.py:1437: UndefinedMetricWarning: Precision and F-score are ill-defined and being set to 0.0 in labels with no predicted samples.\n",
      "  'precision', 'predicted', average, warn_for)\n"
     ]
    },
    {
     "name": "stdout",
     "output_type": "stream",
     "text": [
      "Salvando as informações num JSON: relatorio_teste_semBeamforming_SNR_-3dB_semPCA_1582138618.2235842.json\n",
      "Classificando com o  SGDClassifier\n"
     ]
    },
    {
     "name": "stderr",
     "output_type": "stream",
     "text": [
      "/home/dimi/venvIC/lib/python3.7/site-packages/sklearn/metrics/classification.py:1437: UndefinedMetricWarning: Precision and F-score are ill-defined and being set to 0.0 in labels with no predicted samples.\n",
      "  'precision', 'predicted', average, warn_for)\n"
     ]
    },
    {
     "name": "stdout",
     "output_type": "stream",
     "text": [
      "Salvando as informações num JSON: relatorio_teste_semBeamforming_SNR_-3dB_semPCA_1582138618.4353895.json\n",
      "Classificando com o  SGDClassifier\n"
     ]
    },
    {
     "name": "stderr",
     "output_type": "stream",
     "text": [
      "/home/dimi/venvIC/lib/python3.7/site-packages/sklearn/metrics/classification.py:1437: UndefinedMetricWarning: Precision and F-score are ill-defined and being set to 0.0 in labels with no predicted samples.\n",
      "  'precision', 'predicted', average, warn_for)\n"
     ]
    },
    {
     "name": "stdout",
     "output_type": "stream",
     "text": [
      "Salvando as informações num JSON: relatorio_teste_semBeamforming_SNR_-3dB_semPCA_1582138618.6442127.json\n",
      "Classificando com o  SGDClassifier\n",
      "Salvando as informações num JSON: relatorio_teste_semBeamforming_SNR_-3dB_semPCA_1582138618.852209.json\n",
      "Classificando com o  SGDClassifier\n"
     ]
    },
    {
     "name": "stderr",
     "output_type": "stream",
     "text": [
      "/home/dimi/venvIC/lib/python3.7/site-packages/sklearn/metrics/classification.py:1437: UndefinedMetricWarning: Precision and F-score are ill-defined and being set to 0.0 in labels with no predicted samples.\n",
      "  'precision', 'predicted', average, warn_for)\n"
     ]
    },
    {
     "name": "stdout",
     "output_type": "stream",
     "text": [
      "Salvando as informações num JSON: relatorio_teste_semBeamforming_SNR_-3dB_semPCA_1582138619.0653408.json\n",
      "Classificando com o  SGDClassifier\n"
     ]
    },
    {
     "name": "stderr",
     "output_type": "stream",
     "text": [
      "/home/dimi/venvIC/lib/python3.7/site-packages/sklearn/metrics/classification.py:1437: UndefinedMetricWarning: Precision and F-score are ill-defined and being set to 0.0 in labels with no predicted samples.\n",
      "  'precision', 'predicted', average, warn_for)\n"
     ]
    },
    {
     "name": "stdout",
     "output_type": "stream",
     "text": [
      "Salvando as informações num JSON: relatorio_teste_semBeamforming_SNR_-3dB_semPCA_1582138619.2749987.json\n",
      "Classificando com o  SGDClassifier\n"
     ]
    },
    {
     "name": "stderr",
     "output_type": "stream",
     "text": [
      "/home/dimi/venvIC/lib/python3.7/site-packages/sklearn/metrics/classification.py:1437: UndefinedMetricWarning: Precision and F-score are ill-defined and being set to 0.0 in labels with no predicted samples.\n",
      "  'precision', 'predicted', average, warn_for)\n"
     ]
    },
    {
     "name": "stdout",
     "output_type": "stream",
     "text": [
      "Salvando as informações num JSON: relatorio_teste_semBeamforming_SNR_-3dB_semPCA_1582138619.4864676.json\n",
      "Classificando com o  SGDClassifier\n"
     ]
    },
    {
     "name": "stderr",
     "output_type": "stream",
     "text": [
      "/home/dimi/venvIC/lib/python3.7/site-packages/sklearn/metrics/classification.py:1437: UndefinedMetricWarning: Precision and F-score are ill-defined and being set to 0.0 in labels with no predicted samples.\n",
      "  'precision', 'predicted', average, warn_for)\n"
     ]
    },
    {
     "name": "stdout",
     "output_type": "stream",
     "text": [
      "Salvando as informações num JSON: relatorio_teste_semBeamforming_SNR_-3dB_semPCA_1582138619.7061234.json\n",
      "Classificando com o  BaggingClassifier\n",
      "Salvando as informações num JSON: relatorio_teste_semBeamforming_SNR_-3dB_semPCA_1582138620.0306048.json\n",
      "Classificando com o  BaggingClassifier\n",
      "Salvando as informações num JSON: relatorio_teste_semBeamforming_SNR_-3dB_semPCA_1582138620.3593273.json\n",
      "Classificando com o  BaggingClassifier\n"
     ]
    },
    {
     "name": "stderr",
     "output_type": "stream",
     "text": [
      "/home/dimi/venvIC/lib/python3.7/site-packages/sklearn/metrics/classification.py:1437: UndefinedMetricWarning: Precision and F-score are ill-defined and being set to 0.0 in labels with no predicted samples.\n",
      "  'precision', 'predicted', average, warn_for)\n"
     ]
    },
    {
     "name": "stdout",
     "output_type": "stream",
     "text": [
      "Salvando as informações num JSON: relatorio_teste_semBeamforming_SNR_-3dB_semPCA_1582138620.6917772.json\n",
      "Classificando com o  BaggingClassifier\n",
      "Salvando as informações num JSON: relatorio_teste_semBeamforming_SNR_-3dB_semPCA_1582138621.0183032.json\n",
      "Classificando com o  BaggingClassifier\n",
      "Salvando as informações num JSON: relatorio_teste_semBeamforming_SNR_-3dB_semPCA_1582138621.3422968.json\n",
      "Classificando com o  BaggingClassifier\n",
      "Salvando as informações num JSON: relatorio_teste_semBeamforming_SNR_-3dB_semPCA_1582138621.663528.json\n",
      "Classificando com o  BaggingClassifier\n",
      "Salvando as informações num JSON: relatorio_teste_semBeamforming_SNR_-3dB_semPCA_1582138621.9895353.json\n",
      "Classificando com o  BaggingClassifier\n",
      "Salvando as informações num JSON: relatorio_teste_semBeamforming_SNR_-3dB_semPCA_1582138622.3237658.json\n",
      "Classificando com o  BaggingClassifier\n",
      "Salvando as informações num JSON: relatorio_teste_semBeamforming_SNR_-3dB_semPCA_1582138622.6526175.json\n",
      "Classificando com o  BaggingClassifier\n",
      "Salvando as informações num JSON: relatorio_teste_semBeamforming_SNR_-3dB_semPCA_1582138622.9790256.json\n",
      "Classificando com o  KNeighborsClassifier\n",
      "Salvando as informações num JSON: relatorio_teste_semBeamforming_SNR_-3dB_semPCA_1582138624.8964314.json\n",
      "Classificando com o  KNeighborsClassifier\n",
      "Salvando as informações num JSON: relatorio_teste_semBeamforming_SNR_-3dB_semPCA_1582138626.8130898.json\n",
      "Classificando com o  KNeighborsClassifier\n",
      "Salvando as informações num JSON: relatorio_teste_semBeamforming_SNR_-3dB_semPCA_1582138628.725714.json\n",
      "Classificando com o  KNeighborsClassifier\n",
      "Salvando as informações num JSON: relatorio_teste_semBeamforming_SNR_-3dB_semPCA_1582138630.6192307.json\n",
      "Classificando com o  KNeighborsClassifier\n",
      "Salvando as informações num JSON: relatorio_teste_semBeamforming_SNR_-3dB_semPCA_1582138632.482803.json\n",
      "Classificando com o  KNeighborsClassifier\n",
      "Salvando as informações num JSON: relatorio_teste_semBeamforming_SNR_-3dB_semPCA_1582138634.4106245.json\n",
      "Classificando com o  KNeighborsClassifier\n",
      "Salvando as informações num JSON: relatorio_teste_semBeamforming_SNR_-3dB_semPCA_1582138636.2602475.json\n",
      "Classificando com o  KNeighborsClassifier\n",
      "Salvando as informações num JSON: relatorio_teste_semBeamforming_SNR_-3dB_semPCA_1582138638.1888475.json\n",
      "Classificando com o  KNeighborsClassifier\n",
      "Salvando as informações num JSON: relatorio_teste_semBeamforming_SNR_-3dB_semPCA_1582138640.122482.json\n",
      "Classificando com o  KNeighborsClassifier\n",
      "Salvando as informações num JSON: relatorio_teste_semBeamforming_SNR_-3dB_semPCA_1582138642.0056736.json\n",
      "Classificando com o  LinearSVC\n",
      "Salvando as informações num JSON: relatorio_teste_semBeamforming_SNR_-3dB_semPCA_1582138642.2141016.json\n",
      "Classificando com o  LinearSVC\n",
      "Salvando as informações num JSON: relatorio_teste_semBeamforming_SNR_-3dB_semPCA_1582138642.4235163.json\n",
      "Classificando com o  LinearSVC\n",
      "Salvando as informações num JSON: relatorio_teste_semBeamforming_SNR_-3dB_semPCA_1582138642.6346622.json\n",
      "Classificando com o  LinearSVC\n",
      "Salvando as informações num JSON: relatorio_teste_semBeamforming_SNR_-3dB_semPCA_1582138642.8431392.json\n",
      "Classificando com o  LinearSVC\n",
      "Salvando as informações num JSON: relatorio_teste_semBeamforming_SNR_-3dB_semPCA_1582138643.0551207.json\n",
      "Classificando com o  LinearSVC\n",
      "Salvando as informações num JSON: relatorio_teste_semBeamforming_SNR_-3dB_semPCA_1582138643.2634127.json\n",
      "Classificando com o  LinearSVC\n",
      "Salvando as informações num JSON: relatorio_teste_semBeamforming_SNR_-3dB_semPCA_1582138643.4783034.json\n",
      "Classificando com o  LinearSVC\n",
      "Salvando as informações num JSON: relatorio_teste_semBeamforming_SNR_-3dB_semPCA_1582138643.6906152.json\n",
      "Classificando com o  LinearSVC\n",
      "Salvando as informações num JSON: relatorio_teste_semBeamforming_SNR_-3dB_semPCA_1582138643.9007795.json\n",
      "Classificando com o  LinearSVC\n",
      "Salvando as informações num JSON: relatorio_teste_semBeamforming_SNR_-3dB_semPCA_1582138644.113762.json\n",
      "Classificando com o  Perceptron\n",
      "Salvando as informações num JSON: relatorio_teste_semBeamforming_SNR_-3dB_semPCA_1582138644.3326983.json\n",
      "Classificando com o  Perceptron\n",
      "Salvando as informações num JSON: relatorio_teste_semBeamforming_SNR_-3dB_semPCA_1582138644.55299.json\n",
      "Classificando com o  Perceptron\n"
     ]
    },
    {
     "name": "stderr",
     "output_type": "stream",
     "text": [
      "/home/dimi/venvIC/lib/python3.7/site-packages/sklearn/metrics/classification.py:1437: UndefinedMetricWarning: Precision and F-score are ill-defined and being set to 0.0 in labels with no predicted samples.\n",
      "  'precision', 'predicted', average, warn_for)\n"
     ]
    },
    {
     "name": "stdout",
     "output_type": "stream",
     "text": [
      "Salvando as informações num JSON: relatorio_teste_semBeamforming_SNR_-3dB_semPCA_1582138644.7699058.json\n",
      "Classificando com o  Perceptron\n",
      "Salvando as informações num JSON: relatorio_teste_semBeamforming_SNR_-3dB_semPCA_1582138644.985779.json\n",
      "Classificando com o  Perceptron\n",
      "Salvando as informações num JSON: relatorio_teste_semBeamforming_SNR_-3dB_semPCA_1582138645.192398.json\n",
      "Classificando com o  Perceptron\n",
      "Salvando as informações num JSON: relatorio_teste_semBeamforming_SNR_-3dB_semPCA_1582138645.4077845.json\n",
      "Classificando com o  Perceptron\n",
      "Salvando as informações num JSON: relatorio_teste_semBeamforming_SNR_-3dB_semPCA_1582138645.6177406.json\n",
      "Classificando com o  Perceptron\n",
      "Salvando as informações num JSON: relatorio_teste_semBeamforming_SNR_-3dB_semPCA_1582138645.836363.json\n",
      "Classificando com o  Perceptron\n",
      "Salvando as informações num JSON: relatorio_teste_semBeamforming_SNR_-3dB_semPCA_1582138646.0442665.json\n",
      "Classificando com o  Perceptron\n",
      "Salvando as informações num JSON: relatorio_teste_semBeamforming_SNR_-3dB_semPCA_1582138646.254167.json\n",
      "O teste com todos os classificadores foi finalizado\n",
      "Classificando com o  SGDClassifier\n"
     ]
    },
    {
     "name": "stderr",
     "output_type": "stream",
     "text": [
      "/home/dimi/venvIC/lib/python3.7/site-packages/sklearn/metrics/classification.py:1437: UndefinedMetricWarning: Precision and F-score are ill-defined and being set to 0.0 in labels with no predicted samples.\n",
      "  'precision', 'predicted', average, warn_for)\n"
     ]
    },
    {
     "name": "stdout",
     "output_type": "stream",
     "text": [
      "Salvando as informações num JSON: relatorio_teste_GSC_SNR_-3dB_semPCA_1582138646.5434299.json\n",
      "Classificando com o  SGDClassifier\n"
     ]
    },
    {
     "name": "stderr",
     "output_type": "stream",
     "text": [
      "/home/dimi/venvIC/lib/python3.7/site-packages/sklearn/metrics/classification.py:1437: UndefinedMetricWarning: Precision and F-score are ill-defined and being set to 0.0 in labels with no predicted samples.\n",
      "  'precision', 'predicted', average, warn_for)\n"
     ]
    },
    {
     "name": "stdout",
     "output_type": "stream",
     "text": [
      "Salvando as informações num JSON: relatorio_teste_GSC_SNR_-3dB_semPCA_1582138646.7676766.json\n",
      "Classificando com o  SGDClassifier\n"
     ]
    },
    {
     "name": "stderr",
     "output_type": "stream",
     "text": [
      "/home/dimi/venvIC/lib/python3.7/site-packages/sklearn/metrics/classification.py:1437: UndefinedMetricWarning: Precision and F-score are ill-defined and being set to 0.0 in labels with no predicted samples.\n",
      "  'precision', 'predicted', average, warn_for)\n"
     ]
    },
    {
     "name": "stdout",
     "output_type": "stream",
     "text": [
      "Salvando as informações num JSON: relatorio_teste_GSC_SNR_-3dB_semPCA_1582138646.9938247.json\n",
      "Classificando com o  SGDClassifier\n"
     ]
    },
    {
     "name": "stderr",
     "output_type": "stream",
     "text": [
      "/home/dimi/venvIC/lib/python3.7/site-packages/sklearn/metrics/classification.py:1437: UndefinedMetricWarning: Precision and F-score are ill-defined and being set to 0.0 in labels with no predicted samples.\n",
      "  'precision', 'predicted', average, warn_for)\n"
     ]
    },
    {
     "name": "stdout",
     "output_type": "stream",
     "text": [
      "Salvando as informações num JSON: relatorio_teste_GSC_SNR_-3dB_semPCA_1582138647.2250118.json\n",
      "Classificando com o  SGDClassifier\n"
     ]
    },
    {
     "name": "stderr",
     "output_type": "stream",
     "text": [
      "/home/dimi/venvIC/lib/python3.7/site-packages/sklearn/metrics/classification.py:1437: UndefinedMetricWarning: Precision and F-score are ill-defined and being set to 0.0 in labels with no predicted samples.\n",
      "  'precision', 'predicted', average, warn_for)\n"
     ]
    },
    {
     "name": "stdout",
     "output_type": "stream",
     "text": [
      "Salvando as informações num JSON: relatorio_teste_GSC_SNR_-3dB_semPCA_1582138647.441817.json\n",
      "Classificando com o  SGDClassifier\n"
     ]
    },
    {
     "name": "stderr",
     "output_type": "stream",
     "text": [
      "/home/dimi/venvIC/lib/python3.7/site-packages/sklearn/metrics/classification.py:1437: UndefinedMetricWarning: Precision and F-score are ill-defined and being set to 0.0 in labels with no predicted samples.\n",
      "  'precision', 'predicted', average, warn_for)\n"
     ]
    },
    {
     "name": "stdout",
     "output_type": "stream",
     "text": [
      "Salvando as informações num JSON: relatorio_teste_GSC_SNR_-3dB_semPCA_1582138647.653498.json\n",
      "Classificando com o  SGDClassifier\n"
     ]
    },
    {
     "name": "stderr",
     "output_type": "stream",
     "text": [
      "/home/dimi/venvIC/lib/python3.7/site-packages/sklearn/metrics/classification.py:1437: UndefinedMetricWarning: Precision and F-score are ill-defined and being set to 0.0 in labels with no predicted samples.\n",
      "  'precision', 'predicted', average, warn_for)\n"
     ]
    },
    {
     "name": "stdout",
     "output_type": "stream",
     "text": [
      "Salvando as informações num JSON: relatorio_teste_GSC_SNR_-3dB_semPCA_1582138647.8775804.json\n",
      "Classificando com o  SGDClassifier\n"
     ]
    },
    {
     "name": "stderr",
     "output_type": "stream",
     "text": [
      "/home/dimi/venvIC/lib/python3.7/site-packages/sklearn/metrics/classification.py:1437: UndefinedMetricWarning: Precision and F-score are ill-defined and being set to 0.0 in labels with no predicted samples.\n",
      "  'precision', 'predicted', average, warn_for)\n"
     ]
    },
    {
     "name": "stdout",
     "output_type": "stream",
     "text": [
      "Salvando as informações num JSON: relatorio_teste_GSC_SNR_-3dB_semPCA_1582138648.0988154.json\n",
      "Classificando com o  SGDClassifier\n"
     ]
    },
    {
     "name": "stderr",
     "output_type": "stream",
     "text": [
      "/home/dimi/venvIC/lib/python3.7/site-packages/sklearn/metrics/classification.py:1437: UndefinedMetricWarning: Precision and F-score are ill-defined and being set to 0.0 in labels with no predicted samples.\n",
      "  'precision', 'predicted', average, warn_for)\n"
     ]
    },
    {
     "name": "stdout",
     "output_type": "stream",
     "text": [
      "Salvando as informações num JSON: relatorio_teste_GSC_SNR_-3dB_semPCA_1582138648.3151665.json\n",
      "Classificando com o  SGDClassifier\n"
     ]
    },
    {
     "name": "stderr",
     "output_type": "stream",
     "text": [
      "/home/dimi/venvIC/lib/python3.7/site-packages/sklearn/metrics/classification.py:1437: UndefinedMetricWarning: Precision and F-score are ill-defined and being set to 0.0 in labels with no predicted samples.\n",
      "  'precision', 'predicted', average, warn_for)\n"
     ]
    },
    {
     "name": "stdout",
     "output_type": "stream",
     "text": [
      "Salvando as informações num JSON: relatorio_teste_GSC_SNR_-3dB_semPCA_1582138648.5290115.json\n",
      "Classificando com o  BaggingClassifier\n",
      "Salvando as informações num JSON: relatorio_teste_GSC_SNR_-3dB_semPCA_1582138648.8676176.json\n",
      "Classificando com o  BaggingClassifier\n",
      "Salvando as informações num JSON: relatorio_teste_GSC_SNR_-3dB_semPCA_1582138649.1877468.json\n",
      "Classificando com o  BaggingClassifier\n",
      "Salvando as informações num JSON: relatorio_teste_GSC_SNR_-3dB_semPCA_1582138649.5123618.json\n",
      "Classificando com o  BaggingClassifier\n",
      "Salvando as informações num JSON: relatorio_teste_GSC_SNR_-3dB_semPCA_1582138649.8447995.json\n",
      "Classificando com o  BaggingClassifier\n"
     ]
    },
    {
     "name": "stderr",
     "output_type": "stream",
     "text": [
      "/home/dimi/venvIC/lib/python3.7/site-packages/sklearn/metrics/classification.py:1437: UndefinedMetricWarning: Precision and F-score are ill-defined and being set to 0.0 in labels with no predicted samples.\n",
      "  'precision', 'predicted', average, warn_for)\n"
     ]
    },
    {
     "name": "stdout",
     "output_type": "stream",
     "text": [
      "Salvando as informações num JSON: relatorio_teste_GSC_SNR_-3dB_semPCA_1582138650.1697285.json\n",
      "Classificando com o  BaggingClassifier\n",
      "Salvando as informações num JSON: relatorio_teste_GSC_SNR_-3dB_semPCA_1582138650.4981904.json\n",
      "Classificando com o  BaggingClassifier\n",
      "Salvando as informações num JSON: relatorio_teste_GSC_SNR_-3dB_semPCA_1582138650.8255262.json\n",
      "Classificando com o  BaggingClassifier\n",
      "Salvando as informações num JSON: relatorio_teste_GSC_SNR_-3dB_semPCA_1582138651.1464171.json\n",
      "Classificando com o  BaggingClassifier\n",
      "Salvando as informações num JSON: relatorio_teste_GSC_SNR_-3dB_semPCA_1582138651.4699404.json\n",
      "Classificando com o  BaggingClassifier\n",
      "Salvando as informações num JSON: relatorio_teste_GSC_SNR_-3dB_semPCA_1582138651.8033814.json\n",
      "Classificando com o  KNeighborsClassifier\n",
      "Salvando as informações num JSON: relatorio_teste_GSC_SNR_-3dB_semPCA_1582138653.7107449.json\n",
      "Classificando com o  KNeighborsClassifier\n",
      "Salvando as informações num JSON: relatorio_teste_GSC_SNR_-3dB_semPCA_1582138655.615262.json\n",
      "Classificando com o  KNeighborsClassifier\n",
      "Salvando as informações num JSON: relatorio_teste_GSC_SNR_-3dB_semPCA_1582138657.4975348.json\n",
      "Classificando com o  KNeighborsClassifier\n",
      "Salvando as informações num JSON: relatorio_teste_GSC_SNR_-3dB_semPCA_1582138659.3919556.json\n",
      "Classificando com o  KNeighborsClassifier\n",
      "Salvando as informações num JSON: relatorio_teste_GSC_SNR_-3dB_semPCA_1582138661.24936.json\n",
      "Classificando com o  KNeighborsClassifier\n",
      "Salvando as informações num JSON: relatorio_teste_GSC_SNR_-3dB_semPCA_1582138663.1524112.json\n",
      "Classificando com o  KNeighborsClassifier\n",
      "Salvando as informações num JSON: relatorio_teste_GSC_SNR_-3dB_semPCA_1582138664.994445.json\n",
      "Classificando com o  KNeighborsClassifier\n",
      "Salvando as informações num JSON: relatorio_teste_GSC_SNR_-3dB_semPCA_1582138666.8879929.json\n",
      "Classificando com o  KNeighborsClassifier\n",
      "Salvando as informações num JSON: relatorio_teste_GSC_SNR_-3dB_semPCA_1582138668.7974977.json\n",
      "Classificando com o  KNeighborsClassifier\n",
      "Salvando as informações num JSON: relatorio_teste_GSC_SNR_-3dB_semPCA_1582138670.660313.json\n",
      "Classificando com o  LinearSVC\n",
      "Salvando as informações num JSON: relatorio_teste_GSC_SNR_-3dB_semPCA_1582138670.8675227.json\n",
      "Classificando com o  LinearSVC\n",
      "Salvando as informações num JSON: relatorio_teste_GSC_SNR_-3dB_semPCA_1582138671.0797033.json\n",
      "Classificando com o  LinearSVC\n",
      "Salvando as informações num JSON: relatorio_teste_GSC_SNR_-3dB_semPCA_1582138671.2876503.json\n",
      "Classificando com o  LinearSVC\n",
      "Salvando as informações num JSON: relatorio_teste_GSC_SNR_-3dB_semPCA_1582138671.5046496.json\n",
      "Classificando com o  LinearSVC\n",
      "Salvando as informações num JSON: relatorio_teste_GSC_SNR_-3dB_semPCA_1582138671.723381.json\n",
      "Classificando com o  LinearSVC\n",
      "Salvando as informações num JSON: relatorio_teste_GSC_SNR_-3dB_semPCA_1582138671.9296627.json\n",
      "Classificando com o  LinearSVC\n",
      "Salvando as informações num JSON: relatorio_teste_GSC_SNR_-3dB_semPCA_1582138672.141301.json\n",
      "Classificando com o  LinearSVC\n",
      "Salvando as informações num JSON: relatorio_teste_GSC_SNR_-3dB_semPCA_1582138672.3531787.json\n",
      "Classificando com o  LinearSVC\n",
      "Salvando as informações num JSON: relatorio_teste_GSC_SNR_-3dB_semPCA_1582138672.560366.json\n",
      "Classificando com o  LinearSVC\n",
      "Salvando as informações num JSON: relatorio_teste_GSC_SNR_-3dB_semPCA_1582138672.7755568.json\n",
      "Classificando com o  Perceptron\n",
      "Salvando as informações num JSON: relatorio_teste_GSC_SNR_-3dB_semPCA_1582138672.9860845.json\n",
      "Classificando com o  Perceptron\n",
      "Salvando as informações num JSON: relatorio_teste_GSC_SNR_-3dB_semPCA_1582138673.195776.json\n",
      "Classificando com o  Perceptron\n",
      "Salvando as informações num JSON: relatorio_teste_GSC_SNR_-3dB_semPCA_1582138673.4073162.json\n",
      "Classificando com o  Perceptron\n",
      "Salvando as informações num JSON: relatorio_teste_GSC_SNR_-3dB_semPCA_1582138673.6165657.json\n",
      "Classificando com o  Perceptron\n",
      "Salvando as informações num JSON: relatorio_teste_GSC_SNR_-3dB_semPCA_1582138673.8273265.json\n",
      "Classificando com o  Perceptron\n",
      "Salvando as informações num JSON: relatorio_teste_GSC_SNR_-3dB_semPCA_1582138674.033609.json\n",
      "Classificando com o  Perceptron\n",
      "Salvando as informações num JSON: relatorio_teste_GSC_SNR_-3dB_semPCA_1582138674.2421339.json\n",
      "Classificando com o  Perceptron\n",
      "Salvando as informações num JSON: relatorio_teste_GSC_SNR_-3dB_semPCA_1582138674.452677.json\n",
      "Classificando com o  Perceptron\n",
      "Salvando as informações num JSON: relatorio_teste_GSC_SNR_-3dB_semPCA_1582138674.6600392.json\n",
      "Classificando com o  Perceptron\n",
      "Salvando as informações num JSON: relatorio_teste_GSC_SNR_-3dB_semPCA_1582138674.8770843.json\n",
      "O teste com todos os classificadores foi finalizado\n",
      "Classificando com o  SGDClassifier\n"
     ]
    },
    {
     "name": "stderr",
     "output_type": "stream",
     "text": [
      "/home/dimi/venvIC/lib/python3.7/site-packages/sklearn/metrics/classification.py:1437: UndefinedMetricWarning: Precision and F-score are ill-defined and being set to 0.0 in labels with no predicted samples.\n",
      "  'precision', 'predicted', average, warn_for)\n"
     ]
    },
    {
     "name": "stdout",
     "output_type": "stream",
     "text": [
      "Salvando as informações num JSON: relatorio_teste_beamforming_SNR_-10dB_semPCA_1582138675.1498435.json\n",
      "Classificando com o  SGDClassifier\n"
     ]
    },
    {
     "name": "stderr",
     "output_type": "stream",
     "text": [
      "/home/dimi/venvIC/lib/python3.7/site-packages/sklearn/metrics/classification.py:1437: UndefinedMetricWarning: Precision and F-score are ill-defined and being set to 0.0 in labels with no predicted samples.\n",
      "  'precision', 'predicted', average, warn_for)\n"
     ]
    },
    {
     "name": "stdout",
     "output_type": "stream",
     "text": [
      "Salvando as informações num JSON: relatorio_teste_beamforming_SNR_-10dB_semPCA_1582138675.3595355.json\n",
      "Classificando com o  SGDClassifier\n"
     ]
    },
    {
     "name": "stderr",
     "output_type": "stream",
     "text": [
      "/home/dimi/venvIC/lib/python3.7/site-packages/sklearn/metrics/classification.py:1437: UndefinedMetricWarning: Precision and F-score are ill-defined and being set to 0.0 in labels with no predicted samples.\n",
      "  'precision', 'predicted', average, warn_for)\n"
     ]
    },
    {
     "name": "stdout",
     "output_type": "stream",
     "text": [
      "Salvando as informações num JSON: relatorio_teste_beamforming_SNR_-10dB_semPCA_1582138675.5750291.json\n",
      "Classificando com o  SGDClassifier\n"
     ]
    },
    {
     "name": "stderr",
     "output_type": "stream",
     "text": [
      "/home/dimi/venvIC/lib/python3.7/site-packages/sklearn/metrics/classification.py:1437: UndefinedMetricWarning: Precision and F-score are ill-defined and being set to 0.0 in labels with no predicted samples.\n",
      "  'precision', 'predicted', average, warn_for)\n"
     ]
    },
    {
     "name": "stdout",
     "output_type": "stream",
     "text": [
      "Salvando as informações num JSON: relatorio_teste_beamforming_SNR_-10dB_semPCA_1582138675.7868595.json\n",
      "Classificando com o  SGDClassifier\n"
     ]
    },
    {
     "name": "stderr",
     "output_type": "stream",
     "text": [
      "/home/dimi/venvIC/lib/python3.7/site-packages/sklearn/metrics/classification.py:1437: UndefinedMetricWarning: Precision and F-score are ill-defined and being set to 0.0 in labels with no predicted samples.\n",
      "  'precision', 'predicted', average, warn_for)\n"
     ]
    },
    {
     "name": "stdout",
     "output_type": "stream",
     "text": [
      "Salvando as informações num JSON: relatorio_teste_beamforming_SNR_-10dB_semPCA_1582138675.9992661.json\n",
      "Classificando com o  SGDClassifier\n"
     ]
    },
    {
     "name": "stderr",
     "output_type": "stream",
     "text": [
      "/home/dimi/venvIC/lib/python3.7/site-packages/sklearn/metrics/classification.py:1437: UndefinedMetricWarning: Precision and F-score are ill-defined and being set to 0.0 in labels with no predicted samples.\n",
      "  'precision', 'predicted', average, warn_for)\n"
     ]
    },
    {
     "name": "stdout",
     "output_type": "stream",
     "text": [
      "Salvando as informações num JSON: relatorio_teste_beamforming_SNR_-10dB_semPCA_1582138676.2324877.json\n",
      "Classificando com o  SGDClassifier\n"
     ]
    },
    {
     "name": "stderr",
     "output_type": "stream",
     "text": [
      "/home/dimi/venvIC/lib/python3.7/site-packages/sklearn/metrics/classification.py:1437: UndefinedMetricWarning: Precision and F-score are ill-defined and being set to 0.0 in labels with no predicted samples.\n",
      "  'precision', 'predicted', average, warn_for)\n"
     ]
    },
    {
     "name": "stdout",
     "output_type": "stream",
     "text": [
      "Salvando as informações num JSON: relatorio_teste_beamforming_SNR_-10dB_semPCA_1582138676.4507883.json\n",
      "Classificando com o  SGDClassifier\n"
     ]
    },
    {
     "name": "stderr",
     "output_type": "stream",
     "text": [
      "/home/dimi/venvIC/lib/python3.7/site-packages/sklearn/metrics/classification.py:1437: UndefinedMetricWarning: Precision and F-score are ill-defined and being set to 0.0 in labels with no predicted samples.\n",
      "  'precision', 'predicted', average, warn_for)\n"
     ]
    },
    {
     "name": "stdout",
     "output_type": "stream",
     "text": [
      "Salvando as informações num JSON: relatorio_teste_beamforming_SNR_-10dB_semPCA_1582138676.6625528.json\n",
      "Classificando com o  SGDClassifier\n"
     ]
    },
    {
     "name": "stderr",
     "output_type": "stream",
     "text": [
      "/home/dimi/venvIC/lib/python3.7/site-packages/sklearn/metrics/classification.py:1437: UndefinedMetricWarning: Precision and F-score are ill-defined and being set to 0.0 in labels with no predicted samples.\n",
      "  'precision', 'predicted', average, warn_for)\n"
     ]
    },
    {
     "name": "stdout",
     "output_type": "stream",
     "text": [
      "Salvando as informações num JSON: relatorio_teste_beamforming_SNR_-10dB_semPCA_1582138676.872429.json\n",
      "Classificando com o  SGDClassifier\n"
     ]
    },
    {
     "name": "stderr",
     "output_type": "stream",
     "text": [
      "/home/dimi/venvIC/lib/python3.7/site-packages/sklearn/metrics/classification.py:1437: UndefinedMetricWarning: Precision and F-score are ill-defined and being set to 0.0 in labels with no predicted samples.\n",
      "  'precision', 'predicted', average, warn_for)\n"
     ]
    },
    {
     "name": "stdout",
     "output_type": "stream",
     "text": [
      "Salvando as informações num JSON: relatorio_teste_beamforming_SNR_-10dB_semPCA_1582138677.086143.json\n",
      "Classificando com o  BaggingClassifier\n",
      "Salvando as informações num JSON: relatorio_teste_beamforming_SNR_-10dB_semPCA_1582138677.4232903.json\n",
      "Classificando com o  BaggingClassifier\n",
      "Salvando as informações num JSON: relatorio_teste_beamforming_SNR_-10dB_semPCA_1582138677.7478118.json\n",
      "Classificando com o  BaggingClassifier\n"
     ]
    },
    {
     "name": "stderr",
     "output_type": "stream",
     "text": [
      "/home/dimi/venvIC/lib/python3.7/site-packages/sklearn/metrics/classification.py:1437: UndefinedMetricWarning: Precision and F-score are ill-defined and being set to 0.0 in labels with no predicted samples.\n",
      "  'precision', 'predicted', average, warn_for)\n"
     ]
    },
    {
     "name": "stdout",
     "output_type": "stream",
     "text": [
      "Salvando as informações num JSON: relatorio_teste_beamforming_SNR_-10dB_semPCA_1582138678.0726552.json\n",
      "Classificando com o  BaggingClassifier\n",
      "Salvando as informações num JSON: relatorio_teste_beamforming_SNR_-10dB_semPCA_1582138678.4062848.json\n",
      "Classificando com o  BaggingClassifier\n"
     ]
    },
    {
     "name": "stderr",
     "output_type": "stream",
     "text": [
      "/home/dimi/venvIC/lib/python3.7/site-packages/sklearn/metrics/classification.py:1437: UndefinedMetricWarning: Precision and F-score are ill-defined and being set to 0.0 in labels with no predicted samples.\n",
      "  'precision', 'predicted', average, warn_for)\n"
     ]
    },
    {
     "name": "stdout",
     "output_type": "stream",
     "text": [
      "Salvando as informações num JSON: relatorio_teste_beamforming_SNR_-10dB_semPCA_1582138678.727693.json\n",
      "Classificando com o  BaggingClassifier\n",
      "Salvando as informações num JSON: relatorio_teste_beamforming_SNR_-10dB_semPCA_1582138679.0594902.json\n",
      "Classificando com o  BaggingClassifier\n",
      "Salvando as informações num JSON: relatorio_teste_beamforming_SNR_-10dB_semPCA_1582138679.3838143.json\n",
      "Classificando com o  BaggingClassifier\n",
      "Salvando as informações num JSON: relatorio_teste_beamforming_SNR_-10dB_semPCA_1582138679.7077131.json\n",
      "Classificando com o  BaggingClassifier\n",
      "Salvando as informações num JSON: relatorio_teste_beamforming_SNR_-10dB_semPCA_1582138680.0321734.json\n",
      "Classificando com o  BaggingClassifier\n",
      "Salvando as informações num JSON: relatorio_teste_beamforming_SNR_-10dB_semPCA_1582138680.360497.json\n",
      "Classificando com o  KNeighborsClassifier\n",
      "Salvando as informações num JSON: relatorio_teste_beamforming_SNR_-10dB_semPCA_1582138682.2628236.json\n",
      "Classificando com o  KNeighborsClassifier\n",
      "Salvando as informações num JSON: relatorio_teste_beamforming_SNR_-10dB_semPCA_1582138684.167228.json\n",
      "Classificando com o  KNeighborsClassifier\n",
      "Salvando as informações num JSON: relatorio_teste_beamforming_SNR_-10dB_semPCA_1582138686.0788918.json\n",
      "Classificando com o  KNeighborsClassifier\n",
      "Salvando as informações num JSON: relatorio_teste_beamforming_SNR_-10dB_semPCA_1582138687.9939075.json\n",
      "Classificando com o  KNeighborsClassifier\n"
     ]
    },
    {
     "name": "stderr",
     "output_type": "stream",
     "text": [
      "/home/dimi/venvIC/lib/python3.7/site-packages/sklearn/metrics/classification.py:1437: UndefinedMetricWarning: Precision and F-score are ill-defined and being set to 0.0 in labels with no predicted samples.\n",
      "  'precision', 'predicted', average, warn_for)\n"
     ]
    },
    {
     "name": "stdout",
     "output_type": "stream",
     "text": [
      "Salvando as informações num JSON: relatorio_teste_beamforming_SNR_-10dB_semPCA_1582138689.876205.json\n",
      "Classificando com o  KNeighborsClassifier\n",
      "Salvando as informações num JSON: relatorio_teste_beamforming_SNR_-10dB_semPCA_1582138691.8478658.json\n",
      "Classificando com o  KNeighborsClassifier\n",
      "Salvando as informações num JSON: relatorio_teste_beamforming_SNR_-10dB_semPCA_1582138693.7163057.json\n",
      "Classificando com o  KNeighborsClassifier\n",
      "Salvando as informações num JSON: relatorio_teste_beamforming_SNR_-10dB_semPCA_1582138695.6360097.json\n",
      "Classificando com o  KNeighborsClassifier\n",
      "Salvando as informações num JSON: relatorio_teste_beamforming_SNR_-10dB_semPCA_1582138697.5457828.json\n",
      "Classificando com o  KNeighborsClassifier\n",
      "Salvando as informações num JSON: relatorio_teste_beamforming_SNR_-10dB_semPCA_1582138699.4828012.json\n",
      "Classificando com o  LinearSVC\n",
      "Salvando as informações num JSON: relatorio_teste_beamforming_SNR_-10dB_semPCA_1582138699.6888945.json\n",
      "Classificando com o  LinearSVC\n"
     ]
    },
    {
     "name": "stderr",
     "output_type": "stream",
     "text": [
      "/home/dimi/venvIC/lib/python3.7/site-packages/sklearn/metrics/classification.py:1437: UndefinedMetricWarning: Precision and F-score are ill-defined and being set to 0.0 in labels with no predicted samples.\n",
      "  'precision', 'predicted', average, warn_for)\n"
     ]
    },
    {
     "name": "stdout",
     "output_type": "stream",
     "text": [
      "Salvando as informações num JSON: relatorio_teste_beamforming_SNR_-10dB_semPCA_1582138699.895395.json\n",
      "Classificando com o  LinearSVC\n",
      "Salvando as informações num JSON: relatorio_teste_beamforming_SNR_-10dB_semPCA_1582138700.1050441.json\n",
      "Classificando com o  LinearSVC\n",
      "Salvando as informações num JSON: relatorio_teste_beamforming_SNR_-10dB_semPCA_1582138700.3125906.json\n",
      "Classificando com o  LinearSVC\n",
      "Salvando as informações num JSON: relatorio_teste_beamforming_SNR_-10dB_semPCA_1582138700.5247734.json\n",
      "Classificando com o  LinearSVC\n",
      "Salvando as informações num JSON: relatorio_teste_beamforming_SNR_-10dB_semPCA_1582138700.7308943.json\n",
      "Classificando com o  LinearSVC\n",
      "Salvando as informações num JSON: relatorio_teste_beamforming_SNR_-10dB_semPCA_1582138700.9389188.json\n",
      "Classificando com o  LinearSVC\n",
      "Salvando as informações num JSON: relatorio_teste_beamforming_SNR_-10dB_semPCA_1582138701.151464.json\n",
      "Classificando com o  LinearSVC\n"
     ]
    },
    {
     "name": "stderr",
     "output_type": "stream",
     "text": [
      "/home/dimi/venvIC/lib/python3.7/site-packages/sklearn/metrics/classification.py:1437: UndefinedMetricWarning: Precision and F-score are ill-defined and being set to 0.0 in labels with no predicted samples.\n",
      "  'precision', 'predicted', average, warn_for)\n"
     ]
    },
    {
     "name": "stdout",
     "output_type": "stream",
     "text": [
      "Salvando as informações num JSON: relatorio_teste_beamforming_SNR_-10dB_semPCA_1582138701.3628514.json\n",
      "Classificando com o  LinearSVC\n",
      "Salvando as informações num JSON: relatorio_teste_beamforming_SNR_-10dB_semPCA_1582138701.5856063.json\n",
      "Classificando com o  Perceptron\n",
      "Salvando as informações num JSON: relatorio_teste_beamforming_SNR_-10dB_semPCA_1582138701.7934802.json\n",
      "Classificando com o  Perceptron\n",
      "Salvando as informações num JSON: relatorio_teste_beamforming_SNR_-10dB_semPCA_1582138702.008984.json\n",
      "Classificando com o  Perceptron\n",
      "Salvando as informações num JSON: relatorio_teste_beamforming_SNR_-10dB_semPCA_1582138702.2235718.json\n",
      "Classificando com o  Perceptron\n",
      "Salvando as informações num JSON: relatorio_teste_beamforming_SNR_-10dB_semPCA_1582138702.4314008.json\n",
      "Classificando com o  Perceptron\n",
      "Salvando as informações num JSON: relatorio_teste_beamforming_SNR_-10dB_semPCA_1582138702.641757.json\n",
      "Classificando com o  Perceptron\n",
      "Salvando as informações num JSON: relatorio_teste_beamforming_SNR_-10dB_semPCA_1582138702.8492634.json\n",
      "Classificando com o  Perceptron\n",
      "Salvando as informações num JSON: relatorio_teste_beamforming_SNR_-10dB_semPCA_1582138703.066505.json\n",
      "Classificando com o  Perceptron\n",
      "Salvando as informações num JSON: relatorio_teste_beamforming_SNR_-10dB_semPCA_1582138703.2744277.json\n",
      "Classificando com o  Perceptron\n",
      "Salvando as informações num JSON: relatorio_teste_beamforming_SNR_-10dB_semPCA_1582138703.4900925.json\n",
      "Classificando com o  Perceptron\n",
      "Salvando as informações num JSON: relatorio_teste_beamforming_SNR_-10dB_semPCA_1582138703.7001157.json\n",
      "O teste com todos os classificadores foi finalizado\n",
      "Classificando com o  SGDClassifier\n"
     ]
    },
    {
     "name": "stderr",
     "output_type": "stream",
     "text": [
      "/home/dimi/venvIC/lib/python3.7/site-packages/sklearn/metrics/classification.py:1437: UndefinedMetricWarning: Precision and F-score are ill-defined and being set to 0.0 in labels with no predicted samples.\n",
      "  'precision', 'predicted', average, warn_for)\n"
     ]
    },
    {
     "name": "stdout",
     "output_type": "stream",
     "text": [
      "Salvando as informações num JSON: relatorio_teste_GSC_SNR_-10dB_semPCA_1582138703.9715397.json\n",
      "Classificando com o  SGDClassifier\n"
     ]
    },
    {
     "name": "stderr",
     "output_type": "stream",
     "text": [
      "/home/dimi/venvIC/lib/python3.7/site-packages/sklearn/metrics/classification.py:1437: UndefinedMetricWarning: Precision and F-score are ill-defined and being set to 0.0 in labels with no predicted samples.\n",
      "  'precision', 'predicted', average, warn_for)\n"
     ]
    },
    {
     "name": "stdout",
     "output_type": "stream",
     "text": [
      "Salvando as informações num JSON: relatorio_teste_GSC_SNR_-10dB_semPCA_1582138704.1852837.json\n",
      "Classificando com o  SGDClassifier\n"
     ]
    },
    {
     "name": "stderr",
     "output_type": "stream",
     "text": [
      "/home/dimi/venvIC/lib/python3.7/site-packages/sklearn/metrics/classification.py:1437: UndefinedMetricWarning: Precision and F-score are ill-defined and being set to 0.0 in labels with no predicted samples.\n",
      "  'precision', 'predicted', average, warn_for)\n"
     ]
    },
    {
     "name": "stdout",
     "output_type": "stream",
     "text": [
      "Salvando as informações num JSON: relatorio_teste_GSC_SNR_-10dB_semPCA_1582138704.4063406.json\n",
      "Classificando com o  SGDClassifier\n"
     ]
    },
    {
     "name": "stderr",
     "output_type": "stream",
     "text": [
      "/home/dimi/venvIC/lib/python3.7/site-packages/sklearn/metrics/classification.py:1437: UndefinedMetricWarning: Precision and F-score are ill-defined and being set to 0.0 in labels with no predicted samples.\n",
      "  'precision', 'predicted', average, warn_for)\n"
     ]
    },
    {
     "name": "stdout",
     "output_type": "stream",
     "text": [
      "Salvando as informações num JSON: relatorio_teste_GSC_SNR_-10dB_semPCA_1582138704.6143718.json\n",
      "Classificando com o  SGDClassifier\n"
     ]
    },
    {
     "name": "stderr",
     "output_type": "stream",
     "text": [
      "/home/dimi/venvIC/lib/python3.7/site-packages/sklearn/metrics/classification.py:1437: UndefinedMetricWarning: Precision and F-score are ill-defined and being set to 0.0 in labels with no predicted samples.\n",
      "  'precision', 'predicted', average, warn_for)\n"
     ]
    },
    {
     "name": "stdout",
     "output_type": "stream",
     "text": [
      "Salvando as informações num JSON: relatorio_teste_GSC_SNR_-10dB_semPCA_1582138704.8278828.json\n",
      "Classificando com o  SGDClassifier\n",
      "Salvando as informações num JSON: relatorio_teste_GSC_SNR_-10dB_semPCA_1582138705.037823.json\n",
      "Classificando com o  SGDClassifier\n"
     ]
    },
    {
     "name": "stderr",
     "output_type": "stream",
     "text": [
      "/home/dimi/venvIC/lib/python3.7/site-packages/sklearn/metrics/classification.py:1437: UndefinedMetricWarning: Precision and F-score are ill-defined and being set to 0.0 in labels with no predicted samples.\n",
      "  'precision', 'predicted', average, warn_for)\n"
     ]
    },
    {
     "name": "stdout",
     "output_type": "stream",
     "text": [
      "Salvando as informações num JSON: relatorio_teste_GSC_SNR_-10dB_semPCA_1582138705.249196.json\n",
      "Classificando com o  SGDClassifier\n"
     ]
    },
    {
     "name": "stderr",
     "output_type": "stream",
     "text": [
      "/home/dimi/venvIC/lib/python3.7/site-packages/sklearn/metrics/classification.py:1437: UndefinedMetricWarning: Precision and F-score are ill-defined and being set to 0.0 in labels with no predicted samples.\n",
      "  'precision', 'predicted', average, warn_for)\n"
     ]
    },
    {
     "name": "stdout",
     "output_type": "stream",
     "text": [
      "Salvando as informações num JSON: relatorio_teste_GSC_SNR_-10dB_semPCA_1582138705.461629.json\n",
      "Classificando com o  SGDClassifier\n"
     ]
    },
    {
     "name": "stderr",
     "output_type": "stream",
     "text": [
      "/home/dimi/venvIC/lib/python3.7/site-packages/sklearn/metrics/classification.py:1437: UndefinedMetricWarning: Precision and F-score are ill-defined and being set to 0.0 in labels with no predicted samples.\n",
      "  'precision', 'predicted', average, warn_for)\n"
     ]
    },
    {
     "name": "stdout",
     "output_type": "stream",
     "text": [
      "Salvando as informações num JSON: relatorio_teste_GSC_SNR_-10dB_semPCA_1582138705.6715784.json\n",
      "Classificando com o  SGDClassifier\n"
     ]
    },
    {
     "name": "stderr",
     "output_type": "stream",
     "text": [
      "/home/dimi/venvIC/lib/python3.7/site-packages/sklearn/metrics/classification.py:1437: UndefinedMetricWarning: Precision and F-score are ill-defined and being set to 0.0 in labels with no predicted samples.\n",
      "  'precision', 'predicted', average, warn_for)\n"
     ]
    },
    {
     "name": "stdout",
     "output_type": "stream",
     "text": [
      "Salvando as informações num JSON: relatorio_teste_GSC_SNR_-10dB_semPCA_1582138705.882965.json\n",
      "Classificando com o  BaggingClassifier\n",
      "Salvando as informações num JSON: relatorio_teste_GSC_SNR_-10dB_semPCA_1582138706.209137.json\n",
      "Classificando com o  BaggingClassifier\n"
     ]
    },
    {
     "name": "stderr",
     "output_type": "stream",
     "text": [
      "/home/dimi/venvIC/lib/python3.7/site-packages/sklearn/metrics/classification.py:1437: UndefinedMetricWarning: Precision and F-score are ill-defined and being set to 0.0 in labels with no predicted samples.\n",
      "  'precision', 'predicted', average, warn_for)\n"
     ]
    },
    {
     "name": "stdout",
     "output_type": "stream",
     "text": [
      "Salvando as informações num JSON: relatorio_teste_GSC_SNR_-10dB_semPCA_1582138706.531729.json\n",
      "Classificando com o  BaggingClassifier\n"
     ]
    },
    {
     "name": "stderr",
     "output_type": "stream",
     "text": [
      "/home/dimi/venvIC/lib/python3.7/site-packages/sklearn/metrics/classification.py:1437: UndefinedMetricWarning: Precision and F-score are ill-defined and being set to 0.0 in labels with no predicted samples.\n",
      "  'precision', 'predicted', average, warn_for)\n"
     ]
    },
    {
     "name": "stdout",
     "output_type": "stream",
     "text": [
      "Salvando as informações num JSON: relatorio_teste_GSC_SNR_-10dB_semPCA_1582138706.8618295.json\n",
      "Classificando com o  BaggingClassifier\n"
     ]
    },
    {
     "name": "stderr",
     "output_type": "stream",
     "text": [
      "/home/dimi/venvIC/lib/python3.7/site-packages/sklearn/metrics/classification.py:1437: UndefinedMetricWarning: Precision and F-score are ill-defined and being set to 0.0 in labels with no predicted samples.\n",
      "  'precision', 'predicted', average, warn_for)\n"
     ]
    },
    {
     "name": "stdout",
     "output_type": "stream",
     "text": [
      "Salvando as informações num JSON: relatorio_teste_GSC_SNR_-10dB_semPCA_1582138707.1907604.json\n",
      "Classificando com o  BaggingClassifier\n",
      "Salvando as informações num JSON: relatorio_teste_GSC_SNR_-10dB_semPCA_1582138707.5284111.json\n",
      "Classificando com o  BaggingClassifier\n",
      "Salvando as informações num JSON: relatorio_teste_GSC_SNR_-10dB_semPCA_1582138707.8929913.json\n",
      "Classificando com o  BaggingClassifier\n",
      "Salvando as informações num JSON: relatorio_teste_GSC_SNR_-10dB_semPCA_1582138708.2263763.json\n",
      "Classificando com o  BaggingClassifier\n",
      "Salvando as informações num JSON: relatorio_teste_GSC_SNR_-10dB_semPCA_1582138708.5495548.json\n",
      "Classificando com o  BaggingClassifier\n",
      "Salvando as informações num JSON: relatorio_teste_GSC_SNR_-10dB_semPCA_1582138708.8707426.json\n",
      "Classificando com o  BaggingClassifier\n",
      "Salvando as informações num JSON: relatorio_teste_GSC_SNR_-10dB_semPCA_1582138709.1960404.json\n",
      "Classificando com o  KNeighborsClassifier\n",
      "Salvando as informações num JSON: relatorio_teste_GSC_SNR_-10dB_semPCA_1582138711.091263.json\n",
      "Classificando com o  KNeighborsClassifier\n",
      "Salvando as informações num JSON: relatorio_teste_GSC_SNR_-10dB_semPCA_1582138712.979979.json\n",
      "Classificando com o  KNeighborsClassifier\n",
      "Salvando as informações num JSON: relatorio_teste_GSC_SNR_-10dB_semPCA_1582138714.8690307.json\n",
      "Classificando com o  KNeighborsClassifier\n",
      "Salvando as informações num JSON: relatorio_teste_GSC_SNR_-10dB_semPCA_1582138716.8013546.json\n",
      "Classificando com o  KNeighborsClassifier\n"
     ]
    },
    {
     "name": "stderr",
     "output_type": "stream",
     "text": [
      "/home/dimi/venvIC/lib/python3.7/site-packages/sklearn/metrics/classification.py:1437: UndefinedMetricWarning: Precision and F-score are ill-defined and being set to 0.0 in labels with no predicted samples.\n",
      "  'precision', 'predicted', average, warn_for)\n"
     ]
    },
    {
     "name": "stdout",
     "output_type": "stream",
     "text": [
      "Salvando as informações num JSON: relatorio_teste_GSC_SNR_-10dB_semPCA_1582138718.6643472.json\n",
      "Classificando com o  KNeighborsClassifier\n"
     ]
    },
    {
     "name": "stderr",
     "output_type": "stream",
     "text": [
      "/home/dimi/venvIC/lib/python3.7/site-packages/sklearn/metrics/classification.py:1437: UndefinedMetricWarning: Precision and F-score are ill-defined and being set to 0.0 in labels with no predicted samples.\n",
      "  'precision', 'predicted', average, warn_for)\n"
     ]
    },
    {
     "name": "stdout",
     "output_type": "stream",
     "text": [
      "Salvando as informações num JSON: relatorio_teste_GSC_SNR_-10dB_semPCA_1582138720.5871165.json\n",
      "Classificando com o  KNeighborsClassifier\n",
      "Salvando as informações num JSON: relatorio_teste_GSC_SNR_-10dB_semPCA_1582138722.4358492.json\n",
      "Classificando com o  KNeighborsClassifier\n",
      "Salvando as informações num JSON: relatorio_teste_GSC_SNR_-10dB_semPCA_1582138724.3461134.json\n",
      "Classificando com o  KNeighborsClassifier\n",
      "Salvando as informações num JSON: relatorio_teste_GSC_SNR_-10dB_semPCA_1582138726.257175.json\n",
      "Classificando com o  KNeighborsClassifier\n"
     ]
    },
    {
     "name": "stderr",
     "output_type": "stream",
     "text": [
      "/home/dimi/venvIC/lib/python3.7/site-packages/sklearn/metrics/classification.py:1437: UndefinedMetricWarning: Precision and F-score are ill-defined and being set to 0.0 in labels with no predicted samples.\n",
      "  'precision', 'predicted', average, warn_for)\n"
     ]
    },
    {
     "name": "stdout",
     "output_type": "stream",
     "text": [
      "Salvando as informações num JSON: relatorio_teste_GSC_SNR_-10dB_semPCA_1582138728.150995.json\n",
      "Classificando com o  LinearSVC\n"
     ]
    },
    {
     "name": "stderr",
     "output_type": "stream",
     "text": [
      "/home/dimi/venvIC/lib/python3.7/site-packages/sklearn/metrics/classification.py:1437: UndefinedMetricWarning: Precision and F-score are ill-defined and being set to 0.0 in labels with no predicted samples.\n",
      "  'precision', 'predicted', average, warn_for)\n"
     ]
    },
    {
     "name": "stdout",
     "output_type": "stream",
     "text": [
      "Salvando as informações num JSON: relatorio_teste_GSC_SNR_-10dB_semPCA_1582138728.3647828.json\n",
      "Classificando com o  LinearSVC\n"
     ]
    },
    {
     "name": "stderr",
     "output_type": "stream",
     "text": [
      "/home/dimi/venvIC/lib/python3.7/site-packages/sklearn/metrics/classification.py:1437: UndefinedMetricWarning: Precision and F-score are ill-defined and being set to 0.0 in labels with no predicted samples.\n",
      "  'precision', 'predicted', average, warn_for)\n"
     ]
    },
    {
     "name": "stdout",
     "output_type": "stream",
     "text": [
      "Salvando as informações num JSON: relatorio_teste_GSC_SNR_-10dB_semPCA_1582138728.5798697.json\n",
      "Classificando com o  LinearSVC\n",
      "Salvando as informações num JSON: relatorio_teste_GSC_SNR_-10dB_semPCA_1582138728.7890882.json\n",
      "Classificando com o  LinearSVC\n",
      "Salvando as informações num JSON: relatorio_teste_GSC_SNR_-10dB_semPCA_1582138728.9965844.json\n",
      "Classificando com o  LinearSVC\n",
      "Salvando as informações num JSON: relatorio_teste_GSC_SNR_-10dB_semPCA_1582138729.2104192.json\n",
      "Classificando com o  LinearSVC\n",
      "Salvando as informações num JSON: relatorio_teste_GSC_SNR_-10dB_semPCA_1582138729.4226365.json\n",
      "Classificando com o  LinearSVC\n",
      "Salvando as informações num JSON: relatorio_teste_GSC_SNR_-10dB_semPCA_1582138729.6287012.json\n",
      "Classificando com o  LinearSVC\n",
      "Salvando as informações num JSON: relatorio_teste_GSC_SNR_-10dB_semPCA_1582138729.8455644.json\n",
      "Classificando com o  LinearSVC\n",
      "Salvando as informações num JSON: relatorio_teste_GSC_SNR_-10dB_semPCA_1582138730.0704477.json\n",
      "Classificando com o  LinearSVC\n",
      "Salvando as informações num JSON: relatorio_teste_GSC_SNR_-10dB_semPCA_1582138730.282974.json\n",
      "Classificando com o  Perceptron\n",
      "Salvando as informações num JSON: relatorio_teste_GSC_SNR_-10dB_semPCA_1582138730.4942174.json\n",
      "Classificando com o  Perceptron\n",
      "Salvando as informações num JSON: relatorio_teste_GSC_SNR_-10dB_semPCA_1582138730.7032013.json\n",
      "Classificando com o  Perceptron\n",
      "Salvando as informações num JSON: relatorio_teste_GSC_SNR_-10dB_semPCA_1582138730.913374.json\n",
      "Classificando com o  Perceptron\n",
      "Salvando as informações num JSON: relatorio_teste_GSC_SNR_-10dB_semPCA_1582138731.1274688.json\n",
      "Classificando com o  Perceptron\n",
      "Salvando as informações num JSON: relatorio_teste_GSC_SNR_-10dB_semPCA_1582138731.33924.json\n",
      "Classificando com o  Perceptron\n",
      "Salvando as informações num JSON: relatorio_teste_GSC_SNR_-10dB_semPCA_1582138731.5520792.json\n",
      "Classificando com o  Perceptron\n"
     ]
    },
    {
     "name": "stderr",
     "output_type": "stream",
     "text": [
      "/home/dimi/venvIC/lib/python3.7/site-packages/sklearn/metrics/classification.py:1437: UndefinedMetricWarning: Precision and F-score are ill-defined and being set to 0.0 in labels with no predicted samples.\n",
      "  'precision', 'predicted', average, warn_for)\n"
     ]
    },
    {
     "name": "stdout",
     "output_type": "stream",
     "text": [
      "Salvando as informações num JSON: relatorio_teste_GSC_SNR_-10dB_semPCA_1582138731.7681866.json\n",
      "Classificando com o  Perceptron\n",
      "Salvando as informações num JSON: relatorio_teste_GSC_SNR_-10dB_semPCA_1582138731.9737813.json\n",
      "Classificando com o  Perceptron\n",
      "Salvando as informações num JSON: relatorio_teste_GSC_SNR_-10dB_semPCA_1582138732.1849122.json\n",
      "Classificando com o  Perceptron\n",
      "Salvando as informações num JSON: relatorio_teste_GSC_SNR_-10dB_semPCA_1582138732.4004424.json\n",
      "O teste com todos os classificadores foi finalizado\n",
      "Classificando com o  SGDClassifier\n"
     ]
    },
    {
     "name": "stderr",
     "output_type": "stream",
     "text": [
      "/home/dimi/venvIC/lib/python3.7/site-packages/sklearn/metrics/classification.py:1437: UndefinedMetricWarning: Precision and F-score are ill-defined and being set to 0.0 in labels with no predicted samples.\n",
      "  'precision', 'predicted', average, warn_for)\n"
     ]
    },
    {
     "name": "stdout",
     "output_type": "stream",
     "text": [
      "Salvando as informações num JSON: relatorio_teste_semBeamforming_SNR_-10dB_semPCA_1582138732.6719117.json\n",
      "Classificando com o  SGDClassifier\n"
     ]
    },
    {
     "name": "stderr",
     "output_type": "stream",
     "text": [
      "/home/dimi/venvIC/lib/python3.7/site-packages/sklearn/metrics/classification.py:1437: UndefinedMetricWarning: Precision and F-score are ill-defined and being set to 0.0 in labels with no predicted samples.\n",
      "  'precision', 'predicted', average, warn_for)\n"
     ]
    },
    {
     "name": "stdout",
     "output_type": "stream",
     "text": [
      "Salvando as informações num JSON: relatorio_teste_semBeamforming_SNR_-10dB_semPCA_1582138732.8799455.json\n",
      "Classificando com o  SGDClassifier\n"
     ]
    },
    {
     "name": "stderr",
     "output_type": "stream",
     "text": [
      "/home/dimi/venvIC/lib/python3.7/site-packages/sklearn/metrics/classification.py:1437: UndefinedMetricWarning: Precision and F-score are ill-defined and being set to 0.0 in labels with no predicted samples.\n",
      "  'precision', 'predicted', average, warn_for)\n"
     ]
    },
    {
     "name": "stdout",
     "output_type": "stream",
     "text": [
      "Salvando as informações num JSON: relatorio_teste_semBeamforming_SNR_-10dB_semPCA_1582138733.0935717.json\n",
      "Classificando com o  SGDClassifier\n"
     ]
    },
    {
     "name": "stderr",
     "output_type": "stream",
     "text": [
      "/home/dimi/venvIC/lib/python3.7/site-packages/sklearn/metrics/classification.py:1437: UndefinedMetricWarning: Precision and F-score are ill-defined and being set to 0.0 in labels with no predicted samples.\n",
      "  'precision', 'predicted', average, warn_for)\n"
     ]
    },
    {
     "name": "stdout",
     "output_type": "stream",
     "text": [
      "Salvando as informações num JSON: relatorio_teste_semBeamforming_SNR_-10dB_semPCA_1582138733.3147018.json\n",
      "Classificando com o  SGDClassifier\n"
     ]
    },
    {
     "name": "stderr",
     "output_type": "stream",
     "text": [
      "/home/dimi/venvIC/lib/python3.7/site-packages/sklearn/metrics/classification.py:1437: UndefinedMetricWarning: Precision and F-score are ill-defined and being set to 0.0 in labels with no predicted samples.\n",
      "  'precision', 'predicted', average, warn_for)\n"
     ]
    },
    {
     "name": "stdout",
     "output_type": "stream",
     "text": [
      "Salvando as informações num JSON: relatorio_teste_semBeamforming_SNR_-10dB_semPCA_1582138733.5288796.json\n",
      "Classificando com o  SGDClassifier\n"
     ]
    },
    {
     "name": "stderr",
     "output_type": "stream",
     "text": [
      "/home/dimi/venvIC/lib/python3.7/site-packages/sklearn/metrics/classification.py:1437: UndefinedMetricWarning: Precision and F-score are ill-defined and being set to 0.0 in labels with no predicted samples.\n",
      "  'precision', 'predicted', average, warn_for)\n"
     ]
    },
    {
     "name": "stdout",
     "output_type": "stream",
     "text": [
      "Salvando as informações num JSON: relatorio_teste_semBeamforming_SNR_-10dB_semPCA_1582138733.748072.json\n",
      "Classificando com o  SGDClassifier\n"
     ]
    },
    {
     "name": "stderr",
     "output_type": "stream",
     "text": [
      "/home/dimi/venvIC/lib/python3.7/site-packages/sklearn/metrics/classification.py:1437: UndefinedMetricWarning: Precision and F-score are ill-defined and being set to 0.0 in labels with no predicted samples.\n",
      "  'precision', 'predicted', average, warn_for)\n"
     ]
    },
    {
     "name": "stdout",
     "output_type": "stream",
     "text": [
      "Salvando as informações num JSON: relatorio_teste_semBeamforming_SNR_-10dB_semPCA_1582138733.9636507.json\n",
      "Classificando com o  SGDClassifier\n"
     ]
    },
    {
     "name": "stderr",
     "output_type": "stream",
     "text": [
      "/home/dimi/venvIC/lib/python3.7/site-packages/sklearn/metrics/classification.py:1437: UndefinedMetricWarning: Precision and F-score are ill-defined and being set to 0.0 in labels with no predicted samples.\n",
      "  'precision', 'predicted', average, warn_for)\n"
     ]
    },
    {
     "name": "stdout",
     "output_type": "stream",
     "text": [
      "Salvando as informações num JSON: relatorio_teste_semBeamforming_SNR_-10dB_semPCA_1582138734.1792004.json\n",
      "Classificando com o  SGDClassifier\n"
     ]
    },
    {
     "name": "stderr",
     "output_type": "stream",
     "text": [
      "/home/dimi/venvIC/lib/python3.7/site-packages/sklearn/metrics/classification.py:1437: UndefinedMetricWarning: Precision and F-score are ill-defined and being set to 0.0 in labels with no predicted samples.\n",
      "  'precision', 'predicted', average, warn_for)\n"
     ]
    },
    {
     "name": "stdout",
     "output_type": "stream",
     "text": [
      "Salvando as informações num JSON: relatorio_teste_semBeamforming_SNR_-10dB_semPCA_1582138734.3913248.json\n",
      "Classificando com o  SGDClassifier\n"
     ]
    },
    {
     "name": "stderr",
     "output_type": "stream",
     "text": [
      "/home/dimi/venvIC/lib/python3.7/site-packages/sklearn/metrics/classification.py:1437: UndefinedMetricWarning: Precision and F-score are ill-defined and being set to 0.0 in labels with no predicted samples.\n",
      "  'precision', 'predicted', average, warn_for)\n"
     ]
    },
    {
     "name": "stdout",
     "output_type": "stream",
     "text": [
      "Salvando as informações num JSON: relatorio_teste_semBeamforming_SNR_-10dB_semPCA_1582138734.6045713.json\n",
      "Classificando com o  BaggingClassifier\n",
      "Salvando as informações num JSON: relatorio_teste_semBeamforming_SNR_-10dB_semPCA_1582138734.9428813.json\n",
      "Classificando com o  BaggingClassifier\n",
      "Salvando as informações num JSON: relatorio_teste_semBeamforming_SNR_-10dB_semPCA_1582138735.267031.json\n",
      "Classificando com o  BaggingClassifier\n"
     ]
    },
    {
     "name": "stderr",
     "output_type": "stream",
     "text": [
      "/home/dimi/venvIC/lib/python3.7/site-packages/sklearn/metrics/classification.py:1437: UndefinedMetricWarning: Precision and F-score are ill-defined and being set to 0.0 in labels with no predicted samples.\n",
      "  'precision', 'predicted', average, warn_for)\n"
     ]
    },
    {
     "name": "stdout",
     "output_type": "stream",
     "text": [
      "Salvando as informações num JSON: relatorio_teste_semBeamforming_SNR_-10dB_semPCA_1582138735.5946112.json\n",
      "Classificando com o  BaggingClassifier\n",
      "Salvando as informações num JSON: relatorio_teste_semBeamforming_SNR_-10dB_semPCA_1582138735.9239392.json\n",
      "Classificando com o  BaggingClassifier\n"
     ]
    },
    {
     "name": "stderr",
     "output_type": "stream",
     "text": [
      "/home/dimi/venvIC/lib/python3.7/site-packages/sklearn/metrics/classification.py:1437: UndefinedMetricWarning: Precision and F-score are ill-defined and being set to 0.0 in labels with no predicted samples.\n",
      "  'precision', 'predicted', average, warn_for)\n"
     ]
    },
    {
     "name": "stdout",
     "output_type": "stream",
     "text": [
      "Salvando as informações num JSON: relatorio_teste_semBeamforming_SNR_-10dB_semPCA_1582138736.248664.json\n",
      "Classificando com o  BaggingClassifier\n",
      "Salvando as informações num JSON: relatorio_teste_semBeamforming_SNR_-10dB_semPCA_1582138736.5835614.json\n",
      "Classificando com o  BaggingClassifier\n",
      "Salvando as informações num JSON: relatorio_teste_semBeamforming_SNR_-10dB_semPCA_1582138736.9112747.json\n",
      "Classificando com o  BaggingClassifier\n",
      "Salvando as informações num JSON: relatorio_teste_semBeamforming_SNR_-10dB_semPCA_1582138737.234346.json\n",
      "Classificando com o  BaggingClassifier\n",
      "Salvando as informações num JSON: relatorio_teste_semBeamforming_SNR_-10dB_semPCA_1582138737.5582397.json\n",
      "Classificando com o  BaggingClassifier\n",
      "Salvando as informações num JSON: relatorio_teste_semBeamforming_SNR_-10dB_semPCA_1582138737.8823874.json\n",
      "Classificando com o  KNeighborsClassifier\n",
      "Salvando as informações num JSON: relatorio_teste_semBeamforming_SNR_-10dB_semPCA_1582138739.776177.json\n",
      "Classificando com o  KNeighborsClassifier\n",
      "Salvando as informações num JSON: relatorio_teste_semBeamforming_SNR_-10dB_semPCA_1582138741.6641061.json\n",
      "Classificando com o  KNeighborsClassifier\n",
      "Salvando as informações num JSON: relatorio_teste_semBeamforming_SNR_-10dB_semPCA_1582138743.550279.json\n",
      "Classificando com o  KNeighborsClassifier\n",
      "Salvando as informações num JSON: relatorio_teste_semBeamforming_SNR_-10dB_semPCA_1582138745.4503987.json\n",
      "Classificando com o  KNeighborsClassifier\n"
     ]
    },
    {
     "name": "stderr",
     "output_type": "stream",
     "text": [
      "/home/dimi/venvIC/lib/python3.7/site-packages/sklearn/metrics/classification.py:1437: UndefinedMetricWarning: Precision and F-score are ill-defined and being set to 0.0 in labels with no predicted samples.\n",
      "  'precision', 'predicted', average, warn_for)\n"
     ]
    },
    {
     "name": "stdout",
     "output_type": "stream",
     "text": [
      "Salvando as informações num JSON: relatorio_teste_semBeamforming_SNR_-10dB_semPCA_1582138747.3035586.json\n",
      "Classificando com o  KNeighborsClassifier\n",
      "Salvando as informações num JSON: relatorio_teste_semBeamforming_SNR_-10dB_semPCA_1582138749.2322545.json\n",
      "Classificando com o  KNeighborsClassifier\n",
      "Salvando as informações num JSON: relatorio_teste_semBeamforming_SNR_-10dB_semPCA_1582138751.080657.json\n",
      "Classificando com o  KNeighborsClassifier\n",
      "Salvando as informações num JSON: relatorio_teste_semBeamforming_SNR_-10dB_semPCA_1582138752.993329.json\n",
      "Classificando com o  KNeighborsClassifier\n",
      "Salvando as informações num JSON: relatorio_teste_semBeamforming_SNR_-10dB_semPCA_1582138754.8890114.json\n",
      "Classificando com o  KNeighborsClassifier\n",
      "Salvando as informações num JSON: relatorio_teste_semBeamforming_SNR_-10dB_semPCA_1582138756.7855792.json\n",
      "Classificando com o  LinearSVC\n",
      "Salvando as informações num JSON: relatorio_teste_semBeamforming_SNR_-10dB_semPCA_1582138756.9930336.json\n",
      "Classificando com o  LinearSVC\n"
     ]
    },
    {
     "name": "stderr",
     "output_type": "stream",
     "text": [
      "/home/dimi/venvIC/lib/python3.7/site-packages/sklearn/metrics/classification.py:1437: UndefinedMetricWarning: Precision and F-score are ill-defined and being set to 0.0 in labels with no predicted samples.\n",
      "  'precision', 'predicted', average, warn_for)\n"
     ]
    },
    {
     "name": "stdout",
     "output_type": "stream",
     "text": [
      "Salvando as informações num JSON: relatorio_teste_semBeamforming_SNR_-10dB_semPCA_1582138757.2070608.json\n",
      "Classificando com o  LinearSVC\n",
      "Salvando as informações num JSON: relatorio_teste_semBeamforming_SNR_-10dB_semPCA_1582138757.4237797.json\n",
      "Classificando com o  LinearSVC\n",
      "Salvando as informações num JSON: relatorio_teste_semBeamforming_SNR_-10dB_semPCA_1582138757.6368468.json\n",
      "Classificando com o  LinearSVC\n",
      "Salvando as informações num JSON: relatorio_teste_semBeamforming_SNR_-10dB_semPCA_1582138757.8485458.json\n",
      "Classificando com o  LinearSVC\n",
      "Salvando as informações num JSON: relatorio_teste_semBeamforming_SNR_-10dB_semPCA_1582138758.0598428.json\n",
      "Classificando com o  LinearSVC\n",
      "Salvando as informações num JSON: relatorio_teste_semBeamforming_SNR_-10dB_semPCA_1582138758.271266.json\n",
      "Classificando com o  LinearSVC\n",
      "Salvando as informações num JSON: relatorio_teste_semBeamforming_SNR_-10dB_semPCA_1582138758.4824386.json\n",
      "Classificando com o  LinearSVC\n"
     ]
    },
    {
     "name": "stderr",
     "output_type": "stream",
     "text": [
      "/home/dimi/venvIC/lib/python3.7/site-packages/sklearn/metrics/classification.py:1437: UndefinedMetricWarning: Precision and F-score are ill-defined and being set to 0.0 in labels with no predicted samples.\n",
      "  'precision', 'predicted', average, warn_for)\n"
     ]
    },
    {
     "name": "stdout",
     "output_type": "stream",
     "text": [
      "Salvando as informações num JSON: relatorio_teste_semBeamforming_SNR_-10dB_semPCA_1582138758.7114363.json\n",
      "Classificando com o  LinearSVC\n",
      "Salvando as informações num JSON: relatorio_teste_semBeamforming_SNR_-10dB_semPCA_1582138758.932068.json\n",
      "Classificando com o  Perceptron\n",
      "Salvando as informações num JSON: relatorio_teste_semBeamforming_SNR_-10dB_semPCA_1582138759.1446388.json\n",
      "Classificando com o  Perceptron\n",
      "Salvando as informações num JSON: relatorio_teste_semBeamforming_SNR_-10dB_semPCA_1582138759.35186.json\n",
      "Classificando com o  Perceptron\n",
      "Salvando as informações num JSON: relatorio_teste_semBeamforming_SNR_-10dB_semPCA_1582138759.5716343.json\n",
      "Classificando com o  Perceptron\n",
      "Salvando as informações num JSON: relatorio_teste_semBeamforming_SNR_-10dB_semPCA_1582138759.7794583.json\n",
      "Classificando com o  Perceptron\n",
      "Salvando as informações num JSON: relatorio_teste_semBeamforming_SNR_-10dB_semPCA_1582138759.9916987.json\n",
      "Classificando com o  Perceptron\n",
      "Salvando as informações num JSON: relatorio_teste_semBeamforming_SNR_-10dB_semPCA_1582138760.2026908.json\n",
      "Classificando com o  Perceptron\n",
      "Salvando as informações num JSON: relatorio_teste_semBeamforming_SNR_-10dB_semPCA_1582138760.4149263.json\n",
      "Classificando com o  Perceptron\n",
      "Salvando as informações num JSON: relatorio_teste_semBeamforming_SNR_-10dB_semPCA_1582138760.6234236.json\n",
      "Classificando com o  Perceptron\n",
      "Salvando as informações num JSON: relatorio_teste_semBeamforming_SNR_-10dB_semPCA_1582138760.842034.json\n",
      "Classificando com o  Perceptron\n",
      "Salvando as informações num JSON: relatorio_teste_semBeamforming_SNR_-10dB_semPCA_1582138761.051177.json\n",
      "O teste com todos os classificadores foi finalizado\n",
      "Classificando com o  SGDClassifier\n",
      "Salvando as informações num JSON: relatorio_teste_beamforming_SNR_-1dB_semPCA_1582138761.3207915.json\n",
      "Classificando com o  SGDClassifier\n"
     ]
    },
    {
     "name": "stderr",
     "output_type": "stream",
     "text": [
      "/home/dimi/venvIC/lib/python3.7/site-packages/sklearn/metrics/classification.py:1437: UndefinedMetricWarning: Precision and F-score are ill-defined and being set to 0.0 in labels with no predicted samples.\n",
      "  'precision', 'predicted', average, warn_for)\n"
     ]
    },
    {
     "name": "stdout",
     "output_type": "stream",
     "text": [
      "Salvando as informações num JSON: relatorio_teste_beamforming_SNR_-1dB_semPCA_1582138761.530643.json\n",
      "Classificando com o  SGDClassifier\n",
      "Salvando as informações num JSON: relatorio_teste_beamforming_SNR_-1dB_semPCA_1582138761.7524354.json\n",
      "Classificando com o  SGDClassifier\n"
     ]
    },
    {
     "name": "stderr",
     "output_type": "stream",
     "text": [
      "/home/dimi/venvIC/lib/python3.7/site-packages/sklearn/metrics/classification.py:1437: UndefinedMetricWarning: Precision and F-score are ill-defined and being set to 0.0 in labels with no predicted samples.\n",
      "  'precision', 'predicted', average, warn_for)\n"
     ]
    },
    {
     "name": "stdout",
     "output_type": "stream",
     "text": [
      "Salvando as informações num JSON: relatorio_teste_beamforming_SNR_-1dB_semPCA_1582138761.9660099.json\n",
      "Classificando com o  SGDClassifier\n",
      "Salvando as informações num JSON: relatorio_teste_beamforming_SNR_-1dB_semPCA_1582138762.1794066.json\n",
      "Classificando com o  SGDClassifier\n"
     ]
    },
    {
     "name": "stderr",
     "output_type": "stream",
     "text": [
      "/home/dimi/venvIC/lib/python3.7/site-packages/sklearn/metrics/classification.py:1437: UndefinedMetricWarning: Precision and F-score are ill-defined and being set to 0.0 in labels with no predicted samples.\n",
      "  'precision', 'predicted', average, warn_for)\n"
     ]
    },
    {
     "name": "stdout",
     "output_type": "stream",
     "text": [
      "Salvando as informações num JSON: relatorio_teste_beamforming_SNR_-1dB_semPCA_1582138762.3891373.json\n",
      "Classificando com o  SGDClassifier\n",
      "Salvando as informações num JSON: relatorio_teste_beamforming_SNR_-1dB_semPCA_1582138762.602285.json\n",
      "Classificando com o  SGDClassifier\n"
     ]
    },
    {
     "name": "stderr",
     "output_type": "stream",
     "text": [
      "/home/dimi/venvIC/lib/python3.7/site-packages/sklearn/metrics/classification.py:1437: UndefinedMetricWarning: Precision and F-score are ill-defined and being set to 0.0 in labels with no predicted samples.\n",
      "  'precision', 'predicted', average, warn_for)\n"
     ]
    },
    {
     "name": "stdout",
     "output_type": "stream",
     "text": [
      "Salvando as informações num JSON: relatorio_teste_beamforming_SNR_-1dB_semPCA_1582138762.8234694.json\n",
      "Classificando com o  SGDClassifier\n"
     ]
    },
    {
     "name": "stderr",
     "output_type": "stream",
     "text": [
      "/home/dimi/venvIC/lib/python3.7/site-packages/sklearn/metrics/classification.py:1437: UndefinedMetricWarning: Precision and F-score are ill-defined and being set to 0.0 in labels with no predicted samples.\n",
      "  'precision', 'predicted', average, warn_for)\n"
     ]
    },
    {
     "name": "stdout",
     "output_type": "stream",
     "text": [
      "Salvando as informações num JSON: relatorio_teste_beamforming_SNR_-1dB_semPCA_1582138763.0396278.json\n",
      "Classificando com o  SGDClassifier\n"
     ]
    },
    {
     "name": "stderr",
     "output_type": "stream",
     "text": [
      "/home/dimi/venvIC/lib/python3.7/site-packages/sklearn/metrics/classification.py:1437: UndefinedMetricWarning: Precision and F-score are ill-defined and being set to 0.0 in labels with no predicted samples.\n",
      "  'precision', 'predicted', average, warn_for)\n"
     ]
    },
    {
     "name": "stdout",
     "output_type": "stream",
     "text": [
      "Salvando as informações num JSON: relatorio_teste_beamforming_SNR_-1dB_semPCA_1582138763.251226.json\n",
      "Classificando com o  BaggingClassifier\n"
     ]
    },
    {
     "name": "stderr",
     "output_type": "stream",
     "text": [
      "/home/dimi/venvIC/lib/python3.7/site-packages/sklearn/metrics/classification.py:1437: UndefinedMetricWarning: Precision and F-score are ill-defined and being set to 0.0 in labels with no predicted samples.\n",
      "  'precision', 'predicted', average, warn_for)\n"
     ]
    },
    {
     "name": "stdout",
     "output_type": "stream",
     "text": [
      "Salvando as informações num JSON: relatorio_teste_beamforming_SNR_-1dB_semPCA_1582138763.5881705.json\n",
      "Classificando com o  BaggingClassifier\n",
      "Salvando as informações num JSON: relatorio_teste_beamforming_SNR_-1dB_semPCA_1582138763.913672.json\n",
      "Classificando com o  BaggingClassifier\n"
     ]
    },
    {
     "name": "stderr",
     "output_type": "stream",
     "text": [
      "/home/dimi/venvIC/lib/python3.7/site-packages/sklearn/metrics/classification.py:1437: UndefinedMetricWarning: Precision and F-score are ill-defined and being set to 0.0 in labels with no predicted samples.\n",
      "  'precision', 'predicted', average, warn_for)\n"
     ]
    },
    {
     "name": "stdout",
     "output_type": "stream",
     "text": [
      "Salvando as informações num JSON: relatorio_teste_beamforming_SNR_-1dB_semPCA_1582138764.2350147.json\n",
      "Classificando com o  BaggingClassifier\n",
      "Salvando as informações num JSON: relatorio_teste_beamforming_SNR_-1dB_semPCA_1582138764.5584395.json\n",
      "Classificando com o  BaggingClassifier\n"
     ]
    },
    {
     "name": "stderr",
     "output_type": "stream",
     "text": [
      "/home/dimi/venvIC/lib/python3.7/site-packages/sklearn/metrics/classification.py:1437: UndefinedMetricWarning: Precision and F-score are ill-defined and being set to 0.0 in labels with no predicted samples.\n",
      "  'precision', 'predicted', average, warn_for)\n"
     ]
    },
    {
     "name": "stdout",
     "output_type": "stream",
     "text": [
      "Salvando as informações num JSON: relatorio_teste_beamforming_SNR_-1dB_semPCA_1582138764.8779151.json\n",
      "Classificando com o  BaggingClassifier\n",
      "Salvando as informações num JSON: relatorio_teste_beamforming_SNR_-1dB_semPCA_1582138765.213268.json\n",
      "Classificando com o  BaggingClassifier\n",
      "Salvando as informações num JSON: relatorio_teste_beamforming_SNR_-1dB_semPCA_1582138765.536371.json\n",
      "Classificando com o  BaggingClassifier\n",
      "Salvando as informações num JSON: relatorio_teste_beamforming_SNR_-1dB_semPCA_1582138765.8585773.json\n",
      "Classificando com o  BaggingClassifier\n",
      "Salvando as informações num JSON: relatorio_teste_beamforming_SNR_-1dB_semPCA_1582138766.1804202.json\n",
      "Classificando com o  BaggingClassifier\n",
      "Salvando as informações num JSON: relatorio_teste_beamforming_SNR_-1dB_semPCA_1582138766.5036635.json\n",
      "Classificando com o  KNeighborsClassifier\n",
      "Salvando as informações num JSON: relatorio_teste_beamforming_SNR_-1dB_semPCA_1582138768.4044535.json\n",
      "Classificando com o  KNeighborsClassifier\n",
      "Salvando as informações num JSON: relatorio_teste_beamforming_SNR_-1dB_semPCA_1582138770.3050616.json\n",
      "Classificando com o  KNeighborsClassifier\n",
      "Salvando as informações num JSON: relatorio_teste_beamforming_SNR_-1dB_semPCA_1582138772.215907.json\n",
      "Classificando com o  KNeighborsClassifier\n",
      "Salvando as informações num JSON: relatorio_teste_beamforming_SNR_-1dB_semPCA_1582138774.1369731.json\n",
      "Classificando com o  KNeighborsClassifier\n",
      "Salvando as informações num JSON: relatorio_teste_beamforming_SNR_-1dB_semPCA_1582138776.011811.json\n",
      "Classificando com o  KNeighborsClassifier\n",
      "Salvando as informações num JSON: relatorio_teste_beamforming_SNR_-1dB_semPCA_1582138777.9403422.json\n",
      "Classificando com o  KNeighborsClassifier\n",
      "Salvando as informações num JSON: relatorio_teste_beamforming_SNR_-1dB_semPCA_1582138779.7844548.json\n",
      "Classificando com o  KNeighborsClassifier\n",
      "Salvando as informações num JSON: relatorio_teste_beamforming_SNR_-1dB_semPCA_1582138781.6825857.json\n",
      "Classificando com o  KNeighborsClassifier\n",
      "Salvando as informações num JSON: relatorio_teste_beamforming_SNR_-1dB_semPCA_1582138783.5772703.json\n",
      "Classificando com o  KNeighborsClassifier\n",
      "Salvando as informações num JSON: relatorio_teste_beamforming_SNR_-1dB_semPCA_1582138785.4808679.json\n",
      "Classificando com o  LinearSVC\n",
      "Salvando as informações num JSON: relatorio_teste_beamforming_SNR_-1dB_semPCA_1582138785.689114.json\n",
      "Classificando com o  LinearSVC\n",
      "Salvando as informações num JSON: relatorio_teste_beamforming_SNR_-1dB_semPCA_1582138785.8999763.json\n",
      "Classificando com o  LinearSVC\n",
      "Salvando as informações num JSON: relatorio_teste_beamforming_SNR_-1dB_semPCA_1582138786.109117.json\n",
      "Classificando com o  LinearSVC\n",
      "Salvando as informações num JSON: relatorio_teste_beamforming_SNR_-1dB_semPCA_1582138786.3186467.json\n",
      "Classificando com o  LinearSVC\n",
      "Salvando as informações num JSON: relatorio_teste_beamforming_SNR_-1dB_semPCA_1582138786.5291293.json\n",
      "Classificando com o  LinearSVC\n",
      "Salvando as informações num JSON: relatorio_teste_beamforming_SNR_-1dB_semPCA_1582138786.7401917.json\n",
      "Classificando com o  LinearSVC\n",
      "Salvando as informações num JSON: relatorio_teste_beamforming_SNR_-1dB_semPCA_1582138786.9520657.json\n",
      "Classificando com o  LinearSVC\n",
      "Salvando as informações num JSON: relatorio_teste_beamforming_SNR_-1dB_semPCA_1582138787.1702912.json\n",
      "Classificando com o  LinearSVC\n",
      "Salvando as informações num JSON: relatorio_teste_beamforming_SNR_-1dB_semPCA_1582138787.3804698.json\n",
      "Classificando com o  LinearSVC\n",
      "Salvando as informações num JSON: relatorio_teste_beamforming_SNR_-1dB_semPCA_1582138787.5914412.json\n",
      "Classificando com o  Perceptron\n",
      "Salvando as informações num JSON: relatorio_teste_beamforming_SNR_-1dB_semPCA_1582138787.800622.json\n",
      "Classificando com o  Perceptron\n",
      "Salvando as informações num JSON: relatorio_teste_beamforming_SNR_-1dB_semPCA_1582138788.0125926.json\n",
      "Classificando com o  Perceptron\n",
      "Salvando as informações num JSON: relatorio_teste_beamforming_SNR_-1dB_semPCA_1582138788.2278228.json\n",
      "Classificando com o  Perceptron\n",
      "Salvando as informações num JSON: relatorio_teste_beamforming_SNR_-1dB_semPCA_1582138788.4376872.json\n",
      "Classificando com o  Perceptron\n",
      "Salvando as informações num JSON: relatorio_teste_beamforming_SNR_-1dB_semPCA_1582138788.6463664.json\n",
      "Classificando com o  Perceptron\n",
      "Salvando as informações num JSON: relatorio_teste_beamforming_SNR_-1dB_semPCA_1582138788.856018.json\n",
      "Classificando com o  Perceptron\n",
      "Salvando as informações num JSON: relatorio_teste_beamforming_SNR_-1dB_semPCA_1582138789.0659983.json\n",
      "Classificando com o  Perceptron\n",
      "Salvando as informações num JSON: relatorio_teste_beamforming_SNR_-1dB_semPCA_1582138789.2757506.json\n",
      "Classificando com o  Perceptron\n",
      "Salvando as informações num JSON: relatorio_teste_beamforming_SNR_-1dB_semPCA_1582138789.4923792.json\n",
      "Classificando com o  Perceptron\n",
      "Salvando as informações num JSON: relatorio_teste_beamforming_SNR_-1dB_semPCA_1582138789.7001693.json\n",
      "O teste com todos os classificadores foi finalizado\n",
      "Classificando com o  SGDClassifier\n"
     ]
    },
    {
     "name": "stderr",
     "output_type": "stream",
     "text": [
      "/home/dimi/venvIC/lib/python3.7/site-packages/sklearn/metrics/classification.py:1437: UndefinedMetricWarning: Precision and F-score are ill-defined and being set to 0.0 in labels with no predicted samples.\n",
      "  'precision', 'predicted', average, warn_for)\n"
     ]
    },
    {
     "name": "stdout",
     "output_type": "stream",
     "text": [
      "Salvando as informações num JSON: relatorio_teste_semBeamforming_SNR_-1dB_semPCA_1582138789.9701455.json\n",
      "Classificando com o  SGDClassifier\n"
     ]
    },
    {
     "name": "stderr",
     "output_type": "stream",
     "text": [
      "/home/dimi/venvIC/lib/python3.7/site-packages/sklearn/metrics/classification.py:1437: UndefinedMetricWarning: Precision and F-score are ill-defined and being set to 0.0 in labels with no predicted samples.\n",
      "  'precision', 'predicted', average, warn_for)\n"
     ]
    },
    {
     "name": "stdout",
     "output_type": "stream",
     "text": [
      "Salvando as informações num JSON: relatorio_teste_semBeamforming_SNR_-1dB_semPCA_1582138790.1836176.json\n",
      "Classificando com o  SGDClassifier\n",
      "Salvando as informações num JSON: relatorio_teste_semBeamforming_SNR_-1dB_semPCA_1582138790.4011319.json\n",
      "Classificando com o  SGDClassifier\n"
     ]
    },
    {
     "name": "stderr",
     "output_type": "stream",
     "text": [
      "/home/dimi/venvIC/lib/python3.7/site-packages/sklearn/metrics/classification.py:1437: UndefinedMetricWarning: Precision and F-score are ill-defined and being set to 0.0 in labels with no predicted samples.\n",
      "  'precision', 'predicted', average, warn_for)\n"
     ]
    },
    {
     "name": "stdout",
     "output_type": "stream",
     "text": [
      "Salvando as informações num JSON: relatorio_teste_semBeamforming_SNR_-1dB_semPCA_1582138790.6188295.json\n",
      "Classificando com o  SGDClassifier\n"
     ]
    },
    {
     "name": "stderr",
     "output_type": "stream",
     "text": [
      "/home/dimi/venvIC/lib/python3.7/site-packages/sklearn/metrics/classification.py:1437: UndefinedMetricWarning: Precision and F-score are ill-defined and being set to 0.0 in labels with no predicted samples.\n",
      "  'precision', 'predicted', average, warn_for)\n"
     ]
    },
    {
     "name": "stdout",
     "output_type": "stream",
     "text": [
      "Salvando as informações num JSON: relatorio_teste_semBeamforming_SNR_-1dB_semPCA_1582138790.8318675.json\n",
      "Classificando com o  SGDClassifier\n"
     ]
    },
    {
     "name": "stderr",
     "output_type": "stream",
     "text": [
      "/home/dimi/venvIC/lib/python3.7/site-packages/sklearn/metrics/classification.py:1437: UndefinedMetricWarning: Precision and F-score are ill-defined and being set to 0.0 in labels with no predicted samples.\n",
      "  'precision', 'predicted', average, warn_for)\n"
     ]
    },
    {
     "name": "stdout",
     "output_type": "stream",
     "text": [
      "Salvando as informações num JSON: relatorio_teste_semBeamforming_SNR_-1dB_semPCA_1582138791.0516138.json\n",
      "Classificando com o  SGDClassifier\n",
      "Salvando as informações num JSON: relatorio_teste_semBeamforming_SNR_-1dB_semPCA_1582138791.2679808.json\n",
      "Classificando com o  SGDClassifier\n"
     ]
    },
    {
     "name": "stderr",
     "output_type": "stream",
     "text": [
      "/home/dimi/venvIC/lib/python3.7/site-packages/sklearn/metrics/classification.py:1437: UndefinedMetricWarning: Precision and F-score are ill-defined and being set to 0.0 in labels with no predicted samples.\n",
      "  'precision', 'predicted', average, warn_for)\n"
     ]
    },
    {
     "name": "stdout",
     "output_type": "stream",
     "text": [
      "Salvando as informações num JSON: relatorio_teste_semBeamforming_SNR_-1dB_semPCA_1582138791.4826157.json\n",
      "Classificando com o  SGDClassifier\n"
     ]
    },
    {
     "name": "stderr",
     "output_type": "stream",
     "text": [
      "/home/dimi/venvIC/lib/python3.7/site-packages/sklearn/metrics/classification.py:1437: UndefinedMetricWarning: Precision and F-score are ill-defined and being set to 0.0 in labels with no predicted samples.\n",
      "  'precision', 'predicted', average, warn_for)\n"
     ]
    },
    {
     "name": "stdout",
     "output_type": "stream",
     "text": [
      "Salvando as informações num JSON: relatorio_teste_semBeamforming_SNR_-1dB_semPCA_1582138791.699233.json\n",
      "Classificando com o  SGDClassifier\n"
     ]
    },
    {
     "name": "stderr",
     "output_type": "stream",
     "text": [
      "/home/dimi/venvIC/lib/python3.7/site-packages/sklearn/metrics/classification.py:1437: UndefinedMetricWarning: Precision and F-score are ill-defined and being set to 0.0 in labels with no predicted samples.\n",
      "  'precision', 'predicted', average, warn_for)\n"
     ]
    },
    {
     "name": "stdout",
     "output_type": "stream",
     "text": [
      "Salvando as informações num JSON: relatorio_teste_semBeamforming_SNR_-1dB_semPCA_1582138791.9093442.json\n",
      "Classificando com o  BaggingClassifier\n",
      "Salvando as informações num JSON: relatorio_teste_semBeamforming_SNR_-1dB_semPCA_1582138792.236541.json\n",
      "Classificando com o  BaggingClassifier\n",
      "Salvando as informações num JSON: relatorio_teste_semBeamforming_SNR_-1dB_semPCA_1582138792.5716457.json\n",
      "Classificando com o  BaggingClassifier\n"
     ]
    },
    {
     "name": "stderr",
     "output_type": "stream",
     "text": [
      "/home/dimi/venvIC/lib/python3.7/site-packages/sklearn/metrics/classification.py:1437: UndefinedMetricWarning: Precision and F-score are ill-defined and being set to 0.0 in labels with no predicted samples.\n",
      "  'precision', 'predicted', average, warn_for)\n"
     ]
    },
    {
     "name": "stdout",
     "output_type": "stream",
     "text": [
      "Salvando as informações num JSON: relatorio_teste_semBeamforming_SNR_-1dB_semPCA_1582138792.952531.json\n",
      "Classificando com o  BaggingClassifier\n",
      "Salvando as informações num JSON: relatorio_teste_semBeamforming_SNR_-1dB_semPCA_1582138793.3168905.json\n",
      "Classificando com o  BaggingClassifier\n",
      "Salvando as informações num JSON: relatorio_teste_semBeamforming_SNR_-1dB_semPCA_1582138793.652976.json\n",
      "Classificando com o  BaggingClassifier\n",
      "Salvando as informações num JSON: relatorio_teste_semBeamforming_SNR_-1dB_semPCA_1582138793.9745722.json\n",
      "Classificando com o  BaggingClassifier\n",
      "Salvando as informações num JSON: relatorio_teste_semBeamforming_SNR_-1dB_semPCA_1582138794.2993991.json\n",
      "Classificando com o  BaggingClassifier\n",
      "Salvando as informações num JSON: relatorio_teste_semBeamforming_SNR_-1dB_semPCA_1582138794.6269128.json\n",
      "Classificando com o  BaggingClassifier\n",
      "Salvando as informações num JSON: relatorio_teste_semBeamforming_SNR_-1dB_semPCA_1582138794.948313.json\n",
      "Classificando com o  BaggingClassifier\n",
      "Salvando as informações num JSON: relatorio_teste_semBeamforming_SNR_-1dB_semPCA_1582138795.2728348.json\n",
      "Classificando com o  KNeighborsClassifier\n",
      "Salvando as informações num JSON: relatorio_teste_semBeamforming_SNR_-1dB_semPCA_1582138797.181193.json\n",
      "Classificando com o  KNeighborsClassifier\n",
      "Salvando as informações num JSON: relatorio_teste_semBeamforming_SNR_-1dB_semPCA_1582138799.0612116.json\n",
      "Classificando com o  KNeighborsClassifier\n",
      "Salvando as informações num JSON: relatorio_teste_semBeamforming_SNR_-1dB_semPCA_1582138800.9311533.json\n",
      "Classificando com o  KNeighborsClassifier\n",
      "Salvando as informações num JSON: relatorio_teste_semBeamforming_SNR_-1dB_semPCA_1582138802.8175476.json\n",
      "Classificando com o  KNeighborsClassifier\n",
      "Salvando as informações num JSON: relatorio_teste_semBeamforming_SNR_-1dB_semPCA_1582138804.700468.json\n",
      "Classificando com o  KNeighborsClassifier\n",
      "Salvando as informações num JSON: relatorio_teste_semBeamforming_SNR_-1dB_semPCA_1582138806.6892898.json\n",
      "Classificando com o  KNeighborsClassifier\n",
      "Salvando as informações num JSON: relatorio_teste_semBeamforming_SNR_-1dB_semPCA_1582138808.6344447.json\n",
      "Classificando com o  KNeighborsClassifier\n",
      "Salvando as informações num JSON: relatorio_teste_semBeamforming_SNR_-1dB_semPCA_1582138810.5460021.json\n",
      "Classificando com o  KNeighborsClassifier\n",
      "Salvando as informações num JSON: relatorio_teste_semBeamforming_SNR_-1dB_semPCA_1582138812.4587758.json\n",
      "Classificando com o  KNeighborsClassifier\n",
      "Salvando as informações num JSON: relatorio_teste_semBeamforming_SNR_-1dB_semPCA_1582138814.3306105.json\n",
      "Classificando com o  LinearSVC\n",
      "Salvando as informações num JSON: relatorio_teste_semBeamforming_SNR_-1dB_semPCA_1582138814.5435534.json\n",
      "Classificando com o  LinearSVC\n",
      "Salvando as informações num JSON: relatorio_teste_semBeamforming_SNR_-1dB_semPCA_1582138814.7501404.json\n",
      "Classificando com o  LinearSVC\n",
      "Salvando as informações num JSON: relatorio_teste_semBeamforming_SNR_-1dB_semPCA_1582138814.9563124.json\n",
      "Classificando com o  LinearSVC\n",
      "Salvando as informações num JSON: relatorio_teste_semBeamforming_SNR_-1dB_semPCA_1582138815.1678739.json\n",
      "Classificando com o  LinearSVC\n",
      "Salvando as informações num JSON: relatorio_teste_semBeamforming_SNR_-1dB_semPCA_1582138815.3746927.json\n",
      "Classificando com o  LinearSVC\n",
      "Salvando as informações num JSON: relatorio_teste_semBeamforming_SNR_-1dB_semPCA_1582138815.5816667.json\n",
      "Classificando com o  LinearSVC\n",
      "Salvando as informações num JSON: relatorio_teste_semBeamforming_SNR_-1dB_semPCA_1582138815.788866.json\n",
      "Classificando com o  LinearSVC\n",
      "Salvando as informações num JSON: relatorio_teste_semBeamforming_SNR_-1dB_semPCA_1582138815.9977303.json\n",
      "Classificando com o  LinearSVC\n",
      "Salvando as informações num JSON: relatorio_teste_semBeamforming_SNR_-1dB_semPCA_1582138816.2062838.json\n",
      "Classificando com o  LinearSVC\n",
      "Salvando as informações num JSON: relatorio_teste_semBeamforming_SNR_-1dB_semPCA_1582138816.4187875.json\n",
      "Classificando com o  Perceptron\n",
      "Salvando as informações num JSON: relatorio_teste_semBeamforming_SNR_-1dB_semPCA_1582138816.628064.json\n",
      "Classificando com o  Perceptron\n",
      "Salvando as informações num JSON: relatorio_teste_semBeamforming_SNR_-1dB_semPCA_1582138816.8361294.json\n",
      "Classificando com o  Perceptron\n",
      "Salvando as informações num JSON: relatorio_teste_semBeamforming_SNR_-1dB_semPCA_1582138817.043071.json\n",
      "Classificando com o  Perceptron\n",
      "Salvando as informações num JSON: relatorio_teste_semBeamforming_SNR_-1dB_semPCA_1582138817.2540638.json\n",
      "Classificando com o  Perceptron\n",
      "Salvando as informações num JSON: relatorio_teste_semBeamforming_SNR_-1dB_semPCA_1582138817.463012.json\n",
      "Classificando com o  Perceptron\n",
      "Salvando as informações num JSON: relatorio_teste_semBeamforming_SNR_-1dB_semPCA_1582138817.6702917.json\n",
      "Classificando com o  Perceptron\n",
      "Salvando as informações num JSON: relatorio_teste_semBeamforming_SNR_-1dB_semPCA_1582138817.8862493.json\n",
      "Classificando com o  Perceptron\n",
      "Salvando as informações num JSON: relatorio_teste_semBeamforming_SNR_-1dB_semPCA_1582138818.095946.json\n",
      "Classificando com o  Perceptron\n",
      "Salvando as informações num JSON: relatorio_teste_semBeamforming_SNR_-1dB_semPCA_1582138818.3050456.json\n",
      "Classificando com o  Perceptron\n",
      "Salvando as informações num JSON: relatorio_teste_semBeamforming_SNR_-1dB_semPCA_1582138818.5139883.json\n",
      "O teste com todos os classificadores foi finalizado\n",
      "Classificando com o  SGDClassifier\n"
     ]
    },
    {
     "name": "stderr",
     "output_type": "stream",
     "text": [
      "/home/dimi/venvIC/lib/python3.7/site-packages/sklearn/metrics/classification.py:1437: UndefinedMetricWarning: Precision and F-score are ill-defined and being set to 0.0 in labels with no predicted samples.\n",
      "  'precision', 'predicted', average, warn_for)\n"
     ]
    },
    {
     "name": "stdout",
     "output_type": "stream",
     "text": [
      "Salvando as informações num JSON: relatorio_teste_GSC_SNR_-1dB_semPCA_1582138818.7853622.json\n",
      "Classificando com o  SGDClassifier\n",
      "Salvando as informações num JSON: relatorio_teste_GSC_SNR_-1dB_semPCA_1582138819.0081584.json\n",
      "Classificando com o  SGDClassifier\n"
     ]
    },
    {
     "name": "stderr",
     "output_type": "stream",
     "text": [
      "/home/dimi/venvIC/lib/python3.7/site-packages/sklearn/metrics/classification.py:1437: UndefinedMetricWarning: Precision and F-score are ill-defined and being set to 0.0 in labels with no predicted samples.\n",
      "  'precision', 'predicted', average, warn_for)\n"
     ]
    },
    {
     "name": "stdout",
     "output_type": "stream",
     "text": [
      "Salvando as informações num JSON: relatorio_teste_GSC_SNR_-1dB_semPCA_1582138819.2197356.json\n",
      "Classificando com o  SGDClassifier\n",
      "Salvando as informações num JSON: relatorio_teste_GSC_SNR_-1dB_semPCA_1582138819.4383888.json\n",
      "Classificando com o  SGDClassifier\n",
      "Salvando as informações num JSON: relatorio_teste_GSC_SNR_-1dB_semPCA_1582138819.643165.json\n",
      "Classificando com o  SGDClassifier\n"
     ]
    },
    {
     "name": "stderr",
     "output_type": "stream",
     "text": [
      "/home/dimi/venvIC/lib/python3.7/site-packages/sklearn/metrics/classification.py:1437: UndefinedMetricWarning: Precision and F-score are ill-defined and being set to 0.0 in labels with no predicted samples.\n",
      "  'precision', 'predicted', average, warn_for)\n"
     ]
    },
    {
     "name": "stdout",
     "output_type": "stream",
     "text": [
      "Salvando as informações num JSON: relatorio_teste_GSC_SNR_-1dB_semPCA_1582138819.849739.json\n",
      "Classificando com o  SGDClassifier\n"
     ]
    },
    {
     "name": "stderr",
     "output_type": "stream",
     "text": [
      "/home/dimi/venvIC/lib/python3.7/site-packages/sklearn/metrics/classification.py:1437: UndefinedMetricWarning: Precision and F-score are ill-defined and being set to 0.0 in labels with no predicted samples.\n",
      "  'precision', 'predicted', average, warn_for)\n"
     ]
    },
    {
     "name": "stdout",
     "output_type": "stream",
     "text": [
      "Salvando as informações num JSON: relatorio_teste_GSC_SNR_-1dB_semPCA_1582138820.0591483.json\n",
      "Classificando com o  SGDClassifier\n"
     ]
    },
    {
     "name": "stderr",
     "output_type": "stream",
     "text": [
      "/home/dimi/venvIC/lib/python3.7/site-packages/sklearn/metrics/classification.py:1437: UndefinedMetricWarning: Precision and F-score are ill-defined and being set to 0.0 in labels with no predicted samples.\n",
      "  'precision', 'predicted', average, warn_for)\n"
     ]
    },
    {
     "name": "stdout",
     "output_type": "stream",
     "text": [
      "Salvando as informações num JSON: relatorio_teste_GSC_SNR_-1dB_semPCA_1582138820.2644222.json\n",
      "Classificando com o  SGDClassifier\n"
     ]
    },
    {
     "name": "stderr",
     "output_type": "stream",
     "text": [
      "/home/dimi/venvIC/lib/python3.7/site-packages/sklearn/metrics/classification.py:1437: UndefinedMetricWarning: Precision and F-score are ill-defined and being set to 0.0 in labels with no predicted samples.\n",
      "  'precision', 'predicted', average, warn_for)\n"
     ]
    },
    {
     "name": "stdout",
     "output_type": "stream",
     "text": [
      "Salvando as informações num JSON: relatorio_teste_GSC_SNR_-1dB_semPCA_1582138820.4753354.json\n",
      "Classificando com o  SGDClassifier\n"
     ]
    },
    {
     "name": "stderr",
     "output_type": "stream",
     "text": [
      "/home/dimi/venvIC/lib/python3.7/site-packages/sklearn/metrics/classification.py:1437: UndefinedMetricWarning: Precision and F-score are ill-defined and being set to 0.0 in labels with no predicted samples.\n",
      "  'precision', 'predicted', average, warn_for)\n"
     ]
    },
    {
     "name": "stdout",
     "output_type": "stream",
     "text": [
      "Salvando as informações num JSON: relatorio_teste_GSC_SNR_-1dB_semPCA_1582138820.684805.json\n",
      "Classificando com o  BaggingClassifier\n",
      "Salvando as informações num JSON: relatorio_teste_GSC_SNR_-1dB_semPCA_1582138821.0121026.json\n",
      "Classificando com o  BaggingClassifier\n",
      "Salvando as informações num JSON: relatorio_teste_GSC_SNR_-1dB_semPCA_1582138821.334871.json\n",
      "Classificando com o  BaggingClassifier\n",
      "Salvando as informações num JSON: relatorio_teste_GSC_SNR_-1dB_semPCA_1582138821.6586938.json\n",
      "Classificando com o  BaggingClassifier\n",
      "Salvando as informações num JSON: relatorio_teste_GSC_SNR_-1dB_semPCA_1582138821.986381.json\n",
      "Classificando com o  BaggingClassifier\n",
      "Salvando as informações num JSON: relatorio_teste_GSC_SNR_-1dB_semPCA_1582138822.3164265.json\n",
      "Classificando com o  BaggingClassifier\n",
      "Salvando as informações num JSON: relatorio_teste_GSC_SNR_-1dB_semPCA_1582138822.6435816.json\n",
      "Classificando com o  BaggingClassifier\n",
      "Salvando as informações num JSON: relatorio_teste_GSC_SNR_-1dB_semPCA_1582138822.9700928.json\n",
      "Classificando com o  BaggingClassifier\n",
      "Salvando as informações num JSON: relatorio_teste_GSC_SNR_-1dB_semPCA_1582138823.3066995.json\n",
      "Classificando com o  BaggingClassifier\n",
      "Salvando as informações num JSON: relatorio_teste_GSC_SNR_-1dB_semPCA_1582138823.6479554.json\n",
      "Classificando com o  BaggingClassifier\n",
      "Salvando as informações num JSON: relatorio_teste_GSC_SNR_-1dB_semPCA_1582138823.9749334.json\n",
      "Classificando com o  KNeighborsClassifier\n",
      "Salvando as informações num JSON: relatorio_teste_GSC_SNR_-1dB_semPCA_1582138825.8845057.json\n",
      "Classificando com o  KNeighborsClassifier\n",
      "Salvando as informações num JSON: relatorio_teste_GSC_SNR_-1dB_semPCA_1582138827.8004086.json\n",
      "Classificando com o  KNeighborsClassifier\n",
      "Salvando as informações num JSON: relatorio_teste_GSC_SNR_-1dB_semPCA_1582138829.718372.json\n",
      "Classificando com o  KNeighborsClassifier\n",
      "Salvando as informações num JSON: relatorio_teste_GSC_SNR_-1dB_semPCA_1582138831.6790943.json\n",
      "Classificando com o  KNeighborsClassifier\n",
      "Salvando as informações num JSON: relatorio_teste_GSC_SNR_-1dB_semPCA_1582138833.5197027.json\n",
      "Classificando com o  KNeighborsClassifier\n",
      "Salvando as informações num JSON: relatorio_teste_GSC_SNR_-1dB_semPCA_1582138835.4301972.json\n",
      "Classificando com o  KNeighborsClassifier\n",
      "Salvando as informações num JSON: relatorio_teste_GSC_SNR_-1dB_semPCA_1582138837.2743227.json\n",
      "Classificando com o  KNeighborsClassifier\n",
      "Salvando as informações num JSON: relatorio_teste_GSC_SNR_-1dB_semPCA_1582138839.1723332.json\n",
      "Classificando com o  KNeighborsClassifier\n",
      "Salvando as informações num JSON: relatorio_teste_GSC_SNR_-1dB_semPCA_1582138841.0675652.json\n",
      "Classificando com o  KNeighborsClassifier\n",
      "Salvando as informações num JSON: relatorio_teste_GSC_SNR_-1dB_semPCA_1582138842.925529.json\n",
      "Classificando com o  LinearSVC\n",
      "Salvando as informações num JSON: relatorio_teste_GSC_SNR_-1dB_semPCA_1582138843.1322367.json\n",
      "Classificando com o  LinearSVC\n",
      "Salvando as informações num JSON: relatorio_teste_GSC_SNR_-1dB_semPCA_1582138843.3405328.json\n",
      "Classificando com o  LinearSVC\n",
      "Salvando as informações num JSON: relatorio_teste_GSC_SNR_-1dB_semPCA_1582138843.5494213.json\n",
      "Classificando com o  LinearSVC\n",
      "Salvando as informações num JSON: relatorio_teste_GSC_SNR_-1dB_semPCA_1582138843.7554688.json\n",
      "Classificando com o  LinearSVC\n",
      "Salvando as informações num JSON: relatorio_teste_GSC_SNR_-1dB_semPCA_1582138843.9641228.json\n",
      "Classificando com o  LinearSVC\n",
      "Salvando as informações num JSON: relatorio_teste_GSC_SNR_-1dB_semPCA_1582138844.1796765.json\n",
      "Classificando com o  LinearSVC\n",
      "Salvando as informações num JSON: relatorio_teste_GSC_SNR_-1dB_semPCA_1582138844.4021022.json\n",
      "Classificando com o  LinearSVC\n",
      "Salvando as informações num JSON: relatorio_teste_GSC_SNR_-1dB_semPCA_1582138844.609011.json\n",
      "Classificando com o  LinearSVC\n",
      "Salvando as informações num JSON: relatorio_teste_GSC_SNR_-1dB_semPCA_1582138844.8170736.json\n",
      "Classificando com o  LinearSVC\n",
      "Salvando as informações num JSON: relatorio_teste_GSC_SNR_-1dB_semPCA_1582138845.0283718.json\n",
      "Classificando com o  Perceptron\n",
      "Salvando as informações num JSON: relatorio_teste_GSC_SNR_-1dB_semPCA_1582138845.2364187.json\n",
      "Classificando com o  Perceptron\n",
      "Salvando as informações num JSON: relatorio_teste_GSC_SNR_-1dB_semPCA_1582138845.4450235.json\n",
      "Classificando com o  Perceptron\n",
      "Salvando as informações num JSON: relatorio_teste_GSC_SNR_-1dB_semPCA_1582138845.656622.json\n",
      "Classificando com o  Perceptron\n",
      "Salvando as informações num JSON: relatorio_teste_GSC_SNR_-1dB_semPCA_1582138845.8652153.json\n",
      "Classificando com o  Perceptron\n",
      "Salvando as informações num JSON: relatorio_teste_GSC_SNR_-1dB_semPCA_1582138846.0747604.json\n",
      "Classificando com o  Perceptron\n",
      "Salvando as informações num JSON: relatorio_teste_GSC_SNR_-1dB_semPCA_1582138846.2845693.json\n",
      "Classificando com o  Perceptron\n",
      "Salvando as informações num JSON: relatorio_teste_GSC_SNR_-1dB_semPCA_1582138846.4943266.json\n",
      "Classificando com o  Perceptron\n",
      "Salvando as informações num JSON: relatorio_teste_GSC_SNR_-1dB_semPCA_1582138846.7013342.json\n",
      "Classificando com o  Perceptron\n",
      "Salvando as informações num JSON: relatorio_teste_GSC_SNR_-1dB_semPCA_1582138846.9100277.json\n",
      "Classificando com o  Perceptron\n",
      "Salvando as informações num JSON: relatorio_teste_GSC_SNR_-1dB_semPCA_1582138847.1171324.json\n",
      "O teste com todos os classificadores foi finalizado\n"
     ]
    }
   ],
   "source": [
    "diretorioOrigemCSVsTeste = \"/home/dimi/Programming/IC2019/ML/datasets/SESA/SESA_Normalizado/outros/\"\n",
    "pastasSNRsDesejadas = np.arange(-10, 0)\n",
    "\n",
    "# VOU PASSAR POR CADA COISA QUE TIVER DENTRO DO DIRETORIO DE ORIGEM\n",
    "for diretorioSNRAtual in os.listdir(diretorioOrigemCSVsTeste):\n",
    "\n",
    "    # SE FOR PASTA, EU PROSSIGO COM O ALGORITMO\n",
    "    if os.path.isdir(diretorioOrigemCSVsTeste + diretorioSNRAtual) == True:\n",
    "        \n",
    "        # QUERO FAZER O TESTE SO COM AS SEGUINTES SNRS\n",
    "        if int(diretorioSNRAtual.split(\"_\")[1][:-2]) in pastasSNRsDesejadas:\n",
    "        \n",
    "            # PEGO OS CSVs QUE ESTAO DENTRO DA PASTA\n",
    "            arquivosCSV = [filename for filename in os.listdir(diretorioOrigemCSVsTeste + diretorioSNRAtual) if filename.endswith(\".csv\")]\n",
    "\n",
    "            # PARA CADA CSV\n",
    "            for csvAtual in arquivosCSV:\n",
    "\n",
    "                # SETO OS PARAMETROS INICIAIS PARA A ETAPE DE TESTE\n",
    "                diretorioSalvarRelatorio = diretorioOrigemCSVsTeste + diretorioSNRAtual + \"/\"\n",
    "                nomeDatasetTeste         = csvAtual[0:-4] #tenho que tirar o \".csv\" do nome\n",
    "                caminhoCSVTeste          = diretorioSalvarRelatorio + nomeDatasetTeste + '.csv'\n",
    "                dataframeTeste           = pd.read_csv(caminhoCSVTeste)\n",
    "\n",
    "                # RODO O ALGORITMO DE TESTE\n",
    "                objTreinarEClassificar.classificarDataframe(dataframeTeste, arrayObjClassificadores, diretorioSalvarRelatorio, nomeDatasetTeste)"
   ]
  },
  {
   "cell_type": "code",
   "execution_count": null,
   "metadata": {},
   "outputs": [],
   "source": []
  },
  {
   "cell_type": "code",
   "execution_count": null,
   "metadata": {},
   "outputs": [],
   "source": []
  },
  {
   "cell_type": "code",
   "execution_count": null,
   "metadata": {},
   "outputs": [],
   "source": []
  },
  {
   "cell_type": "code",
   "execution_count": null,
   "metadata": {},
   "outputs": [],
   "source": []
  },
  {
   "cell_type": "code",
   "execution_count": null,
   "metadata": {},
   "outputs": [],
   "source": []
  },
  {
   "cell_type": "code",
   "execution_count": null,
   "metadata": {},
   "outputs": [],
   "source": []
  },
  {
   "cell_type": "code",
   "execution_count": null,
   "metadata": {},
   "outputs": [],
   "source": []
  },
  {
   "cell_type": "code",
   "execution_count": null,
   "metadata": {},
   "outputs": [],
   "source": []
  },
  {
   "cell_type": "markdown",
   "metadata": {},
   "source": [
    "# ABRINDO O CSV QUE EU DESEJO CLASSIFICAR - DATASET DE TESTE \n",
    "diretorio         = '/home/dimi/Programming/IC2019/ML/datasets/SESA/SESA_Normalizado/test/'\n",
    "nomeDatasetTeste  = 'teste_normalizado_semPCA'\n",
    "caminhoCSVTeste   = diretorio + nomeDatasetTeste + '.csv'\n",
    "dataframeTeste    = pd.read_csv(caminhoCSVTeste)\n",
    "\n",
    "# CLASSIFICANDO O DATAFRAME DE TESTE\n",
    "# essa linha so se for pra salvar o relatorio objTreinarEClassificar.classificarDataframe(dataframeTeste, arrayObjClassificadores, diretorio, nomeDatasetTeste, verbose=False)\n",
    "objTreinarEClassificar.classificarDataframe(dataframeTeste, arrayObjClassificadores)\n",
    "\n",
    "# PRINTANDO RESULTADO\n",
    "print(objTreinarEClassificar.arrayAcuracias)"
   ]
  },
  {
   "cell_type": "code",
   "execution_count": null,
   "metadata": {},
   "outputs": [],
   "source": []
  }
 ],
 "metadata": {
  "kernelspec": {
   "display_name": "Python 3",
   "language": "python",
   "name": "python3"
  },
  "language_info": {
   "codemirror_mode": {
    "name": "ipython",
    "version": 3
   },
   "file_extension": ".py",
   "mimetype": "text/x-python",
   "name": "python",
   "nbconvert_exporter": "python",
   "pygments_lexer": "ipython3",
   "version": "3.7.3"
  }
 },
 "nbformat": 4,
 "nbformat_minor": 2
}
