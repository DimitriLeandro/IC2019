{
 "cells": [
  {
   "cell_type": "markdown",
   "metadata": {},
   "source": [
    "# Testando a classe de treinamento e teste de classificadores"
   ]
  },
  {
   "cell_type": "markdown",
   "metadata": {},
   "source": [
    "Esse jupyter tem como objetivo testar a classe \"treinarEClassificarClass.py\" que foi totalmente implementada no jupyter \"Implementacao de classe para treinamento e classificacao de CSVs\".\n",
    "\n",
    "Para usar a classe:\n",
    "\n",
    "1) Crie o caminho para o CSV de TREINAMENTO e abra-o como um pandas dataframe;\n",
    "\n",
    "2) Utilizando o dataframe de treinamento aberto, crie e treine os classificadores desejados;\n",
    "\n",
    "3) Crie o caminho para o CSV de TESTE, setando as váriaveis diretorio e nomeDataset;\n",
    "\n",
    "4) Classifique o dataset de TESTE aberto, especificando onde o JSON do relátorio deve ser salvo\n",
    "\n",
    "Os passos 3 e 4 podem ser repetidos caso se deseje classificar vários datasets de TESTE."
   ]
  },
  {
   "cell_type": "code",
   "execution_count": 1,
   "metadata": {},
   "outputs": [],
   "source": [
    "import pandas as pd\n",
    "import os\n",
    "import numpy as np"
   ]
  },
  {
   "cell_type": "code",
   "execution_count": 2,
   "metadata": {},
   "outputs": [],
   "source": [
    "import sys\n",
    "sys.path.append('/home/dimi/Programming/IC2019/ML/python')\n",
    "from treinarEClassificarClass import TreinarEClassificar"
   ]
  },
  {
   "cell_type": "markdown",
   "metadata": {},
   "source": [
    "### TREINO"
   ]
  },
  {
   "cell_type": "code",
   "execution_count": 3,
   "metadata": {
    "scrolled": false
   },
   "outputs": [
    {
     "name": "stdout",
     "output_type": "stream",
     "text": [
      "Começando o treinamento dos classificadores\n",
      "Instanciando o 1º objeto da classe SVC(C=1, cache_size=200, class_weight=None, coef0=0.0, decision_function_shape='ovo', degree=3, gamma='auto_deprecated', kernel='rbf', max_iter=-1, probability=False, random_state=None, shrinking=True, tol=0.001, verbose=False)\n",
      "Instanciando o 2º objeto da classe SVC(C=1, cache_size=200, class_weight=None, coef0=0.0, decision_function_shape='ovo', degree=3, gamma='auto_deprecated', kernel='rbf', max_iter=-1, probability=False, random_state=None, shrinking=True, tol=0.001, verbose=False)\n",
      "Instanciando o 3º objeto da classe SVC(C=1, cache_size=200, class_weight=None, coef0=0.0, decision_function_shape='ovo', degree=3, gamma='auto_deprecated', kernel='rbf', max_iter=-1, probability=False, random_state=None, shrinking=True, tol=0.001, verbose=False)\n",
      "Instanciando o 4º objeto da classe SVC(C=1, cache_size=200, class_weight=None, coef0=0.0, decision_function_shape='ovo', degree=3, gamma='auto_deprecated', kernel='rbf', max_iter=-1, probability=False, random_state=None, shrinking=True, tol=0.001, verbose=False)\n",
      "Instanciando o 5º objeto da classe SVC(C=1, cache_size=200, class_weight=None, coef0=0.0, decision_function_shape='ovo', degree=3, gamma='auto_deprecated', kernel='rbf', max_iter=-1, probability=False, random_state=None, shrinking=True, tol=0.001, verbose=False)\n",
      "Instanciando o 6º objeto da classe SVC(C=1, cache_size=200, class_weight=None, coef0=0.0, decision_function_shape='ovo', degree=3, gamma='auto_deprecated', kernel='rbf', max_iter=-1, probability=False, random_state=None, shrinking=True, tol=0.001, verbose=False)\n",
      "Instanciando o 7º objeto da classe SVC(C=1, cache_size=200, class_weight=None, coef0=0.0, decision_function_shape='ovo', degree=3, gamma='auto_deprecated', kernel='rbf', max_iter=-1, probability=False, random_state=None, shrinking=True, tol=0.001, verbose=False)\n",
      "Instanciando o 8º objeto da classe SVC(C=1, cache_size=200, class_weight=None, coef0=0.0, decision_function_shape='ovo', degree=3, gamma='auto_deprecated', kernel='rbf', max_iter=-1, probability=False, random_state=None, shrinking=True, tol=0.001, verbose=False)\n",
      "Instanciando o 9º objeto da classe SVC(C=1, cache_size=200, class_weight=None, coef0=0.0, decision_function_shape='ovo', degree=3, gamma='auto_deprecated', kernel='rbf', max_iter=-1, probability=False, random_state=None, shrinking=True, tol=0.001, verbose=False)\n",
      "Instanciando o 10º objeto da classe SVC(C=1, cache_size=200, class_weight=None, coef0=0.0, decision_function_shape='ovo', degree=3, gamma='auto_deprecated', kernel='rbf', max_iter=-1, probability=False, random_state=None, shrinking=True, tol=0.001, verbose=False)\n",
      "Instanciando o 1º objeto da classe LinearDiscriminantAnalysis(n_components=None, priors=None, shrinkage=None, solver='svd', store_covariance=True, tol=1e-05)\n",
      "Instanciando o 2º objeto da classe LinearDiscriminantAnalysis(n_components=None, priors=None, shrinkage=None, solver='svd', store_covariance=True, tol=1e-05)\n",
      "Instanciando o 3º objeto da classe LinearDiscriminantAnalysis(n_components=None, priors=None, shrinkage=None, solver='svd', store_covariance=True, tol=1e-05)\n",
      "Instanciando o 4º objeto da classe LinearDiscriminantAnalysis(n_components=None, priors=None, shrinkage=None, solver='svd', store_covariance=True, tol=1e-05)\n",
      "Instanciando o 5º objeto da classe LinearDiscriminantAnalysis(n_components=None, priors=None, shrinkage=None, solver='svd', store_covariance=True, tol=1e-05)\n",
      "Instanciando o 6º objeto da classe LinearDiscriminantAnalysis(n_components=None, priors=None, shrinkage=None, solver='svd', store_covariance=True, tol=1e-05)\n",
      "Instanciando o 7º objeto da classe LinearDiscriminantAnalysis(n_components=None, priors=None, shrinkage=None, solver='svd', store_covariance=True, tol=1e-05)\n",
      "Instanciando o 8º objeto da classe LinearDiscriminantAnalysis(n_components=None, priors=None, shrinkage=None, solver='svd', store_covariance=True, tol=1e-05)\n",
      "Instanciando o 9º objeto da classe LinearDiscriminantAnalysis(n_components=None, priors=None, shrinkage=None, solver='svd', store_covariance=True, tol=1e-05)\n",
      "Instanciando o 10º objeto da classe LinearDiscriminantAnalysis(n_components=None, priors=None, shrinkage=None, solver='svd', store_covariance=True, tol=1e-05)\n"
     ]
    },
    {
     "name": "stderr",
     "output_type": "stream",
     "text": [
      "/home/dimi/venvIC/lib/python3.7/site-packages/sklearn/svm/base.py:193: FutureWarning: The default value of gamma will change from 'auto' to 'scale' in version 0.22 to account better for unscaled features. Set gamma explicitly to 'auto' or 'scale' to avoid this warning.\n",
      "  \"avoid this warning.\", FutureWarning)\n"
     ]
    },
    {
     "name": "stdout",
     "output_type": "stream",
     "text": [
      "Tempo de treinamento do SVC (segundos): 1.6119508743286133\n"
     ]
    },
    {
     "name": "stderr",
     "output_type": "stream",
     "text": [
      "/home/dimi/venvIC/lib/python3.7/site-packages/sklearn/svm/base.py:193: FutureWarning: The default value of gamma will change from 'auto' to 'scale' in version 0.22 to account better for unscaled features. Set gamma explicitly to 'auto' or 'scale' to avoid this warning.\n",
      "  \"avoid this warning.\", FutureWarning)\n"
     ]
    },
    {
     "name": "stdout",
     "output_type": "stream",
     "text": [
      "Tempo de treinamento do SVC (segundos): 1.7361373901367188\n"
     ]
    },
    {
     "name": "stderr",
     "output_type": "stream",
     "text": [
      "/home/dimi/venvIC/lib/python3.7/site-packages/sklearn/svm/base.py:193: FutureWarning: The default value of gamma will change from 'auto' to 'scale' in version 0.22 to account better for unscaled features. Set gamma explicitly to 'auto' or 'scale' to avoid this warning.\n",
      "  \"avoid this warning.\", FutureWarning)\n"
     ]
    },
    {
     "name": "stdout",
     "output_type": "stream",
     "text": [
      "Tempo de treinamento do SVC (segundos): 1.4016156196594238\n"
     ]
    },
    {
     "name": "stderr",
     "output_type": "stream",
     "text": [
      "/home/dimi/venvIC/lib/python3.7/site-packages/sklearn/svm/base.py:193: FutureWarning: The default value of gamma will change from 'auto' to 'scale' in version 0.22 to account better for unscaled features. Set gamma explicitly to 'auto' or 'scale' to avoid this warning.\n",
      "  \"avoid this warning.\", FutureWarning)\n"
     ]
    },
    {
     "name": "stdout",
     "output_type": "stream",
     "text": [
      "Tempo de treinamento do SVC (segundos): 1.5044963359832764\n"
     ]
    },
    {
     "name": "stderr",
     "output_type": "stream",
     "text": [
      "/home/dimi/venvIC/lib/python3.7/site-packages/sklearn/svm/base.py:193: FutureWarning: The default value of gamma will change from 'auto' to 'scale' in version 0.22 to account better for unscaled features. Set gamma explicitly to 'auto' or 'scale' to avoid this warning.\n",
      "  \"avoid this warning.\", FutureWarning)\n"
     ]
    },
    {
     "name": "stdout",
     "output_type": "stream",
     "text": [
      "Tempo de treinamento do SVC (segundos): 1.5703802108764648\n"
     ]
    },
    {
     "name": "stderr",
     "output_type": "stream",
     "text": [
      "/home/dimi/venvIC/lib/python3.7/site-packages/sklearn/svm/base.py:193: FutureWarning: The default value of gamma will change from 'auto' to 'scale' in version 0.22 to account better for unscaled features. Set gamma explicitly to 'auto' or 'scale' to avoid this warning.\n",
      "  \"avoid this warning.\", FutureWarning)\n"
     ]
    },
    {
     "name": "stdout",
     "output_type": "stream",
     "text": [
      "Tempo de treinamento do SVC (segundos): 1.5419564247131348\n"
     ]
    },
    {
     "name": "stderr",
     "output_type": "stream",
     "text": [
      "/home/dimi/venvIC/lib/python3.7/site-packages/sklearn/svm/base.py:193: FutureWarning: The default value of gamma will change from 'auto' to 'scale' in version 0.22 to account better for unscaled features. Set gamma explicitly to 'auto' or 'scale' to avoid this warning.\n",
      "  \"avoid this warning.\", FutureWarning)\n"
     ]
    },
    {
     "name": "stdout",
     "output_type": "stream",
     "text": [
      "Tempo de treinamento do SVC (segundos): 1.421799898147583\n"
     ]
    },
    {
     "name": "stderr",
     "output_type": "stream",
     "text": [
      "/home/dimi/venvIC/lib/python3.7/site-packages/sklearn/svm/base.py:193: FutureWarning: The default value of gamma will change from 'auto' to 'scale' in version 0.22 to account better for unscaled features. Set gamma explicitly to 'auto' or 'scale' to avoid this warning.\n",
      "  \"avoid this warning.\", FutureWarning)\n"
     ]
    },
    {
     "name": "stdout",
     "output_type": "stream",
     "text": [
      "Tempo de treinamento do SVC (segundos): 1.483964443206787\n"
     ]
    },
    {
     "name": "stderr",
     "output_type": "stream",
     "text": [
      "/home/dimi/venvIC/lib/python3.7/site-packages/sklearn/svm/base.py:193: FutureWarning: The default value of gamma will change from 'auto' to 'scale' in version 0.22 to account better for unscaled features. Set gamma explicitly to 'auto' or 'scale' to avoid this warning.\n",
      "  \"avoid this warning.\", FutureWarning)\n"
     ]
    },
    {
     "name": "stdout",
     "output_type": "stream",
     "text": [
      "Tempo de treinamento do SVC (segundos): 1.4345676898956299\n"
     ]
    },
    {
     "name": "stderr",
     "output_type": "stream",
     "text": [
      "/home/dimi/venvIC/lib/python3.7/site-packages/sklearn/svm/base.py:193: FutureWarning: The default value of gamma will change from 'auto' to 'scale' in version 0.22 to account better for unscaled features. Set gamma explicitly to 'auto' or 'scale' to avoid this warning.\n",
      "  \"avoid this warning.\", FutureWarning)\n"
     ]
    },
    {
     "name": "stdout",
     "output_type": "stream",
     "text": [
      "Tempo de treinamento do SVC (segundos): 1.431410551071167\n",
      "Tempo de treinamento do LinearDiscriminantAnalysis (segundos): 0.1523292064666748\n",
      "Tempo de treinamento do LinearDiscriminantAnalysis (segundos): 0.4006950855255127\n",
      "Tempo de treinamento do LinearDiscriminantAnalysis (segundos): 0.14398479461669922\n",
      "Tempo de treinamento do LinearDiscriminantAnalysis (segundos): 0.14586186408996582\n",
      "Tempo de treinamento do LinearDiscriminantAnalysis (segundos): 0.16527700424194336\n",
      "Tempo de treinamento do LinearDiscriminantAnalysis (segundos): 0.16142559051513672\n",
      "Tempo de treinamento do LinearDiscriminantAnalysis (segundos): 0.15044641494750977\n",
      "Tempo de treinamento do LinearDiscriminantAnalysis (segundos): 0.2199397087097168\n",
      "Tempo de treinamento do LinearDiscriminantAnalysis (segundos): 0.14884352684020996\n",
      "Tempo de treinamento do LinearDiscriminantAnalysis (segundos): 0.1534740924835205\n",
      "Classificadores treinados\n"
     ]
    }
   ],
   "source": [
    "objTreinarEClassificar = TreinarEClassificar()\n",
    "\n",
    "# ABRINDO O CSV DE TREINO COM PANDAS\n",
    "caminhoCSVTreino = '/home/dimi/Programming/IC2019/ML/datasets/SESA/SESA_Normalizado/train/treino_normalizado_semPCA.csv'\n",
    "dataframeTreino = pd.read_csv(caminhoCSVTreino) \n",
    "\n",
    "# CRIANDO E TREINANDO OS CLASIFICADORES\n",
    "arrayStringsClassificadores = [\n",
    "    #\"KNeighborsClassifier(algorithm='auto', leaf_size=30, metric='manhattan', metric_params=None, n_jobs=None, n_neighbors=7, p=2, weights='distance')\",\n",
    "    #\"SGDClassifier(alpha=0.0001, average=False, class_weight=None, early_stopping=False, epsilon=0.1, eta0=0.0, fit_intercept=True, l1_ratio=0.15, learning_rate='optimal', loss='log', max_iter=1000, n_iter_no_change=5, n_jobs=None, penalty='l2', power_t=0.5, random_state=None, shuffle=True, tol=0.0001, validation_fraction=0.1, verbose=0, warm_start=False)\",\n",
    "    #\"Perceptron(alpha=1e-05, class_weight=None, early_stopping=False, eta0=1.0, fit_intercept=True, max_iter=1000, n_iter_no_change=5, n_jobs=None, penalty='l2', random_state=0, shuffle=True, tol=0.01, validation_fraction=0.1, verbose=0, warm_start=False)\", \n",
    "    \"SVC(C=1, cache_size=200, class_weight=None, coef0=0.0, decision_function_shape='ovo', degree=3, gamma='auto_deprecated', kernel='rbf', max_iter=-1, probability=False, random_state=None, shrinking=True, tol=0.001, verbose=False)\", \n",
    "    \"LinearDiscriminantAnalysis(n_components=None, priors=None, shrinkage=None, solver='svd', store_covariance=True, tol=1e-05)\"\n",
    "]\n",
    "\n",
    "arrayObjClassificadores = objTreinarEClassificar.criarETreinarClassificadores(dataframeTreino, arrayStringsClassificadores, kCrossValidation=10, percentual=0.75, verbose=True)"
   ]
  },
  {
   "cell_type": "markdown",
   "metadata": {},
   "source": [
    "### TESTES"
   ]
  },
  {
   "cell_type": "code",
   "execution_count": 4,
   "metadata": {},
   "outputs": [
    {
     "name": "stdout",
     "output_type": "stream",
     "text": [
      "Classificando com o  SVC\n",
      "Salvando as informações num JSON: relatorio_teste_beamforming_SNR_24dB_semPCA_1585102011.0141907.json\n",
      "Classificando com o  SVC\n",
      "Salvando as informações num JSON: relatorio_teste_beamforming_SNR_24dB_semPCA_1585102011.794258.json\n",
      "Classificando com o  SVC\n",
      "Salvando as informações num JSON: relatorio_teste_beamforming_SNR_24dB_semPCA_1585102012.5521178.json\n",
      "Classificando com o  SVC\n",
      "Salvando as informações num JSON: relatorio_teste_beamforming_SNR_24dB_semPCA_1585102013.333736.json\n",
      "Classificando com o  SVC\n",
      "Salvando as informações num JSON: relatorio_teste_beamforming_SNR_24dB_semPCA_1585102014.2716932.json\n",
      "Classificando com o  SVC\n",
      "Salvando as informações num JSON: relatorio_teste_beamforming_SNR_24dB_semPCA_1585102015.0367157.json\n",
      "Classificando com o  SVC\n",
      "Salvando as informações num JSON: relatorio_teste_beamforming_SNR_24dB_semPCA_1585102015.7984407.json\n",
      "Classificando com o  SVC\n",
      "Salvando as informações num JSON: relatorio_teste_beamforming_SNR_24dB_semPCA_1585102016.5525537.json\n",
      "Classificando com o  SVC\n",
      "Salvando as informações num JSON: relatorio_teste_beamforming_SNR_24dB_semPCA_1585102017.2918525.json\n",
      "Classificando com o  SVC\n",
      "Salvando as informações num JSON: relatorio_teste_beamforming_SNR_24dB_semPCA_1585102018.0330784.json\n",
      "Classificando com o  LinearDiscriminantAnalysis\n",
      "Salvando as informações num JSON: relatorio_teste_beamforming_SNR_24dB_semPCA_1585102018.292358.json\n",
      "Classificando com o  LinearDiscriminantAnalysis\n",
      "Salvando as informações num JSON: relatorio_teste_beamforming_SNR_24dB_semPCA_1585102018.551504.json\n",
      "Classificando com o  LinearDiscriminantAnalysis\n",
      "Salvando as informações num JSON: relatorio_teste_beamforming_SNR_24dB_semPCA_1585102018.8077695.json\n",
      "Classificando com o  LinearDiscriminantAnalysis\n",
      "Salvando as informações num JSON: relatorio_teste_beamforming_SNR_24dB_semPCA_1585102019.0693629.json\n",
      "Classificando com o  LinearDiscriminantAnalysis\n",
      "Salvando as informações num JSON: relatorio_teste_beamforming_SNR_24dB_semPCA_1585102019.338637.json\n",
      "Classificando com o  LinearDiscriminantAnalysis\n",
      "Salvando as informações num JSON: relatorio_teste_beamforming_SNR_24dB_semPCA_1585102019.598108.json\n",
      "Classificando com o  LinearDiscriminantAnalysis\n",
      "Salvando as informações num JSON: relatorio_teste_beamforming_SNR_24dB_semPCA_1585102019.8529475.json\n",
      "Classificando com o  LinearDiscriminantAnalysis\n",
      "Salvando as informações num JSON: relatorio_teste_beamforming_SNR_24dB_semPCA_1585102020.108204.json\n",
      "Classificando com o  LinearDiscriminantAnalysis\n",
      "Salvando as informações num JSON: relatorio_teste_beamforming_SNR_24dB_semPCA_1585102020.3770301.json\n",
      "Classificando com o  LinearDiscriminantAnalysis\n",
      "Salvando as informações num JSON: relatorio_teste_beamforming_SNR_24dB_semPCA_1585102020.6440532.json\n",
      "O teste com todos os classificadores foi finalizado\n",
      "Classificando com o  SVC\n",
      "Salvando as informações num JSON: relatorio_teste_GSC_SNR_24dB_semPCA_1585102021.4899347.json\n",
      "Classificando com o  SVC\n",
      "Salvando as informações num JSON: relatorio_teste_GSC_SNR_24dB_semPCA_1585102022.2592616.json\n",
      "Classificando com o  SVC\n",
      "Salvando as informações num JSON: relatorio_teste_GSC_SNR_24dB_semPCA_1585102022.981621.json\n",
      "Classificando com o  SVC\n",
      "Salvando as informações num JSON: relatorio_teste_GSC_SNR_24dB_semPCA_1585102023.729618.json\n",
      "Classificando com o  SVC\n",
      "Salvando as informações num JSON: relatorio_teste_GSC_SNR_24dB_semPCA_1585102024.484941.json\n",
      "Classificando com o  SVC\n",
      "Salvando as informações num JSON: relatorio_teste_GSC_SNR_24dB_semPCA_1585102025.24387.json\n",
      "Classificando com o  SVC\n",
      "Salvando as informações num JSON: relatorio_teste_GSC_SNR_24dB_semPCA_1585102026.0091252.json\n",
      "Classificando com o  SVC\n",
      "Salvando as informações num JSON: relatorio_teste_GSC_SNR_24dB_semPCA_1585102026.767701.json\n",
      "Classificando com o  SVC\n",
      "Salvando as informações num JSON: relatorio_teste_GSC_SNR_24dB_semPCA_1585102027.5185328.json\n",
      "Classificando com o  SVC\n",
      "Salvando as informações num JSON: relatorio_teste_GSC_SNR_24dB_semPCA_1585102028.2592194.json\n",
      "Classificando com o  LinearDiscriminantAnalysis\n",
      "Salvando as informações num JSON: relatorio_teste_GSC_SNR_24dB_semPCA_1585102028.5260997.json\n",
      "Classificando com o  LinearDiscriminantAnalysis\n",
      "Salvando as informações num JSON: relatorio_teste_GSC_SNR_24dB_semPCA_1585102028.7867389.json\n",
      "Classificando com o  LinearDiscriminantAnalysis\n",
      "Salvando as informações num JSON: relatorio_teste_GSC_SNR_24dB_semPCA_1585102029.048232.json\n",
      "Classificando com o  LinearDiscriminantAnalysis\n",
      "Salvando as informações num JSON: relatorio_teste_GSC_SNR_24dB_semPCA_1585102029.30236.json\n",
      "Classificando com o  LinearDiscriminantAnalysis\n",
      "Salvando as informações num JSON: relatorio_teste_GSC_SNR_24dB_semPCA_1585102029.5637984.json\n",
      "Classificando com o  LinearDiscriminantAnalysis\n",
      "Salvando as informações num JSON: relatorio_teste_GSC_SNR_24dB_semPCA_1585102029.8332279.json\n",
      "Classificando com o  LinearDiscriminantAnalysis\n",
      "Salvando as informações num JSON: relatorio_teste_GSC_SNR_24dB_semPCA_1585102030.1012526.json\n",
      "Classificando com o  LinearDiscriminantAnalysis\n",
      "Salvando as informações num JSON: relatorio_teste_GSC_SNR_24dB_semPCA_1585102030.3610523.json\n",
      "Classificando com o  LinearDiscriminantAnalysis\n",
      "Salvando as informações num JSON: relatorio_teste_GSC_SNR_24dB_semPCA_1585102030.6248999.json\n",
      "Classificando com o  LinearDiscriminantAnalysis\n",
      "Salvando as informações num JSON: relatorio_teste_GSC_SNR_24dB_semPCA_1585102030.8931384.json\n",
      "O teste com todos os classificadores foi finalizado\n",
      "Classificando com o  SVC\n",
      "Salvando as informações num JSON: relatorio_teste_semBeamforming_SNR_24dB_semPCA_1585102031.721696.json\n",
      "Classificando com o  SVC\n",
      "Salvando as informações num JSON: relatorio_teste_semBeamforming_SNR_24dB_semPCA_1585102032.4845266.json\n",
      "Classificando com o  SVC\n",
      "Salvando as informações num JSON: relatorio_teste_semBeamforming_SNR_24dB_semPCA_1585102033.2052631.json\n",
      "Classificando com o  SVC\n",
      "Salvando as informações num JSON: relatorio_teste_semBeamforming_SNR_24dB_semPCA_1585102033.9641027.json\n",
      "Classificando com o  SVC\n",
      "Salvando as informações num JSON: relatorio_teste_semBeamforming_SNR_24dB_semPCA_1585102034.706961.json\n",
      "Classificando com o  SVC\n",
      "Salvando as informações num JSON: relatorio_teste_semBeamforming_SNR_24dB_semPCA_1585102035.4565012.json\n",
      "Classificando com o  SVC\n",
      "Salvando as informações num JSON: relatorio_teste_semBeamforming_SNR_24dB_semPCA_1585102036.211251.json\n",
      "Classificando com o  SVC\n",
      "Salvando as informações num JSON: relatorio_teste_semBeamforming_SNR_24dB_semPCA_1585102036.9722514.json\n",
      "Classificando com o  SVC\n",
      "Salvando as informações num JSON: relatorio_teste_semBeamforming_SNR_24dB_semPCA_1585102037.7249246.json\n",
      "Classificando com o  SVC\n",
      "Salvando as informações num JSON: relatorio_teste_semBeamforming_SNR_24dB_semPCA_1585102038.4752219.json\n",
      "Classificando com o  LinearDiscriminantAnalysis\n",
      "Salvando as informações num JSON: relatorio_teste_semBeamforming_SNR_24dB_semPCA_1585102038.7383358.json\n",
      "Classificando com o  LinearDiscriminantAnalysis\n",
      "Salvando as informações num JSON: relatorio_teste_semBeamforming_SNR_24dB_semPCA_1585102039.013427.json\n",
      "Classificando com o  LinearDiscriminantAnalysis\n",
      "Salvando as informações num JSON: relatorio_teste_semBeamforming_SNR_24dB_semPCA_1585102039.276343.json\n",
      "Classificando com o  LinearDiscriminantAnalysis\n",
      "Salvando as informações num JSON: relatorio_teste_semBeamforming_SNR_24dB_semPCA_1585102039.5344286.json\n",
      "Classificando com o  LinearDiscriminantAnalysis\n",
      "Salvando as informações num JSON: relatorio_teste_semBeamforming_SNR_24dB_semPCA_1585102039.7917175.json\n",
      "Classificando com o  LinearDiscriminantAnalysis\n",
      "Salvando as informações num JSON: relatorio_teste_semBeamforming_SNR_24dB_semPCA_1585102040.070806.json\n",
      "Classificando com o  LinearDiscriminantAnalysis\n",
      "Salvando as informações num JSON: relatorio_teste_semBeamforming_SNR_24dB_semPCA_1585102040.3397684.json\n",
      "Classificando com o  LinearDiscriminantAnalysis\n",
      "Salvando as informações num JSON: relatorio_teste_semBeamforming_SNR_24dB_semPCA_1585102040.6061356.json\n",
      "Classificando com o  LinearDiscriminantAnalysis\n",
      "Salvando as informações num JSON: relatorio_teste_semBeamforming_SNR_24dB_semPCA_1585102040.8936775.json\n",
      "Classificando com o  LinearDiscriminantAnalysis\n",
      "Salvando as informações num JSON: relatorio_teste_semBeamforming_SNR_24dB_semPCA_1585102041.1685495.json\n",
      "O teste com todos os classificadores foi finalizado\n",
      "Classificando com o  SVC\n"
     ]
    },
    {
     "name": "stdout",
     "output_type": "stream",
     "text": [
      "Salvando as informações num JSON: relatorio_teste_GSC_SNR_-7dB_semPCA_1585102042.0349443.json\n",
      "Classificando com o  SVC\n"
     ]
    },
    {
     "name": "stderr",
     "output_type": "stream",
     "text": [
      "/home/dimi/venvIC/lib/python3.7/site-packages/sklearn/metrics/classification.py:1437: UndefinedMetricWarning: Precision and F-score are ill-defined and being set to 0.0 in labels with no predicted samples.\n",
      "  'precision', 'predicted', average, warn_for)\n"
     ]
    },
    {
     "name": "stdout",
     "output_type": "stream",
     "text": [
      "Salvando as informações num JSON: relatorio_teste_GSC_SNR_-7dB_semPCA_1585102042.9324098.json\n",
      "Classificando com o  SVC\n",
      "Salvando as informações num JSON: relatorio_teste_GSC_SNR_-7dB_semPCA_1585102043.6731095.json\n",
      "Classificando com o  SVC\n"
     ]
    },
    {
     "name": "stderr",
     "output_type": "stream",
     "text": [
      "/home/dimi/venvIC/lib/python3.7/site-packages/sklearn/metrics/classification.py:1437: UndefinedMetricWarning: Precision and F-score are ill-defined and being set to 0.0 in labels with no predicted samples.\n",
      "  'precision', 'predicted', average, warn_for)\n"
     ]
    },
    {
     "name": "stdout",
     "output_type": "stream",
     "text": [
      "Salvando as informações num JSON: relatorio_teste_GSC_SNR_-7dB_semPCA_1585102044.4416835.json\n",
      "Classificando com o  SVC\n"
     ]
    },
    {
     "name": "stderr",
     "output_type": "stream",
     "text": [
      "/home/dimi/venvIC/lib/python3.7/site-packages/sklearn/metrics/classification.py:1437: UndefinedMetricWarning: Precision and F-score are ill-defined and being set to 0.0 in labels with no predicted samples.\n",
      "  'precision', 'predicted', average, warn_for)\n"
     ]
    },
    {
     "name": "stdout",
     "output_type": "stream",
     "text": [
      "Salvando as informações num JSON: relatorio_teste_GSC_SNR_-7dB_semPCA_1585102045.2232192.json\n",
      "Classificando com o  SVC\n",
      "Salvando as informações num JSON: relatorio_teste_GSC_SNR_-7dB_semPCA_1585102045.9681609.json\n",
      "Classificando com o  SVC\n",
      "Salvando as informações num JSON: relatorio_teste_GSC_SNR_-7dB_semPCA_1585102046.7205226.json\n",
      "Classificando com o  SVC\n",
      "Salvando as informações num JSON: relatorio_teste_GSC_SNR_-7dB_semPCA_1585102047.4701293.json\n",
      "Classificando com o  SVC\n"
     ]
    },
    {
     "name": "stderr",
     "output_type": "stream",
     "text": [
      "/home/dimi/venvIC/lib/python3.7/site-packages/sklearn/metrics/classification.py:1437: UndefinedMetricWarning: Precision and F-score are ill-defined and being set to 0.0 in labels with no predicted samples.\n",
      "  'precision', 'predicted', average, warn_for)\n"
     ]
    },
    {
     "name": "stdout",
     "output_type": "stream",
     "text": [
      "Salvando as informações num JSON: relatorio_teste_GSC_SNR_-7dB_semPCA_1585102048.1990504.json\n",
      "Classificando com o  SVC\n",
      "Salvando as informações num JSON: relatorio_teste_GSC_SNR_-7dB_semPCA_1585102048.941151.json\n",
      "Classificando com o  LinearDiscriminantAnalysis\n",
      "Salvando as informações num JSON: relatorio_teste_GSC_SNR_-7dB_semPCA_1585102049.194436.json\n",
      "Classificando com o  LinearDiscriminantAnalysis\n"
     ]
    },
    {
     "name": "stderr",
     "output_type": "stream",
     "text": [
      "/home/dimi/venvIC/lib/python3.7/site-packages/sklearn/metrics/classification.py:1437: UndefinedMetricWarning: Precision and F-score are ill-defined and being set to 0.0 in labels with no predicted samples.\n",
      "  'precision', 'predicted', average, warn_for)\n"
     ]
    },
    {
     "name": "stdout",
     "output_type": "stream",
     "text": [
      "Salvando as informações num JSON: relatorio_teste_GSC_SNR_-7dB_semPCA_1585102049.451755.json\n",
      "Classificando com o  LinearDiscriminantAnalysis\n",
      "Salvando as informações num JSON: relatorio_teste_GSC_SNR_-7dB_semPCA_1585102049.7162247.json\n",
      "Classificando com o  LinearDiscriminantAnalysis\n"
     ]
    },
    {
     "name": "stderr",
     "output_type": "stream",
     "text": [
      "/home/dimi/venvIC/lib/python3.7/site-packages/sklearn/metrics/classification.py:1437: UndefinedMetricWarning: Precision and F-score are ill-defined and being set to 0.0 in labels with no predicted samples.\n",
      "  'precision', 'predicted', average, warn_for)\n"
     ]
    },
    {
     "name": "stdout",
     "output_type": "stream",
     "text": [
      "Salvando as informações num JSON: relatorio_teste_GSC_SNR_-7dB_semPCA_1585102049.9707081.json\n",
      "Classificando com o  LinearDiscriminantAnalysis\n"
     ]
    },
    {
     "name": "stderr",
     "output_type": "stream",
     "text": [
      "/home/dimi/venvIC/lib/python3.7/site-packages/sklearn/metrics/classification.py:1437: UndefinedMetricWarning: Precision and F-score are ill-defined and being set to 0.0 in labels with no predicted samples.\n",
      "  'precision', 'predicted', average, warn_for)\n"
     ]
    },
    {
     "name": "stdout",
     "output_type": "stream",
     "text": [
      "Salvando as informações num JSON: relatorio_teste_GSC_SNR_-7dB_semPCA_1585102050.2343838.json\n",
      "Classificando com o  LinearDiscriminantAnalysis\n"
     ]
    },
    {
     "name": "stderr",
     "output_type": "stream",
     "text": [
      "/home/dimi/venvIC/lib/python3.7/site-packages/sklearn/metrics/classification.py:1437: UndefinedMetricWarning: Precision and F-score are ill-defined and being set to 0.0 in labels with no predicted samples.\n",
      "  'precision', 'predicted', average, warn_for)\n"
     ]
    },
    {
     "name": "stdout",
     "output_type": "stream",
     "text": [
      "Salvando as informações num JSON: relatorio_teste_GSC_SNR_-7dB_semPCA_1585102050.5113862.json\n",
      "Classificando com o  LinearDiscriminantAnalysis\n",
      "Salvando as informações num JSON: relatorio_teste_GSC_SNR_-7dB_semPCA_1585102050.7688272.json\n",
      "Classificando com o  LinearDiscriminantAnalysis\n"
     ]
    },
    {
     "name": "stderr",
     "output_type": "stream",
     "text": [
      "/home/dimi/venvIC/lib/python3.7/site-packages/sklearn/metrics/classification.py:1437: UndefinedMetricWarning: Precision and F-score are ill-defined and being set to 0.0 in labels with no predicted samples.\n",
      "  'precision', 'predicted', average, warn_for)\n"
     ]
    },
    {
     "name": "stdout",
     "output_type": "stream",
     "text": [
      "Salvando as informações num JSON: relatorio_teste_GSC_SNR_-7dB_semPCA_1585102051.0181026.json\n",
      "Classificando com o  LinearDiscriminantAnalysis\n",
      "Salvando as informações num JSON: relatorio_teste_GSC_SNR_-7dB_semPCA_1585102051.2992468.json\n",
      "Classificando com o  LinearDiscriminantAnalysis\n"
     ]
    },
    {
     "name": "stderr",
     "output_type": "stream",
     "text": [
      "/home/dimi/venvIC/lib/python3.7/site-packages/sklearn/metrics/classification.py:1437: UndefinedMetricWarning: Precision and F-score are ill-defined and being set to 0.0 in labels with no predicted samples.\n",
      "  'precision', 'predicted', average, warn_for)\n"
     ]
    },
    {
     "name": "stdout",
     "output_type": "stream",
     "text": [
      "Salvando as informações num JSON: relatorio_teste_GSC_SNR_-7dB_semPCA_1585102051.5528028.json\n",
      "O teste com todos os classificadores foi finalizado\n",
      "Classificando com o  SVC\n",
      "Salvando as informações num JSON: relatorio_teste_semBeamforming_SNR_-7dB_semPCA_1585102052.4351752.json\n",
      "Classificando com o  SVC\n"
     ]
    },
    {
     "name": "stderr",
     "output_type": "stream",
     "text": [
      "/home/dimi/venvIC/lib/python3.7/site-packages/sklearn/metrics/classification.py:1437: UndefinedMetricWarning: Precision and F-score are ill-defined and being set to 0.0 in labels with no predicted samples.\n",
      "  'precision', 'predicted', average, warn_for)\n"
     ]
    },
    {
     "name": "stdout",
     "output_type": "stream",
     "text": [
      "Salvando as informações num JSON: relatorio_teste_semBeamforming_SNR_-7dB_semPCA_1585102053.2236028.json\n",
      "Classificando com o  SVC\n",
      "Salvando as informações num JSON: relatorio_teste_semBeamforming_SNR_-7dB_semPCA_1585102053.9740639.json\n",
      "Classificando com o  SVC\n",
      "Salvando as informações num JSON: relatorio_teste_semBeamforming_SNR_-7dB_semPCA_1585102054.7513003.json\n",
      "Classificando com o  SVC\n",
      "Salvando as informações num JSON: relatorio_teste_semBeamforming_SNR_-7dB_semPCA_1585102055.5121226.json\n",
      "Classificando com o  SVC\n",
      "Salvando as informações num JSON: relatorio_teste_semBeamforming_SNR_-7dB_semPCA_1585102056.277454.json\n",
      "Classificando com o  SVC\n",
      "Salvando as informações num JSON: relatorio_teste_semBeamforming_SNR_-7dB_semPCA_1585102057.0718725.json\n",
      "Classificando com o  SVC\n",
      "Salvando as informações num JSON: relatorio_teste_semBeamforming_SNR_-7dB_semPCA_1585102057.8244252.json\n",
      "Classificando com o  SVC\n"
     ]
    },
    {
     "name": "stderr",
     "output_type": "stream",
     "text": [
      "/home/dimi/venvIC/lib/python3.7/site-packages/sklearn/metrics/classification.py:1437: UndefinedMetricWarning: Precision and F-score are ill-defined and being set to 0.0 in labels with no predicted samples.\n",
      "  'precision', 'predicted', average, warn_for)\n"
     ]
    },
    {
     "name": "stdout",
     "output_type": "stream",
     "text": [
      "Salvando as informações num JSON: relatorio_teste_semBeamforming_SNR_-7dB_semPCA_1585102058.6074975.json\n",
      "Classificando com o  SVC\n",
      "Salvando as informações num JSON: relatorio_teste_semBeamforming_SNR_-7dB_semPCA_1585102059.3506598.json\n",
      "Classificando com o  LinearDiscriminantAnalysis\n",
      "Salvando as informações num JSON: relatorio_teste_semBeamforming_SNR_-7dB_semPCA_1585102059.6215181.json\n",
      "Classificando com o  LinearDiscriminantAnalysis\n"
     ]
    },
    {
     "name": "stderr",
     "output_type": "stream",
     "text": [
      "/home/dimi/venvIC/lib/python3.7/site-packages/sklearn/metrics/classification.py:1437: UndefinedMetricWarning: Precision and F-score are ill-defined and being set to 0.0 in labels with no predicted samples.\n",
      "  'precision', 'predicted', average, warn_for)\n"
     ]
    },
    {
     "name": "stdout",
     "output_type": "stream",
     "text": [
      "Salvando as informações num JSON: relatorio_teste_semBeamforming_SNR_-7dB_semPCA_1585102059.8703954.json\n",
      "Classificando com o  LinearDiscriminantAnalysis\n",
      "Salvando as informações num JSON: relatorio_teste_semBeamforming_SNR_-7dB_semPCA_1585102060.13321.json\n",
      "Classificando com o  LinearDiscriminantAnalysis\n"
     ]
    },
    {
     "name": "stderr",
     "output_type": "stream",
     "text": [
      "/home/dimi/venvIC/lib/python3.7/site-packages/sklearn/metrics/classification.py:1437: UndefinedMetricWarning: Precision and F-score are ill-defined and being set to 0.0 in labels with no predicted samples.\n",
      "  'precision', 'predicted', average, warn_for)\n"
     ]
    },
    {
     "name": "stdout",
     "output_type": "stream",
     "text": [
      "Salvando as informações num JSON: relatorio_teste_semBeamforming_SNR_-7dB_semPCA_1585102060.3838522.json\n",
      "Classificando com o  LinearDiscriminantAnalysis\n"
     ]
    },
    {
     "name": "stderr",
     "output_type": "stream",
     "text": [
      "/home/dimi/venvIC/lib/python3.7/site-packages/sklearn/metrics/classification.py:1437: UndefinedMetricWarning: Precision and F-score are ill-defined and being set to 0.0 in labels with no predicted samples.\n",
      "  'precision', 'predicted', average, warn_for)\n"
     ]
    },
    {
     "name": "stdout",
     "output_type": "stream",
     "text": [
      "Salvando as informações num JSON: relatorio_teste_semBeamforming_SNR_-7dB_semPCA_1585102060.655164.json\n",
      "Classificando com o  LinearDiscriminantAnalysis\n"
     ]
    },
    {
     "name": "stderr",
     "output_type": "stream",
     "text": [
      "/home/dimi/venvIC/lib/python3.7/site-packages/sklearn/metrics/classification.py:1437: UndefinedMetricWarning: Precision and F-score are ill-defined and being set to 0.0 in labels with no predicted samples.\n",
      "  'precision', 'predicted', average, warn_for)\n"
     ]
    },
    {
     "name": "stdout",
     "output_type": "stream",
     "text": [
      "Salvando as informações num JSON: relatorio_teste_semBeamforming_SNR_-7dB_semPCA_1585102060.9165504.json\n",
      "Classificando com o  LinearDiscriminantAnalysis\n"
     ]
    },
    {
     "name": "stderr",
     "output_type": "stream",
     "text": [
      "/home/dimi/venvIC/lib/python3.7/site-packages/sklearn/metrics/classification.py:1437: UndefinedMetricWarning: Precision and F-score are ill-defined and being set to 0.0 in labels with no predicted samples.\n",
      "  'precision', 'predicted', average, warn_for)\n"
     ]
    },
    {
     "name": "stdout",
     "output_type": "stream",
     "text": [
      "Salvando as informações num JSON: relatorio_teste_semBeamforming_SNR_-7dB_semPCA_1585102061.1864421.json\n",
      "Classificando com o  LinearDiscriminantAnalysis\n"
     ]
    },
    {
     "name": "stderr",
     "output_type": "stream",
     "text": [
      "/home/dimi/venvIC/lib/python3.7/site-packages/sklearn/metrics/classification.py:1437: UndefinedMetricWarning: Precision and F-score are ill-defined and being set to 0.0 in labels with no predicted samples.\n",
      "  'precision', 'predicted', average, warn_for)\n"
     ]
    },
    {
     "name": "stdout",
     "output_type": "stream",
     "text": [
      "Salvando as informações num JSON: relatorio_teste_semBeamforming_SNR_-7dB_semPCA_1585102061.453186.json\n",
      "Classificando com o  LinearDiscriminantAnalysis\n",
      "Salvando as informações num JSON: relatorio_teste_semBeamforming_SNR_-7dB_semPCA_1585102061.7163064.json\n",
      "Classificando com o  LinearDiscriminantAnalysis\n"
     ]
    },
    {
     "name": "stderr",
     "output_type": "stream",
     "text": [
      "/home/dimi/venvIC/lib/python3.7/site-packages/sklearn/metrics/classification.py:1437: UndefinedMetricWarning: Precision and F-score are ill-defined and being set to 0.0 in labels with no predicted samples.\n",
      "  'precision', 'predicted', average, warn_for)\n"
     ]
    },
    {
     "name": "stdout",
     "output_type": "stream",
     "text": [
      "Salvando as informações num JSON: relatorio_teste_semBeamforming_SNR_-7dB_semPCA_1585102061.9698133.json\n",
      "O teste com todos os classificadores foi finalizado\n",
      "Classificando com o  SVC\n",
      "Salvando as informações num JSON: relatorio_teste_beamforming_SNR_-7dB_semPCA_1585102062.8053448.json\n",
      "Classificando com o  SVC\n"
     ]
    },
    {
     "name": "stderr",
     "output_type": "stream",
     "text": [
      "/home/dimi/venvIC/lib/python3.7/site-packages/sklearn/metrics/classification.py:1437: UndefinedMetricWarning: Precision and F-score are ill-defined and being set to 0.0 in labels with no predicted samples.\n",
      "  'precision', 'predicted', average, warn_for)\n"
     ]
    },
    {
     "name": "stdout",
     "output_type": "stream",
     "text": [
      "Salvando as informações num JSON: relatorio_teste_beamforming_SNR_-7dB_semPCA_1585102063.5649517.json\n",
      "Classificando com o  SVC\n",
      "Salvando as informações num JSON: relatorio_teste_beamforming_SNR_-7dB_semPCA_1585102064.2845082.json\n",
      "Classificando com o  SVC\n",
      "Salvando as informações num JSON: relatorio_teste_beamforming_SNR_-7dB_semPCA_1585102065.021868.json\n",
      "Classificando com o  SVC\n",
      "Salvando as informações num JSON: relatorio_teste_beamforming_SNR_-7dB_semPCA_1585102065.8121953.json\n",
      "Classificando com o  SVC\n",
      "Salvando as informações num JSON: relatorio_teste_beamforming_SNR_-7dB_semPCA_1585102066.5819998.json\n",
      "Classificando com o  SVC\n",
      "Salvando as informações num JSON: relatorio_teste_beamforming_SNR_-7dB_semPCA_1585102067.3270953.json\n",
      "Classificando com o  SVC\n",
      "Salvando as informações num JSON: relatorio_teste_beamforming_SNR_-7dB_semPCA_1585102068.1562705.json\n",
      "Classificando com o  SVC\n"
     ]
    },
    {
     "name": "stderr",
     "output_type": "stream",
     "text": [
      "/home/dimi/venvIC/lib/python3.7/site-packages/sklearn/metrics/classification.py:1437: UndefinedMetricWarning: Precision and F-score are ill-defined and being set to 0.0 in labels with no predicted samples.\n",
      "  'precision', 'predicted', average, warn_for)\n"
     ]
    },
    {
     "name": "stdout",
     "output_type": "stream",
     "text": [
      "Salvando as informações num JSON: relatorio_teste_beamforming_SNR_-7dB_semPCA_1585102068.9829602.json\n",
      "Classificando com o  SVC\n",
      "Salvando as informações num JSON: relatorio_teste_beamforming_SNR_-7dB_semPCA_1585102069.9250317.json\n",
      "Classificando com o  LinearDiscriminantAnalysis\n",
      "Salvando as informações num JSON: relatorio_teste_beamforming_SNR_-7dB_semPCA_1585102070.2254224.json\n",
      "Classificando com o  LinearDiscriminantAnalysis\n"
     ]
    },
    {
     "name": "stderr",
     "output_type": "stream",
     "text": [
      "/home/dimi/venvIC/lib/python3.7/site-packages/sklearn/metrics/classification.py:1437: UndefinedMetricWarning: Precision and F-score are ill-defined and being set to 0.0 in labels with no predicted samples.\n",
      "  'precision', 'predicted', average, warn_for)\n"
     ]
    },
    {
     "name": "stdout",
     "output_type": "stream",
     "text": [
      "Salvando as informações num JSON: relatorio_teste_beamforming_SNR_-7dB_semPCA_1585102070.5598364.json\n",
      "Classificando com o  LinearDiscriminantAnalysis\n",
      "Salvando as informações num JSON: relatorio_teste_beamforming_SNR_-7dB_semPCA_1585102070.880345.json\n",
      "Classificando com o  LinearDiscriminantAnalysis\n"
     ]
    },
    {
     "name": "stderr",
     "output_type": "stream",
     "text": [
      "/home/dimi/venvIC/lib/python3.7/site-packages/sklearn/metrics/classification.py:1437: UndefinedMetricWarning: Precision and F-score are ill-defined and being set to 0.0 in labels with no predicted samples.\n",
      "  'precision', 'predicted', average, warn_for)\n"
     ]
    },
    {
     "name": "stdout",
     "output_type": "stream",
     "text": [
      "Salvando as informações num JSON: relatorio_teste_beamforming_SNR_-7dB_semPCA_1585102071.1598513.json\n",
      "Classificando com o  LinearDiscriminantAnalysis\n"
     ]
    },
    {
     "name": "stderr",
     "output_type": "stream",
     "text": [
      "/home/dimi/venvIC/lib/python3.7/site-packages/sklearn/metrics/classification.py:1437: UndefinedMetricWarning: Precision and F-score are ill-defined and being set to 0.0 in labels with no predicted samples.\n",
      "  'precision', 'predicted', average, warn_for)\n"
     ]
    },
    {
     "name": "stdout",
     "output_type": "stream",
     "text": [
      "Salvando as informações num JSON: relatorio_teste_beamforming_SNR_-7dB_semPCA_1585102071.4765043.json\n",
      "Classificando com o  LinearDiscriminantAnalysis\n"
     ]
    },
    {
     "name": "stderr",
     "output_type": "stream",
     "text": [
      "/home/dimi/venvIC/lib/python3.7/site-packages/sklearn/metrics/classification.py:1437: UndefinedMetricWarning: Precision and F-score are ill-defined and being set to 0.0 in labels with no predicted samples.\n",
      "  'precision', 'predicted', average, warn_for)\n"
     ]
    },
    {
     "name": "stdout",
     "output_type": "stream",
     "text": [
      "Salvando as informações num JSON: relatorio_teste_beamforming_SNR_-7dB_semPCA_1585102071.7412853.json\n",
      "Classificando com o  LinearDiscriminantAnalysis\n"
     ]
    },
    {
     "name": "stderr",
     "output_type": "stream",
     "text": [
      "/home/dimi/venvIC/lib/python3.7/site-packages/sklearn/metrics/classification.py:1437: UndefinedMetricWarning: Precision and F-score are ill-defined and being set to 0.0 in labels with no predicted samples.\n",
      "  'precision', 'predicted', average, warn_for)\n"
     ]
    },
    {
     "name": "stdout",
     "output_type": "stream",
     "text": [
      "Salvando as informações num JSON: relatorio_teste_beamforming_SNR_-7dB_semPCA_1585102072.0112624.json\n",
      "Classificando com o  LinearDiscriminantAnalysis\n"
     ]
    },
    {
     "name": "stderr",
     "output_type": "stream",
     "text": [
      "/home/dimi/venvIC/lib/python3.7/site-packages/sklearn/metrics/classification.py:1437: UndefinedMetricWarning: Precision and F-score are ill-defined and being set to 0.0 in labels with no predicted samples.\n",
      "  'precision', 'predicted', average, warn_for)\n"
     ]
    },
    {
     "name": "stdout",
     "output_type": "stream",
     "text": [
      "Salvando as informações num JSON: relatorio_teste_beamforming_SNR_-7dB_semPCA_1585102072.2769141.json\n",
      "Classificando com o  LinearDiscriminantAnalysis\n",
      "Salvando as informações num JSON: relatorio_teste_beamforming_SNR_-7dB_semPCA_1585102072.554449.json\n",
      "Classificando com o  LinearDiscriminantAnalysis\n"
     ]
    },
    {
     "name": "stderr",
     "output_type": "stream",
     "text": [
      "/home/dimi/venvIC/lib/python3.7/site-packages/sklearn/metrics/classification.py:1437: UndefinedMetricWarning: Precision and F-score are ill-defined and being set to 0.0 in labels with no predicted samples.\n",
      "  'precision', 'predicted', average, warn_for)\n"
     ]
    },
    {
     "name": "stdout",
     "output_type": "stream",
     "text": [
      "Salvando as informações num JSON: relatorio_teste_beamforming_SNR_-7dB_semPCA_1585102072.8179958.json\n",
      "O teste com todos os classificadores foi finalizado\n",
      "Classificando com o  SVC\n",
      "Salvando as informações num JSON: relatorio_teste_semBeamforming_SNR_-1dB_semPCA_1585102073.698981.json\n",
      "Classificando com o  SVC\n",
      "Salvando as informações num JSON: relatorio_teste_semBeamforming_SNR_-1dB_semPCA_1585102074.4776332.json\n",
      "Classificando com o  SVC\n",
      "Salvando as informações num JSON: relatorio_teste_semBeamforming_SNR_-1dB_semPCA_1585102075.2338939.json\n",
      "Classificando com o  SVC\n",
      "Salvando as informações num JSON: relatorio_teste_semBeamforming_SNR_-1dB_semPCA_1585102076.022784.json\n",
      "Classificando com o  SVC\n",
      "Salvando as informações num JSON: relatorio_teste_semBeamforming_SNR_-1dB_semPCA_1585102076.7995927.json\n",
      "Classificando com o  SVC\n",
      "Salvando as informações num JSON: relatorio_teste_semBeamforming_SNR_-1dB_semPCA_1585102077.5718703.json\n",
      "Classificando com o  SVC\n",
      "Salvando as informações num JSON: relatorio_teste_semBeamforming_SNR_-1dB_semPCA_1585102078.5008721.json\n",
      "Classificando com o  SVC\n",
      "Salvando as informações num JSON: relatorio_teste_semBeamforming_SNR_-1dB_semPCA_1585102079.3532336.json\n",
      "Classificando com o  SVC\n",
      "Salvando as informações num JSON: relatorio_teste_semBeamforming_SNR_-1dB_semPCA_1585102080.12295.json\n",
      "Classificando com o  SVC\n",
      "Salvando as informações num JSON: relatorio_teste_semBeamforming_SNR_-1dB_semPCA_1585102080.8885462.json\n",
      "Classificando com o  LinearDiscriminantAnalysis\n",
      "Salvando as informações num JSON: relatorio_teste_semBeamforming_SNR_-1dB_semPCA_1585102081.1478808.json\n",
      "Classificando com o  LinearDiscriminantAnalysis\n",
      "Salvando as informações num JSON: relatorio_teste_semBeamforming_SNR_-1dB_semPCA_1585102081.461223.json\n",
      "Classificando com o  LinearDiscriminantAnalysis\n",
      "Salvando as informações num JSON: relatorio_teste_semBeamforming_SNR_-1dB_semPCA_1585102081.7327573.json\n",
      "Classificando com o  LinearDiscriminantAnalysis\n",
      "Salvando as informações num JSON: relatorio_teste_semBeamforming_SNR_-1dB_semPCA_1585102082.004155.json\n",
      "Classificando com o  LinearDiscriminantAnalysis\n",
      "Salvando as informações num JSON: relatorio_teste_semBeamforming_SNR_-1dB_semPCA_1585102082.2765782.json\n",
      "Classificando com o  LinearDiscriminantAnalysis\n",
      "Salvando as informações num JSON: relatorio_teste_semBeamforming_SNR_-1dB_semPCA_1585102082.555045.json\n",
      "Classificando com o  LinearDiscriminantAnalysis\n",
      "Salvando as informações num JSON: relatorio_teste_semBeamforming_SNR_-1dB_semPCA_1585102082.8900268.json\n",
      "Classificando com o  LinearDiscriminantAnalysis\n",
      "Salvando as informações num JSON: relatorio_teste_semBeamforming_SNR_-1dB_semPCA_1585102083.2232568.json\n",
      "Classificando com o  LinearDiscriminantAnalysis\n",
      "Salvando as informações num JSON: relatorio_teste_semBeamforming_SNR_-1dB_semPCA_1585102083.5007265.json\n",
      "Classificando com o  LinearDiscriminantAnalysis\n",
      "Salvando as informações num JSON: relatorio_teste_semBeamforming_SNR_-1dB_semPCA_1585102083.8163779.json\n",
      "O teste com todos os classificadores foi finalizado\n",
      "Classificando com o  SVC\n",
      "Salvando as informações num JSON: relatorio_teste_beamforming_SNR_-1dB_semPCA_1585102084.7644715.json\n",
      "Classificando com o  SVC\n",
      "Salvando as informações num JSON: relatorio_teste_beamforming_SNR_-1dB_semPCA_1585102085.6629477.json\n",
      "Classificando com o  SVC\n",
      "Salvando as informações num JSON: relatorio_teste_beamforming_SNR_-1dB_semPCA_1585102086.4814544.json\n",
      "Classificando com o  SVC\n",
      "Salvando as informações num JSON: relatorio_teste_beamforming_SNR_-1dB_semPCA_1585102087.2660964.json\n",
      "Classificando com o  SVC\n"
     ]
    },
    {
     "name": "stderr",
     "output_type": "stream",
     "text": [
      "/home/dimi/venvIC/lib/python3.7/site-packages/sklearn/metrics/classification.py:1437: UndefinedMetricWarning: Precision and F-score are ill-defined and being set to 0.0 in labels with no predicted samples.\n",
      "  'precision', 'predicted', average, warn_for)\n"
     ]
    },
    {
     "name": "stdout",
     "output_type": "stream",
     "text": [
      "Salvando as informações num JSON: relatorio_teste_beamforming_SNR_-1dB_semPCA_1585102088.0653224.json\n",
      "Classificando com o  SVC\n",
      "Salvando as informações num JSON: relatorio_teste_beamforming_SNR_-1dB_semPCA_1585102088.984194.json\n",
      "Classificando com o  SVC\n",
      "Salvando as informações num JSON: relatorio_teste_beamforming_SNR_-1dB_semPCA_1585102089.9946942.json\n",
      "Classificando com o  SVC\n",
      "Salvando as informações num JSON: relatorio_teste_beamforming_SNR_-1dB_semPCA_1585102090.822381.json\n",
      "Classificando com o  SVC\n",
      "Salvando as informações num JSON: relatorio_teste_beamforming_SNR_-1dB_semPCA_1585102091.6162748.json\n",
      "Classificando com o  SVC\n",
      "Salvando as informações num JSON: relatorio_teste_beamforming_SNR_-1dB_semPCA_1585102092.5512075.json\n",
      "Classificando com o  LinearDiscriminantAnalysis\n",
      "Salvando as informações num JSON: relatorio_teste_beamforming_SNR_-1dB_semPCA_1585102092.829726.json\n",
      "Classificando com o  LinearDiscriminantAnalysis\n",
      "Salvando as informações num JSON: relatorio_teste_beamforming_SNR_-1dB_semPCA_1585102093.1300974.json\n",
      "Classificando com o  LinearDiscriminantAnalysis\n",
      "Salvando as informações num JSON: relatorio_teste_beamforming_SNR_-1dB_semPCA_1585102093.428877.json\n",
      "Classificando com o  LinearDiscriminantAnalysis\n",
      "Salvando as informações num JSON: relatorio_teste_beamforming_SNR_-1dB_semPCA_1585102094.0078843.json\n",
      "Classificando com o  LinearDiscriminantAnalysis\n",
      "Salvando as informações num JSON: relatorio_teste_beamforming_SNR_-1dB_semPCA_1585102094.470893.json\n",
      "Classificando com o  LinearDiscriminantAnalysis\n",
      "Salvando as informações num JSON: relatorio_teste_beamforming_SNR_-1dB_semPCA_1585102094.8502448.json\n",
      "Classificando com o  LinearDiscriminantAnalysis\n",
      "Salvando as informações num JSON: relatorio_teste_beamforming_SNR_-1dB_semPCA_1585102095.1138468.json\n",
      "Classificando com o  LinearDiscriminantAnalysis\n",
      "Salvando as informações num JSON: relatorio_teste_beamforming_SNR_-1dB_semPCA_1585102095.3569715.json\n",
      "Classificando com o  LinearDiscriminantAnalysis\n",
      "Salvando as informações num JSON: relatorio_teste_beamforming_SNR_-1dB_semPCA_1585102095.6089053.json\n",
      "Classificando com o  LinearDiscriminantAnalysis\n",
      "Salvando as informações num JSON: relatorio_teste_beamforming_SNR_-1dB_semPCA_1585102095.8534687.json\n",
      "O teste com todos os classificadores foi finalizado\n",
      "Classificando com o  SVC\n",
      "Salvando as informações num JSON: relatorio_teste_GSC_SNR_-1dB_semPCA_1585102096.8032131.json\n",
      "Classificando com o  SVC\n",
      "Salvando as informações num JSON: relatorio_teste_GSC_SNR_-1dB_semPCA_1585102097.6110394.json\n",
      "Classificando com o  SVC\n",
      "Salvando as informações num JSON: relatorio_teste_GSC_SNR_-1dB_semPCA_1585102098.433849.json\n",
      "Classificando com o  SVC\n",
      "Salvando as informações num JSON: relatorio_teste_GSC_SNR_-1dB_semPCA_1585102099.2193413.json\n",
      "Classificando com o  SVC\n"
     ]
    },
    {
     "name": "stderr",
     "output_type": "stream",
     "text": [
      "/home/dimi/venvIC/lib/python3.7/site-packages/sklearn/metrics/classification.py:1437: UndefinedMetricWarning: Precision and F-score are ill-defined and being set to 0.0 in labels with no predicted samples.\n",
      "  'precision', 'predicted', average, warn_for)\n"
     ]
    },
    {
     "name": "stdout",
     "output_type": "stream",
     "text": [
      "Salvando as informações num JSON: relatorio_teste_GSC_SNR_-1dB_semPCA_1585102100.063886.json\n",
      "Classificando com o  SVC\n",
      "Salvando as informações num JSON: relatorio_teste_GSC_SNR_-1dB_semPCA_1585102100.94778.json\n",
      "Classificando com o  SVC\n",
      "Salvando as informações num JSON: relatorio_teste_GSC_SNR_-1dB_semPCA_1585102101.8086963.json\n",
      "Classificando com o  SVC\n",
      "Salvando as informações num JSON: relatorio_teste_GSC_SNR_-1dB_semPCA_1585102102.64789.json\n",
      "Classificando com o  SVC\n",
      "Salvando as informações num JSON: relatorio_teste_GSC_SNR_-1dB_semPCA_1585102103.4702637.json\n",
      "Classificando com o  SVC\n",
      "Salvando as informações num JSON: relatorio_teste_GSC_SNR_-1dB_semPCA_1585102104.2459662.json\n",
      "Classificando com o  LinearDiscriminantAnalysis\n",
      "Salvando as informações num JSON: relatorio_teste_GSC_SNR_-1dB_semPCA_1585102104.531375.json\n",
      "Classificando com o  LinearDiscriminantAnalysis\n",
      "Salvando as informações num JSON: relatorio_teste_GSC_SNR_-1dB_semPCA_1585102104.815958.json\n",
      "Classificando com o  LinearDiscriminantAnalysis\n",
      "Salvando as informações num JSON: relatorio_teste_GSC_SNR_-1dB_semPCA_1585102105.0959077.json\n",
      "Classificando com o  LinearDiscriminantAnalysis\n",
      "Salvando as informações num JSON: relatorio_teste_GSC_SNR_-1dB_semPCA_1585102105.4878595.json\n",
      "Classificando com o  LinearDiscriminantAnalysis\n",
      "Salvando as informações num JSON: relatorio_teste_GSC_SNR_-1dB_semPCA_1585102105.7890346.json\n",
      "Classificando com o  LinearDiscriminantAnalysis\n",
      "Salvando as informações num JSON: relatorio_teste_GSC_SNR_-1dB_semPCA_1585102106.096616.json\n",
      "Classificando com o  LinearDiscriminantAnalysis\n",
      "Salvando as informações num JSON: relatorio_teste_GSC_SNR_-1dB_semPCA_1585102106.4521348.json\n",
      "Classificando com o  LinearDiscriminantAnalysis\n",
      "Salvando as informações num JSON: relatorio_teste_GSC_SNR_-1dB_semPCA_1585102106.7174127.json\n",
      "Classificando com o  LinearDiscriminantAnalysis\n",
      "Salvando as informações num JSON: relatorio_teste_GSC_SNR_-1dB_semPCA_1585102106.9724867.json\n",
      "Classificando com o  LinearDiscriminantAnalysis\n",
      "Salvando as informações num JSON: relatorio_teste_GSC_SNR_-1dB_semPCA_1585102107.3078794.json\n",
      "O teste com todos os classificadores foi finalizado\n",
      "Classificando com o  SVC\n"
     ]
    },
    {
     "name": "stderr",
     "output_type": "stream",
     "text": [
      "/home/dimi/venvIC/lib/python3.7/site-packages/sklearn/metrics/classification.py:1437: UndefinedMetricWarning: Precision and F-score are ill-defined and being set to 0.0 in labels with no predicted samples.\n",
      "  'precision', 'predicted', average, warn_for)\n"
     ]
    },
    {
     "name": "stdout",
     "output_type": "stream",
     "text": [
      "Salvando as informações num JSON: relatorio_teste_beamforming_SNR_-9dB_semPCA_1585102108.4201965.json\n",
      "Classificando com o  SVC\n"
     ]
    },
    {
     "name": "stderr",
     "output_type": "stream",
     "text": [
      "/home/dimi/venvIC/lib/python3.7/site-packages/sklearn/metrics/classification.py:1437: UndefinedMetricWarning: Precision and F-score are ill-defined and being set to 0.0 in labels with no predicted samples.\n",
      "  'precision', 'predicted', average, warn_for)\n"
     ]
    },
    {
     "name": "stdout",
     "output_type": "stream",
     "text": [
      "Salvando as informações num JSON: relatorio_teste_beamforming_SNR_-9dB_semPCA_1585102109.7358341.json\n",
      "Classificando com o  SVC\n",
      "Salvando as informações num JSON: relatorio_teste_beamforming_SNR_-9dB_semPCA_1585102110.9773088.json\n",
      "Classificando com o  SVC\n"
     ]
    },
    {
     "name": "stderr",
     "output_type": "stream",
     "text": [
      "/home/dimi/venvIC/lib/python3.7/site-packages/sklearn/metrics/classification.py:1437: UndefinedMetricWarning: Precision and F-score are ill-defined and being set to 0.0 in labels with no predicted samples.\n",
      "  'precision', 'predicted', average, warn_for)\n"
     ]
    },
    {
     "name": "stdout",
     "output_type": "stream",
     "text": [
      "Salvando as informações num JSON: relatorio_teste_beamforming_SNR_-9dB_semPCA_1585102112.3308246.json\n",
      "Classificando com o  SVC\n"
     ]
    },
    {
     "name": "stderr",
     "output_type": "stream",
     "text": [
      "/home/dimi/venvIC/lib/python3.7/site-packages/sklearn/metrics/classification.py:1437: UndefinedMetricWarning: Precision and F-score are ill-defined and being set to 0.0 in labels with no predicted samples.\n",
      "  'precision', 'predicted', average, warn_for)\n"
     ]
    },
    {
     "name": "stdout",
     "output_type": "stream",
     "text": [
      "Salvando as informações num JSON: relatorio_teste_beamforming_SNR_-9dB_semPCA_1585102113.5343106.json\n",
      "Classificando com o  SVC\n"
     ]
    },
    {
     "name": "stderr",
     "output_type": "stream",
     "text": [
      "/home/dimi/venvIC/lib/python3.7/site-packages/sklearn/metrics/classification.py:1437: UndefinedMetricWarning: Precision and F-score are ill-defined and being set to 0.0 in labels with no predicted samples.\n",
      "  'precision', 'predicted', average, warn_for)\n"
     ]
    },
    {
     "name": "stdout",
     "output_type": "stream",
     "text": [
      "Salvando as informações num JSON: relatorio_teste_beamforming_SNR_-9dB_semPCA_1585102114.3734875.json\n",
      "Classificando com o  SVC\n",
      "Salvando as informações num JSON: relatorio_teste_beamforming_SNR_-9dB_semPCA_1585102115.2304437.json\n",
      "Classificando com o  SVC\n",
      "Salvando as informações num JSON: relatorio_teste_beamforming_SNR_-9dB_semPCA_1585102116.003907.json\n",
      "Classificando com o  SVC\n"
     ]
    },
    {
     "name": "stderr",
     "output_type": "stream",
     "text": [
      "/home/dimi/venvIC/lib/python3.7/site-packages/sklearn/metrics/classification.py:1437: UndefinedMetricWarning: Precision and F-score are ill-defined and being set to 0.0 in labels with no predicted samples.\n",
      "  'precision', 'predicted', average, warn_for)\n"
     ]
    },
    {
     "name": "stdout",
     "output_type": "stream",
     "text": [
      "Salvando as informações num JSON: relatorio_teste_beamforming_SNR_-9dB_semPCA_1585102116.7653384.json\n",
      "Classificando com o  SVC\n"
     ]
    },
    {
     "name": "stderr",
     "output_type": "stream",
     "text": [
      "/home/dimi/venvIC/lib/python3.7/site-packages/sklearn/metrics/classification.py:1437: UndefinedMetricWarning: Precision and F-score are ill-defined and being set to 0.0 in labels with no predicted samples.\n",
      "  'precision', 'predicted', average, warn_for)\n"
     ]
    },
    {
     "name": "stdout",
     "output_type": "stream",
     "text": [
      "Salvando as informações num JSON: relatorio_teste_beamforming_SNR_-9dB_semPCA_1585102117.538546.json\n",
      "Classificando com o  LinearDiscriminantAnalysis\n",
      "Salvando as informações num JSON: relatorio_teste_beamforming_SNR_-9dB_semPCA_1585102117.8045588.json\n",
      "Classificando com o  LinearDiscriminantAnalysis\n",
      "Salvando as informações num JSON: relatorio_teste_beamforming_SNR_-9dB_semPCA_1585102118.0657356.json\n",
      "Classificando com o  LinearDiscriminantAnalysis\n",
      "Salvando as informações num JSON: relatorio_teste_beamforming_SNR_-9dB_semPCA_1585102118.3336315.json\n",
      "Classificando com o  LinearDiscriminantAnalysis\n",
      "Salvando as informações num JSON: relatorio_teste_beamforming_SNR_-9dB_semPCA_1585102118.6068282.json\n",
      "Classificando com o  LinearDiscriminantAnalysis\n",
      "Salvando as informações num JSON: relatorio_teste_beamforming_SNR_-9dB_semPCA_1585102118.86815.json\n",
      "Classificando com o  LinearDiscriminantAnalysis\n"
     ]
    },
    {
     "name": "stderr",
     "output_type": "stream",
     "text": [
      "/home/dimi/venvIC/lib/python3.7/site-packages/sklearn/metrics/classification.py:1437: UndefinedMetricWarning: Precision and F-score are ill-defined and being set to 0.0 in labels with no predicted samples.\n",
      "  'precision', 'predicted', average, warn_for)\n"
     ]
    },
    {
     "name": "stdout",
     "output_type": "stream",
     "text": [
      "Salvando as informações num JSON: relatorio_teste_beamforming_SNR_-9dB_semPCA_1585102119.137745.json\n",
      "Classificando com o  LinearDiscriminantAnalysis\n",
      "Salvando as informações num JSON: relatorio_teste_beamforming_SNR_-9dB_semPCA_1585102119.4064662.json\n",
      "Classificando com o  LinearDiscriminantAnalysis\n",
      "Salvando as informações num JSON: relatorio_teste_beamforming_SNR_-9dB_semPCA_1585102119.666637.json\n",
      "Classificando com o  LinearDiscriminantAnalysis\n",
      "Salvando as informações num JSON: relatorio_teste_beamforming_SNR_-9dB_semPCA_1585102119.9310226.json\n",
      "Classificando com o  LinearDiscriminantAnalysis\n",
      "Salvando as informações num JSON: relatorio_teste_beamforming_SNR_-9dB_semPCA_1585102120.1978765.json\n",
      "O teste com todos os classificadores foi finalizado\n",
      "Classificando com o  SVC\n"
     ]
    },
    {
     "name": "stderr",
     "output_type": "stream",
     "text": [
      "/home/dimi/venvIC/lib/python3.7/site-packages/sklearn/metrics/classification.py:1437: UndefinedMetricWarning: Precision and F-score are ill-defined and being set to 0.0 in labels with no predicted samples.\n",
      "  'precision', 'predicted', average, warn_for)\n"
     ]
    },
    {
     "name": "stdout",
     "output_type": "stream",
     "text": [
      "Salvando as informações num JSON: relatorio_teste_semBeamforming_SNR_-9dB_semPCA_1585102121.0385275.json\n",
      "Classificando com o  SVC\n"
     ]
    },
    {
     "name": "stderr",
     "output_type": "stream",
     "text": [
      "/home/dimi/venvIC/lib/python3.7/site-packages/sklearn/metrics/classification.py:1437: UndefinedMetricWarning: Precision and F-score are ill-defined and being set to 0.0 in labels with no predicted samples.\n",
      "  'precision', 'predicted', average, warn_for)\n"
     ]
    },
    {
     "name": "stdout",
     "output_type": "stream",
     "text": [
      "Salvando as informações num JSON: relatorio_teste_semBeamforming_SNR_-9dB_semPCA_1585102122.002817.json\n",
      "Classificando com o  SVC\n",
      "Salvando as informações num JSON: relatorio_teste_semBeamforming_SNR_-9dB_semPCA_1585102122.8987248.json\n",
      "Classificando com o  SVC\n"
     ]
    },
    {
     "name": "stderr",
     "output_type": "stream",
     "text": [
      "/home/dimi/venvIC/lib/python3.7/site-packages/sklearn/metrics/classification.py:1437: UndefinedMetricWarning: Precision and F-score are ill-defined and being set to 0.0 in labels with no predicted samples.\n",
      "  'precision', 'predicted', average, warn_for)\n"
     ]
    },
    {
     "name": "stdout",
     "output_type": "stream",
     "text": [
      "Salvando as informações num JSON: relatorio_teste_semBeamforming_SNR_-9dB_semPCA_1585102123.7922037.json\n",
      "Classificando com o  SVC\n"
     ]
    },
    {
     "name": "stderr",
     "output_type": "stream",
     "text": [
      "/home/dimi/venvIC/lib/python3.7/site-packages/sklearn/metrics/classification.py:1437: UndefinedMetricWarning: Precision and F-score are ill-defined and being set to 0.0 in labels with no predicted samples.\n",
      "  'precision', 'predicted', average, warn_for)\n"
     ]
    },
    {
     "name": "stdout",
     "output_type": "stream",
     "text": [
      "Salvando as informações num JSON: relatorio_teste_semBeamforming_SNR_-9dB_semPCA_1585102124.6963897.json\n",
      "Classificando com o  SVC\n"
     ]
    },
    {
     "name": "stderr",
     "output_type": "stream",
     "text": [
      "/home/dimi/venvIC/lib/python3.7/site-packages/sklearn/metrics/classification.py:1437: UndefinedMetricWarning: Precision and F-score are ill-defined and being set to 0.0 in labels with no predicted samples.\n",
      "  'precision', 'predicted', average, warn_for)\n"
     ]
    },
    {
     "name": "stdout",
     "output_type": "stream",
     "text": [
      "Salvando as informações num JSON: relatorio_teste_semBeamforming_SNR_-9dB_semPCA_1585102125.7932827.json\n",
      "Classificando com o  SVC\n",
      "Salvando as informações num JSON: relatorio_teste_semBeamforming_SNR_-9dB_semPCA_1585102127.0184124.json\n",
      "Classificando com o  SVC\n",
      "Salvando as informações num JSON: relatorio_teste_semBeamforming_SNR_-9dB_semPCA_1585102128.3537738.json\n",
      "Classificando com o  SVC\n"
     ]
    },
    {
     "name": "stderr",
     "output_type": "stream",
     "text": [
      "/home/dimi/venvIC/lib/python3.7/site-packages/sklearn/metrics/classification.py:1437: UndefinedMetricWarning: Precision and F-score are ill-defined and being set to 0.0 in labels with no predicted samples.\n",
      "  'precision', 'predicted', average, warn_for)\n"
     ]
    },
    {
     "name": "stdout",
     "output_type": "stream",
     "text": [
      "Salvando as informações num JSON: relatorio_teste_semBeamforming_SNR_-9dB_semPCA_1585102129.2867484.json\n",
      "Classificando com o  SVC\n"
     ]
    },
    {
     "name": "stderr",
     "output_type": "stream",
     "text": [
      "/home/dimi/venvIC/lib/python3.7/site-packages/sklearn/metrics/classification.py:1437: UndefinedMetricWarning: Precision and F-score are ill-defined and being set to 0.0 in labels with no predicted samples.\n",
      "  'precision', 'predicted', average, warn_for)\n"
     ]
    },
    {
     "name": "stdout",
     "output_type": "stream",
     "text": [
      "Salvando as informações num JSON: relatorio_teste_semBeamforming_SNR_-9dB_semPCA_1585102130.0729892.json\n",
      "Classificando com o  LinearDiscriminantAnalysis\n",
      "Salvando as informações num JSON: relatorio_teste_semBeamforming_SNR_-9dB_semPCA_1585102130.3476732.json\n",
      "Classificando com o  LinearDiscriminantAnalysis\n",
      "Salvando as informações num JSON: relatorio_teste_semBeamforming_SNR_-9dB_semPCA_1585102130.680429.json\n",
      "Classificando com o  LinearDiscriminantAnalysis\n",
      "Salvando as informações num JSON: relatorio_teste_semBeamforming_SNR_-9dB_semPCA_1585102130.9377575.json\n",
      "Classificando com o  LinearDiscriminantAnalysis\n",
      "Salvando as informações num JSON: relatorio_teste_semBeamforming_SNR_-9dB_semPCA_1585102131.2010686.json\n",
      "Classificando com o  LinearDiscriminantAnalysis\n",
      "Salvando as informações num JSON: relatorio_teste_semBeamforming_SNR_-9dB_semPCA_1585102131.493797.json\n",
      "Classificando com o  LinearDiscriminantAnalysis\n"
     ]
    },
    {
     "name": "stderr",
     "output_type": "stream",
     "text": [
      "/home/dimi/venvIC/lib/python3.7/site-packages/sklearn/metrics/classification.py:1437: UndefinedMetricWarning: Precision and F-score are ill-defined and being set to 0.0 in labels with no predicted samples.\n",
      "  'precision', 'predicted', average, warn_for)\n"
     ]
    },
    {
     "name": "stdout",
     "output_type": "stream",
     "text": [
      "Salvando as informações num JSON: relatorio_teste_semBeamforming_SNR_-9dB_semPCA_1585102131.7441833.json\n",
      "Classificando com o  LinearDiscriminantAnalysis\n",
      "Salvando as informações num JSON: relatorio_teste_semBeamforming_SNR_-9dB_semPCA_1585102132.0258913.json\n",
      "Classificando com o  LinearDiscriminantAnalysis\n",
      "Salvando as informações num JSON: relatorio_teste_semBeamforming_SNR_-9dB_semPCA_1585102132.2915635.json\n",
      "Classificando com o  LinearDiscriminantAnalysis\n",
      "Salvando as informações num JSON: relatorio_teste_semBeamforming_SNR_-9dB_semPCA_1585102132.6546454.json\n",
      "Classificando com o  LinearDiscriminantAnalysis\n",
      "Salvando as informações num JSON: relatorio_teste_semBeamforming_SNR_-9dB_semPCA_1585102133.118329.json\n",
      "O teste com todos os classificadores foi finalizado\n",
      "Classificando com o  SVC\n"
     ]
    },
    {
     "name": "stderr",
     "output_type": "stream",
     "text": [
      "/home/dimi/venvIC/lib/python3.7/site-packages/sklearn/metrics/classification.py:1437: UndefinedMetricWarning: Precision and F-score are ill-defined and being set to 0.0 in labels with no predicted samples.\n",
      "  'precision', 'predicted', average, warn_for)\n"
     ]
    },
    {
     "name": "stdout",
     "output_type": "stream",
     "text": [
      "Salvando as informações num JSON: relatorio_teste_GSC_SNR_-9dB_semPCA_1585102134.459383.json\n",
      "Classificando com o  SVC\n"
     ]
    },
    {
     "name": "stderr",
     "output_type": "stream",
     "text": [
      "/home/dimi/venvIC/lib/python3.7/site-packages/sklearn/metrics/classification.py:1437: UndefinedMetricWarning: Precision and F-score are ill-defined and being set to 0.0 in labels with no predicted samples.\n",
      "  'precision', 'predicted', average, warn_for)\n"
     ]
    },
    {
     "name": "stdout",
     "output_type": "stream",
     "text": [
      "Salvando as informações num JSON: relatorio_teste_GSC_SNR_-9dB_semPCA_1585102135.463503.json\n",
      "Classificando com o  SVC\n"
     ]
    },
    {
     "name": "stderr",
     "output_type": "stream",
     "text": [
      "/home/dimi/venvIC/lib/python3.7/site-packages/sklearn/metrics/classification.py:1437: UndefinedMetricWarning: Precision and F-score are ill-defined and being set to 0.0 in labels with no predicted samples.\n",
      "  'precision', 'predicted', average, warn_for)\n"
     ]
    },
    {
     "name": "stdout",
     "output_type": "stream",
     "text": [
      "Salvando as informações num JSON: relatorio_teste_GSC_SNR_-9dB_semPCA_1585102136.224093.json\n",
      "Classificando com o  SVC\n"
     ]
    },
    {
     "name": "stderr",
     "output_type": "stream",
     "text": [
      "/home/dimi/venvIC/lib/python3.7/site-packages/sklearn/metrics/classification.py:1437: UndefinedMetricWarning: Precision and F-score are ill-defined and being set to 0.0 in labels with no predicted samples.\n",
      "  'precision', 'predicted', average, warn_for)\n"
     ]
    },
    {
     "name": "stdout",
     "output_type": "stream",
     "text": [
      "Salvando as informações num JSON: relatorio_teste_GSC_SNR_-9dB_semPCA_1585102137.2222474.json\n",
      "Classificando com o  SVC\n"
     ]
    },
    {
     "name": "stderr",
     "output_type": "stream",
     "text": [
      "/home/dimi/venvIC/lib/python3.7/site-packages/sklearn/metrics/classification.py:1437: UndefinedMetricWarning: Precision and F-score are ill-defined and being set to 0.0 in labels with no predicted samples.\n",
      "  'precision', 'predicted', average, warn_for)\n"
     ]
    },
    {
     "name": "stdout",
     "output_type": "stream",
     "text": [
      "Salvando as informações num JSON: relatorio_teste_GSC_SNR_-9dB_semPCA_1585102138.1128871.json\n",
      "Classificando com o  SVC\n"
     ]
    },
    {
     "name": "stderr",
     "output_type": "stream",
     "text": [
      "/home/dimi/venvIC/lib/python3.7/site-packages/sklearn/metrics/classification.py:1437: UndefinedMetricWarning: Precision and F-score are ill-defined and being set to 0.0 in labels with no predicted samples.\n",
      "  'precision', 'predicted', average, warn_for)\n"
     ]
    },
    {
     "name": "stdout",
     "output_type": "stream",
     "text": [
      "Salvando as informações num JSON: relatorio_teste_GSC_SNR_-9dB_semPCA_1585102138.9356444.json\n",
      "Classificando com o  SVC\n",
      "Salvando as informações num JSON: relatorio_teste_GSC_SNR_-9dB_semPCA_1585102140.0553885.json\n",
      "Classificando com o  SVC\n"
     ]
    },
    {
     "name": "stderr",
     "output_type": "stream",
     "text": [
      "/home/dimi/venvIC/lib/python3.7/site-packages/sklearn/metrics/classification.py:1437: UndefinedMetricWarning: Precision and F-score are ill-defined and being set to 0.0 in labels with no predicted samples.\n",
      "  'precision', 'predicted', average, warn_for)\n"
     ]
    },
    {
     "name": "stdout",
     "output_type": "stream",
     "text": [
      "Salvando as informações num JSON: relatorio_teste_GSC_SNR_-9dB_semPCA_1585102141.7154067.json\n",
      "Classificando com o  SVC\n"
     ]
    },
    {
     "name": "stderr",
     "output_type": "stream",
     "text": [
      "/home/dimi/venvIC/lib/python3.7/site-packages/sklearn/metrics/classification.py:1437: UndefinedMetricWarning: Precision and F-score are ill-defined and being set to 0.0 in labels with no predicted samples.\n",
      "  'precision', 'predicted', average, warn_for)\n"
     ]
    },
    {
     "name": "stdout",
     "output_type": "stream",
     "text": [
      "Salvando as informações num JSON: relatorio_teste_GSC_SNR_-9dB_semPCA_1585102143.096033.json\n",
      "Classificando com o  SVC\n"
     ]
    },
    {
     "name": "stderr",
     "output_type": "stream",
     "text": [
      "/home/dimi/venvIC/lib/python3.7/site-packages/sklearn/metrics/classification.py:1437: UndefinedMetricWarning: Precision and F-score are ill-defined and being set to 0.0 in labels with no predicted samples.\n",
      "  'precision', 'predicted', average, warn_for)\n"
     ]
    },
    {
     "name": "stdout",
     "output_type": "stream",
     "text": [
      "Salvando as informações num JSON: relatorio_teste_GSC_SNR_-9dB_semPCA_1585102144.2297177.json\n",
      "Classificando com o  LinearDiscriminantAnalysis\n",
      "Salvando as informações num JSON: relatorio_teste_GSC_SNR_-9dB_semPCA_1585102144.620369.json\n",
      "Classificando com o  LinearDiscriminantAnalysis\n"
     ]
    },
    {
     "name": "stderr",
     "output_type": "stream",
     "text": [
      "/home/dimi/venvIC/lib/python3.7/site-packages/sklearn/metrics/classification.py:1437: UndefinedMetricWarning: Precision and F-score are ill-defined and being set to 0.0 in labels with no predicted samples.\n",
      "  'precision', 'predicted', average, warn_for)\n"
     ]
    },
    {
     "name": "stdout",
     "output_type": "stream",
     "text": [
      "Salvando as informações num JSON: relatorio_teste_GSC_SNR_-9dB_semPCA_1585102145.017167.json\n",
      "Classificando com o  LinearDiscriminantAnalysis\n"
     ]
    },
    {
     "name": "stderr",
     "output_type": "stream",
     "text": [
      "/home/dimi/venvIC/lib/python3.7/site-packages/sklearn/metrics/classification.py:1437: UndefinedMetricWarning: Precision and F-score are ill-defined and being set to 0.0 in labels with no predicted samples.\n",
      "  'precision', 'predicted', average, warn_for)\n"
     ]
    },
    {
     "name": "stdout",
     "output_type": "stream",
     "text": [
      "Salvando as informações num JSON: relatorio_teste_GSC_SNR_-9dB_semPCA_1585102145.5660715.json\n",
      "Classificando com o  LinearDiscriminantAnalysis\n",
      "Salvando as informações num JSON: relatorio_teste_GSC_SNR_-9dB_semPCA_1585102145.9535086.json\n",
      "Classificando com o  LinearDiscriminantAnalysis\n"
     ]
    },
    {
     "name": "stderr",
     "output_type": "stream",
     "text": [
      "/home/dimi/venvIC/lib/python3.7/site-packages/sklearn/metrics/classification.py:1437: UndefinedMetricWarning: Precision and F-score are ill-defined and being set to 0.0 in labels with no predicted samples.\n",
      "  'precision', 'predicted', average, warn_for)\n"
     ]
    },
    {
     "name": "stdout",
     "output_type": "stream",
     "text": [
      "Salvando as informações num JSON: relatorio_teste_GSC_SNR_-9dB_semPCA_1585102146.3546383.json\n",
      "Classificando com o  LinearDiscriminantAnalysis\n"
     ]
    },
    {
     "name": "stderr",
     "output_type": "stream",
     "text": [
      "/home/dimi/venvIC/lib/python3.7/site-packages/sklearn/metrics/classification.py:1437: UndefinedMetricWarning: Precision and F-score are ill-defined and being set to 0.0 in labels with no predicted samples.\n",
      "  'precision', 'predicted', average, warn_for)\n"
     ]
    },
    {
     "name": "stdout",
     "output_type": "stream",
     "text": [
      "Salvando as informações num JSON: relatorio_teste_GSC_SNR_-9dB_semPCA_1585102146.6980352.json\n",
      "Classificando com o  LinearDiscriminantAnalysis\n"
     ]
    },
    {
     "name": "stderr",
     "output_type": "stream",
     "text": [
      "/home/dimi/venvIC/lib/python3.7/site-packages/sklearn/metrics/classification.py:1437: UndefinedMetricWarning: Precision and F-score are ill-defined and being set to 0.0 in labels with no predicted samples.\n",
      "  'precision', 'predicted', average, warn_for)\n"
     ]
    },
    {
     "name": "stdout",
     "output_type": "stream",
     "text": [
      "Salvando as informações num JSON: relatorio_teste_GSC_SNR_-9dB_semPCA_1585102147.0294275.json\n",
      "Classificando com o  LinearDiscriminantAnalysis\n",
      "Salvando as informações num JSON: relatorio_teste_GSC_SNR_-9dB_semPCA_1585102147.3841004.json\n",
      "Classificando com o  LinearDiscriminantAnalysis\n",
      "Salvando as informações num JSON: relatorio_teste_GSC_SNR_-9dB_semPCA_1585102147.948357.json\n",
      "Classificando com o  LinearDiscriminantAnalysis\n"
     ]
    },
    {
     "name": "stderr",
     "output_type": "stream",
     "text": [
      "/home/dimi/venvIC/lib/python3.7/site-packages/sklearn/metrics/classification.py:1437: UndefinedMetricWarning: Precision and F-score are ill-defined and being set to 0.0 in labels with no predicted samples.\n",
      "  'precision', 'predicted', average, warn_for)\n"
     ]
    },
    {
     "name": "stdout",
     "output_type": "stream",
     "text": [
      "Salvando as informações num JSON: relatorio_teste_GSC_SNR_-9dB_semPCA_1585102148.314692.json\n",
      "O teste com todos os classificadores foi finalizado\n",
      "Classificando com o  SVC\n",
      "Salvando as informações num JSON: relatorio_teste_beamforming_SNR_13dB_semPCA_1585102149.4001362.json\n",
      "Classificando com o  SVC\n",
      "Salvando as informações num JSON: relatorio_teste_beamforming_SNR_13dB_semPCA_1585102150.3840947.json\n",
      "Classificando com o  SVC\n",
      "Salvando as informações num JSON: relatorio_teste_beamforming_SNR_13dB_semPCA_1585102151.2860863.json\n",
      "Classificando com o  SVC\n",
      "Salvando as informações num JSON: relatorio_teste_beamforming_SNR_13dB_semPCA_1585102152.242515.json\n",
      "Classificando com o  SVC\n",
      "Salvando as informações num JSON: relatorio_teste_beamforming_SNR_13dB_semPCA_1585102153.20152.json\n",
      "Classificando com o  SVC\n",
      "Salvando as informações num JSON: relatorio_teste_beamforming_SNR_13dB_semPCA_1585102154.19931.json\n",
      "Classificando com o  SVC\n",
      "Salvando as informações num JSON: relatorio_teste_beamforming_SNR_13dB_semPCA_1585102155.306338.json\n",
      "Classificando com o  SVC\n",
      "Salvando as informações num JSON: relatorio_teste_beamforming_SNR_13dB_semPCA_1585102156.2482555.json\n",
      "Classificando com o  SVC\n",
      "Salvando as informações num JSON: relatorio_teste_beamforming_SNR_13dB_semPCA_1585102157.2997975.json\n",
      "Classificando com o  SVC\n",
      "Salvando as informações num JSON: relatorio_teste_beamforming_SNR_13dB_semPCA_1585102158.2803166.json\n",
      "Classificando com o  LinearDiscriminantAnalysis\n",
      "Salvando as informações num JSON: relatorio_teste_beamforming_SNR_13dB_semPCA_1585102158.639374.json\n",
      "Classificando com o  LinearDiscriminantAnalysis\n",
      "Salvando as informações num JSON: relatorio_teste_beamforming_SNR_13dB_semPCA_1585102158.9834452.json\n",
      "Classificando com o  LinearDiscriminantAnalysis\n",
      "Salvando as informações num JSON: relatorio_teste_beamforming_SNR_13dB_semPCA_1585102159.308119.json\n",
      "Classificando com o  LinearDiscriminantAnalysis\n",
      "Salvando as informações num JSON: relatorio_teste_beamforming_SNR_13dB_semPCA_1585102159.6618993.json\n",
      "Classificando com o  LinearDiscriminantAnalysis\n",
      "Salvando as informações num JSON: relatorio_teste_beamforming_SNR_13dB_semPCA_1585102160.0285234.json\n",
      "Classificando com o  LinearDiscriminantAnalysis\n",
      "Salvando as informações num JSON: relatorio_teste_beamforming_SNR_13dB_semPCA_1585102160.3862352.json\n",
      "Classificando com o  LinearDiscriminantAnalysis\n",
      "Salvando as informações num JSON: relatorio_teste_beamforming_SNR_13dB_semPCA_1585102160.7296863.json\n",
      "Classificando com o  LinearDiscriminantAnalysis\n",
      "Salvando as informações num JSON: relatorio_teste_beamforming_SNR_13dB_semPCA_1585102161.0716407.json\n",
      "Classificando com o  LinearDiscriminantAnalysis\n",
      "Salvando as informações num JSON: relatorio_teste_beamforming_SNR_13dB_semPCA_1585102161.4286106.json\n",
      "Classificando com o  LinearDiscriminantAnalysis\n",
      "Salvando as informações num JSON: relatorio_teste_beamforming_SNR_13dB_semPCA_1585102161.747078.json\n",
      "O teste com todos os classificadores foi finalizado\n",
      "Classificando com o  SVC\n",
      "Salvando as informações num JSON: relatorio_teste_GSC_SNR_13dB_semPCA_1585102162.7922425.json\n",
      "Classificando com o  SVC\n",
      "Salvando as informações num JSON: relatorio_teste_GSC_SNR_13dB_semPCA_1585102163.784803.json\n",
      "Classificando com o  SVC\n",
      "Salvando as informações num JSON: relatorio_teste_GSC_SNR_13dB_semPCA_1585102164.709077.json\n",
      "Classificando com o  SVC\n",
      "Salvando as informações num JSON: relatorio_teste_GSC_SNR_13dB_semPCA_1585102165.6892223.json\n",
      "Classificando com o  SVC\n",
      "Salvando as informações num JSON: relatorio_teste_GSC_SNR_13dB_semPCA_1585102166.6532373.json\n",
      "Classificando com o  SVC\n",
      "Salvando as informações num JSON: relatorio_teste_GSC_SNR_13dB_semPCA_1585102167.6431196.json\n",
      "Classificando com o  SVC\n",
      "Salvando as informações num JSON: relatorio_teste_GSC_SNR_13dB_semPCA_1585102168.6340466.json\n",
      "Classificando com o  SVC\n",
      "Salvando as informações num JSON: relatorio_teste_GSC_SNR_13dB_semPCA_1585102169.70463.json\n",
      "Classificando com o  SVC\n",
      "Salvando as informações num JSON: relatorio_teste_GSC_SNR_13dB_semPCA_1585102170.6949105.json\n",
      "Classificando com o  SVC\n",
      "Salvando as informações num JSON: relatorio_teste_GSC_SNR_13dB_semPCA_1585102171.6020176.json\n",
      "Classificando com o  LinearDiscriminantAnalysis\n",
      "Salvando as informações num JSON: relatorio_teste_GSC_SNR_13dB_semPCA_1585102171.935542.json\n",
      "Classificando com o  LinearDiscriminantAnalysis\n",
      "Salvando as informações num JSON: relatorio_teste_GSC_SNR_13dB_semPCA_1585102172.2727077.json\n",
      "Classificando com o  LinearDiscriminantAnalysis\n",
      "Salvando as informações num JSON: relatorio_teste_GSC_SNR_13dB_semPCA_1585102172.6245036.json\n",
      "Classificando com o  LinearDiscriminantAnalysis\n",
      "Salvando as informações num JSON: relatorio_teste_GSC_SNR_13dB_semPCA_1585102172.9584205.json\n",
      "Classificando com o  LinearDiscriminantAnalysis\n",
      "Salvando as informações num JSON: relatorio_teste_GSC_SNR_13dB_semPCA_1585102173.2876196.json\n",
      "Classificando com o  LinearDiscriminantAnalysis\n",
      "Salvando as informações num JSON: relatorio_teste_GSC_SNR_13dB_semPCA_1585102173.6155615.json\n",
      "Classificando com o  LinearDiscriminantAnalysis\n",
      "Salvando as informações num JSON: relatorio_teste_GSC_SNR_13dB_semPCA_1585102173.9418004.json\n",
      "Classificando com o  LinearDiscriminantAnalysis\n",
      "Salvando as informações num JSON: relatorio_teste_GSC_SNR_13dB_semPCA_1585102174.2626433.json\n",
      "Classificando com o  LinearDiscriminantAnalysis\n",
      "Salvando as informações num JSON: relatorio_teste_GSC_SNR_13dB_semPCA_1585102174.59288.json\n",
      "Classificando com o  LinearDiscriminantAnalysis\n",
      "Salvando as informações num JSON: relatorio_teste_GSC_SNR_13dB_semPCA_1585102174.9447753.json\n",
      "O teste com todos os classificadores foi finalizado\n",
      "Classificando com o  SVC\n",
      "Salvando as informações num JSON: relatorio_teste_semBeamforming_SNR_13dB_semPCA_1585102176.0152123.json\n",
      "Classificando com o  SVC\n",
      "Salvando as informações num JSON: relatorio_teste_semBeamforming_SNR_13dB_semPCA_1585102177.065862.json\n",
      "Classificando com o  SVC\n",
      "Salvando as informações num JSON: relatorio_teste_semBeamforming_SNR_13dB_semPCA_1585102177.9690783.json\n",
      "Classificando com o  SVC\n",
      "Salvando as informações num JSON: relatorio_teste_semBeamforming_SNR_13dB_semPCA_1585102178.934091.json\n",
      "Classificando com o  SVC\n",
      "Salvando as informações num JSON: relatorio_teste_semBeamforming_SNR_13dB_semPCA_1585102179.899577.json\n",
      "Classificando com o  SVC\n",
      "Salvando as informações num JSON: relatorio_teste_semBeamforming_SNR_13dB_semPCA_1585102180.9233952.json\n",
      "Classificando com o  SVC\n",
      "Salvando as informações num JSON: relatorio_teste_semBeamforming_SNR_13dB_semPCA_1585102181.919526.json\n",
      "Classificando com o  SVC\n",
      "Salvando as informações num JSON: relatorio_teste_semBeamforming_SNR_13dB_semPCA_1585102182.8668084.json\n",
      "Classificando com o  SVC\n",
      "Salvando as informações num JSON: relatorio_teste_semBeamforming_SNR_13dB_semPCA_1585102183.8334577.json\n",
      "Classificando com o  SVC\n",
      "Salvando as informações num JSON: relatorio_teste_semBeamforming_SNR_13dB_semPCA_1585102184.8515928.json\n",
      "Classificando com o  LinearDiscriminantAnalysis\n",
      "Salvando as informações num JSON: relatorio_teste_semBeamforming_SNR_13dB_semPCA_1585102185.2676098.json\n",
      "Classificando com o  LinearDiscriminantAnalysis\n",
      "Salvando as informações num JSON: relatorio_teste_semBeamforming_SNR_13dB_semPCA_1585102185.7523527.json\n",
      "Classificando com o  LinearDiscriminantAnalysis\n",
      "Salvando as informações num JSON: relatorio_teste_semBeamforming_SNR_13dB_semPCA_1585102186.0911324.json\n",
      "Classificando com o  LinearDiscriminantAnalysis\n",
      "Salvando as informações num JSON: relatorio_teste_semBeamforming_SNR_13dB_semPCA_1585102186.3895774.json\n",
      "Classificando com o  LinearDiscriminantAnalysis\n",
      "Salvando as informações num JSON: relatorio_teste_semBeamforming_SNR_13dB_semPCA_1585102186.6811798.json\n",
      "Classificando com o  LinearDiscriminantAnalysis\n",
      "Salvando as informações num JSON: relatorio_teste_semBeamforming_SNR_13dB_semPCA_1585102186.9891648.json\n",
      "Classificando com o  LinearDiscriminantAnalysis\n",
      "Salvando as informações num JSON: relatorio_teste_semBeamforming_SNR_13dB_semPCA_1585102187.2566442.json\n",
      "Classificando com o  LinearDiscriminantAnalysis\n",
      "Salvando as informações num JSON: relatorio_teste_semBeamforming_SNR_13dB_semPCA_1585102187.5385041.json\n",
      "Classificando com o  LinearDiscriminantAnalysis\n",
      "Salvando as informações num JSON: relatorio_teste_semBeamforming_SNR_13dB_semPCA_1585102187.8241692.json\n",
      "Classificando com o  LinearDiscriminantAnalysis\n"
     ]
    },
    {
     "name": "stdout",
     "output_type": "stream",
     "text": [
      "Salvando as informações num JSON: relatorio_teste_semBeamforming_SNR_13dB_semPCA_1585102188.1880832.json\n",
      "O teste com todos os classificadores foi finalizado\n",
      "Classificando com o  SVC\n",
      "Salvando as informações num JSON: relatorio_teste_semBeamforming_SNR_-2dB_semPCA_1585102189.085741.json\n",
      "Classificando com o  SVC\n",
      "Salvando as informações num JSON: relatorio_teste_semBeamforming_SNR_-2dB_semPCA_1585102190.0053797.json\n",
      "Classificando com o  SVC\n",
      "Salvando as informações num JSON: relatorio_teste_semBeamforming_SNR_-2dB_semPCA_1585102190.952974.json\n",
      "Classificando com o  SVC\n",
      "Salvando as informações num JSON: relatorio_teste_semBeamforming_SNR_-2dB_semPCA_1585102191.858862.json\n",
      "Classificando com o  SVC\n",
      "Salvando as informações num JSON: relatorio_teste_semBeamforming_SNR_-2dB_semPCA_1585102192.71607.json\n",
      "Classificando com o  SVC\n",
      "Salvando as informações num JSON: relatorio_teste_semBeamforming_SNR_-2dB_semPCA_1585102193.5291271.json\n",
      "Classificando com o  SVC\n",
      "Salvando as informações num JSON: relatorio_teste_semBeamforming_SNR_-2dB_semPCA_1585102194.3082886.json\n",
      "Classificando com o  SVC\n",
      "Salvando as informações num JSON: relatorio_teste_semBeamforming_SNR_-2dB_semPCA_1585102195.1259077.json\n",
      "Classificando com o  SVC\n",
      "Salvando as informações num JSON: relatorio_teste_semBeamforming_SNR_-2dB_semPCA_1585102195.8824956.json\n",
      "Classificando com o  SVC\n",
      "Salvando as informações num JSON: relatorio_teste_semBeamforming_SNR_-2dB_semPCA_1585102196.616078.json\n",
      "Classificando com o  LinearDiscriminantAnalysis\n",
      "Salvando as informações num JSON: relatorio_teste_semBeamforming_SNR_-2dB_semPCA_1585102196.899658.json\n",
      "Classificando com o  LinearDiscriminantAnalysis\n"
     ]
    },
    {
     "name": "stderr",
     "output_type": "stream",
     "text": [
      "/home/dimi/venvIC/lib/python3.7/site-packages/sklearn/metrics/classification.py:1437: UndefinedMetricWarning: Precision and F-score are ill-defined and being set to 0.0 in labels with no predicted samples.\n",
      "  'precision', 'predicted', average, warn_for)\n"
     ]
    },
    {
     "name": "stdout",
     "output_type": "stream",
     "text": [
      "Salvando as informações num JSON: relatorio_teste_semBeamforming_SNR_-2dB_semPCA_1585102197.1806884.json\n",
      "Classificando com o  LinearDiscriminantAnalysis\n",
      "Salvando as informações num JSON: relatorio_teste_semBeamforming_SNR_-2dB_semPCA_1585102197.446267.json\n",
      "Classificando com o  LinearDiscriminantAnalysis\n"
     ]
    },
    {
     "name": "stderr",
     "output_type": "stream",
     "text": [
      "/home/dimi/venvIC/lib/python3.7/site-packages/sklearn/metrics/classification.py:1437: UndefinedMetricWarning: Precision and F-score are ill-defined and being set to 0.0 in labels with no predicted samples.\n",
      "  'precision', 'predicted', average, warn_for)\n"
     ]
    },
    {
     "name": "stdout",
     "output_type": "stream",
     "text": [
      "Salvando as informações num JSON: relatorio_teste_semBeamforming_SNR_-2dB_semPCA_1585102197.8772058.json\n",
      "Classificando com o  LinearDiscriminantAnalysis\n"
     ]
    },
    {
     "name": "stderr",
     "output_type": "stream",
     "text": [
      "/home/dimi/venvIC/lib/python3.7/site-packages/sklearn/metrics/classification.py:1437: UndefinedMetricWarning: Precision and F-score are ill-defined and being set to 0.0 in labels with no predicted samples.\n",
      "  'precision', 'predicted', average, warn_for)\n"
     ]
    },
    {
     "name": "stdout",
     "output_type": "stream",
     "text": [
      "Salvando as informações num JSON: relatorio_teste_semBeamforming_SNR_-2dB_semPCA_1585102198.3507395.json\n",
      "Classificando com o  LinearDiscriminantAnalysis\n"
     ]
    },
    {
     "name": "stderr",
     "output_type": "stream",
     "text": [
      "/home/dimi/venvIC/lib/python3.7/site-packages/sklearn/metrics/classification.py:1437: UndefinedMetricWarning: Precision and F-score are ill-defined and being set to 0.0 in labels with no predicted samples.\n",
      "  'precision', 'predicted', average, warn_for)\n"
     ]
    },
    {
     "name": "stdout",
     "output_type": "stream",
     "text": [
      "Salvando as informações num JSON: relatorio_teste_semBeamforming_SNR_-2dB_semPCA_1585102198.7975886.json\n",
      "Classificando com o  LinearDiscriminantAnalysis\n"
     ]
    },
    {
     "name": "stderr",
     "output_type": "stream",
     "text": [
      "/home/dimi/venvIC/lib/python3.7/site-packages/sklearn/metrics/classification.py:1437: UndefinedMetricWarning: Precision and F-score are ill-defined and being set to 0.0 in labels with no predicted samples.\n",
      "  'precision', 'predicted', average, warn_for)\n"
     ]
    },
    {
     "name": "stdout",
     "output_type": "stream",
     "text": [
      "Salvando as informações num JSON: relatorio_teste_semBeamforming_SNR_-2dB_semPCA_1585102199.3101869.json\n",
      "Classificando com o  LinearDiscriminantAnalysis\n"
     ]
    },
    {
     "name": "stderr",
     "output_type": "stream",
     "text": [
      "/home/dimi/venvIC/lib/python3.7/site-packages/sklearn/metrics/classification.py:1437: UndefinedMetricWarning: Precision and F-score are ill-defined and being set to 0.0 in labels with no predicted samples.\n",
      "  'precision', 'predicted', average, warn_for)\n"
     ]
    },
    {
     "name": "stdout",
     "output_type": "stream",
     "text": [
      "Salvando as informações num JSON: relatorio_teste_semBeamforming_SNR_-2dB_semPCA_1585102199.733199.json\n",
      "Classificando com o  LinearDiscriminantAnalysis\n",
      "Salvando as informações num JSON: relatorio_teste_semBeamforming_SNR_-2dB_semPCA_1585102200.202928.json\n",
      "Classificando com o  LinearDiscriminantAnalysis\n"
     ]
    },
    {
     "name": "stderr",
     "output_type": "stream",
     "text": [
      "/home/dimi/venvIC/lib/python3.7/site-packages/sklearn/metrics/classification.py:1437: UndefinedMetricWarning: Precision and F-score are ill-defined and being set to 0.0 in labels with no predicted samples.\n",
      "  'precision', 'predicted', average, warn_for)\n"
     ]
    },
    {
     "name": "stdout",
     "output_type": "stream",
     "text": [
      "Salvando as informações num JSON: relatorio_teste_semBeamforming_SNR_-2dB_semPCA_1585102200.744933.json\n",
      "O teste com todos os classificadores foi finalizado\n",
      "Classificando com o  SVC\n",
      "Salvando as informações num JSON: relatorio_teste_beamforming_SNR_-2dB_semPCA_1585102202.289699.json\n",
      "Classificando com o  SVC\n",
      "Salvando as informações num JSON: relatorio_teste_beamforming_SNR_-2dB_semPCA_1585102203.906668.json\n",
      "Classificando com o  SVC\n",
      "Salvando as informações num JSON: relatorio_teste_beamforming_SNR_-2dB_semPCA_1585102204.961467.json\n",
      "Classificando com o  SVC\n",
      "Salvando as informações num JSON: relatorio_teste_beamforming_SNR_-2dB_semPCA_1585102205.8476057.json\n",
      "Classificando com o  SVC\n",
      "Salvando as informações num JSON: relatorio_teste_beamforming_SNR_-2dB_semPCA_1585102206.664462.json\n",
      "Classificando com o  SVC\n",
      "Salvando as informações num JSON: relatorio_teste_beamforming_SNR_-2dB_semPCA_1585102207.4503179.json\n",
      "Classificando com o  SVC\n",
      "Salvando as informações num JSON: relatorio_teste_beamforming_SNR_-2dB_semPCA_1585102208.2369442.json\n",
      "Classificando com o  SVC\n",
      "Salvando as informações num JSON: relatorio_teste_beamforming_SNR_-2dB_semPCA_1585102209.0546489.json\n",
      "Classificando com o  SVC\n",
      "Salvando as informações num JSON: relatorio_teste_beamforming_SNR_-2dB_semPCA_1585102209.8216867.json\n",
      "Classificando com o  SVC\n",
      "Salvando as informações num JSON: relatorio_teste_beamforming_SNR_-2dB_semPCA_1585102210.5813248.json\n",
      "Classificando com o  LinearDiscriminantAnalysis\n",
      "Salvando as informações num JSON: relatorio_teste_beamforming_SNR_-2dB_semPCA_1585102210.8422372.json\n",
      "Classificando com o  LinearDiscriminantAnalysis\n"
     ]
    },
    {
     "name": "stderr",
     "output_type": "stream",
     "text": [
      "/home/dimi/venvIC/lib/python3.7/site-packages/sklearn/metrics/classification.py:1437: UndefinedMetricWarning: Precision and F-score are ill-defined and being set to 0.0 in labels with no predicted samples.\n",
      "  'precision', 'predicted', average, warn_for)\n"
     ]
    },
    {
     "name": "stdout",
     "output_type": "stream",
     "text": [
      "Salvando as informações num JSON: relatorio_teste_beamforming_SNR_-2dB_semPCA_1585102211.1052167.json\n",
      "Classificando com o  LinearDiscriminantAnalysis\n",
      "Salvando as informações num JSON: relatorio_teste_beamforming_SNR_-2dB_semPCA_1585102211.3695588.json\n",
      "Classificando com o  LinearDiscriminantAnalysis\n"
     ]
    },
    {
     "name": "stderr",
     "output_type": "stream",
     "text": [
      "/home/dimi/venvIC/lib/python3.7/site-packages/sklearn/metrics/classification.py:1437: UndefinedMetricWarning: Precision and F-score are ill-defined and being set to 0.0 in labels with no predicted samples.\n",
      "  'precision', 'predicted', average, warn_for)\n"
     ]
    },
    {
     "name": "stdout",
     "output_type": "stream",
     "text": [
      "Salvando as informações num JSON: relatorio_teste_beamforming_SNR_-2dB_semPCA_1585102211.685925.json\n",
      "Classificando com o  LinearDiscriminantAnalysis\n"
     ]
    },
    {
     "name": "stderr",
     "output_type": "stream",
     "text": [
      "/home/dimi/venvIC/lib/python3.7/site-packages/sklearn/metrics/classification.py:1437: UndefinedMetricWarning: Precision and F-score are ill-defined and being set to 0.0 in labels with no predicted samples.\n",
      "  'precision', 'predicted', average, warn_for)\n"
     ]
    },
    {
     "name": "stdout",
     "output_type": "stream",
     "text": [
      "Salvando as informações num JSON: relatorio_teste_beamforming_SNR_-2dB_semPCA_1585102211.9681013.json\n",
      "Classificando com o  LinearDiscriminantAnalysis\n"
     ]
    },
    {
     "name": "stderr",
     "output_type": "stream",
     "text": [
      "/home/dimi/venvIC/lib/python3.7/site-packages/sklearn/metrics/classification.py:1437: UndefinedMetricWarning: Precision and F-score are ill-defined and being set to 0.0 in labels with no predicted samples.\n",
      "  'precision', 'predicted', average, warn_for)\n"
     ]
    },
    {
     "name": "stdout",
     "output_type": "stream",
     "text": [
      "Salvando as informações num JSON: relatorio_teste_beamforming_SNR_-2dB_semPCA_1585102212.221282.json\n",
      "Classificando com o  LinearDiscriminantAnalysis\n"
     ]
    },
    {
     "name": "stderr",
     "output_type": "stream",
     "text": [
      "/home/dimi/venvIC/lib/python3.7/site-packages/sklearn/metrics/classification.py:1437: UndefinedMetricWarning: Precision and F-score are ill-defined and being set to 0.0 in labels with no predicted samples.\n",
      "  'precision', 'predicted', average, warn_for)\n"
     ]
    },
    {
     "name": "stdout",
     "output_type": "stream",
     "text": [
      "Salvando as informações num JSON: relatorio_teste_beamforming_SNR_-2dB_semPCA_1585102212.4826174.json\n",
      "Classificando com o  LinearDiscriminantAnalysis\n"
     ]
    },
    {
     "name": "stderr",
     "output_type": "stream",
     "text": [
      "/home/dimi/venvIC/lib/python3.7/site-packages/sklearn/metrics/classification.py:1437: UndefinedMetricWarning: Precision and F-score are ill-defined and being set to 0.0 in labels with no predicted samples.\n",
      "  'precision', 'predicted', average, warn_for)\n"
     ]
    },
    {
     "name": "stdout",
     "output_type": "stream",
     "text": [
      "Salvando as informações num JSON: relatorio_teste_beamforming_SNR_-2dB_semPCA_1585102212.7773488.json\n",
      "Classificando com o  LinearDiscriminantAnalysis\n",
      "Salvando as informações num JSON: relatorio_teste_beamforming_SNR_-2dB_semPCA_1585102213.0733745.json\n",
      "Classificando com o  LinearDiscriminantAnalysis\n"
     ]
    },
    {
     "name": "stderr",
     "output_type": "stream",
     "text": [
      "/home/dimi/venvIC/lib/python3.7/site-packages/sklearn/metrics/classification.py:1437: UndefinedMetricWarning: Precision and F-score are ill-defined and being set to 0.0 in labels with no predicted samples.\n",
      "  'precision', 'predicted', average, warn_for)\n"
     ]
    },
    {
     "name": "stdout",
     "output_type": "stream",
     "text": [
      "Salvando as informações num JSON: relatorio_teste_beamforming_SNR_-2dB_semPCA_1585102213.3691728.json\n",
      "O teste com todos os classificadores foi finalizado\n",
      "Classificando com o  SVC\n",
      "Salvando as informações num JSON: relatorio_teste_GSC_SNR_-2dB_semPCA_1585102214.2308645.json\n",
      "Classificando com o  SVC\n",
      "Salvando as informações num JSON: relatorio_teste_GSC_SNR_-2dB_semPCA_1585102215.016362.json\n",
      "Classificando com o  SVC\n",
      "Salvando as informações num JSON: relatorio_teste_GSC_SNR_-2dB_semPCA_1585102215.7440374.json\n",
      "Classificando com o  SVC\n"
     ]
    },
    {
     "name": "stderr",
     "output_type": "stream",
     "text": [
      "/home/dimi/venvIC/lib/python3.7/site-packages/sklearn/metrics/classification.py:1437: UndefinedMetricWarning: Precision and F-score are ill-defined and being set to 0.0 in labels with no predicted samples.\n",
      "  'precision', 'predicted', average, warn_for)\n"
     ]
    },
    {
     "name": "stdout",
     "output_type": "stream",
     "text": [
      "Salvando as informações num JSON: relatorio_teste_GSC_SNR_-2dB_semPCA_1585102216.512674.json\n",
      "Classificando com o  SVC\n"
     ]
    },
    {
     "name": "stderr",
     "output_type": "stream",
     "text": [
      "/home/dimi/venvIC/lib/python3.7/site-packages/sklearn/metrics/classification.py:1437: UndefinedMetricWarning: Precision and F-score are ill-defined and being set to 0.0 in labels with no predicted samples.\n",
      "  'precision', 'predicted', average, warn_for)\n"
     ]
    },
    {
     "name": "stdout",
     "output_type": "stream",
     "text": [
      "Salvando as informações num JSON: relatorio_teste_GSC_SNR_-2dB_semPCA_1585102217.2849104.json\n",
      "Classificando com o  SVC\n",
      "Salvando as informações num JSON: relatorio_teste_GSC_SNR_-2dB_semPCA_1585102218.1197643.json\n",
      "Classificando com o  SVC\n",
      "Salvando as informações num JSON: relatorio_teste_GSC_SNR_-2dB_semPCA_1585102218.8910494.json\n",
      "Classificando com o  SVC\n",
      "Salvando as informações num JSON: relatorio_teste_GSC_SNR_-2dB_semPCA_1585102219.688933.json\n",
      "Classificando com o  SVC\n",
      "Salvando as informações num JSON: relatorio_teste_GSC_SNR_-2dB_semPCA_1585102220.4113557.json\n",
      "Classificando com o  SVC\n",
      "Salvando as informações num JSON: relatorio_teste_GSC_SNR_-2dB_semPCA_1585102221.130218.json\n",
      "Classificando com o  LinearDiscriminantAnalysis\n",
      "Salvando as informações num JSON: relatorio_teste_GSC_SNR_-2dB_semPCA_1585102221.3909962.json\n",
      "Classificando com o  LinearDiscriminantAnalysis\n"
     ]
    },
    {
     "name": "stderr",
     "output_type": "stream",
     "text": [
      "/home/dimi/venvIC/lib/python3.7/site-packages/sklearn/metrics/classification.py:1437: UndefinedMetricWarning: Precision and F-score are ill-defined and being set to 0.0 in labels with no predicted samples.\n",
      "  'precision', 'predicted', average, warn_for)\n"
     ]
    },
    {
     "name": "stdout",
     "output_type": "stream",
     "text": [
      "Salvando as informações num JSON: relatorio_teste_GSC_SNR_-2dB_semPCA_1585102221.6401982.json\n",
      "Classificando com o  LinearDiscriminantAnalysis\n",
      "Salvando as informações num JSON: relatorio_teste_GSC_SNR_-2dB_semPCA_1585102221.8927515.json\n",
      "Classificando com o  LinearDiscriminantAnalysis\n"
     ]
    },
    {
     "name": "stderr",
     "output_type": "stream",
     "text": [
      "/home/dimi/venvIC/lib/python3.7/site-packages/sklearn/metrics/classification.py:1437: UndefinedMetricWarning: Precision and F-score are ill-defined and being set to 0.0 in labels with no predicted samples.\n",
      "  'precision', 'predicted', average, warn_for)\n"
     ]
    },
    {
     "name": "stdout",
     "output_type": "stream",
     "text": [
      "Salvando as informações num JSON: relatorio_teste_GSC_SNR_-2dB_semPCA_1585102222.191257.json\n",
      "Classificando com o  LinearDiscriminantAnalysis\n"
     ]
    },
    {
     "name": "stderr",
     "output_type": "stream",
     "text": [
      "/home/dimi/venvIC/lib/python3.7/site-packages/sklearn/metrics/classification.py:1437: UndefinedMetricWarning: Precision and F-score are ill-defined and being set to 0.0 in labels with no predicted samples.\n",
      "  'precision', 'predicted', average, warn_for)\n"
     ]
    },
    {
     "name": "stdout",
     "output_type": "stream",
     "text": [
      "Salvando as informações num JSON: relatorio_teste_GSC_SNR_-2dB_semPCA_1585102222.4443824.json\n",
      "Classificando com o  LinearDiscriminantAnalysis\n"
     ]
    },
    {
     "name": "stderr",
     "output_type": "stream",
     "text": [
      "/home/dimi/venvIC/lib/python3.7/site-packages/sklearn/metrics/classification.py:1437: UndefinedMetricWarning: Precision and F-score are ill-defined and being set to 0.0 in labels with no predicted samples.\n",
      "  'precision', 'predicted', average, warn_for)\n"
     ]
    },
    {
     "name": "stdout",
     "output_type": "stream",
     "text": [
      "Salvando as informações num JSON: relatorio_teste_GSC_SNR_-2dB_semPCA_1585102222.6957886.json\n",
      "Classificando com o  LinearDiscriminantAnalysis\n"
     ]
    },
    {
     "name": "stderr",
     "output_type": "stream",
     "text": [
      "/home/dimi/venvIC/lib/python3.7/site-packages/sklearn/metrics/classification.py:1437: UndefinedMetricWarning: Precision and F-score are ill-defined and being set to 0.0 in labels with no predicted samples.\n",
      "  'precision', 'predicted', average, warn_for)\n"
     ]
    },
    {
     "name": "stdout",
     "output_type": "stream",
     "text": [
      "Salvando as informações num JSON: relatorio_teste_GSC_SNR_-2dB_semPCA_1585102222.9464722.json\n",
      "Classificando com o  LinearDiscriminantAnalysis\n"
     ]
    },
    {
     "name": "stderr",
     "output_type": "stream",
     "text": [
      "/home/dimi/venvIC/lib/python3.7/site-packages/sklearn/metrics/classification.py:1437: UndefinedMetricWarning: Precision and F-score are ill-defined and being set to 0.0 in labels with no predicted samples.\n",
      "  'precision', 'predicted', average, warn_for)\n"
     ]
    },
    {
     "name": "stdout",
     "output_type": "stream",
     "text": [
      "Salvando as informações num JSON: relatorio_teste_GSC_SNR_-2dB_semPCA_1585102223.2084265.json\n",
      "Classificando com o  LinearDiscriminantAnalysis\n",
      "Salvando as informações num JSON: relatorio_teste_GSC_SNR_-2dB_semPCA_1585102223.4725995.json\n",
      "Classificando com o  LinearDiscriminantAnalysis\n"
     ]
    },
    {
     "name": "stderr",
     "output_type": "stream",
     "text": [
      "/home/dimi/venvIC/lib/python3.7/site-packages/sklearn/metrics/classification.py:1437: UndefinedMetricWarning: Precision and F-score are ill-defined and being set to 0.0 in labels with no predicted samples.\n",
      "  'precision', 'predicted', average, warn_for)\n"
     ]
    },
    {
     "name": "stdout",
     "output_type": "stream",
     "text": [
      "Salvando as informações num JSON: relatorio_teste_GSC_SNR_-2dB_semPCA_1585102223.7257884.json\n",
      "O teste com todos os classificadores foi finalizado\n",
      "Classificando com o  SVC\n",
      "Salvando as informações num JSON: relatorio_teste_GSC_SNR_-6dB_semPCA_1585102224.6259134.json\n",
      "Classificando com o  SVC\n",
      "Salvando as informações num JSON: relatorio_teste_GSC_SNR_-6dB_semPCA_1585102225.421597.json\n",
      "Classificando com o  SVC\n",
      "Salvando as informações num JSON: relatorio_teste_GSC_SNR_-6dB_semPCA_1585102226.1336524.json\n",
      "Classificando com o  SVC\n"
     ]
    },
    {
     "name": "stderr",
     "output_type": "stream",
     "text": [
      "/home/dimi/venvIC/lib/python3.7/site-packages/sklearn/metrics/classification.py:1437: UndefinedMetricWarning: Precision and F-score are ill-defined and being set to 0.0 in labels with no predicted samples.\n",
      "  'precision', 'predicted', average, warn_for)\n"
     ]
    },
    {
     "name": "stdout",
     "output_type": "stream",
     "text": [
      "Salvando as informações num JSON: relatorio_teste_GSC_SNR_-6dB_semPCA_1585102226.9015934.json\n",
      "Classificando com o  SVC\n"
     ]
    },
    {
     "name": "stderr",
     "output_type": "stream",
     "text": [
      "/home/dimi/venvIC/lib/python3.7/site-packages/sklearn/metrics/classification.py:1437: UndefinedMetricWarning: Precision and F-score are ill-defined and being set to 0.0 in labels with no predicted samples.\n",
      "  'precision', 'predicted', average, warn_for)\n"
     ]
    },
    {
     "name": "stdout",
     "output_type": "stream",
     "text": [
      "Salvando as informações num JSON: relatorio_teste_GSC_SNR_-6dB_semPCA_1585102227.679689.json\n",
      "Classificando com o  SVC\n"
     ]
    },
    {
     "name": "stderr",
     "output_type": "stream",
     "text": [
      "/home/dimi/venvIC/lib/python3.7/site-packages/sklearn/metrics/classification.py:1437: UndefinedMetricWarning: Precision and F-score are ill-defined and being set to 0.0 in labels with no predicted samples.\n",
      "  'precision', 'predicted', average, warn_for)\n"
     ]
    },
    {
     "name": "stdout",
     "output_type": "stream",
     "text": [
      "Salvando as informações num JSON: relatorio_teste_GSC_SNR_-6dB_semPCA_1585102228.4914224.json\n",
      "Classificando com o  SVC\n",
      "Salvando as informações num JSON: relatorio_teste_GSC_SNR_-6dB_semPCA_1585102229.2858515.json\n",
      "Classificando com o  SVC\n",
      "Salvando as informações num JSON: relatorio_teste_GSC_SNR_-6dB_semPCA_1585102230.0443492.json\n",
      "Classificando com o  SVC\n"
     ]
    },
    {
     "name": "stderr",
     "output_type": "stream",
     "text": [
      "/home/dimi/venvIC/lib/python3.7/site-packages/sklearn/metrics/classification.py:1437: UndefinedMetricWarning: Precision and F-score are ill-defined and being set to 0.0 in labels with no predicted samples.\n",
      "  'precision', 'predicted', average, warn_for)\n"
     ]
    },
    {
     "name": "stdout",
     "output_type": "stream",
     "text": [
      "Salvando as informações num JSON: relatorio_teste_GSC_SNR_-6dB_semPCA_1585102230.8496087.json\n",
      "Classificando com o  SVC\n",
      "Salvando as informações num JSON: relatorio_teste_GSC_SNR_-6dB_semPCA_1585102231.6963391.json\n",
      "Classificando com o  LinearDiscriminantAnalysis\n",
      "Salvando as informações num JSON: relatorio_teste_GSC_SNR_-6dB_semPCA_1585102231.9631877.json\n",
      "Classificando com o  LinearDiscriminantAnalysis\n"
     ]
    },
    {
     "name": "stderr",
     "output_type": "stream",
     "text": [
      "/home/dimi/venvIC/lib/python3.7/site-packages/sklearn/metrics/classification.py:1437: UndefinedMetricWarning: Precision and F-score are ill-defined and being set to 0.0 in labels with no predicted samples.\n",
      "  'precision', 'predicted', average, warn_for)\n"
     ]
    },
    {
     "name": "stdout",
     "output_type": "stream",
     "text": [
      "Salvando as informações num JSON: relatorio_teste_GSC_SNR_-6dB_semPCA_1585102232.2273455.json\n",
      "Classificando com o  LinearDiscriminantAnalysis\n",
      "Salvando as informações num JSON: relatorio_teste_GSC_SNR_-6dB_semPCA_1585102232.520348.json\n",
      "Classificando com o  LinearDiscriminantAnalysis\n",
      "Salvando as informações num JSON: relatorio_teste_GSC_SNR_-6dB_semPCA_1585102232.8006384.json\n",
      "Classificando com o  LinearDiscriminantAnalysis\n",
      "Salvando as informações num JSON: relatorio_teste_GSC_SNR_-6dB_semPCA_1585102233.0588133.json\n",
      "Classificando com o  LinearDiscriminantAnalysis\n"
     ]
    },
    {
     "name": "stderr",
     "output_type": "stream",
     "text": [
      "/home/dimi/venvIC/lib/python3.7/site-packages/sklearn/metrics/classification.py:1437: UndefinedMetricWarning: Precision and F-score are ill-defined and being set to 0.0 in labels with no predicted samples.\n",
      "  'precision', 'predicted', average, warn_for)\n"
     ]
    },
    {
     "name": "stdout",
     "output_type": "stream",
     "text": [
      "Salvando as informações num JSON: relatorio_teste_GSC_SNR_-6dB_semPCA_1585102233.3208423.json\n",
      "Classificando com o  LinearDiscriminantAnalysis\n"
     ]
    },
    {
     "name": "stderr",
     "output_type": "stream",
     "text": [
      "/home/dimi/venvIC/lib/python3.7/site-packages/sklearn/metrics/classification.py:1437: UndefinedMetricWarning: Precision and F-score are ill-defined and being set to 0.0 in labels with no predicted samples.\n",
      "  'precision', 'predicted', average, warn_for)\n"
     ]
    },
    {
     "name": "stdout",
     "output_type": "stream",
     "text": [
      "Salvando as informações num JSON: relatorio_teste_GSC_SNR_-6dB_semPCA_1585102233.6446521.json\n",
      "Classificando com o  LinearDiscriminantAnalysis\n",
      "Salvando as informações num JSON: relatorio_teste_GSC_SNR_-6dB_semPCA_1585102233.9044628.json\n",
      "Classificando com o  LinearDiscriminantAnalysis\n"
     ]
    },
    {
     "name": "stderr",
     "output_type": "stream",
     "text": [
      "/home/dimi/venvIC/lib/python3.7/site-packages/sklearn/metrics/classification.py:1437: UndefinedMetricWarning: Precision and F-score are ill-defined and being set to 0.0 in labels with no predicted samples.\n",
      "  'precision', 'predicted', average, warn_for)\n"
     ]
    },
    {
     "name": "stdout",
     "output_type": "stream",
     "text": [
      "Salvando as informações num JSON: relatorio_teste_GSC_SNR_-6dB_semPCA_1585102234.1784282.json\n",
      "Classificando com o  LinearDiscriminantAnalysis\n"
     ]
    },
    {
     "name": "stderr",
     "output_type": "stream",
     "text": [
      "/home/dimi/venvIC/lib/python3.7/site-packages/sklearn/metrics/classification.py:1437: UndefinedMetricWarning: Precision and F-score are ill-defined and being set to 0.0 in labels with no predicted samples.\n",
      "  'precision', 'predicted', average, warn_for)\n"
     ]
    },
    {
     "name": "stdout",
     "output_type": "stream",
     "text": [
      "Salvando as informações num JSON: relatorio_teste_GSC_SNR_-6dB_semPCA_1585102234.497986.json\n",
      "O teste com todos os classificadores foi finalizado\n",
      "Classificando com o  SVC\n",
      "Salvando as informações num JSON: relatorio_teste_semBeamforming_SNR_-6dB_semPCA_1585102235.4894106.json\n",
      "Classificando com o  SVC\n"
     ]
    },
    {
     "name": "stderr",
     "output_type": "stream",
     "text": [
      "/home/dimi/venvIC/lib/python3.7/site-packages/sklearn/metrics/classification.py:1437: UndefinedMetricWarning: Precision and F-score are ill-defined and being set to 0.0 in labels with no predicted samples.\n",
      "  'precision', 'predicted', average, warn_for)\n"
     ]
    },
    {
     "name": "stdout",
     "output_type": "stream",
     "text": [
      "Salvando as informações num JSON: relatorio_teste_semBeamforming_SNR_-6dB_semPCA_1585102236.3113258.json\n",
      "Classificando com o  SVC\n",
      "Salvando as informações num JSON: relatorio_teste_semBeamforming_SNR_-6dB_semPCA_1585102237.0363808.json\n",
      "Classificando com o  SVC\n",
      "Salvando as informações num JSON: relatorio_teste_semBeamforming_SNR_-6dB_semPCA_1585102237.7951264.json\n",
      "Classificando com o  SVC\n"
     ]
    },
    {
     "name": "stderr",
     "output_type": "stream",
     "text": [
      "/home/dimi/venvIC/lib/python3.7/site-packages/sklearn/metrics/classification.py:1437: UndefinedMetricWarning: Precision and F-score are ill-defined and being set to 0.0 in labels with no predicted samples.\n",
      "  'precision', 'predicted', average, warn_for)\n"
     ]
    },
    {
     "name": "stdout",
     "output_type": "stream",
     "text": [
      "Salvando as informações num JSON: relatorio_teste_semBeamforming_SNR_-6dB_semPCA_1585102238.582319.json\n",
      "Classificando com o  SVC\n"
     ]
    },
    {
     "name": "stderr",
     "output_type": "stream",
     "text": [
      "/home/dimi/venvIC/lib/python3.7/site-packages/sklearn/metrics/classification.py:1437: UndefinedMetricWarning: Precision and F-score are ill-defined and being set to 0.0 in labels with no predicted samples.\n",
      "  'precision', 'predicted', average, warn_for)\n"
     ]
    },
    {
     "name": "stdout",
     "output_type": "stream",
     "text": [
      "Salvando as informações num JSON: relatorio_teste_semBeamforming_SNR_-6dB_semPCA_1585102239.3859165.json\n",
      "Classificando com o  SVC\n",
      "Salvando as informações num JSON: relatorio_teste_semBeamforming_SNR_-6dB_semPCA_1585102240.2575336.json\n",
      "Classificando com o  SVC\n",
      "Salvando as informações num JSON: relatorio_teste_semBeamforming_SNR_-6dB_semPCA_1585102241.0504627.json\n",
      "Classificando com o  SVC\n"
     ]
    },
    {
     "name": "stderr",
     "output_type": "stream",
     "text": [
      "/home/dimi/venvIC/lib/python3.7/site-packages/sklearn/metrics/classification.py:1437: UndefinedMetricWarning: Precision and F-score are ill-defined and being set to 0.0 in labels with no predicted samples.\n",
      "  'precision', 'predicted', average, warn_for)\n"
     ]
    },
    {
     "name": "stdout",
     "output_type": "stream",
     "text": [
      "Salvando as informações num JSON: relatorio_teste_semBeamforming_SNR_-6dB_semPCA_1585102241.8523865.json\n",
      "Classificando com o  SVC\n",
      "Salvando as informações num JSON: relatorio_teste_semBeamforming_SNR_-6dB_semPCA_1585102242.6413903.json\n",
      "Classificando com o  LinearDiscriminantAnalysis\n",
      "Salvando as informações num JSON: relatorio_teste_semBeamforming_SNR_-6dB_semPCA_1585102242.9244497.json\n",
      "Classificando com o  LinearDiscriminantAnalysis\n"
     ]
    },
    {
     "name": "stderr",
     "output_type": "stream",
     "text": [
      "/home/dimi/venvIC/lib/python3.7/site-packages/sklearn/metrics/classification.py:1437: UndefinedMetricWarning: Precision and F-score are ill-defined and being set to 0.0 in labels with no predicted samples.\n",
      "  'precision', 'predicted', average, warn_for)\n"
     ]
    },
    {
     "name": "stdout",
     "output_type": "stream",
     "text": [
      "Salvando as informações num JSON: relatorio_teste_semBeamforming_SNR_-6dB_semPCA_1585102243.1926932.json\n",
      "Classificando com o  LinearDiscriminantAnalysis\n",
      "Salvando as informações num JSON: relatorio_teste_semBeamforming_SNR_-6dB_semPCA_1585102243.4516268.json\n",
      "Classificando com o  LinearDiscriminantAnalysis\n",
      "Salvando as informações num JSON: relatorio_teste_semBeamforming_SNR_-6dB_semPCA_1585102243.737464.json\n",
      "Classificando com o  LinearDiscriminantAnalysis\n",
      "Salvando as informações num JSON: relatorio_teste_semBeamforming_SNR_-6dB_semPCA_1585102244.0050046.json\n",
      "Classificando com o  LinearDiscriminantAnalysis\n"
     ]
    },
    {
     "name": "stderr",
     "output_type": "stream",
     "text": [
      "/home/dimi/venvIC/lib/python3.7/site-packages/sklearn/metrics/classification.py:1437: UndefinedMetricWarning: Precision and F-score are ill-defined and being set to 0.0 in labels with no predicted samples.\n",
      "  'precision', 'predicted', average, warn_for)\n"
     ]
    },
    {
     "name": "stdout",
     "output_type": "stream",
     "text": [
      "Salvando as informações num JSON: relatorio_teste_semBeamforming_SNR_-6dB_semPCA_1585102244.29126.json\n",
      "Classificando com o  LinearDiscriminantAnalysis\n",
      "Salvando as informações num JSON: relatorio_teste_semBeamforming_SNR_-6dB_semPCA_1585102244.5875947.json\n",
      "Classificando com o  LinearDiscriminantAnalysis\n"
     ]
    },
    {
     "name": "stderr",
     "output_type": "stream",
     "text": [
      "/home/dimi/venvIC/lib/python3.7/site-packages/sklearn/metrics/classification.py:1437: UndefinedMetricWarning: Precision and F-score are ill-defined and being set to 0.0 in labels with no predicted samples.\n",
      "  'precision', 'predicted', average, warn_for)\n"
     ]
    },
    {
     "name": "stdout",
     "output_type": "stream",
     "text": [
      "Salvando as informações num JSON: relatorio_teste_semBeamforming_SNR_-6dB_semPCA_1585102244.8559637.json\n",
      "Classificando com o  LinearDiscriminantAnalysis\n"
     ]
    },
    {
     "name": "stderr",
     "output_type": "stream",
     "text": [
      "/home/dimi/venvIC/lib/python3.7/site-packages/sklearn/metrics/classification.py:1437: UndefinedMetricWarning: Precision and F-score are ill-defined and being set to 0.0 in labels with no predicted samples.\n",
      "  'precision', 'predicted', average, warn_for)\n"
     ]
    },
    {
     "name": "stdout",
     "output_type": "stream",
     "text": [
      "Salvando as informações num JSON: relatorio_teste_semBeamforming_SNR_-6dB_semPCA_1585102245.1252847.json\n",
      "Classificando com o  LinearDiscriminantAnalysis\n"
     ]
    },
    {
     "name": "stderr",
     "output_type": "stream",
     "text": [
      "/home/dimi/venvIC/lib/python3.7/site-packages/sklearn/metrics/classification.py:1437: UndefinedMetricWarning: Precision and F-score are ill-defined and being set to 0.0 in labels with no predicted samples.\n",
      "  'precision', 'predicted', average, warn_for)\n"
     ]
    },
    {
     "name": "stdout",
     "output_type": "stream",
     "text": [
      "Salvando as informações num JSON: relatorio_teste_semBeamforming_SNR_-6dB_semPCA_1585102245.408368.json\n",
      "O teste com todos os classificadores foi finalizado\n",
      "Classificando com o  SVC\n",
      "Salvando as informações num JSON: relatorio_teste_beamforming_SNR_-6dB_semPCA_1585102246.3308544.json\n",
      "Classificando com o  SVC\n"
     ]
    },
    {
     "name": "stderr",
     "output_type": "stream",
     "text": [
      "/home/dimi/venvIC/lib/python3.7/site-packages/sklearn/metrics/classification.py:1437: UndefinedMetricWarning: Precision and F-score are ill-defined and being set to 0.0 in labels with no predicted samples.\n",
      "  'precision', 'predicted', average, warn_for)\n"
     ]
    },
    {
     "name": "stdout",
     "output_type": "stream",
     "text": [
      "Salvando as informações num JSON: relatorio_teste_beamforming_SNR_-6dB_semPCA_1585102247.1806128.json\n",
      "Classificando com o  SVC\n",
      "Salvando as informações num JSON: relatorio_teste_beamforming_SNR_-6dB_semPCA_1585102247.8945293.json\n",
      "Classificando com o  SVC\n",
      "Salvando as informações num JSON: relatorio_teste_beamforming_SNR_-6dB_semPCA_1585102248.6672454.json\n",
      "Classificando com o  SVC\n"
     ]
    },
    {
     "name": "stderr",
     "output_type": "stream",
     "text": [
      "/home/dimi/venvIC/lib/python3.7/site-packages/sklearn/metrics/classification.py:1437: UndefinedMetricWarning: Precision and F-score are ill-defined and being set to 0.0 in labels with no predicted samples.\n",
      "  'precision', 'predicted', average, warn_for)\n"
     ]
    },
    {
     "name": "stdout",
     "output_type": "stream",
     "text": [
      "Salvando as informações num JSON: relatorio_teste_beamforming_SNR_-6dB_semPCA_1585102249.447614.json\n",
      "Classificando com o  SVC\n"
     ]
    },
    {
     "name": "stderr",
     "output_type": "stream",
     "text": [
      "/home/dimi/venvIC/lib/python3.7/site-packages/sklearn/metrics/classification.py:1437: UndefinedMetricWarning: Precision and F-score are ill-defined and being set to 0.0 in labels with no predicted samples.\n",
      "  'precision', 'predicted', average, warn_for)\n"
     ]
    },
    {
     "name": "stdout",
     "output_type": "stream",
     "text": [
      "Salvando as informações num JSON: relatorio_teste_beamforming_SNR_-6dB_semPCA_1585102250.2276566.json\n",
      "Classificando com o  SVC\n",
      "Salvando as informações num JSON: relatorio_teste_beamforming_SNR_-6dB_semPCA_1585102251.0017908.json\n",
      "Classificando com o  SVC\n",
      "Salvando as informações num JSON: relatorio_teste_beamforming_SNR_-6dB_semPCA_1585102251.7632723.json\n",
      "Classificando com o  SVC\n"
     ]
    },
    {
     "name": "stderr",
     "output_type": "stream",
     "text": [
      "/home/dimi/venvIC/lib/python3.7/site-packages/sklearn/metrics/classification.py:1437: UndefinedMetricWarning: Precision and F-score are ill-defined and being set to 0.0 in labels with no predicted samples.\n",
      "  'precision', 'predicted', average, warn_for)\n"
     ]
    },
    {
     "name": "stdout",
     "output_type": "stream",
     "text": [
      "Salvando as informações num JSON: relatorio_teste_beamforming_SNR_-6dB_semPCA_1585102252.5464206.json\n",
      "Classificando com o  SVC\n",
      "Salvando as informações num JSON: relatorio_teste_beamforming_SNR_-6dB_semPCA_1585102253.2918565.json\n",
      "Classificando com o  LinearDiscriminantAnalysis\n",
      "Salvando as informações num JSON: relatorio_teste_beamforming_SNR_-6dB_semPCA_1585102253.547532.json\n",
      "Classificando com o  LinearDiscriminantAnalysis\n"
     ]
    },
    {
     "name": "stderr",
     "output_type": "stream",
     "text": [
      "/home/dimi/venvIC/lib/python3.7/site-packages/sklearn/metrics/classification.py:1437: UndefinedMetricWarning: Precision and F-score are ill-defined and being set to 0.0 in labels with no predicted samples.\n",
      "  'precision', 'predicted', average, warn_for)\n"
     ]
    },
    {
     "name": "stdout",
     "output_type": "stream",
     "text": [
      "Salvando as informações num JSON: relatorio_teste_beamforming_SNR_-6dB_semPCA_1585102253.7938051.json\n",
      "Classificando com o  LinearDiscriminantAnalysis\n",
      "Salvando as informações num JSON: relatorio_teste_beamforming_SNR_-6dB_semPCA_1585102254.065303.json\n",
      "Classificando com o  LinearDiscriminantAnalysis\n",
      "Salvando as informações num JSON: relatorio_teste_beamforming_SNR_-6dB_semPCA_1585102254.331636.json\n",
      "Classificando com o  LinearDiscriminantAnalysis\n",
      "Salvando as informações num JSON: relatorio_teste_beamforming_SNR_-6dB_semPCA_1585102254.589524.json\n",
      "Classificando com o  LinearDiscriminantAnalysis\n"
     ]
    },
    {
     "name": "stderr",
     "output_type": "stream",
     "text": [
      "/home/dimi/venvIC/lib/python3.7/site-packages/sklearn/metrics/classification.py:1437: UndefinedMetricWarning: Precision and F-score are ill-defined and being set to 0.0 in labels with no predicted samples.\n",
      "  'precision', 'predicted', average, warn_for)\n"
     ]
    },
    {
     "name": "stdout",
     "output_type": "stream",
     "text": [
      "Salvando as informações num JSON: relatorio_teste_beamforming_SNR_-6dB_semPCA_1585102254.8418367.json\n",
      "Classificando com o  LinearDiscriminantAnalysis\n",
      "Salvando as informações num JSON: relatorio_teste_beamforming_SNR_-6dB_semPCA_1585102255.1018207.json\n",
      "Classificando com o  LinearDiscriminantAnalysis\n"
     ]
    },
    {
     "name": "stderr",
     "output_type": "stream",
     "text": [
      "/home/dimi/venvIC/lib/python3.7/site-packages/sklearn/metrics/classification.py:1437: UndefinedMetricWarning: Precision and F-score are ill-defined and being set to 0.0 in labels with no predicted samples.\n",
      "  'precision', 'predicted', average, warn_for)\n"
     ]
    },
    {
     "name": "stdout",
     "output_type": "stream",
     "text": [
      "Salvando as informações num JSON: relatorio_teste_beamforming_SNR_-6dB_semPCA_1585102255.373012.json\n",
      "Classificando com o  LinearDiscriminantAnalysis\n"
     ]
    },
    {
     "name": "stderr",
     "output_type": "stream",
     "text": [
      "/home/dimi/venvIC/lib/python3.7/site-packages/sklearn/metrics/classification.py:1437: UndefinedMetricWarning: Precision and F-score are ill-defined and being set to 0.0 in labels with no predicted samples.\n",
      "  'precision', 'predicted', average, warn_for)\n"
     ]
    },
    {
     "name": "stdout",
     "output_type": "stream",
     "text": [
      "Salvando as informações num JSON: relatorio_teste_beamforming_SNR_-6dB_semPCA_1585102255.6314335.json\n",
      "Classificando com o  LinearDiscriminantAnalysis\n"
     ]
    },
    {
     "name": "stderr",
     "output_type": "stream",
     "text": [
      "/home/dimi/venvIC/lib/python3.7/site-packages/sklearn/metrics/classification.py:1437: UndefinedMetricWarning: Precision and F-score are ill-defined and being set to 0.0 in labels with no predicted samples.\n",
      "  'precision', 'predicted', average, warn_for)\n"
     ]
    },
    {
     "name": "stdout",
     "output_type": "stream",
     "text": [
      "Salvando as informações num JSON: relatorio_teste_beamforming_SNR_-6dB_semPCA_1585102255.9012473.json\n",
      "O teste com todos os classificadores foi finalizado\n",
      "Classificando com o  SVC\n",
      "Salvando as informações num JSON: relatorio_teste_semBeamforming_SNR_2dB_semPCA_1585102256.7465277.json\n",
      "Classificando com o  SVC\n",
      "Salvando as informações num JSON: relatorio_teste_semBeamforming_SNR_2dB_semPCA_1585102257.5244894.json\n",
      "Classificando com o  SVC\n",
      "Salvando as informações num JSON: relatorio_teste_semBeamforming_SNR_2dB_semPCA_1585102258.259196.json\n",
      "Classificando com o  SVC\n",
      "Salvando as informações num JSON: relatorio_teste_semBeamforming_SNR_2dB_semPCA_1585102259.0159523.json\n",
      "Classificando com o  SVC\n",
      "Salvando as informações num JSON: relatorio_teste_semBeamforming_SNR_2dB_semPCA_1585102259.7697487.json\n",
      "Classificando com o  SVC\n",
      "Salvando as informações num JSON: relatorio_teste_semBeamforming_SNR_2dB_semPCA_1585102260.5237815.json\n",
      "Classificando com o  SVC\n",
      "Salvando as informações num JSON: relatorio_teste_semBeamforming_SNR_2dB_semPCA_1585102261.2763507.json\n",
      "Classificando com o  SVC\n",
      "Salvando as informações num JSON: relatorio_teste_semBeamforming_SNR_2dB_semPCA_1585102262.020156.json\n",
      "Classificando com o  SVC\n",
      "Salvando as informações num JSON: relatorio_teste_semBeamforming_SNR_2dB_semPCA_1585102262.7671099.json\n",
      "Classificando com o  SVC\n",
      "Salvando as informações num JSON: relatorio_teste_semBeamforming_SNR_2dB_semPCA_1585102263.5191896.json\n",
      "Classificando com o  LinearDiscriminantAnalysis\n",
      "Salvando as informações num JSON: relatorio_teste_semBeamforming_SNR_2dB_semPCA_1585102263.7683406.json\n",
      "Classificando com o  LinearDiscriminantAnalysis\n",
      "Salvando as informações num JSON: relatorio_teste_semBeamforming_SNR_2dB_semPCA_1585102264.01492.json\n",
      "Classificando com o  LinearDiscriminantAnalysis\n",
      "Salvando as informações num JSON: relatorio_teste_semBeamforming_SNR_2dB_semPCA_1585102264.2678108.json\n",
      "Classificando com o  LinearDiscriminantAnalysis\n",
      "Salvando as informações num JSON: relatorio_teste_semBeamforming_SNR_2dB_semPCA_1585102264.5201063.json\n",
      "Classificando com o  LinearDiscriminantAnalysis\n",
      "Salvando as informações num JSON: relatorio_teste_semBeamforming_SNR_2dB_semPCA_1585102264.769352.json\n",
      "Classificando com o  LinearDiscriminantAnalysis\n",
      "Salvando as informações num JSON: relatorio_teste_semBeamforming_SNR_2dB_semPCA_1585102265.0123842.json\n",
      "Classificando com o  LinearDiscriminantAnalysis\n",
      "Salvando as informações num JSON: relatorio_teste_semBeamforming_SNR_2dB_semPCA_1585102265.26316.json\n",
      "Classificando com o  LinearDiscriminantAnalysis\n",
      "Salvando as informações num JSON: relatorio_teste_semBeamforming_SNR_2dB_semPCA_1585102265.512317.json\n",
      "Classificando com o  LinearDiscriminantAnalysis\n",
      "Salvando as informações num JSON: relatorio_teste_semBeamforming_SNR_2dB_semPCA_1585102265.7975047.json\n",
      "Classificando com o  LinearDiscriminantAnalysis\n"
     ]
    },
    {
     "name": "stderr",
     "output_type": "stream",
     "text": [
      "/home/dimi/venvIC/lib/python3.7/site-packages/sklearn/metrics/classification.py:1437: UndefinedMetricWarning: Precision and F-score are ill-defined and being set to 0.0 in labels with no predicted samples.\n",
      "  'precision', 'predicted', average, warn_for)\n"
     ]
    },
    {
     "name": "stdout",
     "output_type": "stream",
     "text": [
      "Salvando as informações num JSON: relatorio_teste_semBeamforming_SNR_2dB_semPCA_1585102266.0652447.json\n",
      "O teste com todos os classificadores foi finalizado\n",
      "Classificando com o  SVC\n",
      "Salvando as informações num JSON: relatorio_teste_beamforming_SNR_2dB_semPCA_1585102266.8978734.json\n",
      "Classificando com o  SVC\n",
      "Salvando as informações num JSON: relatorio_teste_beamforming_SNR_2dB_semPCA_1585102267.6700108.json\n",
      "Classificando com o  SVC\n",
      "Salvando as informações num JSON: relatorio_teste_beamforming_SNR_2dB_semPCA_1585102268.384385.json\n",
      "Classificando com o  SVC\n",
      "Salvando as informações num JSON: relatorio_teste_beamforming_SNR_2dB_semPCA_1585102269.1303554.json\n",
      "Classificando com o  SVC\n",
      "Salvando as informações num JSON: relatorio_teste_beamforming_SNR_2dB_semPCA_1585102269.8905294.json\n",
      "Classificando com o  SVC\n",
      "Salvando as informações num JSON: relatorio_teste_beamforming_SNR_2dB_semPCA_1585102270.636076.json\n",
      "Classificando com o  SVC\n",
      "Salvando as informações num JSON: relatorio_teste_beamforming_SNR_2dB_semPCA_1585102271.397589.json\n",
      "Classificando com o  SVC\n",
      "Salvando as informações num JSON: relatorio_teste_beamforming_SNR_2dB_semPCA_1585102272.157857.json\n",
      "Classificando com o  SVC\n",
      "Salvando as informações num JSON: relatorio_teste_beamforming_SNR_2dB_semPCA_1585102272.8924792.json\n",
      "Classificando com o  SVC\n",
      "Salvando as informações num JSON: relatorio_teste_beamforming_SNR_2dB_semPCA_1585102273.633047.json\n",
      "Classificando com o  LinearDiscriminantAnalysis\n",
      "Salvando as informações num JSON: relatorio_teste_beamforming_SNR_2dB_semPCA_1585102273.8885689.json\n",
      "Classificando com o  LinearDiscriminantAnalysis\n",
      "Salvando as informações num JSON: relatorio_teste_beamforming_SNR_2dB_semPCA_1585102274.1355655.json\n",
      "Classificando com o  LinearDiscriminantAnalysis\n",
      "Salvando as informações num JSON: relatorio_teste_beamforming_SNR_2dB_semPCA_1585102274.3871794.json\n",
      "Classificando com o  LinearDiscriminantAnalysis\n",
      "Salvando as informações num JSON: relatorio_teste_beamforming_SNR_2dB_semPCA_1585102274.6298509.json\n",
      "Classificando com o  LinearDiscriminantAnalysis\n",
      "Salvando as informações num JSON: relatorio_teste_beamforming_SNR_2dB_semPCA_1585102274.9111347.json\n",
      "Classificando com o  LinearDiscriminantAnalysis\n",
      "Salvando as informações num JSON: relatorio_teste_beamforming_SNR_2dB_semPCA_1585102275.2143245.json\n",
      "Classificando com o  LinearDiscriminantAnalysis\n",
      "Salvando as informações num JSON: relatorio_teste_beamforming_SNR_2dB_semPCA_1585102275.4828103.json\n",
      "Classificando com o  LinearDiscriminantAnalysis\n",
      "Salvando as informações num JSON: relatorio_teste_beamforming_SNR_2dB_semPCA_1585102275.736137.json\n",
      "Classificando com o  LinearDiscriminantAnalysis\n",
      "Salvando as informações num JSON: relatorio_teste_beamforming_SNR_2dB_semPCA_1585102275.9898808.json\n",
      "Classificando com o  LinearDiscriminantAnalysis\n",
      "Salvando as informações num JSON: relatorio_teste_beamforming_SNR_2dB_semPCA_1585102276.3176148.json\n",
      "O teste com todos os classificadores foi finalizado\n",
      "Classificando com o  SVC\n",
      "Salvando as informações num JSON: relatorio_teste_GSC_SNR_2dB_semPCA_1585102277.17787.json\n",
      "Classificando com o  SVC\n",
      "Salvando as informações num JSON: relatorio_teste_GSC_SNR_2dB_semPCA_1585102277.9602308.json\n",
      "Classificando com o  SVC\n",
      "Salvando as informações num JSON: relatorio_teste_GSC_SNR_2dB_semPCA_1585102278.7478435.json\n",
      "Classificando com o  SVC\n",
      "Salvando as informações num JSON: relatorio_teste_GSC_SNR_2dB_semPCA_1585102279.576531.json\n",
      "Classificando com o  SVC\n",
      "Salvando as informações num JSON: relatorio_teste_GSC_SNR_2dB_semPCA_1585102280.5431936.json\n",
      "Classificando com o  SVC\n",
      "Salvando as informações num JSON: relatorio_teste_GSC_SNR_2dB_semPCA_1585102281.3391414.json\n",
      "Classificando com o  SVC\n",
      "Salvando as informações num JSON: relatorio_teste_GSC_SNR_2dB_semPCA_1585102282.2125187.json\n",
      "Classificando com o  SVC\n",
      "Salvando as informações num JSON: relatorio_teste_GSC_SNR_2dB_semPCA_1585102283.0314324.json\n",
      "Classificando com o  SVC\n",
      "Salvando as informações num JSON: relatorio_teste_GSC_SNR_2dB_semPCA_1585102283.7687495.json\n",
      "Classificando com o  SVC\n",
      "Salvando as informações num JSON: relatorio_teste_GSC_SNR_2dB_semPCA_1585102284.5053017.json\n",
      "Classificando com o  LinearDiscriminantAnalysis\n",
      "Salvando as informações num JSON: relatorio_teste_GSC_SNR_2dB_semPCA_1585102284.7584994.json\n",
      "Classificando com o  LinearDiscriminantAnalysis\n",
      "Salvando as informações num JSON: relatorio_teste_GSC_SNR_2dB_semPCA_1585102285.012409.json\n",
      "Classificando com o  LinearDiscriminantAnalysis\n",
      "Salvando as informações num JSON: relatorio_teste_GSC_SNR_2dB_semPCA_1585102285.2745216.json\n",
      "Classificando com o  LinearDiscriminantAnalysis\n",
      "Salvando as informações num JSON: relatorio_teste_GSC_SNR_2dB_semPCA_1585102285.525526.json\n",
      "Classificando com o  LinearDiscriminantAnalysis\n",
      "Salvando as informações num JSON: relatorio_teste_GSC_SNR_2dB_semPCA_1585102285.7856293.json\n",
      "Classificando com o  LinearDiscriminantAnalysis\n",
      "Salvando as informações num JSON: relatorio_teste_GSC_SNR_2dB_semPCA_1585102286.092985.json\n",
      "Classificando com o  LinearDiscriminantAnalysis\n",
      "Salvando as informações num JSON: relatorio_teste_GSC_SNR_2dB_semPCA_1585102286.3521688.json\n",
      "Classificando com o  LinearDiscriminantAnalysis\n",
      "Salvando as informações num JSON: relatorio_teste_GSC_SNR_2dB_semPCA_1585102286.6219923.json\n",
      "Classificando com o  LinearDiscriminantAnalysis\n",
      "Salvando as informações num JSON: relatorio_teste_GSC_SNR_2dB_semPCA_1585102286.8737335.json\n",
      "Classificando com o  LinearDiscriminantAnalysis\n",
      "Salvando as informações num JSON: relatorio_teste_GSC_SNR_2dB_semPCA_1585102287.1312838.json\n",
      "O teste com todos os classificadores foi finalizado\n",
      "Classificando com o  SVC\n",
      "Salvando as informações num JSON: relatorio_teste_semBeamforming_SNR_9dB_semPCA_1585102288.0434856.json\n",
      "Classificando com o  SVC\n",
      "Salvando as informações num JSON: relatorio_teste_semBeamforming_SNR_9dB_semPCA_1585102288.8277225.json\n",
      "Classificando com o  SVC\n",
      "Salvando as informações num JSON: relatorio_teste_semBeamforming_SNR_9dB_semPCA_1585102289.6555595.json\n",
      "Classificando com o  SVC\n",
      "Salvando as informações num JSON: relatorio_teste_semBeamforming_SNR_9dB_semPCA_1585102290.464934.json\n",
      "Classificando com o  SVC\n",
      "Salvando as informações num JSON: relatorio_teste_semBeamforming_SNR_9dB_semPCA_1585102291.2233124.json\n",
      "Classificando com o  SVC\n",
      "Salvando as informações num JSON: relatorio_teste_semBeamforming_SNR_9dB_semPCA_1585102291.9843576.json\n",
      "Classificando com o  SVC\n",
      "Salvando as informações num JSON: relatorio_teste_semBeamforming_SNR_9dB_semPCA_1585102292.7485104.json\n",
      "Classificando com o  SVC\n",
      "Salvando as informações num JSON: relatorio_teste_semBeamforming_SNR_9dB_semPCA_1585102293.5049605.json\n",
      "Classificando com o  SVC\n",
      "Salvando as informações num JSON: relatorio_teste_semBeamforming_SNR_9dB_semPCA_1585102294.2747798.json\n",
      "Classificando com o  SVC\n",
      "Salvando as informações num JSON: relatorio_teste_semBeamforming_SNR_9dB_semPCA_1585102295.033305.json\n",
      "Classificando com o  LinearDiscriminantAnalysis\n",
      "Salvando as informações num JSON: relatorio_teste_semBeamforming_SNR_9dB_semPCA_1585102295.304202.json\n",
      "Classificando com o  LinearDiscriminantAnalysis\n",
      "Salvando as informações num JSON: relatorio_teste_semBeamforming_SNR_9dB_semPCA_1585102295.5649664.json\n",
      "Classificando com o  LinearDiscriminantAnalysis\n",
      "Salvando as informações num JSON: relatorio_teste_semBeamforming_SNR_9dB_semPCA_1585102295.8267498.json\n",
      "Classificando com o  LinearDiscriminantAnalysis\n",
      "Salvando as informações num JSON: relatorio_teste_semBeamforming_SNR_9dB_semPCA_1585102296.0924888.json\n",
      "Classificando com o  LinearDiscriminantAnalysis\n",
      "Salvando as informações num JSON: relatorio_teste_semBeamforming_SNR_9dB_semPCA_1585102296.3584273.json\n",
      "Classificando com o  LinearDiscriminantAnalysis\n",
      "Salvando as informações num JSON: relatorio_teste_semBeamforming_SNR_9dB_semPCA_1585102296.6483493.json\n",
      "Classificando com o  LinearDiscriminantAnalysis\n",
      "Salvando as informações num JSON: relatorio_teste_semBeamforming_SNR_9dB_semPCA_1585102296.9390385.json\n",
      "Classificando com o  LinearDiscriminantAnalysis\n",
      "Salvando as informações num JSON: relatorio_teste_semBeamforming_SNR_9dB_semPCA_1585102297.2020302.json\n",
      "Classificando com o  LinearDiscriminantAnalysis\n",
      "Salvando as informações num JSON: relatorio_teste_semBeamforming_SNR_9dB_semPCA_1585102297.4736028.json\n",
      "Classificando com o  LinearDiscriminantAnalysis\n"
     ]
    },
    {
     "name": "stdout",
     "output_type": "stream",
     "text": [
      "Salvando as informações num JSON: relatorio_teste_semBeamforming_SNR_9dB_semPCA_1585102297.7472444.json\n",
      "O teste com todos os classificadores foi finalizado\n",
      "Classificando com o  SVC\n",
      "Salvando as informações num JSON: relatorio_teste_beamforming_SNR_9dB_semPCA_1585102298.6059105.json\n",
      "Classificando com o  SVC\n",
      "Salvando as informações num JSON: relatorio_teste_beamforming_SNR_9dB_semPCA_1585102299.4033475.json\n",
      "Classificando com o  SVC\n",
      "Salvando as informações num JSON: relatorio_teste_beamforming_SNR_9dB_semPCA_1585102300.1352568.json\n",
      "Classificando com o  SVC\n",
      "Salvando as informações num JSON: relatorio_teste_beamforming_SNR_9dB_semPCA_1585102300.9689429.json\n",
      "Classificando com o  SVC\n",
      "Salvando as informações num JSON: relatorio_teste_beamforming_SNR_9dB_semPCA_1585102301.8751297.json\n",
      "Classificando com o  SVC\n",
      "Salvando as informações num JSON: relatorio_teste_beamforming_SNR_9dB_semPCA_1585102302.6807568.json\n",
      "Classificando com o  SVC\n",
      "Salvando as informações num JSON: relatorio_teste_beamforming_SNR_9dB_semPCA_1585102303.4749036.json\n",
      "Classificando com o  SVC\n",
      "Salvando as informações num JSON: relatorio_teste_beamforming_SNR_9dB_semPCA_1585102304.2714763.json\n",
      "Classificando com o  SVC\n",
      "Salvando as informações num JSON: relatorio_teste_beamforming_SNR_9dB_semPCA_1585102305.0509937.json\n",
      "Classificando com o  SVC\n",
      "Salvando as informações num JSON: relatorio_teste_beamforming_SNR_9dB_semPCA_1585102305.8523614.json\n",
      "Classificando com o  LinearDiscriminantAnalysis\n",
      "Salvando as informações num JSON: relatorio_teste_beamforming_SNR_9dB_semPCA_1585102306.1944366.json\n",
      "Classificando com o  LinearDiscriminantAnalysis\n",
      "Salvando as informações num JSON: relatorio_teste_beamforming_SNR_9dB_semPCA_1585102306.4849124.json\n",
      "Classificando com o  LinearDiscriminantAnalysis\n",
      "Salvando as informações num JSON: relatorio_teste_beamforming_SNR_9dB_semPCA_1585102306.7572262.json\n",
      "Classificando com o  LinearDiscriminantAnalysis\n",
      "Salvando as informações num JSON: relatorio_teste_beamforming_SNR_9dB_semPCA_1585102307.0947154.json\n",
      "Classificando com o  LinearDiscriminantAnalysis\n",
      "Salvando as informações num JSON: relatorio_teste_beamforming_SNR_9dB_semPCA_1585102307.3723178.json\n",
      "Classificando com o  LinearDiscriminantAnalysis\n",
      "Salvando as informações num JSON: relatorio_teste_beamforming_SNR_9dB_semPCA_1585102307.6542842.json\n",
      "Classificando com o  LinearDiscriminantAnalysis\n",
      "Salvando as informações num JSON: relatorio_teste_beamforming_SNR_9dB_semPCA_1585102307.9862444.json\n",
      "Classificando com o  LinearDiscriminantAnalysis\n",
      "Salvando as informações num JSON: relatorio_teste_beamforming_SNR_9dB_semPCA_1585102308.2693498.json\n",
      "Classificando com o  LinearDiscriminantAnalysis\n",
      "Salvando as informações num JSON: relatorio_teste_beamforming_SNR_9dB_semPCA_1585102308.6967216.json\n",
      "Classificando com o  LinearDiscriminantAnalysis\n",
      "Salvando as informações num JSON: relatorio_teste_beamforming_SNR_9dB_semPCA_1585102309.1164742.json\n",
      "O teste com todos os classificadores foi finalizado\n",
      "Classificando com o  SVC\n",
      "Salvando as informações num JSON: relatorio_teste_GSC_SNR_9dB_semPCA_1585102310.0983138.json\n",
      "Classificando com o  SVC\n",
      "Salvando as informações num JSON: relatorio_teste_GSC_SNR_9dB_semPCA_1585102311.0114028.json\n",
      "Classificando com o  SVC\n",
      "Salvando as informações num JSON: relatorio_teste_GSC_SNR_9dB_semPCA_1585102311.7590346.json\n",
      "Classificando com o  SVC\n",
      "Salvando as informações num JSON: relatorio_teste_GSC_SNR_9dB_semPCA_1585102312.5461185.json\n",
      "Classificando com o  SVC\n",
      "Salvando as informações num JSON: relatorio_teste_GSC_SNR_9dB_semPCA_1585102313.3311558.json\n",
      "Classificando com o  SVC\n",
      "Salvando as informações num JSON: relatorio_teste_GSC_SNR_9dB_semPCA_1585102314.140556.json\n",
      "Classificando com o  SVC\n",
      "Salvando as informações num JSON: relatorio_teste_GSC_SNR_9dB_semPCA_1585102314.907813.json\n",
      "Classificando com o  SVC\n",
      "Salvando as informações num JSON: relatorio_teste_GSC_SNR_9dB_semPCA_1585102315.6647158.json\n",
      "Classificando com o  SVC\n",
      "Salvando as informações num JSON: relatorio_teste_GSC_SNR_9dB_semPCA_1585102316.435455.json\n",
      "Classificando com o  SVC\n",
      "Salvando as informações num JSON: relatorio_teste_GSC_SNR_9dB_semPCA_1585102317.1821363.json\n",
      "Classificando com o  LinearDiscriminantAnalysis\n",
      "Salvando as informações num JSON: relatorio_teste_GSC_SNR_9dB_semPCA_1585102317.465677.json\n",
      "Classificando com o  LinearDiscriminantAnalysis\n",
      "Salvando as informações num JSON: relatorio_teste_GSC_SNR_9dB_semPCA_1585102317.7392592.json\n",
      "Classificando com o  LinearDiscriminantAnalysis\n",
      "Salvando as informações num JSON: relatorio_teste_GSC_SNR_9dB_semPCA_1585102318.0097928.json\n",
      "Classificando com o  LinearDiscriminantAnalysis\n",
      "Salvando as informações num JSON: relatorio_teste_GSC_SNR_9dB_semPCA_1585102318.2830408.json\n",
      "Classificando com o  LinearDiscriminantAnalysis\n",
      "Salvando as informações num JSON: relatorio_teste_GSC_SNR_9dB_semPCA_1585102318.550894.json\n",
      "Classificando com o  LinearDiscriminantAnalysis\n",
      "Salvando as informações num JSON: relatorio_teste_GSC_SNR_9dB_semPCA_1585102318.8163595.json\n",
      "Classificando com o  LinearDiscriminantAnalysis\n",
      "Salvando as informações num JSON: relatorio_teste_GSC_SNR_9dB_semPCA_1585102319.089573.json\n",
      "Classificando com o  LinearDiscriminantAnalysis\n",
      "Salvando as informações num JSON: relatorio_teste_GSC_SNR_9dB_semPCA_1585102319.3659673.json\n",
      "Classificando com o  LinearDiscriminantAnalysis\n",
      "Salvando as informações num JSON: relatorio_teste_GSC_SNR_9dB_semPCA_1585102319.6599152.json\n",
      "Classificando com o  LinearDiscriminantAnalysis\n",
      "Salvando as informações num JSON: relatorio_teste_GSC_SNR_9dB_semPCA_1585102320.0547016.json\n",
      "O teste com todos os classificadores foi finalizado\n",
      "Classificando com o  SVC\n",
      "Salvando as informações num JSON: relatorio_teste_semBeamforming_SNR_29dB_semPCA_1585102321.0634074.json\n",
      "Classificando com o  SVC\n",
      "Salvando as informações num JSON: relatorio_teste_semBeamforming_SNR_29dB_semPCA_1585102322.004515.json\n",
      "Classificando com o  SVC\n",
      "Salvando as informações num JSON: relatorio_teste_semBeamforming_SNR_29dB_semPCA_1585102322.7452917.json\n",
      "Classificando com o  SVC\n",
      "Salvando as informações num JSON: relatorio_teste_semBeamforming_SNR_29dB_semPCA_1585102323.552856.json\n",
      "Classificando com o  SVC\n",
      "Salvando as informações num JSON: relatorio_teste_semBeamforming_SNR_29dB_semPCA_1585102324.4612522.json\n",
      "Classificando com o  SVC\n",
      "Salvando as informações num JSON: relatorio_teste_semBeamforming_SNR_29dB_semPCA_1585102325.3695953.json\n",
      "Classificando com o  SVC\n",
      "Salvando as informações num JSON: relatorio_teste_semBeamforming_SNR_29dB_semPCA_1585102326.245249.json\n",
      "Classificando com o  SVC\n",
      "Salvando as informações num JSON: relatorio_teste_semBeamforming_SNR_29dB_semPCA_1585102327.0828886.json\n",
      "Classificando com o  SVC\n",
      "Salvando as informações num JSON: relatorio_teste_semBeamforming_SNR_29dB_semPCA_1585102327.882841.json\n",
      "Classificando com o  SVC\n",
      "Salvando as informações num JSON: relatorio_teste_semBeamforming_SNR_29dB_semPCA_1585102328.8583565.json\n",
      "Classificando com o  LinearDiscriminantAnalysis\n",
      "Salvando as informações num JSON: relatorio_teste_semBeamforming_SNR_29dB_semPCA_1585102329.257377.json\n",
      "Classificando com o  LinearDiscriminantAnalysis\n",
      "Salvando as informações num JSON: relatorio_teste_semBeamforming_SNR_29dB_semPCA_1585102329.7951133.json\n",
      "Classificando com o  LinearDiscriminantAnalysis\n",
      "Salvando as informações num JSON: relatorio_teste_semBeamforming_SNR_29dB_semPCA_1585102330.4014533.json\n",
      "Classificando com o  LinearDiscriminantAnalysis\n",
      "Salvando as informações num JSON: relatorio_teste_semBeamforming_SNR_29dB_semPCA_1585102330.8754096.json\n",
      "Classificando com o  LinearDiscriminantAnalysis\n",
      "Salvando as informações num JSON: relatorio_teste_semBeamforming_SNR_29dB_semPCA_1585102331.2916217.json\n",
      "Classificando com o  LinearDiscriminantAnalysis\n",
      "Salvando as informações num JSON: relatorio_teste_semBeamforming_SNR_29dB_semPCA_1585102331.6609778.json\n",
      "Classificando com o  LinearDiscriminantAnalysis\n",
      "Salvando as informações num JSON: relatorio_teste_semBeamforming_SNR_29dB_semPCA_1585102332.0309775.json\n",
      "Classificando com o  LinearDiscriminantAnalysis\n",
      "Salvando as informações num JSON: relatorio_teste_semBeamforming_SNR_29dB_semPCA_1585102332.3371377.json\n",
      "Classificando com o  LinearDiscriminantAnalysis\n",
      "Salvando as informações num JSON: relatorio_teste_semBeamforming_SNR_29dB_semPCA_1585102332.7705538.json\n",
      "Classificando com o  LinearDiscriminantAnalysis\n"
     ]
    },
    {
     "name": "stdout",
     "output_type": "stream",
     "text": [
      "Salvando as informações num JSON: relatorio_teste_semBeamforming_SNR_29dB_semPCA_1585102333.405742.json\n",
      "O teste com todos os classificadores foi finalizado\n",
      "Classificando com o  SVC\n",
      "Salvando as informações num JSON: relatorio_teste_GSC_SNR_29dB_semPCA_1585102334.7417393.json\n",
      "Classificando com o  SVC\n",
      "Salvando as informações num JSON: relatorio_teste_GSC_SNR_29dB_semPCA_1585102335.6863005.json\n",
      "Classificando com o  SVC\n",
      "Salvando as informações num JSON: relatorio_teste_GSC_SNR_29dB_semPCA_1585102336.7883637.json\n",
      "Classificando com o  SVC\n",
      "Salvando as informações num JSON: relatorio_teste_GSC_SNR_29dB_semPCA_1585102338.2582088.json\n",
      "Classificando com o  SVC\n",
      "Salvando as informações num JSON: relatorio_teste_GSC_SNR_29dB_semPCA_1585102339.269673.json\n",
      "Classificando com o  SVC\n",
      "Salvando as informações num JSON: relatorio_teste_GSC_SNR_29dB_semPCA_1585102340.2454004.json\n",
      "Classificando com o  SVC\n",
      "Salvando as informações num JSON: relatorio_teste_GSC_SNR_29dB_semPCA_1585102341.1562881.json\n",
      "Classificando com o  SVC\n",
      "Salvando as informações num JSON: relatorio_teste_GSC_SNR_29dB_semPCA_1585102341.9729273.json\n",
      "Classificando com o  SVC\n",
      "Salvando as informações num JSON: relatorio_teste_GSC_SNR_29dB_semPCA_1585102342.8473086.json\n",
      "Classificando com o  SVC\n",
      "Salvando as informações num JSON: relatorio_teste_GSC_SNR_29dB_semPCA_1585102343.7538612.json\n",
      "Classificando com o  LinearDiscriminantAnalysis\n",
      "Salvando as informações num JSON: relatorio_teste_GSC_SNR_29dB_semPCA_1585102344.0076919.json\n",
      "Classificando com o  LinearDiscriminantAnalysis\n",
      "Salvando as informações num JSON: relatorio_teste_GSC_SNR_29dB_semPCA_1585102344.3075104.json\n",
      "Classificando com o  LinearDiscriminantAnalysis\n",
      "Salvando as informações num JSON: relatorio_teste_GSC_SNR_29dB_semPCA_1585102344.6513371.json\n",
      "Classificando com o  LinearDiscriminantAnalysis\n",
      "Salvando as informações num JSON: relatorio_teste_GSC_SNR_29dB_semPCA_1585102344.95201.json\n",
      "Classificando com o  LinearDiscriminantAnalysis\n",
      "Salvando as informações num JSON: relatorio_teste_GSC_SNR_29dB_semPCA_1585102345.2797399.json\n",
      "Classificando com o  LinearDiscriminantAnalysis\n",
      "Salvando as informações num JSON: relatorio_teste_GSC_SNR_29dB_semPCA_1585102345.6125753.json\n",
      "Classificando com o  LinearDiscriminantAnalysis\n",
      "Salvando as informações num JSON: relatorio_teste_GSC_SNR_29dB_semPCA_1585102345.9213266.json\n",
      "Classificando com o  LinearDiscriminantAnalysis\n",
      "Salvando as informações num JSON: relatorio_teste_GSC_SNR_29dB_semPCA_1585102346.2076273.json\n",
      "Classificando com o  LinearDiscriminantAnalysis\n",
      "Salvando as informações num JSON: relatorio_teste_GSC_SNR_29dB_semPCA_1585102346.4775925.json\n",
      "Classificando com o  LinearDiscriminantAnalysis\n",
      "Salvando as informações num JSON: relatorio_teste_GSC_SNR_29dB_semPCA_1585102346.7460322.json\n",
      "O teste com todos os classificadores foi finalizado\n",
      "Classificando com o  SVC\n",
      "Salvando as informações num JSON: relatorio_teste_beamforming_SNR_29dB_semPCA_1585102347.624126.json\n",
      "Classificando com o  SVC\n",
      "Salvando as informações num JSON: relatorio_teste_beamforming_SNR_29dB_semPCA_1585102348.6219559.json\n",
      "Classificando com o  SVC\n",
      "Salvando as informações num JSON: relatorio_teste_beamforming_SNR_29dB_semPCA_1585102349.6027126.json\n",
      "Classificando com o  SVC\n",
      "Salvando as informações num JSON: relatorio_teste_beamforming_SNR_29dB_semPCA_1585102350.5182452.json\n",
      "Classificando com o  SVC\n",
      "Salvando as informações num JSON: relatorio_teste_beamforming_SNR_29dB_semPCA_1585102351.3803024.json\n",
      "Classificando com o  SVC\n",
      "Salvando as informações num JSON: relatorio_teste_beamforming_SNR_29dB_semPCA_1585102352.252743.json\n",
      "Classificando com o  SVC\n",
      "Salvando as informações num JSON: relatorio_teste_beamforming_SNR_29dB_semPCA_1585102353.0931275.json\n",
      "Classificando com o  SVC\n",
      "Salvando as informações num JSON: relatorio_teste_beamforming_SNR_29dB_semPCA_1585102353.868071.json\n",
      "Classificando com o  SVC\n",
      "Salvando as informações num JSON: relatorio_teste_beamforming_SNR_29dB_semPCA_1585102354.6289535.json\n",
      "Classificando com o  SVC\n",
      "Salvando as informações num JSON: relatorio_teste_beamforming_SNR_29dB_semPCA_1585102355.3650079.json\n",
      "Classificando com o  LinearDiscriminantAnalysis\n",
      "Salvando as informações num JSON: relatorio_teste_beamforming_SNR_29dB_semPCA_1585102355.6205385.json\n",
      "Classificando com o  LinearDiscriminantAnalysis\n",
      "Salvando as informações num JSON: relatorio_teste_beamforming_SNR_29dB_semPCA_1585102355.8703742.json\n",
      "Classificando com o  LinearDiscriminantAnalysis\n",
      "Salvando as informações num JSON: relatorio_teste_beamforming_SNR_29dB_semPCA_1585102356.121945.json\n",
      "Classificando com o  LinearDiscriminantAnalysis\n",
      "Salvando as informações num JSON: relatorio_teste_beamforming_SNR_29dB_semPCA_1585102356.391972.json\n",
      "Classificando com o  LinearDiscriminantAnalysis\n",
      "Salvando as informações num JSON: relatorio_teste_beamforming_SNR_29dB_semPCA_1585102356.664889.json\n",
      "Classificando com o  LinearDiscriminantAnalysis\n",
      "Salvando as informações num JSON: relatorio_teste_beamforming_SNR_29dB_semPCA_1585102356.9259048.json\n",
      "Classificando com o  LinearDiscriminantAnalysis\n",
      "Salvando as informações num JSON: relatorio_teste_beamforming_SNR_29dB_semPCA_1585102357.1747348.json\n",
      "Classificando com o  LinearDiscriminantAnalysis\n",
      "Salvando as informações num JSON: relatorio_teste_beamforming_SNR_29dB_semPCA_1585102357.4290123.json\n",
      "Classificando com o  LinearDiscriminantAnalysis\n",
      "Salvando as informações num JSON: relatorio_teste_beamforming_SNR_29dB_semPCA_1585102357.6946015.json\n",
      "Classificando com o  LinearDiscriminantAnalysis\n",
      "Salvando as informações num JSON: relatorio_teste_beamforming_SNR_29dB_semPCA_1585102357.945854.json\n",
      "O teste com todos os classificadores foi finalizado\n",
      "Classificando com o  SVC\n",
      "Salvando as informações num JSON: relatorio_teste_beamforming_SNR_20dB_semPCA_1585102358.841516.json\n",
      "Classificando com o  SVC\n",
      "Salvando as informações num JSON: relatorio_teste_beamforming_SNR_20dB_semPCA_1585102359.6754146.json\n",
      "Classificando com o  SVC\n",
      "Salvando as informações num JSON: relatorio_teste_beamforming_SNR_20dB_semPCA_1585102360.5357156.json\n",
      "Classificando com o  SVC\n",
      "Salvando as informações num JSON: relatorio_teste_beamforming_SNR_20dB_semPCA_1585102361.3815138.json\n",
      "Classificando com o  SVC\n",
      "Salvando as informações num JSON: relatorio_teste_beamforming_SNR_20dB_semPCA_1585102362.2971148.json\n",
      "Classificando com o  SVC\n",
      "Salvando as informações num JSON: relatorio_teste_beamforming_SNR_20dB_semPCA_1585102363.1307034.json\n",
      "Classificando com o  SVC\n",
      "Salvando as informações num JSON: relatorio_teste_beamforming_SNR_20dB_semPCA_1585102363.8743677.json\n",
      "Classificando com o  SVC\n",
      "Salvando as informações num JSON: relatorio_teste_beamforming_SNR_20dB_semPCA_1585102364.632387.json\n",
      "Classificando com o  SVC\n",
      "Salvando as informações num JSON: relatorio_teste_beamforming_SNR_20dB_semPCA_1585102365.3931344.json\n",
      "Classificando com o  SVC\n",
      "Salvando as informações num JSON: relatorio_teste_beamforming_SNR_20dB_semPCA_1585102366.1501493.json\n",
      "Classificando com o  LinearDiscriminantAnalysis\n",
      "Salvando as informações num JSON: relatorio_teste_beamforming_SNR_20dB_semPCA_1585102366.417432.json\n",
      "Classificando com o  LinearDiscriminantAnalysis\n",
      "Salvando as informações num JSON: relatorio_teste_beamforming_SNR_20dB_semPCA_1585102366.6689649.json\n",
      "Classificando com o  LinearDiscriminantAnalysis\n",
      "Salvando as informações num JSON: relatorio_teste_beamforming_SNR_20dB_semPCA_1585102366.91045.json\n",
      "Classificando com o  LinearDiscriminantAnalysis\n",
      "Salvando as informações num JSON: relatorio_teste_beamforming_SNR_20dB_semPCA_1585102367.1617045.json\n",
      "Classificando com o  LinearDiscriminantAnalysis\n",
      "Salvando as informações num JSON: relatorio_teste_beamforming_SNR_20dB_semPCA_1585102367.423014.json\n",
      "Classificando com o  LinearDiscriminantAnalysis\n",
      "Salvando as informações num JSON: relatorio_teste_beamforming_SNR_20dB_semPCA_1585102367.6634088.json\n",
      "Classificando com o  LinearDiscriminantAnalysis\n",
      "Salvando as informações num JSON: relatorio_teste_beamforming_SNR_20dB_semPCA_1585102367.9129908.json\n",
      "Classificando com o  LinearDiscriminantAnalysis\n",
      "Salvando as informações num JSON: relatorio_teste_beamforming_SNR_20dB_semPCA_1585102368.1628304.json\n",
      "Classificando com o  LinearDiscriminantAnalysis\n",
      "Salvando as informações num JSON: relatorio_teste_beamforming_SNR_20dB_semPCA_1585102368.421438.json\n",
      "Classificando com o  LinearDiscriminantAnalysis\n"
     ]
    },
    {
     "name": "stdout",
     "output_type": "stream",
     "text": [
      "Salvando as informações num JSON: relatorio_teste_beamforming_SNR_20dB_semPCA_1585102368.6726322.json\n",
      "O teste com todos os classificadores foi finalizado\n",
      "Classificando com o  SVC\n",
      "Salvando as informações num JSON: relatorio_teste_semBeamforming_SNR_20dB_semPCA_1585102369.5413668.json\n",
      "Classificando com o  SVC\n",
      "Salvando as informações num JSON: relatorio_teste_semBeamforming_SNR_20dB_semPCA_1585102370.28711.json\n",
      "Classificando com o  SVC\n",
      "Salvando as informações num JSON: relatorio_teste_semBeamforming_SNR_20dB_semPCA_1585102370.9864798.json\n",
      "Classificando com o  SVC\n",
      "Salvando as informações num JSON: relatorio_teste_semBeamforming_SNR_20dB_semPCA_1585102371.759427.json\n",
      "Classificando com o  SVC\n",
      "Salvando as informações num JSON: relatorio_teste_semBeamforming_SNR_20dB_semPCA_1585102372.5462456.json\n",
      "Classificando com o  SVC\n",
      "Salvando as informações num JSON: relatorio_teste_semBeamforming_SNR_20dB_semPCA_1585102373.3411372.json\n",
      "Classificando com o  SVC\n",
      "Salvando as informações num JSON: relatorio_teste_semBeamforming_SNR_20dB_semPCA_1585102374.095363.json\n",
      "Classificando com o  SVC\n",
      "Salvando as informações num JSON: relatorio_teste_semBeamforming_SNR_20dB_semPCA_1585102374.8738172.json\n",
      "Classificando com o  SVC\n",
      "Salvando as informações num JSON: relatorio_teste_semBeamforming_SNR_20dB_semPCA_1585102375.6286938.json\n",
      "Classificando com o  SVC\n",
      "Salvando as informações num JSON: relatorio_teste_semBeamforming_SNR_20dB_semPCA_1585102376.3814828.json\n",
      "Classificando com o  LinearDiscriminantAnalysis\n",
      "Salvando as informações num JSON: relatorio_teste_semBeamforming_SNR_20dB_semPCA_1585102376.6594424.json\n",
      "Classificando com o  LinearDiscriminantAnalysis\n",
      "Salvando as informações num JSON: relatorio_teste_semBeamforming_SNR_20dB_semPCA_1585102376.9361165.json\n",
      "Classificando com o  LinearDiscriminantAnalysis\n",
      "Salvando as informações num JSON: relatorio_teste_semBeamforming_SNR_20dB_semPCA_1585102377.2299006.json\n",
      "Classificando com o  LinearDiscriminantAnalysis\n",
      "Salvando as informações num JSON: relatorio_teste_semBeamforming_SNR_20dB_semPCA_1585102377.536298.json\n",
      "Classificando com o  LinearDiscriminantAnalysis\n",
      "Salvando as informações num JSON: relatorio_teste_semBeamforming_SNR_20dB_semPCA_1585102377.830914.json\n",
      "Classificando com o  LinearDiscriminantAnalysis\n",
      "Salvando as informações num JSON: relatorio_teste_semBeamforming_SNR_20dB_semPCA_1585102378.0946572.json\n",
      "Classificando com o  LinearDiscriminantAnalysis\n",
      "Salvando as informações num JSON: relatorio_teste_semBeamforming_SNR_20dB_semPCA_1585102378.3602297.json\n",
      "Classificando com o  LinearDiscriminantAnalysis\n",
      "Salvando as informações num JSON: relatorio_teste_semBeamforming_SNR_20dB_semPCA_1585102378.6055233.json\n",
      "Classificando com o  LinearDiscriminantAnalysis\n",
      "Salvando as informações num JSON: relatorio_teste_semBeamforming_SNR_20dB_semPCA_1585102378.8647635.json\n",
      "Classificando com o  LinearDiscriminantAnalysis\n",
      "Salvando as informações num JSON: relatorio_teste_semBeamforming_SNR_20dB_semPCA_1585102379.1490545.json\n",
      "O teste com todos os classificadores foi finalizado\n",
      "Classificando com o  SVC\n",
      "Salvando as informações num JSON: relatorio_teste_GSC_SNR_20dB_semPCA_1585102379.982887.json\n",
      "Classificando com o  SVC\n",
      "Salvando as informações num JSON: relatorio_teste_GSC_SNR_20dB_semPCA_1585102380.7717505.json\n",
      "Classificando com o  SVC\n",
      "Salvando as informações num JSON: relatorio_teste_GSC_SNR_20dB_semPCA_1585102381.5109162.json\n",
      "Classificando com o  SVC\n",
      "Salvando as informações num JSON: relatorio_teste_GSC_SNR_20dB_semPCA_1585102382.2789977.json\n",
      "Classificando com o  SVC\n",
      "Salvando as informações num JSON: relatorio_teste_GSC_SNR_20dB_semPCA_1585102383.124424.json\n",
      "Classificando com o  SVC\n",
      "Salvando as informações num JSON: relatorio_teste_GSC_SNR_20dB_semPCA_1585102384.0236092.json\n",
      "Classificando com o  SVC\n",
      "Salvando as informações num JSON: relatorio_teste_GSC_SNR_20dB_semPCA_1585102384.8030064.json\n",
      "Classificando com o  SVC\n",
      "Salvando as informações num JSON: relatorio_teste_GSC_SNR_20dB_semPCA_1585102385.5735486.json\n",
      "Classificando com o  SVC\n",
      "Salvando as informações num JSON: relatorio_teste_GSC_SNR_20dB_semPCA_1585102386.3154707.json\n",
      "Classificando com o  SVC\n",
      "Salvando as informações num JSON: relatorio_teste_GSC_SNR_20dB_semPCA_1585102387.0788183.json\n",
      "Classificando com o  LinearDiscriminantAnalysis\n",
      "Salvando as informações num JSON: relatorio_teste_GSC_SNR_20dB_semPCA_1585102387.3190248.json\n",
      "Classificando com o  LinearDiscriminantAnalysis\n",
      "Salvando as informações num JSON: relatorio_teste_GSC_SNR_20dB_semPCA_1585102387.5850506.json\n",
      "Classificando com o  LinearDiscriminantAnalysis\n",
      "Salvando as informações num JSON: relatorio_teste_GSC_SNR_20dB_semPCA_1585102387.8355584.json\n",
      "Classificando com o  LinearDiscriminantAnalysis\n",
      "Salvando as informações num JSON: relatorio_teste_GSC_SNR_20dB_semPCA_1585102388.0771725.json\n",
      "Classificando com o  LinearDiscriminantAnalysis\n",
      "Salvando as informações num JSON: relatorio_teste_GSC_SNR_20dB_semPCA_1585102388.3322518.json\n",
      "Classificando com o  LinearDiscriminantAnalysis\n",
      "Salvando as informações num JSON: relatorio_teste_GSC_SNR_20dB_semPCA_1585102388.5961404.json\n",
      "Classificando com o  LinearDiscriminantAnalysis\n",
      "Salvando as informações num JSON: relatorio_teste_GSC_SNR_20dB_semPCA_1585102388.8473623.json\n",
      "Classificando com o  LinearDiscriminantAnalysis\n",
      "Salvando as informações num JSON: relatorio_teste_GSC_SNR_20dB_semPCA_1585102389.0914977.json\n",
      "Classificando com o  LinearDiscriminantAnalysis\n",
      "Salvando as informações num JSON: relatorio_teste_GSC_SNR_20dB_semPCA_1585102389.4678838.json\n",
      "Classificando com o  LinearDiscriminantAnalysis\n",
      "Salvando as informações num JSON: relatorio_teste_GSC_SNR_20dB_semPCA_1585102389.7743914.json\n",
      "O teste com todos os classificadores foi finalizado\n",
      "Classificando com o  SVC\n",
      "Salvando as informações num JSON: relatorio_teste_semBeamforming_SNR_8dB_semPCA_1585102390.707142.json\n",
      "Classificando com o  SVC\n",
      "Salvando as informações num JSON: relatorio_teste_semBeamforming_SNR_8dB_semPCA_1585102391.525381.json\n",
      "Classificando com o  SVC\n",
      "Salvando as informações num JSON: relatorio_teste_semBeamforming_SNR_8dB_semPCA_1585102392.2810507.json\n",
      "Classificando com o  SVC\n",
      "Salvando as informações num JSON: relatorio_teste_semBeamforming_SNR_8dB_semPCA_1585102393.0396745.json\n",
      "Classificando com o  SVC\n",
      "Salvando as informações num JSON: relatorio_teste_semBeamforming_SNR_8dB_semPCA_1585102393.8123462.json\n",
      "Classificando com o  SVC\n",
      "Salvando as informações num JSON: relatorio_teste_semBeamforming_SNR_8dB_semPCA_1585102394.5627189.json\n",
      "Classificando com o  SVC\n",
      "Salvando as informações num JSON: relatorio_teste_semBeamforming_SNR_8dB_semPCA_1585102395.3273683.json\n",
      "Classificando com o  SVC\n",
      "Salvando as informações num JSON: relatorio_teste_semBeamforming_SNR_8dB_semPCA_1585102396.164533.json\n",
      "Classificando com o  SVC\n",
      "Salvando as informações num JSON: relatorio_teste_semBeamforming_SNR_8dB_semPCA_1585102396.9161878.json\n",
      "Classificando com o  SVC\n",
      "Salvando as informações num JSON: relatorio_teste_semBeamforming_SNR_8dB_semPCA_1585102397.661175.json\n",
      "Classificando com o  LinearDiscriminantAnalysis\n",
      "Salvando as informações num JSON: relatorio_teste_semBeamforming_SNR_8dB_semPCA_1585102397.9063923.json\n",
      "Classificando com o  LinearDiscriminantAnalysis\n",
      "Salvando as informações num JSON: relatorio_teste_semBeamforming_SNR_8dB_semPCA_1585102398.1574936.json\n",
      "Classificando com o  LinearDiscriminantAnalysis\n",
      "Salvando as informações num JSON: relatorio_teste_semBeamforming_SNR_8dB_semPCA_1585102398.4272718.json\n",
      "Classificando com o  LinearDiscriminantAnalysis\n",
      "Salvando as informações num JSON: relatorio_teste_semBeamforming_SNR_8dB_semPCA_1585102398.6797252.json\n",
      "Classificando com o  LinearDiscriminantAnalysis\n",
      "Salvando as informações num JSON: relatorio_teste_semBeamforming_SNR_8dB_semPCA_1585102398.9200823.json\n",
      "Classificando com o  LinearDiscriminantAnalysis\n",
      "Salvando as informações num JSON: relatorio_teste_semBeamforming_SNR_8dB_semPCA_1585102399.1737432.json\n",
      "Classificando com o  LinearDiscriminantAnalysis\n",
      "Salvando as informações num JSON: relatorio_teste_semBeamforming_SNR_8dB_semPCA_1585102399.437629.json\n",
      "Classificando com o  LinearDiscriminantAnalysis\n",
      "Salvando as informações num JSON: relatorio_teste_semBeamforming_SNR_8dB_semPCA_1585102399.6859033.json\n",
      "Classificando com o  LinearDiscriminantAnalysis\n"
     ]
    },
    {
     "name": "stdout",
     "output_type": "stream",
     "text": [
      "Salvando as informações num JSON: relatorio_teste_semBeamforming_SNR_8dB_semPCA_1585102399.9333959.json\n",
      "Classificando com o  LinearDiscriminantAnalysis\n",
      "Salvando as informações num JSON: relatorio_teste_semBeamforming_SNR_8dB_semPCA_1585102400.1772327.json\n",
      "O teste com todos os classificadores foi finalizado\n",
      "Classificando com o  SVC\n",
      "Salvando as informações num JSON: relatorio_teste_GSC_SNR_8dB_semPCA_1585102401.0375028.json\n",
      "Classificando com o  SVC\n",
      "Salvando as informações num JSON: relatorio_teste_GSC_SNR_8dB_semPCA_1585102401.809552.json\n",
      "Classificando com o  SVC\n",
      "Salvando as informações num JSON: relatorio_teste_GSC_SNR_8dB_semPCA_1585102402.5319142.json\n",
      "Classificando com o  SVC\n",
      "Salvando as informações num JSON: relatorio_teste_GSC_SNR_8dB_semPCA_1585102403.290354.json\n",
      "Classificando com o  SVC\n",
      "Salvando as informações num JSON: relatorio_teste_GSC_SNR_8dB_semPCA_1585102404.0511663.json\n",
      "Classificando com o  SVC\n",
      "Salvando as informações num JSON: relatorio_teste_GSC_SNR_8dB_semPCA_1585102404.8274837.json\n",
      "Classificando com o  SVC\n",
      "Salvando as informações num JSON: relatorio_teste_GSC_SNR_8dB_semPCA_1585102405.5978048.json\n",
      "Classificando com o  SVC\n",
      "Salvando as informações num JSON: relatorio_teste_GSC_SNR_8dB_semPCA_1585102406.3707283.json\n",
      "Classificando com o  SVC\n",
      "Salvando as informações num JSON: relatorio_teste_GSC_SNR_8dB_semPCA_1585102407.138131.json\n",
      "Classificando com o  SVC\n",
      "Salvando as informações num JSON: relatorio_teste_GSC_SNR_8dB_semPCA_1585102407.9753413.json\n",
      "Classificando com o  LinearDiscriminantAnalysis\n",
      "Salvando as informações num JSON: relatorio_teste_GSC_SNR_8dB_semPCA_1585102408.2441826.json\n",
      "Classificando com o  LinearDiscriminantAnalysis\n",
      "Salvando as informações num JSON: relatorio_teste_GSC_SNR_8dB_semPCA_1585102408.522889.json\n",
      "Classificando com o  LinearDiscriminantAnalysis\n",
      "Salvando as informações num JSON: relatorio_teste_GSC_SNR_8dB_semPCA_1585102408.7719216.json\n",
      "Classificando com o  LinearDiscriminantAnalysis\n",
      "Salvando as informações num JSON: relatorio_teste_GSC_SNR_8dB_semPCA_1585102409.0319393.json\n",
      "Classificando com o  LinearDiscriminantAnalysis\n",
      "Salvando as informações num JSON: relatorio_teste_GSC_SNR_8dB_semPCA_1585102409.2897966.json\n",
      "Classificando com o  LinearDiscriminantAnalysis\n",
      "Salvando as informações num JSON: relatorio_teste_GSC_SNR_8dB_semPCA_1585102409.5847015.json\n",
      "Classificando com o  LinearDiscriminantAnalysis\n",
      "Salvando as informações num JSON: relatorio_teste_GSC_SNR_8dB_semPCA_1585102409.8406246.json\n",
      "Classificando com o  LinearDiscriminantAnalysis\n",
      "Salvando as informações num JSON: relatorio_teste_GSC_SNR_8dB_semPCA_1585102410.1063907.json\n",
      "Classificando com o  LinearDiscriminantAnalysis\n",
      "Salvando as informações num JSON: relatorio_teste_GSC_SNR_8dB_semPCA_1585102410.3781924.json\n",
      "Classificando com o  LinearDiscriminantAnalysis\n",
      "Salvando as informações num JSON: relatorio_teste_GSC_SNR_8dB_semPCA_1585102410.6321566.json\n",
      "O teste com todos os classificadores foi finalizado\n",
      "Classificando com o  SVC\n",
      "Salvando as informações num JSON: relatorio_teste_beamforming_SNR_8dB_semPCA_1585102411.4904494.json\n",
      "Classificando com o  SVC\n",
      "Salvando as informações num JSON: relatorio_teste_beamforming_SNR_8dB_semPCA_1585102412.2636914.json\n",
      "Classificando com o  SVC\n",
      "Salvando as informações num JSON: relatorio_teste_beamforming_SNR_8dB_semPCA_1585102412.9876842.json\n",
      "Classificando com o  SVC\n",
      "Salvando as informações num JSON: relatorio_teste_beamforming_SNR_8dB_semPCA_1585102413.7514012.json\n",
      "Classificando com o  SVC\n",
      "Salvando as informações num JSON: relatorio_teste_beamforming_SNR_8dB_semPCA_1585102414.5219185.json\n",
      "Classificando com o  SVC\n",
      "Salvando as informações num JSON: relatorio_teste_beamforming_SNR_8dB_semPCA_1585102415.2665973.json\n",
      "Classificando com o  SVC\n",
      "Salvando as informações num JSON: relatorio_teste_beamforming_SNR_8dB_semPCA_1585102416.0351264.json\n",
      "Classificando com o  SVC\n",
      "Salvando as informações num JSON: relatorio_teste_beamforming_SNR_8dB_semPCA_1585102416.845124.json\n",
      "Classificando com o  SVC\n",
      "Salvando as informações num JSON: relatorio_teste_beamforming_SNR_8dB_semPCA_1585102417.6045332.json\n",
      "Classificando com o  SVC\n",
      "Salvando as informações num JSON: relatorio_teste_beamforming_SNR_8dB_semPCA_1585102418.3589013.json\n",
      "Classificando com o  LinearDiscriminantAnalysis\n",
      "Salvando as informações num JSON: relatorio_teste_beamforming_SNR_8dB_semPCA_1585102418.6082983.json\n",
      "Classificando com o  LinearDiscriminantAnalysis\n",
      "Salvando as informações num JSON: relatorio_teste_beamforming_SNR_8dB_semPCA_1585102418.8571863.json\n",
      "Classificando com o  LinearDiscriminantAnalysis\n",
      "Salvando as informações num JSON: relatorio_teste_beamforming_SNR_8dB_semPCA_1585102419.1284072.json\n",
      "Classificando com o  LinearDiscriminantAnalysis\n",
      "Salvando as informações num JSON: relatorio_teste_beamforming_SNR_8dB_semPCA_1585102419.3861532.json\n",
      "Classificando com o  LinearDiscriminantAnalysis\n",
      "Salvando as informações num JSON: relatorio_teste_beamforming_SNR_8dB_semPCA_1585102419.650771.json\n",
      "Classificando com o  LinearDiscriminantAnalysis\n",
      "Salvando as informações num JSON: relatorio_teste_beamforming_SNR_8dB_semPCA_1585102419.8954506.json\n",
      "Classificando com o  LinearDiscriminantAnalysis\n",
      "Salvando as informações num JSON: relatorio_teste_beamforming_SNR_8dB_semPCA_1585102420.1577575.json\n",
      "Classificando com o  LinearDiscriminantAnalysis\n",
      "Salvando as informações num JSON: relatorio_teste_beamforming_SNR_8dB_semPCA_1585102420.4145026.json\n",
      "Classificando com o  LinearDiscriminantAnalysis\n",
      "Salvando as informações num JSON: relatorio_teste_beamforming_SNR_8dB_semPCA_1585102420.680977.json\n",
      "Classificando com o  LinearDiscriminantAnalysis\n",
      "Salvando as informações num JSON: relatorio_teste_beamforming_SNR_8dB_semPCA_1585102420.9314747.json\n",
      "O teste com todos os classificadores foi finalizado\n",
      "Classificando com o  SVC\n",
      "Salvando as informações num JSON: relatorio_teste_GSC_SNR_21dB_semPCA_1585102421.8096092.json\n",
      "Classificando com o  SVC\n",
      "Salvando as informações num JSON: relatorio_teste_GSC_SNR_21dB_semPCA_1585102422.5789502.json\n",
      "Classificando com o  SVC\n",
      "Salvando as informações num JSON: relatorio_teste_GSC_SNR_21dB_semPCA_1585102423.3038445.json\n",
      "Classificando com o  SVC\n",
      "Salvando as informações num JSON: relatorio_teste_GSC_SNR_21dB_semPCA_1585102424.0661705.json\n",
      "Classificando com o  SVC\n",
      "Salvando as informações num JSON: relatorio_teste_GSC_SNR_21dB_semPCA_1585102424.8508406.json\n",
      "Classificando com o  SVC\n",
      "Salvando as informações num JSON: relatorio_teste_GSC_SNR_21dB_semPCA_1585102425.630346.json\n",
      "Classificando com o  SVC\n",
      "Salvando as informações num JSON: relatorio_teste_GSC_SNR_21dB_semPCA_1585102426.4176233.json\n",
      "Classificando com o  SVC\n",
      "Salvando as informações num JSON: relatorio_teste_GSC_SNR_21dB_semPCA_1585102427.183565.json\n",
      "Classificando com o  SVC\n",
      "Salvando as informações num JSON: relatorio_teste_GSC_SNR_21dB_semPCA_1585102427.9292707.json\n",
      "Classificando com o  SVC\n",
      "Salvando as informações num JSON: relatorio_teste_GSC_SNR_21dB_semPCA_1585102428.6713302.json\n",
      "Classificando com o  LinearDiscriminantAnalysis\n",
      "Salvando as informações num JSON: relatorio_teste_GSC_SNR_21dB_semPCA_1585102428.9303384.json\n",
      "Classificando com o  LinearDiscriminantAnalysis\n",
      "Salvando as informações num JSON: relatorio_teste_GSC_SNR_21dB_semPCA_1585102429.1725857.json\n",
      "Classificando com o  LinearDiscriminantAnalysis\n",
      "Salvando as informações num JSON: relatorio_teste_GSC_SNR_21dB_semPCA_1585102429.444412.json\n",
      "Classificando com o  LinearDiscriminantAnalysis\n",
      "Salvando as informações num JSON: relatorio_teste_GSC_SNR_21dB_semPCA_1585102429.6911063.json\n",
      "Classificando com o  LinearDiscriminantAnalysis\n",
      "Salvando as informações num JSON: relatorio_teste_GSC_SNR_21dB_semPCA_1585102429.939611.json\n",
      "Classificando com o  LinearDiscriminantAnalysis\n",
      "Salvando as informações num JSON: relatorio_teste_GSC_SNR_21dB_semPCA_1585102430.1898167.json\n",
      "Classificando com o  LinearDiscriminantAnalysis\n",
      "Salvando as informações num JSON: relatorio_teste_GSC_SNR_21dB_semPCA_1585102430.4496324.json\n",
      "Classificando com o  LinearDiscriminantAnalysis\n",
      "Salvando as informações num JSON: relatorio_teste_GSC_SNR_21dB_semPCA_1585102430.7032647.json\n",
      "Classificando com o  LinearDiscriminantAnalysis\n",
      "Salvando as informações num JSON: relatorio_teste_GSC_SNR_21dB_semPCA_1585102430.9493062.json\n",
      "Classificando com o  LinearDiscriminantAnalysis\n"
     ]
    },
    {
     "name": "stdout",
     "output_type": "stream",
     "text": [
      "Salvando as informações num JSON: relatorio_teste_GSC_SNR_21dB_semPCA_1585102431.2156372.json\n",
      "O teste com todos os classificadores foi finalizado\n",
      "Classificando com o  SVC\n",
      "Salvando as informações num JSON: relatorio_teste_semBeamforming_SNR_21dB_semPCA_1585102432.1062236.json\n",
      "Classificando com o  SVC\n",
      "Salvando as informações num JSON: relatorio_teste_semBeamforming_SNR_21dB_semPCA_1585102432.8953066.json\n",
      "Classificando com o  SVC\n",
      "Salvando as informações num JSON: relatorio_teste_semBeamforming_SNR_21dB_semPCA_1585102433.6483657.json\n",
      "Classificando com o  SVC\n",
      "Salvando as informações num JSON: relatorio_teste_semBeamforming_SNR_21dB_semPCA_1585102434.4227173.json\n",
      "Classificando com o  SVC\n",
      "Salvando as informações num JSON: relatorio_teste_semBeamforming_SNR_21dB_semPCA_1585102435.2144837.json\n",
      "Classificando com o  SVC\n",
      "Salvando as informações num JSON: relatorio_teste_semBeamforming_SNR_21dB_semPCA_1585102436.0045624.json\n",
      "Classificando com o  SVC\n",
      "Salvando as informações num JSON: relatorio_teste_semBeamforming_SNR_21dB_semPCA_1585102436.773284.json\n",
      "Classificando com o  SVC\n",
      "Salvando as informações num JSON: relatorio_teste_semBeamforming_SNR_21dB_semPCA_1585102437.5570514.json\n",
      "Classificando com o  SVC\n",
      "Salvando as informações num JSON: relatorio_teste_semBeamforming_SNR_21dB_semPCA_1585102438.3005939.json\n",
      "Classificando com o  SVC\n",
      "Salvando as informações num JSON: relatorio_teste_semBeamforming_SNR_21dB_semPCA_1585102439.0407119.json\n",
      "Classificando com o  LinearDiscriminantAnalysis\n",
      "Salvando as informações num JSON: relatorio_teste_semBeamforming_SNR_21dB_semPCA_1585102439.3051064.json\n",
      "Classificando com o  LinearDiscriminantAnalysis\n",
      "Salvando as informações num JSON: relatorio_teste_semBeamforming_SNR_21dB_semPCA_1585102439.6150117.json\n",
      "Classificando com o  LinearDiscriminantAnalysis\n",
      "Salvando as informações num JSON: relatorio_teste_semBeamforming_SNR_21dB_semPCA_1585102439.8644192.json\n",
      "Classificando com o  LinearDiscriminantAnalysis\n",
      "Salvando as informações num JSON: relatorio_teste_semBeamforming_SNR_21dB_semPCA_1585102440.1117692.json\n",
      "Classificando com o  LinearDiscriminantAnalysis\n",
      "Salvando as informações num JSON: relatorio_teste_semBeamforming_SNR_21dB_semPCA_1585102440.3684936.json\n",
      "Classificando com o  LinearDiscriminantAnalysis\n",
      "Salvando as informações num JSON: relatorio_teste_semBeamforming_SNR_21dB_semPCA_1585102440.6229866.json\n",
      "Classificando com o  LinearDiscriminantAnalysis\n",
      "Salvando as informações num JSON: relatorio_teste_semBeamforming_SNR_21dB_semPCA_1585102440.872874.json\n",
      "Classificando com o  LinearDiscriminantAnalysis\n",
      "Salvando as informações num JSON: relatorio_teste_semBeamforming_SNR_21dB_semPCA_1585102441.1229708.json\n",
      "Classificando com o  LinearDiscriminantAnalysis\n",
      "Salvando as informações num JSON: relatorio_teste_semBeamforming_SNR_21dB_semPCA_1585102441.3959086.json\n",
      "Classificando com o  LinearDiscriminantAnalysis\n",
      "Salvando as informações num JSON: relatorio_teste_semBeamforming_SNR_21dB_semPCA_1585102441.645369.json\n",
      "O teste com todos os classificadores foi finalizado\n",
      "Classificando com o  SVC\n",
      "Salvando as informações num JSON: relatorio_teste_beamforming_SNR_21dB_semPCA_1585102442.4718723.json\n",
      "Classificando com o  SVC\n",
      "Salvando as informações num JSON: relatorio_teste_beamforming_SNR_21dB_semPCA_1585102443.2444127.json\n",
      "Classificando com o  SVC\n",
      "Salvando as informações num JSON: relatorio_teste_beamforming_SNR_21dB_semPCA_1585102443.96933.json\n",
      "Classificando com o  SVC\n",
      "Salvando as informações num JSON: relatorio_teste_beamforming_SNR_21dB_semPCA_1585102444.7355587.json\n",
      "Classificando com o  SVC\n",
      "Salvando as informações num JSON: relatorio_teste_beamforming_SNR_21dB_semPCA_1585102445.4986691.json\n",
      "Classificando com o  SVC\n",
      "Salvando as informações num JSON: relatorio_teste_beamforming_SNR_21dB_semPCA_1585102446.25364.json\n",
      "Classificando com o  SVC\n",
      "Salvando as informações num JSON: relatorio_teste_beamforming_SNR_21dB_semPCA_1585102447.0464249.json\n",
      "Classificando com o  SVC\n",
      "Salvando as informações num JSON: relatorio_teste_beamforming_SNR_21dB_semPCA_1585102447.8527281.json\n",
      "Classificando com o  SVC\n",
      "Salvando as informações num JSON: relatorio_teste_beamforming_SNR_21dB_semPCA_1585102448.6133544.json\n",
      "Classificando com o  SVC\n",
      "Salvando as informações num JSON: relatorio_teste_beamforming_SNR_21dB_semPCA_1585102449.3632853.json\n",
      "Classificando com o  LinearDiscriminantAnalysis\n",
      "Salvando as informações num JSON: relatorio_teste_beamforming_SNR_21dB_semPCA_1585102449.604393.json\n",
      "Classificando com o  LinearDiscriminantAnalysis\n",
      "Salvando as informações num JSON: relatorio_teste_beamforming_SNR_21dB_semPCA_1585102449.8550243.json\n",
      "Classificando com o  LinearDiscriminantAnalysis\n",
      "Salvando as informações num JSON: relatorio_teste_beamforming_SNR_21dB_semPCA_1585102450.1118152.json\n",
      "Classificando com o  LinearDiscriminantAnalysis\n",
      "Salvando as informações num JSON: relatorio_teste_beamforming_SNR_21dB_semPCA_1585102450.376718.json\n",
      "Classificando com o  LinearDiscriminantAnalysis\n",
      "Salvando as informações num JSON: relatorio_teste_beamforming_SNR_21dB_semPCA_1585102450.6230118.json\n",
      "Classificando com o  LinearDiscriminantAnalysis\n",
      "Salvando as informações num JSON: relatorio_teste_beamforming_SNR_21dB_semPCA_1585102450.8716695.json\n",
      "Classificando com o  LinearDiscriminantAnalysis\n",
      "Salvando as informações num JSON: relatorio_teste_beamforming_SNR_21dB_semPCA_1585102451.126754.json\n",
      "Classificando com o  LinearDiscriminantAnalysis\n",
      "Salvando as informações num JSON: relatorio_teste_beamforming_SNR_21dB_semPCA_1585102451.4056902.json\n",
      "Classificando com o  LinearDiscriminantAnalysis\n",
      "Salvando as informações num JSON: relatorio_teste_beamforming_SNR_21dB_semPCA_1585102451.6619701.json\n",
      "Classificando com o  LinearDiscriminantAnalysis\n",
      "Salvando as informações num JSON: relatorio_teste_beamforming_SNR_21dB_semPCA_1585102451.909861.json\n",
      "O teste com todos os classificadores foi finalizado\n",
      "Classificando com o  SVC\n",
      "Salvando as informações num JSON: relatorio_teste_semBeamforming_SNR_30dB_semPCA_1585102452.791104.json\n",
      "Classificando com o  SVC\n",
      "Salvando as informações num JSON: relatorio_teste_semBeamforming_SNR_30dB_semPCA_1585102453.558073.json\n",
      "Classificando com o  SVC\n",
      "Salvando as informações num JSON: relatorio_teste_semBeamforming_SNR_30dB_semPCA_1585102454.2838287.json\n",
      "Classificando com o  SVC\n",
      "Salvando as informações num JSON: relatorio_teste_semBeamforming_SNR_30dB_semPCA_1585102455.051272.json\n",
      "Classificando com o  SVC\n",
      "Salvando as informações num JSON: relatorio_teste_semBeamforming_SNR_30dB_semPCA_1585102455.8440979.json\n",
      "Classificando com o  SVC\n",
      "Salvando as informações num JSON: relatorio_teste_semBeamforming_SNR_30dB_semPCA_1585102456.6857848.json\n",
      "Classificando com o  SVC\n",
      "Salvando as informações num JSON: relatorio_teste_semBeamforming_SNR_30dB_semPCA_1585102457.4366848.json\n",
      "Classificando com o  SVC\n",
      "Salvando as informações num JSON: relatorio_teste_semBeamforming_SNR_30dB_semPCA_1585102458.1985354.json\n",
      "Classificando com o  SVC\n",
      "Salvando as informações num JSON: relatorio_teste_semBeamforming_SNR_30dB_semPCA_1585102458.9753423.json\n",
      "Classificando com o  SVC\n",
      "Salvando as informações num JSON: relatorio_teste_semBeamforming_SNR_30dB_semPCA_1585102459.7747967.json\n",
      "Classificando com o  LinearDiscriminantAnalysis\n",
      "Salvando as informações num JSON: relatorio_teste_semBeamforming_SNR_30dB_semPCA_1585102460.0318043.json\n",
      "Classificando com o  LinearDiscriminantAnalysis\n",
      "Salvando as informações num JSON: relatorio_teste_semBeamforming_SNR_30dB_semPCA_1585102460.281397.json\n",
      "Classificando com o  LinearDiscriminantAnalysis\n",
      "Salvando as informações num JSON: relatorio_teste_semBeamforming_SNR_30dB_semPCA_1585102460.5639007.json\n",
      "Classificando com o  LinearDiscriminantAnalysis\n",
      "Salvando as informações num JSON: relatorio_teste_semBeamforming_SNR_30dB_semPCA_1585102460.8130968.json\n",
      "Classificando com o  LinearDiscriminantAnalysis\n",
      "Salvando as informações num JSON: relatorio_teste_semBeamforming_SNR_30dB_semPCA_1585102461.0808544.json\n",
      "Classificando com o  LinearDiscriminantAnalysis\n",
      "Salvando as informações num JSON: relatorio_teste_semBeamforming_SNR_30dB_semPCA_1585102461.3304732.json\n",
      "Classificando com o  LinearDiscriminantAnalysis\n",
      "Salvando as informações num JSON: relatorio_teste_semBeamforming_SNR_30dB_semPCA_1585102461.5888238.json\n",
      "Classificando com o  LinearDiscriminantAnalysis\n"
     ]
    },
    {
     "name": "stdout",
     "output_type": "stream",
     "text": [
      "Salvando as informações num JSON: relatorio_teste_semBeamforming_SNR_30dB_semPCA_1585102461.8417401.json\n",
      "Classificando com o  LinearDiscriminantAnalysis\n",
      "Salvando as informações num JSON: relatorio_teste_semBeamforming_SNR_30dB_semPCA_1585102462.0968182.json\n",
      "Classificando com o  LinearDiscriminantAnalysis\n",
      "Salvando as informações num JSON: relatorio_teste_semBeamforming_SNR_30dB_semPCA_1585102462.3463871.json\n",
      "O teste com todos os classificadores foi finalizado\n",
      "Classificando com o  SVC\n",
      "Salvando as informações num JSON: relatorio_teste_GSC_SNR_30dB_semPCA_1585102463.224853.json\n",
      "Classificando com o  SVC\n",
      "Salvando as informações num JSON: relatorio_teste_GSC_SNR_30dB_semPCA_1585102463.9930012.json\n",
      "Classificando com o  SVC\n",
      "Salvando as informações num JSON: relatorio_teste_GSC_SNR_30dB_semPCA_1585102464.7294466.json\n",
      "Classificando com o  SVC\n",
      "Salvando as informações num JSON: relatorio_teste_GSC_SNR_30dB_semPCA_1585102465.4925995.json\n",
      "Classificando com o  SVC\n",
      "Salvando as informações num JSON: relatorio_teste_GSC_SNR_30dB_semPCA_1585102466.2414799.json\n",
      "Classificando com o  SVC\n",
      "Salvando as informações num JSON: relatorio_teste_GSC_SNR_30dB_semPCA_1585102467.0307176.json\n",
      "Classificando com o  SVC\n",
      "Salvando as informações num JSON: relatorio_teste_GSC_SNR_30dB_semPCA_1585102467.876435.json\n",
      "Classificando com o  SVC\n",
      "Salvando as informações num JSON: relatorio_teste_GSC_SNR_30dB_semPCA_1585102468.7093368.json\n",
      "Classificando com o  SVC\n",
      "Salvando as informações num JSON: relatorio_teste_GSC_SNR_30dB_semPCA_1585102469.474888.json\n",
      "Classificando com o  SVC\n",
      "Salvando as informações num JSON: relatorio_teste_GSC_SNR_30dB_semPCA_1585102470.2075675.json\n",
      "Classificando com o  LinearDiscriminantAnalysis\n",
      "Salvando as informações num JSON: relatorio_teste_GSC_SNR_30dB_semPCA_1585102470.473356.json\n",
      "Classificando com o  LinearDiscriminantAnalysis\n",
      "Salvando as informações num JSON: relatorio_teste_GSC_SNR_30dB_semPCA_1585102470.7233617.json\n",
      "Classificando com o  LinearDiscriminantAnalysis\n",
      "Salvando as informações num JSON: relatorio_teste_GSC_SNR_30dB_semPCA_1585102470.977929.json\n",
      "Classificando com o  LinearDiscriminantAnalysis\n",
      "Salvando as informações num JSON: relatorio_teste_GSC_SNR_30dB_semPCA_1585102471.2300055.json\n",
      "Classificando com o  LinearDiscriminantAnalysis\n",
      "Salvando as informações num JSON: relatorio_teste_GSC_SNR_30dB_semPCA_1585102471.5068371.json\n",
      "Classificando com o  LinearDiscriminantAnalysis\n",
      "Salvando as informações num JSON: relatorio_teste_GSC_SNR_30dB_semPCA_1585102471.7512174.json\n",
      "Classificando com o  LinearDiscriminantAnalysis\n",
      "Salvando as informações num JSON: relatorio_teste_GSC_SNR_30dB_semPCA_1585102472.0033662.json\n",
      "Classificando com o  LinearDiscriminantAnalysis\n",
      "Salvando as informações num JSON: relatorio_teste_GSC_SNR_30dB_semPCA_1585102472.2737684.json\n",
      "Classificando com o  LinearDiscriminantAnalysis\n",
      "Salvando as informações num JSON: relatorio_teste_GSC_SNR_30dB_semPCA_1585102472.5307207.json\n",
      "Classificando com o  LinearDiscriminantAnalysis\n",
      "Salvando as informações num JSON: relatorio_teste_GSC_SNR_30dB_semPCA_1585102472.8007705.json\n",
      "O teste com todos os classificadores foi finalizado\n",
      "Classificando com o  SVC\n",
      "Salvando as informações num JSON: relatorio_teste_beamforming_SNR_30dB_semPCA_1585102473.6667569.json\n",
      "Classificando com o  SVC\n",
      "Salvando as informações num JSON: relatorio_teste_beamforming_SNR_30dB_semPCA_1585102474.434815.json\n",
      "Classificando com o  SVC\n",
      "Salvando as informações num JSON: relatorio_teste_beamforming_SNR_30dB_semPCA_1585102475.1610928.json\n",
      "Classificando com o  SVC\n",
      "Salvando as informações num JSON: relatorio_teste_beamforming_SNR_30dB_semPCA_1585102475.9191113.json\n",
      "Classificando com o  SVC\n",
      "Salvando as informações num JSON: relatorio_teste_beamforming_SNR_30dB_semPCA_1585102476.710487.json\n",
      "Classificando com o  SVC\n",
      "Salvando as informações num JSON: relatorio_teste_beamforming_SNR_30dB_semPCA_1585102477.4994588.json\n",
      "Classificando com o  SVC\n",
      "Salvando as informações num JSON: relatorio_teste_beamforming_SNR_30dB_semPCA_1585102478.23624.json\n",
      "Classificando com o  SVC\n",
      "Salvando as informações num JSON: relatorio_teste_beamforming_SNR_30dB_semPCA_1585102479.0162604.json\n",
      "Classificando com o  SVC\n",
      "Salvando as informações num JSON: relatorio_teste_beamforming_SNR_30dB_semPCA_1585102479.7845056.json\n",
      "Classificando com o  SVC\n",
      "Salvando as informações num JSON: relatorio_teste_beamforming_SNR_30dB_semPCA_1585102480.5451024.json\n",
      "Classificando com o  LinearDiscriminantAnalysis\n",
      "Salvando as informações num JSON: relatorio_teste_beamforming_SNR_30dB_semPCA_1585102480.8125236.json\n",
      "Classificando com o  LinearDiscriminantAnalysis\n",
      "Salvando as informações num JSON: relatorio_teste_beamforming_SNR_30dB_semPCA_1585102481.0691493.json\n",
      "Classificando com o  LinearDiscriminantAnalysis\n",
      "Salvando as informações num JSON: relatorio_teste_beamforming_SNR_30dB_semPCA_1585102481.3341346.json\n",
      "Classificando com o  LinearDiscriminantAnalysis\n",
      "Salvando as informações num JSON: relatorio_teste_beamforming_SNR_30dB_semPCA_1585102481.5878677.json\n",
      "Classificando com o  LinearDiscriminantAnalysis\n",
      "Salvando as informações num JSON: relatorio_teste_beamforming_SNR_30dB_semPCA_1585102481.8389795.json\n",
      "Classificando com o  LinearDiscriminantAnalysis\n",
      "Salvando as informações num JSON: relatorio_teste_beamforming_SNR_30dB_semPCA_1585102482.1143858.json\n",
      "Classificando com o  LinearDiscriminantAnalysis\n",
      "Salvando as informações num JSON: relatorio_teste_beamforming_SNR_30dB_semPCA_1585102482.3680272.json\n",
      "Classificando com o  LinearDiscriminantAnalysis\n",
      "Salvando as informações num JSON: relatorio_teste_beamforming_SNR_30dB_semPCA_1585102482.6365528.json\n",
      "Classificando com o  LinearDiscriminantAnalysis\n",
      "Salvando as informações num JSON: relatorio_teste_beamforming_SNR_30dB_semPCA_1585102482.8890834.json\n",
      "Classificando com o  LinearDiscriminantAnalysis\n",
      "Salvando as informações num JSON: relatorio_teste_beamforming_SNR_30dB_semPCA_1585102483.1405602.json\n",
      "O teste com todos os classificadores foi finalizado\n",
      "Classificando com o  SVC\n",
      "Salvando as informações num JSON: relatorio_teste_GSC_SNR_25dB_semPCA_1585102484.0277967.json\n",
      "Classificando com o  SVC\n",
      "Salvando as informações num JSON: relatorio_teste_GSC_SNR_25dB_semPCA_1585102484.804071.json\n",
      "Classificando com o  SVC\n",
      "Salvando as informações num JSON: relatorio_teste_GSC_SNR_25dB_semPCA_1585102485.526238.json\n",
      "Classificando com o  SVC\n",
      "Salvando as informações num JSON: relatorio_teste_GSC_SNR_25dB_semPCA_1585102486.367009.json\n",
      "Classificando com o  SVC\n",
      "Salvando as informações num JSON: relatorio_teste_GSC_SNR_25dB_semPCA_1585102487.188639.json\n",
      "Classificando com o  SVC\n",
      "Salvando as informações num JSON: relatorio_teste_GSC_SNR_25dB_semPCA_1585102487.9784024.json\n",
      "Classificando com o  SVC\n",
      "Salvando as informações num JSON: relatorio_teste_GSC_SNR_25dB_semPCA_1585102488.7937691.json\n",
      "Classificando com o  SVC\n",
      "Salvando as informações num JSON: relatorio_teste_GSC_SNR_25dB_semPCA_1585102489.598079.json\n",
      "Classificando com o  SVC\n",
      "Salvando as informações num JSON: relatorio_teste_GSC_SNR_25dB_semPCA_1585102490.4112377.json\n",
      "Classificando com o  SVC\n",
      "Salvando as informações num JSON: relatorio_teste_GSC_SNR_25dB_semPCA_1585102491.1802332.json\n",
      "Classificando com o  LinearDiscriminantAnalysis\n",
      "Salvando as informações num JSON: relatorio_teste_GSC_SNR_25dB_semPCA_1585102491.4362583.json\n",
      "Classificando com o  LinearDiscriminantAnalysis\n",
      "Salvando as informações num JSON: relatorio_teste_GSC_SNR_25dB_semPCA_1585102491.7161098.json\n",
      "Classificando com o  LinearDiscriminantAnalysis\n",
      "Salvando as informações num JSON: relatorio_teste_GSC_SNR_25dB_semPCA_1585102492.041434.json\n",
      "Classificando com o  LinearDiscriminantAnalysis\n",
      "Salvando as informações num JSON: relatorio_teste_GSC_SNR_25dB_semPCA_1585102492.3220053.json\n",
      "Classificando com o  LinearDiscriminantAnalysis\n",
      "Salvando as informações num JSON: relatorio_teste_GSC_SNR_25dB_semPCA_1585102492.581786.json\n",
      "Classificando com o  LinearDiscriminantAnalysis\n",
      "Salvando as informações num JSON: relatorio_teste_GSC_SNR_25dB_semPCA_1585102492.835494.json\n",
      "Classificando com o  LinearDiscriminantAnalysis\n",
      "Salvando as informações num JSON: relatorio_teste_GSC_SNR_25dB_semPCA_1585102493.3170927.json\n",
      "Classificando com o  LinearDiscriminantAnalysis\n",
      "Salvando as informações num JSON: relatorio_teste_GSC_SNR_25dB_semPCA_1585102493.6304798.json\n",
      "Classificando com o  LinearDiscriminantAnalysis\n"
     ]
    },
    {
     "name": "stdout",
     "output_type": "stream",
     "text": [
      "Salvando as informações num JSON: relatorio_teste_GSC_SNR_25dB_semPCA_1585102493.9272156.json\n",
      "Classificando com o  LinearDiscriminantAnalysis\n",
      "Salvando as informações num JSON: relatorio_teste_GSC_SNR_25dB_semPCA_1585102494.2085953.json\n",
      "O teste com todos os classificadores foi finalizado\n",
      "Classificando com o  SVC\n",
      "Salvando as informações num JSON: relatorio_teste_beamforming_SNR_25dB_semPCA_1585102495.108993.json\n",
      "Classificando com o  SVC\n",
      "Salvando as informações num JSON: relatorio_teste_beamforming_SNR_25dB_semPCA_1585102496.0289428.json\n",
      "Classificando com o  SVC\n",
      "Salvando as informações num JSON: relatorio_teste_beamforming_SNR_25dB_semPCA_1585102496.973815.json\n",
      "Classificando com o  SVC\n",
      "Salvando as informações num JSON: relatorio_teste_beamforming_SNR_25dB_semPCA_1585102498.1248991.json\n",
      "Classificando com o  SVC\n",
      "Salvando as informações num JSON: relatorio_teste_beamforming_SNR_25dB_semPCA_1585102499.2376628.json\n",
      "Classificando com o  SVC\n",
      "Salvando as informações num JSON: relatorio_teste_beamforming_SNR_25dB_semPCA_1585102500.1783912.json\n",
      "Classificando com o  SVC\n",
      "Salvando as informações num JSON: relatorio_teste_beamforming_SNR_25dB_semPCA_1585102501.1526084.json\n",
      "Classificando com o  SVC\n",
      "Salvando as informações num JSON: relatorio_teste_beamforming_SNR_25dB_semPCA_1585102502.2270691.json\n",
      "Classificando com o  SVC\n",
      "Salvando as informações num JSON: relatorio_teste_beamforming_SNR_25dB_semPCA_1585102503.5125253.json\n",
      "Classificando com o  SVC\n",
      "Salvando as informações num JSON: relatorio_teste_beamforming_SNR_25dB_semPCA_1585102504.5666482.json\n",
      "Classificando com o  LinearDiscriminantAnalysis\n",
      "Salvando as informações num JSON: relatorio_teste_beamforming_SNR_25dB_semPCA_1585102504.9212537.json\n",
      "Classificando com o  LinearDiscriminantAnalysis\n",
      "Salvando as informações num JSON: relatorio_teste_beamforming_SNR_25dB_semPCA_1585102505.2971914.json\n",
      "Classificando com o  LinearDiscriminantAnalysis\n",
      "Salvando as informações num JSON: relatorio_teste_beamforming_SNR_25dB_semPCA_1585102505.6929111.json\n",
      "Classificando com o  LinearDiscriminantAnalysis\n",
      "Salvando as informações num JSON: relatorio_teste_beamforming_SNR_25dB_semPCA_1585102506.05702.json\n",
      "Classificando com o  LinearDiscriminantAnalysis\n",
      "Salvando as informações num JSON: relatorio_teste_beamforming_SNR_25dB_semPCA_1585102506.393159.json\n",
      "Classificando com o  LinearDiscriminantAnalysis\n",
      "Salvando as informações num JSON: relatorio_teste_beamforming_SNR_25dB_semPCA_1585102506.744215.json\n",
      "Classificando com o  LinearDiscriminantAnalysis\n",
      "Salvando as informações num JSON: relatorio_teste_beamforming_SNR_25dB_semPCA_1585102507.0444458.json\n",
      "Classificando com o  LinearDiscriminantAnalysis\n",
      "Salvando as informações num JSON: relatorio_teste_beamforming_SNR_25dB_semPCA_1585102507.340325.json\n",
      "Classificando com o  LinearDiscriminantAnalysis\n",
      "Salvando as informações num JSON: relatorio_teste_beamforming_SNR_25dB_semPCA_1585102507.6584764.json\n",
      "Classificando com o  LinearDiscriminantAnalysis\n",
      "Salvando as informações num JSON: relatorio_teste_beamforming_SNR_25dB_semPCA_1585102507.9774306.json\n",
      "O teste com todos os classificadores foi finalizado\n",
      "Classificando com o  SVC\n",
      "Salvando as informações num JSON: relatorio_teste_semBeamforming_SNR_25dB_semPCA_1585102508.8546858.json\n",
      "Classificando com o  SVC\n",
      "Salvando as informações num JSON: relatorio_teste_semBeamforming_SNR_25dB_semPCA_1585102509.6389906.json\n",
      "Classificando com o  SVC\n",
      "Salvando as informações num JSON: relatorio_teste_semBeamforming_SNR_25dB_semPCA_1585102510.355549.json\n",
      "Classificando com o  SVC\n",
      "Salvando as informações num JSON: relatorio_teste_semBeamforming_SNR_25dB_semPCA_1585102511.1686084.json\n",
      "Classificando com o  SVC\n",
      "Salvando as informações num JSON: relatorio_teste_semBeamforming_SNR_25dB_semPCA_1585102512.0059907.json\n",
      "Classificando com o  SVC\n",
      "Salvando as informações num JSON: relatorio_teste_semBeamforming_SNR_25dB_semPCA_1585102512.8659184.json\n",
      "Classificando com o  SVC\n",
      "Salvando as informações num JSON: relatorio_teste_semBeamforming_SNR_25dB_semPCA_1585102513.641231.json\n",
      "Classificando com o  SVC\n",
      "Salvando as informações num JSON: relatorio_teste_semBeamforming_SNR_25dB_semPCA_1585102514.4384208.json\n",
      "Classificando com o  SVC\n",
      "Salvando as informações num JSON: relatorio_teste_semBeamforming_SNR_25dB_semPCA_1585102515.2409508.json\n",
      "Classificando com o  SVC\n",
      "Salvando as informações num JSON: relatorio_teste_semBeamforming_SNR_25dB_semPCA_1585102516.005166.json\n",
      "Classificando com o  LinearDiscriminantAnalysis\n",
      "Salvando as informações num JSON: relatorio_teste_semBeamforming_SNR_25dB_semPCA_1585102516.260095.json\n",
      "Classificando com o  LinearDiscriminantAnalysis\n",
      "Salvando as informações num JSON: relatorio_teste_semBeamforming_SNR_25dB_semPCA_1585102516.5356076.json\n",
      "Classificando com o  LinearDiscriminantAnalysis\n",
      "Salvando as informações num JSON: relatorio_teste_semBeamforming_SNR_25dB_semPCA_1585102516.820583.json\n",
      "Classificando com o  LinearDiscriminantAnalysis\n",
      "Salvando as informações num JSON: relatorio_teste_semBeamforming_SNR_25dB_semPCA_1585102517.0786817.json\n",
      "Classificando com o  LinearDiscriminantAnalysis\n",
      "Salvando as informações num JSON: relatorio_teste_semBeamforming_SNR_25dB_semPCA_1585102517.3575132.json\n",
      "Classificando com o  LinearDiscriminantAnalysis\n",
      "Salvando as informações num JSON: relatorio_teste_semBeamforming_SNR_25dB_semPCA_1585102517.6072357.json\n",
      "Classificando com o  LinearDiscriminantAnalysis\n",
      "Salvando as informações num JSON: relatorio_teste_semBeamforming_SNR_25dB_semPCA_1585102517.8736148.json\n",
      "Classificando com o  LinearDiscriminantAnalysis\n",
      "Salvando as informações num JSON: relatorio_teste_semBeamforming_SNR_25dB_semPCA_1585102518.1299572.json\n",
      "Classificando com o  LinearDiscriminantAnalysis\n",
      "Salvando as informações num JSON: relatorio_teste_semBeamforming_SNR_25dB_semPCA_1585102518.4187589.json\n",
      "Classificando com o  LinearDiscriminantAnalysis\n",
      "Salvando as informações num JSON: relatorio_teste_semBeamforming_SNR_25dB_semPCA_1585102518.669514.json\n",
      "O teste com todos os classificadores foi finalizado\n",
      "Classificando com o  SVC\n",
      "Salvando as informações num JSON: relatorio_teste_GSC_SNR_27dB_semPCA_1585102519.5404413.json\n",
      "Classificando com o  SVC\n",
      "Salvando as informações num JSON: relatorio_teste_GSC_SNR_27dB_semPCA_1585102520.3060284.json\n",
      "Classificando com o  SVC\n",
      "Salvando as informações num JSON: relatorio_teste_GSC_SNR_27dB_semPCA_1585102521.0421834.json\n",
      "Classificando com o  SVC\n",
      "Salvando as informações num JSON: relatorio_teste_GSC_SNR_27dB_semPCA_1585102521.8183467.json\n",
      "Classificando com o  SVC\n",
      "Salvando as informações num JSON: relatorio_teste_GSC_SNR_27dB_semPCA_1585102522.6052327.json\n",
      "Classificando com o  SVC\n",
      "Salvando as informações num JSON: relatorio_teste_GSC_SNR_27dB_semPCA_1585102523.4017372.json\n",
      "Classificando com o  SVC\n",
      "Salvando as informações num JSON: relatorio_teste_GSC_SNR_27dB_semPCA_1585102524.1538157.json\n",
      "Classificando com o  SVC\n",
      "Salvando as informações num JSON: relatorio_teste_GSC_SNR_27dB_semPCA_1585102524.9900815.json\n",
      "Classificando com o  SVC\n",
      "Salvando as informações num JSON: relatorio_teste_GSC_SNR_27dB_semPCA_1585102525.7672153.json\n",
      "Classificando com o  SVC\n",
      "Salvando as informações num JSON: relatorio_teste_GSC_SNR_27dB_semPCA_1585102526.5381799.json\n",
      "Classificando com o  LinearDiscriminantAnalysis\n",
      "Salvando as informações num JSON: relatorio_teste_GSC_SNR_27dB_semPCA_1585102526.8046997.json\n",
      "Classificando com o  LinearDiscriminantAnalysis\n",
      "Salvando as informações num JSON: relatorio_teste_GSC_SNR_27dB_semPCA_1585102527.0542269.json\n",
      "Classificando com o  LinearDiscriminantAnalysis\n",
      "Salvando as informações num JSON: relatorio_teste_GSC_SNR_27dB_semPCA_1585102527.3761446.json\n",
      "Classificando com o  LinearDiscriminantAnalysis\n",
      "Salvando as informações num JSON: relatorio_teste_GSC_SNR_27dB_semPCA_1585102527.6508837.json\n",
      "Classificando com o  LinearDiscriminantAnalysis\n",
      "Salvando as informações num JSON: relatorio_teste_GSC_SNR_27dB_semPCA_1585102527.9098258.json\n",
      "Classificando com o  LinearDiscriminantAnalysis\n",
      "Salvando as informações num JSON: relatorio_teste_GSC_SNR_27dB_semPCA_1585102528.1569092.json\n",
      "Classificando com o  LinearDiscriminantAnalysis\n",
      "Salvando as informações num JSON: relatorio_teste_GSC_SNR_27dB_semPCA_1585102528.4396126.json\n",
      "Classificando com o  LinearDiscriminantAnalysis\n"
     ]
    },
    {
     "name": "stdout",
     "output_type": "stream",
     "text": [
      "Salvando as informações num JSON: relatorio_teste_GSC_SNR_27dB_semPCA_1585102528.712988.json\n",
      "Classificando com o  LinearDiscriminantAnalysis\n",
      "Salvando as informações num JSON: relatorio_teste_GSC_SNR_27dB_semPCA_1585102528.987366.json\n",
      "Classificando com o  LinearDiscriminantAnalysis\n",
      "Salvando as informações num JSON: relatorio_teste_GSC_SNR_27dB_semPCA_1585102529.23477.json\n",
      "O teste com todos os classificadores foi finalizado\n",
      "Classificando com o  SVC\n",
      "Salvando as informações num JSON: relatorio_teste_semBeamforming_SNR_27dB_semPCA_1585102530.119281.json\n",
      "Classificando com o  SVC\n",
      "Salvando as informações num JSON: relatorio_teste_semBeamforming_SNR_27dB_semPCA_1585102530.898617.json\n",
      "Classificando com o  SVC\n",
      "Salvando as informações num JSON: relatorio_teste_semBeamforming_SNR_27dB_semPCA_1585102531.6528814.json\n",
      "Classificando com o  SVC\n",
      "Salvando as informações num JSON: relatorio_teste_semBeamforming_SNR_27dB_semPCA_1585102532.4237614.json\n",
      "Classificando com o  SVC\n",
      "Salvando as informações num JSON: relatorio_teste_semBeamforming_SNR_27dB_semPCA_1585102533.2078376.json\n",
      "Classificando com o  SVC\n",
      "Salvando as informações num JSON: relatorio_teste_semBeamforming_SNR_27dB_semPCA_1585102534.051809.json\n",
      "Classificando com o  SVC\n",
      "Salvando as informações num JSON: relatorio_teste_semBeamforming_SNR_27dB_semPCA_1585102534.8284068.json\n",
      "Classificando com o  SVC\n",
      "Salvando as informações num JSON: relatorio_teste_semBeamforming_SNR_27dB_semPCA_1585102535.665215.json\n",
      "Classificando com o  SVC\n",
      "Salvando as informações num JSON: relatorio_teste_semBeamforming_SNR_27dB_semPCA_1585102536.481638.json\n",
      "Classificando com o  SVC\n",
      "Salvando as informações num JSON: relatorio_teste_semBeamforming_SNR_27dB_semPCA_1585102537.2903898.json\n",
      "Classificando com o  LinearDiscriminantAnalysis\n",
      "Salvando as informações num JSON: relatorio_teste_semBeamforming_SNR_27dB_semPCA_1585102537.5883265.json\n",
      "Classificando com o  LinearDiscriminantAnalysis\n",
      "Salvando as informações num JSON: relatorio_teste_semBeamforming_SNR_27dB_semPCA_1585102537.870118.json\n",
      "Classificando com o  LinearDiscriminantAnalysis\n",
      "Salvando as informações num JSON: relatorio_teste_semBeamforming_SNR_27dB_semPCA_1585102538.124858.json\n",
      "Classificando com o  LinearDiscriminantAnalysis\n",
      "Salvando as informações num JSON: relatorio_teste_semBeamforming_SNR_27dB_semPCA_1585102538.3954031.json\n",
      "Classificando com o  LinearDiscriminantAnalysis\n",
      "Salvando as informações num JSON: relatorio_teste_semBeamforming_SNR_27dB_semPCA_1585102538.6700094.json\n",
      "Classificando com o  LinearDiscriminantAnalysis\n",
      "Salvando as informações num JSON: relatorio_teste_semBeamforming_SNR_27dB_semPCA_1585102538.9212947.json\n",
      "Classificando com o  LinearDiscriminantAnalysis\n",
      "Salvando as informações num JSON: relatorio_teste_semBeamforming_SNR_27dB_semPCA_1585102539.1889997.json\n",
      "Classificando com o  LinearDiscriminantAnalysis\n",
      "Salvando as informações num JSON: relatorio_teste_semBeamforming_SNR_27dB_semPCA_1585102539.4500704.json\n",
      "Classificando com o  LinearDiscriminantAnalysis\n",
      "Salvando as informações num JSON: relatorio_teste_semBeamforming_SNR_27dB_semPCA_1585102539.7079303.json\n",
      "Classificando com o  LinearDiscriminantAnalysis\n",
      "Salvando as informações num JSON: relatorio_teste_semBeamforming_SNR_27dB_semPCA_1585102539.9616337.json\n",
      "O teste com todos os classificadores foi finalizado\n",
      "Classificando com o  SVC\n",
      "Salvando as informações num JSON: relatorio_teste_beamforming_SNR_27dB_semPCA_1585102540.791482.json\n",
      "Classificando com o  SVC\n",
      "Salvando as informações num JSON: relatorio_teste_beamforming_SNR_27dB_semPCA_1585102541.5858712.json\n",
      "Classificando com o  SVC\n",
      "Salvando as informações num JSON: relatorio_teste_beamforming_SNR_27dB_semPCA_1585102542.32815.json\n",
      "Classificando com o  SVC\n",
      "Salvando as informações num JSON: relatorio_teste_beamforming_SNR_27dB_semPCA_1585102543.1046832.json\n",
      "Classificando com o  SVC\n",
      "Salvando as informações num JSON: relatorio_teste_beamforming_SNR_27dB_semPCA_1585102543.9792829.json\n",
      "Classificando com o  SVC\n",
      "Salvando as informações num JSON: relatorio_teste_beamforming_SNR_27dB_semPCA_1585102544.8491802.json\n",
      "Classificando com o  SVC\n",
      "Salvando as informações num JSON: relatorio_teste_beamforming_SNR_27dB_semPCA_1585102545.6310985.json\n",
      "Classificando com o  SVC\n",
      "Salvando as informações num JSON: relatorio_teste_beamforming_SNR_27dB_semPCA_1585102546.429419.json\n",
      "Classificando com o  SVC\n",
      "Salvando as informações num JSON: relatorio_teste_beamforming_SNR_27dB_semPCA_1585102547.2504394.json\n",
      "Classificando com o  SVC\n",
      "Salvando as informações num JSON: relatorio_teste_beamforming_SNR_27dB_semPCA_1585102548.029312.json\n",
      "Classificando com o  LinearDiscriminantAnalysis\n",
      "Salvando as informações num JSON: relatorio_teste_beamforming_SNR_27dB_semPCA_1585102548.327809.json\n",
      "Classificando com o  LinearDiscriminantAnalysis\n",
      "Salvando as informações num JSON: relatorio_teste_beamforming_SNR_27dB_semPCA_1585102548.630187.json\n",
      "Classificando com o  LinearDiscriminantAnalysis\n",
      "Salvando as informações num JSON: relatorio_teste_beamforming_SNR_27dB_semPCA_1585102548.8993986.json\n",
      "Classificando com o  LinearDiscriminantAnalysis\n",
      "Salvando as informações num JSON: relatorio_teste_beamforming_SNR_27dB_semPCA_1585102549.171927.json\n",
      "Classificando com o  LinearDiscriminantAnalysis\n",
      "Salvando as informações num JSON: relatorio_teste_beamforming_SNR_27dB_semPCA_1585102549.4480631.json\n",
      "Classificando com o  LinearDiscriminantAnalysis\n",
      "Salvando as informações num JSON: relatorio_teste_beamforming_SNR_27dB_semPCA_1585102549.7152233.json\n",
      "Classificando com o  LinearDiscriminantAnalysis\n",
      "Salvando as informações num JSON: relatorio_teste_beamforming_SNR_27dB_semPCA_1585102549.99545.json\n",
      "Classificando com o  LinearDiscriminantAnalysis\n",
      "Salvando as informações num JSON: relatorio_teste_beamforming_SNR_27dB_semPCA_1585102550.2591417.json\n",
      "Classificando com o  LinearDiscriminantAnalysis\n",
      "Salvando as informações num JSON: relatorio_teste_beamforming_SNR_27dB_semPCA_1585102550.5750265.json\n",
      "Classificando com o  LinearDiscriminantAnalysis\n",
      "Salvando as informações num JSON: relatorio_teste_beamforming_SNR_27dB_semPCA_1585102550.8736904.json\n",
      "O teste com todos os classificadores foi finalizado\n",
      "Classificando com o  SVC\n",
      "Salvando as informações num JSON: relatorio_teste_semBeamforming_SNR_-8dB_semPCA_1585102551.727729.json\n",
      "Classificando com o  SVC\n"
     ]
    },
    {
     "name": "stderr",
     "output_type": "stream",
     "text": [
      "/home/dimi/venvIC/lib/python3.7/site-packages/sklearn/metrics/classification.py:1437: UndefinedMetricWarning: Precision and F-score are ill-defined and being set to 0.0 in labels with no predicted samples.\n",
      "  'precision', 'predicted', average, warn_for)\n"
     ]
    },
    {
     "name": "stdout",
     "output_type": "stream",
     "text": [
      "Salvando as informações num JSON: relatorio_teste_semBeamforming_SNR_-8dB_semPCA_1585102552.5045483.json\n",
      "Classificando com o  SVC\n",
      "Salvando as informações num JSON: relatorio_teste_semBeamforming_SNR_-8dB_semPCA_1585102553.2449775.json\n",
      "Classificando com o  SVC\n"
     ]
    },
    {
     "name": "stderr",
     "output_type": "stream",
     "text": [
      "/home/dimi/venvIC/lib/python3.7/site-packages/sklearn/metrics/classification.py:1437: UndefinedMetricWarning: Precision and F-score are ill-defined and being set to 0.0 in labels with no predicted samples.\n",
      "  'precision', 'predicted', average, warn_for)\n"
     ]
    },
    {
     "name": "stdout",
     "output_type": "stream",
     "text": [
      "Salvando as informações num JSON: relatorio_teste_semBeamforming_SNR_-8dB_semPCA_1585102554.0351164.json\n",
      "Classificando com o  SVC\n"
     ]
    },
    {
     "name": "stderr",
     "output_type": "stream",
     "text": [
      "/home/dimi/venvIC/lib/python3.7/site-packages/sklearn/metrics/classification.py:1437: UndefinedMetricWarning: Precision and F-score are ill-defined and being set to 0.0 in labels with no predicted samples.\n",
      "  'precision', 'predicted', average, warn_for)\n"
     ]
    },
    {
     "name": "stdout",
     "output_type": "stream",
     "text": [
      "Salvando as informações num JSON: relatorio_teste_semBeamforming_SNR_-8dB_semPCA_1585102554.8188841.json\n",
      "Classificando com o  SVC\n"
     ]
    },
    {
     "name": "stderr",
     "output_type": "stream",
     "text": [
      "/home/dimi/venvIC/lib/python3.7/site-packages/sklearn/metrics/classification.py:1437: UndefinedMetricWarning: Precision and F-score are ill-defined and being set to 0.0 in labels with no predicted samples.\n",
      "  'precision', 'predicted', average, warn_for)\n"
     ]
    },
    {
     "name": "stdout",
     "output_type": "stream",
     "text": [
      "Salvando as informações num JSON: relatorio_teste_semBeamforming_SNR_-8dB_semPCA_1585102555.599061.json\n",
      "Classificando com o  SVC\n",
      "Salvando as informações num JSON: relatorio_teste_semBeamforming_SNR_-8dB_semPCA_1585102556.4225402.json\n",
      "Classificando com o  SVC\n",
      "Salvando as informações num JSON: relatorio_teste_semBeamforming_SNR_-8dB_semPCA_1585102557.2507133.json\n",
      "Classificando com o  SVC\n"
     ]
    },
    {
     "name": "stderr",
     "output_type": "stream",
     "text": [
      "/home/dimi/venvIC/lib/python3.7/site-packages/sklearn/metrics/classification.py:1437: UndefinedMetricWarning: Precision and F-score are ill-defined and being set to 0.0 in labels with no predicted samples.\n",
      "  'precision', 'predicted', average, warn_for)\n"
     ]
    },
    {
     "name": "stdout",
     "output_type": "stream",
     "text": [
      "Salvando as informações num JSON: relatorio_teste_semBeamforming_SNR_-8dB_semPCA_1585102558.0200686.json\n",
      "Classificando com o  SVC\n",
      "Salvando as informações num JSON: relatorio_teste_semBeamforming_SNR_-8dB_semPCA_1585102558.771015.json\n",
      "Classificando com o  LinearDiscriminantAnalysis\n",
      "Salvando as informações num JSON: relatorio_teste_semBeamforming_SNR_-8dB_semPCA_1585102559.039092.json\n",
      "Classificando com o  LinearDiscriminantAnalysis\n"
     ]
    },
    {
     "name": "stderr",
     "output_type": "stream",
     "text": [
      "/home/dimi/venvIC/lib/python3.7/site-packages/sklearn/metrics/classification.py:1437: UndefinedMetricWarning: Precision and F-score are ill-defined and being set to 0.0 in labels with no predicted samples.\n",
      "  'precision', 'predicted', average, warn_for)\n"
     ]
    },
    {
     "name": "stdout",
     "output_type": "stream",
     "text": [
      "Salvando as informações num JSON: relatorio_teste_semBeamforming_SNR_-8dB_semPCA_1585102559.3054538.json\n",
      "Classificando com o  LinearDiscriminantAnalysis\n"
     ]
    },
    {
     "name": "stderr",
     "output_type": "stream",
     "text": [
      "/home/dimi/venvIC/lib/python3.7/site-packages/sklearn/metrics/classification.py:1437: UndefinedMetricWarning: Precision and F-score are ill-defined and being set to 0.0 in labels with no predicted samples.\n",
      "  'precision', 'predicted', average, warn_for)\n"
     ]
    },
    {
     "name": "stdout",
     "output_type": "stream",
     "text": [
      "Salvando as informações num JSON: relatorio_teste_semBeamforming_SNR_-8dB_semPCA_1585102559.5960732.json\n",
      "Classificando com o  LinearDiscriminantAnalysis\n",
      "Salvando as informações num JSON: relatorio_teste_semBeamforming_SNR_-8dB_semPCA_1585102559.9153676.json\n",
      "Classificando com o  LinearDiscriminantAnalysis\n",
      "Salvando as informações num JSON: relatorio_teste_semBeamforming_SNR_-8dB_semPCA_1585102560.1930325.json\n",
      "Classificando com o  LinearDiscriminantAnalysis\n"
     ]
    },
    {
     "name": "stderr",
     "output_type": "stream",
     "text": [
      "/home/dimi/venvIC/lib/python3.7/site-packages/sklearn/metrics/classification.py:1437: UndefinedMetricWarning: Precision and F-score are ill-defined and being set to 0.0 in labels with no predicted samples.\n",
      "  'precision', 'predicted', average, warn_for)\n"
     ]
    },
    {
     "name": "stdout",
     "output_type": "stream",
     "text": [
      "Salvando as informações num JSON: relatorio_teste_semBeamforming_SNR_-8dB_semPCA_1585102560.4615912.json\n",
      "Classificando com o  LinearDiscriminantAnalysis\n"
     ]
    },
    {
     "name": "stderr",
     "output_type": "stream",
     "text": [
      "/home/dimi/venvIC/lib/python3.7/site-packages/sklearn/metrics/classification.py:1437: UndefinedMetricWarning: Precision and F-score are ill-defined and being set to 0.0 in labels with no predicted samples.\n",
      "  'precision', 'predicted', average, warn_for)\n"
     ]
    },
    {
     "name": "stdout",
     "output_type": "stream",
     "text": [
      "Salvando as informações num JSON: relatorio_teste_semBeamforming_SNR_-8dB_semPCA_1585102560.7152095.json\n",
      "Classificando com o  LinearDiscriminantAnalysis\n",
      "Salvando as informações num JSON: relatorio_teste_semBeamforming_SNR_-8dB_semPCA_1585102560.9919264.json\n",
      "Classificando com o  LinearDiscriminantAnalysis\n",
      "Salvando as informações num JSON: relatorio_teste_semBeamforming_SNR_-8dB_semPCA_1585102561.2757728.json\n",
      "Classificando com o  LinearDiscriminantAnalysis\n",
      "Salvando as informações num JSON: relatorio_teste_semBeamforming_SNR_-8dB_semPCA_1585102561.5569928.json\n",
      "O teste com todos os classificadores foi finalizado\n",
      "Classificando com o  SVC\n",
      "Salvando as informações num JSON: relatorio_teste_GSC_SNR_-8dB_semPCA_1585102562.4360652.json\n",
      "Classificando com o  SVC\n"
     ]
    },
    {
     "name": "stderr",
     "output_type": "stream",
     "text": [
      "/home/dimi/venvIC/lib/python3.7/site-packages/sklearn/metrics/classification.py:1437: UndefinedMetricWarning: Precision and F-score are ill-defined and being set to 0.0 in labels with no predicted samples.\n",
      "  'precision', 'predicted', average, warn_for)\n"
     ]
    },
    {
     "name": "stdout",
     "output_type": "stream",
     "text": [
      "Salvando as informações num JSON: relatorio_teste_GSC_SNR_-8dB_semPCA_1585102563.2296338.json\n",
      "Classificando com o  SVC\n"
     ]
    },
    {
     "name": "stderr",
     "output_type": "stream",
     "text": [
      "/home/dimi/venvIC/lib/python3.7/site-packages/sklearn/metrics/classification.py:1437: UndefinedMetricWarning: Precision and F-score are ill-defined and being set to 0.0 in labels with no predicted samples.\n",
      "  'precision', 'predicted', average, warn_for)\n"
     ]
    },
    {
     "name": "stdout",
     "output_type": "stream",
     "text": [
      "Salvando as informações num JSON: relatorio_teste_GSC_SNR_-8dB_semPCA_1585102563.9920654.json\n",
      "Classificando com o  SVC\n"
     ]
    },
    {
     "name": "stderr",
     "output_type": "stream",
     "text": [
      "/home/dimi/venvIC/lib/python3.7/site-packages/sklearn/metrics/classification.py:1437: UndefinedMetricWarning: Precision and F-score are ill-defined and being set to 0.0 in labels with no predicted samples.\n",
      "  'precision', 'predicted', average, warn_for)\n"
     ]
    },
    {
     "name": "stdout",
     "output_type": "stream",
     "text": [
      "Salvando as informações num JSON: relatorio_teste_GSC_SNR_-8dB_semPCA_1585102564.8108804.json\n",
      "Classificando com o  SVC\n"
     ]
    },
    {
     "name": "stderr",
     "output_type": "stream",
     "text": [
      "/home/dimi/venvIC/lib/python3.7/site-packages/sklearn/metrics/classification.py:1437: UndefinedMetricWarning: Precision and F-score are ill-defined and being set to 0.0 in labels with no predicted samples.\n",
      "  'precision', 'predicted', average, warn_for)\n"
     ]
    },
    {
     "name": "stdout",
     "output_type": "stream",
     "text": [
      "Salvando as informações num JSON: relatorio_teste_GSC_SNR_-8dB_semPCA_1585102565.7561734.json\n",
      "Classificando com o  SVC\n"
     ]
    },
    {
     "name": "stderr",
     "output_type": "stream",
     "text": [
      "/home/dimi/venvIC/lib/python3.7/site-packages/sklearn/metrics/classification.py:1437: UndefinedMetricWarning: Precision and F-score are ill-defined and being set to 0.0 in labels with no predicted samples.\n",
      "  'precision', 'predicted', average, warn_for)\n"
     ]
    },
    {
     "name": "stdout",
     "output_type": "stream",
     "text": [
      "Salvando as informações num JSON: relatorio_teste_GSC_SNR_-8dB_semPCA_1585102566.9004912.json\n",
      "Classificando com o  SVC\n",
      "Salvando as informações num JSON: relatorio_teste_GSC_SNR_-8dB_semPCA_1585102567.7679973.json\n",
      "Classificando com o  SVC\n",
      "Salvando as informações num JSON: relatorio_teste_GSC_SNR_-8dB_semPCA_1585102568.5437572.json\n",
      "Classificando com o  SVC\n"
     ]
    },
    {
     "name": "stderr",
     "output_type": "stream",
     "text": [
      "/home/dimi/venvIC/lib/python3.7/site-packages/sklearn/metrics/classification.py:1437: UndefinedMetricWarning: Precision and F-score are ill-defined and being set to 0.0 in labels with no predicted samples.\n",
      "  'precision', 'predicted', average, warn_for)\n"
     ]
    },
    {
     "name": "stdout",
     "output_type": "stream",
     "text": [
      "Salvando as informações num JSON: relatorio_teste_GSC_SNR_-8dB_semPCA_1585102569.3063052.json\n",
      "Classificando com o  SVC\n",
      "Salvando as informações num JSON: relatorio_teste_GSC_SNR_-8dB_semPCA_1585102570.2442832.json\n",
      "Classificando com o  LinearDiscriminantAnalysis\n",
      "Salvando as informações num JSON: relatorio_teste_GSC_SNR_-8dB_semPCA_1585102570.5801342.json\n",
      "Classificando com o  LinearDiscriminantAnalysis\n",
      "Salvando as informações num JSON: relatorio_teste_GSC_SNR_-8dB_semPCA_1585102570.876273.json\n",
      "Classificando com o  LinearDiscriminantAnalysis\n",
      "Salvando as informações num JSON: relatorio_teste_GSC_SNR_-8dB_semPCA_1585102571.152821.json\n",
      "Classificando com o  LinearDiscriminantAnalysis\n",
      "Salvando as informações num JSON: relatorio_teste_GSC_SNR_-8dB_semPCA_1585102571.448325.json\n",
      "Classificando com o  LinearDiscriminantAnalysis\n",
      "Salvando as informações num JSON: relatorio_teste_GSC_SNR_-8dB_semPCA_1585102571.7479007.json\n",
      "Classificando com o  LinearDiscriminantAnalysis\n",
      "Salvando as informações num JSON: relatorio_teste_GSC_SNR_-8dB_semPCA_1585102572.063864.json\n",
      "Classificando com o  LinearDiscriminantAnalysis\n",
      "Salvando as informações num JSON: relatorio_teste_GSC_SNR_-8dB_semPCA_1585102572.3333452.json\n",
      "Classificando com o  LinearDiscriminantAnalysis\n",
      "Salvando as informações num JSON: relatorio_teste_GSC_SNR_-8dB_semPCA_1585102572.6378322.json\n",
      "Classificando com o  LinearDiscriminantAnalysis\n",
      "Salvando as informações num JSON: relatorio_teste_GSC_SNR_-8dB_semPCA_1585102572.9021842.json\n",
      "Classificando com o  LinearDiscriminantAnalysis\n",
      "Salvando as informações num JSON: relatorio_teste_GSC_SNR_-8dB_semPCA_1585102573.1614964.json\n",
      "O teste com todos os classificadores foi finalizado\n",
      "Classificando com o  SVC\n",
      "Salvando as informações num JSON: relatorio_teste_beamforming_SNR_-8dB_semPCA_1585102574.0021462.json\n",
      "Classificando com o  SVC\n"
     ]
    },
    {
     "name": "stderr",
     "output_type": "stream",
     "text": [
      "/home/dimi/venvIC/lib/python3.7/site-packages/sklearn/metrics/classification.py:1437: UndefinedMetricWarning: Precision and F-score are ill-defined and being set to 0.0 in labels with no predicted samples.\n",
      "  'precision', 'predicted', average, warn_for)\n"
     ]
    },
    {
     "name": "stdout",
     "output_type": "stream",
     "text": [
      "Salvando as informações num JSON: relatorio_teste_beamforming_SNR_-8dB_semPCA_1585102574.787208.json\n",
      "Classificando com o  SVC\n",
      "Salvando as informações num JSON: relatorio_teste_beamforming_SNR_-8dB_semPCA_1585102575.579677.json\n",
      "Classificando com o  SVC\n"
     ]
    },
    {
     "name": "stderr",
     "output_type": "stream",
     "text": [
      "/home/dimi/venvIC/lib/python3.7/site-packages/sklearn/metrics/classification.py:1437: UndefinedMetricWarning: Precision and F-score are ill-defined and being set to 0.0 in labels with no predicted samples.\n",
      "  'precision', 'predicted', average, warn_for)\n"
     ]
    },
    {
     "name": "stdout",
     "output_type": "stream",
     "text": [
      "Salvando as informações num JSON: relatorio_teste_beamforming_SNR_-8dB_semPCA_1585102576.36575.json\n",
      "Classificando com o  SVC\n"
     ]
    },
    {
     "name": "stderr",
     "output_type": "stream",
     "text": [
      "/home/dimi/venvIC/lib/python3.7/site-packages/sklearn/metrics/classification.py:1437: UndefinedMetricWarning: Precision and F-score are ill-defined and being set to 0.0 in labels with no predicted samples.\n",
      "  'precision', 'predicted', average, warn_for)\n"
     ]
    },
    {
     "name": "stdout",
     "output_type": "stream",
     "text": [
      "Salvando as informações num JSON: relatorio_teste_beamforming_SNR_-8dB_semPCA_1585102577.1441178.json\n",
      "Classificando com o  SVC\n"
     ]
    },
    {
     "name": "stderr",
     "output_type": "stream",
     "text": [
      "/home/dimi/venvIC/lib/python3.7/site-packages/sklearn/metrics/classification.py:1437: UndefinedMetricWarning: Precision and F-score are ill-defined and being set to 0.0 in labels with no predicted samples.\n",
      "  'precision', 'predicted', average, warn_for)\n"
     ]
    },
    {
     "name": "stdout",
     "output_type": "stream",
     "text": [
      "Salvando as informações num JSON: relatorio_teste_beamforming_SNR_-8dB_semPCA_1585102577.931394.json\n",
      "Classificando com o  SVC\n",
      "Salvando as informações num JSON: relatorio_teste_beamforming_SNR_-8dB_semPCA_1585102578.7585356.json\n",
      "Classificando com o  SVC\n",
      "Salvando as informações num JSON: relatorio_teste_beamforming_SNR_-8dB_semPCA_1585102579.542724.json\n",
      "Classificando com o  SVC\n"
     ]
    },
    {
     "name": "stderr",
     "output_type": "stream",
     "text": [
      "/home/dimi/venvIC/lib/python3.7/site-packages/sklearn/metrics/classification.py:1437: UndefinedMetricWarning: Precision and F-score are ill-defined and being set to 0.0 in labels with no predicted samples.\n",
      "  'precision', 'predicted', average, warn_for)\n"
     ]
    },
    {
     "name": "stdout",
     "output_type": "stream",
     "text": [
      "Salvando as informações num JSON: relatorio_teste_beamforming_SNR_-8dB_semPCA_1585102580.3512208.json\n",
      "Classificando com o  SVC\n",
      "Salvando as informações num JSON: relatorio_teste_beamforming_SNR_-8dB_semPCA_1585102581.1227725.json\n",
      "Classificando com o  LinearDiscriminantAnalysis\n",
      "Salvando as informações num JSON: relatorio_teste_beamforming_SNR_-8dB_semPCA_1585102581.3951194.json\n",
      "Classificando com o  LinearDiscriminantAnalysis\n"
     ]
    },
    {
     "name": "stderr",
     "output_type": "stream",
     "text": [
      "/home/dimi/venvIC/lib/python3.7/site-packages/sklearn/metrics/classification.py:1437: UndefinedMetricWarning: Precision and F-score are ill-defined and being set to 0.0 in labels with no predicted samples.\n",
      "  'precision', 'predicted', average, warn_for)\n"
     ]
    },
    {
     "name": "stdout",
     "output_type": "stream",
     "text": [
      "Salvando as informações num JSON: relatorio_teste_beamforming_SNR_-8dB_semPCA_1585102581.6702538.json\n",
      "Classificando com o  LinearDiscriminantAnalysis\n"
     ]
    },
    {
     "name": "stderr",
     "output_type": "stream",
     "text": [
      "/home/dimi/venvIC/lib/python3.7/site-packages/sklearn/metrics/classification.py:1437: UndefinedMetricWarning: Precision and F-score are ill-defined and being set to 0.0 in labels with no predicted samples.\n",
      "  'precision', 'predicted', average, warn_for)\n"
     ]
    },
    {
     "name": "stdout",
     "output_type": "stream",
     "text": [
      "Salvando as informações num JSON: relatorio_teste_beamforming_SNR_-8dB_semPCA_1585102581.9383264.json\n",
      "Classificando com o  LinearDiscriminantAnalysis\n",
      "Salvando as informações num JSON: relatorio_teste_beamforming_SNR_-8dB_semPCA_1585102582.2017813.json\n",
      "Classificando com o  LinearDiscriminantAnalysis\n",
      "Salvando as informações num JSON: relatorio_teste_beamforming_SNR_-8dB_semPCA_1585102582.4640126.json\n",
      "Classificando com o  LinearDiscriminantAnalysis\n"
     ]
    },
    {
     "name": "stderr",
     "output_type": "stream",
     "text": [
      "/home/dimi/venvIC/lib/python3.7/site-packages/sklearn/metrics/classification.py:1437: UndefinedMetricWarning: Precision and F-score are ill-defined and being set to 0.0 in labels with no predicted samples.\n",
      "  'precision', 'predicted', average, warn_for)\n"
     ]
    },
    {
     "name": "stdout",
     "output_type": "stream",
     "text": [
      "Salvando as informações num JSON: relatorio_teste_beamforming_SNR_-8dB_semPCA_1585102582.7326171.json\n",
      "Classificando com o  LinearDiscriminantAnalysis\n"
     ]
    },
    {
     "name": "stderr",
     "output_type": "stream",
     "text": [
      "/home/dimi/venvIC/lib/python3.7/site-packages/sklearn/metrics/classification.py:1437: UndefinedMetricWarning: Precision and F-score are ill-defined and being set to 0.0 in labels with no predicted samples.\n",
      "  'precision', 'predicted', average, warn_for)\n"
     ]
    },
    {
     "name": "stdout",
     "output_type": "stream",
     "text": [
      "Salvando as informações num JSON: relatorio_teste_beamforming_SNR_-8dB_semPCA_1585102582.9968817.json\n",
      "Classificando com o  LinearDiscriminantAnalysis\n",
      "Salvando as informações num JSON: relatorio_teste_beamforming_SNR_-8dB_semPCA_1585102583.247064.json\n",
      "Classificando com o  LinearDiscriminantAnalysis\n",
      "Salvando as informações num JSON: relatorio_teste_beamforming_SNR_-8dB_semPCA_1585102583.517779.json\n",
      "Classificando com o  LinearDiscriminantAnalysis\n",
      "Salvando as informações num JSON: relatorio_teste_beamforming_SNR_-8dB_semPCA_1585102583.7702856.json\n",
      "O teste com todos os classificadores foi finalizado\n",
      "Classificando com o  SVC\n",
      "Salvando as informações num JSON: relatorio_teste_semBeamforming_SNR_11dB_semPCA_1585102584.6288002.json\n",
      "Classificando com o  SVC\n",
      "Salvando as informações num JSON: relatorio_teste_semBeamforming_SNR_11dB_semPCA_1585102585.4169638.json\n",
      "Classificando com o  SVC\n",
      "Salvando as informações num JSON: relatorio_teste_semBeamforming_SNR_11dB_semPCA_1585102586.1405654.json\n",
      "Classificando com o  SVC\n",
      "Salvando as informações num JSON: relatorio_teste_semBeamforming_SNR_11dB_semPCA_1585102586.9123719.json\n",
      "Classificando com o  SVC\n",
      "Salvando as informações num JSON: relatorio_teste_semBeamforming_SNR_11dB_semPCA_1585102587.6864066.json\n",
      "Classificando com o  SVC\n",
      "Salvando as informações num JSON: relatorio_teste_semBeamforming_SNR_11dB_semPCA_1585102588.444781.json\n",
      "Classificando com o  SVC\n",
      "Salvando as informações num JSON: relatorio_teste_semBeamforming_SNR_11dB_semPCA_1585102589.2081337.json\n",
      "Classificando com o  SVC\n",
      "Salvando as informações num JSON: relatorio_teste_semBeamforming_SNR_11dB_semPCA_1585102589.9790804.json\n",
      "Classificando com o  SVC\n",
      "Salvando as informações num JSON: relatorio_teste_semBeamforming_SNR_11dB_semPCA_1585102590.7186832.json\n",
      "Classificando com o  SVC\n",
      "Salvando as informações num JSON: relatorio_teste_semBeamforming_SNR_11dB_semPCA_1585102591.4663224.json\n",
      "Classificando com o  LinearDiscriminantAnalysis\n",
      "Salvando as informações num JSON: relatorio_teste_semBeamforming_SNR_11dB_semPCA_1585102591.7189217.json\n",
      "Classificando com o  LinearDiscriminantAnalysis\n",
      "Salvando as informações num JSON: relatorio_teste_semBeamforming_SNR_11dB_semPCA_1585102591.9711611.json\n",
      "Classificando com o  LinearDiscriminantAnalysis\n",
      "Salvando as informações num JSON: relatorio_teste_semBeamforming_SNR_11dB_semPCA_1585102592.221191.json\n",
      "Classificando com o  LinearDiscriminantAnalysis\n",
      "Salvando as informações num JSON: relatorio_teste_semBeamforming_SNR_11dB_semPCA_1585102592.4906907.json\n",
      "Classificando com o  LinearDiscriminantAnalysis\n",
      "Salvando as informações num JSON: relatorio_teste_semBeamforming_SNR_11dB_semPCA_1585102592.7384334.json\n",
      "Classificando com o  LinearDiscriminantAnalysis\n",
      "Salvando as informações num JSON: relatorio_teste_semBeamforming_SNR_11dB_semPCA_1585102592.9803996.json\n",
      "Classificando com o  LinearDiscriminantAnalysis\n",
      "Salvando as informações num JSON: relatorio_teste_semBeamforming_SNR_11dB_semPCA_1585102593.2384942.json\n",
      "Classificando com o  LinearDiscriminantAnalysis\n",
      "Salvando as informações num JSON: relatorio_teste_semBeamforming_SNR_11dB_semPCA_1585102593.5042992.json\n",
      "Classificando com o  LinearDiscriminantAnalysis\n",
      "Salvando as informações num JSON: relatorio_teste_semBeamforming_SNR_11dB_semPCA_1585102593.7507682.json\n",
      "Classificando com o  LinearDiscriminantAnalysis\n",
      "Salvando as informações num JSON: relatorio_teste_semBeamforming_SNR_11dB_semPCA_1585102593.9977865.json\n",
      "O teste com todos os classificadores foi finalizado\n",
      "Classificando com o  SVC\n",
      "Salvando as informações num JSON: relatorio_teste_beamforming_SNR_11dB_semPCA_1585102594.9372368.json\n",
      "Classificando com o  SVC\n",
      "Salvando as informações num JSON: relatorio_teste_beamforming_SNR_11dB_semPCA_1585102595.7546937.json\n",
      "Classificando com o  SVC\n",
      "Salvando as informações num JSON: relatorio_teste_beamforming_SNR_11dB_semPCA_1585102596.5263073.json\n",
      "Classificando com o  SVC\n",
      "Salvando as informações num JSON: relatorio_teste_beamforming_SNR_11dB_semPCA_1585102597.542072.json\n",
      "Classificando com o  SVC\n",
      "Salvando as informações num JSON: relatorio_teste_beamforming_SNR_11dB_semPCA_1585102598.431139.json\n",
      "Classificando com o  SVC\n",
      "Salvando as informações num JSON: relatorio_teste_beamforming_SNR_11dB_semPCA_1585102599.2495573.json\n",
      "Classificando com o  SVC\n",
      "Salvando as informações num JSON: relatorio_teste_beamforming_SNR_11dB_semPCA_1585102600.0295813.json\n",
      "Classificando com o  SVC\n",
      "Salvando as informações num JSON: relatorio_teste_beamforming_SNR_11dB_semPCA_1585102600.9090426.json\n",
      "Classificando com o  SVC\n",
      "Salvando as informações num JSON: relatorio_teste_beamforming_SNR_11dB_semPCA_1585102601.661466.json\n",
      "Classificando com o  SVC\n",
      "Salvando as informações num JSON: relatorio_teste_beamforming_SNR_11dB_semPCA_1585102602.4247742.json\n",
      "Classificando com o  LinearDiscriminantAnalysis\n",
      "Salvando as informações num JSON: relatorio_teste_beamforming_SNR_11dB_semPCA_1585102602.6956565.json\n",
      "Classificando com o  LinearDiscriminantAnalysis\n",
      "Salvando as informações num JSON: relatorio_teste_beamforming_SNR_11dB_semPCA_1585102602.9503043.json\n",
      "Classificando com o  LinearDiscriminantAnalysis\n",
      "Salvando as informações num JSON: relatorio_teste_beamforming_SNR_11dB_semPCA_1585102603.2073991.json\n",
      "Classificando com o  LinearDiscriminantAnalysis\n",
      "Salvando as informações num JSON: relatorio_teste_beamforming_SNR_11dB_semPCA_1585102603.6246715.json\n",
      "Classificando com o  LinearDiscriminantAnalysis\n",
      "Salvando as informações num JSON: relatorio_teste_beamforming_SNR_11dB_semPCA_1585102603.9794142.json\n",
      "Classificando com o  LinearDiscriminantAnalysis\n",
      "Salvando as informações num JSON: relatorio_teste_beamforming_SNR_11dB_semPCA_1585102604.2296524.json\n",
      "Classificando com o  LinearDiscriminantAnalysis\n",
      "Salvando as informações num JSON: relatorio_teste_beamforming_SNR_11dB_semPCA_1585102604.4916203.json\n",
      "Classificando com o  LinearDiscriminantAnalysis\n",
      "Salvando as informações num JSON: relatorio_teste_beamforming_SNR_11dB_semPCA_1585102604.7812042.json\n",
      "Classificando com o  LinearDiscriminantAnalysis\n",
      "Salvando as informações num JSON: relatorio_teste_beamforming_SNR_11dB_semPCA_1585102605.0336156.json\n",
      "Classificando com o  LinearDiscriminantAnalysis\n",
      "Salvando as informações num JSON: relatorio_teste_beamforming_SNR_11dB_semPCA_1585102605.327476.json\n",
      "O teste com todos os classificadores foi finalizado\n",
      "Classificando com o  SVC\n",
      "Salvando as informações num JSON: relatorio_teste_GSC_SNR_11dB_semPCA_1585102606.223897.json\n",
      "Classificando com o  SVC\n",
      "Salvando as informações num JSON: relatorio_teste_GSC_SNR_11dB_semPCA_1585102607.015928.json\n",
      "Classificando com o  SVC\n",
      "Salvando as informações num JSON: relatorio_teste_GSC_SNR_11dB_semPCA_1585102607.8683991.json\n",
      "Classificando com o  SVC\n",
      "Salvando as informações num JSON: relatorio_teste_GSC_SNR_11dB_semPCA_1585102608.6722312.json\n",
      "Classificando com o  SVC\n",
      "Salvando as informações num JSON: relatorio_teste_GSC_SNR_11dB_semPCA_1585102609.446653.json\n",
      "Classificando com o  SVC\n",
      "Salvando as informações num JSON: relatorio_teste_GSC_SNR_11dB_semPCA_1585102610.427711.json\n",
      "Classificando com o  SVC\n",
      "Salvando as informações num JSON: relatorio_teste_GSC_SNR_11dB_semPCA_1585102611.5376532.json\n",
      "Classificando com o  SVC\n",
      "Salvando as informações num JSON: relatorio_teste_GSC_SNR_11dB_semPCA_1585102612.3395097.json\n",
      "Classificando com o  SVC\n",
      "Salvando as informações num JSON: relatorio_teste_GSC_SNR_11dB_semPCA_1585102613.1446602.json\n",
      "Classificando com o  SVC\n",
      "Salvando as informações num JSON: relatorio_teste_GSC_SNR_11dB_semPCA_1585102613.8843093.json\n",
      "Classificando com o  LinearDiscriminantAnalysis\n",
      "Salvando as informações num JSON: relatorio_teste_GSC_SNR_11dB_semPCA_1585102614.1293597.json\n",
      "Classificando com o  LinearDiscriminantAnalysis\n",
      "Salvando as informações num JSON: relatorio_teste_GSC_SNR_11dB_semPCA_1585102614.4036994.json\n",
      "Classificando com o  LinearDiscriminantAnalysis\n",
      "Salvando as informações num JSON: relatorio_teste_GSC_SNR_11dB_semPCA_1585102614.6513295.json\n",
      "Classificando com o  LinearDiscriminantAnalysis\n",
      "Salvando as informações num JSON: relatorio_teste_GSC_SNR_11dB_semPCA_1585102614.9007483.json\n",
      "Classificando com o  LinearDiscriminantAnalysis\n",
      "Salvando as informações num JSON: relatorio_teste_GSC_SNR_11dB_semPCA_1585102615.1431692.json\n",
      "Classificando com o  LinearDiscriminantAnalysis\n"
     ]
    },
    {
     "name": "stdout",
     "output_type": "stream",
     "text": [
      "Salvando as informações num JSON: relatorio_teste_GSC_SNR_11dB_semPCA_1585102615.405375.json\n",
      "Classificando com o  LinearDiscriminantAnalysis\n",
      "Salvando as informações num JSON: relatorio_teste_GSC_SNR_11dB_semPCA_1585102615.6523535.json\n",
      "Classificando com o  LinearDiscriminantAnalysis\n",
      "Salvando as informações num JSON: relatorio_teste_GSC_SNR_11dB_semPCA_1585102615.8921356.json\n",
      "Classificando com o  LinearDiscriminantAnalysis\n",
      "Salvando as informações num JSON: relatorio_teste_GSC_SNR_11dB_semPCA_1585102616.1411476.json\n",
      "Classificando com o  LinearDiscriminantAnalysis\n",
      "Salvando as informações num JSON: relatorio_teste_GSC_SNR_11dB_semPCA_1585102616.3964381.json\n",
      "O teste com todos os classificadores foi finalizado\n",
      "Classificando com o  SVC\n",
      "Salvando as informações num JSON: relatorio_teste_GSC_SNR_6dB_semPCA_1585102617.2298493.json\n",
      "Classificando com o  SVC\n",
      "Salvando as informações num JSON: relatorio_teste_GSC_SNR_6dB_semPCA_1585102618.0107386.json\n",
      "Classificando com o  SVC\n",
      "Salvando as informações num JSON: relatorio_teste_GSC_SNR_6dB_semPCA_1585102618.7541149.json\n",
      "Classificando com o  SVC\n",
      "Salvando as informações num JSON: relatorio_teste_GSC_SNR_6dB_semPCA_1585102619.6852233.json\n",
      "Classificando com o  SVC\n",
      "Salvando as informações num JSON: relatorio_teste_GSC_SNR_6dB_semPCA_1585102620.4605627.json\n",
      "Classificando com o  SVC\n",
      "Salvando as informações num JSON: relatorio_teste_GSC_SNR_6dB_semPCA_1585102621.2663052.json\n",
      "Classificando com o  SVC\n",
      "Salvando as informações num JSON: relatorio_teste_GSC_SNR_6dB_semPCA_1585102622.105903.json\n",
      "Classificando com o  SVC\n",
      "Salvando as informações num JSON: relatorio_teste_GSC_SNR_6dB_semPCA_1585102623.1151009.json\n",
      "Classificando com o  SVC\n",
      "Salvando as informações num JSON: relatorio_teste_GSC_SNR_6dB_semPCA_1585102623.9715147.json\n",
      "Classificando com o  SVC\n",
      "Salvando as informações num JSON: relatorio_teste_GSC_SNR_6dB_semPCA_1585102624.8170445.json\n",
      "Classificando com o  LinearDiscriminantAnalysis\n",
      "Salvando as informações num JSON: relatorio_teste_GSC_SNR_6dB_semPCA_1585102625.1029973.json\n",
      "Classificando com o  LinearDiscriminantAnalysis\n",
      "Salvando as informações num JSON: relatorio_teste_GSC_SNR_6dB_semPCA_1585102625.4210205.json\n",
      "Classificando com o  LinearDiscriminantAnalysis\n",
      "Salvando as informações num JSON: relatorio_teste_GSC_SNR_6dB_semPCA_1585102625.7282085.json\n",
      "Classificando com o  LinearDiscriminantAnalysis\n",
      "Salvando as informações num JSON: relatorio_teste_GSC_SNR_6dB_semPCA_1585102626.0123906.json\n",
      "Classificando com o  LinearDiscriminantAnalysis\n",
      "Salvando as informações num JSON: relatorio_teste_GSC_SNR_6dB_semPCA_1585102626.2937195.json\n",
      "Classificando com o  LinearDiscriminantAnalysis\n",
      "Salvando as informações num JSON: relatorio_teste_GSC_SNR_6dB_semPCA_1585102626.6220748.json\n",
      "Classificando com o  LinearDiscriminantAnalysis\n",
      "Salvando as informações num JSON: relatorio_teste_GSC_SNR_6dB_semPCA_1585102626.9333363.json\n",
      "Classificando com o  LinearDiscriminantAnalysis\n",
      "Salvando as informações num JSON: relatorio_teste_GSC_SNR_6dB_semPCA_1585102627.2836587.json\n",
      "Classificando com o  LinearDiscriminantAnalysis\n",
      "Salvando as informações num JSON: relatorio_teste_GSC_SNR_6dB_semPCA_1585102627.6108909.json\n",
      "Classificando com o  LinearDiscriminantAnalysis\n",
      "Salvando as informações num JSON: relatorio_teste_GSC_SNR_6dB_semPCA_1585102628.0545697.json\n",
      "O teste com todos os classificadores foi finalizado\n",
      "Classificando com o  SVC\n",
      "Salvando as informações num JSON: relatorio_teste_semBeamforming_SNR_6dB_semPCA_1585102629.2219703.json\n",
      "Classificando com o  SVC\n",
      "Salvando as informações num JSON: relatorio_teste_semBeamforming_SNR_6dB_semPCA_1585102630.2413716.json\n",
      "Classificando com o  SVC\n",
      "Salvando as informações num JSON: relatorio_teste_semBeamforming_SNR_6dB_semPCA_1585102631.113734.json\n",
      "Classificando com o  SVC\n",
      "Salvando as informações num JSON: relatorio_teste_semBeamforming_SNR_6dB_semPCA_1585102631.9516447.json\n",
      "Classificando com o  SVC\n",
      "Salvando as informações num JSON: relatorio_teste_semBeamforming_SNR_6dB_semPCA_1585102632.738969.json\n",
      "Classificando com o  SVC\n",
      "Salvando as informações num JSON: relatorio_teste_semBeamforming_SNR_6dB_semPCA_1585102633.6032298.json\n",
      "Classificando com o  SVC\n",
      "Salvando as informações num JSON: relatorio_teste_semBeamforming_SNR_6dB_semPCA_1585102634.3762844.json\n",
      "Classificando com o  SVC\n",
      "Salvando as informações num JSON: relatorio_teste_semBeamforming_SNR_6dB_semPCA_1585102635.1389954.json\n",
      "Classificando com o  SVC\n",
      "Salvando as informações num JSON: relatorio_teste_semBeamforming_SNR_6dB_semPCA_1585102635.896193.json\n",
      "Classificando com o  SVC\n",
      "Salvando as informações num JSON: relatorio_teste_semBeamforming_SNR_6dB_semPCA_1585102636.6421711.json\n",
      "Classificando com o  LinearDiscriminantAnalysis\n",
      "Salvando as informações num JSON: relatorio_teste_semBeamforming_SNR_6dB_semPCA_1585102636.895935.json\n",
      "Classificando com o  LinearDiscriminantAnalysis\n",
      "Salvando as informações num JSON: relatorio_teste_semBeamforming_SNR_6dB_semPCA_1585102637.1726813.json\n",
      "Classificando com o  LinearDiscriminantAnalysis\n",
      "Salvando as informações num JSON: relatorio_teste_semBeamforming_SNR_6dB_semPCA_1585102637.5859742.json\n",
      "Classificando com o  LinearDiscriminantAnalysis\n"
     ]
    },
    {
     "name": "stderr",
     "output_type": "stream",
     "text": [
      "/home/dimi/venvIC/lib/python3.7/site-packages/sklearn/metrics/classification.py:1437: UndefinedMetricWarning: Precision and F-score are ill-defined and being set to 0.0 in labels with no predicted samples.\n",
      "  'precision', 'predicted', average, warn_for)\n"
     ]
    },
    {
     "name": "stdout",
     "output_type": "stream",
     "text": [
      "Salvando as informações num JSON: relatorio_teste_semBeamforming_SNR_6dB_semPCA_1585102637.8693166.json\n",
      "Classificando com o  LinearDiscriminantAnalysis\n",
      "Salvando as informações num JSON: relatorio_teste_semBeamforming_SNR_6dB_semPCA_1585102638.1500347.json\n",
      "Classificando com o  LinearDiscriminantAnalysis\n",
      "Salvando as informações num JSON: relatorio_teste_semBeamforming_SNR_6dB_semPCA_1585102638.4294558.json\n",
      "Classificando com o  LinearDiscriminantAnalysis\n",
      "Salvando as informações num JSON: relatorio_teste_semBeamforming_SNR_6dB_semPCA_1585102638.6927857.json\n",
      "Classificando com o  LinearDiscriminantAnalysis\n",
      "Salvando as informações num JSON: relatorio_teste_semBeamforming_SNR_6dB_semPCA_1585102638.9711716.json\n",
      "Classificando com o  LinearDiscriminantAnalysis\n",
      "Salvando as informações num JSON: relatorio_teste_semBeamforming_SNR_6dB_semPCA_1585102639.2329595.json\n",
      "Classificando com o  LinearDiscriminantAnalysis\n",
      "Salvando as informações num JSON: relatorio_teste_semBeamforming_SNR_6dB_semPCA_1585102639.6041179.json\n",
      "O teste com todos os classificadores foi finalizado\n",
      "Classificando com o  SVC\n",
      "Salvando as informações num JSON: relatorio_teste_beamforming_SNR_6dB_semPCA_1585102640.718439.json\n",
      "Classificando com o  SVC\n",
      "Salvando as informações num JSON: relatorio_teste_beamforming_SNR_6dB_semPCA_1585102641.5391018.json\n",
      "Classificando com o  SVC\n",
      "Salvando as informações num JSON: relatorio_teste_beamforming_SNR_6dB_semPCA_1585102642.2509174.json\n",
      "Classificando com o  SVC\n",
      "Salvando as informações num JSON: relatorio_teste_beamforming_SNR_6dB_semPCA_1585102643.0301156.json\n",
      "Classificando com o  SVC\n",
      "Salvando as informações num JSON: relatorio_teste_beamforming_SNR_6dB_semPCA_1585102643.8414993.json\n",
      "Classificando com o  SVC\n",
      "Salvando as informações num JSON: relatorio_teste_beamforming_SNR_6dB_semPCA_1585102644.6293337.json\n",
      "Classificando com o  SVC\n",
      "Salvando as informações num JSON: relatorio_teste_beamforming_SNR_6dB_semPCA_1585102645.3690085.json\n",
      "Classificando com o  SVC\n",
      "Salvando as informações num JSON: relatorio_teste_beamforming_SNR_6dB_semPCA_1585102646.1502252.json\n",
      "Classificando com o  SVC\n",
      "Salvando as informações num JSON: relatorio_teste_beamforming_SNR_6dB_semPCA_1585102646.9310114.json\n",
      "Classificando com o  SVC\n",
      "Salvando as informações num JSON: relatorio_teste_beamforming_SNR_6dB_semPCA_1585102647.6951334.json\n",
      "Classificando com o  LinearDiscriminantAnalysis\n",
      "Salvando as informações num JSON: relatorio_teste_beamforming_SNR_6dB_semPCA_1585102647.9749444.json\n",
      "Classificando com o  LinearDiscriminantAnalysis\n",
      "Salvando as informações num JSON: relatorio_teste_beamforming_SNR_6dB_semPCA_1585102648.2788787.json\n",
      "Classificando com o  LinearDiscriminantAnalysis\n",
      "Salvando as informações num JSON: relatorio_teste_beamforming_SNR_6dB_semPCA_1585102648.5876236.json\n",
      "Classificando com o  LinearDiscriminantAnalysis\n",
      "Salvando as informações num JSON: relatorio_teste_beamforming_SNR_6dB_semPCA_1585102648.8676414.json\n",
      "Classificando com o  LinearDiscriminantAnalysis\n",
      "Salvando as informações num JSON: relatorio_teste_beamforming_SNR_6dB_semPCA_1585102649.1162028.json\n",
      "Classificando com o  LinearDiscriminantAnalysis\n",
      "Salvando as informações num JSON: relatorio_teste_beamforming_SNR_6dB_semPCA_1585102649.3635237.json\n",
      "Classificando com o  LinearDiscriminantAnalysis\n",
      "Salvando as informações num JSON: relatorio_teste_beamforming_SNR_6dB_semPCA_1585102649.6129687.json\n",
      "Classificando com o  LinearDiscriminantAnalysis\n",
      "Salvando as informações num JSON: relatorio_teste_beamforming_SNR_6dB_semPCA_1585102649.8731024.json\n",
      "Classificando com o  LinearDiscriminantAnalysis\n",
      "Salvando as informações num JSON: relatorio_teste_beamforming_SNR_6dB_semPCA_1585102650.1108084.json\n",
      "Classificando com o  LinearDiscriminantAnalysis\n",
      "Salvando as informações num JSON: relatorio_teste_beamforming_SNR_6dB_semPCA_1585102650.3907695.json\n",
      "O teste com todos os classificadores foi finalizado\n",
      "Classificando com o  SVC\n",
      "Salvando as informações num JSON: relatorio_teste_semBeamforming_SNR_-3dB_semPCA_1585102651.2394364.json\n",
      "Classificando com o  SVC\n",
      "Salvando as informações num JSON: relatorio_teste_semBeamforming_SNR_-3dB_semPCA_1585102652.0030901.json\n",
      "Classificando com o  SVC\n",
      "Salvando as informações num JSON: relatorio_teste_semBeamforming_SNR_-3dB_semPCA_1585102652.7387068.json\n",
      "Classificando com o  SVC\n",
      "Salvando as informações num JSON: relatorio_teste_semBeamforming_SNR_-3dB_semPCA_1585102653.5466468.json\n",
      "Classificando com o  SVC\n",
      "Salvando as informações num JSON: relatorio_teste_semBeamforming_SNR_-3dB_semPCA_1585102654.3439496.json\n",
      "Classificando com o  SVC\n",
      "Salvando as informações num JSON: relatorio_teste_semBeamforming_SNR_-3dB_semPCA_1585102655.132009.json\n",
      "Classificando com o  SVC\n",
      "Salvando as informações num JSON: relatorio_teste_semBeamforming_SNR_-3dB_semPCA_1585102655.957568.json\n",
      "Classificando com o  SVC\n",
      "Salvando as informações num JSON: relatorio_teste_semBeamforming_SNR_-3dB_semPCA_1585102656.7869039.json\n",
      "Classificando com o  SVC\n",
      "Salvando as informações num JSON: relatorio_teste_semBeamforming_SNR_-3dB_semPCA_1585102657.5962682.json\n",
      "Classificando com o  SVC\n",
      "Salvando as informações num JSON: relatorio_teste_semBeamforming_SNR_-3dB_semPCA_1585102658.4069526.json\n",
      "Classificando com o  LinearDiscriminantAnalysis\n",
      "Salvando as informações num JSON: relatorio_teste_semBeamforming_SNR_-3dB_semPCA_1585102658.6618898.json\n",
      "Classificando com o  LinearDiscriminantAnalysis\n"
     ]
    },
    {
     "name": "stderr",
     "output_type": "stream",
     "text": [
      "/home/dimi/venvIC/lib/python3.7/site-packages/sklearn/metrics/classification.py:1437: UndefinedMetricWarning: Precision and F-score are ill-defined and being set to 0.0 in labels with no predicted samples.\n",
      "  'precision', 'predicted', average, warn_for)\n"
     ]
    },
    {
     "name": "stdout",
     "output_type": "stream",
     "text": [
      "Salvando as informações num JSON: relatorio_teste_semBeamforming_SNR_-3dB_semPCA_1585102658.9045622.json\n",
      "Classificando com o  LinearDiscriminantAnalysis\n",
      "Salvando as informações num JSON: relatorio_teste_semBeamforming_SNR_-3dB_semPCA_1585102659.2021873.json\n",
      "Classificando com o  LinearDiscriminantAnalysis\n",
      "Salvando as informações num JSON: relatorio_teste_semBeamforming_SNR_-3dB_semPCA_1585102659.5170496.json\n",
      "Classificando com o  LinearDiscriminantAnalysis\n",
      "Salvando as informações num JSON: relatorio_teste_semBeamforming_SNR_-3dB_semPCA_1585102659.8039572.json\n",
      "Classificando com o  LinearDiscriminantAnalysis\n",
      "Salvando as informações num JSON: relatorio_teste_semBeamforming_SNR_-3dB_semPCA_1585102660.0564616.json\n",
      "Classificando com o  LinearDiscriminantAnalysis\n",
      "Salvando as informações num JSON: relatorio_teste_semBeamforming_SNR_-3dB_semPCA_1585102660.3166142.json\n",
      "Classificando com o  LinearDiscriminantAnalysis\n",
      "Salvando as informações num JSON: relatorio_teste_semBeamforming_SNR_-3dB_semPCA_1585102660.5871053.json\n",
      "Classificando com o  LinearDiscriminantAnalysis\n",
      "Salvando as informações num JSON: relatorio_teste_semBeamforming_SNR_-3dB_semPCA_1585102660.9102952.json\n",
      "Classificando com o  LinearDiscriminantAnalysis\n",
      "Salvando as informações num JSON: relatorio_teste_semBeamforming_SNR_-3dB_semPCA_1585102661.3125331.json\n",
      "O teste com todos os classificadores foi finalizado\n",
      "Classificando com o  SVC\n",
      "Salvando as informações num JSON: relatorio_teste_GSC_SNR_-3dB_semPCA_1585102662.2039692.json\n",
      "Classificando com o  SVC\n",
      "Salvando as informações num JSON: relatorio_teste_GSC_SNR_-3dB_semPCA_1585102663.0120943.json\n",
      "Classificando com o  SVC\n",
      "Salvando as informações num JSON: relatorio_teste_GSC_SNR_-3dB_semPCA_1585102663.7831676.json\n",
      "Classificando com o  SVC\n"
     ]
    },
    {
     "name": "stderr",
     "output_type": "stream",
     "text": [
      "/home/dimi/venvIC/lib/python3.7/site-packages/sklearn/metrics/classification.py:1437: UndefinedMetricWarning: Precision and F-score are ill-defined and being set to 0.0 in labels with no predicted samples.\n",
      "  'precision', 'predicted', average, warn_for)\n"
     ]
    },
    {
     "name": "stdout",
     "output_type": "stream",
     "text": [
      "Salvando as informações num JSON: relatorio_teste_GSC_SNR_-3dB_semPCA_1585102664.586464.json\n",
      "Classificando com o  SVC\n"
     ]
    },
    {
     "name": "stderr",
     "output_type": "stream",
     "text": [
      "/home/dimi/venvIC/lib/python3.7/site-packages/sklearn/metrics/classification.py:1437: UndefinedMetricWarning: Precision and F-score are ill-defined and being set to 0.0 in labels with no predicted samples.\n",
      "  'precision', 'predicted', average, warn_for)\n"
     ]
    },
    {
     "name": "stdout",
     "output_type": "stream",
     "text": [
      "Salvando as informações num JSON: relatorio_teste_GSC_SNR_-3dB_semPCA_1585102665.4335403.json\n",
      "Classificando com o  SVC\n"
     ]
    },
    {
     "name": "stderr",
     "output_type": "stream",
     "text": [
      "/home/dimi/venvIC/lib/python3.7/site-packages/sklearn/metrics/classification.py:1437: UndefinedMetricWarning: Precision and F-score are ill-defined and being set to 0.0 in labels with no predicted samples.\n",
      "  'precision', 'predicted', average, warn_for)\n"
     ]
    },
    {
     "name": "stdout",
     "output_type": "stream",
     "text": [
      "Salvando as informações num JSON: relatorio_teste_GSC_SNR_-3dB_semPCA_1585102666.3831623.json\n",
      "Classificando com o  SVC\n",
      "Salvando as informações num JSON: relatorio_teste_GSC_SNR_-3dB_semPCA_1585102667.1456335.json\n",
      "Classificando com o  SVC\n",
      "Salvando as informações num JSON: relatorio_teste_GSC_SNR_-3dB_semPCA_1585102667.9404066.json\n",
      "Classificando com o  SVC\n",
      "Salvando as informações num JSON: relatorio_teste_GSC_SNR_-3dB_semPCA_1585102668.716368.json\n",
      "Classificando com o  SVC\n",
      "Salvando as informações num JSON: relatorio_teste_GSC_SNR_-3dB_semPCA_1585102669.5393195.json\n",
      "Classificando com o  LinearDiscriminantAnalysis\n",
      "Salvando as informações num JSON: relatorio_teste_GSC_SNR_-3dB_semPCA_1585102669.7878625.json\n",
      "Classificando com o  LinearDiscriminantAnalysis\n",
      "Salvando as informações num JSON: relatorio_teste_GSC_SNR_-3dB_semPCA_1585102670.0812116.json\n",
      "Classificando com o  LinearDiscriminantAnalysis\n",
      "Salvando as informações num JSON: relatorio_teste_GSC_SNR_-3dB_semPCA_1585102670.333848.json\n",
      "Classificando com o  LinearDiscriminantAnalysis\n",
      "Salvando as informações num JSON: relatorio_teste_GSC_SNR_-3dB_semPCA_1585102670.6052454.json\n",
      "Classificando com o  LinearDiscriminantAnalysis\n",
      "Salvando as informações num JSON: relatorio_teste_GSC_SNR_-3dB_semPCA_1585102670.8755264.json\n",
      "Classificando com o  LinearDiscriminantAnalysis\n"
     ]
    },
    {
     "name": "stderr",
     "output_type": "stream",
     "text": [
      "/home/dimi/venvIC/lib/python3.7/site-packages/sklearn/metrics/classification.py:1437: UndefinedMetricWarning: Precision and F-score are ill-defined and being set to 0.0 in labels with no predicted samples.\n",
      "  'precision', 'predicted', average, warn_for)\n"
     ]
    },
    {
     "name": "stdout",
     "output_type": "stream",
     "text": [
      "Salvando as informações num JSON: relatorio_teste_GSC_SNR_-3dB_semPCA_1585102671.1332612.json\n",
      "Classificando com o  LinearDiscriminantAnalysis\n",
      "Salvando as informações num JSON: relatorio_teste_GSC_SNR_-3dB_semPCA_1585102671.409802.json\n",
      "Classificando com o  LinearDiscriminantAnalysis\n",
      "Salvando as informações num JSON: relatorio_teste_GSC_SNR_-3dB_semPCA_1585102671.678093.json\n",
      "Classificando com o  LinearDiscriminantAnalysis\n",
      "Salvando as informações num JSON: relatorio_teste_GSC_SNR_-3dB_semPCA_1585102671.9390543.json\n",
      "Classificando com o  LinearDiscriminantAnalysis\n",
      "Salvando as informações num JSON: relatorio_teste_GSC_SNR_-3dB_semPCA_1585102672.191496.json\n",
      "O teste com todos os classificadores foi finalizado\n",
      "Classificando com o  SVC\n",
      "Salvando as informações num JSON: relatorio_teste_beamforming_SNR_-3dB_semPCA_1585102673.0566149.json\n",
      "Classificando com o  SVC\n",
      "Salvando as informações num JSON: relatorio_teste_beamforming_SNR_-3dB_semPCA_1585102673.8342679.json\n",
      "Classificando com o  SVC\n",
      "Salvando as informações num JSON: relatorio_teste_beamforming_SNR_-3dB_semPCA_1585102674.557731.json\n",
      "Classificando com o  SVC\n",
      "Salvando as informações num JSON: relatorio_teste_beamforming_SNR_-3dB_semPCA_1585102675.306039.json\n",
      "Classificando com o  SVC\n",
      "Salvando as informações num JSON: relatorio_teste_beamforming_SNR_-3dB_semPCA_1585102676.1196685.json\n",
      "Classificando com o  SVC\n",
      "Salvando as informações num JSON: relatorio_teste_beamforming_SNR_-3dB_semPCA_1585102677.1211786.json\n",
      "Classificando com o  SVC\n",
      "Salvando as informações num JSON: relatorio_teste_beamforming_SNR_-3dB_semPCA_1585102678.0262997.json\n",
      "Classificando com o  SVC\n",
      "Salvando as informações num JSON: relatorio_teste_beamforming_SNR_-3dB_semPCA_1585102678.9268713.json\n",
      "Classificando com o  SVC\n",
      "Salvando as informações num JSON: relatorio_teste_beamforming_SNR_-3dB_semPCA_1585102679.7959707.json\n",
      "Classificando com o  SVC\n",
      "Salvando as informações num JSON: relatorio_teste_beamforming_SNR_-3dB_semPCA_1585102680.6622326.json\n",
      "Classificando com o  LinearDiscriminantAnalysis\n",
      "Salvando as informações num JSON: relatorio_teste_beamforming_SNR_-3dB_semPCA_1585102680.9636703.json\n",
      "Classificando com o  LinearDiscriminantAnalysis\n"
     ]
    },
    {
     "name": "stderr",
     "output_type": "stream",
     "text": [
      "/home/dimi/venvIC/lib/python3.7/site-packages/sklearn/metrics/classification.py:1437: UndefinedMetricWarning: Precision and F-score are ill-defined and being set to 0.0 in labels with no predicted samples.\n",
      "  'precision', 'predicted', average, warn_for)\n"
     ]
    },
    {
     "name": "stdout",
     "output_type": "stream",
     "text": [
      "Salvando as informações num JSON: relatorio_teste_beamforming_SNR_-3dB_semPCA_1585102681.2695453.json\n",
      "Classificando com o  LinearDiscriminantAnalysis\n",
      "Salvando as informações num JSON: relatorio_teste_beamforming_SNR_-3dB_semPCA_1585102681.5779192.json\n",
      "Classificando com o  LinearDiscriminantAnalysis\n",
      "Salvando as informações num JSON: relatorio_teste_beamforming_SNR_-3dB_semPCA_1585102681.909246.json\n",
      "Classificando com o  LinearDiscriminantAnalysis\n",
      "Salvando as informações num JSON: relatorio_teste_beamforming_SNR_-3dB_semPCA_1585102682.3181438.json\n",
      "Classificando com o  LinearDiscriminantAnalysis\n",
      "Salvando as informações num JSON: relatorio_teste_beamforming_SNR_-3dB_semPCA_1585102682.6610997.json\n",
      "Classificando com o  LinearDiscriminantAnalysis\n",
      "Salvando as informações num JSON: relatorio_teste_beamforming_SNR_-3dB_semPCA_1585102682.9282799.json\n",
      "Classificando com o  LinearDiscriminantAnalysis\n",
      "Salvando as informações num JSON: relatorio_teste_beamforming_SNR_-3dB_semPCA_1585102683.1764586.json\n",
      "Classificando com o  LinearDiscriminantAnalysis\n",
      "Salvando as informações num JSON: relatorio_teste_beamforming_SNR_-3dB_semPCA_1585102683.5527658.json\n",
      "Classificando com o  LinearDiscriminantAnalysis\n",
      "Salvando as informações num JSON: relatorio_teste_beamforming_SNR_-3dB_semPCA_1585102683.878145.json\n",
      "O teste com todos os classificadores foi finalizado\n",
      "Classificando com o  SVC\n",
      "Salvando as informações num JSON: relatorio_teste_GSC_SNR_14dB_semPCA_1585102684.9943185.json\n",
      "Classificando com o  SVC\n",
      "Salvando as informações num JSON: relatorio_teste_GSC_SNR_14dB_semPCA_1585102685.9855614.json\n",
      "Classificando com o  SVC\n",
      "Salvando as informações num JSON: relatorio_teste_GSC_SNR_14dB_semPCA_1585102686.8943834.json\n",
      "Classificando com o  SVC\n",
      "Salvando as informações num JSON: relatorio_teste_GSC_SNR_14dB_semPCA_1585102687.8399088.json\n",
      "Classificando com o  SVC\n",
      "Salvando as informações num JSON: relatorio_teste_GSC_SNR_14dB_semPCA_1585102688.9350507.json\n",
      "Classificando com o  SVC\n",
      "Salvando as informações num JSON: relatorio_teste_GSC_SNR_14dB_semPCA_1585102690.0582864.json\n",
      "Classificando com o  SVC\n",
      "Salvando as informações num JSON: relatorio_teste_GSC_SNR_14dB_semPCA_1585102690.873968.json\n",
      "Classificando com o  SVC\n",
      "Salvando as informações num JSON: relatorio_teste_GSC_SNR_14dB_semPCA_1585102691.6480308.json\n",
      "Classificando com o  SVC\n",
      "Salvando as informações num JSON: relatorio_teste_GSC_SNR_14dB_semPCA_1585102692.4094021.json\n",
      "Classificando com o  SVC\n",
      "Salvando as informações num JSON: relatorio_teste_GSC_SNR_14dB_semPCA_1585102693.1535254.json\n",
      "Classificando com o  LinearDiscriminantAnalysis\n",
      "Salvando as informações num JSON: relatorio_teste_GSC_SNR_14dB_semPCA_1585102693.431023.json\n",
      "Classificando com o  LinearDiscriminantAnalysis\n",
      "Salvando as informações num JSON: relatorio_teste_GSC_SNR_14dB_semPCA_1585102693.691753.json\n",
      "Classificando com o  LinearDiscriminantAnalysis\n",
      "Salvando as informações num JSON: relatorio_teste_GSC_SNR_14dB_semPCA_1585102693.9519982.json\n",
      "Classificando com o  LinearDiscriminantAnalysis\n",
      "Salvando as informações num JSON: relatorio_teste_GSC_SNR_14dB_semPCA_1585102694.2031817.json\n",
      "Classificando com o  LinearDiscriminantAnalysis\n",
      "Salvando as informações num JSON: relatorio_teste_GSC_SNR_14dB_semPCA_1585102694.4789507.json\n",
      "Classificando com o  LinearDiscriminantAnalysis\n",
      "Salvando as informações num JSON: relatorio_teste_GSC_SNR_14dB_semPCA_1585102694.745951.json\n",
      "Classificando com o  LinearDiscriminantAnalysis\n",
      "Salvando as informações num JSON: relatorio_teste_GSC_SNR_14dB_semPCA_1585102694.9963284.json\n",
      "Classificando com o  LinearDiscriminantAnalysis\n",
      "Salvando as informações num JSON: relatorio_teste_GSC_SNR_14dB_semPCA_1585102695.2449136.json\n",
      "Classificando com o  LinearDiscriminantAnalysis\n",
      "Salvando as informações num JSON: relatorio_teste_GSC_SNR_14dB_semPCA_1585102695.540676.json\n",
      "Classificando com o  LinearDiscriminantAnalysis\n",
      "Salvando as informações num JSON: relatorio_teste_GSC_SNR_14dB_semPCA_1585102695.7936864.json\n",
      "O teste com todos os classificadores foi finalizado\n",
      "Classificando com o  SVC\n",
      "Salvando as informações num JSON: relatorio_teste_semBeamforming_SNR_14dB_semPCA_1585102696.681772.json\n",
      "Classificando com o  SVC\n",
      "Salvando as informações num JSON: relatorio_teste_semBeamforming_SNR_14dB_semPCA_1585102697.4537914.json\n",
      "Classificando com o  SVC\n",
      "Salvando as informações num JSON: relatorio_teste_semBeamforming_SNR_14dB_semPCA_1585102698.2186236.json\n",
      "Classificando com o  SVC\n",
      "Salvando as informações num JSON: relatorio_teste_semBeamforming_SNR_14dB_semPCA_1585102699.1996698.json\n",
      "Classificando com o  SVC\n",
      "Salvando as informações num JSON: relatorio_teste_semBeamforming_SNR_14dB_semPCA_1585102699.983587.json\n",
      "Classificando com o  SVC\n",
      "Salvando as informações num JSON: relatorio_teste_semBeamforming_SNR_14dB_semPCA_1585102700.7739165.json\n",
      "Classificando com o  SVC\n",
      "Salvando as informações num JSON: relatorio_teste_semBeamforming_SNR_14dB_semPCA_1585102701.6021159.json\n",
      "Classificando com o  SVC\n",
      "Salvando as informações num JSON: relatorio_teste_semBeamforming_SNR_14dB_semPCA_1585102702.548728.json\n",
      "Classificando com o  SVC\n",
      "Salvando as informações num JSON: relatorio_teste_semBeamforming_SNR_14dB_semPCA_1585102703.3459003.json\n",
      "Classificando com o  SVC\n",
      "Salvando as informações num JSON: relatorio_teste_semBeamforming_SNR_14dB_semPCA_1585102704.2186425.json\n",
      "Classificando com o  LinearDiscriminantAnalysis\n",
      "Salvando as informações num JSON: relatorio_teste_semBeamforming_SNR_14dB_semPCA_1585102704.5193622.json\n",
      "Classificando com o  LinearDiscriminantAnalysis\n",
      "Salvando as informações num JSON: relatorio_teste_semBeamforming_SNR_14dB_semPCA_1585102704.7969913.json\n",
      "Classificando com o  LinearDiscriminantAnalysis\n",
      "Salvando as informações num JSON: relatorio_teste_semBeamforming_SNR_14dB_semPCA_1585102705.075868.json\n",
      "Classificando com o  LinearDiscriminantAnalysis\n",
      "Salvando as informações num JSON: relatorio_teste_semBeamforming_SNR_14dB_semPCA_1585102705.350551.json\n",
      "Classificando com o  LinearDiscriminantAnalysis\n",
      "Salvando as informações num JSON: relatorio_teste_semBeamforming_SNR_14dB_semPCA_1585102705.6401134.json\n",
      "Classificando com o  LinearDiscriminantAnalysis\n",
      "Salvando as informações num JSON: relatorio_teste_semBeamforming_SNR_14dB_semPCA_1585102705.9445915.json\n",
      "Classificando com o  LinearDiscriminantAnalysis\n",
      "Salvando as informações num JSON: relatorio_teste_semBeamforming_SNR_14dB_semPCA_1585102706.2723122.json\n",
      "Classificando com o  LinearDiscriminantAnalysis\n",
      "Salvando as informações num JSON: relatorio_teste_semBeamforming_SNR_14dB_semPCA_1585102706.6360412.json\n",
      "Classificando com o  LinearDiscriminantAnalysis\n",
      "Salvando as informações num JSON: relatorio_teste_semBeamforming_SNR_14dB_semPCA_1585102707.1388793.json\n",
      "Classificando com o  LinearDiscriminantAnalysis\n",
      "Salvando as informações num JSON: relatorio_teste_semBeamforming_SNR_14dB_semPCA_1585102707.5304642.json\n",
      "O teste com todos os classificadores foi finalizado\n",
      "Classificando com o  SVC\n",
      "Salvando as informações num JSON: relatorio_teste_beamforming_SNR_14dB_semPCA_1585102708.4373128.json\n",
      "Classificando com o  SVC\n",
      "Salvando as informações num JSON: relatorio_teste_beamforming_SNR_14dB_semPCA_1585102709.2282522.json\n",
      "Classificando com o  SVC\n",
      "Salvando as informações num JSON: relatorio_teste_beamforming_SNR_14dB_semPCA_1585102709.9456344.json\n",
      "Classificando com o  SVC\n",
      "Salvando as informações num JSON: relatorio_teste_beamforming_SNR_14dB_semPCA_1585102710.7131739.json\n",
      "Classificando com o  SVC\n",
      "Salvando as informações num JSON: relatorio_teste_beamforming_SNR_14dB_semPCA_1585102711.4832752.json\n",
      "Classificando com o  SVC\n",
      "Salvando as informações num JSON: relatorio_teste_beamforming_SNR_14dB_semPCA_1585102712.3166661.json\n",
      "Classificando com o  SVC\n",
      "Salvando as informações num JSON: relatorio_teste_beamforming_SNR_14dB_semPCA_1585102713.3083527.json\n",
      "Classificando com o  SVC\n",
      "Salvando as informações num JSON: relatorio_teste_beamforming_SNR_14dB_semPCA_1585102714.1798723.json\n",
      "Classificando com o  SVC\n",
      "Salvando as informações num JSON: relatorio_teste_beamforming_SNR_14dB_semPCA_1585102715.0612895.json\n",
      "Classificando com o  SVC\n",
      "Salvando as informações num JSON: relatorio_teste_beamforming_SNR_14dB_semPCA_1585102715.8241303.json\n",
      "Classificando com o  LinearDiscriminantAnalysis\n"
     ]
    },
    {
     "name": "stdout",
     "output_type": "stream",
     "text": [
      "Salvando as informações num JSON: relatorio_teste_beamforming_SNR_14dB_semPCA_1585102716.074011.json\n",
      "Classificando com o  LinearDiscriminantAnalysis\n",
      "Salvando as informações num JSON: relatorio_teste_beamforming_SNR_14dB_semPCA_1585102716.334119.json\n",
      "Classificando com o  LinearDiscriminantAnalysis\n",
      "Salvando as informações num JSON: relatorio_teste_beamforming_SNR_14dB_semPCA_1585102716.6006646.json\n",
      "Classificando com o  LinearDiscriminantAnalysis\n",
      "Salvando as informações num JSON: relatorio_teste_beamforming_SNR_14dB_semPCA_1585102716.872693.json\n",
      "Classificando com o  LinearDiscriminantAnalysis\n",
      "Salvando as informações num JSON: relatorio_teste_beamforming_SNR_14dB_semPCA_1585102717.1448965.json\n",
      "Classificando com o  LinearDiscriminantAnalysis\n",
      "Salvando as informações num JSON: relatorio_teste_beamforming_SNR_14dB_semPCA_1585102717.441205.json\n",
      "Classificando com o  LinearDiscriminantAnalysis\n",
      "Salvando as informações num JSON: relatorio_teste_beamforming_SNR_14dB_semPCA_1585102717.6964793.json\n",
      "Classificando com o  LinearDiscriminantAnalysis\n",
      "Salvando as informações num JSON: relatorio_teste_beamforming_SNR_14dB_semPCA_1585102717.9710271.json\n",
      "Classificando com o  LinearDiscriminantAnalysis\n",
      "Salvando as informações num JSON: relatorio_teste_beamforming_SNR_14dB_semPCA_1585102718.254755.json\n",
      "Classificando com o  LinearDiscriminantAnalysis\n",
      "Salvando as informações num JSON: relatorio_teste_beamforming_SNR_14dB_semPCA_1585102718.5159304.json\n",
      "O teste com todos os classificadores foi finalizado\n",
      "Classificando com o  SVC\n",
      "Salvando as informações num JSON: relatorio_teste_beamforming_SNR_15dB_semPCA_1585102719.3714297.json\n",
      "Classificando com o  SVC\n",
      "Salvando as informações num JSON: relatorio_teste_beamforming_SNR_15dB_semPCA_1585102720.1280544.json\n",
      "Classificando com o  SVC\n",
      "Salvando as informações num JSON: relatorio_teste_beamforming_SNR_15dB_semPCA_1585102720.8382366.json\n",
      "Classificando com o  SVC\n",
      "Salvando as informações num JSON: relatorio_teste_beamforming_SNR_15dB_semPCA_1585102721.6023955.json\n",
      "Classificando com o  SVC\n",
      "Salvando as informações num JSON: relatorio_teste_beamforming_SNR_15dB_semPCA_1585102722.389633.json\n",
      "Classificando com o  SVC\n",
      "Salvando as informações num JSON: relatorio_teste_beamforming_SNR_15dB_semPCA_1585102723.1519864.json\n",
      "Classificando com o  SVC\n",
      "Salvando as informações num JSON: relatorio_teste_beamforming_SNR_15dB_semPCA_1585102723.9137394.json\n",
      "Classificando com o  SVC\n",
      "Salvando as informações num JSON: relatorio_teste_beamforming_SNR_15dB_semPCA_1585102724.7086902.json\n",
      "Classificando com o  SVC\n",
      "Salvando as informações num JSON: relatorio_teste_beamforming_SNR_15dB_semPCA_1585102725.473783.json\n",
      "Classificando com o  SVC\n",
      "Salvando as informações num JSON: relatorio_teste_beamforming_SNR_15dB_semPCA_1585102726.2472718.json\n",
      "Classificando com o  LinearDiscriminantAnalysis\n",
      "Salvando as informações num JSON: relatorio_teste_beamforming_SNR_15dB_semPCA_1585102726.5226605.json\n",
      "Classificando com o  LinearDiscriminantAnalysis\n",
      "Salvando as informações num JSON: relatorio_teste_beamforming_SNR_15dB_semPCA_1585102726.7694342.json\n",
      "Classificando com o  LinearDiscriminantAnalysis\n",
      "Salvando as informações num JSON: relatorio_teste_beamforming_SNR_15dB_semPCA_1585102727.0210333.json\n",
      "Classificando com o  LinearDiscriminantAnalysis\n",
      "Salvando as informações num JSON: relatorio_teste_beamforming_SNR_15dB_semPCA_1585102727.2598164.json\n",
      "Classificando com o  LinearDiscriminantAnalysis\n",
      "Salvando as informações num JSON: relatorio_teste_beamforming_SNR_15dB_semPCA_1585102727.5247324.json\n",
      "Classificando com o  LinearDiscriminantAnalysis\n",
      "Salvando as informações num JSON: relatorio_teste_beamforming_SNR_15dB_semPCA_1585102727.770505.json\n",
      "Classificando com o  LinearDiscriminantAnalysis\n",
      "Salvando as informações num JSON: relatorio_teste_beamforming_SNR_15dB_semPCA_1585102728.014304.json\n",
      "Classificando com o  LinearDiscriminantAnalysis\n",
      "Salvando as informações num JSON: relatorio_teste_beamforming_SNR_15dB_semPCA_1585102728.2614913.json\n",
      "Classificando com o  LinearDiscriminantAnalysis\n",
      "Salvando as informações num JSON: relatorio_teste_beamforming_SNR_15dB_semPCA_1585102728.5323212.json\n",
      "Classificando com o  LinearDiscriminantAnalysis\n",
      "Salvando as informações num JSON: relatorio_teste_beamforming_SNR_15dB_semPCA_1585102728.7716804.json\n",
      "O teste com todos os classificadores foi finalizado\n",
      "Classificando com o  SVC\n",
      "Salvando as informações num JSON: relatorio_teste_semBeamforming_SNR_15dB_semPCA_1585102729.6168835.json\n",
      "Classificando com o  SVC\n",
      "Salvando as informações num JSON: relatorio_teste_semBeamforming_SNR_15dB_semPCA_1585102730.3628097.json\n",
      "Classificando com o  SVC\n",
      "Salvando as informações num JSON: relatorio_teste_semBeamforming_SNR_15dB_semPCA_1585102731.0673964.json\n",
      "Classificando com o  SVC\n",
      "Salvando as informações num JSON: relatorio_teste_semBeamforming_SNR_15dB_semPCA_1585102731.810951.json\n",
      "Classificando com o  SVC\n",
      "Salvando as informações num JSON: relatorio_teste_semBeamforming_SNR_15dB_semPCA_1585102732.577518.json\n",
      "Classificando com o  SVC\n",
      "Salvando as informações num JSON: relatorio_teste_semBeamforming_SNR_15dB_semPCA_1585102733.3436203.json\n",
      "Classificando com o  SVC\n",
      "Salvando as informações num JSON: relatorio_teste_semBeamforming_SNR_15dB_semPCA_1585102734.063496.json\n",
      "Classificando com o  SVC\n",
      "Salvando as informações num JSON: relatorio_teste_semBeamforming_SNR_15dB_semPCA_1585102734.8068402.json\n",
      "Classificando com o  SVC\n",
      "Salvando as informações num JSON: relatorio_teste_semBeamforming_SNR_15dB_semPCA_1585102735.558608.json\n",
      "Classificando com o  SVC\n",
      "Salvando as informações num JSON: relatorio_teste_semBeamforming_SNR_15dB_semPCA_1585102736.298004.json\n",
      "Classificando com o  LinearDiscriminantAnalysis\n",
      "Salvando as informações num JSON: relatorio_teste_semBeamforming_SNR_15dB_semPCA_1585102736.5600626.json\n",
      "Classificando com o  LinearDiscriminantAnalysis\n",
      "Salvando as informações num JSON: relatorio_teste_semBeamforming_SNR_15dB_semPCA_1585102736.7998347.json\n",
      "Classificando com o  LinearDiscriminantAnalysis\n",
      "Salvando as informações num JSON: relatorio_teste_semBeamforming_SNR_15dB_semPCA_1585102737.0521991.json\n",
      "Classificando com o  LinearDiscriminantAnalysis\n",
      "Salvando as informações num JSON: relatorio_teste_semBeamforming_SNR_15dB_semPCA_1585102737.3005.json\n",
      "Classificando com o  LinearDiscriminantAnalysis\n",
      "Salvando as informações num JSON: relatorio_teste_semBeamforming_SNR_15dB_semPCA_1585102737.5600758.json\n",
      "Classificando com o  LinearDiscriminantAnalysis\n",
      "Salvando as informações num JSON: relatorio_teste_semBeamforming_SNR_15dB_semPCA_1585102737.801334.json\n",
      "Classificando com o  LinearDiscriminantAnalysis\n",
      "Salvando as informações num JSON: relatorio_teste_semBeamforming_SNR_15dB_semPCA_1585102738.0491052.json\n",
      "Classificando com o  LinearDiscriminantAnalysis\n",
      "Salvando as informações num JSON: relatorio_teste_semBeamforming_SNR_15dB_semPCA_1585102738.2977092.json\n",
      "Classificando com o  LinearDiscriminantAnalysis\n",
      "Salvando as informações num JSON: relatorio_teste_semBeamforming_SNR_15dB_semPCA_1585102738.5504072.json\n",
      "Classificando com o  LinearDiscriminantAnalysis\n",
      "Salvando as informações num JSON: relatorio_teste_semBeamforming_SNR_15dB_semPCA_1585102738.799146.json\n",
      "O teste com todos os classificadores foi finalizado\n",
      "Classificando com o  SVC\n",
      "Salvando as informações num JSON: relatorio_teste_GSC_SNR_15dB_semPCA_1585102739.648182.json\n",
      "Classificando com o  SVC\n",
      "Salvando as informações num JSON: relatorio_teste_GSC_SNR_15dB_semPCA_1585102740.4387743.json\n",
      "Classificando com o  SVC\n",
      "Salvando as informações num JSON: relatorio_teste_GSC_SNR_15dB_semPCA_1585102741.170537.json\n",
      "Classificando com o  SVC\n",
      "Salvando as informações num JSON: relatorio_teste_GSC_SNR_15dB_semPCA_1585102741.9709609.json\n",
      "Classificando com o  SVC\n",
      "Salvando as informações num JSON: relatorio_teste_GSC_SNR_15dB_semPCA_1585102742.7538748.json\n",
      "Classificando com o  SVC\n",
      "Salvando as informações num JSON: relatorio_teste_GSC_SNR_15dB_semPCA_1585102743.5302389.json\n",
      "Classificando com o  SVC\n",
      "Salvando as informações num JSON: relatorio_teste_GSC_SNR_15dB_semPCA_1585102744.2643533.json\n",
      "Classificando com o  SVC\n",
      "Salvando as informações num JSON: relatorio_teste_GSC_SNR_15dB_semPCA_1585102745.0178826.json\n",
      "Classificando com o  SVC\n",
      "Salvando as informações num JSON: relatorio_teste_GSC_SNR_15dB_semPCA_1585102745.811634.json\n",
      "Classificando com o  SVC\n"
     ]
    },
    {
     "name": "stdout",
     "output_type": "stream",
     "text": [
      "Salvando as informações num JSON: relatorio_teste_GSC_SNR_15dB_semPCA_1585102746.5744488.json\n",
      "Classificando com o  LinearDiscriminantAnalysis\n",
      "Salvando as informações num JSON: relatorio_teste_GSC_SNR_15dB_semPCA_1585102746.8224895.json\n",
      "Classificando com o  LinearDiscriminantAnalysis\n",
      "Salvando as informações num JSON: relatorio_teste_GSC_SNR_15dB_semPCA_1585102747.0764863.json\n",
      "Classificando com o  LinearDiscriminantAnalysis\n",
      "Salvando as informações num JSON: relatorio_teste_GSC_SNR_15dB_semPCA_1585102747.3337326.json\n",
      "Classificando com o  LinearDiscriminantAnalysis\n",
      "Salvando as informações num JSON: relatorio_teste_GSC_SNR_15dB_semPCA_1585102747.6183672.json\n",
      "Classificando com o  LinearDiscriminantAnalysis\n",
      "Salvando as informações num JSON: relatorio_teste_GSC_SNR_15dB_semPCA_1585102747.8859375.json\n",
      "Classificando com o  LinearDiscriminantAnalysis\n",
      "Salvando as informações num JSON: relatorio_teste_GSC_SNR_15dB_semPCA_1585102748.138157.json\n",
      "Classificando com o  LinearDiscriminantAnalysis\n",
      "Salvando as informações num JSON: relatorio_teste_GSC_SNR_15dB_semPCA_1585102748.4253948.json\n",
      "Classificando com o  LinearDiscriminantAnalysis\n",
      "Salvando as informações num JSON: relatorio_teste_GSC_SNR_15dB_semPCA_1585102748.6843975.json\n",
      "Classificando com o  LinearDiscriminantAnalysis\n",
      "Salvando as informações num JSON: relatorio_teste_GSC_SNR_15dB_semPCA_1585102748.9506724.json\n",
      "Classificando com o  LinearDiscriminantAnalysis\n",
      "Salvando as informações num JSON: relatorio_teste_GSC_SNR_15dB_semPCA_1585102749.2215724.json\n",
      "O teste com todos os classificadores foi finalizado\n",
      "Classificando com o  SVC\n",
      "Salvando as informações num JSON: relatorio_teste_GSC_SNR_5dB_semPCA_1585102750.079854.json\n",
      "Classificando com o  SVC\n",
      "Salvando as informações num JSON: relatorio_teste_GSC_SNR_5dB_semPCA_1585102750.9052715.json\n",
      "Classificando com o  SVC\n",
      "Salvando as informações num JSON: relatorio_teste_GSC_SNR_5dB_semPCA_1585102751.6596105.json\n",
      "Classificando com o  SVC\n",
      "Salvando as informações num JSON: relatorio_teste_GSC_SNR_5dB_semPCA_1585102752.6681418.json\n",
      "Classificando com o  SVC\n",
      "Salvando as informações num JSON: relatorio_teste_GSC_SNR_5dB_semPCA_1585102753.632582.json\n",
      "Classificando com o  SVC\n",
      "Salvando as informações num JSON: relatorio_teste_GSC_SNR_5dB_semPCA_1585102754.4271514.json\n",
      "Classificando com o  SVC\n",
      "Salvando as informações num JSON: relatorio_teste_GSC_SNR_5dB_semPCA_1585102755.2947855.json\n",
      "Classificando com o  SVC\n",
      "Salvando as informações num JSON: relatorio_teste_GSC_SNR_5dB_semPCA_1585102756.0708332.json\n",
      "Classificando com o  SVC\n",
      "Salvando as informações num JSON: relatorio_teste_GSC_SNR_5dB_semPCA_1585102756.8702197.json\n",
      "Classificando com o  SVC\n",
      "Salvando as informações num JSON: relatorio_teste_GSC_SNR_5dB_semPCA_1585102757.6098711.json\n",
      "Classificando com o  LinearDiscriminantAnalysis\n",
      "Salvando as informações num JSON: relatorio_teste_GSC_SNR_5dB_semPCA_1585102757.8957214.json\n",
      "Classificando com o  LinearDiscriminantAnalysis\n",
      "Salvando as informações num JSON: relatorio_teste_GSC_SNR_5dB_semPCA_1585102758.1772022.json\n",
      "Classificando com o  LinearDiscriminantAnalysis\n",
      "Salvando as informações num JSON: relatorio_teste_GSC_SNR_5dB_semPCA_1585102758.44586.json\n",
      "Classificando com o  LinearDiscriminantAnalysis\n",
      "Salvando as informações num JSON: relatorio_teste_GSC_SNR_5dB_semPCA_1585102758.8002625.json\n",
      "Classificando com o  LinearDiscriminantAnalysis\n",
      "Salvando as informações num JSON: relatorio_teste_GSC_SNR_5dB_semPCA_1585102759.047655.json\n",
      "Classificando com o  LinearDiscriminantAnalysis\n",
      "Salvando as informações num JSON: relatorio_teste_GSC_SNR_5dB_semPCA_1585102759.3043535.json\n",
      "Classificando com o  LinearDiscriminantAnalysis\n",
      "Salvando as informações num JSON: relatorio_teste_GSC_SNR_5dB_semPCA_1585102759.580887.json\n",
      "Classificando com o  LinearDiscriminantAnalysis\n",
      "Salvando as informações num JSON: relatorio_teste_GSC_SNR_5dB_semPCA_1585102759.8583088.json\n",
      "Classificando com o  LinearDiscriminantAnalysis\n",
      "Salvando as informações num JSON: relatorio_teste_GSC_SNR_5dB_semPCA_1585102760.0981476.json\n",
      "Classificando com o  LinearDiscriminantAnalysis\n",
      "Salvando as informações num JSON: relatorio_teste_GSC_SNR_5dB_semPCA_1585102760.367139.json\n",
      "O teste com todos os classificadores foi finalizado\n",
      "Classificando com o  SVC\n",
      "Salvando as informações num JSON: relatorio_teste_semBeamforming_SNR_5dB_semPCA_1585102761.2214615.json\n",
      "Classificando com o  SVC\n",
      "Salvando as informações num JSON: relatorio_teste_semBeamforming_SNR_5dB_semPCA_1585102762.4801226.json\n",
      "Classificando com o  SVC\n",
      "Salvando as informações num JSON: relatorio_teste_semBeamforming_SNR_5dB_semPCA_1585102763.3891888.json\n",
      "Classificando com o  SVC\n",
      "Salvando as informações num JSON: relatorio_teste_semBeamforming_SNR_5dB_semPCA_1585102764.18189.json\n",
      "Classificando com o  SVC\n",
      "Salvando as informações num JSON: relatorio_teste_semBeamforming_SNR_5dB_semPCA_1585102765.0222883.json\n",
      "Classificando com o  SVC\n",
      "Salvando as informações num JSON: relatorio_teste_semBeamforming_SNR_5dB_semPCA_1585102765.7735558.json\n",
      "Classificando com o  SVC\n",
      "Salvando as informações num JSON: relatorio_teste_semBeamforming_SNR_5dB_semPCA_1585102766.544787.json\n",
      "Classificando com o  SVC\n",
      "Salvando as informações num JSON: relatorio_teste_semBeamforming_SNR_5dB_semPCA_1585102767.3116293.json\n",
      "Classificando com o  SVC\n",
      "Salvando as informações num JSON: relatorio_teste_semBeamforming_SNR_5dB_semPCA_1585102768.046917.json\n",
      "Classificando com o  SVC\n",
      "Salvando as informações num JSON: relatorio_teste_semBeamforming_SNR_5dB_semPCA_1585102768.8110282.json\n",
      "Classificando com o  LinearDiscriminantAnalysis\n",
      "Salvando as informações num JSON: relatorio_teste_semBeamforming_SNR_5dB_semPCA_1585102769.0654538.json\n",
      "Classificando com o  LinearDiscriminantAnalysis\n"
     ]
    },
    {
     "name": "stderr",
     "output_type": "stream",
     "text": [
      "/home/dimi/venvIC/lib/python3.7/site-packages/sklearn/metrics/classification.py:1437: UndefinedMetricWarning: Precision and F-score are ill-defined and being set to 0.0 in labels with no predicted samples.\n",
      "  'precision', 'predicted', average, warn_for)\n"
     ]
    },
    {
     "name": "stdout",
     "output_type": "stream",
     "text": [
      "Salvando as informações num JSON: relatorio_teste_semBeamforming_SNR_5dB_semPCA_1585102769.3486755.json\n",
      "Classificando com o  LinearDiscriminantAnalysis\n",
      "Salvando as informações num JSON: relatorio_teste_semBeamforming_SNR_5dB_semPCA_1585102769.5988932.json\n",
      "Classificando com o  LinearDiscriminantAnalysis\n",
      "Salvando as informações num JSON: relatorio_teste_semBeamforming_SNR_5dB_semPCA_1585102769.853493.json\n",
      "Classificando com o  LinearDiscriminantAnalysis\n",
      "Salvando as informações num JSON: relatorio_teste_semBeamforming_SNR_5dB_semPCA_1585102770.1144044.json\n",
      "Classificando com o  LinearDiscriminantAnalysis\n"
     ]
    },
    {
     "name": "stderr",
     "output_type": "stream",
     "text": [
      "/home/dimi/venvIC/lib/python3.7/site-packages/sklearn/metrics/classification.py:1437: UndefinedMetricWarning: Precision and F-score are ill-defined and being set to 0.0 in labels with no predicted samples.\n",
      "  'precision', 'predicted', average, warn_for)\n"
     ]
    },
    {
     "name": "stdout",
     "output_type": "stream",
     "text": [
      "Salvando as informações num JSON: relatorio_teste_semBeamforming_SNR_5dB_semPCA_1585102770.3711836.json\n",
      "Classificando com o  LinearDiscriminantAnalysis\n",
      "Salvando as informações num JSON: relatorio_teste_semBeamforming_SNR_5dB_semPCA_1585102770.6319346.json\n",
      "Classificando com o  LinearDiscriminantAnalysis\n",
      "Salvando as informações num JSON: relatorio_teste_semBeamforming_SNR_5dB_semPCA_1585102770.9117558.json\n",
      "Classificando com o  LinearDiscriminantAnalysis\n",
      "Salvando as informações num JSON: relatorio_teste_semBeamforming_SNR_5dB_semPCA_1585102771.1888046.json\n",
      "Classificando com o  LinearDiscriminantAnalysis\n",
      "Salvando as informações num JSON: relatorio_teste_semBeamforming_SNR_5dB_semPCA_1585102771.4797328.json\n",
      "O teste com todos os classificadores foi finalizado\n",
      "Classificando com o  SVC\n",
      "Salvando as informações num JSON: relatorio_teste_beamforming_SNR_5dB_semPCA_1585102772.3127813.json\n",
      "Classificando com o  SVC\n",
      "Salvando as informações num JSON: relatorio_teste_beamforming_SNR_5dB_semPCA_1585102773.0949202.json\n",
      "Classificando com o  SVC\n",
      "Salvando as informações num JSON: relatorio_teste_beamforming_SNR_5dB_semPCA_1585102773.8338869.json\n",
      "Classificando com o  SVC\n",
      "Salvando as informações num JSON: relatorio_teste_beamforming_SNR_5dB_semPCA_1585102774.6331995.json\n",
      "Classificando com o  SVC\n",
      "Salvando as informações num JSON: relatorio_teste_beamforming_SNR_5dB_semPCA_1585102775.4082785.json\n",
      "Classificando com o  SVC\n",
      "Salvando as informações num JSON: relatorio_teste_beamforming_SNR_5dB_semPCA_1585102776.195954.json\n",
      "Classificando com o  SVC\n",
      "Salvando as informações num JSON: relatorio_teste_beamforming_SNR_5dB_semPCA_1585102777.0556319.json\n",
      "Classificando com o  SVC\n",
      "Salvando as informações num JSON: relatorio_teste_beamforming_SNR_5dB_semPCA_1585102777.8754337.json\n",
      "Classificando com o  SVC\n",
      "Salvando as informações num JSON: relatorio_teste_beamforming_SNR_5dB_semPCA_1585102778.6457481.json\n",
      "Classificando com o  SVC\n",
      "Salvando as informações num JSON: relatorio_teste_beamforming_SNR_5dB_semPCA_1585102779.4278982.json\n",
      "Classificando com o  LinearDiscriminantAnalysis\n",
      "Salvando as informações num JSON: relatorio_teste_beamforming_SNR_5dB_semPCA_1585102779.699275.json\n",
      "Classificando com o  LinearDiscriminantAnalysis\n",
      "Salvando as informações num JSON: relatorio_teste_beamforming_SNR_5dB_semPCA_1585102779.952782.json\n",
      "Classificando com o  LinearDiscriminantAnalysis\n",
      "Salvando as informações num JSON: relatorio_teste_beamforming_SNR_5dB_semPCA_1585102780.2399502.json\n",
      "Classificando com o  LinearDiscriminantAnalysis\n",
      "Salvando as informações num JSON: relatorio_teste_beamforming_SNR_5dB_semPCA_1585102780.530806.json\n",
      "Classificando com o  LinearDiscriminantAnalysis\n",
      "Salvando as informações num JSON: relatorio_teste_beamforming_SNR_5dB_semPCA_1585102780.8079102.json\n",
      "Classificando com o  LinearDiscriminantAnalysis\n",
      "Salvando as informações num JSON: relatorio_teste_beamforming_SNR_5dB_semPCA_1585102781.0716834.json\n",
      "Classificando com o  LinearDiscriminantAnalysis\n",
      "Salvando as informações num JSON: relatorio_teste_beamforming_SNR_5dB_semPCA_1585102781.332182.json\n",
      "Classificando com o  LinearDiscriminantAnalysis\n",
      "Salvando as informações num JSON: relatorio_teste_beamforming_SNR_5dB_semPCA_1585102781.605412.json\n",
      "Classificando com o  LinearDiscriminantAnalysis\n",
      "Salvando as informações num JSON: relatorio_teste_beamforming_SNR_5dB_semPCA_1585102781.8920565.json\n",
      "Classificando com o  LinearDiscriminantAnalysis\n",
      "Salvando as informações num JSON: relatorio_teste_beamforming_SNR_5dB_semPCA_1585102782.1391094.json\n",
      "O teste com todos os classificadores foi finalizado\n",
      "Classificando com o  SVC\n",
      "Salvando as informações num JSON: relatorio_teste_GSC_SNR_4dB_semPCA_1585102782.9748917.json\n",
      "Classificando com o  SVC\n",
      "Salvando as informações num JSON: relatorio_teste_GSC_SNR_4dB_semPCA_1585102783.7445319.json\n",
      "Classificando com o  SVC\n",
      "Salvando as informações num JSON: relatorio_teste_GSC_SNR_4dB_semPCA_1585102784.467528.json\n",
      "Classificando com o  SVC\n",
      "Salvando as informações num JSON: relatorio_teste_GSC_SNR_4dB_semPCA_1585102785.2401013.json\n",
      "Classificando com o  SVC\n",
      "Salvando as informações num JSON: relatorio_teste_GSC_SNR_4dB_semPCA_1585102786.0396864.json\n",
      "Classificando com o  SVC\n",
      "Salvando as informações num JSON: relatorio_teste_GSC_SNR_4dB_semPCA_1585102786.8437095.json\n",
      "Classificando com o  SVC\n",
      "Salvando as informações num JSON: relatorio_teste_GSC_SNR_4dB_semPCA_1585102787.6310558.json\n",
      "Classificando com o  SVC\n",
      "Salvando as informações num JSON: relatorio_teste_GSC_SNR_4dB_semPCA_1585102788.390685.json\n",
      "Classificando com o  SVC\n",
      "Salvando as informações num JSON: relatorio_teste_GSC_SNR_4dB_semPCA_1585102789.1320937.json\n",
      "Classificando com o  SVC\n",
      "Salvando as informações num JSON: relatorio_teste_GSC_SNR_4dB_semPCA_1585102789.876793.json\n",
      "Classificando com o  LinearDiscriminantAnalysis\n",
      "Salvando as informações num JSON: relatorio_teste_GSC_SNR_4dB_semPCA_1585102790.1395195.json\n",
      "Classificando com o  LinearDiscriminantAnalysis\n",
      "Salvando as informações num JSON: relatorio_teste_GSC_SNR_4dB_semPCA_1585102790.4011574.json\n",
      "Classificando com o  LinearDiscriminantAnalysis\n",
      "Salvando as informações num JSON: relatorio_teste_GSC_SNR_4dB_semPCA_1585102790.6440783.json\n",
      "Classificando com o  LinearDiscriminantAnalysis\n",
      "Salvando as informações num JSON: relatorio_teste_GSC_SNR_4dB_semPCA_1585102790.8936875.json\n",
      "Classificando com o  LinearDiscriminantAnalysis\n",
      "Salvando as informações num JSON: relatorio_teste_GSC_SNR_4dB_semPCA_1585102791.1381273.json\n",
      "Classificando com o  LinearDiscriminantAnalysis\n",
      "Salvando as informações num JSON: relatorio_teste_GSC_SNR_4dB_semPCA_1585102791.393347.json\n",
      "Classificando com o  LinearDiscriminantAnalysis\n",
      "Salvando as informações num JSON: relatorio_teste_GSC_SNR_4dB_semPCA_1585102791.6380339.json\n",
      "Classificando com o  LinearDiscriminantAnalysis\n",
      "Salvando as informações num JSON: relatorio_teste_GSC_SNR_4dB_semPCA_1585102791.8938215.json\n",
      "Classificando com o  LinearDiscriminantAnalysis\n",
      "Salvando as informações num JSON: relatorio_teste_GSC_SNR_4dB_semPCA_1585102792.1285355.json\n",
      "Classificando com o  LinearDiscriminantAnalysis\n",
      "Salvando as informações num JSON: relatorio_teste_GSC_SNR_4dB_semPCA_1585102792.3878636.json\n",
      "O teste com todos os classificadores foi finalizado\n",
      "Classificando com o  SVC\n",
      "Salvando as informações num JSON: relatorio_teste_semBeamforming_SNR_4dB_semPCA_1585102793.2230387.json\n",
      "Classificando com o  SVC\n",
      "Salvando as informações num JSON: relatorio_teste_semBeamforming_SNR_4dB_semPCA_1585102793.9968915.json\n",
      "Classificando com o  SVC\n",
      "Salvando as informações num JSON: relatorio_teste_semBeamforming_SNR_4dB_semPCA_1585102794.7044833.json\n",
      "Classificando com o  SVC\n",
      "Salvando as informações num JSON: relatorio_teste_semBeamforming_SNR_4dB_semPCA_1585102795.4499214.json\n",
      "Classificando com o  SVC\n",
      "Salvando as informações num JSON: relatorio_teste_semBeamforming_SNR_4dB_semPCA_1585102796.2120473.json\n",
      "Classificando com o  SVC\n",
      "Salvando as informações num JSON: relatorio_teste_semBeamforming_SNR_4dB_semPCA_1585102796.9828732.json\n",
      "Classificando com o  SVC\n",
      "Salvando as informações num JSON: relatorio_teste_semBeamforming_SNR_4dB_semPCA_1585102797.7348208.json\n",
      "Classificando com o  SVC\n",
      "Salvando as informações num JSON: relatorio_teste_semBeamforming_SNR_4dB_semPCA_1585102798.5483568.json\n",
      "Classificando com o  SVC\n",
      "Salvando as informações num JSON: relatorio_teste_semBeamforming_SNR_4dB_semPCA_1585102799.4257896.json\n",
      "Classificando com o  SVC\n",
      "Salvando as informações num JSON: relatorio_teste_semBeamforming_SNR_4dB_semPCA_1585102800.194292.json\n",
      "Classificando com o  LinearDiscriminantAnalysis\n",
      "Salvando as informações num JSON: relatorio_teste_semBeamforming_SNR_4dB_semPCA_1585102800.4765186.json\n",
      "Classificando com o  LinearDiscriminantAnalysis\n",
      "Salvando as informações num JSON: relatorio_teste_semBeamforming_SNR_4dB_semPCA_1585102800.7360501.json\n",
      "Classificando com o  LinearDiscriminantAnalysis\n",
      "Salvando as informações num JSON: relatorio_teste_semBeamforming_SNR_4dB_semPCA_1585102801.1199124.json\n",
      "Classificando com o  LinearDiscriminantAnalysis\n"
     ]
    },
    {
     "name": "stderr",
     "output_type": "stream",
     "text": [
      "/home/dimi/venvIC/lib/python3.7/site-packages/sklearn/metrics/classification.py:1437: UndefinedMetricWarning: Precision and F-score are ill-defined and being set to 0.0 in labels with no predicted samples.\n",
      "  'precision', 'predicted', average, warn_for)\n"
     ]
    },
    {
     "name": "stdout",
     "output_type": "stream",
     "text": [
      "Salvando as informações num JSON: relatorio_teste_semBeamforming_SNR_4dB_semPCA_1585102801.4223526.json\n",
      "Classificando com o  LinearDiscriminantAnalysis\n",
      "Salvando as informações num JSON: relatorio_teste_semBeamforming_SNR_4dB_semPCA_1585102801.716382.json\n",
      "Classificando com o  LinearDiscriminantAnalysis\n",
      "Salvando as informações num JSON: relatorio_teste_semBeamforming_SNR_4dB_semPCA_1585102802.0781066.json\n",
      "Classificando com o  LinearDiscriminantAnalysis\n",
      "Salvando as informações num JSON: relatorio_teste_semBeamforming_SNR_4dB_semPCA_1585102802.435463.json\n",
      "Classificando com o  LinearDiscriminantAnalysis\n"
     ]
    },
    {
     "name": "stderr",
     "output_type": "stream",
     "text": [
      "/home/dimi/venvIC/lib/python3.7/site-packages/sklearn/metrics/classification.py:1437: UndefinedMetricWarning: Precision and F-score are ill-defined and being set to 0.0 in labels with no predicted samples.\n",
      "  'precision', 'predicted', average, warn_for)\n"
     ]
    },
    {
     "name": "stdout",
     "output_type": "stream",
     "text": [
      "Salvando as informações num JSON: relatorio_teste_semBeamforming_SNR_4dB_semPCA_1585102802.6848655.json\n",
      "Classificando com o  LinearDiscriminantAnalysis\n",
      "Salvando as informações num JSON: relatorio_teste_semBeamforming_SNR_4dB_semPCA_1585102803.0236576.json\n",
      "Classificando com o  LinearDiscriminantAnalysis\n"
     ]
    },
    {
     "name": "stderr",
     "output_type": "stream",
     "text": [
      "/home/dimi/venvIC/lib/python3.7/site-packages/sklearn/metrics/classification.py:1437: UndefinedMetricWarning: Precision and F-score are ill-defined and being set to 0.0 in labels with no predicted samples.\n",
      "  'precision', 'predicted', average, warn_for)\n"
     ]
    },
    {
     "name": "stdout",
     "output_type": "stream",
     "text": [
      "Salvando as informações num JSON: relatorio_teste_semBeamforming_SNR_4dB_semPCA_1585102803.4431155.json\n",
      "O teste com todos os classificadores foi finalizado\n",
      "Classificando com o  SVC\n",
      "Salvando as informações num JSON: relatorio_teste_beamforming_SNR_4dB_semPCA_1585102804.3233733.json\n",
      "Classificando com o  SVC\n",
      "Salvando as informações num JSON: relatorio_teste_beamforming_SNR_4dB_semPCA_1585102805.1525817.json\n",
      "Classificando com o  SVC\n",
      "Salvando as informações num JSON: relatorio_teste_beamforming_SNR_4dB_semPCA_1585102805.8872964.json\n",
      "Classificando com o  SVC\n",
      "Salvando as informações num JSON: relatorio_teste_beamforming_SNR_4dB_semPCA_1585102806.6669965.json\n",
      "Classificando com o  SVC\n",
      "Salvando as informações num JSON: relatorio_teste_beamforming_SNR_4dB_semPCA_1585102807.495168.json\n",
      "Classificando com o  SVC\n",
      "Salvando as informações num JSON: relatorio_teste_beamforming_SNR_4dB_semPCA_1585102808.2904644.json\n",
      "Classificando com o  SVC\n",
      "Salvando as informações num JSON: relatorio_teste_beamforming_SNR_4dB_semPCA_1585102809.0783222.json\n",
      "Classificando com o  SVC\n",
      "Salvando as informações num JSON: relatorio_teste_beamforming_SNR_4dB_semPCA_1585102809.869094.json\n",
      "Classificando com o  SVC\n",
      "Salvando as informações num JSON: relatorio_teste_beamforming_SNR_4dB_semPCA_1585102810.6887355.json\n",
      "Classificando com o  SVC\n",
      "Salvando as informações num JSON: relatorio_teste_beamforming_SNR_4dB_semPCA_1585102811.5272896.json\n",
      "Classificando com o  LinearDiscriminantAnalysis\n",
      "Salvando as informações num JSON: relatorio_teste_beamforming_SNR_4dB_semPCA_1585102811.790731.json\n",
      "Classificando com o  LinearDiscriminantAnalysis\n",
      "Salvando as informações num JSON: relatorio_teste_beamforming_SNR_4dB_semPCA_1585102812.0412366.json\n",
      "Classificando com o  LinearDiscriminantAnalysis\n",
      "Salvando as informações num JSON: relatorio_teste_beamforming_SNR_4dB_semPCA_1585102812.2954123.json\n",
      "Classificando com o  LinearDiscriminantAnalysis\n",
      "Salvando as informações num JSON: relatorio_teste_beamforming_SNR_4dB_semPCA_1585102812.5628147.json\n",
      "Classificando com o  LinearDiscriminantAnalysis\n",
      "Salvando as informações num JSON: relatorio_teste_beamforming_SNR_4dB_semPCA_1585102812.807332.json\n",
      "Classificando com o  LinearDiscriminantAnalysis\n",
      "Salvando as informações num JSON: relatorio_teste_beamforming_SNR_4dB_semPCA_1585102813.06243.json\n",
      "Classificando com o  LinearDiscriminantAnalysis\n",
      "Salvando as informações num JSON: relatorio_teste_beamforming_SNR_4dB_semPCA_1585102813.3147936.json\n",
      "Classificando com o  LinearDiscriminantAnalysis\n",
      "Salvando as informações num JSON: relatorio_teste_beamforming_SNR_4dB_semPCA_1585102813.657922.json\n",
      "Classificando com o  LinearDiscriminantAnalysis\n",
      "Salvando as informações num JSON: relatorio_teste_beamforming_SNR_4dB_semPCA_1585102813.985617.json\n",
      "Classificando com o  LinearDiscriminantAnalysis\n",
      "Salvando as informações num JSON: relatorio_teste_beamforming_SNR_4dB_semPCA_1585102814.2934687.json\n",
      "O teste com todos os classificadores foi finalizado\n",
      "Classificando com o  SVC\n",
      "Salvando as informações num JSON: relatorio_teste_beamforming_SNR_10dB_semPCA_1585102815.2071922.json\n",
      "Classificando com o  SVC\n",
      "Salvando as informações num JSON: relatorio_teste_beamforming_SNR_10dB_semPCA_1585102816.0006707.json\n",
      "Classificando com o  SVC\n",
      "Salvando as informações num JSON: relatorio_teste_beamforming_SNR_10dB_semPCA_1585102816.7482243.json\n",
      "Classificando com o  SVC\n",
      "Salvando as informações num JSON: relatorio_teste_beamforming_SNR_10dB_semPCA_1585102817.523968.json\n",
      "Classificando com o  SVC\n",
      "Salvando as informações num JSON: relatorio_teste_beamforming_SNR_10dB_semPCA_1585102818.3443155.json\n",
      "Classificando com o  SVC\n",
      "Salvando as informações num JSON: relatorio_teste_beamforming_SNR_10dB_semPCA_1585102819.3068213.json\n",
      "Classificando com o  SVC\n",
      "Salvando as informações num JSON: relatorio_teste_beamforming_SNR_10dB_semPCA_1585102820.1608357.json\n",
      "Classificando com o  SVC\n",
      "Salvando as informações num JSON: relatorio_teste_beamforming_SNR_10dB_semPCA_1585102820.972403.json\n",
      "Classificando com o  SVC\n",
      "Salvando as informações num JSON: relatorio_teste_beamforming_SNR_10dB_semPCA_1585102821.862728.json\n",
      "Classificando com o  SVC\n",
      "Salvando as informações num JSON: relatorio_teste_beamforming_SNR_10dB_semPCA_1585102822.6154947.json\n",
      "Classificando com o  LinearDiscriminantAnalysis\n",
      "Salvando as informações num JSON: relatorio_teste_beamforming_SNR_10dB_semPCA_1585102822.9401948.json\n",
      "Classificando com o  LinearDiscriminantAnalysis\n",
      "Salvando as informações num JSON: relatorio_teste_beamforming_SNR_10dB_semPCA_1585102823.197445.json\n",
      "Classificando com o  LinearDiscriminantAnalysis\n",
      "Salvando as informações num JSON: relatorio_teste_beamforming_SNR_10dB_semPCA_1585102823.4653301.json\n",
      "Classificando com o  LinearDiscriminantAnalysis\n",
      "Salvando as informações num JSON: relatorio_teste_beamforming_SNR_10dB_semPCA_1585102823.7143056.json\n",
      "Classificando com o  LinearDiscriminantAnalysis\n",
      "Salvando as informações num JSON: relatorio_teste_beamforming_SNR_10dB_semPCA_1585102824.015729.json\n",
      "Classificando com o  LinearDiscriminantAnalysis\n",
      "Salvando as informações num JSON: relatorio_teste_beamforming_SNR_10dB_semPCA_1585102824.3232903.json\n",
      "Classificando com o  LinearDiscriminantAnalysis\n",
      "Salvando as informações num JSON: relatorio_teste_beamforming_SNR_10dB_semPCA_1585102824.5901713.json\n",
      "Classificando com o  LinearDiscriminantAnalysis\n",
      "Salvando as informações num JSON: relatorio_teste_beamforming_SNR_10dB_semPCA_1585102824.8439674.json\n",
      "Classificando com o  LinearDiscriminantAnalysis\n",
      "Salvando as informações num JSON: relatorio_teste_beamforming_SNR_10dB_semPCA_1585102825.0948966.json\n",
      "Classificando com o  LinearDiscriminantAnalysis\n",
      "Salvando as informações num JSON: relatorio_teste_beamforming_SNR_10dB_semPCA_1585102825.3621705.json\n",
      "O teste com todos os classificadores foi finalizado\n",
      "Classificando com o  SVC\n",
      "Salvando as informações num JSON: relatorio_teste_semBeamforming_SNR_10dB_semPCA_1585102826.2625327.json\n",
      "Classificando com o  SVC\n",
      "Salvando as informações num JSON: relatorio_teste_semBeamforming_SNR_10dB_semPCA_1585102827.0842698.json\n",
      "Classificando com o  SVC\n",
      "Salvando as informações num JSON: relatorio_teste_semBeamforming_SNR_10dB_semPCA_1585102827.9091945.json\n",
      "Classificando com o  SVC\n",
      "Salvando as informações num JSON: relatorio_teste_semBeamforming_SNR_10dB_semPCA_1585102828.7720616.json\n",
      "Classificando com o  SVC\n",
      "Salvando as informações num JSON: relatorio_teste_semBeamforming_SNR_10dB_semPCA_1585102829.668798.json\n",
      "Classificando com o  SVC\n",
      "Salvando as informações num JSON: relatorio_teste_semBeamforming_SNR_10dB_semPCA_1585102830.5297868.json\n",
      "Classificando com o  SVC\n",
      "Salvando as informações num JSON: relatorio_teste_semBeamforming_SNR_10dB_semPCA_1585102831.2516289.json\n",
      "Classificando com o  SVC\n",
      "Salvando as informações num JSON: relatorio_teste_semBeamforming_SNR_10dB_semPCA_1585102832.0064192.json\n",
      "Classificando com o  SVC\n",
      "Salvando as informações num JSON: relatorio_teste_semBeamforming_SNR_10dB_semPCA_1585102832.7638419.json\n",
      "Classificando com o  SVC\n",
      "Salvando as informações num JSON: relatorio_teste_semBeamforming_SNR_10dB_semPCA_1585102833.515367.json\n",
      "Classificando com o  LinearDiscriminantAnalysis\n",
      "Salvando as informações num JSON: relatorio_teste_semBeamforming_SNR_10dB_semPCA_1585102833.7684891.json\n",
      "Classificando com o  LinearDiscriminantAnalysis\n",
      "Salvando as informações num JSON: relatorio_teste_semBeamforming_SNR_10dB_semPCA_1585102834.0223973.json\n",
      "Classificando com o  LinearDiscriminantAnalysis\n",
      "Salvando as informações num JSON: relatorio_teste_semBeamforming_SNR_10dB_semPCA_1585102834.2692385.json\n",
      "Classificando com o  LinearDiscriminantAnalysis\n",
      "Salvando as informações num JSON: relatorio_teste_semBeamforming_SNR_10dB_semPCA_1585102834.5357108.json\n",
      "Classificando com o  LinearDiscriminantAnalysis\n",
      "Salvando as informações num JSON: relatorio_teste_semBeamforming_SNR_10dB_semPCA_1585102834.7881343.json\n",
      "Classificando com o  LinearDiscriminantAnalysis\n",
      "Salvando as informações num JSON: relatorio_teste_semBeamforming_SNR_10dB_semPCA_1585102835.0324528.json\n",
      "Classificando com o  LinearDiscriminantAnalysis\n",
      "Salvando as informações num JSON: relatorio_teste_semBeamforming_SNR_10dB_semPCA_1585102835.2896163.json\n",
      "Classificando com o  LinearDiscriminantAnalysis\n",
      "Salvando as informações num JSON: relatorio_teste_semBeamforming_SNR_10dB_semPCA_1585102835.5604374.json\n",
      "Classificando com o  LinearDiscriminantAnalysis\n"
     ]
    },
    {
     "name": "stdout",
     "output_type": "stream",
     "text": [
      "Salvando as informações num JSON: relatorio_teste_semBeamforming_SNR_10dB_semPCA_1585102835.8058288.json\n",
      "Classificando com o  LinearDiscriminantAnalysis\n",
      "Salvando as informações num JSON: relatorio_teste_semBeamforming_SNR_10dB_semPCA_1585102836.0671163.json\n",
      "O teste com todos os classificadores foi finalizado\n",
      "Classificando com o  SVC\n",
      "Salvando as informações num JSON: relatorio_teste_GSC_SNR_10dB_semPCA_1585102836.9321918.json\n",
      "Classificando com o  SVC\n",
      "Salvando as informações num JSON: relatorio_teste_GSC_SNR_10dB_semPCA_1585102837.6887827.json\n",
      "Classificando com o  SVC\n",
      "Salvando as informações num JSON: relatorio_teste_GSC_SNR_10dB_semPCA_1585102838.398075.json\n",
      "Classificando com o  SVC\n",
      "Salvando as informações num JSON: relatorio_teste_GSC_SNR_10dB_semPCA_1585102839.1369681.json\n",
      "Classificando com o  SVC\n",
      "Salvando as informações num JSON: relatorio_teste_GSC_SNR_10dB_semPCA_1585102839.8789198.json\n",
      "Classificando com o  SVC\n",
      "Salvando as informações num JSON: relatorio_teste_GSC_SNR_10dB_semPCA_1585102840.6251633.json\n",
      "Classificando com o  SVC\n",
      "Salvando as informações num JSON: relatorio_teste_GSC_SNR_10dB_semPCA_1585102841.3692517.json\n",
      "Classificando com o  SVC\n",
      "Salvando as informações num JSON: relatorio_teste_GSC_SNR_10dB_semPCA_1585102842.1082268.json\n",
      "Classificando com o  SVC\n",
      "Salvando as informações num JSON: relatorio_teste_GSC_SNR_10dB_semPCA_1585102842.8370628.json\n",
      "Classificando com o  SVC\n",
      "Salvando as informações num JSON: relatorio_teste_GSC_SNR_10dB_semPCA_1585102843.5670815.json\n",
      "Classificando com o  LinearDiscriminantAnalysis\n",
      "Salvando as informações num JSON: relatorio_teste_GSC_SNR_10dB_semPCA_1585102843.8103278.json\n",
      "Classificando com o  LinearDiscriminantAnalysis\n",
      "Salvando as informações num JSON: relatorio_teste_GSC_SNR_10dB_semPCA_1585102844.0547585.json\n",
      "Classificando com o  LinearDiscriminantAnalysis\n",
      "Salvando as informações num JSON: relatorio_teste_GSC_SNR_10dB_semPCA_1585102844.3010387.json\n",
      "Classificando com o  LinearDiscriminantAnalysis\n",
      "Salvando as informações num JSON: relatorio_teste_GSC_SNR_10dB_semPCA_1585102844.5554073.json\n",
      "Classificando com o  LinearDiscriminantAnalysis\n",
      "Salvando as informações num JSON: relatorio_teste_GSC_SNR_10dB_semPCA_1585102844.7991743.json\n",
      "Classificando com o  LinearDiscriminantAnalysis\n",
      "Salvando as informações num JSON: relatorio_teste_GSC_SNR_10dB_semPCA_1585102845.0482311.json\n",
      "Classificando com o  LinearDiscriminantAnalysis\n",
      "Salvando as informações num JSON: relatorio_teste_GSC_SNR_10dB_semPCA_1585102845.2929096.json\n",
      "Classificando com o  LinearDiscriminantAnalysis\n",
      "Salvando as informações num JSON: relatorio_teste_GSC_SNR_10dB_semPCA_1585102845.5516944.json\n",
      "Classificando com o  LinearDiscriminantAnalysis\n",
      "Salvando as informações num JSON: relatorio_teste_GSC_SNR_10dB_semPCA_1585102845.8184798.json\n",
      "Classificando com o  LinearDiscriminantAnalysis\n",
      "Salvando as informações num JSON: relatorio_teste_GSC_SNR_10dB_semPCA_1585102846.067348.json\n",
      "O teste com todos os classificadores foi finalizado\n",
      "Classificando com o  SVC\n",
      "Salvando as informações num JSON: relatorio_teste_semBeamforming_SNR_26dB_semPCA_1585102846.917821.json\n",
      "Classificando com o  SVC\n",
      "Salvando as informações num JSON: relatorio_teste_semBeamforming_SNR_26dB_semPCA_1585102847.6750562.json\n",
      "Classificando com o  SVC\n",
      "Salvando as informações num JSON: relatorio_teste_semBeamforming_SNR_26dB_semPCA_1585102848.3833518.json\n",
      "Classificando com o  SVC\n",
      "Salvando as informações num JSON: relatorio_teste_semBeamforming_SNR_26dB_semPCA_1585102849.1175096.json\n",
      "Classificando com o  SVC\n",
      "Salvando as informações num JSON: relatorio_teste_semBeamforming_SNR_26dB_semPCA_1585102849.8887925.json\n",
      "Classificando com o  SVC\n",
      "Salvando as informações num JSON: relatorio_teste_semBeamforming_SNR_26dB_semPCA_1585102850.656622.json\n",
      "Classificando com o  SVC\n",
      "Salvando as informações num JSON: relatorio_teste_semBeamforming_SNR_26dB_semPCA_1585102851.3927119.json\n",
      "Classificando com o  SVC\n",
      "Salvando as informações num JSON: relatorio_teste_semBeamforming_SNR_26dB_semPCA_1585102852.1481154.json\n",
      "Classificando com o  SVC\n",
      "Salvando as informações num JSON: relatorio_teste_semBeamforming_SNR_26dB_semPCA_1585102852.911171.json\n",
      "Classificando com o  SVC\n",
      "Salvando as informações num JSON: relatorio_teste_semBeamforming_SNR_26dB_semPCA_1585102853.6629164.json\n",
      "Classificando com o  LinearDiscriminantAnalysis\n",
      "Salvando as informações num JSON: relatorio_teste_semBeamforming_SNR_26dB_semPCA_1585102853.9099553.json\n",
      "Classificando com o  LinearDiscriminantAnalysis\n",
      "Salvando as informações num JSON: relatorio_teste_semBeamforming_SNR_26dB_semPCA_1585102854.160289.json\n",
      "Classificando com o  LinearDiscriminantAnalysis\n",
      "Salvando as informações num JSON: relatorio_teste_semBeamforming_SNR_26dB_semPCA_1585102854.4207785.json\n",
      "Classificando com o  LinearDiscriminantAnalysis\n",
      "Salvando as informações num JSON: relatorio_teste_semBeamforming_SNR_26dB_semPCA_1585102854.6630998.json\n",
      "Classificando com o  LinearDiscriminantAnalysis\n",
      "Salvando as informações num JSON: relatorio_teste_semBeamforming_SNR_26dB_semPCA_1585102854.9159822.json\n",
      "Classificando com o  LinearDiscriminantAnalysis\n",
      "Salvando as informações num JSON: relatorio_teste_semBeamforming_SNR_26dB_semPCA_1585102855.1664946.json\n",
      "Classificando com o  LinearDiscriminantAnalysis\n",
      "Salvando as informações num JSON: relatorio_teste_semBeamforming_SNR_26dB_semPCA_1585102855.4250877.json\n",
      "Classificando com o  LinearDiscriminantAnalysis\n",
      "Salvando as informações num JSON: relatorio_teste_semBeamforming_SNR_26dB_semPCA_1585102855.6735332.json\n",
      "Classificando com o  LinearDiscriminantAnalysis\n",
      "Salvando as informações num JSON: relatorio_teste_semBeamforming_SNR_26dB_semPCA_1585102855.9261906.json\n",
      "Classificando com o  LinearDiscriminantAnalysis\n",
      "Salvando as informações num JSON: relatorio_teste_semBeamforming_SNR_26dB_semPCA_1585102856.1706326.json\n",
      "O teste com todos os classificadores foi finalizado\n",
      "Classificando com o  SVC\n",
      "Salvando as informações num JSON: relatorio_teste_GSC_SNR_26dB_semPCA_1585102857.026175.json\n",
      "Classificando com o  SVC\n",
      "Salvando as informações num JSON: relatorio_teste_GSC_SNR_26dB_semPCA_1585102857.7795231.json\n",
      "Classificando com o  SVC\n",
      "Salvando as informações num JSON: relatorio_teste_GSC_SNR_26dB_semPCA_1585102858.4902248.json\n",
      "Classificando com o  SVC\n",
      "Salvando as informações num JSON: relatorio_teste_GSC_SNR_26dB_semPCA_1585102859.234328.json\n",
      "Classificando com o  SVC\n",
      "Salvando as informações num JSON: relatorio_teste_GSC_SNR_26dB_semPCA_1585102860.0330806.json\n",
      "Classificando com o  SVC\n",
      "Salvando as informações num JSON: relatorio_teste_GSC_SNR_26dB_semPCA_1585102861.0436397.json\n",
      "Classificando com o  SVC\n",
      "Salvando as informações num JSON: relatorio_teste_GSC_SNR_26dB_semPCA_1585102861.90559.json\n",
      "Classificando com o  SVC\n",
      "Salvando as informações num JSON: relatorio_teste_GSC_SNR_26dB_semPCA_1585102862.798187.json\n",
      "Classificando com o  SVC\n",
      "Salvando as informações num JSON: relatorio_teste_GSC_SNR_26dB_semPCA_1585102863.715411.json\n",
      "Classificando com o  SVC\n",
      "Salvando as informações num JSON: relatorio_teste_GSC_SNR_26dB_semPCA_1585102864.6966743.json\n",
      "Classificando com o  LinearDiscriminantAnalysis\n",
      "Salvando as informações num JSON: relatorio_teste_GSC_SNR_26dB_semPCA_1585102864.9686332.json\n",
      "Classificando com o  LinearDiscriminantAnalysis\n",
      "Salvando as informações num JSON: relatorio_teste_GSC_SNR_26dB_semPCA_1585102865.2325313.json\n",
      "Classificando com o  LinearDiscriminantAnalysis\n",
      "Salvando as informações num JSON: relatorio_teste_GSC_SNR_26dB_semPCA_1585102865.5223203.json\n",
      "Classificando com o  LinearDiscriminantAnalysis\n",
      "Salvando as informações num JSON: relatorio_teste_GSC_SNR_26dB_semPCA_1585102865.8346674.json\n",
      "Classificando com o  LinearDiscriminantAnalysis\n",
      "Salvando as informações num JSON: relatorio_teste_GSC_SNR_26dB_semPCA_1585102866.1340456.json\n",
      "Classificando com o  LinearDiscriminantAnalysis\n",
      "Salvando as informações num JSON: relatorio_teste_GSC_SNR_26dB_semPCA_1585102866.466493.json\n",
      "Classificando com o  LinearDiscriminantAnalysis\n",
      "Salvando as informações num JSON: relatorio_teste_GSC_SNR_26dB_semPCA_1585102866.7554848.json\n",
      "Classificando com o  LinearDiscriminantAnalysis\n",
      "Salvando as informações num JSON: relatorio_teste_GSC_SNR_26dB_semPCA_1585102867.0169213.json\n",
      "Classificando com o  LinearDiscriminantAnalysis\n"
     ]
    },
    {
     "name": "stdout",
     "output_type": "stream",
     "text": [
      "Salvando as informações num JSON: relatorio_teste_GSC_SNR_26dB_semPCA_1585102867.2995765.json\n",
      "Classificando com o  LinearDiscriminantAnalysis\n",
      "Salvando as informações num JSON: relatorio_teste_GSC_SNR_26dB_semPCA_1585102867.5905244.json\n",
      "O teste com todos os classificadores foi finalizado\n",
      "Classificando com o  SVC\n",
      "Salvando as informações num JSON: relatorio_teste_beamforming_SNR_26dB_semPCA_1585102868.4699862.json\n",
      "Classificando com o  SVC\n",
      "Salvando as informações num JSON: relatorio_teste_beamforming_SNR_26dB_semPCA_1585102869.2528307.json\n",
      "Classificando com o  SVC\n",
      "Salvando as informações num JSON: relatorio_teste_beamforming_SNR_26dB_semPCA_1585102870.1150317.json\n",
      "Classificando com o  SVC\n",
      "Salvando as informações num JSON: relatorio_teste_beamforming_SNR_26dB_semPCA_1585102870.9416726.json\n",
      "Classificando com o  SVC\n",
      "Salvando as informações num JSON: relatorio_teste_beamforming_SNR_26dB_semPCA_1585102871.7809155.json\n",
      "Classificando com o  SVC\n",
      "Salvando as informações num JSON: relatorio_teste_beamforming_SNR_26dB_semPCA_1585102872.6307642.json\n",
      "Classificando com o  SVC\n",
      "Salvando as informações num JSON: relatorio_teste_beamforming_SNR_26dB_semPCA_1585102873.4339244.json\n",
      "Classificando com o  SVC\n",
      "Salvando as informações num JSON: relatorio_teste_beamforming_SNR_26dB_semPCA_1585102874.2621489.json\n",
      "Classificando com o  SVC\n",
      "Salvando as informações num JSON: relatorio_teste_beamforming_SNR_26dB_semPCA_1585102875.0775716.json\n",
      "Classificando com o  SVC\n",
      "Salvando as informações num JSON: relatorio_teste_beamforming_SNR_26dB_semPCA_1585102875.9001887.json\n",
      "Classificando com o  LinearDiscriminantAnalysis\n",
      "Salvando as informações num JSON: relatorio_teste_beamforming_SNR_26dB_semPCA_1585102876.1505303.json\n",
      "Classificando com o  LinearDiscriminantAnalysis\n",
      "Salvando as informações num JSON: relatorio_teste_beamforming_SNR_26dB_semPCA_1585102876.567394.json\n",
      "Classificando com o  LinearDiscriminantAnalysis\n",
      "Salvando as informações num JSON: relatorio_teste_beamforming_SNR_26dB_semPCA_1585102876.8389094.json\n",
      "Classificando com o  LinearDiscriminantAnalysis\n",
      "Salvando as informações num JSON: relatorio_teste_beamforming_SNR_26dB_semPCA_1585102877.2823331.json\n",
      "Classificando com o  LinearDiscriminantAnalysis\n",
      "Salvando as informações num JSON: relatorio_teste_beamforming_SNR_26dB_semPCA_1585102877.5519292.json\n",
      "Classificando com o  LinearDiscriminantAnalysis\n",
      "Salvando as informações num JSON: relatorio_teste_beamforming_SNR_26dB_semPCA_1585102877.9509134.json\n",
      "Classificando com o  LinearDiscriminantAnalysis\n",
      "Salvando as informações num JSON: relatorio_teste_beamforming_SNR_26dB_semPCA_1585102878.2187152.json\n",
      "Classificando com o  LinearDiscriminantAnalysis\n",
      "Salvando as informações num JSON: relatorio_teste_beamforming_SNR_26dB_semPCA_1585102878.6495512.json\n",
      "Classificando com o  LinearDiscriminantAnalysis\n",
      "Salvando as informações num JSON: relatorio_teste_beamforming_SNR_26dB_semPCA_1585102878.9169788.json\n",
      "Classificando com o  LinearDiscriminantAnalysis\n",
      "Salvando as informações num JSON: relatorio_teste_beamforming_SNR_26dB_semPCA_1585102879.3208492.json\n",
      "O teste com todos os classificadores foi finalizado\n",
      "Classificando com o  SVC\n",
      "Salvando as informações num JSON: relatorio_teste_beamforming_SNR_22dB_semPCA_1585102880.2764702.json\n",
      "Classificando com o  SVC\n",
      "Salvando as informações num JSON: relatorio_teste_beamforming_SNR_22dB_semPCA_1585102881.1113799.json\n",
      "Classificando com o  SVC\n",
      "Salvando as informações num JSON: relatorio_teste_beamforming_SNR_22dB_semPCA_1585102881.8994656.json\n",
      "Classificando com o  SVC\n",
      "Salvando as informações num JSON: relatorio_teste_beamforming_SNR_22dB_semPCA_1585102882.7209675.json\n",
      "Classificando com o  SVC\n",
      "Salvando as informações num JSON: relatorio_teste_beamforming_SNR_22dB_semPCA_1585102883.5692859.json\n",
      "Classificando com o  SVC\n",
      "Salvando as informações num JSON: relatorio_teste_beamforming_SNR_22dB_semPCA_1585102884.4186983.json\n",
      "Classificando com o  SVC\n",
      "Salvando as informações num JSON: relatorio_teste_beamforming_SNR_22dB_semPCA_1585102885.2235339.json\n",
      "Classificando com o  SVC\n",
      "Salvando as informações num JSON: relatorio_teste_beamforming_SNR_22dB_semPCA_1585102886.0598478.json\n",
      "Classificando com o  SVC\n",
      "Salvando as informações num JSON: relatorio_teste_beamforming_SNR_22dB_semPCA_1585102886.8923955.json\n",
      "Classificando com o  SVC\n",
      "Salvando as informações num JSON: relatorio_teste_beamforming_SNR_22dB_semPCA_1585102887.7115848.json\n",
      "Classificando com o  LinearDiscriminantAnalysis\n",
      "Salvando as informações num JSON: relatorio_teste_beamforming_SNR_22dB_semPCA_1585102887.971731.json\n",
      "Classificando com o  LinearDiscriminantAnalysis\n",
      "Salvando as informações num JSON: relatorio_teste_beamforming_SNR_22dB_semPCA_1585102888.4022276.json\n",
      "Classificando com o  LinearDiscriminantAnalysis\n",
      "Salvando as informações num JSON: relatorio_teste_beamforming_SNR_22dB_semPCA_1585102888.6693046.json\n",
      "Classificando com o  LinearDiscriminantAnalysis\n",
      "Salvando as informações num JSON: relatorio_teste_beamforming_SNR_22dB_semPCA_1585102889.0996227.json\n",
      "Classificando com o  LinearDiscriminantAnalysis\n",
      "Salvando as informações num JSON: relatorio_teste_beamforming_SNR_22dB_semPCA_1585102889.3705075.json\n",
      "Classificando com o  LinearDiscriminantAnalysis\n",
      "Salvando as informações num JSON: relatorio_teste_beamforming_SNR_22dB_semPCA_1585102889.79598.json\n",
      "Classificando com o  LinearDiscriminantAnalysis\n",
      "Salvando as informações num JSON: relatorio_teste_beamforming_SNR_22dB_semPCA_1585102890.0541089.json\n",
      "Classificando com o  LinearDiscriminantAnalysis\n",
      "Salvando as informações num JSON: relatorio_teste_beamforming_SNR_22dB_semPCA_1585102890.4856355.json\n",
      "Classificando com o  LinearDiscriminantAnalysis\n",
      "Salvando as informações num JSON: relatorio_teste_beamforming_SNR_22dB_semPCA_1585102890.7409241.json\n",
      "Classificando com o  LinearDiscriminantAnalysis\n",
      "Salvando as informações num JSON: relatorio_teste_beamforming_SNR_22dB_semPCA_1585102891.1686335.json\n",
      "O teste com todos os classificadores foi finalizado\n",
      "Classificando com o  SVC\n",
      "Salvando as informações num JSON: relatorio_teste_GSC_SNR_22dB_semPCA_1585102892.1697583.json\n",
      "Classificando com o  SVC\n",
      "Salvando as informações num JSON: relatorio_teste_GSC_SNR_22dB_semPCA_1585102893.0048184.json\n",
      "Classificando com o  SVC\n",
      "Salvando as informações num JSON: relatorio_teste_GSC_SNR_22dB_semPCA_1585102893.7866695.json\n",
      "Classificando com o  SVC\n",
      "Salvando as informações num JSON: relatorio_teste_GSC_SNR_22dB_semPCA_1585102894.6158733.json\n",
      "Classificando com o  SVC\n",
      "Salvando as informações num JSON: relatorio_teste_GSC_SNR_22dB_semPCA_1585102895.4410777.json\n",
      "Classificando com o  SVC\n",
      "Salvando as informações num JSON: relatorio_teste_GSC_SNR_22dB_semPCA_1585102896.2915714.json\n",
      "Classificando com o  SVC\n",
      "Salvando as informações num JSON: relatorio_teste_GSC_SNR_22dB_semPCA_1585102897.183369.json\n",
      "Classificando com o  SVC\n",
      "Salvando as informações num JSON: relatorio_teste_GSC_SNR_22dB_semPCA_1585102898.0044844.json\n",
      "Classificando com o  SVC\n",
      "Salvando as informações num JSON: relatorio_teste_GSC_SNR_22dB_semPCA_1585102898.8535032.json\n",
      "Classificando com o  SVC\n",
      "Salvando as informações num JSON: relatorio_teste_GSC_SNR_22dB_semPCA_1585102899.674879.json\n",
      "Classificando com o  LinearDiscriminantAnalysis\n",
      "Salvando as informações num JSON: relatorio_teste_GSC_SNR_22dB_semPCA_1585102899.943842.json\n",
      "Classificando com o  LinearDiscriminantAnalysis\n",
      "Salvando as informações num JSON: relatorio_teste_GSC_SNR_22dB_semPCA_1585102900.3191807.json\n",
      "Classificando com o  LinearDiscriminantAnalysis\n",
      "Salvando as informações num JSON: relatorio_teste_GSC_SNR_22dB_semPCA_1585102900.6499295.json\n",
      "Classificando com o  LinearDiscriminantAnalysis\n",
      "Salvando as informações num JSON: relatorio_teste_GSC_SNR_22dB_semPCA_1585102900.9660916.json\n",
      "Classificando com o  LinearDiscriminantAnalysis\n",
      "Salvando as informações num JSON: relatorio_teste_GSC_SNR_22dB_semPCA_1585102901.35881.json\n",
      "Classificando com o  LinearDiscriminantAnalysis\n",
      "Salvando as informações num JSON: relatorio_teste_GSC_SNR_22dB_semPCA_1585102901.6342742.json\n",
      "Classificando com o  LinearDiscriminantAnalysis\n",
      "Salvando as informações num JSON: relatorio_teste_GSC_SNR_22dB_semPCA_1585102902.0407414.json\n",
      "Classificando com o  LinearDiscriminantAnalysis\n",
      "Salvando as informações num JSON: relatorio_teste_GSC_SNR_22dB_semPCA_1585102902.3205345.json\n",
      "Classificando com o  LinearDiscriminantAnalysis\n"
     ]
    },
    {
     "name": "stdout",
     "output_type": "stream",
     "text": [
      "Salvando as informações num JSON: relatorio_teste_GSC_SNR_22dB_semPCA_1585102902.7126677.json\n",
      "Classificando com o  LinearDiscriminantAnalysis\n",
      "Salvando as informações num JSON: relatorio_teste_GSC_SNR_22dB_semPCA_1585102902.9800026.json\n",
      "O teste com todos os classificadores foi finalizado\n",
      "Classificando com o  SVC\n",
      "Salvando as informações num JSON: relatorio_teste_semBeamforming_SNR_22dB_semPCA_1585102903.966031.json\n",
      "Classificando com o  SVC\n",
      "Salvando as informações num JSON: relatorio_teste_semBeamforming_SNR_22dB_semPCA_1585102904.7984812.json\n",
      "Classificando com o  SVC\n",
      "Salvando as informações num JSON: relatorio_teste_semBeamforming_SNR_22dB_semPCA_1585102905.5865254.json\n",
      "Classificando com o  SVC\n",
      "Salvando as informações num JSON: relatorio_teste_semBeamforming_SNR_22dB_semPCA_1585102906.4206262.json\n",
      "Classificando com o  SVC\n",
      "Salvando as informações num JSON: relatorio_teste_semBeamforming_SNR_22dB_semPCA_1585102907.2490785.json\n",
      "Classificando com o  SVC\n",
      "Salvando as informações num JSON: relatorio_teste_semBeamforming_SNR_22dB_semPCA_1585102908.0963247.json\n",
      "Classificando com o  SVC\n",
      "Salvando as informações num JSON: relatorio_teste_semBeamforming_SNR_22dB_semPCA_1585102908.9128287.json\n",
      "Classificando com o  SVC\n",
      "Salvando as informações num JSON: relatorio_teste_semBeamforming_SNR_22dB_semPCA_1585102909.742969.json\n",
      "Classificando com o  SVC\n",
      "Salvando as informações num JSON: relatorio_teste_semBeamforming_SNR_22dB_semPCA_1585102910.5753138.json\n",
      "Classificando com o  SVC\n",
      "Salvando as informações num JSON: relatorio_teste_semBeamforming_SNR_22dB_semPCA_1585102911.3944192.json\n",
      "Classificando com o  LinearDiscriminantAnalysis\n",
      "Salvando as informações num JSON: relatorio_teste_semBeamforming_SNR_22dB_semPCA_1585102911.6863256.json\n",
      "Classificando com o  LinearDiscriminantAnalysis\n",
      "Salvando as informações num JSON: relatorio_teste_semBeamforming_SNR_22dB_semPCA_1585102912.0691383.json\n",
      "Classificando com o  LinearDiscriminantAnalysis\n",
      "Salvando as informações num JSON: relatorio_teste_semBeamforming_SNR_22dB_semPCA_1585102912.3564394.json\n",
      "Classificando com o  LinearDiscriminantAnalysis\n",
      "Salvando as informações num JSON: relatorio_teste_semBeamforming_SNR_22dB_semPCA_1585102912.7603292.json\n",
      "Classificando com o  LinearDiscriminantAnalysis\n",
      "Salvando as informações num JSON: relatorio_teste_semBeamforming_SNR_22dB_semPCA_1585102913.040429.json\n",
      "Classificando com o  LinearDiscriminantAnalysis\n",
      "Salvando as informações num JSON: relatorio_teste_semBeamforming_SNR_22dB_semPCA_1585102913.4048266.json\n",
      "Classificando com o  LinearDiscriminantAnalysis\n",
      "Salvando as informações num JSON: relatorio_teste_semBeamforming_SNR_22dB_semPCA_1585102913.7067773.json\n",
      "Classificando com o  LinearDiscriminantAnalysis\n",
      "Salvando as informações num JSON: relatorio_teste_semBeamforming_SNR_22dB_semPCA_1585102914.0744574.json\n",
      "Classificando com o  LinearDiscriminantAnalysis\n",
      "Salvando as informações num JSON: relatorio_teste_semBeamforming_SNR_22dB_semPCA_1585102914.4052567.json\n",
      "Classificando com o  LinearDiscriminantAnalysis\n",
      "Salvando as informações num JSON: relatorio_teste_semBeamforming_SNR_22dB_semPCA_1585102914.7412202.json\n",
      "O teste com todos os classificadores foi finalizado\n",
      "Classificando com o  SVC\n"
     ]
    },
    {
     "name": "stderr",
     "output_type": "stream",
     "text": [
      "/home/dimi/venvIC/lib/python3.7/site-packages/sklearn/metrics/classification.py:1437: UndefinedMetricWarning: Precision and F-score are ill-defined and being set to 0.0 in labels with no predicted samples.\n",
      "  'precision', 'predicted', average, warn_for)\n"
     ]
    },
    {
     "name": "stdout",
     "output_type": "stream",
     "text": [
      "Salvando as informações num JSON: relatorio_teste_GSC_SNR_-10dB_semPCA_1585102915.665596.json\n",
      "Classificando com o  SVC\n"
     ]
    },
    {
     "name": "stderr",
     "output_type": "stream",
     "text": [
      "/home/dimi/venvIC/lib/python3.7/site-packages/sklearn/metrics/classification.py:1437: UndefinedMetricWarning: Precision and F-score are ill-defined and being set to 0.0 in labels with no predicted samples.\n",
      "  'precision', 'predicted', average, warn_for)\n"
     ]
    },
    {
     "name": "stdout",
     "output_type": "stream",
     "text": [
      "Salvando as informações num JSON: relatorio_teste_GSC_SNR_-10dB_semPCA_1585102916.5449681.json\n",
      "Classificando com o  SVC\n"
     ]
    },
    {
     "name": "stderr",
     "output_type": "stream",
     "text": [
      "/home/dimi/venvIC/lib/python3.7/site-packages/sklearn/metrics/classification.py:1437: UndefinedMetricWarning: Precision and F-score are ill-defined and being set to 0.0 in labels with no predicted samples.\n",
      "  'precision', 'predicted', average, warn_for)\n"
     ]
    },
    {
     "name": "stdout",
     "output_type": "stream",
     "text": [
      "Salvando as informações num JSON: relatorio_teste_GSC_SNR_-10dB_semPCA_1585102917.3916373.json\n",
      "Classificando com o  SVC\n"
     ]
    },
    {
     "name": "stderr",
     "output_type": "stream",
     "text": [
      "/home/dimi/venvIC/lib/python3.7/site-packages/sklearn/metrics/classification.py:1437: UndefinedMetricWarning: Precision and F-score are ill-defined and being set to 0.0 in labels with no predicted samples.\n",
      "  'precision', 'predicted', average, warn_for)\n"
     ]
    },
    {
     "name": "stdout",
     "output_type": "stream",
     "text": [
      "Salvando as informações num JSON: relatorio_teste_GSC_SNR_-10dB_semPCA_1585102918.2678456.json\n",
      "Classificando com o  SVC\n"
     ]
    },
    {
     "name": "stderr",
     "output_type": "stream",
     "text": [
      "/home/dimi/venvIC/lib/python3.7/site-packages/sklearn/metrics/classification.py:1437: UndefinedMetricWarning: Precision and F-score are ill-defined and being set to 0.0 in labels with no predicted samples.\n",
      "  'precision', 'predicted', average, warn_for)\n"
     ]
    },
    {
     "name": "stdout",
     "output_type": "stream",
     "text": [
      "Salvando as informações num JSON: relatorio_teste_GSC_SNR_-10dB_semPCA_1585102919.1467643.json\n",
      "Classificando com o  SVC\n"
     ]
    },
    {
     "name": "stderr",
     "output_type": "stream",
     "text": [
      "/home/dimi/venvIC/lib/python3.7/site-packages/sklearn/metrics/classification.py:1437: UndefinedMetricWarning: Precision and F-score are ill-defined and being set to 0.0 in labels with no predicted samples.\n",
      "  'precision', 'predicted', average, warn_for)\n"
     ]
    },
    {
     "name": "stdout",
     "output_type": "stream",
     "text": [
      "Salvando as informações num JSON: relatorio_teste_GSC_SNR_-10dB_semPCA_1585102920.0309224.json\n",
      "Classificando com o  SVC\n",
      "Salvando as informações num JSON: relatorio_teste_GSC_SNR_-10dB_semPCA_1585102920.802266.json\n",
      "Classificando com o  SVC\n"
     ]
    },
    {
     "name": "stderr",
     "output_type": "stream",
     "text": [
      "/home/dimi/venvIC/lib/python3.7/site-packages/sklearn/metrics/classification.py:1437: UndefinedMetricWarning: Precision and F-score are ill-defined and being set to 0.0 in labels with no predicted samples.\n",
      "  'precision', 'predicted', average, warn_for)\n"
     ]
    },
    {
     "name": "stdout",
     "output_type": "stream",
     "text": [
      "Salvando as informações num JSON: relatorio_teste_GSC_SNR_-10dB_semPCA_1585102921.5507445.json\n",
      "Classificando com o  SVC\n"
     ]
    },
    {
     "name": "stderr",
     "output_type": "stream",
     "text": [
      "/home/dimi/venvIC/lib/python3.7/site-packages/sklearn/metrics/classification.py:1437: UndefinedMetricWarning: Precision and F-score are ill-defined and being set to 0.0 in labels with no predicted samples.\n",
      "  'precision', 'predicted', average, warn_for)\n"
     ]
    },
    {
     "name": "stdout",
     "output_type": "stream",
     "text": [
      "Salvando as informações num JSON: relatorio_teste_GSC_SNR_-10dB_semPCA_1585102922.281554.json\n",
      "Classificando com o  SVC\n"
     ]
    },
    {
     "name": "stderr",
     "output_type": "stream",
     "text": [
      "/home/dimi/venvIC/lib/python3.7/site-packages/sklearn/metrics/classification.py:1437: UndefinedMetricWarning: Precision and F-score are ill-defined and being set to 0.0 in labels with no predicted samples.\n",
      "  'precision', 'predicted', average, warn_for)\n"
     ]
    },
    {
     "name": "stdout",
     "output_type": "stream",
     "text": [
      "Salvando as informações num JSON: relatorio_teste_GSC_SNR_-10dB_semPCA_1585102923.0531166.json\n",
      "Classificando com o  LinearDiscriminantAnalysis\n"
     ]
    },
    {
     "name": "stderr",
     "output_type": "stream",
     "text": [
      "/home/dimi/venvIC/lib/python3.7/site-packages/sklearn/metrics/classification.py:1437: UndefinedMetricWarning: Precision and F-score are ill-defined and being set to 0.0 in labels with no predicted samples.\n",
      "  'precision', 'predicted', average, warn_for)\n"
     ]
    },
    {
     "name": "stdout",
     "output_type": "stream",
     "text": [
      "Salvando as informações num JSON: relatorio_teste_GSC_SNR_-10dB_semPCA_1585102923.313186.json\n",
      "Classificando com o  LinearDiscriminantAnalysis\n"
     ]
    },
    {
     "name": "stderr",
     "output_type": "stream",
     "text": [
      "/home/dimi/venvIC/lib/python3.7/site-packages/sklearn/metrics/classification.py:1437: UndefinedMetricWarning: Precision and F-score are ill-defined and being set to 0.0 in labels with no predicted samples.\n",
      "  'precision', 'predicted', average, warn_for)\n"
     ]
    },
    {
     "name": "stdout",
     "output_type": "stream",
     "text": [
      "Salvando as informações num JSON: relatorio_teste_GSC_SNR_-10dB_semPCA_1585102923.5912163.json\n",
      "Classificando com o  LinearDiscriminantAnalysis\n"
     ]
    },
    {
     "name": "stderr",
     "output_type": "stream",
     "text": [
      "/home/dimi/venvIC/lib/python3.7/site-packages/sklearn/metrics/classification.py:1437: UndefinedMetricWarning: Precision and F-score are ill-defined and being set to 0.0 in labels with no predicted samples.\n",
      "  'precision', 'predicted', average, warn_for)\n"
     ]
    },
    {
     "name": "stdout",
     "output_type": "stream",
     "text": [
      "Salvando as informações num JSON: relatorio_teste_GSC_SNR_-10dB_semPCA_1585102923.8426101.json\n",
      "Classificando com o  LinearDiscriminantAnalysis\n"
     ]
    },
    {
     "name": "stderr",
     "output_type": "stream",
     "text": [
      "/home/dimi/venvIC/lib/python3.7/site-packages/sklearn/metrics/classification.py:1437: UndefinedMetricWarning: Precision and F-score are ill-defined and being set to 0.0 in labels with no predicted samples.\n",
      "  'precision', 'predicted', average, warn_for)\n"
     ]
    },
    {
     "name": "stdout",
     "output_type": "stream",
     "text": [
      "Salvando as informações num JSON: relatorio_teste_GSC_SNR_-10dB_semPCA_1585102924.1038876.json\n",
      "Classificando com o  LinearDiscriminantAnalysis\n"
     ]
    },
    {
     "name": "stderr",
     "output_type": "stream",
     "text": [
      "/home/dimi/venvIC/lib/python3.7/site-packages/sklearn/metrics/classification.py:1437: UndefinedMetricWarning: Precision and F-score are ill-defined and being set to 0.0 in labels with no predicted samples.\n",
      "  'precision', 'predicted', average, warn_for)\n"
     ]
    },
    {
     "name": "stdout",
     "output_type": "stream",
     "text": [
      "Salvando as informações num JSON: relatorio_teste_GSC_SNR_-10dB_semPCA_1585102924.3700697.json\n",
      "Classificando com o  LinearDiscriminantAnalysis\n"
     ]
    },
    {
     "name": "stderr",
     "output_type": "stream",
     "text": [
      "/home/dimi/venvIC/lib/python3.7/site-packages/sklearn/metrics/classification.py:1437: UndefinedMetricWarning: Precision and F-score are ill-defined and being set to 0.0 in labels with no predicted samples.\n",
      "  'precision', 'predicted', average, warn_for)\n"
     ]
    },
    {
     "name": "stdout",
     "output_type": "stream",
     "text": [
      "Salvando as informações num JSON: relatorio_teste_GSC_SNR_-10dB_semPCA_1585102924.629015.json\n",
      "Classificando com o  LinearDiscriminantAnalysis\n"
     ]
    },
    {
     "name": "stderr",
     "output_type": "stream",
     "text": [
      "/home/dimi/venvIC/lib/python3.7/site-packages/sklearn/metrics/classification.py:1437: UndefinedMetricWarning: Precision and F-score are ill-defined and being set to 0.0 in labels with no predicted samples.\n",
      "  'precision', 'predicted', average, warn_for)\n"
     ]
    },
    {
     "name": "stdout",
     "output_type": "stream",
     "text": [
      "Salvando as informações num JSON: relatorio_teste_GSC_SNR_-10dB_semPCA_1585102924.8912902.json\n",
      "Classificando com o  LinearDiscriminantAnalysis\n"
     ]
    },
    {
     "name": "stderr",
     "output_type": "stream",
     "text": [
      "/home/dimi/venvIC/lib/python3.7/site-packages/sklearn/metrics/classification.py:1437: UndefinedMetricWarning: Precision and F-score are ill-defined and being set to 0.0 in labels with no predicted samples.\n",
      "  'precision', 'predicted', average, warn_for)\n"
     ]
    },
    {
     "name": "stdout",
     "output_type": "stream",
     "text": [
      "Salvando as informações num JSON: relatorio_teste_GSC_SNR_-10dB_semPCA_1585102925.1522639.json\n",
      "Classificando com o  LinearDiscriminantAnalysis\n"
     ]
    },
    {
     "name": "stderr",
     "output_type": "stream",
     "text": [
      "/home/dimi/venvIC/lib/python3.7/site-packages/sklearn/metrics/classification.py:1437: UndefinedMetricWarning: Precision and F-score are ill-defined and being set to 0.0 in labels with no predicted samples.\n",
      "  'precision', 'predicted', average, warn_for)\n"
     ]
    },
    {
     "name": "stdout",
     "output_type": "stream",
     "text": [
      "Salvando as informações num JSON: relatorio_teste_GSC_SNR_-10dB_semPCA_1585102925.4261334.json\n",
      "Classificando com o  LinearDiscriminantAnalysis\n"
     ]
    },
    {
     "name": "stderr",
     "output_type": "stream",
     "text": [
      "/home/dimi/venvIC/lib/python3.7/site-packages/sklearn/metrics/classification.py:1437: UndefinedMetricWarning: Precision and F-score are ill-defined and being set to 0.0 in labels with no predicted samples.\n",
      "  'precision', 'predicted', average, warn_for)\n"
     ]
    },
    {
     "name": "stdout",
     "output_type": "stream",
     "text": [
      "Salvando as informações num JSON: relatorio_teste_GSC_SNR_-10dB_semPCA_1585102925.6852348.json\n",
      "O teste com todos os classificadores foi finalizado\n",
      "Classificando com o  SVC\n",
      "Salvando as informações num JSON: relatorio_teste_beamforming_SNR_-10dB_semPCA_1585102926.736022.json\n",
      "Classificando com o  SVC\n"
     ]
    },
    {
     "name": "stderr",
     "output_type": "stream",
     "text": [
      "/home/dimi/venvIC/lib/python3.7/site-packages/sklearn/metrics/classification.py:1437: UndefinedMetricWarning: Precision and F-score are ill-defined and being set to 0.0 in labels with no predicted samples.\n",
      "  'precision', 'predicted', average, warn_for)\n"
     ]
    },
    {
     "name": "stdout",
     "output_type": "stream",
     "text": [
      "Salvando as informações num JSON: relatorio_teste_beamforming_SNR_-10dB_semPCA_1585102928.1632283.json\n",
      "Classificando com o  SVC\n"
     ]
    },
    {
     "name": "stderr",
     "output_type": "stream",
     "text": [
      "/home/dimi/venvIC/lib/python3.7/site-packages/sklearn/metrics/classification.py:1437: UndefinedMetricWarning: Precision and F-score are ill-defined and being set to 0.0 in labels with no predicted samples.\n",
      "  'precision', 'predicted', average, warn_for)\n"
     ]
    },
    {
     "name": "stdout",
     "output_type": "stream",
     "text": [
      "Salvando as informações num JSON: relatorio_teste_beamforming_SNR_-10dB_semPCA_1585102929.1469488.json\n",
      "Classificando com o  SVC\n"
     ]
    },
    {
     "name": "stderr",
     "output_type": "stream",
     "text": [
      "/home/dimi/venvIC/lib/python3.7/site-packages/sklearn/metrics/classification.py:1437: UndefinedMetricWarning: Precision and F-score are ill-defined and being set to 0.0 in labels with no predicted samples.\n",
      "  'precision', 'predicted', average, warn_for)\n"
     ]
    },
    {
     "name": "stdout",
     "output_type": "stream",
     "text": [
      "Salvando as informações num JSON: relatorio_teste_beamforming_SNR_-10dB_semPCA_1585102930.0180514.json\n",
      "Classificando com o  SVC\n"
     ]
    },
    {
     "name": "stderr",
     "output_type": "stream",
     "text": [
      "/home/dimi/venvIC/lib/python3.7/site-packages/sklearn/metrics/classification.py:1437: UndefinedMetricWarning: Precision and F-score are ill-defined and being set to 0.0 in labels with no predicted samples.\n",
      "  'precision', 'predicted', average, warn_for)\n"
     ]
    },
    {
     "name": "stdout",
     "output_type": "stream",
     "text": [
      "Salvando as informações num JSON: relatorio_teste_beamforming_SNR_-10dB_semPCA_1585102930.9076052.json\n",
      "Classificando com o  SVC\n"
     ]
    },
    {
     "name": "stderr",
     "output_type": "stream",
     "text": [
      "/home/dimi/venvIC/lib/python3.7/site-packages/sklearn/metrics/classification.py:1437: UndefinedMetricWarning: Precision and F-score are ill-defined and being set to 0.0 in labels with no predicted samples.\n",
      "  'precision', 'predicted', average, warn_for)\n"
     ]
    },
    {
     "name": "stdout",
     "output_type": "stream",
     "text": [
      "Salvando as informações num JSON: relatorio_teste_beamforming_SNR_-10dB_semPCA_1585102931.7858782.json\n",
      "Classificando com o  SVC\n"
     ]
    },
    {
     "name": "stderr",
     "output_type": "stream",
     "text": [
      "/home/dimi/venvIC/lib/python3.7/site-packages/sklearn/metrics/classification.py:1437: UndefinedMetricWarning: Precision and F-score are ill-defined and being set to 0.0 in labels with no predicted samples.\n",
      "  'precision', 'predicted', average, warn_for)\n"
     ]
    },
    {
     "name": "stdout",
     "output_type": "stream",
     "text": [
      "Salvando as informações num JSON: relatorio_teste_beamforming_SNR_-10dB_semPCA_1585102932.865596.json\n",
      "Classificando com o  SVC\n"
     ]
    },
    {
     "name": "stderr",
     "output_type": "stream",
     "text": [
      "/home/dimi/venvIC/lib/python3.7/site-packages/sklearn/metrics/classification.py:1437: UndefinedMetricWarning: Precision and F-score are ill-defined and being set to 0.0 in labels with no predicted samples.\n",
      "  'precision', 'predicted', average, warn_for)\n"
     ]
    },
    {
     "name": "stdout",
     "output_type": "stream",
     "text": [
      "Salvando as informações num JSON: relatorio_teste_beamforming_SNR_-10dB_semPCA_1585102933.9266014.json\n",
      "Classificando com o  SVC\n"
     ]
    },
    {
     "name": "stderr",
     "output_type": "stream",
     "text": [
      "/home/dimi/venvIC/lib/python3.7/site-packages/sklearn/metrics/classification.py:1437: UndefinedMetricWarning: Precision and F-score are ill-defined and being set to 0.0 in labels with no predicted samples.\n",
      "  'precision', 'predicted', average, warn_for)\n"
     ]
    },
    {
     "name": "stdout",
     "output_type": "stream",
     "text": [
      "Salvando as informações num JSON: relatorio_teste_beamforming_SNR_-10dB_semPCA_1585102935.0325296.json\n",
      "Classificando com o  SVC\n"
     ]
    },
    {
     "name": "stderr",
     "output_type": "stream",
     "text": [
      "/home/dimi/venvIC/lib/python3.7/site-packages/sklearn/metrics/classification.py:1437: UndefinedMetricWarning: Precision and F-score are ill-defined and being set to 0.0 in labels with no predicted samples.\n",
      "  'precision', 'predicted', average, warn_for)\n"
     ]
    },
    {
     "name": "stdout",
     "output_type": "stream",
     "text": [
      "Salvando as informações num JSON: relatorio_teste_beamforming_SNR_-10dB_semPCA_1585102936.134545.json\n",
      "Classificando com o  LinearDiscriminantAnalysis\n"
     ]
    },
    {
     "name": "stderr",
     "output_type": "stream",
     "text": [
      "/home/dimi/venvIC/lib/python3.7/site-packages/sklearn/metrics/classification.py:1437: UndefinedMetricWarning: Precision and F-score are ill-defined and being set to 0.0 in labels with no predicted samples.\n",
      "  'precision', 'predicted', average, warn_for)\n"
     ]
    },
    {
     "name": "stdout",
     "output_type": "stream",
     "text": [
      "Salvando as informações num JSON: relatorio_teste_beamforming_SNR_-10dB_semPCA_1585102936.4223092.json\n",
      "Classificando com o  LinearDiscriminantAnalysis\n"
     ]
    },
    {
     "name": "stderr",
     "output_type": "stream",
     "text": [
      "/home/dimi/venvIC/lib/python3.7/site-packages/sklearn/metrics/classification.py:1437: UndefinedMetricWarning: Precision and F-score are ill-defined and being set to 0.0 in labels with no predicted samples.\n",
      "  'precision', 'predicted', average, warn_for)\n"
     ]
    },
    {
     "name": "stdout",
     "output_type": "stream",
     "text": [
      "Salvando as informações num JSON: relatorio_teste_beamforming_SNR_-10dB_semPCA_1585102936.6915817.json\n",
      "Classificando com o  LinearDiscriminantAnalysis\n"
     ]
    },
    {
     "name": "stderr",
     "output_type": "stream",
     "text": [
      "/home/dimi/venvIC/lib/python3.7/site-packages/sklearn/metrics/classification.py:1437: UndefinedMetricWarning: Precision and F-score are ill-defined and being set to 0.0 in labels with no predicted samples.\n",
      "  'precision', 'predicted', average, warn_for)\n"
     ]
    },
    {
     "name": "stdout",
     "output_type": "stream",
     "text": [
      "Salvando as informações num JSON: relatorio_teste_beamforming_SNR_-10dB_semPCA_1585102936.9647636.json\n",
      "Classificando com o  LinearDiscriminantAnalysis\n"
     ]
    },
    {
     "name": "stderr",
     "output_type": "stream",
     "text": [
      "/home/dimi/venvIC/lib/python3.7/site-packages/sklearn/metrics/classification.py:1437: UndefinedMetricWarning: Precision and F-score are ill-defined and being set to 0.0 in labels with no predicted samples.\n",
      "  'precision', 'predicted', average, warn_for)\n"
     ]
    },
    {
     "name": "stdout",
     "output_type": "stream",
     "text": [
      "Salvando as informações num JSON: relatorio_teste_beamforming_SNR_-10dB_semPCA_1585102937.2869215.json\n",
      "Classificando com o  LinearDiscriminantAnalysis\n"
     ]
    },
    {
     "name": "stderr",
     "output_type": "stream",
     "text": [
      "/home/dimi/venvIC/lib/python3.7/site-packages/sklearn/metrics/classification.py:1437: UndefinedMetricWarning: Precision and F-score are ill-defined and being set to 0.0 in labels with no predicted samples.\n",
      "  'precision', 'predicted', average, warn_for)\n"
     ]
    },
    {
     "name": "stdout",
     "output_type": "stream",
     "text": [
      "Salvando as informações num JSON: relatorio_teste_beamforming_SNR_-10dB_semPCA_1585102937.6445007.json\n",
      "Classificando com o  LinearDiscriminantAnalysis\n"
     ]
    },
    {
     "name": "stderr",
     "output_type": "stream",
     "text": [
      "/home/dimi/venvIC/lib/python3.7/site-packages/sklearn/metrics/classification.py:1437: UndefinedMetricWarning: Precision and F-score are ill-defined and being set to 0.0 in labels with no predicted samples.\n",
      "  'precision', 'predicted', average, warn_for)\n"
     ]
    },
    {
     "name": "stdout",
     "output_type": "stream",
     "text": [
      "Salvando as informações num JSON: relatorio_teste_beamforming_SNR_-10dB_semPCA_1585102937.9429758.json\n",
      "Classificando com o  LinearDiscriminantAnalysis\n"
     ]
    },
    {
     "name": "stderr",
     "output_type": "stream",
     "text": [
      "/home/dimi/venvIC/lib/python3.7/site-packages/sklearn/metrics/classification.py:1437: UndefinedMetricWarning: Precision and F-score are ill-defined and being set to 0.0 in labels with no predicted samples.\n",
      "  'precision', 'predicted', average, warn_for)\n"
     ]
    },
    {
     "name": "stdout",
     "output_type": "stream",
     "text": [
      "Salvando as informações num JSON: relatorio_teste_beamforming_SNR_-10dB_semPCA_1585102938.2332451.json\n",
      "Classificando com o  LinearDiscriminantAnalysis\n"
     ]
    },
    {
     "name": "stderr",
     "output_type": "stream",
     "text": [
      "/home/dimi/venvIC/lib/python3.7/site-packages/sklearn/metrics/classification.py:1437: UndefinedMetricWarning: Precision and F-score are ill-defined and being set to 0.0 in labels with no predicted samples.\n",
      "  'precision', 'predicted', average, warn_for)\n"
     ]
    },
    {
     "name": "stdout",
     "output_type": "stream",
     "text": [
      "Salvando as informações num JSON: relatorio_teste_beamforming_SNR_-10dB_semPCA_1585102938.5418622.json\n",
      "Classificando com o  LinearDiscriminantAnalysis\n"
     ]
    },
    {
     "name": "stderr",
     "output_type": "stream",
     "text": [
      "/home/dimi/venvIC/lib/python3.7/site-packages/sklearn/metrics/classification.py:1437: UndefinedMetricWarning: Precision and F-score are ill-defined and being set to 0.0 in labels with no predicted samples.\n",
      "  'precision', 'predicted', average, warn_for)\n"
     ]
    },
    {
     "name": "stdout",
     "output_type": "stream",
     "text": [
      "Salvando as informações num JSON: relatorio_teste_beamforming_SNR_-10dB_semPCA_1585102938.847115.json\n",
      "Classificando com o  LinearDiscriminantAnalysis\n"
     ]
    },
    {
     "name": "stderr",
     "output_type": "stream",
     "text": [
      "/home/dimi/venvIC/lib/python3.7/site-packages/sklearn/metrics/classification.py:1437: UndefinedMetricWarning: Precision and F-score are ill-defined and being set to 0.0 in labels with no predicted samples.\n",
      "  'precision', 'predicted', average, warn_for)\n"
     ]
    },
    {
     "name": "stdout",
     "output_type": "stream",
     "text": [
      "Salvando as informações num JSON: relatorio_teste_beamforming_SNR_-10dB_semPCA_1585102939.1073744.json\n",
      "O teste com todos os classificadores foi finalizado\n",
      "Classificando com o  SVC\n",
      "Salvando as informações num JSON: relatorio_teste_semBeamforming_SNR_-10dB_semPCA_1585102940.2630267.json\n",
      "Classificando com o  SVC\n"
     ]
    },
    {
     "name": "stderr",
     "output_type": "stream",
     "text": [
      "/home/dimi/venvIC/lib/python3.7/site-packages/sklearn/metrics/classification.py:1437: UndefinedMetricWarning: Precision and F-score are ill-defined and being set to 0.0 in labels with no predicted samples.\n",
      "  'precision', 'predicted', average, warn_for)\n"
     ]
    },
    {
     "name": "stdout",
     "output_type": "stream",
     "text": [
      "Salvando as informações num JSON: relatorio_teste_semBeamforming_SNR_-10dB_semPCA_1585102941.7760549.json\n",
      "Classificando com o  SVC\n"
     ]
    },
    {
     "name": "stderr",
     "output_type": "stream",
     "text": [
      "/home/dimi/venvIC/lib/python3.7/site-packages/sklearn/metrics/classification.py:1437: UndefinedMetricWarning: Precision and F-score are ill-defined and being set to 0.0 in labels with no predicted samples.\n",
      "  'precision', 'predicted', average, warn_for)\n"
     ]
    },
    {
     "name": "stdout",
     "output_type": "stream",
     "text": [
      "Salvando as informações num JSON: relatorio_teste_semBeamforming_SNR_-10dB_semPCA_1585102942.7408264.json\n",
      "Classificando com o  SVC\n"
     ]
    },
    {
     "name": "stderr",
     "output_type": "stream",
     "text": [
      "/home/dimi/venvIC/lib/python3.7/site-packages/sklearn/metrics/classification.py:1437: UndefinedMetricWarning: Precision and F-score are ill-defined and being set to 0.0 in labels with no predicted samples.\n",
      "  'precision', 'predicted', average, warn_for)\n"
     ]
    },
    {
     "name": "stdout",
     "output_type": "stream",
     "text": [
      "Salvando as informações num JSON: relatorio_teste_semBeamforming_SNR_-10dB_semPCA_1585102943.694087.json\n",
      "Classificando com o  SVC\n"
     ]
    },
    {
     "name": "stderr",
     "output_type": "stream",
     "text": [
      "/home/dimi/venvIC/lib/python3.7/site-packages/sklearn/metrics/classification.py:1437: UndefinedMetricWarning: Precision and F-score are ill-defined and being set to 0.0 in labels with no predicted samples.\n",
      "  'precision', 'predicted', average, warn_for)\n"
     ]
    },
    {
     "name": "stdout",
     "output_type": "stream",
     "text": [
      "Salvando as informações num JSON: relatorio_teste_semBeamforming_SNR_-10dB_semPCA_1585102944.6563244.json\n",
      "Classificando com o  SVC\n"
     ]
    },
    {
     "name": "stderr",
     "output_type": "stream",
     "text": [
      "/home/dimi/venvIC/lib/python3.7/site-packages/sklearn/metrics/classification.py:1437: UndefinedMetricWarning: Precision and F-score are ill-defined and being set to 0.0 in labels with no predicted samples.\n",
      "  'precision', 'predicted', average, warn_for)\n"
     ]
    },
    {
     "name": "stdout",
     "output_type": "stream",
     "text": [
      "Salvando as informações num JSON: relatorio_teste_semBeamforming_SNR_-10dB_semPCA_1585102945.583315.json\n",
      "Classificando com o  SVC\n"
     ]
    },
    {
     "name": "stderr",
     "output_type": "stream",
     "text": [
      "/home/dimi/venvIC/lib/python3.7/site-packages/sklearn/metrics/classification.py:1437: UndefinedMetricWarning: Precision and F-score are ill-defined and being set to 0.0 in labels with no predicted samples.\n",
      "  'precision', 'predicted', average, warn_for)\n"
     ]
    },
    {
     "name": "stdout",
     "output_type": "stream",
     "text": [
      "Salvando as informações num JSON: relatorio_teste_semBeamforming_SNR_-10dB_semPCA_1585102946.5184286.json\n",
      "Classificando com o  SVC\n"
     ]
    },
    {
     "name": "stderr",
     "output_type": "stream",
     "text": [
      "/home/dimi/venvIC/lib/python3.7/site-packages/sklearn/metrics/classification.py:1437: UndefinedMetricWarning: Precision and F-score are ill-defined and being set to 0.0 in labels with no predicted samples.\n",
      "  'precision', 'predicted', average, warn_for)\n"
     ]
    },
    {
     "name": "stdout",
     "output_type": "stream",
     "text": [
      "Salvando as informações num JSON: relatorio_teste_semBeamforming_SNR_-10dB_semPCA_1585102947.4361374.json\n",
      "Classificando com o  SVC\n"
     ]
    },
    {
     "name": "stderr",
     "output_type": "stream",
     "text": [
      "/home/dimi/venvIC/lib/python3.7/site-packages/sklearn/metrics/classification.py:1437: UndefinedMetricWarning: Precision and F-score are ill-defined and being set to 0.0 in labels with no predicted samples.\n",
      "  'precision', 'predicted', average, warn_for)\n"
     ]
    },
    {
     "name": "stdout",
     "output_type": "stream",
     "text": [
      "Salvando as informações num JSON: relatorio_teste_semBeamforming_SNR_-10dB_semPCA_1585102948.3433805.json\n",
      "Classificando com o  SVC\n"
     ]
    },
    {
     "name": "stderr",
     "output_type": "stream",
     "text": [
      "/home/dimi/venvIC/lib/python3.7/site-packages/sklearn/metrics/classification.py:1437: UndefinedMetricWarning: Precision and F-score are ill-defined and being set to 0.0 in labels with no predicted samples.\n",
      "  'precision', 'predicted', average, warn_for)\n"
     ]
    },
    {
     "name": "stdout",
     "output_type": "stream",
     "text": [
      "Salvando as informações num JSON: relatorio_teste_semBeamforming_SNR_-10dB_semPCA_1585102949.2359443.json\n",
      "Classificando com o  LinearDiscriminantAnalysis\n"
     ]
    },
    {
     "name": "stderr",
     "output_type": "stream",
     "text": [
      "/home/dimi/venvIC/lib/python3.7/site-packages/sklearn/metrics/classification.py:1437: UndefinedMetricWarning: Precision and F-score are ill-defined and being set to 0.0 in labels with no predicted samples.\n",
      "  'precision', 'predicted', average, warn_for)\n"
     ]
    },
    {
     "name": "stdout",
     "output_type": "stream",
     "text": [
      "Salvando as informações num JSON: relatorio_teste_semBeamforming_SNR_-10dB_semPCA_1585102949.5629258.json\n",
      "Classificando com o  LinearDiscriminantAnalysis\n"
     ]
    },
    {
     "name": "stderr",
     "output_type": "stream",
     "text": [
      "/home/dimi/venvIC/lib/python3.7/site-packages/sklearn/metrics/classification.py:1437: UndefinedMetricWarning: Precision and F-score are ill-defined and being set to 0.0 in labels with no predicted samples.\n",
      "  'precision', 'predicted', average, warn_for)\n"
     ]
    },
    {
     "name": "stdout",
     "output_type": "stream",
     "text": [
      "Salvando as informações num JSON: relatorio_teste_semBeamforming_SNR_-10dB_semPCA_1585102949.895739.json\n",
      "Classificando com o  LinearDiscriminantAnalysis\n"
     ]
    },
    {
     "name": "stderr",
     "output_type": "stream",
     "text": [
      "/home/dimi/venvIC/lib/python3.7/site-packages/sklearn/metrics/classification.py:1437: UndefinedMetricWarning: Precision and F-score are ill-defined and being set to 0.0 in labels with no predicted samples.\n",
      "  'precision', 'predicted', average, warn_for)\n"
     ]
    },
    {
     "name": "stdout",
     "output_type": "stream",
     "text": [
      "Salvando as informações num JSON: relatorio_teste_semBeamforming_SNR_-10dB_semPCA_1585102950.2361999.json\n",
      "Classificando com o  LinearDiscriminantAnalysis\n"
     ]
    },
    {
     "name": "stderr",
     "output_type": "stream",
     "text": [
      "/home/dimi/venvIC/lib/python3.7/site-packages/sklearn/metrics/classification.py:1437: UndefinedMetricWarning: Precision and F-score are ill-defined and being set to 0.0 in labels with no predicted samples.\n",
      "  'precision', 'predicted', average, warn_for)\n"
     ]
    },
    {
     "name": "stdout",
     "output_type": "stream",
     "text": [
      "Salvando as informações num JSON: relatorio_teste_semBeamforming_SNR_-10dB_semPCA_1585102950.5704165.json\n",
      "Classificando com o  LinearDiscriminantAnalysis\n"
     ]
    },
    {
     "name": "stderr",
     "output_type": "stream",
     "text": [
      "/home/dimi/venvIC/lib/python3.7/site-packages/sklearn/metrics/classification.py:1437: UndefinedMetricWarning: Precision and F-score are ill-defined and being set to 0.0 in labels with no predicted samples.\n",
      "  'precision', 'predicted', average, warn_for)\n"
     ]
    },
    {
     "name": "stdout",
     "output_type": "stream",
     "text": [
      "Salvando as informações num JSON: relatorio_teste_semBeamforming_SNR_-10dB_semPCA_1585102950.9010127.json\n",
      "Classificando com o  LinearDiscriminantAnalysis\n"
     ]
    },
    {
     "name": "stderr",
     "output_type": "stream",
     "text": [
      "/home/dimi/venvIC/lib/python3.7/site-packages/sklearn/metrics/classification.py:1437: UndefinedMetricWarning: Precision and F-score are ill-defined and being set to 0.0 in labels with no predicted samples.\n",
      "  'precision', 'predicted', average, warn_for)\n"
     ]
    },
    {
     "name": "stdout",
     "output_type": "stream",
     "text": [
      "Salvando as informações num JSON: relatorio_teste_semBeamforming_SNR_-10dB_semPCA_1585102951.2181807.json\n",
      "Classificando com o  LinearDiscriminantAnalysis\n"
     ]
    },
    {
     "name": "stderr",
     "output_type": "stream",
     "text": [
      "/home/dimi/venvIC/lib/python3.7/site-packages/sklearn/metrics/classification.py:1437: UndefinedMetricWarning: Precision and F-score are ill-defined and being set to 0.0 in labels with no predicted samples.\n",
      "  'precision', 'predicted', average, warn_for)\n"
     ]
    },
    {
     "name": "stdout",
     "output_type": "stream",
     "text": [
      "Salvando as informações num JSON: relatorio_teste_semBeamforming_SNR_-10dB_semPCA_1585102951.5509849.json\n",
      "Classificando com o  LinearDiscriminantAnalysis\n"
     ]
    },
    {
     "name": "stderr",
     "output_type": "stream",
     "text": [
      "/home/dimi/venvIC/lib/python3.7/site-packages/sklearn/metrics/classification.py:1437: UndefinedMetricWarning: Precision and F-score are ill-defined and being set to 0.0 in labels with no predicted samples.\n",
      "  'precision', 'predicted', average, warn_for)\n"
     ]
    },
    {
     "name": "stdout",
     "output_type": "stream",
     "text": [
      "Salvando as informações num JSON: relatorio_teste_semBeamforming_SNR_-10dB_semPCA_1585102951.8880043.json\n",
      "Classificando com o  LinearDiscriminantAnalysis\n"
     ]
    },
    {
     "name": "stderr",
     "output_type": "stream",
     "text": [
      "/home/dimi/venvIC/lib/python3.7/site-packages/sklearn/metrics/classification.py:1437: UndefinedMetricWarning: Precision and F-score are ill-defined and being set to 0.0 in labels with no predicted samples.\n",
      "  'precision', 'predicted', average, warn_for)\n"
     ]
    },
    {
     "name": "stdout",
     "output_type": "stream",
     "text": [
      "Salvando as informações num JSON: relatorio_teste_semBeamforming_SNR_-10dB_semPCA_1585102952.2183766.json\n",
      "Classificando com o  LinearDiscriminantAnalysis\n"
     ]
    },
    {
     "name": "stderr",
     "output_type": "stream",
     "text": [
      "/home/dimi/venvIC/lib/python3.7/site-packages/sklearn/metrics/classification.py:1437: UndefinedMetricWarning: Precision and F-score are ill-defined and being set to 0.0 in labels with no predicted samples.\n",
      "  'precision', 'predicted', average, warn_for)\n"
     ]
    },
    {
     "name": "stdout",
     "output_type": "stream",
     "text": [
      "Salvando as informações num JSON: relatorio_teste_semBeamforming_SNR_-10dB_semPCA_1585102952.5810792.json\n",
      "O teste com todos os classificadores foi finalizado\n",
      "Classificando com o  SVC\n",
      "Salvando as informações num JSON: relatorio_teste_beamforming_SNR_-5dB_semPCA_1585102953.6110244.json\n",
      "Classificando com o  SVC\n"
     ]
    },
    {
     "name": "stderr",
     "output_type": "stream",
     "text": [
      "/home/dimi/venvIC/lib/python3.7/site-packages/sklearn/metrics/classification.py:1437: UndefinedMetricWarning: Precision and F-score are ill-defined and being set to 0.0 in labels with no predicted samples.\n",
      "  'precision', 'predicted', average, warn_for)\n"
     ]
    },
    {
     "name": "stdout",
     "output_type": "stream",
     "text": [
      "Salvando as informações num JSON: relatorio_teste_beamforming_SNR_-5dB_semPCA_1585102954.597449.json\n",
      "Classificando com o  SVC\n",
      "Salvando as informações num JSON: relatorio_teste_beamforming_SNR_-5dB_semPCA_1585102955.5201273.json\n",
      "Classificando com o  SVC\n",
      "Salvando as informações num JSON: relatorio_teste_beamforming_SNR_-5dB_semPCA_1585102956.4720142.json\n",
      "Classificando com o  SVC\n"
     ]
    },
    {
     "name": "stderr",
     "output_type": "stream",
     "text": [
      "/home/dimi/venvIC/lib/python3.7/site-packages/sklearn/metrics/classification.py:1437: UndefinedMetricWarning: Precision and F-score are ill-defined and being set to 0.0 in labels with no predicted samples.\n",
      "  'precision', 'predicted', average, warn_for)\n"
     ]
    },
    {
     "name": "stdout",
     "output_type": "stream",
     "text": [
      "Salvando as informações num JSON: relatorio_teste_beamforming_SNR_-5dB_semPCA_1585102957.433517.json\n",
      "Classificando com o  SVC\n"
     ]
    },
    {
     "name": "stderr",
     "output_type": "stream",
     "text": [
      "/home/dimi/venvIC/lib/python3.7/site-packages/sklearn/metrics/classification.py:1437: UndefinedMetricWarning: Precision and F-score are ill-defined and being set to 0.0 in labels with no predicted samples.\n",
      "  'precision', 'predicted', average, warn_for)\n"
     ]
    },
    {
     "name": "stdout",
     "output_type": "stream",
     "text": [
      "Salvando as informações num JSON: relatorio_teste_beamforming_SNR_-5dB_semPCA_1585102958.3466184.json\n",
      "Classificando com o  SVC\n",
      "Salvando as informações num JSON: relatorio_teste_beamforming_SNR_-5dB_semPCA_1585102959.2782872.json\n",
      "Classificando com o  SVC\n",
      "Salvando as informações num JSON: relatorio_teste_beamforming_SNR_-5dB_semPCA_1585102960.1982212.json\n",
      "Classificando com o  SVC\n",
      "Salvando as informações num JSON: relatorio_teste_beamforming_SNR_-5dB_semPCA_1585102961.1012428.json\n",
      "Classificando com o  SVC\n",
      "Salvando as informações num JSON: relatorio_teste_beamforming_SNR_-5dB_semPCA_1585102962.000693.json\n",
      "Classificando com o  LinearDiscriminantAnalysis\n",
      "Salvando as informações num JSON: relatorio_teste_beamforming_SNR_-5dB_semPCA_1585102962.3401444.json\n",
      "Classificando com o  LinearDiscriminantAnalysis\n",
      "Salvando as informações num JSON: relatorio_teste_beamforming_SNR_-5dB_semPCA_1585102962.676966.json\n",
      "Classificando com o  LinearDiscriminantAnalysis\n",
      "Salvando as informações num JSON: relatorio_teste_beamforming_SNR_-5dB_semPCA_1585102963.1023066.json\n",
      "Classificando com o  LinearDiscriminantAnalysis\n",
      "Salvando as informações num JSON: relatorio_teste_beamforming_SNR_-5dB_semPCA_1585102963.4441056.json\n",
      "Classificando com o  LinearDiscriminantAnalysis\n",
      "Salvando as informações num JSON: relatorio_teste_beamforming_SNR_-5dB_semPCA_1585102963.77515.json\n",
      "Classificando com o  LinearDiscriminantAnalysis\n"
     ]
    },
    {
     "name": "stderr",
     "output_type": "stream",
     "text": [
      "/home/dimi/venvIC/lib/python3.7/site-packages/sklearn/metrics/classification.py:1437: UndefinedMetricWarning: Precision and F-score are ill-defined and being set to 0.0 in labels with no predicted samples.\n",
      "  'precision', 'predicted', average, warn_for)\n"
     ]
    },
    {
     "name": "stdout",
     "output_type": "stream",
     "text": [
      "Salvando as informações num JSON: relatorio_teste_beamforming_SNR_-5dB_semPCA_1585102964.105887.json\n",
      "Classificando com o  LinearDiscriminantAnalysis\n",
      "Salvando as informações num JSON: relatorio_teste_beamforming_SNR_-5dB_semPCA_1585102964.4482617.json\n",
      "Classificando com o  LinearDiscriminantAnalysis\n"
     ]
    },
    {
     "name": "stderr",
     "output_type": "stream",
     "text": [
      "/home/dimi/venvIC/lib/python3.7/site-packages/sklearn/metrics/classification.py:1437: UndefinedMetricWarning: Precision and F-score are ill-defined and being set to 0.0 in labels with no predicted samples.\n",
      "  'precision', 'predicted', average, warn_for)\n"
     ]
    },
    {
     "name": "stdout",
     "output_type": "stream",
     "text": [
      "Salvando as informações num JSON: relatorio_teste_beamforming_SNR_-5dB_semPCA_1585102964.781222.json\n",
      "Classificando com o  LinearDiscriminantAnalysis\n",
      "Salvando as informações num JSON: relatorio_teste_beamforming_SNR_-5dB_semPCA_1585102965.1194596.json\n",
      "Classificando com o  LinearDiscriminantAnalysis\n",
      "Salvando as informações num JSON: relatorio_teste_beamforming_SNR_-5dB_semPCA_1585102965.446344.json\n",
      "O teste com todos os classificadores foi finalizado\n",
      "Classificando com o  SVC\n",
      "Salvando as informações num JSON: relatorio_teste_GSC_SNR_-5dB_semPCA_1585102966.5033975.json\n",
      "Classificando com o  SVC\n"
     ]
    },
    {
     "name": "stderr",
     "output_type": "stream",
     "text": [
      "/home/dimi/venvIC/lib/python3.7/site-packages/sklearn/metrics/classification.py:1437: UndefinedMetricWarning: Precision and F-score are ill-defined and being set to 0.0 in labels with no predicted samples.\n",
      "  'precision', 'predicted', average, warn_for)\n"
     ]
    },
    {
     "name": "stdout",
     "output_type": "stream",
     "text": [
      "Salvando as informações num JSON: relatorio_teste_GSC_SNR_-5dB_semPCA_1585102967.461043.json\n",
      "Classificando com o  SVC\n",
      "Salvando as informações num JSON: relatorio_teste_GSC_SNR_-5dB_semPCA_1585102968.3590133.json\n",
      "Classificando com o  SVC\n",
      "Salvando as informações num JSON: relatorio_teste_GSC_SNR_-5dB_semPCA_1585102969.3916802.json\n",
      "Classificando com o  SVC\n"
     ]
    },
    {
     "name": "stderr",
     "output_type": "stream",
     "text": [
      "/home/dimi/venvIC/lib/python3.7/site-packages/sklearn/metrics/classification.py:1437: UndefinedMetricWarning: Precision and F-score are ill-defined and being set to 0.0 in labels with no predicted samples.\n",
      "  'precision', 'predicted', average, warn_for)\n"
     ]
    },
    {
     "name": "stdout",
     "output_type": "stream",
     "text": [
      "Salvando as informações num JSON: relatorio_teste_GSC_SNR_-5dB_semPCA_1585102970.420526.json\n",
      "Classificando com o  SVC\n"
     ]
    },
    {
     "name": "stderr",
     "output_type": "stream",
     "text": [
      "/home/dimi/venvIC/lib/python3.7/site-packages/sklearn/metrics/classification.py:1437: UndefinedMetricWarning: Precision and F-score are ill-defined and being set to 0.0 in labels with no predicted samples.\n",
      "  'precision', 'predicted', average, warn_for)\n"
     ]
    },
    {
     "name": "stdout",
     "output_type": "stream",
     "text": [
      "Salvando as informações num JSON: relatorio_teste_GSC_SNR_-5dB_semPCA_1585102971.4533956.json\n",
      "Classificando com o  SVC\n",
      "Salvando as informações num JSON: relatorio_teste_GSC_SNR_-5dB_semPCA_1585102972.4530683.json\n",
      "Classificando com o  SVC\n",
      "Salvando as informações num JSON: relatorio_teste_GSC_SNR_-5dB_semPCA_1585102973.3700006.json\n",
      "Classificando com o  SVC\n"
     ]
    },
    {
     "name": "stderr",
     "output_type": "stream",
     "text": [
      "/home/dimi/venvIC/lib/python3.7/site-packages/sklearn/metrics/classification.py:1437: UndefinedMetricWarning: Precision and F-score are ill-defined and being set to 0.0 in labels with no predicted samples.\n",
      "  'precision', 'predicted', average, warn_for)\n"
     ]
    },
    {
     "name": "stdout",
     "output_type": "stream",
     "text": [
      "Salvando as informações num JSON: relatorio_teste_GSC_SNR_-5dB_semPCA_1585102974.269519.json\n",
      "Classificando com o  SVC\n",
      "Salvando as informações num JSON: relatorio_teste_GSC_SNR_-5dB_semPCA_1585102975.1783996.json\n",
      "Classificando com o  LinearDiscriminantAnalysis\n",
      "Salvando as informações num JSON: relatorio_teste_GSC_SNR_-5dB_semPCA_1585102975.500348.json\n",
      "Classificando com o  LinearDiscriminantAnalysis\n",
      "Salvando as informações num JSON: relatorio_teste_GSC_SNR_-5dB_semPCA_1585102975.8148532.json\n",
      "Classificando com o  LinearDiscriminantAnalysis\n",
      "Salvando as informações num JSON: relatorio_teste_GSC_SNR_-5dB_semPCA_1585102976.1546168.json\n",
      "Classificando com o  LinearDiscriminantAnalysis\n",
      "Salvando as informações num JSON: relatorio_teste_GSC_SNR_-5dB_semPCA_1585102976.4790459.json\n",
      "Classificando com o  LinearDiscriminantAnalysis\n",
      "Salvando as informações num JSON: relatorio_teste_GSC_SNR_-5dB_semPCA_1585102976.8010345.json\n",
      "Classificando com o  LinearDiscriminantAnalysis\n"
     ]
    },
    {
     "name": "stderr",
     "output_type": "stream",
     "text": [
      "/home/dimi/venvIC/lib/python3.7/site-packages/sklearn/metrics/classification.py:1437: UndefinedMetricWarning: Precision and F-score are ill-defined and being set to 0.0 in labels with no predicted samples.\n",
      "  'precision', 'predicted', average, warn_for)\n"
     ]
    },
    {
     "name": "stdout",
     "output_type": "stream",
     "text": [
      "Salvando as informações num JSON: relatorio_teste_GSC_SNR_-5dB_semPCA_1585102977.1314862.json\n",
      "Classificando com o  LinearDiscriminantAnalysis\n",
      "Salvando as informações num JSON: relatorio_teste_GSC_SNR_-5dB_semPCA_1585102977.4513135.json\n",
      "Classificando com o  LinearDiscriminantAnalysis\n",
      "Salvando as informações num JSON: relatorio_teste_GSC_SNR_-5dB_semPCA_1585102977.7899806.json\n",
      "Classificando com o  LinearDiscriminantAnalysis\n",
      "Salvando as informações num JSON: relatorio_teste_GSC_SNR_-5dB_semPCA_1585102978.1237683.json\n",
      "Classificando com o  LinearDiscriminantAnalysis\n",
      "Salvando as informações num JSON: relatorio_teste_GSC_SNR_-5dB_semPCA_1585102978.455073.json\n",
      "O teste com todos os classificadores foi finalizado\n",
      "Classificando com o  SVC\n",
      "Salvando as informações num JSON: relatorio_teste_semBeamforming_SNR_-5dB_semPCA_1585102979.4906497.json\n",
      "Classificando com o  SVC\n"
     ]
    },
    {
     "name": "stderr",
     "output_type": "stream",
     "text": [
      "/home/dimi/venvIC/lib/python3.7/site-packages/sklearn/metrics/classification.py:1437: UndefinedMetricWarning: Precision and F-score are ill-defined and being set to 0.0 in labels with no predicted samples.\n",
      "  'precision', 'predicted', average, warn_for)\n"
     ]
    },
    {
     "name": "stdout",
     "output_type": "stream",
     "text": [
      "Salvando as informações num JSON: relatorio_teste_semBeamforming_SNR_-5dB_semPCA_1585102980.4597578.json\n",
      "Classificando com o  SVC\n",
      "Salvando as informações num JSON: relatorio_teste_semBeamforming_SNR_-5dB_semPCA_1585102981.3519933.json\n",
      "Classificando com o  SVC\n",
      "Salvando as informações num JSON: relatorio_teste_semBeamforming_SNR_-5dB_semPCA_1585102982.2936337.json\n",
      "Classificando com o  SVC\n"
     ]
    },
    {
     "name": "stderr",
     "output_type": "stream",
     "text": [
      "/home/dimi/venvIC/lib/python3.7/site-packages/sklearn/metrics/classification.py:1437: UndefinedMetricWarning: Precision and F-score are ill-defined and being set to 0.0 in labels with no predicted samples.\n",
      "  'precision', 'predicted', average, warn_for)\n"
     ]
    },
    {
     "name": "stdout",
     "output_type": "stream",
     "text": [
      "Salvando as informações num JSON: relatorio_teste_semBeamforming_SNR_-5dB_semPCA_1585102983.218899.json\n",
      "Classificando com o  SVC\n"
     ]
    },
    {
     "name": "stderr",
     "output_type": "stream",
     "text": [
      "/home/dimi/venvIC/lib/python3.7/site-packages/sklearn/metrics/classification.py:1437: UndefinedMetricWarning: Precision and F-score are ill-defined and being set to 0.0 in labels with no predicted samples.\n",
      "  'precision', 'predicted', average, warn_for)\n"
     ]
    },
    {
     "name": "stdout",
     "output_type": "stream",
     "text": [
      "Salvando as informações num JSON: relatorio_teste_semBeamforming_SNR_-5dB_semPCA_1585102984.148867.json\n",
      "Classificando com o  SVC\n",
      "Salvando as informações num JSON: relatorio_teste_semBeamforming_SNR_-5dB_semPCA_1585102985.0837748.json\n",
      "Classificando com o  SVC\n",
      "Salvando as informações num JSON: relatorio_teste_semBeamforming_SNR_-5dB_semPCA_1585102986.0076337.json\n",
      "Classificando com o  SVC\n",
      "Salvando as informações num JSON: relatorio_teste_semBeamforming_SNR_-5dB_semPCA_1585102986.9140532.json\n",
      "Classificando com o  SVC\n",
      "Salvando as informações num JSON: relatorio_teste_semBeamforming_SNR_-5dB_semPCA_1585102987.8332958.json\n",
      "Classificando com o  LinearDiscriminantAnalysis\n",
      "Salvando as informações num JSON: relatorio_teste_semBeamforming_SNR_-5dB_semPCA_1585102988.1597922.json\n",
      "Classificando com o  LinearDiscriminantAnalysis\n",
      "Salvando as informações num JSON: relatorio_teste_semBeamforming_SNR_-5dB_semPCA_1585102988.496994.json\n",
      "Classificando com o  LinearDiscriminantAnalysis\n",
      "Salvando as informações num JSON: relatorio_teste_semBeamforming_SNR_-5dB_semPCA_1585102988.823886.json\n",
      "Classificando com o  LinearDiscriminantAnalysis\n",
      "Salvando as informações num JSON: relatorio_teste_semBeamforming_SNR_-5dB_semPCA_1585102989.1578798.json\n",
      "Classificando com o  LinearDiscriminantAnalysis\n",
      "Salvando as informações num JSON: relatorio_teste_semBeamforming_SNR_-5dB_semPCA_1585102989.489999.json\n",
      "Classificando com o  LinearDiscriminantAnalysis\n"
     ]
    },
    {
     "name": "stderr",
     "output_type": "stream",
     "text": [
      "/home/dimi/venvIC/lib/python3.7/site-packages/sklearn/metrics/classification.py:1437: UndefinedMetricWarning: Precision and F-score are ill-defined and being set to 0.0 in labels with no predicted samples.\n",
      "  'precision', 'predicted', average, warn_for)\n"
     ]
    },
    {
     "name": "stdout",
     "output_type": "stream",
     "text": [
      "Salvando as informações num JSON: relatorio_teste_semBeamforming_SNR_-5dB_semPCA_1585102989.8209245.json\n",
      "Classificando com o  LinearDiscriminantAnalysis\n",
      "Salvando as informações num JSON: relatorio_teste_semBeamforming_SNR_-5dB_semPCA_1585102990.1452107.json\n",
      "Classificando com o  LinearDiscriminantAnalysis\n"
     ]
    },
    {
     "name": "stderr",
     "output_type": "stream",
     "text": [
      "/home/dimi/venvIC/lib/python3.7/site-packages/sklearn/metrics/classification.py:1437: UndefinedMetricWarning: Precision and F-score are ill-defined and being set to 0.0 in labels with no predicted samples.\n",
      "  'precision', 'predicted', average, warn_for)\n"
     ]
    },
    {
     "name": "stdout",
     "output_type": "stream",
     "text": [
      "Salvando as informações num JSON: relatorio_teste_semBeamforming_SNR_-5dB_semPCA_1585102990.4657822.json\n",
      "Classificando com o  LinearDiscriminantAnalysis\n",
      "Salvando as informações num JSON: relatorio_teste_semBeamforming_SNR_-5dB_semPCA_1585102990.7868738.json\n",
      "Classificando com o  LinearDiscriminantAnalysis\n",
      "Salvando as informações num JSON: relatorio_teste_semBeamforming_SNR_-5dB_semPCA_1585102991.1044273.json\n",
      "O teste com todos os classificadores foi finalizado\n",
      "Classificando com o  SVC\n",
      "Salvando as informações num JSON: relatorio_teste_semBeamforming_SNR_0dB_semPCA_1585102992.152761.json\n",
      "Classificando com o  SVC\n",
      "Salvando as informações num JSON: relatorio_teste_semBeamforming_SNR_0dB_semPCA_1585102993.1113229.json\n",
      "Classificando com o  SVC\n",
      "Salvando as informações num JSON: relatorio_teste_semBeamforming_SNR_0dB_semPCA_1585102993.9901352.json\n",
      "Classificando com o  SVC\n",
      "Salvando as informações num JSON: relatorio_teste_semBeamforming_SNR_0dB_semPCA_1585102994.9380465.json\n",
      "Classificando com o  SVC\n",
      "Salvando as informações num JSON: relatorio_teste_semBeamforming_SNR_0dB_semPCA_1585102995.9106815.json\n",
      "Classificando com o  SVC\n",
      "Salvando as informações num JSON: relatorio_teste_semBeamforming_SNR_0dB_semPCA_1585102996.8757415.json\n",
      "Classificando com o  SVC\n",
      "Salvando as informações num JSON: relatorio_teste_semBeamforming_SNR_0dB_semPCA_1585102997.8892925.json\n",
      "Classificando com o  SVC\n",
      "Salvando as informações num JSON: relatorio_teste_semBeamforming_SNR_0dB_semPCA_1585102998.7780592.json\n",
      "Classificando com o  SVC\n",
      "Salvando as informações num JSON: relatorio_teste_semBeamforming_SNR_0dB_semPCA_1585102999.5164485.json\n",
      "Classificando com o  SVC\n",
      "Salvando as informações num JSON: relatorio_teste_semBeamforming_SNR_0dB_semPCA_1585103000.2691891.json\n",
      "Classificando com o  LinearDiscriminantAnalysis\n",
      "Salvando as informações num JSON: relatorio_teste_semBeamforming_SNR_0dB_semPCA_1585103000.5461395.json\n",
      "Classificando com o  LinearDiscriminantAnalysis\n",
      "Salvando as informações num JSON: relatorio_teste_semBeamforming_SNR_0dB_semPCA_1585103000.823333.json\n",
      "Classificando com o  LinearDiscriminantAnalysis\n",
      "Salvando as informações num JSON: relatorio_teste_semBeamforming_SNR_0dB_semPCA_1585103001.1011748.json\n",
      "Classificando com o  LinearDiscriminantAnalysis\n",
      "Salvando as informações num JSON: relatorio_teste_semBeamforming_SNR_0dB_semPCA_1585103001.416878.json\n",
      "Classificando com o  LinearDiscriminantAnalysis\n",
      "Salvando as informações num JSON: relatorio_teste_semBeamforming_SNR_0dB_semPCA_1585103001.7077253.json\n",
      "Classificando com o  LinearDiscriminantAnalysis\n",
      "Salvando as informações num JSON: relatorio_teste_semBeamforming_SNR_0dB_semPCA_1585103001.985673.json\n",
      "Classificando com o  LinearDiscriminantAnalysis\n",
      "Salvando as informações num JSON: relatorio_teste_semBeamforming_SNR_0dB_semPCA_1585103002.2435179.json\n",
      "Classificando com o  LinearDiscriminantAnalysis\n",
      "Salvando as informações num JSON: relatorio_teste_semBeamforming_SNR_0dB_semPCA_1585103002.6150272.json\n",
      "Classificando com o  LinearDiscriminantAnalysis\n",
      "Salvando as informações num JSON: relatorio_teste_semBeamforming_SNR_0dB_semPCA_1585103002.9020913.json\n",
      "Classificando com o  LinearDiscriminantAnalysis\n"
     ]
    },
    {
     "name": "stderr",
     "output_type": "stream",
     "text": [
      "/home/dimi/venvIC/lib/python3.7/site-packages/sklearn/metrics/classification.py:1437: UndefinedMetricWarning: Precision and F-score are ill-defined and being set to 0.0 in labels with no predicted samples.\n",
      "  'precision', 'predicted', average, warn_for)\n"
     ]
    },
    {
     "name": "stdout",
     "output_type": "stream",
     "text": [
      "Salvando as informações num JSON: relatorio_teste_semBeamforming_SNR_0dB_semPCA_1585103003.195454.json\n",
      "O teste com todos os classificadores foi finalizado\n",
      "Classificando com o  SVC\n",
      "Salvando as informações num JSON: relatorio_teste_GSC_SNR_0dB_semPCA_1585103004.157107.json\n",
      "Classificando com o  SVC\n",
      "Salvando as informações num JSON: relatorio_teste_GSC_SNR_0dB_semPCA_1585103004.977372.json\n",
      "Classificando com o  SVC\n",
      "Salvando as informações num JSON: relatorio_teste_GSC_SNR_0dB_semPCA_1585103005.6934407.json\n",
      "Classificando com o  SVC\n",
      "Salvando as informações num JSON: relatorio_teste_GSC_SNR_0dB_semPCA_1585103006.433229.json\n",
      "Classificando com o  SVC\n",
      "Salvando as informações num JSON: relatorio_teste_GSC_SNR_0dB_semPCA_1585103007.198374.json\n",
      "Classificando com o  SVC\n",
      "Salvando as informações num JSON: relatorio_teste_GSC_SNR_0dB_semPCA_1585103007.960209.json\n",
      "Classificando com o  SVC\n",
      "Salvando as informações num JSON: relatorio_teste_GSC_SNR_0dB_semPCA_1585103008.6944463.json\n",
      "Classificando com o  SVC\n",
      "Salvando as informações num JSON: relatorio_teste_GSC_SNR_0dB_semPCA_1585103009.4481852.json\n",
      "Classificando com o  SVC\n",
      "Salvando as informações num JSON: relatorio_teste_GSC_SNR_0dB_semPCA_1585103010.182276.json\n",
      "Classificando com o  SVC\n",
      "Salvando as informações num JSON: relatorio_teste_GSC_SNR_0dB_semPCA_1585103010.9230268.json\n",
      "Classificando com o  LinearDiscriminantAnalysis\n",
      "Salvando as informações num JSON: relatorio_teste_GSC_SNR_0dB_semPCA_1585103011.1734912.json\n",
      "Classificando com o  LinearDiscriminantAnalysis\n",
      "Salvando as informações num JSON: relatorio_teste_GSC_SNR_0dB_semPCA_1585103011.4268048.json\n",
      "Classificando com o  LinearDiscriminantAnalysis\n",
      "Salvando as informações num JSON: relatorio_teste_GSC_SNR_0dB_semPCA_1585103011.677121.json\n",
      "Classificando com o  LinearDiscriminantAnalysis\n"
     ]
    },
    {
     "name": "stderr",
     "output_type": "stream",
     "text": [
      "/home/dimi/venvIC/lib/python3.7/site-packages/sklearn/metrics/classification.py:1437: UndefinedMetricWarning: Precision and F-score are ill-defined and being set to 0.0 in labels with no predicted samples.\n",
      "  'precision', 'predicted', average, warn_for)\n"
     ]
    },
    {
     "name": "stdout",
     "output_type": "stream",
     "text": [
      "Salvando as informações num JSON: relatorio_teste_GSC_SNR_0dB_semPCA_1585103011.930724.json\n",
      "Classificando com o  LinearDiscriminantAnalysis\n",
      "Salvando as informações num JSON: relatorio_teste_GSC_SNR_0dB_semPCA_1585103012.1931212.json\n",
      "Classificando com o  LinearDiscriminantAnalysis\n",
      "Salvando as informações num JSON: relatorio_teste_GSC_SNR_0dB_semPCA_1585103012.447551.json\n",
      "Classificando com o  LinearDiscriminantAnalysis\n",
      "Salvando as informações num JSON: relatorio_teste_GSC_SNR_0dB_semPCA_1585103012.6989312.json\n",
      "Classificando com o  LinearDiscriminantAnalysis\n",
      "Salvando as informações num JSON: relatorio_teste_GSC_SNR_0dB_semPCA_1585103012.9489682.json\n",
      "Classificando com o  LinearDiscriminantAnalysis\n",
      "Salvando as informações num JSON: relatorio_teste_GSC_SNR_0dB_semPCA_1585103013.1920555.json\n",
      "Classificando com o  LinearDiscriminantAnalysis\n",
      "Salvando as informações num JSON: relatorio_teste_GSC_SNR_0dB_semPCA_1585103013.4417892.json\n",
      "O teste com todos os classificadores foi finalizado\n",
      "Classificando com o  SVC\n",
      "Salvando as informações num JSON: relatorio_teste_beamforming_SNR_0dB_semPCA_1585103014.223698.json\n",
      "Classificando com o  SVC\n",
      "Salvando as informações num JSON: relatorio_teste_beamforming_SNR_0dB_semPCA_1585103014.9567544.json\n",
      "Classificando com o  SVC\n",
      "Salvando as informações num JSON: relatorio_teste_beamforming_SNR_0dB_semPCA_1585103015.6448507.json\n",
      "Classificando com o  SVC\n",
      "Salvando as informações num JSON: relatorio_teste_beamforming_SNR_0dB_semPCA_1585103016.4101925.json\n",
      "Classificando com o  SVC\n",
      "Salvando as informações num JSON: relatorio_teste_beamforming_SNR_0dB_semPCA_1585103017.2150128.json\n",
      "Classificando com o  SVC\n",
      "Salvando as informações num JSON: relatorio_teste_beamforming_SNR_0dB_semPCA_1585103017.9454324.json\n",
      "Classificando com o  SVC\n",
      "Salvando as informações num JSON: relatorio_teste_beamforming_SNR_0dB_semPCA_1585103018.675274.json\n",
      "Classificando com o  SVC\n",
      "Salvando as informações num JSON: relatorio_teste_beamforming_SNR_0dB_semPCA_1585103019.435815.json\n",
      "Classificando com o  SVC\n",
      "Salvando as informações num JSON: relatorio_teste_beamforming_SNR_0dB_semPCA_1585103020.1345985.json\n",
      "Classificando com o  SVC\n",
      "Salvando as informações num JSON: relatorio_teste_beamforming_SNR_0dB_semPCA_1585103020.8423698.json\n",
      "Classificando com o  LinearDiscriminantAnalysis\n",
      "Salvando as informações num JSON: relatorio_teste_beamforming_SNR_0dB_semPCA_1585103021.0810695.json\n",
      "Classificando com o  LinearDiscriminantAnalysis\n",
      "Salvando as informações num JSON: relatorio_teste_beamforming_SNR_0dB_semPCA_1585103021.33852.json\n",
      "Classificando com o  LinearDiscriminantAnalysis\n",
      "Salvando as informações num JSON: relatorio_teste_beamforming_SNR_0dB_semPCA_1585103021.5870574.json\n",
      "Classificando com o  LinearDiscriminantAnalysis\n",
      "Salvando as informações num JSON: relatorio_teste_beamforming_SNR_0dB_semPCA_1585103021.8338804.json\n",
      "Classificando com o  LinearDiscriminantAnalysis\n",
      "Salvando as informações num JSON: relatorio_teste_beamforming_SNR_0dB_semPCA_1585103022.0832477.json\n",
      "Classificando com o  LinearDiscriminantAnalysis\n",
      "Salvando as informações num JSON: relatorio_teste_beamforming_SNR_0dB_semPCA_1585103022.330878.json\n",
      "Classificando com o  LinearDiscriminantAnalysis\n",
      "Salvando as informações num JSON: relatorio_teste_beamforming_SNR_0dB_semPCA_1585103022.5845528.json\n",
      "Classificando com o  LinearDiscriminantAnalysis\n",
      "Salvando as informações num JSON: relatorio_teste_beamforming_SNR_0dB_semPCA_1585103022.8319607.json\n",
      "Classificando com o  LinearDiscriminantAnalysis\n",
      "Salvando as informações num JSON: relatorio_teste_beamforming_SNR_0dB_semPCA_1585103023.0806434.json\n",
      "Classificando com o  LinearDiscriminantAnalysis\n",
      "Salvando as informações num JSON: relatorio_teste_beamforming_SNR_0dB_semPCA_1585103023.3322577.json\n",
      "O teste com todos os classificadores foi finalizado\n",
      "Classificando com o  SVC\n",
      "Salvando as informações num JSON: relatorio_teste_beamforming_SNR_18dB_semPCA_1585103024.1573167.json\n",
      "Classificando com o  SVC\n",
      "Salvando as informações num JSON: relatorio_teste_beamforming_SNR_18dB_semPCA_1585103024.8863435.json\n",
      "Classificando com o  SVC\n",
      "Salvando as informações num JSON: relatorio_teste_beamforming_SNR_18dB_semPCA_1585103025.5894334.json\n",
      "Classificando com o  SVC\n",
      "Salvando as informações num JSON: relatorio_teste_beamforming_SNR_18dB_semPCA_1585103026.3150496.json\n",
      "Classificando com o  SVC\n",
      "Salvando as informações num JSON: relatorio_teste_beamforming_SNR_18dB_semPCA_1585103027.0380929.json\n",
      "Classificando com o  SVC\n",
      "Salvando as informações num JSON: relatorio_teste_beamforming_SNR_18dB_semPCA_1585103027.762226.json\n",
      "Classificando com o  SVC\n",
      "Salvando as informações num JSON: relatorio_teste_beamforming_SNR_18dB_semPCA_1585103028.4913287.json\n",
      "Classificando com o  SVC\n",
      "Salvando as informações num JSON: relatorio_teste_beamforming_SNR_18dB_semPCA_1585103029.2173991.json\n",
      "Classificando com o  SVC\n",
      "Salvando as informações num JSON: relatorio_teste_beamforming_SNR_18dB_semPCA_1585103029.9279115.json\n",
      "Classificando com o  SVC\n",
      "Salvando as informações num JSON: relatorio_teste_beamforming_SNR_18dB_semPCA_1585103030.6389134.json\n",
      "Classificando com o  LinearDiscriminantAnalysis\n",
      "Salvando as informações num JSON: relatorio_teste_beamforming_SNR_18dB_semPCA_1585103030.8859212.json\n",
      "Classificando com o  LinearDiscriminantAnalysis\n",
      "Salvando as informações num JSON: relatorio_teste_beamforming_SNR_18dB_semPCA_1585103031.1301868.json\n",
      "Classificando com o  LinearDiscriminantAnalysis\n",
      "Salvando as informações num JSON: relatorio_teste_beamforming_SNR_18dB_semPCA_1585103031.3808184.json\n",
      "Classificando com o  LinearDiscriminantAnalysis\n",
      "Salvando as informações num JSON: relatorio_teste_beamforming_SNR_18dB_semPCA_1585103031.623368.json\n",
      "Classificando com o  LinearDiscriminantAnalysis\n",
      "Salvando as informações num JSON: relatorio_teste_beamforming_SNR_18dB_semPCA_1585103031.8666737.json\n",
      "Classificando com o  LinearDiscriminantAnalysis\n",
      "Salvando as informações num JSON: relatorio_teste_beamforming_SNR_18dB_semPCA_1585103032.1169958.json\n",
      "Classificando com o  LinearDiscriminantAnalysis\n",
      "Salvando as informações num JSON: relatorio_teste_beamforming_SNR_18dB_semPCA_1585103032.3603623.json\n",
      "Classificando com o  LinearDiscriminantAnalysis\n",
      "Salvando as informações num JSON: relatorio_teste_beamforming_SNR_18dB_semPCA_1585103032.6122553.json\n",
      "Classificando com o  LinearDiscriminantAnalysis\n",
      "Salvando as informações num JSON: relatorio_teste_beamforming_SNR_18dB_semPCA_1585103032.8604488.json\n",
      "Classificando com o  LinearDiscriminantAnalysis\n",
      "Salvando as informações num JSON: relatorio_teste_beamforming_SNR_18dB_semPCA_1585103033.1074154.json\n",
      "O teste com todos os classificadores foi finalizado\n",
      "Classificando com o  SVC\n",
      "Salvando as informações num JSON: relatorio_teste_semBeamforming_SNR_18dB_semPCA_1585103033.9163249.json\n",
      "Classificando com o  SVC\n",
      "Salvando as informações num JSON: relatorio_teste_semBeamforming_SNR_18dB_semPCA_1585103034.6476705.json\n",
      "Classificando com o  SVC\n",
      "Salvando as informações num JSON: relatorio_teste_semBeamforming_SNR_18dB_semPCA_1585103035.331027.json\n",
      "Classificando com o  SVC\n",
      "Salvando as informações num JSON: relatorio_teste_semBeamforming_SNR_18dB_semPCA_1585103036.054279.json\n",
      "Classificando com o  SVC\n",
      "Salvando as informações num JSON: relatorio_teste_semBeamforming_SNR_18dB_semPCA_1585103036.776475.json\n",
      "Classificando com o  SVC\n",
      "Salvando as informações num JSON: relatorio_teste_semBeamforming_SNR_18dB_semPCA_1585103037.4936502.json\n",
      "Classificando com o  SVC\n",
      "Salvando as informações num JSON: relatorio_teste_semBeamforming_SNR_18dB_semPCA_1585103038.2135644.json\n",
      "Classificando com o  SVC\n",
      "Salvando as informações num JSON: relatorio_teste_semBeamforming_SNR_18dB_semPCA_1585103038.9351723.json\n",
      "Classificando com o  SVC\n",
      "Salvando as informações num JSON: relatorio_teste_semBeamforming_SNR_18dB_semPCA_1585103039.6695795.json\n",
      "Classificando com o  SVC\n",
      "Salvando as informações num JSON: relatorio_teste_semBeamforming_SNR_18dB_semPCA_1585103040.3992422.json\n",
      "Classificando com o  LinearDiscriminantAnalysis\n",
      "Salvando as informações num JSON: relatorio_teste_semBeamforming_SNR_18dB_semPCA_1585103040.6442482.json\n",
      "Classificando com o  LinearDiscriminantAnalysis\n",
      "Salvando as informações num JSON: relatorio_teste_semBeamforming_SNR_18dB_semPCA_1585103040.892242.json\n",
      "Classificando com o  LinearDiscriminantAnalysis\n"
     ]
    },
    {
     "name": "stdout",
     "output_type": "stream",
     "text": [
      "Salvando as informações num JSON: relatorio_teste_semBeamforming_SNR_18dB_semPCA_1585103041.1491733.json\n",
      "Classificando com o  LinearDiscriminantAnalysis\n",
      "Salvando as informações num JSON: relatorio_teste_semBeamforming_SNR_18dB_semPCA_1585103041.4039109.json\n",
      "Classificando com o  LinearDiscriminantAnalysis\n",
      "Salvando as informações num JSON: relatorio_teste_semBeamforming_SNR_18dB_semPCA_1585103041.6536067.json\n",
      "Classificando com o  LinearDiscriminantAnalysis\n",
      "Salvando as informações num JSON: relatorio_teste_semBeamforming_SNR_18dB_semPCA_1585103041.9006064.json\n",
      "Classificando com o  LinearDiscriminantAnalysis\n",
      "Salvando as informações num JSON: relatorio_teste_semBeamforming_SNR_18dB_semPCA_1585103042.147509.json\n",
      "Classificando com o  LinearDiscriminantAnalysis\n",
      "Salvando as informações num JSON: relatorio_teste_semBeamforming_SNR_18dB_semPCA_1585103042.4012055.json\n",
      "Classificando com o  LinearDiscriminantAnalysis\n",
      "Salvando as informações num JSON: relatorio_teste_semBeamforming_SNR_18dB_semPCA_1585103042.6517074.json\n",
      "Classificando com o  LinearDiscriminantAnalysis\n",
      "Salvando as informações num JSON: relatorio_teste_semBeamforming_SNR_18dB_semPCA_1585103042.896931.json\n",
      "O teste com todos os classificadores foi finalizado\n",
      "Classificando com o  SVC\n",
      "Salvando as informações num JSON: relatorio_teste_GSC_SNR_18dB_semPCA_1585103043.7292962.json\n",
      "Classificando com o  SVC\n",
      "Salvando as informações num JSON: relatorio_teste_GSC_SNR_18dB_semPCA_1585103044.457286.json\n",
      "Classificando com o  SVC\n",
      "Salvando as informações num JSON: relatorio_teste_GSC_SNR_18dB_semPCA_1585103045.141483.json\n",
      "Classificando com o  SVC\n",
      "Salvando as informações num JSON: relatorio_teste_GSC_SNR_18dB_semPCA_1585103045.8598616.json\n",
      "Classificando com o  SVC\n",
      "Salvando as informações num JSON: relatorio_teste_GSC_SNR_18dB_semPCA_1585103046.6020591.json\n",
      "Classificando com o  SVC\n",
      "Salvando as informações num JSON: relatorio_teste_GSC_SNR_18dB_semPCA_1585103047.337589.json\n",
      "Classificando com o  SVC\n",
      "Salvando as informações num JSON: relatorio_teste_GSC_SNR_18dB_semPCA_1585103048.0608082.json\n",
      "Classificando com o  SVC\n",
      "Salvando as informações num JSON: relatorio_teste_GSC_SNR_18dB_semPCA_1585103048.8015053.json\n",
      "Classificando com o  SVC\n",
      "Salvando as informações num JSON: relatorio_teste_GSC_SNR_18dB_semPCA_1585103049.5283875.json\n",
      "Classificando com o  SVC\n",
      "Salvando as informações num JSON: relatorio_teste_GSC_SNR_18dB_semPCA_1585103050.2519019.json\n",
      "Classificando com o  LinearDiscriminantAnalysis\n",
      "Salvando as informações num JSON: relatorio_teste_GSC_SNR_18dB_semPCA_1585103050.5029068.json\n",
      "Classificando com o  LinearDiscriminantAnalysis\n",
      "Salvando as informações num JSON: relatorio_teste_GSC_SNR_18dB_semPCA_1585103050.7562923.json\n",
      "Classificando com o  LinearDiscriminantAnalysis\n",
      "Salvando as informações num JSON: relatorio_teste_GSC_SNR_18dB_semPCA_1585103051.0014973.json\n",
      "Classificando com o  LinearDiscriminantAnalysis\n",
      "Salvando as informações num JSON: relatorio_teste_GSC_SNR_18dB_semPCA_1585103051.2479615.json\n",
      "Classificando com o  LinearDiscriminantAnalysis\n",
      "Salvando as informações num JSON: relatorio_teste_GSC_SNR_18dB_semPCA_1585103051.4994125.json\n",
      "Classificando com o  LinearDiscriminantAnalysis\n",
      "Salvando as informações num JSON: relatorio_teste_GSC_SNR_18dB_semPCA_1585103051.7445436.json\n",
      "Classificando com o  LinearDiscriminantAnalysis\n",
      "Salvando as informações num JSON: relatorio_teste_GSC_SNR_18dB_semPCA_1585103051.990613.json\n",
      "Classificando com o  LinearDiscriminantAnalysis\n",
      "Salvando as informações num JSON: relatorio_teste_GSC_SNR_18dB_semPCA_1585103052.2372541.json\n",
      "Classificando com o  LinearDiscriminantAnalysis\n",
      "Salvando as informações num JSON: relatorio_teste_GSC_SNR_18dB_semPCA_1585103052.4931424.json\n",
      "Classificando com o  LinearDiscriminantAnalysis\n",
      "Salvando as informações num JSON: relatorio_teste_GSC_SNR_18dB_semPCA_1585103052.7427263.json\n",
      "O teste com todos os classificadores foi finalizado\n",
      "Classificando com o  SVC\n",
      "Salvando as informações num JSON: relatorio_teste_beamforming_SNR_3dB_semPCA_1585103053.586505.json\n",
      "Classificando com o  SVC\n",
      "Salvando as informações num JSON: relatorio_teste_beamforming_SNR_3dB_semPCA_1585103054.3156025.json\n",
      "Classificando com o  SVC\n",
      "Salvando as informações num JSON: relatorio_teste_beamforming_SNR_3dB_semPCA_1585103055.0035644.json\n",
      "Classificando com o  SVC\n",
      "Salvando as informações num JSON: relatorio_teste_beamforming_SNR_3dB_semPCA_1585103055.7230842.json\n",
      "Classificando com o  SVC\n",
      "Salvando as informações num JSON: relatorio_teste_beamforming_SNR_3dB_semPCA_1585103056.5990524.json\n",
      "Classificando com o  SVC\n",
      "Salvando as informações num JSON: relatorio_teste_beamforming_SNR_3dB_semPCA_1585103057.6251054.json\n",
      "Classificando com o  SVC\n",
      "Salvando as informações num JSON: relatorio_teste_beamforming_SNR_3dB_semPCA_1585103058.7516947.json\n",
      "Classificando com o  SVC\n",
      "Salvando as informações num JSON: relatorio_teste_beamforming_SNR_3dB_semPCA_1585103059.6959665.json\n",
      "Classificando com o  SVC\n",
      "Salvando as informações num JSON: relatorio_teste_beamforming_SNR_3dB_semPCA_1585103060.695619.json\n",
      "Classificando com o  SVC\n",
      "Salvando as informações num JSON: relatorio_teste_beamforming_SNR_3dB_semPCA_1585103061.5929031.json\n",
      "Classificando com o  LinearDiscriminantAnalysis\n",
      "Salvando as informações num JSON: relatorio_teste_beamforming_SNR_3dB_semPCA_1585103061.9114947.json\n",
      "Classificando com o  LinearDiscriminantAnalysis\n",
      "Salvando as informações num JSON: relatorio_teste_beamforming_SNR_3dB_semPCA_1585103062.2253678.json\n",
      "Classificando com o  LinearDiscriminantAnalysis\n",
      "Salvando as informações num JSON: relatorio_teste_beamforming_SNR_3dB_semPCA_1585103062.5441158.json\n",
      "Classificando com o  LinearDiscriminantAnalysis\n",
      "Salvando as informações num JSON: relatorio_teste_beamforming_SNR_3dB_semPCA_1585103062.857133.json\n",
      "Classificando com o  LinearDiscriminantAnalysis\n",
      "Salvando as informações num JSON: relatorio_teste_beamforming_SNR_3dB_semPCA_1585103063.1727476.json\n",
      "Classificando com o  LinearDiscriminantAnalysis\n",
      "Salvando as informações num JSON: relatorio_teste_beamforming_SNR_3dB_semPCA_1585103063.4912133.json\n",
      "Classificando com o  LinearDiscriminantAnalysis\n",
      "Salvando as informações num JSON: relatorio_teste_beamforming_SNR_3dB_semPCA_1585103063.8116915.json\n",
      "Classificando com o  LinearDiscriminantAnalysis\n",
      "Salvando as informações num JSON: relatorio_teste_beamforming_SNR_3dB_semPCA_1585103064.1280148.json\n",
      "Classificando com o  LinearDiscriminantAnalysis\n",
      "Salvando as informações num JSON: relatorio_teste_beamforming_SNR_3dB_semPCA_1585103064.4462883.json\n",
      "Classificando com o  LinearDiscriminantAnalysis\n",
      "Salvando as informações num JSON: relatorio_teste_beamforming_SNR_3dB_semPCA_1585103064.7612576.json\n",
      "O teste com todos os classificadores foi finalizado\n",
      "Classificando com o  SVC\n",
      "Salvando as informações num JSON: relatorio_teste_semBeamforming_SNR_3dB_semPCA_1585103065.7677963.json\n",
      "Classificando com o  SVC\n",
      "Salvando as informações num JSON: relatorio_teste_semBeamforming_SNR_3dB_semPCA_1585103066.718561.json\n",
      "Classificando com o  SVC\n",
      "Salvando as informações num JSON: relatorio_teste_semBeamforming_SNR_3dB_semPCA_1585103067.5958729.json\n",
      "Classificando com o  SVC\n",
      "Salvando as informações num JSON: relatorio_teste_semBeamforming_SNR_3dB_semPCA_1585103068.5357776.json\n",
      "Classificando com o  SVC\n",
      "Salvando as informações num JSON: relatorio_teste_semBeamforming_SNR_3dB_semPCA_1585103069.462811.json\n",
      "Classificando com o  SVC\n",
      "Salvando as informações num JSON: relatorio_teste_semBeamforming_SNR_3dB_semPCA_1585103070.3927262.json\n",
      "Classificando com o  SVC\n",
      "Salvando as informações num JSON: relatorio_teste_semBeamforming_SNR_3dB_semPCA_1585103071.3154438.json\n",
      "Classificando com o  SVC\n",
      "Salvando as informações num JSON: relatorio_teste_semBeamforming_SNR_3dB_semPCA_1585103072.2432694.json\n",
      "Classificando com o  SVC\n",
      "Salvando as informações num JSON: relatorio_teste_semBeamforming_SNR_3dB_semPCA_1585103073.1552663.json\n",
      "Classificando com o  SVC\n",
      "Salvando as informações num JSON: relatorio_teste_semBeamforming_SNR_3dB_semPCA_1585103074.06732.json\n",
      "Classificando com o  LinearDiscriminantAnalysis\n",
      "Salvando as informações num JSON: relatorio_teste_semBeamforming_SNR_3dB_semPCA_1585103074.3930511.json\n",
      "Classificando com o  LinearDiscriminantAnalysis\n",
      "Salvando as informações num JSON: relatorio_teste_semBeamforming_SNR_3dB_semPCA_1585103074.7088535.json\n",
      "Classificando com o  LinearDiscriminantAnalysis\n"
     ]
    },
    {
     "name": "stdout",
     "output_type": "stream",
     "text": [
      "Salvando as informações num JSON: relatorio_teste_semBeamforming_SNR_3dB_semPCA_1585103075.0293822.json\n",
      "Classificando com o  LinearDiscriminantAnalysis\n"
     ]
    },
    {
     "name": "stderr",
     "output_type": "stream",
     "text": [
      "/home/dimi/venvIC/lib/python3.7/site-packages/sklearn/metrics/classification.py:1437: UndefinedMetricWarning: Precision and F-score are ill-defined and being set to 0.0 in labels with no predicted samples.\n",
      "  'precision', 'predicted', average, warn_for)\n"
     ]
    },
    {
     "name": "stdout",
     "output_type": "stream",
     "text": [
      "Salvando as informações num JSON: relatorio_teste_semBeamforming_SNR_3dB_semPCA_1585103075.3455014.json\n",
      "Classificando com o  LinearDiscriminantAnalysis\n",
      "Salvando as informações num JSON: relatorio_teste_semBeamforming_SNR_3dB_semPCA_1585103075.6705616.json\n",
      "Classificando com o  LinearDiscriminantAnalysis\n"
     ]
    },
    {
     "name": "stderr",
     "output_type": "stream",
     "text": [
      "/home/dimi/venvIC/lib/python3.7/site-packages/sklearn/metrics/classification.py:1437: UndefinedMetricWarning: Precision and F-score are ill-defined and being set to 0.0 in labels with no predicted samples.\n",
      "  'precision', 'predicted', average, warn_for)\n"
     ]
    },
    {
     "name": "stdout",
     "output_type": "stream",
     "text": [
      "Salvando as informações num JSON: relatorio_teste_semBeamforming_SNR_3dB_semPCA_1585103075.9903564.json\n",
      "Classificando com o  LinearDiscriminantAnalysis\n",
      "Salvando as informações num JSON: relatorio_teste_semBeamforming_SNR_3dB_semPCA_1585103076.399424.json\n",
      "Classificando com o  LinearDiscriminantAnalysis\n"
     ]
    },
    {
     "name": "stderr",
     "output_type": "stream",
     "text": [
      "/home/dimi/venvIC/lib/python3.7/site-packages/sklearn/metrics/classification.py:1437: UndefinedMetricWarning: Precision and F-score are ill-defined and being set to 0.0 in labels with no predicted samples.\n",
      "  'precision', 'predicted', average, warn_for)\n"
     ]
    },
    {
     "name": "stdout",
     "output_type": "stream",
     "text": [
      "Salvando as informações num JSON: relatorio_teste_semBeamforming_SNR_3dB_semPCA_1585103076.7117548.json\n",
      "Classificando com o  LinearDiscriminantAnalysis\n"
     ]
    },
    {
     "name": "stderr",
     "output_type": "stream",
     "text": [
      "/home/dimi/venvIC/lib/python3.7/site-packages/sklearn/metrics/classification.py:1437: UndefinedMetricWarning: Precision and F-score are ill-defined and being set to 0.0 in labels with no predicted samples.\n",
      "  'precision', 'predicted', average, warn_for)\n"
     ]
    },
    {
     "name": "stdout",
     "output_type": "stream",
     "text": [
      "Salvando as informações num JSON: relatorio_teste_semBeamforming_SNR_3dB_semPCA_1585103077.0346198.json\n",
      "Classificando com o  LinearDiscriminantAnalysis\n"
     ]
    },
    {
     "name": "stderr",
     "output_type": "stream",
     "text": [
      "/home/dimi/venvIC/lib/python3.7/site-packages/sklearn/metrics/classification.py:1437: UndefinedMetricWarning: Precision and F-score are ill-defined and being set to 0.0 in labels with no predicted samples.\n",
      "  'precision', 'predicted', average, warn_for)\n"
     ]
    },
    {
     "name": "stdout",
     "output_type": "stream",
     "text": [
      "Salvando as informações num JSON: relatorio_teste_semBeamforming_SNR_3dB_semPCA_1585103077.3549845.json\n",
      "O teste com todos os classificadores foi finalizado\n",
      "Classificando com o  SVC\n",
      "Salvando as informações num JSON: relatorio_teste_GSC_SNR_3dB_semPCA_1585103078.4026206.json\n",
      "Classificando com o  SVC\n",
      "Salvando as informações num JSON: relatorio_teste_GSC_SNR_3dB_semPCA_1585103079.3519847.json\n",
      "Classificando com o  SVC\n",
      "Salvando as informações num JSON: relatorio_teste_GSC_SNR_3dB_semPCA_1585103080.2265375.json\n",
      "Classificando com o  SVC\n",
      "Salvando as informações num JSON: relatorio_teste_GSC_SNR_3dB_semPCA_1585103081.1702538.json\n",
      "Classificando com o  SVC\n",
      "Salvando as informações num JSON: relatorio_teste_GSC_SNR_3dB_semPCA_1585103082.0882826.json\n",
      "Classificando com o  SVC\n",
      "Salvando as informações num JSON: relatorio_teste_GSC_SNR_3dB_semPCA_1585103083.01177.json\n",
      "Classificando com o  SVC\n",
      "Salvando as informações num JSON: relatorio_teste_GSC_SNR_3dB_semPCA_1585103083.9517958.json\n",
      "Classificando com o  SVC\n",
      "Salvando as informações num JSON: relatorio_teste_GSC_SNR_3dB_semPCA_1585103084.874375.json\n",
      "Classificando com o  SVC\n",
      "Salvando as informações num JSON: relatorio_teste_GSC_SNR_3dB_semPCA_1585103085.8322449.json\n",
      "Classificando com o  SVC\n",
      "Salvando as informações num JSON: relatorio_teste_GSC_SNR_3dB_semPCA_1585103086.762715.json\n",
      "Classificando com o  LinearDiscriminantAnalysis\n",
      "Salvando as informações num JSON: relatorio_teste_GSC_SNR_3dB_semPCA_1585103087.0964987.json\n",
      "Classificando com o  LinearDiscriminantAnalysis\n",
      "Salvando as informações num JSON: relatorio_teste_GSC_SNR_3dB_semPCA_1585103087.435199.json\n",
      "Classificando com o  LinearDiscriminantAnalysis\n",
      "Salvando as informações num JSON: relatorio_teste_GSC_SNR_3dB_semPCA_1585103087.7737014.json\n",
      "Classificando com o  LinearDiscriminantAnalysis\n",
      "Salvando as informações num JSON: relatorio_teste_GSC_SNR_3dB_semPCA_1585103088.11873.json\n",
      "Classificando com o  LinearDiscriminantAnalysis\n",
      "Salvando as informações num JSON: relatorio_teste_GSC_SNR_3dB_semPCA_1585103088.4483912.json\n",
      "Classificando com o  LinearDiscriminantAnalysis\n",
      "Salvando as informações num JSON: relatorio_teste_GSC_SNR_3dB_semPCA_1585103088.7732286.json\n",
      "Classificando com o  LinearDiscriminantAnalysis\n",
      "Salvando as informações num JSON: relatorio_teste_GSC_SNR_3dB_semPCA_1585103089.0908647.json\n",
      "Classificando com o  LinearDiscriminantAnalysis\n",
      "Salvando as informações num JSON: relatorio_teste_GSC_SNR_3dB_semPCA_1585103089.4229312.json\n",
      "Classificando com o  LinearDiscriminantAnalysis\n",
      "Salvando as informações num JSON: relatorio_teste_GSC_SNR_3dB_semPCA_1585103089.7454495.json\n",
      "Classificando com o  LinearDiscriminantAnalysis\n",
      "Salvando as informações num JSON: relatorio_teste_GSC_SNR_3dB_semPCA_1585103090.0634742.json\n",
      "O teste com todos os classificadores foi finalizado\n",
      "Classificando com o  SVC\n",
      "Salvando as informações num JSON: relatorio_teste_beamforming_SNR_1dB_semPCA_1585103091.107265.json\n",
      "Classificando com o  SVC\n",
      "Salvando as informações num JSON: relatorio_teste_beamforming_SNR_1dB_semPCA_1585103092.0494187.json\n",
      "Classificando com o  SVC\n",
      "Salvando as informações num JSON: relatorio_teste_beamforming_SNR_1dB_semPCA_1585103092.9114897.json\n",
      "Classificando com o  SVC\n",
      "Salvando as informações num JSON: relatorio_teste_beamforming_SNR_1dB_semPCA_1585103093.8296263.json\n",
      "Classificando com o  SVC\n",
      "Salvando as informações num JSON: relatorio_teste_beamforming_SNR_1dB_semPCA_1585103094.7337906.json\n",
      "Classificando com o  SVC\n",
      "Salvando as informações num JSON: relatorio_teste_beamforming_SNR_1dB_semPCA_1585103095.6387858.json\n",
      "Classificando com o  SVC\n",
      "Salvando as informações num JSON: relatorio_teste_beamforming_SNR_1dB_semPCA_1585103096.5556426.json\n",
      "Classificando com o  SVC\n",
      "Salvando as informações num JSON: relatorio_teste_beamforming_SNR_1dB_semPCA_1585103097.503322.json\n",
      "Classificando com o  SVC\n",
      "Salvando as informações num JSON: relatorio_teste_beamforming_SNR_1dB_semPCA_1585103098.4444802.json\n",
      "Classificando com o  SVC\n",
      "Salvando as informações num JSON: relatorio_teste_beamforming_SNR_1dB_semPCA_1585103099.3642929.json\n",
      "Classificando com o  LinearDiscriminantAnalysis\n",
      "Salvando as informações num JSON: relatorio_teste_beamforming_SNR_1dB_semPCA_1585103099.7034805.json\n",
      "Classificando com o  LinearDiscriminantAnalysis\n",
      "Salvando as informações num JSON: relatorio_teste_beamforming_SNR_1dB_semPCA_1585103100.0315804.json\n",
      "Classificando com o  LinearDiscriminantAnalysis\n",
      "Salvando as informações num JSON: relatorio_teste_beamforming_SNR_1dB_semPCA_1585103100.3551319.json\n",
      "Classificando com o  LinearDiscriminantAnalysis\n",
      "Salvando as informações num JSON: relatorio_teste_beamforming_SNR_1dB_semPCA_1585103100.6793375.json\n",
      "Classificando com o  LinearDiscriminantAnalysis\n",
      "Salvando as informações num JSON: relatorio_teste_beamforming_SNR_1dB_semPCA_1585103100.998434.json\n",
      "Classificando com o  LinearDiscriminantAnalysis\n",
      "Salvando as informações num JSON: relatorio_teste_beamforming_SNR_1dB_semPCA_1585103101.3093143.json\n",
      "Classificando com o  LinearDiscriminantAnalysis\n",
      "Salvando as informações num JSON: relatorio_teste_beamforming_SNR_1dB_semPCA_1585103101.627795.json\n",
      "Classificando com o  LinearDiscriminantAnalysis\n",
      "Salvando as informações num JSON: relatorio_teste_beamforming_SNR_1dB_semPCA_1585103101.9435015.json\n",
      "Classificando com o  LinearDiscriminantAnalysis\n",
      "Salvando as informações num JSON: relatorio_teste_beamforming_SNR_1dB_semPCA_1585103102.2566593.json\n",
      "Classificando com o  LinearDiscriminantAnalysis\n",
      "Salvando as informações num JSON: relatorio_teste_beamforming_SNR_1dB_semPCA_1585103102.5731452.json\n",
      "O teste com todos os classificadores foi finalizado\n",
      "Classificando com o  SVC\n",
      "Salvando as informações num JSON: relatorio_teste_GSC_SNR_1dB_semPCA_1585103103.7558608.json\n",
      "Classificando com o  SVC\n",
      "Salvando as informações num JSON: relatorio_teste_GSC_SNR_1dB_semPCA_1585103104.7387161.json\n",
      "Classificando com o  SVC\n",
      "Salvando as informações num JSON: relatorio_teste_GSC_SNR_1dB_semPCA_1585103105.702386.json\n",
      "Classificando com o  SVC\n",
      "Salvando as informações num JSON: relatorio_teste_GSC_SNR_1dB_semPCA_1585103106.7007363.json\n",
      "Classificando com o  SVC\n",
      "Salvando as informações num JSON: relatorio_teste_GSC_SNR_1dB_semPCA_1585103107.6193483.json\n",
      "Classificando com o  SVC\n",
      "Salvando as informações num JSON: relatorio_teste_GSC_SNR_1dB_semPCA_1585103108.5574994.json\n",
      "Classificando com o  SVC\n",
      "Salvando as informações num JSON: relatorio_teste_GSC_SNR_1dB_semPCA_1585103109.4393353.json\n",
      "Classificando com o  SVC\n",
      "Salvando as informações num JSON: relatorio_teste_GSC_SNR_1dB_semPCA_1585103110.321867.json\n",
      "Classificando com o  SVC\n",
      "Salvando as informações num JSON: relatorio_teste_GSC_SNR_1dB_semPCA_1585103111.2694046.json\n",
      "Classificando com o  SVC\n",
      "Salvando as informações num JSON: relatorio_teste_GSC_SNR_1dB_semPCA_1585103112.1680608.json\n",
      "Classificando com o  LinearDiscriminantAnalysis\n",
      "Salvando as informações num JSON: relatorio_teste_GSC_SNR_1dB_semPCA_1585103112.494306.json\n",
      "Classificando com o  LinearDiscriminantAnalysis\n",
      "Salvando as informações num JSON: relatorio_teste_GSC_SNR_1dB_semPCA_1585103112.8180618.json\n",
      "Classificando com o  LinearDiscriminantAnalysis\n",
      "Salvando as informações num JSON: relatorio_teste_GSC_SNR_1dB_semPCA_1585103113.1498013.json\n",
      "Classificando com o  LinearDiscriminantAnalysis\n",
      "Salvando as informações num JSON: relatorio_teste_GSC_SNR_1dB_semPCA_1585103113.4847806.json\n",
      "Classificando com o  LinearDiscriminantAnalysis\n",
      "Salvando as informações num JSON: relatorio_teste_GSC_SNR_1dB_semPCA_1585103113.8169656.json\n",
      "Classificando com o  LinearDiscriminantAnalysis\n",
      "Salvando as informações num JSON: relatorio_teste_GSC_SNR_1dB_semPCA_1585103114.1440184.json\n",
      "Classificando com o  LinearDiscriminantAnalysis\n",
      "Salvando as informações num JSON: relatorio_teste_GSC_SNR_1dB_semPCA_1585103114.4735785.json\n",
      "Classificando com o  LinearDiscriminantAnalysis\n",
      "Salvando as informações num JSON: relatorio_teste_GSC_SNR_1dB_semPCA_1585103114.8027775.json\n",
      "Classificando com o  LinearDiscriminantAnalysis\n",
      "Salvando as informações num JSON: relatorio_teste_GSC_SNR_1dB_semPCA_1585103115.1322987.json\n",
      "Classificando com o  LinearDiscriminantAnalysis\n",
      "Salvando as informações num JSON: relatorio_teste_GSC_SNR_1dB_semPCA_1585103115.4595945.json\n",
      "O teste com todos os classificadores foi finalizado\n",
      "Classificando com o  SVC\n"
     ]
    },
    {
     "name": "stdout",
     "output_type": "stream",
     "text": [
      "Salvando as informações num JSON: relatorio_teste_semBeamforming_SNR_1dB_semPCA_1585103116.4895165.json\n",
      "Classificando com o  SVC\n",
      "Salvando as informações num JSON: relatorio_teste_semBeamforming_SNR_1dB_semPCA_1585103117.4189734.json\n",
      "Classificando com o  SVC\n",
      "Salvando as informações num JSON: relatorio_teste_semBeamforming_SNR_1dB_semPCA_1585103118.2705462.json\n",
      "Classificando com o  SVC\n",
      "Salvando as informações num JSON: relatorio_teste_semBeamforming_SNR_1dB_semPCA_1585103119.1840959.json\n",
      "Classificando com o  SVC\n",
      "Salvando as informações num JSON: relatorio_teste_semBeamforming_SNR_1dB_semPCA_1585103120.1357546.json\n",
      "Classificando com o  SVC\n",
      "Salvando as informações num JSON: relatorio_teste_semBeamforming_SNR_1dB_semPCA_1585103121.0923202.json\n",
      "Classificando com o  SVC\n",
      "Salvando as informações num JSON: relatorio_teste_semBeamforming_SNR_1dB_semPCA_1585103121.9912903.json\n",
      "Classificando com o  SVC\n",
      "Salvando as informações num JSON: relatorio_teste_semBeamforming_SNR_1dB_semPCA_1585103122.9055185.json\n",
      "Classificando com o  SVC\n",
      "Salvando as informações num JSON: relatorio_teste_semBeamforming_SNR_1dB_semPCA_1585103123.8364704.json\n",
      "Classificando com o  SVC\n",
      "Salvando as informações num JSON: relatorio_teste_semBeamforming_SNR_1dB_semPCA_1585103124.7238133.json\n",
      "Classificando com o  LinearDiscriminantAnalysis\n",
      "Salvando as informações num JSON: relatorio_teste_semBeamforming_SNR_1dB_semPCA_1585103125.0296543.json\n",
      "Classificando com o  LinearDiscriminantAnalysis\n",
      "Salvando as informações num JSON: relatorio_teste_semBeamforming_SNR_1dB_semPCA_1585103125.3292325.json\n",
      "Classificando com o  LinearDiscriminantAnalysis\n",
      "Salvando as informações num JSON: relatorio_teste_semBeamforming_SNR_1dB_semPCA_1585103125.636552.json\n",
      "Classificando com o  LinearDiscriminantAnalysis\n",
      "Salvando as informações num JSON: relatorio_teste_semBeamforming_SNR_1dB_semPCA_1585103125.9382088.json\n",
      "Classificando com o  LinearDiscriminantAnalysis\n",
      "Salvando as informações num JSON: relatorio_teste_semBeamforming_SNR_1dB_semPCA_1585103126.2428565.json\n",
      "Classificando com o  LinearDiscriminantAnalysis\n",
      "Salvando as informações num JSON: relatorio_teste_semBeamforming_SNR_1dB_semPCA_1585103126.5492954.json\n",
      "Classificando com o  LinearDiscriminantAnalysis\n",
      "Salvando as informações num JSON: relatorio_teste_semBeamforming_SNR_1dB_semPCA_1585103126.853722.json\n",
      "Classificando com o  LinearDiscriminantAnalysis\n",
      "Salvando as informações num JSON: relatorio_teste_semBeamforming_SNR_1dB_semPCA_1585103127.1545546.json\n",
      "Classificando com o  LinearDiscriminantAnalysis\n",
      "Salvando as informações num JSON: relatorio_teste_semBeamforming_SNR_1dB_semPCA_1585103127.4642298.json\n",
      "Classificando com o  LinearDiscriminantAnalysis\n",
      "Salvando as informações num JSON: relatorio_teste_semBeamforming_SNR_1dB_semPCA_1585103127.7760332.json\n",
      "O teste com todos os classificadores foi finalizado\n",
      "Classificando com o  SVC\n",
      "Salvando as informações num JSON: relatorio_teste_semBeamforming_SNR_12dB_semPCA_1585103128.7758334.json\n",
      "Classificando com o  SVC\n",
      "Salvando as informações num JSON: relatorio_teste_semBeamforming_SNR_12dB_semPCA_1585103129.714274.json\n",
      "Classificando com o  SVC\n",
      "Salvando as informações num JSON: relatorio_teste_semBeamforming_SNR_12dB_semPCA_1585103130.5770435.json\n",
      "Classificando com o  SVC\n",
      "Salvando as informações num JSON: relatorio_teste_semBeamforming_SNR_12dB_semPCA_1585103131.4929378.json\n",
      "Classificando com o  SVC\n",
      "Salvando as informações num JSON: relatorio_teste_semBeamforming_SNR_12dB_semPCA_1585103132.3875728.json\n",
      "Classificando com o  SVC\n",
      "Salvando as informações num JSON: relatorio_teste_semBeamforming_SNR_12dB_semPCA_1585103133.279169.json\n",
      "Classificando com o  SVC\n",
      "Salvando as informações num JSON: relatorio_teste_semBeamforming_SNR_12dB_semPCA_1585103134.169211.json\n",
      "Classificando com o  SVC\n",
      "Salvando as informações num JSON: relatorio_teste_semBeamforming_SNR_12dB_semPCA_1585103135.0686514.json\n",
      "Classificando com o  SVC\n",
      "Salvando as informações num JSON: relatorio_teste_semBeamforming_SNR_12dB_semPCA_1585103135.9527335.json\n",
      "Classificando com o  SVC\n",
      "Salvando as informações num JSON: relatorio_teste_semBeamforming_SNR_12dB_semPCA_1585103136.8711672.json\n",
      "Classificando com o  LinearDiscriminantAnalysis\n",
      "Salvando as informações num JSON: relatorio_teste_semBeamforming_SNR_12dB_semPCA_1585103137.19188.json\n",
      "Classificando com o  LinearDiscriminantAnalysis\n",
      "Salvando as informações num JSON: relatorio_teste_semBeamforming_SNR_12dB_semPCA_1585103137.5338278.json\n",
      "Classificando com o  LinearDiscriminantAnalysis\n",
      "Salvando as informações num JSON: relatorio_teste_semBeamforming_SNR_12dB_semPCA_1585103137.8594682.json\n",
      "Classificando com o  LinearDiscriminantAnalysis\n",
      "Salvando as informações num JSON: relatorio_teste_semBeamforming_SNR_12dB_semPCA_1585103138.1821618.json\n",
      "Classificando com o  LinearDiscriminantAnalysis\n",
      "Salvando as informações num JSON: relatorio_teste_semBeamforming_SNR_12dB_semPCA_1585103138.5040228.json\n",
      "Classificando com o  LinearDiscriminantAnalysis\n",
      "Salvando as informações num JSON: relatorio_teste_semBeamforming_SNR_12dB_semPCA_1585103138.8157883.json\n",
      "Classificando com o  LinearDiscriminantAnalysis\n",
      "Salvando as informações num JSON: relatorio_teste_semBeamforming_SNR_12dB_semPCA_1585103139.1214044.json\n",
      "Classificando com o  LinearDiscriminantAnalysis\n",
      "Salvando as informações num JSON: relatorio_teste_semBeamforming_SNR_12dB_semPCA_1585103139.4341655.json\n",
      "Classificando com o  LinearDiscriminantAnalysis\n",
      "Salvando as informações num JSON: relatorio_teste_semBeamforming_SNR_12dB_semPCA_1585103139.7409506.json\n",
      "Classificando com o  LinearDiscriminantAnalysis\n",
      "Salvando as informações num JSON: relatorio_teste_semBeamforming_SNR_12dB_semPCA_1585103140.0654466.json\n",
      "O teste com todos os classificadores foi finalizado\n",
      "Classificando com o  SVC\n",
      "Salvando as informações num JSON: relatorio_teste_GSC_SNR_12dB_semPCA_1585103141.0554702.json\n",
      "Classificando com o  SVC\n",
      "Salvando as informações num JSON: relatorio_teste_GSC_SNR_12dB_semPCA_1585103141.9809687.json\n",
      "Classificando com o  SVC\n",
      "Salvando as informações num JSON: relatorio_teste_GSC_SNR_12dB_semPCA_1585103142.8409636.json\n",
      "Classificando com o  SVC\n",
      "Salvando as informações num JSON: relatorio_teste_GSC_SNR_12dB_semPCA_1585103143.7743273.json\n",
      "Classificando com o  SVC\n",
      "Salvando as informações num JSON: relatorio_teste_GSC_SNR_12dB_semPCA_1585103144.707648.json\n",
      "Classificando com o  SVC\n",
      "Salvando as informações num JSON: relatorio_teste_GSC_SNR_12dB_semPCA_1585103145.6462553.json\n",
      "Classificando com o  SVC\n",
      "Salvando as informações num JSON: relatorio_teste_GSC_SNR_12dB_semPCA_1585103146.5495088.json\n",
      "Classificando com o  SVC\n",
      "Salvando as informações num JSON: relatorio_teste_GSC_SNR_12dB_semPCA_1585103147.4547882.json\n",
      "Classificando com o  SVC\n",
      "Salvando as informações num JSON: relatorio_teste_GSC_SNR_12dB_semPCA_1585103148.3336592.json\n",
      "Classificando com o  SVC\n",
      "Salvando as informações num JSON: relatorio_teste_GSC_SNR_12dB_semPCA_1585103149.2061448.json\n",
      "Classificando com o  LinearDiscriminantAnalysis\n",
      "Salvando as informações num JSON: relatorio_teste_GSC_SNR_12dB_semPCA_1585103149.5166955.json\n",
      "Classificando com o  LinearDiscriminantAnalysis\n",
      "Salvando as informações num JSON: relatorio_teste_GSC_SNR_12dB_semPCA_1585103149.8219695.json\n",
      "Classificando com o  LinearDiscriminantAnalysis\n",
      "Salvando as informações num JSON: relatorio_teste_GSC_SNR_12dB_semPCA_1585103150.15635.json\n",
      "Classificando com o  LinearDiscriminantAnalysis\n",
      "Salvando as informações num JSON: relatorio_teste_GSC_SNR_12dB_semPCA_1585103150.4818234.json\n",
      "Classificando com o  LinearDiscriminantAnalysis\n",
      "Salvando as informações num JSON: relatorio_teste_GSC_SNR_12dB_semPCA_1585103150.786209.json\n",
      "Classificando com o  LinearDiscriminantAnalysis\n",
      "Salvando as informações num JSON: relatorio_teste_GSC_SNR_12dB_semPCA_1585103151.095658.json\n",
      "Classificando com o  LinearDiscriminantAnalysis\n",
      "Salvando as informações num JSON: relatorio_teste_GSC_SNR_12dB_semPCA_1585103151.420524.json\n",
      "Classificando com o  LinearDiscriminantAnalysis\n",
      "Salvando as informações num JSON: relatorio_teste_GSC_SNR_12dB_semPCA_1585103151.7475011.json\n",
      "Classificando com o  LinearDiscriminantAnalysis\n",
      "Salvando as informações num JSON: relatorio_teste_GSC_SNR_12dB_semPCA_1585103152.0743852.json\n",
      "Classificando com o  LinearDiscriminantAnalysis\n"
     ]
    },
    {
     "name": "stdout",
     "output_type": "stream",
     "text": [
      "Salvando as informações num JSON: relatorio_teste_GSC_SNR_12dB_semPCA_1585103152.4041684.json\n",
      "O teste com todos os classificadores foi finalizado\n",
      "Classificando com o  SVC\n",
      "Salvando as informações num JSON: relatorio_teste_beamforming_SNR_12dB_semPCA_1585103153.4299436.json\n",
      "Classificando com o  SVC\n",
      "Salvando as informações num JSON: relatorio_teste_beamforming_SNR_12dB_semPCA_1585103154.3921218.json\n",
      "Classificando com o  SVC\n",
      "Salvando as informações num JSON: relatorio_teste_beamforming_SNR_12dB_semPCA_1585103155.2725801.json\n",
      "Classificando com o  SVC\n",
      "Salvando as informações num JSON: relatorio_teste_beamforming_SNR_12dB_semPCA_1585103156.2157862.json\n",
      "Classificando com o  SVC\n",
      "Salvando as informações num JSON: relatorio_teste_beamforming_SNR_12dB_semPCA_1585103157.1640985.json\n",
      "Classificando com o  SVC\n",
      "Salvando as informações num JSON: relatorio_teste_beamforming_SNR_12dB_semPCA_1585103158.1392782.json\n",
      "Classificando com o  SVC\n",
      "Salvando as informações num JSON: relatorio_teste_beamforming_SNR_12dB_semPCA_1585103159.0478988.json\n",
      "Classificando com o  SVC\n",
      "Salvando as informações num JSON: relatorio_teste_beamforming_SNR_12dB_semPCA_1585103159.9776504.json\n",
      "Classificando com o  SVC\n",
      "Salvando as informações num JSON: relatorio_teste_beamforming_SNR_12dB_semPCA_1585103160.9401352.json\n",
      "Classificando com o  SVC\n",
      "Salvando as informações num JSON: relatorio_teste_beamforming_SNR_12dB_semPCA_1585103161.8416965.json\n",
      "Classificando com o  LinearDiscriminantAnalysis\n",
      "Salvando as informações num JSON: relatorio_teste_beamforming_SNR_12dB_semPCA_1585103162.1568828.json\n",
      "Classificando com o  LinearDiscriminantAnalysis\n",
      "Salvando as informações num JSON: relatorio_teste_beamforming_SNR_12dB_semPCA_1585103162.4641218.json\n",
      "Classificando com o  LinearDiscriminantAnalysis\n",
      "Salvando as informações num JSON: relatorio_teste_beamforming_SNR_12dB_semPCA_1585103162.7689772.json\n",
      "Classificando com o  LinearDiscriminantAnalysis\n",
      "Salvando as informações num JSON: relatorio_teste_beamforming_SNR_12dB_semPCA_1585103163.088706.json\n",
      "Classificando com o  LinearDiscriminantAnalysis\n",
      "Salvando as informações num JSON: relatorio_teste_beamforming_SNR_12dB_semPCA_1585103163.4258692.json\n",
      "Classificando com o  LinearDiscriminantAnalysis\n",
      "Salvando as informações num JSON: relatorio_teste_beamforming_SNR_12dB_semPCA_1585103163.7289019.json\n",
      "Classificando com o  LinearDiscriminantAnalysis\n",
      "Salvando as informações num JSON: relatorio_teste_beamforming_SNR_12dB_semPCA_1585103164.03517.json\n",
      "Classificando com o  LinearDiscriminantAnalysis\n",
      "Salvando as informações num JSON: relatorio_teste_beamforming_SNR_12dB_semPCA_1585103164.3353593.json\n",
      "Classificando com o  LinearDiscriminantAnalysis\n",
      "Salvando as informações num JSON: relatorio_teste_beamforming_SNR_12dB_semPCA_1585103164.642496.json\n",
      "Classificando com o  LinearDiscriminantAnalysis\n",
      "Salvando as informações num JSON: relatorio_teste_beamforming_SNR_12dB_semPCA_1585103164.965538.json\n",
      "O teste com todos os classificadores foi finalizado\n",
      "Classificando com o  SVC\n",
      "Salvando as informações num JSON: relatorio_teste_GSC_SNR_28dB_semPCA_1585103165.9504058.json\n",
      "Classificando com o  SVC\n",
      "Salvando as informações num JSON: relatorio_teste_GSC_SNR_28dB_semPCA_1585103166.8855982.json\n",
      "Classificando com o  SVC\n",
      "Salvando as informações num JSON: relatorio_teste_GSC_SNR_28dB_semPCA_1585103167.7464461.json\n",
      "Classificando com o  SVC\n",
      "Salvando as informações num JSON: relatorio_teste_GSC_SNR_28dB_semPCA_1585103168.6603334.json\n",
      "Classificando com o  SVC\n",
      "Salvando as informações num JSON: relatorio_teste_GSC_SNR_28dB_semPCA_1585103169.5579028.json\n",
      "Classificando com o  SVC\n",
      "Salvando as informações num JSON: relatorio_teste_GSC_SNR_28dB_semPCA_1585103170.4549186.json\n",
      "Classificando com o  SVC\n",
      "Salvando as informações num JSON: relatorio_teste_GSC_SNR_28dB_semPCA_1585103171.3753192.json\n",
      "Classificando com o  SVC\n",
      "Salvando as informações num JSON: relatorio_teste_GSC_SNR_28dB_semPCA_1585103172.2822254.json\n",
      "Classificando com o  SVC\n",
      "Salvando as informações num JSON: relatorio_teste_GSC_SNR_28dB_semPCA_1585103173.2008402.json\n",
      "Classificando com o  SVC\n",
      "Salvando as informações num JSON: relatorio_teste_GSC_SNR_28dB_semPCA_1585103174.0897603.json\n",
      "Classificando com o  LinearDiscriminantAnalysis\n",
      "Salvando as informações num JSON: relatorio_teste_GSC_SNR_28dB_semPCA_1585103174.4173305.json\n",
      "Classificando com o  LinearDiscriminantAnalysis\n",
      "Salvando as informações num JSON: relatorio_teste_GSC_SNR_28dB_semPCA_1585103174.7418153.json\n",
      "Classificando com o  LinearDiscriminantAnalysis\n",
      "Salvando as informações num JSON: relatorio_teste_GSC_SNR_28dB_semPCA_1585103175.064018.json\n",
      "Classificando com o  LinearDiscriminantAnalysis\n",
      "Salvando as informações num JSON: relatorio_teste_GSC_SNR_28dB_semPCA_1585103175.3722043.json\n",
      "Classificando com o  LinearDiscriminantAnalysis\n",
      "Salvando as informações num JSON: relatorio_teste_GSC_SNR_28dB_semPCA_1585103175.686434.json\n",
      "Classificando com o  LinearDiscriminantAnalysis\n",
      "Salvando as informações num JSON: relatorio_teste_GSC_SNR_28dB_semPCA_1585103175.9900265.json\n",
      "Classificando com o  LinearDiscriminantAnalysis\n",
      "Salvando as informações num JSON: relatorio_teste_GSC_SNR_28dB_semPCA_1585103176.2936032.json\n",
      "Classificando com o  LinearDiscriminantAnalysis\n",
      "Salvando as informações num JSON: relatorio_teste_GSC_SNR_28dB_semPCA_1585103176.6216772.json\n",
      "Classificando com o  LinearDiscriminantAnalysis\n",
      "Salvando as informações num JSON: relatorio_teste_GSC_SNR_28dB_semPCA_1585103176.9475756.json\n",
      "Classificando com o  LinearDiscriminantAnalysis\n",
      "Salvando as informações num JSON: relatorio_teste_GSC_SNR_28dB_semPCA_1585103177.2694905.json\n",
      "O teste com todos os classificadores foi finalizado\n",
      "Classificando com o  SVC\n",
      "Salvando as informações num JSON: relatorio_teste_semBeamforming_SNR_28dB_semPCA_1585103178.2580404.json\n",
      "Classificando com o  SVC\n",
      "Salvando as informações num JSON: relatorio_teste_semBeamforming_SNR_28dB_semPCA_1585103179.2700584.json\n",
      "Classificando com o  SVC\n",
      "Salvando as informações num JSON: relatorio_teste_semBeamforming_SNR_28dB_semPCA_1585103180.170342.json\n",
      "Classificando com o  SVC\n",
      "Salvando as informações num JSON: relatorio_teste_semBeamforming_SNR_28dB_semPCA_1585103181.1795971.json\n",
      "Classificando com o  SVC\n",
      "Salvando as informações num JSON: relatorio_teste_semBeamforming_SNR_28dB_semPCA_1585103182.3461475.json\n",
      "Classificando com o  SVC\n",
      "Salvando as informações num JSON: relatorio_teste_semBeamforming_SNR_28dB_semPCA_1585103183.6020544.json\n",
      "Classificando com o  SVC\n",
      "Salvando as informações num JSON: relatorio_teste_semBeamforming_SNR_28dB_semPCA_1585103184.9915626.json\n",
      "Classificando com o  SVC\n",
      "Salvando as informações num JSON: relatorio_teste_semBeamforming_SNR_28dB_semPCA_1585103186.2318058.json\n",
      "Classificando com o  SVC\n",
      "Salvando as informações num JSON: relatorio_teste_semBeamforming_SNR_28dB_semPCA_1585103187.3861072.json\n",
      "Classificando com o  SVC\n",
      "Salvando as informações num JSON: relatorio_teste_semBeamforming_SNR_28dB_semPCA_1585103188.2742434.json\n",
      "Classificando com o  LinearDiscriminantAnalysis\n",
      "Salvando as informações num JSON: relatorio_teste_semBeamforming_SNR_28dB_semPCA_1585103188.592191.json\n",
      "Classificando com o  LinearDiscriminantAnalysis\n",
      "Salvando as informações num JSON: relatorio_teste_semBeamforming_SNR_28dB_semPCA_1585103188.9056134.json\n",
      "Classificando com o  LinearDiscriminantAnalysis\n",
      "Salvando as informações num JSON: relatorio_teste_semBeamforming_SNR_28dB_semPCA_1585103189.2264187.json\n",
      "Classificando com o  LinearDiscriminantAnalysis\n",
      "Salvando as informações num JSON: relatorio_teste_semBeamforming_SNR_28dB_semPCA_1585103189.5443313.json\n",
      "Classificando com o  LinearDiscriminantAnalysis\n",
      "Salvando as informações num JSON: relatorio_teste_semBeamforming_SNR_28dB_semPCA_1585103189.8556826.json\n",
      "Classificando com o  LinearDiscriminantAnalysis\n",
      "Salvando as informações num JSON: relatorio_teste_semBeamforming_SNR_28dB_semPCA_1585103190.1727233.json\n",
      "Classificando com o  LinearDiscriminantAnalysis\n",
      "Salvando as informações num JSON: relatorio_teste_semBeamforming_SNR_28dB_semPCA_1585103190.5018656.json\n",
      "Classificando com o  LinearDiscriminantAnalysis\n",
      "Salvando as informações num JSON: relatorio_teste_semBeamforming_SNR_28dB_semPCA_1585103190.8213475.json\n",
      "Classificando com o  LinearDiscriminantAnalysis\n"
     ]
    },
    {
     "name": "stdout",
     "output_type": "stream",
     "text": [
      "Salvando as informações num JSON: relatorio_teste_semBeamforming_SNR_28dB_semPCA_1585103191.140771.json\n",
      "Classificando com o  LinearDiscriminantAnalysis\n",
      "Salvando as informações num JSON: relatorio_teste_semBeamforming_SNR_28dB_semPCA_1585103191.4658372.json\n",
      "O teste com todos os classificadores foi finalizado\n",
      "Classificando com o  SVC\n",
      "Salvando as informações num JSON: relatorio_teste_beamforming_SNR_28dB_semPCA_1585103192.439542.json\n",
      "Classificando com o  SVC\n",
      "Salvando as informações num JSON: relatorio_teste_beamforming_SNR_28dB_semPCA_1585103193.3629613.json\n",
      "Classificando com o  SVC\n",
      "Salvando as informações num JSON: relatorio_teste_beamforming_SNR_28dB_semPCA_1585103194.2136729.json\n",
      "Classificando com o  SVC\n",
      "Salvando as informações num JSON: relatorio_teste_beamforming_SNR_28dB_semPCA_1585103195.126857.json\n",
      "Classificando com o  SVC\n",
      "Salvando as informações num JSON: relatorio_teste_beamforming_SNR_28dB_semPCA_1585103196.027818.json\n",
      "Classificando com o  SVC\n",
      "Salvando as informações num JSON: relatorio_teste_beamforming_SNR_28dB_semPCA_1585103196.9272454.json\n",
      "Classificando com o  SVC\n",
      "Salvando as informações num JSON: relatorio_teste_beamforming_SNR_28dB_semPCA_1585103197.8204558.json\n",
      "Classificando com o  SVC\n",
      "Salvando as informações num JSON: relatorio_teste_beamforming_SNR_28dB_semPCA_1585103198.7120936.json\n",
      "Classificando com o  SVC\n",
      "Salvando as informações num JSON: relatorio_teste_beamforming_SNR_28dB_semPCA_1585103199.6301641.json\n",
      "Classificando com o  SVC\n",
      "Salvando as informações num JSON: relatorio_teste_beamforming_SNR_28dB_semPCA_1585103200.497476.json\n",
      "Classificando com o  LinearDiscriminantAnalysis\n",
      "Salvando as informações num JSON: relatorio_teste_beamforming_SNR_28dB_semPCA_1585103200.8213098.json\n",
      "Classificando com o  LinearDiscriminantAnalysis\n",
      "Salvando as informações num JSON: relatorio_teste_beamforming_SNR_28dB_semPCA_1585103201.1441262.json\n",
      "Classificando com o  LinearDiscriminantAnalysis\n",
      "Salvando as informações num JSON: relatorio_teste_beamforming_SNR_28dB_semPCA_1585103201.477523.json\n",
      "Classificando com o  LinearDiscriminantAnalysis\n",
      "Salvando as informações num JSON: relatorio_teste_beamforming_SNR_28dB_semPCA_1585103201.7899866.json\n",
      "Classificando com o  LinearDiscriminantAnalysis\n",
      "Salvando as informações num JSON: relatorio_teste_beamforming_SNR_28dB_semPCA_1585103202.1036272.json\n",
      "Classificando com o  LinearDiscriminantAnalysis\n",
      "Salvando as informações num JSON: relatorio_teste_beamforming_SNR_28dB_semPCA_1585103202.4229727.json\n",
      "Classificando com o  LinearDiscriminantAnalysis\n",
      "Salvando as informações num JSON: relatorio_teste_beamforming_SNR_28dB_semPCA_1585103202.7277012.json\n",
      "Classificando com o  LinearDiscriminantAnalysis\n",
      "Salvando as informações num JSON: relatorio_teste_beamforming_SNR_28dB_semPCA_1585103203.0379028.json\n",
      "Classificando com o  LinearDiscriminantAnalysis\n",
      "Salvando as informações num JSON: relatorio_teste_beamforming_SNR_28dB_semPCA_1585103203.3622131.json\n",
      "Classificando com o  LinearDiscriminantAnalysis\n",
      "Salvando as informações num JSON: relatorio_teste_beamforming_SNR_28dB_semPCA_1585103203.7115138.json\n",
      "O teste com todos os classificadores foi finalizado\n",
      "Classificando com o  SVC\n",
      "Salvando as informações num JSON: relatorio_teste_beamforming_SNR_-4dB_semPCA_1585103204.7117934.json\n",
      "Classificando com o  SVC\n"
     ]
    },
    {
     "name": "stderr",
     "output_type": "stream",
     "text": [
      "/home/dimi/venvIC/lib/python3.7/site-packages/sklearn/metrics/classification.py:1437: UndefinedMetricWarning: Precision and F-score are ill-defined and being set to 0.0 in labels with no predicted samples.\n",
      "  'precision', 'predicted', average, warn_for)\n"
     ]
    },
    {
     "name": "stdout",
     "output_type": "stream",
     "text": [
      "Salvando as informações num JSON: relatorio_teste_beamforming_SNR_-4dB_semPCA_1585103205.4563067.json\n",
      "Classificando com o  SVC\n",
      "Salvando as informações num JSON: relatorio_teste_beamforming_SNR_-4dB_semPCA_1585103206.180401.json\n",
      "Classificando com o  SVC\n"
     ]
    },
    {
     "name": "stderr",
     "output_type": "stream",
     "text": [
      "/home/dimi/venvIC/lib/python3.7/site-packages/sklearn/metrics/classification.py:1437: UndefinedMetricWarning: Precision and F-score are ill-defined and being set to 0.0 in labels with no predicted samples.\n",
      "  'precision', 'predicted', average, warn_for)\n"
     ]
    },
    {
     "name": "stdout",
     "output_type": "stream",
     "text": [
      "Salvando as informações num JSON: relatorio_teste_beamforming_SNR_-4dB_semPCA_1585103206.9924362.json\n",
      "Classificando com o  SVC\n"
     ]
    },
    {
     "name": "stderr",
     "output_type": "stream",
     "text": [
      "/home/dimi/venvIC/lib/python3.7/site-packages/sklearn/metrics/classification.py:1437: UndefinedMetricWarning: Precision and F-score are ill-defined and being set to 0.0 in labels with no predicted samples.\n",
      "  'precision', 'predicted', average, warn_for)\n"
     ]
    },
    {
     "name": "stdout",
     "output_type": "stream",
     "text": [
      "Salvando as informações num JSON: relatorio_teste_beamforming_SNR_-4dB_semPCA_1585103207.7401752.json\n",
      "Classificando com o  SVC\n"
     ]
    },
    {
     "name": "stderr",
     "output_type": "stream",
     "text": [
      "/home/dimi/venvIC/lib/python3.7/site-packages/sklearn/metrics/classification.py:1437: UndefinedMetricWarning: Precision and F-score are ill-defined and being set to 0.0 in labels with no predicted samples.\n",
      "  'precision', 'predicted', average, warn_for)\n"
     ]
    },
    {
     "name": "stdout",
     "output_type": "stream",
     "text": [
      "Salvando as informações num JSON: relatorio_teste_beamforming_SNR_-4dB_semPCA_1585103208.4712162.json\n",
      "Classificando com o  SVC\n",
      "Salvando as informações num JSON: relatorio_teste_beamforming_SNR_-4dB_semPCA_1585103209.21125.json\n",
      "Classificando com o  SVC\n",
      "Salvando as informações num JSON: relatorio_teste_beamforming_SNR_-4dB_semPCA_1585103209.9432168.json\n",
      "Classificando com o  SVC\n",
      "Salvando as informações num JSON: relatorio_teste_beamforming_SNR_-4dB_semPCA_1585103210.7724571.json\n",
      "Classificando com o  SVC\n",
      "Salvando as informações num JSON: relatorio_teste_beamforming_SNR_-4dB_semPCA_1585103211.7278647.json\n",
      "Classificando com o  LinearDiscriminantAnalysis\n",
      "Salvando as informações num JSON: relatorio_teste_beamforming_SNR_-4dB_semPCA_1585103212.0515542.json\n",
      "Classificando com o  LinearDiscriminantAnalysis\n",
      "Salvando as informações num JSON: relatorio_teste_beamforming_SNR_-4dB_semPCA_1585103212.4001224.json\n",
      "Classificando com o  LinearDiscriminantAnalysis\n",
      "Salvando as informações num JSON: relatorio_teste_beamforming_SNR_-4dB_semPCA_1585103212.7443838.json\n",
      "Classificando com o  LinearDiscriminantAnalysis\n",
      "Salvando as informações num JSON: relatorio_teste_beamforming_SNR_-4dB_semPCA_1585103213.0664217.json\n",
      "Classificando com o  LinearDiscriminantAnalysis\n",
      "Salvando as informações num JSON: relatorio_teste_beamforming_SNR_-4dB_semPCA_1585103213.4125001.json\n",
      "Classificando com o  LinearDiscriminantAnalysis\n"
     ]
    },
    {
     "name": "stderr",
     "output_type": "stream",
     "text": [
      "/home/dimi/venvIC/lib/python3.7/site-packages/sklearn/metrics/classification.py:1437: UndefinedMetricWarning: Precision and F-score are ill-defined and being set to 0.0 in labels with no predicted samples.\n",
      "  'precision', 'predicted', average, warn_for)\n"
     ]
    },
    {
     "name": "stdout",
     "output_type": "stream",
     "text": [
      "Salvando as informações num JSON: relatorio_teste_beamforming_SNR_-4dB_semPCA_1585103213.8085434.json\n",
      "Classificando com o  LinearDiscriminantAnalysis\n",
      "Salvando as informações num JSON: relatorio_teste_beamforming_SNR_-4dB_semPCA_1585103214.1431227.json\n",
      "Classificando com o  LinearDiscriminantAnalysis\n",
      "Salvando as informações num JSON: relatorio_teste_beamforming_SNR_-4dB_semPCA_1585103214.4774957.json\n",
      "Classificando com o  LinearDiscriminantAnalysis\n",
      "Salvando as informações num JSON: relatorio_teste_beamforming_SNR_-4dB_semPCA_1585103214.7975638.json\n",
      "Classificando com o  LinearDiscriminantAnalysis\n",
      "Salvando as informações num JSON: relatorio_teste_beamforming_SNR_-4dB_semPCA_1585103215.1222599.json\n",
      "O teste com todos os classificadores foi finalizado\n",
      "Classificando com o  SVC\n",
      "Salvando as informações num JSON: relatorio_teste_GSC_SNR_-4dB_semPCA_1585103216.1085863.json\n",
      "Classificando com o  SVC\n"
     ]
    },
    {
     "name": "stderr",
     "output_type": "stream",
     "text": [
      "/home/dimi/venvIC/lib/python3.7/site-packages/sklearn/metrics/classification.py:1437: UndefinedMetricWarning: Precision and F-score are ill-defined and being set to 0.0 in labels with no predicted samples.\n",
      "  'precision', 'predicted', average, warn_for)\n"
     ]
    },
    {
     "name": "stdout",
     "output_type": "stream",
     "text": [
      "Salvando as informações num JSON: relatorio_teste_GSC_SNR_-4dB_semPCA_1585103217.1513019.json\n",
      "Classificando com o  SVC\n",
      "Salvando as informações num JSON: relatorio_teste_GSC_SNR_-4dB_semPCA_1585103217.886758.json\n",
      "Classificando com o  SVC\n"
     ]
    },
    {
     "name": "stderr",
     "output_type": "stream",
     "text": [
      "/home/dimi/venvIC/lib/python3.7/site-packages/sklearn/metrics/classification.py:1437: UndefinedMetricWarning: Precision and F-score are ill-defined and being set to 0.0 in labels with no predicted samples.\n",
      "  'precision', 'predicted', average, warn_for)\n"
     ]
    },
    {
     "name": "stdout",
     "output_type": "stream",
     "text": [
      "Salvando as informações num JSON: relatorio_teste_GSC_SNR_-4dB_semPCA_1585103218.6172795.json\n",
      "Classificando com o  SVC\n",
      "Salvando as informações num JSON: relatorio_teste_GSC_SNR_-4dB_semPCA_1585103219.393913.json\n",
      "Classificando com o  SVC\n"
     ]
    },
    {
     "name": "stderr",
     "output_type": "stream",
     "text": [
      "/home/dimi/venvIC/lib/python3.7/site-packages/sklearn/metrics/classification.py:1437: UndefinedMetricWarning: Precision and F-score are ill-defined and being set to 0.0 in labels with no predicted samples.\n",
      "  'precision', 'predicted', average, warn_for)\n"
     ]
    },
    {
     "name": "stdout",
     "output_type": "stream",
     "text": [
      "Salvando as informações num JSON: relatorio_teste_GSC_SNR_-4dB_semPCA_1585103220.218437.json\n",
      "Classificando com o  SVC\n",
      "Salvando as informações num JSON: relatorio_teste_GSC_SNR_-4dB_semPCA_1585103220.9376144.json\n",
      "Classificando com o  SVC\n",
      "Salvando as informações num JSON: relatorio_teste_GSC_SNR_-4dB_semPCA_1585103221.6699395.json\n",
      "Classificando com o  SVC\n",
      "Salvando as informações num JSON: relatorio_teste_GSC_SNR_-4dB_semPCA_1585103222.385874.json\n",
      "Classificando com o  SVC\n",
      "Salvando as informações num JSON: relatorio_teste_GSC_SNR_-4dB_semPCA_1585103223.1894374.json\n",
      "Classificando com o  LinearDiscriminantAnalysis\n",
      "Salvando as informações num JSON: relatorio_teste_GSC_SNR_-4dB_semPCA_1585103223.4340618.json\n",
      "Classificando com o  LinearDiscriminantAnalysis\n",
      "Salvando as informações num JSON: relatorio_teste_GSC_SNR_-4dB_semPCA_1585103223.6745505.json\n",
      "Classificando com o  LinearDiscriminantAnalysis\n",
      "Salvando as informações num JSON: relatorio_teste_GSC_SNR_-4dB_semPCA_1585103223.9223778.json\n",
      "Classificando com o  LinearDiscriminantAnalysis\n",
      "Salvando as informações num JSON: relatorio_teste_GSC_SNR_-4dB_semPCA_1585103224.1679137.json\n",
      "Classificando com o  LinearDiscriminantAnalysis\n",
      "Salvando as informações num JSON: relatorio_teste_GSC_SNR_-4dB_semPCA_1585103224.4157624.json\n",
      "Classificando com o  LinearDiscriminantAnalysis\n"
     ]
    },
    {
     "name": "stderr",
     "output_type": "stream",
     "text": [
      "/home/dimi/venvIC/lib/python3.7/site-packages/sklearn/metrics/classification.py:1437: UndefinedMetricWarning: Precision and F-score are ill-defined and being set to 0.0 in labels with no predicted samples.\n",
      "  'precision', 'predicted', average, warn_for)\n"
     ]
    },
    {
     "name": "stdout",
     "output_type": "stream",
     "text": [
      "Salvando as informações num JSON: relatorio_teste_GSC_SNR_-4dB_semPCA_1585103224.6622777.json\n",
      "Classificando com o  LinearDiscriminantAnalysis\n",
      "Salvando as informações num JSON: relatorio_teste_GSC_SNR_-4dB_semPCA_1585103224.9099395.json\n",
      "Classificando com o  LinearDiscriminantAnalysis\n",
      "Salvando as informações num JSON: relatorio_teste_GSC_SNR_-4dB_semPCA_1585103225.155165.json\n",
      "Classificando com o  LinearDiscriminantAnalysis\n",
      "Salvando as informações num JSON: relatorio_teste_GSC_SNR_-4dB_semPCA_1585103225.4061968.json\n",
      "Classificando com o  LinearDiscriminantAnalysis\n",
      "Salvando as informações num JSON: relatorio_teste_GSC_SNR_-4dB_semPCA_1585103225.6479912.json\n",
      "O teste com todos os classificadores foi finalizado\n",
      "Classificando com o  SVC\n",
      "Salvando as informações num JSON: relatorio_teste_semBeamforming_SNR_-4dB_semPCA_1585103226.4676437.json\n",
      "Classificando com o  SVC\n"
     ]
    },
    {
     "name": "stderr",
     "output_type": "stream",
     "text": [
      "/home/dimi/venvIC/lib/python3.7/site-packages/sklearn/metrics/classification.py:1437: UndefinedMetricWarning: Precision and F-score are ill-defined and being set to 0.0 in labels with no predicted samples.\n",
      "  'precision', 'predicted', average, warn_for)\n"
     ]
    },
    {
     "name": "stdout",
     "output_type": "stream",
     "text": [
      "Salvando as informações num JSON: relatorio_teste_semBeamforming_SNR_-4dB_semPCA_1585103227.206769.json\n",
      "Classificando com o  SVC\n",
      "Salvando as informações num JSON: relatorio_teste_semBeamforming_SNR_-4dB_semPCA_1585103227.9009585.json\n",
      "Classificando com o  SVC\n"
     ]
    },
    {
     "name": "stderr",
     "output_type": "stream",
     "text": [
      "/home/dimi/venvIC/lib/python3.7/site-packages/sklearn/metrics/classification.py:1437: UndefinedMetricWarning: Precision and F-score are ill-defined and being set to 0.0 in labels with no predicted samples.\n",
      "  'precision', 'predicted', average, warn_for)\n"
     ]
    },
    {
     "name": "stdout",
     "output_type": "stream",
     "text": [
      "Salvando as informações num JSON: relatorio_teste_semBeamforming_SNR_-4dB_semPCA_1585103228.6299098.json\n",
      "Classificando com o  SVC\n"
     ]
    },
    {
     "name": "stderr",
     "output_type": "stream",
     "text": [
      "/home/dimi/venvIC/lib/python3.7/site-packages/sklearn/metrics/classification.py:1437: UndefinedMetricWarning: Precision and F-score are ill-defined and being set to 0.0 in labels with no predicted samples.\n",
      "  'precision', 'predicted', average, warn_for)\n"
     ]
    },
    {
     "name": "stdout",
     "output_type": "stream",
     "text": [
      "Salvando as informações num JSON: relatorio_teste_semBeamforming_SNR_-4dB_semPCA_1585103229.3555577.json\n",
      "Classificando com o  SVC\n"
     ]
    },
    {
     "name": "stderr",
     "output_type": "stream",
     "text": [
      "/home/dimi/venvIC/lib/python3.7/site-packages/sklearn/metrics/classification.py:1437: UndefinedMetricWarning: Precision and F-score are ill-defined and being set to 0.0 in labels with no predicted samples.\n",
      "  'precision', 'predicted', average, warn_for)\n"
     ]
    },
    {
     "name": "stdout",
     "output_type": "stream",
     "text": [
      "Salvando as informações num JSON: relatorio_teste_semBeamforming_SNR_-4dB_semPCA_1585103230.0791178.json\n",
      "Classificando com o  SVC\n",
      "Salvando as informações num JSON: relatorio_teste_semBeamforming_SNR_-4dB_semPCA_1585103231.1103225.json\n",
      "Classificando com o  SVC\n",
      "Salvando as informações num JSON: relatorio_teste_semBeamforming_SNR_-4dB_semPCA_1585103232.0351424.json\n",
      "Classificando com o  SVC\n",
      "Salvando as informações num JSON: relatorio_teste_semBeamforming_SNR_-4dB_semPCA_1585103232.9360268.json\n",
      "Classificando com o  SVC\n",
      "Salvando as informações num JSON: relatorio_teste_semBeamforming_SNR_-4dB_semPCA_1585103233.8937206.json\n",
      "Classificando com o  LinearDiscriminantAnalysis\n",
      "Salvando as informações num JSON: relatorio_teste_semBeamforming_SNR_-4dB_semPCA_1585103234.2160835.json\n",
      "Classificando com o  LinearDiscriminantAnalysis\n",
      "Salvando as informações num JSON: relatorio_teste_semBeamforming_SNR_-4dB_semPCA_1585103234.5474005.json\n",
      "Classificando com o  LinearDiscriminantAnalysis\n",
      "Salvando as informações num JSON: relatorio_teste_semBeamforming_SNR_-4dB_semPCA_1585103234.8707914.json\n",
      "Classificando com o  LinearDiscriminantAnalysis\n",
      "Salvando as informações num JSON: relatorio_teste_semBeamforming_SNR_-4dB_semPCA_1585103235.2041507.json\n",
      "Classificando com o  LinearDiscriminantAnalysis\n",
      "Salvando as informações num JSON: relatorio_teste_semBeamforming_SNR_-4dB_semPCA_1585103235.557508.json\n",
      "Classificando com o  LinearDiscriminantAnalysis\n"
     ]
    },
    {
     "name": "stderr",
     "output_type": "stream",
     "text": [
      "/home/dimi/venvIC/lib/python3.7/site-packages/sklearn/metrics/classification.py:1437: UndefinedMetricWarning: Precision and F-score are ill-defined and being set to 0.0 in labels with no predicted samples.\n",
      "  'precision', 'predicted', average, warn_for)\n"
     ]
    },
    {
     "name": "stdout",
     "output_type": "stream",
     "text": [
      "Salvando as informações num JSON: relatorio_teste_semBeamforming_SNR_-4dB_semPCA_1585103235.8957174.json\n",
      "Classificando com o  LinearDiscriminantAnalysis\n",
      "Salvando as informações num JSON: relatorio_teste_semBeamforming_SNR_-4dB_semPCA_1585103236.2217343.json\n",
      "Classificando com o  LinearDiscriminantAnalysis\n",
      "Salvando as informações num JSON: relatorio_teste_semBeamforming_SNR_-4dB_semPCA_1585103236.5702517.json\n",
      "Classificando com o  LinearDiscriminantAnalysis\n",
      "Salvando as informações num JSON: relatorio_teste_semBeamforming_SNR_-4dB_semPCA_1585103236.9089723.json\n",
      "Classificando com o  LinearDiscriminantAnalysis\n",
      "Salvando as informações num JSON: relatorio_teste_semBeamforming_SNR_-4dB_semPCA_1585103237.2343411.json\n",
      "O teste com todos os classificadores foi finalizado\n",
      "Classificando com o  SVC\n",
      "Salvando as informações num JSON: relatorio_teste_beamforming_SNR_23dB_semPCA_1585103238.2400954.json\n",
      "Classificando com o  SVC\n",
      "Salvando as informações num JSON: relatorio_teste_beamforming_SNR_23dB_semPCA_1585103239.169523.json\n",
      "Classificando com o  SVC\n",
      "Salvando as informações num JSON: relatorio_teste_beamforming_SNR_23dB_semPCA_1585103240.0267036.json\n",
      "Classificando com o  SVC\n",
      "Salvando as informações num JSON: relatorio_teste_beamforming_SNR_23dB_semPCA_1585103240.9601672.json\n",
      "Classificando com o  SVC\n",
      "Salvando as informações num JSON: relatorio_teste_beamforming_SNR_23dB_semPCA_1585103241.8726182.json\n",
      "Classificando com o  SVC\n",
      "Salvando as informações num JSON: relatorio_teste_beamforming_SNR_23dB_semPCA_1585103242.8190346.json\n",
      "Classificando com o  SVC\n",
      "Salvando as informações num JSON: relatorio_teste_beamforming_SNR_23dB_semPCA_1585103243.738016.json\n",
      "Classificando com o  SVC\n",
      "Salvando as informações num JSON: relatorio_teste_beamforming_SNR_23dB_semPCA_1585103244.6257598.json\n",
      "Classificando com o  SVC\n",
      "Salvando as informações num JSON: relatorio_teste_beamforming_SNR_23dB_semPCA_1585103245.51188.json\n",
      "Classificando com o  SVC\n",
      "Salvando as informações num JSON: relatorio_teste_beamforming_SNR_23dB_semPCA_1585103246.3884056.json\n",
      "Classificando com o  LinearDiscriminantAnalysis\n",
      "Salvando as informações num JSON: relatorio_teste_beamforming_SNR_23dB_semPCA_1585103246.6944728.json\n",
      "Classificando com o  LinearDiscriminantAnalysis\n",
      "Salvando as informações num JSON: relatorio_teste_beamforming_SNR_23dB_semPCA_1585103247.004518.json\n",
      "Classificando com o  LinearDiscriminantAnalysis\n",
      "Salvando as informações num JSON: relatorio_teste_beamforming_SNR_23dB_semPCA_1585103247.3114107.json\n",
      "Classificando com o  LinearDiscriminantAnalysis\n",
      "Salvando as informações num JSON: relatorio_teste_beamforming_SNR_23dB_semPCA_1585103247.6212802.json\n",
      "Classificando com o  LinearDiscriminantAnalysis\n",
      "Salvando as informações num JSON: relatorio_teste_beamforming_SNR_23dB_semPCA_1585103247.9299214.json\n",
      "Classificando com o  LinearDiscriminantAnalysis\n",
      "Salvando as informações num JSON: relatorio_teste_beamforming_SNR_23dB_semPCA_1585103248.246395.json\n",
      "Classificando com o  LinearDiscriminantAnalysis\n",
      "Salvando as informações num JSON: relatorio_teste_beamforming_SNR_23dB_semPCA_1585103248.5720682.json\n",
      "Classificando com o  LinearDiscriminantAnalysis\n",
      "Salvando as informações num JSON: relatorio_teste_beamforming_SNR_23dB_semPCA_1585103248.9007502.json\n",
      "Classificando com o  LinearDiscriminantAnalysis\n",
      "Salvando as informações num JSON: relatorio_teste_beamforming_SNR_23dB_semPCA_1585103249.2133265.json\n",
      "Classificando com o  LinearDiscriminantAnalysis\n",
      "Salvando as informações num JSON: relatorio_teste_beamforming_SNR_23dB_semPCA_1585103249.5302937.json\n",
      "O teste com todos os classificadores foi finalizado\n",
      "Classificando com o  SVC\n",
      "Salvando as informações num JSON: relatorio_teste_semBeamforming_SNR_23dB_semPCA_1585103250.5242307.json\n",
      "Classificando com o  SVC\n",
      "Salvando as informações num JSON: relatorio_teste_semBeamforming_SNR_23dB_semPCA_1585103251.4494429.json\n",
      "Classificando com o  SVC\n",
      "Salvando as informações num JSON: relatorio_teste_semBeamforming_SNR_23dB_semPCA_1585103252.294834.json\n",
      "Classificando com o  SVC\n",
      "Salvando as informações num JSON: relatorio_teste_semBeamforming_SNR_23dB_semPCA_1585103253.2092414.json\n",
      "Classificando com o  SVC\n",
      "Salvando as informações num JSON: relatorio_teste_semBeamforming_SNR_23dB_semPCA_1585103254.0946093.json\n",
      "Classificando com o  SVC\n",
      "Salvando as informações num JSON: relatorio_teste_semBeamforming_SNR_23dB_semPCA_1585103255.0016642.json\n",
      "Classificando com o  SVC\n",
      "Salvando as informações num JSON: relatorio_teste_semBeamforming_SNR_23dB_semPCA_1585103255.9104471.json\n",
      "Classificando com o  SVC\n",
      "Salvando as informações num JSON: relatorio_teste_semBeamforming_SNR_23dB_semPCA_1585103256.9097435.json\n",
      "Classificando com o  SVC\n",
      "Salvando as informações num JSON: relatorio_teste_semBeamforming_SNR_23dB_semPCA_1585103257.946956.json\n",
      "Classificando com o  SVC\n",
      "Salvando as informações num JSON: relatorio_teste_semBeamforming_SNR_23dB_semPCA_1585103258.8300526.json\n",
      "Classificando com o  LinearDiscriminantAnalysis\n",
      "Salvando as informações num JSON: relatorio_teste_semBeamforming_SNR_23dB_semPCA_1585103259.1553938.json\n",
      "Classificando com o  LinearDiscriminantAnalysis\n",
      "Salvando as informações num JSON: relatorio_teste_semBeamforming_SNR_23dB_semPCA_1585103259.4874182.json\n",
      "Classificando com o  LinearDiscriminantAnalysis\n",
      "Salvando as informações num JSON: relatorio_teste_semBeamforming_SNR_23dB_semPCA_1585103259.8017175.json\n",
      "Classificando com o  LinearDiscriminantAnalysis\n",
      "Salvando as informações num JSON: relatorio_teste_semBeamforming_SNR_23dB_semPCA_1585103260.1070986.json\n",
      "Classificando com o  LinearDiscriminantAnalysis\n",
      "Salvando as informações num JSON: relatorio_teste_semBeamforming_SNR_23dB_semPCA_1585103260.417487.json\n",
      "Classificando com o  LinearDiscriminantAnalysis\n",
      "Salvando as informações num JSON: relatorio_teste_semBeamforming_SNR_23dB_semPCA_1585103260.7502103.json\n",
      "Classificando com o  LinearDiscriminantAnalysis\n",
      "Salvando as informações num JSON: relatorio_teste_semBeamforming_SNR_23dB_semPCA_1585103261.0555618.json\n",
      "Classificando com o  LinearDiscriminantAnalysis\n",
      "Salvando as informações num JSON: relatorio_teste_semBeamforming_SNR_23dB_semPCA_1585103261.3596563.json\n",
      "Classificando com o  LinearDiscriminantAnalysis\n",
      "Salvando as informações num JSON: relatorio_teste_semBeamforming_SNR_23dB_semPCA_1585103261.665586.json\n",
      "Classificando com o  LinearDiscriminantAnalysis\n",
      "Salvando as informações num JSON: relatorio_teste_semBeamforming_SNR_23dB_semPCA_1585103261.9679186.json\n",
      "O teste com todos os classificadores foi finalizado\n",
      "Classificando com o  SVC\n",
      "Salvando as informações num JSON: relatorio_teste_GSC_SNR_23dB_semPCA_1585103263.0313134.json\n",
      "Classificando com o  SVC\n",
      "Salvando as informações num JSON: relatorio_teste_GSC_SNR_23dB_semPCA_1585103263.96406.json\n",
      "Classificando com o  SVC\n",
      "Salvando as informações num JSON: relatorio_teste_GSC_SNR_23dB_semPCA_1585103264.8156414.json\n",
      "Classificando com o  SVC\n",
      "Salvando as informações num JSON: relatorio_teste_GSC_SNR_23dB_semPCA_1585103265.7691996.json\n",
      "Classificando com o  SVC\n",
      "Salvando as informações num JSON: relatorio_teste_GSC_SNR_23dB_semPCA_1585103266.6906369.json\n",
      "Classificando com o  SVC\n",
      "Salvando as informações num JSON: relatorio_teste_GSC_SNR_23dB_semPCA_1585103267.6317637.json\n",
      "Classificando com o  SVC\n",
      "Salvando as informações num JSON: relatorio_teste_GSC_SNR_23dB_semPCA_1585103268.510259.json\n",
      "Classificando com o  SVC\n",
      "Salvando as informações num JSON: relatorio_teste_GSC_SNR_23dB_semPCA_1585103269.4009857.json\n",
      "Classificando com o  SVC\n",
      "Salvando as informações num JSON: relatorio_teste_GSC_SNR_23dB_semPCA_1585103270.2860699.json\n",
      "Classificando com o  SVC\n",
      "Salvando as informações num JSON: relatorio_teste_GSC_SNR_23dB_semPCA_1585103271.1730082.json\n",
      "Classificando com o  LinearDiscriminantAnalysis\n",
      "Salvando as informações num JSON: relatorio_teste_GSC_SNR_23dB_semPCA_1585103271.490699.json\n",
      "Classificando com o  LinearDiscriminantAnalysis\n",
      "Salvando as informações num JSON: relatorio_teste_GSC_SNR_23dB_semPCA_1585103271.816914.json\n",
      "Classificando com o  LinearDiscriminantAnalysis\n",
      "Salvando as informações num JSON: relatorio_teste_GSC_SNR_23dB_semPCA_1585103272.1436205.json\n",
      "Classificando com o  LinearDiscriminantAnalysis\n",
      "Salvando as informações num JSON: relatorio_teste_GSC_SNR_23dB_semPCA_1585103272.4763992.json\n",
      "Classificando com o  LinearDiscriminantAnalysis\n"
     ]
    },
    {
     "name": "stdout",
     "output_type": "stream",
     "text": [
      "Salvando as informações num JSON: relatorio_teste_GSC_SNR_23dB_semPCA_1585103272.8018863.json\n",
      "Classificando com o  LinearDiscriminantAnalysis\n",
      "Salvando as informações num JSON: relatorio_teste_GSC_SNR_23dB_semPCA_1585103273.1258693.json\n",
      "Classificando com o  LinearDiscriminantAnalysis\n",
      "Salvando as informações num JSON: relatorio_teste_GSC_SNR_23dB_semPCA_1585103273.4538386.json\n",
      "Classificando com o  LinearDiscriminantAnalysis\n",
      "Salvando as informações num JSON: relatorio_teste_GSC_SNR_23dB_semPCA_1585103273.7603643.json\n",
      "Classificando com o  LinearDiscriminantAnalysis\n",
      "Salvando as informações num JSON: relatorio_teste_GSC_SNR_23dB_semPCA_1585103274.0819638.json\n",
      "Classificando com o  LinearDiscriminantAnalysis\n",
      "Salvando as informações num JSON: relatorio_teste_GSC_SNR_23dB_semPCA_1585103274.4070132.json\n",
      "O teste com todos os classificadores foi finalizado\n",
      "Classificando com o  SVC\n",
      "Salvando as informações num JSON: relatorio_teste_GSC_SNR_19dB_semPCA_1585103275.4340606.json\n",
      "Classificando com o  SVC\n",
      "Salvando as informações num JSON: relatorio_teste_GSC_SNR_19dB_semPCA_1585103276.3667977.json\n",
      "Classificando com o  SVC\n",
      "Salvando as informações num JSON: relatorio_teste_GSC_SNR_19dB_semPCA_1585103277.2151992.json\n",
      "Classificando com o  SVC\n",
      "Salvando as informações num JSON: relatorio_teste_GSC_SNR_19dB_semPCA_1585103278.1488717.json\n",
      "Classificando com o  SVC\n",
      "Salvando as informações num JSON: relatorio_teste_GSC_SNR_19dB_semPCA_1585103279.0468848.json\n",
      "Classificando com o  SVC\n",
      "Salvando as informações num JSON: relatorio_teste_GSC_SNR_19dB_semPCA_1585103279.9487674.json\n",
      "Classificando com o  SVC\n",
      "Salvando as informações num JSON: relatorio_teste_GSC_SNR_19dB_semPCA_1585103280.8643682.json\n",
      "Classificando com o  SVC\n",
      "Salvando as informações num JSON: relatorio_teste_GSC_SNR_19dB_semPCA_1585103281.7555044.json\n",
      "Classificando com o  SVC\n",
      "Salvando as informações num JSON: relatorio_teste_GSC_SNR_19dB_semPCA_1585103282.6553292.json\n",
      "Classificando com o  SVC\n",
      "Salvando as informações num JSON: relatorio_teste_GSC_SNR_19dB_semPCA_1585103283.5250473.json\n",
      "Classificando com o  LinearDiscriminantAnalysis\n",
      "Salvando as informações num JSON: relatorio_teste_GSC_SNR_19dB_semPCA_1585103283.8487773.json\n",
      "Classificando com o  LinearDiscriminantAnalysis\n",
      "Salvando as informações num JSON: relatorio_teste_GSC_SNR_19dB_semPCA_1585103284.171408.json\n",
      "Classificando com o  LinearDiscriminantAnalysis\n",
      "Salvando as informações num JSON: relatorio_teste_GSC_SNR_19dB_semPCA_1585103284.494638.json\n",
      "Classificando com o  LinearDiscriminantAnalysis\n",
      "Salvando as informações num JSON: relatorio_teste_GSC_SNR_19dB_semPCA_1585103284.827068.json\n",
      "Classificando com o  LinearDiscriminantAnalysis\n",
      "Salvando as informações num JSON: relatorio_teste_GSC_SNR_19dB_semPCA_1585103285.153671.json\n",
      "Classificando com o  LinearDiscriminantAnalysis\n",
      "Salvando as informações num JSON: relatorio_teste_GSC_SNR_19dB_semPCA_1585103285.486937.json\n",
      "Classificando com o  LinearDiscriminantAnalysis\n",
      "Salvando as informações num JSON: relatorio_teste_GSC_SNR_19dB_semPCA_1585103285.8127952.json\n",
      "Classificando com o  LinearDiscriminantAnalysis\n",
      "Salvando as informações num JSON: relatorio_teste_GSC_SNR_19dB_semPCA_1585103286.1405456.json\n",
      "Classificando com o  LinearDiscriminantAnalysis\n",
      "Salvando as informações num JSON: relatorio_teste_GSC_SNR_19dB_semPCA_1585103286.473515.json\n",
      "Classificando com o  LinearDiscriminantAnalysis\n",
      "Salvando as informações num JSON: relatorio_teste_GSC_SNR_19dB_semPCA_1585103286.8018355.json\n",
      "O teste com todos os classificadores foi finalizado\n",
      "Classificando com o  SVC\n",
      "Salvando as informações num JSON: relatorio_teste_beamforming_SNR_19dB_semPCA_1585103287.7981825.json\n",
      "Classificando com o  SVC\n",
      "Salvando as informações num JSON: relatorio_teste_beamforming_SNR_19dB_semPCA_1585103288.7310658.json\n",
      "Classificando com o  SVC\n",
      "Salvando as informações num JSON: relatorio_teste_beamforming_SNR_19dB_semPCA_1585103289.5829573.json\n",
      "Classificando com o  SVC\n",
      "Salvando as informações num JSON: relatorio_teste_beamforming_SNR_19dB_semPCA_1585103290.5026813.json\n",
      "Classificando com o  SVC\n",
      "Salvando as informações num JSON: relatorio_teste_beamforming_SNR_19dB_semPCA_1585103291.4212973.json\n",
      "Classificando com o  SVC\n",
      "Salvando as informações num JSON: relatorio_teste_beamforming_SNR_19dB_semPCA_1585103292.3559463.json\n",
      "Classificando com o  SVC\n",
      "Salvando as informações num JSON: relatorio_teste_beamforming_SNR_19dB_semPCA_1585103293.2540169.json\n",
      "Classificando com o  SVC\n",
      "Salvando as informações num JSON: relatorio_teste_beamforming_SNR_19dB_semPCA_1585103294.1633742.json\n",
      "Classificando com o  SVC\n",
      "Salvando as informações num JSON: relatorio_teste_beamforming_SNR_19dB_semPCA_1585103295.0451522.json\n",
      "Classificando com o  SVC\n",
      "Salvando as informações num JSON: relatorio_teste_beamforming_SNR_19dB_semPCA_1585103295.9236565.json\n",
      "Classificando com o  LinearDiscriminantAnalysis\n",
      "Salvando as informações num JSON: relatorio_teste_beamforming_SNR_19dB_semPCA_1585103296.2469676.json\n",
      "Classificando com o  LinearDiscriminantAnalysis\n",
      "Salvando as informações num JSON: relatorio_teste_beamforming_SNR_19dB_semPCA_1585103296.5724115.json\n",
      "Classificando com o  LinearDiscriminantAnalysis\n",
      "Salvando as informações num JSON: relatorio_teste_beamforming_SNR_19dB_semPCA_1585103296.8760958.json\n",
      "Classificando com o  LinearDiscriminantAnalysis\n",
      "Salvando as informações num JSON: relatorio_teste_beamforming_SNR_19dB_semPCA_1585103297.1849904.json\n",
      "Classificando com o  LinearDiscriminantAnalysis\n",
      "Salvando as informações num JSON: relatorio_teste_beamforming_SNR_19dB_semPCA_1585103297.5177915.json\n",
      "Classificando com o  LinearDiscriminantAnalysis\n",
      "Salvando as informações num JSON: relatorio_teste_beamforming_SNR_19dB_semPCA_1585103297.8391972.json\n",
      "Classificando com o  LinearDiscriminantAnalysis\n",
      "Salvando as informações num JSON: relatorio_teste_beamforming_SNR_19dB_semPCA_1585103298.1647701.json\n",
      "Classificando com o  LinearDiscriminantAnalysis\n",
      "Salvando as informações num JSON: relatorio_teste_beamforming_SNR_19dB_semPCA_1585103298.5043094.json\n",
      "Classificando com o  LinearDiscriminantAnalysis\n",
      "Salvando as informações num JSON: relatorio_teste_beamforming_SNR_19dB_semPCA_1585103298.8436.json\n",
      "Classificando com o  LinearDiscriminantAnalysis\n",
      "Salvando as informações num JSON: relatorio_teste_beamforming_SNR_19dB_semPCA_1585103299.15476.json\n",
      "O teste com todos os classificadores foi finalizado\n",
      "Classificando com o  SVC\n",
      "Salvando as informações num JSON: relatorio_teste_semBeamforming_SNR_19dB_semPCA_1585103300.126696.json\n",
      "Classificando com o  SVC\n",
      "Salvando as informações num JSON: relatorio_teste_semBeamforming_SNR_19dB_semPCA_1585103301.0727022.json\n",
      "Classificando com o  SVC\n",
      "Salvando as informações num JSON: relatorio_teste_semBeamforming_SNR_19dB_semPCA_1585103301.926808.json\n",
      "Classificando com o  SVC\n",
      "Salvando as informações num JSON: relatorio_teste_semBeamforming_SNR_19dB_semPCA_1585103302.850219.json\n",
      "Classificando com o  SVC\n",
      "Salvando as informações num JSON: relatorio_teste_semBeamforming_SNR_19dB_semPCA_1585103303.7802515.json\n",
      "Classificando com o  SVC\n",
      "Salvando as informações num JSON: relatorio_teste_semBeamforming_SNR_19dB_semPCA_1585103304.7158601.json\n",
      "Classificando com o  SVC\n",
      "Salvando as informações num JSON: relatorio_teste_semBeamforming_SNR_19dB_semPCA_1585103305.592253.json\n",
      "Classificando com o  SVC\n",
      "Salvando as informações num JSON: relatorio_teste_semBeamforming_SNR_19dB_semPCA_1585103306.5333538.json\n",
      "Classificando com o  SVC\n",
      "Salvando as informações num JSON: relatorio_teste_semBeamforming_SNR_19dB_semPCA_1585103307.4666145.json\n",
      "Classificando com o  SVC\n",
      "Salvando as informações num JSON: relatorio_teste_semBeamforming_SNR_19dB_semPCA_1585103308.3557932.json\n",
      "Classificando com o  LinearDiscriminantAnalysis\n",
      "Salvando as informações num JSON: relatorio_teste_semBeamforming_SNR_19dB_semPCA_1585103308.746877.json\n",
      "Classificando com o  LinearDiscriminantAnalysis\n",
      "Salvando as informações num JSON: relatorio_teste_semBeamforming_SNR_19dB_semPCA_1585103309.0752587.json\n",
      "Classificando com o  LinearDiscriminantAnalysis\n",
      "Salvando as informações num JSON: relatorio_teste_semBeamforming_SNR_19dB_semPCA_1585103309.404399.json\n",
      "Classificando com o  LinearDiscriminantAnalysis\n",
      "Salvando as informações num JSON: relatorio_teste_semBeamforming_SNR_19dB_semPCA_1585103309.7113905.json\n",
      "Classificando com o  LinearDiscriminantAnalysis\n"
     ]
    },
    {
     "name": "stdout",
     "output_type": "stream",
     "text": [
      "Salvando as informações num JSON: relatorio_teste_semBeamforming_SNR_19dB_semPCA_1585103310.017112.json\n",
      "Classificando com o  LinearDiscriminantAnalysis\n",
      "Salvando as informações num JSON: relatorio_teste_semBeamforming_SNR_19dB_semPCA_1585103310.3274446.json\n",
      "Classificando com o  LinearDiscriminantAnalysis\n",
      "Salvando as informações num JSON: relatorio_teste_semBeamforming_SNR_19dB_semPCA_1585103310.652856.json\n",
      "Classificando com o  LinearDiscriminantAnalysis\n",
      "Salvando as informações num JSON: relatorio_teste_semBeamforming_SNR_19dB_semPCA_1585103310.981081.json\n",
      "Classificando com o  LinearDiscriminantAnalysis\n",
      "Salvando as informações num JSON: relatorio_teste_semBeamforming_SNR_19dB_semPCA_1585103311.3024619.json\n",
      "Classificando com o  LinearDiscriminantAnalysis\n",
      "Salvando as informações num JSON: relatorio_teste_semBeamforming_SNR_19dB_semPCA_1585103311.6254497.json\n",
      "O teste com todos os classificadores foi finalizado\n",
      "Classificando com o  SVC\n",
      "Salvando as informações num JSON: relatorio_teste_semBeamforming_SNR_7dB_semPCA_1585103312.6241612.json\n",
      "Classificando com o  SVC\n",
      "Salvando as informações num JSON: relatorio_teste_semBeamforming_SNR_7dB_semPCA_1585103313.5536923.json\n",
      "Classificando com o  SVC\n",
      "Salvando as informações num JSON: relatorio_teste_semBeamforming_SNR_7dB_semPCA_1585103314.4114847.json\n",
      "Classificando com o  SVC\n",
      "Salvando as informações num JSON: relatorio_teste_semBeamforming_SNR_7dB_semPCA_1585103315.333725.json\n",
      "Classificando com o  SVC\n",
      "Salvando as informações num JSON: relatorio_teste_semBeamforming_SNR_7dB_semPCA_1585103316.2275054.json\n",
      "Classificando com o  SVC\n",
      "Salvando as informações num JSON: relatorio_teste_semBeamforming_SNR_7dB_semPCA_1585103317.1711764.json\n",
      "Classificando com o  SVC\n",
      "Salvando as informações num JSON: relatorio_teste_semBeamforming_SNR_7dB_semPCA_1585103318.0711048.json\n",
      "Classificando com o  SVC\n",
      "Salvando as informações num JSON: relatorio_teste_semBeamforming_SNR_7dB_semPCA_1585103318.984476.json\n",
      "Classificando com o  SVC\n",
      "Salvando as informações num JSON: relatorio_teste_semBeamforming_SNR_7dB_semPCA_1585103319.9036226.json\n",
      "Classificando com o  SVC\n",
      "Salvando as informações num JSON: relatorio_teste_semBeamforming_SNR_7dB_semPCA_1585103320.795026.json\n",
      "Classificando com o  LinearDiscriminantAnalysis\n",
      "Salvando as informações num JSON: relatorio_teste_semBeamforming_SNR_7dB_semPCA_1585103321.1104524.json\n",
      "Classificando com o  LinearDiscriminantAnalysis\n",
      "Salvando as informações num JSON: relatorio_teste_semBeamforming_SNR_7dB_semPCA_1585103321.4147825.json\n",
      "Classificando com o  LinearDiscriminantAnalysis\n",
      "Salvando as informações num JSON: relatorio_teste_semBeamforming_SNR_7dB_semPCA_1585103321.7160857.json\n",
      "Classificando com o  LinearDiscriminantAnalysis\n",
      "Salvando as informações num JSON: relatorio_teste_semBeamforming_SNR_7dB_semPCA_1585103322.0259092.json\n",
      "Classificando com o  LinearDiscriminantAnalysis\n",
      "Salvando as informações num JSON: relatorio_teste_semBeamforming_SNR_7dB_semPCA_1585103322.3304303.json\n",
      "Classificando com o  LinearDiscriminantAnalysis\n",
      "Salvando as informações num JSON: relatorio_teste_semBeamforming_SNR_7dB_semPCA_1585103322.644096.json\n",
      "Classificando com o  LinearDiscriminantAnalysis\n",
      "Salvando as informações num JSON: relatorio_teste_semBeamforming_SNR_7dB_semPCA_1585103322.9623246.json\n",
      "Classificando com o  LinearDiscriminantAnalysis\n",
      "Salvando as informações num JSON: relatorio_teste_semBeamforming_SNR_7dB_semPCA_1585103323.268904.json\n",
      "Classificando com o  LinearDiscriminantAnalysis\n",
      "Salvando as informações num JSON: relatorio_teste_semBeamforming_SNR_7dB_semPCA_1585103323.5915093.json\n",
      "Classificando com o  LinearDiscriminantAnalysis\n",
      "Salvando as informações num JSON: relatorio_teste_semBeamforming_SNR_7dB_semPCA_1585103323.8989484.json\n",
      "O teste com todos os classificadores foi finalizado\n",
      "Classificando com o  SVC\n",
      "Salvando as informações num JSON: relatorio_teste_beamforming_SNR_7dB_semPCA_1585103324.9487925.json\n",
      "Classificando com o  SVC\n",
      "Salvando as informações num JSON: relatorio_teste_beamforming_SNR_7dB_semPCA_1585103325.8993616.json\n",
      "Classificando com o  SVC\n",
      "Salvando as informações num JSON: relatorio_teste_beamforming_SNR_7dB_semPCA_1585103326.7538123.json\n",
      "Classificando com o  SVC\n",
      "Salvando as informações num JSON: relatorio_teste_beamforming_SNR_7dB_semPCA_1585103327.6670196.json\n",
      "Classificando com o  SVC\n",
      "Salvando as informações num JSON: relatorio_teste_beamforming_SNR_7dB_semPCA_1585103328.5557623.json\n",
      "Classificando com o  SVC\n",
      "Salvando as informações num JSON: relatorio_teste_beamforming_SNR_7dB_semPCA_1585103329.4484274.json\n",
      "Classificando com o  SVC\n",
      "Salvando as informações num JSON: relatorio_teste_beamforming_SNR_7dB_semPCA_1585103330.3473556.json\n",
      "Classificando com o  SVC\n",
      "Salvando as informações num JSON: relatorio_teste_beamforming_SNR_7dB_semPCA_1585103331.242891.json\n",
      "Classificando com o  SVC\n",
      "Salvando as informações num JSON: relatorio_teste_beamforming_SNR_7dB_semPCA_1585103332.121595.json\n",
      "Classificando com o  SVC\n",
      "Salvando as informações num JSON: relatorio_teste_beamforming_SNR_7dB_semPCA_1585103332.9981434.json\n",
      "Classificando com o  LinearDiscriminantAnalysis\n",
      "Salvando as informações num JSON: relatorio_teste_beamforming_SNR_7dB_semPCA_1585103333.3041146.json\n",
      "Classificando com o  LinearDiscriminantAnalysis\n",
      "Salvando as informações num JSON: relatorio_teste_beamforming_SNR_7dB_semPCA_1585103333.6161783.json\n",
      "Classificando com o  LinearDiscriminantAnalysis\n",
      "Salvando as informações num JSON: relatorio_teste_beamforming_SNR_7dB_semPCA_1585103333.920005.json\n",
      "Classificando com o  LinearDiscriminantAnalysis\n",
      "Salvando as informações num JSON: relatorio_teste_beamforming_SNR_7dB_semPCA_1585103334.2243578.json\n",
      "Classificando com o  LinearDiscriminantAnalysis\n",
      "Salvando as informações num JSON: relatorio_teste_beamforming_SNR_7dB_semPCA_1585103334.536773.json\n",
      "Classificando com o  LinearDiscriminantAnalysis\n",
      "Salvando as informações num JSON: relatorio_teste_beamforming_SNR_7dB_semPCA_1585103334.848942.json\n",
      "Classificando com o  LinearDiscriminantAnalysis\n",
      "Salvando as informações num JSON: relatorio_teste_beamforming_SNR_7dB_semPCA_1585103335.177086.json\n",
      "Classificando com o  LinearDiscriminantAnalysis\n",
      "Salvando as informações num JSON: relatorio_teste_beamforming_SNR_7dB_semPCA_1585103335.5106952.json\n",
      "Classificando com o  LinearDiscriminantAnalysis\n",
      "Salvando as informações num JSON: relatorio_teste_beamforming_SNR_7dB_semPCA_1585103335.838383.json\n",
      "Classificando com o  LinearDiscriminantAnalysis\n",
      "Salvando as informações num JSON: relatorio_teste_beamforming_SNR_7dB_semPCA_1585103336.1434567.json\n",
      "O teste com todos os classificadores foi finalizado\n",
      "Classificando com o  SVC\n",
      "Salvando as informações num JSON: relatorio_teste_GSC_SNR_7dB_semPCA_1585103337.1581998.json\n",
      "Classificando com o  SVC\n",
      "Salvando as informações num JSON: relatorio_teste_GSC_SNR_7dB_semPCA_1585103338.083086.json\n",
      "Classificando com o  SVC\n",
      "Salvando as informações num JSON: relatorio_teste_GSC_SNR_7dB_semPCA_1585103338.9460068.json\n",
      "Classificando com o  SVC\n",
      "Salvando as informações num JSON: relatorio_teste_GSC_SNR_7dB_semPCA_1585103339.8613787.json\n",
      "Classificando com o  SVC\n",
      "Salvando as informações num JSON: relatorio_teste_GSC_SNR_7dB_semPCA_1585103340.7724743.json\n",
      "Classificando com o  SVC\n",
      "Salvando as informações num JSON: relatorio_teste_GSC_SNR_7dB_semPCA_1585103341.665463.json\n",
      "Classificando com o  SVC\n",
      "Salvando as informações num JSON: relatorio_teste_GSC_SNR_7dB_semPCA_1585103342.566779.json\n",
      "Classificando com o  SVC\n",
      "Salvando as informações num JSON: relatorio_teste_GSC_SNR_7dB_semPCA_1585103343.4527647.json\n",
      "Classificando com o  SVC\n",
      "Salvando as informações num JSON: relatorio_teste_GSC_SNR_7dB_semPCA_1585103344.3192809.json\n",
      "Classificando com o  SVC\n",
      "Salvando as informações num JSON: relatorio_teste_GSC_SNR_7dB_semPCA_1585103345.2138407.json\n",
      "Classificando com o  LinearDiscriminantAnalysis\n",
      "Salvando as informações num JSON: relatorio_teste_GSC_SNR_7dB_semPCA_1585103345.5225003.json\n",
      "Classificando com o  LinearDiscriminantAnalysis\n",
      "Salvando as informações num JSON: relatorio_teste_GSC_SNR_7dB_semPCA_1585103345.849066.json\n",
      "Classificando com o  LinearDiscriminantAnalysis\n",
      "Salvando as informações num JSON: relatorio_teste_GSC_SNR_7dB_semPCA_1585103346.1588247.json\n",
      "Classificando com o  LinearDiscriminantAnalysis\n"
     ]
    },
    {
     "name": "stdout",
     "output_type": "stream",
     "text": [
      "Salvando as informações num JSON: relatorio_teste_GSC_SNR_7dB_semPCA_1585103346.4716.json\n",
      "Classificando com o  LinearDiscriminantAnalysis\n",
      "Salvando as informações num JSON: relatorio_teste_GSC_SNR_7dB_semPCA_1585103346.785661.json\n",
      "Classificando com o  LinearDiscriminantAnalysis\n",
      "Salvando as informações num JSON: relatorio_teste_GSC_SNR_7dB_semPCA_1585103347.0978909.json\n",
      "Classificando com o  LinearDiscriminantAnalysis\n",
      "Salvando as informações num JSON: relatorio_teste_GSC_SNR_7dB_semPCA_1585103347.4153833.json\n",
      "Classificando com o  LinearDiscriminantAnalysis\n",
      "Salvando as informações num JSON: relatorio_teste_GSC_SNR_7dB_semPCA_1585103347.7267861.json\n",
      "Classificando com o  LinearDiscriminantAnalysis\n",
      "Salvando as informações num JSON: relatorio_teste_GSC_SNR_7dB_semPCA_1585103348.036682.json\n",
      "Classificando com o  LinearDiscriminantAnalysis\n",
      "Salvando as informações num JSON: relatorio_teste_GSC_SNR_7dB_semPCA_1585103348.3519561.json\n",
      "O teste com todos os classificadores foi finalizado\n",
      "Classificando com o  SVC\n",
      "Salvando as informações num JSON: relatorio_teste_GSC_SNR_17dB_semPCA_1585103349.3458881.json\n",
      "Classificando com o  SVC\n",
      "Salvando as informações num JSON: relatorio_teste_GSC_SNR_17dB_semPCA_1585103350.283574.json\n",
      "Classificando com o  SVC\n",
      "Salvando as informações num JSON: relatorio_teste_GSC_SNR_17dB_semPCA_1585103351.1744292.json\n",
      "Classificando com o  SVC\n",
      "Salvando as informações num JSON: relatorio_teste_GSC_SNR_17dB_semPCA_1585103352.098071.json\n",
      "Classificando com o  SVC\n",
      "Salvando as informações num JSON: relatorio_teste_GSC_SNR_17dB_semPCA_1585103352.9914536.json\n",
      "Classificando com o  SVC\n",
      "Salvando as informações num JSON: relatorio_teste_GSC_SNR_17dB_semPCA_1585103353.892019.json\n",
      "Classificando com o  SVC\n",
      "Salvando as informações num JSON: relatorio_teste_GSC_SNR_17dB_semPCA_1585103354.802699.json\n",
      "Classificando com o  SVC\n",
      "Salvando as informações num JSON: relatorio_teste_GSC_SNR_17dB_semPCA_1585103355.702379.json\n",
      "Classificando com o  SVC\n",
      "Salvando as informações num JSON: relatorio_teste_GSC_SNR_17dB_semPCA_1585103356.5893593.json\n",
      "Classificando com o  SVC\n",
      "Salvando as informações num JSON: relatorio_teste_GSC_SNR_17dB_semPCA_1585103357.4643164.json\n",
      "Classificando com o  LinearDiscriminantAnalysis\n",
      "Salvando as informações num JSON: relatorio_teste_GSC_SNR_17dB_semPCA_1585103357.7711756.json\n",
      "Classificando com o  LinearDiscriminantAnalysis\n",
      "Salvando as informações num JSON: relatorio_teste_GSC_SNR_17dB_semPCA_1585103358.0730722.json\n",
      "Classificando com o  LinearDiscriminantAnalysis\n",
      "Salvando as informações num JSON: relatorio_teste_GSC_SNR_17dB_semPCA_1585103358.378099.json\n",
      "Classificando com o  LinearDiscriminantAnalysis\n",
      "Salvando as informações num JSON: relatorio_teste_GSC_SNR_17dB_semPCA_1585103358.681157.json\n",
      "Classificando com o  LinearDiscriminantAnalysis\n",
      "Salvando as informações num JSON: relatorio_teste_GSC_SNR_17dB_semPCA_1585103358.9808362.json\n",
      "Classificando com o  LinearDiscriminantAnalysis\n",
      "Salvando as informações num JSON: relatorio_teste_GSC_SNR_17dB_semPCA_1585103359.277996.json\n",
      "Classificando com o  LinearDiscriminantAnalysis\n",
      "Salvando as informações num JSON: relatorio_teste_GSC_SNR_17dB_semPCA_1585103359.5821376.json\n",
      "Classificando com o  LinearDiscriminantAnalysis\n",
      "Salvando as informações num JSON: relatorio_teste_GSC_SNR_17dB_semPCA_1585103359.883945.json\n",
      "Classificando com o  LinearDiscriminantAnalysis\n",
      "Salvando as informações num JSON: relatorio_teste_GSC_SNR_17dB_semPCA_1585103360.1873622.json\n",
      "Classificando com o  LinearDiscriminantAnalysis\n",
      "Salvando as informações num JSON: relatorio_teste_GSC_SNR_17dB_semPCA_1585103360.500418.json\n",
      "O teste com todos os classificadores foi finalizado\n",
      "Classificando com o  SVC\n",
      "Salvando as informações num JSON: relatorio_teste_beamforming_SNR_17dB_semPCA_1585103361.5028508.json\n",
      "Classificando com o  SVC\n",
      "Salvando as informações num JSON: relatorio_teste_beamforming_SNR_17dB_semPCA_1585103362.4366856.json\n",
      "Classificando com o  SVC\n",
      "Salvando as informações num JSON: relatorio_teste_beamforming_SNR_17dB_semPCA_1585103363.300877.json\n",
      "Classificando com o  SVC\n",
      "Salvando as informações num JSON: relatorio_teste_beamforming_SNR_17dB_semPCA_1585103364.2238317.json\n",
      "Classificando com o  SVC\n",
      "Salvando as informações num JSON: relatorio_teste_beamforming_SNR_17dB_semPCA_1585103365.1429348.json\n",
      "Classificando com o  SVC\n",
      "Salvando as informações num JSON: relatorio_teste_beamforming_SNR_17dB_semPCA_1585103366.0802803.json\n",
      "Classificando com o  SVC\n",
      "Salvando as informações num JSON: relatorio_teste_beamforming_SNR_17dB_semPCA_1585103366.992789.json\n",
      "Classificando com o  SVC\n",
      "Salvando as informações num JSON: relatorio_teste_beamforming_SNR_17dB_semPCA_1585103367.893692.json\n",
      "Classificando com o  SVC\n",
      "Salvando as informações num JSON: relatorio_teste_beamforming_SNR_17dB_semPCA_1585103368.8391132.json\n",
      "Classificando com o  SVC\n",
      "Salvando as informações num JSON: relatorio_teste_beamforming_SNR_17dB_semPCA_1585103369.7200863.json\n",
      "Classificando com o  LinearDiscriminantAnalysis\n",
      "Salvando as informações num JSON: relatorio_teste_beamforming_SNR_17dB_semPCA_1585103370.0289567.json\n",
      "Classificando com o  LinearDiscriminantAnalysis\n",
      "Salvando as informações num JSON: relatorio_teste_beamforming_SNR_17dB_semPCA_1585103370.337867.json\n",
      "Classificando com o  LinearDiscriminantAnalysis\n",
      "Salvando as informações num JSON: relatorio_teste_beamforming_SNR_17dB_semPCA_1585103370.6533582.json\n",
      "Classificando com o  LinearDiscriminantAnalysis\n",
      "Salvando as informações num JSON: relatorio_teste_beamforming_SNR_17dB_semPCA_1585103370.9607155.json\n",
      "Classificando com o  LinearDiscriminantAnalysis\n",
      "Salvando as informações num JSON: relatorio_teste_beamforming_SNR_17dB_semPCA_1585103371.267761.json\n",
      "Classificando com o  LinearDiscriminantAnalysis\n",
      "Salvando as informações num JSON: relatorio_teste_beamforming_SNR_17dB_semPCA_1585103371.5736802.json\n",
      "Classificando com o  LinearDiscriminantAnalysis\n",
      "Salvando as informações num JSON: relatorio_teste_beamforming_SNR_17dB_semPCA_1585103371.8806965.json\n",
      "Classificando com o  LinearDiscriminantAnalysis\n",
      "Salvando as informações num JSON: relatorio_teste_beamforming_SNR_17dB_semPCA_1585103372.1892247.json\n",
      "Classificando com o  LinearDiscriminantAnalysis\n",
      "Salvando as informações num JSON: relatorio_teste_beamforming_SNR_17dB_semPCA_1585103372.5008614.json\n",
      "Classificando com o  LinearDiscriminantAnalysis\n",
      "Salvando as informações num JSON: relatorio_teste_beamforming_SNR_17dB_semPCA_1585103372.8298767.json\n",
      "O teste com todos os classificadores foi finalizado\n",
      "Classificando com o  SVC\n",
      "Salvando as informações num JSON: relatorio_teste_semBeamforming_SNR_17dB_semPCA_1585103373.8345442.json\n",
      "Classificando com o  SVC\n",
      "Salvando as informações num JSON: relatorio_teste_semBeamforming_SNR_17dB_semPCA_1585103374.7603812.json\n",
      "Classificando com o  SVC\n",
      "Salvando as informações num JSON: relatorio_teste_semBeamforming_SNR_17dB_semPCA_1585103375.6080816.json\n",
      "Classificando com o  SVC\n",
      "Salvando as informações num JSON: relatorio_teste_semBeamforming_SNR_17dB_semPCA_1585103376.5488827.json\n",
      "Classificando com o  SVC\n",
      "Salvando as informações num JSON: relatorio_teste_semBeamforming_SNR_17dB_semPCA_1585103377.5176337.json\n",
      "Classificando com o  SVC\n",
      "Salvando as informações num JSON: relatorio_teste_semBeamforming_SNR_17dB_semPCA_1585103379.2636585.json\n",
      "Classificando com o  SVC\n",
      "Salvando as informações num JSON: relatorio_teste_semBeamforming_SNR_17dB_semPCA_1585103380.4988985.json\n",
      "Classificando com o  SVC\n",
      "Salvando as informações num JSON: relatorio_teste_semBeamforming_SNR_17dB_semPCA_1585103381.4654124.json\n",
      "Classificando com o  SVC\n",
      "Salvando as informações num JSON: relatorio_teste_semBeamforming_SNR_17dB_semPCA_1585103382.4468775.json\n",
      "Classificando com o  SVC\n",
      "Salvando as informações num JSON: relatorio_teste_semBeamforming_SNR_17dB_semPCA_1585103383.4115663.json\n",
      "Classificando com o  LinearDiscriminantAnalysis\n",
      "Salvando as informações num JSON: relatorio_teste_semBeamforming_SNR_17dB_semPCA_1585103383.7365773.json\n",
      "Classificando com o  LinearDiscriminantAnalysis\n",
      "Salvando as informações num JSON: relatorio_teste_semBeamforming_SNR_17dB_semPCA_1585103384.0596662.json\n",
      "Classificando com o  LinearDiscriminantAnalysis\n",
      "Salvando as informações num JSON: relatorio_teste_semBeamforming_SNR_17dB_semPCA_1585103384.3946524.json\n",
      "Classificando com o  LinearDiscriminantAnalysis\n"
     ]
    },
    {
     "name": "stdout",
     "output_type": "stream",
     "text": [
      "Salvando as informações num JSON: relatorio_teste_semBeamforming_SNR_17dB_semPCA_1585103384.7224295.json\n",
      "Classificando com o  LinearDiscriminantAnalysis\n",
      "Salvando as informações num JSON: relatorio_teste_semBeamforming_SNR_17dB_semPCA_1585103385.0547087.json\n",
      "Classificando com o  LinearDiscriminantAnalysis\n",
      "Salvando as informações num JSON: relatorio_teste_semBeamforming_SNR_17dB_semPCA_1585103385.3891492.json\n",
      "Classificando com o  LinearDiscriminantAnalysis\n",
      "Salvando as informações num JSON: relatorio_teste_semBeamforming_SNR_17dB_semPCA_1585103385.7128174.json\n",
      "Classificando com o  LinearDiscriminantAnalysis\n",
      "Salvando as informações num JSON: relatorio_teste_semBeamforming_SNR_17dB_semPCA_1585103386.0595157.json\n",
      "Classificando com o  LinearDiscriminantAnalysis\n",
      "Salvando as informações num JSON: relatorio_teste_semBeamforming_SNR_17dB_semPCA_1585103386.3983223.json\n",
      "Classificando com o  LinearDiscriminantAnalysis\n",
      "Salvando as informações num JSON: relatorio_teste_semBeamforming_SNR_17dB_semPCA_1585103386.7338912.json\n",
      "O teste com todos os classificadores foi finalizado\n",
      "Classificando com o  SVC\n",
      "Salvando as informações num JSON: relatorio_teste_beamforming_SNR_16dB_semPCA_1585103387.7466984.json\n",
      "Classificando com o  SVC\n",
      "Salvando as informações num JSON: relatorio_teste_beamforming_SNR_16dB_semPCA_1585103388.6829977.json\n",
      "Classificando com o  SVC\n",
      "Salvando as informações num JSON: relatorio_teste_beamforming_SNR_16dB_semPCA_1585103389.5481408.json\n",
      "Classificando com o  SVC\n",
      "Salvando as informações num JSON: relatorio_teste_beamforming_SNR_16dB_semPCA_1585103390.4741294.json\n",
      "Classificando com o  SVC\n",
      "Salvando as informações num JSON: relatorio_teste_beamforming_SNR_16dB_semPCA_1585103391.3758273.json\n",
      "Classificando com o  SVC\n",
      "Salvando as informações num JSON: relatorio_teste_beamforming_SNR_16dB_semPCA_1585103392.3127325.json\n",
      "Classificando com o  SVC\n",
      "Salvando as informações num JSON: relatorio_teste_beamforming_SNR_16dB_semPCA_1585103393.1966045.json\n",
      "Classificando com o  SVC\n",
      "Salvando as informações num JSON: relatorio_teste_beamforming_SNR_16dB_semPCA_1585103394.0967119.json\n",
      "Classificando com o  SVC\n",
      "Salvando as informações num JSON: relatorio_teste_beamforming_SNR_16dB_semPCA_1585103394.9958348.json\n",
      "Classificando com o  SVC\n",
      "Salvando as informações num JSON: relatorio_teste_beamforming_SNR_16dB_semPCA_1585103395.8858747.json\n",
      "Classificando com o  LinearDiscriminantAnalysis\n",
      "Salvando as informações num JSON: relatorio_teste_beamforming_SNR_16dB_semPCA_1585103396.193758.json\n",
      "Classificando com o  LinearDiscriminantAnalysis\n",
      "Salvando as informações num JSON: relatorio_teste_beamforming_SNR_16dB_semPCA_1585103396.5080583.json\n",
      "Classificando com o  LinearDiscriminantAnalysis\n",
      "Salvando as informações num JSON: relatorio_teste_beamforming_SNR_16dB_semPCA_1585103396.819262.json\n",
      "Classificando com o  LinearDiscriminantAnalysis\n",
      "Salvando as informações num JSON: relatorio_teste_beamforming_SNR_16dB_semPCA_1585103397.1239233.json\n",
      "Classificando com o  LinearDiscriminantAnalysis\n",
      "Salvando as informações num JSON: relatorio_teste_beamforming_SNR_16dB_semPCA_1585103397.432226.json\n",
      "Classificando com o  LinearDiscriminantAnalysis\n",
      "Salvando as informações num JSON: relatorio_teste_beamforming_SNR_16dB_semPCA_1585103397.7411742.json\n",
      "Classificando com o  LinearDiscriminantAnalysis\n",
      "Salvando as informações num JSON: relatorio_teste_beamforming_SNR_16dB_semPCA_1585103398.0470774.json\n",
      "Classificando com o  LinearDiscriminantAnalysis\n",
      "Salvando as informações num JSON: relatorio_teste_beamforming_SNR_16dB_semPCA_1585103398.3538291.json\n",
      "Classificando com o  LinearDiscriminantAnalysis\n",
      "Salvando as informações num JSON: relatorio_teste_beamforming_SNR_16dB_semPCA_1585103398.6720853.json\n",
      "Classificando com o  LinearDiscriminantAnalysis\n",
      "Salvando as informações num JSON: relatorio_teste_beamforming_SNR_16dB_semPCA_1585103398.9998236.json\n",
      "O teste com todos os classificadores foi finalizado\n",
      "Classificando com o  SVC\n",
      "Salvando as informações num JSON: relatorio_teste_GSC_SNR_16dB_semPCA_1585103400.004218.json\n",
      "Classificando com o  SVC\n",
      "Salvando as informações num JSON: relatorio_teste_GSC_SNR_16dB_semPCA_1585103400.950233.json\n",
      "Classificando com o  SVC\n",
      "Salvando as informações num JSON: relatorio_teste_GSC_SNR_16dB_semPCA_1585103401.8153348.json\n",
      "Classificando com o  SVC\n",
      "Salvando as informações num JSON: relatorio_teste_GSC_SNR_16dB_semPCA_1585103402.7965107.json\n",
      "Classificando com o  SVC\n",
      "Salvando as informações num JSON: relatorio_teste_GSC_SNR_16dB_semPCA_1585103403.7818182.json\n",
      "Classificando com o  SVC\n",
      "Salvando as informações num JSON: relatorio_teste_GSC_SNR_16dB_semPCA_1585103404.7326016.json\n",
      "Classificando com o  SVC\n",
      "Salvando as informações num JSON: relatorio_teste_GSC_SNR_16dB_semPCA_1585103405.6238348.json\n",
      "Classificando com o  SVC\n",
      "Salvando as informações num JSON: relatorio_teste_GSC_SNR_16dB_semPCA_1585103406.5276296.json\n",
      "Classificando com o  SVC\n",
      "Salvando as informações num JSON: relatorio_teste_GSC_SNR_16dB_semPCA_1585103407.4452105.json\n",
      "Classificando com o  SVC\n",
      "Salvando as informações num JSON: relatorio_teste_GSC_SNR_16dB_semPCA_1585103408.3074677.json\n",
      "Classificando com o  LinearDiscriminantAnalysis\n",
      "Salvando as informações num JSON: relatorio_teste_GSC_SNR_16dB_semPCA_1585103408.6296039.json\n",
      "Classificando com o  LinearDiscriminantAnalysis\n",
      "Salvando as informações num JSON: relatorio_teste_GSC_SNR_16dB_semPCA_1585103408.9573698.json\n",
      "Classificando com o  LinearDiscriminantAnalysis\n",
      "Salvando as informações num JSON: relatorio_teste_GSC_SNR_16dB_semPCA_1585103409.2950633.json\n",
      "Classificando com o  LinearDiscriminantAnalysis\n",
      "Salvando as informações num JSON: relatorio_teste_GSC_SNR_16dB_semPCA_1585103409.6300528.json\n",
      "Classificando com o  LinearDiscriminantAnalysis\n",
      "Salvando as informações num JSON: relatorio_teste_GSC_SNR_16dB_semPCA_1585103409.9591405.json\n",
      "Classificando com o  LinearDiscriminantAnalysis\n",
      "Salvando as informações num JSON: relatorio_teste_GSC_SNR_16dB_semPCA_1585103410.2858396.json\n",
      "Classificando com o  LinearDiscriminantAnalysis\n",
      "Salvando as informações num JSON: relatorio_teste_GSC_SNR_16dB_semPCA_1585103410.61454.json\n",
      "Classificando com o  LinearDiscriminantAnalysis\n",
      "Salvando as informações num JSON: relatorio_teste_GSC_SNR_16dB_semPCA_1585103410.972379.json\n",
      "Classificando com o  LinearDiscriminantAnalysis\n",
      "Salvando as informações num JSON: relatorio_teste_GSC_SNR_16dB_semPCA_1585103411.3052053.json\n",
      "Classificando com o  LinearDiscriminantAnalysis\n",
      "Salvando as informações num JSON: relatorio_teste_GSC_SNR_16dB_semPCA_1585103411.6330976.json\n",
      "O teste com todos os classificadores foi finalizado\n",
      "Classificando com o  SVC\n",
      "Salvando as informações num JSON: relatorio_teste_semBeamforming_SNR_16dB_semPCA_1585103412.6375582.json\n",
      "Classificando com o  SVC\n",
      "Salvando as informações num JSON: relatorio_teste_semBeamforming_SNR_16dB_semPCA_1585103413.5678265.json\n",
      "Classificando com o  SVC\n",
      "Salvando as informações num JSON: relatorio_teste_semBeamforming_SNR_16dB_semPCA_1585103414.4184432.json\n",
      "Classificando com o  SVC\n",
      "Salvando as informações num JSON: relatorio_teste_semBeamforming_SNR_16dB_semPCA_1585103415.3245037.json\n",
      "Classificando com o  SVC\n",
      "Salvando as informações num JSON: relatorio_teste_semBeamforming_SNR_16dB_semPCA_1585103416.2178657.json\n",
      "Classificando com o  SVC\n",
      "Salvando as informações num JSON: relatorio_teste_semBeamforming_SNR_16dB_semPCA_1585103417.1464832.json\n",
      "Classificando com o  SVC\n",
      "Salvando as informações num JSON: relatorio_teste_semBeamforming_SNR_16dB_semPCA_1585103418.0679896.json\n",
      "Classificando com o  SVC\n",
      "Salvando as informações num JSON: relatorio_teste_semBeamforming_SNR_16dB_semPCA_1585103418.9802928.json\n",
      "Classificando com o  SVC\n",
      "Salvando as informações num JSON: relatorio_teste_semBeamforming_SNR_16dB_semPCA_1585103419.8688843.json\n",
      "Classificando com o  SVC\n",
      "Salvando as informações num JSON: relatorio_teste_semBeamforming_SNR_16dB_semPCA_1585103420.7429426.json\n",
      "Classificando com o  LinearDiscriminantAnalysis\n",
      "Salvando as informações num JSON: relatorio_teste_semBeamforming_SNR_16dB_semPCA_1585103421.0508142.json\n",
      "Classificando com o  LinearDiscriminantAnalysis\n",
      "Salvando as informações num JSON: relatorio_teste_semBeamforming_SNR_16dB_semPCA_1585103421.3575213.json\n",
      "Classificando com o  LinearDiscriminantAnalysis\n"
     ]
    },
    {
     "name": "stdout",
     "output_type": "stream",
     "text": [
      "Salvando as informações num JSON: relatorio_teste_semBeamforming_SNR_16dB_semPCA_1585103421.6625464.json\n",
      "Classificando com o  LinearDiscriminantAnalysis\n",
      "Salvando as informações num JSON: relatorio_teste_semBeamforming_SNR_16dB_semPCA_1585103421.967401.json\n",
      "Classificando com o  LinearDiscriminantAnalysis\n",
      "Salvando as informações num JSON: relatorio_teste_semBeamforming_SNR_16dB_semPCA_1585103422.2755153.json\n",
      "Classificando com o  LinearDiscriminantAnalysis\n",
      "Salvando as informações num JSON: relatorio_teste_semBeamforming_SNR_16dB_semPCA_1585103422.5795143.json\n",
      "Classificando com o  LinearDiscriminantAnalysis\n",
      "Salvando as informações num JSON: relatorio_teste_semBeamforming_SNR_16dB_semPCA_1585103422.8806286.json\n",
      "Classificando com o  LinearDiscriminantAnalysis\n",
      "Salvando as informações num JSON: relatorio_teste_semBeamforming_SNR_16dB_semPCA_1585103423.1931028.json\n",
      "Classificando com o  LinearDiscriminantAnalysis\n",
      "Salvando as informações num JSON: relatorio_teste_semBeamforming_SNR_16dB_semPCA_1585103423.5002396.json\n",
      "Classificando com o  LinearDiscriminantAnalysis\n",
      "Salvando as informações num JSON: relatorio_teste_semBeamforming_SNR_16dB_semPCA_1585103423.8056312.json\n",
      "O teste com todos os classificadores foi finalizado\n"
     ]
    }
   ],
   "source": [
    "diretorioOrigemCSVsTeste = \"/home/dimi/Programming/IC2019/ML/datasets/SESA/SESA_Normalizado/outros/RBRANCO/\"\n",
    "pastasSNRsDesejadas = np.arange(-10, 31)\n",
    "\n",
    "# VOU PASSAR POR CADA COISA QUE TIVER DENTRO DO DIRETORIO DE ORIGEM\n",
    "for diretorioSNRAtual in os.listdir(diretorioOrigemCSVsTeste):\n",
    "\n",
    "    # SE FOR PASTA, EU PROSSIGO COM O ALGORITMO\n",
    "    if os.path.isdir(diretorioOrigemCSVsTeste + diretorioSNRAtual) == True:\n",
    "        \n",
    "        # QUERO FAZER O TESTE SO COM AS SEGUINTES SNRS\n",
    "        if int(diretorioSNRAtual.split(\"_\")[1][:-2]) in pastasSNRsDesejadas:\n",
    "        \n",
    "            # PEGO OS CSVs QUE ESTAO DENTRO DA PASTA\n",
    "            arquivosCSV = [filename for filename in os.listdir(diretorioOrigemCSVsTeste + diretorioSNRAtual) if filename.endswith(\".csv\")]\n",
    "\n",
    "            # PARA CADA CSV\n",
    "            for csvAtual in arquivosCSV:\n",
    "\n",
    "                # SETO OS PARAMETROS INICIAIS PARA A ETAPE DE TESTE\n",
    "                diretorioSalvarRelatorio = diretorioOrigemCSVsTeste + diretorioSNRAtual + \"/\"\n",
    "                nomeDatasetTeste         = csvAtual[0:-4] #tenho que tirar o \".csv\" do nome\n",
    "                caminhoCSVTeste          = diretorioSalvarRelatorio + nomeDatasetTeste + '.csv'\n",
    "                dataframeTeste           = pd.read_csv(caminhoCSVTeste)\n",
    "\n",
    "                # RODO O ALGORITMO DE TESTE\n",
    "                objTreinarEClassificar.classificarDataframe(dataframeTeste, arrayObjClassificadores, diretorioSalvarRelatorio, nomeDatasetTeste)"
   ]
  },
  {
   "cell_type": "code",
   "execution_count": null,
   "metadata": {},
   "outputs": [],
   "source": []
  },
  {
   "cell_type": "code",
   "execution_count": null,
   "metadata": {},
   "outputs": [],
   "source": []
  }
 ],
 "metadata": {
  "kernelspec": {
   "display_name": "Python 3",
   "language": "python",
   "name": "python3"
  },
  "language_info": {
   "codemirror_mode": {
    "name": "ipython",
    "version": 3
   },
   "file_extension": ".py",
   "mimetype": "text/x-python",
   "name": "python",
   "nbconvert_exporter": "python",
   "pygments_lexer": "ipython3",
   "version": "3.7.3"
  }
 },
 "nbformat": 4,
 "nbformat_minor": 2
}
