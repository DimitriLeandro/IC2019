{
 "cells": [
  {
   "cell_type": "markdown",
   "metadata": {},
   "source": [
    "# Testando a classe de extração de features"
   ]
  },
  {
   "cell_type": "markdown",
   "metadata": {},
   "source": [
    "Esse jupyter tem o objetivo de testar a classe de extração de features. Ela foi totalmente implementada no jupyter \"Implementação de classe para extração de features - SESA Dataset\", mas aqui nós vamos testar o arquivo .py que contém a classe.\n",
    "\n",
    "Para usar a classe é muito simples. Basta ter uma pasta com os arquivos wav que se deseja extrair as features (essa pasta só deve ter arquivos wav, nada mais), e definir os parâmetros iniciais, que são:\n",
    "\n",
    "1) Frequência de amostragem dos áudios da pasta;\n",
    "\n",
    "2) O tamanho do janelamento e da sobreposição que se deseja (em qtd de frames, não em segundos);\n",
    "\n",
    "3) Se deve ser feito o escalonamento das features após a extração (default True);\n",
    "\n",
    "4) Quantidade de componentes principais do PCA para fazer a redução de dimensinalidade (default None)\n",
    "\n",
    "Depois disso, basta instânciar um objeto da classe com esses parâmetros que o construtor se encarregará de fazer todo o trabalho. Ao final, haverá um arquivo CSV dentro da pasta em questão."
   ]
  },
  {
   "cell_type": "code",
   "execution_count": 1,
   "metadata": {},
   "outputs": [],
   "source": [
    "import sys\n",
    "sys.path.append('/home/dimi/Programming/IC2019/ML/python')\n",
    "from extrairFeaturesClass import ExtrairFeatures"
   ]
  },
  {
   "cell_type": "code",
   "execution_count": 2,
   "metadata": {},
   "outputs": [],
   "source": [
    "import librosa\n",
    "import os\n",
    "import time\n",
    "import warnings\n",
    "#warnings.filterwarnings(\"ignore\")"
   ]
  },
  {
   "cell_type": "markdown",
   "metadata": {},
   "source": [
    "## Definindo parâmetros iniciais"
   ]
  },
  {
   "cell_type": "code",
   "execution_count": 3,
   "metadata": {},
   "outputs": [],
   "source": [
    "# arrayDuracoes = []\n",
    "\n",
    "# diretorio = \"/home/dimi/Downloads/Datasets/SESA/SESA_Normalizado/train/\"\n",
    "# for arquivo in os.listdir(diretorio):\n",
    "#     arrayDuracoes.append(librosa.get_duration(filename=diretorio + arquivo))\n",
    "\n",
    "# diretorio = \"/home/dimi/Downloads/Datasets/SESA/SESA_Normalizado/test/\"\n",
    "# for arquivo in os.listdir(diretorio):\n",
    "#     arrayDuracoes.append(librosa.get_duration(filename=diretorio + arquivo))"
   ]
  },
  {
   "cell_type": "code",
   "execution_count": 4,
   "metadata": {},
   "outputs": [],
   "source": [
    "# print(\"Duração mínima:\", min(arrayDuracoes))\n",
    "# print(\"Duração máxima:\", max(arrayDuracoes))"
   ]
  },
  {
   "cell_type": "code",
   "execution_count": 5,
   "metadata": {},
   "outputs": [],
   "source": [
    "# audioTesteDir = \"/home/dimi/Downloads/Datasets/SESA/SESA_Normalizado/test/casual_000.wav\" \n",
    "# audioTeste, freqAmostragem = librosa.load(audioTesteDir, sr=None, mono=True)\n",
    "\n",
    "# frameTime     = min(arrayDuracoes)\n",
    "# overlapTime   = frameTime / 2\n",
    "\n",
    "# frameLength   = int(freqAmostragem * frameTime)\n",
    "# overlapLength = int(freqAmostragem * overlapTime)\n",
    "\n",
    "# print(\"Frequência de amostragem do dataset:\\t\", freqAmostragem)\n",
    "# print(\"Tamanho do janelamento (segundos):\\t\", frameTime)\n",
    "# print(\"Tamanho do janelamento (amostras):\\t\", frameLength)\n",
    "# print(\"Tamanho da sobreposição (amostras):\\t\", overlapLength)"
   ]
  },
  {
   "cell_type": "markdown",
   "metadata": {},
   "source": [
    "## Rodando a extração de features"
   ]
  },
  {
   "cell_type": "code",
   "execution_count": null,
   "metadata": {},
   "outputs": [
    {
     "name": "stdout",
     "output_type": "stream",
     "text": [
      "[Parallel(n_jobs=-1)]: Using backend LokyBackend with 8 concurrent workers.\n",
      "[Parallel(n_jobs=-1)]: Done   1 tasks      | elapsed:    3.6s\n",
      "[Parallel(n_jobs=-1)]: Done   2 tasks      | elapsed:    3.9s\n",
      "[Parallel(n_jobs=-1)]: Done   3 tasks      | elapsed:    4.2s\n",
      "[Parallel(n_jobs=-1)]: Done   4 tasks      | elapsed:    8.3s\n",
      "[Parallel(n_jobs=-1)]: Done   5 tasks      | elapsed:    9.7s\n",
      "[Parallel(n_jobs=-1)]: Done   6 tasks      | elapsed:   11.0s\n",
      "[Parallel(n_jobs=-1)]: Done   7 tasks      | elapsed:   12.1s\n",
      "[Parallel(n_jobs=-1)]: Done   8 tasks      | elapsed:   14.0s\n",
      "[Parallel(n_jobs=-1)]: Done   9 tasks      | elapsed:   15.0s\n",
      "[Parallel(n_jobs=-1)]: Done  10 tasks      | elapsed:   15.8s\n",
      "[Parallel(n_jobs=-1)]: Done  11 tasks      | elapsed:   16.6s\n",
      "[Parallel(n_jobs=-1)]: Done  12 tasks      | elapsed:   18.0s\n",
      "[Parallel(n_jobs=-1)]: Done  13 tasks      | elapsed:   19.8s\n",
      "[Parallel(n_jobs=-1)]: Done  14 tasks      | elapsed:   21.4s\n",
      "[Parallel(n_jobs=-1)]: Done  15 tasks      | elapsed:   21.9s\n",
      "[Parallel(n_jobs=-1)]: Done  16 tasks      | elapsed:   23.6s\n",
      "[Parallel(n_jobs=-1)]: Done  17 tasks      | elapsed:   23.8s\n",
      "[Parallel(n_jobs=-1)]: Done  18 tasks      | elapsed:   24.8s\n",
      "[Parallel(n_jobs=-1)]: Done  19 tasks      | elapsed:   28.0s\n",
      "[Parallel(n_jobs=-1)]: Done  20 tasks      | elapsed:   28.7s\n",
      "[Parallel(n_jobs=-1)]: Done  21 tasks      | elapsed:   29.3s\n",
      "[Parallel(n_jobs=-1)]: Done  22 tasks      | elapsed:   30.0s\n",
      "[Parallel(n_jobs=-1)]: Done  23 tasks      | elapsed:   31.4s\n",
      "[Parallel(n_jobs=-1)]: Done  24 tasks      | elapsed:   31.8s\n",
      "[Parallel(n_jobs=-1)]: Done  25 tasks      | elapsed:   32.5s\n",
      "[Parallel(n_jobs=-1)]: Done  26 tasks      | elapsed:   33.0s\n",
      "[Parallel(n_jobs=-1)]: Done  27 tasks      | elapsed:   34.0s\n",
      "[Parallel(n_jobs=-1)]: Done  28 tasks      | elapsed:   34.4s\n",
      "[Parallel(n_jobs=-1)]: Done  29 tasks      | elapsed:   34.5s\n",
      "[Parallel(n_jobs=-1)]: Done  30 tasks      | elapsed:   34.5s\n",
      "[Parallel(n_jobs=-1)]: Done  31 tasks      | elapsed:   36.0s\n",
      "[Parallel(n_jobs=-1)]: Done  32 tasks      | elapsed:   36.5s\n",
      "[Parallel(n_jobs=-1)]: Done  33 tasks      | elapsed:   36.7s\n",
      "[Parallel(n_jobs=-1)]: Done  34 tasks      | elapsed:   37.5s\n",
      "[Parallel(n_jobs=-1)]: Done  35 tasks      | elapsed:   38.3s\n",
      "[Parallel(n_jobs=-1)]: Done  36 tasks      | elapsed:   38.3s\n",
      "[Parallel(n_jobs=-1)]: Done  37 tasks      | elapsed:   39.1s\n",
      "[Parallel(n_jobs=-1)]: Done  38 tasks      | elapsed:   40.1s\n",
      "[Parallel(n_jobs=-1)]: Done  39 tasks      | elapsed:   40.8s\n",
      "[Parallel(n_jobs=-1)]: Done  40 tasks      | elapsed:   41.0s\n",
      "[Parallel(n_jobs=-1)]: Done  41 tasks      | elapsed:   41.7s\n",
      "[Parallel(n_jobs=-1)]: Done  42 tasks      | elapsed:   43.9s\n",
      "[Parallel(n_jobs=-1)]: Done  43 tasks      | elapsed:   44.3s\n",
      "[Parallel(n_jobs=-1)]: Done  44 tasks      | elapsed:   44.5s\n",
      "[Parallel(n_jobs=-1)]: Done  45 tasks      | elapsed:   44.6s\n",
      "[Parallel(n_jobs=-1)]: Done  46 tasks      | elapsed:   45.7s\n",
      "[Parallel(n_jobs=-1)]: Done  47 tasks      | elapsed:   48.2s\n",
      "[Parallel(n_jobs=-1)]: Done  48 tasks      | elapsed:   49.6s\n",
      "[Parallel(n_jobs=-1)]: Done  49 tasks      | elapsed:   50.6s\n",
      "[Parallel(n_jobs=-1)]: Done  50 tasks      | elapsed:   51.1s\n",
      "[Parallel(n_jobs=-1)]: Done  51 tasks      | elapsed:   53.2s\n",
      "[Parallel(n_jobs=-1)]: Done  52 tasks      | elapsed:   55.8s\n",
      "[Parallel(n_jobs=-1)]: Done  53 tasks      | elapsed:   56.4s\n",
      "[Parallel(n_jobs=-1)]: Done  54 tasks      | elapsed:   57.1s\n",
      "[Parallel(n_jobs=-1)]: Done  55 tasks      | elapsed:   57.6s\n",
      "[Parallel(n_jobs=-1)]: Done  56 tasks      | elapsed:   59.4s\n",
      "[Parallel(n_jobs=-1)]: Done  57 tasks      | elapsed:  1.0min\n",
      "[Parallel(n_jobs=-1)]: Done  58 tasks      | elapsed:  1.0min\n",
      "[Parallel(n_jobs=-1)]: Done  59 tasks      | elapsed:  1.1min\n",
      "[Parallel(n_jobs=-1)]: Done  60 tasks      | elapsed:  1.1min\n",
      "[Parallel(n_jobs=-1)]: Done  61 tasks      | elapsed:  1.1min\n",
      "[Parallel(n_jobs=-1)]: Done  62 tasks      | elapsed:  1.2min\n",
      "[Parallel(n_jobs=-1)]: Done  63 tasks      | elapsed:  1.2min\n",
      "[Parallel(n_jobs=-1)]: Done  64 tasks      | elapsed:  1.2min\n",
      "[Parallel(n_jobs=-1)]: Done  65 tasks      | elapsed:  1.3min\n",
      "[Parallel(n_jobs=-1)]: Done  66 tasks      | elapsed:  1.3min\n",
      "[Parallel(n_jobs=-1)]: Done  67 tasks      | elapsed:  1.4min\n",
      "[Parallel(n_jobs=-1)]: Done  68 tasks      | elapsed:  1.4min\n",
      "[Parallel(n_jobs=-1)]: Done  69 tasks      | elapsed:  1.4min\n",
      "[Parallel(n_jobs=-1)]: Done  70 tasks      | elapsed:  1.4min\n",
      "[Parallel(n_jobs=-1)]: Done  71 tasks      | elapsed:  1.4min\n",
      "[Parallel(n_jobs=-1)]: Done  72 tasks      | elapsed:  1.5min\n",
      "[Parallel(n_jobs=-1)]: Done  73 tasks      | elapsed:  1.5min\n",
      "[Parallel(n_jobs=-1)]: Done  74 tasks      | elapsed:  1.5min\n",
      "[Parallel(n_jobs=-1)]: Done  75 tasks      | elapsed:  1.5min\n",
      "[Parallel(n_jobs=-1)]: Done  76 tasks      | elapsed:  1.5min\n",
      "[Parallel(n_jobs=-1)]: Done  77 tasks      | elapsed:  1.5min\n",
      "[Parallel(n_jobs=-1)]: Done  78 tasks      | elapsed:  1.6min\n",
      "[Parallel(n_jobs=-1)]: Done  79 tasks      | elapsed:  1.6min\n",
      "[Parallel(n_jobs=-1)]: Done  80 tasks      | elapsed:  1.6min\n",
      "[Parallel(n_jobs=-1)]: Done  81 tasks      | elapsed:  1.6min\n",
      "[Parallel(n_jobs=-1)]: Done  82 tasks      | elapsed:  1.7min\n",
      "[Parallel(n_jobs=-1)]: Done  83 tasks      | elapsed:  1.7min\n",
      "[Parallel(n_jobs=-1)]: Done  84 tasks      | elapsed:  1.7min\n",
      "[Parallel(n_jobs=-1)]: Done  85 tasks      | elapsed:  1.7min\n",
      "[Parallel(n_jobs=-1)]: Done  86 tasks      | elapsed:  1.7min\n",
      "[Parallel(n_jobs=-1)]: Done  87 tasks      | elapsed:  1.7min\n",
      "[Parallel(n_jobs=-1)]: Done  88 tasks      | elapsed:  1.7min\n",
      "[Parallel(n_jobs=-1)]: Done  89 tasks      | elapsed:  1.8min\n",
      "[Parallel(n_jobs=-1)]: Done  90 tasks      | elapsed:  1.9min\n",
      "[Parallel(n_jobs=-1)]: Done  91 tasks      | elapsed:  1.9min\n",
      "[Parallel(n_jobs=-1)]: Done  92 tasks      | elapsed:  1.9min\n",
      "[Parallel(n_jobs=-1)]: Done  93 tasks      | elapsed:  1.9min\n",
      "[Parallel(n_jobs=-1)]: Done  94 tasks      | elapsed:  1.9min\n",
      "[Parallel(n_jobs=-1)]: Done  95 tasks      | elapsed:  1.9min\n",
      "[Parallel(n_jobs=-1)]: Done  96 tasks      | elapsed:  1.9min\n",
      "[Parallel(n_jobs=-1)]: Done  97 tasks      | elapsed:  2.0min\n",
      "[Parallel(n_jobs=-1)]: Done  98 tasks      | elapsed:  2.0min\n",
      "[Parallel(n_jobs=-1)]: Done  99 tasks      | elapsed:  2.0min\n",
      "[Parallel(n_jobs=-1)]: Done 100 tasks      | elapsed:  2.0min\n",
      "[Parallel(n_jobs=-1)]: Done 101 tasks      | elapsed:  2.1min\n",
      "[Parallel(n_jobs=-1)]: Done 102 tasks      | elapsed:  2.1min\n",
      "[Parallel(n_jobs=-1)]: Done 103 tasks      | elapsed:  2.1min\n",
      "[Parallel(n_jobs=-1)]: Done 104 tasks      | elapsed:  2.2min\n",
      "[Parallel(n_jobs=-1)]: Done 105 tasks      | elapsed:  2.2min\n",
      "[Parallel(n_jobs=-1)]: Done 106 tasks      | elapsed:  2.2min\n",
      "[Parallel(n_jobs=-1)]: Done 107 tasks      | elapsed:  2.2min\n",
      "[Parallel(n_jobs=-1)]: Done 108 tasks      | elapsed:  2.2min\n",
      "[Parallel(n_jobs=-1)]: Done 109 tasks      | elapsed:  2.2min\n",
      "[Parallel(n_jobs=-1)]: Done 110 tasks      | elapsed:  2.3min\n",
      "[Parallel(n_jobs=-1)]: Done 111 tasks      | elapsed:  2.3min\n",
      "[Parallel(n_jobs=-1)]: Done 112 tasks      | elapsed:  2.3min\n",
      "[Parallel(n_jobs=-1)]: Done 113 tasks      | elapsed:  2.3min\n",
      "[Parallel(n_jobs=-1)]: Done 114 tasks      | elapsed:  2.3min\n",
      "[Parallel(n_jobs=-1)]: Done 115 tasks      | elapsed:  2.4min\n",
      "[Parallel(n_jobs=-1)]: Done 116 tasks      | elapsed:  2.4min\n",
      "[Parallel(n_jobs=-1)]: Done 117 tasks      | elapsed:  2.4min\n",
      "[Parallel(n_jobs=-1)]: Done 118 tasks      | elapsed:  2.4min\n",
      "[Parallel(n_jobs=-1)]: Done 119 tasks      | elapsed:  2.4min\n",
      "[Parallel(n_jobs=-1)]: Done 120 tasks      | elapsed:  2.5min\n",
      "[Parallel(n_jobs=-1)]: Done 121 tasks      | elapsed:  2.5min\n",
      "[Parallel(n_jobs=-1)]: Done 122 tasks      | elapsed:  2.6min\n",
      "[Parallel(n_jobs=-1)]: Done 123 tasks      | elapsed:  2.6min\n",
      "[Parallel(n_jobs=-1)]: Done 124 tasks      | elapsed:  2.7min\n"
     ]
    }
   ],
   "source": [
    "%%time\n",
    "# DEFININDO PARAMETROS INICIAIS\n",
    "freqAmostragem = 16000\n",
    "frameLength    = int(0.200 * freqAmostragem) # 200 milisegundos\n",
    "overlapLength  = int(frameLength / 2) # 50% de overlap\n",
    "escalonamento  = True\n",
    "\n",
    "pastaRaiz      = '/home/dimi/Downloads/datasets/SESA_original_v2/original/'\n",
    "ExtrairFeatures(pastaRaiz, freqAmostragem, frameLength, overlapLength, escalonamento)"
   ]
  },
  {
   "cell_type": "code",
   "execution_count": null,
   "metadata": {},
   "outputs": [],
   "source": [
    "%%time\n",
    "# DEFININDO PARAMETROS INICIAIS\n",
    "freqAmostragem = 16000\n",
    "frameLength    = int(0.200 * freqAmostragem) # 200 milisegundos\n",
    "overlapLength  = int(frameLength / 2) # 50% de overlap\n",
    "escalonamento  = True\n",
    "\n",
    "pastaRaiz      = '/home/dimi/Downloads/datasets/SESA_original_v2/silencio/'\n",
    "ExtrairFeatures(pastaRaiz, freqAmostragem, frameLength, overlapLength, escalonamento)"
   ]
  },
  {
   "cell_type": "code",
   "execution_count": null,
   "metadata": {},
   "outputs": [],
   "source": []
  },
  {
   "cell_type": "code",
   "execution_count": null,
   "metadata": {},
   "outputs": [],
   "source": []
  }
 ],
 "metadata": {
  "kernelspec": {
   "display_name": "Python 3",
   "language": "python",
   "name": "python3"
  },
  "language_info": {
   "codemirror_mode": {
    "name": "ipython",
    "version": 3
   },
   "file_extension": ".py",
   "mimetype": "text/x-python",
   "name": "python",
   "nbconvert_exporter": "python",
   "pygments_lexer": "ipython3",
   "version": "3.7.3"
  }
 },
 "nbformat": 4,
 "nbformat_minor": 2
}
