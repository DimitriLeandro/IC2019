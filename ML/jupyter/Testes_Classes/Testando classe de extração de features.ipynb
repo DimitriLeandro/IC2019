{
 "cells": [
  {
   "cell_type": "markdown",
   "metadata": {},
   "source": [
    "# Testando a classe de extração de features"
   ]
  },
  {
   "cell_type": "markdown",
   "metadata": {},
   "source": [
    "Esse jupyter tem o objetivo de testar a classe de extração de features. Ela foi totalmente implementada no jupyter \"Implementação de classe para extração de features - SESA Dataset\", mas aqui nós vamos testar o arquivo .py que contém a classe.\n",
    "\n",
    "Para usar a classe é muito simples. Basta ter uma pasta com os arquivos wav que se deseja extrair as features (essa pasta só deve ter arquivos wav, nada mais), e definir os parâmetros iniciais, que são:\n",
    "\n",
    "1) Frequência de amostragem dos áudios da pasta;\n",
    "\n",
    "2) O tamanho do janelamento e da sobreposição que se deseja (em qtd de frames, não em segundos);\n",
    "\n",
    "3) Se deve ser feito o escalonamento das features após a extração (default True);\n",
    "\n",
    "4) Quantidade de componentes principais do PCA para fazer a redução de dimensinalidade (default None)\n",
    "\n",
    "Depois disso, basta instânciar um objeto da classe com esses parâmetros que o construtor se encarregará de fazer todo o trabalho. Ao final, haverá um arquivo CSV dentro da pasta em questão."
   ]
  },
  {
   "cell_type": "code",
   "execution_count": 1,
   "metadata": {},
   "outputs": [],
   "source": [
    "import sys\n",
    "sys.path.append('/home/dimi/Programming/IC2019/ML/python')\n",
    "from extrairFeaturesClass import ExtrairFeatures"
   ]
  },
  {
   "cell_type": "code",
   "execution_count": 5,
   "metadata": {},
   "outputs": [],
   "source": [
    "import librosa\n",
    "import os\n",
    "import time\n",
    "import warnings\n",
    "warnings.filterwarnings(\"ignore\")"
   ]
  },
  {
   "cell_type": "markdown",
   "metadata": {},
   "source": [
    "## Definindo parâmetros iniciais"
   ]
  },
  {
   "cell_type": "code",
   "execution_count": 10,
   "metadata": {},
   "outputs": [],
   "source": [
    "arrayDuracoes = []\n",
    "\n",
    "diretorio = \"/home/dimi/Downloads/Datasets/SESA/SESA_Normalizado/train/\"\n",
    "for arquivo in os.listdir(diretorio):\n",
    "    arrayDuracoes.append(librosa.get_duration(filename=diretorio + arquivo))\n",
    "\n",
    "diretorio = \"/home/dimi/Downloads/Datasets/SESA/SESA_Normalizado/test/\"\n",
    "for arquivo in os.listdir(diretorio):\n",
    "    arrayDuracoes.append(librosa.get_duration(filename=diretorio + arquivo))"
   ]
  },
  {
   "cell_type": "code",
   "execution_count": 11,
   "metadata": {},
   "outputs": [
    {
     "name": "stdout",
     "output_type": "stream",
     "text": [
      "Duração mínima: 1.0715625\n",
      "Duração máxima: 33.030375\n"
     ]
    }
   ],
   "source": [
    "print(\"Duração mínima:\", min(arrayDuracoes))\n",
    "print(\"Duração máxima:\", max(arrayDuracoes))"
   ]
  },
  {
   "cell_type": "code",
   "execution_count": 13,
   "metadata": {},
   "outputs": [
    {
     "name": "stdout",
     "output_type": "stream",
     "text": [
      "Frequência de amostragem do dataset:\t 16000\n",
      "Tamanho do janelamento (segundos):\t 1.0715625\n",
      "Tamanho do janelamento (amostras):\t 17145\n",
      "Tamanho da sobreposição (amostras):\t 8572\n"
     ]
    }
   ],
   "source": [
    "audioTesteDir = \"/home/dimi/Downloads/Datasets/SESA/SESA_Normalizado/test/casual_000.wav\" \n",
    "audioTeste, freqAmostragem = librosa.load(audioTesteDir, sr=None, mono=True)\n",
    "\n",
    "frameTime     = min(arrayDuracoes)\n",
    "overlapTime   = frameTime / 2\n",
    "\n",
    "frameLength   = int(freqAmostragem * frameTime)\n",
    "overlapLength = int(freqAmostragem * overlapTime)\n",
    "\n",
    "print(\"Frequência de amostragem do dataset:\\t\", freqAmostragem)\n",
    "print(\"Tamanho do janelamento (segundos):\\t\", frameTime)\n",
    "print(\"Tamanho do janelamento (amostras):\\t\", frameLength)\n",
    "print(\"Tamanho da sobreposição (amostras):\\t\", overlapLength)"
   ]
  },
  {
   "cell_type": "markdown",
   "metadata": {},
   "source": [
    "## Rodando a extração de features"
   ]
  },
  {
   "cell_type": "markdown",
   "metadata": {},
   "source": [
    "Como definido no momento em que a classes estava sendo criada, frameLength é o tamanho do menor áudio do dataset, overlapLength é a metade do frameLength."
   ]
  },
  {
   "cell_type": "code",
   "execution_count": 3,
   "metadata": {},
   "outputs": [],
   "source": [
    "# ## DEFININDO PARAMETROS INICIAIS\n",
    "# pastaRaiz      = '/home/dimi/Downloads/Datasets/SESA/SESA_Normalizado/outros/'\n",
    "# freqAmostragem = 16000\n",
    "# frameLength    = 17145\n",
    "# overlapLength  = 8572\n",
    "# escalonamento  = True\n",
    "# nDimensoes     = None\n",
    "\n",
    "# # EXTRAINDO DE TODAS AS PASTAS DE SNR\n",
    "# for snrAtual in range(-10, 0):\n",
    "    \n",
    "#     print(\"\\n\\nINICIANDO A EXTRAÇÃO SNR\", snrAtual)\n",
    "    \n",
    "#     # CRIANDO O CAMINHO PARA A PASTA DE SNR ATUAL\n",
    "#     pastaSNRAtual = pastaRaiz + \"SNR_\" + str(snrAtual) + \"dB/\"\n",
    "\n",
    "#     # EXTRAINDO SEM BEAMFORMING, COM BEAMFORMING E GSC\n",
    "#     ExtrairFeatures(pastaSNRAtual + \"testeSemBeamforming/\", freqAmostragem, frameLength, overlapLength, escalonamento, nDimensoes)\n",
    "#     ExtrairFeatures(pastaSNRAtual + \"testeBeamforming/\", freqAmostragem, frameLength, overlapLength, escalonamento, nDimensoes)\n",
    "#     ExtrairFeatures(pastaSNRAtual + \"testeGSC/\", freqAmostragem, frameLength, overlapLength, escalonamento, nDimensoes)"
   ]
  },
  {
   "cell_type": "markdown",
   "metadata": {},
   "source": [
    "Extraindo features da pasta de treino com data augmentation"
   ]
  },
  {
   "cell_type": "code",
   "execution_count": null,
   "metadata": {},
   "outputs": [
    {
     "name": "stdout",
     "output_type": "stream",
     "text": [
      "Extraindo features do arquivo 1 de 4800 -> 0.020833333333333336%\n",
      "Extraindo features do arquivo 2 de 4800 -> 0.04166666666666667%\n",
      "Extraindo features do arquivo 3 de 4800 -> 0.0625%\n",
      "Extraindo features do arquivo 4 de 4800 -> 0.08333333333333334%\n",
      "Extraindo features do arquivo 5 de 4800 -> 0.10416666666666667%\n",
      "Extraindo features do arquivo 6 de 4800 -> 0.125%\n",
      "Extraindo features do arquivo 7 de 4800 -> 0.14583333333333334%\n",
      "Extraindo features do arquivo 8 de 4800 -> 0.16666666666666669%\n",
      "Extraindo features do arquivo 9 de 4800 -> 0.1875%\n",
      "Extraindo features do arquivo 10 de 4800 -> 0.20833333333333334%\n",
      "Extraindo features do arquivo 11 de 4800 -> 0.22916666666666666%\n",
      "Extraindo features do arquivo 12 de 4800 -> 0.25%\n",
      "Extraindo features do arquivo 13 de 4800 -> 0.27083333333333337%\n",
      "Extraindo features do arquivo 14 de 4800 -> 0.2916666666666667%\n",
      "Extraindo features do arquivo 15 de 4800 -> 0.3125%\n",
      "Extraindo features do arquivo 16 de 4800 -> 0.33333333333333337%\n",
      "Extraindo features do arquivo 17 de 4800 -> 0.35416666666666663%\n",
      "Extraindo features do arquivo 18 de 4800 -> 0.375%\n",
      "Extraindo features do arquivo 19 de 4800 -> 0.39583333333333337%\n",
      "Extraindo features do arquivo 20 de 4800 -> 0.4166666666666667%\n",
      "Extraindo features do arquivo 21 de 4800 -> 0.43750000000000006%\n",
      "Extraindo features do arquivo 22 de 4800 -> 0.4583333333333333%\n",
      "Extraindo features do arquivo 23 de 4800 -> 0.47916666666666663%\n",
      "Extraindo features do arquivo 24 de 4800 -> 0.5%\n",
      "Extraindo features do arquivo 25 de 4800 -> 0.5208333333333333%\n",
      "Extraindo features do arquivo 26 de 4800 -> 0.5416666666666667%\n",
      "Extraindo features do arquivo 27 de 4800 -> 0.5625%\n",
      "Extraindo features do arquivo 28 de 4800 -> 0.5833333333333334%\n",
      "Extraindo features do arquivo 29 de 4800 -> 0.6041666666666666%\n",
      "Extraindo features do arquivo 30 de 4800 -> 0.625%\n",
      "Extraindo features do arquivo 31 de 4800 -> 0.6458333333333334%\n",
      "Extraindo features do arquivo 32 de 4800 -> 0.6666666666666667%\n",
      "Extraindo features do arquivo 33 de 4800 -> 0.6875%\n",
      "Extraindo features do arquivo 34 de 4800 -> 0.7083333333333333%\n",
      "Extraindo features do arquivo 35 de 4800 -> 0.7291666666666666%\n",
      "Extraindo features do arquivo 36 de 4800 -> 0.75%\n",
      "Extraindo features do arquivo 37 de 4800 -> 0.7708333333333334%\n",
      "Extraindo features do arquivo 38 de 4800 -> 0.7916666666666667%\n",
      "Extraindo features do arquivo 39 de 4800 -> 0.8125%\n",
      "Extraindo features do arquivo 40 de 4800 -> 0.8333333333333334%\n",
      "Extraindo features do arquivo 41 de 4800 -> 0.8541666666666666%\n",
      "Extraindo features do arquivo 42 de 4800 -> 0.8750000000000001%\n",
      "Extraindo features do arquivo 43 de 4800 -> 0.8958333333333334%\n",
      "Extraindo features do arquivo 44 de 4800 -> 0.9166666666666666%\n",
      "Extraindo features do arquivo 45 de 4800 -> 0.9375%\n",
      "Extraindo features do arquivo 46 de 4800 -> 0.9583333333333333%\n",
      "Extraindo features do arquivo 47 de 4800 -> 0.9791666666666667%\n",
      "Extraindo features do arquivo 48 de 4800 -> 1.0%\n",
      "Extraindo features do arquivo 49 de 4800 -> 1.0208333333333333%\n",
      "Extraindo features do arquivo 50 de 4800 -> 1.0416666666666665%\n",
      "Extraindo features do arquivo 51 de 4800 -> 1.0625%\n",
      "Extraindo features do arquivo 52 de 4800 -> 1.0833333333333335%\n",
      "Extraindo features do arquivo 53 de 4800 -> 1.1041666666666667%\n",
      "Extraindo features do arquivo 54 de 4800 -> 1.125%\n",
      "Extraindo features do arquivo 55 de 4800 -> 1.1458333333333333%\n",
      "Extraindo features do arquivo 56 de 4800 -> 1.1666666666666667%\n",
      "Extraindo features do arquivo 57 de 4800 -> 1.1875%\n",
      "Extraindo features do arquivo 58 de 4800 -> 1.2083333333333333%\n",
      "Extraindo features do arquivo 59 de 4800 -> 1.2291666666666665%\n",
      "Extraindo features do arquivo 60 de 4800 -> 1.25%\n",
      "Extraindo features do arquivo 61 de 4800 -> 1.2708333333333333%\n",
      "Extraindo features do arquivo 62 de 4800 -> 1.2916666666666667%\n",
      "Extraindo features do arquivo 63 de 4800 -> 1.3125%\n",
      "Extraindo features do arquivo 64 de 4800 -> 1.3333333333333335%\n",
      "Extraindo features do arquivo 65 de 4800 -> 1.3541666666666667%\n",
      "Extraindo features do arquivo 66 de 4800 -> 1.375%\n",
      "Extraindo features do arquivo 67 de 4800 -> 1.3958333333333333%\n",
      "Extraindo features do arquivo 68 de 4800 -> 1.4166666666666665%\n",
      "Extraindo features do arquivo 69 de 4800 -> 1.4375%\n",
      "Extraindo features do arquivo 70 de 4800 -> 1.4583333333333333%\n",
      "Extraindo features do arquivo 71 de 4800 -> 1.4791666666666667%\n",
      "Extraindo features do arquivo 72 de 4800 -> 1.5%\n",
      "Extraindo features do arquivo 73 de 4800 -> 1.5208333333333335%\n",
      "Extraindo features do arquivo 74 de 4800 -> 1.5416666666666667%\n",
      "Extraindo features do arquivo 75 de 4800 -> 1.5625%\n",
      "Extraindo features do arquivo 76 de 4800 -> 1.5833333333333335%\n",
      "Extraindo features do arquivo 77 de 4800 -> 1.6041666666666665%\n",
      "Extraindo features do arquivo 78 de 4800 -> 1.625%\n",
      "Extraindo features do arquivo 79 de 4800 -> 1.6458333333333333%\n",
      "Extraindo features do arquivo 80 de 4800 -> 1.6666666666666667%\n",
      "Extraindo features do arquivo 81 de 4800 -> 1.6875%\n",
      "Extraindo features do arquivo 82 de 4800 -> 1.7083333333333333%\n"
     ]
    }
   ],
   "source": [
    "%%time\n",
    "\n",
    "## DEFININDO PARAMETROS INICIAIS\n",
    "pastaRaiz      = '/home/dimi/Downloads/Datasets/SESA/SESA_Normalizado/train_augmentation/'\n",
    "freqAmostragem = 16000\n",
    "frameLength    = 17145\n",
    "overlapLength  = 8572\n",
    "escalonamento  = True\n",
    "nDimensoes     = None\n",
    "\n",
    "ExtrairFeatures(pastaRaiz, freqAmostragem, frameLength, overlapLength, escalonamento, nDimensoes)"
   ]
  }
 ],
 "metadata": {
  "kernelspec": {
   "display_name": "Python 3",
   "language": "python",
   "name": "python3"
  },
  "language_info": {
   "codemirror_mode": {
    "name": "ipython",
    "version": 3
   },
   "file_extension": ".py",
   "mimetype": "text/x-python",
   "name": "python",
   "nbconvert_exporter": "python",
   "pygments_lexer": "ipython3",
   "version": "3.7.3"
  }
 },
 "nbformat": 4,
 "nbformat_minor": 2
}
