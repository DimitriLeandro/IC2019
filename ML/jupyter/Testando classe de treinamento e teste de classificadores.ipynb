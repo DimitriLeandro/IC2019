{
 "cells": [
  {
   "cell_type": "markdown",
   "metadata": {},
   "source": [
    "# Testando a classe de treinamento e teste de classificadores"
   ]
  },
  {
   "cell_type": "markdown",
   "metadata": {},
   "source": [
    "Esse jupyter tem como objetivo testar a classe \"treinarEClassificarClass.py\" que foi totalmente implementada no jupyter \"Implementacao de classe para treinamento e classificacao de CSVs\".\n",
    "\n",
    "Para usar a classe:\n",
    "\n",
    "1) Crie o caminho para o CSV de TREINAMENTO e abra-o como um pandas dataframe;\n",
    "\n",
    "2) Utilizando o dataframe de treinamento aberto, crie e treine os classificadores desejados;\n",
    "\n",
    "3) Crie o caminho para o CSV de TESTE, setando as váriaveis diretorio e nomeDataset;\n",
    "\n",
    "4) Classifique o dataset de TESTE aberto, especificando onde o JSON do relátorio deve ser salvo\n",
    "\n",
    "Os passos 3 e 4 podem ser repetidos caso se deseje classificar vários datasets de TESTE."
   ]
  },
  {
   "cell_type": "code",
   "execution_count": 1,
   "metadata": {},
   "outputs": [],
   "source": [
    "import pandas as pd"
   ]
  },
  {
   "cell_type": "code",
   "execution_count": 2,
   "metadata": {},
   "outputs": [],
   "source": [
    "import sys\n",
    "sys.path.append('/home/dimi/Programming/IC2019/ML/python')\n",
    "from treinarEClassificarClass import TreinarEClassificar"
   ]
  },
  {
   "cell_type": "markdown",
   "metadata": {},
   "source": [
    "### TREINO"
   ]
  },
  {
   "cell_type": "code",
   "execution_count": 5,
   "metadata": {
    "scrolled": true
   },
   "outputs": [
    {
     "name": "stdout",
     "output_type": "stream",
     "text": [
      "Começando o treinamento dos classificadores\n",
      "Instanciando o 1º objeto da classe SGDClassifier()\n",
      "Instanciando o 2º objeto da classe SGDClassifier()\n",
      "Instanciando o 3º objeto da classe SGDClassifier()\n",
      "Instanciando o 4º objeto da classe SGDClassifier()\n",
      "Instanciando o 5º objeto da classe SGDClassifier()\n",
      "Instanciando o 6º objeto da classe SGDClassifier()\n",
      "Instanciando o 7º objeto da classe SGDClassifier()\n",
      "Instanciando o 8º objeto da classe SGDClassifier()\n",
      "Instanciando o 9º objeto da classe SGDClassifier()\n",
      "Instanciando o 10º objeto da classe SGDClassifier()\n",
      "Tempo de treinamento do SGDClassifier (segundos): 0.383237361907959\n",
      "Tempo de treinamento do SGDClassifier (segundos): 0.525611400604248\n",
      "Tempo de treinamento do SGDClassifier (segundos): 0.5772478580474854\n",
      "Tempo de treinamento do SGDClassifier (segundos): 0.46164798736572266\n",
      "Tempo de treinamento do SGDClassifier (segundos): 0.42293596267700195\n",
      "Tempo de treinamento do SGDClassifier (segundos): 0.5694520473480225\n",
      "Tempo de treinamento do SGDClassifier (segundos): 0.4713101387023926\n",
      "Tempo de treinamento do SGDClassifier (segundos): 0.3820052146911621\n",
      "Tempo de treinamento do SGDClassifier (segundos): 0.5790510177612305\n",
      "Tempo de treinamento do SGDClassifier (segundos): 0.43704676628112793\n",
      "Classificadores treinados\n"
     ]
    }
   ],
   "source": [
    "objTreinarEClassificar = TreinarEClassificar()\n",
    "\n",
    "# ABRINDO O CSV DE TREINO COM PANDAS\n",
    "caminhoCSVTreino = '/home/dimi/Programming/IC2019/ML/datasets/SESA/SESA_Normalizado/train/treino_normalizado_semPCA.csv'\n",
    "dataframeTreino = pd.read_csv(caminhoCSVTreino) \n",
    "\n",
    "# CRIANDO E TREINANDO OS CLASIFICADORES\n",
    "#arrayStringsClassificadores = [\"SGDClassifier()\",\"BaggingClassifier()\",\"KNeighborsClassifier(n_neighbors=3)\"]\n",
    "arrayStringsClassificadores = [\"SGDClassifier()\"]\n",
    "arrayObjClassificadores = objTreinarEClassificar.criarETreinarClassificadores(dataframeTreino, arrayStringsClassificadores, kCrossValidation=10, percentual=0.75, verbose=True)"
   ]
  },
  {
   "cell_type": "markdown",
   "metadata": {},
   "source": [
    "### TESTES"
   ]
  },
  {
   "cell_type": "code",
   "execution_count": 6,
   "metadata": {},
   "outputs": [
    {
     "name": "stdout",
     "output_type": "stream",
     "text": [
      "Começando a classificar o dataset teste_normalizado_semPCA\n",
      "Classificando com o  SGDClassifier\n",
      "Acurácia: 0.8095238095238095\n",
      "Salvando as informações num JSON: relatorio_teste_normalizado_semPCA_1581553485.724056.json\n",
      "Classificando com o  SGDClassifier\n",
      "Acurácia: 0.8380952380952381\n",
      "Salvando as informações num JSON: relatorio_teste_normalizado_semPCA_1581553485.964211.json\n",
      "Classificando com o  SGDClassifier\n",
      "Acurácia: 0.819047619047619\n",
      "Salvando as informações num JSON: relatorio_teste_normalizado_semPCA_1581553486.2228768.json\n",
      "Classificando com o  SGDClassifier\n",
      "Acurácia: 0.819047619047619\n",
      "Salvando as informações num JSON: relatorio_teste_normalizado_semPCA_1581553486.515825.json\n",
      "Classificando com o  SGDClassifier\n",
      "Acurácia: 0.8095238095238095\n",
      "Salvando as informações num JSON: relatorio_teste_normalizado_semPCA_1581553486.8019812.json\n",
      "Classificando com o  SGDClassifier\n",
      "Acurácia: 0.8095238095238095\n",
      "Salvando as informações num JSON: relatorio_teste_normalizado_semPCA_1581553487.0719671.json\n",
      "Classificando com o  SGDClassifier\n",
      "Acurácia: 0.8095238095238095\n",
      "Salvando as informações num JSON: relatorio_teste_normalizado_semPCA_1581553487.3284621.json\n",
      "Classificando com o  SGDClassifier\n",
      "Acurácia: 0.8476190476190476\n",
      "Salvando as informações num JSON: relatorio_teste_normalizado_semPCA_1581553487.631183.json\n",
      "Classificando com o  SGDClassifier\n",
      "Acurácia: 0.7904761904761904\n",
      "Salvando as informações num JSON: relatorio_teste_normalizado_semPCA_1581553487.8732708.json\n",
      "Classificando com o  SGDClassifier\n",
      "Acurácia: 0.8476190476190476\n",
      "Salvando as informações num JSON: relatorio_teste_normalizado_semPCA_1581553488.134499.json\n",
      "O teste com todos os classificadores foi finalizado\n"
     ]
    }
   ],
   "source": [
    "# ABRINDO O CSV QUE EU DESEJO CLASSIFICAR - DATASET DE TESTE \n",
    "diretorio         = '/home/dimi/Programming/IC2019/ML/datasets/SESA/SESA_Normalizado/test/'\n",
    "nomeDatasetTeste  = 'teste_normalizado_semPCA'\n",
    "caminhoCSVTeste   = diretorio + nomeDatasetTeste + '.csv'\n",
    "dataframeTeste    = pd.read_csv(caminhoCSVTeste)\n",
    "\n",
    "# CLASSIFICANDO O DATAFRAME DE TESTE\n",
    "objTreinarEClassificar.classificarDataframe(dataframeTeste, arrayObjClassificadores, diretorio, nomeDatasetTeste, verbose=False)"
   ]
  },
  {
   "cell_type": "code",
   "execution_count": null,
   "metadata": {},
   "outputs": [],
   "source": []
  }
 ],
 "metadata": {
  "kernelspec": {
   "display_name": "Python 3",
   "language": "python",
   "name": "python3"
  },
  "language_info": {
   "codemirror_mode": {
    "name": "ipython",
    "version": 3
   },
   "file_extension": ".py",
   "mimetype": "text/x-python",
   "name": "python",
   "nbconvert_exporter": "python",
   "pygments_lexer": "ipython3",
   "version": "3.7.3"
  }
 },
 "nbformat": 4,
 "nbformat_minor": 2
}
