{
 "cells": [
  {
   "cell_type": "markdown",
   "metadata": {},
   "source": [
    "# Algoritmo para normalizar WAVs de uma pasta"
   ]
  },
  {
   "cell_type": "markdown",
   "metadata": {},
   "source": [
    "Com o SoX ta osso. Vamos com o python msm"
   ]
  },
  {
   "cell_type": "code",
   "execution_count": 5,
   "metadata": {},
   "outputs": [],
   "source": [
    "import os\n",
    "import scipy.io.wavfile"
   ]
  },
  {
   "cell_type": "code",
   "execution_count": 21,
   "metadata": {},
   "outputs": [
    {
     "name": "stdout",
     "output_type": "stream",
     "text": [
      "29262 0.5\n",
      "29262 0.5\n",
      "11060 0.5\n",
      "9446 0.5\n",
      "26726 0.5\n",
      "29261 0.5\n",
      "29262 0.5\n",
      "29261 0.5\n",
      "29261 0.5\n",
      "23040 0.5\n",
      "16128 0.5\n",
      "21427 0.5\n",
      "24653 0.5\n",
      "13364 0.5\n",
      "20275 0.5\n",
      "23040 0.5\n",
      "29262 0.5\n"
     ]
    }
   ],
   "source": [
    "dirOrigem    = \"/home/dimi/Downloads/datasets/SESA_v2_16kHz_16bits/versaoReduzida/\"\n",
    "dirDestino   = \"/home/dimi/Downloads/datasets/SESA_v2_16kHz_16bits/versaoReduzidaNormalizada/\"\n",
    "amplitudeMax = 0.5\n",
    "\n",
    "for audioAtual in os.listdir(dirOrigem):\n",
    "    \n",
    "    if audioAtual[-4:] != \".wav\":\n",
    "        continue\n",
    "        \n",
    "    freqAmsotragem, sinalOriginal = scipy.io.wavfile.read(dirOrigem+audioAtual)\n",
    "    \n",
    "    sinalNormalizado = (sinalOriginal/max(sinalOriginal))*amplitudeMax\n",
    "    \n",
    "    print(max(sinalOriginal), max(sinalNormalizado))\n",
    "    \n",
    "    scipy.io.wavfile.write(dirDestino+audioAtual, freqAmsotragem, sinalNormalizado)"
   ]
  },
  {
   "cell_type": "code",
   "execution_count": null,
   "metadata": {},
   "outputs": [],
   "source": []
  }
 ],
 "metadata": {
  "kernelspec": {
   "display_name": "Python 3",
   "language": "python",
   "name": "python3"
  },
  "language_info": {
   "codemirror_mode": {
    "name": "ipython",
    "version": 3
   },
   "file_extension": ".py",
   "mimetype": "text/x-python",
   "name": "python",
   "nbconvert_exporter": "python",
   "pygments_lexer": "ipython3",
   "version": "3.5.2"
  }
 },
 "nbformat": 4,
 "nbformat_minor": 4
}
