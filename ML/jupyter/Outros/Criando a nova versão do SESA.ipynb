{
 "cells": [
  {
   "cell_type": "markdown",
   "metadata": {},
   "source": [
    "# Criando a nova versão do SESA"
   ]
  },
  {
   "cell_type": "markdown",
   "metadata": {},
   "source": [
    "Vamos fazer o SESA ser dividido em K pastas ao invés de ser separado por um único holdout. Além disso, temos que fazer a distribuição ser top."
   ]
  },
  {
   "cell_type": "code",
   "execution_count": 1,
   "metadata": {},
   "outputs": [],
   "source": [
    "import os\n",
    "import shutil\n",
    "import librosa\n",
    "import numpy as np\n",
    "from random import randint"
   ]
  },
  {
   "cell_type": "markdown",
   "metadata": {},
   "source": [
    "### Organizando os diretórios"
   ]
  },
  {
   "cell_type": "code",
   "execution_count": 2,
   "metadata": {},
   "outputs": [],
   "source": [
    "dirOrigem  = \"/home/dimi/Downloads/datasets/SESA_original_v1/\"\n",
    "dirDestino = \"/home/dimi/Downloads/datasets/SESA_original_v2/\""
   ]
  },
  {
   "cell_type": "markdown",
   "metadata": {},
   "source": [
    "Vamos verificar se a pasta de destino já existe. Se sim, ela será excluida e recriada."
   ]
  },
  {
   "cell_type": "code",
   "execution_count": 3,
   "metadata": {},
   "outputs": [
    {
     "name": "stdout",
     "output_type": "stream",
     "text": [
      "O diretório de destino foi criado com sucesso.\n"
     ]
    }
   ],
   "source": [
    "# VERIFICANDO SE JA EXISTE E EXCLUINDO\n",
    "if os.path.isdir(dirDestino):\n",
    "    print(\"O diretório de destino \" + dirDestino + \" já existe e, portanto, será excluido.\")\n",
    "    shutil.rmtree(dirDestino)\n",
    "\n",
    "# CRIANDO O DIRETORIO\n",
    "os.mkdir(dirDestino)\n",
    "print(\"O diretório de destino foi criado com sucesso.\")"
   ]
  },
  {
   "cell_type": "markdown",
   "metadata": {},
   "source": [
    "### Verificando um bom número para K"
   ]
  },
  {
   "cell_type": "code",
   "execution_count": 4,
   "metadata": {},
   "outputs": [
    {
     "name": "stdout",
     "output_type": "stream",
     "text": [
      "Total de arquivos no dataset: 585\n"
     ]
    }
   ],
   "source": [
    "arquivosTreinamento = os.listdir(dirOrigem + \"train/\")\n",
    "arquivosTeste       = os.listdir(dirOrigem + \"test/\")\n",
    "totalArquivos       = len(arquivosTreinamento) + len(arquivosTeste)\n",
    "print(\"Total de arquivos no dataset:\", totalArquivos)"
   ]
  },
  {
   "cell_type": "code",
   "execution_count": 5,
   "metadata": {},
   "outputs": [
    {
     "name": "stdout",
     "output_type": "stream",
     "text": [
      "K igual a 3:\n",
      "A cada iteração do K Fold, 66.66% dos dados serão reservados para treinamento.\n",
      "Cada pastá conterá aproximadamente 195 arquivos.\n",
      "\n",
      "K igual a 4:\n",
      "A cada iteração do K Fold, 75.04% dos dados serão reservados para treinamento.\n",
      "Cada pastá conterá aproximadamente 146 arquivos.\n",
      "\n",
      "K igual a 5:\n",
      "A cada iteração do K Fold, 80.0% dos dados serão reservados para treinamento.\n",
      "Cada pastá conterá aproximadamente 117 arquivos.\n",
      "\n",
      "K igual a 6:\n",
      "A cada iteração do K Fold, 83.41% dos dados serão reservados para treinamento.\n",
      "Cada pastá conterá aproximadamente 97 arquivos.\n",
      "\n",
      "K igual a 7:\n",
      "A cada iteração do K Fold, 85.81% dos dados serão reservados para treinamento.\n",
      "Cada pastá conterá aproximadamente 83 arquivos.\n",
      "\n",
      "K igual a 8:\n",
      "A cada iteração do K Fold, 87.52% dos dados serão reservados para treinamento.\n",
      "Cada pastá conterá aproximadamente 73 arquivos.\n",
      "\n",
      "K igual a 9:\n",
      "A cada iteração do K Fold, 88.88% dos dados serão reservados para treinamento.\n",
      "Cada pastá conterá aproximadamente 65 arquivos.\n",
      "\n",
      "K igual a 10:\n",
      "A cada iteração do K Fold, 90.08% dos dados serão reservados para treinamento.\n",
      "Cada pastá conterá aproximadamente 58 arquivos.\n",
      "\n"
     ]
    }
   ],
   "source": [
    "for k in range(3, 11):\n",
    "    qtdArquivosCadaPasta  = int(totalArquivos/k)\n",
    "    percentualTreinamento = 100 * (1 - qtdArquivosCadaPasta/totalArquivos)\n",
    "    print(\"K igual a \"+ str(k) + \":\")\n",
    "    print(\"A cada iteração do K Fold, \" + str(percentualTreinamento)[:5] + \"% dos dados serão reservados para treinamento.\")\n",
    "    print(\"Cada pastá conterá aproximadamente \" + str(qtdArquivosCadaPasta) + \" arquivos.\\n\")"
   ]
  },
  {
   "cell_type": "markdown",
   "metadata": {},
   "source": [
    "Acho que 5 tá bonitinho."
   ]
  },
  {
   "cell_type": "code",
   "execution_count": 6,
   "metadata": {},
   "outputs": [],
   "source": [
    "kDesejado = 5\n",
    "\n",
    "for i in range(1, kDesejado + 1):\n",
    "    os.mkdir(dirDestino + \"fold_\" + str(i))"
   ]
  },
  {
   "cell_type": "markdown",
   "metadata": {},
   "source": [
    "### Verificando o problema do áudio com o mesmo nome"
   ]
  },
  {
   "cell_type": "code",
   "execution_count": 7,
   "metadata": {},
   "outputs": [
    {
     "name": "stdout",
     "output_type": "stream",
     "text": [
      "Foram encontrados os seguintes áudios com o mesmo nome:\n",
      "['gunshot_000.wav']\n"
     ]
    }
   ],
   "source": [
    "arquivosRepetidos = [arquivoAtual for arquivoAtual in arquivosTeste if arquivoAtual in arquivosTreinamento]\n",
    "if len(arquivosRepetidos) > 0:\n",
    "    print(\"Foram encontrados os seguintes áudios com o mesmo nome:\")\n",
    "    print(arquivosRepetidos)\n",
    "else:\n",
    "    print(\"Não foram encontrados áudios com o mesmo nome no treinamento e no teste.\")"
   ]
  },
  {
   "cell_type": "markdown",
   "metadata": {},
   "source": [
    "Agora, quero que esse áudio seja renomeado para gunshot_xxx.wav. Mas esse xxx tem que fazer sentido. Vamos ver qual é contagem dos arquivos gunshot em cada pasta."
   ]
  },
  {
   "cell_type": "code",
   "execution_count": 8,
   "metadata": {},
   "outputs": [],
   "source": [
    "contagemTreinamento = np.sort(np.array([arquivoAtual.split(\"_\")[1][:-4] for arquivoAtual in arquivosTreinamento if arquivoAtual.split(\"_\")[0] == \"gunshot\"]).astype(\"int\"))\n",
    "contagemTeste       = np.sort(np.array([arquivoAtual.split(\"_\")[1][:-4] for arquivoAtual in arquivosTeste if arquivoAtual.split(\"_\")[0] == \"gunshot\"]).astype(\"int\"))"
   ]
  },
  {
   "cell_type": "code",
   "execution_count": 9,
   "metadata": {},
   "outputs": [
    {
     "data": {
      "text/plain": [
       "array([  0,   9,  14,  19,  26,  27,  32,  41,  45,  47,  54,  61,  63,\n",
       "        72,  76,  80,  84,  91,  93,  98, 100])"
      ]
     },
     "execution_count": 9,
     "metadata": {},
     "output_type": "execute_result"
    }
   ],
   "source": [
    "contagemTeste"
   ]
  },
  {
   "cell_type": "code",
   "execution_count": 10,
   "metadata": {},
   "outputs": [
    {
     "data": {
      "text/plain": [
       "array([ 0,  1,  2,  3,  4,  5,  6,  7,  8, 10, 11, 12, 13, 15, 16, 17, 18,\n",
       "       20, 21, 22, 23, 24, 25, 28, 29, 30, 31, 33, 34, 35, 36, 37, 38, 39,\n",
       "       40, 42, 43, 44, 46, 48, 49, 50, 51, 52, 53, 55, 56, 57, 58, 59, 60,\n",
       "       62, 64, 65, 66, 67, 68, 69, 70, 71, 73, 74, 75, 77, 78, 79, 81, 82,\n",
       "       83, 85, 86, 87, 88, 89, 90, 92, 94, 95, 96, 97])"
      ]
     },
     "execution_count": 10,
     "metadata": {},
     "output_type": "execute_result"
    }
   ],
   "source": [
    "contagemTreinamento"
   ]
  },
  {
   "cell_type": "markdown",
   "metadata": {},
   "source": [
    "Como é possível perceber, falta o contador 99. Agora, resta decidir se vamos transformar o 0 do treinamento em 99, ou se será o 0 do teste que será renomeado para 99. Vamos deixar essa escolha nas mãos de Deus: se o número aleatório der 0 vai ser treinamento, se der 1 vai ser teste. Mas pra falar a verdade, tanto faz, é só pra não bagunçar tudo na hora de copiar os arquivos para a nova organização de pastas.\n",
    "\n",
    "**A célula abaixo não pode ser rodada mais que uma vez!**"
   ]
  },
  {
   "cell_type": "code",
   "execution_count": 11,
   "metadata": {
    "scrolled": true
   },
   "outputs": [
    {
     "name": "stdout",
     "output_type": "stream",
     "text": [
      "O arquivo foi renomeado no treinamento!\n"
     ]
    }
   ],
   "source": [
    "# GARANTINDO QUE SE A CELULA SEJA RODADA MAIS DE UMA VEZ, NAO CAGUE TUDO\n",
    "arquivosRepetidos = [arquivoAtual for arquivoAtual in arquivosTeste if arquivoAtual in arquivosTreinamento]\n",
    "if len(arquivosRepetidos) == 0:\n",
    "    print(\"VOCÊ TÁ RODANDO ESSA CÉLULA DE NOVO, SEU JUMENTO!\")\n",
    "else:\n",
    "    nomeAntigo = arquivosRepetidos[0]\n",
    "    nomeNovo   = arquivosRepetidos[0].split(\"_\")[0] + \"_099.wav\"\n",
    "    \n",
    "    # RENOMEANDO NO TREINAMENTO (SE O ALEATORIO DER 0)\n",
    "    if randint(0, 1) == 0:\n",
    "        os.rename(dirOrigem + \"train/\" + nomeAntigo, dirOrigem + \"train/\" + nomeNovo)\n",
    "        arquivosTreinamento.remove(nomeAntigo)\n",
    "        arquivosTreinamento.append(nomeNovo)\n",
    "        print(\"O arquivo foi renomeado no treinamento!\")\n",
    "\n",
    "    # RENOMEANDO NO TESTE (SE O ALEATORIO TIVER DADO 1)\n",
    "    else:\n",
    "        os.rename(dirOrigem + \"test/\" + nomeAntigo, dirOrigem + \"test/\" + nomeNovo)\n",
    "        arquivosTeste.remove(nomeAntigo)\n",
    "        arquivosTeste.append(nomeNovo)\n",
    "        print(\"O arquivo foi renomeado no teste!\")"
   ]
  },
  {
   "cell_type": "code",
   "execution_count": 12,
   "metadata": {},
   "outputs": [],
   "source": [
    "contagemTreinamento = np.sort(np.array([arquivoAtual.split(\"_\")[1][:-4] for arquivoAtual in arquivosTreinamento if arquivoAtual.split(\"_\")[0] == \"gunshot\"]).astype(\"int\"))\n",
    "contagemTeste       = np.sort(np.array([arquivoAtual.split(\"_\")[1][:-4] for arquivoAtual in arquivosTeste if arquivoAtual.split(\"_\")[0] == \"gunshot\"]).astype(\"int\"))"
   ]
  },
  {
   "cell_type": "code",
   "execution_count": 13,
   "metadata": {},
   "outputs": [
    {
     "data": {
      "text/plain": [
       "array([  0,   9,  14,  19,  26,  27,  32,  41,  45,  47,  54,  61,  63,\n",
       "        72,  76,  80,  84,  91,  93,  98, 100])"
      ]
     },
     "execution_count": 13,
     "metadata": {},
     "output_type": "execute_result"
    }
   ],
   "source": [
    "contagemTeste"
   ]
  },
  {
   "cell_type": "code",
   "execution_count": 14,
   "metadata": {},
   "outputs": [
    {
     "data": {
      "text/plain": [
       "array([ 1,  2,  3,  4,  5,  6,  7,  8, 10, 11, 12, 13, 15, 16, 17, 18, 20,\n",
       "       21, 22, 23, 24, 25, 28, 29, 30, 31, 33, 34, 35, 36, 37, 38, 39, 40,\n",
       "       42, 43, 44, 46, 48, 49, 50, 51, 52, 53, 55, 56, 57, 58, 59, 60, 62,\n",
       "       64, 65, 66, 67, 68, 69, 70, 71, 73, 74, 75, 77, 78, 79, 81, 82, 83,\n",
       "       85, 86, 87, 88, 89, 90, 92, 94, 95, 96, 97, 99])"
      ]
     },
     "execution_count": 14,
     "metadata": {},
     "output_type": "execute_result"
    }
   ],
   "source": [
    "contagemTreinamento"
   ]
  },
  {
   "cell_type": "markdown",
   "metadata": {},
   "source": [
    "Agora ta tudo certo. Vamo que vamo."
   ]
  },
  {
   "cell_type": "markdown",
   "metadata": {},
   "source": [
    "## Começando a organizar os arquivos"
   ]
  },
  {
   "cell_type": "markdown",
   "metadata": {},
   "source": [
    "Algumas células acima, eu escrevi que cada pasta do K Fold conteria **aproximadamente** uma determinada quantidade de arquivos. Então, é que o mais correto seria dividir os arquivos por **tempo de execução** ao invés de olhar apenas para a **quantidade**. Em datasets como o ESC, por exemplo, os áudios vem com a mesma duração. Mas no SESA cada áudio tem um tempo, então vamos fazer aos poucos."
   ]
  },
  {
   "cell_type": "code",
   "execution_count": 15,
   "metadata": {},
   "outputs": [
    {
     "name": "stdout",
     "output_type": "stream",
     "text": [
      "Matriz de durações.\n",
      "Cada linha uma pasta do K Fold. Cada coluna uma classe.\n",
      "Gunshot, Explosion, Siren e Casual, nesta ordem.\n",
      "\n",
      "[[0 0 0 0]\n",
      " [0 0 0 0]\n",
      " [0 0 0 0]\n",
      " [0 0 0 0]\n",
      " [0 0 0 0]]\n"
     ]
    }
   ],
   "source": [
    "# VAMOS ARMAZENAR O TEMPO DOS AUDIOS. CADA LINHA UMA PASTA, CADA COLUNA UMA CLASSE\n",
    "matrizDuracoes = []\n",
    "\n",
    "for i in range(kDesejado):\n",
    "    matrizDuracoes.append([0,0,0,0])\n",
    "    \n",
    "print(\"Matriz de durações.\\nCada linha uma pasta do K Fold. Cada coluna uma classe.\\nGunshot, Explosion, Siren e Casual, nesta ordem.\\n\")\n",
    "print(np.matrix(matrizDuracoes))"
   ]
  },
  {
   "cell_type": "markdown",
   "metadata": {},
   "source": [
    "Organizando tudo num mesmo array:"
   ]
  },
  {
   "cell_type": "code",
   "execution_count": 16,
   "metadata": {},
   "outputs": [
    {
     "name": "stdout",
     "output_type": "stream",
     "text": [
      "['train/casual_109.wav', 'train/siren_013.wav', 'train/siren_037.wav', 'train/casual_088.wav', 'train/casual_145.wav', 'test/gunshot_080.wav', 'test/siren_047.wav', 'test/gunshot_093.wav', 'test/explosion_079.wav', 'test/gunshot_061.wav']\n"
     ]
    }
   ],
   "source": [
    "# PARA NAO PRECISAR FICAR VOLTANDO NO COMECO DO JUPYTER TODA VEZ QUE FOR RADAR ESSA CELULA\n",
    "arquivosTreinamento = os.listdir(dirOrigem + \"train/\")\n",
    "arquivosTeste       = os.listdir(dirOrigem + \"test/\")\n",
    "\n",
    "# JUNTANDO\n",
    "arquivosTreinamento = [\"train/\"+arquivoAtual for arquivoAtual in arquivosTreinamento]\n",
    "arquivosTeste       = [\"test/\"+arquivoAtual for arquivoAtual in arquivosTeste]\n",
    "arrayArquivos       = arquivosTreinamento + arquivosTeste\n",
    "\n",
    "# LIMPANDO A MEMORIA\n",
    "del arquivosTreinamento, arquivosTeste\n",
    "\n",
    "print(arrayArquivos[:5] + arrayArquivos[-5:])"
   ]
  },
  {
   "cell_type": "markdown",
   "metadata": {},
   "source": [
    "### Ordenando os arquivos pela duração"
   ]
  },
  {
   "cell_type": "markdown",
   "metadata": {},
   "source": [
    "Para que ao final, cada pasta contenha a duração em segundos de uma determinada classe o mais próxima quanto possível da duração de outra pasta qualquer dessa mesma determinada classe, os áudios devem ser ordenados do mais longo ao mais curto agora. Assim, os mais longos são distribuidos primeiro, e os mais curtos vão corrigir as diferenças posteriormente."
   ]
  },
  {
   "cell_type": "code",
   "execution_count": 17,
   "metadata": {},
   "outputs": [],
   "source": [
    "duracaoCadaArquivo = []\n",
    "\n",
    "for arquivoAtual in arrayArquivos:\n",
    "    sinalAtual, freqAmostragem = librosa.load(dirOrigem+arquivoAtual, sr=None, mono=True)\n",
    "    duracaoCadaArquivo.append(librosa.get_duration(y=sinalAtual, sr=freqAmostragem))"
   ]
  },
  {
   "cell_type": "markdown",
   "metadata": {},
   "source": [
    "Visualizando antes da ordenação."
   ]
  },
  {
   "cell_type": "code",
   "execution_count": 18,
   "metadata": {},
   "outputs": [
    {
     "name": "stdout",
     "output_type": "stream",
     "text": [
      "train/casual_109.wav  ->  6.7905 (s)\n",
      "train/siren_013.wav  ->  10.920125 (s)\n",
      "train/siren_037.wav  ->  3.95 (s)\n",
      "train/casual_088.wav  ->  8.6378125 (s)\n",
      "train/casual_145.wav  ->  3.811125 (s)\n",
      "train/casual_014.wav  ->  3.8545 (s)\n",
      "train/siren_041.wav  ->  9.78 (s)\n",
      "train/casual_095.wav  ->  17.4149375 (s)\n",
      "train/explosion_091.wav  ->  3.5061875 (s)\n",
      "train/casual_142.wav  ->  3.72325 (s)\n"
     ]
    }
   ],
   "source": [
    "for arquivoAtual, duracaoAtual in zip(arrayArquivos[:10], duracaoCadaArquivo[:10]):\n",
    "    print(arquivoAtual, \" -> \", duracaoAtual, \"(s)\")"
   ]
  },
  {
   "cell_type": "markdown",
   "metadata": {},
   "source": [
    "Ordenando"
   ]
  },
  {
   "cell_type": "code",
   "execution_count": 19,
   "metadata": {},
   "outputs": [],
   "source": [
    "duracaoCadaArquivo, arrayArquivos = zip(*sorted(zip(duracaoCadaArquivo, arrayArquivos)))\n",
    "\n",
    "# INVERTENDO PARA FICAR DO MAIS LONGO PARA O MAIS CURTO\n",
    "duracaoCadaArquivo = np.flip(duracaoCadaArquivo)\n",
    "arrayArquivos      = np.flip(arrayArquivos)"
   ]
  },
  {
   "cell_type": "markdown",
   "metadata": {},
   "source": [
    "Visualizando após a ordenação."
   ]
  },
  {
   "cell_type": "code",
   "execution_count": 20,
   "metadata": {},
   "outputs": [
    {
     "name": "stdout",
     "output_type": "stream",
     "text": [
      "train/siren_087.wav  ->  33.030375 (s)\n",
      "train/casual_034.wav  ->  30.603875 (s)\n",
      "test/siren_071.wav  ->  30.417 (s)\n",
      "train/casual_011.wav  ->  30.0001875 (s)\n",
      "train/gunshot_081.wav  ->  29.86725 (s)\n",
      "train/gunshot_030.wav  ->  29.3954375 (s)\n",
      "train/gunshot_016.wav  ->  28.2909375 (s)\n",
      "train/casual_084.wav  ->  27.6433125 (s)\n",
      "train/casual_023.wav  ->  26.563625 (s)\n",
      "train/siren_055.wav  ->  26.36875 (s)\n"
     ]
    }
   ],
   "source": [
    "for arquivoAtual, duracaoAtual in zip(arrayArquivos[:10], duracaoCadaArquivo[:10]):\n",
    "    print(arquivoAtual, \" -> \", duracaoAtual, \"(s)\")"
   ]
  },
  {
   "cell_type": "markdown",
   "metadata": {},
   "source": [
    "Verificando que as durações batem com os arquivos (garantindo que nada saiu da ordem):"
   ]
  },
  {
   "cell_type": "code",
   "execution_count": 21,
   "metadata": {},
   "outputs": [
    {
     "name": "stdout",
     "output_type": "stream",
     "text": [
      "train/explosion_021.wav\n",
      "Duração real:     6.58 (s)\n",
      "Duração no array: 6.58 (s)\n"
     ]
    }
   ],
   "source": [
    "index = randint(0, len(arrayArquivos)-1)\n",
    "\n",
    "sinalAtual, freqAmostragem = librosa.load(dirOrigem+arrayArquivos[index], sr=None, mono=True)\n",
    "\n",
    "print(arrayArquivos[index])\n",
    "print(\"Duração real:    \", librosa.get_duration(y=sinalAtual, sr=freqAmostragem), \"(s)\")\n",
    "print(\"Duração no array:\", duracaoCadaArquivo[index], \"(s)\")"
   ]
  },
  {
   "cell_type": "markdown",
   "metadata": {},
   "source": [
    "### Distribuindo entre as pastas do K Fold"
   ]
  },
  {
   "cell_type": "markdown",
   "metadata": {},
   "source": [
    "Vou criar uma função que verifica qual é a pasta do K Fold que contém a menor duração de áudios de uma determinada classe. Também vou criar uma função pra atualizar a matriz de durações."
   ]
  },
  {
   "cell_type": "code",
   "execution_count": 22,
   "metadata": {},
   "outputs": [],
   "source": [
    "def verificarPastaMenorDuracao(matrizDuracoes, classe):\n",
    "    \n",
    "    if classe == \"gunshot\":\n",
    "        coluna = 0\n",
    "    elif classe == \"explosion\":\n",
    "        coluna = 1\n",
    "    elif classe == \"siren\":\n",
    "        coluna = 2\n",
    "    else:\n",
    "        coluna = 3\n",
    "        \n",
    "    pastaMenorDuracao = 0\n",
    "    for pastaAtual in range(len(matrizDuracoes)):\n",
    "        if matrizDuracoes[pastaAtual][coluna] < matrizDuracoes[pastaMenorDuracao][coluna]:\n",
    "            pastaMenorDuracao = pastaAtual\n",
    "            \n",
    "    return \"fold_\" + str(pastaMenorDuracao + 1) + \"/\""
   ]
  },
  {
   "cell_type": "code",
   "execution_count": 23,
   "metadata": {},
   "outputs": [],
   "source": [
    "def atualizarMatrizDuracoes(matrizDuracoes, pastaDestino, classe, duracaoNovoArquivo):\n",
    "    \n",
    "    # OBTENDO O INDEX DA LINHA (\"fold_3/\" deve virar 2)\n",
    "    linha = int(pastaDestino.split(\"_\")[1][0]) - 1\n",
    "    \n",
    "    # OBTENDO O INDEX DA COLUNA\n",
    "    if classe == \"gunshot\":\n",
    "        coluna = 0\n",
    "    elif classe == \"explosion\":\n",
    "        coluna = 1\n",
    "    elif classe == \"siren\":\n",
    "        coluna = 2\n",
    "    else:\n",
    "        coluna = 3\n",
    "    \n",
    "    # ATUALIZANDO    \n",
    "    matrizDuracoes[linha][coluna] += duracaoNovoArquivo\n",
    "    return matrizDuracoes"
   ]
  },
  {
   "cell_type": "code",
   "execution_count": 24,
   "metadata": {},
   "outputs": [],
   "source": [
    "def atualizarMatrizQuantidades(matrizQuantidades, pastaDestino, classe):\n",
    "    \n",
    "    # OBTENDO O INDEX DA LINHA (\"fold_3/\" deve virar 2)\n",
    "    linha = int(pastaDestino.split(\"_\")[1][0]) - 1\n",
    "    \n",
    "    # OBTENDO O INDEX DA COLUNA\n",
    "    if classe == \"gunshot\":\n",
    "        coluna = 0\n",
    "    elif classe == \"explosion\":\n",
    "        coluna = 1\n",
    "    elif classe == \"siren\":\n",
    "        coluna = 2\n",
    "    else:\n",
    "        coluna = 3\n",
    "    \n",
    "    # ATUALIZANDO    \n",
    "    matrizQuantidades[linha][coluna] += 1\n",
    "    return matrizQuantidades"
   ]
  },
  {
   "cell_type": "markdown",
   "metadata": {},
   "source": [
    "Testando as funções"
   ]
  },
  {
   "cell_type": "code",
   "execution_count": 25,
   "metadata": {},
   "outputs": [
    {
     "name": "stdout",
     "output_type": "stream",
     "text": [
      "fold_1/\n",
      "fold_2/\n",
      "fold_3/\n",
      "fold_4/\n",
      "[[10  4  3  2]\n",
      " [ 2 10  4  3]\n",
      " [ 3  2 10  4]\n",
      " [ 4  3  2 10]\n",
      " [ 5  5  5  5]]\n"
     ]
    }
   ],
   "source": [
    "matrizTeste = [\n",
    "    [1,4,3,2],\n",
    "    [2,1,4,3],\n",
    "    [3,2,1,4],\n",
    "    [4,3,2,1],\n",
    "    [5,5,5,5],\n",
    "]\n",
    "\n",
    "print(verificarPastaMenorDuracao(matrizTeste, \"gunshot\"))\n",
    "print(verificarPastaMenorDuracao(matrizTeste, \"explosion\"))\n",
    "print(verificarPastaMenorDuracao(matrizTeste, \"siren\"))\n",
    "print(verificarPastaMenorDuracao(matrizTeste, \"casual\"))\n",
    "\n",
    "matrizTeste = atualizarMatrizDuracoes(matrizTeste, \"fold_1/\", \"gunshot\", 9)\n",
    "matrizTeste = atualizarMatrizDuracoes(matrizTeste, \"fold_2/\", \"explosion\", 9)\n",
    "matrizTeste = atualizarMatrizDuracoes(matrizTeste, \"fold_3/\", \"siren\", 9)\n",
    "matrizTeste = atualizarMatrizDuracoes(matrizTeste, \"fold_4/\", \"casual\", 9)\n",
    "print(np.matrix(matrizTeste))\n",
    "\n",
    "del matrizTeste"
   ]
  },
  {
   "cell_type": "markdown",
   "metadata": {},
   "source": [
    "Vamo que vamo. Na célula abaixo, eu vou passar por cada arquivo (já estão listados do mais longo ao mais curto), e vou colocando esse arquivo na pasta que tem a menor duração pra classe desse áudio."
   ]
  },
  {
   "cell_type": "code",
   "execution_count": 26,
   "metadata": {},
   "outputs": [],
   "source": [
    "# RECRIANDO A MATRIZ DE DURACOES PRA CASO ESSA CELULA SEJA RODADA MAIS DE UMA VEZ NAO DAR PROBLEMA\n",
    "matrizDuracoes    = []\n",
    "matrizQuantidades = []\n",
    "for i in range(kDesejado):\n",
    "    matrizDuracoes.append([0,0,0,0])\n",
    "    matrizQuantidades.append([0,0,0,0])\n",
    "\n",
    "# PARA CADA ARQUIVO\n",
    "for i, (arquivoAtual, duracaoAtual) in enumerate(zip(arrayArquivos, duracaoCadaArquivo)):\n",
    "    \n",
    "    # PEGANDO A CLASSE DESSE ARQUIVO\n",
    "    classeAtual = arquivoAtual.split(\"/\")[1].split(\"_\")[0]\n",
    "    \n",
    "    # VERIFICANDO QUAL E A PASTA QUE TEM A MENOR DURACAO DESSA CLASSE\n",
    "    pastaDestino = verificarPastaMenorDuracao(matrizDuracoes, classeAtual)\n",
    "    \n",
    "    # COPIANDO O ARQUIVO ATUAL PRA PASTA DE DESTINO\n",
    "    shutil.copyfile(dirOrigem+arquivoAtual, dirDestino+pastaDestino+arquivoAtual.split(\"/\")[1])\n",
    "    \n",
    "    # COLOCANDO O RESULTADO NA MATRIZ DE DURACOES E DE QUANTIDADES\n",
    "    matrizDuracoes    = atualizarMatrizDuracoes(matrizDuracoes, pastaDestino, classeAtual, duracaoAtual)\n",
    "    matrizQuantidades = atualizarMatrizQuantidades(matrizQuantidades, pastaDestino, classeAtual)"
   ]
  },
  {
   "cell_type": "markdown",
   "metadata": {},
   "source": [
    "### Verificando o que aconteceu"
   ]
  },
  {
   "cell_type": "markdown",
   "metadata": {},
   "source": [
    "##### Tempo de duração de cada classe em cada pasta:"
   ]
  },
  {
   "cell_type": "code",
   "execution_count": 27,
   "metadata": {},
   "outputs": [
    {
     "name": "stdout",
     "output_type": "stream",
     "text": [
      "[[148.0819375 253.6294375 193.8475625 283.6153125]\n",
      " [149.081125  253.9388125 194.3614375 281.870375 ]\n",
      " [148.983875  252.6704375 193.9834375 283.791    ]\n",
      " [148.9684375 253.824     193.7861875 283.8259375]\n",
      " [149.1255    253.658375  195.076     283.47125  ]]\n"
     ]
    }
   ],
   "source": [
    "print(np.matrix(matrizDuracoes))"
   ]
  },
  {
   "cell_type": "markdown",
   "metadata": {},
   "source": [
    "##### Quantidade de áudios em cada pasta"
   ]
  },
  {
   "cell_type": "code",
   "execution_count": 28,
   "metadata": {},
   "outputs": [
    {
     "name": "stdout",
     "output_type": "stream",
     "text": [
      "[[19 42 21 34]\n",
      " [20 42 21 33]\n",
      " [20 41 21 34]\n",
      " [21 42 21 34]\n",
      " [21 42 22 34]]\n",
      "\n",
      "Total em cada pasta: [116 116 116 118 119]\n"
     ]
    }
   ],
   "source": [
    "print(np.matrix(matrizQuantidades))\n",
    "\n",
    "print(\"\\nTotal em cada pasta:\", np.sum(matrizQuantidades, axis=1))"
   ]
  },
  {
   "cell_type": "markdown",
   "metadata": {},
   "source": [
    "Excelente, como esperado, cada pasta contém aproximadamente a mesma duração de áudios da mesma classe, e é interessante perceber que a quantidade de áudios de cada classe em cada pasta tembém foi muito parecida. Entretanto existe um desbalanceamento entre classes. As classes de explosão e casual (segunda e quarta coluna) possuem muito mais amostras que as demais classes."
   ]
  },
  {
   "cell_type": "code",
   "execution_count": null,
   "metadata": {},
   "outputs": [],
   "source": []
  },
  {
   "cell_type": "code",
   "execution_count": null,
   "metadata": {},
   "outputs": [],
   "source": []
  },
  {
   "cell_type": "code",
   "execution_count": null,
   "metadata": {},
   "outputs": [],
   "source": []
  },
  {
   "cell_type": "code",
   "execution_count": null,
   "metadata": {},
   "outputs": [],
   "source": []
  },
  {
   "cell_type": "code",
   "execution_count": null,
   "metadata": {},
   "outputs": [],
   "source": []
  },
  {
   "cell_type": "code",
   "execution_count": null,
   "metadata": {},
   "outputs": [],
   "source": []
  },
  {
   "cell_type": "code",
   "execution_count": null,
   "metadata": {},
   "outputs": [],
   "source": []
  }
 ],
 "metadata": {
  "kernelspec": {
   "display_name": "Python 3",
   "language": "python",
   "name": "python3"
  },
  "language_info": {
   "codemirror_mode": {
    "name": "ipython",
    "version": 3
   },
   "file_extension": ".py",
   "mimetype": "text/x-python",
   "name": "python",
   "nbconvert_exporter": "python",
   "pygments_lexer": "ipython3",
   "version": "3.5.2"
  }
 },
 "nbformat": 4,
 "nbformat_minor": 4
}
