{
 "cells": [
  {
   "cell_type": "code",
   "execution_count": 0,
   "metadata": {
    "colab": {},
    "colab_type": "code",
    "id": "XmAuYfSw2cpw"
   },
   "outputs": [],
   "source": [
    "%config InlineBackend.figure_formats = ['svg']"
   ]
  },
  {
   "cell_type": "code",
   "execution_count": 0,
   "metadata": {
    "colab": {},
    "colab_type": "code",
    "id": "jpOjGqidx0Du"
   },
   "outputs": [],
   "source": [
    "import pandas as pd\n",
    "import csv\n",
    "import matplotlib.pyplot as plt\n",
    "import numpy as np\n",
    "from sklearn.preprocessing import RobustScaler, StandardScaler, MaxAbsScaler, MinMaxScaler, scale\n",
    "from sklearn.decomposition import PCA\n",
    "from sklearn.feature_selection import VarianceThreshold, SelectFromModel, chi2, f_classif, mutual_info_classif, SelectKBest\n",
    "from sklearn.pipeline import Pipeline\n",
    "from sklearn.neighbors import KNeighborsClassifier\n",
    "from sklearn.mixture import GaussianMixture\n",
    "from sklearn.svm import LinearSVC, SVC\n",
    "from sklearn.tree import DecisionTreeClassifier\n",
    "from sklearn.model_selection import KFold, GridSearchCV\n",
    "from sklearn.ensemble import *\n",
    "from sklearn.gaussian_process import GaussianProcessClassifier\n",
    "from sklearn.linear_model import PassiveAggressiveClassifier, Perceptron, RidgeClassifier, SGDClassifier\n",
    "from sklearn.metrics import confusion_matrix\n",
    "from sklearn.neural_network import MLPClassifier\n",
    "import gc"
   ]
  },
  {
   "cell_type": "code",
   "execution_count": 0,
   "metadata": {
    "colab": {
     "base_uri": "https://localhost:8080/",
     "height": 122
    },
    "colab_type": "code",
    "id": "v_dn3J-lx00p",
    "outputId": "e27f2531-2c52-4041-a0d4-bc29714ed13f"
   },
   "outputs": [
    {
     "name": "stdout",
     "output_type": "stream",
     "text": [
      "Go to this URL in a browser: https://accounts.google.com/o/oauth2/auth?client_id=947318989803-6bn6qk8qdgf4n4g3pfee6491hc0brc4i.apps.googleusercontent.com&redirect_uri=urn%3Aietf%3Awg%3Aoauth%3A2.0%3Aoob&scope=email%20https%3A%2F%2Fwww.googleapis.com%2Fauth%2Fdocs.test%20https%3A%2F%2Fwww.googleapis.com%2Fauth%2Fdrive%20https%3A%2F%2Fwww.googleapis.com%2Fauth%2Fdrive.photos.readonly%20https%3A%2F%2Fwww.googleapis.com%2Fauth%2Fpeopleapi.readonly&response_type=code\n",
      "\n",
      "Enter your authorization code:\n",
      "··········\n",
      "Mounted at /content/drive\n"
     ]
    }
   ],
   "source": [
    "from google.colab import drive\n",
    "drive.mount('/content/drive')"
   ]
  },
  {
   "cell_type": "code",
   "execution_count": 0,
   "metadata": {
    "colab": {},
    "colab_type": "code",
    "id": "ZLIF2tMwx3Zi"
   },
   "outputs": [],
   "source": [
    "df_train = pd.read_csv('/content/drive/My Drive/UFABC/Mestrado/III Workshop NUVEM/train_features.csv')\n",
    "data_train = df_train.iloc[:, 1:-1].values.tolist()\n",
    "target_train = df_train.iloc[:, -1].values.tolist()\n",
    "train_size = len(target_train)\n",
    "\n",
    "df_test = pd.read_csv('/content/drive/My Drive/UFABC/Mestrado/III Workshop NUVEM/test_features.csv')\n",
    "data_test = df_test.iloc[:, 1:-1].values.tolist()\n",
    "target_test = df_test.iloc[:, -1].values.tolist()\n",
    "test_size = len(target_test)"
   ]
  },
  {
   "cell_type": "code",
   "execution_count": 0,
   "metadata": {
    "colab": {},
    "colab_type": "code",
    "id": "C4yKypfz2Sdu"
   },
   "outputs": [],
   "source": [
    "data = []\n",
    "data.extend(data_train)\n",
    "data.extend(data_test)\n",
    "data = np.array(data)\n",
    "\n",
    "target = []\n",
    "target.extend(target_train)\n",
    "target.extend(target_test)\n",
    "target = np.array(target)"
   ]
  },
  {
   "cell_type": "code",
   "execution_count": 0,
   "metadata": {
    "colab": {
     "base_uri": "https://localhost:8080/",
     "height": 34
    },
    "colab_type": "code",
    "id": "WggCcTkq2WG7",
    "outputId": "4b6d9378-fb7a-4e4a-9070-67086a188b50"
   },
   "outputs": [
    {
     "data": {
      "text/plain": [
       "(44298, 149)"
      ]
     },
     "execution_count": 68,
     "metadata": {
      "tags": []
     },
     "output_type": "execute_result"
    }
   ],
   "source": [
    "X = data\n",
    "X.shape"
   ]
  },
  {
   "cell_type": "code",
   "execution_count": 0,
   "metadata": {
    "colab": {},
    "colab_type": "code",
    "id": "dNisN_WA2X_f"
   },
   "outputs": [],
   "source": [
    "X = StandardScaler().fit_transform(data)"
   ]
  },
  {
   "cell_type": "code",
   "execution_count": 0,
   "metadata": {
    "colab": {
     "base_uri": "https://localhost:8080/",
     "height": 34
    },
    "colab_type": "code",
    "id": "JUbaJ6RV-dYj",
    "outputId": "171d8473-0adc-4467-c234-5a60e87e3197"
   },
   "outputs": [
    {
     "data": {
      "text/plain": [
       "1981"
      ]
     },
     "execution_count": 70,
     "metadata": {
      "tags": []
     },
     "output_type": "execute_result"
    }
   ],
   "source": [
    "del data\n",
    "gc.collect()"
   ]
  },
  {
   "cell_type": "code",
   "execution_count": 0,
   "metadata": {
    "colab": {
     "base_uri": "https://localhost:8080/",
     "height": 34
    },
    "colab_type": "code",
    "id": "cjM22hRI-eqL",
    "outputId": "fc9c5aa4-9abe-4fa0-e0a2-95ab1abed3e5"
   },
   "outputs": [
    {
     "data": {
      "text/plain": [
       "(44298, 70)"
      ]
     },
     "execution_count": 16,
     "metadata": {
      "tags": []
     },
     "output_type": "execute_result"
    }
   ],
   "source": [
    "# X = VarianceThreshold(threshold=(1)).fit_transform(X)\n",
    "X.shape"
   ]
  },
  {
   "cell_type": "code",
   "execution_count": 0,
   "metadata": {
    "colab": {},
    "colab_type": "code",
    "id": "9RCAOFqG-g4Q"
   },
   "outputs": [],
   "source": [
    "X_PCA = PCA(n_components=25).fit_transform(X)"
   ]
  },
  {
   "cell_type": "code",
   "execution_count": 0,
   "metadata": {
    "colab": {},
    "colab_type": "code",
    "id": "f0KILtt3_TG6"
   },
   "outputs": [],
   "source": [
    "X_train = X_PCA[:train_size, :]\n",
    "X_test = X_PCA[train_size:, :]\n",
    "\n",
    "y_train = target[:train_size]\n",
    "y_test = target[train_size:]"
   ]
  },
  {
   "cell_type": "code",
   "execution_count": 0,
   "metadata": {
    "colab": {},
    "colab_type": "code",
    "id": "Cyt-NEvi_jO4"
   },
   "outputs": [],
   "source": [
    "# new_data = np.array([np.append(X_train[idx], y_train[idx]).tolist() for idx in range(len(X_train))])"
   ]
  },
  {
   "cell_type": "code",
   "execution_count": 0,
   "metadata": {
    "colab": {
     "base_uri": "https://localhost:8080/",
     "height": 483
    },
    "colab_type": "code",
    "id": "3P41FNhT_V70",
    "outputId": "bf86f4a1-1038-48c3-92bd-d20bf46d8373"
   },
   "outputs": [
    {
     "data": {
      "image/png": "[encoded data removed]",
      "text/plain": [
       "<Figure size 576x576 with 1 Axes>"
      ]
     },
     "metadata": {
      "tags": []
     },
     "output_type": "display_data"
    }
   ],
   "source": [
    "# plt.figure(figsize=(8,8))\n",
    "\n",
    "# plt.scatter(new_data[new_data[:, 2] == 'casual'][:, 0].astype(float), new_data[new_data[:, 2] == 'casual'][:, 1].astype(float), alpha=0.75, label='Casual')\n",
    "# plt.scatter(new_data[new_data[:, 2] == 'gunshot'][:, 0].astype(float), new_data[new_data[:, 2] == 'gunshot'][:, 1].astype(float), alpha=0.75, label='Gunshot')\n",
    "# plt.scatter(new_data[new_data[:, 2] == 'explosion'][:, 0].astype(float), new_data[new_data[:, 2] == 'explosion'][:, 1].astype(float), alpha=0.75, label='Explosion')\n",
    "# plt.scatter(new_data[new_data[:, 2] == 'siren'][:, 0].astype(float), new_data[new_data[:, 2] == 'siren'][:, 1].astype(float), alpha=0.75, label='Siren')\n",
    "\n",
    "# plt.legend()\n",
    "# plt.grid(True, linestyle='--', alpha=0.5, linewidth=2)\n",
    "\n",
    "# # plt.savefig('FeatureSpace.pdf', format='pdf', dpi=300, transparent=False, bbox_inches='tight')\n",
    "\n",
    "# plt.show()"
   ]
  },
  {
   "cell_type": "code",
   "execution_count": 0,
   "metadata": {
    "colab": {},
    "colab_type": "code",
    "id": "hXgQ6DJaecC6"
   },
   "outputs": [],
   "source": []
  },
  {
   "cell_type": "code",
   "execution_count": 0,
   "metadata": {
    "colab": {},
    "colab_type": "code",
    "id": "YJ26wlNqedQK"
   },
   "outputs": [],
   "source": []
  },
  {
   "cell_type": "code",
   "execution_count": 0,
   "metadata": {
    "colab": {},
    "colab_type": "code",
    "id": "VA32eWF_edIu"
   },
   "outputs": [],
   "source": []
  },
  {
   "cell_type": "code",
   "execution_count": 0,
   "metadata": {
    "colab": {},
    "colab_type": "code",
    "id": "V3s6Oa7Bec_B"
   },
   "outputs": [],
   "source": []
  },
  {
   "cell_type": "code",
   "execution_count": 0,
   "metadata": {
    "colab": {},
    "colab_type": "code",
    "id": "beGNedk7ecwE"
   },
   "outputs": [],
   "source": [
    "X_train = X[:train_size, :]\n",
    "X_test = X[train_size:, :]\n",
    "\n",
    "y_train = target[:train_size]\n",
    "y_test = target[train_size:]"
   ]
  },
  {
   "cell_type": "code",
   "execution_count": 0,
   "metadata": {
    "colab": {
     "base_uri": "https://localhost:8080/",
     "height": 34
    },
    "colab_type": "code",
    "id": "KWqasGcV__gu",
    "outputId": "c2a9d150-ce0b-4f2a-99ab-da38cfe0bccd"
   },
   "outputs": [
    {
     "data": {
      "text/plain": [
       "(36150, 149)"
      ]
     },
     "execution_count": 72,
     "metadata": {
      "tags": []
     },
     "output_type": "execute_result"
    }
   ],
   "source": [
    "X_train.shape"
   ]
  },
  {
   "cell_type": "code",
   "execution_count": 0,
   "metadata": {
    "colab": {
     "base_uri": "https://localhost:8080/",
     "height": 34
    },
    "colab_type": "code",
    "id": "BR65ZHYGeWy2",
    "outputId": "c5a03eba-32bc-441c-e049-0af91ebb015a"
   },
   "outputs": [
    {
     "data": {
      "text/plain": [
       "(8148, 149)"
      ]
     },
     "execution_count": 73,
     "metadata": {
      "tags": []
     },
     "output_type": "execute_result"
    }
   ],
   "source": [
    "X_test.shape"
   ]
  },
  {
   "cell_type": "code",
   "execution_count": 0,
   "metadata": {
    "colab": {},
    "colab_type": "code",
    "id": "KbMkAf9XKehW"
   },
   "outputs": [],
   "source": [
    "def scores(model):\n",
    "    score = model.best_score_\n",
    "    score_std = np.std(model.cv_results_['mean_test_score'])\n",
    "    print('Score: ', score, ' +- ', score_std)\n",
    "\n",
    "    time = np.mean(model.cv_results_['mean_score_time'])\n",
    "    time_std = np.std(model.cv_results_['mean_score_time'])\n",
    "    print('Time: ', time, ' +- ', time_std)"
   ]
  },
  {
   "cell_type": "code",
   "execution_count": 0,
   "metadata": {
    "colab": {},
    "colab_type": "code",
    "id": "QvYWj06Uef23"
   },
   "outputs": [],
   "source": [
    "%%time\n",
    "\n",
    "# pipeline = Pipeline(\n",
    "#     [\n",
    "#         ('feature_selection', SelectFromModel(KNeighborsClassifier(n_neighbors=3))),\n",
    "#         ('filter', SelectKBest(k=20)),\n",
    "#         ('classification', KNeighborsClassifier(n_neighbors=3)),\n",
    "#     ]\n",
    "# )\n",
    "\n",
    "grid_params = [\n",
    "    {\n",
    "        'n_neighbors': [3,5,7,11,13,17],\n",
    "     \n",
    "        'weights': ['uniform', \n",
    "                    'distance'],\n",
    "     \n",
    "        'metric': ['euclidean', \n",
    "                   'manhattan', \n",
    "                   'chebyshev', \n",
    "                   'minkowski']\n",
    "    }\n",
    "]\n",
    "\n",
    "gs_knn = GridSearchCV(\n",
    "    KNeighborsClassifier(),\n",
    "    grid_params,\n",
    "    verbose=100,\n",
    "    cv=3,\n",
    "    n_jobs=-1,\n",
    "    scoring='accuracy'\n",
    ")\n",
    "\n",
    "gs_knn_results = gs_knn.fit(X_train, y_train)"
   ]
  },
  {
   "cell_type": "code",
   "execution_count": 0,
   "metadata": {
    "colab": {
     "base_uri": "https://localhost:8080/",
     "height": 34
    },
    "colab_type": "code",
    "id": "YLsNZs2_jpCn",
    "outputId": "f108dfd2-b45a-4976-ef8e-737b5feb708a"
   },
   "outputs": [
    {
     "data": {
      "text/plain": [
       "0.7012171507607192"
      ]
     },
     "execution_count": 22,
     "metadata": {
      "tags": []
     },
     "output_type": "execute_result"
    }
   ],
   "source": [
    "gs_knn.best_score_"
   ]
  },
  {
   "cell_type": "code",
   "execution_count": 0,
   "metadata": {
    "colab": {
     "base_uri": "https://localhost:8080/",
     "height": 68
    },
    "colab_type": "code",
    "id": "1pUuj22OzPVc",
    "outputId": "182bc4bf-9202-4a2a-9038-4ff47269ed72"
   },
   "outputs": [
    {
     "data": {
      "text/plain": [
       "KNeighborsClassifier(algorithm='auto', leaf_size=30, metric='euclidean',\n",
       "                     metric_params=None, n_jobs=None, n_neighbors=3, p=2,\n",
       "                     weights='uniform')"
      ]
     },
     "execution_count": 31,
     "metadata": {
      "tags": []
     },
     "output_type": "execute_result"
    }
   ],
   "source": [
    "gs_knn_results.best_estimator_"
   ]
  },
  {
   "cell_type": "code",
   "execution_count": 0,
   "metadata": {
    "colab": {},
    "colab_type": "code",
    "id": "jgTCjc-4uUcX"
   },
   "outputs": [],
   "source": [
    "gs_knn_results.cv_results_"
   ]
  },
  {
   "cell_type": "code",
   "execution_count": 0,
   "metadata": {
    "colab": {
     "base_uri": "https://localhost:8080/",
     "height": 51
    },
    "colab_type": "code",
    "id": "GTDWWxKF2IAp",
    "outputId": "32a08117-1001-4cfa-82a4-5c2f3b801262"
   },
   "outputs": [
    {
     "name": "stdout",
     "output_type": "stream",
     "text": [
      "Score:  0.7012171507607192  +-  0.0038294271808833346\n",
      "Time:  21.54617536895805  +-  7.265359779438151\n"
     ]
    }
   ],
   "source": [
    "scores(gs_knn_results)"
   ]
  },
  {
   "cell_type": "code",
   "execution_count": 0,
   "metadata": {
    "colab": {},
    "colab_type": "code",
    "id": "wVMsm3og4bap"
   },
   "outputs": [],
   "source": [
    "%%time\n",
    "\n",
    "grid_params_svm = [\n",
    "    {\n",
    "        'C': [0.01, 0.1, 1],\n",
    "        'decision_function_shape': ['ovo', 'ovr'],\n",
    "        'gamma': [0.001, 0.01, 0.1, 1, 10],\n",
    "        'kernel': ['linear', 'poly', 'rbf'],\n",
    "        'degree': [2, 3, 4, 5]\n",
    "    }\n",
    "]\n",
    "\n",
    "gs_svm = GridSearchCV(\n",
    "    SVC(),\n",
    "    grid_params_svm,\n",
    "    verbose=100,\n",
    "    cv=3,\n",
    "    n_jobs=-1,\n",
    "    scoring='accuracy'\n",
    ")\n",
    "\n",
    "gs_svm_results = gs_svm.fit(X_train, y_train)"
   ]
  },
  {
   "cell_type": "code",
   "execution_count": 0,
   "metadata": {
    "colab": {},
    "colab_type": "code",
    "id": "5jbZXNyn5r5Z"
   },
   "outputs": [],
   "source": [
    "gs_svm_results.best_score_"
   ]
  },
  {
   "cell_type": "code",
   "execution_count": 0,
   "metadata": {
    "colab": {},
    "colab_type": "code",
    "id": "hH8m4KJMVs6M"
   },
   "outputs": [],
   "source": [
    "%%time\n",
    "\n",
    "grid_params = [\n",
    "    {\n",
    "        'max_depth': np.arange(3, 100)\n",
    "    }\n",
    "]\n",
    "\n",
    "gs_tree = GridSearchCV(\n",
    "    DecisionTreeClassifier(),\n",
    "    grid_params,\n",
    "    verbose=100,\n",
    "    cv=3,\n",
    "    n_jobs=-1,\n",
    "    scoring='accuracy'\n",
    ")\n",
    "\n",
    "gs_tree_results = gs_tree.fit(X_train, y_train)"
   ]
  },
  {
   "cell_type": "code",
   "execution_count": 0,
   "metadata": {
    "colab": {
     "base_uri": "https://localhost:8080/",
     "height": 34
    },
    "colab_type": "code",
    "id": "Qbp_xWly7F6-",
    "outputId": "87ba4732-5088-4baf-97f1-d64c6b078970"
   },
   "outputs": [
    {
     "data": {
      "text/plain": [
       "0.6537759336099586"
      ]
     },
     "execution_count": 62,
     "metadata": {
      "tags": []
     },
     "output_type": "execute_result"
    }
   ],
   "source": [
    "gs_tree_results.best_score_"
   ]
  },
  {
   "cell_type": "code",
   "execution_count": 0,
   "metadata": {
    "colab": {
     "base_uri": "https://localhost:8080/",
     "height": 119
    },
    "colab_type": "code",
    "id": "mdGZ9Ec67SUg",
    "outputId": "6e724fcf-b94b-4862-d9f8-d02a6a2588e6"
   },
   "outputs": [
    {
     "data": {
      "text/plain": [
       "DecisionTreeClassifier(class_weight=None, criterion='gini', max_depth=16,\n",
       "                       max_features=None, max_leaf_nodes=None,\n",
       "                       min_impurity_decrease=0.0, min_impurity_split=None,\n",
       "                       min_samples_leaf=1, min_samples_split=2,\n",
       "                       min_weight_fraction_leaf=0.0, presort=False,\n",
       "                       random_state=None, splitter='best')"
      ]
     },
     "execution_count": 63,
     "metadata": {
      "tags": []
     },
     "output_type": "execute_result"
    }
   ],
   "source": [
    "gs_tree_results.best_estimator_"
   ]
  },
  {
   "cell_type": "code",
   "execution_count": 0,
   "metadata": {
    "colab": {
     "base_uri": "https://localhost:8080/",
     "height": 51
    },
    "colab_type": "code",
    "id": "0y6C2-J2KXE-",
    "outputId": "ed937d16-bc2f-48f1-b4d8-e2a5c8b023a9"
   },
   "outputs": [
    {
     "name": "stdout",
     "output_type": "stream",
     "text": [
      "Score:  0.6537759336099586  +-  0.011750096908446332\n",
      "Time:  0.008872854750590636  +-  0.0005302636435157108\n"
     ]
    }
   ],
   "source": [
    "scores(gs_tree_results)"
   ]
  },
  {
   "cell_type": "code",
   "execution_count": 0,
   "metadata": {
    "colab": {},
    "colab_type": "code",
    "id": "PSNwqOaW7XmE"
   },
   "outputs": [],
   "source": [
    "%%time\n",
    "\n",
    "grid_params = [\n",
    "    {\n",
    "        'max_depth': np.arange(3, 100)\n",
    "    }\n",
    "]\n",
    "\n",
    "gs_forest = GridSearchCV(\n",
    "    RandomForestClassifier(),\n",
    "    grid_params,\n",
    "    verbose=100,\n",
    "    cv=3,\n",
    "    n_jobs=-1,\n",
    "    scoring='accuracy'\n",
    ")\n",
    "\n",
    "gs_forest_results = gs_forest.fit(X_train, y_train)"
   ]
  },
  {
   "cell_type": "code",
   "execution_count": 0,
   "metadata": {
    "colab": {
     "base_uri": "https://localhost:8080/",
     "height": 34
    },
    "colab_type": "code",
    "id": "2OGslv3X-WiN",
    "outputId": "0b2657c2-ce26-4058-b40e-52412c7ea320"
   },
   "outputs": [
    {
     "data": {
      "text/plain": [
       "0.7096818810511757"
      ]
     },
     "execution_count": 65,
     "metadata": {
      "tags": []
     },
     "output_type": "execute_result"
    }
   ],
   "source": [
    "gs_forest_results.best_score_"
   ]
  },
  {
   "cell_type": "code",
   "execution_count": 0,
   "metadata": {
    "colab": {
     "base_uri": "https://localhost:8080/",
     "height": 136
    },
    "colab_type": "code",
    "id": "4Yup2j-RASlM",
    "outputId": "369f7a86-8823-405e-d147-59be18e56685"
   },
   "outputs": [
    {
     "data": {
      "text/plain": [
       "RandomForestClassifier(bootstrap=True, class_weight=None, criterion='gini',\n",
       "                       max_depth=84, max_features='auto', max_leaf_nodes=None,\n",
       "                       min_impurity_decrease=0.0, min_impurity_split=None,\n",
       "                       min_samples_leaf=1, min_samples_split=2,\n",
       "                       min_weight_fraction_leaf=0.0, n_estimators=10,\n",
       "                       n_jobs=None, oob_score=False, random_state=None,\n",
       "                       verbose=0, warm_start=False)"
      ]
     },
     "execution_count": 66,
     "metadata": {
      "tags": []
     },
     "output_type": "execute_result"
    }
   ],
   "source": [
    "gs_forest_results.best_estimator_"
   ]
  },
  {
   "cell_type": "code",
   "execution_count": 0,
   "metadata": {
    "colab": {
     "base_uri": "https://localhost:8080/",
     "height": 51
    },
    "colab_type": "code",
    "id": "I0Av2hzOKrru",
    "outputId": "b9bbf0de-5033-43df-efa5-a0620eb60851"
   },
   "outputs": [
    {
     "name": "stdout",
     "output_type": "stream",
     "text": [
      "Score:  0.7096818810511757  +-  0.015159031721373084\n",
      "Time:  0.031917894828770166  +-  0.0034186485028861757\n"
     ]
    }
   ],
   "source": [
    "scores(gs_forest_results)"
   ]
  },
  {
   "cell_type": "code",
   "execution_count": 0,
   "metadata": {
    "colab": {},
    "colab_type": "code",
    "id": "3pxUyWtCAWqU"
   },
   "outputs": [],
   "source": [
    "%%time\n",
    "\n",
    "grid_params = [\n",
    "    {\n",
    "        'learning_rate': [0.2, 0.4, 0.6, 0.8, 1.0, 1.2, 1.4, 1.6, 1.8, 2.0],\n",
    "        'n_estimators': [50, 100, 150, 200]\n",
    "    }\n",
    "]\n",
    "\n",
    "gs_adaboost = GridSearchCV(\n",
    "    AdaBoostClassifier(),\n",
    "    grid_params,\n",
    "    verbose=100,\n",
    "    cv=3,\n",
    "    n_jobs=-1,\n",
    "    scoring='accuracy'\n",
    ")\n",
    "\n",
    "gs_adaboost_results = gs_adaboost.fit(X_train, y_train)"
   ]
  },
  {
   "cell_type": "code",
   "execution_count": 0,
   "metadata": {
    "colab": {
     "base_uri": "https://localhost:8080/",
     "height": 51
    },
    "colab_type": "code",
    "id": "rnQEDzo8DuUB",
    "outputId": "9dcd1639-f946-4f93-8ad2-c42f0776c607"
   },
   "outputs": [
    {
     "data": {
      "text/plain": [
       "AdaBoostClassifier(algorithm='SAMME.R', base_estimator=None, learning_rate=0.2,\n",
       "                   n_estimators=200, random_state=None)"
      ]
     },
     "execution_count": 70,
     "metadata": {
      "tags": []
     },
     "output_type": "execute_result"
    }
   ],
   "source": [
    "gs_adaboost_results.best_estimator_"
   ]
  },
  {
   "cell_type": "code",
   "execution_count": 0,
   "metadata": {
    "colab": {
     "base_uri": "https://localhost:8080/",
     "height": 34
    },
    "colab_type": "code",
    "id": "cuyjpkmgJVey",
    "outputId": "50424c59-f4a5-4c62-fedc-a1e48f618005"
   },
   "outputs": [
    {
     "data": {
      "text/plain": [
       "0.6546058091286308"
      ]
     },
     "execution_count": 71,
     "metadata": {
      "tags": []
     },
     "output_type": "execute_result"
    }
   ],
   "source": [
    "gs_adaboost_results.best_score_"
   ]
  },
  {
   "cell_type": "code",
   "execution_count": 0,
   "metadata": {
    "colab": {
     "base_uri": "https://localhost:8080/",
     "height": 51
    },
    "colab_type": "code",
    "id": "rmUl63clKzXt",
    "outputId": "7c5570f6-b2dc-44d6-e6b5-e8641001bf81"
   },
   "outputs": [
    {
     "name": "stdout",
     "output_type": "stream",
     "text": [
      "Score:  0.6546058091286308  +-  0.03000974246486075\n",
      "Time:  0.5453475832939148  +-  0.23846133156019605\n"
     ]
    }
   ],
   "source": [
    "scores(gs_adaboost_results)"
   ]
  },
  {
   "cell_type": "code",
   "execution_count": 0,
   "metadata": {
    "colab": {},
    "colab_type": "code",
    "id": "kdZbHXH-JWlD"
   },
   "outputs": [],
   "source": [
    "%%time\n",
    "\n",
    "grid_params = [\n",
    "    {\n",
    "        'n_estimators': [50, 100, 150, 200],\n",
    "        'max_features': [0.2, 0.4, 0.6, 0.8, 1.0]\n",
    "    }\n",
    "]\n",
    "\n",
    "gs_bagging = GridSearchCV(\n",
    "    BaggingClassifier(),\n",
    "    grid_params,\n",
    "    verbose=100,\n",
    "    cv=3,\n",
    "    n_jobs=-1,\n",
    "    scoring='accuracy'\n",
    ")\n",
    "\n",
    "gs_bagging_results = gs_bagging.fit(X_train, y_train)"
   ]
  },
  {
   "cell_type": "code",
   "execution_count": 0,
   "metadata": {
    "colab": {
     "base_uri": "https://localhost:8080/",
     "height": 51
    },
    "colab_type": "code",
    "id": "3YWYJfNjLTJM",
    "outputId": "719aadc6-68bb-4fa0-83d9-2ce7eab92c59"
   },
   "outputs": [
    {
     "name": "stdout",
     "output_type": "stream",
     "text": [
      "Score:  0.7305394190871369  +-  0.011436677868541969\n",
      "Time:  0.5158747633298238  +-  0.22407693359004605\n"
     ]
    }
   ],
   "source": [
    "scores(gs_bagging_results)"
   ]
  },
  {
   "cell_type": "code",
   "execution_count": 0,
   "metadata": {
    "colab": {},
    "colab_type": "code",
    "id": "ZZPWdRnAZRWB"
   },
   "outputs": [],
   "source": [
    "%%time\n",
    "\n",
    "grid_params = [\n",
    "    {\n",
    "        'learning_rate': [0.05, 0.10],\n",
    "        'n_estimators': [50, 100, 150],\n",
    "        'criterion': ['friedman_mse', 'mse']\n",
    "    }\n",
    "]\n",
    "\n",
    "gs_gradientboosting = GridSearchCV(\n",
    "    GradientBoostingClassifier(),\n",
    "    grid_params,\n",
    "    verbose=100,\n",
    "    cv=3,\n",
    "    n_jobs=-1,\n",
    "    scoring='accuracy'\n",
    ")\n",
    "\n",
    "gs_gradientboosting_results = gs_gradientboosting.fit(X_train, y_train)"
   ]
  },
  {
   "cell_type": "code",
   "execution_count": 0,
   "metadata": {
    "colab": {
     "base_uri": "https://localhost:8080/",
     "height": 51
    },
    "colab_type": "code",
    "id": "Fd81h3DHd7Lm",
    "outputId": "619d12b2-99f5-44d2-a0c6-c556ecd82cb7"
   },
   "outputs": [
    {
     "name": "stdout",
     "output_type": "stream",
     "text": [
      "Score:  0.7187828492392808  +-  0.008667923183467948\n",
      "Time:  0.10276322894626194  +-  0.03495174597403588\n"
     ]
    }
   ],
   "source": [
    "scores(gs_gradientboosting_results)"
   ]
  },
  {
   "cell_type": "code",
   "execution_count": 0,
   "metadata": {
    "colab": {},
    "colab_type": "code",
    "id": "fPfL4w2Ud8JA"
   },
   "outputs": [],
   "source": [
    "%%time\n",
    "\n",
    "grid_params = [\n",
    "    {\n",
    "        'C': [0.001, 0.01, 0.1, 1.0, 10.0]\n",
    "    }\n",
    "]\n",
    "\n",
    "gs_passive = GridSearchCV(\n",
    "    PassiveAggressiveClassifier(),\n",
    "    grid_params,\n",
    "    verbose=100,\n",
    "    cv=3,\n",
    "    n_jobs=-1,\n",
    "    scoring='accuracy'\n",
    ")\n",
    "\n",
    "gs_passive_results = gs_passive.fit(X_train, y_train)"
   ]
  },
  {
   "cell_type": "code",
   "execution_count": 0,
   "metadata": {
    "colab": {
     "base_uri": "https://localhost:8080/",
     "height": 51
    },
    "colab_type": "code",
    "id": "DSY5n7g3D98s",
    "outputId": "f8f35d04-bafd-4974-f1fa-2c3e67bc9a8f"
   },
   "outputs": [
    {
     "name": "stdout",
     "output_type": "stream",
     "text": [
      "Score:  0.6940248962655602  +-  0.03254671862846051\n",
      "Time:  0.006967401504516602  +-  0.0007441717240127682\n"
     ]
    }
   ],
   "source": [
    "scores(gs_passive_results)"
   ]
  },
  {
   "cell_type": "code",
   "execution_count": 0,
   "metadata": {
    "colab": {},
    "colab_type": "code",
    "id": "PbxEtqDZFn90"
   },
   "outputs": [],
   "source": [
    "%%time\n",
    "\n",
    "grid_params = [\n",
    "    {\n",
    "        'C': [0.001, 0.01, 0.1, 1.0, 10.0],\n",
    "        'kernel': ['linear', 'poly'],\n",
    "        'degree': [2, 3, 4, 5]\n",
    "    }\n",
    "]\n",
    "\n",
    "gs_svm = GridSearchCV(\n",
    "    SVC(),\n",
    "    grid_params,\n",
    "    verbose=100,\n",
    "    cv=3,\n",
    "    n_jobs=-1,\n",
    "    scoring='accuracy'\n",
    ")\n",
    "\n",
    "gs_svm_results = gs_svm.fit(X_train, y_train)"
   ]
  },
  {
   "cell_type": "code",
   "execution_count": 0,
   "metadata": {
    "colab": {
     "base_uri": "https://localhost:8080/",
     "height": 51
    },
    "colab_type": "code",
    "id": "8rgZv2VRHkZj",
    "outputId": "de3a20bd-f9b6-4b96-f5b7-69e559a1167d"
   },
   "outputs": [
    {
     "name": "stdout",
     "output_type": "stream",
     "text": [
      "Score:  0.7174827109266944  +-  0.017224300241461918\n",
      "Time:  6.093752106030783  +-  1.9789945350637446\n"
     ]
    }
   ],
   "source": [
    "scores(gs_svm_results)"
   ]
  },
  {
   "cell_type": "code",
   "execution_count": 0,
   "metadata": {
    "colab": {
     "base_uri": "https://localhost:8080/",
     "height": 85
    },
    "colab_type": "code",
    "id": "VabAyhPsHl2f",
    "outputId": "a485e208-7fd7-423c-fde3-193ae269faeb"
   },
   "outputs": [
    {
     "name": "stdout",
     "output_type": "stream",
     "text": [
      "[[2341  104   59  107]\n",
      " [ 335 1779   16    7]\n",
      " [ 145   14 1337    0]\n",
      " [ 354  140   10 1400]]\n"
     ]
    }
   ],
   "source": [
    "print (confusion_matrix(y_test, gs_svm_results.best_estimator_.predict(X_test)))"
   ]
  },
  {
   "cell_type": "code",
   "execution_count": 0,
   "metadata": {
    "colab": {},
    "colab_type": "code",
    "id": "OZNhSScAaA2R"
   },
   "outputs": [],
   "source": [
    "%%time\n",
    "\n",
    "grid_params = [\n",
    "    {\n",
    "        'alpha': [0.001, 0.01, 0.1, 1.0, 10.0, 100.0, 10000.0],\n",
    "        'solver': ['svd', 'cholesky', 'lsqr', 'sparse_cg', 'sag', 'saga'],\n",
    "        'normalize': [False, True],\n",
    "        'tol': [0.01, 0.001, 0.0001]\n",
    "    }\n",
    "]\n",
    "\n",
    "gs_ridge = GridSearchCV(\n",
    "    RidgeClassifier(),\n",
    "    grid_params,\n",
    "    verbose=100,\n",
    "    cv=3,\n",
    "    n_jobs=-1,\n",
    "    scoring='accuracy'\n",
    ")\n",
    "\n",
    "gs_ridge_results = gs_ridge.fit(X_train, y_train)"
   ]
  },
  {
   "cell_type": "code",
   "execution_count": 0,
   "metadata": {
    "colab": {
     "base_uri": "https://localhost:8080/",
     "height": 51
    },
    "colab_type": "code",
    "id": "-Dxlfxhza2hM",
    "outputId": "98f21121-e574-402b-d5db-11cb846a6c4b"
   },
   "outputs": [
    {
     "name": "stdout",
     "output_type": "stream",
     "text": [
      "Score:  0.695076071922545  +-  0.13703534247111054\n",
      "Time:  0.00716415631077277  +-  0.0009912598156948471\n"
     ]
    }
   ],
   "source": [
    "scores(gs_ridge_results)"
   ]
  },
  {
   "cell_type": "code",
   "execution_count": 0,
   "metadata": {
    "colab": {},
    "colab_type": "code",
    "id": "Id99eEhwa4ju"
   },
   "outputs": [],
   "source": [
    "%%time\n",
    "\n",
    "grid_params = [\n",
    "    {\n",
    "        'loss': ['hinge', 'log', 'modified_huber', 'squared_hinge', 'perceptron'],\n",
    "        'penalty': ['none', 'l2', 'l1', 'elasticnet'],\n",
    "        'alpha': [0.00001, 0.0001, 0.001],\n",
    "        'tol': [0.01, 0.001, 0.0001]\n",
    "    }\n",
    "]\n",
    "\n",
    "gs_sgd = GridSearchCV(\n",
    "    SGDClassifier(),\n",
    "    grid_params,\n",
    "    verbose=100,\n",
    "    cv=3,\n",
    "    n_jobs=-1,\n",
    "    scoring='accuracy'\n",
    ")\n",
    "\n",
    "gs_sgd_results = gs_sgd.fit(X_train, y_train)"
   ]
  },
  {
   "cell_type": "code",
   "execution_count": 0,
   "metadata": {
    "colab": {
     "base_uri": "https://localhost:8080/",
     "height": 51
    },
    "colab_type": "code",
    "id": "qcHedujCg2J8",
    "outputId": "208ccd0f-bf7b-41bd-aa2b-86ef912fa1d8"
   },
   "outputs": [
    {
     "name": "stdout",
     "output_type": "stream",
     "text": [
      "Score:  0.7213278008298755  +-  0.02782100653183822\n",
      "Time:  0.006813290825596562  +-  0.00015618162615797874\n"
     ]
    }
   ],
   "source": [
    "scores(gs_sgd_results)"
   ]
  },
  {
   "cell_type": "code",
   "execution_count": 0,
   "metadata": {
    "colab": {},
    "colab_type": "code",
    "id": "HO7dmlERlmL4"
   },
   "outputs": [],
   "source": [
    "%%time\n",
    "\n",
    "grid_params = [\n",
    "    {\n",
    "        'penalty': ['none', 'l2', 'l1', 'elasticnet'],\n",
    "        'alpha': [0.00001, 0.00001, 0.0001, 0.001, 0.01],\n",
    "        'tol': [0.01, 0.001, 0.0001, 0.00001]\n",
    "    }\n",
    "]\n",
    "\n",
    "gs_perceptron = GridSearchCV(\n",
    "    Perceptron(),\n",
    "    grid_params,\n",
    "    verbose=100,\n",
    "    cv=3,\n",
    "    n_jobs=-1,\n",
    "    scoring='accuracy'\n",
    ")\n",
    "\n",
    "gs_perceptron_results = gs_perceptron.fit(X_train, y_train)"
   ]
  },
  {
   "cell_type": "code",
   "execution_count": 0,
   "metadata": {
    "colab": {
     "base_uri": "https://localhost:8080/",
     "height": 51
    },
    "colab_type": "code",
    "id": "cH72QCH2mzKE",
    "outputId": "3a25d964-03f9-4814-cdc6-bbb17c57832b"
   },
   "outputs": [
    {
     "name": "stdout",
     "output_type": "stream",
     "text": [
      "Score:  0.6819917012448132  +-  0.02813772908054496\n",
      "Time:  0.006927621364593506  +-  0.0002635035910960686\n"
     ]
    }
   ],
   "source": [
    "scores(gs_perceptron_results)"
   ]
  },
  {
   "cell_type": "code",
   "execution_count": 0,
   "metadata": {
    "colab": {
     "base_uri": "https://localhost:8080/",
     "height": 34
    },
    "colab_type": "code",
    "id": "m_D0OujmnB99",
    "outputId": "6dde2266-f49f-45ef-ed8d-2933ca03e9c7"
   },
   "outputs": [
    {
     "data": {
      "text/plain": [
       "0.7074344507135745"
      ]
     },
     "execution_count": 61,
     "metadata": {
      "tags": []
     },
     "output_type": "execute_result"
    }
   ],
   "source": [
    "np.max(gs_perceptron_results.cv_results_['split0_test_score'])"
   ]
  },
  {
   "cell_type": "code",
   "execution_count": 0,
   "metadata": {
    "colab": {},
    "colab_type": "code",
    "id": "6ME6ZsuQn8Zt"
   },
   "outputs": [],
   "source": [
    "%%time\n",
    "\n",
    "grid_params = [\n",
    "    {\n",
    "        'hidden_layer_sizes': [(50, 1), (50, 5), (50, 10), (100, 5), (100, 10)],\n",
    "        'activation': ['identity', 'logistic', 'tanh', 'relu'],\n",
    "        'solver': ['lbfgs', 'sgd', 'adam'],\n",
    "        'learning_rate': ['constant', 'invscaling', 'adaptive']\n",
    "    }\n",
    "]\n",
    "\n",
    "gs_mlp = GridSearchCV(\n",
    "    MLPClassifier(),\n",
    "    grid_params,\n",
    "    verbose=100,\n",
    "    cv=3,\n",
    "    n_jobs=-1,\n",
    "    scoring='accuracy'\n",
    ")\n",
    "\n",
    "gs_mlp_results = gs_mlp.fit(X_train, y_train)"
   ]
  },
  {
   "cell_type": "code",
   "execution_count": 0,
   "metadata": {
    "colab": {
     "base_uri": "https://localhost:8080/",
     "height": 51
    },
    "colab_type": "code",
    "id": "EP3TqUyLp5Aw",
    "outputId": "350644be-6709-4f22-cb50-da441748ba02"
   },
   "outputs": [
    {
     "name": "stdout",
     "output_type": "stream",
     "text": [
      "Score:  0.7277731673582296  +-  0.09196380029453866\n",
      "Time:  0.04337662723329332  +-  0.023533520089462415\n"
     ]
    }
   ],
   "source": [
    "scores(gs_mlp_results)"
   ]
  },
  {
   "cell_type": "code",
   "execution_count": 0,
   "metadata": {
    "colab": {},
    "colab_type": "code",
    "id": "NWrd60fxqADR"
   },
   "outputs": [],
   "source": [
    "%%time\n",
    "\n",
    "grid_params = [\n",
    "    {\n",
    "        'loss': ['hinge', 'log', 'modified_huber', 'squared_hinge', 'perceptron'],\n",
    "        'penalty': ['none', 'l2', 'l1', 'elasticnet'],\n",
    "        'alpha': [0.00001, 0.0001, 0.001],\n",
    "        'tol': [0.01, 0.001, 0.0001]\n",
    "    }\n",
    "]\n",
    "\n",
    "gs_sgd = GridSearchCV(\n",
    "    SGDClassifier(),\n",
    "    grid_params,\n",
    "    verbose=100,\n",
    "    cv=3,\n",
    "    n_jobs=-1,\n",
    "    scoring='accuracy'\n",
    ")\n",
    "\n",
    "gs_sgd_results = gs_sgd.fit(X_train, y_train)"
   ]
  },
  {
   "cell_type": "code",
   "execution_count": 0,
   "metadata": {
    "colab": {
     "base_uri": "https://localhost:8080/",
     "height": 51
    },
    "colab_type": "code",
    "id": "jrgHcAg_JM9k",
    "outputId": "85e0a1da-d944-4f1b-ba68-dfb929cf8233"
   },
   "outputs": [
    {
     "name": "stdout",
     "output_type": "stream",
     "text": [
      "Score:  0.7083264177040111  +-  0.01625743087541599\n",
      "Time:  0.012532836861080594  +-  0.0005106230455869537\n"
     ]
    }
   ],
   "source": [
    "scores(gs_sgd_results)"
   ]
  },
  {
   "cell_type": "code",
   "execution_count": 0,
   "metadata": {
    "colab": {},
    "colab_type": "code",
    "id": "sBIG3wSAkEy6"
   },
   "outputs": [],
   "source": []
  }
 ],
 "metadata": {
  "colab": {
   "name": "NUVEM_processing.ipynb",
   "provenance": []
  },
  "kernelspec": {
   "display_name": "Python 3",
   "language": "python",
   "name": "python3"
  },
  "language_info": {
   "codemirror_mode": {
    "name": "ipython",
    "version": 3
   },
   "file_extension": ".py",
   "mimetype": "text/x-python",
   "name": "python",
   "nbconvert_exporter": "python",
   "pygments_lexer": "ipython3",
   "version": "3.7.3"
  }
 },
 "nbformat": 4,
 "nbformat_minor": 1
}
