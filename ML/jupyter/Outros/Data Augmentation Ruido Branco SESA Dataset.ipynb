{
 "cells": [
  {
   "cell_type": "markdown",
   "metadata": {},
   "source": [
    "# Data Augmentation para o SESA Dataset usando ruído branco"
   ]
  },
  {
   "cell_type": "markdown",
   "metadata": {},
   "source": [
    "A ideia é aumentar a quantidade de dados de treinamento usando ruído branco. Todos os áudios deverão ter ruído branco adicionado com SNRs de -10 dB até 30 dB, passo 5. Ou seja, cada áudio será replicado 9 vezes + o original. A pasta de treinamento passará de 480 para 4800 áudios.\n",
    "\n",
    "O objetivo disso é verificar se é possível melhorar o desempenho do Beamforming, já que ele foi tão mal nos testes anteriores."
   ]
  },
  {
   "cell_type": "code",
   "execution_count": 1,
   "metadata": {},
   "outputs": [],
   "source": [
    "import librosa\n",
    "import numpy as np\n",
    "import math\n",
    "import matplotlib.pyplot as plt\n",
    "import os\n",
    "from IPython.display import Audio"
   ]
  },
  {
   "cell_type": "markdown",
   "metadata": {},
   "source": [
    "#### Abrindo um áudio aleatório para testar as funções que eu for implementando"
   ]
  },
  {
   "cell_type": "code",
   "execution_count": null,
   "metadata": {},
   "outputs": [],
   "source": [
    "caminhoSinal = '/home/dimi/Downloads/Datasets/SESA/SESA_Normalizado/train/casual_066.wav'\n",
    "sinalOriginal, freqAmostragem = librosa.load(caminhoSinal, sr=None, mono=True)"
   ]
  },
  {
   "cell_type": "markdown",
   "metadata": {},
   "source": [
    "#### Função para gerar ruído branco com energia definida"
   ]
  },
  {
   "cell_type": "code",
   "execution_count": 2,
   "metadata": {},
   "outputs": [],
   "source": [
    "def gerarRuidoBranco(qtdAmostras, energia):\n",
    "    \n",
    "    media        = 0\n",
    "    desvioPadrao = 1\n",
    "    \n",
    "    return np.random.normal(media, desvioPadrao, size=qtdAmostras) * energia**(1/2)"
   ]
  },
  {
   "cell_type": "code",
   "execution_count": null,
   "metadata": {},
   "outputs": [],
   "source": [
    "ruido = gerarRuidoBranco(len(sinalOriginal), 1)\n",
    "Audio(data=ruido, rate=freqAmostragem)"
   ]
  },
  {
   "cell_type": "code",
   "execution_count": null,
   "metadata": {},
   "outputs": [],
   "source": [
    "print(\"Energia do sinal:\", np.var(sinalOriginal))\n",
    "print(\"Energia do ruido:\", np.var(ruido))\n",
    "\n",
    "plt.plot(ruido, label=\"Ruido\")\n",
    "plt.plot(sinalOriginal, label=\"Sinal\")\n",
    "plt.legend()"
   ]
  },
  {
   "cell_type": "markdown",
   "metadata": {},
   "source": [
    "#### Função para calcular qual deve ser a energia do ruído dada a SNR desejada"
   ]
  },
  {
   "cell_type": "code",
   "execution_count": 3,
   "metadata": {},
   "outputs": [],
   "source": [
    "def calcularEnerigaRuidoDadoSNR(snrDesejada, energiaSinal):\n",
    "    return energiaSinal/(10**(snrDesejada/10))"
   ]
  },
  {
   "cell_type": "code",
   "execution_count": null,
   "metadata": {},
   "outputs": [],
   "source": [
    "energiaRuido = calcularEnerigaRuidoDadoSNR(-5, 1)\n",
    "energiaRuido"
   ]
  },
  {
   "cell_type": "markdown",
   "metadata": {},
   "source": [
    "#### Função para calcular a SNR "
   ]
  },
  {
   "cell_type": "code",
   "execution_count": 4,
   "metadata": {},
   "outputs": [],
   "source": [
    "def calcularSNR(sinal, ruido):\n",
    "    return 10 * math.log((np.var(sinal)/np.var(ruido)), 10)"
   ]
  },
  {
   "cell_type": "code",
   "execution_count": null,
   "metadata": {},
   "outputs": [],
   "source": [
    "ruido = gerarRuidoBranco(len(sinalOriginal), energiaRuido)\n",
    "calcularSNR(sinalOriginal, ruido)"
   ]
  },
  {
   "cell_type": "code",
   "execution_count": null,
   "metadata": {},
   "outputs": [],
   "source": []
  },
  {
   "cell_type": "code",
   "execution_count": null,
   "metadata": {},
   "outputs": [],
   "source": []
  },
  {
   "cell_type": "code",
   "execution_count": null,
   "metadata": {},
   "outputs": [],
   "source": []
  },
  {
   "cell_type": "markdown",
   "metadata": {},
   "source": [
    "## Finalmente..."
   ]
  },
  {
   "cell_type": "code",
   "execution_count": 5,
   "metadata": {
    "scrolled": false
   },
   "outputs": [
    {
     "name": "stdout",
     "output_type": "stream",
     "text": [
      "Progresso: 0.9523809523809524%\n",
      "Progresso: 1.9047619047619049%\n",
      "Progresso: 2.857142857142857%\n",
      "Progresso: 3.8095238095238098%\n",
      "Progresso: 4.761904761904762%\n",
      "Progresso: 5.714285714285714%\n",
      "Progresso: 6.666666666666667%\n",
      "Progresso: 7.6190476190476195%\n",
      "Progresso: 8.571428571428571%\n",
      "Progresso: 9.523809523809524%\n",
      "Progresso: 10.476190476190476%\n",
      "Progresso: 11.428571428571429%\n",
      "Progresso: 12.380952380952381%\n",
      "Progresso: 13.333333333333334%\n",
      "Progresso: 14.285714285714285%\n",
      "Progresso: 15.238095238095239%\n",
      "Progresso: 16.19047619047619%\n",
      "Progresso: 17.142857142857142%\n",
      "Progresso: 18.095238095238095%\n",
      "Progresso: 19.047619047619047%\n",
      "Progresso: 20.0%\n",
      "Progresso: 20.952380952380953%\n",
      "Progresso: 21.904761904761905%\n",
      "Progresso: 22.857142857142858%\n",
      "Progresso: 23.809523809523807%\n",
      "Progresso: 24.761904761904763%\n",
      "Progresso: 25.71428571428571%\n",
      "Progresso: 26.666666666666668%\n",
      "Progresso: 27.61904761904762%\n",
      "Progresso: 28.57142857142857%\n",
      "Progresso: 29.523809523809526%\n",
      "Progresso: 30.476190476190478%\n",
      "Progresso: 31.428571428571427%\n",
      "Progresso: 32.38095238095238%\n",
      "Progresso: 33.33333333333333%\n",
      "Progresso: 34.285714285714285%\n",
      "Progresso: 35.23809523809524%\n",
      "Progresso: 36.19047619047619%\n",
      "Progresso: 37.142857142857146%\n",
      "Progresso: 38.095238095238095%\n",
      "Progresso: 39.04761904761905%\n",
      "Progresso: 40.0%\n",
      "Progresso: 40.95238095238095%\n",
      "Progresso: 41.904761904761905%\n",
      "Progresso: 42.857142857142854%\n",
      "Progresso: 43.80952380952381%\n",
      "Progresso: 44.761904761904766%\n",
      "Progresso: 45.714285714285715%\n",
      "Progresso: 46.666666666666664%\n",
      "Progresso: 47.61904761904761%\n",
      "Progresso: 48.57142857142857%\n",
      "Progresso: 49.523809523809526%\n",
      "Progresso: 50.476190476190474%\n",
      "Progresso: 51.42857142857142%\n",
      "Progresso: 52.38095238095239%\n",
      "Progresso: 53.333333333333336%\n",
      "Progresso: 54.285714285714285%\n",
      "Progresso: 55.23809523809524%\n",
      "Progresso: 56.19047619047619%\n",
      "Progresso: 57.14285714285714%\n",
      "Progresso: 58.0952380952381%\n",
      "Progresso: 59.04761904761905%\n",
      "Progresso: 60.0%\n",
      "Progresso: 60.952380952380956%\n",
      "Progresso: 61.904761904761905%\n",
      "Progresso: 62.857142857142854%\n",
      "Progresso: 63.8095238095238%\n",
      "Progresso: 64.76190476190476%\n",
      "Progresso: 65.71428571428571%\n",
      "Progresso: 66.66666666666666%\n",
      "Progresso: 67.61904761904762%\n",
      "Progresso: 68.57142857142857%\n",
      "Progresso: 69.52380952380952%\n",
      "Progresso: 70.47619047619048%\n",
      "Progresso: 71.42857142857143%\n",
      "Progresso: 72.38095238095238%\n",
      "Progresso: 73.33333333333333%\n",
      "Progresso: 74.28571428571429%\n",
      "Progresso: 75.23809523809524%\n",
      "Progresso: 76.19047619047619%\n",
      "Progresso: 77.14285714285715%\n",
      "Progresso: 78.0952380952381%\n",
      "Progresso: 79.04761904761905%\n",
      "Progresso: 80.0%\n",
      "Progresso: 80.95238095238095%\n",
      "Progresso: 81.9047619047619%\n",
      "Progresso: 82.85714285714286%\n",
      "Progresso: 83.80952380952381%\n",
      "Progresso: 84.76190476190476%\n",
      "Progresso: 85.71428571428571%\n",
      "Progresso: 86.66666666666667%\n",
      "Progresso: 87.61904761904762%\n",
      "Progresso: 88.57142857142857%\n",
      "Progresso: 89.52380952380953%\n",
      "Progresso: 90.47619047619048%\n",
      "Progresso: 91.42857142857143%\n",
      "Progresso: 92.38095238095238%\n",
      "Progresso: 93.33333333333333%\n",
      "Progresso: 94.28571428571428%\n",
      "Progresso: 95.23809523809523%\n",
      "Progresso: 96.19047619047619%\n",
      "Progresso: 97.14285714285714%\n",
      "Progresso: 98.09523809523809%\n",
      "Progresso: 99.04761904761905%\n",
      "Progresso: 100.0%\n"
     ]
    }
   ],
   "source": [
    "# PASTAS DE ORIGEM E DESTINO DOS AUDIOS WAV\n",
    "dirOrigem  = \"/home/dimi/Downloads/Datasets/SESA/SESA_Normalizado/test/\"\n",
    "dirDestino = \"/home/dimi/Downloads/Datasets/SESA/SESA_Normalizado/test_augmentation/\"\n",
    "\n",
    "# RANGE DE SNRS QUE EU QUERO USAR PARA FAZER O DATA AUGMENTATION\n",
    "rangeSNRs = a = np.arange(-10, 31, 5)\n",
    "\n",
    "# PARA CADA AUDIO NA PASTA DE ORIGEM\n",
    "arrayArquivos = os.listdir(dirOrigem)\n",
    "for i, arquivoAtual in enumerate(arrayArquivos):\n",
    "    \n",
    "    # ABRO O AUDIO ATUAL\n",
    "    caminho = dirOrigem + arquivoAtual\n",
    "    audioOriginalAtual, freqAmostragem = librosa.core.load(caminho, sr=None, mono=True)\n",
    "    \n",
    "    # COPIO O ORIGINAL PARA A PASTA DE DESTINO\n",
    "    caminho = dirDestino + arquivoAtual\n",
    "    librosa.output.write_wav(caminho, audioOriginalAtual, sr=freqAmostragem)\n",
    "    \n",
    "    # PARA CADA SNR DESEJADA\n",
    "    for SNRAtual in rangeSNRs:\n",
    "    \n",
    "        # EU CRIO O RUIDO COM A ENERGIA CORRETA PARA ESSA SNR\n",
    "        energiaRuido = calcularEnerigaRuidoDadoSNR(SNRAtual, 1)\n",
    "        ruido        = gerarRuidoBranco(len(audioOriginalAtual), energiaRuido)\n",
    "        \n",
    "        # SOMO O SINAL DESEJADO COM O RUIDOSO\n",
    "        somaSinais = audioOriginalAtual + ruido\n",
    "        \n",
    "        # SALVO NO DESTINO\n",
    "        caminho = dirDestino + arquivoAtual[:-4] + \"_SNR_\" + str(SNRAtual) + \"dB.wav\"\n",
    "        librosa.output.write_wav(caminho, somaSinais, sr=freqAmostragem)\n",
    "        \n",
    "    print(\"Progresso: \" + str(100*((i+1)/len(arrayArquivos))) + \"%\")"
   ]
  },
  {
   "cell_type": "code",
   "execution_count": null,
   "metadata": {},
   "outputs": [],
   "source": []
  },
  {
   "cell_type": "code",
   "execution_count": null,
   "metadata": {},
   "outputs": [],
   "source": []
  },
  {
   "cell_type": "code",
   "execution_count": null,
   "metadata": {},
   "outputs": [],
   "source": []
  }
 ],
 "metadata": {
  "kernelspec": {
   "display_name": "Python 3",
   "language": "python",
   "name": "python3"
  },
  "language_info": {
   "codemirror_mode": {
    "name": "ipython",
    "version": 3
   },
   "file_extension": ".py",
   "mimetype": "text/x-python",
   "name": "python",
   "nbconvert_exporter": "python",
   "pygments_lexer": "ipython3",
   "version": "3.7.3"
  }
 },
 "nbformat": 4,
 "nbformat_minor": 2
}
