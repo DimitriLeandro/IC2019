{
 "cells": [
  {
   "cell_type": "markdown",
   "metadata": {},
   "source": [
    "# Algoritmo para comparar o ESC-10 com e sem silencio"
   ]
  },
  {
   "cell_type": "code",
   "execution_count": 1,
   "metadata": {},
   "outputs": [],
   "source": [
    "import pandas as pd\n",
    "import numpy as np\n",
    "from sklearn.model_selection import GridSearchCV, GroupKFold\n",
    "from sklearn.metrics import accuracy_score\n",
    "from sklearn.svm import SVC"
   ]
  },
  {
   "cell_type": "code",
   "execution_count": 2,
   "metadata": {},
   "outputs": [],
   "source": [
    "def ajustarDataset(caminhoCSV):\n",
    "    \n",
    "    # ABRINDO O DATAFRAME\n",
    "    dataframe = pd.read_csv(caminhoCSV)\n",
    "\n",
    "    # SEPARO O QUE E O QUE\n",
    "    data   = dataframe.iloc[:, 1:-1].to_numpy()\n",
    "    target = dataframe.iloc[:, -1].to_numpy()\n",
    "    groups = dataframe.iloc[:, 0].to_numpy()\n",
    "\n",
    "    # LIMPANDO MEMORIA\n",
    "    del dataframe\n",
    "\n",
    "    # AJUSTANDO O GROUPS (AJUSTEI O NOME DOS ARQUIVOS DO ESC PARA TER A PASTA NO FINAL)\n",
    "    for i, grupoAtual in enumerate(groups):\n",
    "        groups[i] = grupoAtual[-5]\n",
    "\n",
    "    return data, target, groups"
   ]
  },
  {
   "cell_type": "markdown",
   "metadata": {},
   "source": [
    "## Sem remoção de silêncio"
   ]
  },
  {
   "cell_type": "code",
   "execution_count": 3,
   "metadata": {},
   "outputs": [
    {
     "name": "stdout",
     "output_type": "stream",
     "text": [
      "(19600, 135)\n"
     ]
    }
   ],
   "source": [
    "caminhoCSV = \"/home/dimi/Downloads/datasets/ESC_10_16kHz_8bits/audio_com_silencio/1592607914.5737143.csv\"\n",
    "data, target, groups = ajustarDataset(caminhoCSV)\n",
    "print(data.shape)"
   ]
  },
  {
   "cell_type": "code",
   "execution_count": 4,
   "metadata": {},
   "outputs": [
    {
     "name": "stdout",
     "output_type": "stream",
     "text": [
      "Fitting 5 folds for each of 1 candidates, totalling 5 fits\n"
     ]
    },
    {
     "name": "stderr",
     "output_type": "stream",
     "text": [
      "[Parallel(n_jobs=-1)]: Using backend LokyBackend with 4 concurrent workers.\n",
      "[Parallel(n_jobs=-1)]: Done   2 out of   5 | elapsed:  1.5min remaining:  2.3min\n",
      "[Parallel(n_jobs=-1)]: Done   3 out of   5 | elapsed:  1.5min remaining:  1.0min\n",
      "[Parallel(n_jobs=-1)]: Done   5 out of   5 | elapsed:  2.2min remaining:    0.0s\n",
      "[Parallel(n_jobs=-1)]: Done   5 out of   5 | elapsed:  2.2min finished\n"
     ]
    }
   ],
   "source": [
    "# PARAMETROS\n",
    "parametrosGrid = [{\n",
    "    'kernel': ['rbf']\n",
    "}]\n",
    "\n",
    "# AJUSTANDO O GRIDSEARCH\n",
    "objGS = GridSearchCV(\n",
    "    SVC(),\n",
    "    parametrosGrid,\n",
    "    verbose=10,\n",
    "    cv=GroupKFold(n_splits=5).split(data, target, groups),\n",
    "    n_jobs=-1,\n",
    "    scoring='accuracy'\n",
    ")\n",
    "\n",
    "# RODANDO O GRIDSEARCH\n",
    "objGS.fit(X=data, y=target, groups=groups)\n",
    "\n",
    "# OBTENDO OS RESULTADOS\n",
    "melhorModelo              = objGS.best_estimator_\n",
    "acuraciaMediaMelhorModelo = objGS.cv_results_[\"mean_test_score\"][objGS.best_index_]\n",
    "desvioMelhorModelo        = objGS.cv_results_[\"std_test_score\"][objGS.best_index_]"
   ]
  },
  {
   "cell_type": "code",
   "execution_count": 5,
   "metadata": {},
   "outputs": [
    {
     "name": "stdout",
     "output_type": "stream",
     "text": [
      "Resultado: 0.6197448979591836 +- 0.017705331367994192\n"
     ]
    }
   ],
   "source": [
    "print(\"Resultado:\", acuraciaMediaMelhorModelo, \"+-\", desvioMelhorModelo)"
   ]
  },
  {
   "cell_type": "markdown",
   "metadata": {},
   "source": [
    "## Com remoção de silêncio"
   ]
  },
  {
   "cell_type": "code",
   "execution_count": 6,
   "metadata": {},
   "outputs": [
    {
     "name": "stdout",
     "output_type": "stream",
     "text": [
      "(15134, 135)\n"
     ]
    }
   ],
   "source": [
    "caminhoCSV = \"/home/dimi/Downloads/datasets/ESC_10_16kHz_8bits/audio/1592607056.526734.csv\"\n",
    "data, target, groups = ajustarDataset(caminhoCSV)\n",
    "print(data.shape)"
   ]
  },
  {
   "cell_type": "code",
   "execution_count": 7,
   "metadata": {},
   "outputs": [
    {
     "name": "stdout",
     "output_type": "stream",
     "text": [
      "Fitting 5 folds for each of 1 candidates, totalling 5 fits\n"
     ]
    },
    {
     "name": "stderr",
     "output_type": "stream",
     "text": [
      "[Parallel(n_jobs=-1)]: Using backend LokyBackend with 4 concurrent workers.\n",
      "[Parallel(n_jobs=-1)]: Done   2 out of   5 | elapsed:   38.6s remaining:   57.9s\n",
      "[Parallel(n_jobs=-1)]: Done   3 out of   5 | elapsed:   38.6s remaining:   25.7s\n",
      "[Parallel(n_jobs=-1)]: Done   5 out of   5 | elapsed:   56.5s remaining:    0.0s\n",
      "[Parallel(n_jobs=-1)]: Done   5 out of   5 | elapsed:   56.5s finished\n"
     ]
    }
   ],
   "source": [
    "# PARAMETROS\n",
    "parametrosGrid = [{\n",
    "    'kernel': ['rbf']\n",
    "}]\n",
    "\n",
    "# AJUSTANDO O GRIDSEARCH\n",
    "objGS = GridSearchCV(\n",
    "    SVC(),\n",
    "    parametrosGrid,\n",
    "    verbose=10,\n",
    "    cv=GroupKFold(n_splits=5).split(data, target, groups),\n",
    "    n_jobs=-1,\n",
    "    scoring='accuracy'\n",
    ")\n",
    "\n",
    "# RODANDO O GRIDSEARCH\n",
    "objGS.fit(X=data, y=target, groups=groups)\n",
    "\n",
    "# OBTENDO OS RESULTADOS\n",
    "melhorModelo              = objGS.best_estimator_\n",
    "acuraciaMediaMelhorModelo = objGS.cv_results_[\"mean_test_score\"][objGS.best_index_]\n",
    "desvioMelhorModelo        = objGS.cv_results_[\"std_test_score\"][objGS.best_index_]"
   ]
  },
  {
   "cell_type": "code",
   "execution_count": 8,
   "metadata": {},
   "outputs": [
    {
     "name": "stdout",
     "output_type": "stream",
     "text": [
      "Resultado: 0.7410512088177641 +- 0.03444560697772762\n"
     ]
    }
   ],
   "source": [
    "print(\"Resultado:\", acuraciaMediaMelhorModelo, \"+-\", desvioMelhorModelo)"
   ]
  },
  {
   "cell_type": "code",
   "execution_count": null,
   "metadata": {},
   "outputs": [],
   "source": []
  },
  {
   "cell_type": "code",
   "execution_count": null,
   "metadata": {},
   "outputs": [],
   "source": []
  },
  {
   "cell_type": "code",
   "execution_count": null,
   "metadata": {},
   "outputs": [],
   "source": []
  }
 ],
 "metadata": {
  "kernelspec": {
   "display_name": "Python 3",
   "language": "python",
   "name": "python3"
  },
  "language_info": {
   "codemirror_mode": {
    "name": "ipython",
    "version": 3
   },
   "file_extension": ".py",
   "mimetype": "text/x-python",
   "name": "python",
   "nbconvert_exporter": "python",
   "pygments_lexer": "ipython3",
   "version": "3.7.3"
  }
 },
 "nbformat": 4,
 "nbformat_minor": 4
}
