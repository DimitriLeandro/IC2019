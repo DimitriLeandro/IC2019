{
 "cells": [
  {
   "cell_type": "code",
   "execution_count": 1,
   "metadata": {},
   "outputs": [],
   "source": [
    "import soundfile as sf"
   ]
  },
  {
   "cell_type": "code",
   "execution_count": 2,
   "metadata": {},
   "outputs": [
    {
     "name": "stdout",
     "output_type": "stream",
     "text": [
      "Sample rate: 16000\n",
      "Channels: 1\n",
      "Subtype: PCM_U8\n"
     ]
    }
   ],
   "source": [
    "ob = sf.SoundFile('/home/dimi/Downloads/datasets/SESA_v2_16kHz_8bits/silencio/casual_000_1.wav')\n",
    "print('Sample rate: {}'.format(ob.samplerate))\n",
    "print('Channels: {}'.format(ob.channels))\n",
    "print('Subtype: {}'.format(ob.subtype))"
   ]
  },
  {
   "cell_type": "code",
   "execution_count": 3,
   "metadata": {},
   "outputs": [
    {
     "name": "stdout",
     "output_type": "stream",
     "text": [
      "Sample rate: 16000\n",
      "Channels: 1\n",
      "Subtype: PCM_U8\n"
     ]
    }
   ],
   "source": [
    "ob = sf.SoundFile('/home/dimi/Downloads/datasets/SESA_v2_16kHz_8bits/original/casual_000_1.wav')\n",
    "print('Sample rate: {}'.format(ob.samplerate))\n",
    "print('Channels: {}'.format(ob.channels))\n",
    "print('Subtype: {}'.format(ob.subtype))"
   ]
  },
  {
   "cell_type": "code",
   "execution_count": 4,
   "metadata": {},
   "outputs": [
    {
     "name": "stdout",
     "output_type": "stream",
     "text": [
      "Sample rate: 16000\n",
      "Channels: 1\n",
      "Subtype: PCM_16\n"
     ]
    }
   ],
   "source": [
    "ob = sf.SoundFile('/home/dimi/Downloads/datasets/SESA_v2_16kHz_16bits/silencio/casual_000_1.wav')\n",
    "print('Sample rate: {}'.format(ob.samplerate))\n",
    "print('Channels: {}'.format(ob.channels))\n",
    "print('Subtype: {}'.format(ob.subtype))"
   ]
  },
  {
   "cell_type": "code",
   "execution_count": 5,
   "metadata": {},
   "outputs": [
    {
     "name": "stdout",
     "output_type": "stream",
     "text": [
      "Sample rate: 16000\n",
      "Channels: 1\n",
      "Subtype: PCM_16\n"
     ]
    }
   ],
   "source": [
    "ob = sf.SoundFile('/home/dimi/Downloads/datasets/SESA_v2_16kHz_16bits/original/casual_000_1.wav')\n",
    "print('Sample rate: {}'.format(ob.samplerate))\n",
    "print('Channels: {}'.format(ob.channels))\n",
    "print('Subtype: {}'.format(ob.subtype))"
   ]
  },
  {
   "cell_type": "code",
   "execution_count": null,
   "metadata": {},
   "outputs": [],
   "source": []
  },
  {
   "cell_type": "code",
   "execution_count": null,
   "metadata": {},
   "outputs": [],
   "source": []
  }
 ],
 "metadata": {
  "kernelspec": {
   "display_name": "Python 3",
   "language": "python",
   "name": "python3"
  },
  "language_info": {
   "codemirror_mode": {
    "name": "ipython",
    "version": 3
   },
   "file_extension": ".py",
   "mimetype": "text/x-python",
   "name": "python",
   "nbconvert_exporter": "python",
   "pygments_lexer": "ipython3",
   "version": "3.7.3"
  }
 },
 "nbformat": 4,
 "nbformat_minor": 2
}
