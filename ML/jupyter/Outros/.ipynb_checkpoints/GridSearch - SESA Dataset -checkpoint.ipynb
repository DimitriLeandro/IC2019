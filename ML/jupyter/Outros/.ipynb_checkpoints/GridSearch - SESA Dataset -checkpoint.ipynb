{
 "cells": [
  {
   "cell_type": "markdown",
   "metadata": {},
   "source": [
    "# Algoritmo para fazer o Grid Search com alguns classificadores para o SESA Dataset"
   ]
  },
  {
   "cell_type": "code",
   "execution_count": 16,
   "metadata": {},
   "outputs": [],
   "source": [
    "import pandas as pd\n",
    "import numpy as np\n",
    "from sklearn.model_selection import GridSearchCV, GroupKFold\n",
    "from sklearn.metrics import accuracy_score\n",
    "from sklearn.neighbors import KNeighborsClassifier\n",
    "from sklearn.svm import LinearSVC\n",
    "from sklearn.linear_model import Perceptron, SGDClassifier\n",
    "from sklearn.ensemble import BaggingClassifier"
   ]
  },
  {
   "cell_type": "markdown",
   "metadata": {},
   "source": [
    "#### Abrindo os CSVs de treino e teste e separando os dados em x e y"
   ]
  },
  {
   "cell_type": "code",
   "execution_count": 2,
   "metadata": {
    "scrolled": false
   },
   "outputs": [
    {
     "name": "stdout",
     "output_type": "stream",
     "text": [
      "Tamanho dataframe treino: 5988\n",
      "Tamanho dataframe teste: 1354\n",
      "Total de dados: 7342\n"
     ]
    }
   ],
   "source": [
    "caminhoCSVTreino = \"/home/dimi/Programming/IC2019/ML/datasets/SESA/SESA_Normalizado/train/treino_normalizado_semPCA.csv\"\n",
    "caminhoCSVTeste  = \"/home/dimi/Programming/IC2019/ML/datasets/SESA/SESA_Normalizado/test/teste_normalizado_semPCA.csv\"\n",
    "\n",
    "dataframeTreino  = pd.read_csv(caminhoCSVTreino)\n",
    "dataframeTeste   = pd.read_csv(caminhoCSVTeste)\n",
    "\n",
    "print(\"Tamanho dataframe treino:\", len(dataframeTreino))\n",
    "print(\"Tamanho dataframe teste:\", len(dataframeTeste))\n",
    "print(\"Total de dados:\", len(dataframeTreino) + len(dataframeTeste))"
   ]
  },
  {
   "cell_type": "markdown",
   "metadata": {},
   "source": [
    "#### Usando o Group K Fold para garantir que todos os frames de um mesmo áudio fiquem na mesma pasta em um K Fold"
   ]
  },
  {
   "cell_type": "markdown",
   "metadata": {},
   "source": [
    "Para fazer a validação cruzada, não posso deixar que um mesmo áudio seja usado tanto no treinamento quanto no teste. É preciso garantir que todos os frames de um determinado áudio façam parte ou do treinamento ou do teste.\n",
    "\n",
    "Fazendo \"groups\" ser igual ao nomes dos arquivos, é possível usar a classe GroupKFold para fazer o K Fold sem que os áudios se misturem."
   ]
  },
  {
   "cell_type": "code",
   "execution_count": 3,
   "metadata": {},
   "outputs": [],
   "source": [
    "data   = np.array(dataframeTreino.iloc[:,1:-1].values.tolist() + dataframeTeste.iloc[:,1:-1].values.tolist())\n",
    "target = np.array(dataframeTreino.iloc[:,-1].values.tolist() + dataframeTeste.iloc[:,-1].values.tolist())\n",
    "groups = np.array(dataframeTreino.iloc[:,0].values.tolist() + dataframeTeste.iloc[:,0].values.tolist())"
   ]
  },
  {
   "cell_type": "code",
   "execution_count": 5,
   "metadata": {},
   "outputs": [
    {
     "name": "stdout",
     "output_type": "stream",
     "text": [
      "Acurácia: 0.8402777777777778\n",
      "Acurácia: 0.8242746219861055\n",
      "Acurácia: 0.8929301185124643\n"
     ]
    }
   ],
   "source": [
    "# TESTANDO COMO USAR ESSA CLASSE\n",
    "objGroupKFold = GroupKFold(n_splits=3)\n",
    "\n",
    "for trainIndex, testIndex in objGroupKFold.split(data, target, groups):\n",
    "    xTrain, xTest = data[trainIndex], data[testIndex]\n",
    "    yTrain, yTest = target[trainIndex], target[testIndex]\n",
    "    \n",
    "    objKNN = KNeighborsClassifier()\n",
    "    objKNN.fit(xTrain, yTrain)\n",
    "    yPred = objKNN.predict(xTest)\n",
    "    \n",
    "    print(\"Acurácia:\", accuracy_score(yTest, yPred))"
   ]
  },
  {
   "cell_type": "markdown",
   "metadata": {},
   "source": [
    "## KNN"
   ]
  },
  {
   "cell_type": "code",
   "execution_count": 17,
   "metadata": {},
   "outputs": [],
   "source": [
    "grid_params_knn = [\n",
    "    {\n",
    "        'n_neighbors': [3,5,7,11,13,17],\n",
    "     \n",
    "        'weights': ['uniform', \n",
    "                    'distance'],\n",
    "     \n",
    "        'metric': ['euclidean', \n",
    "                   'manhattan', \n",
    "                   'chebyshev', \n",
    "                   'minkowski']\n",
    "    }\n",
    "]\n",
    "\n",
    "gs_knn = GridSearchCV(\n",
    "    KNeighborsClassifier(),\n",
    "    grid_params_knn,\n",
    "    verbose=10,\n",
    "    cv=GroupKFold(n_splits=3).split(data, target, groups),\n",
    "    n_jobs=-1,\n",
    "    scoring='accuracy'\n",
    ")"
   ]
  },
  {
   "cell_type": "code",
   "execution_count": 18,
   "metadata": {},
   "outputs": [
    {
     "name": "stdout",
     "output_type": "stream",
     "text": [
      "Fitting 3 folds for each of 8 candidates, totalling 24 fits\n"
     ]
    },
    {
     "name": "stderr",
     "output_type": "stream",
     "text": [
      "[Parallel(n_jobs=-1)]: Using backend LokyBackend with 8 concurrent workers.\n",
      "[Parallel(n_jobs=-1)]: Done   2 tasks      | elapsed:    6.8s\n",
      "[Parallel(n_jobs=-1)]: Done   9 tasks      | elapsed:   12.9s\n",
      "[Parallel(n_jobs=-1)]: Done  12 out of  24 | elapsed:   13.0s remaining:   13.0s\n",
      "[Parallel(n_jobs=-1)]: Done  15 out of  24 | elapsed:   13.9s remaining:    8.3s\n",
      "[Parallel(n_jobs=-1)]: Done  18 out of  24 | elapsed:   18.9s remaining:    6.3s\n",
      "[Parallel(n_jobs=-1)]: Done  21 out of  24 | elapsed:   19.1s remaining:    2.7s\n",
      "[Parallel(n_jobs=-1)]: Done  24 out of  24 | elapsed:   20.0s remaining:    0.0s\n",
      "[Parallel(n_jobs=-1)]: Done  24 out of  24 | elapsed:   20.0s finished\n"
     ]
    },
    {
     "data": {
      "text/plain": [
       "GridSearchCV(cv=<generator object _BaseKFold.split at 0x7f45786f95e8>,\n",
       "             error_score='raise-deprecating',\n",
       "             estimator=KNeighborsClassifier(algorithm='auto', leaf_size=30,\n",
       "                                            metric='minkowski',\n",
       "                                            metric_params=None, n_jobs=None,\n",
       "                                            n_neighbors=5, p=2,\n",
       "                                            weights='uniform'),\n",
       "             iid='warn', n_jobs=-1,\n",
       "             param_grid=[{'metric': ['euclidean', 'manhattan'],\n",
       "                          'n_neighbors': [3, 5],\n",
       "                          'weights': ['uniform', 'distance']}],\n",
       "             pre_dispatch='2*n_jobs', refit=True, return_train_score=False,\n",
       "             scoring='accuracy', verbose=10)"
      ]
     },
     "execution_count": 18,
     "metadata": {},
     "output_type": "execute_result"
    }
   ],
   "source": [
    "gs_knn.fit(data, target)"
   ]
  },
  {
   "cell_type": "code",
   "execution_count": 23,
   "metadata": {},
   "outputs": [
    {
     "name": "stdout",
     "output_type": "stream",
     "text": [
      "KNeighborsClassifier(algorithm='auto', leaf_size=30, metric='manhattan',\n",
      "                     metric_params=None, n_jobs=None, n_neighbors=5, p=2,\n",
      "                     weights='distance') \n",
      "\n",
      "0.8697902478888586\n"
     ]
    }
   ],
   "source": [
    "print(gs_knn.best_estimator_, \"\\n\")\n",
    "print(gs_knn.best_score_)"
   ]
  },
  {
   "cell_type": "markdown",
   "metadata": {},
   "source": [
    "## SGD"
   ]
  },
  {
   "cell_type": "code",
   "execution_count": 20,
   "metadata": {},
   "outputs": [],
   "source": [
    "grid_params_sgd = [\n",
    "    {\n",
    "        'loss': ['hinge', 'log', 'modified_huber', 'squared_hinge', 'perceptron'],\n",
    "        'penalty': ['none', 'l2', 'l1', 'elasticnet'],\n",
    "        'alpha': [0.00001, 0.0001, 0.001],\n",
    "        'tol': [0.01, 0.001, 0.0001]\n",
    "    }\n",
    "]\n",
    "\n",
    "gs_sgd = GridSearchCV(\n",
    "    SGDClassifier(),\n",
    "    grid_params_sgd,\n",
    "    verbose=10,\n",
    "    cv=GroupKFold(n_splits=3).split(data, target, groups),\n",
    "    n_jobs=-1,\n",
    "    scoring='accuracy'\n",
    ")"
   ]
  },
  {
   "cell_type": "code",
   "execution_count": 21,
   "metadata": {},
   "outputs": [
    {
     "name": "stdout",
     "output_type": "stream",
     "text": [
      "Fitting 3 folds for each of 4 candidates, totalling 12 fits\n"
     ]
    },
    {
     "name": "stderr",
     "output_type": "stream",
     "text": [
      "[Parallel(n_jobs=-1)]: Using backend LokyBackend with 8 concurrent workers.\n",
      "[Parallel(n_jobs=-1)]: Done   1 tasks      | elapsed:    0.6s\n",
      "[Parallel(n_jobs=-1)]: Done   3 out of  12 | elapsed:    0.6s remaining:    1.9s\n",
      "[Parallel(n_jobs=-1)]: Done   5 out of  12 | elapsed:    0.8s remaining:    1.1s\n",
      "[Parallel(n_jobs=-1)]: Done   7 out of  12 | elapsed:    1.6s remaining:    1.1s\n",
      "[Parallel(n_jobs=-1)]: Done   9 out of  12 | elapsed:    1.7s remaining:    0.6s\n",
      "[Parallel(n_jobs=-1)]: Done  12 out of  12 | elapsed:    1.8s finished\n"
     ]
    },
    {
     "data": {
      "text/plain": [
       "GridSearchCV(cv=<generator object _BaseKFold.split at 0x7f45795d8c78>,\n",
       "             error_score='raise-deprecating',\n",
       "             estimator=SGDClassifier(alpha=0.0001, average=False,\n",
       "                                     class_weight=None, early_stopping=False,\n",
       "                                     epsilon=0.1, eta0=0.0, fit_intercept=True,\n",
       "                                     l1_ratio=0.15, learning_rate='optimal',\n",
       "                                     loss='hinge', max_iter=1000,\n",
       "                                     n_iter_no_change=5, n_jobs=None,\n",
       "                                     penalty='l2', power_t=0.5,\n",
       "                                     random_state=None, shuffle=True, tol=0.001,\n",
       "                                     validation_fraction=0.1, verbose=0,\n",
       "                                     warm_start=False),\n",
       "             iid='warn', n_jobs=-1,\n",
       "             param_grid=[{'alpha': [1e-05, 0.0001], 'loss': ['hinge', 'log'],\n",
       "                          'penalty': ['none'], 'tol': [0.01]}],\n",
       "             pre_dispatch='2*n_jobs', refit=True, return_train_score=False,\n",
       "             scoring='accuracy', verbose=10)"
      ]
     },
     "execution_count": 21,
     "metadata": {},
     "output_type": "execute_result"
    }
   ],
   "source": [
    "gs_sgd.fit(data, target)"
   ]
  },
  {
   "cell_type": "code",
   "execution_count": 24,
   "metadata": {},
   "outputs": [
    {
     "name": "stdout",
     "output_type": "stream",
     "text": [
      "SGDClassifier(alpha=0.0001, average=False, class_weight=None,\n",
      "              early_stopping=False, epsilon=0.1, eta0=0.0, fit_intercept=True,\n",
      "              l1_ratio=0.15, learning_rate='optimal', loss='hinge',\n",
      "              max_iter=1000, n_iter_no_change=5, n_jobs=None, penalty='none',\n",
      "              power_t=0.5, random_state=None, shuffle=True, tol=0.01,\n",
      "              validation_fraction=0.1, verbose=0, warm_start=False) \n",
      "\n",
      "0.8287932443475892\n"
     ]
    }
   ],
   "source": [
    "print(gs_sgd.best_estimator_, \"\\n\")\n",
    "print(gs_sgd.best_score_)"
   ]
  },
  {
   "cell_type": "markdown",
   "metadata": {},
   "source": [
    "## Bagging"
   ]
  },
  {
   "cell_type": "code",
   "execution_count": 27,
   "metadata": {},
   "outputs": [],
   "source": [
    "grid_params_bagging = [\n",
    "    {\n",
    "        'n_estimators': [50, 100, 150, 200],\n",
    "        'max_features': [0.2, 0.4, 0.6, 0.8, 1.0]\n",
    "    }\n",
    "]\n",
    "\n",
    "gs_bagging = GridSearchCV(\n",
    "    BaggingClassifier(),\n",
    "    grid_params_bagging,\n",
    "    verbose=10,\n",
    "    cv=GroupKFold(n_splits=3).split(data, target, groups),\n",
    "    n_jobs=-1,\n",
    "    scoring='accuracy'\n",
    ")"
   ]
  },
  {
   "cell_type": "code",
   "execution_count": 28,
   "metadata": {},
   "outputs": [
    {
     "name": "stdout",
     "output_type": "stream",
     "text": [
      "Fitting 3 folds for each of 4 candidates, totalling 12 fits\n"
     ]
    },
    {
     "name": "stderr",
     "output_type": "stream",
     "text": [
      "[Parallel(n_jobs=-1)]: Using backend LokyBackend with 8 concurrent workers.\n",
      "[Parallel(n_jobs=-1)]: Done   1 tasks      | elapsed:    5.9s\n",
      "[Parallel(n_jobs=-1)]: Done   3 out of  12 | elapsed:    6.2s remaining:   18.7s\n",
      "[Parallel(n_jobs=-1)]: Done   5 out of  12 | elapsed:   11.2s remaining:   15.7s\n",
      "[Parallel(n_jobs=-1)]: Done   7 out of  12 | elapsed:   11.5s remaining:    8.2s\n",
      "[Parallel(n_jobs=-1)]: Done   9 out of  12 | elapsed:   16.1s remaining:    5.4s\n",
      "[Parallel(n_jobs=-1)]: Done  12 out of  12 | elapsed:   30.7s finished\n"
     ]
    },
    {
     "data": {
      "text/plain": [
       "GridSearchCV(cv=<generator object _BaseKFold.split at 0x7f45787198b8>,\n",
       "             error_score='raise-deprecating',\n",
       "             estimator=BaggingClassifier(base_estimator=None, bootstrap=True,\n",
       "                                         bootstrap_features=False,\n",
       "                                         max_features=1.0, max_samples=1.0,\n",
       "                                         n_estimators=10, n_jobs=None,\n",
       "                                         oob_score=False, random_state=None,\n",
       "                                         verbose=0, warm_start=False),\n",
       "             iid='warn', n_jobs=-1,\n",
       "             param_grid=[{'max_features': [0.2, 0.4],\n",
       "                          'n_estimators': [50, 100]}],\n",
       "             pre_dispatch='2*n_jobs', refit=True, return_train_score=False,\n",
       "             scoring='accuracy', verbose=10)"
      ]
     },
     "execution_count": 28,
     "metadata": {},
     "output_type": "execute_result"
    }
   ],
   "source": [
    "gs_bagging.fit(data, target)"
   ]
  },
  {
   "cell_type": "code",
   "execution_count": 29,
   "metadata": {},
   "outputs": [
    {
     "name": "stdout",
     "output_type": "stream",
     "text": [
      "BaggingClassifier(base_estimator=None, bootstrap=True, bootstrap_features=False,\n",
      "                  max_features=0.4, max_samples=1.0, n_estimators=100,\n",
      "                  n_jobs=None, oob_score=False, random_state=None, verbose=0,\n",
      "                  warm_start=False) \n",
      "\n",
      "0.8970307818033233\n"
     ]
    }
   ],
   "source": [
    "print(gs_bagging.best_estimator_, \"\\n\")\n",
    "print(gs_bagging.best_score_)"
   ]
  },
  {
   "cell_type": "markdown",
   "metadata": {},
   "source": [
    "## LinearSVC"
   ]
  },
  {
   "cell_type": "code",
   "execution_count": 37,
   "metadata": {},
   "outputs": [],
   "source": [
    "grid_params_svm = [\n",
    "    {\n",
    "        'C': [0.01, 0.1, 1],\n",
    "        'penalty': ['l2'],\n",
    "        'multi_class': ['ovr', 'crammer_singer']\n",
    "    }\n",
    "]\n",
    "\n",
    "gs_svm = GridSearchCV(\n",
    "    LinearSVC(),\n",
    "    grid_params_svm,\n",
    "    verbose=10,\n",
    "    cv=GroupKFold(n_splits=3).split(data, target, groups),\n",
    "    n_jobs=-1,\n",
    "    scoring='accuracy'\n",
    ")"
   ]
  },
  {
   "cell_type": "code",
   "execution_count": 38,
   "metadata": {},
   "outputs": [
    {
     "name": "stdout",
     "output_type": "stream",
     "text": [
      "Fitting 3 folds for each of 6 candidates, totalling 18 fits\n"
     ]
    },
    {
     "name": "stderr",
     "output_type": "stream",
     "text": [
      "[Parallel(n_jobs=-1)]: Using backend LokyBackend with 8 concurrent workers.\n",
      "[Parallel(n_jobs=-1)]: Done   2 tasks      | elapsed:    1.2s\n",
      "[Parallel(n_jobs=-1)]: Done   5 out of  18 | elapsed:    1.6s remaining:    4.1s\n",
      "[Parallel(n_jobs=-1)]: Done   7 out of  18 | elapsed:    3.1s remaining:    4.8s\n",
      "[Parallel(n_jobs=-1)]: Done   9 out of  18 | elapsed:    3.9s remaining:    3.9s\n",
      "[Parallel(n_jobs=-1)]: Done  11 out of  18 | elapsed:    5.2s remaining:    3.3s\n",
      "[Parallel(n_jobs=-1)]: Done  13 out of  18 | elapsed:    6.2s remaining:    2.4s\n",
      "[Parallel(n_jobs=-1)]: Done  15 out of  18 | elapsed:    7.6s remaining:    1.5s\n",
      "[Parallel(n_jobs=-1)]: Done  18 out of  18 | elapsed:   35.7s finished\n",
      "/home/dimi/venvIC/lib/python3.7/site-packages/sklearn/svm/base.py:929: ConvergenceWarning: Liblinear failed to converge, increase the number of iterations.\n",
      "  \"the number of iterations.\", ConvergenceWarning)\n"
     ]
    },
    {
     "data": {
      "text/plain": [
       "GridSearchCV(cv=<generator object _BaseKFold.split at 0x7f4577d6ab88>,\n",
       "             error_score='raise-deprecating',\n",
       "             estimator=LinearSVC(C=1.0, class_weight=None, dual=True,\n",
       "                                 fit_intercept=True, intercept_scaling=1,\n",
       "                                 loss='squared_hinge', max_iter=1000,\n",
       "                                 multi_class='ovr', penalty='l2',\n",
       "                                 random_state=None, tol=0.0001, verbose=0),\n",
       "             iid='warn', n_jobs=-1,\n",
       "             param_grid=[{'C': [0.01, 0.1, 1],\n",
       "                          'multi_class': ['ovr', 'crammer_singer'],\n",
       "                          'penalty': ['l2']}],\n",
       "             pre_dispatch='2*n_jobs', refit=True, return_train_score=False,\n",
       "             scoring='accuracy', verbose=10)"
      ]
     },
     "execution_count": 38,
     "metadata": {},
     "output_type": "execute_result"
    }
   ],
   "source": [
    "gs_svm.fit(data, target)"
   ]
  },
  {
   "cell_type": "code",
   "execution_count": 39,
   "metadata": {},
   "outputs": [
    {
     "name": "stdout",
     "output_type": "stream",
     "text": [
      "LinearSVC(C=0.1, class_weight=None, dual=True, fit_intercept=True,\n",
      "          intercept_scaling=1, loss='squared_hinge', max_iter=1000,\n",
      "          multi_class='ovr', penalty='l2', random_state=None, tol=0.0001,\n",
      "          verbose=0) \n",
      "\n",
      "0.8481340234268592\n"
     ]
    }
   ],
   "source": [
    "print(gs_svm.best_estimator_, \"\\n\")\n",
    "print(gs_svm.best_score_)"
   ]
  },
  {
   "cell_type": "markdown",
   "metadata": {},
   "source": [
    "## Perceptron"
   ]
  },
  {
   "cell_type": "code",
   "execution_count": 40,
   "metadata": {},
   "outputs": [],
   "source": [
    "grid_params_perceptron = [\n",
    "    {\n",
    "        'penalty': ['none', 'l2', 'l1', 'elasticnet'],\n",
    "        'alpha': [0.00001, 0.00001, 0.0001, 0.001, 0.01],\n",
    "        'tol': [0.01, 0.001, 0.0001, 0.00001]\n",
    "    }\n",
    "]\n",
    "\n",
    "gs_perceptron = GridSearchCV(\n",
    "    Perceptron(),\n",
    "    grid_params_perceptron,\n",
    "    verbose=10,\n",
    "    cv=GroupKFold(n_splits=3).split(data, target, groups),\n",
    "    n_jobs=-1,\n",
    "    scoring='accuracy'\n",
    ")"
   ]
  },
  {
   "cell_type": "code",
   "execution_count": 41,
   "metadata": {},
   "outputs": [
    {
     "name": "stdout",
     "output_type": "stream",
     "text": [
      "Fitting 3 folds for each of 80 candidates, totalling 240 fits\n"
     ]
    },
    {
     "name": "stderr",
     "output_type": "stream",
     "text": [
      "[Parallel(n_jobs=-1)]: Using backend LokyBackend with 8 concurrent workers.\n",
      "[Parallel(n_jobs=-1)]: Batch computation too fast (0.1517s.) Setting batch_size=2.\n",
      "[Parallel(n_jobs=-1)]: Done   2 tasks      | elapsed:    0.2s\n",
      "[Parallel(n_jobs=-1)]: Done   9 tasks      | elapsed:    0.4s\n",
      "[Parallel(n_jobs=-1)]: Done  16 tasks      | elapsed:    0.6s\n",
      "[Parallel(n_jobs=-1)]: Done  34 tasks      | elapsed:    2.2s\n",
      "[Parallel(n_jobs=-1)]: Done  52 tasks      | elapsed:    3.2s\n",
      "[Parallel(n_jobs=-1)]: Batch computation too slow (2.0188s.) Setting batch_size=1.\n",
      "[Parallel(n_jobs=-1)]: Done  73 tasks      | elapsed:    4.4s\n",
      "[Parallel(n_jobs=-1)]: Done  90 tasks      | elapsed:    5.3s\n",
      "[Parallel(n_jobs=-1)]: Done 103 tasks      | elapsed:    5.9s\n",
      "[Parallel(n_jobs=-1)]: Done 116 tasks      | elapsed:    6.4s\n",
      "[Parallel(n_jobs=-1)]: Done 131 tasks      | elapsed:    7.8s\n",
      "[Parallel(n_jobs=-1)]: Done 146 tasks      | elapsed:    8.5s\n",
      "[Parallel(n_jobs=-1)]: Done 163 tasks      | elapsed:    9.1s\n",
      "[Parallel(n_jobs=-1)]: Done 180 tasks      | elapsed:   10.4s\n",
      "[Parallel(n_jobs=-1)]: Done 199 tasks      | elapsed:   11.4s\n",
      "[Parallel(n_jobs=-1)]: Done 218 tasks      | elapsed:   12.1s\n",
      "[Parallel(n_jobs=-1)]: Done 240 out of 240 | elapsed:   13.3s finished\n"
     ]
    },
    {
     "data": {
      "text/plain": [
       "GridSearchCV(cv=<generator object _BaseKFold.split at 0x7f4577d32c00>,\n",
       "             error_score='raise-deprecating',\n",
       "             estimator=Perceptron(alpha=0.0001, class_weight=None,\n",
       "                                  early_stopping=False, eta0=1.0,\n",
       "                                  fit_intercept=True, max_iter=1000,\n",
       "                                  n_iter_no_change=5, n_jobs=None, penalty=None,\n",
       "                                  random_state=0, shuffle=True, tol=0.001,\n",
       "                                  validation_fraction=0.1, verbose=0,\n",
       "                                  warm_start=False),\n",
       "             iid='warn', n_jobs=-1,\n",
       "             param_grid=[{'alpha': [1e-05, 1e-05, 0.0001, 0.001, 0.01],\n",
       "                          'penalty': ['none', 'l2', 'l1', 'elasticnet'],\n",
       "                          'tol': [0.01, 0.001, 0.0001, 1e-05]}],\n",
       "             pre_dispatch='2*n_jobs', refit=True, return_train_score=False,\n",
       "             scoring='accuracy', verbose=10)"
      ]
     },
     "execution_count": 41,
     "metadata": {},
     "output_type": "execute_result"
    }
   ],
   "source": [
    "gs_perceptron.fit(data, target)"
   ]
  },
  {
   "cell_type": "code",
   "execution_count": 42,
   "metadata": {},
   "outputs": [
    {
     "name": "stdout",
     "output_type": "stream",
     "text": [
      "Perceptron(alpha=1e-05, class_weight=None, early_stopping=False, eta0=1.0,\n",
      "           fit_intercept=True, max_iter=1000, n_iter_no_change=5, n_jobs=None,\n",
      "           penalty='l2', random_state=0, shuffle=True, tol=0.01,\n",
      "           validation_fraction=0.1, verbose=0, warm_start=False) \n",
      "\n",
      "0.8319259057477526\n"
     ]
    }
   ],
   "source": [
    "print(gs_perceptron.best_estimator_, \"\\n\")\n",
    "print(gs_perceptron.best_score_)"
   ]
  }
 ],
 "metadata": {
  "kernelspec": {
   "display_name": "Python 3",
   "language": "python",
   "name": "python3"
  },
  "language_info": {
   "codemirror_mode": {
    "name": "ipython",
    "version": 3
   },
   "file_extension": ".py",
   "mimetype": "text/x-python",
   "name": "python",
   "nbconvert_exporter": "python",
   "pygments_lexer": "ipython3",
   "version": "3.7.3"
  }
 },
 "nbformat": 4,
 "nbformat_minor": 2
}
