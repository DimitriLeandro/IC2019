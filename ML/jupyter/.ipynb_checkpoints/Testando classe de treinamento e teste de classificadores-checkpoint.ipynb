{
 "cells": [
  {
   "cell_type": "markdown",
   "metadata": {},
   "source": [
    "# Testando a classe de treinamento e teste de classificadores"
   ]
  },
  {
   "cell_type": "markdown",
   "metadata": {},
   "source": [
    "Esse jupyter tem como objetivo testar a classe \"treinarEClassificarClass.py\" que foi totalmente implementada no jupyter \"Implementacao de classe para treinamento e classificacao de CSVs\".\n",
    "\n",
    "Para usar a classe:\n",
    "\n",
    "1) Crie o caminho para o CSV de TREINAMENTO e abra-o como um pandas dataframe;\n",
    "\n",
    "2) Utilizando o dataframe de treinamento aberto, crie e treine os classificadores desejados;\n",
    "\n",
    "3) Crie o caminho para o CSV de TESTE, setando as váriaveis diretorio e nomeDataset;\n",
    "\n",
    "4) Classifique o dataset de TESTE aberto, especificando onde o JSON do relátorio deve ser salvo\n",
    "\n",
    "Os passos 3 e 4 podem ser repetidos caso se deseje classificar vários datasets de TESTE."
   ]
  },
  {
   "cell_type": "code",
   "execution_count": 1,
   "metadata": {},
   "outputs": [],
   "source": [
    "import pandas as pd"
   ]
  },
  {
   "cell_type": "code",
   "execution_count": 2,
   "metadata": {},
   "outputs": [],
   "source": [
    "import sys\n",
    "sys.path.append('/home/dimi/Programming/IC2019/ML/python')\n",
    "from treinarEClassificarClass import TreinarEClassificar"
   ]
  },
  {
   "cell_type": "markdown",
   "metadata": {},
   "source": [
    "### TREINO"
   ]
  },
  {
   "cell_type": "code",
   "execution_count": 3,
   "metadata": {
    "scrolled": true
   },
   "outputs": [
    {
     "name": "stdout",
     "output_type": "stream",
     "text": [
      "Começando o treinamento dos classificadores\n",
      "Instanciando um objeto da classe SGDClassifier()\n",
      "Instanciando um objeto da classe BaggingClassifier()\n",
      "Instanciando um objeto da classe KNeighborsClassifier(n_neighbors=3)\n",
      "Treinando o SGDClassifier\n",
      "Tempo de treinamento do SGDClassifier (segundos): 0.7896952629089355\n",
      "Treinando o BaggingClassifier\n",
      "Tempo de treinamento do BaggingClassifier (segundos): 6.419545412063599\n",
      "Treinando o KNeighborsClassifier\n",
      "Tempo de treinamento do KNeighborsClassifier (segundos): 0.05795621871948242\n",
      "Classificadores treinados\n"
     ]
    }
   ],
   "source": [
    "objTreinarEClassificar = TreinarEClassificar()\n",
    "\n",
    "# ABRINDO O CSV DE TREINO COM PANDAS\n",
    "caminhoCSVTreino = '/home/dimi/Programming/IC2019/ML/datasets/SESA/treino_original_semPCA.csv'\n",
    "dataframeTreino = pd.read_csv(caminhoCSVTreino) \n",
    "\n",
    "# CRIANDO E TREINANDO OS CLASIFICADORES\n",
    "arrayStringsClassificadores = [\"SGDClassifier()\",\"BaggingClassifier()\",\"KNeighborsClassifier(n_neighbors=3)\"]\n",
    "#arrayStringsClassificadores = [\"KNeighborsClassifier(n_neighbors=3)\"]\n",
    "arrayObjClassificadores = objTreinarEClassificar.criarETreinarClassificadores(dataframeTreino, arrayStringsClassificadores)"
   ]
  },
  {
   "cell_type": "markdown",
   "metadata": {},
   "source": [
    "### TESTES"
   ]
  },
  {
   "cell_type": "code",
   "execution_count": 4,
   "metadata": {},
   "outputs": [
    {
     "name": "stdout",
     "output_type": "stream",
     "text": [
      "Começando a classificar o dataset teste_original_semPCA\n",
      "Classificando com o  SGDClassifier\n",
      "Acurácia: 0.780952380952381\n",
      "Salvando as informações num JSON: relatorio_teste_original_semPCA_1580802310.9992013.json\n",
      "Classificando com o  BaggingClassifier\n",
      "Acurácia: 0.8666666666666667\n",
      "Salvando as informações num JSON: relatorio_teste_original_semPCA_1580802311.504218.json\n",
      "Classificando com o  KNeighborsClassifier\n",
      "Acurácia: 0.9238095238095239\n",
      "Salvando as informações num JSON: relatorio_teste_original_semPCA_1580802314.4443471.json\n",
      "O teste com todos os classificadores foi finalizado\n"
     ]
    }
   ],
   "source": [
    "# ABRINDO O CSV QUE EU DESEJO CLASSIFICAR - DATASET DE TESTE \n",
    "diretorio         = '/home/dimi/Programming/IC2019/ML/datasets/SESA/'\n",
    "nomeDatasetTeste  = 'teste_original_semPCA'\n",
    "caminhoCSVTeste   = diretorio + nomeDatasetTeste + '.csv'\n",
    "dataframeTeste    = pd.read_csv(caminhoCSVTeste)\n",
    "\n",
    "# CLASSIFICANDO O DATAFRAME DE TESTE\n",
    "objTreinarEClassificar.classificarDataframe(dataframeTeste, arrayObjClassificadores, diretorio, nomeDatasetTeste, verbose=False)"
   ]
  },
  {
   "cell_type": "code",
   "execution_count": 5,
   "metadata": {},
   "outputs": [
    {
     "name": "stdout",
     "output_type": "stream",
     "text": [
      "Começando a classificar o dataset teste_ruido0025_semBeamforming_semPCA\n",
      "Classificando com o  SGDClassifier\n"
     ]
    },
    {
     "name": "stderr",
     "output_type": "stream",
     "text": [
      "/home/dimi/venvIC/lib/python3.5/site-packages/sklearn/metrics/classification.py:1437: UndefinedMetricWarning: Precision and F-score are ill-defined and being set to 0.0 in labels with no predicted samples.\n",
      "  'precision', 'predicted', average, warn_for)\n"
     ]
    },
    {
     "name": "stdout",
     "output_type": "stream",
     "text": [
      "Acurácia: 0.49523809523809526\n",
      "Salvando as informações num JSON: relatorio_teste_ruido0025_semBeamforming_semPCA_1580802440.9179926.json\n",
      "Classificando com o  BaggingClassifier\n",
      "Acurácia: 0.5047619047619047\n",
      "Salvando as informações num JSON: relatorio_teste_ruido0025_semBeamforming_semPCA_1580802441.3825526.json\n",
      "Classificando com o  KNeighborsClassifier\n",
      "Acurácia: 0.6190476190476191\n",
      "Salvando as informações num JSON: relatorio_teste_ruido0025_semBeamforming_semPCA_1580802444.2911806.json\n",
      "O teste com todos os classificadores foi finalizado\n"
     ]
    }
   ],
   "source": [
    "# ABRINDO O CSV QUE EU DESEJO CLASSIFICAR - DATASET DE TESTE \n",
    "diretorio         = '/home/dimi/Programming/IC2019/ML/datasets/SESA/'\n",
    "nomeDatasetTeste  = 'teste_ruido0025_semBeamforming_semPCA'\n",
    "caminhoCSVTeste   = diretorio + nomeDatasetTeste + '.csv'\n",
    "dataframeTeste    = pd.read_csv(caminhoCSVTeste)\n",
    "\n",
    "# CLASSIFICANDO O DATAFRAME DE TESTE\n",
    "objTreinarEClassificar.classificarDataframe(dataframeTeste, arrayObjClassificadores, diretorio, nomeDatasetTeste, verbose=False)"
   ]
  },
  {
   "cell_type": "code",
   "execution_count": 6,
   "metadata": {},
   "outputs": [
    {
     "name": "stdout",
     "output_type": "stream",
     "text": [
      "Começando a classificar o dataset teste_ruido0025_beamforming_semPCA\n",
      "Classificando com o  SGDClassifier\n",
      "Acurácia: 0.49523809523809526\n",
      "Salvando as informações num JSON: relatorio_teste_ruido0025_beamforming_semPCA_1580802468.910975.json\n",
      "Classificando com o  BaggingClassifier\n",
      "Acurácia: 0.5238095238095238\n",
      "Salvando as informações num JSON: relatorio_teste_ruido0025_beamforming_semPCA_1580802469.388977.json\n",
      "Classificando com o  KNeighborsClassifier\n",
      "Acurácia: 0.7047619047619048\n",
      "Salvando as informações num JSON: relatorio_teste_ruido0025_beamforming_semPCA_1580802472.28101.json\n",
      "O teste com todos os classificadores foi finalizado\n"
     ]
    }
   ],
   "source": [
    "# ABRINDO O CSV QUE EU DESEJO CLASSIFICAR - DATASET DE TESTE \n",
    "diretorio         = '/home/dimi/Programming/IC2019/ML/datasets/SESA/'\n",
    "nomeDatasetTeste  = 'teste_ruido0025_beamforming_semPCA'\n",
    "caminhoCSVTeste   = diretorio + nomeDatasetTeste + '.csv'\n",
    "dataframeTeste    = pd.read_csv(caminhoCSVTeste)\n",
    "\n",
    "# CLASSIFICANDO O DATAFRAME DE TESTE\n",
    "objTreinarEClassificar.classificarDataframe(dataframeTeste, arrayObjClassificadores, diretorio, nomeDatasetTeste, verbose=False)"
   ]
  },
  {
   "cell_type": "code",
   "execution_count": 7,
   "metadata": {},
   "outputs": [
    {
     "name": "stdout",
     "output_type": "stream",
     "text": [
      "Começando a classificar o dataset teste_ruido0025_gsc_semPCA\n",
      "Classificando com o  SGDClassifier\n"
     ]
    },
    {
     "name": "stderr",
     "output_type": "stream",
     "text": [
      "/home/dimi/venvIC/lib/python3.5/site-packages/sklearn/metrics/classification.py:1437: UndefinedMetricWarning: Precision and F-score are ill-defined and being set to 0.0 in labels with no predicted samples.\n",
      "  'precision', 'predicted', average, warn_for)\n"
     ]
    },
    {
     "name": "stdout",
     "output_type": "stream",
     "text": [
      "Acurácia: 0.5523809523809524\n",
      "Salvando as informações num JSON: relatorio_teste_ruido0025_gsc_semPCA_1580802491.3834753.json\n",
      "Classificando com o  BaggingClassifier\n",
      "Acurácia: 0.5047619047619047\n",
      "Salvando as informações num JSON: relatorio_teste_ruido0025_gsc_semPCA_1580802491.8515754.json\n",
      "Classificando com o  KNeighborsClassifier\n",
      "Acurácia: 0.6761904761904762\n",
      "Salvando as informações num JSON: relatorio_teste_ruido0025_gsc_semPCA_1580802494.9160972.json\n",
      "O teste com todos os classificadores foi finalizado\n"
     ]
    }
   ],
   "source": [
    "# ABRINDO O CSV QUE EU DESEJO CLASSIFICAR - DATASET DE TESTE \n",
    "diretorio         = '/home/dimi/Programming/IC2019/ML/datasets/SESA/'\n",
    "nomeDatasetTeste  = 'teste_ruido0025_gsc_semPCA'\n",
    "caminhoCSVTeste   = diretorio + nomeDatasetTeste + '.csv'\n",
    "dataframeTeste    = pd.read_csv(caminhoCSVTeste)\n",
    "\n",
    "# CLASSIFICANDO O DATAFRAME DE TESTE\n",
    "objTreinarEClassificar.classificarDataframe(dataframeTeste, arrayObjClassificadores, diretorio, nomeDatasetTeste, verbose=False)"
   ]
  }
 ],
 "metadata": {
  "kernelspec": {
   "display_name": "Python 3",
   "language": "python",
   "name": "python3"
  },
  "language_info": {
   "codemirror_mode": {
    "name": "ipython",
    "version": 3
   },
   "file_extension": ".py",
   "mimetype": "text/x-python",
   "name": "python",
   "nbconvert_exporter": "python",
   "pygments_lexer": "ipython3",
   "version": "3.5.2"
  }
 },
 "nbformat": 4,
 "nbformat_minor": 2
}
