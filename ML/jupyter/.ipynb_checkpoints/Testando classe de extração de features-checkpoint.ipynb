{
 "cells": [
  {
   "cell_type": "markdown",
   "metadata": {},
   "source": [
    "# Testando a classe de extração de features"
   ]
  },
  {
   "cell_type": "markdown",
   "metadata": {},
   "source": [
    "Esse jupyter tem o objetivo de testar a classe de extração de features. Ela foi totalmente implementada no jupyter \"Implementação de classe para extração de features - SESA Dataset\", mas aqui nós vamos testar o arquivo .py que contém a classe.\n",
    "\n",
    "Para usar a classe é muito simples. Basta ter uma pasta com os arquivos wav que se deseja extrair as features (essa pasta só deve ter arquivos wav, nada mais), e definir os parâmetros iniciais, que são:\n",
    "\n",
    "1) Frequência de amostragem dos áudios da pasta;\n",
    "\n",
    "2) O tamanho do janelamento e da sobreposição que se deseja (em qtd de frames, não em segundos);\n",
    "\n",
    "3) Se deve ser feito o escalonamento das features após a extração (default True);\n",
    "\n",
    "4) Quantidade de componentes principais do PCA para fazer a redução de dimensinalidade (default None)\n",
    "\n",
    "Depois disso, basta instânciar um objeto da classe com esses parâmetros que o construtor se encarregará de fazer todo o trabalho. Ao final, haverá um arquivo CSV dentro da pasta em questão."
   ]
  },
  {
   "cell_type": "code",
   "execution_count": 1,
   "metadata": {},
   "outputs": [],
   "source": [
    "import sys\n",
    "sys.path.append('/home/dimi/Programming/IC2019/ML/python')\n",
    "from extrairFeaturesClass import ExtrairFeatures"
   ]
  },
  {
   "cell_type": "code",
   "execution_count": 7,
   "metadata": {},
   "outputs": [],
   "source": [
    "import librosa\n",
    "import os\n",
    "import warnings\n",
    "warnings.filterwarnings(\"ignore\")"
   ]
  },
  {
   "cell_type": "markdown",
   "metadata": {},
   "source": [
    "## Definindo parâmetros iniciais"
   ]
  },
  {
   "cell_type": "code",
   "execution_count": 10,
   "metadata": {},
   "outputs": [],
   "source": [
    "arrayDuracoes = []\n",
    "\n",
    "diretorio = \"/home/dimi/Downloads/Datasets/SESA/SESA_Normalizado/train/\"\n",
    "for arquivo in os.listdir(diretorio):\n",
    "    arrayDuracoes.append(librosa.get_duration(filename=diretorio + arquivo))\n",
    "\n",
    "diretorio = \"/home/dimi/Downloads/Datasets/SESA/SESA_Normalizado/test/\"\n",
    "for arquivo in os.listdir(diretorio):\n",
    "    arrayDuracoes.append(librosa.get_duration(filename=diretorio + arquivo))"
   ]
  },
  {
   "cell_type": "code",
   "execution_count": 11,
   "metadata": {},
   "outputs": [
    {
     "name": "stdout",
     "output_type": "stream",
     "text": [
      "Duração mínima: 1.0715625\n",
      "Duração máxima: 33.030375\n"
     ]
    }
   ],
   "source": [
    "print(\"Duração mínima:\", min(arrayDuracoes))\n",
    "print(\"Duração máxima:\", max(arrayDuracoes))"
   ]
  },
  {
   "cell_type": "code",
   "execution_count": 13,
   "metadata": {},
   "outputs": [
    {
     "name": "stdout",
     "output_type": "stream",
     "text": [
      "Frequência de amostragem do dataset:\t 16000\n",
      "Tamanho do janelamento (segundos):\t 1.0715625\n",
      "Tamanho do janelamento (amostras):\t 17145\n",
      "Tamanho da sobreposição (amostras):\t 8572\n"
     ]
    }
   ],
   "source": [
    "audioTesteDir = \"/home/dimi/Downloads/Datasets/SESA/SESA_Normalizado/test/casual_000.wav\" \n",
    "audioTeste, freqAmostragem = librosa.load(audioTesteDir, sr=None, mono=True)\n",
    "\n",
    "frameTime     = min(arrayDuracoes)\n",
    "overlapTime   = frameTime / 2\n",
    "\n",
    "frameLength   = int(freqAmostragem * frameTime)\n",
    "overlapLength = int(freqAmostragem * overlapTime)\n",
    "\n",
    "print(\"Frequência de amostragem do dataset:\\t\", freqAmostragem)\n",
    "print(\"Tamanho do janelamento (segundos):\\t\", frameTime)\n",
    "print(\"Tamanho do janelamento (amostras):\\t\", frameLength)\n",
    "print(\"Tamanho da sobreposição (amostras):\\t\", overlapLength)"
   ]
  },
  {
   "cell_type": "markdown",
   "metadata": {},
   "source": [
    "## Rodando a extração de features"
   ]
  },
  {
   "cell_type": "markdown",
   "metadata": {},
   "source": [
    "Como definido no momento em que a classes estava sendo criada, frameLength é o tamanho do menor áudio do dataset, overlapLength é a metade do frameLength."
   ]
  },
  {
   "cell_type": "code",
   "execution_count": 15,
   "metadata": {},
   "outputs": [
    {
     "name": "stdout",
     "output_type": "stream",
     "text": [
      "Extraindo features do arquivo 1 de 3 -> 33.33333333333333%\n",
      "Extraindo features do arquivo 2 de 3 -> 66.66666666666666%\n",
      "Extraindo features do arquivo 3 de 3 -> 100.0%\n",
      "Escalonando features\n",
      "Escrevendo CSV: /home/dimi/Downloads/Datasets/SESA/SESA_Normalizado/outros_aaa/SNR_30dB/testeSemBeamforming/1581542273.5953774.csv\n",
      "Operação finalizada\n",
      "Extraindo features do arquivo 1 de 3 -> 33.33333333333333%\n",
      "Extraindo features do arquivo 2 de 3 -> 66.66666666666666%\n",
      "Extraindo features do arquivo 3 de 3 -> 100.0%\n",
      "Escalonando features\n",
      "Escrevendo CSV: /home/dimi/Downloads/Datasets/SESA/SESA_Normalizado/outros_aaa/SNR_30dB/testeBeamforming/1581542278.2009938.csv\n",
      "Operação finalizada\n",
      "Extraindo features do arquivo 1 de 3 -> 33.33333333333333%\n",
      "Extraindo features do arquivo 2 de 3 -> 66.66666666666666%\n",
      "Extraindo features do arquivo 3 de 3 -> 100.0%\n",
      "Escalonando features\n",
      "Escrevendo CSV: /home/dimi/Downloads/Datasets/SESA/SESA_Normalizado/outros_aaa/SNR_30dB/testeGSC/1581542282.7730138.csv\n",
      "Operação finalizada\n",
      "Extraindo features do arquivo 1 de 3 -> 33.33333333333333%\n",
      "Extraindo features do arquivo 2 de 3 -> 66.66666666666666%\n",
      "Extraindo features do arquivo 3 de 3 -> 100.0%\n",
      "Escalonando features\n",
      "Escrevendo CSV: /home/dimi/Downloads/Datasets/SESA/SESA_Normalizado/outros_aaa/SNR_29dB/testeSemBeamforming/1581542287.5756795.csv\n",
      "Operação finalizada\n",
      "Extraindo features do arquivo 1 de 3 -> 33.33333333333333%\n",
      "Extraindo features do arquivo 2 de 3 -> 66.66666666666666%\n",
      "Extraindo features do arquivo 3 de 3 -> 100.0%\n",
      "Escalonando features\n",
      "Escrevendo CSV: /home/dimi/Downloads/Datasets/SESA/SESA_Normalizado/outros_aaa/SNR_29dB/testeBeamforming/1581542292.5031276.csv\n",
      "Operação finalizada\n",
      "Extraindo features do arquivo 1 de 3 -> 33.33333333333333%\n",
      "Extraindo features do arquivo 2 de 3 -> 66.66666666666666%\n",
      "Extraindo features do arquivo 3 de 3 -> 100.0%\n",
      "Escalonando features\n",
      "Escrevendo CSV: /home/dimi/Downloads/Datasets/SESA/SESA_Normalizado/outros_aaa/SNR_29dB/testeGSC/1581542297.442905.csv\n",
      "Operação finalizada\n",
      "Extraindo features do arquivo 1 de 3 -> 33.33333333333333%\n",
      "Extraindo features do arquivo 2 de 3 -> 66.66666666666666%\n",
      "Extraindo features do arquivo 3 de 3 -> 100.0%\n",
      "Escalonando features\n",
      "Escrevendo CSV: /home/dimi/Downloads/Datasets/SESA/SESA_Normalizado/outros_aaa/SNR_28dB/testeSemBeamforming/1581542302.2300234.csv\n",
      "Operação finalizada\n",
      "Extraindo features do arquivo 1 de 3 -> 33.33333333333333%\n",
      "Extraindo features do arquivo 2 de 3 -> 66.66666666666666%\n",
      "Extraindo features do arquivo 3 de 3 -> 100.0%\n",
      "Escalonando features\n",
      "Escrevendo CSV: /home/dimi/Downloads/Datasets/SESA/SESA_Normalizado/outros_aaa/SNR_28dB/testeBeamforming/1581542307.1222022.csv\n",
      "Operação finalizada\n",
      "Extraindo features do arquivo 1 de 3 -> 33.33333333333333%\n",
      "Extraindo features do arquivo 2 de 3 -> 66.66666666666666%\n",
      "Extraindo features do arquivo 3 de 3 -> 100.0%\n",
      "Escalonando features\n",
      "Escrevendo CSV: /home/dimi/Downloads/Datasets/SESA/SESA_Normalizado/outros_aaa/SNR_28dB/testeGSC/1581542311.868208.csv\n",
      "Operação finalizada\n"
     ]
    },
    {
     "ename": "FileNotFoundError",
     "evalue": "[Errno 2] No such file or directory: '/home/dimi/Downloads/Datasets/SESA/SESA_Normalizado/outros_aaa/SNR_27dB/testeSemBeamforming/'",
     "output_type": "error",
     "traceback": [
      "\u001b[0;31m---------------------------------------------------------------------------\u001b[0m",
      "\u001b[0;31mFileNotFoundError\u001b[0m                         Traceback (most recent call last)",
      "\u001b[0;32m<ipython-input-15-6e9386511318>\u001b[0m in \u001b[0;36m<module>\u001b[0;34m\u001b[0m\n\u001b[1;32m     14\u001b[0m \u001b[0;34m\u001b[0m\u001b[0m\n\u001b[1;32m     15\u001b[0m     \u001b[0;31m# EXTRAINDO SEM BEAMFORMING, COM BEAMFORMING E GSC\u001b[0m\u001b[0;34m\u001b[0m\u001b[0;34m\u001b[0m\u001b[0;34m\u001b[0m\u001b[0m\n\u001b[0;32m---> 16\u001b[0;31m     \u001b[0mExtrairFeatures\u001b[0m\u001b[0;34m(\u001b[0m\u001b[0mpastaSNRAtual\u001b[0m \u001b[0;34m+\u001b[0m \u001b[0;34m\"testeSemBeamforming/\"\u001b[0m\u001b[0;34m,\u001b[0m \u001b[0mfreqAmostragem\u001b[0m\u001b[0;34m,\u001b[0m \u001b[0mframeLength\u001b[0m\u001b[0;34m,\u001b[0m \u001b[0moverlapLength\u001b[0m\u001b[0;34m,\u001b[0m \u001b[0mescalonamento\u001b[0m\u001b[0;34m,\u001b[0m \u001b[0mnDimensoes\u001b[0m\u001b[0;34m)\u001b[0m\u001b[0;34m\u001b[0m\u001b[0;34m\u001b[0m\u001b[0m\n\u001b[0m\u001b[1;32m     17\u001b[0m     \u001b[0mExtrairFeatures\u001b[0m\u001b[0;34m(\u001b[0m\u001b[0mpastaSNRAtual\u001b[0m \u001b[0;34m+\u001b[0m \u001b[0;34m\"testeBeamforming/\"\u001b[0m\u001b[0;34m,\u001b[0m \u001b[0mfreqAmostragem\u001b[0m\u001b[0;34m,\u001b[0m \u001b[0mframeLength\u001b[0m\u001b[0;34m,\u001b[0m \u001b[0moverlapLength\u001b[0m\u001b[0;34m,\u001b[0m \u001b[0mescalonamento\u001b[0m\u001b[0;34m,\u001b[0m \u001b[0mnDimensoes\u001b[0m\u001b[0;34m)\u001b[0m\u001b[0;34m\u001b[0m\u001b[0;34m\u001b[0m\u001b[0m\n\u001b[1;32m     18\u001b[0m     \u001b[0mExtrairFeatures\u001b[0m\u001b[0;34m(\u001b[0m\u001b[0mpastaSNRAtual\u001b[0m \u001b[0;34m+\u001b[0m \u001b[0;34m\"testeGSC/\"\u001b[0m\u001b[0;34m,\u001b[0m \u001b[0mfreqAmostragem\u001b[0m\u001b[0;34m,\u001b[0m \u001b[0mframeLength\u001b[0m\u001b[0;34m,\u001b[0m \u001b[0moverlapLength\u001b[0m\u001b[0;34m,\u001b[0m \u001b[0mescalonamento\u001b[0m\u001b[0;34m,\u001b[0m \u001b[0mnDimensoes\u001b[0m\u001b[0;34m)\u001b[0m\u001b[0;34m\u001b[0m\u001b[0;34m\u001b[0m\u001b[0m\n",
      "\u001b[0;32m~/Programming/IC2019/ML/python/extrairFeaturesClass.py\u001b[0m in \u001b[0;36m__init__\u001b[0;34m(self, diretorio, freqAmostragem, frameLength, overlapLength, escalonamento, nDimensoes)\u001b[0m\n\u001b[1;32m     31\u001b[0m         \u001b[0;32mdef\u001b[0m \u001b[0m__init__\u001b[0m\u001b[0;34m(\u001b[0m\u001b[0mself\u001b[0m\u001b[0;34m,\u001b[0m \u001b[0mdiretorio\u001b[0m\u001b[0;34m,\u001b[0m \u001b[0mfreqAmostragem\u001b[0m\u001b[0;34m,\u001b[0m \u001b[0mframeLength\u001b[0m\u001b[0;34m,\u001b[0m \u001b[0moverlapLength\u001b[0m\u001b[0;34m,\u001b[0m \u001b[0mescalonamento\u001b[0m\u001b[0;34m=\u001b[0m\u001b[0;32mTrue\u001b[0m\u001b[0;34m,\u001b[0m \u001b[0mnDimensoes\u001b[0m\u001b[0;34m=\u001b[0m\u001b[0;32mNone\u001b[0m\u001b[0;34m)\u001b[0m\u001b[0;34m:\u001b[0m\u001b[0;34m\u001b[0m\u001b[0;34m\u001b[0m\u001b[0m\n\u001b[1;32m     32\u001b[0m                 \u001b[0;31m# PRIMEIRO EU CRIO O DATAFRAME DE TODOS OS AUDIOS DA PASTA\u001b[0m\u001b[0;34m\u001b[0m\u001b[0;34m\u001b[0m\u001b[0;34m\u001b[0m\u001b[0m\n\u001b[0;32m---> 33\u001b[0;31m                 \u001b[0mdataframeGeral\u001b[0m \u001b[0;34m=\u001b[0m \u001b[0mself\u001b[0m\u001b[0;34m.\u001b[0m\u001b[0mmontarDataframeTodosOsAudios\u001b[0m\u001b[0;34m(\u001b[0m\u001b[0mdiretorio\u001b[0m\u001b[0;34m,\u001b[0m \u001b[0mfreqAmostragem\u001b[0m\u001b[0;34m,\u001b[0m \u001b[0mframeLength\u001b[0m\u001b[0;34m,\u001b[0m \u001b[0moverlapLength\u001b[0m\u001b[0;34m)\u001b[0m\u001b[0;34m\u001b[0m\u001b[0;34m\u001b[0m\u001b[0m\n\u001b[0m\u001b[1;32m     34\u001b[0m \u001b[0;34m\u001b[0m\u001b[0m\n\u001b[1;32m     35\u001b[0m                 \u001b[0;31m# DEPOIS EU ESCALONO AS FEATURES\u001b[0m\u001b[0;34m\u001b[0m\u001b[0;34m\u001b[0m\u001b[0;34m\u001b[0m\u001b[0m\n",
      "\u001b[0;32m~/Programming/IC2019/ML/python/extrairFeaturesClass.py\u001b[0m in \u001b[0;36mmontarDataframeTodosOsAudios\u001b[0;34m(self, diretorio, freqAmostragem, frameLength, overlapLength)\u001b[0m\n\u001b[1;32m    163\u001b[0m \u001b[0;34m\u001b[0m\u001b[0m\n\u001b[1;32m    164\u001b[0m                 \u001b[0;31m# CRIANDO O ARRAY COM O NOME DOS ARQUIVOS\u001b[0m\u001b[0;34m\u001b[0m\u001b[0;34m\u001b[0m\u001b[0;34m\u001b[0m\u001b[0m\n\u001b[0;32m--> 165\u001b[0;31m                 \u001b[0marrayNomeArquivos\u001b[0m \u001b[0;34m=\u001b[0m \u001b[0mos\u001b[0m\u001b[0;34m.\u001b[0m\u001b[0mlistdir\u001b[0m\u001b[0;34m(\u001b[0m\u001b[0mdiretorio\u001b[0m\u001b[0;34m)\u001b[0m\u001b[0;34m\u001b[0m\u001b[0;34m\u001b[0m\u001b[0m\n\u001b[0m\u001b[1;32m    166\u001b[0m \u001b[0;34m\u001b[0m\u001b[0m\n\u001b[1;32m    167\u001b[0m                 \u001b[0;31m# PEGANDO O TOTAL DE ARQUIVOS NA PASTA APENAS PARA FINS DE PRINT\u001b[0m\u001b[0;34m\u001b[0m\u001b[0;34m\u001b[0m\u001b[0;34m\u001b[0m\u001b[0m\n",
      "\u001b[0;31mFileNotFoundError\u001b[0m: [Errno 2] No such file or directory: '/home/dimi/Downloads/Datasets/SESA/SESA_Normalizado/outros_aaa/SNR_27dB/testeSemBeamforming/'"
     ]
    }
   ],
   "source": [
    "# DEFININDO PARAMETROS INICIAIS\n",
    "pastaRaiz      = '/home/dimi/Downloads/Datasets/SESA/SESA_Normalizado/outros/'\n",
    "freqAmostragem = 16000\n",
    "frameLength    = 17145\n",
    "overlapLength  = 8572\n",
    "escalonamento  = True\n",
    "nDimensoes     = None\n",
    "\n",
    "# EXTRAINDO DE TODAS AS PASTAS DE SNR\n",
    "for snrAtual in range(30, -1, -1):\n",
    "    \n",
    "    # CRIANDO O CAMINHO PARA A PASTA DE SNR ATUAL\n",
    "    pastaSNRAtual = pastaRaiz + \"SNR_\" + str(snrAtual) + \"dB/\"\n",
    "\n",
    "    # EXTRAINDO SEM BEAMFORMING, COM BEAMFORMING E GSC\n",
    "    ExtrairFeatures(pastaSNRAtual + \"testeSemBeamforming/\", freqAmostragem, frameLength, overlapLength, escalonamento, nDimensoes)\n",
    "    ExtrairFeatures(pastaSNRAtual + \"testeBeamforming/\", freqAmostragem, frameLength, overlapLength, escalonamento, nDimensoes)\n",
    "    ExtrairFeatures(pastaSNRAtual + \"testeGSC/\", freqAmostragem, frameLength, overlapLength, escalonamento, nDimensoes)"
   ]
  },
  {
   "cell_type": "code",
   "execution_count": null,
   "metadata": {},
   "outputs": [],
   "source": []
  }
 ],
 "metadata": {
  "kernelspec": {
   "display_name": "Python 3",
   "language": "python",
   "name": "python3"
  },
  "language_info": {
   "codemirror_mode": {
    "name": "ipython",
    "version": 3
   },
   "file_extension": ".py",
   "mimetype": "text/x-python",
   "name": "python",
   "nbconvert_exporter": "python",
   "pygments_lexer": "ipython3",
   "version": "3.7.3"
  }
 },
 "nbformat": 4,
 "nbformat_minor": 2
}
