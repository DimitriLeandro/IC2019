{
 "cells": [
  {
   "cell_type": "markdown",
   "metadata": {},
   "source": [
    "# CRIAÇÃO DA CLASSE DE EXTRAÇÃO DE FEATURES"
   ]
  },
  {
   "cell_type": "markdown",
   "metadata": {},
   "source": [
    "Esse jupyter tem como objetivo implementar o maior número possível de funções para extração de features. Essas funções serão testadas para que depois possa ser criada uma classe."
   ]
  },
  {
   "cell_type": "code",
   "execution_count": 1,
   "metadata": {},
   "outputs": [],
   "source": [
    "import os\n",
    "import librosa\n",
    "import numpy as np\n",
    "import pandas as pd\n",
    "import time\n",
    "from sklearn.preprocessing import StandardScaler\n",
    "from sklearn.decomposition import PCA\n",
    "from IPython.display import Audio"
   ]
  },
  {
   "cell_type": "markdown",
   "metadata": {},
   "source": [
    "## Tamanho do janelamento"
   ]
  },
  {
   "cell_type": "markdown",
   "metadata": {},
   "source": [
    "É preciso analisar o dataset para verificar qual vai ser o tamanho do janelamento. Para garantir que o processamento seja o mais rápido possível, o tamanho da janela será o tamanho do menor áudio.\n",
    "\n",
    "As células abaixo verificarão qual é o tamanho do menor arquivo do dataset."
   ]
  },
  {
   "cell_type": "code",
   "execution_count": 2,
   "metadata": {},
   "outputs": [
    {
     "ename": "NoBackendError",
     "evalue": "",
     "output_type": "error",
     "traceback": [
      "\u001b[0;31m---------------------------------------------------------------------------\u001b[0m",
      "\u001b[0;31mNoBackendError\u001b[0m                            Traceback (most recent call last)",
      "\u001b[0;32m<ipython-input-2-e5e07ab669bd>\u001b[0m in \u001b[0;36m<module>\u001b[0;34m\u001b[0m\n\u001b[1;32m      7\u001b[0m \u001b[0mdiretorio\u001b[0m \u001b[0;34m=\u001b[0m \u001b[0;34m\"/home/dimi/Downloads/SESA/train/\"\u001b[0m\u001b[0;34m\u001b[0m\u001b[0;34m\u001b[0m\u001b[0m\n\u001b[1;32m      8\u001b[0m \u001b[0;32mfor\u001b[0m \u001b[0marquivo\u001b[0m \u001b[0;32min\u001b[0m \u001b[0mos\u001b[0m\u001b[0;34m.\u001b[0m\u001b[0mlistdir\u001b[0m\u001b[0;34m(\u001b[0m\u001b[0mdiretorio\u001b[0m\u001b[0;34m)\u001b[0m\u001b[0;34m:\u001b[0m\u001b[0;34m\u001b[0m\u001b[0;34m\u001b[0m\u001b[0m\n\u001b[0;32m----> 9\u001b[0;31m     \u001b[0marrayDuracoes\u001b[0m\u001b[0;34m.\u001b[0m\u001b[0mappend\u001b[0m\u001b[0;34m(\u001b[0m\u001b[0mlibrosa\u001b[0m\u001b[0;34m.\u001b[0m\u001b[0mget_duration\u001b[0m\u001b[0;34m(\u001b[0m\u001b[0mfilename\u001b[0m\u001b[0;34m=\u001b[0m\u001b[0mdiretorio\u001b[0m \u001b[0;34m+\u001b[0m \u001b[0marquivo\u001b[0m\u001b[0;34m)\u001b[0m\u001b[0;34m)\u001b[0m\u001b[0;34m\u001b[0m\u001b[0;34m\u001b[0m\u001b[0m\n\u001b[0m",
      "\u001b[0;32m~/venvIC/lib/python3.6/site-packages/librosa/core/audio.py\u001b[0m in \u001b[0;36mget_duration\u001b[0;34m(y, sr, S, n_fft, hop_length, center, filename)\u001b[0m\n\u001b[1;32m    381\u001b[0m \u001b[0;34m\u001b[0m\u001b[0m\n\u001b[1;32m    382\u001b[0m     \u001b[0;32mif\u001b[0m \u001b[0mfilename\u001b[0m \u001b[0;32mis\u001b[0m \u001b[0;32mnot\u001b[0m \u001b[0;32mNone\u001b[0m\u001b[0;34m:\u001b[0m\u001b[0;34m\u001b[0m\u001b[0;34m\u001b[0m\u001b[0m\n\u001b[0;32m--> 383\u001b[0;31m         \u001b[0;32mwith\u001b[0m \u001b[0maudioread\u001b[0m\u001b[0;34m.\u001b[0m\u001b[0maudio_open\u001b[0m\u001b[0;34m(\u001b[0m\u001b[0mfilename\u001b[0m\u001b[0;34m)\u001b[0m \u001b[0;32mas\u001b[0m \u001b[0mfdesc\u001b[0m\u001b[0;34m:\u001b[0m\u001b[0;34m\u001b[0m\u001b[0;34m\u001b[0m\u001b[0m\n\u001b[0m\u001b[1;32m    384\u001b[0m             \u001b[0;32mreturn\u001b[0m \u001b[0mfdesc\u001b[0m\u001b[0;34m.\u001b[0m\u001b[0mduration\u001b[0m\u001b[0;34m\u001b[0m\u001b[0;34m\u001b[0m\u001b[0m\n\u001b[1;32m    385\u001b[0m \u001b[0;34m\u001b[0m\u001b[0m\n",
      "\u001b[0;32m~/venvIC/lib/python3.6/site-packages/audioread/__init__.py\u001b[0m in \u001b[0;36maudio_open\u001b[0;34m(path, backends)\u001b[0m\n\u001b[1;32m    114\u001b[0m \u001b[0;34m\u001b[0m\u001b[0m\n\u001b[1;32m    115\u001b[0m     \u001b[0;31m# All backends failed!\u001b[0m\u001b[0;34m\u001b[0m\u001b[0;34m\u001b[0m\u001b[0;34m\u001b[0m\u001b[0m\n\u001b[0;32m--> 116\u001b[0;31m     \u001b[0;32mraise\u001b[0m \u001b[0mNoBackendError\u001b[0m\u001b[0;34m(\u001b[0m\u001b[0;34m)\u001b[0m\u001b[0;34m\u001b[0m\u001b[0;34m\u001b[0m\u001b[0m\n\u001b[0m",
      "\u001b[0;31mNoBackendError\u001b[0m: "
     ]
    }
   ],
   "source": [
    "arrayDuracoes = []\n",
    "\n",
    "diretorio = \"/home/dimi/Downloads/SESA/test/\"\n",
    "for arquivo in os.listdir(diretorio):\n",
    "    arrayDuracoes.append(librosa.get_duration(filename=diretorio + arquivo))\n",
    "\n",
    "diretorio = \"/home/dimi/Downloads/SESA/train/\"\n",
    "for arquivo in os.listdir(diretorio):\n",
    "    arrayDuracoes.append(librosa.get_duration(filename=diretorio + arquivo))"
   ]
  },
  {
   "cell_type": "code",
   "execution_count": null,
   "metadata": {
    "scrolled": false
   },
   "outputs": [],
   "source": [
    "print(\"Duração mínima:\", min(arrayDuracoes))\n",
    "print(\"Duração máxima:\", max(arrayDuracoes))"
   ]
  },
  {
   "cell_type": "markdown",
   "metadata": {},
   "source": [
    "A célula abaixo vai setar o valor da variável do janelamento. FRAME_TIME e OVERLAP_TIME estarão em segundos, já FRAME_LENGTH e OVERLAP_LENGTH estarão em amostras."
   ]
  },
  {
   "cell_type": "code",
   "execution_count": null,
   "metadata": {
    "scrolled": true
   },
   "outputs": [],
   "source": [
    "audioTesteDir = \"/home/dimi/Downloads/SESA/train/casual_042.wav\" \n",
    "audioTeste, freqAmostragem = librosa.load(audioTesteDir, sr=None, mono=True)\n",
    "\n",
    "frameTime     = min(arrayDuracoes)\n",
    "overlapTime   = frameTime / 2\n",
    "\n",
    "frameLength   = int(freqAmostragem * frameTime)\n",
    "overlapLength = int(freqAmostragem * overlapTime)\n",
    "\n",
    "print(\"Frequência de amostragem do dataset:\\t\", freqAmostragem)\n",
    "print(\"Tamanho do janelamento (segundos):\\t\", frameTime)\n",
    "print(\"Tamanho do janelamento (amostras):\\t\", frameLength)"
   ]
  },
  {
   "cell_type": "markdown",
   "metadata": {},
   "source": [
    "## Criando e testando as funções que vão extrair as features"
   ]
  },
  {
   "cell_type": "markdown",
   "metadata": {},
   "source": [
    "Para testar as funções, vou utilizar um áudio qualquer, que já foi definido na célula anterior."
   ]
  },
  {
   "cell_type": "code",
   "execution_count": null,
   "metadata": {},
   "outputs": [],
   "source": [
    "print(\"Tamanho do áudio teste (amostras):\\t\", len(audioTeste))\n",
    "print(\"Tamanho do janelamento (amostras):\\t\", frameLength)\n",
    "\n",
    "# PARA SABER O NÚMERO DE JANELAS, TENHO QUE MULTIPLICAR POR 2 ALÍ PQ AINDA TEM A SOBREPOSIÇÃO\n",
    "# E SOMAR UM PQ SEMPRE VAI SOBRAR UM TECO\n",
    "print(\"\\nQtd de janelas do áudio de teste:\\t\", 1 + 2*int(len(audioTeste)/frameLength))"
   ]
  },
  {
   "cell_type": "markdown",
   "metadata": {},
   "source": [
    "### Features unitárias por janela"
   ]
  },
  {
   "cell_type": "markdown",
   "metadata": {},
   "source": [
    "Primeiro, vou criar as funções para extrair as features que retornam somente um valor para cada janela do áudio. Vou deixar MFCCs, Chromas e Contrastes pra depois."
   ]
  },
  {
   "cell_type": "markdown",
   "metadata": {},
   "source": [
    "#### RMS"
   ]
  },
  {
   "cell_type": "code",
   "execution_count": null,
   "metadata": {},
   "outputs": [],
   "source": [
    "def extrairRMS(sinal, frameLength, overlapLength):\n",
    "    return librosa.feature.rms(y=sinal, frame_length=frameLength, hop_length=overlapLength)"
   ]
  },
  {
   "cell_type": "code",
   "execution_count": null,
   "metadata": {},
   "outputs": [],
   "source": [
    "rms = extrairRMS(audioTeste, frameLength, overlapLength)\n",
    "print(\"Total:\", len(rms[0]))\n",
    "print(rms)"
   ]
  },
  {
   "cell_type": "markdown",
   "metadata": {},
   "source": [
    "#### Centróide Espectral"
   ]
  },
  {
   "cell_type": "code",
   "execution_count": null,
   "metadata": {},
   "outputs": [],
   "source": [
    "def extrairCentroideEspectral(sinal, freqAmostragem, frameLength, overlapLength):\n",
    "    return librosa.feature.spectral_centroid(y=sinal, sr=freqAmostragem, n_fft=frameLength, hop_length=overlapLength)"
   ]
  },
  {
   "cell_type": "code",
   "execution_count": null,
   "metadata": {},
   "outputs": [],
   "source": [
    "centroideEspectral = extrairCentroideEspectral(audioTeste, freqAmostragem, frameLength, overlapLength)\n",
    "print(\"Total:\", len(centroideEspectral[0]))\n",
    "print(centroideEspectral)"
   ]
  },
  {
   "cell_type": "markdown",
   "metadata": {},
   "source": [
    "#### Largura de banda espectral"
   ]
  },
  {
   "cell_type": "code",
   "execution_count": null,
   "metadata": {},
   "outputs": [],
   "source": [
    "def extrairLarguraBanda(sinal, freqAmostragem, frameLength, overlapLength):\n",
    "    return librosa.feature.spectral_bandwidth(y=sinal, sr= freqAmostragem, n_fft=frameLength, hop_length=overlapLength)"
   ]
  },
  {
   "cell_type": "code",
   "execution_count": null,
   "metadata": {},
   "outputs": [],
   "source": [
    "larguraBanda = extrairLarguraBanda(audioTeste, freqAmostragem, frameLength, overlapLength)\n",
    "print(\"Total:\", len(larguraBanda[0]))\n",
    "print(larguraBanda)"
   ]
  },
  {
   "cell_type": "markdown",
   "metadata": {},
   "source": [
    "#### Planicidade espectral"
   ]
  },
  {
   "cell_type": "code",
   "execution_count": null,
   "metadata": {},
   "outputs": [],
   "source": [
    "def extrairPlanicidade(sinal, frameLength, overlapLength):\n",
    "    return librosa.feature.spectral_flatness(y=sinal, n_fft=frameLength, hop_length=overlapLength)"
   ]
  },
  {
   "cell_type": "code",
   "execution_count": null,
   "metadata": {},
   "outputs": [],
   "source": [
    "planicidade = extrairPlanicidade(audioTeste, frameLength, overlapLength)\n",
    "print(\"Total:\", len(planicidade[0]))\n",
    "print(planicidade)"
   ]
  },
  {
   "cell_type": "markdown",
   "metadata": {},
   "source": [
    "#### Rolloff espectral"
   ]
  },
  {
   "cell_type": "code",
   "execution_count": null,
   "metadata": {},
   "outputs": [],
   "source": [
    "def extrairRolloff(sinal, freqAmostragem, frameLength, overlapLength):\n",
    "    return librosa.feature.spectral_rolloff(y=sinal, sr= freqAmostragem, n_fft=frameLength, hop_length=overlapLength)"
   ]
  },
  {
   "cell_type": "code",
   "execution_count": null,
   "metadata": {},
   "outputs": [],
   "source": [
    "rolloff = extrairRolloff(audioTeste, freqAmostragem, frameLength, overlapLength)\n",
    "print(\"Total:\", len(rolloff[0]))\n",
    "print(rolloff)"
   ]
  },
  {
   "cell_type": "markdown",
   "metadata": {},
   "source": [
    "#### Taxa de cruzamentos por zero"
   ]
  },
  {
   "cell_type": "code",
   "execution_count": null,
   "metadata": {},
   "outputs": [],
   "source": [
    "def extrairZCR(sinal, frameLength, overlapLength):\n",
    "    return librosa.feature.zero_crossing_rate(y=sinal, frame_length=frameLength, hop_length=overlapLength)"
   ]
  },
  {
   "cell_type": "code",
   "execution_count": null,
   "metadata": {},
   "outputs": [],
   "source": [
    "zcr = extrairZCR(audioTeste, frameLength, overlapLength)\n",
    "print(\"Total:\", len(zcr[0]))\n",
    "print(zcr)"
   ]
  },
  {
   "cell_type": "markdown",
   "metadata": {},
   "source": [
    "### Features não unitárias por janela"
   ]
  },
  {
   "cell_type": "markdown",
   "metadata": {},
   "source": [
    "Agora sim é hora de extrair os MFCCs, Chromas e Contrastes."
   ]
  },
  {
   "cell_type": "markdown",
   "metadata": {},
   "source": [
    "#### MFCC"
   ]
  },
  {
   "cell_type": "markdown",
   "metadata": {},
   "source": [
    "A função do MFCC retorna uma matriz, e ela será necessária para calcular os deltas e delta deltas, mas, na verdade, o MFCC que será colocado no array de features é uma média de cada linha da matriz. Por isso, primeiro vamos criar uma matriz do MFCC, e só depois a função extrairMediaMFCC vai fazer a média."
   ]
  },
  {
   "cell_type": "code",
   "execution_count": null,
   "metadata": {},
   "outputs": [],
   "source": [
    "def extrairMatrizMFCC(sinal, freqAmostragem):\n",
    "    return librosa.feature.mfcc(y=sinal, sr=freqAmostragem)"
   ]
  },
  {
   "cell_type": "code",
   "execution_count": null,
   "metadata": {},
   "outputs": [],
   "source": [
    "matrizMFCC = extrairMatrizMFCC(audioTeste, freqAmostragem)\n",
    "\n",
    "print(\"Qtd linhas (MFCCs):\", len(matrizMFCC))\n",
    "print(\"Qtd de valores em cada linha:\", len(matrizMFCC[0]))"
   ]
  },
  {
   "cell_type": "code",
   "execution_count": null,
   "metadata": {},
   "outputs": [],
   "source": [
    "def extrairMFCCs(matrizMFCC):\n",
    "    \n",
    "    arrayMFCCs = []\n",
    "    \n",
    "    for linha in matrizMFCC:\n",
    "        arrayMFCCs.append(np.mean(linha))\n",
    "        \n",
    "    return arrayMFCCs"
   ]
  },
  {
   "cell_type": "code",
   "execution_count": null,
   "metadata": {},
   "outputs": [],
   "source": [
    "MFCCs = extrairMFCCs(matrizMFCC)\n",
    "\n",
    "print(\"Qtd de MFCCs:\", len(MFCCs))\n",
    "print(MFCCs)"
   ]
  },
  {
   "cell_type": "markdown",
   "metadata": {},
   "source": [
    "#### MFCC Delta"
   ]
  },
  {
   "cell_type": "markdown",
   "metadata": {},
   "source": [
    "Assim como o MFCC, a função do librosa que extrai os deltas retorna uma matriz. A função abaixo retorna a média de cada linha dessa matriz."
   ]
  },
  {
   "cell_type": "code",
   "execution_count": null,
   "metadata": {},
   "outputs": [],
   "source": [
    "def extrairDeltas(matrizMFCC):\n",
    "    matrizDelta = librosa.feature.delta(matrizMFCC, order=1)\n",
    "\n",
    "    arrayDelta = []\n",
    "\n",
    "    for linha in matrizDelta:\n",
    "        arrayDelta.append(np.mean(linha))\n",
    "\n",
    "    return arrayDelta"
   ]
  },
  {
   "cell_type": "code",
   "execution_count": null,
   "metadata": {},
   "outputs": [],
   "source": [
    "deltas = extrairDeltas(matrizMFCC)\n",
    "\n",
    "print(\"Qtd de deltas:\", len(deltas))\n",
    "print(deltas)"
   ]
  },
  {
   "cell_type": "markdown",
   "metadata": {},
   "source": [
    "#### MFCC Delta Delta"
   ]
  },
  {
   "cell_type": "code",
   "execution_count": null,
   "metadata": {},
   "outputs": [],
   "source": [
    "def extrairDeltaDeltas(matrizMFCC):\n",
    "    matrizDeltaDelta = librosa.feature.delta(matrizMFCC, order=2)\n",
    "\n",
    "    arrayDeltaDelta = []\n",
    "\n",
    "    for linha in matrizDeltaDelta:\n",
    "        arrayDeltaDelta.append(np.mean(linha))\n",
    "\n",
    "    return arrayDeltaDelta"
   ]
  },
  {
   "cell_type": "code",
   "execution_count": null,
   "metadata": {},
   "outputs": [],
   "source": [
    "deltaDeltas = extrairDeltaDeltas(matrizMFCC)\n",
    "\n",
    "print(\"Qtd de delta deltas:\", len(deltaDeltas))\n",
    "print(deltaDeltas)"
   ]
  },
  {
   "cell_type": "markdown",
   "metadata": {},
   "source": [
    "#### Mel Espectrograma"
   ]
  },
  {
   "cell_type": "markdown",
   "metadata": {},
   "source": [
    "Essa também retorna uma matriz, mas ela vem invertida, tenho que tirar a média de cada COLUNA."
   ]
  },
  {
   "cell_type": "code",
   "execution_count": null,
   "metadata": {},
   "outputs": [],
   "source": [
    "def extrairMelEspectrograma(sinal, freqAmostragem, frameLength, overlapLength):\n",
    "    \n",
    "    matrizMelEspectrograma = librosa.feature.melspectrogram(y=sinal, sr=freqAmostragem, n_fft=frameLength, hop_length=overlapLength)\n",
    "    \n",
    "    arrayMelEspectrograma = []\n",
    "    \n",
    "    for coluna in matrizMelEspectrograma.T:\n",
    "        arrayMelEspectrograma.append(np.mean(coluna))\n",
    "    \n",
    "    return arrayMelEspectrograma"
   ]
  },
  {
   "cell_type": "code",
   "execution_count": null,
   "metadata": {},
   "outputs": [],
   "source": [
    "melEspectrograma = extrairMelEspectrograma(audioTeste, freqAmostragem, frameLength, overlapLength)\n",
    "\n",
    "print(\"Qtd de features:\", len(melEspectrograma))\n",
    "print(melEspectrograma)"
   ]
  },
  {
   "cell_type": "markdown",
   "metadata": {},
   "source": [
    "#### Cromagrama"
   ]
  },
  {
   "cell_type": "markdown",
   "metadata": {},
   "source": [
    "Essa também retorna uma matriz. Ela tem 12 cromagramas (linhas). Vou tirar a média de cada linha."
   ]
  },
  {
   "cell_type": "code",
   "execution_count": null,
   "metadata": {},
   "outputs": [],
   "source": [
    "def extrairCromagramas(sinal, freqAmostragem, frameLength, overlapLength):\n",
    "    \n",
    "    matrizCromagramas = librosa.feature.chroma_stft(y=sinal, sr=freqAmostragem, n_fft=frameLength, hop_length=overlapLength)\n",
    "    \n",
    "    arrayCromagramas = []\n",
    "    \n",
    "    for linha in matrizCromagramas:\n",
    "        arrayCromagramas.append(np.mean(linha))\n",
    "    \n",
    "    return arrayCromagramas"
   ]
  },
  {
   "cell_type": "code",
   "execution_count": null,
   "metadata": {},
   "outputs": [],
   "source": [
    "cromagramas = extrairCromagramas(audioTeste, freqAmostragem, frameLength, overlapLength)\n",
    "print(\"Features:\", len(cromagramas))\n",
    "print(cromagramas)"
   ]
  },
  {
   "cell_type": "markdown",
   "metadata": {},
   "source": [
    "#### Cromagrama de constante Q"
   ]
  },
  {
   "cell_type": "markdown",
   "metadata": {},
   "source": [
    "Essa função não precisa do tamanho da janela (frameLength) e a sobreposição: \"hop_length must be a positive integer multiple of 2^6 for 7-octave CQT\". Portanto, vou deixar esse parâmetro como padrão."
   ]
  },
  {
   "cell_type": "code",
   "execution_count": null,
   "metadata": {},
   "outputs": [],
   "source": [
    "def extrairCromagramasQ(sinal, freqAmostragem):\n",
    "    \n",
    "    matrizCromagramasQ = librosa.feature.chroma_cqt(y=sinal, sr=freqAmostragem)\n",
    "    \n",
    "    arrayCromagramasQ = []\n",
    "    \n",
    "    for linha in matrizCromagramasQ:\n",
    "        arrayCromagramasQ.append(np.mean(linha))\n",
    "    \n",
    "    return arrayCromagramasQ"
   ]
  },
  {
   "cell_type": "code",
   "execution_count": null,
   "metadata": {
    "scrolled": true
   },
   "outputs": [],
   "source": [
    "cromagramasQ = extrairCromagramasQ(audioTeste, freqAmostragem)\n",
    "print(\"Features:\", len(cromagramasQ))\n",
    "print(cromagramasQ)"
   ]
  },
  {
   "cell_type": "markdown",
   "metadata": {},
   "source": [
    "#### Croma CENS"
   ]
  },
  {
   "cell_type": "markdown",
   "metadata": {},
   "source": [
    "Assim como o cromagrama de constante Q, essa função não precisa do tamanho da janela (frameLength) e a sobreposição: \"hop_length must be a positive integer multiple of 2^6 for 7-octave CQT\". Portanto, vou deixar esse parâmetro como padrão."
   ]
  },
  {
   "cell_type": "code",
   "execution_count": null,
   "metadata": {},
   "outputs": [],
   "source": [
    "def extrairCromaCENSs(sinal, freqAmostragem):\n",
    "    \n",
    "    matrizCromaCENSs = librosa.feature.chroma_cens(y=sinal, sr=freqAmostragem)\n",
    "    \n",
    "    arrayCromaCENSs = []\n",
    "    \n",
    "    for linha in matrizCromaCENSs:\n",
    "        arrayCromaCENSs.append(np.mean(linha))\n",
    "    \n",
    "    return arrayCromaCENSs"
   ]
  },
  {
   "cell_type": "code",
   "execution_count": null,
   "metadata": {},
   "outputs": [],
   "source": [
    "cromaCENSs = extrairCromaCENSs(audioTeste, freqAmostragem)\n",
    "print(\"Features:\", len(cromaCENSs))\n",
    "print(cromaCENSs)"
   ]
  },
  {
   "cell_type": "markdown",
   "metadata": {},
   "source": [
    "#### Contraste espectral"
   ]
  },
  {
   "cell_type": "markdown",
   "metadata": {},
   "source": [
    "As ultimas features serão essas."
   ]
  },
  {
   "cell_type": "code",
   "execution_count": null,
   "metadata": {},
   "outputs": [],
   "source": [
    "def extrairContrastes(sinal, freqAmostragem, frameLength, overlapLength):\n",
    "    \n",
    "    matrizContrastes = librosa.feature.spectral_contrast(y=sinal, sr=freqAmostragem, n_fft=frameLength, hop_length=overlapLength)\n",
    "    \n",
    "    arrayConstrastes = []\n",
    "    \n",
    "    for linha in matrizContrastes:\n",
    "        arrayConstrastes.append(np.mean(linha))\n",
    "    \n",
    "    return arrayConstrastes"
   ]
  },
  {
   "cell_type": "code",
   "execution_count": null,
   "metadata": {},
   "outputs": [],
   "source": [
    "contrastes = extrairContrastes(audioTeste, freqAmostragem, frameLength, overlapLength)\n",
    "print(contrastes)"
   ]
  },
  {
   "cell_type": "markdown",
   "metadata": {},
   "source": [
    "## Criando a classe"
   ]
  },
  {
   "cell_type": "markdown",
   "metadata": {},
   "source": [
    "O objetivo é que essa classe entre numa pasta e me devolva uma matriz em que cada linha seja um áudio e cada coluna seja uma feature. Essa classe ainda deve ser capaz de gravar tudo isso num csv.\n",
    "\n",
    "As features serão extraídas, e depois que tudo já estiver pronto, ela vai escalonar as features e depois passar tudo num PCA.\n",
    "\n",
    "Então, para usar a classe, é necessário ter as pastas de áudios muito bem organizadas para que ela crie o CSV dentro da pasta que se queira. Preferi fazer assim, pois, se eu fosse abrir todos os áudios numa matriz do python pra só depois mandar pra essa classe, poderia ficar mto pesado. É melhor que ela só receba o caminho pra uma pasta e gere um CSV."
   ]
  },
  {
   "cell_type": "markdown",
   "metadata": {},
   "source": [
    "### Criando funções intermediárias"
   ]
  },
  {
   "cell_type": "markdown",
   "metadata": {},
   "source": [
    "Vou usar essa parte pra criar as funções intermediárias, que não serão responsáveis por calcular nenhuma feature, mas apenas montar os arrays e metrizes da classe."
   ]
  },
  {
   "cell_type": "markdown",
   "metadata": {},
   "source": [
    "#### Função que faz o janelamento"
   ]
  },
  {
   "cell_type": "markdown",
   "metadata": {},
   "source": [
    "Existe um problema em deixar que as funções de extração de features criadas acima façam o janelamento: ao invés de retornarem valores unitários para as features, elas vão retornar um array em que cada posição representa um janelamento. Portanto, a solução é fazer o janelamento antes de extrair as features e deixar para mandar para essas funções apenas as janelas, fazendo com que frameLength seja igual ao tamanho da janela que está sendo enviada e que overlapLength seja 0.\n",
    "\n",
    "A função abaixo usa a função frame do librosa que retorna as janelas como COLUNAS. Como eu quero que cada janela seja uma LINHA, eu retorno a transposta dessa função."
   ]
  },
  {
   "cell_type": "code",
   "execution_count": null,
   "metadata": {},
   "outputs": [],
   "source": [
    "def fazerJanelamento(sinal, frameLength, overlapLength):\n",
    "    return librosa.util.frame(sinal, frame_length=frameLength, hop_length=overlapLength).T"
   ]
  },
  {
   "cell_type": "code",
   "execution_count": null,
   "metadata": {},
   "outputs": [],
   "source": [
    "framesAudioTeste = fazerJanelamento(audioTeste, frameLength, overlapLength)\n",
    "print(\"Qtd janelas:\", len(framesAudioTeste))\n",
    "print(framesAudioTeste)\n",
    "print(framesAudioTeste[0])"
   ]
  },
  {
   "cell_type": "code",
   "execution_count": null,
   "metadata": {},
   "outputs": [],
   "source": [
    "Audio(data=framesAudioTeste[0], rate=freqAmostragem)"
   ]
  },
  {
   "cell_type": "markdown",
   "metadata": {},
   "source": [
    "#### Função que extrai features de um único frame"
   ]
  },
  {
   "cell_type": "markdown",
   "metadata": {},
   "source": [
    "Em algum momento, a classe deverá passar em cada um dos áudios da pasta para ir extraindo as features. A próxima função extrai as features de um único frame de áudio e retorna um array com essas features. Posteriormente esse array deverá ser integrado à matriz de features de todos os áudios.\n",
    "\n",
    "Haverá uma outra função para extrair as features de um único áudio. Ela deverá pegar um áudio, usar a função de janelamento, e usar a função abaixo para extrair as features de cada uma das janelas. Depois, ela vai retornar uma matriz com as features de cada frame de um único áudio.\n",
    "\n",
    "PARA IMPEDIR QUE O LIBROSA CONTINUE FAZENDO O JANELAMENTO DO ÁUDIO MESMO QUE frameLength SEJA DO TAMANHO DO ÁUDIO, O PARÂMETRO DE OVERLAP DEVE SER MAIOR OU IGUAL A frameLength."
   ]
  },
  {
   "cell_type": "code",
   "execution_count": null,
   "metadata": {},
   "outputs": [],
   "source": [
    "def extrairFeaturesUnicoFrame(sinal, freqAmostragem, frameLength):\n",
    "    \n",
    "    # PARA IMPEDIR QUE O LIBROSA CONTINUE FAZENDO O JANELAMENTO DO ÁUDIO MESMO QUE frameLength \n",
    "    # SEJA DO TAMANHO DO ÁUDIO, O PARÂMETRO DE OVERLAP DEVE SER MAIOR OU IGUAL A frameLength:\n",
    "    overlapLength = frameLength\n",
    "    \n",
    "    # CRIANDO O ARRAY DE FEATURES DO FRAME EM QUESTAO\n",
    "    arrayFeaturesFrame = []\n",
    "    \n",
    "    #PRIMEIRO, VOU EXTRAIR AS FEATURES UNITARIAS\n",
    "    arrayFeaturesFrame.append(float(extrairRMS(sinal, frameLength, overlapLength)))\n",
    "    arrayFeaturesFrame.append(float(extrairCentroideEspectral(sinal, freqAmostragem, frameLength, overlapLength)))\n",
    "    arrayFeaturesFrame.append(float(extrairLarguraBanda(sinal, freqAmostragem, frameLength, overlapLength)))\n",
    "    arrayFeaturesFrame.append(float(extrairPlanicidade(sinal, frameLength, overlapLength)))\n",
    "    arrayFeaturesFrame.append(float(extrairRolloff(sinal, freqAmostragem, frameLength, overlapLength)))\n",
    "    arrayFeaturesFrame.append(float(extrairZCR(sinal, frameLength, overlapLength)))\n",
    "    \n",
    "    # AGORA VAMOS PASSAR PARA AS NAO UNITARIAS, PRIMEIRO, E PRECISO CRIAR A MATRIZ DOS MFCCS\n",
    "    matrizMFCC          = extrairMatrizMFCC(sinal, freqAmostragem)\n",
    "    \n",
    "    # AGORA SIM EU SAIO EXTRAINDO AS FEATURES \n",
    "    arrayFeaturesFrame += extrairMFCCs(matrizMFCC)\n",
    "    arrayFeaturesFrame += extrairDeltas(matrizMFCC)\n",
    "    arrayFeaturesFrame += extrairDeltaDeltas(matrizMFCC)\n",
    "    arrayFeaturesFrame += extrairMelEspectrograma(sinal, freqAmostragem, frameLength, overlapLength)\n",
    "    arrayFeaturesFrame += extrairCromagramas(sinal, freqAmostragem, frameLength, overlapLength)\n",
    "    arrayFeaturesFrame += extrairCromagramasQ(sinal, freqAmostragem)\n",
    "    arrayFeaturesFrame += extrairCromaCENSs(sinal, freqAmostragem)\n",
    "    arrayFeaturesFrame += extrairContrastes(sinal, freqAmostragem, frameLength, overlapLength)\n",
    "    \n",
    "    # POR FIM, RETORNO O ARRAY DE FEATURES DO AUDIO QUE FOI ENVIADO PARA ESSA FUNCAO\n",
    "    return arrayFeaturesFrame"
   ]
  },
  {
   "cell_type": "code",
   "execution_count": null,
   "metadata": {},
   "outputs": [],
   "source": [
    "frameAtual = framesAudioTeste[0]\n",
    "\n",
    "featuresFrameAtual = extrairFeaturesUnicoFrame(frameAtual, freqAmostragem, frameLength)\n",
    "\n",
    "print(len(featuresFrameAtual))\n",
    "print(featuresFrameAtual)"
   ]
  },
  {
   "cell_type": "markdown",
   "metadata": {},
   "source": [
    "#### Função que extrai as features de um único áudio"
   ]
  },
  {
   "cell_type": "markdown",
   "metadata": {},
   "source": [
    "Essa função vai pegar um áudio, usar a função de janelamento, e para cada janela do áudio em questão, ela vai usar a função de extrair as features de uma única janela (implementada acima). Depois, ela vai retornar uma matriz com as features de cada frame de um único áudio, onde cada linha é uma frame e cada coluna é uma feature."
   ]
  },
  {
   "cell_type": "code",
   "execution_count": null,
   "metadata": {},
   "outputs": [],
   "source": [
    "def extrairFeaturesUnicoAudio(sinal, freqAmostragem, frameLength, overlapLength):\n",
    "    \n",
    "    # PRIMEIRO, VOU CRIAR A MATRIZ QUE VAI CONTER AS FEATURES DE CADA JANELA\n",
    "    # CADA LINHA E UMA JANELA E CADA COLUNA E UMA FEATURE\n",
    "    matrizFeaturesAudio = []\n",
    "    \n",
    "    # DEPOIS, VOU FAZER O JANELAMENTO\n",
    "    matrizFramesAudio = fazerJanelamento(sinal, frameLength, overlapLength)\n",
    "    \n",
    "    # AGORA, PARA CADA JANELA, VOU EXTRAIR AS FEATURES E COLOCAR COMO UMA LINHA NOVA NA MATRIZ\n",
    "    for frameAtual in matrizFramesAudio:\n",
    "        matrizFeaturesAudio.append(extrairFeaturesUnicoFrame(frameAtual, freqAmostragem, frameLength))\n",
    "    \n",
    "    # RETORNO A MATRIZ DE FEATURES DESSE AUDIO\n",
    "    return matrizFeaturesAudio"
   ]
  },
  {
   "cell_type": "code",
   "execution_count": null,
   "metadata": {},
   "outputs": [],
   "source": [
    "matrizFeaturesAudioTeste = extrairFeaturesUnicoAudio(audioTeste, freqAmostragem, frameLength, overlapLength)\n",
    "print(\"Qtd frames (linhas):\", len(matrizFeaturesAudioTeste))\n",
    "print(\"Qtd features (colunas):\", len(matrizFeaturesAudioTeste[0]))"
   ]
  },
  {
   "cell_type": "markdown",
   "metadata": {},
   "source": [
    "#### Função que coloca o nome do arquivo e a classificação correta na matriz de features de um áudio"
   ]
  },
  {
   "cell_type": "markdown",
   "metadata": {},
   "source": [
    "Haverá uma matriz de dados que terá as seguintes colunas: **nomeArquivo, ...features... e classificacaoCorreta**. Mas, a função implementada para gerar a matriz de features de um único áudio **extrairFeaturesUnicoAudio** devolve uma matriz de features **sem** o nome do áudio e a classificação correta. Portanto, a função abaixo apenas pega essa última matriz e coloca o nome do arquivo no começo e a classificação correta ao final. Posteriormente, o resultado será agregado à matriz de dados citada em primeiro lugar.\n",
    "\n",
    "ESSA FUNÇÃO RETORNA UM DATAFRAME PANDAS, NÃO UMA MATRIZ QUALQUER.\n",
    "\n",
    "https://www.geeksforgeeks.org/python-pandas-dataframe-insert/"
   ]
  },
  {
   "cell_type": "code",
   "execution_count": null,
   "metadata": {},
   "outputs": [],
   "source": [
    "def adicionarNomeArquivoEClasse(matrizFeaturesAudioAtual, nomeArquivo, classificacaoCorreta):\n",
    "    # PRIMEIRO TRANSFORMO A MATRIZ NUM PANDAS DATAFRAME\n",
    "    dataframeAudioAtual = pd.DataFrame(matrizFeaturesAudioAtual)\n",
    "    \n",
    "    # AGORA COLOCO A COLUNA DO NOME NO COMECO (posicaoNovaColuna, nomeNovaColuna, valorParaTodasAsLinhas)\n",
    "    dataframeAudioAtual.insert(0, \"nomeArquivo\", nomeArquivo, True)\n",
    "    \n",
    "    # AGORA COLOCO A COLUNA DA CLASSIFICACAO CORRETA NA ULTIMA POSICAO\n",
    "    dataframeAudioAtual.insert(len(dataframeAudioAtual.columns), \"classificacaoCorreta\", classificacaoCorreta, True)\n",
    "    \n",
    "    return dataframeAudioAtual"
   ]
  },
  {
   "cell_type": "code",
   "execution_count": null,
   "metadata": {},
   "outputs": [],
   "source": [
    "dataframeAudioTeste = adicionarNomeArquivoEClasse(matrizFeaturesAudioTeste, \"teste.wav\", \"gunshot\")\n",
    "dataframeAudioTeste"
   ]
  },
  {
   "cell_type": "markdown",
   "metadata": {},
   "source": [
    "#### Função para verificar qual é a classificação correta de acordo com o nome do arquivo"
   ]
  },
  {
   "cell_type": "markdown",
   "metadata": {},
   "source": [
    "Essa é bem básica. Em algum determinado momento eu vou precisar saber a classficação correta de um determinado áudio. Eu só consigo saber isso pelo nome do arquivo. LEMBRANDO QUE TODO O CÓDIGO ESCRITO AQUI SERVE PARA O BANCO DE DADOS SESA. Os arquivos são nomeados como **classe_contador.wav**. Por exemplo: casual_000.wav, explosion_032.wav e gunshot_032.wav."
   ]
  },
  {
   "cell_type": "code",
   "execution_count": null,
   "metadata": {},
   "outputs": [],
   "source": [
    "def verificarClassificacaoCorreta(nomeArquivo):\n",
    "    arrayNome = nomeArquivo.split(\"_\")\n",
    "    return arrayNome[0]"
   ]
  },
  {
   "cell_type": "code",
   "execution_count": null,
   "metadata": {},
   "outputs": [],
   "source": [
    "diretorio = \"/home/dimi/Downloads/SESA/test/\"\n",
    "parar = 10\n",
    "for nomeArquivo in os.listdir(diretorio):\n",
    "    print(verificarClassificacaoCorreta(nomeArquivo))\n",
    "    parar -= 1\n",
    "    if parar == 0:\n",
    "        break"
   ]
  },
  {
   "cell_type": "markdown",
   "metadata": {},
   "source": [
    "#### Função que passa por todos os áudios da pasta e vai montando o dataframe"
   ]
  },
  {
   "cell_type": "markdown",
   "metadata": {},
   "source": [
    "Essa é função que une todas as outras. Ela vai passar por todos os áudios da pasta, verificar qual é a classificação correta de cada áudio, extrair as features, gerar o dataframe de features do áudio atual e agregar ao dataframe de todos os áudios."
   ]
  },
  {
   "cell_type": "code",
   "execution_count": null,
   "metadata": {},
   "outputs": [],
   "source": [
    "def montarDataframeTodosOsAudios(diretorio, freqAmostragem, frameLength, overlapLength):\n",
    "    \n",
    "    # CRIANDO O ARRAY COM O NOME DOS ARQUIVOS\n",
    "    arrayNomeArquivos = os.listdir(diretorio)\n",
    "    \n",
    "    # PEGANDO O TOTAL DE ARQUIVOS NA PASTA APENAS PARA FINS DE PRINT\n",
    "    totalArquivosNaPasta = len(arrayNomeArquivos)\n",
    "    \n",
    "    # ABAIXO, VOU CRIAR O DATAFRAME DE TODOS OS AUDIOS\n",
    "    dataframeGeral = pd.DataFrame()\n",
    "\n",
    "    # VOU PASSAR POR TODOS OS AUDIOS DO DIRETORIO\n",
    "    for i, nomeArquivo in enumerate(arrayNomeArquivos):\n",
    "        # PRINTANDO O PROGRESSO\n",
    "        print(\"Extraindo features do arquivo\", i+1, \"de\", totalArquivosNaPasta, \"-> \" + str(100*((i+1)/totalArquivosNaPasta)) + \"%\")\n",
    "        \n",
    "        # ABRO O AUDIO ATUAL COM O LIBROSA\n",
    "        audioAtual, freqAmostragem = librosa.load(audioTesteDir, sr=freqAmostragem, mono=True) \n",
    "        \n",
    "        # VERIFICAO QUAL E A CLASSIFICACAO CORRETA\n",
    "        classeAudioAtual = verificarClassificacaoCorreta(nomeArquivo)\n",
    "        \n",
    "        # MONTO A MATRIZ DE FEATUREA DE CADA FRAME DO AUDIO ATUAL (a funcao abaixo\n",
    "        # devolve uma matriz normal e faz o janelamento em outra funcao tb)\n",
    "        matrizFeaturesAudioAtual = extrairFeaturesUnicoAudio(audioAtual, freqAmostragem, frameLength, overlapLength)\n",
    "        \n",
    "        # AGORA E HORA DE COLOCAR O NOME E A CLASSIFICACAO CORRETA NA MATRIZ\n",
    "        # MAAAS, NA FUNCAO ABAIXO, O BICHO VIRA UM DATAFRAME PANDAS\n",
    "        dataframeAudioAtual      = adicionarNomeArquivoEClasse(matrizFeaturesAudioAtual, nomeArquivo, classeAudioAtual)\n",
    "        \n",
    "        # CONCATENANDO O DATAFRAME DO AUDIO ATUAL AO DATAFRAME GERAL\n",
    "        dataframeGeral = pd.concat([dataframeGeral, dataframeAudioAtual])\n",
    "        \n",
    "    # POR ULTIMO, RETORNO O DATAFRAME GERAL\n",
    "    return dataframeGeral"
   ]
  },
  {
   "cell_type": "markdown",
   "metadata": {},
   "source": [
    "#### Função para escalonar as features"
   ]
  },
  {
   "cell_type": "markdown",
   "metadata": {},
   "source": [
    "Essa função recebe o dataframe geral, remove as primeira e última colunas (nome e classificação), faz o escalonamento e depois coloca as colunas de nome e classificação de volta."
   ]
  },
  {
   "cell_type": "code",
   "execution_count": null,
   "metadata": {},
   "outputs": [],
   "source": [
    "def escalonarFeatures(dataframeGeral):\n",
    "    \n",
    "    print(\"Escalonando features\")\n",
    "    \n",
    "    # COPIANDO AS COLUNAS DE NOME E CLASSIFICACAO\n",
    "    colunaArquivo       = dataframeGeral[\"nomeArquivo\"]\n",
    "    colunaClassificacao = dataframeGeral[\"classificacaoCorreta\"]\n",
    "    \n",
    "    # DELETANDO AS COLUNAS ARQUIVO E CLASSIFICACAO\n",
    "    dataframeGeral = dataframeGeral.drop(['nomeArquivo', 'classificacaoCorreta'], axis=1)\n",
    "    \n",
    "    # ESCALONANDO\n",
    "    dataframeGeral = pd.DataFrame(StandardScaler().fit_transform(dataframeGeral))\n",
    "    \n",
    "    # COM ESSA COISA DE TIRA E POE COLUNA, O PANDAS NAO SABE LINDAR COM OS INDEXES,\n",
    "    # ABAIXO EU ESTOU RESETANDO TUDO\n",
    "    colunaArquivo.reset_index(inplace=True, drop=True)\n",
    "    colunaClassificacao.reset_index(inplace=True, drop=True)\n",
    "    dataframeGeral.reset_index(inplace=True, drop=True)\n",
    "    \n",
    "    # ADICIONANDO AS COLUNAS QUE FORAM EXCLUIDAS (posicaoNovaColuna, nomeNovaColuna, valorParaTodasAsLinhas)\n",
    "    dataframeGeral.insert(0, \"nomeArquivo\", colunaArquivo, True)\n",
    "    dataframeGeral.insert(len(dataframeGeral.columns), \"classificacaoCorreta\", colunaClassificacao, True)\n",
    "    \n",
    "    return dataframeGeral"
   ]
  },
  {
   "cell_type": "markdown",
   "metadata": {},
   "source": [
    "#### Função que reduz a dimensionalidade do dataframe geral"
   ]
  },
  {
   "cell_type": "markdown",
   "metadata": {},
   "source": [
    "Depois de escalonar, vamos reduzir a dimensionalidade utilizando PCA. A ideia é fazer com que o CSV já saia pronto para ser usado, logo, a redução de dimensionalidade deve vir nessa classe. Apesar disso, vou deixar o parâmetro **nDimensoes** lá no construtor da classe, ai caso ele seja nulo eu pulo a parte da redução de dimensionalidade e gero o CSV com todas as features.\n",
    "\n",
    "Poder usar a classe sem fazer a redução de dimensionalidade vai ser muito importante para verificar qual é o melhor número de componentes principais do PCA, como se mostra https://towardsdatascience.com/an-approach-to-choosing-the-number-of-components-in-a-principal-component-analysis-pca-3b9f3d6e73fe\n",
    "\n",
    "Então a ideia é primeiro gerar o CSV completo dos dados de treino, sem reduzir a dimensionalidade, pra depois fazer um estudo sobre o melhor número de componentes principais. Aí sim, com **nDimensoes** definido, eu começo a usar a classe com essa função."
   ]
  },
  {
   "cell_type": "code",
   "execution_count": null,
   "metadata": {},
   "outputs": [],
   "source": [
    "def reduzirDimensionalidade(dataframeGeral, nDimensoes):\n",
    "    \n",
    "    print(\"Reduzindo a dimensionalidade\")\n",
    "    \n",
    "    # COPIANDO AS COLUNAS DE NOME E CLASSIFICACAO\n",
    "    colunaArquivo       = dataframeGeral[\"nomeArquivo\"]\n",
    "    colunaClassificacao = dataframeGeral[\"classificacaoCorreta\"]\n",
    "    \n",
    "    # DELETANDO AS COLUNAS ARQUIVO E CLASSIFICACAO\n",
    "    dataframeGeral = dataframeGeral.drop(['nomeArquivo', 'classificacaoCorreta'], axis=1)\n",
    "    \n",
    "    # REDUZINDO A DIMENSIONALIDADE\n",
    "    dataframeGeral = pd.DataFrame(PCA(n_components=nDimensoes).fit_transform(dataframeGeral))\n",
    "    \n",
    "    # COM ESSA COISA DE TIRA E POE COLUNA, O PANDAS NAO SABE LINDAR COM OS INDEXES,\n",
    "    # ABAIXO EU ESTOU RESETANDO TUDO\n",
    "    colunaArquivo.reset_index(inplace=True, drop=True)\n",
    "    colunaClassificacao.reset_index(inplace=True, drop=True)\n",
    "    dataframeGeral.reset_index(inplace=True, drop=True)\n",
    "    \n",
    "    # ADICIONANDO AS COLUNAS QUE FORAM EXCLUIDAS (posicaoNovaColuna, nomeNovaColuna, valorParaTodasAsLinhas)\n",
    "    dataframeGeral.insert(0, \"nomeArquivo\", colunaArquivo, True)\n",
    "    dataframeGeral.insert(len(dataframeGeral.columns), \"classificacaoCorreta\", colunaClassificacao, True)\n",
    "    \n",
    "    return dataframeGeral"
   ]
  },
  {
   "cell_type": "markdown",
   "metadata": {},
   "source": [
    "### Finalizando"
   ]
  },
  {
   "cell_type": "markdown",
   "metadata": {},
   "source": [
    "Abaixo, vou criar a função que será a construtora da classe (init). Ela vai usar todas as funções que já foram criadas. Depois disso, vai bastar copiar todas as funções pra dentro da classe e fazer acontecer."
   ]
  },
  {
   "cell_type": "code",
   "execution_count": null,
   "metadata": {},
   "outputs": [],
   "source": [
    "def construtor(diretorio, freqAmostragem, frameLength, overlapLength, nDimensoes=None):\n",
    "    \n",
    "    # PRIMEIRO EU CRIO O DATAFRAME DE TODOS OS AUDIOS DA PASTA\n",
    "    dataframeGeral = montarDataframeTodosOsAudios(diretorio, freqAmostragem, frameLength, overlapLength)\n",
    "    \n",
    "    # DEPOIS EU ESCALONO AS FEATURES\n",
    "    dataframeGeral = escalonarFeatures(dataframeGeral)\n",
    "    \n",
    "    # E AGORA EU REDUZO A DIMENSIONALIDADE\n",
    "    if nDimensoes != None:\n",
    "        dataframeGeral = reduzirDimensionalidade(dataframeGeral, nDimensoes)\n",
    "        \n",
    "    # PARA FINALIZAR, VOU ESCREVER O DATAFRAME NUM CSV\n",
    "    nomeCSV = diretorio + str(time.time()) + \".csv\"\n",
    "    print(\"Escrevendo CSV:\", nomeCSV)\n",
    "    dataframeGeral.to_csv(nomeCSV, index=False)\n",
    "    \n",
    "    # TAMBEM VOU RETORNAR O DATAFRAME, PQ VAI QUE EU PRECISO NE\n",
    "    print(\"Operação finalizada\")\n",
    "    return dataframeGeral"
   ]
  },
  {
   "cell_type": "code",
   "execution_count": null,
   "metadata": {},
   "outputs": [],
   "source": [
    "diretorio      = \"/home/dimi/Downloads/SESA/train/\"\n",
    "freqAmostragem = freqAmostragem\n",
    "frameLength    = frameLength\n",
    "overlapLength  = overlapLength\n",
    "nDimensoes     = 20\n",
    "\n",
    "dataframeGeral = construtor(diretorio, freqAmostragem, frameLength, overlapLength, nDimensoes)"
   ]
  },
  {
   "cell_type": "code",
   "execution_count": null,
   "metadata": {},
   "outputs": [],
   "source": [
    "diretorio      = \"/home/dimi/Downloads/SESA/test/\"\n",
    "freqAmostragem = freqAmostragem\n",
    "frameLength    = frameLength\n",
    "overlapLength  = overlapLength\n",
    "nDimensoes     = 20\n",
    "\n",
    "dataframeGeral = construtor(diretorio, freqAmostragem, frameLength, overlapLength, nDimensoes)"
   ]
  },
  {
   "cell_type": "code",
   "execution_count": null,
   "metadata": {},
   "outputs": [],
   "source": []
  },
  {
   "cell_type": "code",
   "execution_count": null,
   "metadata": {},
   "outputs": [],
   "source": []
  },
  {
   "cell_type": "code",
   "execution_count": null,
   "metadata": {},
   "outputs": [],
   "source": []
  },
  {
   "cell_type": "code",
   "execution_count": null,
   "metadata": {},
   "outputs": [],
   "source": []
  },
  {
   "cell_type": "markdown",
   "metadata": {},
   "source": [
    "class extrairFeatures:\n",
    "    \n",
    "    matrizFeatures = [] # DO TIPO PANDAS\n",
    "    \n",
    "    def __init__(pasta):\n",
    "    \n",
    "    # DEFINICAO DAS FUNCOES RESPONSAVEIS POR EXTRAIR CADA UMA DAS FEATURES:\n",
    "    def extrairRMS(self, sinal, frameLength, overlapLength):\n",
    "        return librosa.feature.rms(y=sinal, frame_length=frameLength, hop_length=overlapLength)\n",
    "\n",
    "    def extrairCentroideEspectral(self, sinal, freqAmostragem, frameLength, overlapLength):\n",
    "        return librosa.feature.spectral_centroid(y=sinal, sr=freqAmostragem, n_fft=frameLength, hop_length=overlapLength)\n",
    "\n",
    "    def extrairLarguraBanda(self, sinal, freqAmostragem, frameLength, overlapLength):\n",
    "        return librosa.feature.spectral_bandwidth(y=sinal, sr= freqAmostragem, n_fft=frameLength, hop_length=overlapLength)\n",
    "\n",
    "    def extrairPlanicidade(self, sinal, frameLength, overlapLength):\n",
    "        return librosa.feature.spectral_flatness(y=sinal, n_fft=frameLength, hop_length=overlapLength)\n",
    "\n",
    "    def extrairRolloff(self, sinal, freqAmostragem, frameLength, overlapLength):\n",
    "        return librosa.feature.spectral_rolloff(y=sinal, sr= freqAmostragem, n_fft=frameLength, hop_length=overlapLength)\n",
    "\n",
    "    def extrairZCR(self, sinal, frameLength, overlapLength):\n",
    "        return librosa.feature.zero_crossing_rate(y=sinal, frame_length=frameLength, hop_length=overlapLength)\n",
    "\n",
    "    def extrairMatrizMFCC(self, sinal, freqAmostragem):\n",
    "        return librosa.feature.mfcc(y=sinal, sr=freqAmostragem)\n",
    "\n",
    "    def extrairMFCCs(self, matrizMFCC):\n",
    "\n",
    "        arrayMFCCs = []\n",
    "\n",
    "        for linha in matrizMFCC:\n",
    "            arrayMFCCs.append(np.mean(linha))\n",
    "\n",
    "        return arrayMFCCs\n",
    "\n",
    "    def extrairDeltas(self, matrizMFCC):\n",
    "        matrizDelta = librosa.feature.delta(matrizMFCC, order=1)\n",
    "\n",
    "        arrayDelta = []\n",
    "\n",
    "        for linha in matrizDelta:\n",
    "            arrayDelta.append(np.mean(linha))\n",
    "\n",
    "        return arrayDelta\n",
    "\n",
    "    def extrairDeltaDeltas(self, matrizMFCC):\n",
    "        matrizDeltaDelta = librosa.feature.delta(matrizMFCC, order=2)\n",
    "\n",
    "        arrayDeltaDelta = []\n",
    "\n",
    "        for linha in matrizDeltaDelta:\n",
    "            arrayDeltaDelta.append(np.mean(linha))\n",
    "\n",
    "        return arrayDeltaDelta\n",
    "\n",
    "    def extrairMelEspectrograma(self, sinal, freqAmostragem, frameLength, overlapLength):\n",
    "\n",
    "        matrizMelEspectrograma = librosa.feature.melspectrogram(y=sinal, sr=freqAmostragem, n_fft=frameLength, hop_length=overlapLength)\n",
    "\n",
    "        arrayMelEspectrograma = []\n",
    "\n",
    "        for coluna in matrizMelEspectrograma.T:\n",
    "            arrayMelEspectrograma.append(np.mean(coluna))\n",
    "\n",
    "        return arrayMelEspectrograma\n",
    "\n",
    "    def extrairCromagramas(self, sinal, freqAmostragem, frameLength, overlapLength):\n",
    "\n",
    "        matrizCromagramas = librosa.feature.chroma_stft(y=sinal, sr=freqAmostragem, n_fft=frameLength, hop_length=overlapLength)\n",
    "\n",
    "        arrayCromagramas = []\n",
    "\n",
    "        for linha in matrizCromagramas:\n",
    "            arrayCromagramas.append(np.mean(linha))\n",
    "\n",
    "        return arrayCromagramas\n",
    "\n",
    "    def extrairCromagramasQ(self, sinal, freqAmostragem):\n",
    "\n",
    "        matrizCromagramasQ = librosa.feature.chroma_cqt(y=sinal, sr=freqAmostragem)\n",
    "\n",
    "        arrayCromagramasQ = []\n",
    "\n",
    "        for linha in matrizCromagramasQ:\n",
    "            arrayCromagramasQ.append(np.mean(linha))\n",
    "\n",
    "        return arrayCromagramasQ\n",
    "\n",
    "    def extrairCromaCENSs(self, sinal, freqAmostragem):\n",
    "\n",
    "        matrizCromaCENSs = librosa.feature.chroma_cens(y=sinal, sr=freqAmostragem)\n",
    "\n",
    "        arrayCromaCENSs = []\n",
    "\n",
    "        for linha in matrizCromaCENSs:\n",
    "            arrayCromaCENSs.append(np.mean(linha))\n",
    "\n",
    "        return arrayCromaCENSs\n",
    "\n",
    "    def extrairContrastes(self, sinal, freqAmostragem, frameLength, overlapLength):\n",
    "\n",
    "        matrizContrastes = librosa.feature.spectral_contrast(y=sinal, sr=freqAmostragem, n_fft=frameLength, hop_length=overlapLength)\n",
    "\n",
    "        arrayConstrastes = []\n",
    "\n",
    "        for linha in matrizContrastes:\n",
    "            arrayConstrastes.append(np.mean(linha))\n",
    "\n",
    "        return arrayConstrastes"
   ]
  },
  {
   "cell_type": "code",
   "execution_count": null,
   "metadata": {},
   "outputs": [],
   "source": []
  },
  {
   "cell_type": "code",
   "execution_count": null,
   "metadata": {},
   "outputs": [],
   "source": []
  },
  {
   "cell_type": "code",
   "execution_count": null,
   "metadata": {},
   "outputs": [],
   "source": []
  },
  {
   "cell_type": "code",
   "execution_count": null,
   "metadata": {},
   "outputs": [],
   "source": []
  }
 ],
 "metadata": {
  "kernelspec": {
   "display_name": "Python 3",
   "language": "python",
   "name": "python3"
  },
  "language_info": {
   "codemirror_mode": {
    "name": "ipython",
    "version": 3
   },
   "file_extension": ".py",
   "mimetype": "text/x-python",
   "name": "python",
   "nbconvert_exporter": "python",
   "pygments_lexer": "ipython3",
   "version": "3.6.8"
  }
 },
 "nbformat": 4,
 "nbformat_minor": 2
}
