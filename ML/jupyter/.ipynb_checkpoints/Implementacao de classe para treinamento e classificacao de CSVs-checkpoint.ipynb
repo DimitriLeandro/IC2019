{
 "cells": [
  {
   "cell_type": "markdown",
   "metadata": {},
   "source": [
    "# Implementação de uma classe capaz de abrir os CSVs de treino e teste do SESA Dataset"
   ]
  },
  {
   "cell_type": "markdown",
   "metadata": {},
   "source": [
    "A classe deverá ser capaz de receber o caminho de um CSV com dados de TREINO, treinar os classificadores e classificar os dados de outros CSVs de TESTE.\n",
    "\n",
    "A ideia é criar uma função para receber um único CSV de treino para treinar os classificadores, e eles deverão ficar armazenados na classe, afinal, se a cada CSV de teste eu for fazer o treino antes, o processamento vai ficar pesado. Muito melhor fazer o treinamento uma única vez e depois usar os objetos das classes dos classificadores para testar outros CSVs.\n",
    "\n",
    "Os melhores classificadores de acordo com o trabalho enviado ao Workshop NUVEM da UFABC, usando esse mesmo dataset, foram:\n",
    "\n",
    "**1) SGD:** Obteve a segunda melhor acurácia e o melhor tempo de processamento.\n",
    "\n",
    "**2) Bagging:** Apesar de ter ganhado de apenas 3 classificadores no quesito tempo de processamento, obteve a melhor acurácia."
   ]
  },
  {
   "cell_type": "markdown",
   "metadata": {},
   "source": [
    "### Abrindo os CSVs de treino e teste"
   ]
  },
  {
   "cell_type": "markdown",
   "metadata": {},
   "source": [
    "Para testar tudo, vou usar CSVs com dados ficitícios."
   ]
  },
  {
   "cell_type": "code",
   "execution_count": 1,
   "metadata": {},
   "outputs": [],
   "source": [
    "from sklearn.linear_model import SGDClassifier\n",
    "from sklearn.ensemble import BaggingClassifier\n",
    "from scipy.stats import mode \n",
    "from sklearn.metrics import accuracy_score, classification_report\n",
    "import pandas as pd\n",
    "import numpy as np\n",
    "import time\n",
    "import json"
   ]
  },
  {
   "cell_type": "code",
   "execution_count": 2,
   "metadata": {},
   "outputs": [],
   "source": [
    "# MONTANDO O CAMINHO PROS CSVS\n",
    "#csvTreino = '/home/dimi/Programming/IC2019/ML/datasets/SESA/treinoEscalonado53D.csv'\n",
    "#csvTeste  = '/home/dimi/Programming/IC2019/ML/datasets/SESA/testeEscalonado53D.csv'\n",
    "\n",
    "# ABRINDO OS CSVS\n",
    "#dataframeTreino = pd.read_csv(csvTreino) \n",
    "#dataframeTeste  = pd.read_csv(csvTeste) "
   ]
  },
  {
   "cell_type": "markdown",
   "metadata": {},
   "source": [
    "### Funções para fazer o TREINAMENTO dos classificadores"
   ]
  },
  {
   "cell_type": "markdown",
   "metadata": {},
   "source": [
    "Abaixo, vou escrever as funções responsáveis por treinar os classificadores"
   ]
  },
  {
   "cell_type": "markdown",
   "metadata": {},
   "source": [
    "#### Função para separar o dataframe em X e Y"
   ]
  },
  {
   "cell_type": "markdown",
   "metadata": {},
   "source": [
    "Preciso de uma função que pegue o dataframe devolva dois arrays: xTrain e yTrain. Ai depois é só usar esses arrays para treinar os classificadores.\n",
    "\n",
    "ESSA FUNÇÃO TAMBÉM SERÁ USADA NA PARTE DO TESTE"
   ]
  },
  {
   "cell_type": "code",
   "execution_count": 3,
   "metadata": {},
   "outputs": [],
   "source": [
    "def separarDataframeXeY(dataframe):\n",
    "    # PRIMEIRO, MONTO O X (POSSO EXCLUIR A PRIMEIRA COLUNA \"ARQUIVOS\" E A ÚLTIMA \"CLASSE\")\n",
    "    x = dataframe[dataframe.columns[1:-1]]\n",
    "    \n",
    "    # AGORA, MONTO O Y\n",
    "    y = dataframe[dataframe.columns[-1]]\n",
    "    \n",
    "    # CONVERTO TUDO PRA TUPLA NORMAL \n",
    "    x = x.values.tolist()\n",
    "    y = y.values.tolist()\n",
    "    \n",
    "    return x, y"
   ]
  },
  {
   "cell_type": "code",
   "execution_count": 4,
   "metadata": {},
   "outputs": [],
   "source": [
    "#xTrain, yTrain = separarDataframeXeY(dataframeTreino)"
   ]
  },
  {
   "cell_type": "markdown",
   "metadata": {},
   "source": [
    "#### Função para instanciar classificadores"
   ]
  },
  {
   "cell_type": "markdown",
   "metadata": {},
   "source": [
    "Como eu não sei se vou usar mais classificadores depois, então vou criar um array de classificadores, assim na hora de treinar eu faço um for loop e vou treinando tudo o que tiver dentro.\n",
    "\n",
    "Essa função recebe apenas o nome das classes a serem instanciadas. Por exemplo, envie [\"SGDClassifier(params)\", \"BaggingClassifier(params)\"] para receber um array de objetos dessas classes."
   ]
  },
  {
   "cell_type": "code",
   "execution_count": 5,
   "metadata": {},
   "outputs": [],
   "source": [
    "def instanciarClassificadores(arrayStringsClassesClassificadores):\n",
    "    \n",
    "    arrayObjClassificadores = []\n",
    "    \n",
    "    for classe in arrayStringsClassesClassificadores:\n",
    "        print(\"Instanciando um objeto da classe\", classe)\n",
    "        arrayObjClassificadores.append(eval(classe))\n",
    "        \n",
    "    return arrayObjClassificadores"
   ]
  },
  {
   "cell_type": "code",
   "execution_count": 6,
   "metadata": {},
   "outputs": [],
   "source": [
    "# arrayObjClassificadores = instanciarClassificadores([\"SGDClassifier()\", \"BaggingClassifier()\"])\n",
    "# arrayObjClassificadores"
   ]
  },
  {
   "cell_type": "markdown",
   "metadata": {},
   "source": [
    "#### Função para treinar os classificadores"
   ]
  },
  {
   "cell_type": "markdown",
   "metadata": {},
   "source": [
    "Essa função vai receber xTrain, yTrain e o array de classificadores e devolver o array com os classificadores já treinados."
   ]
  },
  {
   "cell_type": "code",
   "execution_count": 7,
   "metadata": {},
   "outputs": [],
   "source": [
    "def treinarClassificadores(xTrain, yTrain, arrayObjClassificadores):\n",
    "    for i, objClassificador in enumerate(arrayObjClassificadores):\n",
    "        print(\"Treinando o\", objClassificador.__class__.__name__)\n",
    "        tempoInicio = time.time()\n",
    "        arrayObjClassificadores[i].fit(xTrain, yTrain)\n",
    "        tempoFim = time.time()\n",
    "        print(\"Tempo de treinamento do\", objClassificador.__class__.__name__, \"(segundos):\", tempoFim-tempoInicio)\n",
    "        \n",
    "    return arrayObjClassificadores"
   ]
  },
  {
   "cell_type": "code",
   "execution_count": 8,
   "metadata": {},
   "outputs": [],
   "source": [
    "# arrayObjClassificadores = treinarClassificadores(xTrain, yTrain, arrayObjClassificadores)"
   ]
  },
  {
   "cell_type": "markdown",
   "metadata": {},
   "source": [
    "#### Função para unir as três funções anteriores"
   ]
  },
  {
   "cell_type": "markdown",
   "metadata": {},
   "source": [
    "Essa função vai unir as três funções que foram criadas. Ela vai receber o dataframe de treino e um array de strings contendo os classificadores desejados. \n",
    "\n",
    "Em primeiro lugar, ela vai usar a função **separarDataframeXeY** para gerar xTrain e yTrain. Depois, vai usar **instanciarClassificadores** para gerar um array com os classificadores desejados. Por fim, vai treiná-los usando **treinarClassificadores()**.\n",
    "\n",
    "Ela retorna o array de classificadores com todos eles já treinados e prontos para serem usados para predizer dados."
   ]
  },
  {
   "cell_type": "code",
   "execution_count": 9,
   "metadata": {},
   "outputs": [],
   "source": [
    "def criarETreinarClassificadores(dataframeTreino, arrayStringsClassesClassificadores):\n",
    "    print(\"Começando o treinamento dos classificadores\")\n",
    "    xTrain, yTrain          = separarDataframeXeY(dataframeTreino)\n",
    "    arrayObjClassificadores = instanciarClassificadores(arrayStringsClassesClassificadores)\n",
    "    arrayObjClassificadores = treinarClassificadores(xTrain, yTrain, arrayObjClassificadores)\n",
    "    print(\"Classificadores treinados\")\n",
    "    \n",
    "    return arrayObjClassificadores"
   ]
  },
  {
   "cell_type": "code",
   "execution_count": 10,
   "metadata": {
    "scrolled": true
   },
   "outputs": [],
   "source": [
    "# arrayObjClassificadores = criarETreinarClassificadores(dataframeTreino, [\"SGDClassifier()\", \"BaggingClassifier()\"])\n",
    "# arrayObjClassificadores"
   ]
  },
  {
   "cell_type": "markdown",
   "metadata": {},
   "source": [
    "### Funções para fazer o TESTE e calcular métricas"
   ]
  },
  {
   "cell_type": "markdown",
   "metadata": {},
   "source": [
    "Agora vamos implementar as funções responsáveis por pegar um CSV, classificá-lo e calcular as métricas. A classificação deverá ser feita baseada na MODA das classificações de cada janela de um determinado áudio."
   ]
  },
  {
   "cell_type": "markdown",
   "metadata": {},
   "source": [
    "#### Função para calcular a moda das classificações de um único áudio"
   ]
  },
  {
   "cell_type": "markdown",
   "metadata": {},
   "source": [
    "Cada janela de um único áudio será classificada. Depois, para dar um veredito para o áudio como um todo, precisamos tirar a moda das classificações."
   ]
  },
  {
   "cell_type": "code",
   "execution_count": 11,
   "metadata": {},
   "outputs": [],
   "source": [
    "def calcularModa(yPredCadaJanela):\n",
    "    return mode(yPredCadaJanela)[0][0]"
   ]
  },
  {
   "cell_type": "code",
   "execution_count": 12,
   "metadata": {},
   "outputs": [
    {
     "name": "stdout",
     "output_type": "stream",
     "text": [
      "gunshot\n"
     ]
    }
   ],
   "source": [
    "# PARA TESTAR VOU FAZER UM PREDICT USANDO O XTRAIN MESMO, SÓ PRA VER\n",
    "a = [\"casual\", \"gunshot\", \"gunshot\", \"explosion\", \"siren\"]\n",
    "print(calcularModa(a))"
   ]
  },
  {
   "cell_type": "markdown",
   "metadata": {},
   "source": [
    "#### Função para para predizer um conjunto de dados xTest"
   ]
  },
  {
   "cell_type": "markdown",
   "metadata": {},
   "source": [
    "Essa função receberá uma matriz contendo apenas features de um único áudio e um classificador. Ela vai classificar todas as janelas desse áudio e utilizar a função da moda para dar um veredito sobre esse único áudio. \n",
    "\n",
    "A matriz já vai ter que vir arrumada para essa função. As funções que lidam com o pandas para deixar tudo bonitinho vão vir depois."
   ]
  },
  {
   "cell_type": "code",
   "execution_count": 13,
   "metadata": {},
   "outputs": [],
   "source": [
    "def predizerUnicoAudio(xTest, classificador):\n",
    "    \n",
    "    yPredCadaJanela = classificador.predict(xTest).tolist()\n",
    "    \n",
    "#     print(\"Janelas classificadas como casual:\", yPredCadaJanela.count(\"casual\"))\n",
    "#     print(\"Janelas classificadas como gunshot:\", yPredCadaJanela.count(\"gunshot\"))\n",
    "#     print(\"Janelas classificadas como explosion:\", yPredCadaJanela.count(\"explosion\"))\n",
    "#     print(\"Janelas classificadas como siren:\", yPredCadaJanela.count(\"siren\"))\n",
    "    \n",
    "    return calcularModa(yPredCadaJanela)"
   ]
  },
  {
   "cell_type": "code",
   "execution_count": 14,
   "metadata": {},
   "outputs": [],
   "source": [
    "# predizerUnicoAudio(xTrain, arrayObjClassificadores[1])"
   ]
  },
  {
   "cell_type": "markdown",
   "metadata": {},
   "source": [
    "#### Função para criar um array apenas com os nomes dos arquivos"
   ]
  },
  {
   "cell_type": "markdown",
   "metadata": {},
   "source": [
    "Vou precisar de um array que contenha o nome de cada arquivo de um CSV de teste, sem repetições. Isso será necessário para criar um dataframe contendo apenas linhas que digam respeito às janelas de um único áudio."
   ]
  },
  {
   "cell_type": "code",
   "execution_count": 15,
   "metadata": {},
   "outputs": [],
   "source": [
    "def obterNomesArquivos(dataframe):\n",
    "    return dataframe[dataframe.columns[0]].unique().tolist()"
   ]
  },
  {
   "cell_type": "code",
   "execution_count": 16,
   "metadata": {},
   "outputs": [],
   "source": [
    "# obterNomesArquivos(dataframeTeste)"
   ]
  },
  {
   "cell_type": "markdown",
   "metadata": {},
   "source": [
    "#### Função para criar um dataframe contendo apenas as linhas referentes a um único áudio"
   ]
  },
  {
   "cell_type": "code",
   "execution_count": 17,
   "metadata": {},
   "outputs": [],
   "source": [
    "def obterDataframeUnicoAudio(dataframe, arquivo):\n",
    "    #print(\"Obtendo dataframe do áudio\", arquivo)\n",
    "    dataframeArquivoSelecionado = dataframe.loc[dataframe[dataframe.columns[0]] == arquivo]\n",
    "    #print(\"Primeiro valor do dataframe:\", dataframeArquivoSelecionado[dataframeArquivoSelecionado.columns[1]].values.tolist()[0])\n",
    "    return dataframeArquivoSelecionado"
   ]
  },
  {
   "cell_type": "code",
   "execution_count": 18,
   "metadata": {},
   "outputs": [],
   "source": [
    "# dataframeAudioAtual = obterDataframeUnicoAudio(dataframeTeste, 'D_3.wav')\n",
    "# dataframeAudioAtual"
   ]
  },
  {
   "cell_type": "markdown",
   "metadata": {},
   "source": [
    "#### Função para predizer um único áudio e retornar as classificações real e predita"
   ]
  },
  {
   "cell_type": "markdown",
   "metadata": {},
   "source": [
    "Pois bem, já temos a função de predizer um único áudio, mas ela precisa receber ua matriz bonitinha que só contenha features e que não seja do tipo pandas. \n",
    "\n",
    "A função proposta agora deve receber o dataframe tipo pandas de um único áudio, separar o que é xTest e o que é yReal, mandar classificar xTest e devolver yReal e yPred."
   ]
  },
  {
   "cell_type": "code",
   "execution_count": 19,
   "metadata": {},
   "outputs": [],
   "source": [
    "def obterYRealYPredUnicoAudio(dataframeUnicoAudio, classificador):\n",
    "    # PRIMEIRO EU SEPARO O QUE E X E Y\n",
    "    xTest, arrayYReal = separarDataframeXeY(dataframeUnicoAudio)\n",
    "    \n",
    "    # FACO YREAL SER UM VALOR UNICO JA QUE A FUNCAO ACIMA RETORNA UM ARRAY Y\n",
    "    yReal = arrayYReal[0]\n",
    "    \n",
    "    # PREDIZENDO A CLASSE DO AUDIO EM QUESTAO (A FUNCAO ABAIXO JA RETORNA A MODA)\n",
    "    yPred = predizerUnicoAudio(xTest, classificador)\n",
    "    \n",
    "    #print(\"Classificacao real:\", yReal)\n",
    "    #print(\"Classificação atribuída:\", yPred)\n",
    "    \n",
    "    return yReal, yPred"
   ]
  },
  {
   "cell_type": "code",
   "execution_count": 20,
   "metadata": {},
   "outputs": [],
   "source": [
    "#yRealAudioAtual, yPredAudioAtual = obterYRealYPredUnicoAudio(dataframeAudioAtual, arrayObjClassificadores[0])"
   ]
  },
  {
   "cell_type": "markdown",
   "metadata": {},
   "source": [
    "#### Função para classificar um dataframe de teste inteiro"
   ]
  },
  {
   "cell_type": "markdown",
   "metadata": {},
   "source": [
    "A função abaixo vai receber um dataframe e um classificador. Depois disso ela vai:\n",
    "\n",
    "1) Obter um array com o nome dos arquivos desse dataframe utilizando a função **obterNomesArquivos**;\n",
    "\n",
    "2) Para cada arquivo no dataframe, ela vai criar um novo dataframe contendo as janelas apenas desse único áudio, utilizando, para isso, a função **obterDataframeUnicoAudio**;\n",
    "\n",
    "3) Obter a classificação real e a predita para cada um dos arquivos utilizando a função **obterYRealYPredUnicoAudio**;\n",
    "\n",
    "4) Com tudo isso, ela vai montar os arrays yTest e yPred;\n",
    "\n",
    "5) Retornar o classification report do sklearn como um DICT (depois fica bem facil de transformar em JSON) com todas as informações de precisão, recall, acurácia e tal.\n",
    "\n",
    "A função que vai salvar o classification report, convertendo-o para um JSON será implementada a diante. Lembrando que essa função também vai ficar responsável por colocar o nome do classificador utilizado no classification report."
   ]
  },
  {
   "cell_type": "code",
   "execution_count": 21,
   "metadata": {},
   "outputs": [],
   "source": [
    "def classificarDataframeCompleto(dataframeTeste, classificador, verbose=False):\n",
    "    \n",
    "    print(\"Classificando com o \", classificador.__class__.__name__)\n",
    "    \n",
    "    # CRIANDO OS ARRAYS GERAIS\n",
    "    yRealCadaAudio = []\n",
    "    yPredCadaAudio = []\n",
    "    \n",
    "    # PEGANDO O NOME DOS ARQUIVOS QUE ESTAO NO DATAFRAME\n",
    "    arrayNomesArquivos = obterNomesArquivos(dataframeTeste)\n",
    "    totalArquivos = len(arrayNomesArquivos)\n",
    "    \n",
    "    # PARA CADA ARQUIVO NO DATAFRAME DE TESTE\n",
    "    for i, arquivo in enumerate(arrayNomesArquivos):\n",
    "        \n",
    "        if verbose == True:\n",
    "            print(\"Classificando \" + arquivo + \". Arquivo\", i+1, \"de\", totalArquivos, \"->\", str(100*((i+1)/totalArquivos))+\"%\")\n",
    "        \n",
    "        # EU CRIO UM DATAFRAME CONTENDO APENAS AS LINHAS DO AUDIO ATUAL\n",
    "        dataframeAudioAtual = obterDataframeUnicoAudio(dataframeTeste, arquivo)\n",
    "        \n",
    "        # E OBTENHO, PARA ESSE AUDIO, A CLASSIFICACAO REAL E A PREDITA\n",
    "        yRealAtual, yPredAtual = obterYRealYPredUnicoAudio(dataframeAudioAtual, classificador)\n",
    "        \n",
    "        # COLOCO O RESULTADO NOS ARRAYS GERAIS\n",
    "        yRealCadaAudio.append(yRealAtual)\n",
    "        yPredCadaAudio.append(yPredAtual)\n",
    "        \n",
    "    # CRIANDO O CLASSIFICATION REPORT. PARA FAZER ELE PARECER UM JSON, TEM QUE COLOCAR output_dict=True\n",
    "    # ASSIM ELE RETORNA UM DICT QUE DEPOIS VAI SER CONVERTIDO PRA JSON E SER SALVO EM ALGUM LUGAR\n",
    "    dictRelatorio = classification_report(yRealCadaAudio, yPredCadaAudio, digits=3, output_dict=True)\n",
    "    \n",
    "    # COLOCANDO O NOME DO CLASSIFICADOR NO DICIONARIO\n",
    "    dictRelatorio['classificador'] = classificador.__class__.__name__\n",
    "    \n",
    "    return dictRelatorio"
   ]
  },
  {
   "cell_type": "markdown",
   "metadata": {},
   "source": [
    "#### Função para salvar o classification report"
   ]
  },
  {
   "cell_type": "markdown",
   "metadata": {},
   "source": [
    "Essa função vai receber um classification report como um DICT, converte-lo para JSON e salvar num diretório. Dentro desse dicionário já vai vir escrito qual foi o classificador utilizado, pois a função **classificarDataframeCompleto** coloca essa informação antes de retornar esse dicionário do relatório de classificação."
   ]
  },
  {
   "cell_type": "code",
   "execution_count": 22,
   "metadata": {},
   "outputs": [],
   "source": [
    "def salvarRelatorioClassificacao(dictRelatorio, diretorioOndeSalvar, nomeDatasetTreino):\n",
    "    \n",
    "    nomeJSON = \"relatorio_\" + nomeDatasetTreino + \"_\" + str(time.time()) + \".json\"\n",
    "    \n",
    "    print(\"Salvando as informações num JSON:\", nomeJSON)\n",
    "    \n",
    "    with open(diretorioOndeSalvar + nomeJSON, 'w') as json_file:\n",
    "        json.dump(dictRelatorio, json_file)"
   ]
  },
  {
   "cell_type": "code",
   "execution_count": 23,
   "metadata": {},
   "outputs": [],
   "source": [
    "#diretorio         = \"/home/dimi/Programming/IC2019/ML/datasets/SESA/\"\n",
    "#nomeDatasetTreino = \"testeEscalonado53D\"\n",
    "#salvarRelatorioClassificacao(dictRelatorio, diretorio, nomeDatasetTreino)"
   ]
  },
  {
   "cell_type": "markdown",
   "metadata": {},
   "source": [
    "#### Função para classificar um dataset com todos os classificadores e gerar os relatorios"
   ]
  },
  {
   "cell_type": "markdown",
   "metadata": {},
   "source": [
    "Essa é a função principal da parte de treinamento de dataset, pois ela vai receber um dataset e o array de classificadores já treinados e, para cada classificador, ela vai garar um relátorio de classificação."
   ]
  },
  {
   "cell_type": "code",
   "execution_count": 24,
   "metadata": {},
   "outputs": [],
   "source": [
    "def classificarDataframe(dataframeTeste, arrayObjClassificadores, diretorioOndeSalvar, nomeDatasetTreino, verbose=False):\n",
    "    \n",
    "    print(\"Começando a classificar o dataset\", nomeDatasetTreino)\n",
    "    \n",
    "    # PARA CADA CLASSIFICADOR\n",
    "    for classificadorAtual in arrayObjClassificadores:\n",
    "        \n",
    "        # EU GERO O RELATORIO DE CLASSIFICACAO COMO UM DICIONARIO\n",
    "        dictRelatorioAtual = classificarDataframeCompleto(dataframeTeste, classificadorAtual, verbose)\n",
    "        \n",
    "        # E SALVO AS INFORMACOES COMO JSON\n",
    "        salvarRelatorioClassificacao(dictRelatorioAtual, diretorioOndeSalvar, nomeDatasetTreino)"
   ]
  },
  {
   "cell_type": "markdown",
   "metadata": {},
   "source": [
    "# Finalmente criando e testando a classe"
   ]
  },
  {
   "cell_type": "code",
   "execution_count": 25,
   "metadata": {},
   "outputs": [],
   "source": [
    "from sklearn.linear_model import SGDClassifier\n",
    "from sklearn.ensemble import BaggingClassifier\n",
    "from scipy.stats import mode \n",
    "from sklearn.metrics import classification_report\n",
    "import pandas as pd\n",
    "import numpy as np\n",
    "import time\n",
    "import json\n",
    "\n",
    "class TreinarEClassificar:\n",
    "\n",
    "\t#A classe deverá ser capaz de receber o caminho de um CSV com dados de TREINO, treinar os classificadores e classificar os dados de outros CSVs de TESTE.\n",
    "\t#A ideia é criar uma função para receber um único CSV de treino para treinar os classificadores, e eles deverão ficar armazenados na classe, afinal, se a cada CSV de teste eu for fazer o treino antes, o processamento vai ficar pesado. Muito melhor fazer o treinamento uma única vez e depois usar os objetos das classes dos classificadores para testar outros CSVs.\n",
    "\n",
    "\t# Toda a implementação da classe está muito bem descrita no jupyter \"Implementacao de classe para treinamento e classificacao de CSVs\"\n",
    "\n",
    "\t# Usando a classe\n",
    "\t# 1) Crie o caminho para o CSV de TREINAMENTO e abra-o como um pandas dataframe;\n",
    "\t# 2) Utilizando o dataframe de treinamento aberto, crie e treine os classificadores desejados;\n",
    "\t# 3) Crie o caminho para o CSV de TESTE, setando as váriaveis diretorio e nomeDataset;\n",
    "\t# 4) Classifique o dataset de TESTE aberto, especificando onde o JSON do relátorio deve ser salvo\n",
    "\t# Os passos 3 e 4 podem ser repetidos caso se deseje classificar vários datasets de TESTE.\n",
    "\n",
    "\tdef separarDataframeXeY(self, dataframe):\n",
    "\t\t# Função para separar o dataframe em X e Y\n",
    "\t\t# Preciso de uma função que pegue o dataframe devolva dois arrays: xTrain e yTrain. Ai depois é só usar esses arrays para treinar os classificadores.\n",
    "\n",
    "\t\t# ESSA FUNÇÃO TAMBÉM SERÁ USADA NA PARTE DO TESTE\n",
    "\n",
    "\t\t# PRIMEIRO, MONTO O X (POSSO EXCLUIR A PRIMEIRA COLUNA \"ARQUIVOS\" E A ÚLTIMA \"CLASSE\")\n",
    "\t\tx = dataframe[dataframe.columns[1:-1]]\n",
    "\t\t\n",
    "\t\t# AGORA, MONTO O Y\n",
    "\t\ty = dataframe[dataframe.columns[-1]]\n",
    "\t\t\n",
    "\t\t# CONVERTO TUDO PRA TUPLA NORMAL \n",
    "\t\tx = x.values.tolist()\n",
    "\t\ty = y.values.tolist()\n",
    "\t\t\n",
    "\t\treturn x, y\n",
    "\n",
    "\tdef instanciarClassificadores(self, arrayStringsClassesClassificadores):\n",
    "\t\t# Função para instanciar classificadores\n",
    "\t\t# Como eu não sei se vou usar mais classificadores depois, então vou criar um array de classificadores, assim na hora de treinar eu faço um for loop e vou treinando tudo o que tiver dentro.\n",
    "\n",
    "\t\t# Essa função recebe apenas o nome das classes a serem instanciadas. Por exemplo, envie [\"SGDClassifier(params)\", \"BaggingClassifier(params)\"] para receber um array de objetos dessas classes.\n",
    "\t\tarrayObjClassificadores = []\n",
    "\t\t\n",
    "\t\tfor classe in arrayStringsClassesClassificadores:\n",
    "\t\t\tprint(\"Instanciando um objeto da classe\", classe)\n",
    "\t\t\tarrayObjClassificadores.append(eval(classe))\n",
    "\t\t\t\n",
    "\t\treturn arrayObjClassificadores\n",
    "\n",
    "\tdef treinarClassificadores(self, xTrain, yTrain, arrayObjClassificadores):\n",
    "\t\t# Função para treinar os classificadores\n",
    "\t\t# Essa função vai receber xTrain, yTrain e o array de classificadores e devolver o array com os classificadores já treinados.\n",
    "\t\tfor i, objClassificador in enumerate(arrayObjClassificadores):\n",
    "\t\t\tprint(\"Treinando o\", objClassificador.__class__.__name__)\n",
    "\t\t\ttempoInicio = time.time()\n",
    "\t\t\tarrayObjClassificadores[i].fit(xTrain, yTrain)\n",
    "\t\t\ttempoFim = time.time()\n",
    "\t\t\tprint(\"Tempo de treinamento do\", objClassificador.__class__.__name__, \"(segundos):\", tempoFim-tempoInicio)\n",
    "\t\t\t\n",
    "\t\treturn arrayObjClassificadores\n",
    "\n",
    "\tdef criarETreinarClassificadores(self, dataframeTreino, arrayStringsClassesClassificadores):\n",
    "\t\t# Função para unir as três funções anteriores\n",
    "\t\t# Essa função vai unir as três funções que foram criadas. Ela vai receber o dataframe de treino e um array de strings contendo os classificadores desejados.\n",
    "\t\t# Em primeiro lugar, ela vai usar a função separarDataframeXeY para gerar xTrain e yTrain. Depois, vai usar instanciarClassificadores para gerar um array com os classificadores desejados. Por fim, vai treiná-los usando treinarClassificadores().\n",
    "\t\t# Ela retorna o array de classificadores com todos eles já treinados e prontos para serem usados para predizer dados.\n",
    "\n",
    "\t\tprint(\"Começando o treinamento dos classificadores\")\n",
    "\t\txTrain, yTrain          = self.separarDataframeXeY(dataframeTreino)\n",
    "\t\tarrayObjClassificadores = self.instanciarClassificadores(arrayStringsClassesClassificadores)\n",
    "\t\tarrayObjClassificadores = self.treinarClassificadores(xTrain, yTrain, arrayObjClassificadores)\n",
    "\t\tprint(\"Classificadores treinados\")\n",
    "\t\t\n",
    "\t\treturn arrayObjClassificadores\n",
    "\n",
    "\tdef calcularModa(self, yPredCadaJanela):\n",
    "\t\t# Função para calcular a moda das classificações de um único áudio\n",
    "\t\t# Cada janela de um único áudio será classificada. Depois, para dar um veredito para o áudio como um todo, precisamos tirar a moda das classificações.\n",
    "\t\treturn mode(yPredCadaJanela)[0][0]\n",
    "\n",
    "\tdef predizerUnicoAudio(self, xTest, classificador):\n",
    "\t\t# Função para para predizer um conjunto de dados xTest\n",
    "\t\t# Essa função receberá uma matriz contendo apenas features de um único áudio e um classificador. Ela vai classificar todas as janelas desse áudio e utilizar a função da moda para dar um veredito sobre esse único áudio.\n",
    "\t\t# A matriz já vai ter que vir arrumada para essa função. As funções que lidam com o pandas para deixar tudo bonitinho vão vir depois.\n",
    "\t\tyPredCadaJanela = classificador.predict(xTest).tolist()\n",
    "\t\treturn self.calcularModa(yPredCadaJanela)\n",
    "\n",
    "\tdef obterNomesArquivos(self, dataframe):\n",
    "\t\t# Função para criar um array apenas com os nomes dos arquivos\n",
    "\t\t# Vou precisar de um array que contenha o nome de cada arquivo de um CSV de teste, sem repetições. Isso será necessário para criar um dataframe contendo apenas linhas que digam respeito às janelas de um único áudio.\n",
    "\t\treturn dataframe[dataframe.columns[0]].unique().tolist()\n",
    "\n",
    "\tdef obterDataframeUnicoAudio(self, dataframe, arquivo):\n",
    "\t\t# Função para criar um dataframe contendo apenas as linhas referentes a um único áudio\n",
    "\t\tdataframeArquivoSelecionado = dataframe.loc[dataframe[dataframe.columns[0]] == arquivo]\n",
    "\t\treturn dataframeArquivoSelecionado\n",
    "\n",
    "\tdef obterYRealYPredUnicoAudio(self, dataframeUnicoAudio, classificador):\n",
    "\t\t# Função para predizer um único áudio e retornar as classificações real e predita\n",
    "\t\t# Pois bem, já temos a função de predizer um único áudio, mas ela precisa receber ua matriz bonitinha que só contenha features e que não seja do tipo pandas.\n",
    "\t\t# A função proposta agora deve receber o dataframe tipo pandas de um único áudio, separar o que é xTest e o que é yReal, mandar classificar xTest e devolver yReal e yPred.\n",
    "\n",
    "\t\t# PRIMEIRO EU SEPARO O QUE E X E Y\n",
    "\t\txTest, arrayYReal = self.separarDataframeXeY(dataframeUnicoAudio)\n",
    "\t\t\n",
    "\t\t# FACO YREAL SER UM VALOR UNICO JA QUE A FUNCAO ACIMA RETORNA UM ARRAY Y\n",
    "\t\tyReal = arrayYReal[0]\n",
    "\t\t\n",
    "\t\t# PREDIZENDO A CLASSE DO AUDIO EM QUESTAO (A FUNCAO ABAIXO JA RETORNA A MODA)\n",
    "\t\tyPred = self.predizerUnicoAudio(xTest, classificador)\n",
    "\t\t\n",
    "\t\treturn yReal, yPred  \n",
    "\n",
    "\tdef classificarDataframeCompleto(self, dataframeTeste, classificador, verbose=False):\n",
    "\t\t# Função para classificar um dataframe de teste inteiro\n",
    "\t\t# A função abaixo vai receber um dataframe e um classificador. Depois disso ela vai:\n",
    "\t\t# 1) Obter um array com o nome dos arquivos desse dataframe utilizando a função obterNomesArquivos;\n",
    "\t\t# 2) Para cada arquivo no dataframe, ela vai criar um novo dataframe contendo as janelas apenas desse único áudio, utilizando, para isso, a função obterDataframeUnicoAudio;\n",
    "\t\t# 3) Obter a classificação real e a predita para cada um dos arquivos utilizando a função obterYRealYPredUnicoAudio;\n",
    "\t\t# 4) Com tudo isso, ela vai montar os arrays yTest e yPred;\n",
    "\t\t# 5) Retornar o classification report do sklearn como um DICT (depois fica bem facil de transformar em JSON) com todas as informações de precisão, recall, acurácia e tal.\n",
    "\t\t# A função que vai salvar o classification report, convertendo-o para um JSON será implementada a diante. Lembrando que essa função também vai ficar responsável por colocar o nome do classificador utilizado no classification report.\n",
    "\t\t\n",
    "\t\tprint(\"Classificando com o \", classificador.__class__.__name__)\n",
    "\t\t\n",
    "\t\t# CRIANDO OS ARRAYS GERAIS\n",
    "\t\tyRealCadaAudio = []\n",
    "\t\tyPredCadaAudio = []\n",
    "\t\t\n",
    "\t\t# PEGANDO O NOME DOS ARQUIVOS QUE ESTAO NO DATAFRAME\n",
    "\t\tarrayNomesArquivos = self.obterNomesArquivos(dataframeTeste)\n",
    "\t\ttotalArquivos = len(arrayNomesArquivos)\n",
    "\t\t\n",
    "\t\t# PARA CADA ARQUIVO NO DATAFRAME DE TESTE\n",
    "\t\tfor i, arquivo in enumerate(arrayNomesArquivos):\n",
    "\t\t\t\n",
    "\t\t\tif verbose == True:\n",
    "\t\t\t\tprint(\"Classificando \" + arquivo + \". Arquivo\", i+1, \"de\", totalArquivos, \"->\", str(100*((i+1)/totalArquivos))+\"%\")\n",
    "\t\t\t\n",
    "\t\t\t# EU CRIO UM DATAFRAME CONTENDO APENAS AS LINHAS DO AUDIO ATUAL\n",
    "\t\t\tdataframeAudioAtual = self.obterDataframeUnicoAudio(dataframeTeste, arquivo)\n",
    "\t\t\t\n",
    "\t\t\t# E OBTENHO, PARA ESSE AUDIO, A CLASSIFICACAO REAL E A PREDITA\n",
    "\t\t\tyRealAtual, yPredAtual = self.obterYRealYPredUnicoAudio(dataframeAudioAtual, classificador)\n",
    "\t\t\t\n",
    "\t\t\t# COLOCO O RESULTADO NOS ARRAYS GERAIS\n",
    "\t\t\tyRealCadaAudio.append(yRealAtual)\n",
    "\t\t\tyPredCadaAudio.append(yPredAtual)\n",
    "\t\t\t\n",
    "\t\t# CRIANDO O CLASSIFICATION REPORT. PARA FAZER ELE PARECER UM JSON, TEM QUE COLOCAR output_dict=True\n",
    "\t\t# ASSIM ELE RETORNA UM DICT QUE DEPOIS VAI SER CONVERTIDO PRA JSON E SER SALVO EM ALGUM LUGAR\n",
    "\t\tdictRelatorio = classification_report(yRealCadaAudio, yPredCadaAudio, digits=3, output_dict=True)\n",
    "\t\t\n",
    "\t\t# COLOCANDO O NOME DO CLASSIFICADOR NO DICIONARIO\n",
    "\t\tdictRelatorio['classificador'] = classificador.__class__.__name__\n",
    "\t\t\n",
    "\t\treturn dictRelatorio\n",
    "\n",
    "\tdef salvarRelatorioClassificacao(self, dictRelatorio, diretorioOndeSalvar, nomeDatasetTreino):\n",
    "\t\t# Função para salvar o classification report\n",
    "\t\t# Essa função vai receber um classification report como um DICT, converte-lo para JSON e salvar num diretório. Dentro desse dicionário já vai vir escrito qual foi o classificador utilizado, pois a função classificarDataframeCompleto coloca essa informação antes de retornar esse dicionário do relatório de classificação.\n",
    "\t\tnomeJSON = \"relatorio_\" + nomeDatasetTreino + \"_\" + str(time.time()) + \".json\"\n",
    "\t\t\n",
    "\t\tprint(\"Salvando as informações num JSON:\", nomeJSON)\n",
    "\t\t\n",
    "\t\twith open(diretorioOndeSalvar + nomeJSON, 'w') as json_file:\n",
    "\t\t\tjson.dump(dictRelatorio, json_file)\n",
    "\n",
    "\tdef classificarDataframe(self, dataframeTeste, arrayObjClassificadores, diretorioOndeSalvar, nomeDatasetTreino, verbose=False):\n",
    "\t\t# Função para classificar um dataset com todos os classificadores e gerar os relatorios\n",
    "\t\t# Essa é a função principal da parte de treinamento de dataset, pois ela vai receber um dataset e o array de classificadores já treinados e, para cada classificador, ela vai garar um relátorio de classificação.\n",
    "\t\tprint(\"Começando a classificar o dataset\", nomeDatasetTreino)\n",
    "\t\t\n",
    "\t\t# PARA CADA CLASSIFICADOR\n",
    "\t\tfor classificadorAtual in arrayObjClassificadores:\n",
    "\t\t\t\n",
    "\t\t\t# EU GERO O RELATORIO DE CLASSIFICACAO COMO UM DICIONARIO\n",
    "\t\t\tdictRelatorioAtual = self.classificarDataframeCompleto(dataframeTeste, classificadorAtual, verbose)\n",
    "\t\t\t\n",
    "\t\t\t# E SALVO AS INFORMACOES COMO JSON\n",
    "\t\t\tself.salvarRelatorioClassificacao(dictRelatorioAtual, diretorioOndeSalvar, nomeDatasetTreino)\n"
   ]
  },
  {
   "cell_type": "markdown",
   "metadata": {},
   "source": [
    "## Usando a classe"
   ]
  },
  {
   "cell_type": "markdown",
   "metadata": {},
   "source": [
    "1) Crie o caminho para o CSV de TREINAMENTO e abra-o como um pandas dataframe;\n",
    "\n",
    "2) Utilizando o dataframe de treinamento aberto, crie e treine os classificadores desejados;\n",
    "\n",
    "3) Crie o caminho para o CSV de TESTE, setando as váriaveis diretorio e nomeDataset;\n",
    "\n",
    "4) Classifique o dataset de TESTE aberto, especificando onde o JSON do relátorio deve ser salvo\n",
    "\n",
    "Os passos 3 e 4 podem ser repetidos caso se deseje classificar vários datasets de TESTE.\n"
   ]
  },
  {
   "cell_type": "code",
   "execution_count": 26,
   "metadata": {},
   "outputs": [
    {
     "name": "stdout",
     "output_type": "stream",
     "text": [
      "Começando o treinamento dos classificadores\n",
      "Instanciando um objeto da classe SGDClassifier()\n",
      "Instanciando um objeto da classe BaggingClassifier()\n",
      "Treinando o SGDClassifier\n",
      "Tempo de treinamento do SGDClassifier (segundos): 0.42894816398620605\n",
      "Treinando o BaggingClassifier\n",
      "Tempo de treinamento do BaggingClassifier (segundos): 2.874732255935669\n",
      "Classificadores treinados\n",
      "Começando a classificar o dataset treinoEscalonado53D\n",
      "Classificando com o  SGDClassifier\n",
      "Salvando as informações num JSON: relatorio_treinoEscalonado53D_1580422866.2843487.json\n",
      "Classificando com o  BaggingClassifier\n",
      "Salvando as informações num JSON: relatorio_treinoEscalonado53D_1580422868.2154746.json\n"
     ]
    }
   ],
   "source": [
    "objTreinarEClassificar = TreinarEClassificar()\n",
    "\n",
    "# ABRINDO O CSV DE TREINO COM PANDAS\n",
    "caminhoCSVTreino = '/home/dimi/Programming/IC2019/ML/datasets/SESA/treinoEscalonado53D.csv'\n",
    "dataframeTreino = pd.read_csv(caminhoCSVTreino) \n",
    "\n",
    "# CRIANDO E TREINANDO OS CLASIFICADORES\n",
    "arrayStringsClassificadores = [\"SGDClassifier()\",\"BaggingClassifier()\"]\n",
    "arrayObjClassificadores = objTreinarEClassificar.criarETreinarClassificadores(dataframeTreino, arrayStringsClassificadores)\n",
    "\n",
    "# ABRINDO O CSV QUE EU DESEJO CLASSIFICAR - DATASET DE TESTE \n",
    "diretorio         = '/home/dimi/Programming/IC2019/ML/datasets/SESA/'\n",
    "nomeDatasetTreino = 'treinoEscalonado53D'\n",
    "caminhoCSVTeste   = diretorio + nomeDatasetTreino + '.csv'\n",
    "dataframeTeste    = pd.read_csv(caminhoCSVTeste)\n",
    "\n",
    "# CLASSIFICANDO O DATAFRAME DE TESTE\n",
    "objTreinarEClassificar.classificarDataframe(dataframeTeste, arrayObjClassificadores, diretorio, nomeDatasetTreino, verbose=False)"
   ]
  }
 ],
 "metadata": {
  "kernelspec": {
   "display_name": "Python 3",
   "language": "python",
   "name": "python3"
  },
  "language_info": {
   "codemirror_mode": {
    "name": "ipython",
    "version": 3
   },
   "file_extension": ".py",
   "mimetype": "text/x-python",
   "name": "python",
   "nbconvert_exporter": "python",
   "pygments_lexer": "ipython3",
   "version": "3.6.8"
  }
 },
 "nbformat": 4,
 "nbformat_minor": 2
}
